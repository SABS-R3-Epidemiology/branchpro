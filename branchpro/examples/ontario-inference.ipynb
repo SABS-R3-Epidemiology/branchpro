{
 "metadata": {
  "language_info": {
   "codemirror_mode": {
    "name": "ipython",
    "version": 3
   },
   "file_extension": ".py",
   "mimetype": "text/x-python",
   "name": "python",
   "nbconvert_exporter": "python",
   "pygments_lexer": "ipython3",
   "version": "3.8.5"
  },
  "orig_nbformat": 2,
  "kernelspec": {
   "name": "python3",
   "display_name": "Python 3.8.5 64-bit ('base': conda)",
   "metadata": {
    "interpreter": {
     "hash": "34783718b96b00301f03fbc7cc717743f1d89135027a4004f1427440c34696d4"
    }
   }
  }
 },
 "nbformat": 4,
 "nbformat_minor": 2,
 "cells": [
  {
   "source": [
    "# Inference on Australia data and observe effects of epsilon"
   ],
   "cell_type": "markdown",
   "metadata": {}
  },
  {
   "source": [
    "## Load all information and modify them to the correct format"
   ],
   "cell_type": "markdown",
   "metadata": {}
  },
  {
   "cell_type": "code",
   "execution_count": 1,
   "metadata": {},
   "outputs": [],
   "source": [
    "# Import libraries\n",
    "import numpy as np\n",
    "import math\n",
    "import branchpro\n",
    "import scipy.stats\n",
    "import matplotlib\n",
    "import plotly.graph_objects as go\n",
    "from matplotlib import pyplot as plt\n",
    "import os\n",
    "import pandas as pd\n"
   ]
  },
  {
   "cell_type": "code",
   "execution_count": 4,
   "metadata": {},
   "outputs": [],
   "source": [
    "# Read serial interval\n",
    "si_file = 'si-epinow'\n",
    "path = os.path.join('../data_library/serial_interval', '{}.csv'.format(si_file))\n",
    "serial_interval = pd.read_csv(path, header=None)\n",
    "serial_interval = serial_interval.fillna(0)\n",
    "serial_intervals = serial_interval.values.T"
   ]
  },
  {
   "cell_type": "code",
   "execution_count": 2,
   "metadata": {},
   "outputs": [],
   "source": [
    "# Read Ontario data\n",
    "path = os.path.join('../data_library/covid_ontario/ON.csv')\n",
    "data = pd.read_csv(path)[:51]"
   ]
  },
  {
   "cell_type": "code",
   "execution_count": 3,
   "metadata": {},
   "outputs": [],
   "source": [
    "time_key = 'Time'\n",
    "num_timepoints = max(data[time_key])\n",
    "data_times = data[time_key]\n",
    "\n",
    "# Pad with zeros the time points where we have no information on\n",
    "# the number of incidences\n",
    "padded_inc_data = data.set_index(time_key).reindex(\n",
    "    range(\n",
    "        1, max(data_times)+1)\n",
    "        ).fillna(0).reset_index()\n",
    "locally_infected_cases = padded_inc_data['Incidence Number']\n",
    "imported_cases = padded_inc_data['Imported Cases']\n",
    "\n",
    "start_times = np.arange(1, num_timepoints+1, dtype=int)\n",
    "times = np.arange(num_timepoints+1)"
   ]
  },
  {
   "cell_type": "code",
   "execution_count": 6,
   "metadata": {},
   "outputs": [
    {
     "output_type": "display_data",
     "data": {
      "application/vnd.plotly.v1+json": {
       "config": {
        "plotlyServerURL": "https://plot.ly"
       },
       "data": [
        {
         "name": "Local Incidences",
         "type": "bar",
         "x": [
          0,
          1,
          2,
          3,
          4,
          5,
          6,
          7,
          8,
          9,
          10,
          11,
          12,
          13,
          14,
          15,
          16,
          17,
          18,
          19,
          20,
          21,
          22,
          23,
          24,
          25,
          26,
          27,
          28,
          29,
          30,
          31,
          32,
          33,
          34,
          35,
          36,
          37,
          38,
          39,
          40,
          41,
          42,
          43,
          44,
          45,
          46,
          47,
          48,
          49,
          50,
          51
         ],
         "y": [
          0,
          0,
          0,
          0,
          0,
          1,
          0,
          1,
          1,
          3,
          7,
          11,
          10,
          7,
          5,
          19,
          17,
          28,
          37,
          52,
          44,
          58,
          95,
          111,
          92,
          173,
          201,
          157,
          176,
          323,
          311,
          367,
          378,
          404,
          317,
          343,
          440,
          433,
          464,
          449,
          378,
          456,
          518,
          579,
          546,
          605,
          566,
          728,
          594,
          582,
          605
         ]
        },
        {
         "name": "Imported Incidences",
         "type": "bar",
         "x": [
          0,
          1,
          2,
          3,
          4,
          5,
          6,
          7,
          8,
          9,
          10,
          11,
          12,
          13,
          14,
          15,
          16,
          17,
          18,
          19,
          20,
          21,
          22,
          23,
          24,
          25,
          26,
          27,
          28,
          29,
          30,
          31,
          32,
          33,
          34,
          35,
          36,
          37,
          38,
          39,
          40,
          41,
          42,
          43,
          44,
          45,
          46,
          47,
          48,
          49,
          50,
          51
         ],
         "y": [
          2,
          0,
          2,
          1,
          4,
          1,
          3,
          4,
          4,
          6,
          17,
          26,
          26,
          24,
          31,
          34,
          41,
          29,
          28,
          45,
          27,
          27,
          48,
          61,
          44,
          74,
          90,
          78,
          51,
          113,
          99,
          81,
          70,
          59,
          31,
          28,
          33,
          24,
          24,
          30,
          18,
          14,
          20,
          13,
          6,
          8,
          6,
          11,
          6,
          8,
          4
         ]
        }
       ],
       "layout": {
        "template": {
         "data": {
          "bar": [
           {
            "error_x": {
             "color": "#2a3f5f"
            },
            "error_y": {
             "color": "#2a3f5f"
            },
            "marker": {
             "line": {
              "color": "#E5ECF6",
              "width": 0.5
             }
            },
            "type": "bar"
           }
          ],
          "barpolar": [
           {
            "marker": {
             "line": {
              "color": "#E5ECF6",
              "width": 0.5
             }
            },
            "type": "barpolar"
           }
          ],
          "carpet": [
           {
            "aaxis": {
             "endlinecolor": "#2a3f5f",
             "gridcolor": "white",
             "linecolor": "white",
             "minorgridcolor": "white",
             "startlinecolor": "#2a3f5f"
            },
            "baxis": {
             "endlinecolor": "#2a3f5f",
             "gridcolor": "white",
             "linecolor": "white",
             "minorgridcolor": "white",
             "startlinecolor": "#2a3f5f"
            },
            "type": "carpet"
           }
          ],
          "choropleth": [
           {
            "colorbar": {
             "outlinewidth": 0,
             "ticks": ""
            },
            "type": "choropleth"
           }
          ],
          "contour": [
           {
            "colorbar": {
             "outlinewidth": 0,
             "ticks": ""
            },
            "colorscale": [
             [
              0,
              "#0d0887"
             ],
             [
              0.1111111111111111,
              "#46039f"
             ],
             [
              0.2222222222222222,
              "#7201a8"
             ],
             [
              0.3333333333333333,
              "#9c179e"
             ],
             [
              0.4444444444444444,
              "#bd3786"
             ],
             [
              0.5555555555555556,
              "#d8576b"
             ],
             [
              0.6666666666666666,
              "#ed7953"
             ],
             [
              0.7777777777777778,
              "#fb9f3a"
             ],
             [
              0.8888888888888888,
              "#fdca26"
             ],
             [
              1,
              "#f0f921"
             ]
            ],
            "type": "contour"
           }
          ],
          "contourcarpet": [
           {
            "colorbar": {
             "outlinewidth": 0,
             "ticks": ""
            },
            "type": "contourcarpet"
           }
          ],
          "heatmap": [
           {
            "colorbar": {
             "outlinewidth": 0,
             "ticks": ""
            },
            "colorscale": [
             [
              0,
              "#0d0887"
             ],
             [
              0.1111111111111111,
              "#46039f"
             ],
             [
              0.2222222222222222,
              "#7201a8"
             ],
             [
              0.3333333333333333,
              "#9c179e"
             ],
             [
              0.4444444444444444,
              "#bd3786"
             ],
             [
              0.5555555555555556,
              "#d8576b"
             ],
             [
              0.6666666666666666,
              "#ed7953"
             ],
             [
              0.7777777777777778,
              "#fb9f3a"
             ],
             [
              0.8888888888888888,
              "#fdca26"
             ],
             [
              1,
              "#f0f921"
             ]
            ],
            "type": "heatmap"
           }
          ],
          "heatmapgl": [
           {
            "colorbar": {
             "outlinewidth": 0,
             "ticks": ""
            },
            "colorscale": [
             [
              0,
              "#0d0887"
             ],
             [
              0.1111111111111111,
              "#46039f"
             ],
             [
              0.2222222222222222,
              "#7201a8"
             ],
             [
              0.3333333333333333,
              "#9c179e"
             ],
             [
              0.4444444444444444,
              "#bd3786"
             ],
             [
              0.5555555555555556,
              "#d8576b"
             ],
             [
              0.6666666666666666,
              "#ed7953"
             ],
             [
              0.7777777777777778,
              "#fb9f3a"
             ],
             [
              0.8888888888888888,
              "#fdca26"
             ],
             [
              1,
              "#f0f921"
             ]
            ],
            "type": "heatmapgl"
           }
          ],
          "histogram": [
           {
            "marker": {
             "colorbar": {
              "outlinewidth": 0,
              "ticks": ""
             }
            },
            "type": "histogram"
           }
          ],
          "histogram2d": [
           {
            "colorbar": {
             "outlinewidth": 0,
             "ticks": ""
            },
            "colorscale": [
             [
              0,
              "#0d0887"
             ],
             [
              0.1111111111111111,
              "#46039f"
             ],
             [
              0.2222222222222222,
              "#7201a8"
             ],
             [
              0.3333333333333333,
              "#9c179e"
             ],
             [
              0.4444444444444444,
              "#bd3786"
             ],
             [
              0.5555555555555556,
              "#d8576b"
             ],
             [
              0.6666666666666666,
              "#ed7953"
             ],
             [
              0.7777777777777778,
              "#fb9f3a"
             ],
             [
              0.8888888888888888,
              "#fdca26"
             ],
             [
              1,
              "#f0f921"
             ]
            ],
            "type": "histogram2d"
           }
          ],
          "histogram2dcontour": [
           {
            "colorbar": {
             "outlinewidth": 0,
             "ticks": ""
            },
            "colorscale": [
             [
              0,
              "#0d0887"
             ],
             [
              0.1111111111111111,
              "#46039f"
             ],
             [
              0.2222222222222222,
              "#7201a8"
             ],
             [
              0.3333333333333333,
              "#9c179e"
             ],
             [
              0.4444444444444444,
              "#bd3786"
             ],
             [
              0.5555555555555556,
              "#d8576b"
             ],
             [
              0.6666666666666666,
              "#ed7953"
             ],
             [
              0.7777777777777778,
              "#fb9f3a"
             ],
             [
              0.8888888888888888,
              "#fdca26"
             ],
             [
              1,
              "#f0f921"
             ]
            ],
            "type": "histogram2dcontour"
           }
          ],
          "mesh3d": [
           {
            "colorbar": {
             "outlinewidth": 0,
             "ticks": ""
            },
            "type": "mesh3d"
           }
          ],
          "parcoords": [
           {
            "line": {
             "colorbar": {
              "outlinewidth": 0,
              "ticks": ""
             }
            },
            "type": "parcoords"
           }
          ],
          "pie": [
           {
            "automargin": true,
            "type": "pie"
           }
          ],
          "scatter": [
           {
            "marker": {
             "colorbar": {
              "outlinewidth": 0,
              "ticks": ""
             }
            },
            "type": "scatter"
           }
          ],
          "scatter3d": [
           {
            "line": {
             "colorbar": {
              "outlinewidth": 0,
              "ticks": ""
             }
            },
            "marker": {
             "colorbar": {
              "outlinewidth": 0,
              "ticks": ""
             }
            },
            "type": "scatter3d"
           }
          ],
          "scattercarpet": [
           {
            "marker": {
             "colorbar": {
              "outlinewidth": 0,
              "ticks": ""
             }
            },
            "type": "scattercarpet"
           }
          ],
          "scattergeo": [
           {
            "marker": {
             "colorbar": {
              "outlinewidth": 0,
              "ticks": ""
             }
            },
            "type": "scattergeo"
           }
          ],
          "scattergl": [
           {
            "marker": {
             "colorbar": {
              "outlinewidth": 0,
              "ticks": ""
             }
            },
            "type": "scattergl"
           }
          ],
          "scattermapbox": [
           {
            "marker": {
             "colorbar": {
              "outlinewidth": 0,
              "ticks": ""
             }
            },
            "type": "scattermapbox"
           }
          ],
          "scatterpolar": [
           {
            "marker": {
             "colorbar": {
              "outlinewidth": 0,
              "ticks": ""
             }
            },
            "type": "scatterpolar"
           }
          ],
          "scatterpolargl": [
           {
            "marker": {
             "colorbar": {
              "outlinewidth": 0,
              "ticks": ""
             }
            },
            "type": "scatterpolargl"
           }
          ],
          "scatterternary": [
           {
            "marker": {
             "colorbar": {
              "outlinewidth": 0,
              "ticks": ""
             }
            },
            "type": "scatterternary"
           }
          ],
          "surface": [
           {
            "colorbar": {
             "outlinewidth": 0,
             "ticks": ""
            },
            "colorscale": [
             [
              0,
              "#0d0887"
             ],
             [
              0.1111111111111111,
              "#46039f"
             ],
             [
              0.2222222222222222,
              "#7201a8"
             ],
             [
              0.3333333333333333,
              "#9c179e"
             ],
             [
              0.4444444444444444,
              "#bd3786"
             ],
             [
              0.5555555555555556,
              "#d8576b"
             ],
             [
              0.6666666666666666,
              "#ed7953"
             ],
             [
              0.7777777777777778,
              "#fb9f3a"
             ],
             [
              0.8888888888888888,
              "#fdca26"
             ],
             [
              1,
              "#f0f921"
             ]
            ],
            "type": "surface"
           }
          ],
          "table": [
           {
            "cells": {
             "fill": {
              "color": "#EBF0F8"
             },
             "line": {
              "color": "white"
             }
            },
            "header": {
             "fill": {
              "color": "#C8D4E3"
             },
             "line": {
              "color": "white"
             }
            },
            "type": "table"
           }
          ]
         },
         "layout": {
          "annotationdefaults": {
           "arrowcolor": "#2a3f5f",
           "arrowhead": 0,
           "arrowwidth": 1
          },
          "autotypenumbers": "strict",
          "coloraxis": {
           "colorbar": {
            "outlinewidth": 0,
            "ticks": ""
           }
          },
          "colorscale": {
           "diverging": [
            [
             0,
             "#8e0152"
            ],
            [
             0.1,
             "#c51b7d"
            ],
            [
             0.2,
             "#de77ae"
            ],
            [
             0.3,
             "#f1b6da"
            ],
            [
             0.4,
             "#fde0ef"
            ],
            [
             0.5,
             "#f7f7f7"
            ],
            [
             0.6,
             "#e6f5d0"
            ],
            [
             0.7,
             "#b8e186"
            ],
            [
             0.8,
             "#7fbc41"
            ],
            [
             0.9,
             "#4d9221"
            ],
            [
             1,
             "#276419"
            ]
           ],
           "sequential": [
            [
             0,
             "#0d0887"
            ],
            [
             0.1111111111111111,
             "#46039f"
            ],
            [
             0.2222222222222222,
             "#7201a8"
            ],
            [
             0.3333333333333333,
             "#9c179e"
            ],
            [
             0.4444444444444444,
             "#bd3786"
            ],
            [
             0.5555555555555556,
             "#d8576b"
            ],
            [
             0.6666666666666666,
             "#ed7953"
            ],
            [
             0.7777777777777778,
             "#fb9f3a"
            ],
            [
             0.8888888888888888,
             "#fdca26"
            ],
            [
             1,
             "#f0f921"
            ]
           ],
           "sequentialminus": [
            [
             0,
             "#0d0887"
            ],
            [
             0.1111111111111111,
             "#46039f"
            ],
            [
             0.2222222222222222,
             "#7201a8"
            ],
            [
             0.3333333333333333,
             "#9c179e"
            ],
            [
             0.4444444444444444,
             "#bd3786"
            ],
            [
             0.5555555555555556,
             "#d8576b"
            ],
            [
             0.6666666666666666,
             "#ed7953"
            ],
            [
             0.7777777777777778,
             "#fb9f3a"
            ],
            [
             0.8888888888888888,
             "#fdca26"
            ],
            [
             1,
             "#f0f921"
            ]
           ]
          },
          "colorway": [
           "#636efa",
           "#EF553B",
           "#00cc96",
           "#ab63fa",
           "#FFA15A",
           "#19d3f3",
           "#FF6692",
           "#B6E880",
           "#FF97FF",
           "#FECB52"
          ],
          "font": {
           "color": "#2a3f5f"
          },
          "geo": {
           "bgcolor": "white",
           "lakecolor": "white",
           "landcolor": "#E5ECF6",
           "showlakes": true,
           "showland": true,
           "subunitcolor": "white"
          },
          "hoverlabel": {
           "align": "left"
          },
          "hovermode": "closest",
          "mapbox": {
           "style": "light"
          },
          "paper_bgcolor": "white",
          "plot_bgcolor": "#E5ECF6",
          "polar": {
           "angularaxis": {
            "gridcolor": "white",
            "linecolor": "white",
            "ticks": ""
           },
           "bgcolor": "#E5ECF6",
           "radialaxis": {
            "gridcolor": "white",
            "linecolor": "white",
            "ticks": ""
           }
          },
          "scene": {
           "xaxis": {
            "backgroundcolor": "#E5ECF6",
            "gridcolor": "white",
            "gridwidth": 2,
            "linecolor": "white",
            "showbackground": true,
            "ticks": "",
            "zerolinecolor": "white"
           },
           "yaxis": {
            "backgroundcolor": "#E5ECF6",
            "gridcolor": "white",
            "gridwidth": 2,
            "linecolor": "white",
            "showbackground": true,
            "ticks": "",
            "zerolinecolor": "white"
           },
           "zaxis": {
            "backgroundcolor": "#E5ECF6",
            "gridcolor": "white",
            "gridwidth": 2,
            "linecolor": "white",
            "showbackground": true,
            "ticks": "",
            "zerolinecolor": "white"
           }
          },
          "shapedefaults": {
           "line": {
            "color": "#2a3f5f"
           }
          },
          "ternary": {
           "aaxis": {
            "gridcolor": "white",
            "linecolor": "white",
            "ticks": ""
           },
           "baxis": {
            "gridcolor": "white",
            "linecolor": "white",
            "ticks": ""
           },
           "bgcolor": "#E5ECF6",
           "caxis": {
            "gridcolor": "white",
            "linecolor": "white",
            "ticks": ""
           }
          },
          "title": {
           "x": 0.05
          },
          "xaxis": {
           "automargin": true,
           "gridcolor": "white",
           "linecolor": "white",
           "ticks": "",
           "title": {
            "standoff": 15
           },
           "zerolinecolor": "white",
           "zerolinewidth": 2
          },
          "yaxis": {
           "automargin": true,
           "gridcolor": "white",
           "linecolor": "white",
           "ticks": "",
           "title": {
            "standoff": 15
           },
           "zerolinecolor": "white",
           "zerolinewidth": 2
          }
         }
        },
        "xaxis": {
         "title": {
          "text": "Time (days)"
         }
        },
        "yaxis": {
         "title": {
          "text": "New cases"
         }
        }
       }
      }
     },
     "metadata": {}
    }
   ],
   "source": [
    "# Plot (bar chart cases each day)\n",
    "fig = go.Figure()\n",
    "\n",
    "# Plot of incidences\n",
    "fig.add_trace(\n",
    "    go.Bar(\n",
    "        x=times,\n",
    "        y=locally_infected_cases,\n",
    "        name='Local Incidences'\n",
    "    )\n",
    ")\n",
    "\n",
    "fig.add_trace(\n",
    "    go.Bar(\n",
    "        x=times,\n",
    "        y=imported_cases,\n",
    "        name='Imported Incidences'\n",
    "    )\n",
    ")\n",
    "\n",
    "# Add axis labels\n",
    "fig.update_layout(\n",
    "    xaxis_title='Time (days)',\n",
    "    yaxis_title='New cases'\n",
    ")\n",
    "\n",
    "fig.show()"
   ]
  },
  {
   "source": [
    "## Comparison of inference results for different epsilon values"
   ],
   "cell_type": "markdown",
   "metadata": {}
  },
  {
   "cell_type": "code",
   "execution_count": 39,
   "metadata": {},
   "outputs": [],
   "source": [
    "# Same inference, but using the LocImpBranchProPosterior\n",
    "tau = 2\n",
    "R_t_start = tau+1\n",
    "a = 1\n",
    "b = 0.8\n",
    "\n",
    "# Run inferences for different values of epsilon\n",
    "column_names = ['Time Points', 'Mean', 'Lower bound CI', 'Upper bound CI', 'Central Probability', 'Epsilon']\n",
    "epsilon_range = np.arange(-1, 1.1, 0.2)\n",
    "chosen_times = [5, 10, 15, 20, 25, 30, 40]\n",
    "\n",
    "all_intervals = pd.DataFrame(columns=column_names)\n",
    "# Transform our incidence data into pandas dataframes\n",
    "inc_data = pd.DataFrame(\n",
    "    {\n",
    "        'Time': start_times,\n",
    "        'Incidence Number': locally_infected_cases\n",
    "    }\n",
    ")\n",
    "\n",
    "imported_inc_data = pd.DataFrame(\n",
    "    {\n",
    "        'Time': start_times,\n",
    "        'Incidence Number': imported_cases\n",
    "    }\n",
    ")\n",
    "\n",
    "for epsilon in epsilon_range:\n",
    "    inference = branchpro.LocImpBranchProPosteriorMultSI(\n",
    "        inc_data=inc_data,\n",
    "        imported_inc_data=imported_inc_data,\n",
    "        epsilon=epsilon,\n",
    "        daily_serial_intervals=serial_intervals,\n",
    "        alpha=a,\n",
    "        beta=1/b)\n",
    "\n",
    "    inference.run_inference(tau=tau)\n",
    "    intervals = inference.get_intervals(central_prob=0)\n",
    "    intervals = intervals.append(inference.get_intervals(central_prob=.25))\n",
    "    intervals = intervals.append(inference.get_intervals(central_prob=.95))\n",
    "    temp = inference.get_intervals(central_prob=.95)\n",
    "\n",
    "    intervals['Epsilon'] = [epsilon] * len(intervals.index)\n",
    "\n",
    "    intervals_chosen = pd.DataFrame(columns=intervals.columns)\n",
    "    for time_pt in chosen_times:\n",
    "        intervals_chosen = intervals_chosen.append(\n",
    "            intervals.loc[intervals['Time Points']== time_pt])\n",
    "\n",
    "    all_intervals = all_intervals.append(intervals_chosen)"
   ]
  },
  {
   "cell_type": "code",
   "execution_count": 40,
   "metadata": {},
   "outputs": [
    {
     "output_type": "display_data",
     "data": {
      "application/vnd.plotly.v1+json": {
       "config": {
        "plotlyServerURL": "https://plot.ly"
       },
       "data": [
        {
         "lowerfence": [
          0.020073777344077837,
          0.01614052369259298,
          0.013473185244947677,
          0.011590670398436486,
          0.009999684453941888,
          0.00903065309394151,
          0.008162806741893293,
          0.007376502279657871,
          0.006701848073862493,
          0.00621469204779715,
          0.005745640711393207
         ],
         "mean": [
          0.8002915978431702,
          0.6401867270469666,
          0.5347689986228943,
          0.45996201038360596,
          0.4014485478401184,
          0.35752975940704346,
          0.3228158950805664,
          0.29385998845100403,
          0.2696745693683624,
          0.24878190457820892,
          0.23158366978168488
         ],
         "median": [
          0.5555427968502045,
          0.443716824054718,
          0.3694658726453781,
          0.3186938464641571,
          0.2770242244005203,
          0.24580107629299164,
          0.22260165959596634,
          0.20215798914432526,
          0.18545537441968918,
          0.17097746580839157,
          0.15886931121349335
         ],
         "name": "Day5",
         "q1": [
          0.3766489140689373,
          0.3009754680097103,
          0.25072628259658813,
          0.21588545106351376,
          0.18761612474918365,
          0.16662479750812054,
          0.15088067390024662,
          0.13700108788907528,
          0.12544589675962925,
          0.1156771145761013,
          0.10754791554063559
         ],
         "q3": [
          0.7855184078216553,
          0.6272500455379486,
          0.522883266210556,
          0.45091745257377625,
          0.3926098607480526,
          0.3489527255296707,
          0.3153626546263695,
          0.2865220233798027,
          0.26304055377840996,
          0.24245150573551655,
          0.22553713992238045
         ],
         "type": "box",
         "upperfence": [
          2.953069996833804,
          2.3660031378269193,
          1.9792027890682222,
          1.6985858500003814,
          1.4875282853841787,
          1.329095622897149,
          1.200550416111946,
          1.0950140535831454,
          1.0048507660627375,
          0.9288493767380716,
          0.8655099779367454
         ],
         "x": [
          "-1.0",
          "-0.8",
          "-0.6",
          "-0.4",
          "-0.2",
          "-0.0",
          "0.2",
          "0.4",
          "0.6",
          "0.8",
          "1.0"
         ]
        },
        {
         "lowerfence": [
          1.0653637856245042,
          0.6689973652362824,
          0.4867262177169323,
          0.3838563941419126,
          0.3166519291698933,
          0.26916971206665047,
          0.2342738669365645,
          0.20758249685168267,
          0.18557430580258372,
          0.1681904807686806,
          0.15398322716355325
         ],
         "mean": [
          2.9334347248077393,
          1.8450865745544434,
          1.3453445434570312,
          1.0592726469039917,
          0.8734210729598999,
          0.742703378200531,
          0.6467626690864563,
          0.5720986723899841,
          0.5129975080490112,
          0.4647997319698334,
          0.4254145920276642
         ],
         "median": [
          2.764517068862915,
          1.7378288507461548,
          1.2673273086547852,
          0.9970550239086151,
          0.8222101628780365,
          0.6987593472003937,
          0.6089335083961487,
          0.5382018983364105,
          0.4826706349849701,
          0.43732215464115143,
          0.40033720433712006
         ],
         "name": "Day10",
         "q1": [
          2.408069998025894,
          1.513604611158371,
          1.104081854224205,
          0.8684323877096176,
          0.715995267033577,
          0.6084904000163078,
          0.530231274664402,
          0.46887510642409325,
          0.42043618857860565,
          0.3808932788670063,
          0.34856946021318436
         ],
         "q3": [
          3.154293954372406,
          1.9843589961528778,
          1.446579396724701,
          1.138546571135521,
          0.9383973404765129,
          0.7979714497923851,
          0.6951512917876244,
          0.6145345717668533,
          0.5510657951235771,
          0.49927543103694916,
          0.4573184549808502
         ],
         "type": "box",
         "upperfence": [
          5.7629615783691435,
          3.6319380104541787,
          2.646781098842621,
          2.0874331533908843,
          1.7210104942321778,
          1.4648718535900116,
          1.2769503057003024,
          1.1278824537992478,
          1.0137612849473954,
          0.9171678379178048,
          0.8401062026619911
         ],
         "x": [
          "-1.0",
          "-0.8",
          "-0.6",
          "-0.4",
          "-0.2",
          "-0.0",
          "0.2",
          "0.4",
          "0.6",
          "0.8",
          "1.0"
         ]
        },
        {
         "lowerfence": [
          0.9550912827253345,
          0.6508229896426203,
          0.49356388971209525,
          0.3970953539013863,
          0.33245063796639457,
          0.2857876636087895,
          0.2507014609873295,
          0.22327334620058553,
          0.20134426802396777,
          0.18302988298237324,
          0.16810932420194158
         ],
         "mean": [
          1.621737003326416,
          1.106007695198059,
          0.8392063975334167,
          0.6763103008270264,
          0.5661996603012085,
          0.487120658159256,
          0.42713525891304016,
          0.38028985261917114,
          0.3429238200187683,
          0.3121976852416992,
          0.28654545545578003
         ],
         "median": [
          1.575528860092163,
          1.0745482444763184,
          0.8153404593467712,
          0.6571422219276428,
          0.5501853823661804,
          0.47334906458854675,
          0.4149291515350342,
          0.3695944994688034,
          0.33323004841804504,
          0.3034655749797821,
          0.2785354256629944
         ],
         "name": "Day15",
         "q1": [
          1.4554640501737595,
          0.9926975145936012,
          0.7529496923089027,
          0.6068221554160118,
          0.5080080404877663,
          0.43708206713199615,
          0.3830091953277588,
          0.3411496579647064,
          0.3077441304922104,
          0.2801600694656372,
          0.2570113241672516
         ],
         "q3": [
          1.7051158845424652,
          1.163190335035324,
          0.8825800716876984,
          0.7113852500915527,
          0.5953403264284134,
          0.5122737437486649,
          0.44933662191033363,
          0.4001263156533241,
          0.3608063794672489,
          0.32847241684794426,
          0.30158068984746933
         ],
         "type": "box",
         "upperfence": [
          2.5516560733318334,
          1.740924832224846,
          1.3207351446151738,
          1.0645943641662599,
          0.8916641265153885,
          0.7663418650627137,
          0.6724210619926454,
          0.5985415935516358,
          0.539713403582573,
          0.49176107943058023,
          0.45135614350438125
         ],
         "x": [
          "-1.0",
          "-0.8",
          "-0.6",
          "-0.4",
          "-0.2",
          "-0.0",
          "0.2",
          "0.4",
          "0.6",
          "0.8",
          "1.0"
         ]
        },
        {
         "lowerfence": [
          2.4111717045307164,
          1.7027140855789185,
          1.3136514246463775,
          1.0694465011358263,
          0.9002597212791442,
          0.7774950742721558,
          0.6841057926416397,
          0.6108543500304222,
          0.5515251651406289,
          0.502973997592926,
          0.4622554711997509
         ],
         "mean": [
          3.160006284713745,
          2.1814827919006348,
          1.6658910512924194,
          1.3479704856872559,
          1.131689190864563,
          0.9753361344337463,
          0.856914222240448,
          0.7641969919204712,
          0.6894693374633789,
          0.6283392906188965,
          0.5769833326339722
         ],
         "median": [
          3.131448268890381,
          2.1635682582855225,
          1.6527219414710999,
          1.337374985218048,
          1.1232534646987915,
          0.9680652618408203,
          0.8505978286266327,
          0.7585958540439606,
          0.6844896972179413,
          0.6237787008285522,
          0.5727890431880951
         ],
         "name": "Day20",
         "q1": [
          2.999971091747284,
          2.0806599259376526,
          1.591893032193184,
          1.289388284087181,
          1.0833617001771927,
          0.9340417385101318,
          0.8208935633301735,
          0.7321927323937416,
          0.6607726365327835,
          0.6022705510258675,
          0.5530612245202065
         ],
         "q3": [
          3.2680862843990326,
          2.249611407518387,
          1.7160872668027878,
          1.387475624680519,
          1.1645956635475159,
          1.0035845041275024,
          0.8815935105085373,
          0.7861314490437508,
          0.7091185301542282,
          0.6462280452251434,
          0.5933297947049141
         ],
         "type": "box",
         "upperfence": [
          4.0724626064300535,
          2.7643311500549315,
          2.094273144006729,
          1.687628069519997,
          1.4118988305330278,
          1.2149520337581634,
          1.0662399768829345,
          0.9499290406703949,
          0.8564335569739342,
          0.7801014006137849,
          0.7160778149962426
         ],
         "x": [
          "-1.0",
          "-0.8",
          "-0.6",
          "-0.4",
          "-0.2",
          "-0.0",
          "0.2",
          "0.4",
          "0.6",
          "0.8",
          "1.0"
         ]
        },
        {
         "lowerfence": [
          1.8781864464282991,
          1.6514636904001236,
          1.472928622364998,
          1.3281653672456741,
          1.2092842757701874,
          1.1105273425579072,
          1.025903096795082,
          0.953278884291649,
          0.8901935130357742,
          0.834868486225605,
          0.7858326867222786
         ],
         "mean": [
          2.3042144775390625,
          1.9978106021881104,
          1.7633017301559448,
          1.5783227682113647,
          1.42843759059906,
          1.3048136234283447,
          1.20077383518219,
          1.1121431589126587,
          1.0357398986816406,
          0.9689967632293701,
          0.9105075001716614
         ],
         "median": [
          2.2836031913757324,
          1.9827061891555786,
          1.7520387768745422,
          1.569300353527069,
          1.4211832880973816,
          1.2988707423210144,
          1.1957156658172607,
          1.1077840924263,
          1.0318784713745117,
          0.965606153011322,
          0.9074991643428802
         ],
         "name": "Day25",
         "q1": [
          2.2101472914218903,
          1.923533633351326,
          1.7025827169418335,
          1.5269503146409988,
          1.3840533345937729,
          1.2659409791231155,
          1.1661165058612823,
          1.081217274069786,
          1.0073681473731995,
          0.9429789558053017,
          0.8865431323647499
         ],
         "q3": [
          2.361142247915268,
          2.045305609703064,
          1.8039874285459518,
          1.6138651818037033,
          1.459741085767746,
          1.33301942050457,
          1.2263798862695694,
          1.1354562044143677,
          1.0571765750646591,
          0.9888347238302231,
          0.929018534719944
         ],
         "type": "box",
         "upperfence": [
          2.8443678557872776,
          2.4270239412784576,
          2.1162087321281433,
          1.878599599003792,
          1.6878157317638398,
          1.5329977482557298,
          1.4043548822402954,
          1.2960398495197296,
          1.2034003764390946,
          1.1225753217935561,
          1.052667635679245
         ],
         "x": [
          "-1.0",
          "-0.8",
          "-0.6",
          "-0.4",
          "-0.2",
          "-0.0",
          "0.2",
          "0.4",
          "0.6",
          "0.8",
          "1.0"
         ]
        },
        {
         "lowerfence": [
          1.556913962960243,
          1.423544806241989,
          1.3114937156438828,
          1.216133952140808,
          1.133360382914543,
          1.0611963063478471,
          0.9977717578411103,
          0.9412433832883834,
          0.8908835604786873,
          0.8457351878285408,
          0.8048919945955276
         ],
         "mean": [
          1.8172829151153564,
          1.6575852632522583,
          1.5235214233398438,
          1.4096922874450684,
          1.311602234840393,
          1.226249098777771,
          1.1512973308563232,
          1.0850205421447754,
          1.0259844064712524,
          0.9729794263839722,
          0.9252915382385254
         ],
         "median": [
          1.8011506795883179,
          1.6435808539390564,
          1.5111379027366638,
          1.3986452221870422,
          1.3017761707305908,
          1.2173179984092712,
          1.143073856830597,
          1.0774890184402466,
          1.018858253955841,
          0.966480940580368,
          0.919124573469162
         ],
         "name": "Day30",
         "q1": [
          1.755762204527855,
          1.6030764132738113,
          1.474478840827942,
          1.3650368452072144,
          1.2707495391368866,
          1.1886372119188309,
          1.1163945943117142,
          1.05257748067379,
          0.995526134967804,
          0.944427527487278,
          0.8982696533203125
         ],
         "q3": [
          1.8500192165374756,
          1.687333270907402,
          1.5506317615509033,
          1.434853121638298,
          1.3348923176527023,
          1.247886762022972,
          1.171634927392006,
          1.1040952950716019,
          1.0438672304153442,
          0.9899358972907066,
          0.9413618892431259
         ],
         "type": "box",
         "upperfence": [
          2.1662712872028353,
          1.9672606438398361,
          1.8025313943624497,
          1.6636370807886125,
          1.5439295113086702,
          1.4406867533922196,
          1.3500417828559876,
          1.2700046569108965,
          1.1993885219097138,
          1.1362548619508743,
          1.0796342730522157
         ],
         "x": [
          "-1.0",
          "-0.8",
          "-0.6",
          "-0.4",
          "-0.2",
          "-0.0",
          "0.2",
          "0.4",
          "0.6",
          "0.8",
          "1.0"
         ]
        },
        {
         "lowerfence": [
          1.1663826674222946,
          1.1390370100736618,
          1.1128657847642898,
          1.0877832174301147,
          1.0634842932224273,
          1.0402277052402498,
          1.017566552758217,
          0.9959254339337349,
          0.9747719094157219,
          0.9545308336615562,
          0.9348266050219536
         ],
         "mean": [
          1.2538944482803345,
          1.2218419313430786,
          1.190105676651001,
          1.160114049911499,
          1.1327683925628662,
          1.1066197156906128,
          1.0809123516082764,
          1.056528091430664,
          1.0332601070404053,
          1.0110878944396973,
          0.9900338053703308
         ],
         "median": [
          1.2502808570861816,
          1.2180687189102173,
          1.1875542402267456,
          1.1584163308143616,
          1.1307830810546875,
          1.1044346690177917,
          1.0791983604431152,
          1.0551308989524841,
          1.0321036577224731,
          1.0100600719451904,
          0.9889699816703796
         ],
         "name": "Day40",
         "q1": [
          1.2356209307909012,
          1.204412654042244,
          1.1746856719255447,
          1.1462756395339966,
          1.1192963868379593,
          1.0934799909591675,
          1.068698599934578,
          1.0450694561004639,
          1.0224384814500809,
          1.0007182657718658,
          0.9798529148101807
         ],
         "q3": [
          1.2655584067106247,
          1.23236446082592,
          1.2008871287107468,
          1.1709437817335129,
          1.1426134556531906,
          1.1156561374664307,
          1.0899298191070557,
          1.0654221773147583,
          1.041961908340454,
          1.0195884704589844,
          0.9981307983398438
         ],
         "type": "box",
         "upperfence": [
          1.3624435067176819,
          1.321848037838936,
          1.283831849694252,
          1.2481185317039492,
          1.214822193980217,
          1.1833157747983933,
          1.153503179550171,
          1.12555188536644,
          1.099112868309021,
          1.0740791618824004,
          1.050342708826065
         ],
         "x": [
          "-1.0",
          "-0.8",
          "-0.6",
          "-0.4",
          "-0.2",
          "-0.0",
          "0.2",
          "0.4",
          "0.6",
          "0.8",
          "1.0"
         ]
        }
       ],
       "layout": {
        "boxmode": "group",
        "template": {
         "data": {
          "bar": [
           {
            "error_x": {
             "color": "#2a3f5f"
            },
            "error_y": {
             "color": "#2a3f5f"
            },
            "marker": {
             "line": {
              "color": "#E5ECF6",
              "width": 0.5
             }
            },
            "type": "bar"
           }
          ],
          "barpolar": [
           {
            "marker": {
             "line": {
              "color": "#E5ECF6",
              "width": 0.5
             }
            },
            "type": "barpolar"
           }
          ],
          "carpet": [
           {
            "aaxis": {
             "endlinecolor": "#2a3f5f",
             "gridcolor": "white",
             "linecolor": "white",
             "minorgridcolor": "white",
             "startlinecolor": "#2a3f5f"
            },
            "baxis": {
             "endlinecolor": "#2a3f5f",
             "gridcolor": "white",
             "linecolor": "white",
             "minorgridcolor": "white",
             "startlinecolor": "#2a3f5f"
            },
            "type": "carpet"
           }
          ],
          "choropleth": [
           {
            "colorbar": {
             "outlinewidth": 0,
             "ticks": ""
            },
            "type": "choropleth"
           }
          ],
          "contour": [
           {
            "colorbar": {
             "outlinewidth": 0,
             "ticks": ""
            },
            "colorscale": [
             [
              0,
              "#0d0887"
             ],
             [
              0.1111111111111111,
              "#46039f"
             ],
             [
              0.2222222222222222,
              "#7201a8"
             ],
             [
              0.3333333333333333,
              "#9c179e"
             ],
             [
              0.4444444444444444,
              "#bd3786"
             ],
             [
              0.5555555555555556,
              "#d8576b"
             ],
             [
              0.6666666666666666,
              "#ed7953"
             ],
             [
              0.7777777777777778,
              "#fb9f3a"
             ],
             [
              0.8888888888888888,
              "#fdca26"
             ],
             [
              1,
              "#f0f921"
             ]
            ],
            "type": "contour"
           }
          ],
          "contourcarpet": [
           {
            "colorbar": {
             "outlinewidth": 0,
             "ticks": ""
            },
            "type": "contourcarpet"
           }
          ],
          "heatmap": [
           {
            "colorbar": {
             "outlinewidth": 0,
             "ticks": ""
            },
            "colorscale": [
             [
              0,
              "#0d0887"
             ],
             [
              0.1111111111111111,
              "#46039f"
             ],
             [
              0.2222222222222222,
              "#7201a8"
             ],
             [
              0.3333333333333333,
              "#9c179e"
             ],
             [
              0.4444444444444444,
              "#bd3786"
             ],
             [
              0.5555555555555556,
              "#d8576b"
             ],
             [
              0.6666666666666666,
              "#ed7953"
             ],
             [
              0.7777777777777778,
              "#fb9f3a"
             ],
             [
              0.8888888888888888,
              "#fdca26"
             ],
             [
              1,
              "#f0f921"
             ]
            ],
            "type": "heatmap"
           }
          ],
          "heatmapgl": [
           {
            "colorbar": {
             "outlinewidth": 0,
             "ticks": ""
            },
            "colorscale": [
             [
              0,
              "#0d0887"
             ],
             [
              0.1111111111111111,
              "#46039f"
             ],
             [
              0.2222222222222222,
              "#7201a8"
             ],
             [
              0.3333333333333333,
              "#9c179e"
             ],
             [
              0.4444444444444444,
              "#bd3786"
             ],
             [
              0.5555555555555556,
              "#d8576b"
             ],
             [
              0.6666666666666666,
              "#ed7953"
             ],
             [
              0.7777777777777778,
              "#fb9f3a"
             ],
             [
              0.8888888888888888,
              "#fdca26"
             ],
             [
              1,
              "#f0f921"
             ]
            ],
            "type": "heatmapgl"
           }
          ],
          "histogram": [
           {
            "marker": {
             "colorbar": {
              "outlinewidth": 0,
              "ticks": ""
             }
            },
            "type": "histogram"
           }
          ],
          "histogram2d": [
           {
            "colorbar": {
             "outlinewidth": 0,
             "ticks": ""
            },
            "colorscale": [
             [
              0,
              "#0d0887"
             ],
             [
              0.1111111111111111,
              "#46039f"
             ],
             [
              0.2222222222222222,
              "#7201a8"
             ],
             [
              0.3333333333333333,
              "#9c179e"
             ],
             [
              0.4444444444444444,
              "#bd3786"
             ],
             [
              0.5555555555555556,
              "#d8576b"
             ],
             [
              0.6666666666666666,
              "#ed7953"
             ],
             [
              0.7777777777777778,
              "#fb9f3a"
             ],
             [
              0.8888888888888888,
              "#fdca26"
             ],
             [
              1,
              "#f0f921"
             ]
            ],
            "type": "histogram2d"
           }
          ],
          "histogram2dcontour": [
           {
            "colorbar": {
             "outlinewidth": 0,
             "ticks": ""
            },
            "colorscale": [
             [
              0,
              "#0d0887"
             ],
             [
              0.1111111111111111,
              "#46039f"
             ],
             [
              0.2222222222222222,
              "#7201a8"
             ],
             [
              0.3333333333333333,
              "#9c179e"
             ],
             [
              0.4444444444444444,
              "#bd3786"
             ],
             [
              0.5555555555555556,
              "#d8576b"
             ],
             [
              0.6666666666666666,
              "#ed7953"
             ],
             [
              0.7777777777777778,
              "#fb9f3a"
             ],
             [
              0.8888888888888888,
              "#fdca26"
             ],
             [
              1,
              "#f0f921"
             ]
            ],
            "type": "histogram2dcontour"
           }
          ],
          "mesh3d": [
           {
            "colorbar": {
             "outlinewidth": 0,
             "ticks": ""
            },
            "type": "mesh3d"
           }
          ],
          "parcoords": [
           {
            "line": {
             "colorbar": {
              "outlinewidth": 0,
              "ticks": ""
             }
            },
            "type": "parcoords"
           }
          ],
          "pie": [
           {
            "automargin": true,
            "type": "pie"
           }
          ],
          "scatter": [
           {
            "marker": {
             "colorbar": {
              "outlinewidth": 0,
              "ticks": ""
             }
            },
            "type": "scatter"
           }
          ],
          "scatter3d": [
           {
            "line": {
             "colorbar": {
              "outlinewidth": 0,
              "ticks": ""
             }
            },
            "marker": {
             "colorbar": {
              "outlinewidth": 0,
              "ticks": ""
             }
            },
            "type": "scatter3d"
           }
          ],
          "scattercarpet": [
           {
            "marker": {
             "colorbar": {
              "outlinewidth": 0,
              "ticks": ""
             }
            },
            "type": "scattercarpet"
           }
          ],
          "scattergeo": [
           {
            "marker": {
             "colorbar": {
              "outlinewidth": 0,
              "ticks": ""
             }
            },
            "type": "scattergeo"
           }
          ],
          "scattergl": [
           {
            "marker": {
             "colorbar": {
              "outlinewidth": 0,
              "ticks": ""
             }
            },
            "type": "scattergl"
           }
          ],
          "scattermapbox": [
           {
            "marker": {
             "colorbar": {
              "outlinewidth": 0,
              "ticks": ""
             }
            },
            "type": "scattermapbox"
           }
          ],
          "scatterpolar": [
           {
            "marker": {
             "colorbar": {
              "outlinewidth": 0,
              "ticks": ""
             }
            },
            "type": "scatterpolar"
           }
          ],
          "scatterpolargl": [
           {
            "marker": {
             "colorbar": {
              "outlinewidth": 0,
              "ticks": ""
             }
            },
            "type": "scatterpolargl"
           }
          ],
          "scatterternary": [
           {
            "marker": {
             "colorbar": {
              "outlinewidth": 0,
              "ticks": ""
             }
            },
            "type": "scatterternary"
           }
          ],
          "surface": [
           {
            "colorbar": {
             "outlinewidth": 0,
             "ticks": ""
            },
            "colorscale": [
             [
              0,
              "#0d0887"
             ],
             [
              0.1111111111111111,
              "#46039f"
             ],
             [
              0.2222222222222222,
              "#7201a8"
             ],
             [
              0.3333333333333333,
              "#9c179e"
             ],
             [
              0.4444444444444444,
              "#bd3786"
             ],
             [
              0.5555555555555556,
              "#d8576b"
             ],
             [
              0.6666666666666666,
              "#ed7953"
             ],
             [
              0.7777777777777778,
              "#fb9f3a"
             ],
             [
              0.8888888888888888,
              "#fdca26"
             ],
             [
              1,
              "#f0f921"
             ]
            ],
            "type": "surface"
           }
          ],
          "table": [
           {
            "cells": {
             "fill": {
              "color": "#EBF0F8"
             },
             "line": {
              "color": "white"
             }
            },
            "header": {
             "fill": {
              "color": "#C8D4E3"
             },
             "line": {
              "color": "white"
             }
            },
            "type": "table"
           }
          ]
         },
         "layout": {
          "annotationdefaults": {
           "arrowcolor": "#2a3f5f",
           "arrowhead": 0,
           "arrowwidth": 1
          },
          "autotypenumbers": "strict",
          "coloraxis": {
           "colorbar": {
            "outlinewidth": 0,
            "ticks": ""
           }
          },
          "colorscale": {
           "diverging": [
            [
             0,
             "#8e0152"
            ],
            [
             0.1,
             "#c51b7d"
            ],
            [
             0.2,
             "#de77ae"
            ],
            [
             0.3,
             "#f1b6da"
            ],
            [
             0.4,
             "#fde0ef"
            ],
            [
             0.5,
             "#f7f7f7"
            ],
            [
             0.6,
             "#e6f5d0"
            ],
            [
             0.7,
             "#b8e186"
            ],
            [
             0.8,
             "#7fbc41"
            ],
            [
             0.9,
             "#4d9221"
            ],
            [
             1,
             "#276419"
            ]
           ],
           "sequential": [
            [
             0,
             "#0d0887"
            ],
            [
             0.1111111111111111,
             "#46039f"
            ],
            [
             0.2222222222222222,
             "#7201a8"
            ],
            [
             0.3333333333333333,
             "#9c179e"
            ],
            [
             0.4444444444444444,
             "#bd3786"
            ],
            [
             0.5555555555555556,
             "#d8576b"
            ],
            [
             0.6666666666666666,
             "#ed7953"
            ],
            [
             0.7777777777777778,
             "#fb9f3a"
            ],
            [
             0.8888888888888888,
             "#fdca26"
            ],
            [
             1,
             "#f0f921"
            ]
           ],
           "sequentialminus": [
            [
             0,
             "#0d0887"
            ],
            [
             0.1111111111111111,
             "#46039f"
            ],
            [
             0.2222222222222222,
             "#7201a8"
            ],
            [
             0.3333333333333333,
             "#9c179e"
            ],
            [
             0.4444444444444444,
             "#bd3786"
            ],
            [
             0.5555555555555556,
             "#d8576b"
            ],
            [
             0.6666666666666666,
             "#ed7953"
            ],
            [
             0.7777777777777778,
             "#fb9f3a"
            ],
            [
             0.8888888888888888,
             "#fdca26"
            ],
            [
             1,
             "#f0f921"
            ]
           ]
          },
          "colorway": [
           "#636efa",
           "#EF553B",
           "#00cc96",
           "#ab63fa",
           "#FFA15A",
           "#19d3f3",
           "#FF6692",
           "#B6E880",
           "#FF97FF",
           "#FECB52"
          ],
          "font": {
           "color": "#2a3f5f"
          },
          "geo": {
           "bgcolor": "white",
           "lakecolor": "white",
           "landcolor": "#E5ECF6",
           "showlakes": true,
           "showland": true,
           "subunitcolor": "white"
          },
          "hoverlabel": {
           "align": "left"
          },
          "hovermode": "closest",
          "mapbox": {
           "style": "light"
          },
          "paper_bgcolor": "white",
          "plot_bgcolor": "#E5ECF6",
          "polar": {
           "angularaxis": {
            "gridcolor": "white",
            "linecolor": "white",
            "ticks": ""
           },
           "bgcolor": "#E5ECF6",
           "radialaxis": {
            "gridcolor": "white",
            "linecolor": "white",
            "ticks": ""
           }
          },
          "scene": {
           "xaxis": {
            "backgroundcolor": "#E5ECF6",
            "gridcolor": "white",
            "gridwidth": 2,
            "linecolor": "white",
            "showbackground": true,
            "ticks": "",
            "zerolinecolor": "white"
           },
           "yaxis": {
            "backgroundcolor": "#E5ECF6",
            "gridcolor": "white",
            "gridwidth": 2,
            "linecolor": "white",
            "showbackground": true,
            "ticks": "",
            "zerolinecolor": "white"
           },
           "zaxis": {
            "backgroundcolor": "#E5ECF6",
            "gridcolor": "white",
            "gridwidth": 2,
            "linecolor": "white",
            "showbackground": true,
            "ticks": "",
            "zerolinecolor": "white"
           }
          },
          "shapedefaults": {
           "line": {
            "color": "#2a3f5f"
           }
          },
          "ternary": {
           "aaxis": {
            "gridcolor": "white",
            "linecolor": "white",
            "ticks": ""
           },
           "baxis": {
            "gridcolor": "white",
            "linecolor": "white",
            "ticks": ""
           },
           "bgcolor": "#E5ECF6",
           "caxis": {
            "gridcolor": "white",
            "linecolor": "white",
            "ticks": ""
           }
          },
          "title": {
           "x": 0.05
          },
          "xaxis": {
           "automargin": true,
           "gridcolor": "white",
           "linecolor": "white",
           "ticks": "",
           "title": {
            "standoff": 15
           },
           "zerolinecolor": "white",
           "zerolinewidth": 2
          },
          "yaxis": {
           "automargin": true,
           "gridcolor": "white",
           "linecolor": "white",
           "ticks": "",
           "title": {
            "standoff": 15
           },
           "zerolinecolor": "white",
           "zerolinewidth": 2
          }
         }
        },
        "title": {
         "text": "ON"
        }
       }
      }
     },
     "metadata": {}
    }
   ],
   "source": [
    "# Create list of names for x-axis and traces\n",
    "epsilon_range = np.around(epsilon_range,1)\n",
    "num_epsilons = len(epsilon_range)\n",
    "x_name = []\n",
    "for i in range(num_epsilons):\n",
    "    x_name.append(str(epsilon_range[i]))\n",
    "trace_name = ['Day{}'.format(x) for x in chosen_times]\n",
    "\n",
    "# Sort results\n",
    "all_intervals.sort_values(by=['Time Points', 'Epsilon'], inplace=True)\n",
    "\n",
    "# Plot (box plot for inference)\n",
    "fig = go.Figure()\n",
    "\n",
    "for i in range(len(trace_name)):\n",
    "    fig.add_trace(\n",
    "        go.Box(\n",
    "            mean=all_intervals.loc[all_intervals['Central Probability']==0]['Mean'][i*num_epsilons:(i+1)*num_epsilons],\n",
    "            median=all_intervals.loc[all_intervals['Central Probability']==0]['Lower bound CI'][i*num_epsilons:(i+1)*num_epsilons],\n",
    "            q1=all_intervals.loc[all_intervals['Central Probability']==0.25]['Lower bound CI'][i*num_epsilons:(i+1)*num_epsilons],\n",
    "            q3=all_intervals.loc[all_intervals['Central Probability']==0.25]['Upper bound CI'][i*num_epsilons:(i+1)*num_epsilons],\n",
    "            upperfence=all_intervals.loc[all_intervals['Central Probability']==0.95]['Upper bound CI'][i*num_epsilons:(i+1)*num_epsilons],\n",
    "            lowerfence=all_intervals.loc[all_intervals['Central Probability']==0.95]['Lower bound CI'][i*num_epsilons:(i+1)*num_epsilons],\n",
    "            x=x_name,\n",
    "            name=trace_name[i]\n",
    "        )\n",
    "    )\n",
    "fig.update_layout(boxmode='group', title='ON')\n",
    "fig.show()"
   ]
  },
  {
   "cell_type": "code",
   "execution_count": 41,
   "metadata": {},
   "outputs": [
    {
     "output_type": "display_data",
     "data": {
      "application/vnd.plotly.v1+json": {
       "config": {
        "plotlyServerURL": "https://plot.ly"
       },
       "data": [
        {
         "lowerfence": [
          0.020073777344077837,
          1.0653637856245042,
          0.9550912827253345,
          2.4111717045307164,
          1.8781864464282991,
          1.556913962960243,
          1.1663826674222946
         ],
         "mean": [
          0.8002915978431702,
          2.9334347248077393,
          1.621737003326416,
          3.160006284713745,
          2.3042144775390625,
          1.8172829151153564,
          1.2538944482803345
         ],
         "median": [
          0.5555427968502045,
          2.764517068862915,
          1.575528860092163,
          3.131448268890381,
          2.2836031913757324,
          1.8011506795883179,
          1.2502808570861816
         ],
         "name": "-1.0",
         "q1": [
          0.3766489140689373,
          2.408069998025894,
          1.4554640501737595,
          2.999971091747284,
          2.2101472914218903,
          1.755762204527855,
          1.2356209307909012
         ],
         "q3": [
          0.7855184078216553,
          3.154293954372406,
          1.7051158845424652,
          3.2680862843990326,
          2.361142247915268,
          1.8500192165374756,
          1.2655584067106247
         ],
         "type": "box",
         "upperfence": [
          2.953069996833804,
          5.7629615783691435,
          2.5516560733318334,
          4.0724626064300535,
          2.8443678557872776,
          2.1662712872028353,
          1.3624435067176819
         ],
         "x": [
          "Day5",
          "Day10",
          "Day15",
          "Day20",
          "Day25",
          "Day30",
          "Day40"
         ]
        },
        {
         "lowerfence": [
          0.01614052369259298,
          0.6689973652362824,
          0.6508229896426203,
          1.7027140855789185,
          1.6514636904001236,
          1.423544806241989,
          1.1390370100736618
         ],
         "mean": [
          0.6401867270469666,
          1.8450865745544434,
          1.106007695198059,
          2.1814827919006348,
          1.9978106021881104,
          1.6575852632522583,
          1.2218419313430786
         ],
         "median": [
          0.443716824054718,
          1.7378288507461548,
          1.0745482444763184,
          2.1635682582855225,
          1.9827061891555786,
          1.6435808539390564,
          1.2180687189102173
         ],
         "name": "-0.8",
         "q1": [
          0.3009754680097103,
          1.513604611158371,
          0.9926975145936012,
          2.0806599259376526,
          1.923533633351326,
          1.6030764132738113,
          1.204412654042244
         ],
         "q3": [
          0.6272500455379486,
          1.9843589961528778,
          1.163190335035324,
          2.249611407518387,
          2.045305609703064,
          1.687333270907402,
          1.23236446082592
         ],
         "type": "box",
         "upperfence": [
          2.3660031378269193,
          3.6319380104541787,
          1.740924832224846,
          2.7643311500549315,
          2.4270239412784576,
          1.9672606438398361,
          1.321848037838936
         ],
         "x": [
          "Day5",
          "Day10",
          "Day15",
          "Day20",
          "Day25",
          "Day30",
          "Day40"
         ]
        },
        {
         "lowerfence": [
          0.013473185244947677,
          0.4867262177169323,
          0.49356388971209525,
          1.3136514246463775,
          1.472928622364998,
          1.3114937156438828,
          1.1128657847642898
         ],
         "mean": [
          0.5347689986228943,
          1.3453445434570312,
          0.8392063975334167,
          1.6658910512924194,
          1.7633017301559448,
          1.5235214233398438,
          1.190105676651001
         ],
         "median": [
          0.3694658726453781,
          1.2673273086547852,
          0.8153404593467712,
          1.6527219414710999,
          1.7520387768745422,
          1.5111379027366638,
          1.1875542402267456
         ],
         "name": "-0.6",
         "q1": [
          0.25072628259658813,
          1.104081854224205,
          0.7529496923089027,
          1.591893032193184,
          1.7025827169418335,
          1.474478840827942,
          1.1746856719255447
         ],
         "q3": [
          0.522883266210556,
          1.446579396724701,
          0.8825800716876984,
          1.7160872668027878,
          1.8039874285459518,
          1.5506317615509033,
          1.2008871287107468
         ],
         "type": "box",
         "upperfence": [
          1.9792027890682222,
          2.646781098842621,
          1.3207351446151738,
          2.094273144006729,
          2.1162087321281433,
          1.8025313943624497,
          1.283831849694252
         ],
         "x": [
          "Day5",
          "Day10",
          "Day15",
          "Day20",
          "Day25",
          "Day30",
          "Day40"
         ]
        },
        {
         "lowerfence": [
          0.011590670398436486,
          0.3838563941419126,
          0.3970953539013863,
          1.0694465011358263,
          1.3281653672456741,
          1.216133952140808,
          1.0877832174301147
         ],
         "mean": [
          0.45996201038360596,
          1.0592726469039917,
          0.6763103008270264,
          1.3479704856872559,
          1.5783227682113647,
          1.4096922874450684,
          1.160114049911499
         ],
         "median": [
          0.3186938464641571,
          0.9970550239086151,
          0.6571422219276428,
          1.337374985218048,
          1.569300353527069,
          1.3986452221870422,
          1.1584163308143616
         ],
         "name": "-0.4",
         "q1": [
          0.21588545106351376,
          0.8684323877096176,
          0.6068221554160118,
          1.289388284087181,
          1.5269503146409988,
          1.3650368452072144,
          1.1462756395339966
         ],
         "q3": [
          0.45091745257377625,
          1.138546571135521,
          0.7113852500915527,
          1.387475624680519,
          1.6138651818037033,
          1.434853121638298,
          1.1709437817335129
         ],
         "type": "box",
         "upperfence": [
          1.6985858500003814,
          2.0874331533908843,
          1.0645943641662599,
          1.687628069519997,
          1.878599599003792,
          1.6636370807886125,
          1.2481185317039492
         ],
         "x": [
          "Day5",
          "Day10",
          "Day15",
          "Day20",
          "Day25",
          "Day30",
          "Day40"
         ]
        },
        {
         "lowerfence": [
          0.009999684453941888,
          0.3166519291698933,
          0.33245063796639457,
          0.9002597212791442,
          1.2092842757701874,
          1.133360382914543,
          1.0634842932224273
         ],
         "mean": [
          0.4014485478401184,
          0.8734210729598999,
          0.5661996603012085,
          1.131689190864563,
          1.42843759059906,
          1.311602234840393,
          1.1327683925628662
         ],
         "median": [
          0.2770242244005203,
          0.8222101628780365,
          0.5501853823661804,
          1.1232534646987915,
          1.4211832880973816,
          1.3017761707305908,
          1.1307830810546875
         ],
         "name": "-0.2",
         "q1": [
          0.18761612474918365,
          0.715995267033577,
          0.5080080404877663,
          1.0833617001771927,
          1.3840533345937729,
          1.2707495391368866,
          1.1192963868379593
         ],
         "q3": [
          0.3926098607480526,
          0.9383973404765129,
          0.5953403264284134,
          1.1645956635475159,
          1.459741085767746,
          1.3348923176527023,
          1.1426134556531906
         ],
         "type": "box",
         "upperfence": [
          1.4875282853841787,
          1.7210104942321778,
          0.8916641265153885,
          1.4118988305330278,
          1.6878157317638398,
          1.5439295113086702,
          1.214822193980217
         ],
         "x": [
          "Day5",
          "Day10",
          "Day15",
          "Day20",
          "Day25",
          "Day30",
          "Day40"
         ]
        },
        {
         "lowerfence": [
          0.00903065309394151,
          0.26916971206665047,
          0.2857876636087895,
          0.7774950742721558,
          1.1105273425579072,
          1.0611963063478471,
          1.0402277052402498
         ],
         "mean": [
          0.35752975940704346,
          0.742703378200531,
          0.487120658159256,
          0.9753361344337463,
          1.3048136234283447,
          1.226249098777771,
          1.1066197156906128
         ],
         "median": [
          0.24580107629299164,
          0.6987593472003937,
          0.47334906458854675,
          0.9680652618408203,
          1.2988707423210144,
          1.2173179984092712,
          1.1044346690177917
         ],
         "name": "-0.0",
         "q1": [
          0.16662479750812054,
          0.6084904000163078,
          0.43708206713199615,
          0.9340417385101318,
          1.2659409791231155,
          1.1886372119188309,
          1.0934799909591675
         ],
         "q3": [
          0.3489527255296707,
          0.7979714497923851,
          0.5122737437486649,
          1.0035845041275024,
          1.33301942050457,
          1.247886762022972,
          1.1156561374664307
         ],
         "type": "box",
         "upperfence": [
          1.329095622897149,
          1.4648718535900116,
          0.7663418650627137,
          1.2149520337581634,
          1.5329977482557298,
          1.4406867533922196,
          1.1833157747983933
         ],
         "x": [
          "Day5",
          "Day10",
          "Day15",
          "Day20",
          "Day25",
          "Day30",
          "Day40"
         ]
        },
        {
         "lowerfence": [
          0.008162806741893293,
          0.2342738669365645,
          0.2507014609873295,
          0.6841057926416397,
          1.025903096795082,
          0.9977717578411103,
          1.017566552758217
         ],
         "mean": [
          0.3228158950805664,
          0.6467626690864563,
          0.42713525891304016,
          0.856914222240448,
          1.20077383518219,
          1.1512973308563232,
          1.0809123516082764
         ],
         "median": [
          0.22260165959596634,
          0.6089335083961487,
          0.4149291515350342,
          0.8505978286266327,
          1.1957156658172607,
          1.143073856830597,
          1.0791983604431152
         ],
         "name": "0.2",
         "q1": [
          0.15088067390024662,
          0.530231274664402,
          0.3830091953277588,
          0.8208935633301735,
          1.1661165058612823,
          1.1163945943117142,
          1.068698599934578
         ],
         "q3": [
          0.3153626546263695,
          0.6951512917876244,
          0.44933662191033363,
          0.8815935105085373,
          1.2263798862695694,
          1.171634927392006,
          1.0899298191070557
         ],
         "type": "box",
         "upperfence": [
          1.200550416111946,
          1.2769503057003024,
          0.6724210619926454,
          1.0662399768829345,
          1.4043548822402954,
          1.3500417828559876,
          1.153503179550171
         ],
         "x": [
          "Day5",
          "Day10",
          "Day15",
          "Day20",
          "Day25",
          "Day30",
          "Day40"
         ]
        },
        {
         "lowerfence": [
          0.007376502279657871,
          0.20758249685168267,
          0.22327334620058553,
          0.6108543500304222,
          0.953278884291649,
          0.9412433832883834,
          0.9959254339337349
         ],
         "mean": [
          0.29385998845100403,
          0.5720986723899841,
          0.38028985261917114,
          0.7641969919204712,
          1.1121431589126587,
          1.0850205421447754,
          1.056528091430664
         ],
         "median": [
          0.20215798914432526,
          0.5382018983364105,
          0.3695944994688034,
          0.7585958540439606,
          1.1077840924263,
          1.0774890184402466,
          1.0551308989524841
         ],
         "name": "0.4",
         "q1": [
          0.13700108788907528,
          0.46887510642409325,
          0.3411496579647064,
          0.7321927323937416,
          1.081217274069786,
          1.05257748067379,
          1.0450694561004639
         ],
         "q3": [
          0.2865220233798027,
          0.6145345717668533,
          0.4001263156533241,
          0.7861314490437508,
          1.1354562044143677,
          1.1040952950716019,
          1.0654221773147583
         ],
         "type": "box",
         "upperfence": [
          1.0950140535831454,
          1.1278824537992478,
          0.5985415935516358,
          0.9499290406703949,
          1.2960398495197296,
          1.2700046569108965,
          1.12555188536644
         ],
         "x": [
          "Day5",
          "Day10",
          "Day15",
          "Day20",
          "Day25",
          "Day30",
          "Day40"
         ]
        },
        {
         "lowerfence": [
          0.006701848073862493,
          0.18557430580258372,
          0.20134426802396777,
          0.5515251651406289,
          0.8901935130357742,
          0.8908835604786873,
          0.9747719094157219
         ],
         "mean": [
          0.2696745693683624,
          0.5129975080490112,
          0.3429238200187683,
          0.6894693374633789,
          1.0357398986816406,
          1.0259844064712524,
          1.0332601070404053
         ],
         "median": [
          0.18545537441968918,
          0.4826706349849701,
          0.33323004841804504,
          0.6844896972179413,
          1.0318784713745117,
          1.018858253955841,
          1.0321036577224731
         ],
         "name": "0.6",
         "q1": [
          0.12544589675962925,
          0.42043618857860565,
          0.3077441304922104,
          0.6607726365327835,
          1.0073681473731995,
          0.995526134967804,
          1.0224384814500809
         ],
         "q3": [
          0.26304055377840996,
          0.5510657951235771,
          0.3608063794672489,
          0.7091185301542282,
          1.0571765750646591,
          1.0438672304153442,
          1.041961908340454
         ],
         "type": "box",
         "upperfence": [
          1.0048507660627375,
          1.0137612849473954,
          0.539713403582573,
          0.8564335569739342,
          1.2034003764390946,
          1.1993885219097138,
          1.099112868309021
         ],
         "x": [
          "Day5",
          "Day10",
          "Day15",
          "Day20",
          "Day25",
          "Day30",
          "Day40"
         ]
        },
        {
         "lowerfence": [
          0.00621469204779715,
          0.1681904807686806,
          0.18302988298237324,
          0.502973997592926,
          0.834868486225605,
          0.8457351878285408,
          0.9545308336615562
         ],
         "mean": [
          0.24878190457820892,
          0.4647997319698334,
          0.3121976852416992,
          0.6283392906188965,
          0.9689967632293701,
          0.9729794263839722,
          1.0110878944396973
         ],
         "median": [
          0.17097746580839157,
          0.43732215464115143,
          0.3034655749797821,
          0.6237787008285522,
          0.965606153011322,
          0.966480940580368,
          1.0100600719451904
         ],
         "name": "0.8",
         "q1": [
          0.1156771145761013,
          0.3808932788670063,
          0.2801600694656372,
          0.6022705510258675,
          0.9429789558053017,
          0.944427527487278,
          1.0007182657718658
         ],
         "q3": [
          0.24245150573551655,
          0.49927543103694916,
          0.32847241684794426,
          0.6462280452251434,
          0.9888347238302231,
          0.9899358972907066,
          1.0195884704589844
         ],
         "type": "box",
         "upperfence": [
          0.9288493767380716,
          0.9171678379178048,
          0.49176107943058023,
          0.7801014006137849,
          1.1225753217935561,
          1.1362548619508743,
          1.0740791618824004
         ],
         "x": [
          "Day5",
          "Day10",
          "Day15",
          "Day20",
          "Day25",
          "Day30",
          "Day40"
         ]
        },
        {
         "lowerfence": [
          0.005745640711393207,
          0.15398322716355325,
          0.16810932420194158,
          0.4622554711997509,
          0.7858326867222786,
          0.8048919945955276,
          0.9348266050219536
         ],
         "mean": [
          0.23158366978168488,
          0.4254145920276642,
          0.28654545545578003,
          0.5769833326339722,
          0.9105075001716614,
          0.9252915382385254,
          0.9900338053703308
         ],
         "median": [
          0.15886931121349335,
          0.40033720433712006,
          0.2785354256629944,
          0.5727890431880951,
          0.9074991643428802,
          0.919124573469162,
          0.9889699816703796
         ],
         "name": "1.0",
         "q1": [
          0.10754791554063559,
          0.34856946021318436,
          0.2570113241672516,
          0.5530612245202065,
          0.8865431323647499,
          0.8982696533203125,
          0.9798529148101807
         ],
         "q3": [
          0.22553713992238045,
          0.4573184549808502,
          0.30158068984746933,
          0.5933297947049141,
          0.929018534719944,
          0.9413618892431259,
          0.9981307983398438
         ],
         "type": "box",
         "upperfence": [
          0.8655099779367454,
          0.8401062026619911,
          0.45135614350438125,
          0.7160778149962426,
          1.052667635679245,
          1.0796342730522157,
          1.050342708826065
         ],
         "x": [
          "Day5",
          "Day10",
          "Day15",
          "Day20",
          "Day25",
          "Day30",
          "Day40"
         ]
        }
       ],
       "layout": {
        "boxmode": "group",
        "template": {
         "data": {
          "bar": [
           {
            "error_x": {
             "color": "#2a3f5f"
            },
            "error_y": {
             "color": "#2a3f5f"
            },
            "marker": {
             "line": {
              "color": "#E5ECF6",
              "width": 0.5
             }
            },
            "type": "bar"
           }
          ],
          "barpolar": [
           {
            "marker": {
             "line": {
              "color": "#E5ECF6",
              "width": 0.5
             }
            },
            "type": "barpolar"
           }
          ],
          "carpet": [
           {
            "aaxis": {
             "endlinecolor": "#2a3f5f",
             "gridcolor": "white",
             "linecolor": "white",
             "minorgridcolor": "white",
             "startlinecolor": "#2a3f5f"
            },
            "baxis": {
             "endlinecolor": "#2a3f5f",
             "gridcolor": "white",
             "linecolor": "white",
             "minorgridcolor": "white",
             "startlinecolor": "#2a3f5f"
            },
            "type": "carpet"
           }
          ],
          "choropleth": [
           {
            "colorbar": {
             "outlinewidth": 0,
             "ticks": ""
            },
            "type": "choropleth"
           }
          ],
          "contour": [
           {
            "colorbar": {
             "outlinewidth": 0,
             "ticks": ""
            },
            "colorscale": [
             [
              0,
              "#0d0887"
             ],
             [
              0.1111111111111111,
              "#46039f"
             ],
             [
              0.2222222222222222,
              "#7201a8"
             ],
             [
              0.3333333333333333,
              "#9c179e"
             ],
             [
              0.4444444444444444,
              "#bd3786"
             ],
             [
              0.5555555555555556,
              "#d8576b"
             ],
             [
              0.6666666666666666,
              "#ed7953"
             ],
             [
              0.7777777777777778,
              "#fb9f3a"
             ],
             [
              0.8888888888888888,
              "#fdca26"
             ],
             [
              1,
              "#f0f921"
             ]
            ],
            "type": "contour"
           }
          ],
          "contourcarpet": [
           {
            "colorbar": {
             "outlinewidth": 0,
             "ticks": ""
            },
            "type": "contourcarpet"
           }
          ],
          "heatmap": [
           {
            "colorbar": {
             "outlinewidth": 0,
             "ticks": ""
            },
            "colorscale": [
             [
              0,
              "#0d0887"
             ],
             [
              0.1111111111111111,
              "#46039f"
             ],
             [
              0.2222222222222222,
              "#7201a8"
             ],
             [
              0.3333333333333333,
              "#9c179e"
             ],
             [
              0.4444444444444444,
              "#bd3786"
             ],
             [
              0.5555555555555556,
              "#d8576b"
             ],
             [
              0.6666666666666666,
              "#ed7953"
             ],
             [
              0.7777777777777778,
              "#fb9f3a"
             ],
             [
              0.8888888888888888,
              "#fdca26"
             ],
             [
              1,
              "#f0f921"
             ]
            ],
            "type": "heatmap"
           }
          ],
          "heatmapgl": [
           {
            "colorbar": {
             "outlinewidth": 0,
             "ticks": ""
            },
            "colorscale": [
             [
              0,
              "#0d0887"
             ],
             [
              0.1111111111111111,
              "#46039f"
             ],
             [
              0.2222222222222222,
              "#7201a8"
             ],
             [
              0.3333333333333333,
              "#9c179e"
             ],
             [
              0.4444444444444444,
              "#bd3786"
             ],
             [
              0.5555555555555556,
              "#d8576b"
             ],
             [
              0.6666666666666666,
              "#ed7953"
             ],
             [
              0.7777777777777778,
              "#fb9f3a"
             ],
             [
              0.8888888888888888,
              "#fdca26"
             ],
             [
              1,
              "#f0f921"
             ]
            ],
            "type": "heatmapgl"
           }
          ],
          "histogram": [
           {
            "marker": {
             "colorbar": {
              "outlinewidth": 0,
              "ticks": ""
             }
            },
            "type": "histogram"
           }
          ],
          "histogram2d": [
           {
            "colorbar": {
             "outlinewidth": 0,
             "ticks": ""
            },
            "colorscale": [
             [
              0,
              "#0d0887"
             ],
             [
              0.1111111111111111,
              "#46039f"
             ],
             [
              0.2222222222222222,
              "#7201a8"
             ],
             [
              0.3333333333333333,
              "#9c179e"
             ],
             [
              0.4444444444444444,
              "#bd3786"
             ],
             [
              0.5555555555555556,
              "#d8576b"
             ],
             [
              0.6666666666666666,
              "#ed7953"
             ],
             [
              0.7777777777777778,
              "#fb9f3a"
             ],
             [
              0.8888888888888888,
              "#fdca26"
             ],
             [
              1,
              "#f0f921"
             ]
            ],
            "type": "histogram2d"
           }
          ],
          "histogram2dcontour": [
           {
            "colorbar": {
             "outlinewidth": 0,
             "ticks": ""
            },
            "colorscale": [
             [
              0,
              "#0d0887"
             ],
             [
              0.1111111111111111,
              "#46039f"
             ],
             [
              0.2222222222222222,
              "#7201a8"
             ],
             [
              0.3333333333333333,
              "#9c179e"
             ],
             [
              0.4444444444444444,
              "#bd3786"
             ],
             [
              0.5555555555555556,
              "#d8576b"
             ],
             [
              0.6666666666666666,
              "#ed7953"
             ],
             [
              0.7777777777777778,
              "#fb9f3a"
             ],
             [
              0.8888888888888888,
              "#fdca26"
             ],
             [
              1,
              "#f0f921"
             ]
            ],
            "type": "histogram2dcontour"
           }
          ],
          "mesh3d": [
           {
            "colorbar": {
             "outlinewidth": 0,
             "ticks": ""
            },
            "type": "mesh3d"
           }
          ],
          "parcoords": [
           {
            "line": {
             "colorbar": {
              "outlinewidth": 0,
              "ticks": ""
             }
            },
            "type": "parcoords"
           }
          ],
          "pie": [
           {
            "automargin": true,
            "type": "pie"
           }
          ],
          "scatter": [
           {
            "marker": {
             "colorbar": {
              "outlinewidth": 0,
              "ticks": ""
             }
            },
            "type": "scatter"
           }
          ],
          "scatter3d": [
           {
            "line": {
             "colorbar": {
              "outlinewidth": 0,
              "ticks": ""
             }
            },
            "marker": {
             "colorbar": {
              "outlinewidth": 0,
              "ticks": ""
             }
            },
            "type": "scatter3d"
           }
          ],
          "scattercarpet": [
           {
            "marker": {
             "colorbar": {
              "outlinewidth": 0,
              "ticks": ""
             }
            },
            "type": "scattercarpet"
           }
          ],
          "scattergeo": [
           {
            "marker": {
             "colorbar": {
              "outlinewidth": 0,
              "ticks": ""
             }
            },
            "type": "scattergeo"
           }
          ],
          "scattergl": [
           {
            "marker": {
             "colorbar": {
              "outlinewidth": 0,
              "ticks": ""
             }
            },
            "type": "scattergl"
           }
          ],
          "scattermapbox": [
           {
            "marker": {
             "colorbar": {
              "outlinewidth": 0,
              "ticks": ""
             }
            },
            "type": "scattermapbox"
           }
          ],
          "scatterpolar": [
           {
            "marker": {
             "colorbar": {
              "outlinewidth": 0,
              "ticks": ""
             }
            },
            "type": "scatterpolar"
           }
          ],
          "scatterpolargl": [
           {
            "marker": {
             "colorbar": {
              "outlinewidth": 0,
              "ticks": ""
             }
            },
            "type": "scatterpolargl"
           }
          ],
          "scatterternary": [
           {
            "marker": {
             "colorbar": {
              "outlinewidth": 0,
              "ticks": ""
             }
            },
            "type": "scatterternary"
           }
          ],
          "surface": [
           {
            "colorbar": {
             "outlinewidth": 0,
             "ticks": ""
            },
            "colorscale": [
             [
              0,
              "#0d0887"
             ],
             [
              0.1111111111111111,
              "#46039f"
             ],
             [
              0.2222222222222222,
              "#7201a8"
             ],
             [
              0.3333333333333333,
              "#9c179e"
             ],
             [
              0.4444444444444444,
              "#bd3786"
             ],
             [
              0.5555555555555556,
              "#d8576b"
             ],
             [
              0.6666666666666666,
              "#ed7953"
             ],
             [
              0.7777777777777778,
              "#fb9f3a"
             ],
             [
              0.8888888888888888,
              "#fdca26"
             ],
             [
              1,
              "#f0f921"
             ]
            ],
            "type": "surface"
           }
          ],
          "table": [
           {
            "cells": {
             "fill": {
              "color": "#EBF0F8"
             },
             "line": {
              "color": "white"
             }
            },
            "header": {
             "fill": {
              "color": "#C8D4E3"
             },
             "line": {
              "color": "white"
             }
            },
            "type": "table"
           }
          ]
         },
         "layout": {
          "annotationdefaults": {
           "arrowcolor": "#2a3f5f",
           "arrowhead": 0,
           "arrowwidth": 1
          },
          "autotypenumbers": "strict",
          "coloraxis": {
           "colorbar": {
            "outlinewidth": 0,
            "ticks": ""
           }
          },
          "colorscale": {
           "diverging": [
            [
             0,
             "#8e0152"
            ],
            [
             0.1,
             "#c51b7d"
            ],
            [
             0.2,
             "#de77ae"
            ],
            [
             0.3,
             "#f1b6da"
            ],
            [
             0.4,
             "#fde0ef"
            ],
            [
             0.5,
             "#f7f7f7"
            ],
            [
             0.6,
             "#e6f5d0"
            ],
            [
             0.7,
             "#b8e186"
            ],
            [
             0.8,
             "#7fbc41"
            ],
            [
             0.9,
             "#4d9221"
            ],
            [
             1,
             "#276419"
            ]
           ],
           "sequential": [
            [
             0,
             "#0d0887"
            ],
            [
             0.1111111111111111,
             "#46039f"
            ],
            [
             0.2222222222222222,
             "#7201a8"
            ],
            [
             0.3333333333333333,
             "#9c179e"
            ],
            [
             0.4444444444444444,
             "#bd3786"
            ],
            [
             0.5555555555555556,
             "#d8576b"
            ],
            [
             0.6666666666666666,
             "#ed7953"
            ],
            [
             0.7777777777777778,
             "#fb9f3a"
            ],
            [
             0.8888888888888888,
             "#fdca26"
            ],
            [
             1,
             "#f0f921"
            ]
           ],
           "sequentialminus": [
            [
             0,
             "#0d0887"
            ],
            [
             0.1111111111111111,
             "#46039f"
            ],
            [
             0.2222222222222222,
             "#7201a8"
            ],
            [
             0.3333333333333333,
             "#9c179e"
            ],
            [
             0.4444444444444444,
             "#bd3786"
            ],
            [
             0.5555555555555556,
             "#d8576b"
            ],
            [
             0.6666666666666666,
             "#ed7953"
            ],
            [
             0.7777777777777778,
             "#fb9f3a"
            ],
            [
             0.8888888888888888,
             "#fdca26"
            ],
            [
             1,
             "#f0f921"
            ]
           ]
          },
          "colorway": [
           "#636efa",
           "#EF553B",
           "#00cc96",
           "#ab63fa",
           "#FFA15A",
           "#19d3f3",
           "#FF6692",
           "#B6E880",
           "#FF97FF",
           "#FECB52"
          ],
          "font": {
           "color": "#2a3f5f"
          },
          "geo": {
           "bgcolor": "white",
           "lakecolor": "white",
           "landcolor": "#E5ECF6",
           "showlakes": true,
           "showland": true,
           "subunitcolor": "white"
          },
          "hoverlabel": {
           "align": "left"
          },
          "hovermode": "closest",
          "mapbox": {
           "style": "light"
          },
          "paper_bgcolor": "white",
          "plot_bgcolor": "#E5ECF6",
          "polar": {
           "angularaxis": {
            "gridcolor": "white",
            "linecolor": "white",
            "ticks": ""
           },
           "bgcolor": "#E5ECF6",
           "radialaxis": {
            "gridcolor": "white",
            "linecolor": "white",
            "ticks": ""
           }
          },
          "scene": {
           "xaxis": {
            "backgroundcolor": "#E5ECF6",
            "gridcolor": "white",
            "gridwidth": 2,
            "linecolor": "white",
            "showbackground": true,
            "ticks": "",
            "zerolinecolor": "white"
           },
           "yaxis": {
            "backgroundcolor": "#E5ECF6",
            "gridcolor": "white",
            "gridwidth": 2,
            "linecolor": "white",
            "showbackground": true,
            "ticks": "",
            "zerolinecolor": "white"
           },
           "zaxis": {
            "backgroundcolor": "#E5ECF6",
            "gridcolor": "white",
            "gridwidth": 2,
            "linecolor": "white",
            "showbackground": true,
            "ticks": "",
            "zerolinecolor": "white"
           }
          },
          "shapedefaults": {
           "line": {
            "color": "#2a3f5f"
           }
          },
          "ternary": {
           "aaxis": {
            "gridcolor": "white",
            "linecolor": "white",
            "ticks": ""
           },
           "baxis": {
            "gridcolor": "white",
            "linecolor": "white",
            "ticks": ""
           },
           "bgcolor": "#E5ECF6",
           "caxis": {
            "gridcolor": "white",
            "linecolor": "white",
            "ticks": ""
           }
          },
          "title": {
           "x": 0.05
          },
          "xaxis": {
           "automargin": true,
           "gridcolor": "white",
           "linecolor": "white",
           "ticks": "",
           "title": {
            "standoff": 15
           },
           "zerolinecolor": "white",
           "zerolinewidth": 2
          },
          "yaxis": {
           "automargin": true,
           "gridcolor": "white",
           "linecolor": "white",
           "ticks": "",
           "title": {
            "standoff": 15
           },
           "zerolinecolor": "white",
           "zerolinewidth": 2
          }
         }
        },
        "title": {
         "text": "ON"
        }
       }
      }
     },
     "metadata": {}
    }
   ],
   "source": [
    "# Create list of names for x-axis and traces\n",
    "group_name = ['Day{}'.format(x) for x in chosen_times]\n",
    "\n",
    "# Sort results\n",
    "all_intervals.sort_values(by=['Epsilon','Time Points'], inplace=True)\n",
    "\n",
    "# Plot (box plot for inference)\n",
    "fig = go.Figure()\n",
    "\n",
    "n = len(group_name)\n",
    "for i in range(len(epsilon_range)):\n",
    "    fig.add_trace(\n",
    "        go.Box(\n",
    "            mean=all_intervals.loc[all_intervals['Central Probability']==0]['Mean'][i*n:(i+1)*n],\n",
    "            median=all_intervals.loc[all_intervals['Central Probability']==0]['Lower bound CI'][i*n:(i+1)*n],\n",
    "            q1=all_intervals.loc[all_intervals['Central Probability']==0.25]['Lower bound CI'][i*n:(i+1)*n],\n",
    "            q3=all_intervals.loc[all_intervals['Central Probability']==0.25]['Upper bound CI'][i*n:(i+1)*n],\n",
    "            upperfence=all_intervals.loc[all_intervals['Central Probability']==0.95]['Upper bound CI'][i*n:(i+1)*n],\n",
    "            lowerfence=all_intervals.loc[all_intervals['Central Probability']==0.95]['Lower bound CI'][i*n:(i+1)*n],\n",
    "            x=group_name,\n",
    "            name=str(round(epsilon_range[i],1))\n",
    "        )\n",
    "    )\n",
    "fig.update_layout(boxmode='group', title='ON')\n",
    "fig.show()"
   ]
  },
  {
   "cell_type": "code",
   "execution_count": null,
   "metadata": {},
   "outputs": [],
   "source": []
  }
 ]
}