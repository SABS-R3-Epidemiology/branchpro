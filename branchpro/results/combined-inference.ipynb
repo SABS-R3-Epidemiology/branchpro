{
 "cells": [
  {
   "cell_type": "markdown",
   "source": [
    "# Inference plot of 3 regions"
   ],
   "metadata": {}
  },
  {
   "cell_type": "code",
   "execution_count": 1,
   "source": [
    "# Import libraries\n",
    "import numpy as np\n",
    "import math\n",
    "import branchpro\n",
    "import scipy.stats\n",
    "import matplotlib\n",
    "import plotly.graph_objects as go\n",
    "from matplotlib import pyplot as plt\n",
    "import os\n",
    "import pandas as pd\n",
    "import datetime"
   ],
   "outputs": [],
   "metadata": {}
  },
  {
   "cell_type": "code",
   "execution_count": 2,
   "source": [
    "# Read serial interval\n",
    "si_file = 'si-epinow'\n",
    "path = os.path.join('../data_library/serial_interval', '{}.csv'.format(si_file))\n",
    "serial_interval = pd.read_csv(path, header=None)\n",
    "serial_interval = serial_interval.fillna(0)\n",
    "serial_intervals = serial_interval.values.T"
   ],
   "outputs": [],
   "metadata": {}
  },
  {
   "cell_type": "markdown",
   "source": [
    "## Ontario data"
   ],
   "metadata": {}
  },
  {
   "cell_type": "code",
   "execution_count": 3,
   "source": [
    "# Read Ontario data\n",
    "path = os.path.join('../data_library/covid_ontario/ON.csv')\n",
    "data = pd.read_csv(path)[:51]"
   ],
   "outputs": [],
   "metadata": {}
  },
  {
   "cell_type": "code",
   "execution_count": 4,
   "source": [
    "time_key = 'Time'\n",
    "num_timepoints = max(data[time_key])\n",
    "data_times = data[time_key]\n",
    "\n",
    "# Pad with zeros the time points where we have no information on\n",
    "# the number of incidences\n",
    "padded_inc_data = data.set_index(time_key).reindex(\n",
    "    range(\n",
    "        1, max(data_times)+1)\n",
    "        ).fillna(0).reset_index()\n",
    "locally_infected_cases_ON = padded_inc_data['Incidence Number']\n",
    "imported_cases_ON = padded_inc_data['Imported Cases']\n",
    "\n",
    "start_times = np.arange(1, num_timepoints+1, dtype=int)\n",
    "times = np.arange(num_timepoints+1)"
   ],
   "outputs": [],
   "metadata": {}
  },
  {
   "cell_type": "code",
   "execution_count": 5,
   "source": [
    "tau = 6\n",
    "R_t_start = tau+1\n",
    "a = 1\n",
    "b = 0.2\n",
    "\n",
    "# Run inferences for different values of epsilon\n",
    "column_names = ['Time Points', 'Mean', 'Lower bound CI', 'Upper bound CI', 'Central Probability', 'Epsilon']\n",
    "epsilon_range = [0.25, 1, 2]\n",
    "chosen_times = [10, 15, 20, 25, 30, 40]\n",
    "\n",
    "all_intervals = pd.DataFrame(columns=column_names)\n",
    "all_intervals_chosen = pd.DataFrame(columns=column_names)\n",
    "# Transform our incidence data into pandas dataframes\n",
    "inc_data = pd.DataFrame(\n",
    "    {\n",
    "        'Time': start_times,\n",
    "        'Incidence Number': locally_infected_cases_ON\n",
    "    }\n",
    ")\n",
    "\n",
    "imported_inc_data = pd.DataFrame(\n",
    "    {\n",
    "        'Time': start_times,\n",
    "        'Incidence Number': imported_cases_ON\n",
    "    }\n",
    ")\n",
    "\n",
    "for epsilon in epsilon_range:\n",
    "    inference = branchpro.LocImpBranchProPosteriorMultSI(\n",
    "        inc_data=inc_data,\n",
    "        imported_inc_data=imported_inc_data,\n",
    "        epsilon=epsilon,\n",
    "        daily_serial_intervals=serial_intervals,\n",
    "        alpha=a,\n",
    "        beta=b)\n",
    "\n",
    "    inference.run_inference(tau=tau)\n",
    "    intervals = inference.get_intervals(central_prob=0)\n",
    "    intervals = intervals.append(inference.get_intervals(central_prob=.25))\n",
    "    intervals = intervals.append(inference.get_intervals(central_prob=.95))\n",
    "    temp = inference.get_intervals(central_prob=.95)\n",
    "\n",
    "    intervals['Epsilon'] = [epsilon] * len(intervals.index)\n",
    "\n",
    "    intervals_chosen = pd.DataFrame(columns=intervals.columns)\n",
    "    for time_pt in chosen_times:\n",
    "        intervals_chosen = intervals_chosen.append(\n",
    "            intervals.loc[intervals['Time Points']== time_pt])\n",
    "\n",
    "    all_intervals = all_intervals.append(intervals)\n",
    "    all_intervals_chosen = all_intervals_chosen.append(intervals_chosen)"
   ],
   "outputs": [],
   "metadata": {}
  },
  {
   "cell_type": "code",
   "execution_count": 6,
   "source": [
    "inference_times = sorted(list(set(all_intervals['Time Points'].tolist())))\n",
    "all_intervals_ON = all_intervals[all_intervals['Central Probability']==0.95]"
   ],
   "outputs": [],
   "metadata": {}
  },
  {
   "cell_type": "code",
   "execution_count": 7,
   "source": [
    "large_all_intervals = pd.DataFrame(columns=column_names)\n",
    "large_all_intervals_chosen = pd.DataFrame(columns=column_names)\n",
    "last_time_r_more_than_1_ON = []\n",
    "last_time_r_more_than_1_LowerCI_ON = []\n",
    "last_time_r_more_than_1_UpperCI_ON = []\n",
    "\n",
    "last_time_r_less_than_1_ON = []\n",
    "last_time_r_less_than_1_LowerCI_ON = []\n",
    "last_time_r_less_than_1_UpperCI_ON = []\n",
    "\n",
    "proportion_time_r_more_than_1_ON = []\n",
    "proportion_time_r_more_than_1_LowerCI_ON = []\n",
    "proportion_time_r_more_than_1_UpperCI_ON = []\n",
    "\n",
    "large_epsilon_range = np.arange(0.1, 2.5, 0.1)\n",
    "\n",
    "for epsilon in large_epsilon_range:\n",
    "    inference = branchpro.LocImpBranchProPosteriorMultSI(\n",
    "        inc_data=inc_data,\n",
    "        imported_inc_data=imported_inc_data,\n",
    "        epsilon=epsilon,\n",
    "        daily_serial_intervals=serial_intervals,\n",
    "        alpha=a,\n",
    "        beta=b)\n",
    "\n",
    "    inference.run_inference(tau=tau)\n",
    "\n",
    "    # Last time R > 1\n",
    "    mean, lower, upper = inference.last_time_r_threshold('more')\n",
    "    last_time_r_more_than_1_ON.append(mean)\n",
    "    last_time_r_more_than_1_LowerCI_ON.append(lower)\n",
    "    last_time_r_more_than_1_UpperCI_ON.append(upper)\n",
    "\n",
    "    # Last time R < 1\n",
    "    mean, lower, upper = inference.last_time_r_threshold('less')\n",
    "    last_time_r_less_than_1_ON.append(mean)\n",
    "    last_time_r_less_than_1_LowerCI_ON.append(lower)\n",
    "    last_time_r_less_than_1_UpperCI_ON.append(upper)\n",
    "\n",
    "    # Proportion time R > 1\n",
    "    mean, lower, upper = inference.proportion_time_r_more_than_1(.95)\n",
    "    proportion_time_r_more_than_1_ON.append(mean)\n",
    "    proportion_time_r_more_than_1_LowerCI_ON.append(lower)\n",
    "    proportion_time_r_more_than_1_UpperCI_ON.append(upper)"
   ],
   "outputs": [],
   "metadata": {}
  },
  {
   "cell_type": "markdown",
   "source": [
    "## New South Wales data"
   ],
   "metadata": {}
  },
  {
   "cell_type": "code",
   "execution_count": 8,
   "source": [
    "# Read New South Wales data\n",
    "path = os.path.join('../data_library/covid_australia/NSW.csv')\n",
    "data = pd.read_csv(path)[:51]\n",
    "\n",
    "time_key = 'Time'\n",
    "num_timepoints = max(data[time_key])\n",
    "data_times = data[time_key]\n",
    "\n",
    "# Pad with zeros the time points where we have no information on\n",
    "# the number of incidences\n",
    "padded_inc_data = data.set_index(time_key).reindex(\n",
    "    range(\n",
    "        1, max(data_times)+1)\n",
    "        ).fillna(0).reset_index()\n",
    "locally_infected_cases_NSW = padded_inc_data['Incidence Number']\n",
    "imported_cases_NSW = padded_inc_data['Imported Cases']\n",
    "\n",
    "start_times = np.arange(1, num_timepoints+1, dtype=int)\n",
    "times = np.arange(num_timepoints+1)"
   ],
   "outputs": [],
   "metadata": {}
  },
  {
   "cell_type": "code",
   "execution_count": 9,
   "source": [
    "# Run inferences for different values of epsilon\n",
    "column_names = ['Time Points', 'Mean', 'Lower bound CI', 'Upper bound CI', 'Central Probability', 'Epsilon']\n",
    "epsilon_range = [0.25, 1, 2]\n",
    "chosen_times = [10, 15, 20, 25, 30, 40]\n",
    "\n",
    "all_intervals = pd.DataFrame(columns=column_names)\n",
    "all_intervals_chosen = pd.DataFrame(columns=column_names)\n",
    "# Transform our incidence data into pandas dataframes\n",
    "inc_data = pd.DataFrame(\n",
    "    {\n",
    "        'Time': start_times,\n",
    "        'Incidence Number': locally_infected_cases_NSW\n",
    "    }\n",
    ")\n",
    "\n",
    "imported_inc_data = pd.DataFrame(\n",
    "    {\n",
    "        'Time': start_times,\n",
    "        'Incidence Number': imported_cases_NSW\n",
    "    }\n",
    ")\n",
    "\n",
    "for epsilon in epsilon_range:\n",
    "    inference = branchpro.LocImpBranchProPosteriorMultSI(\n",
    "        inc_data=inc_data,\n",
    "        imported_inc_data=imported_inc_data,\n",
    "        epsilon=epsilon,\n",
    "        daily_serial_intervals=serial_intervals,\n",
    "        alpha=a,\n",
    "        beta=b)\n",
    "\n",
    "    inference.run_inference(tau=tau)\n",
    "    intervals = inference.get_intervals(central_prob=0)\n",
    "    intervals = intervals.append(inference.get_intervals(central_prob=.25))\n",
    "    intervals = intervals.append(inference.get_intervals(central_prob=.95))\n",
    "    temp = inference.get_intervals(central_prob=.95)\n",
    "\n",
    "    intervals['Epsilon'] = [epsilon] * len(intervals.index)\n",
    "\n",
    "    intervals_chosen = pd.DataFrame(columns=intervals.columns)\n",
    "    for time_pt in chosen_times:\n",
    "        intervals_chosen = intervals_chosen.append(\n",
    "            intervals.loc[intervals['Time Points']== time_pt])\n",
    "\n",
    "    all_intervals = all_intervals.append(intervals)\n",
    "    all_intervals_chosen = all_intervals_chosen.append(intervals_chosen)"
   ],
   "outputs": [],
   "metadata": {}
  },
  {
   "cell_type": "code",
   "execution_count": 10,
   "source": [
    "inference_times = sorted(list(set(all_intervals['Time Points'].tolist())))\n",
    "all_intervals_NSW = all_intervals[all_intervals['Central Probability']==0.95]"
   ],
   "outputs": [],
   "metadata": {}
  },
  {
   "cell_type": "code",
   "execution_count": 11,
   "source": [
    "large_all_intervals = pd.DataFrame(columns=column_names)\n",
    "large_all_intervals_chosen = pd.DataFrame(columns=column_names)\n",
    "last_time_r_more_than_1_NSW = []\n",
    "last_time_r_more_than_1_LowerCI_NSW = []\n",
    "last_time_r_more_than_1_UpperCI_NSW = []\n",
    "\n",
    "last_time_r_less_than_1_NSW = []\n",
    "last_time_r_less_than_1_LowerCI_NSW = []\n",
    "last_time_r_less_than_1_UpperCI_NSW = []\n",
    "\n",
    "proportion_time_r_more_than_1_NSW = []\n",
    "proportion_time_r_more_than_1_LowerCI_NSW = []\n",
    "proportion_time_r_more_than_1_UpperCI_NSW = []\n",
    "\n",
    "large_epsilon_range = np.arange(0.1, 2.5, 0.1)\n",
    "\n",
    "for epsilon in large_epsilon_range:\n",
    "    inference = branchpro.LocImpBranchProPosteriorMultSI(\n",
    "        inc_data=inc_data,\n",
    "        imported_inc_data=imported_inc_data,\n",
    "        epsilon=epsilon,\n",
    "        daily_serial_intervals=serial_intervals,\n",
    "        alpha=a,\n",
    "        beta=b)\n",
    "\n",
    "    inference.run_inference(tau=tau)\n",
    "    # Last time R > 1\n",
    "    mean, lower, upper = inference.last_time_r_threshold('more')\n",
    "    last_time_r_more_than_1_NSW.append(mean)\n",
    "    last_time_r_more_than_1_LowerCI_NSW.append(lower)\n",
    "    last_time_r_more_than_1_UpperCI_NSW.append(upper)\n",
    "\n",
    "    # Last time R < 1\n",
    "    mean, lower, upper = inference.last_time_r_threshold('less')\n",
    "    last_time_r_less_than_1_NSW.append(mean)\n",
    "    last_time_r_less_than_1_LowerCI_NSW.append(lower)\n",
    "    last_time_r_less_than_1_UpperCI_NSW.append(upper)\n",
    "\n",
    "    # Proportion time R > 1\n",
    "    mean, lower, upper = inference.proportion_time_r_more_than_1(.95)\n",
    "    proportion_time_r_more_than_1_NSW.append(mean)\n",
    "    proportion_time_r_more_than_1_LowerCI_NSW.append(lower)\n",
    "    proportion_time_r_more_than_1_UpperCI_NSW.append(upper)"
   ],
   "outputs": [],
   "metadata": {}
  },
  {
   "cell_type": "markdown",
   "source": [
    "## Victoria data"
   ],
   "metadata": {}
  },
  {
   "cell_type": "code",
   "execution_count": 12,
   "source": [
    "# Read Victoria data\n",
    "path = os.path.join('../data_library/covid_australia/VIC.csv')\n",
    "data = pd.read_csv(path)[:51]\n",
    "\n",
    "time_key = 'Time'\n",
    "num_timepoints = max(data[time_key])\n",
    "data_times = data[time_key]\n",
    "\n",
    "# Pad with zeros the time points where we have no information on\n",
    "# the number of incidences\n",
    "padded_inc_data = data.set_index(time_key).reindex(\n",
    "    range(\n",
    "        1, max(data_times)+1)\n",
    "        ).fillna(0).reset_index()\n",
    "locally_infected_cases_VIC = padded_inc_data['Incidence Number']\n",
    "imported_cases_VIC = padded_inc_data['Imported Cases']\n",
    "\n",
    "start_times = np.arange(1, num_timepoints+1, dtype=int)\n",
    "times = np.arange(num_timepoints+1)\n",
    "\n",
    "# Run inferences for different values of epsilon\n",
    "column_names = ['Time Points', 'Mean', 'Lower bound CI', 'Upper bound CI', 'Central Probability', 'Epsilon']\n",
    "epsilon_range = [0.25, 1, 2]\n",
    "chosen_times = [10, 15, 20, 25, 30, 40]\n",
    "\n",
    "all_intervals = pd.DataFrame(columns=column_names)\n",
    "all_intervals_chosen = pd.DataFrame(columns=column_names)\n",
    "# Transform our incidence data into pandas dataframes\n",
    "inc_data = pd.DataFrame(\n",
    "    {\n",
    "        'Time': start_times,\n",
    "        'Incidence Number': locally_infected_cases_VIC\n",
    "    }\n",
    ")\n",
    "\n",
    "imported_inc_data = pd.DataFrame(\n",
    "    {\n",
    "        'Time': start_times,\n",
    "        'Incidence Number': imported_cases_VIC\n",
    "    }\n",
    ")\n",
    "\n",
    "for epsilon in epsilon_range:\n",
    "    inference = branchpro.LocImpBranchProPosteriorMultSI(\n",
    "        inc_data=inc_data,\n",
    "        imported_inc_data=imported_inc_data,\n",
    "        epsilon=epsilon,\n",
    "        daily_serial_intervals=serial_intervals,\n",
    "        alpha=a,\n",
    "        beta=b)\n",
    "\n",
    "    inference.run_inference(tau=tau)\n",
    "    intervals = inference.get_intervals(central_prob=0)\n",
    "    intervals = intervals.append(inference.get_intervals(central_prob=.25))\n",
    "    intervals = intervals.append(inference.get_intervals(central_prob=.95))\n",
    "    temp = inference.get_intervals(central_prob=.95)\n",
    "\n",
    "    intervals['Epsilon'] = [epsilon] * len(intervals.index)\n",
    "\n",
    "    intervals_chosen = pd.DataFrame(columns=intervals.columns)\n",
    "    for time_pt in chosen_times:\n",
    "        intervals_chosen = intervals_chosen.append(\n",
    "            intervals.loc[intervals['Time Points']== time_pt])\n",
    "\n",
    "    all_intervals = all_intervals.append(intervals)\n",
    "    all_intervals_chosen = all_intervals_chosen.append(intervals_chosen)\n",
    "    \n",
    "prior_dist = scipy.stats.gamma(a, scale=1/b)\n",
    "\n",
    "inference_times = sorted(list(set(all_intervals['Time Points'].tolist())))\n",
    "epsilon_range = [0.25, 1, 2]\n",
    "all_intervals_VIC = all_intervals[all_intervals['Central Probability']==0.95]"
   ],
   "outputs": [],
   "metadata": {}
  },
  {
   "cell_type": "code",
   "execution_count": 13,
   "source": [
    "large_all_intervals = pd.DataFrame(columns=column_names)\n",
    "large_all_intervals_chosen = pd.DataFrame(columns=column_names)\n",
    "last_time_r_more_than_1_VIC = []\n",
    "last_time_r_more_than_1_LowerCI_VIC = []\n",
    "last_time_r_more_than_1_UpperCI_VIC = []\n",
    "\n",
    "last_time_r_less_than_1_VIC = []\n",
    "last_time_r_less_than_1_LowerCI_VIC = []\n",
    "last_time_r_less_than_1_UpperCI_VIC = []\n",
    "\n",
    "proportion_time_r_more_than_1_VIC = []\n",
    "proportion_time_r_more_than_1_LowerCI_VIC = []\n",
    "proportion_time_r_more_than_1_UpperCI_VIC = []\n",
    "\n",
    "large_epsilon_range = np.arange(0.1, 2.5, 0.1)\n",
    "\n",
    "for epsilon in large_epsilon_range:\n",
    "    inference = branchpro.LocImpBranchProPosteriorMultSI(\n",
    "        inc_data=inc_data,\n",
    "        imported_inc_data=imported_inc_data,\n",
    "        epsilon=epsilon,\n",
    "        daily_serial_intervals=serial_intervals,\n",
    "        alpha=a,\n",
    "        beta=b)\n",
    "\n",
    "    inference.run_inference(tau=tau)\n",
    "    # Last time R > 1\n",
    "    mean, lower, upper = inference.last_time_r_threshold('more')\n",
    "    last_time_r_more_than_1_VIC.append(mean)\n",
    "    last_time_r_more_than_1_LowerCI_VIC.append(lower)\n",
    "    last_time_r_more_than_1_UpperCI_VIC.append(upper)\n",
    "\n",
    "    # Last time R < 1\n",
    "    mean, lower, upper = inference.last_time_r_threshold('less')\n",
    "    last_time_r_less_than_1_VIC.append(mean)\n",
    "    last_time_r_less_than_1_LowerCI_VIC.append(lower)\n",
    "    last_time_r_less_than_1_UpperCI_VIC.append(upper)\n",
    "\n",
    "    # Proportion time R > 1\n",
    "    mean, lower, upper = inference.proportion_time_r_more_than_1(.95)\n",
    "    proportion_time_r_more_than_1_VIC.append(mean)\n",
    "    proportion_time_r_more_than_1_LowerCI_VIC.append(lower)\n",
    "    proportion_time_r_more_than_1_UpperCI_VIC.append(upper)"
   ],
   "outputs": [],
   "metadata": {}
  },
  {
   "cell_type": "markdown",
   "source": [
    "## Combine inference plots"
   ],
   "metadata": {}
  },
  {
   "cell_type": "code",
   "execution_count": 14,
   "source": [
    "fig = branchpro.figures.plot_regions_inference(\n",
    "    datetime.datetime(2020, 3, 1),\n",
    "    ['Ontario', 'New South Wales', 'Victoria'],\n",
    "    [locally_infected_cases_ON, locally_infected_cases_NSW, locally_infected_cases_VIC],\n",
    "    [imported_cases_ON, imported_cases_NSW, imported_cases_VIC],\n",
    "    datetime.datetime(2020, 3, 1) + datetime.timedelta(days=inference_times[0]-1),\n",
    "    list(epsilon_range),\n",
    "    [[all_intervals_ON.loc[all_intervals_ON['Epsilon']==eps] for eps in epsilon_range],\n",
    "    [all_intervals_NSW.loc[all_intervals_NSW['Epsilon']==eps] for eps in epsilon_range],\n",
    "    [all_intervals_VIC.loc[all_intervals_VIC['Epsilon']==eps] for eps in epsilon_range]],\n",
    "    default_epsilon=1,\n",
    "    inset_region=['Ontario'],\n",
    "    show=False)\n",
    "\n",
    "plt.savefig('combined_inference.pdf')"
   ],
   "outputs": [
    {
     "output_type": "display_data",
     "data": {
      "text/plain": [
       "<Figure size 864x432 with 6 Axes>"
      ],
      "image/png": "[encoded data removed]"
     },
     "metadata": {
      "needs_background": "light"
     }
    }
   ],
   "metadata": {
    "scrolled": true
   }
  },
  {
   "cell_type": "markdown",
   "source": [
    "## Plot of Last times to R>1 and R<1 and Proprtion of time R>1"
   ],
   "metadata": {}
  },
  {
   "cell_type": "code",
   "execution_count": 15,
   "source": [
    "from plotly.subplots import make_subplots\n",
    "\n",
    "colours = ['grey', 'orange', 'green']\n",
    "regions = ['Ontario', 'New South Wales', 'Victoria']\n",
    "trace_name = ['Last time R<sub>t</sub><sup>local</sup><1', 'Last time R<sub>t</sub><sup>local</sup>>1', 'Proportion of time R<sub>t</sub><sup>local</sup>>1']\n",
    "\n",
    "titles = ['{}'.format(r) for r in regions]\n",
    "titles.extend([None]*6)\n",
    "\n",
    "traces_mean = [\n",
    "    [last_time_r_less_than_1_ON, last_time_r_less_than_1_NSW, last_time_r_less_than_1_VIC],\n",
    "    [last_time_r_more_than_1_ON, last_time_r_more_than_1_NSW, last_time_r_more_than_1_VIC],\n",
    "    [proportion_time_r_more_than_1_ON, proportion_time_r_more_than_1_NSW, proportion_time_r_more_than_1_VIC]]\n",
    "\n",
    "traces_lower = [\n",
    "    [last_time_r_less_than_1_LowerCI_ON, last_time_r_less_than_1_LowerCI_NSW, last_time_r_less_than_1_LowerCI_VIC],\n",
    "    [last_time_r_more_than_1_LowerCI_ON, last_time_r_more_than_1_LowerCI_NSW, last_time_r_more_than_1_LowerCI_VIC],\n",
    "    [proportion_time_r_more_than_1_LowerCI_ON, proportion_time_r_more_than_1_LowerCI_NSW, proportion_time_r_more_than_1_LowerCI_VIC]]\n",
    "\n",
    "traces_upper = [\n",
    "    [last_time_r_less_than_1_UpperCI_ON, last_time_r_less_than_1_UpperCI_NSW, last_time_r_less_than_1_UpperCI_VIC],\n",
    "    [last_time_r_more_than_1_UpperCI_ON, last_time_r_more_than_1_UpperCI_NSW, last_time_r_more_than_1_UpperCI_VIC],\n",
    "    [proportion_time_r_more_than_1_UpperCI_ON, proportion_time_r_more_than_1_UpperCI_NSW, proportion_time_r_more_than_1_UpperCI_VIC]]\n",
    "\n",
    "fig = go.Figure()\n",
    "fig = make_subplots(rows=3, cols=3, subplot_titles=tuple(titles), shared_yaxes=True)\n",
    "\n",
    "# Plot (bar chart cases each day)\n",
    "for row in range(3):\n",
    "    for col in range(3):\n",
    "        if (row != 0) or (col != 0):\n",
    "            # Plot of incidences\n",
    "            fig.add_trace(\n",
    "                go.Scatter(\n",
    "                    x=large_epsilon_range,\n",
    "                    y=traces_mean[row][col],\n",
    "                    mode='lines',\n",
    "                    name='Mean',\n",
    "                    showlegend=False,\n",
    "                    line_color=colours[0],\n",
    "                ),\n",
    "                row= row+1,\n",
    "                col= col+1\n",
    "            )\n",
    "\n",
    "            fig.add_trace(\n",
    "                go.Scatter(\n",
    "                    x=large_epsilon_range,\n",
    "                    y=traces_lower[row][col],\n",
    "                    mode='lines',\n",
    "                    name='2.5<sup>th</sup> percentile',\n",
    "                    showlegend=False,\n",
    "                    line_color=colours[1],\n",
    "                    line={'dash': 'dot'}\n",
    "                ),\n",
    "                row= row+1,\n",
    "                col= col+1\n",
    "            )\n",
    "\n",
    "            fig.add_trace(\n",
    "                go.Scatter(\n",
    "                    x=large_epsilon_range,\n",
    "                    y=traces_upper[row][col],\n",
    "                    mode='lines',\n",
    "                    name='97.5<sup>th</sup> percentile',\n",
    "                    showlegend=False,\n",
    "                    line_color=colours[2],\n",
    "                    line={'dash': 'dot'}\n",
    "                ),\n",
    "                row= row+1,\n",
    "                col= col+1\n",
    "            )\n",
    "\n",
    "            fig.update_xaxes(row=row+1, col=col+1, title_text='ϵ')\n",
    "        \n",
    "        else:\n",
    "            fig.add_trace(\n",
    "                go.Scatter(\n",
    "                    x=large_epsilon_range,\n",
    "                    y=traces_mean[row][col],\n",
    "                    mode='lines',\n",
    "                    name='Mean',\n",
    "                    line_color=colours[0]\n",
    "                ),\n",
    "                row= row+1,\n",
    "                col= col+1\n",
    "            )\n",
    "\n",
    "            fig.add_trace(\n",
    "                go.Scatter(\n",
    "                    x=large_epsilon_range,\n",
    "                    y=traces_lower[row][col],\n",
    "                    mode='lines',\n",
    "                    name='2.5<sup>th</sup> percentile',\n",
    "                    line_color=colours[1],\n",
    "                    line={'dash': 'dot'}\n",
    "                ),\n",
    "                row= row+1,\n",
    "                col= col+1\n",
    "            )\n",
    "\n",
    "            fig.add_trace(\n",
    "                go.Scatter(\n",
    "                    x=large_epsilon_range,\n",
    "                    y=traces_upper[row][col],\n",
    "                    mode='lines',\n",
    "                    name='97.5<sup>th</sup> percentile',\n",
    "                    line_color=colours[2],\n",
    "                    line={'dash': 'dot'}\n",
    "                ),\n",
    "                row= row+1,\n",
    "                col= col+1\n",
    "            )\n",
    "\n",
    "            fig.update_xaxes(row=row+1, col=col+1, title_text='ϵ')\n",
    "\n",
    "\n",
    "# Add axis labels\n",
    "fig.update_layout(\n",
    "    width=700, \n",
    "    height=800,\n",
    "    plot_bgcolor='white',\n",
    "    xaxis=dict(linecolor='black'),\n",
    "    yaxis=dict(\n",
    "        linecolor='black',\n",
    "        range=[0, 62],\n",
    "        tickvals=np.arange(1, 62, 10).tolist(),\n",
    "        ticktext=['Mar 01', 'Mar 11', 'Mar 21', 'Mar 31', 'Apr 09', 'Apr 19', 'Apr 29']),\n",
    "    xaxis2=dict(linecolor='black'),\n",
    "    yaxis2=dict(\n",
    "        linecolor='black',\n",
    "        range=[0, 62],\n",
    "        tickvals=np.arange(1, 62, 10).tolist(),\n",
    "        ticktext=['Mar 01', 'Mar 11', 'Mar 21', 'Mar 31', 'Apr 09', 'Apr 19', 'Apr 29']),\n",
    "    xaxis3=dict(linecolor='black'),\n",
    "    yaxis3=dict(\n",
    "        linecolor='black',\n",
    "        range=[0, 62],\n",
    "        tickvals=np.arange(1, 62, 10).tolist(),\n",
    "        ticktext=['Mar 01', 'Mar 11', 'Mar 21', 'Mar 31', 'Apr 09', 'Apr 19', 'Apr 29']),\n",
    "    xaxis4=dict(linecolor='black'),\n",
    "    yaxis4=dict(\n",
    "        linecolor='black',\n",
    "        range=[0, 62],\n",
    "        tickvals=np.arange(1, 62, 10).tolist(),\n",
    "        ticktext=['Mar 01', 'Mar 11', 'Mar 21', 'Mar 31', 'Apr 09', 'Apr 19', 'Apr 29']),\n",
    "    xaxis5=dict(linecolor='black'),\n",
    "    yaxis5=dict(\n",
    "        linecolor='black',\n",
    "        range=[0, 62],\n",
    "        tickvals=np.arange(1, 62, 10).tolist(),\n",
    "        ticktext=['Mar 01', 'Mar 11', 'Mar 21', 'Mar 31', 'Apr 09', 'Apr 19', 'Apr 29']),\n",
    "    xaxis6=dict(linecolor='black'),\n",
    "    yaxis6=dict(\n",
    "        linecolor='black',\n",
    "        range=[0, 62],\n",
    "        tickvals=np.arange(1, 62, 10).tolist(),\n",
    "        ticktext=['Mar 01', 'Mar 11', 'Mar 21', 'Mar 31', 'Apr 09', 'Apr 19', 'Apr 29']),\n",
    "    xaxis7=dict(linecolor='black'),\n",
    "    yaxis7=dict(\n",
    "        linecolor='black',\n",
    "        range=[0, 1.2],\n",
    "        tickvals=np.arange(0, 1.1, 0.2).tolist(),\n",
    "        ticktext=['0', '0.2', '0.4', '0.6', '0.8', '1']),\n",
    "    xaxis8=dict(linecolor='black'),\n",
    "    yaxis8=dict(\n",
    "        linecolor='black',\n",
    "        range=[0, 1.2],\n",
    "        tickvals=np.arange(0, 1.1, 0.2).tolist(),\n",
    "        ticktext=['0', '0.2', '0.4', '0.6', '0.8', '1']),\n",
    "    xaxis9=dict(linecolor='black'),\n",
    "    yaxis9=dict(\n",
    "        linecolor='black',\n",
    "        range=[0, 1.2],\n",
    "        tickvals=np.arange(0, 1.1, 0.2).tolist(),\n",
    "        ticktext=['0', '0.2', '0.4', '0.6', '0.8', '1']),\n",
    "    legend=dict(\n",
    "        orientation='h',\n",
    "        yanchor=\"bottom\",\n",
    "        y=1.075,\n",
    "        xanchor=\"right\",\n",
    "        x=1)\n",
    "    )\n",
    "\n",
    "fig.update_yaxes(row=1, col=1, title_text=trace_name[0])\n",
    "fig.update_yaxes(row=2, col=1, title_text=trace_name[1])\n",
    "fig.update_yaxes(row=3, col=1, title_text=trace_name[2])\n",
    "\n",
    "fig.write_image('Figure-3.pdf')\n",
    "fig.show()"
   ],
   "outputs": [
    {
     "output_type": "display_data",
     "data": {
      "application/vnd.plotly.v1+json": {
       "config": {
        "plotlyServerURL": "https://plot.ly"
       },
       "data": [
        {
         "line": {
          "color": "grey"
         },
         "mode": "lines",
         "name": "Mean",
         "type": "scatter",
         "x": [
          0.1,
          0.2,
          0.30000000000000004,
          0.4,
          0.5,
          0.6,
          0.7000000000000001,
          0.8,
          0.9,
          1,
          1.1,
          1.2000000000000002,
          1.3000000000000003,
          1.4000000000000001,
          1.5000000000000002,
          1.6,
          1.7000000000000002,
          1.8000000000000003,
          1.9000000000000001,
          2,
          2.1,
          2.2,
          2.3000000000000003,
          2.4000000000000004
         ],
         "xaxis": "x",
         "y": [
          null,
          null,
          null,
          null,
          10,
          19,
          20,
          22,
          23,
          23,
          42,
          42,
          43,
          43,
          43,
          43,
          44,
          44,
          44,
          44,
          45,
          45,
          45,
          46
         ],
         "yaxis": "y"
        },
        {
         "line": {
          "color": "orange",
          "dash": "dot"
         },
         "mode": "lines",
         "name": "2.5<sup>th</sup> percentile",
         "type": "scatter",
         "x": [
          0.1,
          0.2,
          0.30000000000000004,
          0.4,
          0.5,
          0.6,
          0.7000000000000001,
          0.8,
          0.9,
          1,
          1.1,
          1.2000000000000002,
          1.3000000000000003,
          1.4000000000000001,
          1.5000000000000002,
          1.6,
          1.7000000000000002,
          1.8000000000000003,
          1.9000000000000001,
          2,
          2.1,
          2.2,
          2.3000000000000003,
          2.4000000000000004
         ],
         "xaxis": "x",
         "y": [
          10,
          11,
          11,
          20,
          21,
          22,
          42,
          43,
          43,
          43,
          43,
          43,
          44,
          44,
          44,
          44,
          45,
          45,
          46,
          46,
          46,
          46,
          47,
          47
         ],
         "yaxis": "y"
        },
        {
         "line": {
          "color": "green",
          "dash": "dot"
         },
         "mode": "lines",
         "name": "97.5<sup>th</sup> percentile",
         "type": "scatter",
         "x": [
          0.1,
          0.2,
          0.30000000000000004,
          0.4,
          0.5,
          0.6,
          0.7000000000000001,
          0.8,
          0.9,
          1,
          1.1,
          1.2000000000000002,
          1.3000000000000003,
          1.4000000000000001,
          1.5000000000000002,
          1.6,
          1.7000000000000002,
          1.8000000000000003,
          1.9000000000000001,
          2,
          2.1,
          2.2,
          2.3000000000000003,
          2.4000000000000004
         ],
         "xaxis": "x",
         "y": [
          null,
          null,
          null,
          null,
          null,
          null,
          null,
          null,
          20,
          21,
          22,
          23,
          23,
          24,
          24,
          42,
          42,
          43,
          43,
          43,
          43,
          44,
          44,
          44
         ],
         "yaxis": "y"
        },
        {
         "line": {
          "color": "grey"
         },
         "mode": "lines",
         "name": "Mean",
         "showlegend": false,
         "type": "scatter",
         "x": [
          0.1,
          0.2,
          0.30000000000000004,
          0.4,
          0.5,
          0.6,
          0.7000000000000001,
          0.8,
          0.9,
          1,
          1.1,
          1.2000000000000002,
          1.3000000000000003,
          1.4000000000000001,
          1.5000000000000002,
          1.6,
          1.7000000000000002,
          1.8000000000000003,
          1.9000000000000001,
          2,
          2.1,
          2.2,
          2.3000000000000003,
          2.4000000000000004
         ],
         "xaxis": "x2",
         "y": [
          44,
          44,
          44,
          44,
          44,
          44,
          44,
          44,
          44,
          44,
          44,
          44,
          44,
          44,
          44,
          44,
          44,
          44,
          44,
          44,
          44,
          44,
          44,
          44
         ],
         "yaxis": "y2"
        },
        {
         "line": {
          "color": "orange",
          "dash": "dot"
         },
         "mode": "lines",
         "name": "2.5<sup>th</sup> percentile",
         "showlegend": false,
         "type": "scatter",
         "x": [
          0.1,
          0.2,
          0.30000000000000004,
          0.4,
          0.5,
          0.6,
          0.7000000000000001,
          0.8,
          0.9,
          1,
          1.1,
          1.2000000000000002,
          1.3000000000000003,
          1.4000000000000001,
          1.5000000000000002,
          1.6,
          1.7000000000000002,
          1.8000000000000003,
          1.9000000000000001,
          2,
          2.1,
          2.2,
          2.3000000000000003,
          2.4000000000000004
         ],
         "xaxis": "x2",
         "y": [
          44,
          44,
          44,
          44,
          44,
          44,
          44,
          44,
          44,
          44,
          44,
          44,
          44,
          44,
          44,
          44,
          44,
          44,
          44,
          44,
          44,
          44,
          44,
          44
         ],
         "yaxis": "y2"
        },
        {
         "line": {
          "color": "green",
          "dash": "dot"
         },
         "mode": "lines",
         "name": "97.5<sup>th</sup> percentile",
         "showlegend": false,
         "type": "scatter",
         "x": [
          0.1,
          0.2,
          0.30000000000000004,
          0.4,
          0.5,
          0.6,
          0.7000000000000001,
          0.8,
          0.9,
          1,
          1.1,
          1.2000000000000002,
          1.3000000000000003,
          1.4000000000000001,
          1.5000000000000002,
          1.6,
          1.7000000000000002,
          1.8000000000000003,
          1.9000000000000001,
          2,
          2.1,
          2.2,
          2.3000000000000003,
          2.4000000000000004
         ],
         "xaxis": "x2",
         "y": [
          44,
          44,
          44,
          44,
          44,
          44,
          44,
          44,
          44,
          44,
          44,
          44,
          44,
          44,
          44,
          44,
          44,
          44,
          44,
          44,
          44,
          44,
          44,
          44
         ],
         "yaxis": "y2"
        },
        {
         "line": {
          "color": "grey"
         },
         "mode": "lines",
         "name": "Mean",
         "showlegend": false,
         "type": "scatter",
         "x": [
          0.1,
          0.2,
          0.30000000000000004,
          0.4,
          0.5,
          0.6,
          0.7000000000000001,
          0.8,
          0.9,
          1,
          1.1,
          1.2000000000000002,
          1.3000000000000003,
          1.4000000000000001,
          1.5000000000000002,
          1.6,
          1.7000000000000002,
          1.8000000000000003,
          1.9000000000000001,
          2,
          2.1,
          2.2,
          2.3000000000000003,
          2.4000000000000004
         ],
         "xaxis": "x3",
         "y": [
          45,
          45,
          45,
          45,
          45,
          45,
          45,
          45,
          45,
          45,
          45,
          45,
          45,
          45,
          45,
          45,
          45,
          45,
          45,
          45,
          45,
          45,
          45,
          45
         ],
         "yaxis": "y3"
        },
        {
         "line": {
          "color": "orange",
          "dash": "dot"
         },
         "mode": "lines",
         "name": "2.5<sup>th</sup> percentile",
         "showlegend": false,
         "type": "scatter",
         "x": [
          0.1,
          0.2,
          0.30000000000000004,
          0.4,
          0.5,
          0.6,
          0.7000000000000001,
          0.8,
          0.9,
          1,
          1.1,
          1.2000000000000002,
          1.3000000000000003,
          1.4000000000000001,
          1.5000000000000002,
          1.6,
          1.7000000000000002,
          1.8000000000000003,
          1.9000000000000001,
          2,
          2.1,
          2.2,
          2.3000000000000003,
          2.4000000000000004
         ],
         "xaxis": "x3",
         "y": [
          45,
          45,
          45,
          45,
          45,
          45,
          45,
          45,
          45,
          45,
          45,
          45,
          45,
          45,
          45,
          45,
          45,
          45,
          45,
          45,
          45,
          45,
          45,
          45
         ],
         "yaxis": "y3"
        },
        {
         "line": {
          "color": "green",
          "dash": "dot"
         },
         "mode": "lines",
         "name": "97.5<sup>th</sup> percentile",
         "showlegend": false,
         "type": "scatter",
         "x": [
          0.1,
          0.2,
          0.30000000000000004,
          0.4,
          0.5,
          0.6,
          0.7000000000000001,
          0.8,
          0.9,
          1,
          1.1,
          1.2000000000000002,
          1.3000000000000003,
          1.4000000000000001,
          1.5000000000000002,
          1.6,
          1.7000000000000002,
          1.8000000000000003,
          1.9000000000000001,
          2,
          2.1,
          2.2,
          2.3000000000000003,
          2.4000000000000004
         ],
         "xaxis": "x3",
         "y": [
          45,
          45,
          45,
          45,
          45,
          45,
          45,
          45,
          45,
          45,
          45,
          45,
          45,
          45,
          45,
          45,
          45,
          45,
          45,
          45,
          45,
          45,
          45,
          45
         ],
         "yaxis": "y3"
        },
        {
         "line": {
          "color": "grey"
         },
         "mode": "lines",
         "name": "Mean",
         "showlegend": false,
         "type": "scatter",
         "x": [
          0.1,
          0.2,
          0.30000000000000004,
          0.4,
          0.5,
          0.6,
          0.7000000000000001,
          0.8,
          0.9,
          1,
          1.1,
          1.2000000000000002,
          1.3000000000000003,
          1.4000000000000001,
          1.5000000000000002,
          1.6,
          1.7000000000000002,
          1.8000000000000003,
          1.9000000000000001,
          2,
          2.1,
          2.2,
          2.3000000000000003,
          2.4000000000000004
         ],
         "xaxis": "x4",
         "y": [
          52,
          52,
          52,
          52,
          52,
          52,
          52,
          52,
          52,
          52,
          52,
          52,
          52,
          52,
          52,
          52,
          52,
          52,
          52,
          52,
          52,
          52,
          52,
          52
         ],
         "yaxis": "y4"
        },
        {
         "line": {
          "color": "orange",
          "dash": "dot"
         },
         "mode": "lines",
         "name": "2.5<sup>th</sup> percentile",
         "showlegend": false,
         "type": "scatter",
         "x": [
          0.1,
          0.2,
          0.30000000000000004,
          0.4,
          0.5,
          0.6,
          0.7000000000000001,
          0.8,
          0.9,
          1,
          1.1,
          1.2000000000000002,
          1.3000000000000003,
          1.4000000000000001,
          1.5000000000000002,
          1.6,
          1.7000000000000002,
          1.8000000000000003,
          1.9000000000000001,
          2,
          2.1,
          2.2,
          2.3000000000000003,
          2.4000000000000004
         ],
         "xaxis": "x4",
         "y": [
          52,
          52,
          52,
          52,
          52,
          52,
          52,
          52,
          52,
          52,
          52,
          52,
          52,
          52,
          52,
          52,
          52,
          52,
          52,
          52,
          52,
          52,
          52,
          52
         ],
         "yaxis": "y4"
        },
        {
         "line": {
          "color": "green",
          "dash": "dot"
         },
         "mode": "lines",
         "name": "97.5<sup>th</sup> percentile",
         "showlegend": false,
         "type": "scatter",
         "x": [
          0.1,
          0.2,
          0.30000000000000004,
          0.4,
          0.5,
          0.6,
          0.7000000000000001,
          0.8,
          0.9,
          1,
          1.1,
          1.2000000000000002,
          1.3000000000000003,
          1.4000000000000001,
          1.5000000000000002,
          1.6,
          1.7000000000000002,
          1.8000000000000003,
          1.9000000000000001,
          2,
          2.1,
          2.2,
          2.3000000000000003,
          2.4000000000000004
         ],
         "xaxis": "x4",
         "y": [
          52,
          52,
          52,
          52,
          52,
          52,
          52,
          52,
          52,
          52,
          52,
          52,
          52,
          52,
          52,
          52,
          52,
          52,
          52,
          52,
          52,
          52,
          52,
          52
         ],
         "yaxis": "y4"
        },
        {
         "line": {
          "color": "grey"
         },
         "mode": "lines",
         "name": "Mean",
         "showlegend": false,
         "type": "scatter",
         "x": [
          0.1,
          0.2,
          0.30000000000000004,
          0.4,
          0.5,
          0.6,
          0.7000000000000001,
          0.8,
          0.9,
          1,
          1.1,
          1.2000000000000002,
          1.3000000000000003,
          1.4000000000000001,
          1.5000000000000002,
          1.6,
          1.7000000000000002,
          1.8000000000000003,
          1.9000000000000001,
          2,
          2.1,
          2.2,
          2.3000000000000003,
          2.4000000000000004
         ],
         "xaxis": "x5",
         "y": [
          30,
          29,
          27,
          25,
          24,
          22,
          21,
          19,
          19,
          18,
          18,
          15,
          15,
          14,
          10,
          10,
          10,
          10,
          10,
          10,
          9,
          9,
          9,
          9
         ],
         "yaxis": "y5"
        },
        {
         "line": {
          "color": "orange",
          "dash": "dot"
         },
         "mode": "lines",
         "name": "2.5<sup>th</sup> percentile",
         "showlegend": false,
         "type": "scatter",
         "x": [
          0.1,
          0.2,
          0.30000000000000004,
          0.4,
          0.5,
          0.6,
          0.7000000000000001,
          0.8,
          0.9,
          1,
          1.1,
          1.2000000000000002,
          1.3000000000000003,
          1.4000000000000001,
          1.5000000000000002,
          1.6,
          1.7000000000000002,
          1.8000000000000003,
          1.9000000000000001,
          2,
          2.1,
          2.2,
          2.3000000000000003,
          2.4000000000000004
         ],
         "xaxis": "x5",
         "y": [
          29,
          27,
          24,
          21,
          19,
          18,
          10,
          10,
          10,
          9,
          9,
          9,
          9,
          null,
          null,
          null,
          null,
          null,
          null,
          null,
          null,
          null,
          null,
          null
         ],
         "yaxis": "y5"
        },
        {
         "line": {
          "color": "green",
          "dash": "dot"
         },
         "mode": "lines",
         "name": "97.5<sup>th</sup> percentile",
         "showlegend": false,
         "type": "scatter",
         "x": [
          0.1,
          0.2,
          0.30000000000000004,
          0.4,
          0.5,
          0.6,
          0.7000000000000001,
          0.8,
          0.9,
          1,
          1.1,
          1.2000000000000002,
          1.3000000000000003,
          1.4000000000000001,
          1.5000000000000002,
          1.6,
          1.7000000000000002,
          1.8000000000000003,
          1.9000000000000001,
          2,
          2.1,
          2.2,
          2.3000000000000003,
          2.4000000000000004
         ],
         "xaxis": "x5",
         "y": [
          34,
          30,
          29,
          28,
          26,
          25,
          24,
          23,
          22,
          21,
          21,
          19,
          19,
          19,
          18,
          18,
          18,
          16,
          15,
          15,
          15,
          14,
          14,
          14
         ],
         "yaxis": "y5"
        },
        {
         "line": {
          "color": "grey"
         },
         "mode": "lines",
         "name": "Mean",
         "showlegend": false,
         "type": "scatter",
         "x": [
          0.1,
          0.2,
          0.30000000000000004,
          0.4,
          0.5,
          0.6,
          0.7000000000000001,
          0.8,
          0.9,
          1,
          1.1,
          1.2000000000000002,
          1.3000000000000003,
          1.4000000000000001,
          1.5000000000000002,
          1.6,
          1.7000000000000002,
          1.8000000000000003,
          1.9000000000000001,
          2,
          2.1,
          2.2,
          2.3000000000000003,
          2.4000000000000004
         ],
         "xaxis": "x6",
         "y": [
          32,
          31,
          31,
          30,
          30,
          29,
          29,
          29,
          28,
          28,
          28,
          26,
          26,
          25,
          24,
          15,
          15,
          15,
          15,
          15,
          15,
          15,
          15,
          14
         ],
         "yaxis": "y6"
        },
        {
         "line": {
          "color": "orange",
          "dash": "dot"
         },
         "mode": "lines",
         "name": "2.5<sup>th</sup> percentile",
         "showlegend": false,
         "type": "scatter",
         "x": [
          0.1,
          0.2,
          0.30000000000000004,
          0.4,
          0.5,
          0.6,
          0.7000000000000001,
          0.8,
          0.9,
          1,
          1.1,
          1.2000000000000002,
          1.3000000000000003,
          1.4000000000000001,
          1.5000000000000002,
          1.6,
          1.7000000000000002,
          1.8000000000000003,
          1.9000000000000001,
          2,
          2.1,
          2.2,
          2.3000000000000003,
          2.4000000000000004
         ],
         "xaxis": "x6",
         "y": [
          31,
          30,
          29,
          29,
          29,
          28,
          28,
          26,
          26,
          25,
          15,
          14,
          14,
          14,
          14,
          13,
          13,
          13,
          null,
          null,
          null,
          null,
          null,
          null
         ],
         "yaxis": "y6"
        },
        {
         "line": {
          "color": "green",
          "dash": "dot"
         },
         "mode": "lines",
         "name": "97.5<sup>th</sup> percentile",
         "showlegend": false,
         "type": "scatter",
         "x": [
          0.1,
          0.2,
          0.30000000000000004,
          0.4,
          0.5,
          0.6,
          0.7000000000000001,
          0.8,
          0.9,
          1,
          1.1,
          1.2000000000000002,
          1.3000000000000003,
          1.4000000000000001,
          1.5000000000000002,
          1.6,
          1.7000000000000002,
          1.8000000000000003,
          1.9000000000000001,
          2,
          2.1,
          2.2,
          2.3000000000000003,
          2.4000000000000004
         ],
         "xaxis": "x6",
         "y": [
          34,
          34,
          32,
          32,
          31,
          31,
          31,
          30,
          30,
          29,
          29,
          29,
          28,
          28,
          28,
          26,
          26,
          26,
          25,
          24,
          19,
          16,
          16,
          16
         ],
         "yaxis": "y6"
        },
        {
         "line": {
          "color": "grey"
         },
         "mode": "lines",
         "name": "Mean",
         "showlegend": false,
         "type": "scatter",
         "x": [
          0.1,
          0.2,
          0.30000000000000004,
          0.4,
          0.5,
          0.6,
          0.7000000000000001,
          0.8,
          0.9,
          1,
          1.1,
          1.2000000000000002,
          1.3000000000000003,
          1.4000000000000001,
          1.5000000000000002,
          1.6,
          1.7000000000000002,
          1.8000000000000003,
          1.9000000000000001,
          2,
          2.1,
          2.2,
          2.3000000000000003,
          2.4000000000000004
         ],
         "xaxis": "x7",
         "y": [
          1,
          1,
          1,
          1,
          0.9545454545454546,
          0.9318181818181818,
          0.8181818181818182,
          0.7727272727272727,
          0.75,
          0.75,
          0.6590909090909091,
          0.6590909090909091,
          0.5681818181818182,
          0.5227272727272727,
          0.4772727272727273,
          0.4318181818181818,
          0.38636363636363635,
          0.3409090909090909,
          0.29545454545454547,
          0.25,
          0.18181818181818182,
          0.1590909090909091,
          0.1590909090909091,
          0.13636363636363635
         ],
         "yaxis": "y7"
        },
        {
         "line": {
          "color": "orange",
          "dash": "dot"
         },
         "mode": "lines",
         "name": "2.5<sup>th</sup> percentile",
         "showlegend": false,
         "type": "scatter",
         "x": [
          0.1,
          0.2,
          0.30000000000000004,
          0.4,
          0.5,
          0.6,
          0.7000000000000001,
          0.8,
          0.9,
          1,
          1.1,
          1.2000000000000002,
          1.3000000000000003,
          1.4000000000000001,
          1.5000000000000002,
          1.6,
          1.7000000000000002,
          1.8000000000000003,
          1.9000000000000001,
          2,
          2.1,
          2.2,
          2.3000000000000003,
          2.4000000000000004
         ],
         "xaxis": "x7",
         "y": [
          0.9545454545454546,
          0.9318181818181818,
          0.9318181818181818,
          0.8181818181818182,
          0.7727272727272727,
          0.7272727272727273,
          0.6818181818181818,
          0.5909090909090909,
          0.5681818181818182,
          0.5,
          0.4772727272727273,
          0.45454545454545453,
          0.38636363636363635,
          0.3409090909090909,
          0.25,
          0.20454545454545456,
          0.1590909090909091,
          0.1590909090909091,
          0.13636363636363635,
          0.13636363636363635,
          0.13636363636363635,
          0.13636363636363635,
          0.11363636363636363,
          0.11363636363636363
         ],
         "yaxis": "y7"
        },
        {
         "line": {
          "color": "green",
          "dash": "dot"
         },
         "mode": "lines",
         "name": "97.5<sup>th</sup> percentile",
         "showlegend": false,
         "type": "scatter",
         "x": [
          0.1,
          0.2,
          0.30000000000000004,
          0.4,
          0.5,
          0.6,
          0.7000000000000001,
          0.8,
          0.9,
          1,
          1.1,
          1.2000000000000002,
          1.3000000000000003,
          1.4000000000000001,
          1.5000000000000002,
          1.6,
          1.7000000000000002,
          1.8000000000000003,
          1.9000000000000001,
          2,
          2.1,
          2.2,
          2.3000000000000003,
          2.4000000000000004
         ],
         "xaxis": "x7",
         "y": [
          1,
          1,
          1,
          1,
          1,
          1,
          1,
          1,
          0.9545454545454546,
          0.9090909090909091,
          0.8636363636363636,
          0.7954545454545454,
          0.75,
          0.7272727272727273,
          0.7272727272727273,
          0.6818181818181818,
          0.6363636363636364,
          0.5681818181818182,
          0.5454545454545454,
          0.5,
          0.45454545454545453,
          0.4090909090909091,
          0.3181818181818182,
          0.29545454545454547
         ],
         "yaxis": "y7"
        },
        {
         "line": {
          "color": "grey"
         },
         "mode": "lines",
         "name": "Mean",
         "showlegend": false,
         "type": "scatter",
         "x": [
          0.1,
          0.2,
          0.30000000000000004,
          0.4,
          0.5,
          0.6,
          0.7000000000000001,
          0.8,
          0.9,
          1,
          1.1,
          1.2000000000000002,
          1.3000000000000003,
          1.4000000000000001,
          1.5000000000000002,
          1.6,
          1.7000000000000002,
          1.8000000000000003,
          1.9000000000000001,
          2,
          2.1,
          2.2,
          2.3000000000000003,
          2.4000000000000004
         ],
         "xaxis": "x8",
         "y": [
          0.6111111111111112,
          0.5833333333333334,
          0.5277777777777778,
          0.4722222222222222,
          0.4444444444444444,
          0.3888888888888889,
          0.3611111111111111,
          0.3055555555555556,
          0.3055555555555556,
          0.25,
          0.25,
          0.16666666666666666,
          0.1388888888888889,
          0.08333333333333333,
          0.05555555555555555,
          0.05555555555555555,
          0.05555555555555555,
          0.05555555555555555,
          0.05555555555555555,
          0.05555555555555555,
          0.027777777777777776,
          0.027777777777777776,
          0.027777777777777776,
          0.027777777777777776
         ],
         "yaxis": "y8"
        },
        {
         "line": {
          "color": "orange",
          "dash": "dot"
         },
         "mode": "lines",
         "name": "2.5<sup>th</sup> percentile",
         "showlegend": false,
         "type": "scatter",
         "x": [
          0.1,
          0.2,
          0.30000000000000004,
          0.4,
          0.5,
          0.6,
          0.7000000000000001,
          0.8,
          0.9,
          1,
          1.1,
          1.2000000000000002,
          1.3000000000000003,
          1.4000000000000001,
          1.5000000000000002,
          1.6,
          1.7000000000000002,
          1.8000000000000003,
          1.9000000000000001,
          2,
          2.1,
          2.2,
          2.3000000000000003,
          2.4000000000000004
         ],
         "xaxis": "x8",
         "y": [
          0.5833333333333334,
          0.5277777777777778,
          0.4444444444444444,
          0.25,
          0.19444444444444445,
          0.1388888888888889,
          0.05555555555555555,
          0.05555555555555555,
          0.05555555555555555,
          0.027777777777777776,
          0.027777777777777776,
          0.027777777777777776,
          0.027777777777777776,
          0,
          0,
          0,
          0,
          0,
          0,
          0,
          0,
          0,
          0,
          0
         ],
         "yaxis": "y8"
        },
        {
         "line": {
          "color": "green",
          "dash": "dot"
         },
         "mode": "lines",
         "name": "97.5<sup>th</sup> percentile",
         "showlegend": false,
         "type": "scatter",
         "x": [
          0.1,
          0.2,
          0.30000000000000004,
          0.4,
          0.5,
          0.6,
          0.7000000000000001,
          0.8,
          0.9,
          1,
          1.1,
          1.2000000000000002,
          1.3000000000000003,
          1.4000000000000001,
          1.5000000000000002,
          1.6,
          1.7000000000000002,
          1.8000000000000003,
          1.9000000000000001,
          2,
          2.1,
          2.2,
          2.3000000000000003,
          2.4000000000000004
         ],
         "xaxis": "x8",
         "y": [
          0.7222222222222222,
          0.6111111111111112,
          0.5833333333333334,
          0.5555555555555556,
          0.5,
          0.4722222222222222,
          0.4444444444444444,
          0.4166666666666667,
          0.3888888888888889,
          0.3611111111111111,
          0.3611111111111111,
          0.3055555555555556,
          0.3055555555555556,
          0.3055555555555556,
          0.2777777777777778,
          0.2777777777777778,
          0.25,
          0.2222222222222222,
          0.19444444444444445,
          0.19444444444444445,
          0.19444444444444445,
          0.1388888888888889,
          0.1388888888888889,
          0.1111111111111111
         ],
         "yaxis": "y8"
        },
        {
         "line": {
          "color": "grey"
         },
         "mode": "lines",
         "name": "Mean",
         "showlegend": false,
         "type": "scatter",
         "x": [
          0.1,
          0.2,
          0.30000000000000004,
          0.4,
          0.5,
          0.6,
          0.7000000000000001,
          0.8,
          0.9,
          1,
          1.1,
          1.2000000000000002,
          1.3000000000000003,
          1.4000000000000001,
          1.5000000000000002,
          1.6,
          1.7000000000000002,
          1.8000000000000003,
          1.9000000000000001,
          2,
          2.1,
          2.2,
          2.3000000000000003,
          2.4000000000000004
         ],
         "xaxis": "x9",
         "y": [
          0.6486486486486487,
          0.6216216216216216,
          0.6216216216216216,
          0.5945945945945946,
          0.5945945945945946,
          0.5675675675675675,
          0.5675675675675675,
          0.5675675675675675,
          0.4864864864864865,
          0.4594594594594595,
          0.43243243243243246,
          0.35135135135135137,
          0.32432432432432434,
          0.24324324324324326,
          0.16216216216216217,
          0.10810810810810811,
          0.10810810810810811,
          0.10810810810810811,
          0.08108108108108109,
          0.08108108108108109,
          0.08108108108108109,
          0.08108108108108109,
          0.08108108108108109,
          0.05405405405405406
         ],
         "yaxis": "y9"
        },
        {
         "line": {
          "color": "orange",
          "dash": "dot"
         },
         "mode": "lines",
         "name": "2.5<sup>th</sup> percentile",
         "showlegend": false,
         "type": "scatter",
         "x": [
          0.1,
          0.2,
          0.30000000000000004,
          0.4,
          0.5,
          0.6,
          0.7000000000000001,
          0.8,
          0.9,
          1,
          1.1,
          1.2000000000000002,
          1.3000000000000003,
          1.4000000000000001,
          1.5000000000000002,
          1.6,
          1.7000000000000002,
          1.8000000000000003,
          1.9000000000000001,
          2,
          2.1,
          2.2,
          2.3000000000000003,
          2.4000000000000004
         ],
         "xaxis": "x9",
         "y": [
          0.6216216216216216,
          0.5675675675675675,
          0.5405405405405406,
          0.43243243243243246,
          0.40540540540540543,
          0.32432432432432434,
          0.2702702702702703,
          0.1891891891891892,
          0.1891891891891892,
          0.16216216216216217,
          0.08108108108108109,
          0.05405405405405406,
          0.05405405405405406,
          0.05405405405405406,
          0.05405405405405406,
          0.02702702702702703,
          0.02702702702702703,
          0.02702702702702703,
          0,
          0,
          0,
          0,
          0,
          0
         ],
         "yaxis": "y9"
        },
        {
         "line": {
          "color": "green",
          "dash": "dot"
         },
         "mode": "lines",
         "name": "97.5<sup>th</sup> percentile",
         "showlegend": false,
         "type": "scatter",
         "x": [
          0.1,
          0.2,
          0.30000000000000004,
          0.4,
          0.5,
          0.6,
          0.7000000000000001,
          0.8,
          0.9,
          1,
          1.1,
          1.2000000000000002,
          1.3000000000000003,
          1.4000000000000001,
          1.5000000000000002,
          1.6,
          1.7000000000000002,
          1.8000000000000003,
          1.9000000000000001,
          2,
          2.1,
          2.2,
          2.3000000000000003,
          2.4000000000000004
         ],
         "xaxis": "x9",
         "y": [
          0.7027027027027027,
          0.7027027027027027,
          0.6486486486486487,
          0.6486486486486487,
          0.6216216216216216,
          0.6216216216216216,
          0.6216216216216216,
          0.5945945945945946,
          0.5945945945945946,
          0.5675675675675675,
          0.5675675675675675,
          0.5675675675675675,
          0.5405405405405406,
          0.5135135135135135,
          0.4864864864864865,
          0.43243243243243246,
          0.40540540540540543,
          0.40540540540540543,
          0.3783783783783784,
          0.35135135135135137,
          0.2972972972972973,
          0.21621621621621623,
          0.21621621621621623,
          0.21621621621621623
         ],
         "yaxis": "y9"
        }
       ],
       "layout": {
        "annotations": [
         {
          "font": {
           "size": 16
          },
          "showarrow": false,
          "text": "Ontario",
          "x": 0.14444444444444446,
          "xanchor": "center",
          "xref": "paper",
          "y": 1,
          "yanchor": "bottom",
          "yref": "paper"
         },
         {
          "font": {
           "size": 16
          },
          "showarrow": false,
          "text": "New South Wales",
          "x": 0.5,
          "xanchor": "center",
          "xref": "paper",
          "y": 1,
          "yanchor": "bottom",
          "yref": "paper"
         },
         {
          "font": {
           "size": 16
          },
          "showarrow": false,
          "text": "Victoria",
          "x": 0.8555555555555556,
          "xanchor": "center",
          "xref": "paper",
          "y": 1,
          "yanchor": "bottom",
          "yref": "paper"
         }
        ],
        "height": 800,
        "legend": {
         "orientation": "h",
         "x": 1,
         "xanchor": "right",
         "y": 1.075,
         "yanchor": "bottom"
        },
        "plot_bgcolor": "white",
        "template": {
         "data": {
          "bar": [
           {
            "error_x": {
             "color": "#2a3f5f"
            },
            "error_y": {
             "color": "#2a3f5f"
            },
            "marker": {
             "line": {
              "color": "#E5ECF6",
              "width": 0.5
             }
            },
            "type": "bar"
           }
          ],
          "barpolar": [
           {
            "marker": {
             "line": {
              "color": "#E5ECF6",
              "width": 0.5
             }
            },
            "type": "barpolar"
           }
          ],
          "carpet": [
           {
            "aaxis": {
             "endlinecolor": "#2a3f5f",
             "gridcolor": "white",
             "linecolor": "white",
             "minorgridcolor": "white",
             "startlinecolor": "#2a3f5f"
            },
            "baxis": {
             "endlinecolor": "#2a3f5f",
             "gridcolor": "white",
             "linecolor": "white",
             "minorgridcolor": "white",
             "startlinecolor": "#2a3f5f"
            },
            "type": "carpet"
           }
          ],
          "choropleth": [
           {
            "colorbar": {
             "outlinewidth": 0,
             "ticks": ""
            },
            "type": "choropleth"
           }
          ],
          "contour": [
           {
            "colorbar": {
             "outlinewidth": 0,
             "ticks": ""
            },
            "colorscale": [
             [
              0,
              "#0d0887"
             ],
             [
              0.1111111111111111,
              "#46039f"
             ],
             [
              0.2222222222222222,
              "#7201a8"
             ],
             [
              0.3333333333333333,
              "#9c179e"
             ],
             [
              0.4444444444444444,
              "#bd3786"
             ],
             [
              0.5555555555555556,
              "#d8576b"
             ],
             [
              0.6666666666666666,
              "#ed7953"
             ],
             [
              0.7777777777777778,
              "#fb9f3a"
             ],
             [
              0.8888888888888888,
              "#fdca26"
             ],
             [
              1,
              "#f0f921"
             ]
            ],
            "type": "contour"
           }
          ],
          "contourcarpet": [
           {
            "colorbar": {
             "outlinewidth": 0,
             "ticks": ""
            },
            "type": "contourcarpet"
           }
          ],
          "heatmap": [
           {
            "colorbar": {
             "outlinewidth": 0,
             "ticks": ""
            },
            "colorscale": [
             [
              0,
              "#0d0887"
             ],
             [
              0.1111111111111111,
              "#46039f"
             ],
             [
              0.2222222222222222,
              "#7201a8"
             ],
             [
              0.3333333333333333,
              "#9c179e"
             ],
             [
              0.4444444444444444,
              "#bd3786"
             ],
             [
              0.5555555555555556,
              "#d8576b"
             ],
             [
              0.6666666666666666,
              "#ed7953"
             ],
             [
              0.7777777777777778,
              "#fb9f3a"
             ],
             [
              0.8888888888888888,
              "#fdca26"
             ],
             [
              1,
              "#f0f921"
             ]
            ],
            "type": "heatmap"
           }
          ],
          "heatmapgl": [
           {
            "colorbar": {
             "outlinewidth": 0,
             "ticks": ""
            },
            "colorscale": [
             [
              0,
              "#0d0887"
             ],
             [
              0.1111111111111111,
              "#46039f"
             ],
             [
              0.2222222222222222,
              "#7201a8"
             ],
             [
              0.3333333333333333,
              "#9c179e"
             ],
             [
              0.4444444444444444,
              "#bd3786"
             ],
             [
              0.5555555555555556,
              "#d8576b"
             ],
             [
              0.6666666666666666,
              "#ed7953"
             ],
             [
              0.7777777777777778,
              "#fb9f3a"
             ],
             [
              0.8888888888888888,
              "#fdca26"
             ],
             [
              1,
              "#f0f921"
             ]
            ],
            "type": "heatmapgl"
           }
          ],
          "histogram": [
           {
            "marker": {
             "colorbar": {
              "outlinewidth": 0,
              "ticks": ""
             }
            },
            "type": "histogram"
           }
          ],
          "histogram2d": [
           {
            "colorbar": {
             "outlinewidth": 0,
             "ticks": ""
            },
            "colorscale": [
             [
              0,
              "#0d0887"
             ],
             [
              0.1111111111111111,
              "#46039f"
             ],
             [
              0.2222222222222222,
              "#7201a8"
             ],
             [
              0.3333333333333333,
              "#9c179e"
             ],
             [
              0.4444444444444444,
              "#bd3786"
             ],
             [
              0.5555555555555556,
              "#d8576b"
             ],
             [
              0.6666666666666666,
              "#ed7953"
             ],
             [
              0.7777777777777778,
              "#fb9f3a"
             ],
             [
              0.8888888888888888,
              "#fdca26"
             ],
             [
              1,
              "#f0f921"
             ]
            ],
            "type": "histogram2d"
           }
          ],
          "histogram2dcontour": [
           {
            "colorbar": {
             "outlinewidth": 0,
             "ticks": ""
            },
            "colorscale": [
             [
              0,
              "#0d0887"
             ],
             [
              0.1111111111111111,
              "#46039f"
             ],
             [
              0.2222222222222222,
              "#7201a8"
             ],
             [
              0.3333333333333333,
              "#9c179e"
             ],
             [
              0.4444444444444444,
              "#bd3786"
             ],
             [
              0.5555555555555556,
              "#d8576b"
             ],
             [
              0.6666666666666666,
              "#ed7953"
             ],
             [
              0.7777777777777778,
              "#fb9f3a"
             ],
             [
              0.8888888888888888,
              "#fdca26"
             ],
             [
              1,
              "#f0f921"
             ]
            ],
            "type": "histogram2dcontour"
           }
          ],
          "mesh3d": [
           {
            "colorbar": {
             "outlinewidth": 0,
             "ticks": ""
            },
            "type": "mesh3d"
           }
          ],
          "parcoords": [
           {
            "line": {
             "colorbar": {
              "outlinewidth": 0,
              "ticks": ""
             }
            },
            "type": "parcoords"
           }
          ],
          "pie": [
           {
            "automargin": true,
            "type": "pie"
           }
          ],
          "scatter": [
           {
            "marker": {
             "colorbar": {
              "outlinewidth": 0,
              "ticks": ""
             }
            },
            "type": "scatter"
           }
          ],
          "scatter3d": [
           {
            "line": {
             "colorbar": {
              "outlinewidth": 0,
              "ticks": ""
             }
            },
            "marker": {
             "colorbar": {
              "outlinewidth": 0,
              "ticks": ""
             }
            },
            "type": "scatter3d"
           }
          ],
          "scattercarpet": [
           {
            "marker": {
             "colorbar": {
              "outlinewidth": 0,
              "ticks": ""
             }
            },
            "type": "scattercarpet"
           }
          ],
          "scattergeo": [
           {
            "marker": {
             "colorbar": {
              "outlinewidth": 0,
              "ticks": ""
             }
            },
            "type": "scattergeo"
           }
          ],
          "scattergl": [
           {
            "marker": {
             "colorbar": {
              "outlinewidth": 0,
              "ticks": ""
             }
            },
            "type": "scattergl"
           }
          ],
          "scattermapbox": [
           {
            "marker": {
             "colorbar": {
              "outlinewidth": 0,
              "ticks": ""
             }
            },
            "type": "scattermapbox"
           }
          ],
          "scatterpolar": [
           {
            "marker": {
             "colorbar": {
              "outlinewidth": 0,
              "ticks": ""
             }
            },
            "type": "scatterpolar"
           }
          ],
          "scatterpolargl": [
           {
            "marker": {
             "colorbar": {
              "outlinewidth": 0,
              "ticks": ""
             }
            },
            "type": "scatterpolargl"
           }
          ],
          "scatterternary": [
           {
            "marker": {
             "colorbar": {
              "outlinewidth": 0,
              "ticks": ""
             }
            },
            "type": "scatterternary"
           }
          ],
          "surface": [
           {
            "colorbar": {
             "outlinewidth": 0,
             "ticks": ""
            },
            "colorscale": [
             [
              0,
              "#0d0887"
             ],
             [
              0.1111111111111111,
              "#46039f"
             ],
             [
              0.2222222222222222,
              "#7201a8"
             ],
             [
              0.3333333333333333,
              "#9c179e"
             ],
             [
              0.4444444444444444,
              "#bd3786"
             ],
             [
              0.5555555555555556,
              "#d8576b"
             ],
             [
              0.6666666666666666,
              "#ed7953"
             ],
             [
              0.7777777777777778,
              "#fb9f3a"
             ],
             [
              0.8888888888888888,
              "#fdca26"
             ],
             [
              1,
              "#f0f921"
             ]
            ],
            "type": "surface"
           }
          ],
          "table": [
           {
            "cells": {
             "fill": {
              "color": "#EBF0F8"
             },
             "line": {
              "color": "white"
             }
            },
            "header": {
             "fill": {
              "color": "#C8D4E3"
             },
             "line": {
              "color": "white"
             }
            },
            "type": "table"
           }
          ]
         },
         "layout": {
          "annotationdefaults": {
           "arrowcolor": "#2a3f5f",
           "arrowhead": 0,
           "arrowwidth": 1
          },
          "autotypenumbers": "strict",
          "coloraxis": {
           "colorbar": {
            "outlinewidth": 0,
            "ticks": ""
           }
          },
          "colorscale": {
           "diverging": [
            [
             0,
             "#8e0152"
            ],
            [
             0.1,
             "#c51b7d"
            ],
            [
             0.2,
             "#de77ae"
            ],
            [
             0.3,
             "#f1b6da"
            ],
            [
             0.4,
             "#fde0ef"
            ],
            [
             0.5,
             "#f7f7f7"
            ],
            [
             0.6,
             "#e6f5d0"
            ],
            [
             0.7,
             "#b8e186"
            ],
            [
             0.8,
             "#7fbc41"
            ],
            [
             0.9,
             "#4d9221"
            ],
            [
             1,
             "#276419"
            ]
           ],
           "sequential": [
            [
             0,
             "#0d0887"
            ],
            [
             0.1111111111111111,
             "#46039f"
            ],
            [
             0.2222222222222222,
             "#7201a8"
            ],
            [
             0.3333333333333333,
             "#9c179e"
            ],
            [
             0.4444444444444444,
             "#bd3786"
            ],
            [
             0.5555555555555556,
             "#d8576b"
            ],
            [
             0.6666666666666666,
             "#ed7953"
            ],
            [
             0.7777777777777778,
             "#fb9f3a"
            ],
            [
             0.8888888888888888,
             "#fdca26"
            ],
            [
             1,
             "#f0f921"
            ]
           ],
           "sequentialminus": [
            [
             0,
             "#0d0887"
            ],
            [
             0.1111111111111111,
             "#46039f"
            ],
            [
             0.2222222222222222,
             "#7201a8"
            ],
            [
             0.3333333333333333,
             "#9c179e"
            ],
            [
             0.4444444444444444,
             "#bd3786"
            ],
            [
             0.5555555555555556,
             "#d8576b"
            ],
            [
             0.6666666666666666,
             "#ed7953"
            ],
            [
             0.7777777777777778,
             "#fb9f3a"
            ],
            [
             0.8888888888888888,
             "#fdca26"
            ],
            [
             1,
             "#f0f921"
            ]
           ]
          },
          "colorway": [
           "#636efa",
           "#EF553B",
           "#00cc96",
           "#ab63fa",
           "#FFA15A",
           "#19d3f3",
           "#FF6692",
           "#B6E880",
           "#FF97FF",
           "#FECB52"
          ],
          "font": {
           "color": "#2a3f5f"
          },
          "geo": {
           "bgcolor": "white",
           "lakecolor": "white",
           "landcolor": "#E5ECF6",
           "showlakes": true,
           "showland": true,
           "subunitcolor": "white"
          },
          "hoverlabel": {
           "align": "left"
          },
          "hovermode": "closest",
          "mapbox": {
           "style": "light"
          },
          "paper_bgcolor": "white",
          "plot_bgcolor": "#E5ECF6",
          "polar": {
           "angularaxis": {
            "gridcolor": "white",
            "linecolor": "white",
            "ticks": ""
           },
           "bgcolor": "#E5ECF6",
           "radialaxis": {
            "gridcolor": "white",
            "linecolor": "white",
            "ticks": ""
           }
          },
          "scene": {
           "xaxis": {
            "backgroundcolor": "#E5ECF6",
            "gridcolor": "white",
            "gridwidth": 2,
            "linecolor": "white",
            "showbackground": true,
            "ticks": "",
            "zerolinecolor": "white"
           },
           "yaxis": {
            "backgroundcolor": "#E5ECF6",
            "gridcolor": "white",
            "gridwidth": 2,
            "linecolor": "white",
            "showbackground": true,
            "ticks": "",
            "zerolinecolor": "white"
           },
           "zaxis": {
            "backgroundcolor": "#E5ECF6",
            "gridcolor": "white",
            "gridwidth": 2,
            "linecolor": "white",
            "showbackground": true,
            "ticks": "",
            "zerolinecolor": "white"
           }
          },
          "shapedefaults": {
           "line": {
            "color": "#2a3f5f"
           }
          },
          "ternary": {
           "aaxis": {
            "gridcolor": "white",
            "linecolor": "white",
            "ticks": ""
           },
           "baxis": {
            "gridcolor": "white",
            "linecolor": "white",
            "ticks": ""
           },
           "bgcolor": "#E5ECF6",
           "caxis": {
            "gridcolor": "white",
            "linecolor": "white",
            "ticks": ""
           }
          },
          "title": {
           "x": 0.05
          },
          "xaxis": {
           "automargin": true,
           "gridcolor": "white",
           "linecolor": "white",
           "ticks": "",
           "title": {
            "standoff": 15
           },
           "zerolinecolor": "white",
           "zerolinewidth": 2
          },
          "yaxis": {
           "automargin": true,
           "gridcolor": "white",
           "linecolor": "white",
           "ticks": "",
           "title": {
            "standoff": 15
           },
           "zerolinecolor": "white",
           "zerolinewidth": 2
          }
         }
        },
        "width": 700,
        "xaxis": {
         "anchor": "y",
         "domain": [
          0,
          0.2888888888888889
         ],
         "linecolor": "black",
         "title": {
          "text": "ϵ"
         }
        },
        "xaxis2": {
         "anchor": "y2",
         "domain": [
          0.35555555555555557,
          0.6444444444444445
         ],
         "linecolor": "black",
         "title": {
          "text": "ϵ"
         }
        },
        "xaxis3": {
         "anchor": "y3",
         "domain": [
          0.7111111111111111,
          1
         ],
         "linecolor": "black",
         "title": {
          "text": "ϵ"
         }
        },
        "xaxis4": {
         "anchor": "y4",
         "domain": [
          0,
          0.2888888888888889
         ],
         "linecolor": "black",
         "title": {
          "text": "ϵ"
         }
        },
        "xaxis5": {
         "anchor": "y5",
         "domain": [
          0.35555555555555557,
          0.6444444444444445
         ],
         "linecolor": "black",
         "title": {
          "text": "ϵ"
         }
        },
        "xaxis6": {
         "anchor": "y6",
         "domain": [
          0.7111111111111111,
          1
         ],
         "linecolor": "black",
         "title": {
          "text": "ϵ"
         }
        },
        "xaxis7": {
         "anchor": "y7",
         "domain": [
          0,
          0.2888888888888889
         ],
         "linecolor": "black",
         "title": {
          "text": "ϵ"
         }
        },
        "xaxis8": {
         "anchor": "y8",
         "domain": [
          0.35555555555555557,
          0.6444444444444445
         ],
         "linecolor": "black",
         "title": {
          "text": "ϵ"
         }
        },
        "xaxis9": {
         "anchor": "y9",
         "domain": [
          0.7111111111111111,
          1
         ],
         "linecolor": "black",
         "title": {
          "text": "ϵ"
         }
        },
        "yaxis": {
         "anchor": "x",
         "domain": [
          0.7777777777777778,
          1
         ],
         "linecolor": "black",
         "range": [
          0,
          62
         ],
         "ticktext": [
          "Mar 01",
          "Mar 11",
          "Mar 21",
          "Mar 31",
          "Apr 09",
          "Apr 19",
          "Apr 29"
         ],
         "tickvals": [
          1,
          11,
          21,
          31,
          41,
          51,
          61
         ],
         "title": {
          "text": "Last time R<sub>t</sub><sup>local</sup><1"
         }
        },
        "yaxis2": {
         "anchor": "x2",
         "domain": [
          0.7777777777777778,
          1
         ],
         "linecolor": "black",
         "matches": "y",
         "range": [
          0,
          62
         ],
         "showticklabels": false,
         "ticktext": [
          "Mar 01",
          "Mar 11",
          "Mar 21",
          "Mar 31",
          "Apr 09",
          "Apr 19",
          "Apr 29"
         ],
         "tickvals": [
          1,
          11,
          21,
          31,
          41,
          51,
          61
         ]
        },
        "yaxis3": {
         "anchor": "x3",
         "domain": [
          0.7777777777777778,
          1
         ],
         "linecolor": "black",
         "matches": "y",
         "range": [
          0,
          62
         ],
         "showticklabels": false,
         "ticktext": [
          "Mar 01",
          "Mar 11",
          "Mar 21",
          "Mar 31",
          "Apr 09",
          "Apr 19",
          "Apr 29"
         ],
         "tickvals": [
          1,
          11,
          21,
          31,
          41,
          51,
          61
         ]
        },
        "yaxis4": {
         "anchor": "x4",
         "domain": [
          0.3888888888888889,
          0.6111111111111112
         ],
         "linecolor": "black",
         "range": [
          0,
          62
         ],
         "ticktext": [
          "Mar 01",
          "Mar 11",
          "Mar 21",
          "Mar 31",
          "Apr 09",
          "Apr 19",
          "Apr 29"
         ],
         "tickvals": [
          1,
          11,
          21,
          31,
          41,
          51,
          61
         ],
         "title": {
          "text": "Last time R<sub>t</sub><sup>local</sup>>1"
         }
        },
        "yaxis5": {
         "anchor": "x5",
         "domain": [
          0.3888888888888889,
          0.6111111111111112
         ],
         "linecolor": "black",
         "matches": "y4",
         "range": [
          0,
          62
         ],
         "showticklabels": false,
         "ticktext": [
          "Mar 01",
          "Mar 11",
          "Mar 21",
          "Mar 31",
          "Apr 09",
          "Apr 19",
          "Apr 29"
         ],
         "tickvals": [
          1,
          11,
          21,
          31,
          41,
          51,
          61
         ]
        },
        "yaxis6": {
         "anchor": "x6",
         "domain": [
          0.3888888888888889,
          0.6111111111111112
         ],
         "linecolor": "black",
         "matches": "y4",
         "range": [
          0,
          62
         ],
         "showticklabels": false,
         "ticktext": [
          "Mar 01",
          "Mar 11",
          "Mar 21",
          "Mar 31",
          "Apr 09",
          "Apr 19",
          "Apr 29"
         ],
         "tickvals": [
          1,
          11,
          21,
          31,
          41,
          51,
          61
         ]
        },
        "yaxis7": {
         "anchor": "x7",
         "domain": [
          0,
          0.22222222222222224
         ],
         "linecolor": "black",
         "range": [
          0,
          1.2
         ],
         "ticktext": [
          "0",
          "0.2",
          "0.4",
          "0.6",
          "0.8",
          "1"
         ],
         "tickvals": [
          0,
          0.2,
          0.4,
          0.6000000000000001,
          0.8,
          1
         ],
         "title": {
          "text": "Proportion of time R<sub>t</sub><sup>local</sup>>1"
         }
        },
        "yaxis8": {
         "anchor": "x8",
         "domain": [
          0,
          0.22222222222222224
         ],
         "linecolor": "black",
         "matches": "y7",
         "range": [
          0,
          1.2
         ],
         "showticklabels": false,
         "ticktext": [
          "0",
          "0.2",
          "0.4",
          "0.6",
          "0.8",
          "1"
         ],
         "tickvals": [
          0,
          0.2,
          0.4,
          0.6000000000000001,
          0.8,
          1
         ]
        },
        "yaxis9": {
         "anchor": "x9",
         "domain": [
          0,
          0.22222222222222224
         ],
         "linecolor": "black",
         "matches": "y7",
         "range": [
          0,
          1.2
         ],
         "showticklabels": false,
         "ticktext": [
          "0",
          "0.2",
          "0.4",
          "0.6",
          "0.8",
          "1"
         ],
         "tickvals": [
          0,
          0.2,
          0.4,
          0.6000000000000001,
          0.8,
          1
         ]
        }
       }
      }
     },
     "metadata": {}
    }
   ],
   "metadata": {}
  },
  {
   "cell_type": "code",
   "execution_count": 21,
   "source": [
    "from plotly.subplots import make_subplots\n",
    "\n",
    "colours = ['grey', 'orange', 'green']\n",
    "trace_name = ['Date  R<sub>t</sub> threshold met (2020)', 'Proportion of time R<sub>t</sub>>1']\n",
    "\n",
    "new_traces_mean = [\n",
    "    [last_time_r_less_than_1_ON, last_time_r_more_than_1_NSW, last_time_r_more_than_1_VIC],\n",
    "    [proportion_time_r_more_than_1_ON, proportion_time_r_more_than_1_NSW, proportion_time_r_more_than_1_VIC]]\n",
    "\n",
    "new_traces_lower = [\n",
    "    [last_time_r_less_than_1_LowerCI_ON, last_time_r_more_than_1_LowerCI_NSW, last_time_r_more_than_1_LowerCI_VIC],\n",
    "    [proportion_time_r_more_than_1_LowerCI_ON, proportion_time_r_more_than_1_LowerCI_NSW, proportion_time_r_more_than_1_LowerCI_VIC]]\n",
    "\n",
    "new_traces_upper = [\n",
    "    [last_time_r_less_than_1_UpperCI_ON, last_time_r_more_than_1_UpperCI_NSW, last_time_r_more_than_1_UpperCI_VIC],\n",
    "    [proportion_time_r_more_than_1_UpperCI_ON, proportion_time_r_more_than_1_UpperCI_NSW, proportion_time_r_more_than_1_UpperCI_VIC]]\n",
    "\n",
    "fig = go.Figure()\n",
    "fig = make_subplots(rows=2, cols=3, horizontal_spacing = 0.15)\n",
    "\n",
    "# Plot (bar chart cases each day)\n",
    "for row in range(2):\n",
    "    for col in range(3):\n",
    "        if (row != 0) or (col != 0):\n",
    "            # Plot of incidences\n",
    "            fig.add_trace(\n",
    "                go.Scatter(\n",
    "                    x=large_epsilon_range,\n",
    "                    y=new_traces_mean[row][col],\n",
    "                    mode='lines',\n",
    "                    name='Mean',\n",
    "                    showlegend=False,\n",
    "                    line_color=colours[0],\n",
    "                ),\n",
    "                row= row+1,\n",
    "                col= col+1\n",
    "            )\n",
    "\n",
    "            fig.add_trace(\n",
    "                go.Scatter(\n",
    "                    x=large_epsilon_range,\n",
    "                    y=new_traces_lower[row][col],\n",
    "                    mode='lines',\n",
    "                    name='2.5<sup>th</sup> percentile',\n",
    "                    showlegend=False,\n",
    "                    line_color=colours[1],\n",
    "                    line={'dash': 'dot'}\n",
    "                ),\n",
    "                row= row+1,\n",
    "                col= col+1\n",
    "            )\n",
    "\n",
    "            fig.add_trace(\n",
    "                go.Scatter(\n",
    "                    x=large_epsilon_range,\n",
    "                    y=new_traces_upper[row][col],\n",
    "                    mode='lines',\n",
    "                    name='97.5<sup>th</sup> percentile',\n",
    "                    showlegend=False,\n",
    "                    line_color=colours[2],\n",
    "                    line={'dash': 'dot'}\n",
    "                ),\n",
    "                row= row+1,\n",
    "                col= col+1\n",
    "            )\n",
    "\n",
    "            fig.update_xaxes(\n",
    "                row=row+1, col=col+1, title_text='Relative transmissibility of<br>imported cases (ϵ)',\n",
    "                ticks='inside', tickcolor='black', ticklen=5)\n",
    "            fig.update_yaxes(ticks='outside', tickcolor='black', ticklen=7.5, title_text=trace_name[row], row=row+1, col=col+1)\n",
    "        \n",
    "        else:\n",
    "            fig.add_trace(\n",
    "                go.Scatter(\n",
    "                    x=large_epsilon_range,\n",
    "                    y=new_traces_mean[row][col],\n",
    "                    mode='lines',\n",
    "                    name='Mean',\n",
    "                    line_color=colours[0]\n",
    "                ),\n",
    "                row= row+1,\n",
    "                col= col+1\n",
    "            )\n",
    "\n",
    "            fig.add_trace(\n",
    "                go.Scatter(\n",
    "                    x=large_epsilon_range,\n",
    "                    y=new_traces_lower[row][col],\n",
    "                    mode='lines',\n",
    "                    name='2.5<sup>th</sup> percentile',\n",
    "                    line_color=colours[1],\n",
    "                    line={'dash': 'dot'}\n",
    "                ),\n",
    "                row= row+1,\n",
    "                col= col+1\n",
    "            )\n",
    "\n",
    "            fig.add_trace(\n",
    "                go.Scatter(\n",
    "                    x=large_epsilon_range,\n",
    "                    y=new_traces_upper[row][col],\n",
    "                    mode='lines',\n",
    "                    name='97.5<sup>th</sup> percentile',\n",
    "                    line_color=colours[2],\n",
    "                    line={'dash': 'dot'}\n",
    "                ),\n",
    "                row= row+1,\n",
    "                col= col+1\n",
    "            )\n",
    "\n",
    "            fig.update_xaxes(\n",
    "                row=row+1, col=col+1, title_text='Relative transmissibility of<br>imported cases (ϵ)',\n",
    "                ticks='inside', tickcolor='black', ticklen=5)\n",
    "            fig.update_yaxes(ticks='outside', tickcolor='black', ticklen=7.5, title_text=trace_name[row], row=row+1, col=col+1)\n",
    "\n",
    "\n",
    "# Add axis labels\n",
    "fig.update_layout(\n",
    "    width=1000, \n",
    "    height=650,\n",
    "    plot_bgcolor='white',\n",
    "    xaxis=dict(linecolor='black'),\n",
    "    yaxis=dict(\n",
    "        linecolor='black',\n",
    "        range=[0, 62],\n",
    "        tickvals=np.arange(1, 62, 10).tolist(),\n",
    "        ticktext=['Mar 01', 'Mar 11', 'Mar 21', 'Mar 31', 'Apr 09', 'Apr 19', 'Apr 29']),\n",
    "    xaxis2=dict(linecolor='black'),\n",
    "    yaxis2=dict(\n",
    "        linecolor='black',\n",
    "        range=[0, 62],\n",
    "        tickvals=np.arange(1, 62, 10).tolist(),\n",
    "        ticktext=['Mar 01', 'Mar 11', 'Mar 21', 'Mar 31', 'Apr 09', 'Apr 19', 'Apr 29']),\n",
    "    xaxis3=dict(linecolor='black'),\n",
    "    yaxis3=dict(\n",
    "        linecolor='black',\n",
    "        range=[0, 62],\n",
    "        tickvals=np.arange(1, 62, 10).tolist(),\n",
    "        ticktext=['Mar 01', 'Mar 11', 'Mar 21', 'Mar 31', 'Apr 09', 'Apr 19', 'Apr 29']),\n",
    "    xaxis4=dict(linecolor='black'),\n",
    "    yaxis4=dict(\n",
    "        linecolor='black',\n",
    "        range=[0, 1.2],\n",
    "        tickvals=np.arange(0, 1.1, 0.2).tolist(),\n",
    "        ticktext=['0', '0.2', '0.4', '0.6', '0.8', '1']),\n",
    "    xaxis5=dict(linecolor='black'),\n",
    "    yaxis5=dict(\n",
    "        linecolor='black',\n",
    "        range=[0, 1.2],\n",
    "        tickvals=np.arange(0, 1.1, 0.2).tolist(),\n",
    "        ticktext=['0', '0.2', '0.4', '0.6', '0.8', '1']),\n",
    "    xaxis6=dict(linecolor='black'),\n",
    "    yaxis6=dict(\n",
    "        linecolor='black',\n",
    "        range=[0, 1.2],\n",
    "        tickvals=np.arange(0, 1.1, 0.2).tolist(),\n",
    "        ticktext=['0', '0.2', '0.4', '0.6', '0.8', '1']),\n",
    "    legend=dict(\n",
    "        orientation='h',\n",
    "        yanchor=\"bottom\",\n",
    "        y=1.075,\n",
    "        xanchor=\"right\",\n",
    "        x=1),\n",
    "    font_family=\"DejaVu Sans\",\n",
    "    font_color='black',\n",
    "    title_font_family=\"DejaVu Sans\",\n",
    "    title_font_color=\"black\",\n",
    "    legend_title_font_color=\"black\"\n",
    "    )\n",
    "\n",
    "fig.write_image('Figure-3b.pdf')\n",
    "fig.show()"
   ],
   "outputs": [
    {
     "output_type": "display_data",
     "data": {
      "application/vnd.plotly.v1+json": {
       "config": {
        "plotlyServerURL": "https://plot.ly"
       },
       "data": [
        {
         "line": {
          "color": "grey"
         },
         "mode": "lines",
         "name": "Mean",
         "type": "scatter",
         "x": [
          0.1,
          0.2,
          0.30000000000000004,
          0.4,
          0.5,
          0.6,
          0.7000000000000001,
          0.8,
          0.9,
          1,
          1.1,
          1.2000000000000002,
          1.3000000000000003,
          1.4000000000000001,
          1.5000000000000002,
          1.6,
          1.7000000000000002,
          1.8000000000000003,
          1.9000000000000001,
          2,
          2.1,
          2.2,
          2.3000000000000003,
          2.4000000000000004
         ],
         "xaxis": "x",
         "y": [
          null,
          null,
          null,
          null,
          10,
          19,
          20,
          22,
          23,
          23,
          42,
          42,
          43,
          43,
          43,
          43,
          44,
          44,
          44,
          44,
          45,
          45,
          45,
          46
         ],
         "yaxis": "y"
        },
        {
         "line": {
          "color": "orange",
          "dash": "dot"
         },
         "mode": "lines",
         "name": "2.5<sup>th</sup> percentile",
         "type": "scatter",
         "x": [
          0.1,
          0.2,
          0.30000000000000004,
          0.4,
          0.5,
          0.6,
          0.7000000000000001,
          0.8,
          0.9,
          1,
          1.1,
          1.2000000000000002,
          1.3000000000000003,
          1.4000000000000001,
          1.5000000000000002,
          1.6,
          1.7000000000000002,
          1.8000000000000003,
          1.9000000000000001,
          2,
          2.1,
          2.2,
          2.3000000000000003,
          2.4000000000000004
         ],
         "xaxis": "x",
         "y": [
          10,
          11,
          11,
          20,
          21,
          22,
          42,
          43,
          43,
          43,
          43,
          43,
          44,
          44,
          44,
          44,
          45,
          45,
          46,
          46,
          46,
          46,
          47,
          47
         ],
         "yaxis": "y"
        },
        {
         "line": {
          "color": "green",
          "dash": "dot"
         },
         "mode": "lines",
         "name": "97.5<sup>th</sup> percentile",
         "type": "scatter",
         "x": [
          0.1,
          0.2,
          0.30000000000000004,
          0.4,
          0.5,
          0.6,
          0.7000000000000001,
          0.8,
          0.9,
          1,
          1.1,
          1.2000000000000002,
          1.3000000000000003,
          1.4000000000000001,
          1.5000000000000002,
          1.6,
          1.7000000000000002,
          1.8000000000000003,
          1.9000000000000001,
          2,
          2.1,
          2.2,
          2.3000000000000003,
          2.4000000000000004
         ],
         "xaxis": "x",
         "y": [
          null,
          null,
          null,
          null,
          null,
          null,
          null,
          null,
          20,
          21,
          22,
          23,
          23,
          24,
          24,
          42,
          42,
          43,
          43,
          43,
          43,
          44,
          44,
          44
         ],
         "yaxis": "y"
        },
        {
         "line": {
          "color": "grey"
         },
         "mode": "lines",
         "name": "Mean",
         "showlegend": false,
         "type": "scatter",
         "x": [
          0.1,
          0.2,
          0.30000000000000004,
          0.4,
          0.5,
          0.6,
          0.7000000000000001,
          0.8,
          0.9,
          1,
          1.1,
          1.2000000000000002,
          1.3000000000000003,
          1.4000000000000001,
          1.5000000000000002,
          1.6,
          1.7000000000000002,
          1.8000000000000003,
          1.9000000000000001,
          2,
          2.1,
          2.2,
          2.3000000000000003,
          2.4000000000000004
         ],
         "xaxis": "x2",
         "y": [
          30,
          29,
          27,
          25,
          24,
          22,
          21,
          19,
          19,
          18,
          18,
          15,
          15,
          14,
          10,
          10,
          10,
          10,
          10,
          10,
          9,
          9,
          9,
          9
         ],
         "yaxis": "y2"
        },
        {
         "line": {
          "color": "orange",
          "dash": "dot"
         },
         "mode": "lines",
         "name": "2.5<sup>th</sup> percentile",
         "showlegend": false,
         "type": "scatter",
         "x": [
          0.1,
          0.2,
          0.30000000000000004,
          0.4,
          0.5,
          0.6,
          0.7000000000000001,
          0.8,
          0.9,
          1,
          1.1,
          1.2000000000000002,
          1.3000000000000003,
          1.4000000000000001,
          1.5000000000000002,
          1.6,
          1.7000000000000002,
          1.8000000000000003,
          1.9000000000000001,
          2,
          2.1,
          2.2,
          2.3000000000000003,
          2.4000000000000004
         ],
         "xaxis": "x2",
         "y": [
          29,
          27,
          24,
          21,
          19,
          18,
          10,
          10,
          10,
          9,
          9,
          9,
          9,
          null,
          null,
          null,
          null,
          null,
          null,
          null,
          null,
          null,
          null,
          null
         ],
         "yaxis": "y2"
        },
        {
         "line": {
          "color": "green",
          "dash": "dot"
         },
         "mode": "lines",
         "name": "97.5<sup>th</sup> percentile",
         "showlegend": false,
         "type": "scatter",
         "x": [
          0.1,
          0.2,
          0.30000000000000004,
          0.4,
          0.5,
          0.6,
          0.7000000000000001,
          0.8,
          0.9,
          1,
          1.1,
          1.2000000000000002,
          1.3000000000000003,
          1.4000000000000001,
          1.5000000000000002,
          1.6,
          1.7000000000000002,
          1.8000000000000003,
          1.9000000000000001,
          2,
          2.1,
          2.2,
          2.3000000000000003,
          2.4000000000000004
         ],
         "xaxis": "x2",
         "y": [
          34,
          30,
          29,
          28,
          26,
          25,
          24,
          23,
          22,
          21,
          21,
          19,
          19,
          19,
          18,
          18,
          18,
          16,
          15,
          15,
          15,
          14,
          14,
          14
         ],
         "yaxis": "y2"
        },
        {
         "line": {
          "color": "grey"
         },
         "mode": "lines",
         "name": "Mean",
         "showlegend": false,
         "type": "scatter",
         "x": [
          0.1,
          0.2,
          0.30000000000000004,
          0.4,
          0.5,
          0.6,
          0.7000000000000001,
          0.8,
          0.9,
          1,
          1.1,
          1.2000000000000002,
          1.3000000000000003,
          1.4000000000000001,
          1.5000000000000002,
          1.6,
          1.7000000000000002,
          1.8000000000000003,
          1.9000000000000001,
          2,
          2.1,
          2.2,
          2.3000000000000003,
          2.4000000000000004
         ],
         "xaxis": "x3",
         "y": [
          32,
          31,
          31,
          30,
          30,
          29,
          29,
          29,
          28,
          28,
          28,
          26,
          26,
          25,
          24,
          15,
          15,
          15,
          15,
          15,
          15,
          15,
          15,
          14
         ],
         "yaxis": "y3"
        },
        {
         "line": {
          "color": "orange",
          "dash": "dot"
         },
         "mode": "lines",
         "name": "2.5<sup>th</sup> percentile",
         "showlegend": false,
         "type": "scatter",
         "x": [
          0.1,
          0.2,
          0.30000000000000004,
          0.4,
          0.5,
          0.6,
          0.7000000000000001,
          0.8,
          0.9,
          1,
          1.1,
          1.2000000000000002,
          1.3000000000000003,
          1.4000000000000001,
          1.5000000000000002,
          1.6,
          1.7000000000000002,
          1.8000000000000003,
          1.9000000000000001,
          2,
          2.1,
          2.2,
          2.3000000000000003,
          2.4000000000000004
         ],
         "xaxis": "x3",
         "y": [
          31,
          30,
          29,
          29,
          29,
          28,
          28,
          26,
          26,
          25,
          15,
          14,
          14,
          14,
          14,
          13,
          13,
          13,
          null,
          null,
          null,
          null,
          null,
          null
         ],
         "yaxis": "y3"
        },
        {
         "line": {
          "color": "green",
          "dash": "dot"
         },
         "mode": "lines",
         "name": "97.5<sup>th</sup> percentile",
         "showlegend": false,
         "type": "scatter",
         "x": [
          0.1,
          0.2,
          0.30000000000000004,
          0.4,
          0.5,
          0.6,
          0.7000000000000001,
          0.8,
          0.9,
          1,
          1.1,
          1.2000000000000002,
          1.3000000000000003,
          1.4000000000000001,
          1.5000000000000002,
          1.6,
          1.7000000000000002,
          1.8000000000000003,
          1.9000000000000001,
          2,
          2.1,
          2.2,
          2.3000000000000003,
          2.4000000000000004
         ],
         "xaxis": "x3",
         "y": [
          34,
          34,
          32,
          32,
          31,
          31,
          31,
          30,
          30,
          29,
          29,
          29,
          28,
          28,
          28,
          26,
          26,
          26,
          25,
          24,
          19,
          16,
          16,
          16
         ],
         "yaxis": "y3"
        },
        {
         "line": {
          "color": "grey"
         },
         "mode": "lines",
         "name": "Mean",
         "showlegend": false,
         "type": "scatter",
         "x": [
          0.1,
          0.2,
          0.30000000000000004,
          0.4,
          0.5,
          0.6,
          0.7000000000000001,
          0.8,
          0.9,
          1,
          1.1,
          1.2000000000000002,
          1.3000000000000003,
          1.4000000000000001,
          1.5000000000000002,
          1.6,
          1.7000000000000002,
          1.8000000000000003,
          1.9000000000000001,
          2,
          2.1,
          2.2,
          2.3000000000000003,
          2.4000000000000004
         ],
         "xaxis": "x4",
         "y": [
          1,
          1,
          1,
          1,
          0.9545454545454546,
          0.9318181818181818,
          0.8181818181818182,
          0.7727272727272727,
          0.75,
          0.75,
          0.6590909090909091,
          0.6590909090909091,
          0.5681818181818182,
          0.5227272727272727,
          0.4772727272727273,
          0.4318181818181818,
          0.38636363636363635,
          0.3409090909090909,
          0.29545454545454547,
          0.25,
          0.18181818181818182,
          0.1590909090909091,
          0.1590909090909091,
          0.13636363636363635
         ],
         "yaxis": "y4"
        },
        {
         "line": {
          "color": "orange",
          "dash": "dot"
         },
         "mode": "lines",
         "name": "2.5<sup>th</sup> percentile",
         "showlegend": false,
         "type": "scatter",
         "x": [
          0.1,
          0.2,
          0.30000000000000004,
          0.4,
          0.5,
          0.6,
          0.7000000000000001,
          0.8,
          0.9,
          1,
          1.1,
          1.2000000000000002,
          1.3000000000000003,
          1.4000000000000001,
          1.5000000000000002,
          1.6,
          1.7000000000000002,
          1.8000000000000003,
          1.9000000000000001,
          2,
          2.1,
          2.2,
          2.3000000000000003,
          2.4000000000000004
         ],
         "xaxis": "x4",
         "y": [
          0.9545454545454546,
          0.9318181818181818,
          0.9318181818181818,
          0.8181818181818182,
          0.7727272727272727,
          0.7272727272727273,
          0.6818181818181818,
          0.5909090909090909,
          0.5681818181818182,
          0.5,
          0.4772727272727273,
          0.45454545454545453,
          0.38636363636363635,
          0.3409090909090909,
          0.25,
          0.20454545454545456,
          0.1590909090909091,
          0.1590909090909091,
          0.13636363636363635,
          0.13636363636363635,
          0.13636363636363635,
          0.13636363636363635,
          0.11363636363636363,
          0.11363636363636363
         ],
         "yaxis": "y4"
        },
        {
         "line": {
          "color": "green",
          "dash": "dot"
         },
         "mode": "lines",
         "name": "97.5<sup>th</sup> percentile",
         "showlegend": false,
         "type": "scatter",
         "x": [
          0.1,
          0.2,
          0.30000000000000004,
          0.4,
          0.5,
          0.6,
          0.7000000000000001,
          0.8,
          0.9,
          1,
          1.1,
          1.2000000000000002,
          1.3000000000000003,
          1.4000000000000001,
          1.5000000000000002,
          1.6,
          1.7000000000000002,
          1.8000000000000003,
          1.9000000000000001,
          2,
          2.1,
          2.2,
          2.3000000000000003,
          2.4000000000000004
         ],
         "xaxis": "x4",
         "y": [
          1,
          1,
          1,
          1,
          1,
          1,
          1,
          1,
          0.9545454545454546,
          0.9090909090909091,
          0.8636363636363636,
          0.7954545454545454,
          0.75,
          0.7272727272727273,
          0.7272727272727273,
          0.6818181818181818,
          0.6363636363636364,
          0.5681818181818182,
          0.5454545454545454,
          0.5,
          0.45454545454545453,
          0.4090909090909091,
          0.3181818181818182,
          0.29545454545454547
         ],
         "yaxis": "y4"
        },
        {
         "line": {
          "color": "grey"
         },
         "mode": "lines",
         "name": "Mean",
         "showlegend": false,
         "type": "scatter",
         "x": [
          0.1,
          0.2,
          0.30000000000000004,
          0.4,
          0.5,
          0.6,
          0.7000000000000001,
          0.8,
          0.9,
          1,
          1.1,
          1.2000000000000002,
          1.3000000000000003,
          1.4000000000000001,
          1.5000000000000002,
          1.6,
          1.7000000000000002,
          1.8000000000000003,
          1.9000000000000001,
          2,
          2.1,
          2.2,
          2.3000000000000003,
          2.4000000000000004
         ],
         "xaxis": "x5",
         "y": [
          0.6111111111111112,
          0.5833333333333334,
          0.5277777777777778,
          0.4722222222222222,
          0.4444444444444444,
          0.3888888888888889,
          0.3611111111111111,
          0.3055555555555556,
          0.3055555555555556,
          0.25,
          0.25,
          0.16666666666666666,
          0.1388888888888889,
          0.08333333333333333,
          0.05555555555555555,
          0.05555555555555555,
          0.05555555555555555,
          0.05555555555555555,
          0.05555555555555555,
          0.05555555555555555,
          0.027777777777777776,
          0.027777777777777776,
          0.027777777777777776,
          0.027777777777777776
         ],
         "yaxis": "y5"
        },
        {
         "line": {
          "color": "orange",
          "dash": "dot"
         },
         "mode": "lines",
         "name": "2.5<sup>th</sup> percentile",
         "showlegend": false,
         "type": "scatter",
         "x": [
          0.1,
          0.2,
          0.30000000000000004,
          0.4,
          0.5,
          0.6,
          0.7000000000000001,
          0.8,
          0.9,
          1,
          1.1,
          1.2000000000000002,
          1.3000000000000003,
          1.4000000000000001,
          1.5000000000000002,
          1.6,
          1.7000000000000002,
          1.8000000000000003,
          1.9000000000000001,
          2,
          2.1,
          2.2,
          2.3000000000000003,
          2.4000000000000004
         ],
         "xaxis": "x5",
         "y": [
          0.5833333333333334,
          0.5277777777777778,
          0.4444444444444444,
          0.25,
          0.19444444444444445,
          0.1388888888888889,
          0.05555555555555555,
          0.05555555555555555,
          0.05555555555555555,
          0.027777777777777776,
          0.027777777777777776,
          0.027777777777777776,
          0.027777777777777776,
          0,
          0,
          0,
          0,
          0,
          0,
          0,
          0,
          0,
          0,
          0
         ],
         "yaxis": "y5"
        },
        {
         "line": {
          "color": "green",
          "dash": "dot"
         },
         "mode": "lines",
         "name": "97.5<sup>th</sup> percentile",
         "showlegend": false,
         "type": "scatter",
         "x": [
          0.1,
          0.2,
          0.30000000000000004,
          0.4,
          0.5,
          0.6,
          0.7000000000000001,
          0.8,
          0.9,
          1,
          1.1,
          1.2000000000000002,
          1.3000000000000003,
          1.4000000000000001,
          1.5000000000000002,
          1.6,
          1.7000000000000002,
          1.8000000000000003,
          1.9000000000000001,
          2,
          2.1,
          2.2,
          2.3000000000000003,
          2.4000000000000004
         ],
         "xaxis": "x5",
         "y": [
          0.7222222222222222,
          0.6111111111111112,
          0.5833333333333334,
          0.5555555555555556,
          0.5,
          0.4722222222222222,
          0.4444444444444444,
          0.4166666666666667,
          0.3888888888888889,
          0.3611111111111111,
          0.3611111111111111,
          0.3055555555555556,
          0.3055555555555556,
          0.3055555555555556,
          0.2777777777777778,
          0.2777777777777778,
          0.25,
          0.2222222222222222,
          0.19444444444444445,
          0.19444444444444445,
          0.19444444444444445,
          0.1388888888888889,
          0.1388888888888889,
          0.1111111111111111
         ],
         "yaxis": "y5"
        },
        {
         "line": {
          "color": "grey"
         },
         "mode": "lines",
         "name": "Mean",
         "showlegend": false,
         "type": "scatter",
         "x": [
          0.1,
          0.2,
          0.30000000000000004,
          0.4,
          0.5,
          0.6,
          0.7000000000000001,
          0.8,
          0.9,
          1,
          1.1,
          1.2000000000000002,
          1.3000000000000003,
          1.4000000000000001,
          1.5000000000000002,
          1.6,
          1.7000000000000002,
          1.8000000000000003,
          1.9000000000000001,
          2,
          2.1,
          2.2,
          2.3000000000000003,
          2.4000000000000004
         ],
         "xaxis": "x6",
         "y": [
          0.6486486486486487,
          0.6216216216216216,
          0.6216216216216216,
          0.5945945945945946,
          0.5945945945945946,
          0.5675675675675675,
          0.5675675675675675,
          0.5675675675675675,
          0.4864864864864865,
          0.4594594594594595,
          0.43243243243243246,
          0.35135135135135137,
          0.32432432432432434,
          0.24324324324324326,
          0.16216216216216217,
          0.10810810810810811,
          0.10810810810810811,
          0.10810810810810811,
          0.08108108108108109,
          0.08108108108108109,
          0.08108108108108109,
          0.08108108108108109,
          0.08108108108108109,
          0.05405405405405406
         ],
         "yaxis": "y6"
        },
        {
         "line": {
          "color": "orange",
          "dash": "dot"
         },
         "mode": "lines",
         "name": "2.5<sup>th</sup> percentile",
         "showlegend": false,
         "type": "scatter",
         "x": [
          0.1,
          0.2,
          0.30000000000000004,
          0.4,
          0.5,
          0.6,
          0.7000000000000001,
          0.8,
          0.9,
          1,
          1.1,
          1.2000000000000002,
          1.3000000000000003,
          1.4000000000000001,
          1.5000000000000002,
          1.6,
          1.7000000000000002,
          1.8000000000000003,
          1.9000000000000001,
          2,
          2.1,
          2.2,
          2.3000000000000003,
          2.4000000000000004
         ],
         "xaxis": "x6",
         "y": [
          0.6216216216216216,
          0.5675675675675675,
          0.5405405405405406,
          0.43243243243243246,
          0.40540540540540543,
          0.32432432432432434,
          0.2702702702702703,
          0.1891891891891892,
          0.1891891891891892,
          0.16216216216216217,
          0.08108108108108109,
          0.05405405405405406,
          0.05405405405405406,
          0.05405405405405406,
          0.05405405405405406,
          0.02702702702702703,
          0.02702702702702703,
          0.02702702702702703,
          0,
          0,
          0,
          0,
          0,
          0
         ],
         "yaxis": "y6"
        },
        {
         "line": {
          "color": "green",
          "dash": "dot"
         },
         "mode": "lines",
         "name": "97.5<sup>th</sup> percentile",
         "showlegend": false,
         "type": "scatter",
         "x": [
          0.1,
          0.2,
          0.30000000000000004,
          0.4,
          0.5,
          0.6,
          0.7000000000000001,
          0.8,
          0.9,
          1,
          1.1,
          1.2000000000000002,
          1.3000000000000003,
          1.4000000000000001,
          1.5000000000000002,
          1.6,
          1.7000000000000002,
          1.8000000000000003,
          1.9000000000000001,
          2,
          2.1,
          2.2,
          2.3000000000000003,
          2.4000000000000004
         ],
         "xaxis": "x6",
         "y": [
          0.7027027027027027,
          0.7027027027027027,
          0.6486486486486487,
          0.6486486486486487,
          0.6216216216216216,
          0.6216216216216216,
          0.6216216216216216,
          0.5945945945945946,
          0.5945945945945946,
          0.5675675675675675,
          0.5675675675675675,
          0.5675675675675675,
          0.5405405405405406,
          0.5135135135135135,
          0.4864864864864865,
          0.43243243243243246,
          0.40540540540540543,
          0.40540540540540543,
          0.3783783783783784,
          0.35135135135135137,
          0.2972972972972973,
          0.21621621621621623,
          0.21621621621621623,
          0.21621621621621623
         ],
         "yaxis": "y6"
        }
       ],
       "layout": {
        "font": {
         "color": "black",
         "family": "DejaVu Sans"
        },
        "height": 650,
        "legend": {
         "orientation": "h",
         "title": {
          "font": {
           "color": "black"
          }
         },
         "x": 1,
         "xanchor": "right",
         "y": 1.075,
         "yanchor": "bottom"
        },
        "plot_bgcolor": "white",
        "template": {
         "data": {
          "bar": [
           {
            "error_x": {
             "color": "#2a3f5f"
            },
            "error_y": {
             "color": "#2a3f5f"
            },
            "marker": {
             "line": {
              "color": "#E5ECF6",
              "width": 0.5
             }
            },
            "type": "bar"
           }
          ],
          "barpolar": [
           {
            "marker": {
             "line": {
              "color": "#E5ECF6",
              "width": 0.5
             }
            },
            "type": "barpolar"
           }
          ],
          "carpet": [
           {
            "aaxis": {
             "endlinecolor": "#2a3f5f",
             "gridcolor": "white",
             "linecolor": "white",
             "minorgridcolor": "white",
             "startlinecolor": "#2a3f5f"
            },
            "baxis": {
             "endlinecolor": "#2a3f5f",
             "gridcolor": "white",
             "linecolor": "white",
             "minorgridcolor": "white",
             "startlinecolor": "#2a3f5f"
            },
            "type": "carpet"
           }
          ],
          "choropleth": [
           {
            "colorbar": {
             "outlinewidth": 0,
             "ticks": ""
            },
            "type": "choropleth"
           }
          ],
          "contour": [
           {
            "colorbar": {
             "outlinewidth": 0,
             "ticks": ""
            },
            "colorscale": [
             [
              0,
              "#0d0887"
             ],
             [
              0.1111111111111111,
              "#46039f"
             ],
             [
              0.2222222222222222,
              "#7201a8"
             ],
             [
              0.3333333333333333,
              "#9c179e"
             ],
             [
              0.4444444444444444,
              "#bd3786"
             ],
             [
              0.5555555555555556,
              "#d8576b"
             ],
             [
              0.6666666666666666,
              "#ed7953"
             ],
             [
              0.7777777777777778,
              "#fb9f3a"
             ],
             [
              0.8888888888888888,
              "#fdca26"
             ],
             [
              1,
              "#f0f921"
             ]
            ],
            "type": "contour"
           }
          ],
          "contourcarpet": [
           {
            "colorbar": {
             "outlinewidth": 0,
             "ticks": ""
            },
            "type": "contourcarpet"
           }
          ],
          "heatmap": [
           {
            "colorbar": {
             "outlinewidth": 0,
             "ticks": ""
            },
            "colorscale": [
             [
              0,
              "#0d0887"
             ],
             [
              0.1111111111111111,
              "#46039f"
             ],
             [
              0.2222222222222222,
              "#7201a8"
             ],
             [
              0.3333333333333333,
              "#9c179e"
             ],
             [
              0.4444444444444444,
              "#bd3786"
             ],
             [
              0.5555555555555556,
              "#d8576b"
             ],
             [
              0.6666666666666666,
              "#ed7953"
             ],
             [
              0.7777777777777778,
              "#fb9f3a"
             ],
             [
              0.8888888888888888,
              "#fdca26"
             ],
             [
              1,
              "#f0f921"
             ]
            ],
            "type": "heatmap"
           }
          ],
          "heatmapgl": [
           {
            "colorbar": {
             "outlinewidth": 0,
             "ticks": ""
            },
            "colorscale": [
             [
              0,
              "#0d0887"
             ],
             [
              0.1111111111111111,
              "#46039f"
             ],
             [
              0.2222222222222222,
              "#7201a8"
             ],
             [
              0.3333333333333333,
              "#9c179e"
             ],
             [
              0.4444444444444444,
              "#bd3786"
             ],
             [
              0.5555555555555556,
              "#d8576b"
             ],
             [
              0.6666666666666666,
              "#ed7953"
             ],
             [
              0.7777777777777778,
              "#fb9f3a"
             ],
             [
              0.8888888888888888,
              "#fdca26"
             ],
             [
              1,
              "#f0f921"
             ]
            ],
            "type": "heatmapgl"
           }
          ],
          "histogram": [
           {
            "marker": {
             "colorbar": {
              "outlinewidth": 0,
              "ticks": ""
             }
            },
            "type": "histogram"
           }
          ],
          "histogram2d": [
           {
            "colorbar": {
             "outlinewidth": 0,
             "ticks": ""
            },
            "colorscale": [
             [
              0,
              "#0d0887"
             ],
             [
              0.1111111111111111,
              "#46039f"
             ],
             [
              0.2222222222222222,
              "#7201a8"
             ],
             [
              0.3333333333333333,
              "#9c179e"
             ],
             [
              0.4444444444444444,
              "#bd3786"
             ],
             [
              0.5555555555555556,
              "#d8576b"
             ],
             [
              0.6666666666666666,
              "#ed7953"
             ],
             [
              0.7777777777777778,
              "#fb9f3a"
             ],
             [
              0.8888888888888888,
              "#fdca26"
             ],
             [
              1,
              "#f0f921"
             ]
            ],
            "type": "histogram2d"
           }
          ],
          "histogram2dcontour": [
           {
            "colorbar": {
             "outlinewidth": 0,
             "ticks": ""
            },
            "colorscale": [
             [
              0,
              "#0d0887"
             ],
             [
              0.1111111111111111,
              "#46039f"
             ],
             [
              0.2222222222222222,
              "#7201a8"
             ],
             [
              0.3333333333333333,
              "#9c179e"
             ],
             [
              0.4444444444444444,
              "#bd3786"
             ],
             [
              0.5555555555555556,
              "#d8576b"
             ],
             [
              0.6666666666666666,
              "#ed7953"
             ],
             [
              0.7777777777777778,
              "#fb9f3a"
             ],
             [
              0.8888888888888888,
              "#fdca26"
             ],
             [
              1,
              "#f0f921"
             ]
            ],
            "type": "histogram2dcontour"
           }
          ],
          "mesh3d": [
           {
            "colorbar": {
             "outlinewidth": 0,
             "ticks": ""
            },
            "type": "mesh3d"
           }
          ],
          "parcoords": [
           {
            "line": {
             "colorbar": {
              "outlinewidth": 0,
              "ticks": ""
             }
            },
            "type": "parcoords"
           }
          ],
          "pie": [
           {
            "automargin": true,
            "type": "pie"
           }
          ],
          "scatter": [
           {
            "marker": {
             "colorbar": {
              "outlinewidth": 0,
              "ticks": ""
             }
            },
            "type": "scatter"
           }
          ],
          "scatter3d": [
           {
            "line": {
             "colorbar": {
              "outlinewidth": 0,
              "ticks": ""
             }
            },
            "marker": {
             "colorbar": {
              "outlinewidth": 0,
              "ticks": ""
             }
            },
            "type": "scatter3d"
           }
          ],
          "scattercarpet": [
           {
            "marker": {
             "colorbar": {
              "outlinewidth": 0,
              "ticks": ""
             }
            },
            "type": "scattercarpet"
           }
          ],
          "scattergeo": [
           {
            "marker": {
             "colorbar": {
              "outlinewidth": 0,
              "ticks": ""
             }
            },
            "type": "scattergeo"
           }
          ],
          "scattergl": [
           {
            "marker": {
             "colorbar": {
              "outlinewidth": 0,
              "ticks": ""
             }
            },
            "type": "scattergl"
           }
          ],
          "scattermapbox": [
           {
            "marker": {
             "colorbar": {
              "outlinewidth": 0,
              "ticks": ""
             }
            },
            "type": "scattermapbox"
           }
          ],
          "scatterpolar": [
           {
            "marker": {
             "colorbar": {
              "outlinewidth": 0,
              "ticks": ""
             }
            },
            "type": "scatterpolar"
           }
          ],
          "scatterpolargl": [
           {
            "marker": {
             "colorbar": {
              "outlinewidth": 0,
              "ticks": ""
             }
            },
            "type": "scatterpolargl"
           }
          ],
          "scatterternary": [
           {
            "marker": {
             "colorbar": {
              "outlinewidth": 0,
              "ticks": ""
             }
            },
            "type": "scatterternary"
           }
          ],
          "surface": [
           {
            "colorbar": {
             "outlinewidth": 0,
             "ticks": ""
            },
            "colorscale": [
             [
              0,
              "#0d0887"
             ],
             [
              0.1111111111111111,
              "#46039f"
             ],
             [
              0.2222222222222222,
              "#7201a8"
             ],
             [
              0.3333333333333333,
              "#9c179e"
             ],
             [
              0.4444444444444444,
              "#bd3786"
             ],
             [
              0.5555555555555556,
              "#d8576b"
             ],
             [
              0.6666666666666666,
              "#ed7953"
             ],
             [
              0.7777777777777778,
              "#fb9f3a"
             ],
             [
              0.8888888888888888,
              "#fdca26"
             ],
             [
              1,
              "#f0f921"
             ]
            ],
            "type": "surface"
           }
          ],
          "table": [
           {
            "cells": {
             "fill": {
              "color": "#EBF0F8"
             },
             "line": {
              "color": "white"
             }
            },
            "header": {
             "fill": {
              "color": "#C8D4E3"
             },
             "line": {
              "color": "white"
             }
            },
            "type": "table"
           }
          ]
         },
         "layout": {
          "annotationdefaults": {
           "arrowcolor": "#2a3f5f",
           "arrowhead": 0,
           "arrowwidth": 1
          },
          "autotypenumbers": "strict",
          "coloraxis": {
           "colorbar": {
            "outlinewidth": 0,
            "ticks": ""
           }
          },
          "colorscale": {
           "diverging": [
            [
             0,
             "#8e0152"
            ],
            [
             0.1,
             "#c51b7d"
            ],
            [
             0.2,
             "#de77ae"
            ],
            [
             0.3,
             "#f1b6da"
            ],
            [
             0.4,
             "#fde0ef"
            ],
            [
             0.5,
             "#f7f7f7"
            ],
            [
             0.6,
             "#e6f5d0"
            ],
            [
             0.7,
             "#b8e186"
            ],
            [
             0.8,
             "#7fbc41"
            ],
            [
             0.9,
             "#4d9221"
            ],
            [
             1,
             "#276419"
            ]
           ],
           "sequential": [
            [
             0,
             "#0d0887"
            ],
            [
             0.1111111111111111,
             "#46039f"
            ],
            [
             0.2222222222222222,
             "#7201a8"
            ],
            [
             0.3333333333333333,
             "#9c179e"
            ],
            [
             0.4444444444444444,
             "#bd3786"
            ],
            [
             0.5555555555555556,
             "#d8576b"
            ],
            [
             0.6666666666666666,
             "#ed7953"
            ],
            [
             0.7777777777777778,
             "#fb9f3a"
            ],
            [
             0.8888888888888888,
             "#fdca26"
            ],
            [
             1,
             "#f0f921"
            ]
           ],
           "sequentialminus": [
            [
             0,
             "#0d0887"
            ],
            [
             0.1111111111111111,
             "#46039f"
            ],
            [
             0.2222222222222222,
             "#7201a8"
            ],
            [
             0.3333333333333333,
             "#9c179e"
            ],
            [
             0.4444444444444444,
             "#bd3786"
            ],
            [
             0.5555555555555556,
             "#d8576b"
            ],
            [
             0.6666666666666666,
             "#ed7953"
            ],
            [
             0.7777777777777778,
             "#fb9f3a"
            ],
            [
             0.8888888888888888,
             "#fdca26"
            ],
            [
             1,
             "#f0f921"
            ]
           ]
          },
          "colorway": [
           "#636efa",
           "#EF553B",
           "#00cc96",
           "#ab63fa",
           "#FFA15A",
           "#19d3f3",
           "#FF6692",
           "#B6E880",
           "#FF97FF",
           "#FECB52"
          ],
          "font": {
           "color": "#2a3f5f"
          },
          "geo": {
           "bgcolor": "white",
           "lakecolor": "white",
           "landcolor": "#E5ECF6",
           "showlakes": true,
           "showland": true,
           "subunitcolor": "white"
          },
          "hoverlabel": {
           "align": "left"
          },
          "hovermode": "closest",
          "mapbox": {
           "style": "light"
          },
          "paper_bgcolor": "white",
          "plot_bgcolor": "#E5ECF6",
          "polar": {
           "angularaxis": {
            "gridcolor": "white",
            "linecolor": "white",
            "ticks": ""
           },
           "bgcolor": "#E5ECF6",
           "radialaxis": {
            "gridcolor": "white",
            "linecolor": "white",
            "ticks": ""
           }
          },
          "scene": {
           "xaxis": {
            "backgroundcolor": "#E5ECF6",
            "gridcolor": "white",
            "gridwidth": 2,
            "linecolor": "white",
            "showbackground": true,
            "ticks": "",
            "zerolinecolor": "white"
           },
           "yaxis": {
            "backgroundcolor": "#E5ECF6",
            "gridcolor": "white",
            "gridwidth": 2,
            "linecolor": "white",
            "showbackground": true,
            "ticks": "",
            "zerolinecolor": "white"
           },
           "zaxis": {
            "backgroundcolor": "#E5ECF6",
            "gridcolor": "white",
            "gridwidth": 2,
            "linecolor": "white",
            "showbackground": true,
            "ticks": "",
            "zerolinecolor": "white"
           }
          },
          "shapedefaults": {
           "line": {
            "color": "#2a3f5f"
           }
          },
          "ternary": {
           "aaxis": {
            "gridcolor": "white",
            "linecolor": "white",
            "ticks": ""
           },
           "baxis": {
            "gridcolor": "white",
            "linecolor": "white",
            "ticks": ""
           },
           "bgcolor": "#E5ECF6",
           "caxis": {
            "gridcolor": "white",
            "linecolor": "white",
            "ticks": ""
           }
          },
          "title": {
           "x": 0.05
          },
          "xaxis": {
           "automargin": true,
           "gridcolor": "white",
           "linecolor": "white",
           "ticks": "",
           "title": {
            "standoff": 15
           },
           "zerolinecolor": "white",
           "zerolinewidth": 2
          },
          "yaxis": {
           "automargin": true,
           "gridcolor": "white",
           "linecolor": "white",
           "ticks": "",
           "title": {
            "standoff": 15
           },
           "zerolinecolor": "white",
           "zerolinewidth": 2
          }
         }
        },
        "title": {
         "font": {
          "color": "black",
          "family": "DejaVu Sans"
         }
        },
        "width": 1000,
        "xaxis": {
         "anchor": "y",
         "domain": [
          0,
          0.2333333333333333
         ],
         "linecolor": "black",
         "tickcolor": "black",
         "ticklen": 5,
         "ticks": "inside",
         "title": {
          "text": "Relative transmissibility of<br>imported cases (ϵ)"
         }
        },
        "xaxis2": {
         "anchor": "y2",
         "domain": [
          0.3833333333333333,
          0.6166666666666666
         ],
         "linecolor": "black",
         "tickcolor": "black",
         "ticklen": 5,
         "ticks": "inside",
         "title": {
          "text": "Relative transmissibility of<br>imported cases (ϵ)"
         }
        },
        "xaxis3": {
         "anchor": "y3",
         "domain": [
          0.7666666666666666,
          0.9999999999999999
         ],
         "linecolor": "black",
         "tickcolor": "black",
         "ticklen": 5,
         "ticks": "inside",
         "title": {
          "text": "Relative transmissibility of<br>imported cases (ϵ)"
         }
        },
        "xaxis4": {
         "anchor": "y4",
         "domain": [
          0,
          0.2333333333333333
         ],
         "linecolor": "black",
         "tickcolor": "black",
         "ticklen": 5,
         "ticks": "inside",
         "title": {
          "text": "Relative transmissibility of<br>imported cases (ϵ)"
         }
        },
        "xaxis5": {
         "anchor": "y5",
         "domain": [
          0.3833333333333333,
          0.6166666666666666
         ],
         "linecolor": "black",
         "tickcolor": "black",
         "ticklen": 5,
         "ticks": "inside",
         "title": {
          "text": "Relative transmissibility of<br>imported cases (ϵ)"
         }
        },
        "xaxis6": {
         "anchor": "y6",
         "domain": [
          0.7666666666666666,
          0.9999999999999999
         ],
         "linecolor": "black",
         "tickcolor": "black",
         "ticklen": 5,
         "ticks": "inside",
         "title": {
          "text": "Relative transmissibility of<br>imported cases (ϵ)"
         }
        },
        "yaxis": {
         "anchor": "x",
         "domain": [
          0.575,
          1
         ],
         "linecolor": "black",
         "range": [
          0,
          62
         ],
         "tickcolor": "black",
         "ticklen": 7.5,
         "ticks": "outside",
         "ticktext": [
          "Mar 01",
          "Mar 11",
          "Mar 21",
          "Mar 31",
          "Apr 09",
          "Apr 19",
          "Apr 29"
         ],
         "tickvals": [
          1,
          11,
          21,
          31,
          41,
          51,
          61
         ],
         "title": {
          "text": "Date  R<sub>t</sub> threshold met"
         }
        },
        "yaxis2": {
         "anchor": "x2",
         "domain": [
          0.575,
          1
         ],
         "linecolor": "black",
         "range": [
          0,
          62
         ],
         "tickcolor": "black",
         "ticklen": 7.5,
         "ticks": "outside",
         "ticktext": [
          "Mar 01",
          "Mar 11",
          "Mar 21",
          "Mar 31",
          "Apr 09",
          "Apr 19",
          "Apr 29"
         ],
         "tickvals": [
          1,
          11,
          21,
          31,
          41,
          51,
          61
         ],
         "title": {
          "text": "Date  R<sub>t</sub> threshold met"
         }
        },
        "yaxis3": {
         "anchor": "x3",
         "domain": [
          0.575,
          1
         ],
         "linecolor": "black",
         "range": [
          0,
          62
         ],
         "tickcolor": "black",
         "ticklen": 7.5,
         "ticks": "outside",
         "ticktext": [
          "Mar 01",
          "Mar 11",
          "Mar 21",
          "Mar 31",
          "Apr 09",
          "Apr 19",
          "Apr 29"
         ],
         "tickvals": [
          1,
          11,
          21,
          31,
          41,
          51,
          61
         ],
         "title": {
          "text": "Date  R<sub>t</sub> threshold met"
         }
        },
        "yaxis4": {
         "anchor": "x4",
         "domain": [
          0,
          0.425
         ],
         "linecolor": "black",
         "range": [
          0,
          1.2
         ],
         "tickcolor": "black",
         "ticklen": 7.5,
         "ticks": "outside",
         "ticktext": [
          "0",
          "0.2",
          "0.4",
          "0.6",
          "0.8",
          "1"
         ],
         "tickvals": [
          0,
          0.2,
          0.4,
          0.6000000000000001,
          0.8,
          1
         ],
         "title": {
          "text": "Proportion of time R<sub>t</sub>>1"
         }
        },
        "yaxis5": {
         "anchor": "x5",
         "domain": [
          0,
          0.425
         ],
         "linecolor": "black",
         "range": [
          0,
          1.2
         ],
         "tickcolor": "black",
         "ticklen": 7.5,
         "ticks": "outside",
         "ticktext": [
          "0",
          "0.2",
          "0.4",
          "0.6",
          "0.8",
          "1"
         ],
         "tickvals": [
          0,
          0.2,
          0.4,
          0.6000000000000001,
          0.8,
          1
         ],
         "title": {
          "text": "Proportion of time R<sub>t</sub>>1"
         }
        },
        "yaxis6": {
         "anchor": "x6",
         "domain": [
          0,
          0.425
         ],
         "linecolor": "black",
         "range": [
          0,
          1.2
         ],
         "tickcolor": "black",
         "ticklen": 7.5,
         "ticks": "outside",
         "ticktext": [
          "0",
          "0.2",
          "0.4",
          "0.6",
          "0.8",
          "1"
         ],
         "tickvals": [
          0,
          0.2,
          0.4,
          0.6000000000000001,
          0.8,
          1
         ],
         "title": {
          "text": "Proportion of time R<sub>t</sub>>1"
         }
        }
       }
      }
     },
     "metadata": {}
    }
   ],
   "metadata": {}
  },
  {
   "cell_type": "code",
   "execution_count": 17,
   "source": [
    "from plotly.subplots import make_subplots\n",
    "\n",
    "colours = ['grey', 'orange', 'green']\n",
    "regions = ['Ontario', 'New South Wales', 'Victoria']\n",
    "trace_name = ['Last time R<sub>t</sub><sup>local</sup><1', 'Last time R<sub>t</sub><sup>local</sup>>1', 'Proportion of time R<sub>t</sub><sup>local</sup>>1']\n",
    "\n",
    "titles = ['{}'.format(r) for r in regions]\n",
    "titles.extend([None]*3)\n",
    "\n",
    "new_traces_mean = [\n",
    "    [last_time_r_less_than_1_ON, last_time_r_more_than_1_NSW, last_time_r_more_than_1_VIC],\n",
    "    [proportion_time_r_more_than_1_ON, proportion_time_r_more_than_1_NSW, proportion_time_r_more_than_1_VIC]]\n",
    "\n",
    "new_traces_lower = [\n",
    "    [last_time_r_less_than_1_LowerCI_ON, last_time_r_more_than_1_LowerCI_NSW, last_time_r_more_than_1_LowerCI_VIC],\n",
    "    [proportion_time_r_more_than_1_LowerCI_ON, proportion_time_r_more_than_1_LowerCI_NSW, proportion_time_r_more_than_1_LowerCI_VIC]]\n",
    "\n",
    "new_traces_upper = [\n",
    "    [last_time_r_less_than_1_UpperCI_ON, last_time_r_more_than_1_UpperCI_NSW, last_time_r_more_than_1_UpperCI_VIC],\n",
    "    [proportion_time_r_more_than_1_UpperCI_ON, proportion_time_r_more_than_1_UpperCI_NSW, proportion_time_r_more_than_1_UpperCI_VIC]]\n",
    "\n",
    "fig = go.Figure()\n",
    "fig = make_subplots(rows=1, cols=3, subplot_titles=tuple(titles), shared_yaxes=True)\n",
    "\n",
    "# Plot (bar chart cases each day)\n",
    "for col in range(3):\n",
    "    if col != 0:\n",
    "        # Plot of incidences\n",
    "        fig.add_trace(\n",
    "            go.Scatter(\n",
    "                x=large_epsilon_range,\n",
    "                y=new_traces_mean[0][col],\n",
    "                mode='lines',\n",
    "                name='Mean',\n",
    "                showlegend=False,\n",
    "                line_color=colours[0],\n",
    "            ),\n",
    "            row= 1,\n",
    "            col= col+1\n",
    "        )\n",
    "\n",
    "        fig.add_trace(\n",
    "            go.Scatter(\n",
    "                x=large_epsilon_range,\n",
    "                y=new_traces_lower[0][col],\n",
    "                mode='lines',\n",
    "                name='2.5<sup>th</sup> percentile',\n",
    "                showlegend=False,\n",
    "                line_color=colours[1],\n",
    "                line={'dash': 'dot'}\n",
    "            ),\n",
    "            row= 1,\n",
    "            col= col+1\n",
    "        )\n",
    "\n",
    "        fig.add_trace(\n",
    "            go.Scatter(\n",
    "                x=large_epsilon_range,\n",
    "                y=new_traces_upper[0][col],\n",
    "                mode='lines',\n",
    "                name='97.5<sup>th</sup> percentile',\n",
    "                showlegend=False,\n",
    "                line_color=colours[2],\n",
    "                line={'dash': 'dot'}\n",
    "            ),\n",
    "            row= 1,\n",
    "            col= col+1\n",
    "        )\n",
    "\n",
    "        fig.update_xaxes(row=1, col=col+1, title_text='ϵ')\n",
    "    \n",
    "    else:\n",
    "        fig.add_trace(\n",
    "            go.Scatter(\n",
    "                x=large_epsilon_range,\n",
    "                y=new_traces_mean[0][col],\n",
    "                mode='lines',\n",
    "                name='Mean',\n",
    "                line_color=colours[0]\n",
    "            ),\n",
    "            row= 1,\n",
    "            col= col+1\n",
    "        )\n",
    "\n",
    "        fig.add_trace(\n",
    "            go.Scatter(\n",
    "                x=large_epsilon_range,\n",
    "                y=new_traces_lower[0][col],\n",
    "                mode='lines',\n",
    "                name='2.5<sup>th</sup> percentile',\n",
    "                line_color=colours[1],\n",
    "                line={'dash': 'dot'}\n",
    "            ),\n",
    "            row= 1,\n",
    "            col= col+1\n",
    "        )\n",
    "\n",
    "        fig.add_trace(\n",
    "            go.Scatter(\n",
    "                x=large_epsilon_range,\n",
    "                y=new_traces_upper[0][col],\n",
    "                mode='lines',\n",
    "                name='97.5<sup>th</sup> percentile',\n",
    "                line_color=colours[2],\n",
    "                line={'dash': 'dot'}\n",
    "            ),\n",
    "            row= 1,\n",
    "            col= col+1\n",
    "        )\n",
    "\n",
    "        fig.update_xaxes(row=1, col=col+1, title_text='ϵ')\n",
    "\n",
    "\n",
    "# Add axis labels\n",
    "fig.update_layout(\n",
    "    width=800, \n",
    "    height=350,\n",
    "    plot_bgcolor='white',\n",
    "    xaxis=dict(linecolor='black'),\n",
    "    yaxis=dict(\n",
    "        linecolor='black',\n",
    "        range=[0, 62],\n",
    "        tickvals=np.arange(1, 62, 10).tolist(),\n",
    "        ticktext=['Mar 01', 'Mar 11', 'Mar 21', 'Mar 31', 'Apr 09', 'Apr 19', 'Apr 29']),\n",
    "    xaxis2=dict(linecolor='black'),\n",
    "    yaxis2=dict(\n",
    "        linecolor='black',\n",
    "        range=[0, 62],\n",
    "        tickvals=np.arange(1, 62, 10).tolist(),\n",
    "        ticktext=['Mar 01', 'Mar 11', 'Mar 21', 'Mar 31', 'Apr 09', 'Apr 19', 'Apr 29']),\n",
    "    xaxis3=dict(linecolor='black'),\n",
    "    yaxis3=dict(\n",
    "        linecolor='black',\n",
    "        range=[0, 62],\n",
    "        tickvals=np.arange(1, 62, 10).tolist(),\n",
    "        ticktext=['Mar 01', 'Mar 11', 'Mar 21', 'Mar 31', 'Apr 09', 'Apr 19', 'Apr 29']),\n",
    "    legend=dict(\n",
    "        orientation='h',\n",
    "        yanchor=\"bottom\",\n",
    "        y=1.1,\n",
    "        xanchor=\"right\",\n",
    "        x=1)\n",
    "    )\n",
    "\n",
    "fig.update_yaxes(row=1, col=1, title_text=trace_name[0])\n",
    "fig.update_yaxes(row=1, col=2, title_text=trace_name[1])\n",
    "\n",
    "fig.write_image('Figure-3-Just_times.pdf')\n",
    "fig.show()"
   ],
   "outputs": [
    {
     "output_type": "display_data",
     "data": {
      "application/vnd.plotly.v1+json": {
       "config": {
        "plotlyServerURL": "https://plot.ly"
       },
       "data": [
        {
         "line": {
          "color": "grey"
         },
         "mode": "lines",
         "name": "Mean",
         "type": "scatter",
         "x": [
          0.1,
          0.2,
          0.30000000000000004,
          0.4,
          0.5,
          0.6,
          0.7000000000000001,
          0.8,
          0.9,
          1,
          1.1,
          1.2000000000000002,
          1.3000000000000003,
          1.4000000000000001,
          1.5000000000000002,
          1.6,
          1.7000000000000002,
          1.8000000000000003,
          1.9000000000000001,
          2,
          2.1,
          2.2,
          2.3000000000000003,
          2.4000000000000004
         ],
         "xaxis": "x",
         "y": [
          null,
          null,
          null,
          null,
          10,
          19,
          20,
          22,
          23,
          23,
          42,
          42,
          43,
          43,
          43,
          43,
          44,
          44,
          44,
          44,
          45,
          45,
          45,
          46
         ],
         "yaxis": "y"
        },
        {
         "line": {
          "color": "orange",
          "dash": "dot"
         },
         "mode": "lines",
         "name": "2.5<sup>th</sup> percentile",
         "type": "scatter",
         "x": [
          0.1,
          0.2,
          0.30000000000000004,
          0.4,
          0.5,
          0.6,
          0.7000000000000001,
          0.8,
          0.9,
          1,
          1.1,
          1.2000000000000002,
          1.3000000000000003,
          1.4000000000000001,
          1.5000000000000002,
          1.6,
          1.7000000000000002,
          1.8000000000000003,
          1.9000000000000001,
          2,
          2.1,
          2.2,
          2.3000000000000003,
          2.4000000000000004
         ],
         "xaxis": "x",
         "y": [
          10,
          11,
          11,
          20,
          21,
          22,
          42,
          43,
          43,
          43,
          43,
          43,
          44,
          44,
          44,
          44,
          45,
          45,
          46,
          46,
          46,
          46,
          47,
          47
         ],
         "yaxis": "y"
        },
        {
         "line": {
          "color": "green",
          "dash": "dot"
         },
         "mode": "lines",
         "name": "97.5<sup>th</sup> percentile",
         "type": "scatter",
         "x": [
          0.1,
          0.2,
          0.30000000000000004,
          0.4,
          0.5,
          0.6,
          0.7000000000000001,
          0.8,
          0.9,
          1,
          1.1,
          1.2000000000000002,
          1.3000000000000003,
          1.4000000000000001,
          1.5000000000000002,
          1.6,
          1.7000000000000002,
          1.8000000000000003,
          1.9000000000000001,
          2,
          2.1,
          2.2,
          2.3000000000000003,
          2.4000000000000004
         ],
         "xaxis": "x",
         "y": [
          null,
          null,
          null,
          null,
          null,
          null,
          null,
          null,
          20,
          21,
          22,
          23,
          23,
          24,
          24,
          42,
          42,
          43,
          43,
          43,
          43,
          44,
          44,
          44
         ],
         "yaxis": "y"
        },
        {
         "line": {
          "color": "grey"
         },
         "mode": "lines",
         "name": "Mean",
         "showlegend": false,
         "type": "scatter",
         "x": [
          0.1,
          0.2,
          0.30000000000000004,
          0.4,
          0.5,
          0.6,
          0.7000000000000001,
          0.8,
          0.9,
          1,
          1.1,
          1.2000000000000002,
          1.3000000000000003,
          1.4000000000000001,
          1.5000000000000002,
          1.6,
          1.7000000000000002,
          1.8000000000000003,
          1.9000000000000001,
          2,
          2.1,
          2.2,
          2.3000000000000003,
          2.4000000000000004
         ],
         "xaxis": "x2",
         "y": [
          30,
          29,
          27,
          25,
          24,
          22,
          21,
          19,
          19,
          18,
          18,
          15,
          15,
          14,
          10,
          10,
          10,
          10,
          10,
          10,
          9,
          9,
          9,
          9
         ],
         "yaxis": "y2"
        },
        {
         "line": {
          "color": "orange",
          "dash": "dot"
         },
         "mode": "lines",
         "name": "2.5<sup>th</sup> percentile",
         "showlegend": false,
         "type": "scatter",
         "x": [
          0.1,
          0.2,
          0.30000000000000004,
          0.4,
          0.5,
          0.6,
          0.7000000000000001,
          0.8,
          0.9,
          1,
          1.1,
          1.2000000000000002,
          1.3000000000000003,
          1.4000000000000001,
          1.5000000000000002,
          1.6,
          1.7000000000000002,
          1.8000000000000003,
          1.9000000000000001,
          2,
          2.1,
          2.2,
          2.3000000000000003,
          2.4000000000000004
         ],
         "xaxis": "x2",
         "y": [
          29,
          27,
          24,
          21,
          19,
          18,
          10,
          10,
          10,
          9,
          9,
          9,
          9,
          null,
          null,
          null,
          null,
          null,
          null,
          null,
          null,
          null,
          null,
          null
         ],
         "yaxis": "y2"
        },
        {
         "line": {
          "color": "green",
          "dash": "dot"
         },
         "mode": "lines",
         "name": "97.5<sup>th</sup> percentile",
         "showlegend": false,
         "type": "scatter",
         "x": [
          0.1,
          0.2,
          0.30000000000000004,
          0.4,
          0.5,
          0.6,
          0.7000000000000001,
          0.8,
          0.9,
          1,
          1.1,
          1.2000000000000002,
          1.3000000000000003,
          1.4000000000000001,
          1.5000000000000002,
          1.6,
          1.7000000000000002,
          1.8000000000000003,
          1.9000000000000001,
          2,
          2.1,
          2.2,
          2.3000000000000003,
          2.4000000000000004
         ],
         "xaxis": "x2",
         "y": [
          34,
          30,
          29,
          28,
          26,
          25,
          24,
          23,
          22,
          21,
          21,
          19,
          19,
          19,
          18,
          18,
          18,
          16,
          15,
          15,
          15,
          14,
          14,
          14
         ],
         "yaxis": "y2"
        },
        {
         "line": {
          "color": "grey"
         },
         "mode": "lines",
         "name": "Mean",
         "showlegend": false,
         "type": "scatter",
         "x": [
          0.1,
          0.2,
          0.30000000000000004,
          0.4,
          0.5,
          0.6,
          0.7000000000000001,
          0.8,
          0.9,
          1,
          1.1,
          1.2000000000000002,
          1.3000000000000003,
          1.4000000000000001,
          1.5000000000000002,
          1.6,
          1.7000000000000002,
          1.8000000000000003,
          1.9000000000000001,
          2,
          2.1,
          2.2,
          2.3000000000000003,
          2.4000000000000004
         ],
         "xaxis": "x3",
         "y": [
          32,
          31,
          31,
          30,
          30,
          29,
          29,
          29,
          28,
          28,
          28,
          26,
          26,
          25,
          24,
          15,
          15,
          15,
          15,
          15,
          15,
          15,
          15,
          14
         ],
         "yaxis": "y3"
        },
        {
         "line": {
          "color": "orange",
          "dash": "dot"
         },
         "mode": "lines",
         "name": "2.5<sup>th</sup> percentile",
         "showlegend": false,
         "type": "scatter",
         "x": [
          0.1,
          0.2,
          0.30000000000000004,
          0.4,
          0.5,
          0.6,
          0.7000000000000001,
          0.8,
          0.9,
          1,
          1.1,
          1.2000000000000002,
          1.3000000000000003,
          1.4000000000000001,
          1.5000000000000002,
          1.6,
          1.7000000000000002,
          1.8000000000000003,
          1.9000000000000001,
          2,
          2.1,
          2.2,
          2.3000000000000003,
          2.4000000000000004
         ],
         "xaxis": "x3",
         "y": [
          31,
          30,
          29,
          29,
          29,
          28,
          28,
          26,
          26,
          25,
          15,
          14,
          14,
          14,
          14,
          13,
          13,
          13,
          null,
          null,
          null,
          null,
          null,
          null
         ],
         "yaxis": "y3"
        },
        {
         "line": {
          "color": "green",
          "dash": "dot"
         },
         "mode": "lines",
         "name": "97.5<sup>th</sup> percentile",
         "showlegend": false,
         "type": "scatter",
         "x": [
          0.1,
          0.2,
          0.30000000000000004,
          0.4,
          0.5,
          0.6,
          0.7000000000000001,
          0.8,
          0.9,
          1,
          1.1,
          1.2000000000000002,
          1.3000000000000003,
          1.4000000000000001,
          1.5000000000000002,
          1.6,
          1.7000000000000002,
          1.8000000000000003,
          1.9000000000000001,
          2,
          2.1,
          2.2,
          2.3000000000000003,
          2.4000000000000004
         ],
         "xaxis": "x3",
         "y": [
          34,
          34,
          32,
          32,
          31,
          31,
          31,
          30,
          30,
          29,
          29,
          29,
          28,
          28,
          28,
          26,
          26,
          26,
          25,
          24,
          19,
          16,
          16,
          16
         ],
         "yaxis": "y3"
        }
       ],
       "layout": {
        "annotations": [
         {
          "font": {
           "size": 16
          },
          "showarrow": false,
          "text": "Ontario",
          "x": 0.14444444444444446,
          "xanchor": "center",
          "xref": "paper",
          "y": 1,
          "yanchor": "bottom",
          "yref": "paper"
         },
         {
          "font": {
           "size": 16
          },
          "showarrow": false,
          "text": "New South Wales",
          "x": 0.5,
          "xanchor": "center",
          "xref": "paper",
          "y": 1,
          "yanchor": "bottom",
          "yref": "paper"
         },
         {
          "font": {
           "size": 16
          },
          "showarrow": false,
          "text": "Victoria",
          "x": 0.8555555555555556,
          "xanchor": "center",
          "xref": "paper",
          "y": 1,
          "yanchor": "bottom",
          "yref": "paper"
         }
        ],
        "height": 350,
        "legend": {
         "orientation": "h",
         "x": 1,
         "xanchor": "right",
         "y": 1.1,
         "yanchor": "bottom"
        },
        "plot_bgcolor": "white",
        "template": {
         "data": {
          "bar": [
           {
            "error_x": {
             "color": "#2a3f5f"
            },
            "error_y": {
             "color": "#2a3f5f"
            },
            "marker": {
             "line": {
              "color": "#E5ECF6",
              "width": 0.5
             }
            },
            "type": "bar"
           }
          ],
          "barpolar": [
           {
            "marker": {
             "line": {
              "color": "#E5ECF6",
              "width": 0.5
             }
            },
            "type": "barpolar"
           }
          ],
          "carpet": [
           {
            "aaxis": {
             "endlinecolor": "#2a3f5f",
             "gridcolor": "white",
             "linecolor": "white",
             "minorgridcolor": "white",
             "startlinecolor": "#2a3f5f"
            },
            "baxis": {
             "endlinecolor": "#2a3f5f",
             "gridcolor": "white",
             "linecolor": "white",
             "minorgridcolor": "white",
             "startlinecolor": "#2a3f5f"
            },
            "type": "carpet"
           }
          ],
          "choropleth": [
           {
            "colorbar": {
             "outlinewidth": 0,
             "ticks": ""
            },
            "type": "choropleth"
           }
          ],
          "contour": [
           {
            "colorbar": {
             "outlinewidth": 0,
             "ticks": ""
            },
            "colorscale": [
             [
              0,
              "#0d0887"
             ],
             [
              0.1111111111111111,
              "#46039f"
             ],
             [
              0.2222222222222222,
              "#7201a8"
             ],
             [
              0.3333333333333333,
              "#9c179e"
             ],
             [
              0.4444444444444444,
              "#bd3786"
             ],
             [
              0.5555555555555556,
              "#d8576b"
             ],
             [
              0.6666666666666666,
              "#ed7953"
             ],
             [
              0.7777777777777778,
              "#fb9f3a"
             ],
             [
              0.8888888888888888,
              "#fdca26"
             ],
             [
              1,
              "#f0f921"
             ]
            ],
            "type": "contour"
           }
          ],
          "contourcarpet": [
           {
            "colorbar": {
             "outlinewidth": 0,
             "ticks": ""
            },
            "type": "contourcarpet"
           }
          ],
          "heatmap": [
           {
            "colorbar": {
             "outlinewidth": 0,
             "ticks": ""
            },
            "colorscale": [
             [
              0,
              "#0d0887"
             ],
             [
              0.1111111111111111,
              "#46039f"
             ],
             [
              0.2222222222222222,
              "#7201a8"
             ],
             [
              0.3333333333333333,
              "#9c179e"
             ],
             [
              0.4444444444444444,
              "#bd3786"
             ],
             [
              0.5555555555555556,
              "#d8576b"
             ],
             [
              0.6666666666666666,
              "#ed7953"
             ],
             [
              0.7777777777777778,
              "#fb9f3a"
             ],
             [
              0.8888888888888888,
              "#fdca26"
             ],
             [
              1,
              "#f0f921"
             ]
            ],
            "type": "heatmap"
           }
          ],
          "heatmapgl": [
           {
            "colorbar": {
             "outlinewidth": 0,
             "ticks": ""
            },
            "colorscale": [
             [
              0,
              "#0d0887"
             ],
             [
              0.1111111111111111,
              "#46039f"
             ],
             [
              0.2222222222222222,
              "#7201a8"
             ],
             [
              0.3333333333333333,
              "#9c179e"
             ],
             [
              0.4444444444444444,
              "#bd3786"
             ],
             [
              0.5555555555555556,
              "#d8576b"
             ],
             [
              0.6666666666666666,
              "#ed7953"
             ],
             [
              0.7777777777777778,
              "#fb9f3a"
             ],
             [
              0.8888888888888888,
              "#fdca26"
             ],
             [
              1,
              "#f0f921"
             ]
            ],
            "type": "heatmapgl"
           }
          ],
          "histogram": [
           {
            "marker": {
             "colorbar": {
              "outlinewidth": 0,
              "ticks": ""
             }
            },
            "type": "histogram"
           }
          ],
          "histogram2d": [
           {
            "colorbar": {
             "outlinewidth": 0,
             "ticks": ""
            },
            "colorscale": [
             [
              0,
              "#0d0887"
             ],
             [
              0.1111111111111111,
              "#46039f"
             ],
             [
              0.2222222222222222,
              "#7201a8"
             ],
             [
              0.3333333333333333,
              "#9c179e"
             ],
             [
              0.4444444444444444,
              "#bd3786"
             ],
             [
              0.5555555555555556,
              "#d8576b"
             ],
             [
              0.6666666666666666,
              "#ed7953"
             ],
             [
              0.7777777777777778,
              "#fb9f3a"
             ],
             [
              0.8888888888888888,
              "#fdca26"
             ],
             [
              1,
              "#f0f921"
             ]
            ],
            "type": "histogram2d"
           }
          ],
          "histogram2dcontour": [
           {
            "colorbar": {
             "outlinewidth": 0,
             "ticks": ""
            },
            "colorscale": [
             [
              0,
              "#0d0887"
             ],
             [
              0.1111111111111111,
              "#46039f"
             ],
             [
              0.2222222222222222,
              "#7201a8"
             ],
             [
              0.3333333333333333,
              "#9c179e"
             ],
             [
              0.4444444444444444,
              "#bd3786"
             ],
             [
              0.5555555555555556,
              "#d8576b"
             ],
             [
              0.6666666666666666,
              "#ed7953"
             ],
             [
              0.7777777777777778,
              "#fb9f3a"
             ],
             [
              0.8888888888888888,
              "#fdca26"
             ],
             [
              1,
              "#f0f921"
             ]
            ],
            "type": "histogram2dcontour"
           }
          ],
          "mesh3d": [
           {
            "colorbar": {
             "outlinewidth": 0,
             "ticks": ""
            },
            "type": "mesh3d"
           }
          ],
          "parcoords": [
           {
            "line": {
             "colorbar": {
              "outlinewidth": 0,
              "ticks": ""
             }
            },
            "type": "parcoords"
           }
          ],
          "pie": [
           {
            "automargin": true,
            "type": "pie"
           }
          ],
          "scatter": [
           {
            "marker": {
             "colorbar": {
              "outlinewidth": 0,
              "ticks": ""
             }
            },
            "type": "scatter"
           }
          ],
          "scatter3d": [
           {
            "line": {
             "colorbar": {
              "outlinewidth": 0,
              "ticks": ""
             }
            },
            "marker": {
             "colorbar": {
              "outlinewidth": 0,
              "ticks": ""
             }
            },
            "type": "scatter3d"
           }
          ],
          "scattercarpet": [
           {
            "marker": {
             "colorbar": {
              "outlinewidth": 0,
              "ticks": ""
             }
            },
            "type": "scattercarpet"
           }
          ],
          "scattergeo": [
           {
            "marker": {
             "colorbar": {
              "outlinewidth": 0,
              "ticks": ""
             }
            },
            "type": "scattergeo"
           }
          ],
          "scattergl": [
           {
            "marker": {
             "colorbar": {
              "outlinewidth": 0,
              "ticks": ""
             }
            },
            "type": "scattergl"
           }
          ],
          "scattermapbox": [
           {
            "marker": {
             "colorbar": {
              "outlinewidth": 0,
              "ticks": ""
             }
            },
            "type": "scattermapbox"
           }
          ],
          "scatterpolar": [
           {
            "marker": {
             "colorbar": {
              "outlinewidth": 0,
              "ticks": ""
             }
            },
            "type": "scatterpolar"
           }
          ],
          "scatterpolargl": [
           {
            "marker": {
             "colorbar": {
              "outlinewidth": 0,
              "ticks": ""
             }
            },
            "type": "scatterpolargl"
           }
          ],
          "scatterternary": [
           {
            "marker": {
             "colorbar": {
              "outlinewidth": 0,
              "ticks": ""
             }
            },
            "type": "scatterternary"
           }
          ],
          "surface": [
           {
            "colorbar": {
             "outlinewidth": 0,
             "ticks": ""
            },
            "colorscale": [
             [
              0,
              "#0d0887"
             ],
             [
              0.1111111111111111,
              "#46039f"
             ],
             [
              0.2222222222222222,
              "#7201a8"
             ],
             [
              0.3333333333333333,
              "#9c179e"
             ],
             [
              0.4444444444444444,
              "#bd3786"
             ],
             [
              0.5555555555555556,
              "#d8576b"
             ],
             [
              0.6666666666666666,
              "#ed7953"
             ],
             [
              0.7777777777777778,
              "#fb9f3a"
             ],
             [
              0.8888888888888888,
              "#fdca26"
             ],
             [
              1,
              "#f0f921"
             ]
            ],
            "type": "surface"
           }
          ],
          "table": [
           {
            "cells": {
             "fill": {
              "color": "#EBF0F8"
             },
             "line": {
              "color": "white"
             }
            },
            "header": {
             "fill": {
              "color": "#C8D4E3"
             },
             "line": {
              "color": "white"
             }
            },
            "type": "table"
           }
          ]
         },
         "layout": {
          "annotationdefaults": {
           "arrowcolor": "#2a3f5f",
           "arrowhead": 0,
           "arrowwidth": 1
          },
          "autotypenumbers": "strict",
          "coloraxis": {
           "colorbar": {
            "outlinewidth": 0,
            "ticks": ""
           }
          },
          "colorscale": {
           "diverging": [
            [
             0,
             "#8e0152"
            ],
            [
             0.1,
             "#c51b7d"
            ],
            [
             0.2,
             "#de77ae"
            ],
            [
             0.3,
             "#f1b6da"
            ],
            [
             0.4,
             "#fde0ef"
            ],
            [
             0.5,
             "#f7f7f7"
            ],
            [
             0.6,
             "#e6f5d0"
            ],
            [
             0.7,
             "#b8e186"
            ],
            [
             0.8,
             "#7fbc41"
            ],
            [
             0.9,
             "#4d9221"
            ],
            [
             1,
             "#276419"
            ]
           ],
           "sequential": [
            [
             0,
             "#0d0887"
            ],
            [
             0.1111111111111111,
             "#46039f"
            ],
            [
             0.2222222222222222,
             "#7201a8"
            ],
            [
             0.3333333333333333,
             "#9c179e"
            ],
            [
             0.4444444444444444,
             "#bd3786"
            ],
            [
             0.5555555555555556,
             "#d8576b"
            ],
            [
             0.6666666666666666,
             "#ed7953"
            ],
            [
             0.7777777777777778,
             "#fb9f3a"
            ],
            [
             0.8888888888888888,
             "#fdca26"
            ],
            [
             1,
             "#f0f921"
            ]
           ],
           "sequentialminus": [
            [
             0,
             "#0d0887"
            ],
            [
             0.1111111111111111,
             "#46039f"
            ],
            [
             0.2222222222222222,
             "#7201a8"
            ],
            [
             0.3333333333333333,
             "#9c179e"
            ],
            [
             0.4444444444444444,
             "#bd3786"
            ],
            [
             0.5555555555555556,
             "#d8576b"
            ],
            [
             0.6666666666666666,
             "#ed7953"
            ],
            [
             0.7777777777777778,
             "#fb9f3a"
            ],
            [
             0.8888888888888888,
             "#fdca26"
            ],
            [
             1,
             "#f0f921"
            ]
           ]
          },
          "colorway": [
           "#636efa",
           "#EF553B",
           "#00cc96",
           "#ab63fa",
           "#FFA15A",
           "#19d3f3",
           "#FF6692",
           "#B6E880",
           "#FF97FF",
           "#FECB52"
          ],
          "font": {
           "color": "#2a3f5f"
          },
          "geo": {
           "bgcolor": "white",
           "lakecolor": "white",
           "landcolor": "#E5ECF6",
           "showlakes": true,
           "showland": true,
           "subunitcolor": "white"
          },
          "hoverlabel": {
           "align": "left"
          },
          "hovermode": "closest",
          "mapbox": {
           "style": "light"
          },
          "paper_bgcolor": "white",
          "plot_bgcolor": "#E5ECF6",
          "polar": {
           "angularaxis": {
            "gridcolor": "white",
            "linecolor": "white",
            "ticks": ""
           },
           "bgcolor": "#E5ECF6",
           "radialaxis": {
            "gridcolor": "white",
            "linecolor": "white",
            "ticks": ""
           }
          },
          "scene": {
           "xaxis": {
            "backgroundcolor": "#E5ECF6",
            "gridcolor": "white",
            "gridwidth": 2,
            "linecolor": "white",
            "showbackground": true,
            "ticks": "",
            "zerolinecolor": "white"
           },
           "yaxis": {
            "backgroundcolor": "#E5ECF6",
            "gridcolor": "white",
            "gridwidth": 2,
            "linecolor": "white",
            "showbackground": true,
            "ticks": "",
            "zerolinecolor": "white"
           },
           "zaxis": {
            "backgroundcolor": "#E5ECF6",
            "gridcolor": "white",
            "gridwidth": 2,
            "linecolor": "white",
            "showbackground": true,
            "ticks": "",
            "zerolinecolor": "white"
           }
          },
          "shapedefaults": {
           "line": {
            "color": "#2a3f5f"
           }
          },
          "ternary": {
           "aaxis": {
            "gridcolor": "white",
            "linecolor": "white",
            "ticks": ""
           },
           "baxis": {
            "gridcolor": "white",
            "linecolor": "white",
            "ticks": ""
           },
           "bgcolor": "#E5ECF6",
           "caxis": {
            "gridcolor": "white",
            "linecolor": "white",
            "ticks": ""
           }
          },
          "title": {
           "x": 0.05
          },
          "xaxis": {
           "automargin": true,
           "gridcolor": "white",
           "linecolor": "white",
           "ticks": "",
           "title": {
            "standoff": 15
           },
           "zerolinecolor": "white",
           "zerolinewidth": 2
          },
          "yaxis": {
           "automargin": true,
           "gridcolor": "white",
           "linecolor": "white",
           "ticks": "",
           "title": {
            "standoff": 15
           },
           "zerolinecolor": "white",
           "zerolinewidth": 2
          }
         }
        },
        "width": 800,
        "xaxis": {
         "anchor": "y",
         "domain": [
          0,
          0.2888888888888889
         ],
         "linecolor": "black",
         "title": {
          "text": "ϵ"
         }
        },
        "xaxis2": {
         "anchor": "y2",
         "domain": [
          0.35555555555555557,
          0.6444444444444445
         ],
         "linecolor": "black",
         "title": {
          "text": "ϵ"
         }
        },
        "xaxis3": {
         "anchor": "y3",
         "domain": [
          0.7111111111111111,
          1
         ],
         "linecolor": "black",
         "title": {
          "text": "ϵ"
         }
        },
        "yaxis": {
         "anchor": "x",
         "domain": [
          0,
          1
         ],
         "linecolor": "black",
         "range": [
          0,
          62
         ],
         "ticktext": [
          "Mar 01",
          "Mar 11",
          "Mar 21",
          "Mar 31",
          "Apr 09",
          "Apr 19",
          "Apr 29"
         ],
         "tickvals": [
          1,
          11,
          21,
          31,
          41,
          51,
          61
         ],
         "title": {
          "text": "Last time R<sub>t</sub><sup>local</sup><1"
         }
        },
        "yaxis2": {
         "anchor": "x2",
         "domain": [
          0,
          1
         ],
         "linecolor": "black",
         "matches": "y",
         "range": [
          0,
          62
         ],
         "showticklabels": false,
         "ticktext": [
          "Mar 01",
          "Mar 11",
          "Mar 21",
          "Mar 31",
          "Apr 09",
          "Apr 19",
          "Apr 29"
         ],
         "tickvals": [
          1,
          11,
          21,
          31,
          41,
          51,
          61
         ],
         "title": {
          "text": "Last time R<sub>t</sub><sup>local</sup>>1"
         }
        },
        "yaxis3": {
         "anchor": "x3",
         "domain": [
          0,
          1
         ],
         "linecolor": "black",
         "matches": "y",
         "range": [
          0,
          62
         ],
         "showticklabels": false,
         "ticktext": [
          "Mar 01",
          "Mar 11",
          "Mar 21",
          "Mar 31",
          "Apr 09",
          "Apr 19",
          "Apr 29"
         ],
         "tickvals": [
          1,
          11,
          21,
          31,
          41,
          51,
          61
         ]
        }
       }
      }
     },
     "metadata": {}
    }
   ],
   "metadata": {}
  },
  {
   "cell_type": "code",
   "execution_count": 18,
   "source": [
    "from plotly.subplots import make_subplots\n",
    "\n",
    "colours = ['grey', 'orange', 'green']\n",
    "regions = ['Ontario', 'New South Wales', 'Victoria']\n",
    "trace_name = ['Last time R<sub>t</sub><sup>local</sup><1', 'Last time R<sub>t</sub><sup>local</sup>>1', 'Proportion of time R<sub>t</sub><sup>local</sup>>1']\n",
    "\n",
    "titles = ['{}'.format(r) for r in regions]\n",
    "titles.extend([None]*3)\n",
    "\n",
    "fig = go.Figure()\n",
    "fig = make_subplots(rows=1, cols=3, subplot_titles=tuple(titles), shared_yaxes=True)\n",
    "\n",
    "# Plot (bar chart cases each day)\n",
    "for col in range(3):\n",
    "    if col != 0:\n",
    "        # Plot of incidences\n",
    "        fig.add_trace(\n",
    "            go.Scatter(\n",
    "                x=large_epsilon_range,\n",
    "                y=new_traces_mean[1][col],\n",
    "                mode='lines',\n",
    "                name='Mean',\n",
    "                showlegend=False,\n",
    "                line_color=colours[0],\n",
    "            ),\n",
    "            row= 1,\n",
    "            col= col+1\n",
    "        )\n",
    "\n",
    "        fig.add_trace(\n",
    "            go.Scatter(\n",
    "                x=large_epsilon_range,\n",
    "                y=new_traces_lower[1][col],\n",
    "                mode='lines',\n",
    "                name='2.5<sup>th</sup> percentile',\n",
    "                showlegend=False,\n",
    "                line_color=colours[1],\n",
    "                line={'dash': 'dot'}\n",
    "            ),\n",
    "            row= 1,\n",
    "            col= col+1\n",
    "        )\n",
    "\n",
    "        fig.add_trace(\n",
    "            go.Scatter(\n",
    "                x=large_epsilon_range,\n",
    "                y=new_traces_upper[1][col],\n",
    "                mode='lines',\n",
    "                name='97.5<sup>th</sup> percentile',\n",
    "                showlegend=False,\n",
    "                line_color=colours[2],\n",
    "                line={'dash': 'dot'}\n",
    "            ),\n",
    "            row= 1,\n",
    "            col= col+1\n",
    "        )\n",
    "\n",
    "        fig.update_xaxes(row=1, col=col+1, title_text='ϵ')\n",
    "    \n",
    "    else:\n",
    "        fig.add_trace(\n",
    "            go.Scatter(\n",
    "                x=large_epsilon_range,\n",
    "                y=new_traces_mean[1][col],\n",
    "                mode='lines',\n",
    "                name='Mean',\n",
    "                line_color=colours[0]\n",
    "            ),\n",
    "            row= 1,\n",
    "            col= col+1\n",
    "        )\n",
    "\n",
    "        fig.add_trace(\n",
    "            go.Scatter(\n",
    "                x=large_epsilon_range,\n",
    "                y=new_traces_lower[1][col],\n",
    "                mode='lines',\n",
    "                name='2.5<sup>th</sup> percentile',\n",
    "                line_color=colours[1],\n",
    "                line={'dash': 'dot'}\n",
    "            ),\n",
    "            row= 1,\n",
    "            col= col+1\n",
    "        )\n",
    "\n",
    "        fig.add_trace(\n",
    "            go.Scatter(\n",
    "                x=large_epsilon_range,\n",
    "                y=new_traces_upper[1][col],\n",
    "                mode='lines',\n",
    "                name='97.5<sup>th</sup> percentile',\n",
    "                line_color=colours[2],\n",
    "                line={'dash': 'dot'}\n",
    "            ),\n",
    "            row= 1,\n",
    "            col= col+1\n",
    "        )\n",
    "\n",
    "        fig.update_xaxes(row=1, col=col+1, title_text='ϵ')\n",
    "\n",
    "\n",
    "# Add axis labels\n",
    "fig.update_layout(\n",
    "    width=800, \n",
    "    height=350,\n",
    "    plot_bgcolor='white',\n",
    "    xaxis=dict(linecolor='black'),\n",
    "    yaxis=dict(\n",
    "        linecolor='black',\n",
    "        range=[0, 1.2],\n",
    "        tickvals=np.arange(0, 1.1, 0.2).tolist(),\n",
    "        ticktext=['0', '0.2', '0.4', '0.6', '0.8', '1']),\n",
    "    xaxis2=dict(linecolor='black'),\n",
    "    yaxis2=dict(\n",
    "        linecolor='black',\n",
    "        range=[0, 1.2],\n",
    "        tickvals=np.arange(0, 1.1, 0.2).tolist(),\n",
    "        ticktext=['0', '0.2', '0.4', '0.6', '0.8', '1']),\n",
    "    xaxis3=dict(linecolor='black'),\n",
    "    yaxis3=dict(\n",
    "        linecolor='black',\n",
    "        range=[0, 1.2],\n",
    "        tickvals=np.arange(0, 1.1, 0.2).tolist(),\n",
    "        ticktext=['0', '0.2', '0.4', '0.6', '0.8', '1']),\n",
    "    legend=dict(\n",
    "        orientation='h',\n",
    "        yanchor=\"bottom\",\n",
    "        y=1.075,\n",
    "        xanchor=\"right\",\n",
    "        x=1)\n",
    "    )\n",
    "\n",
    "fig.update_yaxes(row=1, col=1, title_text=trace_name[2])\n",
    "\n",
    "fig.write_image('Figure-3-Just_proportions.pdf')\n",
    "fig.show()"
   ],
   "outputs": [
    {
     "output_type": "display_data",
     "data": {
      "application/vnd.plotly.v1+json": {
       "config": {
        "plotlyServerURL": "https://plot.ly"
       },
       "data": [
        {
         "line": {
          "color": "grey"
         },
         "mode": "lines",
         "name": "Mean",
         "type": "scatter",
         "x": [
          0.1,
          0.2,
          0.30000000000000004,
          0.4,
          0.5,
          0.6,
          0.7000000000000001,
          0.8,
          0.9,
          1,
          1.1,
          1.2000000000000002,
          1.3000000000000003,
          1.4000000000000001,
          1.5000000000000002,
          1.6,
          1.7000000000000002,
          1.8000000000000003,
          1.9000000000000001,
          2,
          2.1,
          2.2,
          2.3000000000000003,
          2.4000000000000004
         ],
         "xaxis": "x",
         "y": [
          1,
          1,
          1,
          1,
          0.9545454545454546,
          0.9318181818181818,
          0.8181818181818182,
          0.7727272727272727,
          0.75,
          0.75,
          0.6590909090909091,
          0.6590909090909091,
          0.5681818181818182,
          0.5227272727272727,
          0.4772727272727273,
          0.4318181818181818,
          0.38636363636363635,
          0.3409090909090909,
          0.29545454545454547,
          0.25,
          0.18181818181818182,
          0.1590909090909091,
          0.1590909090909091,
          0.13636363636363635
         ],
         "yaxis": "y"
        },
        {
         "line": {
          "color": "orange",
          "dash": "dot"
         },
         "mode": "lines",
         "name": "2.5<sup>th</sup> percentile",
         "type": "scatter",
         "x": [
          0.1,
          0.2,
          0.30000000000000004,
          0.4,
          0.5,
          0.6,
          0.7000000000000001,
          0.8,
          0.9,
          1,
          1.1,
          1.2000000000000002,
          1.3000000000000003,
          1.4000000000000001,
          1.5000000000000002,
          1.6,
          1.7000000000000002,
          1.8000000000000003,
          1.9000000000000001,
          2,
          2.1,
          2.2,
          2.3000000000000003,
          2.4000000000000004
         ],
         "xaxis": "x",
         "y": [
          0.9545454545454546,
          0.9318181818181818,
          0.9318181818181818,
          0.8181818181818182,
          0.7727272727272727,
          0.7272727272727273,
          0.6818181818181818,
          0.5909090909090909,
          0.5681818181818182,
          0.5,
          0.4772727272727273,
          0.45454545454545453,
          0.38636363636363635,
          0.3409090909090909,
          0.25,
          0.20454545454545456,
          0.1590909090909091,
          0.1590909090909091,
          0.13636363636363635,
          0.13636363636363635,
          0.13636363636363635,
          0.13636363636363635,
          0.11363636363636363,
          0.11363636363636363
         ],
         "yaxis": "y"
        },
        {
         "line": {
          "color": "green",
          "dash": "dot"
         },
         "mode": "lines",
         "name": "97.5<sup>th</sup> percentile",
         "type": "scatter",
         "x": [
          0.1,
          0.2,
          0.30000000000000004,
          0.4,
          0.5,
          0.6,
          0.7000000000000001,
          0.8,
          0.9,
          1,
          1.1,
          1.2000000000000002,
          1.3000000000000003,
          1.4000000000000001,
          1.5000000000000002,
          1.6,
          1.7000000000000002,
          1.8000000000000003,
          1.9000000000000001,
          2,
          2.1,
          2.2,
          2.3000000000000003,
          2.4000000000000004
         ],
         "xaxis": "x",
         "y": [
          1,
          1,
          1,
          1,
          1,
          1,
          1,
          1,
          0.9545454545454546,
          0.9090909090909091,
          0.8636363636363636,
          0.7954545454545454,
          0.75,
          0.7272727272727273,
          0.7272727272727273,
          0.6818181818181818,
          0.6363636363636364,
          0.5681818181818182,
          0.5454545454545454,
          0.5,
          0.45454545454545453,
          0.4090909090909091,
          0.3181818181818182,
          0.29545454545454547
         ],
         "yaxis": "y"
        },
        {
         "line": {
          "color": "grey"
         },
         "mode": "lines",
         "name": "Mean",
         "showlegend": false,
         "type": "scatter",
         "x": [
          0.1,
          0.2,
          0.30000000000000004,
          0.4,
          0.5,
          0.6,
          0.7000000000000001,
          0.8,
          0.9,
          1,
          1.1,
          1.2000000000000002,
          1.3000000000000003,
          1.4000000000000001,
          1.5000000000000002,
          1.6,
          1.7000000000000002,
          1.8000000000000003,
          1.9000000000000001,
          2,
          2.1,
          2.2,
          2.3000000000000003,
          2.4000000000000004
         ],
         "xaxis": "x2",
         "y": [
          0.6111111111111112,
          0.5833333333333334,
          0.5277777777777778,
          0.4722222222222222,
          0.4444444444444444,
          0.3888888888888889,
          0.3611111111111111,
          0.3055555555555556,
          0.3055555555555556,
          0.25,
          0.25,
          0.16666666666666666,
          0.1388888888888889,
          0.08333333333333333,
          0.05555555555555555,
          0.05555555555555555,
          0.05555555555555555,
          0.05555555555555555,
          0.05555555555555555,
          0.05555555555555555,
          0.027777777777777776,
          0.027777777777777776,
          0.027777777777777776,
          0.027777777777777776
         ],
         "yaxis": "y2"
        },
        {
         "line": {
          "color": "orange",
          "dash": "dot"
         },
         "mode": "lines",
         "name": "2.5<sup>th</sup> percentile",
         "showlegend": false,
         "type": "scatter",
         "x": [
          0.1,
          0.2,
          0.30000000000000004,
          0.4,
          0.5,
          0.6,
          0.7000000000000001,
          0.8,
          0.9,
          1,
          1.1,
          1.2000000000000002,
          1.3000000000000003,
          1.4000000000000001,
          1.5000000000000002,
          1.6,
          1.7000000000000002,
          1.8000000000000003,
          1.9000000000000001,
          2,
          2.1,
          2.2,
          2.3000000000000003,
          2.4000000000000004
         ],
         "xaxis": "x2",
         "y": [
          0.5833333333333334,
          0.5277777777777778,
          0.4444444444444444,
          0.25,
          0.19444444444444445,
          0.1388888888888889,
          0.05555555555555555,
          0.05555555555555555,
          0.05555555555555555,
          0.027777777777777776,
          0.027777777777777776,
          0.027777777777777776,
          0.027777777777777776,
          0,
          0,
          0,
          0,
          0,
          0,
          0,
          0,
          0,
          0,
          0
         ],
         "yaxis": "y2"
        },
        {
         "line": {
          "color": "green",
          "dash": "dot"
         },
         "mode": "lines",
         "name": "97.5<sup>th</sup> percentile",
         "showlegend": false,
         "type": "scatter",
         "x": [
          0.1,
          0.2,
          0.30000000000000004,
          0.4,
          0.5,
          0.6,
          0.7000000000000001,
          0.8,
          0.9,
          1,
          1.1,
          1.2000000000000002,
          1.3000000000000003,
          1.4000000000000001,
          1.5000000000000002,
          1.6,
          1.7000000000000002,
          1.8000000000000003,
          1.9000000000000001,
          2,
          2.1,
          2.2,
          2.3000000000000003,
          2.4000000000000004
         ],
         "xaxis": "x2",
         "y": [
          0.7222222222222222,
          0.6111111111111112,
          0.5833333333333334,
          0.5555555555555556,
          0.5,
          0.4722222222222222,
          0.4444444444444444,
          0.4166666666666667,
          0.3888888888888889,
          0.3611111111111111,
          0.3611111111111111,
          0.3055555555555556,
          0.3055555555555556,
          0.3055555555555556,
          0.2777777777777778,
          0.2777777777777778,
          0.25,
          0.2222222222222222,
          0.19444444444444445,
          0.19444444444444445,
          0.19444444444444445,
          0.1388888888888889,
          0.1388888888888889,
          0.1111111111111111
         ],
         "yaxis": "y2"
        },
        {
         "line": {
          "color": "grey"
         },
         "mode": "lines",
         "name": "Mean",
         "showlegend": false,
         "type": "scatter",
         "x": [
          0.1,
          0.2,
          0.30000000000000004,
          0.4,
          0.5,
          0.6,
          0.7000000000000001,
          0.8,
          0.9,
          1,
          1.1,
          1.2000000000000002,
          1.3000000000000003,
          1.4000000000000001,
          1.5000000000000002,
          1.6,
          1.7000000000000002,
          1.8000000000000003,
          1.9000000000000001,
          2,
          2.1,
          2.2,
          2.3000000000000003,
          2.4000000000000004
         ],
         "xaxis": "x3",
         "y": [
          0.6486486486486487,
          0.6216216216216216,
          0.6216216216216216,
          0.5945945945945946,
          0.5945945945945946,
          0.5675675675675675,
          0.5675675675675675,
          0.5675675675675675,
          0.4864864864864865,
          0.4594594594594595,
          0.43243243243243246,
          0.35135135135135137,
          0.32432432432432434,
          0.24324324324324326,
          0.16216216216216217,
          0.10810810810810811,
          0.10810810810810811,
          0.10810810810810811,
          0.08108108108108109,
          0.08108108108108109,
          0.08108108108108109,
          0.08108108108108109,
          0.08108108108108109,
          0.05405405405405406
         ],
         "yaxis": "y3"
        },
        {
         "line": {
          "color": "orange",
          "dash": "dot"
         },
         "mode": "lines",
         "name": "2.5<sup>th</sup> percentile",
         "showlegend": false,
         "type": "scatter",
         "x": [
          0.1,
          0.2,
          0.30000000000000004,
          0.4,
          0.5,
          0.6,
          0.7000000000000001,
          0.8,
          0.9,
          1,
          1.1,
          1.2000000000000002,
          1.3000000000000003,
          1.4000000000000001,
          1.5000000000000002,
          1.6,
          1.7000000000000002,
          1.8000000000000003,
          1.9000000000000001,
          2,
          2.1,
          2.2,
          2.3000000000000003,
          2.4000000000000004
         ],
         "xaxis": "x3",
         "y": [
          0.6216216216216216,
          0.5675675675675675,
          0.5405405405405406,
          0.43243243243243246,
          0.40540540540540543,
          0.32432432432432434,
          0.2702702702702703,
          0.1891891891891892,
          0.1891891891891892,
          0.16216216216216217,
          0.08108108108108109,
          0.05405405405405406,
          0.05405405405405406,
          0.05405405405405406,
          0.05405405405405406,
          0.02702702702702703,
          0.02702702702702703,
          0.02702702702702703,
          0,
          0,
          0,
          0,
          0,
          0
         ],
         "yaxis": "y3"
        },
        {
         "line": {
          "color": "green",
          "dash": "dot"
         },
         "mode": "lines",
         "name": "97.5<sup>th</sup> percentile",
         "showlegend": false,
         "type": "scatter",
         "x": [
          0.1,
          0.2,
          0.30000000000000004,
          0.4,
          0.5,
          0.6,
          0.7000000000000001,
          0.8,
          0.9,
          1,
          1.1,
          1.2000000000000002,
          1.3000000000000003,
          1.4000000000000001,
          1.5000000000000002,
          1.6,
          1.7000000000000002,
          1.8000000000000003,
          1.9000000000000001,
          2,
          2.1,
          2.2,
          2.3000000000000003,
          2.4000000000000004
         ],
         "xaxis": "x3",
         "y": [
          0.7027027027027027,
          0.7027027027027027,
          0.6486486486486487,
          0.6486486486486487,
          0.6216216216216216,
          0.6216216216216216,
          0.6216216216216216,
          0.5945945945945946,
          0.5945945945945946,
          0.5675675675675675,
          0.5675675675675675,
          0.5675675675675675,
          0.5405405405405406,
          0.5135135135135135,
          0.4864864864864865,
          0.43243243243243246,
          0.40540540540540543,
          0.40540540540540543,
          0.3783783783783784,
          0.35135135135135137,
          0.2972972972972973,
          0.21621621621621623,
          0.21621621621621623,
          0.21621621621621623
         ],
         "yaxis": "y3"
        }
       ],
       "layout": {
        "annotations": [
         {
          "font": {
           "size": 16
          },
          "showarrow": false,
          "text": "Ontario",
          "x": 0.14444444444444446,
          "xanchor": "center",
          "xref": "paper",
          "y": 1,
          "yanchor": "bottom",
          "yref": "paper"
         },
         {
          "font": {
           "size": 16
          },
          "showarrow": false,
          "text": "New South Wales",
          "x": 0.5,
          "xanchor": "center",
          "xref": "paper",
          "y": 1,
          "yanchor": "bottom",
          "yref": "paper"
         },
         {
          "font": {
           "size": 16
          },
          "showarrow": false,
          "text": "Victoria",
          "x": 0.8555555555555556,
          "xanchor": "center",
          "xref": "paper",
          "y": 1,
          "yanchor": "bottom",
          "yref": "paper"
         }
        ],
        "height": 350,
        "legend": {
         "orientation": "h",
         "x": 1,
         "xanchor": "right",
         "y": 1.075,
         "yanchor": "bottom"
        },
        "plot_bgcolor": "white",
        "template": {
         "data": {
          "bar": [
           {
            "error_x": {
             "color": "#2a3f5f"
            },
            "error_y": {
             "color": "#2a3f5f"
            },
            "marker": {
             "line": {
              "color": "#E5ECF6",
              "width": 0.5
             }
            },
            "type": "bar"
           }
          ],
          "barpolar": [
           {
            "marker": {
             "line": {
              "color": "#E5ECF6",
              "width": 0.5
             }
            },
            "type": "barpolar"
           }
          ],
          "carpet": [
           {
            "aaxis": {
             "endlinecolor": "#2a3f5f",
             "gridcolor": "white",
             "linecolor": "white",
             "minorgridcolor": "white",
             "startlinecolor": "#2a3f5f"
            },
            "baxis": {
             "endlinecolor": "#2a3f5f",
             "gridcolor": "white",
             "linecolor": "white",
             "minorgridcolor": "white",
             "startlinecolor": "#2a3f5f"
            },
            "type": "carpet"
           }
          ],
          "choropleth": [
           {
            "colorbar": {
             "outlinewidth": 0,
             "ticks": ""
            },
            "type": "choropleth"
           }
          ],
          "contour": [
           {
            "colorbar": {
             "outlinewidth": 0,
             "ticks": ""
            },
            "colorscale": [
             [
              0,
              "#0d0887"
             ],
             [
              0.1111111111111111,
              "#46039f"
             ],
             [
              0.2222222222222222,
              "#7201a8"
             ],
             [
              0.3333333333333333,
              "#9c179e"
             ],
             [
              0.4444444444444444,
              "#bd3786"
             ],
             [
              0.5555555555555556,
              "#d8576b"
             ],
             [
              0.6666666666666666,
              "#ed7953"
             ],
             [
              0.7777777777777778,
              "#fb9f3a"
             ],
             [
              0.8888888888888888,
              "#fdca26"
             ],
             [
              1,
              "#f0f921"
             ]
            ],
            "type": "contour"
           }
          ],
          "contourcarpet": [
           {
            "colorbar": {
             "outlinewidth": 0,
             "ticks": ""
            },
            "type": "contourcarpet"
           }
          ],
          "heatmap": [
           {
            "colorbar": {
             "outlinewidth": 0,
             "ticks": ""
            },
            "colorscale": [
             [
              0,
              "#0d0887"
             ],
             [
              0.1111111111111111,
              "#46039f"
             ],
             [
              0.2222222222222222,
              "#7201a8"
             ],
             [
              0.3333333333333333,
              "#9c179e"
             ],
             [
              0.4444444444444444,
              "#bd3786"
             ],
             [
              0.5555555555555556,
              "#d8576b"
             ],
             [
              0.6666666666666666,
              "#ed7953"
             ],
             [
              0.7777777777777778,
              "#fb9f3a"
             ],
             [
              0.8888888888888888,
              "#fdca26"
             ],
             [
              1,
              "#f0f921"
             ]
            ],
            "type": "heatmap"
           }
          ],
          "heatmapgl": [
           {
            "colorbar": {
             "outlinewidth": 0,
             "ticks": ""
            },
            "colorscale": [
             [
              0,
              "#0d0887"
             ],
             [
              0.1111111111111111,
              "#46039f"
             ],
             [
              0.2222222222222222,
              "#7201a8"
             ],
             [
              0.3333333333333333,
              "#9c179e"
             ],
             [
              0.4444444444444444,
              "#bd3786"
             ],
             [
              0.5555555555555556,
              "#d8576b"
             ],
             [
              0.6666666666666666,
              "#ed7953"
             ],
             [
              0.7777777777777778,
              "#fb9f3a"
             ],
             [
              0.8888888888888888,
              "#fdca26"
             ],
             [
              1,
              "#f0f921"
             ]
            ],
            "type": "heatmapgl"
           }
          ],
          "histogram": [
           {
            "marker": {
             "colorbar": {
              "outlinewidth": 0,
              "ticks": ""
             }
            },
            "type": "histogram"
           }
          ],
          "histogram2d": [
           {
            "colorbar": {
             "outlinewidth": 0,
             "ticks": ""
            },
            "colorscale": [
             [
              0,
              "#0d0887"
             ],
             [
              0.1111111111111111,
              "#46039f"
             ],
             [
              0.2222222222222222,
              "#7201a8"
             ],
             [
              0.3333333333333333,
              "#9c179e"
             ],
             [
              0.4444444444444444,
              "#bd3786"
             ],
             [
              0.5555555555555556,
              "#d8576b"
             ],
             [
              0.6666666666666666,
              "#ed7953"
             ],
             [
              0.7777777777777778,
              "#fb9f3a"
             ],
             [
              0.8888888888888888,
              "#fdca26"
             ],
             [
              1,
              "#f0f921"
             ]
            ],
            "type": "histogram2d"
           }
          ],
          "histogram2dcontour": [
           {
            "colorbar": {
             "outlinewidth": 0,
             "ticks": ""
            },
            "colorscale": [
             [
              0,
              "#0d0887"
             ],
             [
              0.1111111111111111,
              "#46039f"
             ],
             [
              0.2222222222222222,
              "#7201a8"
             ],
             [
              0.3333333333333333,
              "#9c179e"
             ],
             [
              0.4444444444444444,
              "#bd3786"
             ],
             [
              0.5555555555555556,
              "#d8576b"
             ],
             [
              0.6666666666666666,
              "#ed7953"
             ],
             [
              0.7777777777777778,
              "#fb9f3a"
             ],
             [
              0.8888888888888888,
              "#fdca26"
             ],
             [
              1,
              "#f0f921"
             ]
            ],
            "type": "histogram2dcontour"
           }
          ],
          "mesh3d": [
           {
            "colorbar": {
             "outlinewidth": 0,
             "ticks": ""
            },
            "type": "mesh3d"
           }
          ],
          "parcoords": [
           {
            "line": {
             "colorbar": {
              "outlinewidth": 0,
              "ticks": ""
             }
            },
            "type": "parcoords"
           }
          ],
          "pie": [
           {
            "automargin": true,
            "type": "pie"
           }
          ],
          "scatter": [
           {
            "marker": {
             "colorbar": {
              "outlinewidth": 0,
              "ticks": ""
             }
            },
            "type": "scatter"
           }
          ],
          "scatter3d": [
           {
            "line": {
             "colorbar": {
              "outlinewidth": 0,
              "ticks": ""
             }
            },
            "marker": {
             "colorbar": {
              "outlinewidth": 0,
              "ticks": ""
             }
            },
            "type": "scatter3d"
           }
          ],
          "scattercarpet": [
           {
            "marker": {
             "colorbar": {
              "outlinewidth": 0,
              "ticks": ""
             }
            },
            "type": "scattercarpet"
           }
          ],
          "scattergeo": [
           {
            "marker": {
             "colorbar": {
              "outlinewidth": 0,
              "ticks": ""
             }
            },
            "type": "scattergeo"
           }
          ],
          "scattergl": [
           {
            "marker": {
             "colorbar": {
              "outlinewidth": 0,
              "ticks": ""
             }
            },
            "type": "scattergl"
           }
          ],
          "scattermapbox": [
           {
            "marker": {
             "colorbar": {
              "outlinewidth": 0,
              "ticks": ""
             }
            },
            "type": "scattermapbox"
           }
          ],
          "scatterpolar": [
           {
            "marker": {
             "colorbar": {
              "outlinewidth": 0,
              "ticks": ""
             }
            },
            "type": "scatterpolar"
           }
          ],
          "scatterpolargl": [
           {
            "marker": {
             "colorbar": {
              "outlinewidth": 0,
              "ticks": ""
             }
            },
            "type": "scatterpolargl"
           }
          ],
          "scatterternary": [
           {
            "marker": {
             "colorbar": {
              "outlinewidth": 0,
              "ticks": ""
             }
            },
            "type": "scatterternary"
           }
          ],
          "surface": [
           {
            "colorbar": {
             "outlinewidth": 0,
             "ticks": ""
            },
            "colorscale": [
             [
              0,
              "#0d0887"
             ],
             [
              0.1111111111111111,
              "#46039f"
             ],
             [
              0.2222222222222222,
              "#7201a8"
             ],
             [
              0.3333333333333333,
              "#9c179e"
             ],
             [
              0.4444444444444444,
              "#bd3786"
             ],
             [
              0.5555555555555556,
              "#d8576b"
             ],
             [
              0.6666666666666666,
              "#ed7953"
             ],
             [
              0.7777777777777778,
              "#fb9f3a"
             ],
             [
              0.8888888888888888,
              "#fdca26"
             ],
             [
              1,
              "#f0f921"
             ]
            ],
            "type": "surface"
           }
          ],
          "table": [
           {
            "cells": {
             "fill": {
              "color": "#EBF0F8"
             },
             "line": {
              "color": "white"
             }
            },
            "header": {
             "fill": {
              "color": "#C8D4E3"
             },
             "line": {
              "color": "white"
             }
            },
            "type": "table"
           }
          ]
         },
         "layout": {
          "annotationdefaults": {
           "arrowcolor": "#2a3f5f",
           "arrowhead": 0,
           "arrowwidth": 1
          },
          "autotypenumbers": "strict",
          "coloraxis": {
           "colorbar": {
            "outlinewidth": 0,
            "ticks": ""
           }
          },
          "colorscale": {
           "diverging": [
            [
             0,
             "#8e0152"
            ],
            [
             0.1,
             "#c51b7d"
            ],
            [
             0.2,
             "#de77ae"
            ],
            [
             0.3,
             "#f1b6da"
            ],
            [
             0.4,
             "#fde0ef"
            ],
            [
             0.5,
             "#f7f7f7"
            ],
            [
             0.6,
             "#e6f5d0"
            ],
            [
             0.7,
             "#b8e186"
            ],
            [
             0.8,
             "#7fbc41"
            ],
            [
             0.9,
             "#4d9221"
            ],
            [
             1,
             "#276419"
            ]
           ],
           "sequential": [
            [
             0,
             "#0d0887"
            ],
            [
             0.1111111111111111,
             "#46039f"
            ],
            [
             0.2222222222222222,
             "#7201a8"
            ],
            [
             0.3333333333333333,
             "#9c179e"
            ],
            [
             0.4444444444444444,
             "#bd3786"
            ],
            [
             0.5555555555555556,
             "#d8576b"
            ],
            [
             0.6666666666666666,
             "#ed7953"
            ],
            [
             0.7777777777777778,
             "#fb9f3a"
            ],
            [
             0.8888888888888888,
             "#fdca26"
            ],
            [
             1,
             "#f0f921"
            ]
           ],
           "sequentialminus": [
            [
             0,
             "#0d0887"
            ],
            [
             0.1111111111111111,
             "#46039f"
            ],
            [
             0.2222222222222222,
             "#7201a8"
            ],
            [
             0.3333333333333333,
             "#9c179e"
            ],
            [
             0.4444444444444444,
             "#bd3786"
            ],
            [
             0.5555555555555556,
             "#d8576b"
            ],
            [
             0.6666666666666666,
             "#ed7953"
            ],
            [
             0.7777777777777778,
             "#fb9f3a"
            ],
            [
             0.8888888888888888,
             "#fdca26"
            ],
            [
             1,
             "#f0f921"
            ]
           ]
          },
          "colorway": [
           "#636efa",
           "#EF553B",
           "#00cc96",
           "#ab63fa",
           "#FFA15A",
           "#19d3f3",
           "#FF6692",
           "#B6E880",
           "#FF97FF",
           "#FECB52"
          ],
          "font": {
           "color": "#2a3f5f"
          },
          "geo": {
           "bgcolor": "white",
           "lakecolor": "white",
           "landcolor": "#E5ECF6",
           "showlakes": true,
           "showland": true,
           "subunitcolor": "white"
          },
          "hoverlabel": {
           "align": "left"
          },
          "hovermode": "closest",
          "mapbox": {
           "style": "light"
          },
          "paper_bgcolor": "white",
          "plot_bgcolor": "#E5ECF6",
          "polar": {
           "angularaxis": {
            "gridcolor": "white",
            "linecolor": "white",
            "ticks": ""
           },
           "bgcolor": "#E5ECF6",
           "radialaxis": {
            "gridcolor": "white",
            "linecolor": "white",
            "ticks": ""
           }
          },
          "scene": {
           "xaxis": {
            "backgroundcolor": "#E5ECF6",
            "gridcolor": "white",
            "gridwidth": 2,
            "linecolor": "white",
            "showbackground": true,
            "ticks": "",
            "zerolinecolor": "white"
           },
           "yaxis": {
            "backgroundcolor": "#E5ECF6",
            "gridcolor": "white",
            "gridwidth": 2,
            "linecolor": "white",
            "showbackground": true,
            "ticks": "",
            "zerolinecolor": "white"
           },
           "zaxis": {
            "backgroundcolor": "#E5ECF6",
            "gridcolor": "white",
            "gridwidth": 2,
            "linecolor": "white",
            "showbackground": true,
            "ticks": "",
            "zerolinecolor": "white"
           }
          },
          "shapedefaults": {
           "line": {
            "color": "#2a3f5f"
           }
          },
          "ternary": {
           "aaxis": {
            "gridcolor": "white",
            "linecolor": "white",
            "ticks": ""
           },
           "baxis": {
            "gridcolor": "white",
            "linecolor": "white",
            "ticks": ""
           },
           "bgcolor": "#E5ECF6",
           "caxis": {
            "gridcolor": "white",
            "linecolor": "white",
            "ticks": ""
           }
          },
          "title": {
           "x": 0.05
          },
          "xaxis": {
           "automargin": true,
           "gridcolor": "white",
           "linecolor": "white",
           "ticks": "",
           "title": {
            "standoff": 15
           },
           "zerolinecolor": "white",
           "zerolinewidth": 2
          },
          "yaxis": {
           "automargin": true,
           "gridcolor": "white",
           "linecolor": "white",
           "ticks": "",
           "title": {
            "standoff": 15
           },
           "zerolinecolor": "white",
           "zerolinewidth": 2
          }
         }
        },
        "width": 800,
        "xaxis": {
         "anchor": "y",
         "domain": [
          0,
          0.2888888888888889
         ],
         "linecolor": "black",
         "title": {
          "text": "ϵ"
         }
        },
        "xaxis2": {
         "anchor": "y2",
         "domain": [
          0.35555555555555557,
          0.6444444444444445
         ],
         "linecolor": "black",
         "title": {
          "text": "ϵ"
         }
        },
        "xaxis3": {
         "anchor": "y3",
         "domain": [
          0.7111111111111111,
          1
         ],
         "linecolor": "black",
         "title": {
          "text": "ϵ"
         }
        },
        "yaxis": {
         "anchor": "x",
         "domain": [
          0,
          1
         ],
         "linecolor": "black",
         "range": [
          0,
          1.2
         ],
         "ticktext": [
          "0",
          "0.2",
          "0.4",
          "0.6",
          "0.8",
          "1"
         ],
         "tickvals": [
          0,
          0.2,
          0.4,
          0.6000000000000001,
          0.8,
          1
         ],
         "title": {
          "text": "Proportion of time R<sub>t</sub><sup>local</sup>>1"
         }
        },
        "yaxis2": {
         "anchor": "x2",
         "domain": [
          0,
          1
         ],
         "linecolor": "black",
         "matches": "y",
         "range": [
          0,
          1.2
         ],
         "showticklabels": false,
         "ticktext": [
          "0",
          "0.2",
          "0.4",
          "0.6",
          "0.8",
          "1"
         ],
         "tickvals": [
          0,
          0.2,
          0.4,
          0.6000000000000001,
          0.8,
          1
         ]
        },
        "yaxis3": {
         "anchor": "x3",
         "domain": [
          0,
          1
         ],
         "linecolor": "black",
         "matches": "y",
         "range": [
          0,
          1.2
         ],
         "showticklabels": false,
         "ticktext": [
          "0",
          "0.2",
          "0.4",
          "0.6",
          "0.8",
          "1"
         ],
         "tickvals": [
          0,
          0.2,
          0.4,
          0.6000000000000001,
          0.8,
          1
         ]
        }
       }
      }
     },
     "metadata": {}
    }
   ],
   "metadata": {}
  },
  {
   "cell_type": "code",
   "execution_count": null,
   "source": [],
   "outputs": [],
   "metadata": {}
  }
 ],
 "metadata": {
  "kernelspec": {
   "name": "python385jvsc74a57bd034783718b96b00301f03fbc7cc717743f1d89135027a4004f1427440c34696d4",
   "display_name": "Python 3.8.5 64-bit ('base': conda)"
  },
  "language_info": {
   "codemirror_mode": {
    "name": "ipython",
    "version": 3
   },
   "file_extension": ".py",
   "mimetype": "text/x-python",
   "name": "python",
   "nbconvert_exporter": "python",
   "pygments_lexer": "ipython3",
   "version": "3.8.5"
  },
  "widgets": {
   "application/vnd.jupyter.widget-state+json": {
    "state": {},
    "version_major": 2,
    "version_minor": 0
   }
  },
  "metadata": {
   "interpreter": {
    "hash": "7812ea015bdcee6f23a998adcdd2ef97c151c0c241b7b7070987d9313e41299d"
   }
  }
 },
 "nbformat": 4,
 "nbformat_minor": 5
}