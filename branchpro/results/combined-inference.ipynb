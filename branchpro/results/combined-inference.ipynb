{
 "cells": [
  {
   "cell_type": "markdown",
   "id": "7f0f0cf8",
   "metadata": {},
   "source": [
    "# Inference plot of 3 regions"
   ]
  },
  {
   "cell_type": "code",
   "execution_count": 1,
   "id": "e9e13e06",
   "metadata": {},
   "outputs": [],
   "source": [
    "# Import libraries\n",
    "import numpy as np\n",
    "import math\n",
    "import branchpro\n",
    "import scipy.stats\n",
    "import matplotlib\n",
    "import plotly.graph_objects as go\n",
    "from matplotlib import pyplot as plt\n",
    "import os\n",
    "import pandas as pd\n",
    "import datetime"
   ]
  },
  {
   "cell_type": "code",
   "execution_count": 2,
   "id": "1d9b8145",
   "metadata": {},
   "outputs": [],
   "source": [
    "# Read serial interval\n",
    "si_file = 'si-epinow'\n",
    "path = os.path.join('../data_library/serial_interval', '{}.csv'.format(si_file))\n",
    "serial_interval = pd.read_csv(path, header=None)\n",
    "serial_interval = serial_interval.fillna(0)\n",
    "serial_intervals = serial_interval.values.T"
   ]
  },
  {
   "cell_type": "markdown",
   "id": "25d1922c",
   "metadata": {},
   "source": [
    "## Ontaria data"
   ]
  },
  {
   "cell_type": "code",
   "execution_count": 3,
   "id": "070b5663",
   "metadata": {},
   "outputs": [],
   "source": [
    "# Read Ontario data\n",
    "path = os.path.join('../data_library/covid_ontario/ON.csv')\n",
    "data = pd.read_csv(path)[:51]"
   ]
  },
  {
   "cell_type": "code",
   "execution_count": 4,
   "id": "5324a674",
   "metadata": {},
   "outputs": [],
   "source": [
    "time_key = 'Time'\n",
    "num_timepoints = max(data[time_key])\n",
    "data_times = data[time_key]\n",
    "\n",
    "# Pad with zeros the time points where we have no information on\n",
    "# the number of incidences\n",
    "padded_inc_data = data.set_index(time_key).reindex(\n",
    "    range(\n",
    "        1, max(data_times)+1)\n",
    "        ).fillna(0).reset_index()\n",
    "locally_infected_cases_ON = padded_inc_data['Incidence Number']\n",
    "imported_cases_ON = padded_inc_data['Imported Cases']\n",
    "\n",
    "start_times = np.arange(1, num_timepoints+1, dtype=int)\n",
    "times = np.arange(num_timepoints+1)"
   ]
  },
  {
   "cell_type": "code",
   "execution_count": 5,
   "id": "c2ab87ce",
   "metadata": {},
   "outputs": [],
   "source": [
    "tau = 6\n",
    "R_t_start = tau+1\n",
    "a = 1\n",
    "b = 0.2\n",
    "\n",
    "# Run inferences for different values of epsilon\n",
    "column_names = ['Time Points', 'Mean', 'Lower bound CI', 'Upper bound CI', 'Central Probability', 'Epsilon']\n",
    "epsilon_range = [0.25, 1, 2]\n",
    "chosen_times = [10, 15, 20, 25, 30, 40]\n",
    "\n",
    "all_intervals = pd.DataFrame(columns=column_names)\n",
    "all_intervals_chosen = pd.DataFrame(columns=column_names)\n",
    "# Transform our incidence data into pandas dataframes\n",
    "inc_data = pd.DataFrame(\n",
    "    {\n",
    "        'Time': start_times,\n",
    "        'Incidence Number': locally_infected_cases_ON\n",
    "    }\n",
    ")\n",
    "\n",
    "imported_inc_data = pd.DataFrame(\n",
    "    {\n",
    "        'Time': start_times,\n",
    "        'Incidence Number': imported_cases_ON\n",
    "    }\n",
    ")\n",
    "\n",
    "for epsilon in epsilon_range:\n",
    "    inference = branchpro.LocImpBranchProPosteriorMultSI(\n",
    "        inc_data=inc_data,\n",
    "        imported_inc_data=imported_inc_data,\n",
    "        epsilon=epsilon,\n",
    "        daily_serial_intervals=serial_intervals,\n",
    "        alpha=a,\n",
    "        beta=b)\n",
    "\n",
    "    inference.run_inference(tau=tau)\n",
    "    intervals = inference.get_intervals(central_prob=0)\n",
    "    intervals = intervals.append(inference.get_intervals(central_prob=.25))\n",
    "    intervals = intervals.append(inference.get_intervals(central_prob=.95))\n",
    "    temp = inference.get_intervals(central_prob=.95)\n",
    "\n",
    "    intervals['Epsilon'] = [epsilon] * len(intervals.index)\n",
    "\n",
    "    intervals_chosen = pd.DataFrame(columns=intervals.columns)\n",
    "    for time_pt in chosen_times:\n",
    "        intervals_chosen = intervals_chosen.append(\n",
    "            intervals.loc[intervals['Time Points']== time_pt])\n",
    "\n",
    "    all_intervals = all_intervals.append(intervals)\n",
    "    all_intervals_chosen = all_intervals_chosen.append(intervals_chosen)"
   ]
  },
  {
   "cell_type": "code",
   "execution_count": 6,
   "id": "32ac3d8c",
   "metadata": {},
   "outputs": [],
   "source": [
    "inference_times = sorted(list(set(all_intervals['Time Points'].tolist())))\n",
    "all_intervals_ON = all_intervals[all_intervals['Central Probability']==0.95]"
   ]
  },
  {
   "cell_type": "code",
   "execution_count": 7,
   "metadata": {},
   "outputs": [],
   "source": [
    "large_all_intervals = pd.DataFrame(columns=column_names)\n",
    "large_all_intervals_chosen = pd.DataFrame(columns=column_names)\n",
    "last_time_r_more_than_1_ON = []\n",
    "last_time_r_more_than_1_LowerCI_ON = []\n",
    "last_time_r_more_than_1_UpperCI_ON = []\n",
    "\n",
    "last_time_r_less_than_1_ON = []\n",
    "last_time_r_less_than_1_LowerCI_ON = []\n",
    "last_time_r_less_than_1_UpperCI_ON = []\n",
    "\n",
    "proportion_time_r_more_than_1_ON = []\n",
    "proportion_time_r_more_than_1_LowerCI_ON = []\n",
    "proportion_time_r_more_than_1_UpperCI_ON = []\n",
    "\n",
    "large_epsilon_range = np.arange(0.1, 2.5, 0.1)\n",
    "\n",
    "for epsilon in large_epsilon_range:\n",
    "    inference = branchpro.LocImpBranchProPosteriorMultSI(\n",
    "        inc_data=inc_data,\n",
    "        imported_inc_data=imported_inc_data,\n",
    "        epsilon=epsilon,\n",
    "        daily_serial_intervals=serial_intervals,\n",
    "        alpha=a,\n",
    "        beta=b)\n",
    "\n",
    "    inference.run_inference(tau=tau)\n",
    "    intervals = inference.get_intervals(central_prob=0)\n",
    "    intervals = intervals.append(inference.get_intervals(central_prob=.25))\n",
    "    intervals = intervals.append(inference.get_intervals(central_prob=.95))\n",
    "    temp = inference.get_intervals(central_prob=.95)\n",
    "\n",
    "    intervals['Epsilon'] = [epsilon] * len(intervals.index)\n",
    "\n",
    "    large_all_intervals = large_all_intervals.append(intervals)\n",
    "\n",
    "    # Last time R > 1\n",
    "    if len(large_all_intervals.loc[(large_all_intervals['Epsilon']==epsilon) & (large_all_intervals['Mean']>1) & (large_all_intervals['Central Probability']==0.95)]['Time Points'].tolist())==0:\n",
    "        last_time_r_more_than_1_ON.append(None)\n",
    "    else:\n",
    "        last_time_r_more_than_1_ON.append(large_all_intervals.loc[(large_all_intervals['Epsilon']==epsilon) & (large_all_intervals['Mean']>1) & (large_all_intervals['Central Probability']==0.95)]['Time Points'].tolist()[-1]+1)\n",
    "\n",
    "    if len(large_all_intervals.loc[(large_all_intervals['Epsilon']==epsilon) & (large_all_intervals['Lower bound CI']>1) & (large_all_intervals['Central Probability']==0.95)]['Time Points'].tolist())==0:\n",
    "        last_time_r_more_than_1_LowerCI_ON.append(None)\n",
    "    else:\n",
    "        last_time_r_more_than_1_LowerCI_ON.append(large_all_intervals.loc[(large_all_intervals['Epsilon']==epsilon) & (large_all_intervals['Lower bound CI']>1) & (large_all_intervals['Central Probability']==0.95)]['Time Points'].tolist()[-1]+1)\n",
    "\n",
    "    if len(large_all_intervals.loc[(large_all_intervals['Epsilon']==epsilon) & (large_all_intervals['Upper bound CI']>1) & (large_all_intervals['Central Probability']==0.95)]['Time Points'].tolist())==0:\n",
    "        last_time_r_more_than_1_UpperCI_ON.append(None)\n",
    "    else:\n",
    "        last_time_r_more_than_1_UpperCI_ON.append(large_all_intervals.loc[(large_all_intervals['Epsilon']==epsilon) & (large_all_intervals['Upper bound CI']>1) & (large_all_intervals['Central Probability']==0.95)]['Time Points'].tolist()[-1]+1)\n",
    "\n",
    "\n",
    "    # Last time R < 1\n",
    "    if len(large_all_intervals.loc[(large_all_intervals['Epsilon']==epsilon) & (large_all_intervals['Mean']<1) & (large_all_intervals['Central Probability']==0.95)]['Time Points'].tolist())==0:\n",
    "        last_time_r_less_than_1_ON.append(None)\n",
    "    else:\n",
    "        last_time_r_less_than_1_ON.append(large_all_intervals.loc[(large_all_intervals['Epsilon']==epsilon) & (large_all_intervals['Mean']<1) & (large_all_intervals['Central Probability']==0.95)]['Time Points'].tolist()[-1]+1)\n",
    "\n",
    "    if len(large_all_intervals.loc[(large_all_intervals['Epsilon']==epsilon) & (large_all_intervals['Lower bound CI']<1) & (large_all_intervals['Central Probability']==0.95)]['Time Points'].tolist())==0:\n",
    "        last_time_r_less_than_1_LowerCI_ON.append(None)\n",
    "    else:\n",
    "        last_time_r_less_than_1_LowerCI_ON.append(large_all_intervals.loc[(large_all_intervals['Epsilon']==epsilon) & (large_all_intervals['Lower bound CI']<1) & (large_all_intervals['Central Probability']==0.95)]['Time Points'].tolist()[-1]+1)\n",
    "\n",
    "    if len(large_all_intervals.loc[(large_all_intervals['Epsilon']==epsilon) & (large_all_intervals['Upper bound CI']<1) & (large_all_intervals['Central Probability']==0.95)]['Time Points'].tolist())==0:\n",
    "        last_time_r_less_than_1_UpperCI_ON.append(None)\n",
    "    else:\n",
    "        last_time_r_less_than_1_UpperCI_ON.append(large_all_intervals.loc[(large_all_intervals['Epsilon']==epsilon) & (large_all_intervals['Upper bound CI']<1) & (large_all_intervals['Central Probability']==0.95)]['Time Points'].tolist()[-1]+1)\n",
    "\n",
    "\n",
    "    proportion_time_r_more_than_1_ON.append(len(large_all_intervals.loc[(large_all_intervals['Epsilon']==epsilon) & (large_all_intervals['Mean']>1) & (large_all_intervals['Central Probability']==0.95)]['Time Points'].tolist())/len(large_all_intervals.loc[(large_all_intervals['Epsilon']==epsilon) & (large_all_intervals['Central Probability']==0.95)]['Time Points'].tolist()))\n",
    "    proportion_time_r_more_than_1_LowerCI_ON.append(len(large_all_intervals.loc[(large_all_intervals['Epsilon']==epsilon) & (large_all_intervals['Lower bound CI']>1) & (large_all_intervals['Central Probability']==0.95)]['Time Points'].tolist())/len(large_all_intervals.loc[(large_all_intervals['Epsilon']==epsilon) & (large_all_intervals['Central Probability']==0.95)]['Time Points'].tolist()))\n",
    "    proportion_time_r_more_than_1_UpperCI_ON.append(len(large_all_intervals.loc[(large_all_intervals['Epsilon']==epsilon) & (large_all_intervals['Upper bound CI']>1) & (large_all_intervals['Central Probability']==0.95)]['Time Points'].tolist())/len(large_all_intervals.loc[(large_all_intervals['Epsilon']==epsilon) & (large_all_intervals['Central Probability']==0.95)]['Time Points'].tolist()))"
   ]
  },
  {
   "cell_type": "markdown",
   "id": "46411483",
   "metadata": {},
   "source": [
    "## New South Wales data"
   ]
  },
  {
   "cell_type": "code",
   "execution_count": 8,
   "id": "2f72c829",
   "metadata": {},
   "outputs": [],
   "source": [
    "# Read New South Wales data\n",
    "path = os.path.join('../data_library/covid_australia/NSW.csv')\n",
    "data = pd.read_csv(path)[:51]\n",
    "\n",
    "time_key = 'Time'\n",
    "num_timepoints = max(data[time_key])\n",
    "data_times = data[time_key]\n",
    "\n",
    "# Pad with zeros the time points where we have no information on\n",
    "# the number of incidences\n",
    "padded_inc_data = data.set_index(time_key).reindex(\n",
    "    range(\n",
    "        1, max(data_times)+1)\n",
    "        ).fillna(0).reset_index()\n",
    "locally_infected_cases_NSW = padded_inc_data['Incidence Number']\n",
    "imported_cases_NSW = padded_inc_data['Imported Cases']\n",
    "\n",
    "start_times = np.arange(1, num_timepoints+1, dtype=int)\n",
    "times = np.arange(num_timepoints+1)"
   ]
  },
  {
   "cell_type": "code",
   "execution_count": 9,
   "id": "5e790ad6",
   "metadata": {},
   "outputs": [],
   "source": [
    "# Run inferences for different values of epsilon\n",
    "column_names = ['Time Points', 'Mean', 'Lower bound CI', 'Upper bound CI', 'Central Probability', 'Epsilon']\n",
    "epsilon_range = [0.25, 1, 2]\n",
    "chosen_times = [10, 15, 20, 25, 30, 40]\n",
    "\n",
    "all_intervals = pd.DataFrame(columns=column_names)\n",
    "all_intervals_chosen = pd.DataFrame(columns=column_names)\n",
    "# Transform our incidence data into pandas dataframes\n",
    "inc_data = pd.DataFrame(\n",
    "    {\n",
    "        'Time': start_times,\n",
    "        'Incidence Number': locally_infected_cases_NSW\n",
    "    }\n",
    ")\n",
    "\n",
    "imported_inc_data = pd.DataFrame(\n",
    "    {\n",
    "        'Time': start_times,\n",
    "        'Incidence Number': imported_cases_NSW\n",
    "    }\n",
    ")\n",
    "\n",
    "for epsilon in epsilon_range:\n",
    "    inference = branchpro.LocImpBranchProPosteriorMultSI(\n",
    "        inc_data=inc_data,\n",
    "        imported_inc_data=imported_inc_data,\n",
    "        epsilon=epsilon,\n",
    "        daily_serial_intervals=serial_intervals,\n",
    "        alpha=a,\n",
    "        beta=b)\n",
    "\n",
    "    inference.run_inference(tau=tau)\n",
    "    intervals = inference.get_intervals(central_prob=0)\n",
    "    intervals = intervals.append(inference.get_intervals(central_prob=.25))\n",
    "    intervals = intervals.append(inference.get_intervals(central_prob=.95))\n",
    "    temp = inference.get_intervals(central_prob=.95)\n",
    "\n",
    "    intervals['Epsilon'] = [epsilon] * len(intervals.index)\n",
    "\n",
    "    intervals_chosen = pd.DataFrame(columns=intervals.columns)\n",
    "    for time_pt in chosen_times:\n",
    "        intervals_chosen = intervals_chosen.append(\n",
    "            intervals.loc[intervals['Time Points']== time_pt])\n",
    "\n",
    "    all_intervals = all_intervals.append(intervals)\n",
    "    all_intervals_chosen = all_intervals_chosen.append(intervals_chosen)"
   ]
  },
  {
   "cell_type": "code",
   "execution_count": 10,
   "id": "31b0d9e3",
   "metadata": {},
   "outputs": [],
   "source": [
    "inference_times = sorted(list(set(all_intervals['Time Points'].tolist())))\n",
    "all_intervals_NSW = all_intervals[all_intervals['Central Probability']==0.95]"
   ]
  },
  {
   "cell_type": "code",
   "execution_count": 11,
   "metadata": {},
   "outputs": [],
   "source": [
    "large_all_intervals = pd.DataFrame(columns=column_names)\n",
    "large_all_intervals_chosen = pd.DataFrame(columns=column_names)\n",
    "last_time_r_more_than_1_NSW = []\n",
    "last_time_r_more_than_1_LowerCI_NSW = []\n",
    "last_time_r_more_than_1_UpperCI_NSW = []\n",
    "\n",
    "last_time_r_less_than_1_NSW = []\n",
    "last_time_r_less_than_1_LowerCI_NSW = []\n",
    "last_time_r_less_than_1_UpperCI_NSW = []\n",
    "\n",
    "proportion_time_r_more_than_1_NSW = []\n",
    "proportion_time_r_more_than_1_LowerCI_NSW = []\n",
    "proportion_time_r_more_than_1_UpperCI_NSW = []\n",
    "\n",
    "large_epsilon_range = np.arange(0.1, 2.5, 0.1)\n",
    "\n",
    "for epsilon in large_epsilon_range:\n",
    "    inference = branchpro.LocImpBranchProPosteriorMultSI(\n",
    "        inc_data=inc_data,\n",
    "        imported_inc_data=imported_inc_data,\n",
    "        epsilon=epsilon,\n",
    "        daily_serial_intervals=serial_intervals,\n",
    "        alpha=a,\n",
    "        beta=b)\n",
    "\n",
    "    inference.run_inference(tau=tau)\n",
    "    intervals = inference.get_intervals(central_prob=0)\n",
    "    intervals = intervals.append(inference.get_intervals(central_prob=.25))\n",
    "    intervals = intervals.append(inference.get_intervals(central_prob=.95))\n",
    "    temp = inference.get_intervals(central_prob=.95)\n",
    "\n",
    "    intervals['Epsilon'] = [epsilon] * len(intervals.index)\n",
    "\n",
    "    large_all_intervals = large_all_intervals.append(intervals)\n",
    "\n",
    "    # Last time R > 1\n",
    "    if len(large_all_intervals.loc[(large_all_intervals['Epsilon']==epsilon) & (large_all_intervals['Mean']>1) & (large_all_intervals['Central Probability']==0.95)]['Time Points'].tolist())==0:\n",
    "        last_time_r_more_than_1_NSW.append(None)\n",
    "    else:\n",
    "        last_time_r_more_than_1_NSW.append(large_all_intervals.loc[(large_all_intervals['Epsilon']==epsilon) & (large_all_intervals['Mean']>1) & (large_all_intervals['Central Probability']==0.95)]['Time Points'].tolist()[-1]+1)\n",
    "\n",
    "    if len(large_all_intervals.loc[(large_all_intervals['Epsilon']==epsilon) & (large_all_intervals['Lower bound CI']>1) & (large_all_intervals['Central Probability']==0.95)]['Time Points'].tolist())==0:\n",
    "        last_time_r_more_than_1_LowerCI_NSW.append(None)\n",
    "    else:\n",
    "        last_time_r_more_than_1_LowerCI_NSW.append(large_all_intervals.loc[(large_all_intervals['Epsilon']==epsilon) & (large_all_intervals['Lower bound CI']>1) & (large_all_intervals['Central Probability']==0.95)]['Time Points'].tolist()[-1]+1)\n",
    "\n",
    "    if len(large_all_intervals.loc[(large_all_intervals['Epsilon']==epsilon) & (large_all_intervals['Upper bound CI']>1) & (large_all_intervals['Central Probability']==0.95)]['Time Points'].tolist())==0:\n",
    "        last_time_r_more_than_1_UpperCI_NSW.append(None)\n",
    "    else:\n",
    "        last_time_r_more_than_1_UpperCI_NSW.append(large_all_intervals.loc[(large_all_intervals['Epsilon']==epsilon) & (large_all_intervals['Upper bound CI']>1) & (large_all_intervals['Central Probability']==0.95)]['Time Points'].tolist()[-1]+1)\n",
    "\n",
    "\n",
    "    # Last time R < 1\n",
    "    if len(large_all_intervals.loc[(large_all_intervals['Epsilon']==epsilon) & (large_all_intervals['Mean']<1) & (large_all_intervals['Central Probability']==0.95)]['Time Points'].tolist())==0:\n",
    "        last_time_r_less_than_1_NSW.append(None)\n",
    "    else:\n",
    "        last_time_r_less_than_1_NSW.append(large_all_intervals.loc[(large_all_intervals['Epsilon']==epsilon) & (large_all_intervals['Mean']<1) & (large_all_intervals['Central Probability']==0.95)]['Time Points'].tolist()[-1]+1)\n",
    "\n",
    "    if len(large_all_intervals.loc[(large_all_intervals['Epsilon']==epsilon) & (large_all_intervals['Lower bound CI']<1) & (large_all_intervals['Central Probability']==0.95)]['Time Points'].tolist())==0:\n",
    "        last_time_r_less_than_1_LowerCI_NSW.append(None)\n",
    "    else:\n",
    "        last_time_r_less_than_1_LowerCI_NSW.append(large_all_intervals.loc[(large_all_intervals['Epsilon']==epsilon) & (large_all_intervals['Lower bound CI']<1) & (large_all_intervals['Central Probability']==0.95)]['Time Points'].tolist()[-1]+1)\n",
    "\n",
    "    if len(large_all_intervals.loc[(large_all_intervals['Epsilon']==epsilon) & (large_all_intervals['Upper bound CI']<1) & (large_all_intervals['Central Probability']==0.95)]['Time Points'].tolist())==0:\n",
    "        last_time_r_less_than_1_UpperCI_NSW.append(None)\n",
    "    else:\n",
    "        last_time_r_less_than_1_UpperCI_NSW.append(large_all_intervals.loc[(large_all_intervals['Epsilon']==epsilon) & (large_all_intervals['Upper bound CI']<1) & (large_all_intervals['Central Probability']==0.95)]['Time Points'].tolist()[-1]+1)\n",
    "\n",
    "\n",
    "    proportion_time_r_more_than_1_NSW.append(len(large_all_intervals.loc[(large_all_intervals['Epsilon']==epsilon) & (large_all_intervals['Mean']>1) & (large_all_intervals['Central Probability']==0.95)]['Time Points'].tolist())/len(large_all_intervals.loc[(large_all_intervals['Epsilon']==epsilon) & (large_all_intervals['Central Probability']==0.95)]['Time Points'].tolist()))\n",
    "    proportion_time_r_more_than_1_LowerCI_NSW.append(len(large_all_intervals.loc[(large_all_intervals['Epsilon']==epsilon) & (large_all_intervals['Lower bound CI']>1) & (large_all_intervals['Central Probability']==0.95)]['Time Points'].tolist())/len(large_all_intervals.loc[(large_all_intervals['Epsilon']==epsilon) & (large_all_intervals['Central Probability']==0.95)]['Time Points'].tolist()))\n",
    "    proportion_time_r_more_than_1_UpperCI_NSW.append(len(large_all_intervals.loc[(large_all_intervals['Epsilon']==epsilon) & (large_all_intervals['Upper bound CI']>1) & (large_all_intervals['Central Probability']==0.95)]['Time Points'].tolist())/len(large_all_intervals.loc[(large_all_intervals['Epsilon']==epsilon) & (large_all_intervals['Central Probability']==0.95)]['Time Points'].tolist()))"
   ]
  },
  {
   "cell_type": "markdown",
   "id": "7c19af3b",
   "metadata": {},
   "source": [
    "## Victoria data"
   ]
  },
  {
   "cell_type": "code",
   "execution_count": 12,
   "id": "e3eb2a14",
   "metadata": {},
   "outputs": [],
   "source": [
    "# Read Victoria data\n",
    "path = os.path.join('../data_library/covid_australia/VIC.csv')\n",
    "data = pd.read_csv(path)[:51]\n",
    "\n",
    "time_key = 'Time'\n",
    "num_timepoints = max(data[time_key])\n",
    "data_times = data[time_key]\n",
    "\n",
    "# Pad with zeros the time points where we have no information on\n",
    "# the number of incidences\n",
    "padded_inc_data = data.set_index(time_key).reindex(\n",
    "    range(\n",
    "        1, max(data_times)+1)\n",
    "        ).fillna(0).reset_index()\n",
    "locally_infected_cases_VIC = padded_inc_data['Incidence Number']\n",
    "imported_cases_VIC = padded_inc_data['Imported Cases']\n",
    "\n",
    "start_times = np.arange(1, num_timepoints+1, dtype=int)\n",
    "times = np.arange(num_timepoints+1)\n",
    "\n",
    "# Run inferences for different values of epsilon\n",
    "column_names = ['Time Points', 'Mean', 'Lower bound CI', 'Upper bound CI', 'Central Probability', 'Epsilon']\n",
    "epsilon_range = [0.25, 1, 2]\n",
    "chosen_times = [10, 15, 20, 25, 30, 40]\n",
    "\n",
    "all_intervals = pd.DataFrame(columns=column_names)\n",
    "all_intervals_chosen = pd.DataFrame(columns=column_names)\n",
    "# Transform our incidence data into pandas dataframes\n",
    "inc_data = pd.DataFrame(\n",
    "    {\n",
    "        'Time': start_times,\n",
    "        'Incidence Number': locally_infected_cases_VIC\n",
    "    }\n",
    ")\n",
    "\n",
    "imported_inc_data = pd.DataFrame(\n",
    "    {\n",
    "        'Time': start_times,\n",
    "        'Incidence Number': imported_cases_VIC\n",
    "    }\n",
    ")\n",
    "\n",
    "for epsilon in epsilon_range:\n",
    "    inference = branchpro.LocImpBranchProPosteriorMultSI(\n",
    "        inc_data=inc_data,\n",
    "        imported_inc_data=imported_inc_data,\n",
    "        epsilon=epsilon,\n",
    "        daily_serial_intervals=serial_intervals,\n",
    "        alpha=a,\n",
    "        beta=b)\n",
    "\n",
    "    inference.run_inference(tau=tau)\n",
    "    intervals = inference.get_intervals(central_prob=0)\n",
    "    intervals = intervals.append(inference.get_intervals(central_prob=.25))\n",
    "    intervals = intervals.append(inference.get_intervals(central_prob=.95))\n",
    "    temp = inference.get_intervals(central_prob=.95)\n",
    "\n",
    "    intervals['Epsilon'] = [epsilon] * len(intervals.index)\n",
    "\n",
    "    intervals_chosen = pd.DataFrame(columns=intervals.columns)\n",
    "    for time_pt in chosen_times:\n",
    "        intervals_chosen = intervals_chosen.append(\n",
    "            intervals.loc[intervals['Time Points']== time_pt])\n",
    "\n",
    "    all_intervals = all_intervals.append(intervals)\n",
    "    all_intervals_chosen = all_intervals_chosen.append(intervals_chosen)\n",
    "    \n",
    "prior_dist = scipy.stats.gamma(a, scale=1/b)\n",
    "\n",
    "inference_times = sorted(list(set(all_intervals['Time Points'].tolist())))\n",
    "epsilon_range = [0.25, 1, 2]\n",
    "all_intervals_VIC = all_intervals[all_intervals['Central Probability']==0.95]"
   ]
  },
  {
   "cell_type": "code",
   "execution_count": 13,
   "metadata": {},
   "outputs": [],
   "source": [
    "large_all_intervals = pd.DataFrame(columns=column_names)\n",
    "large_all_intervals_chosen = pd.DataFrame(columns=column_names)\n",
    "last_time_r_more_than_1_VIC = []\n",
    "last_time_r_more_than_1_LowerCI_VIC = []\n",
    "last_time_r_more_than_1_UpperCI_VIC = []\n",
    "\n",
    "last_time_r_less_than_1_VIC = []\n",
    "last_time_r_less_than_1_LowerCI_VIC = []\n",
    "last_time_r_less_than_1_UpperCI_VIC = []\n",
    "\n",
    "proportion_time_r_more_than_1_VIC = []\n",
    "proportion_time_r_more_than_1_LowerCI_VIC = []\n",
    "proportion_time_r_more_than_1_UpperCI_VIC = []\n",
    "\n",
    "large_epsilon_range = np.arange(0.1, 2.5, 0.1)\n",
    "\n",
    "for epsilon in large_epsilon_range:\n",
    "    inference = branchpro.LocImpBranchProPosteriorMultSI(\n",
    "        inc_data=inc_data,\n",
    "        imported_inc_data=imported_inc_data,\n",
    "        epsilon=epsilon,\n",
    "        daily_serial_intervals=serial_intervals,\n",
    "        alpha=a,\n",
    "        beta=b)\n",
    "\n",
    "    inference.run_inference(tau=tau)\n",
    "    intervals = inference.get_intervals(central_prob=0)\n",
    "    intervals = intervals.append(inference.get_intervals(central_prob=.25))\n",
    "    intervals = intervals.append(inference.get_intervals(central_prob=.95))\n",
    "    temp = inference.get_intervals(central_prob=.95)\n",
    "\n",
    "    intervals['Epsilon'] = [epsilon] * len(intervals.index)\n",
    "\n",
    "    large_all_intervals = large_all_intervals.append(intervals)\n",
    "\n",
    "    # Last time R > 1\n",
    "    if len(large_all_intervals.loc[(large_all_intervals['Epsilon']==epsilon) & (large_all_intervals['Mean']>1) & (large_all_intervals['Central Probability']==0.95)]['Time Points'].tolist())==0:\n",
    "        last_time_r_more_than_1_VIC.append(None)\n",
    "    else:\n",
    "        last_time_r_more_than_1_VIC.append(large_all_intervals.loc[(large_all_intervals['Epsilon']==epsilon) & (large_all_intervals['Mean']>1) & (large_all_intervals['Central Probability']==0.95)]['Time Points'].tolist()[-1]+1)\n",
    "\n",
    "    if len(large_all_intervals.loc[(large_all_intervals['Epsilon']==epsilon) & (large_all_intervals['Lower bound CI']>1) & (large_all_intervals['Central Probability']==0.95)]['Time Points'].tolist())==0:\n",
    "        last_time_r_more_than_1_LowerCI_VIC.append(None)\n",
    "    else:\n",
    "        last_time_r_more_than_1_LowerCI_VIC.append(large_all_intervals.loc[(large_all_intervals['Epsilon']==epsilon) & (large_all_intervals['Lower bound CI']>1) & (large_all_intervals['Central Probability']==0.95)]['Time Points'].tolist()[-1]+1)\n",
    "\n",
    "    if len(large_all_intervals.loc[(large_all_intervals['Epsilon']==epsilon) & (large_all_intervals['Upper bound CI']>1) & (large_all_intervals['Central Probability']==0.95)]['Time Points'].tolist())==0:\n",
    "        last_time_r_more_than_1_UpperCI_VIC.append(None)\n",
    "    else:\n",
    "        last_time_r_more_than_1_UpperCI_VIC.append(large_all_intervals.loc[(large_all_intervals['Epsilon']==epsilon) & (large_all_intervals['Upper bound CI']>1) & (large_all_intervals['Central Probability']==0.95)]['Time Points'].tolist()[-1]+1)\n",
    "\n",
    "\n",
    "    # Last time R < 1\n",
    "    if len(large_all_intervals.loc[(large_all_intervals['Epsilon']==epsilon) & (large_all_intervals['Mean']<1) & (large_all_intervals['Central Probability']==0.95)]['Time Points'].tolist())==0:\n",
    "        last_time_r_less_than_1_VIC.append(None)\n",
    "    else:\n",
    "        last_time_r_less_than_1_VIC.append(large_all_intervals.loc[(large_all_intervals['Epsilon']==epsilon) & (large_all_intervals['Mean']<1) & (large_all_intervals['Central Probability']==0.95)]['Time Points'].tolist()[-1]+1)\n",
    "\n",
    "    if len(large_all_intervals.loc[(large_all_intervals['Epsilon']==epsilon) & (large_all_intervals['Lower bound CI']<1) & (large_all_intervals['Central Probability']==0.95)]['Time Points'].tolist())==0:\n",
    "        last_time_r_less_than_1_LowerCI_VIC.append(None)\n",
    "    else:\n",
    "        last_time_r_less_than_1_LowerCI_VIC.append(large_all_intervals.loc[(large_all_intervals['Epsilon']==epsilon) & (large_all_intervals['Lower bound CI']<1) & (large_all_intervals['Central Probability']==0.95)]['Time Points'].tolist()[-1]+1)\n",
    "\n",
    "    if len(large_all_intervals.loc[(large_all_intervals['Epsilon']==epsilon) & (large_all_intervals['Upper bound CI']<1) & (large_all_intervals['Central Probability']==0.95)]['Time Points'].tolist())==0:\n",
    "        last_time_r_less_than_1_UpperCI_VIC.append(None)\n",
    "    else:\n",
    "        last_time_r_less_than_1_UpperCI_VIC.append(large_all_intervals.loc[(large_all_intervals['Epsilon']==epsilon) & (large_all_intervals['Upper bound CI']<1) & (large_all_intervals['Central Probability']==0.95)]['Time Points'].tolist()[-1]+1)\n",
    "\n",
    "\n",
    "    proportion_time_r_more_than_1_VIC.append(len(large_all_intervals.loc[(large_all_intervals['Epsilon']==epsilon) & (large_all_intervals['Mean']>1) & (large_all_intervals['Central Probability']==0.95)]['Time Points'].tolist())/len(large_all_intervals.loc[(large_all_intervals['Epsilon']==epsilon) & (large_all_intervals['Central Probability']==0.95)]['Time Points'].tolist()))\n",
    "    proportion_time_r_more_than_1_LowerCI_VIC.append(len(large_all_intervals.loc[(large_all_intervals['Epsilon']==epsilon) & (large_all_intervals['Lower bound CI']>1) & (large_all_intervals['Central Probability']==0.95)]['Time Points'].tolist())/len(large_all_intervals.loc[(large_all_intervals['Epsilon']==epsilon) & (large_all_intervals['Central Probability']==0.95)]['Time Points'].tolist()))\n",
    "    proportion_time_r_more_than_1_UpperCI_VIC.append(len(large_all_intervals.loc[(large_all_intervals['Epsilon']==epsilon) & (large_all_intervals['Upper bound CI']>1) & (large_all_intervals['Central Probability']==0.95)]['Time Points'].tolist())/len(large_all_intervals.loc[(large_all_intervals['Epsilon']==epsilon) & (large_all_intervals['Central Probability']==0.95)]['Time Points'].tolist()))"
   ]
  },
  {
   "cell_type": "markdown",
   "id": "694545ff",
   "metadata": {},
   "source": [
    "## Combine inference plots"
   ]
  },
  {
   "cell_type": "code",
   "execution_count": 14,
   "id": "35f91cdb",
   "metadata": {
    "scrolled": true
   },
   "outputs": [
    {
     "output_type": "display_data",
     "data": {
      "text/plain": "<Figure size 864x432 with 6 Axes>",
      "image/svg+xml": "<?xml version=\"1.0\" encoding=\"utf-8\" standalone=\"no\"?>\n<!DOCTYPE svg PUBLIC \"-//W3C//DTD SVG 1.1//EN\"\n  \"http://www.w3.org/Graphics/SVG/1.1/DTD/svg11.dtd\">\n<!-- Created with matplotlib (https://matplotlib.org/) -->\n<svg height=\"435.437812pt\" version=\"1.1\" viewBox=\"0 0 856.8 435.437812\" width=\"856.8pt\" xmlns=\"http://www.w3.org/2000/svg\" xmlns:xlink=\"http://www.w3.org/1999/xlink\">\n <metadata>\n  <rdf:RDF xmlns:cc=\"http://creativecommons.org/ns#\" xmlns:dc=\"http://purl.org/dc/elements/1.1/\" xmlns:rdf=\"http://www.w3.org/1999/02/22-rdf-syntax-ns#\">\n   <cc:Work>\n    <dc:type rdf:resource=\"http://purl.org/dc/dcmitype/StillImage\"/>\n    <dc:date>2021-07-07T14:39:33.602177</dc:date>\n    <dc:format>image/svg+xml</dc:format>\n    <dc:creator>\n     <cc:Agent>\n      <dc:title>Matplotlib v3.3.2, https://matplotlib.org/</dc:title>\n     </cc:Agent>\n    </dc:creator>\n   </cc:Work>\n  </rdf:RDF>\n </metadata>\n <defs>\n  <style type=\"text/css\">*{stroke-linecap:butt;stroke-linejoin:round;}</style>\n </defs>\n <g id=\"figure_1\">\n  <g id=\"patch_1\">\n   <path d=\"M 0 435.437812 \nL 856.8 435.437812 \nL 856.8 0 \nL 0 0 \nz\n\" style=\"fill:none;\"/>\n  </g>\n  <g id=\"axes_1\">\n   <g id=\"patch_2\">\n    <path d=\"M 36.5625 162.273044 \nL 279.30633 162.273044 \nL 279.30633 34.475625 \nL 36.5625 34.475625 \nz\n\" style=\"fill:#ffffff;\"/>\n   </g>\n   <g id=\"patch_3\">\n    <path clip-path=\"url(#p312bc36d89)\" d=\"M 47.59631 162.273044 \nL 49.405132 162.273044 \nL 49.405132 162.273044 \nL 47.59631 162.273044 \nz\n\" style=\"opacity:0.8;\"/>\n   </g>\n   <g id=\"patch_4\">\n    <path clip-path=\"url(#p312bc36d89)\" d=\"M 51.937482 162.273044 \nL 53.746303 162.273044 \nL 53.746303 162.273044 \nL 51.937482 162.273044 \nz\n\" style=\"opacity:0.8;\"/>\n   </g>\n   <g id=\"patch_5\">\n    <path clip-path=\"url(#p312bc36d89)\" d=\"M 56.278653 162.273044 \nL 58.087474 162.273044 \nL 58.087474 162.273044 \nL 56.278653 162.273044 \nz\n\" style=\"opacity:0.8;\"/>\n   </g>\n   <g id=\"patch_6\">\n    <path clip-path=\"url(#p312bc36d89)\" d=\"M 60.619824 162.273044 \nL 62.428646 162.273044 \nL 62.428646 162.273044 \nL 60.619824 162.273044 \nz\n\" style=\"opacity:0.8;\"/>\n   </g>\n   <g id=\"patch_7\">\n    <path clip-path=\"url(#p312bc36d89)\" d=\"M 64.960996 162.273044 \nL 66.769817 162.273044 \nL 66.769817 162.273044 \nL 64.960996 162.273044 \nz\n\" style=\"opacity:0.8;\"/>\n   </g>\n   <g id=\"patch_8\">\n    <path clip-path=\"url(#p312bc36d89)\" d=\"M 69.302167 162.273044 \nL 71.110988 162.273044 \nL 71.110988 162.105858 \nL 69.302167 162.105858 \nz\n\" style=\"opacity:0.8;\"/>\n   </g>\n   <g id=\"patch_9\">\n    <path clip-path=\"url(#p312bc36d89)\" d=\"M 73.643338 162.273044 \nL 75.45216 162.273044 \nL 75.45216 162.273044 \nL 73.643338 162.273044 \nz\n\" style=\"opacity:0.8;\"/>\n   </g>\n   <g id=\"patch_10\">\n    <path clip-path=\"url(#p312bc36d89)\" d=\"M 77.98451 162.273044 \nL 79.793331 162.273044 \nL 79.793331 162.105858 \nL 77.98451 162.105858 \nz\n\" style=\"opacity:0.8;\"/>\n   </g>\n   <g id=\"patch_11\">\n    <path clip-path=\"url(#p312bc36d89)\" d=\"M 82.325681 162.273044 \nL 84.134502 162.273044 \nL 84.134502 162.105858 \nL 82.325681 162.105858 \nz\n\" style=\"opacity:0.8;\"/>\n   </g>\n   <g id=\"patch_12\">\n    <path clip-path=\"url(#p312bc36d89)\" d=\"M 86.666852 162.273044 \nL 88.475674 162.273044 \nL 88.475674 161.771485 \nL 86.666852 161.771485 \nz\n\" style=\"opacity:0.8;\"/>\n   </g>\n   <g id=\"patch_13\">\n    <path clip-path=\"url(#p312bc36d89)\" d=\"M 91.008024 162.273044 \nL 92.816845 162.273044 \nL 92.816845 161.102738 \nL 91.008024 161.102738 \nz\n\" style=\"opacity:0.8;\"/>\n   </g>\n   <g id=\"patch_14\">\n    <path clip-path=\"url(#p312bc36d89)\" d=\"M 95.349195 162.273044 \nL 97.158016 162.273044 \nL 97.158016 160.433992 \nL 95.349195 160.433992 \nz\n\" style=\"opacity:0.8;\"/>\n   </g>\n   <g id=\"patch_15\">\n    <path clip-path=\"url(#p312bc36d89)\" d=\"M 99.690366 162.273044 \nL 101.499188 162.273044 \nL 101.499188 160.601179 \nL 99.690366 160.601179 \nz\n\" style=\"opacity:0.8;\"/>\n   </g>\n   <g id=\"patch_16\">\n    <path clip-path=\"url(#p312bc36d89)\" d=\"M 104.031538 162.273044 \nL 105.840359 162.273044 \nL 105.840359 161.102738 \nL 104.031538 161.102738 \nz\n\" style=\"opacity:0.8;\"/>\n   </g>\n   <g id=\"patch_17\">\n    <path clip-path=\"url(#p312bc36d89)\" d=\"M 108.372709 162.273044 \nL 110.18153 162.273044 \nL 110.18153 161.437111 \nL 108.372709 161.437111 \nz\n\" style=\"opacity:0.8;\"/>\n   </g>\n   <g id=\"patch_18\">\n    <path clip-path=\"url(#p312bc36d89)\" d=\"M 112.71388 162.273044 \nL 114.522702 162.273044 \nL 114.522702 159.096499 \nL 112.71388 159.096499 \nz\n\" style=\"opacity:0.8;\"/>\n   </g>\n   <g id=\"patch_19\">\n    <path clip-path=\"url(#p312bc36d89)\" d=\"M 117.055052 162.273044 \nL 118.863873 162.273044 \nL 118.863873 159.430872 \nL 117.055052 159.430872 \nz\n\" style=\"opacity:0.8;\"/>\n   </g>\n   <g id=\"patch_20\">\n    <path clip-path=\"url(#p312bc36d89)\" d=\"M 121.396223 162.273044 \nL 123.205044 162.273044 \nL 123.205044 157.59182 \nL 121.396223 157.59182 \nz\n\" style=\"opacity:0.8;\"/>\n   </g>\n   <g id=\"patch_21\">\n    <path clip-path=\"url(#p312bc36d89)\" d=\"M 125.737394 162.273044 \nL 127.546216 162.273044 \nL 127.546216 156.087141 \nL 125.737394 156.087141 \nz\n\" style=\"opacity:0.8;\"/>\n   </g>\n   <g id=\"patch_22\">\n    <path clip-path=\"url(#p312bc36d89)\" d=\"M 130.078566 162.273044 \nL 131.887387 162.273044 \nL 131.887387 153.579342 \nL 130.078566 153.579342 \nz\n\" style=\"opacity:0.8;\"/>\n   </g>\n   <g id=\"patch_23\">\n    <path clip-path=\"url(#p312bc36d89)\" d=\"M 134.419737 162.273044 \nL 136.228558 162.273044 \nL 136.228558 154.916835 \nL 134.419737 154.916835 \nz\n\" style=\"opacity:0.8;\"/>\n   </g>\n   <g id=\"patch_24\">\n    <path clip-path=\"url(#p312bc36d89)\" d=\"M 138.760908 162.273044 \nL 140.56973 162.273044 \nL 140.56973 152.576223 \nL 138.760908 152.576223 \nz\n\" style=\"opacity:0.8;\"/>\n   </g>\n   <g id=\"patch_25\">\n    <path clip-path=\"url(#p312bc36d89)\" d=\"M 143.10208 162.273044 \nL 144.910901 162.273044 \nL 144.910901 146.39032 \nL 143.10208 146.39032 \nz\n\" style=\"opacity:0.8;\"/>\n   </g>\n   <g id=\"patch_26\">\n    <path clip-path=\"url(#p312bc36d89)\" d=\"M 147.443251 162.273044 \nL 149.252072 162.273044 \nL 149.252072 143.715334 \nL 147.443251 143.715334 \nz\n\" style=\"opacity:0.8;\"/>\n   </g>\n   <g id=\"patch_27\">\n    <path clip-path=\"url(#p312bc36d89)\" d=\"M 151.784422 162.273044 \nL 153.593244 162.273044 \nL 153.593244 146.891879 \nL 151.784422 146.891879 \nz\n\" style=\"opacity:0.8;\"/>\n   </g>\n   <g id=\"patch_28\">\n    <path clip-path=\"url(#p312bc36d89)\" d=\"M 156.125593 162.273044 \nL 157.934415 162.273044 \nL 157.934415 133.349767 \nL 156.125593 133.349767 \nz\n\" style=\"opacity:0.8;\"/>\n   </g>\n   <g id=\"patch_29\">\n    <path clip-path=\"url(#p312bc36d89)\" d=\"M 160.466765 162.273044 \nL 162.275586 162.273044 \nL 162.275586 128.668542 \nL 160.466765 128.668542 \nz\n\" style=\"opacity:0.8;\"/>\n   </g>\n   <g id=\"patch_30\">\n    <path clip-path=\"url(#p312bc36d89)\" d=\"M 164.807936 162.273044 \nL 166.616758 162.273044 \nL 166.616758 136.024752 \nL 164.807936 136.024752 \nz\n\" style=\"opacity:0.8;\"/>\n   </g>\n   <g id=\"patch_31\">\n    <path clip-path=\"url(#p312bc36d89)\" d=\"M 169.149107 162.273044 \nL 170.957929 162.273044 \nL 170.957929 132.848207 \nL 169.149107 132.848207 \nz\n\" style=\"opacity:0.8;\"/>\n   </g>\n   <g id=\"patch_32\">\n    <path clip-path=\"url(#p312bc36d89)\" d=\"M 173.490279 162.273044 \nL 175.2991 162.273044 \nL 175.2991 108.27178 \nL 173.490279 108.27178 \nz\n\" style=\"opacity:0.8;\"/>\n   </g>\n   <g id=\"patch_33\">\n    <path clip-path=\"url(#p312bc36d89)\" d=\"M 177.83145 162.273044 \nL 179.640271 162.273044 \nL 179.640271 110.278019 \nL 177.83145 110.278019 \nz\n\" style=\"opacity:0.8;\"/>\n   </g>\n   <g id=\"patch_34\">\n    <path clip-path=\"url(#p312bc36d89)\" d=\"M 182.172621 162.273044 \nL 183.981443 162.273044 \nL 183.981443 100.915571 \nL 182.172621 100.915571 \nz\n\" style=\"opacity:0.8;\"/>\n   </g>\n   <g id=\"patch_35\">\n    <path clip-path=\"url(#p312bc36d89)\" d=\"M 186.513793 162.273044 \nL 188.322614 162.273044 \nL 188.322614 99.076518 \nL 186.513793 99.076518 \nz\n\" style=\"opacity:0.8;\"/>\n   </g>\n   <g id=\"patch_36\">\n    <path clip-path=\"url(#p312bc36d89)\" d=\"M 190.854964 162.273044 \nL 192.663785 162.273044 \nL 192.663785 94.729667 \nL 190.854964 94.729667 \nz\n\" style=\"opacity:0.8;\"/>\n   </g>\n   <g id=\"patch_37\">\n    <path clip-path=\"url(#p312bc36d89)\" d=\"M 195.196135 162.273044 \nL 197.004957 162.273044 \nL 197.004957 109.274899 \nL 195.196135 109.274899 \nz\n\" style=\"opacity:0.8;\"/>\n   </g>\n   <g id=\"patch_38\">\n    <path clip-path=\"url(#p312bc36d89)\" d=\"M 199.537307 162.273044 \nL 201.346128 162.273044 \nL 201.346128 104.928048 \nL 199.537307 104.928048 \nz\n\" style=\"opacity:0.8;\"/>\n   </g>\n   <g id=\"patch_39\">\n    <path clip-path=\"url(#p312bc36d89)\" d=\"M 203.878478 162.273044 \nL 205.687299 162.273044 \nL 205.687299 88.710951 \nL 203.878478 88.710951 \nz\n\" style=\"opacity:0.8;\"/>\n   </g>\n   <g id=\"patch_40\">\n    <path clip-path=\"url(#p312bc36d89)\" d=\"M 208.219649 162.273044 \nL 210.028471 162.273044 \nL 210.028471 89.881257 \nL 208.219649 89.881257 \nz\n\" style=\"opacity:0.8;\"/>\n   </g>\n   <g id=\"patch_41\">\n    <path clip-path=\"url(#p312bc36d89)\" d=\"M 212.560821 162.273044 \nL 214.369642 162.273044 \nL 214.369642 84.698473 \nL 212.560821 84.698473 \nz\n\" style=\"opacity:0.8;\"/>\n   </g>\n   <g id=\"patch_42\">\n    <path clip-path=\"url(#p312bc36d89)\" d=\"M 216.901992 162.273044 \nL 218.710813 162.273044 \nL 218.710813 87.206271 \nL 216.901992 87.206271 \nz\n\" style=\"opacity:0.8;\"/>\n   </g>\n   <g id=\"patch_43\">\n    <path clip-path=\"url(#p312bc36d89)\" d=\"M 221.243163 162.273044 \nL 223.051985 162.273044 \nL 223.051985 99.076518 \nL 221.243163 99.076518 \nz\n\" style=\"opacity:0.8;\"/>\n   </g>\n   <g id=\"patch_44\">\n    <path clip-path=\"url(#p312bc36d89)\" d=\"M 225.584335 162.273044 \nL 227.393156 162.273044 \nL 227.393156 86.035965 \nL 225.584335 86.035965 \nz\n\" style=\"opacity:0.8;\"/>\n   </g>\n   <g id=\"patch_45\">\n    <path clip-path=\"url(#p312bc36d89)\" d=\"M 229.925506 162.273044 \nL 231.734327 162.273044 \nL 231.734327 75.670398 \nL 229.925506 75.670398 \nz\n\" style=\"opacity:0.8;\"/>\n   </g>\n   <g id=\"patch_46\">\n    <path clip-path=\"url(#p312bc36d89)\" d=\"M 234.266677 162.273044 \nL 236.075499 162.273044 \nL 236.075499 65.472016 \nL 234.266677 65.472016 \nz\n\" style=\"opacity:0.8;\"/>\n   </g>\n   <g id=\"patch_47\">\n    <path clip-path=\"url(#p312bc36d89)\" d=\"M 238.607849 162.273044 \nL 240.41667 162.273044 \nL 240.41667 70.989173 \nL 238.607849 70.989173 \nz\n\" style=\"opacity:0.8;\"/>\n   </g>\n   <g id=\"patch_48\">\n    <path clip-path=\"url(#p312bc36d89)\" d=\"M 242.94902 162.273044 \nL 244.757841 162.273044 \nL 244.757841 61.125165 \nL 242.94902 61.125165 \nz\n\" style=\"opacity:0.8;\"/>\n   </g>\n   <g id=\"patch_49\">\n    <path clip-path=\"url(#p312bc36d89)\" d=\"M 247.290191 162.273044 \nL 249.099013 162.273044 \nL 249.099013 67.645442 \nL 247.290191 67.645442 \nz\n\" style=\"opacity:0.8;\"/>\n   </g>\n   <g id=\"patch_50\">\n    <path clip-path=\"url(#p312bc36d89)\" d=\"M 251.631363 162.273044 \nL 253.440184 162.273044 \nL 253.440184 40.561216 \nL 251.631363 40.561216 \nz\n\" style=\"opacity:0.8;\"/>\n   </g>\n   <g id=\"patch_51\">\n    <path clip-path=\"url(#p312bc36d89)\" d=\"M 255.972534 162.273044 \nL 257.781355 162.273044 \nL 257.781355 62.964218 \nL 255.972534 62.964218 \nz\n\" style=\"opacity:0.8;\"/>\n   </g>\n   <g id=\"patch_52\">\n    <path clip-path=\"url(#p312bc36d89)\" d=\"M 260.313705 162.273044 \nL 262.122527 162.273044 \nL 262.122527 64.970457 \nL 260.313705 64.970457 \nz\n\" style=\"opacity:0.8;\"/>\n   </g>\n   <g id=\"patch_53\">\n    <path clip-path=\"url(#p312bc36d89)\" d=\"M 264.654877 162.273044 \nL 266.463698 162.273044 \nL 266.463698 61.125165 \nL 264.654877 61.125165 \nz\n\" style=\"opacity:0.8;\"/>\n   </g>\n   <g id=\"patch_54\">\n    <path clip-path=\"url(#p312bc36d89)\" d=\"M 49.405132 162.273044 \nL 51.213953 162.273044 \nL 51.213953 161.938671 \nL 49.405132 161.938671 \nz\n\" style=\"fill:url(#he6de91ee8a);stroke:#ffffff;stroke-linejoin:miter;stroke-width:0.1;\"/>\n   </g>\n   <g id=\"patch_55\">\n    <path clip-path=\"url(#p312bc36d89)\" d=\"M 53.746303 162.273044 \nL 55.555125 162.273044 \nL 55.555125 162.273044 \nL 53.746303 162.273044 \nz\n\" style=\"fill:url(#he6de91ee8a);stroke:#ffffff;stroke-linejoin:miter;stroke-width:0.1;\"/>\n   </g>\n   <g id=\"patch_56\">\n    <path clip-path=\"url(#p312bc36d89)\" d=\"M 58.087474 162.273044 \nL 59.896296 162.273044 \nL 59.896296 161.938671 \nL 58.087474 161.938671 \nz\n\" style=\"fill:url(#he6de91ee8a);stroke:#ffffff;stroke-linejoin:miter;stroke-width:0.1;\"/>\n   </g>\n   <g id=\"patch_57\">\n    <path clip-path=\"url(#p312bc36d89)\" d=\"M 62.428646 162.273044 \nL 64.237467 162.273044 \nL 64.237467 162.105858 \nL 62.428646 162.105858 \nz\n\" style=\"fill:url(#he6de91ee8a);stroke:#ffffff;stroke-linejoin:miter;stroke-width:0.1;\"/>\n   </g>\n   <g id=\"patch_58\">\n    <path clip-path=\"url(#p312bc36d89)\" d=\"M 66.769817 162.273044 \nL 68.578638 162.273044 \nL 68.578638 161.604298 \nL 66.769817 161.604298 \nz\n\" style=\"fill:url(#he6de91ee8a);stroke:#ffffff;stroke-linejoin:miter;stroke-width:0.1;\"/>\n   </g>\n   <g id=\"patch_59\">\n    <path clip-path=\"url(#p312bc36d89)\" d=\"M 71.110988 162.273044 \nL 72.91981 162.273044 \nL 72.91981 162.105858 \nL 71.110988 162.105858 \nz\n\" style=\"fill:url(#he6de91ee8a);stroke:#ffffff;stroke-linejoin:miter;stroke-width:0.1;\"/>\n   </g>\n   <g id=\"patch_60\">\n    <path clip-path=\"url(#p312bc36d89)\" d=\"M 75.45216 162.273044 \nL 77.260981 162.273044 \nL 77.260981 161.771485 \nL 75.45216 161.771485 \nz\n\" style=\"fill:url(#he6de91ee8a);stroke:#ffffff;stroke-linejoin:miter;stroke-width:0.1;\"/>\n   </g>\n   <g id=\"patch_61\">\n    <path clip-path=\"url(#p312bc36d89)\" d=\"M 79.793331 162.273044 \nL 81.602152 162.273044 \nL 81.602152 161.604298 \nL 79.793331 161.604298 \nz\n\" style=\"fill:url(#he6de91ee8a);stroke:#ffffff;stroke-linejoin:miter;stroke-width:0.1;\"/>\n   </g>\n   <g id=\"patch_62\">\n    <path clip-path=\"url(#p312bc36d89)\" d=\"M 84.134502 162.273044 \nL 85.943324 162.273044 \nL 85.943324 161.604298 \nL 84.134502 161.604298 \nz\n\" style=\"fill:url(#he6de91ee8a);stroke:#ffffff;stroke-linejoin:miter;stroke-width:0.1;\"/>\n   </g>\n   <g id=\"patch_63\">\n    <path clip-path=\"url(#p312bc36d89)\" d=\"M 88.475674 162.273044 \nL 90.284495 162.273044 \nL 90.284495 161.269925 \nL 88.475674 161.269925 \nz\n\" style=\"fill:url(#he6de91ee8a);stroke:#ffffff;stroke-linejoin:miter;stroke-width:0.1;\"/>\n   </g>\n   <g id=\"patch_64\">\n    <path clip-path=\"url(#p312bc36d89)\" d=\"M 92.816845 162.273044 \nL 94.625666 162.273044 \nL 94.625666 159.430872 \nL 92.816845 159.430872 \nz\n\" style=\"fill:url(#he6de91ee8a);stroke:#ffffff;stroke-linejoin:miter;stroke-width:0.1;\"/>\n   </g>\n   <g id=\"patch_65\">\n    <path clip-path=\"url(#p312bc36d89)\" d=\"M 97.158016 162.273044 \nL 98.966838 162.273044 \nL 98.966838 157.926193 \nL 97.158016 157.926193 \nz\n\" style=\"fill:url(#he6de91ee8a);stroke:#ffffff;stroke-linejoin:miter;stroke-width:0.1;\"/>\n   </g>\n   <g id=\"patch_66\">\n    <path clip-path=\"url(#p312bc36d89)\" d=\"M 101.499188 162.273044 \nL 103.308009 162.273044 \nL 103.308009 157.926193 \nL 101.499188 157.926193 \nz\n\" style=\"fill:url(#he6de91ee8a);stroke:#ffffff;stroke-linejoin:miter;stroke-width:0.1;\"/>\n   </g>\n   <g id=\"patch_67\">\n    <path clip-path=\"url(#p312bc36d89)\" d=\"M 105.840359 162.273044 \nL 107.64918 162.273044 \nL 107.64918 158.260566 \nL 105.840359 158.260566 \nz\n\" style=\"fill:url(#he6de91ee8a);stroke:#ffffff;stroke-linejoin:miter;stroke-width:0.1;\"/>\n   </g>\n   <g id=\"patch_68\">\n    <path clip-path=\"url(#p312bc36d89)\" d=\"M 110.18153 162.273044 \nL 111.990352 162.273044 \nL 111.990352 157.09026 \nL 110.18153 157.09026 \nz\n\" style=\"fill:url(#he6de91ee8a);stroke:#ffffff;stroke-linejoin:miter;stroke-width:0.1;\"/>\n   </g>\n   <g id=\"patch_69\">\n    <path clip-path=\"url(#p312bc36d89)\" d=\"M 114.522702 162.273044 \nL 116.331523 162.273044 \nL 116.331523 156.588701 \nL 114.522702 156.588701 \nz\n\" style=\"fill:url(#he6de91ee8a);stroke:#ffffff;stroke-linejoin:miter;stroke-width:0.1;\"/>\n   </g>\n   <g id=\"patch_70\">\n    <path clip-path=\"url(#p312bc36d89)\" d=\"M 118.863873 162.273044 \nL 120.672694 162.273044 \nL 120.672694 155.418395 \nL 118.863873 155.418395 \nz\n\" style=\"fill:url(#he6de91ee8a);stroke:#ffffff;stroke-linejoin:miter;stroke-width:0.1;\"/>\n   </g>\n   <g id=\"patch_71\">\n    <path clip-path=\"url(#p312bc36d89)\" d=\"M 123.205044 162.273044 \nL 125.013866 162.273044 \nL 125.013866 157.424634 \nL 123.205044 157.424634 \nz\n\" style=\"fill:url(#he6de91ee8a);stroke:#ffffff;stroke-linejoin:miter;stroke-width:0.1;\"/>\n   </g>\n   <g id=\"patch_72\">\n    <path clip-path=\"url(#p312bc36d89)\" d=\"M 127.546216 162.273044 \nL 129.355037 162.273044 \nL 129.355037 157.59182 \nL 127.546216 157.59182 \nz\n\" style=\"fill:url(#he6de91ee8a);stroke:#ffffff;stroke-linejoin:miter;stroke-width:0.1;\"/>\n   </g>\n   <g id=\"patch_73\">\n    <path clip-path=\"url(#p312bc36d89)\" d=\"M 131.887387 162.273044 \nL 133.696208 162.273044 \nL 133.696208 154.749648 \nL 131.887387 154.749648 \nz\n\" style=\"fill:url(#he6de91ee8a);stroke:#ffffff;stroke-linejoin:miter;stroke-width:0.1;\"/>\n   </g>\n   <g id=\"patch_74\">\n    <path clip-path=\"url(#p312bc36d89)\" d=\"M 136.228558 162.273044 \nL 138.03738 162.273044 \nL 138.03738 157.759007 \nL 136.228558 157.759007 \nz\n\" style=\"fill:url(#he6de91ee8a);stroke:#ffffff;stroke-linejoin:miter;stroke-width:0.1;\"/>\n   </g>\n   <g id=\"patch_75\">\n    <path clip-path=\"url(#p312bc36d89)\" d=\"M 140.56973 162.273044 \nL 142.378551 162.273044 \nL 142.378551 157.759007 \nL 140.56973 157.759007 \nz\n\" style=\"fill:url(#he6de91ee8a);stroke:#ffffff;stroke-linejoin:miter;stroke-width:0.1;\"/>\n   </g>\n   <g id=\"patch_76\">\n    <path clip-path=\"url(#p312bc36d89)\" d=\"M 144.910901 162.273044 \nL 146.719722 162.273044 \nL 146.719722 154.248089 \nL 144.910901 154.248089 \nz\n\" style=\"fill:url(#he6de91ee8a);stroke:#ffffff;stroke-linejoin:miter;stroke-width:0.1;\"/>\n   </g>\n   <g id=\"patch_77\">\n    <path clip-path=\"url(#p312bc36d89)\" d=\"M 149.252072 162.273044 \nL 151.060894 162.273044 \nL 151.060894 152.074663 \nL 149.252072 152.074663 \nz\n\" style=\"fill:url(#he6de91ee8a);stroke:#ffffff;stroke-linejoin:miter;stroke-width:0.1;\"/>\n   </g>\n   <g id=\"patch_78\">\n    <path clip-path=\"url(#p312bc36d89)\" d=\"M 153.593244 162.273044 \nL 155.402065 162.273044 \nL 155.402065 154.916835 \nL 153.593244 154.916835 \nz\n\" style=\"fill:url(#he6de91ee8a);stroke:#ffffff;stroke-linejoin:miter;stroke-width:0.1;\"/>\n   </g>\n   <g id=\"patch_79\">\n    <path clip-path=\"url(#p312bc36d89)\" d=\"M 157.934415 162.273044 \nL 159.743236 162.273044 \nL 159.743236 149.901238 \nL 157.934415 149.901238 \nz\n\" style=\"fill:url(#he6de91ee8a);stroke:#ffffff;stroke-linejoin:miter;stroke-width:0.1;\"/>\n   </g>\n   <g id=\"patch_80\">\n    <path clip-path=\"url(#p312bc36d89)\" d=\"M 162.275586 162.273044 \nL 164.084408 162.273044 \nL 164.084408 147.226252 \nL 162.275586 147.226252 \nz\n\" style=\"fill:url(#he6de91ee8a);stroke:#ffffff;stroke-linejoin:miter;stroke-width:0.1;\"/>\n   </g>\n   <g id=\"patch_81\">\n    <path clip-path=\"url(#p312bc36d89)\" d=\"M 166.616758 162.273044 \nL 168.425579 162.273044 \nL 168.425579 149.232491 \nL 166.616758 149.232491 \nz\n\" style=\"fill:url(#he6de91ee8a);stroke:#ffffff;stroke-linejoin:miter;stroke-width:0.1;\"/>\n   </g>\n   <g id=\"patch_82\">\n    <path clip-path=\"url(#p312bc36d89)\" d=\"M 170.957929 162.273044 \nL 172.76675 162.273044 \nL 172.76675 153.746529 \nL 170.957929 153.746529 \nz\n\" style=\"fill:url(#he6de91ee8a);stroke:#ffffff;stroke-linejoin:miter;stroke-width:0.1;\"/>\n   </g>\n   <g id=\"patch_83\">\n    <path clip-path=\"url(#p312bc36d89)\" d=\"M 175.2991 162.273044 \nL 177.107922 162.273044 \nL 177.107922 143.380961 \nL 175.2991 143.380961 \nz\n\" style=\"fill:url(#he6de91ee8a);stroke:#ffffff;stroke-linejoin:miter;stroke-width:0.1;\"/>\n   </g>\n   <g id=\"patch_84\">\n    <path clip-path=\"url(#p312bc36d89)\" d=\"M 179.640271 162.273044 \nL 181.449093 162.273044 \nL 181.449093 145.721573 \nL 179.640271 145.721573 \nz\n\" style=\"fill:url(#he6de91ee8a);stroke:#ffffff;stroke-linejoin:miter;stroke-width:0.1;\"/>\n   </g>\n   <g id=\"patch_85\">\n    <path clip-path=\"url(#p312bc36d89)\" d=\"M 183.981443 162.273044 \nL 185.790264 162.273044 \nL 185.790264 148.730932 \nL 183.981443 148.730932 \nz\n\" style=\"fill:url(#he6de91ee8a);stroke:#ffffff;stroke-linejoin:miter;stroke-width:0.1;\"/>\n   </g>\n   <g id=\"patch_86\">\n    <path clip-path=\"url(#p312bc36d89)\" d=\"M 188.322614 162.273044 \nL 190.131436 162.273044 \nL 190.131436 150.569984 \nL 188.322614 150.569984 \nz\n\" style=\"fill:url(#he6de91ee8a);stroke:#ffffff;stroke-linejoin:miter;stroke-width:0.1;\"/>\n   </g>\n   <g id=\"patch_87\">\n    <path clip-path=\"url(#p312bc36d89)\" d=\"M 192.663785 162.273044 \nL 194.472607 162.273044 \nL 194.472607 152.409036 \nL 192.663785 152.409036 \nz\n\" style=\"fill:url(#he6de91ee8a);stroke:#ffffff;stroke-linejoin:miter;stroke-width:0.1;\"/>\n   </g>\n   <g id=\"patch_88\">\n    <path clip-path=\"url(#p312bc36d89)\" d=\"M 197.004957 162.273044 \nL 198.813778 162.273044 \nL 198.813778 157.09026 \nL 197.004957 157.09026 \nz\n\" style=\"fill:url(#he6de91ee8a);stroke:#ffffff;stroke-linejoin:miter;stroke-width:0.1;\"/>\n   </g>\n   <g id=\"patch_89\">\n    <path clip-path=\"url(#p312bc36d89)\" d=\"M 201.346128 162.273044 \nL 203.154949 162.273044 \nL 203.154949 157.59182 \nL 201.346128 157.59182 \nz\n\" style=\"fill:url(#he6de91ee8a);stroke:#ffffff;stroke-linejoin:miter;stroke-width:0.1;\"/>\n   </g>\n   <g id=\"patch_90\">\n    <path clip-path=\"url(#p312bc36d89)\" d=\"M 205.687299 162.273044 \nL 207.496121 162.273044 \nL 207.496121 156.755887 \nL 205.687299 156.755887 \nz\n\" style=\"fill:url(#he6de91ee8a);stroke:#ffffff;stroke-linejoin:miter;stroke-width:0.1;\"/>\n   </g>\n   <g id=\"patch_91\">\n    <path clip-path=\"url(#p312bc36d89)\" d=\"M 210.028471 162.273044 \nL 211.837292 162.273044 \nL 211.837292 158.260566 \nL 210.028471 158.260566 \nz\n\" style=\"fill:url(#he6de91ee8a);stroke:#ffffff;stroke-linejoin:miter;stroke-width:0.1;\"/>\n   </g>\n   <g id=\"patch_92\">\n    <path clip-path=\"url(#p312bc36d89)\" d=\"M 214.369642 162.273044 \nL 216.178463 162.273044 \nL 216.178463 158.260566 \nL 214.369642 158.260566 \nz\n\" style=\"fill:url(#he6de91ee8a);stroke:#ffffff;stroke-linejoin:miter;stroke-width:0.1;\"/>\n   </g>\n   <g id=\"patch_93\">\n    <path clip-path=\"url(#p312bc36d89)\" d=\"M 218.710813 162.273044 \nL 220.519635 162.273044 \nL 220.519635 157.257447 \nL 218.710813 157.257447 \nz\n\" style=\"fill:url(#he6de91ee8a);stroke:#ffffff;stroke-linejoin:miter;stroke-width:0.1;\"/>\n   </g>\n   <g id=\"patch_94\">\n    <path clip-path=\"url(#p312bc36d89)\" d=\"M 223.051985 162.273044 \nL 224.860806 162.273044 \nL 224.860806 159.263686 \nL 223.051985 159.263686 \nz\n\" style=\"fill:url(#he6de91ee8a);stroke:#ffffff;stroke-linejoin:miter;stroke-width:0.1;\"/>\n   </g>\n   <g id=\"patch_95\">\n    <path clip-path=\"url(#p312bc36d89)\" d=\"M 227.393156 162.273044 \nL 229.201977 162.273044 \nL 229.201977 159.932432 \nL 227.393156 159.932432 \nz\n\" style=\"fill:url(#he6de91ee8a);stroke:#ffffff;stroke-linejoin:miter;stroke-width:0.1;\"/>\n   </g>\n   <g id=\"patch_96\">\n    <path clip-path=\"url(#p312bc36d89)\" d=\"M 231.734327 162.273044 \nL 233.543149 162.273044 \nL 233.543149 158.929313 \nL 231.734327 158.929313 \nz\n\" style=\"fill:url(#he6de91ee8a);stroke:#ffffff;stroke-linejoin:miter;stroke-width:0.1;\"/>\n   </g>\n   <g id=\"patch_97\">\n    <path clip-path=\"url(#p312bc36d89)\" d=\"M 236.075499 162.273044 \nL 237.88432 162.273044 \nL 237.88432 160.099619 \nL 236.075499 160.099619 \nz\n\" style=\"fill:url(#he6de91ee8a);stroke:#ffffff;stroke-linejoin:miter;stroke-width:0.1;\"/>\n   </g>\n   <g id=\"patch_98\">\n    <path clip-path=\"url(#p312bc36d89)\" d=\"M 240.41667 162.273044 \nL 242.225491 162.273044 \nL 242.225491 161.269925 \nL 240.41667 161.269925 \nz\n\" style=\"fill:url(#he6de91ee8a);stroke:#ffffff;stroke-linejoin:miter;stroke-width:0.1;\"/>\n   </g>\n   <g id=\"patch_99\">\n    <path clip-path=\"url(#p312bc36d89)\" d=\"M 244.757841 162.273044 \nL 246.566663 162.273044 \nL 246.566663 160.935552 \nL 244.757841 160.935552 \nz\n\" style=\"fill:url(#he6de91ee8a);stroke:#ffffff;stroke-linejoin:miter;stroke-width:0.1;\"/>\n   </g>\n   <g id=\"patch_100\">\n    <path clip-path=\"url(#p312bc36d89)\" d=\"M 249.099013 162.273044 \nL 250.907834 162.273044 \nL 250.907834 161.269925 \nL 249.099013 161.269925 \nz\n\" style=\"fill:url(#he6de91ee8a);stroke:#ffffff;stroke-linejoin:miter;stroke-width:0.1;\"/>\n   </g>\n   <g id=\"patch_101\">\n    <path clip-path=\"url(#p312bc36d89)\" d=\"M 253.440184 162.273044 \nL 255.249005 162.273044 \nL 255.249005 160.433992 \nL 253.440184 160.433992 \nz\n\" style=\"fill:url(#he6de91ee8a);stroke:#ffffff;stroke-linejoin:miter;stroke-width:0.1;\"/>\n   </g>\n   <g id=\"patch_102\">\n    <path clip-path=\"url(#p312bc36d89)\" d=\"M 257.781355 162.273044 \nL 259.590177 162.273044 \nL 259.590177 161.269925 \nL 257.781355 161.269925 \nz\n\" style=\"fill:url(#he6de91ee8a);stroke:#ffffff;stroke-linejoin:miter;stroke-width:0.1;\"/>\n   </g>\n   <g id=\"patch_103\">\n    <path clip-path=\"url(#p312bc36d89)\" d=\"M 262.122527 162.273044 \nL 263.931348 162.273044 \nL 263.931348 160.935552 \nL 262.122527 160.935552 \nz\n\" style=\"fill:url(#he6de91ee8a);stroke:#ffffff;stroke-linejoin:miter;stroke-width:0.1;\"/>\n   </g>\n   <g id=\"patch_104\">\n    <path clip-path=\"url(#p312bc36d89)\" d=\"M 266.463698 162.273044 \nL 268.272519 162.273044 \nL 268.272519 161.604298 \nL 266.463698 161.604298 \nz\n\" style=\"fill:url(#he6de91ee8a);stroke:#ffffff;stroke-linejoin:miter;stroke-width:0.1;\"/>\n   </g>\n   <g id=\"matplotlib.axis_1\">\n    <g id=\"xtick_1\">\n     <g id=\"line2d_1\">\n      <defs>\n       <path d=\"M 0 0 \nL 0 3.5 \n\" id=\"mab22b3d465\" style=\"stroke:#000000;stroke-width:0.8;\"/>\n      </defs>\n      <g>\n       <use style=\"stroke:#000000;stroke-width:0.8;\" x=\"49.405132\" xlink:href=\"#mab22b3d465\" y=\"162.273044\"/>\n      </g>\n     </g>\n     <g id=\"text_1\">\n      <!-- Mar 01 -->\n      <g transform=\"translate(39.063143 199.232275)rotate(-45)scale(0.1 -0.1)\">\n       <defs>\n        <path d=\"M 9.8125 72.90625 \nL 24.515625 72.90625 \nL 43.109375 23.296875 \nL 61.8125 72.90625 \nL 76.515625 72.90625 \nL 76.515625 0 \nL 66.890625 0 \nL 66.890625 64.015625 \nL 48.09375 14.015625 \nL 38.1875 14.015625 \nL 19.390625 64.015625 \nL 19.390625 0 \nL 9.8125 0 \nz\n\" id=\"DejaVuSans-77\"/>\n        <path d=\"M 34.28125 27.484375 \nQ 23.390625 27.484375 19.1875 25 \nQ 14.984375 22.515625 14.984375 16.5 \nQ 14.984375 11.71875 18.140625 8.90625 \nQ 21.296875 6.109375 26.703125 6.109375 \nQ 34.1875 6.109375 38.703125 11.40625 \nQ 43.21875 16.703125 43.21875 25.484375 \nL 43.21875 27.484375 \nz\nM 52.203125 31.203125 \nL 52.203125 0 \nL 43.21875 0 \nL 43.21875 8.296875 \nQ 40.140625 3.328125 35.546875 0.953125 \nQ 30.953125 -1.421875 24.3125 -1.421875 \nQ 15.921875 -1.421875 10.953125 3.296875 \nQ 6 8.015625 6 15.921875 \nQ 6 25.140625 12.171875 29.828125 \nQ 18.359375 34.515625 30.609375 34.515625 \nL 43.21875 34.515625 \nL 43.21875 35.40625 \nQ 43.21875 41.609375 39.140625 45 \nQ 35.0625 48.390625 27.6875 48.390625 \nQ 23 48.390625 18.546875 47.265625 \nQ 14.109375 46.140625 10.015625 43.890625 \nL 10.015625 52.203125 \nQ 14.9375 54.109375 19.578125 55.046875 \nQ 24.21875 56 28.609375 56 \nQ 40.484375 56 46.34375 49.84375 \nQ 52.203125 43.703125 52.203125 31.203125 \nz\n\" id=\"DejaVuSans-97\"/>\n        <path d=\"M 41.109375 46.296875 \nQ 39.59375 47.171875 37.8125 47.578125 \nQ 36.03125 48 33.890625 48 \nQ 26.265625 48 22.1875 43.046875 \nQ 18.109375 38.09375 18.109375 28.8125 \nL 18.109375 0 \nL 9.078125 0 \nL 9.078125 54.6875 \nL 18.109375 54.6875 \nL 18.109375 46.1875 \nQ 20.953125 51.171875 25.484375 53.578125 \nQ 30.03125 56 36.53125 56 \nQ 37.453125 56 38.578125 55.875 \nQ 39.703125 55.765625 41.0625 55.515625 \nz\n\" id=\"DejaVuSans-114\"/>\n        <path id=\"DejaVuSans-32\"/>\n        <path d=\"M 31.78125 66.40625 \nQ 24.171875 66.40625 20.328125 58.90625 \nQ 16.5 51.421875 16.5 36.375 \nQ 16.5 21.390625 20.328125 13.890625 \nQ 24.171875 6.390625 31.78125 6.390625 \nQ 39.453125 6.390625 43.28125 13.890625 \nQ 47.125 21.390625 47.125 36.375 \nQ 47.125 51.421875 43.28125 58.90625 \nQ 39.453125 66.40625 31.78125 66.40625 \nz\nM 31.78125 74.21875 \nQ 44.046875 74.21875 50.515625 64.515625 \nQ 56.984375 54.828125 56.984375 36.375 \nQ 56.984375 17.96875 50.515625 8.265625 \nQ 44.046875 -1.421875 31.78125 -1.421875 \nQ 19.53125 -1.421875 13.0625 8.265625 \nQ 6.59375 17.96875 6.59375 36.375 \nQ 6.59375 54.828125 13.0625 64.515625 \nQ 19.53125 74.21875 31.78125 74.21875 \nz\n\" id=\"DejaVuSans-48\"/>\n        <path d=\"M 12.40625 8.296875 \nL 28.515625 8.296875 \nL 28.515625 63.921875 \nL 10.984375 60.40625 \nL 10.984375 69.390625 \nL 28.421875 72.90625 \nL 38.28125 72.90625 \nL 38.28125 8.296875 \nL 54.390625 8.296875 \nL 54.390625 0 \nL 12.40625 0 \nz\n\" id=\"DejaVuSans-49\"/>\n       </defs>\n       <use xlink:href=\"#DejaVuSans-77\"/>\n       <use x=\"86.279297\" xlink:href=\"#DejaVuSans-97\"/>\n       <use x=\"147.558594\" xlink:href=\"#DejaVuSans-114\"/>\n       <use x=\"188.671875\" xlink:href=\"#DejaVuSans-32\"/>\n       <use x=\"220.458984\" xlink:href=\"#DejaVuSans-48\"/>\n       <use x=\"284.082031\" xlink:href=\"#DejaVuSans-49\"/>\n      </g>\n     </g>\n    </g>\n    <g id=\"xtick_2\">\n     <g id=\"line2d_2\">\n      <g>\n       <use style=\"stroke:#000000;stroke-width:0.8;\" x=\"79.793331\" xlink:href=\"#mab22b3d465\" y=\"162.273044\"/>\n      </g>\n     </g>\n     <g id=\"text_2\">\n      <!-- Mar 08 -->\n      <g transform=\"translate(69.451342 199.232275)rotate(-45)scale(0.1 -0.1)\">\n       <defs>\n        <path d=\"M 31.78125 34.625 \nQ 24.75 34.625 20.71875 30.859375 \nQ 16.703125 27.09375 16.703125 20.515625 \nQ 16.703125 13.921875 20.71875 10.15625 \nQ 24.75 6.390625 31.78125 6.390625 \nQ 38.8125 6.390625 42.859375 10.171875 \nQ 46.921875 13.96875 46.921875 20.515625 \nQ 46.921875 27.09375 42.890625 30.859375 \nQ 38.875 34.625 31.78125 34.625 \nz\nM 21.921875 38.8125 \nQ 15.578125 40.375 12.03125 44.71875 \nQ 8.5 49.078125 8.5 55.328125 \nQ 8.5 64.0625 14.71875 69.140625 \nQ 20.953125 74.21875 31.78125 74.21875 \nQ 42.671875 74.21875 48.875 69.140625 \nQ 55.078125 64.0625 55.078125 55.328125 \nQ 55.078125 49.078125 51.53125 44.71875 \nQ 48 40.375 41.703125 38.8125 \nQ 48.828125 37.15625 52.796875 32.3125 \nQ 56.78125 27.484375 56.78125 20.515625 \nQ 56.78125 9.90625 50.3125 4.234375 \nQ 43.84375 -1.421875 31.78125 -1.421875 \nQ 19.734375 -1.421875 13.25 4.234375 \nQ 6.78125 9.90625 6.78125 20.515625 \nQ 6.78125 27.484375 10.78125 32.3125 \nQ 14.796875 37.15625 21.921875 38.8125 \nz\nM 18.3125 54.390625 \nQ 18.3125 48.734375 21.84375 45.5625 \nQ 25.390625 42.390625 31.78125 42.390625 \nQ 38.140625 42.390625 41.71875 45.5625 \nQ 45.3125 48.734375 45.3125 54.390625 \nQ 45.3125 60.0625 41.71875 63.234375 \nQ 38.140625 66.40625 31.78125 66.40625 \nQ 25.390625 66.40625 21.84375 63.234375 \nQ 18.3125 60.0625 18.3125 54.390625 \nz\n\" id=\"DejaVuSans-56\"/>\n       </defs>\n       <use xlink:href=\"#DejaVuSans-77\"/>\n       <use x=\"86.279297\" xlink:href=\"#DejaVuSans-97\"/>\n       <use x=\"147.558594\" xlink:href=\"#DejaVuSans-114\"/>\n       <use x=\"188.671875\" xlink:href=\"#DejaVuSans-32\"/>\n       <use x=\"220.458984\" xlink:href=\"#DejaVuSans-48\"/>\n       <use x=\"284.082031\" xlink:href=\"#DejaVuSans-56\"/>\n      </g>\n     </g>\n    </g>\n    <g id=\"xtick_3\">\n     <g id=\"line2d_3\">\n      <g>\n       <use style=\"stroke:#000000;stroke-width:0.8;\" x=\"110.18153\" xlink:href=\"#mab22b3d465\" y=\"162.273044\"/>\n      </g>\n     </g>\n     <g id=\"text_3\">\n      <!-- Mar 15 -->\n      <g transform=\"translate(99.839541 199.232275)rotate(-45)scale(0.1 -0.1)\">\n       <defs>\n        <path d=\"M 10.796875 72.90625 \nL 49.515625 72.90625 \nL 49.515625 64.59375 \nL 19.828125 64.59375 \nL 19.828125 46.734375 \nQ 21.96875 47.46875 24.109375 47.828125 \nQ 26.265625 48.1875 28.421875 48.1875 \nQ 40.625 48.1875 47.75 41.5 \nQ 54.890625 34.8125 54.890625 23.390625 \nQ 54.890625 11.625 47.5625 5.09375 \nQ 40.234375 -1.421875 26.90625 -1.421875 \nQ 22.3125 -1.421875 17.546875 -0.640625 \nQ 12.796875 0.140625 7.71875 1.703125 \nL 7.71875 11.625 \nQ 12.109375 9.234375 16.796875 8.0625 \nQ 21.484375 6.890625 26.703125 6.890625 \nQ 35.15625 6.890625 40.078125 11.328125 \nQ 45.015625 15.765625 45.015625 23.390625 \nQ 45.015625 31 40.078125 35.4375 \nQ 35.15625 39.890625 26.703125 39.890625 \nQ 22.75 39.890625 18.8125 39.015625 \nQ 14.890625 38.140625 10.796875 36.28125 \nz\n\" id=\"DejaVuSans-53\"/>\n       </defs>\n       <use xlink:href=\"#DejaVuSans-77\"/>\n       <use x=\"86.279297\" xlink:href=\"#DejaVuSans-97\"/>\n       <use x=\"147.558594\" xlink:href=\"#DejaVuSans-114\"/>\n       <use x=\"188.671875\" xlink:href=\"#DejaVuSans-32\"/>\n       <use x=\"220.458984\" xlink:href=\"#DejaVuSans-49\"/>\n       <use x=\"284.082031\" xlink:href=\"#DejaVuSans-53\"/>\n      </g>\n     </g>\n    </g>\n    <g id=\"xtick_4\">\n     <g id=\"line2d_4\">\n      <g>\n       <use style=\"stroke:#000000;stroke-width:0.8;\" x=\"140.56973\" xlink:href=\"#mab22b3d465\" y=\"162.273044\"/>\n      </g>\n     </g>\n     <g id=\"text_4\">\n      <!-- Mar 22 -->\n      <g transform=\"translate(130.22774 199.232275)rotate(-45)scale(0.1 -0.1)\">\n       <defs>\n        <path d=\"M 19.1875 8.296875 \nL 53.609375 8.296875 \nL 53.609375 0 \nL 7.328125 0 \nL 7.328125 8.296875 \nQ 12.9375 14.109375 22.625 23.890625 \nQ 32.328125 33.6875 34.8125 36.53125 \nQ 39.546875 41.84375 41.421875 45.53125 \nQ 43.3125 49.21875 43.3125 52.78125 \nQ 43.3125 58.59375 39.234375 62.25 \nQ 35.15625 65.921875 28.609375 65.921875 \nQ 23.96875 65.921875 18.8125 64.3125 \nQ 13.671875 62.703125 7.8125 59.421875 \nL 7.8125 69.390625 \nQ 13.765625 71.78125 18.9375 73 \nQ 24.125 74.21875 28.421875 74.21875 \nQ 39.75 74.21875 46.484375 68.546875 \nQ 53.21875 62.890625 53.21875 53.421875 \nQ 53.21875 48.921875 51.53125 44.890625 \nQ 49.859375 40.875 45.40625 35.40625 \nQ 44.1875 33.984375 37.640625 27.21875 \nQ 31.109375 20.453125 19.1875 8.296875 \nz\n\" id=\"DejaVuSans-50\"/>\n       </defs>\n       <use xlink:href=\"#DejaVuSans-77\"/>\n       <use x=\"86.279297\" xlink:href=\"#DejaVuSans-97\"/>\n       <use x=\"147.558594\" xlink:href=\"#DejaVuSans-114\"/>\n       <use x=\"188.671875\" xlink:href=\"#DejaVuSans-32\"/>\n       <use x=\"220.458984\" xlink:href=\"#DejaVuSans-50\"/>\n       <use x=\"284.082031\" xlink:href=\"#DejaVuSans-50\"/>\n      </g>\n     </g>\n    </g>\n    <g id=\"xtick_5\">\n     <g id=\"line2d_5\">\n      <g>\n       <use style=\"stroke:#000000;stroke-width:0.8;\" x=\"170.957929\" xlink:href=\"#mab22b3d465\" y=\"162.273044\"/>\n      </g>\n     </g>\n     <g id=\"text_5\">\n      <!-- Mar 29 -->\n      <g transform=\"translate(160.61594 199.232275)rotate(-45)scale(0.1 -0.1)\">\n       <defs>\n        <path d=\"M 10.984375 1.515625 \nL 10.984375 10.5 \nQ 14.703125 8.734375 18.5 7.8125 \nQ 22.3125 6.890625 25.984375 6.890625 \nQ 35.75 6.890625 40.890625 13.453125 \nQ 46.046875 20.015625 46.78125 33.40625 \nQ 43.953125 29.203125 39.59375 26.953125 \nQ 35.25 24.703125 29.984375 24.703125 \nQ 19.046875 24.703125 12.671875 31.3125 \nQ 6.296875 37.9375 6.296875 49.421875 \nQ 6.296875 60.640625 12.9375 67.421875 \nQ 19.578125 74.21875 30.609375 74.21875 \nQ 43.265625 74.21875 49.921875 64.515625 \nQ 56.59375 54.828125 56.59375 36.375 \nQ 56.59375 19.140625 48.40625 8.859375 \nQ 40.234375 -1.421875 26.421875 -1.421875 \nQ 22.703125 -1.421875 18.890625 -0.6875 \nQ 15.09375 0.046875 10.984375 1.515625 \nz\nM 30.609375 32.421875 \nQ 37.25 32.421875 41.125 36.953125 \nQ 45.015625 41.5 45.015625 49.421875 \nQ 45.015625 57.28125 41.125 61.84375 \nQ 37.25 66.40625 30.609375 66.40625 \nQ 23.96875 66.40625 20.09375 61.84375 \nQ 16.21875 57.28125 16.21875 49.421875 \nQ 16.21875 41.5 20.09375 36.953125 \nQ 23.96875 32.421875 30.609375 32.421875 \nz\n\" id=\"DejaVuSans-57\"/>\n       </defs>\n       <use xlink:href=\"#DejaVuSans-77\"/>\n       <use x=\"86.279297\" xlink:href=\"#DejaVuSans-97\"/>\n       <use x=\"147.558594\" xlink:href=\"#DejaVuSans-114\"/>\n       <use x=\"188.671875\" xlink:href=\"#DejaVuSans-32\"/>\n       <use x=\"220.458984\" xlink:href=\"#DejaVuSans-50\"/>\n       <use x=\"284.082031\" xlink:href=\"#DejaVuSans-57\"/>\n      </g>\n     </g>\n    </g>\n    <g id=\"xtick_6\">\n     <g id=\"line2d_6\">\n      <g>\n       <use style=\"stroke:#000000;stroke-width:0.8;\" x=\"201.346128\" xlink:href=\"#mab22b3d465\" y=\"162.273044\"/>\n      </g>\n     </g>\n     <g id=\"text_6\">\n      <!-- Apr 05 -->\n      <g transform=\"translate(191.558223 198.124106)rotate(-45)scale(0.1 -0.1)\">\n       <defs>\n        <path d=\"M 34.1875 63.1875 \nL 20.796875 26.90625 \nL 47.609375 26.90625 \nz\nM 28.609375 72.90625 \nL 39.796875 72.90625 \nL 67.578125 0 \nL 57.328125 0 \nL 50.6875 18.703125 \nL 17.828125 18.703125 \nL 11.1875 0 \nL 0.78125 0 \nz\n\" id=\"DejaVuSans-65\"/>\n        <path d=\"M 18.109375 8.203125 \nL 18.109375 -20.796875 \nL 9.078125 -20.796875 \nL 9.078125 54.6875 \nL 18.109375 54.6875 \nL 18.109375 46.390625 \nQ 20.953125 51.265625 25.265625 53.625 \nQ 29.59375 56 35.59375 56 \nQ 45.5625 56 51.78125 48.09375 \nQ 58.015625 40.1875 58.015625 27.296875 \nQ 58.015625 14.40625 51.78125 6.484375 \nQ 45.5625 -1.421875 35.59375 -1.421875 \nQ 29.59375 -1.421875 25.265625 0.953125 \nQ 20.953125 3.328125 18.109375 8.203125 \nz\nM 48.6875 27.296875 \nQ 48.6875 37.203125 44.609375 42.84375 \nQ 40.53125 48.484375 33.40625 48.484375 \nQ 26.265625 48.484375 22.1875 42.84375 \nQ 18.109375 37.203125 18.109375 27.296875 \nQ 18.109375 17.390625 22.1875 11.75 \nQ 26.265625 6.109375 33.40625 6.109375 \nQ 40.53125 6.109375 44.609375 11.75 \nQ 48.6875 17.390625 48.6875 27.296875 \nz\n\" id=\"DejaVuSans-112\"/>\n       </defs>\n       <use xlink:href=\"#DejaVuSans-65\"/>\n       <use x=\"68.408203\" xlink:href=\"#DejaVuSans-112\"/>\n       <use x=\"131.884766\" xlink:href=\"#DejaVuSans-114\"/>\n       <use x=\"172.998047\" xlink:href=\"#DejaVuSans-32\"/>\n       <use x=\"204.785156\" xlink:href=\"#DejaVuSans-48\"/>\n       <use x=\"268.408203\" xlink:href=\"#DejaVuSans-53\"/>\n      </g>\n     </g>\n    </g>\n    <g id=\"xtick_7\">\n     <g id=\"line2d_7\">\n      <g>\n       <use style=\"stroke:#000000;stroke-width:0.8;\" x=\"231.734327\" xlink:href=\"#mab22b3d465\" y=\"162.273044\"/>\n      </g>\n     </g>\n     <g id=\"text_7\">\n      <!-- Apr 12 -->\n      <g transform=\"translate(221.946423 198.124106)rotate(-45)scale(0.1 -0.1)\">\n       <use xlink:href=\"#DejaVuSans-65\"/>\n       <use x=\"68.408203\" xlink:href=\"#DejaVuSans-112\"/>\n       <use x=\"131.884766\" xlink:href=\"#DejaVuSans-114\"/>\n       <use x=\"172.998047\" xlink:href=\"#DejaVuSans-32\"/>\n       <use x=\"204.785156\" xlink:href=\"#DejaVuSans-49\"/>\n       <use x=\"268.408203\" xlink:href=\"#DejaVuSans-50\"/>\n      </g>\n     </g>\n    </g>\n    <g id=\"xtick_8\">\n     <g id=\"line2d_8\">\n      <g>\n       <use style=\"stroke:#000000;stroke-width:0.8;\" x=\"262.122527\" xlink:href=\"#mab22b3d465\" y=\"162.273044\"/>\n      </g>\n     </g>\n     <g id=\"text_8\">\n      <!-- Apr 19 -->\n      <g transform=\"translate(252.334622 198.124106)rotate(-45)scale(0.1 -0.1)\">\n       <use xlink:href=\"#DejaVuSans-65\"/>\n       <use x=\"68.408203\" xlink:href=\"#DejaVuSans-112\"/>\n       <use x=\"131.884766\" xlink:href=\"#DejaVuSans-114\"/>\n       <use x=\"172.998047\" xlink:href=\"#DejaVuSans-32\"/>\n       <use x=\"204.785156\" xlink:href=\"#DejaVuSans-49\"/>\n       <use x=\"268.408203\" xlink:href=\"#DejaVuSans-57\"/>\n      </g>\n     </g>\n    </g>\n   </g>\n   <g id=\"matplotlib.axis_2\">\n    <g id=\"ytick_1\">\n     <g id=\"line2d_9\">\n      <defs>\n       <path d=\"M 0 0 \nL -3.5 0 \n\" id=\"md3d2d8c597\" style=\"stroke:#000000;stroke-width:0.8;\"/>\n      </defs>\n      <g>\n       <use style=\"stroke:#000000;stroke-width:0.8;\" x=\"36.5625\" xlink:href=\"#md3d2d8c597\" y=\"162.273044\"/>\n      </g>\n     </g>\n     <g id=\"text_9\">\n      <!-- 0 -->\n      <g transform=\"translate(23.2 166.072263)scale(0.1 -0.1)\">\n       <use xlink:href=\"#DejaVuSans-48\"/>\n      </g>\n     </g>\n    </g>\n    <g id=\"ytick_2\">\n     <g id=\"line2d_10\">\n      <g>\n       <use style=\"stroke:#000000;stroke-width:0.8;\" x=\"36.5625\" xlink:href=\"#md3d2d8c597\" y=\"128.835729\"/>\n      </g>\n     </g>\n     <g id=\"text_10\">\n      <!-- 200 -->\n      <g transform=\"translate(10.475 132.634948)scale(0.1 -0.1)\">\n       <use xlink:href=\"#DejaVuSans-50\"/>\n       <use x=\"63.623047\" xlink:href=\"#DejaVuSans-48\"/>\n       <use x=\"127.246094\" xlink:href=\"#DejaVuSans-48\"/>\n      </g>\n     </g>\n    </g>\n    <g id=\"ytick_3\">\n     <g id=\"line2d_11\">\n      <g>\n       <use style=\"stroke:#000000;stroke-width:0.8;\" x=\"36.5625\" xlink:href=\"#md3d2d8c597\" y=\"95.398414\"/>\n      </g>\n     </g>\n     <g id=\"text_11\">\n      <!-- 400 -->\n      <g transform=\"translate(10.475 99.197632)scale(0.1 -0.1)\">\n       <defs>\n        <path d=\"M 37.796875 64.3125 \nL 12.890625 25.390625 \nL 37.796875 25.390625 \nz\nM 35.203125 72.90625 \nL 47.609375 72.90625 \nL 47.609375 25.390625 \nL 58.015625 25.390625 \nL 58.015625 17.1875 \nL 47.609375 17.1875 \nL 47.609375 0 \nL 37.796875 0 \nL 37.796875 17.1875 \nL 4.890625 17.1875 \nL 4.890625 26.703125 \nz\n\" id=\"DejaVuSans-52\"/>\n       </defs>\n       <use xlink:href=\"#DejaVuSans-52\"/>\n       <use x=\"63.623047\" xlink:href=\"#DejaVuSans-48\"/>\n       <use x=\"127.246094\" xlink:href=\"#DejaVuSans-48\"/>\n      </g>\n     </g>\n    </g>\n    <g id=\"ytick_4\">\n     <g id=\"line2d_12\">\n      <g>\n       <use style=\"stroke:#000000;stroke-width:0.8;\" x=\"36.5625\" xlink:href=\"#md3d2d8c597\" y=\"61.961098\"/>\n      </g>\n     </g>\n     <g id=\"text_12\">\n      <!-- 600 -->\n      <g transform=\"translate(10.475 65.760317)scale(0.1 -0.1)\">\n       <defs>\n        <path d=\"M 33.015625 40.375 \nQ 26.375 40.375 22.484375 35.828125 \nQ 18.609375 31.296875 18.609375 23.390625 \nQ 18.609375 15.53125 22.484375 10.953125 \nQ 26.375 6.390625 33.015625 6.390625 \nQ 39.65625 6.390625 43.53125 10.953125 \nQ 47.40625 15.53125 47.40625 23.390625 \nQ 47.40625 31.296875 43.53125 35.828125 \nQ 39.65625 40.375 33.015625 40.375 \nz\nM 52.59375 71.296875 \nL 52.59375 62.3125 \nQ 48.875 64.0625 45.09375 64.984375 \nQ 41.3125 65.921875 37.59375 65.921875 \nQ 27.828125 65.921875 22.671875 59.328125 \nQ 17.53125 52.734375 16.796875 39.40625 \nQ 19.671875 43.65625 24.015625 45.921875 \nQ 28.375 48.1875 33.59375 48.1875 \nQ 44.578125 48.1875 50.953125 41.515625 \nQ 57.328125 34.859375 57.328125 23.390625 \nQ 57.328125 12.15625 50.6875 5.359375 \nQ 44.046875 -1.421875 33.015625 -1.421875 \nQ 20.359375 -1.421875 13.671875 8.265625 \nQ 6.984375 17.96875 6.984375 36.375 \nQ 6.984375 53.65625 15.1875 63.9375 \nQ 23.390625 74.21875 37.203125 74.21875 \nQ 40.921875 74.21875 44.703125 73.484375 \nQ 48.484375 72.75 52.59375 71.296875 \nz\n\" id=\"DejaVuSans-54\"/>\n       </defs>\n       <use xlink:href=\"#DejaVuSans-54\"/>\n       <use x=\"63.623047\" xlink:href=\"#DejaVuSans-48\"/>\n       <use x=\"127.246094\" xlink:href=\"#DejaVuSans-48\"/>\n      </g>\n     </g>\n    </g>\n   </g>\n   <g id=\"patch_105\">\n    <path d=\"M 36.5625 162.273044 \nL 36.5625 34.475625 \n\" style=\"fill:none;stroke:#000000;stroke-linecap:square;stroke-linejoin:miter;stroke-width:0.8;\"/>\n   </g>\n   <g id=\"patch_106\">\n    <path d=\"M 279.30633 162.273044 \nL 279.30633 34.475625 \n\" style=\"fill:none;stroke:#000000;stroke-linecap:square;stroke-linejoin:miter;stroke-width:0.8;\"/>\n   </g>\n   <g id=\"patch_107\">\n    <path d=\"M 36.5625 162.273044 \nL 279.30633 162.273044 \n\" style=\"fill:none;stroke:#000000;stroke-linecap:square;stroke-linejoin:miter;stroke-width:0.8;\"/>\n   </g>\n   <g id=\"patch_108\">\n    <path d=\"M 36.5625 34.475625 \nL 279.30633 34.475625 \n\" style=\"fill:none;stroke:#000000;stroke-linecap:square;stroke-linejoin:miter;stroke-width:0.8;\"/>\n   </g>\n   <g id=\"text_13\">\n    <!-- Ontario -->\n    <g transform=\"translate(131.848477 28.475625)scale(0.14 -0.14)\">\n     <defs>\n      <path d=\"M 39.40625 66.21875 \nQ 28.65625 66.21875 22.328125 58.203125 \nQ 16.015625 50.203125 16.015625 36.375 \nQ 16.015625 22.609375 22.328125 14.59375 \nQ 28.65625 6.59375 39.40625 6.59375 \nQ 50.140625 6.59375 56.421875 14.59375 \nQ 62.703125 22.609375 62.703125 36.375 \nQ 62.703125 50.203125 56.421875 58.203125 \nQ 50.140625 66.21875 39.40625 66.21875 \nz\nM 39.40625 74.21875 \nQ 54.734375 74.21875 63.90625 63.9375 \nQ 73.09375 53.65625 73.09375 36.375 \nQ 73.09375 19.140625 63.90625 8.859375 \nQ 54.734375 -1.421875 39.40625 -1.421875 \nQ 24.03125 -1.421875 14.8125 8.828125 \nQ 5.609375 19.09375 5.609375 36.375 \nQ 5.609375 53.65625 14.8125 63.9375 \nQ 24.03125 74.21875 39.40625 74.21875 \nz\n\" id=\"DejaVuSans-79\"/>\n      <path d=\"M 54.890625 33.015625 \nL 54.890625 0 \nL 45.90625 0 \nL 45.90625 32.71875 \nQ 45.90625 40.484375 42.875 44.328125 \nQ 39.84375 48.1875 33.796875 48.1875 \nQ 26.515625 48.1875 22.3125 43.546875 \nQ 18.109375 38.921875 18.109375 30.90625 \nL 18.109375 0 \nL 9.078125 0 \nL 9.078125 54.6875 \nL 18.109375 54.6875 \nL 18.109375 46.1875 \nQ 21.34375 51.125 25.703125 53.5625 \nQ 30.078125 56 35.796875 56 \nQ 45.21875 56 50.046875 50.171875 \nQ 54.890625 44.34375 54.890625 33.015625 \nz\n\" id=\"DejaVuSans-110\"/>\n      <path d=\"M 18.3125 70.21875 \nL 18.3125 54.6875 \nL 36.8125 54.6875 \nL 36.8125 47.703125 \nL 18.3125 47.703125 \nL 18.3125 18.015625 \nQ 18.3125 11.328125 20.140625 9.421875 \nQ 21.96875 7.515625 27.59375 7.515625 \nL 36.8125 7.515625 \nL 36.8125 0 \nL 27.59375 0 \nQ 17.1875 0 13.234375 3.875 \nQ 9.28125 7.765625 9.28125 18.015625 \nL 9.28125 47.703125 \nL 2.6875 47.703125 \nL 2.6875 54.6875 \nL 9.28125 54.6875 \nL 9.28125 70.21875 \nz\n\" id=\"DejaVuSans-116\"/>\n      <path d=\"M 9.421875 54.6875 \nL 18.40625 54.6875 \nL 18.40625 0 \nL 9.421875 0 \nz\nM 9.421875 75.984375 \nL 18.40625 75.984375 \nL 18.40625 64.59375 \nL 9.421875 64.59375 \nz\n\" id=\"DejaVuSans-105\"/>\n      <path d=\"M 30.609375 48.390625 \nQ 23.390625 48.390625 19.1875 42.75 \nQ 14.984375 37.109375 14.984375 27.296875 \nQ 14.984375 17.484375 19.15625 11.84375 \nQ 23.34375 6.203125 30.609375 6.203125 \nQ 37.796875 6.203125 41.984375 11.859375 \nQ 46.1875 17.53125 46.1875 27.296875 \nQ 46.1875 37.015625 41.984375 42.703125 \nQ 37.796875 48.390625 30.609375 48.390625 \nz\nM 30.609375 56 \nQ 42.328125 56 49.015625 48.375 \nQ 55.71875 40.765625 55.71875 27.296875 \nQ 55.71875 13.875 49.015625 6.21875 \nQ 42.328125 -1.421875 30.609375 -1.421875 \nQ 18.84375 -1.421875 12.171875 6.21875 \nQ 5.515625 13.875 5.515625 27.296875 \nQ 5.515625 40.765625 12.171875 48.375 \nQ 18.84375 56 30.609375 56 \nz\n\" id=\"DejaVuSans-111\"/>\n     </defs>\n     <use xlink:href=\"#DejaVuSans-79\"/>\n     <use x=\"78.710938\" xlink:href=\"#DejaVuSans-110\"/>\n     <use x=\"142.089844\" xlink:href=\"#DejaVuSans-116\"/>\n     <use x=\"181.298828\" xlink:href=\"#DejaVuSans-97\"/>\n     <use x=\"242.578125\" xlink:href=\"#DejaVuSans-114\"/>\n     <use x=\"283.691406\" xlink:href=\"#DejaVuSans-105\"/>\n     <use x=\"311.474609\" xlink:href=\"#DejaVuSans-111\"/>\n    </g>\n   </g>\n   <g id=\"patch_109\">\n    <path clip-path=\"url(#p312bc36d89)\" d=\"M 49.405132 162.273044 \nL 88.475674 162.273044 \nL 88.475674 160.601179 \nL 49.405132 160.601179 \nz\n\" style=\"fill:none;opacity:0.5;stroke:#000000;stroke-linejoin:miter;\"/>\n   </g>\n   <g id=\"patch_110\">\n    <path d=\"M 55.982006 89.428515 \nQ 52.693569 125.014847 49.405132 160.601179 \n\" style=\"fill:none;opacity:0.5;stroke:#000000;stroke-linecap:round;\"/>\n   </g>\n   <g id=\"patch_111\">\n    <path d=\"M 153.079538 127.767741 \nQ 120.777606 145.020393 88.475674 162.273044 \n\" style=\"fill:none;opacity:0.5;stroke:#000000;stroke-linecap:round;\"/>\n   </g>\n   <g id=\"axes_2\">\n    <g id=\"patch_112\">\n     <path d=\"M 55.982006 127.767741 \nL 153.079538 127.767741 \nL 153.079538 89.428515 \nL 55.982006 89.428515 \nz\n\" style=\"fill:#ffffff;\"/>\n    </g>\n    <g id=\"patch_113\">\n     <path clip-path=\"url(#p44a64900c7)\" d=\"M 51.48675 127.767741 \nL 55.982006 127.767741 \nL 55.982006 127.767741 \nL 51.48675 127.767741 \nz\n\" style=\"opacity:0.8;\"/>\n    </g>\n    <g id=\"patch_114\">\n     <path clip-path=\"url(#p44a64900c7)\" d=\"M 62.275365 127.767741 \nL 66.770621 127.767741 \nL 66.770621 127.767741 \nL 62.275365 127.767741 \nz\n\" style=\"opacity:0.8;\"/>\n    </g>\n    <g id=\"patch_115\">\n     <path clip-path=\"url(#p44a64900c7)\" d=\"M 73.06398 127.767741 \nL 77.559236 127.767741 \nL 77.559236 127.767741 \nL 73.06398 127.767741 \nz\n\" style=\"opacity:0.8;\"/>\n    </g>\n    <g id=\"patch_116\">\n     <path clip-path=\"url(#p44a64900c7)\" d=\"M 83.852594 127.767741 \nL 88.34785 127.767741 \nL 88.34785 127.767741 \nL 83.852594 127.767741 \nz\n\" style=\"opacity:0.8;\"/>\n    </g>\n    <g id=\"patch_117\">\n     <path clip-path=\"url(#p44a64900c7)\" d=\"M 94.641209 127.767741 \nL 99.136465 127.767741 \nL 99.136465 127.767741 \nL 94.641209 127.767741 \nz\n\" style=\"opacity:0.8;\"/>\n    </g>\n    <g id=\"patch_118\">\n     <path clip-path=\"url(#p44a64900c7)\" d=\"M 105.429824 127.767741 \nL 109.92508 127.767741 \nL 109.92508 123.933819 \nL 105.429824 123.933819 \nz\n\" style=\"opacity:0.8;\"/>\n    </g>\n    <g id=\"patch_119\">\n     <path clip-path=\"url(#p44a64900c7)\" d=\"M 116.218438 127.767741 \nL 120.713694 127.767741 \nL 120.713694 127.767741 \nL 116.218438 127.767741 \nz\n\" style=\"opacity:0.8;\"/>\n    </g>\n    <g id=\"patch_120\">\n     <path clip-path=\"url(#p44a64900c7)\" d=\"M 127.007053 127.767741 \nL 131.502309 127.767741 \nL 131.502309 123.933819 \nL 127.007053 123.933819 \nz\n\" style=\"opacity:0.8;\"/>\n    </g>\n    <g id=\"patch_121\">\n     <path clip-path=\"url(#p44a64900c7)\" d=\"M 137.795668 127.767741 \nL 142.290924 127.767741 \nL 142.290924 123.933819 \nL 137.795668 123.933819 \nz\n\" style=\"opacity:0.8;\"/>\n    </g>\n    <g id=\"patch_122\">\n     <path clip-path=\"url(#p44a64900c7)\" d=\"M 148.584282 127.767741 \nL 153.079538 127.767741 \nL 153.079538 116.265973 \nL 148.584282 116.265973 \nz\n\" style=\"opacity:0.8;\"/>\n    </g>\n    <g id=\"patch_123\">\n     <path clip-path=\"url(#p44a64900c7)\" d=\"M 159.372897 127.767741 \nL 163.868153 127.767741 \nL 163.868153 100.930283 \nL 159.372897 100.930283 \nz\n\" style=\"opacity:0.8;\"/>\n    </g>\n    <g id=\"patch_124\">\n     <path clip-path=\"url(#p44a64900c7)\" d=\"M 170.161511 127.767741 \nL 174.656768 127.767741 \nL 174.656768 85.594593 \nL 170.161511 85.594593 \nz\n\" style=\"opacity:0.8;\"/>\n    </g>\n    <g id=\"patch_125\">\n     <path clip-path=\"url(#p44a64900c7)\" d=\"M 180.950126 127.767741 \nL 185.445382 127.767741 \nL 185.445382 89.428515 \nL 180.950126 89.428515 \nz\n\" style=\"opacity:0.8;\"/>\n    </g>\n    <g id=\"patch_126\">\n     <path clip-path=\"url(#p44a64900c7)\" d=\"M 191.738741 127.767741 \nL 196.233997 127.767741 \nL 196.233997 100.930283 \nL 191.738741 100.930283 \nz\n\" style=\"opacity:0.8;\"/>\n    </g>\n    <g id=\"patch_127\">\n     <path clip-path=\"url(#p44a64900c7)\" d=\"M 202.527355 127.767741 \nL 207.022612 127.767741 \nL 207.022612 108.598128 \nL 202.527355 108.598128 \nz\n\" style=\"opacity:0.8;\"/>\n    </g>\n    <g id=\"patch_128\">\n     <path clip-path=\"url(#p44a64900c7)\" d=\"M 213.31597 127.767741 \nL 217.811226 127.767741 \nL 217.811226 54.923212 \nL 213.31597 54.923212 \nz\n\" style=\"opacity:0.8;\"/>\n    </g>\n    <g id=\"patch_129\">\n     <path clip-path=\"url(#p44a64900c7)\" d=\"M 224.104585 127.767741 \nL 228.599841 127.767741 \nL 228.599841 62.591057 \nL 224.104585 62.591057 \nz\n\" style=\"opacity:0.8;\"/>\n    </g>\n    <g id=\"patch_130\">\n     <path clip-path=\"url(#p44a64900c7)\" d=\"M 234.893199 127.767741 \nL 239.388456 127.767741 \nL 239.388456 20.417909 \nL 234.893199 20.417909 \nz\n\" style=\"opacity:0.8;\"/>\n    </g>\n    <g id=\"patch_131\">\n     <path clip-path=\"url(#p44a64900c7)\" d=\"M 245.681814 127.767741 \nL 250.17707 127.767741 \nL 250.17707 -14.087394 \nL 245.681814 -14.087394 \nz\n\" style=\"opacity:0.8;\"/>\n    </g>\n    <g id=\"patch_132\">\n     <path clip-path=\"url(#p44a64900c7)\" d=\"M 256.470429 127.767741 \nL 260.965685 127.767741 \nL 260.965685 -71.596233 \nL 256.470429 -71.596233 \nz\n\" style=\"opacity:0.8;\"/>\n    </g>\n    <g id=\"patch_133\">\n     <path clip-path=\"url(#p44a64900c7)\" d=\"M 267.259043 127.767741 \nL 271.754299 127.767741 \nL 271.754299 -40.924852 \nL 267.259043 -40.924852 \nz\n\" style=\"opacity:0.8;\"/>\n    </g>\n    <g id=\"patch_134\">\n     <path clip-path=\"url(#p44a64900c7)\" d=\"M 278.047658 127.767741 \nL 282.542914 127.767741 \nL 282.542914 -94.599768 \nL 278.047658 -94.599768 \nz\n\" style=\"opacity:0.8;\"/>\n    </g>\n    <g id=\"patch_135\">\n     <path clip-path=\"url(#p44a64900c7)\" d=\"M 288.836273 127.767741 \nL 293.331529 127.767741 \nL 293.331529 -236.454904 \nL 288.836273 -236.454904 \nz\n\" style=\"opacity:0.8;\"/>\n    </g>\n    <g id=\"patch_136\">\n     <path clip-path=\"url(#p44a64900c7)\" d=\"M 299.624887 127.767741 \nL 304.120143 127.767741 \nL 304.120143 -297.797665 \nL 299.624887 -297.797665 \nz\n\" style=\"opacity:0.8;\"/>\n    </g>\n    <g id=\"patch_137\">\n     <path clip-path=\"url(#p44a64900c7)\" d=\"M 310.413502 127.767741 \nL 314.908758 127.767741 \nL 314.908758 -224.953136 \nL 310.413502 -224.953136 \nz\n\" style=\"opacity:0.8;\"/>\n    </g>\n    <g id=\"patch_138\">\n     <path clip-path=\"url(#p44a64900c7)\" d=\"M 321.202117 127.767741 \nL 325.697373 127.767741 \nL 325.697373 -535.500865 \nL 321.202117 -535.500865 \nz\n\" style=\"opacity:0.8;\"/>\n    </g>\n    <g id=\"patch_139\">\n     <path clip-path=\"url(#p44a64900c7)\" d=\"M 331.990731 127.767741 \nL 336.485987 127.767741 \nL 336.485987 -642.850697 \nL 331.990731 -642.850697 \nz\n\" style=\"opacity:0.8;\"/>\n    </g>\n    <g id=\"patch_140\">\n     <path clip-path=\"url(#p44a64900c7)\" d=\"M 342.779346 127.767741 \nL 347.274602 127.767741 \nL 347.274602 -474.158104 \nL 342.779346 -474.158104 \nz\n\" style=\"opacity:0.8;\"/>\n    </g>\n    <g id=\"patch_141\">\n     <path clip-path=\"url(#p44a64900c7)\" d=\"M 353.567961 127.767741 \nL 358.063217 127.767741 \nL 358.063217 -547.002633 \nL 353.567961 -547.002633 \nz\n\" style=\"opacity:0.8;\"/>\n    </g>\n    <g id=\"patch_142\">\n     <path clip-path=\"url(#p44a64900c7)\" d=\"M 364.356575 127.767741 \nL 368.851831 127.767741 \nL 368.851831 -1110.589252 \nL 364.356575 -1110.589252 \nz\n\" style=\"opacity:0.8;\"/>\n    </g>\n    <g id=\"patch_143\">\n     <path clip-path=\"url(#p44a64900c7)\" d=\"M 375.14519 127.767741 \nL 379.640446 127.767741 \nL 379.640446 -1064.582181 \nL 375.14519 -1064.582181 \nz\n\" style=\"opacity:0.8;\"/>\n    </g>\n    <g id=\"patch_144\">\n     <path clip-path=\"url(#p44a64900c7)\" d=\"M 385.933805 127.767741 \nL 390.429061 127.767741 \nL 390.429061 -1279.281845 \nL 385.933805 -1279.281845 \nz\n\" style=\"opacity:0.8;\"/>\n    </g>\n    <g id=\"patch_145\">\n     <path clip-path=\"url(#p44a64900c7)\" d=\"M 396.722419 127.767741 \nL 401.217675 127.767741 \nL 401.217675 -1321.454994 \nL 396.722419 -1321.454994 \nz\n\" style=\"opacity:0.8;\"/>\n    </g>\n    <g id=\"patch_146\">\n     <path clip-path=\"url(#p44a64900c7)\" d=\"M 407.511034 127.767741 \nL 412.00629 127.767741 \nL 412.00629 -1421.136981 \nL 407.511034 -1421.136981 \nz\n\" style=\"opacity:0.8;\"/>\n    </g>\n    <g id=\"patch_147\">\n     <path clip-path=\"url(#p44a64900c7)\" d=\"M 418.299649 127.767741 \nL 422.794905 127.767741 \nL 422.794905 -1087.585716 \nL 418.299649 -1087.585716 \nz\n\" style=\"opacity:0.8;\"/>\n    </g>\n    <g id=\"patch_148\">\n     <path clip-path=\"url(#p44a64900c7)\" d=\"M 429.088263 127.767741 \nL 433.583519 127.767741 \nL 433.583519 -1187.267704 \nL 429.088263 -1187.267704 \nz\n\" style=\"opacity:0.8;\"/>\n    </g>\n    <g id=\"patch_149\">\n     <path clip-path=\"url(#p44a64900c7)\" d=\"M 439.876878 127.767741 \nL 444.372134 127.767741 \nL 444.372134 -1559.158194 \nL 439.876878 -1559.158194 \nz\n\" style=\"opacity:0.8;\"/>\n    </g>\n    <g id=\"patch_150\">\n     <path clip-path=\"url(#p44a64900c7)\" d=\"M 450.665493 127.767741 \nL 455.160749 127.767741 \nL 455.160749 -1532.320736 \nL 450.665493 -1532.320736 \nz\n\" style=\"opacity:0.8;\"/>\n    </g>\n    <g id=\"patch_151\">\n     <path clip-path=\"url(#p44a64900c7)\" d=\"M 461.454107 127.767741 \nL 465.949363 127.767741 \nL 465.949363 -1651.172336 \nL 461.454107 -1651.172336 \nz\n\" style=\"opacity:0.8;\"/>\n    </g>\n    <g id=\"patch_152\">\n     <path clip-path=\"url(#p44a64900c7)\" d=\"M 472.242722 127.767741 \nL 476.737978 127.767741 \nL 476.737978 -1593.663497 \nL 472.242722 -1593.663497 \nz\n\" style=\"opacity:0.8;\"/>\n    </g>\n    <g id=\"patch_153\">\n     <path clip-path=\"url(#p44a64900c7)\" d=\"M 483.031336 127.767741 \nL 487.526593 127.767741 \nL 487.526593 -1321.454994 \nL 483.031336 -1321.454994 \nz\n\" style=\"opacity:0.8;\"/>\n    </g>\n    <g id=\"patch_154\">\n     <path clip-path=\"url(#p44a64900c7)\" d=\"M 493.819951 127.767741 \nL 498.315207 127.767741 \nL 498.315207 -1620.500955 \nL 493.819951 -1620.500955 \nz\n\" style=\"opacity:0.8;\"/>\n    </g>\n    <g id=\"patch_155\">\n     <path clip-path=\"url(#p44a64900c7)\" d=\"M 504.608566 127.767741 \nL 509.103822 127.767741 \nL 509.103822 -1858.204155 \nL 504.608566 -1858.204155 \nz\n\" style=\"opacity:0.8;\"/>\n    </g>\n    <g id=\"patch_156\">\n     <path clip-path=\"url(#p44a64900c7)\" d=\"M 515.39718 127.767741 \nL 519.892437 127.767741 \nL 519.892437 -2092.073432 \nL 515.39718 -2092.073432 \nz\n\" style=\"opacity:0.8;\"/>\n    </g>\n    <g id=\"patch_157\">\n     <path clip-path=\"url(#p44a64900c7)\" d=\"M 526.185795 127.767741 \nL 530.681051 127.767741 \nL 530.681051 -1965.553987 \nL 526.185795 -1965.553987 \nz\n\" style=\"opacity:0.8;\"/>\n    </g>\n    <g id=\"patch_158\">\n     <path clip-path=\"url(#p44a64900c7)\" d=\"M 536.97441 127.767741 \nL 541.469666 127.767741 \nL 541.469666 -2191.755419 \nL 536.97441 -2191.755419 \nz\n\" style=\"opacity:0.8;\"/>\n    </g>\n    <g id=\"patch_159\">\n     <path clip-path=\"url(#p44a64900c7)\" d=\"M 547.763024 127.767741 \nL 552.258281 127.767741 \nL 552.258281 -2042.232439 \nL 547.763024 -2042.232439 \nz\n\" style=\"opacity:0.8;\"/>\n    </g>\n    <g id=\"patch_160\">\n     <path clip-path=\"url(#p44a64900c7)\" d=\"M 558.551639 127.767741 \nL 563.046895 127.767741 \nL 563.046895 -2663.327896 \nL 558.551639 -2663.327896 \nz\n\" style=\"opacity:0.8;\"/>\n    </g>\n    <g id=\"patch_161\">\n     <path clip-path=\"url(#p44a64900c7)\" d=\"M 569.340254 127.767741 \nL 573.83551 127.767741 \nL 573.83551 -2149.582271 \nL 569.340254 -2149.582271 \nz\n\" style=\"opacity:0.8;\"/>\n    </g>\n    <g id=\"patch_162\">\n     <path clip-path=\"url(#p44a64900c7)\" d=\"M 580.128868 127.767741 \nL 584.624124 127.767741 \nL 584.624124 -2103.5752 \nL 580.128868 -2103.5752 \nz\n\" style=\"opacity:0.8;\"/>\n    </g>\n    <g id=\"patch_163\">\n     <path clip-path=\"url(#p44a64900c7)\" d=\"M 590.917483 127.767741 \nL 595.412739 127.767741 \nL 595.412739 -2191.755419 \nL 590.917483 -2191.755419 \nz\n\" style=\"opacity:0.8;\"/>\n    </g>\n    <g id=\"patch_164\">\n     <path clip-path=\"url(#p44a64900c7)\" d=\"M 55.982006 127.767741 \nL 60.477262 127.767741 \nL 60.477262 120.099896 \nL 55.982006 120.099896 \nz\n\" style=\"fill:url(#he6de91ee8a);stroke:#ffffff;stroke-linejoin:miter;stroke-width:0.1;\"/>\n    </g>\n    <g id=\"patch_165\">\n     <path clip-path=\"url(#p44a64900c7)\" d=\"M 66.770621 127.767741 \nL 71.265877 127.767741 \nL 71.265877 127.767741 \nL 66.770621 127.767741 \nz\n\" style=\"fill:url(#he6de91ee8a);stroke:#ffffff;stroke-linejoin:miter;stroke-width:0.1;\"/>\n    </g>\n    <g id=\"patch_166\">\n     <path clip-path=\"url(#p44a64900c7)\" d=\"M 77.559236 127.767741 \nL 82.054492 127.767741 \nL 82.054492 120.099896 \nL 77.559236 120.099896 \nz\n\" style=\"fill:url(#he6de91ee8a);stroke:#ffffff;stroke-linejoin:miter;stroke-width:0.1;\"/>\n    </g>\n    <g id=\"patch_167\">\n     <path clip-path=\"url(#p44a64900c7)\" d=\"M 88.34785 127.767741 \nL 92.843106 127.767741 \nL 92.843106 123.933819 \nL 88.34785 123.933819 \nz\n\" style=\"fill:url(#he6de91ee8a);stroke:#ffffff;stroke-linejoin:miter;stroke-width:0.1;\"/>\n    </g>\n    <g id=\"patch_168\">\n     <path clip-path=\"url(#p44a64900c7)\" d=\"M 99.136465 127.767741 \nL 103.631721 127.767741 \nL 103.631721 112.432051 \nL 99.136465 112.432051 \nz\n\" style=\"fill:url(#he6de91ee8a);stroke:#ffffff;stroke-linejoin:miter;stroke-width:0.1;\"/>\n    </g>\n    <g id=\"patch_169\">\n     <path clip-path=\"url(#p44a64900c7)\" d=\"M 109.92508 127.767741 \nL 114.420336 127.767741 \nL 114.420336 123.933819 \nL 109.92508 123.933819 \nz\n\" style=\"fill:url(#he6de91ee8a);stroke:#ffffff;stroke-linejoin:miter;stroke-width:0.1;\"/>\n    </g>\n    <g id=\"patch_170\">\n     <path clip-path=\"url(#p44a64900c7)\" d=\"M 120.713694 127.767741 \nL 125.20895 127.767741 \nL 125.20895 116.265973 \nL 120.713694 116.265973 \nz\n\" style=\"fill:url(#he6de91ee8a);stroke:#ffffff;stroke-linejoin:miter;stroke-width:0.1;\"/>\n    </g>\n    <g id=\"patch_171\">\n     <path clip-path=\"url(#p44a64900c7)\" d=\"M 131.502309 127.767741 \nL 135.997565 127.767741 \nL 135.997565 112.432051 \nL 131.502309 112.432051 \nz\n\" style=\"fill:url(#he6de91ee8a);stroke:#ffffff;stroke-linejoin:miter;stroke-width:0.1;\"/>\n    </g>\n    <g id=\"patch_172\">\n     <path clip-path=\"url(#p44a64900c7)\" d=\"M 142.290924 127.767741 \nL 146.78618 127.767741 \nL 146.78618 112.432051 \nL 142.290924 112.432051 \nz\n\" style=\"fill:url(#he6de91ee8a);stroke:#ffffff;stroke-linejoin:miter;stroke-width:0.1;\"/>\n    </g>\n    <g id=\"patch_173\">\n     <path clip-path=\"url(#p44a64900c7)\" d=\"M 153.079538 127.767741 \nL 157.574794 127.767741 \nL 157.574794 104.764206 \nL 153.079538 104.764206 \nz\n\" style=\"fill:url(#he6de91ee8a);stroke:#ffffff;stroke-linejoin:miter;stroke-width:0.1;\"/>\n    </g>\n    <g id=\"patch_174\">\n     <path clip-path=\"url(#p44a64900c7)\" d=\"M 163.868153 127.767741 \nL 168.363409 127.767741 \nL 168.363409 62.591057 \nL 163.868153 62.591057 \nz\n\" style=\"fill:url(#he6de91ee8a);stroke:#ffffff;stroke-linejoin:miter;stroke-width:0.1;\"/>\n    </g>\n    <g id=\"patch_175\">\n     <path clip-path=\"url(#p44a64900c7)\" d=\"M 174.656768 127.767741 \nL 179.152024 127.767741 \nL 179.152024 28.085754 \nL 174.656768 28.085754 \nz\n\" style=\"fill:url(#he6de91ee8a);stroke:#ffffff;stroke-linejoin:miter;stroke-width:0.1;\"/>\n    </g>\n    <g id=\"patch_176\">\n     <path clip-path=\"url(#p44a64900c7)\" d=\"M 185.445382 127.767741 \nL 189.940638 127.767741 \nL 189.940638 28.085754 \nL 185.445382 28.085754 \nz\n\" style=\"fill:url(#he6de91ee8a);stroke:#ffffff;stroke-linejoin:miter;stroke-width:0.1;\"/>\n    </g>\n    <g id=\"patch_177\">\n     <path clip-path=\"url(#p44a64900c7)\" d=\"M 196.233997 127.767741 \nL 200.729253 127.767741 \nL 200.729253 35.753599 \nL 196.233997 35.753599 \nz\n\" style=\"fill:url(#he6de91ee8a);stroke:#ffffff;stroke-linejoin:miter;stroke-width:0.1;\"/>\n    </g>\n    <g id=\"patch_178\">\n     <path clip-path=\"url(#p44a64900c7)\" d=\"M 207.022612 127.767741 \nL 211.517868 127.767741 \nL 211.517868 8.916141 \nL 207.022612 8.916141 \nz\n\" style=\"fill:url(#he6de91ee8a);stroke:#ffffff;stroke-linejoin:miter;stroke-width:0.1;\"/>\n    </g>\n    <g id=\"patch_179\">\n     <path clip-path=\"url(#p44a64900c7)\" d=\"M 217.811226 127.767741 \nL 222.306482 127.767741 \nL 222.306482 -2.585627 \nL 217.811226 -2.585627 \nz\n\" style=\"fill:url(#he6de91ee8a);stroke:#ffffff;stroke-linejoin:miter;stroke-width:0.1;\"/>\n    </g>\n    <g id=\"patch_180\">\n     <path clip-path=\"url(#p44a64900c7)\" d=\"M 228.599841 127.767741 \nL 233.095097 127.767741 \nL 233.095097 -29.423085 \nL 228.599841 -29.423085 \nz\n\" style=\"fill:url(#he6de91ee8a);stroke:#ffffff;stroke-linejoin:miter;stroke-width:0.1;\"/>\n    </g>\n    <g id=\"patch_181\">\n     <path clip-path=\"url(#p44a64900c7)\" d=\"M 239.388456 127.767741 \nL 243.883712 127.767741 \nL 243.883712 16.583986 \nL 239.388456 16.583986 \nz\n\" style=\"fill:url(#he6de91ee8a);stroke:#ffffff;stroke-linejoin:miter;stroke-width:0.1;\"/>\n    </g>\n    <g id=\"patch_182\">\n     <path clip-path=\"url(#p44a64900c7)\" d=\"M 250.17707 127.767741 \nL 254.672326 127.767741 \nL 254.672326 20.417909 \nL 250.17707 20.417909 \nz\n\" style=\"fill:url(#he6de91ee8a);stroke:#ffffff;stroke-linejoin:miter;stroke-width:0.1;\"/>\n    </g>\n    <g id=\"patch_183\">\n     <path clip-path=\"url(#p44a64900c7)\" d=\"M 260.965685 127.767741 \nL 265.460941 127.767741 \nL 265.460941 -44.758775 \nL 260.965685 -44.758775 \nz\n\" style=\"fill:url(#he6de91ee8a);stroke:#ffffff;stroke-linejoin:miter;stroke-width:0.1;\"/>\n    </g>\n    <g id=\"patch_184\">\n     <path clip-path=\"url(#p44a64900c7)\" d=\"M 271.754299 127.767741 \nL 276.249556 127.767741 \nL 276.249556 24.251831 \nL 271.754299 24.251831 \nz\n\" style=\"fill:url(#he6de91ee8a);stroke:#ffffff;stroke-linejoin:miter;stroke-width:0.1;\"/>\n    </g>\n    <g id=\"patch_185\">\n     <path clip-path=\"url(#p44a64900c7)\" d=\"M 282.542914 127.767741 \nL 287.03817 127.767741 \nL 287.03817 24.251831 \nL 282.542914 24.251831 \nz\n\" style=\"fill:url(#he6de91ee8a);stroke:#ffffff;stroke-linejoin:miter;stroke-width:0.1;\"/>\n    </g>\n    <g id=\"patch_186\">\n     <path clip-path=\"url(#p44a64900c7)\" d=\"M 293.331529 127.767741 \nL 297.826785 127.767741 \nL 297.826785 -56.260543 \nL 293.331529 -56.260543 \nz\n\" style=\"fill:url(#he6de91ee8a);stroke:#ffffff;stroke-linejoin:miter;stroke-width:0.1;\"/>\n    </g>\n    <g id=\"patch_187\">\n     <path clip-path=\"url(#p44a64900c7)\" d=\"M 304.120143 127.767741 \nL 308.6154 127.767741 \nL 308.6154 -106.101536 \nL 304.120143 -106.101536 \nz\n\" style=\"fill:url(#he6de91ee8a);stroke:#ffffff;stroke-linejoin:miter;stroke-width:0.1;\"/>\n    </g>\n    <g id=\"patch_188\">\n     <path clip-path=\"url(#p44a64900c7)\" d=\"M 314.908758 127.767741 \nL 319.404014 127.767741 \nL 319.404014 -40.924852 \nL 314.908758 -40.924852 \nz\n\" style=\"fill:url(#he6de91ee8a);stroke:#ffffff;stroke-linejoin:miter;stroke-width:0.1;\"/>\n    </g>\n    <g id=\"patch_189\">\n     <path clip-path=\"url(#p44a64900c7)\" d=\"M 325.697373 127.767741 \nL 330.192629 127.767741 \nL 330.192629 -155.94253 \nL 325.697373 -155.94253 \nz\n\" style=\"fill:url(#he6de91ee8a);stroke:#ffffff;stroke-linejoin:miter;stroke-width:0.1;\"/>\n    </g>\n    <g id=\"patch_190\">\n     <path clip-path=\"url(#p44a64900c7)\" d=\"M 336.485987 127.767741 \nL 340.981244 127.767741 \nL 340.981244 -217.285291 \nL 336.485987 -217.285291 \nz\n\" style=\"fill:url(#he6de91ee8a);stroke:#ffffff;stroke-linejoin:miter;stroke-width:0.1;\"/>\n    </g>\n    <g id=\"patch_191\">\n     <path clip-path=\"url(#p44a64900c7)\" d=\"M 347.274602 127.767741 \nL 351.769858 127.767741 \nL 351.769858 -171.27822 \nL 347.274602 -171.27822 \nz\n\" style=\"fill:url(#he6de91ee8a);stroke:#ffffff;stroke-linejoin:miter;stroke-width:0.1;\"/>\n    </g>\n    <g id=\"patch_192\">\n     <path clip-path=\"url(#p44a64900c7)\" d=\"M 358.063217 127.767741 \nL 362.558473 127.767741 \nL 362.558473 -67.76231 \nL 358.063217 -67.76231 \nz\n\" style=\"fill:url(#he6de91ee8a);stroke:#ffffff;stroke-linejoin:miter;stroke-width:0.1;\"/>\n    </g>\n    <g id=\"patch_193\">\n     <path clip-path=\"url(#p44a64900c7)\" d=\"M 368.851831 127.767741 \nL 373.347087 127.767741 \nL 373.347087 -305.46551 \nL 368.851831 -305.46551 \nz\n\" style=\"fill:url(#he6de91ee8a);stroke:#ffffff;stroke-linejoin:miter;stroke-width:0.1;\"/>\n    </g>\n    <g id=\"patch_194\">\n     <path clip-path=\"url(#p44a64900c7)\" d=\"M 379.640446 127.767741 \nL 384.135702 127.767741 \nL 384.135702 -251.790594 \nL 379.640446 -251.790594 \nz\n\" style=\"fill:url(#he6de91ee8a);stroke:#ffffff;stroke-linejoin:miter;stroke-width:0.1;\"/>\n    </g>\n    <g id=\"patch_195\">\n     <path clip-path=\"url(#p44a64900c7)\" d=\"M 390.429061 127.767741 \nL 394.924317 127.767741 \nL 394.924317 -182.779988 \nL 390.429061 -182.779988 \nz\n\" style=\"fill:url(#he6de91ee8a);stroke:#ffffff;stroke-linejoin:miter;stroke-width:0.1;\"/>\n    </g>\n    <g id=\"patch_196\">\n     <path clip-path=\"url(#p44a64900c7)\" d=\"M 401.217675 127.767741 \nL 405.712931 127.767741 \nL 405.712931 -140.606839 \nL 401.217675 -140.606839 \nz\n\" style=\"fill:url(#he6de91ee8a);stroke:#ffffff;stroke-linejoin:miter;stroke-width:0.1;\"/>\n    </g>\n    <g id=\"patch_197\">\n     <path clip-path=\"url(#p44a64900c7)\" d=\"M 412.00629 127.767741 \nL 416.501546 127.767741 \nL 416.501546 -98.433691 \nL 412.00629 -98.433691 \nz\n\" style=\"fill:url(#he6de91ee8a);stroke:#ffffff;stroke-linejoin:miter;stroke-width:0.1;\"/>\n    </g>\n    <g id=\"patch_198\">\n     <path clip-path=\"url(#p44a64900c7)\" d=\"M 422.794905 127.767741 \nL 427.290161 127.767741 \nL 427.290161 8.916141 \nL 422.794905 8.916141 \nz\n\" style=\"fill:url(#he6de91ee8a);stroke:#ffffff;stroke-linejoin:miter;stroke-width:0.1;\"/>\n    </g>\n    <g id=\"patch_199\">\n     <path clip-path=\"url(#p44a64900c7)\" d=\"M 433.583519 127.767741 \nL 438.078775 127.767741 \nL 438.078775 20.417909 \nL 433.583519 20.417909 \nz\n\" style=\"fill:url(#he6de91ee8a);stroke:#ffffff;stroke-linejoin:miter;stroke-width:0.1;\"/>\n    </g>\n    <g id=\"patch_200\">\n     <path clip-path=\"url(#p44a64900c7)\" d=\"M 444.372134 127.767741 \nL 448.86739 127.767741 \nL 448.86739 1.248296 \nL 444.372134 1.248296 \nz\n\" style=\"fill:url(#he6de91ee8a);stroke:#ffffff;stroke-linejoin:miter;stroke-width:0.1;\"/>\n    </g>\n    <g id=\"patch_201\">\n     <path clip-path=\"url(#p44a64900c7)\" d=\"M 455.160749 127.767741 \nL 459.656005 127.767741 \nL 459.656005 35.753599 \nL 455.160749 35.753599 \nz\n\" style=\"fill:url(#he6de91ee8a);stroke:#ffffff;stroke-linejoin:miter;stroke-width:0.1;\"/>\n    </g>\n    <g id=\"patch_202\">\n     <path clip-path=\"url(#p44a64900c7)\" d=\"M 465.949363 127.767741 \nL 470.444619 127.767741 \nL 470.444619 35.753599 \nL 465.949363 35.753599 \nz\n\" style=\"fill:url(#he6de91ee8a);stroke:#ffffff;stroke-linejoin:miter;stroke-width:0.1;\"/>\n    </g>\n    <g id=\"patch_203\">\n     <path clip-path=\"url(#p44a64900c7)\" d=\"M 476.737978 127.767741 \nL 481.233234 127.767741 \nL 481.233234 12.750064 \nL 476.737978 12.750064 \nz\n\" style=\"fill:url(#he6de91ee8a);stroke:#ffffff;stroke-linejoin:miter;stroke-width:0.1;\"/>\n    </g>\n    <g id=\"patch_204\">\n     <path clip-path=\"url(#p44a64900c7)\" d=\"M 487.526593 127.767741 \nL 492.021849 127.767741 \nL 492.021849 58.757135 \nL 487.526593 58.757135 \nz\n\" style=\"fill:url(#he6de91ee8a);stroke:#ffffff;stroke-linejoin:miter;stroke-width:0.1;\"/>\n    </g>\n    <g id=\"patch_205\">\n     <path clip-path=\"url(#p44a64900c7)\" d=\"M 498.315207 127.767741 \nL 502.810463 127.767741 \nL 502.810463 74.092825 \nL 498.315207 74.092825 \nz\n\" style=\"fill:url(#he6de91ee8a);stroke:#ffffff;stroke-linejoin:miter;stroke-width:0.1;\"/>\n    </g>\n    <g id=\"patch_206\">\n     <path clip-path=\"url(#p44a64900c7)\" d=\"M 509.103822 127.767741 \nL 513.599078 127.767741 \nL 513.599078 51.08929 \nL 509.103822 51.08929 \nz\n\" style=\"fill:url(#he6de91ee8a);stroke:#ffffff;stroke-linejoin:miter;stroke-width:0.1;\"/>\n    </g>\n    <g id=\"patch_207\">\n     <path clip-path=\"url(#p44a64900c7)\" d=\"M 519.892437 127.767741 \nL 524.387693 127.767741 \nL 524.387693 77.926748 \nL 519.892437 77.926748 \nz\n\" style=\"fill:url(#he6de91ee8a);stroke:#ffffff;stroke-linejoin:miter;stroke-width:0.1;\"/>\n    </g>\n    <g id=\"patch_208\">\n     <path clip-path=\"url(#p44a64900c7)\" d=\"M 530.681051 127.767741 \nL 535.176307 127.767741 \nL 535.176307 104.764206 \nL 530.681051 104.764206 \nz\n\" style=\"fill:url(#he6de91ee8a);stroke:#ffffff;stroke-linejoin:miter;stroke-width:0.1;\"/>\n    </g>\n    <g id=\"patch_209\">\n     <path clip-path=\"url(#p44a64900c7)\" d=\"M 541.469666 127.767741 \nL 545.964922 127.767741 \nL 545.964922 97.09636 \nL 541.469666 97.09636 \nz\n\" style=\"fill:url(#he6de91ee8a);stroke:#ffffff;stroke-linejoin:miter;stroke-width:0.1;\"/>\n    </g>\n    <g id=\"patch_210\">\n     <path clip-path=\"url(#p44a64900c7)\" d=\"M 552.258281 127.767741 \nL 556.753537 127.767741 \nL 556.753537 104.764206 \nL 552.258281 104.764206 \nz\n\" style=\"fill:url(#he6de91ee8a);stroke:#ffffff;stroke-linejoin:miter;stroke-width:0.1;\"/>\n    </g>\n    <g id=\"patch_211\">\n     <path clip-path=\"url(#p44a64900c7)\" d=\"M 563.046895 127.767741 \nL 567.542151 127.767741 \nL 567.542151 85.594593 \nL 563.046895 85.594593 \nz\n\" style=\"fill:url(#he6de91ee8a);stroke:#ffffff;stroke-linejoin:miter;stroke-width:0.1;\"/>\n    </g>\n    <g id=\"patch_212\">\n     <path clip-path=\"url(#p44a64900c7)\" d=\"M 573.83551 127.767741 \nL 578.330766 127.767741 \nL 578.330766 104.764206 \nL 573.83551 104.764206 \nz\n\" style=\"fill:url(#he6de91ee8a);stroke:#ffffff;stroke-linejoin:miter;stroke-width:0.1;\"/>\n    </g>\n    <g id=\"patch_213\">\n     <path clip-path=\"url(#p44a64900c7)\" d=\"M 584.624124 127.767741 \nL 589.119381 127.767741 \nL 589.119381 97.09636 \nL 584.624124 97.09636 \nz\n\" style=\"fill:url(#he6de91ee8a);stroke:#ffffff;stroke-linejoin:miter;stroke-width:0.1;\"/>\n    </g>\n    <g id=\"patch_214\">\n     <path clip-path=\"url(#p44a64900c7)\" d=\"M 595.412739 127.767741 \nL 599.907995 127.767741 \nL 599.907995 112.432051 \nL 595.412739 112.432051 \nz\n\" style=\"fill:url(#he6de91ee8a);stroke:#ffffff;stroke-linejoin:miter;stroke-width:0.1;\"/>\n    </g>\n    <g id=\"matplotlib.axis_3\">\n     <g id=\"xtick_9\">\n      <g id=\"line2d_13\">\n       <g>\n        <use style=\"stroke:#000000;stroke-width:0.8;\" x=\"55.982006\" xlink:href=\"#mab22b3d465\" y=\"127.767741\"/>\n       </g>\n      </g>\n     </g>\n     <g id=\"xtick_10\">\n      <g id=\"line2d_14\">\n       <g>\n        <use style=\"stroke:#000000;stroke-width:0.8;\" x=\"66.770621\" xlink:href=\"#mab22b3d465\" y=\"127.767741\"/>\n       </g>\n      </g>\n     </g>\n     <g id=\"xtick_11\">\n      <g id=\"line2d_15\">\n       <g>\n        <use style=\"stroke:#000000;stroke-width:0.8;\" x=\"77.559236\" xlink:href=\"#mab22b3d465\" y=\"127.767741\"/>\n       </g>\n      </g>\n     </g>\n     <g id=\"xtick_12\">\n      <g id=\"line2d_16\">\n       <g>\n        <use style=\"stroke:#000000;stroke-width:0.8;\" x=\"88.34785\" xlink:href=\"#mab22b3d465\" y=\"127.767741\"/>\n       </g>\n      </g>\n     </g>\n     <g id=\"xtick_13\">\n      <g id=\"line2d_17\">\n       <g>\n        <use style=\"stroke:#000000;stroke-width:0.8;\" x=\"99.136465\" xlink:href=\"#mab22b3d465\" y=\"127.767741\"/>\n       </g>\n      </g>\n     </g>\n     <g id=\"xtick_14\">\n      <g id=\"line2d_18\">\n       <g>\n        <use style=\"stroke:#000000;stroke-width:0.8;\" x=\"109.92508\" xlink:href=\"#mab22b3d465\" y=\"127.767741\"/>\n       </g>\n      </g>\n     </g>\n     <g id=\"xtick_15\">\n      <g id=\"line2d_19\">\n       <g>\n        <use style=\"stroke:#000000;stroke-width:0.8;\" x=\"120.713694\" xlink:href=\"#mab22b3d465\" y=\"127.767741\"/>\n       </g>\n      </g>\n     </g>\n     <g id=\"xtick_16\">\n      <g id=\"line2d_20\">\n       <g>\n        <use style=\"stroke:#000000;stroke-width:0.8;\" x=\"131.502309\" xlink:href=\"#mab22b3d465\" y=\"127.767741\"/>\n       </g>\n      </g>\n     </g>\n     <g id=\"xtick_17\">\n      <g id=\"line2d_21\">\n       <g>\n        <use style=\"stroke:#000000;stroke-width:0.8;\" x=\"142.290924\" xlink:href=\"#mab22b3d465\" y=\"127.767741\"/>\n       </g>\n      </g>\n     </g>\n     <g id=\"xtick_18\">\n      <g id=\"line2d_22\">\n       <g>\n        <use style=\"stroke:#000000;stroke-width:0.8;\" x=\"153.079538\" xlink:href=\"#mab22b3d465\" y=\"127.767741\"/>\n       </g>\n      </g>\n     </g>\n    </g>\n    <g id=\"matplotlib.axis_4\">\n     <g id=\"ytick_5\">\n      <g id=\"line2d_23\">\n       <g>\n        <use style=\"stroke:#000000;stroke-width:0.8;\" x=\"55.982006\" xlink:href=\"#md3d2d8c597\" y=\"127.767741\"/>\n       </g>\n      </g>\n      <g id=\"text_14\">\n       <!-- 0 -->\n       <g transform=\"translate(43.255756 131.187038)scale(0.09 -0.09)\">\n        <use xlink:href=\"#DejaVuSans-48\"/>\n       </g>\n      </g>\n     </g>\n     <g id=\"ytick_6\">\n      <g id=\"line2d_24\">\n       <g>\n        <use style=\"stroke:#000000;stroke-width:0.8;\" x=\"55.982006\" xlink:href=\"#md3d2d8c597\" y=\"100.930283\"/>\n       </g>\n      </g>\n      <g id=\"text_15\">\n       <!-- 7 -->\n       <g transform=\"translate(43.255756 104.34958)scale(0.09 -0.09)\">\n        <defs>\n         <path d=\"M 8.203125 72.90625 \nL 55.078125 72.90625 \nL 55.078125 68.703125 \nL 28.609375 0 \nL 18.3125 0 \nL 43.21875 64.59375 \nL 8.203125 64.59375 \nz\n\" id=\"DejaVuSans-55\"/>\n        </defs>\n        <use xlink:href=\"#DejaVuSans-55\"/>\n       </g>\n      </g>\n     </g>\n    </g>\n    <g id=\"patch_215\">\n     <path d=\"M 55.982006 127.767741 \nL 55.982006 89.428515 \n\" style=\"fill:none;stroke:#000000;stroke-linecap:square;stroke-linejoin:miter;stroke-width:0.8;\"/>\n    </g>\n    <g id=\"patch_216\">\n     <path d=\"M 153.079538 127.767741 \nL 153.079538 89.428515 \n\" style=\"fill:none;stroke:#000000;stroke-linecap:square;stroke-linejoin:miter;stroke-width:0.8;\"/>\n    </g>\n    <g id=\"patch_217\">\n     <path d=\"M 55.982006 127.767741 \nL 153.079538 127.767741 \n\" style=\"fill:none;stroke:#000000;stroke-linecap:square;stroke-linejoin:miter;stroke-width:0.8;\"/>\n    </g>\n    <g id=\"patch_218\">\n     <path d=\"M 55.982006 89.428515 \nL 153.079538 89.428515 \n\" style=\"fill:none;stroke:#000000;stroke-linecap:square;stroke-linejoin:miter;stroke-width:0.8;\"/>\n    </g>\n   </g>\n   <g id=\"legend_1\">\n    <g id=\"patch_219\">\n     <path d=\"M 43.5625 86.788125 \nL 152.629687 86.788125 \nQ 154.629687 86.788125 154.629687 84.788125 \nL 154.629687 41.475625 \nQ 154.629687 39.475625 152.629687 39.475625 \nL 43.5625 39.475625 \nQ 41.5625 39.475625 41.5625 41.475625 \nL 41.5625 84.788125 \nQ 41.5625 86.788125 43.5625 86.788125 \nz\n\" style=\"fill:#ffffff;opacity:0.8;stroke:#cccccc;stroke-linejoin:miter;\"/>\n    </g>\n    <g id=\"patch_220\">\n     <path d=\"M 45.5625 51.074062 \nL 65.5625 51.074062 \nL 65.5625 44.074062 \nL 45.5625 44.074062 \nz\n\" style=\"fill:none;opacity:0.5;stroke:#000000;stroke-linejoin:miter;\"/>\n    </g>\n    <g id=\"text_16\">\n     <!-- indicate_inset -->\n     <g transform=\"translate(73.5625 51.074062)scale(0.1 -0.1)\">\n      <defs>\n       <path d=\"M 45.40625 46.390625 \nL 45.40625 75.984375 \nL 54.390625 75.984375 \nL 54.390625 0 \nL 45.40625 0 \nL 45.40625 8.203125 \nQ 42.578125 3.328125 38.25 0.953125 \nQ 33.9375 -1.421875 27.875 -1.421875 \nQ 17.96875 -1.421875 11.734375 6.484375 \nQ 5.515625 14.40625 5.515625 27.296875 \nQ 5.515625 40.1875 11.734375 48.09375 \nQ 17.96875 56 27.875 56 \nQ 33.9375 56 38.25 53.625 \nQ 42.578125 51.265625 45.40625 46.390625 \nz\nM 14.796875 27.296875 \nQ 14.796875 17.390625 18.875 11.75 \nQ 22.953125 6.109375 30.078125 6.109375 \nQ 37.203125 6.109375 41.296875 11.75 \nQ 45.40625 17.390625 45.40625 27.296875 \nQ 45.40625 37.203125 41.296875 42.84375 \nQ 37.203125 48.484375 30.078125 48.484375 \nQ 22.953125 48.484375 18.875 42.84375 \nQ 14.796875 37.203125 14.796875 27.296875 \nz\n\" id=\"DejaVuSans-100\"/>\n       <path d=\"M 48.78125 52.59375 \nL 48.78125 44.1875 \nQ 44.96875 46.296875 41.140625 47.34375 \nQ 37.3125 48.390625 33.40625 48.390625 \nQ 24.65625 48.390625 19.8125 42.84375 \nQ 14.984375 37.3125 14.984375 27.296875 \nQ 14.984375 17.28125 19.8125 11.734375 \nQ 24.65625 6.203125 33.40625 6.203125 \nQ 37.3125 6.203125 41.140625 7.25 \nQ 44.96875 8.296875 48.78125 10.40625 \nL 48.78125 2.09375 \nQ 45.015625 0.34375 40.984375 -0.53125 \nQ 36.96875 -1.421875 32.421875 -1.421875 \nQ 20.0625 -1.421875 12.78125 6.34375 \nQ 5.515625 14.109375 5.515625 27.296875 \nQ 5.515625 40.671875 12.859375 48.328125 \nQ 20.21875 56 33.015625 56 \nQ 37.15625 56 41.109375 55.140625 \nQ 45.0625 54.296875 48.78125 52.59375 \nz\n\" id=\"DejaVuSans-99\"/>\n       <path d=\"M 56.203125 29.59375 \nL 56.203125 25.203125 \nL 14.890625 25.203125 \nQ 15.484375 15.921875 20.484375 11.0625 \nQ 25.484375 6.203125 34.421875 6.203125 \nQ 39.59375 6.203125 44.453125 7.46875 \nQ 49.3125 8.734375 54.109375 11.28125 \nL 54.109375 2.78125 \nQ 49.265625 0.734375 44.1875 -0.34375 \nQ 39.109375 -1.421875 33.890625 -1.421875 \nQ 20.796875 -1.421875 13.15625 6.1875 \nQ 5.515625 13.8125 5.515625 26.8125 \nQ 5.515625 40.234375 12.765625 48.109375 \nQ 20.015625 56 32.328125 56 \nQ 43.359375 56 49.78125 48.890625 \nQ 56.203125 41.796875 56.203125 29.59375 \nz\nM 47.21875 32.234375 \nQ 47.125 39.59375 43.09375 43.984375 \nQ 39.0625 48.390625 32.421875 48.390625 \nQ 24.90625 48.390625 20.390625 44.140625 \nQ 15.875 39.890625 15.1875 32.171875 \nz\n\" id=\"DejaVuSans-101\"/>\n       <path d=\"M 50.984375 -16.609375 \nL 50.984375 -23.578125 \nL -0.984375 -23.578125 \nL -0.984375 -16.609375 \nz\n\" id=\"DejaVuSans-95\"/>\n       <path d=\"M 44.28125 53.078125 \nL 44.28125 44.578125 \nQ 40.484375 46.53125 36.375 47.5 \nQ 32.28125 48.484375 27.875 48.484375 \nQ 21.1875 48.484375 17.84375 46.4375 \nQ 14.5 44.390625 14.5 40.28125 \nQ 14.5 37.15625 16.890625 35.375 \nQ 19.28125 33.59375 26.515625 31.984375 \nL 29.59375 31.296875 \nQ 39.15625 29.25 43.1875 25.515625 \nQ 47.21875 21.78125 47.21875 15.09375 \nQ 47.21875 7.46875 41.1875 3.015625 \nQ 35.15625 -1.421875 24.609375 -1.421875 \nQ 20.21875 -1.421875 15.453125 -0.5625 \nQ 10.6875 0.296875 5.421875 2 \nL 5.421875 11.28125 \nQ 10.40625 8.6875 15.234375 7.390625 \nQ 20.0625 6.109375 24.8125 6.109375 \nQ 31.15625 6.109375 34.5625 8.28125 \nQ 37.984375 10.453125 37.984375 14.40625 \nQ 37.984375 18.0625 35.515625 20.015625 \nQ 33.0625 21.96875 24.703125 23.78125 \nL 21.578125 24.515625 \nQ 13.234375 26.265625 9.515625 29.90625 \nQ 5.8125 33.546875 5.8125 39.890625 \nQ 5.8125 47.609375 11.28125 51.796875 \nQ 16.75 56 26.8125 56 \nQ 31.78125 56 36.171875 55.265625 \nQ 40.578125 54.546875 44.28125 53.078125 \nz\n\" id=\"DejaVuSans-115\"/>\n      </defs>\n      <use xlink:href=\"#DejaVuSans-105\"/>\n      <use x=\"27.783203\" xlink:href=\"#DejaVuSans-110\"/>\n      <use x=\"91.162109\" xlink:href=\"#DejaVuSans-100\"/>\n      <use x=\"154.638672\" xlink:href=\"#DejaVuSans-105\"/>\n      <use x=\"182.421875\" xlink:href=\"#DejaVuSans-99\"/>\n      <use x=\"237.402344\" xlink:href=\"#DejaVuSans-97\"/>\n      <use x=\"298.681641\" xlink:href=\"#DejaVuSans-116\"/>\n      <use x=\"337.890625\" xlink:href=\"#DejaVuSans-101\"/>\n      <use x=\"399.414062\" xlink:href=\"#DejaVuSans-95\"/>\n      <use x=\"449.414062\" xlink:href=\"#DejaVuSans-105\"/>\n      <use x=\"477.197266\" xlink:href=\"#DejaVuSans-110\"/>\n      <use x=\"540.576172\" xlink:href=\"#DejaVuSans-115\"/>\n      <use x=\"592.675781\" xlink:href=\"#DejaVuSans-101\"/>\n      <use x=\"654.199219\" xlink:href=\"#DejaVuSans-116\"/>\n     </g>\n    </g>\n    <g id=\"patch_221\">\n     <path d=\"M 45.5625 66.030312 \nL 65.5625 66.030312 \nL 65.5625 59.030312 \nL 45.5625 59.030312 \nz\n\" style=\"opacity:0.8;\"/>\n    </g>\n    <g id=\"text_17\">\n     <!-- Local cases -->\n     <g transform=\"translate(73.5625 66.030312)scale(0.1 -0.1)\">\n      <defs>\n       <path d=\"M 9.8125 72.90625 \nL 19.671875 72.90625 \nL 19.671875 8.296875 \nL 55.171875 8.296875 \nL 55.171875 0 \nL 9.8125 0 \nz\n\" id=\"DejaVuSans-76\"/>\n       <path d=\"M 9.421875 75.984375 \nL 18.40625 75.984375 \nL 18.40625 0 \nL 9.421875 0 \nz\n\" id=\"DejaVuSans-108\"/>\n      </defs>\n      <use xlink:href=\"#DejaVuSans-76\"/>\n      <use x=\"53.962891\" xlink:href=\"#DejaVuSans-111\"/>\n      <use x=\"115.144531\" xlink:href=\"#DejaVuSans-99\"/>\n      <use x=\"170.125\" xlink:href=\"#DejaVuSans-97\"/>\n      <use x=\"231.404297\" xlink:href=\"#DejaVuSans-108\"/>\n      <use x=\"259.1875\" xlink:href=\"#DejaVuSans-32\"/>\n      <use x=\"290.974609\" xlink:href=\"#DejaVuSans-99\"/>\n      <use x=\"345.955078\" xlink:href=\"#DejaVuSans-97\"/>\n      <use x=\"407.234375\" xlink:href=\"#DejaVuSans-115\"/>\n      <use x=\"459.333984\" xlink:href=\"#DejaVuSans-101\"/>\n      <use x=\"520.857422\" xlink:href=\"#DejaVuSans-115\"/>\n     </g>\n    </g>\n    <g id=\"patch_222\">\n     <path d=\"M 45.5625 80.708437 \nL 65.5625 80.708437 \nL 65.5625 73.708437 \nL 45.5625 73.708437 \nz\n\" style=\"fill:url(#he6de91ee8a);stroke:#ffffff;stroke-linejoin:miter;stroke-width:0.1;\"/>\n    </g>\n    <g id=\"text_18\">\n     <!-- Imported cases -->\n     <g transform=\"translate(73.5625 80.708437)scale(0.1 -0.1)\">\n      <defs>\n       <path d=\"M 9.8125 72.90625 \nL 19.671875 72.90625 \nL 19.671875 0 \nL 9.8125 0 \nz\n\" id=\"DejaVuSans-73\"/>\n       <path d=\"M 52 44.1875 \nQ 55.375 50.25 60.0625 53.125 \nQ 64.75 56 71.09375 56 \nQ 79.640625 56 84.28125 50.015625 \nQ 88.921875 44.046875 88.921875 33.015625 \nL 88.921875 0 \nL 79.890625 0 \nL 79.890625 32.71875 \nQ 79.890625 40.578125 77.09375 44.375 \nQ 74.3125 48.1875 68.609375 48.1875 \nQ 61.625 48.1875 57.5625 43.546875 \nQ 53.515625 38.921875 53.515625 30.90625 \nL 53.515625 0 \nL 44.484375 0 \nL 44.484375 32.71875 \nQ 44.484375 40.625 41.703125 44.40625 \nQ 38.921875 48.1875 33.109375 48.1875 \nQ 26.21875 48.1875 22.15625 43.53125 \nQ 18.109375 38.875 18.109375 30.90625 \nL 18.109375 0 \nL 9.078125 0 \nL 9.078125 54.6875 \nL 18.109375 54.6875 \nL 18.109375 46.1875 \nQ 21.1875 51.21875 25.484375 53.609375 \nQ 29.78125 56 35.6875 56 \nQ 41.65625 56 45.828125 52.96875 \nQ 50 49.953125 52 44.1875 \nz\n\" id=\"DejaVuSans-109\"/>\n      </defs>\n      <use xlink:href=\"#DejaVuSans-73\"/>\n      <use x=\"29.492188\" xlink:href=\"#DejaVuSans-109\"/>\n      <use x=\"126.904297\" xlink:href=\"#DejaVuSans-112\"/>\n      <use x=\"190.380859\" xlink:href=\"#DejaVuSans-111\"/>\n      <use x=\"251.5625\" xlink:href=\"#DejaVuSans-114\"/>\n      <use x=\"292.675781\" xlink:href=\"#DejaVuSans-116\"/>\n      <use x=\"331.884766\" xlink:href=\"#DejaVuSans-101\"/>\n      <use x=\"393.408203\" xlink:href=\"#DejaVuSans-100\"/>\n      <use x=\"456.884766\" xlink:href=\"#DejaVuSans-32\"/>\n      <use x=\"488.671875\" xlink:href=\"#DejaVuSans-99\"/>\n      <use x=\"543.652344\" xlink:href=\"#DejaVuSans-97\"/>\n      <use x=\"604.931641\" xlink:href=\"#DejaVuSans-115\"/>\n      <use x=\"657.03125\" xlink:href=\"#DejaVuSans-101\"/>\n      <use x=\"718.554688\" xlink:href=\"#DejaVuSans-115\"/>\n     </g>\n    </g>\n   </g>\n  </g>\n  <g id=\"axes_3\">\n   <g id=\"patch_223\">\n    <path d=\"M 321.709335 162.273044 \nL 564.453165 162.273044 \nL 564.453165 34.475625 \nL 321.709335 34.475625 \nz\n\" style=\"fill:#ffffff;\"/>\n   </g>\n   <g id=\"patch_224\">\n    <path clip-path=\"url(#pdca89feece)\" d=\"M 332.743146 162.273044 \nL 334.889801 162.273044 \nL 334.889801 162.273044 \nL 332.743146 162.273044 \nz\n\" style=\"opacity:0.8;\"/>\n   </g>\n   <g id=\"patch_225\">\n    <path clip-path=\"url(#pdca89feece)\" d=\"M 337.895119 162.273044 \nL 340.041775 162.273044 \nL 340.041775 161.384637 \nL 337.895119 161.384637 \nz\n\" style=\"opacity:0.8;\"/>\n   </g>\n   <g id=\"patch_226\">\n    <path clip-path=\"url(#pdca89feece)\" d=\"M 343.047093 162.273044 \nL 345.193749 162.273044 \nL 345.193749 161.384637 \nL 343.047093 161.384637 \nz\n\" style=\"opacity:0.8;\"/>\n   </g>\n   <g id=\"patch_227\">\n    <path clip-path=\"url(#pdca89feece)\" d=\"M 348.199067 162.273044 \nL 350.345723 162.273044 \nL 350.345723 158.719414 \nL 348.199067 158.719414 \nz\n\" style=\"opacity:0.8;\"/>\n   </g>\n   <g id=\"patch_228\">\n    <path clip-path=\"url(#pdca89feece)\" d=\"M 353.351041 162.273044 \nL 355.497696 162.273044 \nL 355.497696 156.942599 \nL 353.351041 156.942599 \nz\n\" style=\"opacity:0.8;\"/>\n   </g>\n   <g id=\"patch_229\">\n    <path clip-path=\"url(#pdca89feece)\" d=\"M 358.503014 162.273044 \nL 360.64967 162.273044 \nL 360.64967 158.719414 \nL 358.503014 158.719414 \nz\n\" style=\"opacity:0.8;\"/>\n   </g>\n   <g id=\"patch_230\">\n    <path clip-path=\"url(#pdca89feece)\" d=\"M 363.654988 162.273044 \nL 365.801644 162.273044 \nL 365.801644 156.942599 \nL 363.654988 156.942599 \nz\n\" style=\"opacity:0.8;\"/>\n   </g>\n   <g id=\"patch_231\">\n    <path clip-path=\"url(#pdca89feece)\" d=\"M 368.806962 162.273044 \nL 370.953618 162.273044 \nL 370.953618 156.942599 \nL 368.806962 156.942599 \nz\n\" style=\"opacity:0.8;\"/>\n   </g>\n   <g id=\"patch_232\">\n    <path clip-path=\"url(#pdca89feece)\" d=\"M 373.958936 162.273044 \nL 376.105591 162.273044 \nL 376.105591 159.607822 \nL 373.958936 159.607822 \nz\n\" style=\"opacity:0.8;\"/>\n   </g>\n   <g id=\"patch_233\">\n    <path clip-path=\"url(#pdca89feece)\" d=\"M 379.110909 162.273044 \nL 381.257565 162.273044 \nL 381.257565 162.273044 \nL 379.110909 162.273044 \nz\n\" style=\"opacity:0.8;\"/>\n   </g>\n   <g id=\"patch_234\">\n    <path clip-path=\"url(#pdca89feece)\" d=\"M 384.262883 162.273044 \nL 386.409539 162.273044 \nL 386.409539 153.388969 \nL 384.262883 153.388969 \nz\n\" style=\"opacity:0.8;\"/>\n   </g>\n   <g id=\"patch_235\">\n    <path clip-path=\"url(#pdca89feece)\" d=\"M 389.414857 162.273044 \nL 391.561513 162.273044 \nL 391.561513 153.388969 \nL 389.414857 153.388969 \nz\n\" style=\"opacity:0.8;\"/>\n   </g>\n   <g id=\"patch_236\">\n    <path clip-path=\"url(#pdca89feece)\" d=\"M 394.566831 162.273044 \nL 396.713486 162.273044 \nL 396.713486 147.170117 \nL 394.566831 147.170117 \nz\n\" style=\"opacity:0.8;\"/>\n   </g>\n   <g id=\"patch_237\">\n    <path clip-path=\"url(#pdca89feece)\" d=\"M 399.718804 162.273044 \nL 401.86546 162.273044 \nL 401.86546 150.723747 \nL 399.718804 150.723747 \nz\n\" style=\"opacity:0.8;\"/>\n   </g>\n   <g id=\"patch_238\">\n    <path clip-path=\"url(#pdca89feece)\" d=\"M 404.870778 162.273044 \nL 407.017434 162.273044 \nL 407.017434 149.835339 \nL 404.870778 149.835339 \nz\n\" style=\"opacity:0.8;\"/>\n   </g>\n   <g id=\"patch_239\">\n    <path clip-path=\"url(#pdca89feece)\" d=\"M 410.022752 162.273044 \nL 412.169408 162.273044 \nL 412.169408 150.723747 \nL 410.022752 150.723747 \nz\n\" style=\"opacity:0.8;\"/>\n   </g>\n   <g id=\"patch_240\">\n    <path clip-path=\"url(#pdca89feece)\" d=\"M 415.174726 162.273044 \nL 417.321381 162.273044 \nL 417.321381 139.174449 \nL 415.174726 139.174449 \nz\n\" style=\"opacity:0.8;\"/>\n   </g>\n   <g id=\"patch_241\">\n    <path clip-path=\"url(#pdca89feece)\" d=\"M 420.326699 162.273044 \nL 422.473355 162.273044 \nL 422.473355 142.728079 \nL 420.326699 142.728079 \nz\n\" style=\"opacity:0.8;\"/>\n   </g>\n   <g id=\"patch_242\">\n    <path clip-path=\"url(#pdca89feece)\" d=\"M 425.478673 162.273044 \nL 427.625329 162.273044 \nL 427.625329 146.281709 \nL 425.478673 146.281709 \nz\n\" style=\"opacity:0.8;\"/>\n   </g>\n   <g id=\"patch_243\">\n    <path clip-path=\"url(#pdca89feece)\" d=\"M 430.630647 162.273044 \nL 432.777303 162.273044 \nL 432.777303 121.406299 \nL 430.630647 121.406299 \nz\n\" style=\"opacity:0.8;\"/>\n   </g>\n   <g id=\"patch_244\">\n    <path clip-path=\"url(#pdca89feece)\" d=\"M 435.782621 162.273044 \nL 437.929276 162.273044 \nL 437.929276 134.732412 \nL 435.782621 134.732412 \nz\n\" style=\"opacity:0.8;\"/>\n   </g>\n   <g id=\"patch_245\">\n    <path clip-path=\"url(#pdca89feece)\" d=\"M 440.934594 162.273044 \nL 443.08125 162.273044 \nL 443.08125 132.067189 \nL 440.934594 132.067189 \nz\n\" style=\"opacity:0.8;\"/>\n   </g>\n   <g id=\"patch_246\">\n    <path clip-path=\"url(#pdca89feece)\" d=\"M 446.086568 162.273044 \nL 448.233224 162.273044 \nL 448.233224 116.964262 \nL 446.086568 116.964262 \nz\n\" style=\"opacity:0.8;\"/>\n   </g>\n   <g id=\"patch_247\">\n    <path clip-path=\"url(#pdca89feece)\" d=\"M 451.238542 162.273044 \nL 453.385197 162.273044 \nL 453.385197 117.852669 \nL 451.238542 117.852669 \nz\n\" style=\"opacity:0.8;\"/>\n   </g>\n   <g id=\"patch_248\">\n    <path clip-path=\"url(#pdca89feece)\" d=\"M 456.390516 162.273044 \nL 458.537171 162.273044 \nL 458.537171 117.852669 \nL 456.390516 117.852669 \nz\n\" style=\"opacity:0.8;\"/>\n   </g>\n   <g id=\"patch_249\">\n    <path clip-path=\"url(#pdca89feece)\" d=\"M 461.542489 162.273044 \nL 463.689145 162.273044 \nL 463.689145 111.633817 \nL 461.542489 111.633817 \nz\n\" style=\"opacity:0.8;\"/>\n   </g>\n   <g id=\"patch_250\">\n    <path clip-path=\"url(#pdca89feece)\" d=\"M 466.694463 162.273044 \nL 468.841119 162.273044 \nL 468.841119 92.977259 \nL 466.694463 92.977259 \nz\n\" style=\"opacity:0.8;\"/>\n   </g>\n   <g id=\"patch_251\">\n    <path clip-path=\"url(#pdca89feece)\" d=\"M 471.846437 162.273044 \nL 473.993092 162.273044 \nL 473.993092 130.290374 \nL 471.846437 130.290374 \nz\n\" style=\"opacity:0.8;\"/>\n   </g>\n   <g id=\"patch_252\">\n    <path clip-path=\"url(#pdca89feece)\" d=\"M 476.998411 162.273044 \nL 479.145066 162.273044 \nL 479.145066 117.852669 \nL 476.998411 117.852669 \nz\n\" style=\"opacity:0.8;\"/>\n   </g>\n   <g id=\"patch_253\">\n    <path clip-path=\"url(#pdca89feece)\" d=\"M 482.150384 162.273044 \nL 484.29704 162.273044 \nL 484.29704 132.067189 \nL 482.150384 132.067189 \nz\n\" style=\"opacity:0.8;\"/>\n   </g>\n   <g id=\"patch_254\">\n    <path clip-path=\"url(#pdca89feece)\" d=\"M 487.302358 162.273044 \nL 489.449014 162.273044 \nL 489.449014 107.191779 \nL 487.302358 107.191779 \nz\n\" style=\"opacity:0.8;\"/>\n   </g>\n   <g id=\"patch_255\">\n    <path clip-path=\"url(#pdca89feece)\" d=\"M 492.454332 162.273044 \nL 494.600987 162.273044 \nL 494.600987 99.196112 \nL 492.454332 99.196112 \nz\n\" style=\"opacity:0.8;\"/>\n   </g>\n   <g id=\"patch_256\">\n    <path clip-path=\"url(#pdca89feece)\" d=\"M 497.606305 162.273044 \nL 499.752961 162.273044 \nL 499.752961 115.187447 \nL 497.606305 115.187447 \nz\n\" style=\"opacity:0.8;\"/>\n   </g>\n   <g id=\"patch_257\">\n    <path clip-path=\"url(#pdca89feece)\" d=\"M 502.758279 162.273044 \nL 504.904935 162.273044 \nL 504.904935 116.964262 \nL 502.758279 116.964262 \nz\n\" style=\"opacity:0.8;\"/>\n   </g>\n   <g id=\"patch_258\">\n    <path clip-path=\"url(#pdca89feece)\" d=\"M 507.910253 162.273044 \nL 510.056909 162.273044 \nL 510.056909 133.844004 \nL 507.910253 133.844004 \nz\n\" style=\"opacity:0.8;\"/>\n   </g>\n   <g id=\"patch_259\">\n    <path clip-path=\"url(#pdca89feece)\" d=\"M 513.062227 162.273044 \nL 515.208882 162.273044 \nL 515.208882 135.620819 \nL 513.062227 135.620819 \nz\n\" style=\"opacity:0.8;\"/>\n   </g>\n   <g id=\"patch_260\">\n    <path clip-path=\"url(#pdca89feece)\" d=\"M 518.2142 162.273044 \nL 520.360856 162.273044 \nL 520.360856 148.946932 \nL 518.2142 148.946932 \nz\n\" style=\"opacity:0.8;\"/>\n   </g>\n   <g id=\"patch_261\">\n    <path clip-path=\"url(#pdca89feece)\" d=\"M 523.366174 162.273044 \nL 525.51283 162.273044 \nL 525.51283 144.504894 \nL 523.366174 144.504894 \nz\n\" style=\"opacity:0.8;\"/>\n   </g>\n   <g id=\"patch_262\">\n    <path clip-path=\"url(#pdca89feece)\" d=\"M 528.518148 162.273044 \nL 530.664804 162.273044 \nL 530.664804 136.509227 \nL 528.518148 136.509227 \nz\n\" style=\"opacity:0.8;\"/>\n   </g>\n   <g id=\"patch_263\">\n    <path clip-path=\"url(#pdca89feece)\" d=\"M 533.670122 162.273044 \nL 535.816777 162.273044 \nL 535.816777 152.500562 \nL 533.670122 152.500562 \nz\n\" style=\"opacity:0.8;\"/>\n   </g>\n   <g id=\"patch_264\">\n    <path clip-path=\"url(#pdca89feece)\" d=\"M 538.822095 162.273044 \nL 540.968751 162.273044 \nL 540.968751 153.388969 \nL 538.822095 153.388969 \nz\n\" style=\"opacity:0.8;\"/>\n   </g>\n   <g id=\"patch_265\">\n    <path clip-path=\"url(#pdca89feece)\" d=\"M 543.974069 162.273044 \nL 546.120725 162.273044 \nL 546.120725 156.942599 \nL 543.974069 156.942599 \nz\n\" style=\"opacity:0.8;\"/>\n   </g>\n   <g id=\"patch_266\">\n    <path clip-path=\"url(#pdca89feece)\" d=\"M 549.126043 162.273044 \nL 551.272699 162.273044 \nL 551.272699 160.496229 \nL 549.126043 160.496229 \nz\n\" style=\"opacity:0.8;\"/>\n   </g>\n   <g id=\"patch_267\">\n    <path clip-path=\"url(#pdca89feece)\" d=\"M 334.889801 162.273044 \nL 337.036457 162.273044 \nL 337.036457 161.384637 \nL 334.889801 161.384637 \nz\n\" style=\"fill:url(#he6de91ee8a);stroke:#ffffff;stroke-linejoin:miter;stroke-width:0.1;\"/>\n   </g>\n   <g id=\"patch_268\">\n    <path clip-path=\"url(#pdca89feece)\" d=\"M 340.041775 162.273044 \nL 342.188431 162.273044 \nL 342.188431 161.384637 \nL 340.041775 161.384637 \nz\n\" style=\"fill:url(#he6de91ee8a);stroke:#ffffff;stroke-linejoin:miter;stroke-width:0.1;\"/>\n   </g>\n   <g id=\"patch_269\">\n    <path clip-path=\"url(#pdca89feece)\" d=\"M 345.193749 162.273044 \nL 347.340405 162.273044 \nL 347.340405 157.831007 \nL 345.193749 157.831007 \nz\n\" style=\"fill:url(#he6de91ee8a);stroke:#ffffff;stroke-linejoin:miter;stroke-width:0.1;\"/>\n   </g>\n   <g id=\"patch_270\">\n    <path clip-path=\"url(#pdca89feece)\" d=\"M 350.345723 162.273044 \nL 352.492378 162.273044 \nL 352.492378 160.496229 \nL 350.345723 160.496229 \nz\n\" style=\"fill:url(#he6de91ee8a);stroke:#ffffff;stroke-linejoin:miter;stroke-width:0.1;\"/>\n   </g>\n   <g id=\"patch_271\">\n    <path clip-path=\"url(#pdca89feece)\" d=\"M 355.497696 162.273044 \nL 357.644352 162.273044 \nL 357.644352 160.496229 \nL 355.497696 160.496229 \nz\n\" style=\"fill:url(#he6de91ee8a);stroke:#ffffff;stroke-linejoin:miter;stroke-width:0.1;\"/>\n   </g>\n   <g id=\"patch_272\">\n    <path clip-path=\"url(#pdca89feece)\" d=\"M 360.64967 162.273044 \nL 362.796326 162.273044 \nL 362.796326 160.496229 \nL 360.64967 160.496229 \nz\n\" style=\"fill:url(#he6de91ee8a);stroke:#ffffff;stroke-linejoin:miter;stroke-width:0.1;\"/>\n   </g>\n   <g id=\"patch_273\">\n    <path clip-path=\"url(#pdca89feece)\" d=\"M 365.801644 162.273044 \nL 367.9483 162.273044 \nL 367.9483 161.384637 \nL 365.801644 161.384637 \nz\n\" style=\"fill:url(#he6de91ee8a);stroke:#ffffff;stroke-linejoin:miter;stroke-width:0.1;\"/>\n   </g>\n   <g id=\"patch_274\">\n    <path clip-path=\"url(#pdca89feece)\" d=\"M 370.953618 162.273044 \nL 373.100273 162.273044 \nL 373.100273 160.496229 \nL 370.953618 160.496229 \nz\n\" style=\"fill:url(#he6de91ee8a);stroke:#ffffff;stroke-linejoin:miter;stroke-width:0.1;\"/>\n   </g>\n   <g id=\"patch_275\">\n    <path clip-path=\"url(#pdca89feece)\" d=\"M 376.105591 162.273044 \nL 378.252247 162.273044 \nL 378.252247 157.831007 \nL 376.105591 157.831007 \nz\n\" style=\"fill:url(#he6de91ee8a);stroke:#ffffff;stroke-linejoin:miter;stroke-width:0.1;\"/>\n   </g>\n   <g id=\"patch_276\">\n    <path clip-path=\"url(#pdca89feece)\" d=\"M 381.257565 162.273044 \nL 383.404221 162.273044 \nL 383.404221 156.942599 \nL 381.257565 156.942599 \nz\n\" style=\"fill:url(#he6de91ee8a);stroke:#ffffff;stroke-linejoin:miter;stroke-width:0.1;\"/>\n   </g>\n   <g id=\"patch_277\">\n    <path clip-path=\"url(#pdca89feece)\" d=\"M 386.409539 162.273044 \nL 388.556195 162.273044 \nL 388.556195 153.388969 \nL 386.409539 153.388969 \nz\n\" style=\"fill:url(#he6de91ee8a);stroke:#ffffff;stroke-linejoin:miter;stroke-width:0.1;\"/>\n   </g>\n   <g id=\"patch_278\">\n    <path clip-path=\"url(#pdca89feece)\" d=\"M 391.561513 162.273044 \nL 393.708168 162.273044 \nL 393.708168 153.388969 \nL 391.561513 153.388969 \nz\n\" style=\"fill:url(#he6de91ee8a);stroke:#ffffff;stroke-linejoin:miter;stroke-width:0.1;\"/>\n   </g>\n   <g id=\"patch_279\">\n    <path clip-path=\"url(#pdca89feece)\" d=\"M 396.713486 162.273044 \nL 398.860142 162.273044 \nL 398.860142 149.835339 \nL 396.713486 149.835339 \nz\n\" style=\"fill:url(#he6de91ee8a);stroke:#ffffff;stroke-linejoin:miter;stroke-width:0.1;\"/>\n   </g>\n   <g id=\"patch_280\">\n    <path clip-path=\"url(#pdca89feece)\" d=\"M 401.86546 162.273044 \nL 404.012116 162.273044 \nL 404.012116 152.500562 \nL 401.86546 152.500562 \nz\n\" style=\"fill:url(#he6de91ee8a);stroke:#ffffff;stroke-linejoin:miter;stroke-width:0.1;\"/>\n   </g>\n   <g id=\"patch_281\">\n    <path clip-path=\"url(#pdca89feece)\" d=\"M 407.017434 162.273044 \nL 409.164089 162.273044 \nL 409.164089 146.281709 \nL 407.017434 146.281709 \nz\n\" style=\"fill:url(#he6de91ee8a);stroke:#ffffff;stroke-linejoin:miter;stroke-width:0.1;\"/>\n   </g>\n   <g id=\"patch_282\">\n    <path clip-path=\"url(#pdca89feece)\" d=\"M 412.169408 162.273044 \nL 414.316063 162.273044 \nL 414.316063 131.178782 \nL 412.169408 131.178782 \nz\n\" style=\"fill:url(#he6de91ee8a);stroke:#ffffff;stroke-linejoin:miter;stroke-width:0.1;\"/>\n   </g>\n   <g id=\"patch_283\">\n    <path clip-path=\"url(#pdca89feece)\" d=\"M 417.321381 162.273044 \nL 419.468037 162.273044 \nL 419.468037 141.839672 \nL 417.321381 141.839672 \nz\n\" style=\"fill:url(#he6de91ee8a);stroke:#ffffff;stroke-linejoin:miter;stroke-width:0.1;\"/>\n   </g>\n   <g id=\"patch_284\">\n    <path clip-path=\"url(#pdca89feece)\" d=\"M 422.473355 162.273044 \nL 424.620011 162.273044 \nL 424.620011 129.401967 \nL 422.473355 129.401967 \nz\n\" style=\"fill:url(#he6de91ee8a);stroke:#ffffff;stroke-linejoin:miter;stroke-width:0.1;\"/>\n   </g>\n   <g id=\"patch_285\">\n    <path clip-path=\"url(#pdca89feece)\" d=\"M 427.625329 162.273044 \nL 429.771984 162.273044 \nL 429.771984 111.633817 \nL 427.625329 111.633817 \nz\n\" style=\"fill:url(#he6de91ee8a);stroke:#ffffff;stroke-linejoin:miter;stroke-width:0.1;\"/>\n   </g>\n   <g id=\"patch_286\">\n    <path clip-path=\"url(#pdca89feece)\" d=\"M 432.777303 162.273044 \nL 434.923958 162.273044 \nL 434.923958 91.200444 \nL 432.777303 91.200444 \nz\n\" style=\"fill:url(#he6de91ee8a);stroke:#ffffff;stroke-linejoin:miter;stroke-width:0.1;\"/>\n   </g>\n   <g id=\"patch_287\">\n    <path clip-path=\"url(#pdca89feece)\" d=\"M 437.929276 162.273044 \nL 440.075932 162.273044 \nL 440.075932 99.196112 \nL 437.929276 99.196112 \nz\n\" style=\"fill:url(#he6de91ee8a);stroke:#ffffff;stroke-linejoin:miter;stroke-width:0.1;\"/>\n   </g>\n   <g id=\"patch_288\">\n    <path clip-path=\"url(#pdca89feece)\" d=\"M 443.08125 162.273044 \nL 445.227906 162.273044 \nL 445.227906 40.561216 \nL 443.08125 40.561216 \nz\n\" style=\"fill:url(#he6de91ee8a);stroke:#ffffff;stroke-linejoin:miter;stroke-width:0.1;\"/>\n   </g>\n   <g id=\"patch_289\">\n    <path clip-path=\"url(#pdca89feece)\" d=\"M 448.233224 162.273044 \nL 450.379879 162.273044 \nL 450.379879 50.333699 \nL 448.233224 50.333699 \nz\n\" style=\"fill:url(#he6de91ee8a);stroke:#ffffff;stroke-linejoin:miter;stroke-width:0.1;\"/>\n   </g>\n   <g id=\"patch_290\">\n    <path clip-path=\"url(#pdca89feece)\" d=\"M 453.385197 162.273044 \nL 455.531853 162.273044 \nL 455.531853 42.338031 \nL 453.385197 42.338031 \nz\n\" style=\"fill:url(#he6de91ee8a);stroke:#ffffff;stroke-linejoin:miter;stroke-width:0.1;\"/>\n   </g>\n   <g id=\"patch_291\">\n    <path clip-path=\"url(#pdca89feece)\" d=\"M 458.537171 162.273044 \nL 460.683827 162.273044 \nL 460.683827 45.003254 \nL 458.537171 45.003254 \nz\n\" style=\"fill:url(#he6de91ee8a);stroke:#ffffff;stroke-linejoin:miter;stroke-width:0.1;\"/>\n   </g>\n   <g id=\"patch_292\">\n    <path clip-path=\"url(#pdca89feece)\" d=\"M 463.689145 162.273044 \nL 465.835801 162.273044 \nL 465.835801 40.561216 \nL 463.689145 40.561216 \nz\n\" style=\"fill:url(#he6de91ee8a);stroke:#ffffff;stroke-linejoin:miter;stroke-width:0.1;\"/>\n   </g>\n   <g id=\"patch_293\">\n    <path clip-path=\"url(#pdca89feece)\" d=\"M 468.841119 162.273044 \nL 470.987774 162.273044 \nL 470.987774 68.990256 \nL 468.841119 68.990256 \nz\n\" style=\"fill:url(#he6de91ee8a);stroke:#ffffff;stroke-linejoin:miter;stroke-width:0.1;\"/>\n   </g>\n   <g id=\"patch_294\">\n    <path clip-path=\"url(#pdca89feece)\" d=\"M 473.993092 162.273044 \nL 476.139748 162.273044 \nL 476.139748 89.423629 \nL 473.993092 89.423629 \nz\n\" style=\"fill:url(#he6de91ee8a);stroke:#ffffff;stroke-linejoin:miter;stroke-width:0.1;\"/>\n   </g>\n   <g id=\"patch_295\">\n    <path clip-path=\"url(#pdca89feece)\" d=\"M 479.145066 162.273044 \nL 481.291722 162.273044 \nL 481.291722 108.080187 \nL 479.145066 108.080187 \nz\n\" style=\"fill:url(#he6de91ee8a);stroke:#ffffff;stroke-linejoin:miter;stroke-width:0.1;\"/>\n   </g>\n   <g id=\"patch_296\">\n    <path clip-path=\"url(#pdca89feece)\" d=\"M 484.29704 162.273044 \nL 486.443696 162.273044 \nL 486.443696 118.741077 \nL 484.29704 118.741077 \nz\n\" style=\"fill:url(#he6de91ee8a);stroke:#ffffff;stroke-linejoin:miter;stroke-width:0.1;\"/>\n   </g>\n   <g id=\"patch_297\">\n    <path clip-path=\"url(#pdca89feece)\" d=\"M 489.449014 162.273044 \nL 491.595669 162.273044 \nL 491.595669 106.303372 \nL 489.449014 106.303372 \nz\n\" style=\"fill:url(#he6de91ee8a);stroke:#ffffff;stroke-linejoin:miter;stroke-width:0.1;\"/>\n   </g>\n   <g id=\"patch_298\">\n    <path clip-path=\"url(#pdca89feece)\" d=\"M 494.600987 162.273044 \nL 496.747643 162.273044 \nL 496.747643 125.848337 \nL 494.600987 125.848337 \nz\n\" style=\"fill:url(#he6de91ee8a);stroke:#ffffff;stroke-linejoin:miter;stroke-width:0.1;\"/>\n   </g>\n   <g id=\"patch_299\">\n    <path clip-path=\"url(#pdca89feece)\" d=\"M 499.752961 162.273044 \nL 501.899617 162.273044 \nL 501.899617 127.625152 \nL 499.752961 127.625152 \nz\n\" style=\"fill:url(#he6de91ee8a);stroke:#ffffff;stroke-linejoin:miter;stroke-width:0.1;\"/>\n   </g>\n   <g id=\"patch_300\">\n    <path clip-path=\"url(#pdca89feece)\" d=\"M 504.904935 162.273044 \nL 507.051591 162.273044 \nL 507.051591 139.174449 \nL 504.904935 139.174449 \nz\n\" style=\"fill:url(#he6de91ee8a);stroke:#ffffff;stroke-linejoin:miter;stroke-width:0.1;\"/>\n   </g>\n   <g id=\"patch_301\">\n    <path clip-path=\"url(#pdca89feece)\" d=\"M 510.056909 162.273044 \nL 512.203564 162.273044 \nL 512.203564 124.959929 \nL 510.056909 124.959929 \nz\n\" style=\"fill:url(#he6de91ee8a);stroke:#ffffff;stroke-linejoin:miter;stroke-width:0.1;\"/>\n   </g>\n   <g id=\"patch_302\">\n    <path clip-path=\"url(#pdca89feece)\" d=\"M 515.208882 162.273044 \nL 517.355538 162.273044 \nL 517.355538 140.951264 \nL 515.208882 140.951264 \nz\n\" style=\"fill:url(#he6de91ee8a);stroke:#ffffff;stroke-linejoin:miter;stroke-width:0.1;\"/>\n   </g>\n   <g id=\"patch_303\">\n    <path clip-path=\"url(#pdca89feece)\" d=\"M 520.360856 162.273044 \nL 522.507512 162.273044 \nL 522.507512 148.058524 \nL 520.360856 148.058524 \nz\n\" style=\"fill:url(#he6de91ee8a);stroke:#ffffff;stroke-linejoin:miter;stroke-width:0.1;\"/>\n   </g>\n   <g id=\"patch_304\">\n    <path clip-path=\"url(#pdca89feece)\" d=\"M 525.51283 162.273044 \nL 527.659486 162.273044 \nL 527.659486 155.165784 \nL 525.51283 155.165784 \nz\n\" style=\"fill:url(#he6de91ee8a);stroke:#ffffff;stroke-linejoin:miter;stroke-width:0.1;\"/>\n   </g>\n   <g id=\"patch_305\">\n    <path clip-path=\"url(#pdca89feece)\" d=\"M 530.664804 162.273044 \nL 532.811459 162.273044 \nL 532.811459 146.281709 \nL 530.664804 146.281709 \nz\n\" style=\"fill:url(#he6de91ee8a);stroke:#ffffff;stroke-linejoin:miter;stroke-width:0.1;\"/>\n   </g>\n   <g id=\"patch_306\">\n    <path clip-path=\"url(#pdca89feece)\" d=\"M 535.816777 162.273044 \nL 537.963433 162.273044 \nL 537.963433 148.058524 \nL 535.816777 148.058524 \nz\n\" style=\"fill:url(#he6de91ee8a);stroke:#ffffff;stroke-linejoin:miter;stroke-width:0.1;\"/>\n   </g>\n   <g id=\"patch_307\">\n    <path clip-path=\"url(#pdca89feece)\" d=\"M 540.968751 162.273044 \nL 543.115407 162.273044 \nL 543.115407 158.719414 \nL 540.968751 158.719414 \nz\n\" style=\"fill:url(#he6de91ee8a);stroke:#ffffff;stroke-linejoin:miter;stroke-width:0.1;\"/>\n   </g>\n   <g id=\"patch_308\">\n    <path clip-path=\"url(#pdca89feece)\" d=\"M 546.120725 162.273044 \nL 548.267381 162.273044 \nL 548.267381 157.831007 \nL 546.120725 157.831007 \nz\n\" style=\"fill:url(#he6de91ee8a);stroke:#ffffff;stroke-linejoin:miter;stroke-width:0.1;\"/>\n   </g>\n   <g id=\"patch_309\">\n    <path clip-path=\"url(#pdca89feece)\" d=\"M 551.272699 162.273044 \nL 553.419354 162.273044 \nL 553.419354 161.384637 \nL 551.272699 161.384637 \nz\n\" style=\"fill:url(#he6de91ee8a);stroke:#ffffff;stroke-linejoin:miter;stroke-width:0.1;\"/>\n   </g>\n   <g id=\"matplotlib.axis_5\">\n    <g id=\"xtick_19\">\n     <g id=\"line2d_25\">\n      <g>\n       <use style=\"stroke:#000000;stroke-width:0.8;\" x=\"334.889801\" xlink:href=\"#mab22b3d465\" y=\"162.273044\"/>\n      </g>\n     </g>\n     <g id=\"text_19\">\n      <!-- Mar 01 -->\n      <g transform=\"translate(324.547812 199.232275)rotate(-45)scale(0.1 -0.1)\">\n       <use xlink:href=\"#DejaVuSans-77\"/>\n       <use x=\"86.279297\" xlink:href=\"#DejaVuSans-97\"/>\n       <use x=\"147.558594\" xlink:href=\"#DejaVuSans-114\"/>\n       <use x=\"188.671875\" xlink:href=\"#DejaVuSans-32\"/>\n       <use x=\"220.458984\" xlink:href=\"#DejaVuSans-48\"/>\n       <use x=\"284.082031\" xlink:href=\"#DejaVuSans-49\"/>\n      </g>\n     </g>\n    </g>\n    <g id=\"xtick_20\">\n     <g id=\"line2d_26\">\n      <g>\n       <use style=\"stroke:#000000;stroke-width:0.8;\" x=\"370.953618\" xlink:href=\"#mab22b3d465\" y=\"162.273044\"/>\n      </g>\n     </g>\n     <g id=\"text_20\">\n      <!-- Mar 08 -->\n      <g transform=\"translate(360.611628 199.232275)rotate(-45)scale(0.1 -0.1)\">\n       <use xlink:href=\"#DejaVuSans-77\"/>\n       <use x=\"86.279297\" xlink:href=\"#DejaVuSans-97\"/>\n       <use x=\"147.558594\" xlink:href=\"#DejaVuSans-114\"/>\n       <use x=\"188.671875\" xlink:href=\"#DejaVuSans-32\"/>\n       <use x=\"220.458984\" xlink:href=\"#DejaVuSans-48\"/>\n       <use x=\"284.082031\" xlink:href=\"#DejaVuSans-56\"/>\n      </g>\n     </g>\n    </g>\n    <g id=\"xtick_21\">\n     <g id=\"line2d_27\">\n      <g>\n       <use style=\"stroke:#000000;stroke-width:0.8;\" x=\"407.017434\" xlink:href=\"#mab22b3d465\" y=\"162.273044\"/>\n      </g>\n     </g>\n     <g id=\"text_21\">\n      <!-- Mar 15 -->\n      <g transform=\"translate(396.675445 199.232275)rotate(-45)scale(0.1 -0.1)\">\n       <use xlink:href=\"#DejaVuSans-77\"/>\n       <use x=\"86.279297\" xlink:href=\"#DejaVuSans-97\"/>\n       <use x=\"147.558594\" xlink:href=\"#DejaVuSans-114\"/>\n       <use x=\"188.671875\" xlink:href=\"#DejaVuSans-32\"/>\n       <use x=\"220.458984\" xlink:href=\"#DejaVuSans-49\"/>\n       <use x=\"284.082031\" xlink:href=\"#DejaVuSans-53\"/>\n      </g>\n     </g>\n    </g>\n    <g id=\"xtick_22\">\n     <g id=\"line2d_28\">\n      <g>\n       <use style=\"stroke:#000000;stroke-width:0.8;\" x=\"443.08125\" xlink:href=\"#mab22b3d465\" y=\"162.273044\"/>\n      </g>\n     </g>\n     <g id=\"text_22\">\n      <!-- Mar 22 -->\n      <g transform=\"translate(432.739261 199.232275)rotate(-45)scale(0.1 -0.1)\">\n       <use xlink:href=\"#DejaVuSans-77\"/>\n       <use x=\"86.279297\" xlink:href=\"#DejaVuSans-97\"/>\n       <use x=\"147.558594\" xlink:href=\"#DejaVuSans-114\"/>\n       <use x=\"188.671875\" xlink:href=\"#DejaVuSans-32\"/>\n       <use x=\"220.458984\" xlink:href=\"#DejaVuSans-50\"/>\n       <use x=\"284.082031\" xlink:href=\"#DejaVuSans-50\"/>\n      </g>\n     </g>\n    </g>\n    <g id=\"xtick_23\">\n     <g id=\"line2d_29\">\n      <g>\n       <use style=\"stroke:#000000;stroke-width:0.8;\" x=\"479.145066\" xlink:href=\"#mab22b3d465\" y=\"162.273044\"/>\n      </g>\n     </g>\n     <g id=\"text_23\">\n      <!-- Mar 29 -->\n      <g transform=\"translate(468.803077 199.232275)rotate(-45)scale(0.1 -0.1)\">\n       <use xlink:href=\"#DejaVuSans-77\"/>\n       <use x=\"86.279297\" xlink:href=\"#DejaVuSans-97\"/>\n       <use x=\"147.558594\" xlink:href=\"#DejaVuSans-114\"/>\n       <use x=\"188.671875\" xlink:href=\"#DejaVuSans-32\"/>\n       <use x=\"220.458984\" xlink:href=\"#DejaVuSans-50\"/>\n       <use x=\"284.082031\" xlink:href=\"#DejaVuSans-57\"/>\n      </g>\n     </g>\n    </g>\n    <g id=\"xtick_24\">\n     <g id=\"line2d_30\">\n      <g>\n       <use style=\"stroke:#000000;stroke-width:0.8;\" x=\"515.208882\" xlink:href=\"#mab22b3d465\" y=\"162.273044\"/>\n      </g>\n     </g>\n     <g id=\"text_24\">\n      <!-- Apr 05 -->\n      <g transform=\"translate(505.420978 198.124106)rotate(-45)scale(0.1 -0.1)\">\n       <use xlink:href=\"#DejaVuSans-65\"/>\n       <use x=\"68.408203\" xlink:href=\"#DejaVuSans-112\"/>\n       <use x=\"131.884766\" xlink:href=\"#DejaVuSans-114\"/>\n       <use x=\"172.998047\" xlink:href=\"#DejaVuSans-32\"/>\n       <use x=\"204.785156\" xlink:href=\"#DejaVuSans-48\"/>\n       <use x=\"268.408203\" xlink:href=\"#DejaVuSans-53\"/>\n      </g>\n     </g>\n    </g>\n    <g id=\"xtick_25\">\n     <g id=\"line2d_31\">\n      <g>\n       <use style=\"stroke:#000000;stroke-width:0.8;\" x=\"551.272699\" xlink:href=\"#mab22b3d465\" y=\"162.273044\"/>\n      </g>\n     </g>\n     <g id=\"text_25\">\n      <!-- Apr 12 -->\n      <g transform=\"translate(541.484794 198.124106)rotate(-45)scale(0.1 -0.1)\">\n       <use xlink:href=\"#DejaVuSans-65\"/>\n       <use x=\"68.408203\" xlink:href=\"#DejaVuSans-112\"/>\n       <use x=\"131.884766\" xlink:href=\"#DejaVuSans-114\"/>\n       <use x=\"172.998047\" xlink:href=\"#DejaVuSans-32\"/>\n       <use x=\"204.785156\" xlink:href=\"#DejaVuSans-49\"/>\n       <use x=\"268.408203\" xlink:href=\"#DejaVuSans-50\"/>\n      </g>\n     </g>\n    </g>\n   </g>\n   <g id=\"matplotlib.axis_6\">\n    <g id=\"ytick_7\">\n     <g id=\"line2d_32\">\n      <g>\n       <use style=\"stroke:#000000;stroke-width:0.8;\" x=\"321.709335\" xlink:href=\"#md3d2d8c597\" y=\"162.273044\"/>\n      </g>\n     </g>\n     <g id=\"text_26\">\n      <!-- 0 -->\n      <g transform=\"translate(308.346835 166.072263)scale(0.1 -0.1)\">\n       <use xlink:href=\"#DejaVuSans-48\"/>\n      </g>\n     </g>\n    </g>\n    <g id=\"ytick_8\">\n     <g id=\"line2d_33\">\n      <g>\n       <use style=\"stroke:#000000;stroke-width:0.8;\" x=\"321.709335\" xlink:href=\"#md3d2d8c597\" y=\"140.062857\"/>\n      </g>\n     </g>\n     <g id=\"text_27\">\n      <!-- 25 -->\n      <g transform=\"translate(301.984335 143.862075)scale(0.1 -0.1)\">\n       <use xlink:href=\"#DejaVuSans-50\"/>\n       <use x=\"63.623047\" xlink:href=\"#DejaVuSans-53\"/>\n      </g>\n     </g>\n    </g>\n    <g id=\"ytick_9\">\n     <g id=\"line2d_34\">\n      <g>\n       <use style=\"stroke:#000000;stroke-width:0.8;\" x=\"321.709335\" xlink:href=\"#md3d2d8c597\" y=\"117.852669\"/>\n      </g>\n     </g>\n     <g id=\"text_28\">\n      <!-- 50 -->\n      <g transform=\"translate(301.984335 121.651888)scale(0.1 -0.1)\">\n       <use xlink:href=\"#DejaVuSans-53\"/>\n       <use x=\"63.623047\" xlink:href=\"#DejaVuSans-48\"/>\n      </g>\n     </g>\n    </g>\n    <g id=\"ytick_10\">\n     <g id=\"line2d_35\">\n      <g>\n       <use style=\"stroke:#000000;stroke-width:0.8;\" x=\"321.709335\" xlink:href=\"#md3d2d8c597\" y=\"95.642482\"/>\n      </g>\n     </g>\n     <g id=\"text_29\">\n      <!-- 75 -->\n      <g transform=\"translate(301.984335 99.4417)scale(0.1 -0.1)\">\n       <use xlink:href=\"#DejaVuSans-55\"/>\n       <use x=\"63.623047\" xlink:href=\"#DejaVuSans-53\"/>\n      </g>\n     </g>\n    </g>\n    <g id=\"ytick_11\">\n     <g id=\"line2d_36\">\n      <g>\n       <use style=\"stroke:#000000;stroke-width:0.8;\" x=\"321.709335\" xlink:href=\"#md3d2d8c597\" y=\"73.432294\"/>\n      </g>\n     </g>\n     <g id=\"text_30\">\n      <!-- 100 -->\n      <g transform=\"translate(295.621835 77.231513)scale(0.1 -0.1)\">\n       <use xlink:href=\"#DejaVuSans-49\"/>\n       <use x=\"63.623047\" xlink:href=\"#DejaVuSans-48\"/>\n       <use x=\"127.246094\" xlink:href=\"#DejaVuSans-48\"/>\n      </g>\n     </g>\n    </g>\n    <g id=\"ytick_12\">\n     <g id=\"line2d_37\">\n      <g>\n       <use style=\"stroke:#000000;stroke-width:0.8;\" x=\"321.709335\" xlink:href=\"#md3d2d8c597\" y=\"51.222106\"/>\n      </g>\n     </g>\n     <g id=\"text_31\">\n      <!-- 125 -->\n      <g transform=\"translate(295.621835 55.021325)scale(0.1 -0.1)\">\n       <use xlink:href=\"#DejaVuSans-49\"/>\n       <use x=\"63.623047\" xlink:href=\"#DejaVuSans-50\"/>\n       <use x=\"127.246094\" xlink:href=\"#DejaVuSans-53\"/>\n      </g>\n     </g>\n    </g>\n   </g>\n   <g id=\"patch_310\">\n    <path d=\"M 321.709335 162.273044 \nL 321.709335 34.475625 \n\" style=\"fill:none;stroke:#000000;stroke-linecap:square;stroke-linejoin:miter;stroke-width:0.8;\"/>\n   </g>\n   <g id=\"patch_311\">\n    <path d=\"M 564.453165 162.273044 \nL 564.453165 34.475625 \n\" style=\"fill:none;stroke:#000000;stroke-linecap:square;stroke-linejoin:miter;stroke-width:0.8;\"/>\n   </g>\n   <g id=\"patch_312\">\n    <path d=\"M 321.709335 162.273044 \nL 564.453165 162.273044 \n\" style=\"fill:none;stroke:#000000;stroke-linecap:square;stroke-linejoin:miter;stroke-width:0.8;\"/>\n   </g>\n   <g id=\"patch_313\">\n    <path d=\"M 321.709335 34.475625 \nL 564.453165 34.475625 \n\" style=\"fill:none;stroke:#000000;stroke-linecap:square;stroke-linejoin:miter;stroke-width:0.8;\"/>\n   </g>\n   <g id=\"text_32\">\n    <!-- New South Wales -->\n    <g transform=\"translate(382.35625 28.475625)scale(0.14 -0.14)\">\n     <defs>\n      <path d=\"M 9.8125 72.90625 \nL 23.09375 72.90625 \nL 55.421875 11.921875 \nL 55.421875 72.90625 \nL 64.984375 72.90625 \nL 64.984375 0 \nL 51.703125 0 \nL 19.390625 60.984375 \nL 19.390625 0 \nL 9.8125 0 \nz\n\" id=\"DejaVuSans-78\"/>\n      <path d=\"M 4.203125 54.6875 \nL 13.1875 54.6875 \nL 24.421875 12.015625 \nL 35.59375 54.6875 \nL 46.1875 54.6875 \nL 57.421875 12.015625 \nL 68.609375 54.6875 \nL 77.59375 54.6875 \nL 63.28125 0 \nL 52.6875 0 \nL 40.921875 44.828125 \nL 29.109375 0 \nL 18.5 0 \nz\n\" id=\"DejaVuSans-119\"/>\n      <path d=\"M 53.515625 70.515625 \nL 53.515625 60.890625 \nQ 47.90625 63.578125 42.921875 64.890625 \nQ 37.9375 66.21875 33.296875 66.21875 \nQ 25.25 66.21875 20.875 63.09375 \nQ 16.5 59.96875 16.5 54.203125 \nQ 16.5 49.359375 19.40625 46.890625 \nQ 22.3125 44.4375 30.421875 42.921875 \nL 36.375 41.703125 \nQ 47.40625 39.59375 52.65625 34.296875 \nQ 57.90625 29 57.90625 20.125 \nQ 57.90625 9.515625 50.796875 4.046875 \nQ 43.703125 -1.421875 29.984375 -1.421875 \nQ 24.8125 -1.421875 18.96875 -0.25 \nQ 13.140625 0.921875 6.890625 3.21875 \nL 6.890625 13.375 \nQ 12.890625 10.015625 18.65625 8.296875 \nQ 24.421875 6.59375 29.984375 6.59375 \nQ 38.421875 6.59375 43.015625 9.90625 \nQ 47.609375 13.234375 47.609375 19.390625 \nQ 47.609375 24.75 44.3125 27.78125 \nQ 41.015625 30.8125 33.5 32.328125 \nL 27.484375 33.5 \nQ 16.453125 35.6875 11.515625 40.375 \nQ 6.59375 45.0625 6.59375 53.421875 \nQ 6.59375 63.09375 13.40625 68.65625 \nQ 20.21875 74.21875 32.171875 74.21875 \nQ 37.3125 74.21875 42.625 73.28125 \nQ 47.953125 72.359375 53.515625 70.515625 \nz\n\" id=\"DejaVuSans-83\"/>\n      <path d=\"M 8.5 21.578125 \nL 8.5 54.6875 \nL 17.484375 54.6875 \nL 17.484375 21.921875 \nQ 17.484375 14.15625 20.5 10.265625 \nQ 23.53125 6.390625 29.59375 6.390625 \nQ 36.859375 6.390625 41.078125 11.03125 \nQ 45.3125 15.671875 45.3125 23.6875 \nL 45.3125 54.6875 \nL 54.296875 54.6875 \nL 54.296875 0 \nL 45.3125 0 \nL 45.3125 8.40625 \nQ 42.046875 3.421875 37.71875 1 \nQ 33.40625 -1.421875 27.6875 -1.421875 \nQ 18.265625 -1.421875 13.375 4.4375 \nQ 8.5 10.296875 8.5 21.578125 \nz\nM 31.109375 56 \nz\n\" id=\"DejaVuSans-117\"/>\n      <path d=\"M 54.890625 33.015625 \nL 54.890625 0 \nL 45.90625 0 \nL 45.90625 32.71875 \nQ 45.90625 40.484375 42.875 44.328125 \nQ 39.84375 48.1875 33.796875 48.1875 \nQ 26.515625 48.1875 22.3125 43.546875 \nQ 18.109375 38.921875 18.109375 30.90625 \nL 18.109375 0 \nL 9.078125 0 \nL 9.078125 75.984375 \nL 18.109375 75.984375 \nL 18.109375 46.1875 \nQ 21.34375 51.125 25.703125 53.5625 \nQ 30.078125 56 35.796875 56 \nQ 45.21875 56 50.046875 50.171875 \nQ 54.890625 44.34375 54.890625 33.015625 \nz\n\" id=\"DejaVuSans-104\"/>\n      <path d=\"M 3.328125 72.90625 \nL 13.28125 72.90625 \nL 28.609375 11.28125 \nL 43.890625 72.90625 \nL 54.984375 72.90625 \nL 70.3125 11.28125 \nL 85.59375 72.90625 \nL 95.609375 72.90625 \nL 77.296875 0 \nL 64.890625 0 \nL 49.515625 63.28125 \nL 33.984375 0 \nL 21.578125 0 \nz\n\" id=\"DejaVuSans-87\"/>\n     </defs>\n     <use xlink:href=\"#DejaVuSans-78\"/>\n     <use x=\"74.804688\" xlink:href=\"#DejaVuSans-101\"/>\n     <use x=\"136.328125\" xlink:href=\"#DejaVuSans-119\"/>\n     <use x=\"218.115234\" xlink:href=\"#DejaVuSans-32\"/>\n     <use x=\"249.902344\" xlink:href=\"#DejaVuSans-83\"/>\n     <use x=\"313.378906\" xlink:href=\"#DejaVuSans-111\"/>\n     <use x=\"374.560547\" xlink:href=\"#DejaVuSans-117\"/>\n     <use x=\"437.939453\" xlink:href=\"#DejaVuSans-116\"/>\n     <use x=\"477.148438\" xlink:href=\"#DejaVuSans-104\"/>\n     <use x=\"540.527344\" xlink:href=\"#DejaVuSans-32\"/>\n     <use x=\"572.314453\" xlink:href=\"#DejaVuSans-87\"/>\n     <use x=\"664.816406\" xlink:href=\"#DejaVuSans-97\"/>\n     <use x=\"726.095703\" xlink:href=\"#DejaVuSans-108\"/>\n     <use x=\"753.878906\" xlink:href=\"#DejaVuSans-101\"/>\n     <use x=\"815.402344\" xlink:href=\"#DejaVuSans-115\"/>\n    </g>\n   </g>\n  </g>\n  <g id=\"axes_4\">\n   <g id=\"patch_314\">\n    <path d=\"M 606.85617 162.273044 \nL 849.6 162.273044 \nL 849.6 34.475625 \nL 606.85617 34.475625 \nz\n\" style=\"fill:#ffffff;\"/>\n   </g>\n   <g id=\"patch_315\">\n    <path clip-path=\"url(#p706cbb6e98)\" d=\"M 617.889981 162.273044 \nL 619.987663 162.273044 \nL 619.987663 162.273044 \nL 617.889981 162.273044 \nz\n\" style=\"opacity:0.8;\"/>\n   </g>\n   <g id=\"patch_316\">\n    <path clip-path=\"url(#p706cbb6e98)\" d=\"M 622.924419 162.273044 \nL 625.022102 162.273044 \nL 625.022102 162.273044 \nL 622.924419 162.273044 \nz\n\" style=\"opacity:0.8;\"/>\n   </g>\n   <g id=\"patch_317\">\n    <path clip-path=\"url(#p706cbb6e98)\" d=\"M 627.958857 162.273044 \nL 630.05654 162.273044 \nL 630.05654 162.273044 \nL 627.958857 162.273044 \nz\n\" style=\"opacity:0.8;\"/>\n   </g>\n   <g id=\"patch_318\">\n    <path clip-path=\"url(#p706cbb6e98)\" d=\"M 632.993295 162.273044 \nL 635.090978 162.273044 \nL 635.090978 162.273044 \nL 632.993295 162.273044 \nz\n\" style=\"opacity:0.8;\"/>\n   </g>\n   <g id=\"patch_319\">\n    <path clip-path=\"url(#p706cbb6e98)\" d=\"M 638.027734 162.273044 \nL 640.125416 162.273044 \nL 640.125416 162.273044 \nL 638.027734 162.273044 \nz\n\" style=\"opacity:0.8;\"/>\n   </g>\n   <g id=\"patch_320\">\n    <path clip-path=\"url(#p706cbb6e98)\" d=\"M 643.062172 162.273044 \nL 645.159854 162.273044 \nL 645.159854 162.273044 \nL 643.062172 162.273044 \nz\n\" style=\"opacity:0.8;\"/>\n   </g>\n   <g id=\"patch_321\">\n    <path clip-path=\"url(#p706cbb6e98)\" d=\"M 648.09661 162.273044 \nL 650.194293 162.273044 \nL 650.194293 162.273044 \nL 648.09661 162.273044 \nz\n\" style=\"opacity:0.8;\"/>\n   </g>\n   <g id=\"patch_322\">\n    <path clip-path=\"url(#p706cbb6e98)\" d=\"M 653.131048 162.273044 \nL 655.228731 162.273044 \nL 655.228731 158.002454 \nL 653.131048 158.002454 \nz\n\" style=\"opacity:0.8;\"/>\n   </g>\n   <g id=\"patch_323\">\n    <path clip-path=\"url(#p706cbb6e98)\" d=\"M 658.165487 162.273044 \nL 660.263169 162.273044 \nL 660.263169 158.002454 \nL 658.165487 158.002454 \nz\n\" style=\"opacity:0.8;\"/>\n   </g>\n   <g id=\"patch_324\">\n    <path clip-path=\"url(#p706cbb6e98)\" d=\"M 663.199925 162.273044 \nL 665.297607 162.273044 \nL 665.297607 158.002454 \nL 663.199925 158.002454 \nz\n\" style=\"opacity:0.8;\"/>\n   </g>\n   <g id=\"patch_325\">\n    <path clip-path=\"url(#p706cbb6e98)\" d=\"M 668.234363 162.273044 \nL 670.332046 162.273044 \nL 670.332046 153.731863 \nL 668.234363 153.731863 \nz\n\" style=\"opacity:0.8;\"/>\n   </g>\n   <g id=\"patch_326\">\n    <path clip-path=\"url(#p706cbb6e98)\" d=\"M 673.268801 162.273044 \nL 675.366484 162.273044 \nL 675.366484 138.784797 \nL 673.268801 138.784797 \nz\n\" style=\"opacity:0.8;\"/>\n   </g>\n   <g id=\"patch_327\">\n    <path clip-path=\"url(#p706cbb6e98)\" d=\"M 678.303239 162.273044 \nL 680.400922 162.273044 \nL 680.400922 155.867159 \nL 678.303239 155.867159 \nz\n\" style=\"opacity:0.8;\"/>\n   </g>\n   <g id=\"patch_328\">\n    <path clip-path=\"url(#p706cbb6e98)\" d=\"M 683.337678 162.273044 \nL 685.43536 162.273044 \nL 685.43536 153.731863 \nL 683.337678 153.731863 \nz\n\" style=\"opacity:0.8;\"/>\n   </g>\n   <g id=\"patch_329\">\n    <path clip-path=\"url(#p706cbb6e98)\" d=\"M 688.372116 162.273044 \nL 690.469798 162.273044 \nL 690.469798 155.867159 \nL 688.372116 155.867159 \nz\n\" style=\"opacity:0.8;\"/>\n   </g>\n   <g id=\"patch_330\">\n    <path clip-path=\"url(#p706cbb6e98)\" d=\"M 693.406554 162.273044 \nL 695.504237 162.273044 \nL 695.504237 149.461273 \nL 693.406554 149.461273 \nz\n\" style=\"opacity:0.8;\"/>\n   </g>\n   <g id=\"patch_331\">\n    <path clip-path=\"url(#p706cbb6e98)\" d=\"M 698.440992 162.273044 \nL 700.538675 162.273044 \nL 700.538675 138.784797 \nL 698.440992 138.784797 \nz\n\" style=\"opacity:0.8;\"/>\n   </g>\n   <g id=\"patch_332\">\n    <path clip-path=\"url(#p706cbb6e98)\" d=\"M 703.475431 162.273044 \nL 705.573113 162.273044 \nL 705.573113 125.973025 \nL 703.475431 125.973025 \nz\n\" style=\"opacity:0.8;\"/>\n   </g>\n   <g id=\"patch_333\">\n    <path clip-path=\"url(#p706cbb6e98)\" d=\"M 708.509869 162.273044 \nL 710.607551 162.273044 \nL 710.607551 140.920092 \nL 708.509869 140.920092 \nz\n\" style=\"opacity:0.8;\"/>\n   </g>\n   <g id=\"patch_334\">\n    <path clip-path=\"url(#p706cbb6e98)\" d=\"M 713.544307 162.273044 \nL 715.64199 162.273044 \nL 715.64199 125.973025 \nL 713.544307 125.973025 \nz\n\" style=\"opacity:0.8;\"/>\n   </g>\n   <g id=\"patch_335\">\n    <path clip-path=\"url(#p706cbb6e98)\" d=\"M 718.578745 162.273044 \nL 720.676428 162.273044 \nL 720.676428 85.402416 \nL 718.578745 85.402416 \nz\n\" style=\"opacity:0.8;\"/>\n   </g>\n   <g id=\"patch_336\">\n    <path clip-path=\"url(#p706cbb6e98)\" d=\"M 723.613183 162.273044 \nL 725.710866 162.273044 \nL 725.710866 53.372988 \nL 723.613183 53.372988 \nz\n\" style=\"opacity:0.8;\"/>\n   </g>\n   <g id=\"patch_337\">\n    <path clip-path=\"url(#p706cbb6e98)\" d=\"M 728.647622 162.273044 \nL 730.745304 162.273044 \nL 730.745304 68.320054 \nL 728.647622 68.320054 \nz\n\" style=\"opacity:0.8;\"/>\n   </g>\n   <g id=\"patch_338\">\n    <path clip-path=\"url(#p706cbb6e98)\" d=\"M 733.68206 162.273044 \nL 735.779742 162.273044 \nL 735.779742 59.778873 \nL 733.68206 59.778873 \nz\n\" style=\"opacity:0.8;\"/>\n   </g>\n   <g id=\"patch_339\">\n    <path clip-path=\"url(#p706cbb6e98)\" d=\"M 738.716498 162.273044 \nL 740.814181 162.273044 \nL 740.814181 53.372988 \nL 738.716498 53.372988 \nz\n\" style=\"opacity:0.8;\"/>\n   </g>\n   <g id=\"patch_340\">\n    <path clip-path=\"url(#p706cbb6e98)\" d=\"M 743.750936 162.273044 \nL 745.848619 162.273044 \nL 745.848619 104.620073 \nL 743.750936 104.620073 \nz\n\" style=\"opacity:0.8;\"/>\n   </g>\n   <g id=\"patch_341\">\n    <path clip-path=\"url(#p706cbb6e98)\" d=\"M 748.785375 162.273044 \nL 750.883057 162.273044 \nL 750.883057 40.561216 \nL 748.785375 40.561216 \nz\n\" style=\"opacity:0.8;\"/>\n   </g>\n   <g id=\"patch_342\">\n    <path clip-path=\"url(#p706cbb6e98)\" d=\"M 753.819813 162.273044 \nL 755.917495 162.273044 \nL 755.917495 78.99653 \nL 753.819813 78.99653 \nz\n\" style=\"opacity:0.8;\"/>\n   </g>\n   <g id=\"patch_343\">\n    <path clip-path=\"url(#p706cbb6e98)\" d=\"M 758.854251 162.273044 \nL 760.951934 162.273044 \nL 760.951934 57.643578 \nL 758.854251 57.643578 \nz\n\" style=\"opacity:0.8;\"/>\n   </g>\n   <g id=\"patch_344\">\n    <path clip-path=\"url(#p706cbb6e98)\" d=\"M 763.888689 162.273044 \nL 765.986372 162.273044 \nL 765.986372 68.320054 \nL 763.888689 68.320054 \nz\n\" style=\"opacity:0.8;\"/>\n   </g>\n   <g id=\"patch_345\">\n    <path clip-path=\"url(#p706cbb6e98)\" d=\"M 768.923127 162.273044 \nL 771.02081 162.273044 \nL 771.02081 91.808302 \nL 768.923127 91.808302 \nz\n\" style=\"opacity:0.8;\"/>\n   </g>\n   <g id=\"patch_346\">\n    <path clip-path=\"url(#p706cbb6e98)\" d=\"M 773.957566 162.273044 \nL 776.055248 162.273044 \nL 776.055248 96.078892 \nL 773.957566 96.078892 \nz\n\" style=\"opacity:0.8;\"/>\n   </g>\n   <g id=\"patch_347\">\n    <path clip-path=\"url(#p706cbb6e98)\" d=\"M 778.992004 162.273044 \nL 781.089686 162.273044 \nL 781.089686 78.99653 \nL 778.992004 78.99653 \nz\n\" style=\"opacity:0.8;\"/>\n   </g>\n   <g id=\"patch_348\">\n    <path clip-path=\"url(#p706cbb6e98)\" d=\"M 784.026442 162.273044 \nL 786.124125 162.273044 \nL 786.124125 134.514206 \nL 784.026442 134.514206 \nz\n\" style=\"opacity:0.8;\"/>\n   </g>\n   <g id=\"patch_349\">\n    <path clip-path=\"url(#p706cbb6e98)\" d=\"M 789.06088 162.273044 \nL 791.158563 162.273044 \nL 791.158563 98.214188 \nL 789.06088 98.214188 \nz\n\" style=\"opacity:0.8;\"/>\n   </g>\n   <g id=\"patch_350\">\n    <path clip-path=\"url(#p706cbb6e98)\" d=\"M 794.095319 162.273044 \nL 796.193001 162.273044 \nL 796.193001 121.702435 \nL 794.095319 121.702435 \nz\n\" style=\"opacity:0.8;\"/>\n   </g>\n   <g id=\"patch_351\">\n    <path clip-path=\"url(#p706cbb6e98)\" d=\"M 799.129757 162.273044 \nL 801.227439 162.273044 \nL 801.227439 96.078892 \nL 799.129757 96.078892 \nz\n\" style=\"opacity:0.8;\"/>\n   </g>\n   <g id=\"patch_352\">\n    <path clip-path=\"url(#p706cbb6e98)\" d=\"M 804.164195 162.273044 \nL 806.261878 162.273044 \nL 806.261878 125.973025 \nL 804.164195 125.973025 \nz\n\" style=\"opacity:0.8;\"/>\n   </g>\n   <g id=\"patch_353\">\n    <path clip-path=\"url(#p706cbb6e98)\" d=\"M 809.198633 162.273044 \nL 811.296316 162.273044 \nL 811.296316 136.649502 \nL 809.198633 136.649502 \nz\n\" style=\"opacity:0.8;\"/>\n   </g>\n   <g id=\"patch_354\">\n    <path clip-path=\"url(#p706cbb6e98)\" d=\"M 814.233071 162.273044 \nL 816.330754 162.273044 \nL 816.330754 143.055387 \nL 814.233071 143.055387 \nz\n\" style=\"opacity:0.8;\"/>\n   </g>\n   <g id=\"patch_355\">\n    <path clip-path=\"url(#p706cbb6e98)\" d=\"M 819.26751 162.273044 \nL 821.365192 162.273044 \nL 821.365192 89.673007 \nL 819.26751 89.673007 \nz\n\" style=\"opacity:0.8;\"/>\n   </g>\n   <g id=\"patch_356\">\n    <path clip-path=\"url(#p706cbb6e98)\" d=\"M 824.301948 162.273044 \nL 826.399631 162.273044 \nL 826.399631 160.137749 \nL 824.301948 160.137749 \nz\n\" style=\"opacity:0.8;\"/>\n   </g>\n   <g id=\"patch_357\">\n    <path clip-path=\"url(#p706cbb6e98)\" d=\"M 829.336386 162.273044 \nL 831.434069 162.273044 \nL 831.434069 158.002454 \nL 829.336386 158.002454 \nz\n\" style=\"opacity:0.8;\"/>\n   </g>\n   <g id=\"patch_358\">\n    <path clip-path=\"url(#p706cbb6e98)\" d=\"M 834.370824 162.273044 \nL 836.468507 162.273044 \nL 836.468507 158.002454 \nL 834.370824 158.002454 \nz\n\" style=\"opacity:0.8;\"/>\n   </g>\n   <g id=\"patch_359\">\n    <path clip-path=\"url(#p706cbb6e98)\" d=\"M 619.987663 162.273044 \nL 622.085346 162.273044 \nL 622.085346 158.002454 \nL 619.987663 158.002454 \nz\n\" style=\"fill:url(#he6de91ee8a);stroke:#ffffff;stroke-linejoin:miter;stroke-width:0.1;\"/>\n   </g>\n   <g id=\"patch_360\">\n    <path clip-path=\"url(#p706cbb6e98)\" d=\"M 625.022102 162.273044 \nL 627.119784 162.273044 \nL 627.119784 162.273044 \nL 625.022102 162.273044 \nz\n\" style=\"fill:url(#he6de91ee8a);stroke:#ffffff;stroke-linejoin:miter;stroke-width:0.1;\"/>\n   </g>\n   <g id=\"patch_361\">\n    <path clip-path=\"url(#p706cbb6e98)\" d=\"M 630.05654 162.273044 \nL 632.154222 162.273044 \nL 632.154222 160.137749 \nL 630.05654 160.137749 \nz\n\" style=\"fill:url(#he6de91ee8a);stroke:#ffffff;stroke-linejoin:miter;stroke-width:0.1;\"/>\n   </g>\n   <g id=\"patch_362\">\n    <path clip-path=\"url(#p706cbb6e98)\" d=\"M 635.090978 162.273044 \nL 637.188661 162.273044 \nL 637.188661 162.273044 \nL 635.090978 162.273044 \nz\n\" style=\"fill:url(#he6de91ee8a);stroke:#ffffff;stroke-linejoin:miter;stroke-width:0.1;\"/>\n   </g>\n   <g id=\"patch_363\">\n    <path clip-path=\"url(#p706cbb6e98)\" d=\"M 640.125416 162.273044 \nL 642.223099 162.273044 \nL 642.223099 162.273044 \nL 640.125416 162.273044 \nz\n\" style=\"fill:url(#he6de91ee8a);stroke:#ffffff;stroke-linejoin:miter;stroke-width:0.1;\"/>\n   </g>\n   <g id=\"patch_364\">\n    <path clip-path=\"url(#p706cbb6e98)\" d=\"M 645.159854 162.273044 \nL 647.257537 162.273044 \nL 647.257537 158.002454 \nL 645.159854 158.002454 \nz\n\" style=\"fill:url(#he6de91ee8a);stroke:#ffffff;stroke-linejoin:miter;stroke-width:0.1;\"/>\n   </g>\n   <g id=\"patch_365\">\n    <path clip-path=\"url(#p706cbb6e98)\" d=\"M 650.194293 162.273044 \nL 652.291975 162.273044 \nL 652.291975 160.137749 \nL 650.194293 160.137749 \nz\n\" style=\"fill:url(#he6de91ee8a);stroke:#ffffff;stroke-linejoin:miter;stroke-width:0.1;\"/>\n   </g>\n   <g id=\"patch_366\">\n    <path clip-path=\"url(#p706cbb6e98)\" d=\"M 655.228731 162.273044 \nL 657.326413 162.273044 \nL 657.326413 160.137749 \nL 655.228731 160.137749 \nz\n\" style=\"fill:url(#he6de91ee8a);stroke:#ffffff;stroke-linejoin:miter;stroke-width:0.1;\"/>\n   </g>\n   <g id=\"patch_367\">\n    <path clip-path=\"url(#p706cbb6e98)\" d=\"M 660.263169 162.273044 \nL 662.360852 162.273044 \nL 662.360852 155.867159 \nL 660.263169 155.867159 \nz\n\" style=\"fill:url(#he6de91ee8a);stroke:#ffffff;stroke-linejoin:miter;stroke-width:0.1;\"/>\n   </g>\n   <g id=\"patch_368\">\n    <path clip-path=\"url(#p706cbb6e98)\" d=\"M 665.297607 162.273044 \nL 667.39529 162.273044 \nL 667.39529 160.137749 \nL 665.297607 160.137749 \nz\n\" style=\"fill:url(#he6de91ee8a);stroke:#ffffff;stroke-linejoin:miter;stroke-width:0.1;\"/>\n   </g>\n   <g id=\"patch_369\">\n    <path clip-path=\"url(#p706cbb6e98)\" d=\"M 670.332046 162.273044 \nL 672.429728 162.273044 \nL 672.429728 160.137749 \nL 670.332046 160.137749 \nz\n\" style=\"fill:url(#he6de91ee8a);stroke:#ffffff;stroke-linejoin:miter;stroke-width:0.1;\"/>\n   </g>\n   <g id=\"patch_370\">\n    <path clip-path=\"url(#p706cbb6e98)\" d=\"M 675.366484 162.273044 \nL 677.464166 162.273044 \nL 677.464166 151.596568 \nL 675.366484 151.596568 \nz\n\" style=\"fill:url(#he6de91ee8a);stroke:#ffffff;stroke-linejoin:miter;stroke-width:0.1;\"/>\n   </g>\n   <g id=\"patch_371\">\n    <path clip-path=\"url(#p706cbb6e98)\" d=\"M 680.400922 162.273044 \nL 682.498605 162.273044 \nL 682.498605 143.055387 \nL 680.400922 143.055387 \nz\n\" style=\"fill:url(#he6de91ee8a);stroke:#ffffff;stroke-linejoin:miter;stroke-width:0.1;\"/>\n   </g>\n   <g id=\"patch_372\">\n    <path clip-path=\"url(#p706cbb6e98)\" d=\"M 685.43536 162.273044 \nL 687.533043 162.273044 \nL 687.533043 153.731863 \nL 685.43536 153.731863 \nz\n\" style=\"fill:url(#he6de91ee8a);stroke:#ffffff;stroke-linejoin:miter;stroke-width:0.1;\"/>\n   </g>\n   <g id=\"patch_373\">\n    <path clip-path=\"url(#p706cbb6e98)\" d=\"M 690.469798 162.273044 \nL 692.567481 162.273044 \nL 692.567481 153.731863 \nL 690.469798 153.731863 \nz\n\" style=\"fill:url(#he6de91ee8a);stroke:#ffffff;stroke-linejoin:miter;stroke-width:0.1;\"/>\n   </g>\n   <g id=\"patch_374\">\n    <path clip-path=\"url(#p706cbb6e98)\" d=\"M 695.504237 162.273044 \nL 697.601919 162.273044 \nL 697.601919 136.649502 \nL 695.504237 136.649502 \nz\n\" style=\"fill:url(#he6de91ee8a);stroke:#ffffff;stroke-linejoin:miter;stroke-width:0.1;\"/>\n   </g>\n   <g id=\"patch_375\">\n    <path clip-path=\"url(#p706cbb6e98)\" d=\"M 700.538675 162.273044 \nL 702.636357 162.273044 \nL 702.636357 111.025959 \nL 700.538675 111.025959 \nz\n\" style=\"fill:url(#he6de91ee8a);stroke:#ffffff;stroke-linejoin:miter;stroke-width:0.1;\"/>\n   </g>\n   <g id=\"patch_376\">\n    <path clip-path=\"url(#p706cbb6e98)\" d=\"M 705.573113 162.273044 \nL 707.670796 162.273044 \nL 707.670796 128.108321 \nL 705.573113 128.108321 \nz\n\" style=\"fill:url(#he6de91ee8a);stroke:#ffffff;stroke-linejoin:miter;stroke-width:0.1;\"/>\n   </g>\n   <g id=\"patch_377\">\n    <path clip-path=\"url(#p706cbb6e98)\" d=\"M 710.607551 162.273044 \nL 712.705234 162.273044 \nL 712.705234 113.161254 \nL 710.607551 113.161254 \nz\n\" style=\"fill:url(#he6de91ee8a);stroke:#ffffff;stroke-linejoin:miter;stroke-width:0.1;\"/>\n   </g>\n   <g id=\"patch_378\">\n    <path clip-path=\"url(#p706cbb6e98)\" d=\"M 715.64199 162.273044 \nL 717.739672 162.273044 \nL 717.739672 117.431845 \nL 715.64199 117.431845 \nz\n\" style=\"fill:url(#he6de91ee8a);stroke:#ffffff;stroke-linejoin:miter;stroke-width:0.1;\"/>\n   </g>\n   <g id=\"patch_379\">\n    <path clip-path=\"url(#p706cbb6e98)\" d=\"M 720.676428 162.273044 \nL 722.77411 162.273044 \nL 722.77411 119.56714 \nL 720.676428 119.56714 \nz\n\" style=\"fill:url(#he6de91ee8a);stroke:#ffffff;stroke-linejoin:miter;stroke-width:0.1;\"/>\n   </g>\n   <g id=\"patch_380\">\n    <path clip-path=\"url(#p706cbb6e98)\" d=\"M 725.710866 162.273044 \nL 727.808549 162.273044 \nL 727.808549 93.943597 \nL 725.710866 93.943597 \nz\n\" style=\"fill:url(#he6de91ee8a);stroke:#ffffff;stroke-linejoin:miter;stroke-width:0.1;\"/>\n   </g>\n   <g id=\"patch_381\">\n    <path clip-path=\"url(#p706cbb6e98)\" d=\"M 730.745304 162.273044 \nL 732.842987 162.273044 \nL 732.842987 125.973025 \nL 730.745304 125.973025 \nz\n\" style=\"fill:url(#he6de91ee8a);stroke:#ffffff;stroke-linejoin:miter;stroke-width:0.1;\"/>\n   </g>\n   <g id=\"patch_382\">\n    <path clip-path=\"url(#p706cbb6e98)\" d=\"M 735.779742 162.273044 \nL 737.877425 162.273044 \nL 737.877425 130.243616 \nL 735.779742 130.243616 \nz\n\" style=\"fill:url(#he6de91ee8a);stroke:#ffffff;stroke-linejoin:miter;stroke-width:0.1;\"/>\n   </g>\n   <g id=\"patch_383\">\n    <path clip-path=\"url(#p706cbb6e98)\" d=\"M 740.814181 162.273044 \nL 742.911863 162.273044 \nL 742.911863 108.890664 \nL 740.814181 108.890664 \nz\n\" style=\"fill:url(#he6de91ee8a);stroke:#ffffff;stroke-linejoin:miter;stroke-width:0.1;\"/>\n   </g>\n   <g id=\"patch_384\">\n    <path clip-path=\"url(#p706cbb6e98)\" d=\"M 745.848619 162.273044 \nL 747.946302 162.273044 \nL 747.946302 106.755368 \nL 745.848619 106.755368 \nz\n\" style=\"fill:url(#he6de91ee8a);stroke:#ffffff;stroke-linejoin:miter;stroke-width:0.1;\"/>\n   </g>\n   <g id=\"patch_385\">\n    <path clip-path=\"url(#p706cbb6e98)\" d=\"M 750.883057 162.273044 \nL 752.98074 162.273044 \nL 752.98074 53.372988 \nL 750.883057 53.372988 \nz\n\" style=\"fill:url(#he6de91ee8a);stroke:#ffffff;stroke-linejoin:miter;stroke-width:0.1;\"/>\n   </g>\n   <g id=\"patch_386\">\n    <path clip-path=\"url(#p706cbb6e98)\" d=\"M 755.917495 162.273044 \nL 758.015178 162.273044 \nL 758.015178 111.025959 \nL 755.917495 111.025959 \nz\n\" style=\"fill:url(#he6de91ee8a);stroke:#ffffff;stroke-linejoin:miter;stroke-width:0.1;\"/>\n   </g>\n   <g id=\"patch_387\">\n    <path clip-path=\"url(#p706cbb6e98)\" d=\"M 760.951934 162.273044 \nL 763.049616 162.273044 \nL 763.049616 119.56714 \nL 760.951934 119.56714 \nz\n\" style=\"fill:url(#he6de91ee8a);stroke:#ffffff;stroke-linejoin:miter;stroke-width:0.1;\"/>\n   </g>\n   <g id=\"patch_388\">\n    <path clip-path=\"url(#p706cbb6e98)\" d=\"M 765.986372 162.273044 \nL 768.084054 162.273044 \nL 768.084054 113.161254 \nL 765.986372 113.161254 \nz\n\" style=\"fill:url(#he6de91ee8a);stroke:#ffffff;stroke-linejoin:miter;stroke-width:0.1;\"/>\n   </g>\n   <g id=\"patch_389\">\n    <path clip-path=\"url(#p706cbb6e98)\" d=\"M 771.02081 162.273044 \nL 773.118493 162.273044 \nL 773.118493 123.83773 \nL 771.02081 123.83773 \nz\n\" style=\"fill:url(#he6de91ee8a);stroke:#ffffff;stroke-linejoin:miter;stroke-width:0.1;\"/>\n   </g>\n   <g id=\"patch_390\">\n    <path clip-path=\"url(#p706cbb6e98)\" d=\"M 776.055248 162.273044 \nL 778.152931 162.273044 \nL 778.152931 134.514206 \nL 776.055248 134.514206 \nz\n\" style=\"fill:url(#he6de91ee8a);stroke:#ffffff;stroke-linejoin:miter;stroke-width:0.1;\"/>\n   </g>\n   <g id=\"patch_391\">\n    <path clip-path=\"url(#p706cbb6e98)\" d=\"M 781.089686 162.273044 \nL 783.187369 162.273044 \nL 783.187369 136.649502 \nL 781.089686 136.649502 \nz\n\" style=\"fill:url(#he6de91ee8a);stroke:#ffffff;stroke-linejoin:miter;stroke-width:0.1;\"/>\n   </g>\n   <g id=\"patch_392\">\n    <path clip-path=\"url(#p706cbb6e98)\" d=\"M 786.124125 162.273044 \nL 788.221807 162.273044 \nL 788.221807 155.867159 \nL 786.124125 155.867159 \nz\n\" style=\"fill:url(#he6de91ee8a);stroke:#ffffff;stroke-linejoin:miter;stroke-width:0.1;\"/>\n   </g>\n   <g id=\"patch_393\">\n    <path clip-path=\"url(#p706cbb6e98)\" d=\"M 791.158563 162.273044 \nL 793.256246 162.273044 \nL 793.256246 158.002454 \nL 791.158563 158.002454 \nz\n\" style=\"fill:url(#he6de91ee8a);stroke:#ffffff;stroke-linejoin:miter;stroke-width:0.1;\"/>\n   </g>\n   <g id=\"patch_394\">\n    <path clip-path=\"url(#p706cbb6e98)\" d=\"M 796.193001 162.273044 \nL 798.290684 162.273044 \nL 798.290684 162.273044 \nL 796.193001 162.273044 \nz\n\" style=\"fill:url(#he6de91ee8a);stroke:#ffffff;stroke-linejoin:miter;stroke-width:0.1;\"/>\n   </g>\n   <g id=\"patch_395\">\n    <path clip-path=\"url(#p706cbb6e98)\" d=\"M 801.227439 162.273044 \nL 803.325122 162.273044 \nL 803.325122 162.273044 \nL 801.227439 162.273044 \nz\n\" style=\"fill:url(#he6de91ee8a);stroke:#ffffff;stroke-linejoin:miter;stroke-width:0.1;\"/>\n   </g>\n   <g id=\"patch_396\">\n    <path clip-path=\"url(#p706cbb6e98)\" d=\"M 806.261878 162.273044 \nL 808.35956 162.273044 \nL 808.35956 162.273044 \nL 806.261878 162.273044 \nz\n\" style=\"fill:url(#he6de91ee8a);stroke:#ffffff;stroke-linejoin:miter;stroke-width:0.1;\"/>\n   </g>\n   <g id=\"patch_397\">\n    <path clip-path=\"url(#p706cbb6e98)\" d=\"M 811.296316 162.273044 \nL 813.393998 162.273044 \nL 813.393998 162.273044 \nL 811.296316 162.273044 \nz\n\" style=\"fill:url(#he6de91ee8a);stroke:#ffffff;stroke-linejoin:miter;stroke-width:0.1;\"/>\n   </g>\n   <g id=\"patch_398\">\n    <path clip-path=\"url(#p706cbb6e98)\" d=\"M 816.330754 162.273044 \nL 818.428437 162.273044 \nL 818.428437 162.273044 \nL 816.330754 162.273044 \nz\n\" style=\"fill:url(#he6de91ee8a);stroke:#ffffff;stroke-linejoin:miter;stroke-width:0.1;\"/>\n   </g>\n   <g id=\"patch_399\">\n    <path clip-path=\"url(#p706cbb6e98)\" d=\"M 821.365192 162.273044 \nL 823.462875 162.273044 \nL 823.462875 162.273044 \nL 821.365192 162.273044 \nz\n\" style=\"fill:url(#he6de91ee8a);stroke:#ffffff;stroke-linejoin:miter;stroke-width:0.1;\"/>\n   </g>\n   <g id=\"patch_400\">\n    <path clip-path=\"url(#p706cbb6e98)\" d=\"M 826.399631 162.273044 \nL 828.497313 162.273044 \nL 828.497313 162.273044 \nL 826.399631 162.273044 \nz\n\" style=\"fill:url(#he6de91ee8a);stroke:#ffffff;stroke-linejoin:miter;stroke-width:0.1;\"/>\n   </g>\n   <g id=\"patch_401\">\n    <path clip-path=\"url(#p706cbb6e98)\" d=\"M 831.434069 162.273044 \nL 833.531751 162.273044 \nL 833.531751 162.273044 \nL 831.434069 162.273044 \nz\n\" style=\"fill:url(#he6de91ee8a);stroke:#ffffff;stroke-linejoin:miter;stroke-width:0.1;\"/>\n   </g>\n   <g id=\"patch_402\">\n    <path clip-path=\"url(#p706cbb6e98)\" d=\"M 836.468507 162.273044 \nL 838.56619 162.273044 \nL 838.56619 162.273044 \nL 836.468507 162.273044 \nz\n\" style=\"fill:url(#he6de91ee8a);stroke:#ffffff;stroke-linejoin:miter;stroke-width:0.1;\"/>\n   </g>\n   <g id=\"matplotlib.axis_7\">\n    <g id=\"xtick_26\">\n     <g id=\"line2d_38\">\n      <g>\n       <use style=\"stroke:#000000;stroke-width:0.8;\" x=\"619.987663\" xlink:href=\"#mab22b3d465\" y=\"162.273044\"/>\n      </g>\n     </g>\n     <g id=\"text_33\">\n      <!-- Mar 01 -->\n      <g transform=\"translate(609.645674 199.232275)rotate(-45)scale(0.1 -0.1)\">\n       <use xlink:href=\"#DejaVuSans-77\"/>\n       <use x=\"86.279297\" xlink:href=\"#DejaVuSans-97\"/>\n       <use x=\"147.558594\" xlink:href=\"#DejaVuSans-114\"/>\n       <use x=\"188.671875\" xlink:href=\"#DejaVuSans-32\"/>\n       <use x=\"220.458984\" xlink:href=\"#DejaVuSans-48\"/>\n       <use x=\"284.082031\" xlink:href=\"#DejaVuSans-49\"/>\n      </g>\n     </g>\n    </g>\n    <g id=\"xtick_27\">\n     <g id=\"line2d_39\">\n      <g>\n       <use style=\"stroke:#000000;stroke-width:0.8;\" x=\"655.228731\" xlink:href=\"#mab22b3d465\" y=\"162.273044\"/>\n      </g>\n     </g>\n     <g id=\"text_34\">\n      <!-- Mar 08 -->\n      <g transform=\"translate(644.886742 199.232275)rotate(-45)scale(0.1 -0.1)\">\n       <use xlink:href=\"#DejaVuSans-77\"/>\n       <use x=\"86.279297\" xlink:href=\"#DejaVuSans-97\"/>\n       <use x=\"147.558594\" xlink:href=\"#DejaVuSans-114\"/>\n       <use x=\"188.671875\" xlink:href=\"#DejaVuSans-32\"/>\n       <use x=\"220.458984\" xlink:href=\"#DejaVuSans-48\"/>\n       <use x=\"284.082031\" xlink:href=\"#DejaVuSans-56\"/>\n      </g>\n     </g>\n    </g>\n    <g id=\"xtick_28\">\n     <g id=\"line2d_40\">\n      <g>\n       <use style=\"stroke:#000000;stroke-width:0.8;\" x=\"690.469798\" xlink:href=\"#mab22b3d465\" y=\"162.273044\"/>\n      </g>\n     </g>\n     <g id=\"text_35\">\n      <!-- Mar 15 -->\n      <g transform=\"translate(680.127809 199.232275)rotate(-45)scale(0.1 -0.1)\">\n       <use xlink:href=\"#DejaVuSans-77\"/>\n       <use x=\"86.279297\" xlink:href=\"#DejaVuSans-97\"/>\n       <use x=\"147.558594\" xlink:href=\"#DejaVuSans-114\"/>\n       <use x=\"188.671875\" xlink:href=\"#DejaVuSans-32\"/>\n       <use x=\"220.458984\" xlink:href=\"#DejaVuSans-49\"/>\n       <use x=\"284.082031\" xlink:href=\"#DejaVuSans-53\"/>\n      </g>\n     </g>\n    </g>\n    <g id=\"xtick_29\">\n     <g id=\"line2d_41\">\n      <g>\n       <use style=\"stroke:#000000;stroke-width:0.8;\" x=\"725.710866\" xlink:href=\"#mab22b3d465\" y=\"162.273044\"/>\n      </g>\n     </g>\n     <g id=\"text_36\">\n      <!-- Mar 22 -->\n      <g transform=\"translate(715.368877 199.232275)rotate(-45)scale(0.1 -0.1)\">\n       <use xlink:href=\"#DejaVuSans-77\"/>\n       <use x=\"86.279297\" xlink:href=\"#DejaVuSans-97\"/>\n       <use x=\"147.558594\" xlink:href=\"#DejaVuSans-114\"/>\n       <use x=\"188.671875\" xlink:href=\"#DejaVuSans-32\"/>\n       <use x=\"220.458984\" xlink:href=\"#DejaVuSans-50\"/>\n       <use x=\"284.082031\" xlink:href=\"#DejaVuSans-50\"/>\n      </g>\n     </g>\n    </g>\n    <g id=\"xtick_30\">\n     <g id=\"line2d_42\">\n      <g>\n       <use style=\"stroke:#000000;stroke-width:0.8;\" x=\"760.951934\" xlink:href=\"#mab22b3d465\" y=\"162.273044\"/>\n      </g>\n     </g>\n     <g id=\"text_37\">\n      <!-- Mar 29 -->\n      <g transform=\"translate(750.609944 199.232275)rotate(-45)scale(0.1 -0.1)\">\n       <use xlink:href=\"#DejaVuSans-77\"/>\n       <use x=\"86.279297\" xlink:href=\"#DejaVuSans-97\"/>\n       <use x=\"147.558594\" xlink:href=\"#DejaVuSans-114\"/>\n       <use x=\"188.671875\" xlink:href=\"#DejaVuSans-32\"/>\n       <use x=\"220.458984\" xlink:href=\"#DejaVuSans-50\"/>\n       <use x=\"284.082031\" xlink:href=\"#DejaVuSans-57\"/>\n      </g>\n     </g>\n    </g>\n    <g id=\"xtick_31\">\n     <g id=\"line2d_43\">\n      <g>\n       <use style=\"stroke:#000000;stroke-width:0.8;\" x=\"796.193001\" xlink:href=\"#mab22b3d465\" y=\"162.273044\"/>\n      </g>\n     </g>\n     <g id=\"text_38\">\n      <!-- Apr 05 -->\n      <g transform=\"translate(786.405097 198.124106)rotate(-45)scale(0.1 -0.1)\">\n       <use xlink:href=\"#DejaVuSans-65\"/>\n       <use x=\"68.408203\" xlink:href=\"#DejaVuSans-112\"/>\n       <use x=\"131.884766\" xlink:href=\"#DejaVuSans-114\"/>\n       <use x=\"172.998047\" xlink:href=\"#DejaVuSans-32\"/>\n       <use x=\"204.785156\" xlink:href=\"#DejaVuSans-48\"/>\n       <use x=\"268.408203\" xlink:href=\"#DejaVuSans-53\"/>\n      </g>\n     </g>\n    </g>\n    <g id=\"xtick_32\">\n     <g id=\"line2d_44\">\n      <g>\n       <use style=\"stroke:#000000;stroke-width:0.8;\" x=\"831.434069\" xlink:href=\"#mab22b3d465\" y=\"162.273044\"/>\n      </g>\n     </g>\n     <g id=\"text_39\">\n      <!-- Apr 12 -->\n      <g transform=\"translate(821.646164 198.124106)rotate(-45)scale(0.1 -0.1)\">\n       <use xlink:href=\"#DejaVuSans-65\"/>\n       <use x=\"68.408203\" xlink:href=\"#DejaVuSans-112\"/>\n       <use x=\"131.884766\" xlink:href=\"#DejaVuSans-114\"/>\n       <use x=\"172.998047\" xlink:href=\"#DejaVuSans-32\"/>\n       <use x=\"204.785156\" xlink:href=\"#DejaVuSans-49\"/>\n       <use x=\"268.408203\" xlink:href=\"#DejaVuSans-50\"/>\n      </g>\n     </g>\n    </g>\n   </g>\n   <g id=\"matplotlib.axis_8\">\n    <g id=\"ytick_13\">\n     <g id=\"line2d_45\">\n      <g>\n       <use style=\"stroke:#000000;stroke-width:0.8;\" x=\"606.85617\" xlink:href=\"#md3d2d8c597\" y=\"162.273044\"/>\n      </g>\n     </g>\n     <g id=\"text_40\">\n      <!-- 0 -->\n      <g transform=\"translate(593.49367 166.072263)scale(0.1 -0.1)\">\n       <use xlink:href=\"#DejaVuSans-48\"/>\n      </g>\n     </g>\n    </g>\n    <g id=\"ytick_14\">\n     <g id=\"line2d_46\">\n      <g>\n       <use style=\"stroke:#000000;stroke-width:0.8;\" x=\"606.85617\" xlink:href=\"#md3d2d8c597\" y=\"140.920092\"/>\n      </g>\n     </g>\n     <g id=\"text_41\">\n      <!-- 10 -->\n      <g transform=\"translate(587.13117 144.719311)scale(0.1 -0.1)\">\n       <use xlink:href=\"#DejaVuSans-49\"/>\n       <use x=\"63.623047\" xlink:href=\"#DejaVuSans-48\"/>\n      </g>\n     </g>\n    </g>\n    <g id=\"ytick_15\">\n     <g id=\"line2d_47\">\n      <g>\n       <use style=\"stroke:#000000;stroke-width:0.8;\" x=\"606.85617\" xlink:href=\"#md3d2d8c597\" y=\"119.56714\"/>\n      </g>\n     </g>\n     <g id=\"text_42\">\n      <!-- 20 -->\n      <g transform=\"translate(587.13117 123.366359)scale(0.1 -0.1)\">\n       <use xlink:href=\"#DejaVuSans-50\"/>\n       <use x=\"63.623047\" xlink:href=\"#DejaVuSans-48\"/>\n      </g>\n     </g>\n    </g>\n    <g id=\"ytick_16\">\n     <g id=\"line2d_48\">\n      <g>\n       <use style=\"stroke:#000000;stroke-width:0.8;\" x=\"606.85617\" xlink:href=\"#md3d2d8c597\" y=\"98.214188\"/>\n      </g>\n     </g>\n     <g id=\"text_43\">\n      <!-- 30 -->\n      <g transform=\"translate(587.13117 102.013406)scale(0.1 -0.1)\">\n       <defs>\n        <path d=\"M 40.578125 39.3125 \nQ 47.65625 37.796875 51.625 33 \nQ 55.609375 28.21875 55.609375 21.1875 \nQ 55.609375 10.40625 48.1875 4.484375 \nQ 40.765625 -1.421875 27.09375 -1.421875 \nQ 22.515625 -1.421875 17.65625 -0.515625 \nQ 12.796875 0.390625 7.625 2.203125 \nL 7.625 11.71875 \nQ 11.71875 9.328125 16.59375 8.109375 \nQ 21.484375 6.890625 26.8125 6.890625 \nQ 36.078125 6.890625 40.9375 10.546875 \nQ 45.796875 14.203125 45.796875 21.1875 \nQ 45.796875 27.640625 41.28125 31.265625 \nQ 36.765625 34.90625 28.71875 34.90625 \nL 20.21875 34.90625 \nL 20.21875 43.015625 \nL 29.109375 43.015625 \nQ 36.375 43.015625 40.234375 45.921875 \nQ 44.09375 48.828125 44.09375 54.296875 \nQ 44.09375 59.90625 40.109375 62.90625 \nQ 36.140625 65.921875 28.71875 65.921875 \nQ 24.65625 65.921875 20.015625 65.03125 \nQ 15.375 64.15625 9.8125 62.3125 \nL 9.8125 71.09375 \nQ 15.4375 72.65625 20.34375 73.4375 \nQ 25.25 74.21875 29.59375 74.21875 \nQ 40.828125 74.21875 47.359375 69.109375 \nQ 53.90625 64.015625 53.90625 55.328125 \nQ 53.90625 49.265625 50.4375 45.09375 \nQ 46.96875 40.921875 40.578125 39.3125 \nz\n\" id=\"DejaVuSans-51\"/>\n       </defs>\n       <use xlink:href=\"#DejaVuSans-51\"/>\n       <use x=\"63.623047\" xlink:href=\"#DejaVuSans-48\"/>\n      </g>\n     </g>\n    </g>\n    <g id=\"ytick_17\">\n     <g id=\"line2d_49\">\n      <g>\n       <use style=\"stroke:#000000;stroke-width:0.8;\" x=\"606.85617\" xlink:href=\"#md3d2d8c597\" y=\"76.861235\"/>\n      </g>\n     </g>\n     <g id=\"text_44\">\n      <!-- 40 -->\n      <g transform=\"translate(587.13117 80.660454)scale(0.1 -0.1)\">\n       <use xlink:href=\"#DejaVuSans-52\"/>\n       <use x=\"63.623047\" xlink:href=\"#DejaVuSans-48\"/>\n      </g>\n     </g>\n    </g>\n    <g id=\"ytick_18\">\n     <g id=\"line2d_50\">\n      <g>\n       <use style=\"stroke:#000000;stroke-width:0.8;\" x=\"606.85617\" xlink:href=\"#md3d2d8c597\" y=\"55.508283\"/>\n      </g>\n     </g>\n     <g id=\"text_45\">\n      <!-- 50 -->\n      <g transform=\"translate(587.13117 59.307502)scale(0.1 -0.1)\">\n       <use xlink:href=\"#DejaVuSans-53\"/>\n       <use x=\"63.623047\" xlink:href=\"#DejaVuSans-48\"/>\n      </g>\n     </g>\n    </g>\n   </g>\n   <g id=\"patch_403\">\n    <path d=\"M 606.85617 162.273044 \nL 606.85617 34.475625 \n\" style=\"fill:none;stroke:#000000;stroke-linecap:square;stroke-linejoin:miter;stroke-width:0.8;\"/>\n   </g>\n   <g id=\"patch_404\">\n    <path d=\"M 849.6 162.273044 \nL 849.6 34.475625 \n\" style=\"fill:none;stroke:#000000;stroke-linecap:square;stroke-linejoin:miter;stroke-width:0.8;\"/>\n   </g>\n   <g id=\"patch_405\">\n    <path d=\"M 606.85617 162.273044 \nL 849.6 162.273044 \n\" style=\"fill:none;stroke:#000000;stroke-linecap:square;stroke-linejoin:miter;stroke-width:0.8;\"/>\n   </g>\n   <g id=\"patch_406\">\n    <path d=\"M 606.85617 34.475625 \nL 849.6 34.475625 \n\" style=\"fill:none;stroke:#000000;stroke-linecap:square;stroke-linejoin:miter;stroke-width:0.8;\"/>\n   </g>\n   <g id=\"text_46\">\n    <!-- Victoria -->\n    <g transform=\"translate(701.664179 28.475625)scale(0.14 -0.14)\">\n     <defs>\n      <path d=\"M 28.609375 0 \nL 0.78125 72.90625 \nL 11.078125 72.90625 \nL 34.1875 11.53125 \nL 57.328125 72.90625 \nL 67.578125 72.90625 \nL 39.796875 0 \nz\n\" id=\"DejaVuSans-86\"/>\n     </defs>\n     <use xlink:href=\"#DejaVuSans-86\"/>\n     <use x=\"66.158203\" xlink:href=\"#DejaVuSans-105\"/>\n     <use x=\"93.941406\" xlink:href=\"#DejaVuSans-99\"/>\n     <use x=\"148.921875\" xlink:href=\"#DejaVuSans-116\"/>\n     <use x=\"188.130859\" xlink:href=\"#DejaVuSans-111\"/>\n     <use x=\"249.3125\" xlink:href=\"#DejaVuSans-114\"/>\n     <use x=\"290.425781\" xlink:href=\"#DejaVuSans-105\"/>\n     <use x=\"318.208984\" xlink:href=\"#DejaVuSans-97\"/>\n    </g>\n   </g>\n  </g>\n  <g id=\"axes_5\">\n   <g id=\"patch_407\">\n    <path d=\"M 36.5625 389.808021 \nL 279.30633 389.808021 \nL 279.30633 262.010602 \nL 36.5625 262.010602 \nz\n\" style=\"fill:#ffffff;\"/>\n   </g>\n   <g id=\"line2d_51\">\n    <path clip-path=\"url(#pf54e3d25a3)\" d=\"M 36.5625 364.626706 \nL 279.30633 364.626706 \n\" style=\"fill:none;stroke:#a9a9a9;stroke-linecap:square;stroke-width:2;\"/>\n   </g>\n   <g id=\"line2d_52\">\n    <path clip-path=\"url(#pf54e3d25a3)\" d=\"M 36.5625 364.626706 \nL 279.30633 364.626706 \n\" style=\"fill:none;stroke:#a9a9a9;stroke-linecap:square;stroke-width:2;\"/>\n   </g>\n   <g id=\"PolyCollection_1\">\n    <defs>\n     <path d=\"M 79.793331 -75.390938 \nL 79.793331 -52.419967 \nL 84.134502 -53.047663 \nL 88.475674 -55.658017 \nL 92.816845 -61.44155 \nL 97.158016 -67.453306 \nL 101.499188 -66.813299 \nL 105.840359 -63.713982 \nL 110.18153 -60.620551 \nL 114.522702 -61.41756 \nL 118.863873 -61.007399 \nL 123.205044 -61.280218 \nL 127.546216 -61.756025 \nL 131.887387 -63.420795 \nL 136.228558 -64.269923 \nL 140.56973 -65.792996 \nL 144.910901 -68.162656 \nL 149.252072 -70.692812 \nL 153.593244 -70.81284 \nL 157.934415 -73.090343 \nL 162.275586 -74.68605 \nL 166.616758 -74.04215 \nL 170.957929 -73.079015 \nL 175.2991 -74.306338 \nL 179.640271 -74.443352 \nL 183.981443 -75.166931 \nL 188.322614 -74.406919 \nL 192.663785 -73.576441 \nL 197.004957 -72.55297 \nL 201.346128 -71.980132 \nL 205.687299 -71.307822 \nL 210.028471 -70.964391 \nL 214.369642 -70.706319 \nL 218.710813 -70.487314 \nL 223.051985 -69.757414 \nL 227.393156 -70.320935 \nL 231.734327 -71.243157 \nL 236.075499 -71.852237 \nL 240.41667 -72.071366 \nL 244.757841 -72.322575 \nL 249.099013 -72.361008 \nL 253.440184 -73.750489 \nL 257.781355 -73.730218 \nL 262.122527 -73.090033 \nL 266.463698 -72.286893 \nL 266.463698 -74.619597 \nL 266.463698 -74.619597 \nL 262.122527 -75.449819 \nL 257.781355 -76.037434 \nL 253.440184 -76.038881 \nL 249.099013 -74.555306 \nL 244.757841 -74.517428 \nL 240.41667 -74.259267 \nL 236.075499 -74.117473 \nL 231.734327 -73.695721 \nL 227.393156 -72.968716 \nL 223.051985 -72.622587 \nL 218.710813 -73.793316 \nL 214.369642 -74.446549 \nL 210.028471 -75.186271 \nL 205.687299 -76.058938 \nL 201.346128 -77.385974 \nL 197.004957 -78.606702 \nL 192.663785 -80.327652 \nL 188.322614 -81.651933 \nL 183.981443 -82.789156 \nL 179.640271 -82.027591 \nL 175.2991 -82.146828 \nL 170.957929 -80.833898 \nL 166.616758 -82.055003 \nL 162.275586 -82.727987 \nL 157.934415 -80.741604 \nL 153.593244 -77.938557 \nL 149.252072 -77.968375 \nL 144.910901 -75.147995 \nL 140.56973 -72.575762 \nL 136.228558 -71.112812 \nL 131.887387 -70.67097 \nL 127.546216 -69.145519 \nL 123.205044 -69.329832 \nL 118.863873 -69.945512 \nL 114.522702 -72.05612 \nL 110.18153 -72.761898 \nL 105.840359 -80.955962 \nL 101.499188 -89.213468 \nL 97.158016 -92.621109 \nL 92.816845 -84.833942 \nL 88.475674 -76.198618 \nL 84.134502 -72.841791 \nL 79.793331 -75.390938 \nz\n\" id=\"m165d613451\"/>\n    </defs>\n    <g clip-path=\"url(#pf54e3d25a3)\">\n     <use style=\"fill-opacity:0.35;\" x=\"0\" xlink:href=\"#m165d613451\" y=\"435.437812\"/>\n    </g>\n   </g>\n   <g id=\"PolyCollection_2\">\n    <g clip-path=\"url(#pf54e3d25a3)\">\n     <use style=\"fill-opacity:0.35;\" x=\"0\" xlink:href=\"#m165d613451\" y=\"435.437812\"/>\n    </g>\n   </g>\n   <g id=\"matplotlib.axis_9\">\n    <g id=\"xtick_33\">\n     <g id=\"line2d_53\">\n      <g>\n       <use style=\"stroke:#000000;stroke-width:0.8;\" x=\"49.405132\" xlink:href=\"#mab22b3d465\" y=\"389.808021\"/>\n      </g>\n     </g>\n     <g id=\"text_47\">\n      <!-- Mar 01 -->\n      <g transform=\"translate(39.063143 426.767251)rotate(-45)scale(0.1 -0.1)\">\n       <use xlink:href=\"#DejaVuSans-77\"/>\n       <use x=\"86.279297\" xlink:href=\"#DejaVuSans-97\"/>\n       <use x=\"147.558594\" xlink:href=\"#DejaVuSans-114\"/>\n       <use x=\"188.671875\" xlink:href=\"#DejaVuSans-32\"/>\n       <use x=\"220.458984\" xlink:href=\"#DejaVuSans-48\"/>\n       <use x=\"284.082031\" xlink:href=\"#DejaVuSans-49\"/>\n      </g>\n     </g>\n    </g>\n    <g id=\"xtick_34\">\n     <g id=\"line2d_54\">\n      <g>\n       <use style=\"stroke:#000000;stroke-width:0.8;\" x=\"79.793331\" xlink:href=\"#mab22b3d465\" y=\"389.808021\"/>\n      </g>\n     </g>\n     <g id=\"text_48\">\n      <!-- Mar 08 -->\n      <g transform=\"translate(69.451342 426.767251)rotate(-45)scale(0.1 -0.1)\">\n       <use xlink:href=\"#DejaVuSans-77\"/>\n       <use x=\"86.279297\" xlink:href=\"#DejaVuSans-97\"/>\n       <use x=\"147.558594\" xlink:href=\"#DejaVuSans-114\"/>\n       <use x=\"188.671875\" xlink:href=\"#DejaVuSans-32\"/>\n       <use x=\"220.458984\" xlink:href=\"#DejaVuSans-48\"/>\n       <use x=\"284.082031\" xlink:href=\"#DejaVuSans-56\"/>\n      </g>\n     </g>\n    </g>\n    <g id=\"xtick_35\">\n     <g id=\"line2d_55\">\n      <g>\n       <use style=\"stroke:#000000;stroke-width:0.8;\" x=\"110.18153\" xlink:href=\"#mab22b3d465\" y=\"389.808021\"/>\n      </g>\n     </g>\n     <g id=\"text_49\">\n      <!-- Mar 15 -->\n      <g transform=\"translate(99.839541 426.767251)rotate(-45)scale(0.1 -0.1)\">\n       <use xlink:href=\"#DejaVuSans-77\"/>\n       <use x=\"86.279297\" xlink:href=\"#DejaVuSans-97\"/>\n       <use x=\"147.558594\" xlink:href=\"#DejaVuSans-114\"/>\n       <use x=\"188.671875\" xlink:href=\"#DejaVuSans-32\"/>\n       <use x=\"220.458984\" xlink:href=\"#DejaVuSans-49\"/>\n       <use x=\"284.082031\" xlink:href=\"#DejaVuSans-53\"/>\n      </g>\n     </g>\n    </g>\n    <g id=\"xtick_36\">\n     <g id=\"line2d_56\">\n      <g>\n       <use style=\"stroke:#000000;stroke-width:0.8;\" x=\"140.56973\" xlink:href=\"#mab22b3d465\" y=\"389.808021\"/>\n      </g>\n     </g>\n     <g id=\"text_50\">\n      <!-- Mar 22 -->\n      <g transform=\"translate(130.22774 426.767251)rotate(-45)scale(0.1 -0.1)\">\n       <use xlink:href=\"#DejaVuSans-77\"/>\n       <use x=\"86.279297\" xlink:href=\"#DejaVuSans-97\"/>\n       <use x=\"147.558594\" xlink:href=\"#DejaVuSans-114\"/>\n       <use x=\"188.671875\" xlink:href=\"#DejaVuSans-32\"/>\n       <use x=\"220.458984\" xlink:href=\"#DejaVuSans-50\"/>\n       <use x=\"284.082031\" xlink:href=\"#DejaVuSans-50\"/>\n      </g>\n     </g>\n    </g>\n    <g id=\"xtick_37\">\n     <g id=\"line2d_57\">\n      <g>\n       <use style=\"stroke:#000000;stroke-width:0.8;\" x=\"170.957929\" xlink:href=\"#mab22b3d465\" y=\"389.808021\"/>\n      </g>\n     </g>\n     <g id=\"text_51\">\n      <!-- Mar 29 -->\n      <g transform=\"translate(160.61594 426.767251)rotate(-45)scale(0.1 -0.1)\">\n       <use xlink:href=\"#DejaVuSans-77\"/>\n       <use x=\"86.279297\" xlink:href=\"#DejaVuSans-97\"/>\n       <use x=\"147.558594\" xlink:href=\"#DejaVuSans-114\"/>\n       <use x=\"188.671875\" xlink:href=\"#DejaVuSans-32\"/>\n       <use x=\"220.458984\" xlink:href=\"#DejaVuSans-50\"/>\n       <use x=\"284.082031\" xlink:href=\"#DejaVuSans-57\"/>\n      </g>\n     </g>\n    </g>\n    <g id=\"xtick_38\">\n     <g id=\"line2d_58\">\n      <g>\n       <use style=\"stroke:#000000;stroke-width:0.8;\" x=\"201.346128\" xlink:href=\"#mab22b3d465\" y=\"389.808021\"/>\n      </g>\n     </g>\n     <g id=\"text_52\">\n      <!-- Apr 05 -->\n      <g transform=\"translate(191.558223 425.659082)rotate(-45)scale(0.1 -0.1)\">\n       <use xlink:href=\"#DejaVuSans-65\"/>\n       <use x=\"68.408203\" xlink:href=\"#DejaVuSans-112\"/>\n       <use x=\"131.884766\" xlink:href=\"#DejaVuSans-114\"/>\n       <use x=\"172.998047\" xlink:href=\"#DejaVuSans-32\"/>\n       <use x=\"204.785156\" xlink:href=\"#DejaVuSans-48\"/>\n       <use x=\"268.408203\" xlink:href=\"#DejaVuSans-53\"/>\n      </g>\n     </g>\n    </g>\n    <g id=\"xtick_39\">\n     <g id=\"line2d_59\">\n      <g>\n       <use style=\"stroke:#000000;stroke-width:0.8;\" x=\"231.734327\" xlink:href=\"#mab22b3d465\" y=\"389.808021\"/>\n      </g>\n     </g>\n     <g id=\"text_53\">\n      <!-- Apr 12 -->\n      <g transform=\"translate(221.946423 425.659082)rotate(-45)scale(0.1 -0.1)\">\n       <use xlink:href=\"#DejaVuSans-65\"/>\n       <use x=\"68.408203\" xlink:href=\"#DejaVuSans-112\"/>\n       <use x=\"131.884766\" xlink:href=\"#DejaVuSans-114\"/>\n       <use x=\"172.998047\" xlink:href=\"#DejaVuSans-32\"/>\n       <use x=\"204.785156\" xlink:href=\"#DejaVuSans-49\"/>\n       <use x=\"268.408203\" xlink:href=\"#DejaVuSans-50\"/>\n      </g>\n     </g>\n    </g>\n    <g id=\"xtick_40\">\n     <g id=\"line2d_60\">\n      <g>\n       <use style=\"stroke:#000000;stroke-width:0.8;\" x=\"262.122527\" xlink:href=\"#mab22b3d465\" y=\"389.808021\"/>\n      </g>\n     </g>\n     <g id=\"text_54\">\n      <!-- Apr 19 -->\n      <g transform=\"translate(252.334622 425.659082)rotate(-45)scale(0.1 -0.1)\">\n       <use xlink:href=\"#DejaVuSans-65\"/>\n       <use x=\"68.408203\" xlink:href=\"#DejaVuSans-112\"/>\n       <use x=\"131.884766\" xlink:href=\"#DejaVuSans-114\"/>\n       <use x=\"172.998047\" xlink:href=\"#DejaVuSans-32\"/>\n       <use x=\"204.785156\" xlink:href=\"#DejaVuSans-49\"/>\n       <use x=\"268.408203\" xlink:href=\"#DejaVuSans-57\"/>\n      </g>\n     </g>\n    </g>\n   </g>\n   <g id=\"matplotlib.axis_10\">\n    <g id=\"ytick_19\">\n     <g id=\"line2d_61\">\n      <g>\n       <use style=\"stroke:#000000;stroke-width:0.8;\" x=\"36.5625\" xlink:href=\"#md3d2d8c597\" y=\"385.050097\"/>\n      </g>\n     </g>\n     <g id=\"text_55\">\n      <!-- 0 -->\n      <g transform=\"translate(23.2 388.849315)scale(0.1 -0.1)\">\n       <use xlink:href=\"#DejaVuSans-48\"/>\n      </g>\n     </g>\n    </g>\n    <g id=\"ytick_20\">\n     <g id=\"line2d_62\">\n      <g>\n       <use style=\"stroke:#000000;stroke-width:0.8;\" x=\"36.5625\" xlink:href=\"#md3d2d8c597\" y=\"344.203316\"/>\n      </g>\n     </g>\n     <g id=\"text_56\">\n      <!-- 2 -->\n      <g transform=\"translate(23.2 348.002535)scale(0.1 -0.1)\">\n       <use xlink:href=\"#DejaVuSans-50\"/>\n      </g>\n     </g>\n    </g>\n    <g id=\"ytick_21\">\n     <g id=\"line2d_63\">\n      <g>\n       <use style=\"stroke:#000000;stroke-width:0.8;\" x=\"36.5625\" xlink:href=\"#md3d2d8c597\" y=\"303.356535\"/>\n      </g>\n     </g>\n     <g id=\"text_57\">\n      <!-- 4 -->\n      <g transform=\"translate(23.2 307.155754)scale(0.1 -0.1)\">\n       <use xlink:href=\"#DejaVuSans-52\"/>\n      </g>\n     </g>\n    </g>\n    <g id=\"ytick_22\">\n     <g id=\"line2d_64\">\n      <g>\n       <use style=\"stroke:#000000;stroke-width:0.8;\" x=\"36.5625\" xlink:href=\"#md3d2d8c597\" y=\"262.509754\"/>\n      </g>\n     </g>\n     <g id=\"text_58\">\n      <!-- 6 -->\n      <g transform=\"translate(23.2 266.308973)scale(0.1 -0.1)\">\n       <use xlink:href=\"#DejaVuSans-54\"/>\n      </g>\n     </g>\n    </g>\n    <g id=\"text_59\">\n     <!-- $R_t^\\mathrm{local}$ -->\n     <g transform=\"translate(16.4 338.059311)rotate(-90)scale(0.1 -0.1)\">\n      <defs>\n       <path d=\"M 25.203125 64.796875 \nL 20.21875 38.921875 \nL 32.90625 38.921875 \nQ 40.375 38.921875 44.984375 43.046875 \nQ 49.609375 47.171875 49.609375 53.8125 \nQ 49.609375 59.125 46.5 61.953125 \nQ 43.40625 64.796875 37.59375 64.796875 \nz\nM 43.3125 35.015625 \nQ 46.4375 34.28125 48.515625 31.390625 \nQ 50.59375 28.515625 53.328125 19.921875 \nL 59.515625 0 \nL 49.125 0 \nL 43.40625 18.703125 \nQ 41.21875 25.921875 38.328125 28.359375 \nQ 35.453125 30.8125 29.5 30.8125 \nL 18.609375 30.8125 \nL 12.59375 0 \nL 2.6875 0 \nL 16.890625 72.90625 \nL 39.109375 72.90625 \nQ 49.21875 72.90625 54.609375 68.328125 \nQ 60.015625 63.765625 60.015625 55.171875 \nQ 60.015625 47.5625 55.421875 41.984375 \nQ 50.828125 36.421875 43.3125 35.015625 \nz\n\" id=\"DejaVuSans-Oblique-82\"/>\n       <path d=\"M 42.28125 54.6875 \nL 40.921875 47.703125 \nL 23 47.703125 \nL 17.1875 18.015625 \nQ 16.890625 16.359375 16.75 15.234375 \nQ 16.609375 14.109375 16.609375 13.484375 \nQ 16.609375 10.359375 18.484375 8.9375 \nQ 20.359375 7.515625 24.515625 7.515625 \nL 33.59375 7.515625 \nL 32.078125 0 \nL 23.484375 0 \nQ 15.484375 0 11.546875 3.125 \nQ 7.625 6.25 7.625 12.59375 \nQ 7.625 13.71875 7.765625 15.0625 \nQ 7.90625 16.40625 8.203125 18.015625 \nL 14.015625 47.703125 \nL 6.390625 47.703125 \nL 7.8125 54.6875 \nL 15.28125 54.6875 \nL 18.3125 70.21875 \nL 27.296875 70.21875 \nL 24.3125 54.6875 \nz\n\" id=\"DejaVuSans-Oblique-116\"/>\n      </defs>\n      <use transform=\"translate(0 0.529687)\" xlink:href=\"#DejaVuSans-Oblique-82\"/>\n      <use transform=\"translate(76.499193 38.810938)scale(0.7)\" xlink:href=\"#DejaVuSans-108\"/>\n      <use transform=\"translate(95.947435 38.810938)scale(0.7)\" xlink:href=\"#DejaVuSans-111\"/>\n      <use transform=\"translate(138.774583 38.810938)scale(0.7)\" xlink:href=\"#DejaVuSans-99\"/>\n      <use transform=\"translate(177.260911 38.810938)scale(0.7)\" xlink:href=\"#DejaVuSans-97\"/>\n      <use transform=\"translate(220.156419 38.810938)scale(0.7)\" xlink:href=\"#DejaVuSans-108\"/>\n      <use transform=\"translate(69.482422 -26.814063)scale(0.7)\" xlink:href=\"#DejaVuSans-Oblique-116\"/>\n     </g>\n    </g>\n   </g>\n   <g id=\"patch_408\">\n    <path d=\"M 36.5625 389.808021 \nL 36.5625 262.010602 \n\" style=\"fill:none;stroke:#000000;stroke-linecap:square;stroke-linejoin:miter;stroke-width:0.8;\"/>\n   </g>\n   <g id=\"patch_409\">\n    <path d=\"M 279.30633 389.808021 \nL 279.30633 262.010602 \n\" style=\"fill:none;stroke:#000000;stroke-linecap:square;stroke-linejoin:miter;stroke-width:0.8;\"/>\n   </g>\n   <g id=\"patch_410\">\n    <path d=\"M 36.5625 389.808021 \nL 279.30633 389.808021 \n\" style=\"fill:none;stroke:#000000;stroke-linecap:square;stroke-linejoin:miter;stroke-width:0.8;\"/>\n   </g>\n   <g id=\"patch_411\">\n    <path d=\"M 36.5625 262.010602 \nL 279.30633 262.010602 \n\" style=\"fill:none;stroke:#000000;stroke-linecap:square;stroke-linejoin:miter;stroke-width:0.8;\"/>\n   </g>\n   <g id=\"PolyCollection_3\">\n    <path clip-path=\"url(#pf54e3d25a3)\" d=\"M 79.793331 360.046874 \nL 79.793331 383.017846 \nL 84.134502 382.39015 \nL 88.475674 379.779796 \nL 92.816845 373.996262 \nL 97.158016 367.984507 \nL 101.499188 368.624513 \nL 105.840359 371.72383 \nL 110.18153 374.817261 \nL 114.522702 374.020252 \nL 118.863873 374.430414 \nL 123.205044 374.157595 \nL 127.546216 373.681787 \nL 131.887387 372.017017 \nL 136.228558 371.167889 \nL 140.56973 369.644817 \nL 144.910901 367.275157 \nL 149.252072 364.745001 \nL 153.593244 364.624972 \nL 157.934415 362.347469 \nL 162.275586 360.751763 \nL 166.616758 361.395663 \nL 170.957929 362.358798 \nL 175.2991 361.131474 \nL 179.640271 360.994461 \nL 183.981443 360.270881 \nL 188.322614 361.030894 \nL 192.663785 361.861371 \nL 197.004957 362.884842 \nL 201.346128 363.457681 \nL 205.687299 364.129991 \nL 210.028471 364.473421 \nL 214.369642 364.731494 \nL 218.710813 364.950498 \nL 223.051985 365.680398 \nL 227.393156 365.116877 \nL 231.734327 364.194655 \nL 236.075499 363.585576 \nL 240.41667 363.366447 \nL 244.757841 363.115238 \nL 249.099013 363.076804 \nL 253.440184 361.687324 \nL 257.781355 361.707594 \nL 262.122527 362.347779 \nL 266.463698 363.150919 \nL 266.463698 360.818215 \nL 266.463698 360.818215 \nL 262.122527 359.987993 \nL 257.781355 359.400378 \nL 253.440184 359.398931 \nL 249.099013 360.882507 \nL 244.757841 360.920384 \nL 240.41667 361.178546 \nL 236.075499 361.32034 \nL 231.734327 361.742091 \nL 227.393156 362.469097 \nL 223.051985 362.815225 \nL 218.710813 361.644497 \nL 214.369642 360.991264 \nL 210.028471 360.251542 \nL 205.687299 359.378874 \nL 201.346128 358.051839 \nL 197.004957 356.83111 \nL 192.663785 355.11016 \nL 188.322614 353.785879 \nL 183.981443 352.648656 \nL 179.640271 353.410222 \nL 175.2991 353.290985 \nL 170.957929 354.603914 \nL 166.616758 353.38281 \nL 162.275586 352.709825 \nL 157.934415 354.696208 \nL 153.593244 357.499256 \nL 149.252072 357.469437 \nL 144.910901 360.289818 \nL 140.56973 362.862051 \nL 136.228558 364.325 \nL 131.887387 364.766843 \nL 127.546216 366.292294 \nL 123.205044 366.10798 \nL 118.863873 365.4923 \nL 114.522702 363.381693 \nL 110.18153 362.675914 \nL 105.840359 354.481851 \nL 101.499188 346.224345 \nL 97.158016 342.816704 \nL 92.816845 350.603871 \nL 88.475674 359.239195 \nL 84.134502 362.596022 \nL 79.793331 360.046874 \nz\n\" style=\"fill:url(#hef461f0010);\"/>\n   </g>\n   <g id=\"PolyCollection_4\">\n    <path clip-path=\"url(#pf54e3d25a3)\" d=\"M 79.793331 360.046874 \nL 79.793331 383.017846 \nL 84.134502 382.39015 \nL 88.475674 379.779796 \nL 92.816845 373.996262 \nL 97.158016 367.984507 \nL 101.499188 368.624513 \nL 105.840359 371.72383 \nL 110.18153 374.817261 \nL 114.522702 374.020252 \nL 118.863873 374.430414 \nL 123.205044 374.157595 \nL 127.546216 373.681787 \nL 131.887387 372.017017 \nL 136.228558 371.167889 \nL 140.56973 369.644817 \nL 144.910901 367.275157 \nL 149.252072 364.745001 \nL 153.593244 364.624972 \nL 157.934415 362.347469 \nL 162.275586 360.751763 \nL 166.616758 361.395663 \nL 170.957929 362.358798 \nL 175.2991 361.131474 \nL 179.640271 360.994461 \nL 183.981443 360.270881 \nL 188.322614 361.030894 \nL 192.663785 361.861371 \nL 197.004957 362.884842 \nL 201.346128 363.457681 \nL 205.687299 364.129991 \nL 210.028471 364.473421 \nL 214.369642 364.731494 \nL 218.710813 364.950498 \nL 223.051985 365.680398 \nL 227.393156 365.116877 \nL 231.734327 364.194655 \nL 236.075499 363.585576 \nL 240.41667 363.366447 \nL 244.757841 363.115238 \nL 249.099013 363.076804 \nL 253.440184 361.687324 \nL 257.781355 361.707594 \nL 262.122527 362.347779 \nL 266.463698 363.150919 \nL 266.463698 360.818215 \nL 266.463698 360.818215 \nL 262.122527 359.987993 \nL 257.781355 359.400378 \nL 253.440184 359.398931 \nL 249.099013 360.882507 \nL 244.757841 360.920384 \nL 240.41667 361.178546 \nL 236.075499 361.32034 \nL 231.734327 361.742091 \nL 227.393156 362.469097 \nL 223.051985 362.815225 \nL 218.710813 361.644497 \nL 214.369642 360.991264 \nL 210.028471 360.251542 \nL 205.687299 359.378874 \nL 201.346128 358.051839 \nL 197.004957 356.83111 \nL 192.663785 355.11016 \nL 188.322614 353.785879 \nL 183.981443 352.648656 \nL 179.640271 353.410222 \nL 175.2991 353.290985 \nL 170.957929 354.603914 \nL 166.616758 353.38281 \nL 162.275586 352.709825 \nL 157.934415 354.696208 \nL 153.593244 357.499256 \nL 149.252072 357.469437 \nL 144.910901 360.289818 \nL 140.56973 362.862051 \nL 136.228558 364.325 \nL 131.887387 364.766843 \nL 127.546216 366.292294 \nL 123.205044 366.10798 \nL 118.863873 365.4923 \nL 114.522702 363.381693 \nL 110.18153 362.675914 \nL 105.840359 354.481851 \nL 101.499188 346.224345 \nL 97.158016 342.816704 \nL 92.816845 350.603871 \nL 88.475674 359.239195 \nL 84.134502 362.596022 \nL 79.793331 360.046874 \nz\n\" style=\"fill:url(#hef461f0010);\"/>\n   </g>\n   <g id=\"legend_2\">\n    <g id=\"patch_412\">\n     <path d=\"M 200.10633 314.044977 \nL 272.30633 314.044977 \nQ 274.30633 314.044977 274.30633 312.044977 \nL 274.30633 269.010602 \nQ 274.30633 267.010602 272.30633 267.010602 \nL 200.10633 267.010602 \nQ 198.10633 267.010602 198.10633 269.010602 \nL 198.10633 312.044977 \nQ 198.10633 314.044977 200.10633 314.044977 \nz\n\" style=\"fill:#ffffff;opacity:0.8;stroke:#cccccc;stroke-linejoin:miter;\"/>\n    </g>\n    <g id=\"line2d_65\">\n     <path d=\"M 202.10633 275.109039 \nL 222.10633 275.109039 \n\" style=\"fill:none;stroke:#0000ff;stroke-linecap:square;\"/>\n    </g>\n    <g id=\"line2d_66\"/>\n    <g id=\"patch_413\">\n     <path d=\"M 202.10633 278.609039 \nL 222.10633 278.609039 \nL 222.10633 271.609039 \nL 202.10633 271.609039 \nz\n\" style=\"fill:#0000ff;opacity:0.35;\"/>\n    </g>\n    <g id=\"text_60\">\n     <!-- $ϵ=0.25$ -->\n     <g transform=\"translate(230.10633 278.609039)scale(0.1 -0.1)\">\n      <defs>\n       <path d=\"M 51.65625 46 \nQ 50 46.625 48.296875 47.125 \nQ 43.703125 48.390625 38.53125 48.390625 \nQ 29.59375 48.390625 23.6875 43.5625 \nQ 18.171875 39.0625 15.671875 30.8125 \nL 48.734375 30.8125 \nL 47.359375 23.78125 \nL 14.3125 23.78125 \nQ 13.578125 15.53125 17.328125 11.03125 \nQ 21.390625 6.203125 30.328125 6.203125 \nQ 36.578125 6.203125 40.578125 7.46875 \nL 44.4375 8.6875 \nL 42.828125 0.53125 \nL 38.8125 -0.34375 \nQ 33.546875 -1.421875 28.328125 -1.421875 \nQ 15.234375 -1.421875 9.078125 6.203125 \nQ 2.875 13.8125 5.515625 27.28125 \nQ 8.15625 40.765625 17.28125 48.390625 \nQ 26.375 56 39.453125 56 \nQ 44.390625 56 49.5625 54.9375 \nQ 51.421875 54.546875 53.21875 53.953125 \nz\n\" id=\"DejaVuSans-Oblique-1013\"/>\n       <path d=\"M 10.59375 45.40625 \nL 73.1875 45.40625 \nL 73.1875 37.203125 \nL 10.59375 37.203125 \nz\nM 10.59375 25.484375 \nL 73.1875 25.484375 \nL 73.1875 17.1875 \nL 10.59375 17.1875 \nz\n\" id=\"DejaVuSans-61\"/>\n       <path d=\"M 10.6875 12.40625 \nL 21 12.40625 \nL 21 0 \nL 10.6875 0 \nz\n\" id=\"DejaVuSans-46\"/>\n      </defs>\n      <use transform=\"translate(0 0.78125)\" xlink:href=\"#DejaVuSans-Oblique-1013\"/>\n      <use transform=\"translate(81.005859 0.78125)\" xlink:href=\"#DejaVuSans-61\"/>\n      <use transform=\"translate(184.277344 0.78125)\" xlink:href=\"#DejaVuSans-48\"/>\n      <use transform=\"translate(247.900391 0.78125)\" xlink:href=\"#DejaVuSans-46\"/>\n      <use transform=\"translate(274.1875 0.78125)\" xlink:href=\"#DejaVuSans-50\"/>\n      <use transform=\"translate(337.810547 0.78125)\" xlink:href=\"#DejaVuSans-53\"/>\n     </g>\n    </g>\n    <g id=\"patch_414\">\n     <path d=\"M 202.10633 293.287164 \nL 222.10633 293.287164 \nL 222.10633 286.287164 \nL 202.10633 286.287164 \nz\n\" style=\"opacity:0.35;\"/>\n    </g>\n    <g id=\"patch_415\">\n     <path d=\"M 202.10633 293.287164 \nL 222.10633 293.287164 \nL 222.10633 286.287164 \nL 202.10633 286.287164 \nz\n\" style=\"fill:url(#hef461f0010);\"/>\n    </g>\n    <g id=\"line2d_67\">\n     <path d=\"M 202.10633 289.787164 \nL 222.10633 289.787164 \n\" style=\"fill:none;stroke:#000000;stroke-dasharray:3.7,1.6;stroke-dashoffset:0;\"/>\n    </g>\n    <g id=\"line2d_68\"/>\n    <g id=\"text_61\">\n     <!-- $ϵ=1$ -->\n     <g transform=\"translate(230.10633 293.287164)scale(0.1 -0.1)\">\n      <use transform=\"translate(0 0.09375)\" xlink:href=\"#DejaVuSans-Oblique-1013\"/>\n      <use transform=\"translate(81.005859 0.09375)\" xlink:href=\"#DejaVuSans-61\"/>\n      <use transform=\"translate(184.277344 0.09375)\" xlink:href=\"#DejaVuSans-49\"/>\n     </g>\n    </g>\n    <g id=\"line2d_69\">\n     <path d=\"M 202.10633 304.465289 \nL 222.10633 304.465289 \n\" style=\"fill:none;stroke:#ff0000;stroke-linecap:square;\"/>\n    </g>\n    <g id=\"line2d_70\"/>\n    <g id=\"patch_416\">\n     <path d=\"M 202.10633 307.965289 \nL 222.10633 307.965289 \nL 222.10633 300.965289 \nL 202.10633 300.965289 \nz\n\" style=\"fill:#ff0000;opacity:0.35;\"/>\n    </g>\n    <g id=\"text_62\">\n     <!-- $ϵ=2$ -->\n     <g transform=\"translate(230.10633 307.965289)scale(0.1 -0.1)\">\n      <use transform=\"translate(0 0.78125)\" xlink:href=\"#DejaVuSans-Oblique-1013\"/>\n      <use transform=\"translate(81.005859 0.78125)\" xlink:href=\"#DejaVuSans-61\"/>\n      <use transform=\"translate(184.277344 0.78125)\" xlink:href=\"#DejaVuSans-50\"/>\n     </g>\n    </g>\n   </g>\n   <g id=\"PolyCollection_5\">\n    <defs>\n     <path d=\"M 79.793331 -133.944442 \nL 79.793331 -57.162147 \nL 84.134502 -58.962935 \nL 88.475674 -66.658468 \nL 92.816845 -82.510934 \nL 97.158016 -95.526912 \nL 101.499188 -89.92642 \nL 105.840359 -80.746251 \nL 110.18153 -73.181335 \nL 114.522702 -74.901717 \nL 118.863873 -74.066251 \nL 123.205044 -74.570614 \nL 127.546216 -75.28267 \nL 131.887387 -78.095614 \nL 136.228558 -78.553271 \nL 140.56973 -79.925275 \nL 144.910901 -82.461074 \nL 149.252072 -84.702778 \nL 153.593244 -82.762994 \nL 157.934415 -84.512453 \nL 162.275586 -85.429976 \nL 166.616758 -83.40185 \nL 170.957929 -81.319083 \nL 175.2991 -82.456001 \nL 179.640271 -82.178673 \nL 183.981443 -82.668546 \nL 188.322614 -81.204645 \nL 192.663785 -79.652457 \nL 197.004957 -77.872608 \nL 201.346128 -76.665843 \nL 205.687299 -75.372952 \nL 210.028471 -74.518719 \nL 214.369642 -73.777185 \nL 218.710813 -73.090628 \nL 223.051985 -71.877668 \nL 227.393156 -72.16138 \nL 231.734327 -72.869105 \nL 236.075499 -73.259537 \nL 240.41667 -73.271844 \nL 244.757841 -73.353413 \nL 249.099013 -73.239518 \nL 253.440184 -74.538967 \nL 257.781355 -74.385527 \nL 262.122527 -73.614653 \nL 266.463698 -72.705921 \nL 266.463698 -75.304418 \nL 266.463698 -75.304418 \nL 262.122527 -76.28547 \nL 257.781355 -77.050773 \nL 253.440184 -77.231918 \nL 249.099013 -75.862936 \nL 244.757841 -76.034505 \nL 240.41667 -76.002214 \nL 236.075499 -76.128256 \nL 231.734327 -75.987382 \nL 227.393156 -75.549831 \nL 223.051985 -75.57561 \nL 218.710813 -77.38309 \nL 214.369642 -78.660406 \nL 210.028471 -80.076674 \nL 205.687299 -81.693764 \nL 201.346128 -83.935817 \nL 197.004957 -86.104965 \nL 192.663785 -88.945811 \nL 188.322614 -91.319972 \nL 183.981443 -93.497566 \nL 179.640271 -93.200785 \nL 175.2991 -94.199263 \nL 170.957929 -93.42948 \nL 166.616758 -96.636061 \nL 162.275586 -99.553177 \nL 157.934415 -98.796549 \nL 153.593244 -96.835399 \nL 149.252072 -99.681585 \nL 144.910901 -97.219885 \nL 140.56973 -94.618081 \nL 136.228558 -93.643432 \nL 131.887387 -94.239935 \nL 127.546216 -91.808962 \nL 123.205044 -92.600471 \nL 118.863873 -94.107323 \nL 114.522702 -98.92149 \nL 110.18153 -101.323115 \nL 105.840359 -123.116998 \nL 101.499188 -149.777192 \nL 97.158016 -167.618237 \nL 92.816845 -152.667457 \nL 88.475674 -130.889746 \nL 84.134502 -123.182939 \nL 79.793331 -133.944442 \nz\n\" id=\"m53008124ab\"/>\n    </defs>\n    <g clip-path=\"url(#pf54e3d25a3)\">\n     <use style=\"fill:#0000ff;fill-opacity:0.35;\" x=\"0\" xlink:href=\"#m53008124ab\" y=\"435.437812\"/>\n    </g>\n   </g>\n   <g id=\"PolyCollection_6\">\n    <defs>\n     <path d=\"M 79.793331 -63.315102 \nL 79.793331 -51.438765 \nL 84.134502 -51.773176 \nL 88.475674 -53.159116 \nL 92.816845 -56.282632 \nL 97.158016 -59.709513 \nL 101.499188 -59.612694 \nL 105.840359 -58.009599 \nL 110.18153 -56.286065 \nL 114.522702 -56.750483 \nL 118.863873 -56.507197 \nL 123.205044 -56.673778 \nL 127.546216 -56.979428 \nL 131.887387 -58.023155 \nL 136.228558 -58.661124 \nL 140.56973 -59.778592 \nL 144.910901 -61.512833 \nL 149.252072 -63.502374 \nL 153.593244 -64.045382 \nL 157.934415 -66.062019 \nL 162.275586 -67.620724 \nL 166.616758 -67.545358 \nL 170.957929 -67.127442 \nL 175.2991 -68.250239 \nL 179.640271 -68.548827 \nL 183.981443 -69.303402 \nL 188.322614 -68.945324 \nL 192.663785 -68.544941 \nL 197.004957 -67.999785 \nL 201.346128 -67.822378 \nL 205.687299 -67.565505 \nL 210.028471 -67.569067 \nL 214.369642 -67.652165 \nL 218.710813 -67.784508 \nL 223.051985 -67.463719 \nL 227.393156 -68.256083 \nL 231.734327 -69.359698 \nL 236.075499 -70.180191 \nL 240.41667 -70.621476 \nL 244.757841 -71.060662 \nL 249.099013 -71.272766 \nL 253.440184 -72.762154 \nL 257.781355 -72.900007 \nL 262.122527 -72.419693 \nL 266.463698 -71.747646 \nL 266.463698 -73.775188 \nL 266.463698 -73.775188 \nL 262.122527 -74.433669 \nL 257.781355 -74.823383 \nL 253.440184 -74.631268 \nL 249.099013 -73.039307 \nL 244.757841 -72.791559 \nL 240.41667 -72.315794 \nL 236.075499 -71.919074 \nL 231.734327 -71.245332 \nL 227.393156 -70.280558 \nL 223.051985 -69.641236 \nL 218.710813 -70.290085 \nL 214.369642 -70.473918 \nL 210.028471 -70.731403 \nL 205.687299 -71.101195 \nL 201.346128 -71.820076 \nL 197.004957 -72.440937 \nL 192.663785 -73.456392 \nL 188.322614 -74.165795 \nL 183.981443 -74.729264 \nL 179.640271 -73.862159 \nL 175.2991 -73.627464 \nL 170.957929 -72.295179 \nL 166.616758 -72.695389 \nL 162.275586 -72.617245 \nL 157.934415 -70.693876 \nL 153.593244 -68.288869 \nL 149.252072 -67.802371 \nL 144.910901 -65.62064 \nL 140.56973 -63.735599 \nL 136.228558 -62.628516 \nL 131.887387 -62.207221 \nL 127.546216 -61.233916 \nL 123.205044 -61.305301 \nL 118.863873 -61.648358 \nL 114.522702 -62.855399 \nL 110.18153 -63.191865 \nL 105.840359 -67.636563 \nL 101.499188 -71.827345 \nL 97.158016 -73.199926 \nL 92.816845 -68.676646 \nL 88.475674 -63.933379 \nL 84.134502 -62.07145 \nL 79.793331 -63.315102 \nz\n\" id=\"m0330441c8b\"/>\n    </defs>\n    <g clip-path=\"url(#pf54e3d25a3)\">\n     <use style=\"fill:#ff0000;fill-opacity:0.35;\" x=\"0\" xlink:href=\"#m0330441c8b\" y=\"435.437812\"/>\n    </g>\n   </g>\n   <g id=\"line2d_71\">\n    <path clip-path=\"url(#pf54e3d25a3)\" d=\"M 79.793331 374.931517 \nL 84.134502 375.049676 \nL 88.475674 371.58914 \nL 92.816845 364.124905 \nL 97.158016 357.090699 \nL 101.499188 358.932514 \nL 105.840359 364.326348 \nL 110.18153 369.610236 \nL 114.522702 369.417689 \nL 118.863873 370.529663 \nL 123.205044 370.622268 \nL 127.546216 370.429771 \nL 131.887387 368.8302 \nL 136.228558 368.150472 \nL 140.56973 366.647339 \nL 144.910901 364.191478 \nL 149.252072 361.522275 \nL 153.593244 361.431723 \nL 157.934415 358.922375 \nL 162.275586 357.143114 \nL 166.616758 357.775908 \nL 170.957929 358.880106 \nL 175.2991 357.671491 \nL 179.640271 357.659765 \nL 183.981443 356.915178 \nL 188.322614 357.843074 \nL 192.663785 358.917147 \nL 197.004957 360.286859 \nL 201.346128 361.179578 \nL 205.687299 362.157957 \nL 210.028471 362.743596 \nL 214.369642 363.21436 \nL 218.710813 363.614075 \nL 223.051985 364.514461 \nL 227.393156 364.031762 \nL 231.734327 363.175112 \nL 236.075499 362.618214 \nL 240.41667 362.400124 \nL 244.757841 362.128228 \nL 249.099013 362.083018 \nL 253.440184 360.651983 \nL 257.781355 360.649175 \nL 262.122527 361.253905 \nL 266.463698 362.083505 \n\" style=\"fill:none;stroke:#000000;stroke-dasharray:3.7,1.6;stroke-dashoffset:0;\"/>\n   </g>\n   <g id=\"line2d_72\">\n    <path clip-path=\"url(#pf54e3d25a3)\" d=\"M 79.793331 374.931517 \nL 84.134502 375.049676 \nL 88.475674 371.58914 \nL 92.816845 364.124905 \nL 97.158016 357.090699 \nL 101.499188 358.932514 \nL 105.840359 364.326348 \nL 110.18153 369.610236 \nL 114.522702 369.417689 \nL 118.863873 370.529663 \nL 123.205044 370.622268 \nL 127.546216 370.429771 \nL 131.887387 368.8302 \nL 136.228558 368.150472 \nL 140.56973 366.647339 \nL 144.910901 364.191478 \nL 149.252072 361.522275 \nL 153.593244 361.431723 \nL 157.934415 358.922375 \nL 162.275586 357.143114 \nL 166.616758 357.775908 \nL 170.957929 358.880106 \nL 175.2991 357.671491 \nL 179.640271 357.659765 \nL 183.981443 356.915178 \nL 188.322614 357.843074 \nL 192.663785 358.917147 \nL 197.004957 360.286859 \nL 201.346128 361.179578 \nL 205.687299 362.157957 \nL 210.028471 362.743596 \nL 214.369642 363.21436 \nL 218.710813 363.614075 \nL 223.051985 364.514461 \nL 227.393156 364.031762 \nL 231.734327 363.175112 \nL 236.075499 362.618214 \nL 240.41667 362.400124 \nL 244.757841 362.128228 \nL 249.099013 362.083018 \nL 253.440184 360.651983 \nL 257.781355 360.649175 \nL 262.122527 361.253905 \nL 266.463698 362.083505 \n\" style=\"fill:none;stroke:#000000;stroke-dasharray:3.7,1.6;stroke-dashoffset:0;\"/>\n   </g>\n   <g id=\"line2d_73\">\n    <path clip-path=\"url(#pf54e3d25a3)\" d=\"M 79.793331 351.26943 \nL 84.134502 352.712039 \nL 88.475674 343.266294 \nL 92.816845 323.527838 \nL 97.158016 309.066487 \nL 101.499188 320.042151 \nL 105.840359 336.799592 \nL 110.18153 350.309502 \nL 114.522702 350.212184 \nL 118.863873 352.652002 \nL 123.205044 352.95892 \nL 127.546216 352.880459 \nL 131.887387 350.23027 \nL 136.228558 350.204193 \nL 140.56973 348.998956 \nL 144.910901 346.444354 \nL 149.252072 344.081976 \nL 153.593244 346.384803 \nL 157.934415 344.593695 \nL 162.275586 343.758084 \nL 166.616758 346.150949 \nL 170.957929 348.773751 \nL 175.2991 347.870985 \nL 179.640271 348.462231 \nL 183.981443 348.032432 \nL 188.322614 349.794075 \nL 192.663785 351.730392 \nL 197.004957 354.020076 \nL 201.346128 355.68804 \nL 205.687299 357.418445 \nL 210.028471 358.620225 \nL 214.369642 359.661784 \nL 218.710813 360.600326 \nL 223.051985 362.054968 \nL 227.393156 361.900649 \nL 231.734327 361.298786 \nL 236.075499 360.98692 \nL 240.41667 360.996903 \nL 244.757841 360.914805 \nL 249.099013 361.043843 \nL 253.440184 359.712556 \nL 257.781355 359.858681 \nL 262.122527 360.610777 \nL 266.463698 361.565203 \n\" style=\"fill:none;stroke:#0000ff;stroke-linecap:square;\"/>\n   </g>\n   <g id=\"line2d_74\">\n    <path clip-path=\"url(#pf54e3d25a3)\" d=\"M 79.793331 379.817785 \nL 84.134502 379.844037 \nL 88.475674 377.979068 \nL 92.816845 373.917318 \nL 97.158016 369.873301 \nL 101.499188 370.517492 \nL 105.840359 373.27818 \nL 110.18153 376.180162 \nL 114.522702 376.040201 \nL 118.863873 376.684564 \nL 123.205044 376.728973 \nL 127.546216 376.586061 \nL 131.887387 375.576688 \nL 136.228558 375.029485 \nL 140.56973 373.913139 \nL 144.910901 372.114698 \nL 149.252072 370.036376 \nL 153.593244 369.494438 \nL 157.934415 367.297208 \nL 162.275586 365.559684 \nL 166.616758 365.543286 \nL 170.957929 365.965657 \nL 175.2991 364.789966 \nL 179.640271 364.534463 \nL 183.981443 363.733852 \nL 188.322614 364.191253 \nL 192.663785 364.752973 \nL 197.004957 365.539173 \nL 201.346128 365.942621 \nL 205.687299 366.417326 \nL 210.028471 366.582981 \nL 214.369642 366.645775 \nL 218.710813 366.637576 \nL 223.051985 367.075217 \nL 227.393156 366.327267 \nL 231.734327 365.257371 \nL 236.075499 364.475622 \nL 240.41667 364.032965 \nL 244.757841 363.566723 \nL 249.099013 363.335011 \nL 253.440184 361.800188 \nL 257.781355 361.628168 \nL 262.122527 362.059792 \nL 266.463698 362.739425 \n\" style=\"fill:none;stroke:#ff0000;stroke-linecap:square;\"/>\n   </g>\n  </g>\n  <g id=\"axes_6\">\n   <g id=\"patch_417\">\n    <path d=\"M 321.709335 389.808021 \nL 564.453165 389.808021 \nL 564.453165 262.010602 \nL 321.709335 262.010602 \nz\n\" style=\"fill:#ffffff;\"/>\n   </g>\n   <g id=\"line2d_75\">\n    <path clip-path=\"url(#pb25434942a)\" d=\"M 321.709335 362.066665 \nL 564.453165 362.066665 \n\" style=\"fill:none;stroke:#a9a9a9;stroke-linecap:square;stroke-width:2;\"/>\n   </g>\n   <g id=\"line2d_76\">\n    <path clip-path=\"url(#pb25434942a)\" d=\"M 321.709335 362.066665 \nL 564.453165 362.066665 \n\" style=\"fill:none;stroke:#a9a9a9;stroke-linecap:square;stroke-width:2;\"/>\n   </g>\n   <g id=\"PolyCollection_7\">\n    <defs>\n     <path d=\"M 370.953618 -121.212321 \nL 370.953618 -77.888315 \nL 376.105591 -72.322901 \nL 381.257565 -66.631136 \nL 386.409539 -67.207774 \nL 391.561513 -66.755734 \nL 396.713486 -70.130127 \nL 401.86546 -69.368776 \nL 407.017434 -68.20027 \nL 412.169408 -67.351967 \nL 417.321381 -69.631197 \nL 422.473355 -67.79876 \nL 427.625329 -65.387839 \nL 432.777303 -65.868667 \nL 437.929276 -64.514668 \nL 443.08125 -63.141217 \nL 448.233224 -62.855776 \nL 453.385197 -61.400675 \nL 458.537171 -60.271515 \nL 463.689145 -59.719222 \nL 468.841119 -59.049718 \nL 473.993092 -57.872086 \nL 479.145066 -57.341436 \nL 484.29704 -56.365013 \nL 489.449014 -56.34584 \nL 494.600987 -56.754776 \nL 499.752961 -56.805436 \nL 504.904935 -56.468441 \nL 510.056909 -56.763548 \nL 515.208882 -56.79005 \nL 520.360856 -56.876315 \nL 525.51283 -56.285201 \nL 530.664804 -55.583948 \nL 535.816777 -54.78382 \nL 540.968751 -53.886969 \nL 546.120725 -53.416789 \nL 551.272699 -52.73448 \nL 551.272699 -55.2942 \nL 551.272699 -55.2942 \nL 546.120725 -55.931133 \nL 540.968751 -56.288378 \nL 535.816777 -57.185579 \nL 530.664804 -57.955448 \nL 525.51283 -58.632547 \nL 520.360856 -59.202232 \nL 515.208882 -58.995954 \nL 510.056909 -58.879663 \nL 504.904935 -58.501041 \nL 499.752961 -58.942412 \nL 494.600987 -59.018809 \nL 489.449014 -58.714674 \nL 484.29704 -58.966876 \nL 479.145066 -60.489211 \nL 473.993092 -61.52016 \nL 468.841119 -63.457892 \nL 463.689145 -64.762939 \nL 458.537171 -65.919217 \nL 453.385197 -67.841054 \nL 448.233224 -70.159548 \nL 443.08125 -70.880574 \nL 437.929276 -73.178016 \nL 432.777303 -75.566468 \nL 427.625329 -75.619551 \nL 422.473355 -79.789998 \nL 417.321381 -83.117927 \nL 412.169408 -80.788915 \nL 407.017434 -83.099366 \nL 401.86546 -85.845012 \nL 396.713486 -88.178353 \nL 391.561513 -84.777601 \nL 386.409539 -87.580645 \nL 381.257565 -89.588014 \nL 376.105591 -103.707493 \nL 370.953618 -121.212321 \nz\n\" id=\"mefdd112aaf\"/>\n    </defs>\n    <g clip-path=\"url(#pb25434942a)\">\n     <use style=\"fill-opacity:0.35;\" x=\"0\" xlink:href=\"#mefdd112aaf\" y=\"435.437812\"/>\n    </g>\n   </g>\n   <g id=\"PolyCollection_8\">\n    <g clip-path=\"url(#pb25434942a)\">\n     <use style=\"fill-opacity:0.35;\" x=\"0\" xlink:href=\"#mefdd112aaf\" y=\"435.437812\"/>\n    </g>\n   </g>\n   <g id=\"matplotlib.axis_11\">\n    <g id=\"xtick_41\">\n     <g id=\"line2d_77\">\n      <g>\n       <use style=\"stroke:#000000;stroke-width:0.8;\" x=\"334.889801\" xlink:href=\"#mab22b3d465\" y=\"389.808021\"/>\n      </g>\n     </g>\n     <g id=\"text_63\">\n      <!-- Mar 01 -->\n      <g transform=\"translate(324.547812 426.767251)rotate(-45)scale(0.1 -0.1)\">\n       <use xlink:href=\"#DejaVuSans-77\"/>\n       <use x=\"86.279297\" xlink:href=\"#DejaVuSans-97\"/>\n       <use x=\"147.558594\" xlink:href=\"#DejaVuSans-114\"/>\n       <use x=\"188.671875\" xlink:href=\"#DejaVuSans-32\"/>\n       <use x=\"220.458984\" xlink:href=\"#DejaVuSans-48\"/>\n       <use x=\"284.082031\" xlink:href=\"#DejaVuSans-49\"/>\n      </g>\n     </g>\n    </g>\n    <g id=\"xtick_42\">\n     <g id=\"line2d_78\">\n      <g>\n       <use style=\"stroke:#000000;stroke-width:0.8;\" x=\"370.953618\" xlink:href=\"#mab22b3d465\" y=\"389.808021\"/>\n      </g>\n     </g>\n     <g id=\"text_64\">\n      <!-- Mar 08 -->\n      <g transform=\"translate(360.611628 426.767251)rotate(-45)scale(0.1 -0.1)\">\n       <use xlink:href=\"#DejaVuSans-77\"/>\n       <use x=\"86.279297\" xlink:href=\"#DejaVuSans-97\"/>\n       <use x=\"147.558594\" xlink:href=\"#DejaVuSans-114\"/>\n       <use x=\"188.671875\" xlink:href=\"#DejaVuSans-32\"/>\n       <use x=\"220.458984\" xlink:href=\"#DejaVuSans-48\"/>\n       <use x=\"284.082031\" xlink:href=\"#DejaVuSans-56\"/>\n      </g>\n     </g>\n    </g>\n    <g id=\"xtick_43\">\n     <g id=\"line2d_79\">\n      <g>\n       <use style=\"stroke:#000000;stroke-width:0.8;\" x=\"407.017434\" xlink:href=\"#mab22b3d465\" y=\"389.808021\"/>\n      </g>\n     </g>\n     <g id=\"text_65\">\n      <!-- Mar 15 -->\n      <g transform=\"translate(396.675445 426.767251)rotate(-45)scale(0.1 -0.1)\">\n       <use xlink:href=\"#DejaVuSans-77\"/>\n       <use x=\"86.279297\" xlink:href=\"#DejaVuSans-97\"/>\n       <use x=\"147.558594\" xlink:href=\"#DejaVuSans-114\"/>\n       <use x=\"188.671875\" xlink:href=\"#DejaVuSans-32\"/>\n       <use x=\"220.458984\" xlink:href=\"#DejaVuSans-49\"/>\n       <use x=\"284.082031\" xlink:href=\"#DejaVuSans-53\"/>\n      </g>\n     </g>\n    </g>\n    <g id=\"xtick_44\">\n     <g id=\"line2d_80\">\n      <g>\n       <use style=\"stroke:#000000;stroke-width:0.8;\" x=\"443.08125\" xlink:href=\"#mab22b3d465\" y=\"389.808021\"/>\n      </g>\n     </g>\n     <g id=\"text_66\">\n      <!-- Mar 22 -->\n      <g transform=\"translate(432.739261 426.767251)rotate(-45)scale(0.1 -0.1)\">\n       <use xlink:href=\"#DejaVuSans-77\"/>\n       <use x=\"86.279297\" xlink:href=\"#DejaVuSans-97\"/>\n       <use x=\"147.558594\" xlink:href=\"#DejaVuSans-114\"/>\n       <use x=\"188.671875\" xlink:href=\"#DejaVuSans-32\"/>\n       <use x=\"220.458984\" xlink:href=\"#DejaVuSans-50\"/>\n       <use x=\"284.082031\" xlink:href=\"#DejaVuSans-50\"/>\n      </g>\n     </g>\n    </g>\n    <g id=\"xtick_45\">\n     <g id=\"line2d_81\">\n      <g>\n       <use style=\"stroke:#000000;stroke-width:0.8;\" x=\"479.145066\" xlink:href=\"#mab22b3d465\" y=\"389.808021\"/>\n      </g>\n     </g>\n     <g id=\"text_67\">\n      <!-- Mar 29 -->\n      <g transform=\"translate(468.803077 426.767251)rotate(-45)scale(0.1 -0.1)\">\n       <use xlink:href=\"#DejaVuSans-77\"/>\n       <use x=\"86.279297\" xlink:href=\"#DejaVuSans-97\"/>\n       <use x=\"147.558594\" xlink:href=\"#DejaVuSans-114\"/>\n       <use x=\"188.671875\" xlink:href=\"#DejaVuSans-32\"/>\n       <use x=\"220.458984\" xlink:href=\"#DejaVuSans-50\"/>\n       <use x=\"284.082031\" xlink:href=\"#DejaVuSans-57\"/>\n      </g>\n     </g>\n    </g>\n    <g id=\"xtick_46\">\n     <g id=\"line2d_82\">\n      <g>\n       <use style=\"stroke:#000000;stroke-width:0.8;\" x=\"515.208882\" xlink:href=\"#mab22b3d465\" y=\"389.808021\"/>\n      </g>\n     </g>\n     <g id=\"text_68\">\n      <!-- Apr 05 -->\n      <g transform=\"translate(505.420978 425.659082)rotate(-45)scale(0.1 -0.1)\">\n       <use xlink:href=\"#DejaVuSans-65\"/>\n       <use x=\"68.408203\" xlink:href=\"#DejaVuSans-112\"/>\n       <use x=\"131.884766\" xlink:href=\"#DejaVuSans-114\"/>\n       <use x=\"172.998047\" xlink:href=\"#DejaVuSans-32\"/>\n       <use x=\"204.785156\" xlink:href=\"#DejaVuSans-48\"/>\n       <use x=\"268.408203\" xlink:href=\"#DejaVuSans-53\"/>\n      </g>\n     </g>\n    </g>\n    <g id=\"xtick_47\">\n     <g id=\"line2d_83\">\n      <g>\n       <use style=\"stroke:#000000;stroke-width:0.8;\" x=\"551.272699\" xlink:href=\"#mab22b3d465\" y=\"389.808021\"/>\n      </g>\n     </g>\n     <g id=\"text_69\">\n      <!-- Apr 12 -->\n      <g transform=\"translate(541.484794 425.659082)rotate(-45)scale(0.1 -0.1)\">\n       <use xlink:href=\"#DejaVuSans-65\"/>\n       <use x=\"68.408203\" xlink:href=\"#DejaVuSans-112\"/>\n       <use x=\"131.884766\" xlink:href=\"#DejaVuSans-114\"/>\n       <use x=\"172.998047\" xlink:href=\"#DejaVuSans-32\"/>\n       <use x=\"204.785156\" xlink:href=\"#DejaVuSans-49\"/>\n       <use x=\"268.408203\" xlink:href=\"#DejaVuSans-50\"/>\n      </g>\n     </g>\n    </g>\n   </g>\n   <g id=\"matplotlib.axis_12\">\n    <g id=\"ytick_23\">\n     <g id=\"line2d_84\">\n      <g>\n       <use style=\"stroke:#000000;stroke-width:0.8;\" x=\"321.709335\" xlink:href=\"#md3d2d8c597\" y=\"386.670071\"/>\n      </g>\n     </g>\n     <g id=\"text_70\">\n      <!-- 0 -->\n      <g transform=\"translate(308.346835 390.46929)scale(0.1 -0.1)\">\n       <use xlink:href=\"#DejaVuSans-48\"/>\n      </g>\n     </g>\n    </g>\n    <g id=\"ytick_24\">\n     <g id=\"line2d_85\">\n      <g>\n       <use style=\"stroke:#000000;stroke-width:0.8;\" x=\"321.709335\" xlink:href=\"#md3d2d8c597\" y=\"362.066665\"/>\n      </g>\n     </g>\n     <g id=\"text_71\">\n      <!-- 1 -->\n      <g transform=\"translate(308.346835 365.865883)scale(0.1 -0.1)\">\n       <use xlink:href=\"#DejaVuSans-49\"/>\n      </g>\n     </g>\n    </g>\n    <g id=\"ytick_25\">\n     <g id=\"line2d_86\">\n      <g>\n       <use style=\"stroke:#000000;stroke-width:0.8;\" x=\"321.709335\" xlink:href=\"#md3d2d8c597\" y=\"337.463258\"/>\n      </g>\n     </g>\n     <g id=\"text_72\">\n      <!-- 2 -->\n      <g transform=\"translate(308.346835 341.262477)scale(0.1 -0.1)\">\n       <use xlink:href=\"#DejaVuSans-50\"/>\n      </g>\n     </g>\n    </g>\n    <g id=\"ytick_26\">\n     <g id=\"line2d_87\">\n      <g>\n       <use style=\"stroke:#000000;stroke-width:0.8;\" x=\"321.709335\" xlink:href=\"#md3d2d8c597\" y=\"312.859851\"/>\n      </g>\n     </g>\n     <g id=\"text_73\">\n      <!-- 3 -->\n      <g transform=\"translate(308.346835 316.65907)scale(0.1 -0.1)\">\n       <use xlink:href=\"#DejaVuSans-51\"/>\n      </g>\n     </g>\n    </g>\n    <g id=\"ytick_27\">\n     <g id=\"line2d_88\">\n      <g>\n       <use style=\"stroke:#000000;stroke-width:0.8;\" x=\"321.709335\" xlink:href=\"#md3d2d8c597\" y=\"288.256444\"/>\n      </g>\n     </g>\n     <g id=\"text_74\">\n      <!-- 4 -->\n      <g transform=\"translate(308.346835 292.055663)scale(0.1 -0.1)\">\n       <use xlink:href=\"#DejaVuSans-52\"/>\n      </g>\n     </g>\n    </g>\n    <g id=\"ytick_28\">\n     <g id=\"line2d_89\">\n      <g>\n       <use style=\"stroke:#000000;stroke-width:0.8;\" x=\"321.709335\" xlink:href=\"#md3d2d8c597\" y=\"263.653037\"/>\n      </g>\n     </g>\n     <g id=\"text_75\">\n      <!-- 5 -->\n      <g transform=\"translate(308.346835 267.452256)scale(0.1 -0.1)\">\n       <use xlink:href=\"#DejaVuSans-53\"/>\n      </g>\n     </g>\n    </g>\n    <g id=\"text_76\">\n     <!-- $R_t^\\mathrm{local}$ -->\n     <g transform=\"translate(301.546835 338.059311)rotate(-90)scale(0.1 -0.1)\">\n      <use transform=\"translate(0 0.529687)\" xlink:href=\"#DejaVuSans-Oblique-82\"/>\n      <use transform=\"translate(76.499193 38.810938)scale(0.7)\" xlink:href=\"#DejaVuSans-108\"/>\n      <use transform=\"translate(95.947435 38.810938)scale(0.7)\" xlink:href=\"#DejaVuSans-111\"/>\n      <use transform=\"translate(138.774583 38.810938)scale(0.7)\" xlink:href=\"#DejaVuSans-99\"/>\n      <use transform=\"translate(177.260911 38.810938)scale(0.7)\" xlink:href=\"#DejaVuSans-97\"/>\n      <use transform=\"translate(220.156419 38.810938)scale(0.7)\" xlink:href=\"#DejaVuSans-108\"/>\n      <use transform=\"translate(69.482422 -26.814063)scale(0.7)\" xlink:href=\"#DejaVuSans-Oblique-116\"/>\n     </g>\n    </g>\n   </g>\n   <g id=\"patch_418\">\n    <path d=\"M 321.709335 389.808021 \nL 321.709335 262.010602 \n\" style=\"fill:none;stroke:#000000;stroke-linecap:square;stroke-linejoin:miter;stroke-width:0.8;\"/>\n   </g>\n   <g id=\"patch_419\">\n    <path d=\"M 564.453165 389.808021 \nL 564.453165 262.010602 \n\" style=\"fill:none;stroke:#000000;stroke-linecap:square;stroke-linejoin:miter;stroke-width:0.8;\"/>\n   </g>\n   <g id=\"patch_420\">\n    <path d=\"M 321.709335 389.808021 \nL 564.453165 389.808021 \n\" style=\"fill:none;stroke:#000000;stroke-linecap:square;stroke-linejoin:miter;stroke-width:0.8;\"/>\n   </g>\n   <g id=\"patch_421\">\n    <path d=\"M 321.709335 262.010602 \nL 564.453165 262.010602 \n\" style=\"fill:none;stroke:#000000;stroke-linecap:square;stroke-linejoin:miter;stroke-width:0.8;\"/>\n   </g>\n   <g id=\"PolyCollection_9\">\n    <path clip-path=\"url(#pb25434942a)\" d=\"M 370.953618 314.225491 \nL 370.953618 357.549498 \nL 376.105591 363.114911 \nL 381.257565 368.806677 \nL 386.409539 368.230039 \nL 391.561513 368.682079 \nL 396.713486 365.307685 \nL 401.86546 366.069036 \nL 407.017434 367.237542 \nL 412.169408 368.085845 \nL 417.321381 365.806615 \nL 422.473355 367.639053 \nL 427.625329 370.049974 \nL 432.777303 369.569146 \nL 437.929276 370.923144 \nL 443.08125 372.296596 \nL 448.233224 372.582036 \nL 453.385197 374.037137 \nL 458.537171 375.166297 \nL 463.689145 375.718591 \nL 468.841119 376.388095 \nL 473.993092 377.565727 \nL 479.145066 378.096376 \nL 484.29704 379.0728 \nL 489.449014 379.091972 \nL 494.600987 378.683036 \nL 499.752961 378.632377 \nL 504.904935 378.969372 \nL 510.056909 378.674265 \nL 515.208882 378.647763 \nL 520.360856 378.561498 \nL 525.51283 379.152611 \nL 530.664804 379.853865 \nL 535.816777 380.653992 \nL 540.968751 381.550843 \nL 546.120725 382.021023 \nL 551.272699 382.703332 \nL 551.272699 380.143612 \nL 551.272699 380.143612 \nL 546.120725 379.506679 \nL 540.968751 379.149435 \nL 535.816777 378.252234 \nL 530.664804 377.482364 \nL 525.51283 376.805265 \nL 520.360856 376.235581 \nL 515.208882 376.441859 \nL 510.056909 376.55815 \nL 504.904935 376.936772 \nL 499.752961 376.495401 \nL 494.600987 376.419004 \nL 489.449014 376.723139 \nL 484.29704 376.470936 \nL 479.145066 374.948601 \nL 473.993092 373.917653 \nL 468.841119 371.979921 \nL 463.689145 370.674873 \nL 458.537171 369.518595 \nL 453.385197 367.596759 \nL 448.233224 365.278264 \nL 443.08125 364.557239 \nL 437.929276 362.259796 \nL 432.777303 359.871344 \nL 427.625329 359.818261 \nL 422.473355 355.647815 \nL 417.321381 352.319885 \nL 412.169408 354.648897 \nL 407.017434 352.338446 \nL 401.86546 349.5928 \nL 396.713486 347.259459 \nL 391.561513 350.660212 \nL 386.409539 347.857168 \nL 381.257565 345.849798 \nL 376.105591 331.730319 \nL 370.953618 314.225491 \nz\n\" style=\"fill:url(#hef461f0010);\"/>\n   </g>\n   <g id=\"PolyCollection_10\">\n    <path clip-path=\"url(#pb25434942a)\" d=\"M 370.953618 314.225491 \nL 370.953618 357.549498 \nL 376.105591 363.114911 \nL 381.257565 368.806677 \nL 386.409539 368.230039 \nL 391.561513 368.682079 \nL 396.713486 365.307685 \nL 401.86546 366.069036 \nL 407.017434 367.237542 \nL 412.169408 368.085845 \nL 417.321381 365.806615 \nL 422.473355 367.639053 \nL 427.625329 370.049974 \nL 432.777303 369.569146 \nL 437.929276 370.923144 \nL 443.08125 372.296596 \nL 448.233224 372.582036 \nL 453.385197 374.037137 \nL 458.537171 375.166297 \nL 463.689145 375.718591 \nL 468.841119 376.388095 \nL 473.993092 377.565727 \nL 479.145066 378.096376 \nL 484.29704 379.0728 \nL 489.449014 379.091972 \nL 494.600987 378.683036 \nL 499.752961 378.632377 \nL 504.904935 378.969372 \nL 510.056909 378.674265 \nL 515.208882 378.647763 \nL 520.360856 378.561498 \nL 525.51283 379.152611 \nL 530.664804 379.853865 \nL 535.816777 380.653992 \nL 540.968751 381.550843 \nL 546.120725 382.021023 \nL 551.272699 382.703332 \nL 551.272699 380.143612 \nL 551.272699 380.143612 \nL 546.120725 379.506679 \nL 540.968751 379.149435 \nL 535.816777 378.252234 \nL 530.664804 377.482364 \nL 525.51283 376.805265 \nL 520.360856 376.235581 \nL 515.208882 376.441859 \nL 510.056909 376.55815 \nL 504.904935 376.936772 \nL 499.752961 376.495401 \nL 494.600987 376.419004 \nL 489.449014 376.723139 \nL 484.29704 376.470936 \nL 479.145066 374.948601 \nL 473.993092 373.917653 \nL 468.841119 371.979921 \nL 463.689145 370.674873 \nL 458.537171 369.518595 \nL 453.385197 367.596759 \nL 448.233224 365.278264 \nL 443.08125 364.557239 \nL 437.929276 362.259796 \nL 432.777303 359.871344 \nL 427.625329 359.818261 \nL 422.473355 355.647815 \nL 417.321381 352.319885 \nL 412.169408 354.648897 \nL 407.017434 352.338446 \nL 401.86546 349.5928 \nL 396.713486 347.259459 \nL 391.561513 350.660212 \nL 386.409539 347.857168 \nL 381.257565 345.849798 \nL 376.105591 331.730319 \nL 370.953618 314.225491 \nz\n\" style=\"fill:url(#hef461f0010);\"/>\n   </g>\n   <g id=\"PolyCollection_11\">\n    <defs>\n     <path d=\"M 370.953618 -167.618237 \nL 370.953618 -94.750701 \nL 376.105591 -84.029845 \nL 381.257565 -74.570103 \nL 386.409539 -75.025906 \nL 391.561513 -74.454268 \nL 396.713486 -79.810251 \nL 401.86546 -79.465595 \nL 407.017434 -78.37702 \nL 412.169408 -77.686133 \nL 417.321381 -82.193644 \nL 422.473355 -80.135346 \nL 427.625329 -76.610132 \nL 432.777303 -78.000551 \nL 437.929276 -76.540659 \nL 443.08125 -74.99733 \nL 448.233224 -75.490475 \nL 453.385197 -73.693204 \nL 458.537171 -72.200398 \nL 463.689145 -71.660493 \nL 468.841119 -70.6496 \nL 473.993092 -68.288463 \nL 479.145066 -67.147636 \nL 484.29704 -64.968443 \nL 489.449014 -64.747773 \nL 494.600987 -65.349258 \nL 499.752961 -65.091847 \nL 504.904935 -63.940855 \nL 510.056909 -63.97376 \nL 515.208882 -63.47509 \nL 520.360856 -63.113287 \nL 525.51283 -61.63942 \nL 530.664804 -60.108509 \nL 535.816777 -58.537392 \nL 540.968751 -56.927433 \nL 546.120725 -56.093078 \nL 551.272699 -54.977946 \nL 551.272699 -58.735748 \nL 551.272699 -58.735748 \nL 546.120725 -59.760609 \nL 540.968751 -60.431409 \nL 535.816777 -62.071818 \nL 530.664804 -63.674901 \nL 525.51283 -65.280478 \nL 520.360856 -66.873603 \nL 515.208882 -67.248804 \nL 510.056909 -67.824132 \nL 504.904935 -67.85599 \nL 499.752961 -69.38127 \nL 494.600987 -70.012968 \nL 489.449014 -69.68566 \nL 484.29704 -70.399716 \nL 479.145066 -73.659168 \nL 473.993092 -75.691389 \nL 468.841119 -79.333175 \nL 463.689145 -81.277427 \nL 458.537171 -82.603361 \nL 453.385197 -85.118899 \nL 448.233224 -88.059115 \nL 443.08125 -88.045593 \nL 437.929276 -90.839639 \nL 432.777303 -93.797267 \nL 427.625329 -93.041505 \nL 422.473355 -98.872527 \nL 417.321381 -102.782426 \nL 412.169408 -97.942535 \nL 407.017434 -100.45831 \nL 401.86546 -103.506802 \nL 396.713486 -105.90231 \nL 391.561513 -100.423652 \nL 386.409539 -104.649073 \nL 381.257565 -108.887634 \nL 376.105591 -133.498204 \nL 370.953618 -167.618237 \nz\n\" id=\"mefd60a5858\"/>\n    </defs>\n    <g clip-path=\"url(#pb25434942a)\">\n     <use style=\"fill:#0000ff;fill-opacity:0.35;\" x=\"0\" xlink:href=\"#mefd60a5858\" y=\"435.437812\"/>\n    </g>\n   </g>\n   <g id=\"PolyCollection_12\">\n    <defs>\n     <path d=\"M 370.953618 -96.476395 \nL 370.953618 -68.305858 \nL 376.105591 -65.080305 \nL 381.257565 -61.429467 \nL 386.409539 -61.966025 \nL 391.561513 -61.618212 \nL 396.713486 -63.851378 \nL 401.86546 -63.083436 \nL 407.017434 -62.09043 \nL 412.169408 -61.351663 \nL 417.321381 -62.659634 \nL 422.473355 -61.248883 \nL 427.625329 -59.576936 \nL 432.777303 -59.774217 \nL 437.929276 -58.746511 \nL 443.08125 -57.732405 \nL 448.233224 -57.404013 \nL 453.385197 -56.385974 \nL 458.537171 -55.618347 \nL 463.689145 -55.225507 \nL 468.841119 -54.791009 \nL 473.993092 -54.086723 \nL 479.145066 -53.777004 \nL 484.29704 -53.214818 \nL 489.449014 -53.221669 \nL 494.600987 -53.489024 \nL 499.752961 -53.557291 \nL 504.904935 -53.409278 \nL 510.056909 -53.656312 \nL 515.208882 -53.750157 \nL 520.360856 -53.886197 \nL 525.51283 -53.588097 \nL 530.664804 -53.20206 \nL 535.816777 -52.732735 \nL 540.968751 -52.176746 \nL 546.120725 -51.884861 \nL 551.272699 -51.438765 \nL 551.272699 -53.241807 \nL 551.272699 -53.241807 \nL 546.120725 -53.667626 \nL 540.968751 -53.882631 \nL 535.816777 -54.434232 \nL 530.664804 -54.86567 \nL 525.51283 -55.210238 \nL 520.360856 -55.460365 \nL 515.208882 -55.200885 \nL 510.056909 -55.004758 \nL 504.904935 -54.665013 \nL 499.752961 -54.846485 \nL 494.600987 -54.835736 \nL 489.449014 -54.622226 \nL 484.29704 -54.751442 \nL 479.145066 -55.641287 \nL 473.993092 -56.262008 \nL 468.841119 -57.448485 \nL 463.689145 -58.306176 \nL 458.537171 -59.119243 \nL 453.385197 -60.447868 \nL 448.233224 -62.082656 \nL 443.08125 -62.74528 \nL 437.929276 -64.42388 \nL 432.777303 -66.17519 \nL 427.625329 -66.382318 \nL 422.473355 -69.349509 \nL 417.321381 -71.903199 \nL 412.169408 -70.629563 \nL 407.017434 -72.488085 \nL 401.86546 -74.702259 \nL 396.713486 -76.656465 \nL 391.561513 -74.422386 \nL 386.409539 -76.354298 \nL 381.257565 -77.371912 \nL 376.105591 -86.218883 \nL 370.953618 -96.476395 \nz\n\" id=\"m6341fb8306\"/>\n    </defs>\n    <g clip-path=\"url(#pb25434942a)\">\n     <use style=\"fill:#ff0000;fill-opacity:0.35;\" x=\"0\" xlink:href=\"#m6341fb8306\" y=\"435.437812\"/>\n    </g>\n   </g>\n   <g id=\"line2d_90\">\n    <path clip-path=\"url(#pb25434942a)\" d=\"M 370.953618 339.329101 \nL 376.105591 349.687262 \nL 381.257565 358.873383 \nL 386.409539 359.29707 \nL 391.561513 360.688503 \nL 396.713486 357.21577 \nL 401.86546 358.641092 \nL 407.017434 360.520088 \nL 412.169408 362.033682 \nL 417.321381 359.72417 \nL 422.473355 362.233509 \nL 427.625329 365.452843 \nL 432.777303 365.222014 \nL 437.929276 367.028377 \nL 443.08125 368.821298 \nL 448.233224 369.304878 \nL 453.385197 371.15448 \nL 458.537171 372.651985 \nL 463.689145 373.487188 \nL 468.841119 374.447046 \nL 473.993092 375.964441 \nL 479.145066 376.71843 \nL 484.29704 377.928747 \nL 489.449014 378.041583 \nL 494.600987 377.662152 \nL 499.752961 377.646029 \nL 504.904935 378.012598 \nL 510.056909 377.66758 \nL 515.208882 377.591139 \nL 520.360856 377.445232 \nL 525.51283 378.027842 \nL 530.664804 378.722316 \nL 535.816777 379.514553 \nL 540.968751 380.419082 \nL 546.120725 380.84293 \nL 551.272699 381.514237 \n\" style=\"fill:none;stroke:#000000;stroke-dasharray:3.7,1.6;stroke-dashoffset:0;\"/>\n   </g>\n   <g id=\"line2d_91\">\n    <path clip-path=\"url(#pb25434942a)\" d=\"M 370.953618 339.329101 \nL 376.105591 349.687262 \nL 381.257565 358.873383 \nL 386.409539 359.29707 \nL 391.561513 360.688503 \nL 396.713486 357.21577 \nL 401.86546 358.641092 \nL 407.017434 360.520088 \nL 412.169408 362.033682 \nL 417.321381 359.72417 \nL 422.473355 362.233509 \nL 427.625329 365.452843 \nL 432.777303 365.222014 \nL 437.929276 367.028377 \nL 443.08125 368.821298 \nL 448.233224 369.304878 \nL 453.385197 371.15448 \nL 458.537171 372.651985 \nL 463.689145 373.487188 \nL 468.841119 374.447046 \nL 473.993092 375.964441 \nL 479.145066 376.71843 \nL 484.29704 377.928747 \nL 489.449014 378.041583 \nL 494.600987 377.662152 \nL 499.752961 377.646029 \nL 504.904935 378.012598 \nL 510.056909 377.66758 \nL 515.208882 377.591139 \nL 520.360856 377.445232 \nL 525.51283 378.027842 \nL 530.664804 378.722316 \nL 535.816777 379.514553 \nL 540.968751 380.419082 \nL 546.120725 380.84293 \nL 551.272699 381.514237 \n\" style=\"fill:none;stroke:#000000;stroke-dasharray:3.7,1.6;stroke-dashoffset:0;\"/>\n   </g>\n   <g id=\"line2d_92\">\n    <path clip-path=\"url(#pb25434942a)\" d=\"M 370.953618 310.401905 \nL 376.105591 330.448145 \nL 381.257565 346.135339 \nL 386.409539 347.49688 \nL 391.561513 349.507388 \nL 396.713486 343.952962 \nL 401.86546 345.126803 \nL 407.017434 347.076267 \nL 412.169408 348.594558 \nL 417.321381 343.928451 \nL 422.473355 346.803665 \nL 427.625329 351.393171 \nL 432.777303 350.325163 \nL 437.929276 352.44981 \nL 443.08125 354.555123 \nL 448.233224 354.288519 \nL 453.385197 356.599621 \nL 458.537171 358.56736 \nL 463.689145 359.483972 \nL 468.841119 360.924179 \nL 473.993092 363.859987 \nL 479.145066 365.406991 \nL 484.29704 368.057608 \nL 489.449014 368.486118 \nL 494.600987 367.982403 \nL 499.752961 368.371605 \nL 504.904935 369.662355 \nL 510.056909 369.639337 \nL 515.208882 370.155539 \nL 520.360856 370.51306 \nL 525.51283 372.042548 \nL 530.664804 373.615976 \nL 535.816777 375.214412 \nL 540.968751 376.853783 \nL 546.120725 377.626948 \nL 551.272699 378.718064 \n\" style=\"fill:none;stroke:#0000ff;stroke-linecap:square;\"/>\n   </g>\n   <g id=\"line2d_93\">\n    <path clip-path=\"url(#pb25434942a)\" d=\"M 370.953618 355.217421 \nL 376.105591 361.2669 \nL 381.257565 367.078333 \nL 386.409539 367.140006 \nL 391.561513 368.126671 \nL 396.713486 365.838053 \nL 401.86546 367.119293 \nL 407.017434 368.668547 \nL 412.169408 369.916809 \nL 417.321381 368.617403 \nL 422.473355 370.550469 \nL 427.625329 372.814848 \nL 432.777303 372.800726 \nL 437.929276 374.142805 \nL 443.08125 375.459702 \nL 448.233224 375.938526 \nL 453.385197 377.239289 \nL 458.537171 378.266577 \nL 463.689145 378.854279 \nL 468.841119 379.481214 \nL 473.993092 380.40039 \nL 479.145066 380.847971 \nL 484.29704 381.549565 \nL 489.449014 381.59637 \nL 494.600987 381.34182 \nL 499.752961 381.284857 \nL 504.904935 381.437279 \nL 510.056909 381.141258 \nL 515.208882 380.995752 \nL 520.360856 380.800631 \nL 525.51283 381.076866 \nL 530.664804 381.44501 \nL 535.816777 381.899739 \nL 540.968751 382.457194 \nL 546.120725 382.716033 \nL 551.272699 383.159043 \n\" style=\"fill:none;stroke:#ff0000;stroke-linecap:square;\"/>\n   </g>\n  </g>\n  <g id=\"axes_7\">\n   <g id=\"patch_422\">\n    <path d=\"M 606.85617 389.808021 \nL 849.6 389.808021 \nL 849.6 262.010602 \nL 606.85617 262.010602 \nz\n\" style=\"fill:#ffffff;\"/>\n   </g>\n   <g id=\"line2d_94\">\n    <path clip-path=\"url(#p7fedb2030c)\" d=\"M 606.85617 372.048705 \nL 849.6 372.048705 \n\" style=\"fill:none;stroke:#a9a9a9;stroke-linecap:square;stroke-width:2;\"/>\n   </g>\n   <g id=\"line2d_95\">\n    <path clip-path=\"url(#p7fedb2030c)\" d=\"M 606.85617 372.048705 \nL 849.6 372.048705 \n\" style=\"fill:none;stroke:#a9a9a9;stroke-linecap:square;stroke-width:2;\"/>\n   </g>\n   <g id=\"PolyCollection_13\">\n    <defs>\n     <path d=\"M 655.228731 -81.673348 \nL 655.228731 -52.71157 \nL 660.263169 -55.577 \nL 665.297607 -57.520002 \nL 670.332046 -60.9397 \nL 675.366484 -70.47349 \nL 680.400922 -67.256714 \nL 685.43536 -64.16866 \nL 690.469798 -60.649503 \nL 695.504237 -59.603085 \nL 700.538675 -60.343247 \nL 705.573113 -61.364707 \nL 710.607551 -58.72251 \nL 715.64199 -58.834769 \nL 720.676428 -60.872799 \nL 725.710866 -63.553872 \nL 730.745304 -63.883333 \nL 735.779742 -63.415933 \nL 740.814181 -62.833087 \nL 745.848619 -61.735423 \nL 750.883057 -61.890337 \nL 755.917495 -60.750051 \nL 760.951934 -59.639368 \nL 765.986372 -58.901308 \nL 771.02081 -58.029583 \nL 776.055248 -57.233854 \nL 781.089686 -57.443491 \nL 786.124125 -56.285416 \nL 791.158563 -56.147405 \nL 796.193001 -55.568428 \nL 801.227439 -55.548585 \nL 806.261878 -55.501102 \nL 811.296316 -55.371934 \nL 816.330754 -54.791913 \nL 821.365192 -56.272574 \nL 826.399631 -55.659367 \nL 831.434069 -55.421282 \nL 836.468507 -54.316959 \nL 836.468507 -57.329667 \nL 836.468507 -57.329667 \nL 831.434069 -58.670336 \nL 826.399631 -58.768923 \nL 821.365192 -59.271037 \nL 816.330754 -57.075505 \nL 811.296316 -57.59954 \nL 806.261878 -57.577876 \nL 801.227439 -57.491947 \nL 796.193001 -57.41949 \nL 791.158563 -58.044114 \nL 786.124125 -58.213753 \nL 781.089686 -59.657059 \nL 776.055248 -59.529376 \nL 771.02081 -60.664208 \nL 765.986372 -61.966426 \nL 760.951934 -63.150575 \nL 755.917495 -64.851066 \nL 750.883057 -66.739487 \nL 745.848619 -67.055747 \nL 740.814181 -69.168428 \nL 735.779742 -70.585534 \nL 730.745304 -71.557993 \nL 725.710866 -71.408239 \nL 720.676428 -68.233415 \nL 715.64199 -66.006499 \nL 710.607551 -66.574704 \nL 705.573113 -71.267985 \nL 700.538675 -70.717894 \nL 695.504237 -71.048791 \nL 690.469798 -75.05576 \nL 685.43536 -84.399156 \nL 680.400922 -93.081537 \nL 675.366484 -102.213833 \nL 670.332046 -88.997309 \nL 665.297607 -86.260665 \nL 660.263169 -85.977626 \nL 655.228731 -81.673348 \nz\n\" id=\"mfd0b514670\"/>\n    </defs>\n    <g clip-path=\"url(#p7fedb2030c)\">\n     <use style=\"fill-opacity:0.35;\" x=\"0\" xlink:href=\"#mfd0b514670\" y=\"435.437812\"/>\n    </g>\n   </g>\n   <g id=\"PolyCollection_14\">\n    <g clip-path=\"url(#p7fedb2030c)\">\n     <use style=\"fill-opacity:0.35;\" x=\"0\" xlink:href=\"#mfd0b514670\" y=\"435.437812\"/>\n    </g>\n   </g>\n   <g id=\"matplotlib.axis_13\">\n    <g id=\"xtick_48\">\n     <g id=\"line2d_96\">\n      <g>\n       <use style=\"stroke:#000000;stroke-width:0.8;\" x=\"619.987663\" xlink:href=\"#mab22b3d465\" y=\"389.808021\"/>\n      </g>\n     </g>\n     <g id=\"text_77\">\n      <!-- Mar 01 -->\n      <g transform=\"translate(609.645674 426.767251)rotate(-45)scale(0.1 -0.1)\">\n       <use xlink:href=\"#DejaVuSans-77\"/>\n       <use x=\"86.279297\" xlink:href=\"#DejaVuSans-97\"/>\n       <use x=\"147.558594\" xlink:href=\"#DejaVuSans-114\"/>\n       <use x=\"188.671875\" xlink:href=\"#DejaVuSans-32\"/>\n       <use x=\"220.458984\" xlink:href=\"#DejaVuSans-48\"/>\n       <use x=\"284.082031\" xlink:href=\"#DejaVuSans-49\"/>\n      </g>\n     </g>\n    </g>\n    <g id=\"xtick_49\">\n     <g id=\"line2d_97\">\n      <g>\n       <use style=\"stroke:#000000;stroke-width:0.8;\" x=\"655.228731\" xlink:href=\"#mab22b3d465\" y=\"389.808021\"/>\n      </g>\n     </g>\n     <g id=\"text_78\">\n      <!-- Mar 08 -->\n      <g transform=\"translate(644.886742 426.767251)rotate(-45)scale(0.1 -0.1)\">\n       <use xlink:href=\"#DejaVuSans-77\"/>\n       <use x=\"86.279297\" xlink:href=\"#DejaVuSans-97\"/>\n       <use x=\"147.558594\" xlink:href=\"#DejaVuSans-114\"/>\n       <use x=\"188.671875\" xlink:href=\"#DejaVuSans-32\"/>\n       <use x=\"220.458984\" xlink:href=\"#DejaVuSans-48\"/>\n       <use x=\"284.082031\" xlink:href=\"#DejaVuSans-56\"/>\n      </g>\n     </g>\n    </g>\n    <g id=\"xtick_50\">\n     <g id=\"line2d_98\">\n      <g>\n       <use style=\"stroke:#000000;stroke-width:0.8;\" x=\"690.469798\" xlink:href=\"#mab22b3d465\" y=\"389.808021\"/>\n      </g>\n     </g>\n     <g id=\"text_79\">\n      <!-- Mar 15 -->\n      <g transform=\"translate(680.127809 426.767251)rotate(-45)scale(0.1 -0.1)\">\n       <use xlink:href=\"#DejaVuSans-77\"/>\n       <use x=\"86.279297\" xlink:href=\"#DejaVuSans-97\"/>\n       <use x=\"147.558594\" xlink:href=\"#DejaVuSans-114\"/>\n       <use x=\"188.671875\" xlink:href=\"#DejaVuSans-32\"/>\n       <use x=\"220.458984\" xlink:href=\"#DejaVuSans-49\"/>\n       <use x=\"284.082031\" xlink:href=\"#DejaVuSans-53\"/>\n      </g>\n     </g>\n    </g>\n    <g id=\"xtick_51\">\n     <g id=\"line2d_99\">\n      <g>\n       <use style=\"stroke:#000000;stroke-width:0.8;\" x=\"725.710866\" xlink:href=\"#mab22b3d465\" y=\"389.808021\"/>\n      </g>\n     </g>\n     <g id=\"text_80\">\n      <!-- Mar 22 -->\n      <g transform=\"translate(715.368877 426.767251)rotate(-45)scale(0.1 -0.1)\">\n       <use xlink:href=\"#DejaVuSans-77\"/>\n       <use x=\"86.279297\" xlink:href=\"#DejaVuSans-97\"/>\n       <use x=\"147.558594\" xlink:href=\"#DejaVuSans-114\"/>\n       <use x=\"188.671875\" xlink:href=\"#DejaVuSans-32\"/>\n       <use x=\"220.458984\" xlink:href=\"#DejaVuSans-50\"/>\n       <use x=\"284.082031\" xlink:href=\"#DejaVuSans-50\"/>\n      </g>\n     </g>\n    </g>\n    <g id=\"xtick_52\">\n     <g id=\"line2d_100\">\n      <g>\n       <use style=\"stroke:#000000;stroke-width:0.8;\" x=\"760.951934\" xlink:href=\"#mab22b3d465\" y=\"389.808021\"/>\n      </g>\n     </g>\n     <g id=\"text_81\">\n      <!-- Mar 29 -->\n      <g transform=\"translate(750.609944 426.767251)rotate(-45)scale(0.1 -0.1)\">\n       <use xlink:href=\"#DejaVuSans-77\"/>\n       <use x=\"86.279297\" xlink:href=\"#DejaVuSans-97\"/>\n       <use x=\"147.558594\" xlink:href=\"#DejaVuSans-114\"/>\n       <use x=\"188.671875\" xlink:href=\"#DejaVuSans-32\"/>\n       <use x=\"220.458984\" xlink:href=\"#DejaVuSans-50\"/>\n       <use x=\"284.082031\" xlink:href=\"#DejaVuSans-57\"/>\n      </g>\n     </g>\n    </g>\n    <g id=\"xtick_53\">\n     <g id=\"line2d_101\">\n      <g>\n       <use style=\"stroke:#000000;stroke-width:0.8;\" x=\"796.193001\" xlink:href=\"#mab22b3d465\" y=\"389.808021\"/>\n      </g>\n     </g>\n     <g id=\"text_82\">\n      <!-- Apr 05 -->\n      <g transform=\"translate(786.405097 425.659082)rotate(-45)scale(0.1 -0.1)\">\n       <use xlink:href=\"#DejaVuSans-65\"/>\n       <use x=\"68.408203\" xlink:href=\"#DejaVuSans-112\"/>\n       <use x=\"131.884766\" xlink:href=\"#DejaVuSans-114\"/>\n       <use x=\"172.998047\" xlink:href=\"#DejaVuSans-32\"/>\n       <use x=\"204.785156\" xlink:href=\"#DejaVuSans-48\"/>\n       <use x=\"268.408203\" xlink:href=\"#DejaVuSans-53\"/>\n      </g>\n     </g>\n    </g>\n    <g id=\"xtick_54\">\n     <g id=\"line2d_102\">\n      <g>\n       <use style=\"stroke:#000000;stroke-width:0.8;\" x=\"831.434069\" xlink:href=\"#mab22b3d465\" y=\"389.808021\"/>\n      </g>\n     </g>\n     <g id=\"text_83\">\n      <!-- Apr 12 -->\n      <g transform=\"translate(821.646164 425.659082)rotate(-45)scale(0.1 -0.1)\">\n       <use xlink:href=\"#DejaVuSans-65\"/>\n       <use x=\"68.408203\" xlink:href=\"#DejaVuSans-112\"/>\n       <use x=\"131.884766\" xlink:href=\"#DejaVuSans-114\"/>\n       <use x=\"172.998047\" xlink:href=\"#DejaVuSans-32\"/>\n       <use x=\"204.785156\" xlink:href=\"#DejaVuSans-49\"/>\n       <use x=\"268.408203\" xlink:href=\"#DejaVuSans-50\"/>\n      </g>\n     </g>\n    </g>\n   </g>\n   <g id=\"matplotlib.axis_14\">\n    <g id=\"ytick_29\">\n     <g id=\"line2d_103\">\n      <g>\n       <use style=\"stroke:#000000;stroke-width:0.8;\" x=\"606.85617\" xlink:href=\"#md3d2d8c597\" y=\"385.358212\"/>\n      </g>\n     </g>\n     <g id=\"text_84\">\n      <!-- 0 -->\n      <g transform=\"translate(593.49367 389.157431)scale(0.1 -0.1)\">\n       <use xlink:href=\"#DejaVuSans-48\"/>\n      </g>\n     </g>\n    </g>\n    <g id=\"ytick_30\">\n     <g id=\"line2d_104\">\n      <g>\n       <use style=\"stroke:#000000;stroke-width:0.8;\" x=\"606.85617\" xlink:href=\"#md3d2d8c597\" y=\"358.739198\"/>\n      </g>\n     </g>\n     <g id=\"text_85\">\n      <!-- 2 -->\n      <g transform=\"translate(593.49367 362.538417)scale(0.1 -0.1)\">\n       <use xlink:href=\"#DejaVuSans-50\"/>\n      </g>\n     </g>\n    </g>\n    <g id=\"ytick_31\">\n     <g id=\"line2d_105\">\n      <g>\n       <use style=\"stroke:#000000;stroke-width:0.8;\" x=\"606.85617\" xlink:href=\"#md3d2d8c597\" y=\"332.120184\"/>\n      </g>\n     </g>\n     <g id=\"text_86\">\n      <!-- 4 -->\n      <g transform=\"translate(593.49367 335.919403)scale(0.1 -0.1)\">\n       <use xlink:href=\"#DejaVuSans-52\"/>\n      </g>\n     </g>\n    </g>\n    <g id=\"ytick_32\">\n     <g id=\"line2d_106\">\n      <g>\n       <use style=\"stroke:#000000;stroke-width:0.8;\" x=\"606.85617\" xlink:href=\"#md3d2d8c597\" y=\"305.50117\"/>\n      </g>\n     </g>\n     <g id=\"text_87\">\n      <!-- 6 -->\n      <g transform=\"translate(593.49367 309.300389)scale(0.1 -0.1)\">\n       <use xlink:href=\"#DejaVuSans-54\"/>\n      </g>\n     </g>\n    </g>\n    <g id=\"ytick_33\">\n     <g id=\"line2d_107\">\n      <g>\n       <use style=\"stroke:#000000;stroke-width:0.8;\" x=\"606.85617\" xlink:href=\"#md3d2d8c597\" y=\"278.882156\"/>\n      </g>\n     </g>\n     <g id=\"text_88\">\n      <!-- 8 -->\n      <g transform=\"translate(593.49367 282.681375)scale(0.1 -0.1)\">\n       <use xlink:href=\"#DejaVuSans-56\"/>\n      </g>\n     </g>\n    </g>\n    <g id=\"text_89\">\n     <!-- $R_t^\\mathrm{local}$ -->\n     <g transform=\"translate(586.69367 338.059311)rotate(-90)scale(0.1 -0.1)\">\n      <use transform=\"translate(0 0.529687)\" xlink:href=\"#DejaVuSans-Oblique-82\"/>\n      <use transform=\"translate(76.499193 38.810938)scale(0.7)\" xlink:href=\"#DejaVuSans-108\"/>\n      <use transform=\"translate(95.947435 38.810938)scale(0.7)\" xlink:href=\"#DejaVuSans-111\"/>\n      <use transform=\"translate(138.774583 38.810938)scale(0.7)\" xlink:href=\"#DejaVuSans-99\"/>\n      <use transform=\"translate(177.260911 38.810938)scale(0.7)\" xlink:href=\"#DejaVuSans-97\"/>\n      <use transform=\"translate(220.156419 38.810938)scale(0.7)\" xlink:href=\"#DejaVuSans-108\"/>\n      <use transform=\"translate(69.482422 -26.814063)scale(0.7)\" xlink:href=\"#DejaVuSans-Oblique-116\"/>\n     </g>\n    </g>\n   </g>\n   <g id=\"patch_423\">\n    <path d=\"M 606.85617 389.808021 \nL 606.85617 262.010602 \n\" style=\"fill:none;stroke:#000000;stroke-linecap:square;stroke-linejoin:miter;stroke-width:0.8;\"/>\n   </g>\n   <g id=\"patch_424\">\n    <path d=\"M 849.6 389.808021 \nL 849.6 262.010602 \n\" style=\"fill:none;stroke:#000000;stroke-linecap:square;stroke-linejoin:miter;stroke-width:0.8;\"/>\n   </g>\n   <g id=\"patch_425\">\n    <path d=\"M 606.85617 389.808021 \nL 849.6 389.808021 \n\" style=\"fill:none;stroke:#000000;stroke-linecap:square;stroke-linejoin:miter;stroke-width:0.8;\"/>\n   </g>\n   <g id=\"patch_426\">\n    <path d=\"M 606.85617 262.010602 \nL 849.6 262.010602 \n\" style=\"fill:none;stroke:#000000;stroke-linecap:square;stroke-linejoin:miter;stroke-width:0.8;\"/>\n   </g>\n   <g id=\"PolyCollection_15\">\n    <path clip-path=\"url(#p7fedb2030c)\" d=\"M 655.228731 353.764465 \nL 655.228731 382.726242 \nL 660.263169 379.860813 \nL 665.297607 377.917811 \nL 670.332046 374.498113 \nL 675.366484 364.964322 \nL 680.400922 368.181098 \nL 685.43536 371.269152 \nL 690.469798 374.788309 \nL 695.504237 375.834728 \nL 700.538675 375.094565 \nL 705.573113 374.073105 \nL 710.607551 376.715303 \nL 715.64199 376.603043 \nL 720.676428 374.565014 \nL 725.710866 371.883941 \nL 730.745304 371.55448 \nL 735.779742 372.021879 \nL 740.814181 372.604725 \nL 745.848619 373.702389 \nL 750.883057 373.547476 \nL 755.917495 374.687761 \nL 760.951934 375.798444 \nL 765.986372 376.536504 \nL 771.02081 377.408229 \nL 776.055248 378.203959 \nL 781.089686 377.994321 \nL 786.124125 379.152397 \nL 791.158563 379.290407 \nL 796.193001 379.869385 \nL 801.227439 379.889227 \nL 806.261878 379.936711 \nL 811.296316 380.065878 \nL 816.330754 380.6459 \nL 821.365192 379.165239 \nL 826.399631 379.778446 \nL 831.434069 380.01653 \nL 836.468507 381.120853 \nL 836.468507 378.108146 \nL 836.468507 378.108146 \nL 831.434069 376.767477 \nL 826.399631 376.66889 \nL 821.365192 376.166775 \nL 816.330754 378.362308 \nL 811.296316 377.838273 \nL 806.261878 377.859937 \nL 801.227439 377.945866 \nL 796.193001 378.018322 \nL 791.158563 377.393698 \nL 786.124125 377.224059 \nL 781.089686 375.780753 \nL 776.055248 375.908437 \nL 771.02081 374.773605 \nL 765.986372 373.471386 \nL 760.951934 372.287237 \nL 755.917495 370.586746 \nL 750.883057 368.698326 \nL 745.848619 368.382065 \nL 740.814181 366.269385 \nL 735.779742 364.852278 \nL 730.745304 363.879819 \nL 725.710866 364.029573 \nL 720.676428 367.204398 \nL 715.64199 369.431313 \nL 710.607551 368.863108 \nL 705.573113 364.169827 \nL 700.538675 364.719918 \nL 695.504237 364.389021 \nL 690.469798 360.382053 \nL 685.43536 351.038656 \nL 680.400922 342.356276 \nL 675.366484 333.223979 \nL 670.332046 346.440503 \nL 665.297607 349.177147 \nL 660.263169 349.460187 \nL 655.228731 353.764465 \nz\n\" style=\"fill:url(#hef461f0010);\"/>\n   </g>\n   <g id=\"PolyCollection_16\">\n    <path clip-path=\"url(#p7fedb2030c)\" d=\"M 655.228731 353.764465 \nL 655.228731 382.726242 \nL 660.263169 379.860813 \nL 665.297607 377.917811 \nL 670.332046 374.498113 \nL 675.366484 364.964322 \nL 680.400922 368.181098 \nL 685.43536 371.269152 \nL 690.469798 374.788309 \nL 695.504237 375.834728 \nL 700.538675 375.094565 \nL 705.573113 374.073105 \nL 710.607551 376.715303 \nL 715.64199 376.603043 \nL 720.676428 374.565014 \nL 725.710866 371.883941 \nL 730.745304 371.55448 \nL 735.779742 372.021879 \nL 740.814181 372.604725 \nL 745.848619 373.702389 \nL 750.883057 373.547476 \nL 755.917495 374.687761 \nL 760.951934 375.798444 \nL 765.986372 376.536504 \nL 771.02081 377.408229 \nL 776.055248 378.203959 \nL 781.089686 377.994321 \nL 786.124125 379.152397 \nL 791.158563 379.290407 \nL 796.193001 379.869385 \nL 801.227439 379.889227 \nL 806.261878 379.936711 \nL 811.296316 380.065878 \nL 816.330754 380.6459 \nL 821.365192 379.165239 \nL 826.399631 379.778446 \nL 831.434069 380.01653 \nL 836.468507 381.120853 \nL 836.468507 378.108146 \nL 836.468507 378.108146 \nL 831.434069 376.767477 \nL 826.399631 376.66889 \nL 821.365192 376.166775 \nL 816.330754 378.362308 \nL 811.296316 377.838273 \nL 806.261878 377.859937 \nL 801.227439 377.945866 \nL 796.193001 378.018322 \nL 791.158563 377.393698 \nL 786.124125 377.224059 \nL 781.089686 375.780753 \nL 776.055248 375.908437 \nL 771.02081 374.773605 \nL 765.986372 373.471386 \nL 760.951934 372.287237 \nL 755.917495 370.586746 \nL 750.883057 368.698326 \nL 745.848619 368.382065 \nL 740.814181 366.269385 \nL 735.779742 364.852278 \nL 730.745304 363.879819 \nL 725.710866 364.029573 \nL 720.676428 367.204398 \nL 715.64199 369.431313 \nL 710.607551 368.863108 \nL 705.573113 364.169827 \nL 700.538675 364.719918 \nL 695.504237 364.389021 \nL 690.469798 360.382053 \nL 685.43536 351.038656 \nL 680.400922 342.356276 \nL 675.366484 333.223979 \nL 670.332046 346.440503 \nL 665.297607 349.177147 \nL 660.263169 349.460187 \nL 655.228731 353.764465 \nz\n\" style=\"fill:url(#hef461f0010);\"/>\n   </g>\n   <g id=\"PolyCollection_17\">\n    <defs>\n     <path d=\"M 655.228731 -155.318212 \nL 655.228731 -58.919992 \nL 660.263169 -67.937302 \nL 665.297607 -70.5164 \nL 670.332046 -75.019541 \nL 675.366484 -90.289089 \nL 680.400922 -79.498608 \nL 685.43536 -72.353285 \nL 690.469798 -66.393211 \nL 695.504237 -64.71191 \nL 700.538675 -65.983944 \nL 705.573113 -68.083229 \nL 710.607551 -64.418286 \nL 715.64199 -65.121988 \nL 720.676428 -69.202476 \nL 725.710866 -74.121032 \nL 730.745304 -74.050094 \nL 735.779742 -72.278301 \nL 740.814181 -70.352492 \nL 745.848619 -67.799705 \nL 750.883057 -67.399148 \nL 755.917495 -65.342618 \nL 760.951934 -63.566892 \nL 765.986372 -62.432281 \nL 771.02081 -61.152383 \nL 776.055248 -60.019706 \nL 781.089686 -60.320498 \nL 786.124125 -58.722498 \nL 791.158563 -58.503018 \nL 796.193001 -57.626511 \nL 801.227439 -57.487176 \nL 806.261878 -57.291566 \nL 811.296316 -56.970519 \nL 816.330754 -56.062564 \nL 821.365192 -57.748853 \nL 826.399631 -56.799515 \nL 831.434069 -56.327491 \nL 836.468507 -54.895391 \nL 836.468507 -57.953304 \nL 836.468507 -57.953304 \nL 831.434069 -59.668192 \nL 826.399631 -60.115218 \nL 821.365192 -61.074057 \nL 816.330754 -58.748891 \nL 811.296316 -59.693435 \nL 806.261878 -59.932733 \nL 801.227439 -60.044467 \nL 796.193001 -60.134092 \nL 791.158563 -61.134641 \nL 786.124125 -61.437475 \nL 781.089686 -63.472309 \nL 776.055248 -63.310129 \nL 771.02081 -64.976527 \nL 765.986372 -66.964005 \nL 760.951934 -68.890536 \nL 755.917495 -71.774005 \nL 750.883057 -75.299203 \nL 745.848619 -76.815801 \nL 740.814181 -81.496207 \nL 735.779742 -85.173763 \nL 730.745304 -87.77629 \nL 725.710866 -87.703218 \nL 720.676428 -81.579522 \nL 715.64199 -76.875545 \nL 710.607551 -76.945162 \nL 705.573113 -83.57449 \nL 700.538675 -82.150221 \nL 695.504237 -82.638489 \nL 690.469798 -89.56555 \nL 685.43536 -107.432009 \nL 680.400922 -130.234436 \nL 675.366484 -161.147766 \nL 670.332046 -145.761194 \nL 665.297607 -154.684203 \nL 660.263169 -167.618237 \nL 655.228731 -155.318212 \nz\n\" id=\"mc0c99ecf96\"/>\n    </defs>\n    <g clip-path=\"url(#p7fedb2030c)\">\n     <use style=\"fill:#0000ff;fill-opacity:0.35;\" x=\"0\" xlink:href=\"#mc0c99ecf96\" y=\"435.437812\"/>\n    </g>\n   </g>\n   <g id=\"PolyCollection_18\">\n    <defs>\n     <path d=\"M 655.228731 -66.42614 \nL 655.228731 -51.438765 \nL 660.263169 -52.937566 \nL 665.297607 -54.098951 \nL 670.332046 -56.261635 \nL 675.366484 -62.350456 \nL 680.400922 -61.092661 \nL 685.43536 -59.527226 \nL 690.469798 -57.27118 \nL 695.504237 -56.577306 \nL 700.538675 -57.046844 \nL 705.573113 -57.610311 \nL 710.607551 -55.727044 \nL 715.64199 -55.699099 \nL 720.676428 -56.905408 \nL 725.710866 -58.57399 \nL 730.745304 -58.891607 \nL 735.779742 -58.775094 \nL 740.814181 -58.60182 \nL 745.848619 -58.072149 \nL 750.883057 -58.364404 \nL 755.917495 -57.690391 \nL 760.951934 -56.963636 \nL 765.986372 -56.465742 \nL 771.02081 -55.856382 \nL 776.055248 -55.287155 \nL 781.089686 -55.436319 \nL 786.124125 -54.589635 \nL 791.158563 -54.499126 \nL 796.193001 -54.103722 \nL 801.227439 -54.131484 \nL 806.261878 -54.149163 \nL 811.296316 -54.115986 \nL 816.330754 -53.744172 \nL 821.365192 -54.992773 \nL 826.399631 -54.611703 \nL 831.434069 -54.531637 \nL 836.468507 -53.707757 \nL 836.468507 -56.672919 \nL 836.468507 -56.672919 \nL 831.434069 -57.660511 \nL 826.399631 -57.479599 \nL 821.365192 -57.646055 \nL 816.330754 -55.657777 \nL 811.296316 -55.918417 \nL 806.261878 -55.773458 \nL 801.227439 -55.609955 \nL 796.193001 -55.479287 \nL 791.158563 -55.882219 \nL 786.124125 -55.981044 \nL 781.089686 -57.021702 \nL 776.055248 -56.923657 \nL 771.02081 -57.718301 \nL 765.986372 -58.605147 \nL 760.951934 -59.374149 \nL 755.917495 -60.448892 \nL 750.883057 -61.561704 \nL 745.848619 -61.513812 \nL 740.814181 -62.62761 \nL 735.779742 -63.284603 \nL 730.745304 -63.734129 \nL 725.710866 -63.601849 \nL 720.676428 -61.684643 \nL 715.64199 -60.421844 \nL 710.607551 -60.976544 \nL 705.573113 -64.309642 \nL 700.538675 -64.071937 \nL 695.504237 -64.303021 \nL 690.469798 -66.852308 \nL 685.43536 -72.474419 \nL 680.400922 -76.762267 \nL 675.366484 -80.736978 \nL 670.332046 -71.891937 \nL 665.297607 -69.46409 \nL 660.263169 -68.730322 \nL 655.228731 -66.42614 \nz\n\" id=\"m8b727e500c\"/>\n    </defs>\n    <g clip-path=\"url(#p7fedb2030c)\">\n     <use style=\"fill:#ff0000;fill-opacity:0.35;\" x=\"0\" xlink:href=\"#m8b727e500c\" y=\"435.437812\"/>\n    </g>\n   </g>\n   <g id=\"line2d_108\">\n    <path clip-path=\"url(#p7fedb2030c)\" d=\"M 655.228731 372.41669 \nL 660.263169 368.134149 \nL 665.297607 366.409545 \nL 670.332046 362.851647 \nL 675.366484 351.279146 \nL 680.400922 357.030294 \nL 685.43536 362.577543 \nL 690.469798 368.596482 \nL 695.504237 370.863009 \nL 700.538675 370.529438 \nL 705.573113 369.666489 \nL 710.607551 373.218773 \nL 715.64199 373.414564 \nL 720.676428 371.292468 \nL 725.710866 368.384679 \nL 730.745304 368.108665 \nL 735.779742 368.818155 \nL 740.814181 369.806679 \nL 745.848619 371.36285 \nL 750.883057 371.421289 \nL 755.917495 372.876201 \nL 760.951934 374.236874 \nL 765.986372 375.169805 \nL 771.02081 376.22219 \nL 776.055248 377.155631 \nL 781.089686 376.971934 \nL 786.124125 378.246549 \nL 791.158563 378.393068 \nL 796.193001 378.989071 \nL 801.227439 378.964184 \nL 806.261878 378.951188 \nL 811.296316 379.014063 \nL 816.330754 379.574523 \nL 821.365192 377.761573 \nL 826.399631 378.325743 \nL 831.434069 378.494085 \nL 836.468507 379.71658 \n\" style=\"fill:none;stroke:#000000;stroke-dasharray:3.7,1.6;stroke-dashoffset:0;\"/>\n   </g>\n   <g id=\"line2d_109\">\n    <path clip-path=\"url(#p7fedb2030c)\" d=\"M 655.228731 372.41669 \nL 660.263169 368.134149 \nL 665.297607 366.409545 \nL 670.332046 362.851647 \nL 675.366484 351.279146 \nL 680.400922 357.030294 \nL 685.43536 362.577543 \nL 690.469798 368.596482 \nL 695.504237 370.863009 \nL 700.538675 370.529438 \nL 705.573113 369.666489 \nL 710.607551 373.218773 \nL 715.64199 373.414564 \nL 720.676428 371.292468 \nL 725.710866 368.384679 \nL 730.745304 368.108665 \nL 735.779742 368.818155 \nL 740.814181 369.806679 \nL 745.848619 371.36285 \nL 750.883057 371.421289 \nL 755.917495 372.876201 \nL 760.951934 374.236874 \nL 765.986372 375.169805 \nL 771.02081 376.22219 \nL 776.055248 377.155631 \nL 781.089686 376.971934 \nL 786.124125 378.246549 \nL 791.158563 378.393068 \nL 796.193001 378.989071 \nL 801.227439 378.964184 \nL 806.261878 378.951188 \nL 811.296316 379.014063 \nL 816.330754 379.574523 \nL 821.365192 377.761573 \nL 826.399631 378.325743 \nL 831.434069 378.494085 \nL 836.468507 379.71658 \n\" style=\"fill:none;stroke:#000000;stroke-dasharray:3.7,1.6;stroke-dashoffset:0;\"/>\n   </g>\n   <g id=\"line2d_110\">\n    <path clip-path=\"url(#p7fedb2030c)\" d=\"M 655.228731 342.07069 \nL 660.263169 329.132608 \nL 665.297607 331.81255 \nL 670.332046 331.784062 \nL 675.366484 315.402397 \nL 680.400922 334.58554 \nL 685.43536 348.357703 \nL 690.469798 359.209896 \nL 695.504237 362.992512 \nL 700.538675 362.369574 \nL 705.573113 360.477829 \nL 710.607551 365.426694 \nL 715.64199 365.065141 \nL 720.676428 360.697463 \nL 725.710866 355.200428 \nL 730.745304 355.140472 \nL 735.779742 357.355149 \nL 740.814181 360.149348 \nL 745.848619 363.677272 \nL 750.883057 364.591832 \nL 755.917495 367.281028 \nL 760.951934 369.532133 \nL 765.986372 371.008733 \nL 771.02081 372.582614 \nL 776.055248 373.929809 \nL 781.089686 373.672701 \nL 786.124125 375.445141 \nL 791.158563 375.691726 \nL 796.193001 376.617786 \nL 801.227439 376.729816 \nL 806.261878 376.885776 \nL 811.296316 377.171168 \nL 816.330754 378.103264 \nL 821.365192 376.116694 \nL 826.399631 377.075495 \nL 831.434069 377.535825 \nL 836.468507 379.112019 \n\" style=\"fill:none;stroke:#0000ff;stroke-linecap:square;\"/>\n   </g>\n   <g id=\"line2d_111\">\n    <path clip-path=\"url(#p7fedb2030c)\" d=\"M 655.228731 378.668692 \nL 660.263169 376.407815 \nL 665.297607 375.168313 \nL 670.332046 372.651128 \nL 675.366484 365.097163 \nL 680.400922 367.514538 \nL 685.43536 370.28809 \nL 690.469798 374.020814 \nL 695.504237 375.491762 \nL 700.538675 375.292643 \nL 705.573113 374.84278 \nL 710.607551 377.377405 \nL 715.64199 377.644816 \nL 720.676428 376.414696 \nL 725.710866 374.634922 \nL 730.745304 374.386005 \nL 735.779742 374.656771 \nL 740.814181 375.06257 \nL 745.848619 375.852687 \nL 750.883057 375.668057 \nL 755.917495 376.521616 \nL 760.951934 377.393263 \nL 765.986372 378.010405 \nL 771.02081 378.73702 \nL 776.055248 379.398464 \nL 781.089686 379.265451 \nL 786.124125 380.192824 \nL 791.158563 380.283784 \nL 796.193001 380.680848 \nL 801.227439 380.604953 \nL 806.261878 380.522327 \nL 811.296316 380.477637 \nL 816.330754 380.804052 \nL 821.365192 379.215536 \nL 826.399631 379.499646 \nL 831.434069 379.451803 \nL 836.468507 380.355185 \n\" style=\"fill:none;stroke:#ff0000;stroke-linecap:square;\"/>\n   </g>\n  </g>\n  <g id=\"text_90\">\n   <!-- (a) -->\n   <g transform=\"translate(18 17.837812)scale(0.14 -0.14)\">\n    <defs>\n     <path d=\"M 31 75.875 \nQ 24.46875 64.65625 21.28125 53.65625 \nQ 18.109375 42.671875 18.109375 31.390625 \nQ 18.109375 20.125 21.3125 9.0625 \nQ 24.515625 -2 31 -13.1875 \nL 23.1875 -13.1875 \nQ 15.875 -1.703125 12.234375 9.375 \nQ 8.59375 20.453125 8.59375 31.390625 \nQ 8.59375 42.28125 12.203125 53.3125 \nQ 15.828125 64.359375 23.1875 75.875 \nz\n\" id=\"DejaVuSans-40\"/>\n     <path d=\"M 8.015625 75.875 \nL 15.828125 75.875 \nQ 23.140625 64.359375 26.78125 53.3125 \nQ 30.421875 42.28125 30.421875 31.390625 \nQ 30.421875 20.453125 26.78125 9.375 \nQ 23.140625 -1.703125 15.828125 -13.1875 \nL 8.015625 -13.1875 \nQ 14.5 -2 17.703125 9.0625 \nQ 20.90625 20.125 20.90625 31.390625 \nQ 20.90625 42.671875 17.703125 53.65625 \nQ 14.5 64.65625 8.015625 75.875 \nz\n\" id=\"DejaVuSans-41\"/>\n    </defs>\n    <use xlink:href=\"#DejaVuSans-40\"/>\n    <use x=\"39.013672\" xlink:href=\"#DejaVuSans-97\"/>\n    <use x=\"100.292969\" xlink:href=\"#DejaVuSans-41\"/>\n   </g>\n  </g>\n  <g id=\"text_91\">\n   <!-- (b) -->\n   <g transform=\"translate(18 244.637812)scale(0.14 -0.14)\">\n    <defs>\n     <path d=\"M 48.6875 27.296875 \nQ 48.6875 37.203125 44.609375 42.84375 \nQ 40.53125 48.484375 33.40625 48.484375 \nQ 26.265625 48.484375 22.1875 42.84375 \nQ 18.109375 37.203125 18.109375 27.296875 \nQ 18.109375 17.390625 22.1875 11.75 \nQ 26.265625 6.109375 33.40625 6.109375 \nQ 40.53125 6.109375 44.609375 11.75 \nQ 48.6875 17.390625 48.6875 27.296875 \nz\nM 18.109375 46.390625 \nQ 20.953125 51.265625 25.265625 53.625 \nQ 29.59375 56 35.59375 56 \nQ 45.5625 56 51.78125 48.09375 \nQ 58.015625 40.1875 58.015625 27.296875 \nQ 58.015625 14.40625 51.78125 6.484375 \nQ 45.5625 -1.421875 35.59375 -1.421875 \nQ 29.59375 -1.421875 25.265625 0.953125 \nQ 20.953125 3.328125 18.109375 8.203125 \nL 18.109375 0 \nL 9.078125 0 \nL 9.078125 75.984375 \nL 18.109375 75.984375 \nz\n\" id=\"DejaVuSans-98\"/>\n    </defs>\n    <use xlink:href=\"#DejaVuSans-40\"/>\n    <use x=\"39.013672\" xlink:href=\"#DejaVuSans-98\"/>\n    <use x=\"102.490234\" xlink:href=\"#DejaVuSans-41\"/>\n   </g>\n  </g>\n </g>\n <defs>\n  <clipPath id=\"p312bc36d89\">\n   <rect height=\"127.797419\" width=\"242.74383\" x=\"36.5625\" y=\"34.475625\"/>\n  </clipPath>\n  <clipPath id=\"p44a64900c7\">\n   <rect height=\"38.339226\" width=\"97.097532\" x=\"55.982006\" y=\"89.428515\"/>\n  </clipPath>\n  <clipPath id=\"pdca89feece\">\n   <rect height=\"127.797419\" width=\"242.74383\" x=\"321.709335\" y=\"34.475625\"/>\n  </clipPath>\n  <clipPath id=\"p706cbb6e98\">\n   <rect height=\"127.797419\" width=\"242.74383\" x=\"606.85617\" y=\"34.475625\"/>\n  </clipPath>\n  <clipPath id=\"pf54e3d25a3\">\n   <rect height=\"127.797419\" width=\"242.74383\" x=\"36.5625\" y=\"262.010602\"/>\n  </clipPath>\n  <clipPath id=\"pb25434942a\">\n   <rect height=\"127.797419\" width=\"242.74383\" x=\"321.709335\" y=\"262.010602\"/>\n  </clipPath>\n  <clipPath id=\"p7fedb2030c\">\n   <rect height=\"127.797419\" width=\"242.74383\" x=\"606.85617\" y=\"262.010602\"/>\n  </clipPath>\n </defs>\n <defs>\n  <pattern height=\"72\" id=\"he6de91ee8a\" patternUnits=\"userSpaceOnUse\" width=\"72\" x=\"0\" y=\"0\">\n   <rect fill=\"#ff1493\" height=\"73\" width=\"73\" x=\"0\" y=\"0\"/>\n   <path d=\"M -36 36 \nL 36 -36 \nM -33.6 38.4 \nL 38.4 -33.6 \nM -31.2 40.8 \nL 40.8 -31.2 \nM -28.8 43.2 \nL 43.2 -28.8 \nM -26.4 45.6 \nL 45.6 -26.4 \nM -24 48 \nL 48 -24 \nM -21.6 50.4 \nL 50.4 -21.6 \nM -19.2 52.8 \nL 52.8 -19.2 \nM -16.8 55.2 \nL 55.2 -16.8 \nM -14.4 57.6 \nL 57.6 -14.4 \nM -12 60 \nL 60 -12 \nM -9.6 62.4 \nL 62.4 -9.6 \nM -7.2 64.8 \nL 64.8 -7.2 \nM -4.8 67.2 \nL 67.2 -4.8 \nM -2.4 69.6 \nL 69.6 -2.4 \nM 0 72 \nL 72 0 \nM 2.4 74.4 \nL 74.4 2.4 \nM 4.8 76.8 \nL 76.8 4.8 \nM 7.2 79.2 \nL 79.2 7.2 \nM 9.6 81.6 \nL 81.6 9.6 \nM 12 84 \nL 84 12 \nM 14.4 86.4 \nL 86.4 14.4 \nM 16.8 88.8 \nL 88.8 16.8 \nM 19.2 91.2 \nL 91.2 19.2 \nM 21.6 93.6 \nL 93.6 21.6 \nM 24 96 \nL 96 24 \nM 26.4 98.4 \nL 98.4 26.4 \nM 28.8 100.8 \nL 100.8 28.8 \nM 31.2 103.2 \nL 103.2 31.2 \nM 33.6 105.6 \nL 105.6 33.6 \nM 36 108 \nL 108 36 \n\" style=\"fill:#ffffff;stroke:#ffffff;stroke-linecap:butt;stroke-linejoin:miter;stroke-width:1.0;\"/>\n  </pattern>\n  <pattern height=\"72\" id=\"hef461f0010\" patternUnits=\"userSpaceOnUse\" width=\"72\" x=\"0\" y=\"0\">\n   <rect fill=\"none\" height=\"73\" width=\"73\" x=\"0\" y=\"0\"/>\n   <path d=\"M 1.5 72 \nL 1.5 0 \nM 4.5 72 \nL 4.5 0 \nM 7.5 72 \nL 7.5 0 \nM 10.5 72 \nL 10.5 0 \nM 13.5 72 \nL 13.5 0 \nM 16.5 72 \nL 16.5 0 \nM 19.5 72 \nL 19.5 0 \nM 22.5 72 \nL 22.5 0 \nM 25.5 72 \nL 25.5 0 \nM 28.5 72 \nL 28.5 0 \nM 31.5 72 \nL 31.5 0 \nM 34.5 72 \nL 34.5 0 \nM 37.5 72 \nL 37.5 0 \nM 40.5 72 \nL 40.5 0 \nM 43.5 72 \nL 43.5 0 \nM 46.5 72 \nL 46.5 0 \nM 49.5 72 \nL 49.5 0 \nM 52.5 72 \nL 52.5 0 \nM 55.5 72 \nL 55.5 0 \nM 58.5 72 \nL 58.5 0 \nM 61.5 72 \nL 61.5 0 \nM 64.5 72 \nL 64.5 0 \nM 67.5 72 \nL 67.5 0 \nM 70.5 72 \nL 70.5 0 \n\" style=\"fill:#ffffff;stroke:#ffffff;stroke-linecap:butt;stroke-linejoin:miter;stroke-width:1.0;\"/>\n  </pattern>\n </defs>\n</svg>\n",
      "image/png": "[encoded data removed]"
     },
     "metadata": {
      "needs_background": "light"
     }
    }
   ],
   "source": [
    "fig = branchpro.figures.plot_regions_inference(\n",
    "    datetime.datetime(2020, 3, 1),\n",
    "    ['Ontario', 'New South Wales', 'Victoria'],\n",
    "    [locally_infected_cases_ON, locally_infected_cases_NSW, locally_infected_cases_VIC],\n",
    "    [imported_cases_ON, imported_cases_NSW, imported_cases_VIC],\n",
    "    datetime.datetime(2020, 3, 1) + datetime.timedelta(days=inference_times[0]-1),\n",
    "    list(epsilon_range),\n",
    "    [[all_intervals_ON.loc[all_intervals_ON['Epsilon']==eps] for eps in epsilon_range],\n",
    "    [all_intervals_NSW.loc[all_intervals_NSW['Epsilon']==eps] for eps in epsilon_range],\n",
    "    [all_intervals_VIC.loc[all_intervals_VIC['Epsilon']==eps] for eps in epsilon_range]],\n",
    "    default_epsilon=1,\n",
    "    inset_region=['Ontario'],\n",
    "    show=False)\n",
    "\n",
    "plt.savefig('combined_inference.pdf')"
   ]
  },
  {
   "source": [
    "## Plot of Last times to R>1 and R<1 and Proprtion of time R>1"
   ],
   "cell_type": "markdown",
   "metadata": {}
  },
  {
   "cell_type": "code",
   "execution_count": 64,
   "metadata": {},
   "outputs": [
    {
     "output_type": "display_data",
     "data": {
      "application/vnd.plotly.v1+json": {
       "config": {
        "plotlyServerURL": "https://plot.ly"
       },
       "data": [
        {
         "line": {
          "color": "grey"
         },
         "mode": "lines",
         "name": "Mean",
         "type": "scatter",
         "x": [
          0.1,
          0.2,
          0.30000000000000004,
          0.4,
          0.5,
          0.6,
          0.7000000000000001,
          0.8,
          0.9,
          1,
          1.1,
          1.2000000000000002,
          1.3000000000000003,
          1.4000000000000001,
          1.5000000000000002,
          1.6,
          1.7000000000000002,
          1.8000000000000003,
          1.9000000000000001,
          2,
          2.1,
          2.2,
          2.3000000000000003,
          2.4000000000000004
         ],
         "xaxis": "x",
         "y": [
          null,
          null,
          null,
          null,
          10,
          19,
          20,
          22,
          23,
          23,
          42,
          42,
          43,
          43,
          43,
          43,
          44,
          44,
          44,
          44,
          45,
          45,
          45,
          45
         ],
         "yaxis": "y"
        },
        {
         "line": {
          "color": "orange",
          "dash": "dot"
         },
         "mode": "lines",
         "name": "2.5<sup>th</sup> percentile",
         "type": "scatter",
         "x": [
          0.1,
          0.2,
          0.30000000000000004,
          0.4,
          0.5,
          0.6,
          0.7000000000000001,
          0.8,
          0.9,
          1,
          1.1,
          1.2000000000000002,
          1.3000000000000003,
          1.4000000000000001,
          1.5000000000000002,
          1.6,
          1.7000000000000002,
          1.8000000000000003,
          1.9000000000000001,
          2,
          2.1,
          2.2,
          2.3000000000000003,
          2.4000000000000004
         ],
         "xaxis": "x",
         "y": [
          10,
          11,
          11,
          20,
          21,
          22,
          42,
          43,
          43,
          43,
          43,
          43,
          44,
          44,
          44,
          44,
          45,
          45,
          46,
          46,
          46,
          46,
          47,
          47
         ],
         "yaxis": "y"
        },
        {
         "line": {
          "color": "green",
          "dash": "dot"
         },
         "mode": "lines",
         "name": "97.5<sup>th</sup> percentile",
         "type": "scatter",
         "x": [
          0.1,
          0.2,
          0.30000000000000004,
          0.4,
          0.5,
          0.6,
          0.7000000000000001,
          0.8,
          0.9,
          1,
          1.1,
          1.2000000000000002,
          1.3000000000000003,
          1.4000000000000001,
          1.5000000000000002,
          1.6,
          1.7000000000000002,
          1.8000000000000003,
          1.9000000000000001,
          2,
          2.1,
          2.2,
          2.3000000000000003,
          2.4000000000000004
         ],
         "xaxis": "x",
         "y": [
          null,
          null,
          null,
          null,
          null,
          null,
          null,
          null,
          20,
          21,
          22,
          23,
          23,
          24,
          24,
          42,
          42,
          43,
          43,
          43,
          43,
          43,
          44,
          44
         ],
         "yaxis": "y"
        },
        {
         "line": {
          "color": "grey"
         },
         "mode": "lines",
         "name": "Mean",
         "showlegend": false,
         "type": "scatter",
         "x": [
          0.1,
          0.2,
          0.30000000000000004,
          0.4,
          0.5,
          0.6,
          0.7000000000000001,
          0.8,
          0.9,
          1,
          1.1,
          1.2000000000000002,
          1.3000000000000003,
          1.4000000000000001,
          1.5000000000000002,
          1.6,
          1.7000000000000002,
          1.8000000000000003,
          1.9000000000000001,
          2,
          2.1,
          2.2,
          2.3000000000000003,
          2.4000000000000004
         ],
         "xaxis": "x2",
         "y": [
          44,
          44,
          44,
          44,
          44,
          44,
          44,
          44,
          44,
          44,
          44,
          44,
          44,
          44,
          44,
          44,
          44,
          44,
          44,
          44,
          44,
          44,
          44,
          44
         ],
         "yaxis": "y2"
        },
        {
         "line": {
          "color": "orange",
          "dash": "dot"
         },
         "mode": "lines",
         "name": "2.5<sup>th</sup> percentile",
         "showlegend": false,
         "type": "scatter",
         "x": [
          0.1,
          0.2,
          0.30000000000000004,
          0.4,
          0.5,
          0.6,
          0.7000000000000001,
          0.8,
          0.9,
          1,
          1.1,
          1.2000000000000002,
          1.3000000000000003,
          1.4000000000000001,
          1.5000000000000002,
          1.6,
          1.7000000000000002,
          1.8000000000000003,
          1.9000000000000001,
          2,
          2.1,
          2.2,
          2.3000000000000003,
          2.4000000000000004
         ],
         "xaxis": "x2",
         "y": [
          44,
          44,
          44,
          44,
          44,
          44,
          44,
          44,
          44,
          44,
          44,
          44,
          44,
          44,
          44,
          44,
          44,
          44,
          44,
          44,
          44,
          44,
          44,
          44
         ],
         "yaxis": "y2"
        },
        {
         "line": {
          "color": "green",
          "dash": "dot"
         },
         "mode": "lines",
         "name": "97.5<sup>th</sup> percentile",
         "showlegend": false,
         "type": "scatter",
         "x": [
          0.1,
          0.2,
          0.30000000000000004,
          0.4,
          0.5,
          0.6,
          0.7000000000000001,
          0.8,
          0.9,
          1,
          1.1,
          1.2000000000000002,
          1.3000000000000003,
          1.4000000000000001,
          1.5000000000000002,
          1.6,
          1.7000000000000002,
          1.8000000000000003,
          1.9000000000000001,
          2,
          2.1,
          2.2,
          2.3000000000000003,
          2.4000000000000004
         ],
         "xaxis": "x2",
         "y": [
          44,
          44,
          44,
          44,
          44,
          44,
          44,
          44,
          44,
          44,
          44,
          44,
          44,
          44,
          44,
          44,
          44,
          44,
          44,
          44,
          44,
          44,
          44,
          44
         ],
         "yaxis": "y2"
        },
        {
         "line": {
          "color": "grey"
         },
         "mode": "lines",
         "name": "Mean",
         "showlegend": false,
         "type": "scatter",
         "x": [
          0.1,
          0.2,
          0.30000000000000004,
          0.4,
          0.5,
          0.6,
          0.7000000000000001,
          0.8,
          0.9,
          1,
          1.1,
          1.2000000000000002,
          1.3000000000000003,
          1.4000000000000001,
          1.5000000000000002,
          1.6,
          1.7000000000000002,
          1.8000000000000003,
          1.9000000000000001,
          2,
          2.1,
          2.2,
          2.3000000000000003,
          2.4000000000000004
         ],
         "xaxis": "x3",
         "y": [
          45,
          45,
          45,
          45,
          45,
          45,
          45,
          45,
          45,
          45,
          45,
          45,
          45,
          45,
          45,
          45,
          45,
          45,
          45,
          45,
          45,
          45,
          45,
          45
         ],
         "yaxis": "y3"
        },
        {
         "line": {
          "color": "orange",
          "dash": "dot"
         },
         "mode": "lines",
         "name": "2.5<sup>th</sup> percentile",
         "showlegend": false,
         "type": "scatter",
         "x": [
          0.1,
          0.2,
          0.30000000000000004,
          0.4,
          0.5,
          0.6,
          0.7000000000000001,
          0.8,
          0.9,
          1,
          1.1,
          1.2000000000000002,
          1.3000000000000003,
          1.4000000000000001,
          1.5000000000000002,
          1.6,
          1.7000000000000002,
          1.8000000000000003,
          1.9000000000000001,
          2,
          2.1,
          2.2,
          2.3000000000000003,
          2.4000000000000004
         ],
         "xaxis": "x3",
         "y": [
          45,
          45,
          45,
          45,
          45,
          45,
          45,
          45,
          45,
          45,
          45,
          45,
          45,
          45,
          45,
          45,
          45,
          45,
          45,
          45,
          45,
          45,
          45,
          45
         ],
         "yaxis": "y3"
        },
        {
         "line": {
          "color": "green",
          "dash": "dot"
         },
         "mode": "lines",
         "name": "97.5<sup>th</sup> percentile",
         "showlegend": false,
         "type": "scatter",
         "x": [
          0.1,
          0.2,
          0.30000000000000004,
          0.4,
          0.5,
          0.6,
          0.7000000000000001,
          0.8,
          0.9,
          1,
          1.1,
          1.2000000000000002,
          1.3000000000000003,
          1.4000000000000001,
          1.5000000000000002,
          1.6,
          1.7000000000000002,
          1.8000000000000003,
          1.9000000000000001,
          2,
          2.1,
          2.2,
          2.3000000000000003,
          2.4000000000000004
         ],
         "xaxis": "x3",
         "y": [
          45,
          45,
          45,
          45,
          45,
          45,
          45,
          45,
          45,
          45,
          45,
          45,
          45,
          45,
          45,
          45,
          45,
          45,
          45,
          45,
          45,
          45,
          45,
          45
         ],
         "yaxis": "y3"
        },
        {
         "line": {
          "color": "grey"
         },
         "mode": "lines",
         "name": "Mean",
         "showlegend": false,
         "type": "scatter",
         "x": [
          0.1,
          0.2,
          0.30000000000000004,
          0.4,
          0.5,
          0.6,
          0.7000000000000001,
          0.8,
          0.9,
          1,
          1.1,
          1.2000000000000002,
          1.3000000000000003,
          1.4000000000000001,
          1.5000000000000002,
          1.6,
          1.7000000000000002,
          1.8000000000000003,
          1.9000000000000001,
          2,
          2.1,
          2.2,
          2.3000000000000003,
          2.4000000000000004
         ],
         "xaxis": "x4",
         "y": [
          52,
          52,
          52,
          52,
          52,
          52,
          52,
          52,
          52,
          52,
          52,
          52,
          52,
          52,
          52,
          52,
          52,
          52,
          52,
          52,
          52,
          52,
          52,
          52
         ],
         "yaxis": "y4"
        },
        {
         "line": {
          "color": "orange",
          "dash": "dot"
         },
         "mode": "lines",
         "name": "2.5<sup>th</sup> percentile",
         "showlegend": false,
         "type": "scatter",
         "x": [
          0.1,
          0.2,
          0.30000000000000004,
          0.4,
          0.5,
          0.6,
          0.7000000000000001,
          0.8,
          0.9,
          1,
          1.1,
          1.2000000000000002,
          1.3000000000000003,
          1.4000000000000001,
          1.5000000000000002,
          1.6,
          1.7000000000000002,
          1.8000000000000003,
          1.9000000000000001,
          2,
          2.1,
          2.2,
          2.3000000000000003,
          2.4000000000000004
         ],
         "xaxis": "x4",
         "y": [
          52,
          52,
          52,
          52,
          52,
          52,
          52,
          52,
          52,
          52,
          52,
          52,
          52,
          52,
          52,
          52,
          52,
          52,
          52,
          52,
          52,
          52,
          52,
          52
         ],
         "yaxis": "y4"
        },
        {
         "line": {
          "color": "green",
          "dash": "dot"
         },
         "mode": "lines",
         "name": "97.5<sup>th</sup> percentile",
         "showlegend": false,
         "type": "scatter",
         "x": [
          0.1,
          0.2,
          0.30000000000000004,
          0.4,
          0.5,
          0.6,
          0.7000000000000001,
          0.8,
          0.9,
          1,
          1.1,
          1.2000000000000002,
          1.3000000000000003,
          1.4000000000000001,
          1.5000000000000002,
          1.6,
          1.7000000000000002,
          1.8000000000000003,
          1.9000000000000001,
          2,
          2.1,
          2.2,
          2.3000000000000003,
          2.4000000000000004
         ],
         "xaxis": "x4",
         "y": [
          52,
          52,
          52,
          52,
          52,
          52,
          52,
          52,
          52,
          52,
          52,
          52,
          52,
          52,
          52,
          52,
          52,
          52,
          52,
          52,
          52,
          52,
          52,
          52
         ],
         "yaxis": "y4"
        },
        {
         "line": {
          "color": "grey"
         },
         "mode": "lines",
         "name": "Mean",
         "showlegend": false,
         "type": "scatter",
         "x": [
          0.1,
          0.2,
          0.30000000000000004,
          0.4,
          0.5,
          0.6,
          0.7000000000000001,
          0.8,
          0.9,
          1,
          1.1,
          1.2000000000000002,
          1.3000000000000003,
          1.4000000000000001,
          1.5000000000000002,
          1.6,
          1.7000000000000002,
          1.8000000000000003,
          1.9000000000000001,
          2,
          2.1,
          2.2,
          2.3000000000000003,
          2.4000000000000004
         ],
         "xaxis": "x5",
         "y": [
          30,
          29,
          27,
          25,
          24,
          22,
          21,
          19,
          19,
          18,
          18,
          15,
          15,
          14,
          10,
          10,
          10,
          10,
          10,
          10,
          10,
          9,
          9,
          9
         ],
         "yaxis": "y5"
        },
        {
         "line": {
          "color": "orange",
          "dash": "dot"
         },
         "mode": "lines",
         "name": "2.5<sup>th</sup> percentile",
         "showlegend": false,
         "type": "scatter",
         "x": [
          0.1,
          0.2,
          0.30000000000000004,
          0.4,
          0.5,
          0.6,
          0.7000000000000001,
          0.8,
          0.9,
          1,
          1.1,
          1.2000000000000002,
          1.3000000000000003,
          1.4000000000000001,
          1.5000000000000002,
          1.6,
          1.7000000000000002,
          1.8000000000000003,
          1.9000000000000001,
          2,
          2.1,
          2.2,
          2.3000000000000003,
          2.4000000000000004
         ],
         "xaxis": "x5",
         "y": [
          29,
          27,
          24,
          21,
          19,
          18,
          10,
          10,
          10,
          9,
          9,
          9,
          9,
          null,
          null,
          null,
          null,
          null,
          null,
          null,
          null,
          null,
          null,
          null
         ],
         "yaxis": "y5"
        },
        {
         "line": {
          "color": "green",
          "dash": "dot"
         },
         "mode": "lines",
         "name": "97.5<sup>th</sup> percentile",
         "showlegend": false,
         "type": "scatter",
         "x": [
          0.1,
          0.2,
          0.30000000000000004,
          0.4,
          0.5,
          0.6,
          0.7000000000000001,
          0.8,
          0.9,
          1,
          1.1,
          1.2000000000000002,
          1.3000000000000003,
          1.4000000000000001,
          1.5000000000000002,
          1.6,
          1.7000000000000002,
          1.8000000000000003,
          1.9000000000000001,
          2,
          2.1,
          2.2,
          2.3000000000000003,
          2.4000000000000004
         ],
         "xaxis": "x5",
         "y": [
          34,
          30,
          29,
          28,
          26,
          25,
          24,
          23,
          22,
          21,
          21,
          19,
          19,
          19,
          19,
          18,
          18,
          18,
          15,
          15,
          15,
          14,
          14,
          14
         ],
         "yaxis": "y5"
        },
        {
         "line": {
          "color": "grey"
         },
         "mode": "lines",
         "name": "Mean",
         "showlegend": false,
         "type": "scatter",
         "x": [
          0.1,
          0.2,
          0.30000000000000004,
          0.4,
          0.5,
          0.6,
          0.7000000000000001,
          0.8,
          0.9,
          1,
          1.1,
          1.2000000000000002,
          1.3000000000000003,
          1.4000000000000001,
          1.5000000000000002,
          1.6,
          1.7000000000000002,
          1.8000000000000003,
          1.9000000000000001,
          2,
          2.1,
          2.2,
          2.3000000000000003,
          2.4000000000000004
         ],
         "xaxis": "x6",
         "y": [
          32,
          31,
          31,
          30,
          30,
          29,
          29,
          29,
          28,
          28,
          28,
          26,
          26,
          25,
          24,
          15,
          15,
          15,
          15,
          15,
          15,
          15,
          15,
          14
         ],
         "yaxis": "y6"
        },
        {
         "line": {
          "color": "orange",
          "dash": "dot"
         },
         "mode": "lines",
         "name": "2.5<sup>th</sup> percentile",
         "showlegend": false,
         "type": "scatter",
         "x": [
          0.1,
          0.2,
          0.30000000000000004,
          0.4,
          0.5,
          0.6,
          0.7000000000000001,
          0.8,
          0.9,
          1,
          1.1,
          1.2000000000000002,
          1.3000000000000003,
          1.4000000000000001,
          1.5000000000000002,
          1.6,
          1.7000000000000002,
          1.8000000000000003,
          1.9000000000000001,
          2,
          2.1,
          2.2,
          2.3000000000000003,
          2.4000000000000004
         ],
         "xaxis": "x6",
         "y": [
          31,
          30,
          29,
          29,
          29,
          28,
          28,
          26,
          26,
          25,
          15,
          14,
          14,
          14,
          14,
          13,
          13,
          13,
          null,
          null,
          null,
          null,
          null,
          null
         ],
         "yaxis": "y6"
        },
        {
         "line": {
          "color": "green",
          "dash": "dot"
         },
         "mode": "lines",
         "name": "97.5<sup>th</sup> percentile",
         "showlegend": false,
         "type": "scatter",
         "x": [
          0.1,
          0.2,
          0.30000000000000004,
          0.4,
          0.5,
          0.6,
          0.7000000000000001,
          0.8,
          0.9,
          1,
          1.1,
          1.2000000000000002,
          1.3000000000000003,
          1.4000000000000001,
          1.5000000000000002,
          1.6,
          1.7000000000000002,
          1.8000000000000003,
          1.9000000000000001,
          2,
          2.1,
          2.2,
          2.3000000000000003,
          2.4000000000000004
         ],
         "xaxis": "x6",
         "y": [
          34,
          34,
          32,
          32,
          31,
          31,
          31,
          30,
          30,
          29,
          29,
          29,
          28,
          28,
          28,
          26,
          26,
          26,
          25,
          24,
          19,
          19,
          16,
          16
         ],
         "yaxis": "y6"
        },
        {
         "line": {
          "color": "grey"
         },
         "mode": "lines",
         "name": "Mean",
         "showlegend": false,
         "type": "scatter",
         "x": [
          0.1,
          0.2,
          0.30000000000000004,
          0.4,
          0.5,
          0.6,
          0.7000000000000001,
          0.8,
          0.9,
          1,
          1.1,
          1.2000000000000002,
          1.3000000000000003,
          1.4000000000000001,
          1.5000000000000002,
          1.6,
          1.7000000000000002,
          1.8000000000000003,
          1.9000000000000001,
          2,
          2.1,
          2.2,
          2.3000000000000003,
          2.4000000000000004
         ],
         "xaxis": "x7",
         "y": [
          1,
          1,
          1,
          1,
          0.9545454545454546,
          0.9318181818181818,
          0.8181818181818182,
          0.7727272727272727,
          0.75,
          0.75,
          0.6590909090909091,
          0.6590909090909091,
          0.6136363636363636,
          0.5227272727272727,
          0.4772727272727273,
          0.4318181818181818,
          0.38636363636363635,
          0.3409090909090909,
          0.29545454545454547,
          0.25,
          0.18181818181818182,
          0.1590909090909091,
          0.1590909090909091,
          0.1590909090909091
         ],
         "yaxis": "y7"
        },
        {
         "line": {
          "color": "orange",
          "dash": "dot"
         },
         "mode": "lines",
         "name": "2.5<sup>th</sup> percentile",
         "showlegend": false,
         "type": "scatter",
         "x": [
          0.1,
          0.2,
          0.30000000000000004,
          0.4,
          0.5,
          0.6,
          0.7000000000000001,
          0.8,
          0.9,
          1,
          1.1,
          1.2000000000000002,
          1.3000000000000003,
          1.4000000000000001,
          1.5000000000000002,
          1.6,
          1.7000000000000002,
          1.8000000000000003,
          1.9000000000000001,
          2,
          2.1,
          2.2,
          2.3000000000000003,
          2.4000000000000004
         ],
         "xaxis": "x7",
         "y": [
          0.9545454545454546,
          0.9318181818181818,
          0.9318181818181818,
          0.8181818181818182,
          0.7727272727272727,
          0.7272727272727273,
          0.6818181818181818,
          0.6136363636363636,
          0.5681818181818182,
          0.5227272727272727,
          0.4772727272727273,
          0.45454545454545453,
          0.38636363636363635,
          0.3409090909090909,
          0.2727272727272727,
          0.20454545454545456,
          0.1590909090909091,
          0.1590909090909091,
          0.13636363636363635,
          0.13636363636363635,
          0.13636363636363635,
          0.13636363636363635,
          0.11363636363636363,
          0.11363636363636363
         ],
         "yaxis": "y7"
        },
        {
         "line": {
          "color": "green",
          "dash": "dot"
         },
         "mode": "lines",
         "name": "97.5<sup>th</sup> percentile",
         "showlegend": false,
         "type": "scatter",
         "x": [
          0.1,
          0.2,
          0.30000000000000004,
          0.4,
          0.5,
          0.6,
          0.7000000000000001,
          0.8,
          0.9,
          1,
          1.1,
          1.2000000000000002,
          1.3000000000000003,
          1.4000000000000001,
          1.5000000000000002,
          1.6,
          1.7000000000000002,
          1.8000000000000003,
          1.9000000000000001,
          2,
          2.1,
          2.2,
          2.3000000000000003,
          2.4000000000000004
         ],
         "xaxis": "x7",
         "y": [
          1,
          1,
          1,
          1,
          1,
          1,
          1,
          1,
          0.9772727272727273,
          0.9090909090909091,
          0.8636363636363636,
          0.7954545454545454,
          0.75,
          0.7272727272727273,
          0.7272727272727273,
          0.6818181818181818,
          0.6363636363636364,
          0.5909090909090909,
          0.5454545454545454,
          0.5,
          0.4772727272727273,
          0.45454545454545453,
          0.3409090909090909,
          0.29545454545454547
         ],
         "yaxis": "y7"
        },
        {
         "line": {
          "color": "grey"
         },
         "mode": "lines",
         "name": "Mean",
         "showlegend": false,
         "type": "scatter",
         "x": [
          0.1,
          0.2,
          0.30000000000000004,
          0.4,
          0.5,
          0.6,
          0.7000000000000001,
          0.8,
          0.9,
          1,
          1.1,
          1.2000000000000002,
          1.3000000000000003,
          1.4000000000000001,
          1.5000000000000002,
          1.6,
          1.7000000000000002,
          1.8000000000000003,
          1.9000000000000001,
          2,
          2.1,
          2.2,
          2.3000000000000003,
          2.4000000000000004
         ],
         "xaxis": "x8",
         "y": [
          0.6111111111111112,
          0.5833333333333334,
          0.5277777777777778,
          0.4722222222222222,
          0.4444444444444444,
          0.3888888888888889,
          0.3611111111111111,
          0.3055555555555556,
          0.3055555555555556,
          0.2777777777777778,
          0.25,
          0.16666666666666666,
          0.1388888888888889,
          0.08333333333333333,
          0.05555555555555555,
          0.05555555555555555,
          0.05555555555555555,
          0.05555555555555555,
          0.05555555555555555,
          0.05555555555555555,
          0.05555555555555555,
          0.027777777777777776,
          0.027777777777777776,
          0.027777777777777776
         ],
         "yaxis": "y8"
        },
        {
         "line": {
          "color": "orange",
          "dash": "dot"
         },
         "mode": "lines",
         "name": "2.5<sup>th</sup> percentile",
         "showlegend": false,
         "type": "scatter",
         "x": [
          0.1,
          0.2,
          0.30000000000000004,
          0.4,
          0.5,
          0.6,
          0.7000000000000001,
          0.8,
          0.9,
          1,
          1.1,
          1.2000000000000002,
          1.3000000000000003,
          1.4000000000000001,
          1.5000000000000002,
          1.6,
          1.7000000000000002,
          1.8000000000000003,
          1.9000000000000001,
          2,
          2.1,
          2.2,
          2.3000000000000003,
          2.4000000000000004
         ],
         "xaxis": "x8",
         "y": [
          0.5833333333333334,
          0.5277777777777778,
          0.4444444444444444,
          0.25,
          0.19444444444444445,
          0.1388888888888889,
          0.05555555555555555,
          0.05555555555555555,
          0.05555555555555555,
          0.027777777777777776,
          0.027777777777777776,
          0.027777777777777776,
          0.027777777777777776,
          0,
          0,
          0,
          0,
          0,
          0,
          0,
          0,
          0,
          0,
          0
         ],
         "yaxis": "y8"
        },
        {
         "line": {
          "color": "green",
          "dash": "dot"
         },
         "mode": "lines",
         "name": "97.5<sup>th</sup> percentile",
         "showlegend": false,
         "type": "scatter",
         "x": [
          0.1,
          0.2,
          0.30000000000000004,
          0.4,
          0.5,
          0.6,
          0.7000000000000001,
          0.8,
          0.9,
          1,
          1.1,
          1.2000000000000002,
          1.3000000000000003,
          1.4000000000000001,
          1.5000000000000002,
          1.6,
          1.7000000000000002,
          1.8000000000000003,
          1.9000000000000001,
          2,
          2.1,
          2.2,
          2.3000000000000003,
          2.4000000000000004
         ],
         "xaxis": "x8",
         "y": [
          0.7222222222222222,
          0.6111111111111112,
          0.5833333333333334,
          0.5555555555555556,
          0.5,
          0.4722222222222222,
          0.4444444444444444,
          0.4166666666666667,
          0.3888888888888889,
          0.3611111111111111,
          0.3611111111111111,
          0.3055555555555556,
          0.3055555555555556,
          0.3055555555555556,
          0.3055555555555556,
          0.2777777777777778,
          0.25,
          0.25,
          0.19444444444444445,
          0.19444444444444445,
          0.19444444444444445,
          0.1388888888888889,
          0.1388888888888889,
          0.1388888888888889
         ],
         "yaxis": "y8"
        },
        {
         "line": {
          "color": "grey"
         },
         "mode": "lines",
         "name": "Mean",
         "showlegend": false,
         "type": "scatter",
         "x": [
          0.1,
          0.2,
          0.30000000000000004,
          0.4,
          0.5,
          0.6,
          0.7000000000000001,
          0.8,
          0.9,
          1,
          1.1,
          1.2000000000000002,
          1.3000000000000003,
          1.4000000000000001,
          1.5000000000000002,
          1.6,
          1.7000000000000002,
          1.8000000000000003,
          1.9000000000000001,
          2,
          2.1,
          2.2,
          2.3000000000000003,
          2.4000000000000004
         ],
         "xaxis": "x9",
         "y": [
          0.6486486486486487,
          0.6216216216216216,
          0.6216216216216216,
          0.5945945945945946,
          0.5945945945945946,
          0.5675675675675675,
          0.5675675675675675,
          0.5675675675675675,
          0.4864864864864865,
          0.4594594594594595,
          0.43243243243243246,
          0.35135135135135137,
          0.32432432432432434,
          0.24324324324324326,
          0.16216216216216217,
          0.10810810810810811,
          0.10810810810810811,
          0.10810810810810811,
          0.08108108108108109,
          0.08108108108108109,
          0.08108108108108109,
          0.08108108108108109,
          0.08108108108108109,
          0.05405405405405406
         ],
         "yaxis": "y9"
        },
        {
         "line": {
          "color": "orange",
          "dash": "dot"
         },
         "mode": "lines",
         "name": "2.5<sup>th</sup> percentile",
         "showlegend": false,
         "type": "scatter",
         "x": [
          0.1,
          0.2,
          0.30000000000000004,
          0.4,
          0.5,
          0.6,
          0.7000000000000001,
          0.8,
          0.9,
          1,
          1.1,
          1.2000000000000002,
          1.3000000000000003,
          1.4000000000000001,
          1.5000000000000002,
          1.6,
          1.7000000000000002,
          1.8000000000000003,
          1.9000000000000001,
          2,
          2.1,
          2.2,
          2.3000000000000003,
          2.4000000000000004
         ],
         "xaxis": "x9",
         "y": [
          0.6216216216216216,
          0.5675675675675675,
          0.5405405405405406,
          0.43243243243243246,
          0.40540540540540543,
          0.32432432432432434,
          0.2702702702702703,
          0.1891891891891892,
          0.1891891891891892,
          0.16216216216216217,
          0.08108108108108109,
          0.05405405405405406,
          0.05405405405405406,
          0.05405405405405406,
          0.05405405405405406,
          0.02702702702702703,
          0.02702702702702703,
          0.02702702702702703,
          0,
          0,
          0,
          0,
          0,
          0
         ],
         "yaxis": "y9"
        },
        {
         "line": {
          "color": "green",
          "dash": "dot"
         },
         "mode": "lines",
         "name": "97.5<sup>th</sup> percentile",
         "showlegend": false,
         "type": "scatter",
         "x": [
          0.1,
          0.2,
          0.30000000000000004,
          0.4,
          0.5,
          0.6,
          0.7000000000000001,
          0.8,
          0.9,
          1,
          1.1,
          1.2000000000000002,
          1.3000000000000003,
          1.4000000000000001,
          1.5000000000000002,
          1.6,
          1.7000000000000002,
          1.8000000000000003,
          1.9000000000000001,
          2,
          2.1,
          2.2,
          2.3000000000000003,
          2.4000000000000004
         ],
         "xaxis": "x9",
         "y": [
          0.7027027027027027,
          0.7027027027027027,
          0.6486486486486487,
          0.6486486486486487,
          0.6216216216216216,
          0.6216216216216216,
          0.6216216216216216,
          0.5945945945945946,
          0.5945945945945946,
          0.5675675675675675,
          0.5675675675675675,
          0.5675675675675675,
          0.5405405405405406,
          0.5135135135135135,
          0.4864864864864865,
          0.43243243243243246,
          0.40540540540540543,
          0.40540540540540543,
          0.3783783783783784,
          0.35135135135135137,
          0.2972972972972973,
          0.2702702702702703,
          0.21621621621621623,
          0.21621621621621623
         ],
         "yaxis": "y9"
        }
       ],
       "layout": {
        "annotations": [
         {
          "font": {
           "size": 16
          },
          "showarrow": false,
          "text": "Ontario",
          "x": 0.14444444444444446,
          "xanchor": "center",
          "xref": "paper",
          "y": 1,
          "yanchor": "bottom",
          "yref": "paper"
         },
         {
          "font": {
           "size": 16
          },
          "showarrow": false,
          "text": "New South Wales",
          "x": 0.5,
          "xanchor": "center",
          "xref": "paper",
          "y": 1,
          "yanchor": "bottom",
          "yref": "paper"
         },
         {
          "font": {
           "size": 16
          },
          "showarrow": false,
          "text": "Victoria",
          "x": 0.8555555555555556,
          "xanchor": "center",
          "xref": "paper",
          "y": 1,
          "yanchor": "bottom",
          "yref": "paper"
         }
        ],
        "height": 800,
        "legend": {
         "orientation": "h",
         "x": 1,
         "xanchor": "right",
         "y": 1.075,
         "yanchor": "bottom"
        },
        "plot_bgcolor": "white",
        "template": {
         "data": {
          "bar": [
           {
            "error_x": {
             "color": "#2a3f5f"
            },
            "error_y": {
             "color": "#2a3f5f"
            },
            "marker": {
             "line": {
              "color": "#E5ECF6",
              "width": 0.5
             }
            },
            "type": "bar"
           }
          ],
          "barpolar": [
           {
            "marker": {
             "line": {
              "color": "#E5ECF6",
              "width": 0.5
             }
            },
            "type": "barpolar"
           }
          ],
          "carpet": [
           {
            "aaxis": {
             "endlinecolor": "#2a3f5f",
             "gridcolor": "white",
             "linecolor": "white",
             "minorgridcolor": "white",
             "startlinecolor": "#2a3f5f"
            },
            "baxis": {
             "endlinecolor": "#2a3f5f",
             "gridcolor": "white",
             "linecolor": "white",
             "minorgridcolor": "white",
             "startlinecolor": "#2a3f5f"
            },
            "type": "carpet"
           }
          ],
          "choropleth": [
           {
            "colorbar": {
             "outlinewidth": 0,
             "ticks": ""
            },
            "type": "choropleth"
           }
          ],
          "contour": [
           {
            "colorbar": {
             "outlinewidth": 0,
             "ticks": ""
            },
            "colorscale": [
             [
              0,
              "#0d0887"
             ],
             [
              0.1111111111111111,
              "#46039f"
             ],
             [
              0.2222222222222222,
              "#7201a8"
             ],
             [
              0.3333333333333333,
              "#9c179e"
             ],
             [
              0.4444444444444444,
              "#bd3786"
             ],
             [
              0.5555555555555556,
              "#d8576b"
             ],
             [
              0.6666666666666666,
              "#ed7953"
             ],
             [
              0.7777777777777778,
              "#fb9f3a"
             ],
             [
              0.8888888888888888,
              "#fdca26"
             ],
             [
              1,
              "#f0f921"
             ]
            ],
            "type": "contour"
           }
          ],
          "contourcarpet": [
           {
            "colorbar": {
             "outlinewidth": 0,
             "ticks": ""
            },
            "type": "contourcarpet"
           }
          ],
          "heatmap": [
           {
            "colorbar": {
             "outlinewidth": 0,
             "ticks": ""
            },
            "colorscale": [
             [
              0,
              "#0d0887"
             ],
             [
              0.1111111111111111,
              "#46039f"
             ],
             [
              0.2222222222222222,
              "#7201a8"
             ],
             [
              0.3333333333333333,
              "#9c179e"
             ],
             [
              0.4444444444444444,
              "#bd3786"
             ],
             [
              0.5555555555555556,
              "#d8576b"
             ],
             [
              0.6666666666666666,
              "#ed7953"
             ],
             [
              0.7777777777777778,
              "#fb9f3a"
             ],
             [
              0.8888888888888888,
              "#fdca26"
             ],
             [
              1,
              "#f0f921"
             ]
            ],
            "type": "heatmap"
           }
          ],
          "heatmapgl": [
           {
            "colorbar": {
             "outlinewidth": 0,
             "ticks": ""
            },
            "colorscale": [
             [
              0,
              "#0d0887"
             ],
             [
              0.1111111111111111,
              "#46039f"
             ],
             [
              0.2222222222222222,
              "#7201a8"
             ],
             [
              0.3333333333333333,
              "#9c179e"
             ],
             [
              0.4444444444444444,
              "#bd3786"
             ],
             [
              0.5555555555555556,
              "#d8576b"
             ],
             [
              0.6666666666666666,
              "#ed7953"
             ],
             [
              0.7777777777777778,
              "#fb9f3a"
             ],
             [
              0.8888888888888888,
              "#fdca26"
             ],
             [
              1,
              "#f0f921"
             ]
            ],
            "type": "heatmapgl"
           }
          ],
          "histogram": [
           {
            "marker": {
             "colorbar": {
              "outlinewidth": 0,
              "ticks": ""
             }
            },
            "type": "histogram"
           }
          ],
          "histogram2d": [
           {
            "colorbar": {
             "outlinewidth": 0,
             "ticks": ""
            },
            "colorscale": [
             [
              0,
              "#0d0887"
             ],
             [
              0.1111111111111111,
              "#46039f"
             ],
             [
              0.2222222222222222,
              "#7201a8"
             ],
             [
              0.3333333333333333,
              "#9c179e"
             ],
             [
              0.4444444444444444,
              "#bd3786"
             ],
             [
              0.5555555555555556,
              "#d8576b"
             ],
             [
              0.6666666666666666,
              "#ed7953"
             ],
             [
              0.7777777777777778,
              "#fb9f3a"
             ],
             [
              0.8888888888888888,
              "#fdca26"
             ],
             [
              1,
              "#f0f921"
             ]
            ],
            "type": "histogram2d"
           }
          ],
          "histogram2dcontour": [
           {
            "colorbar": {
             "outlinewidth": 0,
             "ticks": ""
            },
            "colorscale": [
             [
              0,
              "#0d0887"
             ],
             [
              0.1111111111111111,
              "#46039f"
             ],
             [
              0.2222222222222222,
              "#7201a8"
             ],
             [
              0.3333333333333333,
              "#9c179e"
             ],
             [
              0.4444444444444444,
              "#bd3786"
             ],
             [
              0.5555555555555556,
              "#d8576b"
             ],
             [
              0.6666666666666666,
              "#ed7953"
             ],
             [
              0.7777777777777778,
              "#fb9f3a"
             ],
             [
              0.8888888888888888,
              "#fdca26"
             ],
             [
              1,
              "#f0f921"
             ]
            ],
            "type": "histogram2dcontour"
           }
          ],
          "mesh3d": [
           {
            "colorbar": {
             "outlinewidth": 0,
             "ticks": ""
            },
            "type": "mesh3d"
           }
          ],
          "parcoords": [
           {
            "line": {
             "colorbar": {
              "outlinewidth": 0,
              "ticks": ""
             }
            },
            "type": "parcoords"
           }
          ],
          "pie": [
           {
            "automargin": true,
            "type": "pie"
           }
          ],
          "scatter": [
           {
            "marker": {
             "colorbar": {
              "outlinewidth": 0,
              "ticks": ""
             }
            },
            "type": "scatter"
           }
          ],
          "scatter3d": [
           {
            "line": {
             "colorbar": {
              "outlinewidth": 0,
              "ticks": ""
             }
            },
            "marker": {
             "colorbar": {
              "outlinewidth": 0,
              "ticks": ""
             }
            },
            "type": "scatter3d"
           }
          ],
          "scattercarpet": [
           {
            "marker": {
             "colorbar": {
              "outlinewidth": 0,
              "ticks": ""
             }
            },
            "type": "scattercarpet"
           }
          ],
          "scattergeo": [
           {
            "marker": {
             "colorbar": {
              "outlinewidth": 0,
              "ticks": ""
             }
            },
            "type": "scattergeo"
           }
          ],
          "scattergl": [
           {
            "marker": {
             "colorbar": {
              "outlinewidth": 0,
              "ticks": ""
             }
            },
            "type": "scattergl"
           }
          ],
          "scattermapbox": [
           {
            "marker": {
             "colorbar": {
              "outlinewidth": 0,
              "ticks": ""
             }
            },
            "type": "scattermapbox"
           }
          ],
          "scatterpolar": [
           {
            "marker": {
             "colorbar": {
              "outlinewidth": 0,
              "ticks": ""
             }
            },
            "type": "scatterpolar"
           }
          ],
          "scatterpolargl": [
           {
            "marker": {
             "colorbar": {
              "outlinewidth": 0,
              "ticks": ""
             }
            },
            "type": "scatterpolargl"
           }
          ],
          "scatterternary": [
           {
            "marker": {
             "colorbar": {
              "outlinewidth": 0,
              "ticks": ""
             }
            },
            "type": "scatterternary"
           }
          ],
          "surface": [
           {
            "colorbar": {
             "outlinewidth": 0,
             "ticks": ""
            },
            "colorscale": [
             [
              0,
              "#0d0887"
             ],
             [
              0.1111111111111111,
              "#46039f"
             ],
             [
              0.2222222222222222,
              "#7201a8"
             ],
             [
              0.3333333333333333,
              "#9c179e"
             ],
             [
              0.4444444444444444,
              "#bd3786"
             ],
             [
              0.5555555555555556,
              "#d8576b"
             ],
             [
              0.6666666666666666,
              "#ed7953"
             ],
             [
              0.7777777777777778,
              "#fb9f3a"
             ],
             [
              0.8888888888888888,
              "#fdca26"
             ],
             [
              1,
              "#f0f921"
             ]
            ],
            "type": "surface"
           }
          ],
          "table": [
           {
            "cells": {
             "fill": {
              "color": "#EBF0F8"
             },
             "line": {
              "color": "white"
             }
            },
            "header": {
             "fill": {
              "color": "#C8D4E3"
             },
             "line": {
              "color": "white"
             }
            },
            "type": "table"
           }
          ]
         },
         "layout": {
          "annotationdefaults": {
           "arrowcolor": "#2a3f5f",
           "arrowhead": 0,
           "arrowwidth": 1
          },
          "autotypenumbers": "strict",
          "coloraxis": {
           "colorbar": {
            "outlinewidth": 0,
            "ticks": ""
           }
          },
          "colorscale": {
           "diverging": [
            [
             0,
             "#8e0152"
            ],
            [
             0.1,
             "#c51b7d"
            ],
            [
             0.2,
             "#de77ae"
            ],
            [
             0.3,
             "#f1b6da"
            ],
            [
             0.4,
             "#fde0ef"
            ],
            [
             0.5,
             "#f7f7f7"
            ],
            [
             0.6,
             "#e6f5d0"
            ],
            [
             0.7,
             "#b8e186"
            ],
            [
             0.8,
             "#7fbc41"
            ],
            [
             0.9,
             "#4d9221"
            ],
            [
             1,
             "#276419"
            ]
           ],
           "sequential": [
            [
             0,
             "#0d0887"
            ],
            [
             0.1111111111111111,
             "#46039f"
            ],
            [
             0.2222222222222222,
             "#7201a8"
            ],
            [
             0.3333333333333333,
             "#9c179e"
            ],
            [
             0.4444444444444444,
             "#bd3786"
            ],
            [
             0.5555555555555556,
             "#d8576b"
            ],
            [
             0.6666666666666666,
             "#ed7953"
            ],
            [
             0.7777777777777778,
             "#fb9f3a"
            ],
            [
             0.8888888888888888,
             "#fdca26"
            ],
            [
             1,
             "#f0f921"
            ]
           ],
           "sequentialminus": [
            [
             0,
             "#0d0887"
            ],
            [
             0.1111111111111111,
             "#46039f"
            ],
            [
             0.2222222222222222,
             "#7201a8"
            ],
            [
             0.3333333333333333,
             "#9c179e"
            ],
            [
             0.4444444444444444,
             "#bd3786"
            ],
            [
             0.5555555555555556,
             "#d8576b"
            ],
            [
             0.6666666666666666,
             "#ed7953"
            ],
            [
             0.7777777777777778,
             "#fb9f3a"
            ],
            [
             0.8888888888888888,
             "#fdca26"
            ],
            [
             1,
             "#f0f921"
            ]
           ]
          },
          "colorway": [
           "#636efa",
           "#EF553B",
           "#00cc96",
           "#ab63fa",
           "#FFA15A",
           "#19d3f3",
           "#FF6692",
           "#B6E880",
           "#FF97FF",
           "#FECB52"
          ],
          "font": {
           "color": "#2a3f5f"
          },
          "geo": {
           "bgcolor": "white",
           "lakecolor": "white",
           "landcolor": "#E5ECF6",
           "showlakes": true,
           "showland": true,
           "subunitcolor": "white"
          },
          "hoverlabel": {
           "align": "left"
          },
          "hovermode": "closest",
          "mapbox": {
           "style": "light"
          },
          "paper_bgcolor": "white",
          "plot_bgcolor": "#E5ECF6",
          "polar": {
           "angularaxis": {
            "gridcolor": "white",
            "linecolor": "white",
            "ticks": ""
           },
           "bgcolor": "#E5ECF6",
           "radialaxis": {
            "gridcolor": "white",
            "linecolor": "white",
            "ticks": ""
           }
          },
          "scene": {
           "xaxis": {
            "backgroundcolor": "#E5ECF6",
            "gridcolor": "white",
            "gridwidth": 2,
            "linecolor": "white",
            "showbackground": true,
            "ticks": "",
            "zerolinecolor": "white"
           },
           "yaxis": {
            "backgroundcolor": "#E5ECF6",
            "gridcolor": "white",
            "gridwidth": 2,
            "linecolor": "white",
            "showbackground": true,
            "ticks": "",
            "zerolinecolor": "white"
           },
           "zaxis": {
            "backgroundcolor": "#E5ECF6",
            "gridcolor": "white",
            "gridwidth": 2,
            "linecolor": "white",
            "showbackground": true,
            "ticks": "",
            "zerolinecolor": "white"
           }
          },
          "shapedefaults": {
           "line": {
            "color": "#2a3f5f"
           }
          },
          "ternary": {
           "aaxis": {
            "gridcolor": "white",
            "linecolor": "white",
            "ticks": ""
           },
           "baxis": {
            "gridcolor": "white",
            "linecolor": "white",
            "ticks": ""
           },
           "bgcolor": "#E5ECF6",
           "caxis": {
            "gridcolor": "white",
            "linecolor": "white",
            "ticks": ""
           }
          },
          "title": {
           "x": 0.05
          },
          "xaxis": {
           "automargin": true,
           "gridcolor": "white",
           "linecolor": "white",
           "ticks": "",
           "title": {
            "standoff": 15
           },
           "zerolinecolor": "white",
           "zerolinewidth": 2
          },
          "yaxis": {
           "automargin": true,
           "gridcolor": "white",
           "linecolor": "white",
           "ticks": "",
           "title": {
            "standoff": 15
           },
           "zerolinecolor": "white",
           "zerolinewidth": 2
          }
         }
        },
        "width": 700,
        "xaxis": {
         "anchor": "y",
         "domain": [
          0,
          0.2888888888888889
         ],
         "linecolor": "black",
         "title": {
          "text": "ϵ"
         }
        },
        "xaxis2": {
         "anchor": "y2",
         "domain": [
          0.35555555555555557,
          0.6444444444444445
         ],
         "linecolor": "black",
         "title": {
          "text": "ϵ"
         }
        },
        "xaxis3": {
         "anchor": "y3",
         "domain": [
          0.7111111111111111,
          1
         ],
         "linecolor": "black",
         "title": {
          "text": "ϵ"
         }
        },
        "xaxis4": {
         "anchor": "y4",
         "domain": [
          0,
          0.2888888888888889
         ],
         "linecolor": "black",
         "title": {
          "text": "ϵ"
         }
        },
        "xaxis5": {
         "anchor": "y5",
         "domain": [
          0.35555555555555557,
          0.6444444444444445
         ],
         "linecolor": "black",
         "title": {
          "text": "ϵ"
         }
        },
        "xaxis6": {
         "anchor": "y6",
         "domain": [
          0.7111111111111111,
          1
         ],
         "linecolor": "black",
         "title": {
          "text": "ϵ"
         }
        },
        "xaxis7": {
         "anchor": "y7",
         "domain": [
          0,
          0.2888888888888889
         ],
         "linecolor": "black",
         "title": {
          "text": "ϵ"
         }
        },
        "xaxis8": {
         "anchor": "y8",
         "domain": [
          0.35555555555555557,
          0.6444444444444445
         ],
         "linecolor": "black",
         "title": {
          "text": "ϵ"
         }
        },
        "xaxis9": {
         "anchor": "y9",
         "domain": [
          0.7111111111111111,
          1
         ],
         "linecolor": "black",
         "title": {
          "text": "ϵ"
         }
        },
        "yaxis": {
         "anchor": "x",
         "domain": [
          0.7777777777777778,
          1
         ],
         "linecolor": "black",
         "range": [
          0,
          62
         ],
         "ticktext": [
          "Mar 01",
          "Mar 11",
          "Mar 21",
          "Mar 31",
          "Apr 09",
          "Apr 19",
          "Apr 29"
         ],
         "tickvals": [
          1,
          11,
          21,
          31,
          41,
          51,
          61
         ],
         "title": {
          "text": "Last time R<sub>t</sub><sup>local</sup><1"
         }
        },
        "yaxis2": {
         "anchor": "x2",
         "domain": [
          0.7777777777777778,
          1
         ],
         "linecolor": "black",
         "matches": "y",
         "range": [
          0,
          62
         ],
         "showticklabels": false,
         "ticktext": [
          "Mar 01",
          "Mar 11",
          "Mar 21",
          "Mar 31",
          "Apr 09",
          "Apr 19",
          "Apr 29"
         ],
         "tickvals": [
          1,
          11,
          21,
          31,
          41,
          51,
          61
         ]
        },
        "yaxis3": {
         "anchor": "x3",
         "domain": [
          0.7777777777777778,
          1
         ],
         "linecolor": "black",
         "matches": "y",
         "range": [
          0,
          62
         ],
         "showticklabels": false,
         "ticktext": [
          "Mar 01",
          "Mar 11",
          "Mar 21",
          "Mar 31",
          "Apr 09",
          "Apr 19",
          "Apr 29"
         ],
         "tickvals": [
          1,
          11,
          21,
          31,
          41,
          51,
          61
         ]
        },
        "yaxis4": {
         "anchor": "x4",
         "domain": [
          0.3888888888888889,
          0.6111111111111112
         ],
         "linecolor": "black",
         "range": [
          0,
          62
         ],
         "ticktext": [
          "Mar 01",
          "Mar 11",
          "Mar 21",
          "Mar 31",
          "Apr 09",
          "Apr 19",
          "Apr 29"
         ],
         "tickvals": [
          1,
          11,
          21,
          31,
          41,
          51,
          61
         ],
         "title": {
          "text": "Last time R<sub>t</sub><sup>local</sup>>1"
         }
        },
        "yaxis5": {
         "anchor": "x5",
         "domain": [
          0.3888888888888889,
          0.6111111111111112
         ],
         "linecolor": "black",
         "matches": "y4",
         "range": [
          0,
          62
         ],
         "showticklabels": false,
         "ticktext": [
          "Mar 01",
          "Mar 11",
          "Mar 21",
          "Mar 31",
          "Apr 09",
          "Apr 19",
          "Apr 29"
         ],
         "tickvals": [
          1,
          11,
          21,
          31,
          41,
          51,
          61
         ]
        },
        "yaxis6": {
         "anchor": "x6",
         "domain": [
          0.3888888888888889,
          0.6111111111111112
         ],
         "linecolor": "black",
         "matches": "y4",
         "range": [
          0,
          62
         ],
         "showticklabels": false,
         "ticktext": [
          "Mar 01",
          "Mar 11",
          "Mar 21",
          "Mar 31",
          "Apr 09",
          "Apr 19",
          "Apr 29"
         ],
         "tickvals": [
          1,
          11,
          21,
          31,
          41,
          51,
          61
         ]
        },
        "yaxis7": {
         "anchor": "x7",
         "domain": [
          0,
          0.22222222222222224
         ],
         "linecolor": "black",
         "range": [
          0,
          1.2
         ],
         "ticktext": [
          "0",
          "0.2",
          "0.4",
          "0.6",
          "0.8",
          "1"
         ],
         "tickvals": [
          0,
          0.2,
          0.4,
          0.6000000000000001,
          0.8,
          1
         ],
         "title": {
          "text": "Proportion of time R<sub>t</sub><sup>local</sup>>1"
         }
        },
        "yaxis8": {
         "anchor": "x8",
         "domain": [
          0,
          0.22222222222222224
         ],
         "linecolor": "black",
         "matches": "y7",
         "range": [
          0,
          1.2
         ],
         "showticklabels": false,
         "ticktext": [
          "0",
          "0.2",
          "0.4",
          "0.6",
          "0.8",
          "1"
         ],
         "tickvals": [
          0,
          0.2,
          0.4,
          0.6000000000000001,
          0.8,
          1
         ]
        },
        "yaxis9": {
         "anchor": "x9",
         "domain": [
          0,
          0.22222222222222224
         ],
         "linecolor": "black",
         "matches": "y7",
         "range": [
          0,
          1.2
         ],
         "showticklabels": false,
         "ticktext": [
          "0",
          "0.2",
          "0.4",
          "0.6",
          "0.8",
          "1"
         ],
         "tickvals": [
          0,
          0.2,
          0.4,
          0.6000000000000001,
          0.8,
          1
         ]
        }
       }
      }
     },
     "metadata": {}
    }
   ],
   "source": [
    "from plotly.subplots import make_subplots\n",
    "\n",
    "colours = ['grey', 'orange', 'green']\n",
    "regions = ['Ontario', 'New South Wales', 'Victoria']\n",
    "trace_name = ['Last time R<sub>t</sub><sup>local</sup><1', 'Last time R<sub>t</sub><sup>local</sup>>1', 'Proportion of time R<sub>t</sub><sup>local</sup>>1']\n",
    "\n",
    "titles = ['{}'.format(r) for r in regions]\n",
    "titles.extend([None]*6)\n",
    "\n",
    "traces_mean = [\n",
    "    [last_time_r_less_than_1_ON, last_time_r_less_than_1_NSW, last_time_r_less_than_1_VIC],\n",
    "    [last_time_r_more_than_1_ON, last_time_r_more_than_1_NSW, last_time_r_more_than_1_VIC],\n",
    "    [proportion_time_r_more_than_1_ON, proportion_time_r_more_than_1_NSW, proportion_time_r_more_than_1_VIC]]\n",
    "\n",
    "traces_lower = [\n",
    "    [last_time_r_less_than_1_LowerCI_ON, last_time_r_less_than_1_LowerCI_NSW, last_time_r_less_than_1_LowerCI_VIC],\n",
    "    [last_time_r_more_than_1_LowerCI_ON, last_time_r_more_than_1_LowerCI_NSW, last_time_r_more_than_1_LowerCI_VIC],\n",
    "    [proportion_time_r_more_than_1_LowerCI_ON, proportion_time_r_more_than_1_LowerCI_NSW, proportion_time_r_more_than_1_LowerCI_VIC]]\n",
    "\n",
    "traces_upper = [\n",
    "    [last_time_r_less_than_1_UpperCI_ON, last_time_r_less_than_1_UpperCI_NSW, last_time_r_less_than_1_UpperCI_VIC],\n",
    "    [last_time_r_more_than_1_UpperCI_ON, last_time_r_more_than_1_UpperCI_NSW, last_time_r_more_than_1_UpperCI_VIC],\n",
    "    [proportion_time_r_more_than_1_UpperCI_ON, proportion_time_r_more_than_1_UpperCI_NSW, proportion_time_r_more_than_1_UpperCI_VIC]]\n",
    "\n",
    "fig = go.Figure()\n",
    "fig = make_subplots(rows=3, cols=3, subplot_titles=tuple(titles), shared_yaxes=True)\n",
    "\n",
    "# Plot (bar chart cases each day)\n",
    "for row in range(3):\n",
    "    for col in range(3):\n",
    "        if (row != 0) or (col != 0):\n",
    "            # Plot of incidences\n",
    "            fig.add_trace(\n",
    "                go.Scatter(\n",
    "                    x=large_epsilon_range,\n",
    "                    y=traces_mean[row][col],\n",
    "                    mode='lines',\n",
    "                    name='Mean',\n",
    "                    showlegend=False,\n",
    "                    line_color=colours[0],\n",
    "                ),\n",
    "                row= row+1,\n",
    "                col= col+1\n",
    "            )\n",
    "\n",
    "            fig.add_trace(\n",
    "                go.Scatter(\n",
    "                    x=large_epsilon_range,\n",
    "                    y=traces_lower[row][col],\n",
    "                    mode='lines',\n",
    "                    name='2.5<sup>th</sup> percentile',\n",
    "                    showlegend=False,\n",
    "                    line_color=colours[1],\n",
    "                    line={'dash': 'dot'}\n",
    "                ),\n",
    "                row= row+1,\n",
    "                col= col+1\n",
    "            )\n",
    "\n",
    "            fig.add_trace(\n",
    "                go.Scatter(\n",
    "                    x=large_epsilon_range,\n",
    "                    y=traces_upper[row][col],\n",
    "                    mode='lines',\n",
    "                    name='97.5<sup>th</sup> percentile',\n",
    "                    showlegend=False,\n",
    "                    line_color=colours[2],\n",
    "                    line={'dash': 'dot'}\n",
    "                ),\n",
    "                row= row+1,\n",
    "                col= col+1\n",
    "            )\n",
    "\n",
    "            fig.update_xaxes(row=row+1, col=col+1, title_text='ϵ')\n",
    "        \n",
    "        else:\n",
    "            fig.add_trace(\n",
    "                go.Scatter(\n",
    "                    x=large_epsilon_range,\n",
    "                    y=traces_mean[row][col],\n",
    "                    mode='lines',\n",
    "                    name='Mean',\n",
    "                    line_color=colours[0]\n",
    "                ),\n",
    "                row= row+1,\n",
    "                col= col+1\n",
    "            )\n",
    "\n",
    "            fig.add_trace(\n",
    "                go.Scatter(\n",
    "                    x=large_epsilon_range,\n",
    "                    y=traces_lower[row][col],\n",
    "                    mode='lines',\n",
    "                    name='2.5<sup>th</sup> percentile',\n",
    "                    line_color=colours[1],\n",
    "                    line={'dash': 'dot'}\n",
    "                ),\n",
    "                row= row+1,\n",
    "                col= col+1\n",
    "            )\n",
    "\n",
    "            fig.add_trace(\n",
    "                go.Scatter(\n",
    "                    x=large_epsilon_range,\n",
    "                    y=traces_upper[row][col],\n",
    "                    mode='lines',\n",
    "                    name='97.5<sup>th</sup> percentile',\n",
    "                    line_color=colours[2],\n",
    "                    line={'dash': 'dot'}\n",
    "                ),\n",
    "                row= row+1,\n",
    "                col= col+1\n",
    "            )\n",
    "\n",
    "            fig.update_xaxes(row=row+1, col=col+1, title_text='ϵ')\n",
    "\n",
    "\n",
    "# Add axis labels\n",
    "fig.update_layout(\n",
    "    width=700, \n",
    "    height=800,\n",
    "    plot_bgcolor='white',\n",
    "    xaxis=dict(linecolor='black'),\n",
    "    yaxis=dict(\n",
    "        linecolor='black',\n",
    "        range=[0, 62],\n",
    "        tickvals=np.arange(1, 62, 10).tolist(),\n",
    "        ticktext=['Mar 01', 'Mar 11', 'Mar 21', 'Mar 31', 'Apr 09', 'Apr 19', 'Apr 29']),\n",
    "    xaxis2=dict(linecolor='black'),\n",
    "    yaxis2=dict(\n",
    "        linecolor='black',\n",
    "        range=[0, 62],\n",
    "        tickvals=np.arange(1, 62, 10).tolist(),\n",
    "        ticktext=['Mar 01', 'Mar 11', 'Mar 21', 'Mar 31', 'Apr 09', 'Apr 19', 'Apr 29']),\n",
    "    xaxis3=dict(linecolor='black'),\n",
    "    yaxis3=dict(\n",
    "        linecolor='black',\n",
    "        range=[0, 62],\n",
    "        tickvals=np.arange(1, 62, 10).tolist(),\n",
    "        ticktext=['Mar 01', 'Mar 11', 'Mar 21', 'Mar 31', 'Apr 09', 'Apr 19', 'Apr 29']),\n",
    "    xaxis4=dict(linecolor='black'),\n",
    "    yaxis4=dict(\n",
    "        linecolor='black',\n",
    "        range=[0, 62],\n",
    "        tickvals=np.arange(1, 62, 10).tolist(),\n",
    "        ticktext=['Mar 01', 'Mar 11', 'Mar 21', 'Mar 31', 'Apr 09', 'Apr 19', 'Apr 29']),\n",
    "    xaxis5=dict(linecolor='black'),\n",
    "    yaxis5=dict(\n",
    "        linecolor='black',\n",
    "        range=[0, 62],\n",
    "        tickvals=np.arange(1, 62, 10).tolist(),\n",
    "        ticktext=['Mar 01', 'Mar 11', 'Mar 21', 'Mar 31', 'Apr 09', 'Apr 19', 'Apr 29']),\n",
    "    xaxis6=dict(linecolor='black'),\n",
    "    yaxis6=dict(\n",
    "        linecolor='black',\n",
    "        range=[0, 62],\n",
    "        tickvals=np.arange(1, 62, 10).tolist(),\n",
    "        ticktext=['Mar 01', 'Mar 11', 'Mar 21', 'Mar 31', 'Apr 09', 'Apr 19', 'Apr 29']),\n",
    "    xaxis7=dict(linecolor='black'),\n",
    "    yaxis7=dict(\n",
    "        linecolor='black',\n",
    "        range=[0, 1.2],\n",
    "        tickvals=np.arange(0, 1.1, 0.2).tolist(),\n",
    "        ticktext=['0', '0.2', '0.4', '0.6', '0.8', '1']),\n",
    "    xaxis8=dict(linecolor='black'),\n",
    "    yaxis8=dict(\n",
    "        linecolor='black',\n",
    "        range=[0, 1.2],\n",
    "        tickvals=np.arange(0, 1.1, 0.2).tolist(),\n",
    "        ticktext=['0', '0.2', '0.4', '0.6', '0.8', '1']),\n",
    "    xaxis9=dict(linecolor='black'),\n",
    "    yaxis9=dict(\n",
    "        linecolor='black',\n",
    "        range=[0, 1.2],\n",
    "        tickvals=np.arange(0, 1.1, 0.2).tolist(),\n",
    "        ticktext=['0', '0.2', '0.4', '0.6', '0.8', '1']),\n",
    "    legend=dict(\n",
    "        orientation='h',\n",
    "        yanchor=\"bottom\",\n",
    "        y=1.075,\n",
    "        xanchor=\"right\",\n",
    "        x=1)\n",
    "    )\n",
    "\n",
    "fig.update_yaxes(row=1, col=1, title_text=trace_name[0])\n",
    "fig.update_yaxes(row=2, col=1, title_text=trace_name[1])\n",
    "fig.update_yaxes(row=3, col=1, title_text=trace_name[2])\n",
    "\n",
    "fig.write_image('Figure-3.pdf')\n",
    "fig.show()"
   ]
  },
  {
   "cell_type": "code",
   "execution_count": 101,
   "metadata": {},
   "outputs": [
    {
     "output_type": "display_data",
     "data": {
      "application/vnd.plotly.v1+json": {
       "config": {
        "plotlyServerURL": "https://plot.ly"
       },
       "data": [
        {
         "line": {
          "color": "grey"
         },
         "mode": "lines",
         "name": "Mean",
         "type": "scatter",
         "x": [
          0.1,
          0.2,
          0.30000000000000004,
          0.4,
          0.5,
          0.6,
          0.7000000000000001,
          0.8,
          0.9,
          1,
          1.1,
          1.2000000000000002,
          1.3000000000000003,
          1.4000000000000001,
          1.5000000000000002,
          1.6,
          1.7000000000000002,
          1.8000000000000003,
          1.9000000000000001,
          2,
          2.1,
          2.2,
          2.3000000000000003,
          2.4000000000000004
         ],
         "xaxis": "x",
         "y": [
          null,
          null,
          null,
          null,
          10,
          19,
          20,
          22,
          23,
          23,
          42,
          42,
          43,
          43,
          43,
          43,
          44,
          44,
          44,
          44,
          45,
          45,
          45,
          45
         ],
         "yaxis": "y"
        },
        {
         "line": {
          "color": "orange",
          "dash": "dot"
         },
         "mode": "lines",
         "name": "2.5<sup>th</sup> percentile",
         "type": "scatter",
         "x": [
          0.1,
          0.2,
          0.30000000000000004,
          0.4,
          0.5,
          0.6,
          0.7000000000000001,
          0.8,
          0.9,
          1,
          1.1,
          1.2000000000000002,
          1.3000000000000003,
          1.4000000000000001,
          1.5000000000000002,
          1.6,
          1.7000000000000002,
          1.8000000000000003,
          1.9000000000000001,
          2,
          2.1,
          2.2,
          2.3000000000000003,
          2.4000000000000004
         ],
         "xaxis": "x",
         "y": [
          10,
          11,
          11,
          20,
          21,
          22,
          42,
          43,
          43,
          43,
          43,
          43,
          44,
          44,
          44,
          44,
          45,
          45,
          46,
          46,
          46,
          46,
          47,
          47
         ],
         "yaxis": "y"
        },
        {
         "line": {
          "color": "green",
          "dash": "dot"
         },
         "mode": "lines",
         "name": "97.5<sup>th</sup> percentile",
         "type": "scatter",
         "x": [
          0.1,
          0.2,
          0.30000000000000004,
          0.4,
          0.5,
          0.6,
          0.7000000000000001,
          0.8,
          0.9,
          1,
          1.1,
          1.2000000000000002,
          1.3000000000000003,
          1.4000000000000001,
          1.5000000000000002,
          1.6,
          1.7000000000000002,
          1.8000000000000003,
          1.9000000000000001,
          2,
          2.1,
          2.2,
          2.3000000000000003,
          2.4000000000000004
         ],
         "xaxis": "x",
         "y": [
          null,
          null,
          null,
          null,
          null,
          null,
          null,
          null,
          20,
          21,
          22,
          23,
          23,
          24,
          24,
          42,
          42,
          43,
          43,
          43,
          43,
          43,
          44,
          44
         ],
         "yaxis": "y"
        },
        {
         "line": {
          "color": "grey"
         },
         "mode": "lines",
         "name": "Mean",
         "showlegend": false,
         "type": "scatter",
         "x": [
          0.1,
          0.2,
          0.30000000000000004,
          0.4,
          0.5,
          0.6,
          0.7000000000000001,
          0.8,
          0.9,
          1,
          1.1,
          1.2000000000000002,
          1.3000000000000003,
          1.4000000000000001,
          1.5000000000000002,
          1.6,
          1.7000000000000002,
          1.8000000000000003,
          1.9000000000000001,
          2,
          2.1,
          2.2,
          2.3000000000000003,
          2.4000000000000004
         ],
         "xaxis": "x2",
         "y": [
          30,
          29,
          27,
          25,
          24,
          22,
          21,
          19,
          19,
          18,
          18,
          15,
          15,
          14,
          10,
          10,
          10,
          10,
          10,
          10,
          10,
          9,
          9,
          9
         ],
         "yaxis": "y2"
        },
        {
         "line": {
          "color": "orange",
          "dash": "dot"
         },
         "mode": "lines",
         "name": "2.5<sup>th</sup> percentile",
         "showlegend": false,
         "type": "scatter",
         "x": [
          0.1,
          0.2,
          0.30000000000000004,
          0.4,
          0.5,
          0.6,
          0.7000000000000001,
          0.8,
          0.9,
          1,
          1.1,
          1.2000000000000002,
          1.3000000000000003,
          1.4000000000000001,
          1.5000000000000002,
          1.6,
          1.7000000000000002,
          1.8000000000000003,
          1.9000000000000001,
          2,
          2.1,
          2.2,
          2.3000000000000003,
          2.4000000000000004
         ],
         "xaxis": "x2",
         "y": [
          29,
          27,
          24,
          21,
          19,
          18,
          10,
          10,
          10,
          9,
          9,
          9,
          9,
          null,
          null,
          null,
          null,
          null,
          null,
          null,
          null,
          null,
          null,
          null
         ],
         "yaxis": "y2"
        },
        {
         "line": {
          "color": "green",
          "dash": "dot"
         },
         "mode": "lines",
         "name": "97.5<sup>th</sup> percentile",
         "showlegend": false,
         "type": "scatter",
         "x": [
          0.1,
          0.2,
          0.30000000000000004,
          0.4,
          0.5,
          0.6,
          0.7000000000000001,
          0.8,
          0.9,
          1,
          1.1,
          1.2000000000000002,
          1.3000000000000003,
          1.4000000000000001,
          1.5000000000000002,
          1.6,
          1.7000000000000002,
          1.8000000000000003,
          1.9000000000000001,
          2,
          2.1,
          2.2,
          2.3000000000000003,
          2.4000000000000004
         ],
         "xaxis": "x2",
         "y": [
          34,
          30,
          29,
          28,
          26,
          25,
          24,
          23,
          22,
          21,
          21,
          19,
          19,
          19,
          19,
          18,
          18,
          18,
          15,
          15,
          15,
          14,
          14,
          14
         ],
         "yaxis": "y2"
        },
        {
         "line": {
          "color": "grey"
         },
         "mode": "lines",
         "name": "Mean",
         "showlegend": false,
         "type": "scatter",
         "x": [
          0.1,
          0.2,
          0.30000000000000004,
          0.4,
          0.5,
          0.6,
          0.7000000000000001,
          0.8,
          0.9,
          1,
          1.1,
          1.2000000000000002,
          1.3000000000000003,
          1.4000000000000001,
          1.5000000000000002,
          1.6,
          1.7000000000000002,
          1.8000000000000003,
          1.9000000000000001,
          2,
          2.1,
          2.2,
          2.3000000000000003,
          2.4000000000000004
         ],
         "xaxis": "x3",
         "y": [
          32,
          31,
          31,
          30,
          30,
          29,
          29,
          29,
          28,
          28,
          28,
          26,
          26,
          25,
          24,
          15,
          15,
          15,
          15,
          15,
          15,
          15,
          15,
          14
         ],
         "yaxis": "y3"
        },
        {
         "line": {
          "color": "orange",
          "dash": "dot"
         },
         "mode": "lines",
         "name": "2.5<sup>th</sup> percentile",
         "showlegend": false,
         "type": "scatter",
         "x": [
          0.1,
          0.2,
          0.30000000000000004,
          0.4,
          0.5,
          0.6,
          0.7000000000000001,
          0.8,
          0.9,
          1,
          1.1,
          1.2000000000000002,
          1.3000000000000003,
          1.4000000000000001,
          1.5000000000000002,
          1.6,
          1.7000000000000002,
          1.8000000000000003,
          1.9000000000000001,
          2,
          2.1,
          2.2,
          2.3000000000000003,
          2.4000000000000004
         ],
         "xaxis": "x3",
         "y": [
          31,
          30,
          29,
          29,
          29,
          28,
          28,
          26,
          26,
          25,
          15,
          14,
          14,
          14,
          14,
          13,
          13,
          13,
          null,
          null,
          null,
          null,
          null,
          null
         ],
         "yaxis": "y3"
        },
        {
         "line": {
          "color": "green",
          "dash": "dot"
         },
         "mode": "lines",
         "name": "97.5<sup>th</sup> percentile",
         "showlegend": false,
         "type": "scatter",
         "x": [
          0.1,
          0.2,
          0.30000000000000004,
          0.4,
          0.5,
          0.6,
          0.7000000000000001,
          0.8,
          0.9,
          1,
          1.1,
          1.2000000000000002,
          1.3000000000000003,
          1.4000000000000001,
          1.5000000000000002,
          1.6,
          1.7000000000000002,
          1.8000000000000003,
          1.9000000000000001,
          2,
          2.1,
          2.2,
          2.3000000000000003,
          2.4000000000000004
         ],
         "xaxis": "x3",
         "y": [
          34,
          34,
          32,
          32,
          31,
          31,
          31,
          30,
          30,
          29,
          29,
          29,
          28,
          28,
          28,
          26,
          26,
          26,
          25,
          24,
          19,
          19,
          16,
          16
         ],
         "yaxis": "y3"
        },
        {
         "line": {
          "color": "grey"
         },
         "mode": "lines",
         "name": "Mean",
         "showlegend": false,
         "type": "scatter",
         "x": [
          0.1,
          0.2,
          0.30000000000000004,
          0.4,
          0.5,
          0.6,
          0.7000000000000001,
          0.8,
          0.9,
          1,
          1.1,
          1.2000000000000002,
          1.3000000000000003,
          1.4000000000000001,
          1.5000000000000002,
          1.6,
          1.7000000000000002,
          1.8000000000000003,
          1.9000000000000001,
          2,
          2.1,
          2.2,
          2.3000000000000003,
          2.4000000000000004
         ],
         "xaxis": "x4",
         "y": [
          1,
          1,
          1,
          1,
          0.9545454545454546,
          0.9318181818181818,
          0.8181818181818182,
          0.7727272727272727,
          0.75,
          0.75,
          0.6590909090909091,
          0.6590909090909091,
          0.6136363636363636,
          0.5227272727272727,
          0.4772727272727273,
          0.4318181818181818,
          0.38636363636363635,
          0.3409090909090909,
          0.29545454545454547,
          0.25,
          0.18181818181818182,
          0.1590909090909091,
          0.1590909090909091,
          0.1590909090909091
         ],
         "yaxis": "y4"
        },
        {
         "line": {
          "color": "orange",
          "dash": "dot"
         },
         "mode": "lines",
         "name": "2.5<sup>th</sup> percentile",
         "showlegend": false,
         "type": "scatter",
         "x": [
          0.1,
          0.2,
          0.30000000000000004,
          0.4,
          0.5,
          0.6,
          0.7000000000000001,
          0.8,
          0.9,
          1,
          1.1,
          1.2000000000000002,
          1.3000000000000003,
          1.4000000000000001,
          1.5000000000000002,
          1.6,
          1.7000000000000002,
          1.8000000000000003,
          1.9000000000000001,
          2,
          2.1,
          2.2,
          2.3000000000000003,
          2.4000000000000004
         ],
         "xaxis": "x4",
         "y": [
          0.9545454545454546,
          0.9318181818181818,
          0.9318181818181818,
          0.8181818181818182,
          0.7727272727272727,
          0.7272727272727273,
          0.6818181818181818,
          0.6136363636363636,
          0.5681818181818182,
          0.5227272727272727,
          0.4772727272727273,
          0.45454545454545453,
          0.38636363636363635,
          0.3409090909090909,
          0.2727272727272727,
          0.20454545454545456,
          0.1590909090909091,
          0.1590909090909091,
          0.13636363636363635,
          0.13636363636363635,
          0.13636363636363635,
          0.13636363636363635,
          0.11363636363636363,
          0.11363636363636363
         ],
         "yaxis": "y4"
        },
        {
         "line": {
          "color": "green",
          "dash": "dot"
         },
         "mode": "lines",
         "name": "97.5<sup>th</sup> percentile",
         "showlegend": false,
         "type": "scatter",
         "x": [
          0.1,
          0.2,
          0.30000000000000004,
          0.4,
          0.5,
          0.6,
          0.7000000000000001,
          0.8,
          0.9,
          1,
          1.1,
          1.2000000000000002,
          1.3000000000000003,
          1.4000000000000001,
          1.5000000000000002,
          1.6,
          1.7000000000000002,
          1.8000000000000003,
          1.9000000000000001,
          2,
          2.1,
          2.2,
          2.3000000000000003,
          2.4000000000000004
         ],
         "xaxis": "x4",
         "y": [
          1,
          1,
          1,
          1,
          1,
          1,
          1,
          1,
          0.9772727272727273,
          0.9090909090909091,
          0.8636363636363636,
          0.7954545454545454,
          0.75,
          0.7272727272727273,
          0.7272727272727273,
          0.6818181818181818,
          0.6363636363636364,
          0.5909090909090909,
          0.5454545454545454,
          0.5,
          0.4772727272727273,
          0.45454545454545453,
          0.3409090909090909,
          0.29545454545454547
         ],
         "yaxis": "y4"
        },
        {
         "line": {
          "color": "grey"
         },
         "mode": "lines",
         "name": "Mean",
         "showlegend": false,
         "type": "scatter",
         "x": [
          0.1,
          0.2,
          0.30000000000000004,
          0.4,
          0.5,
          0.6,
          0.7000000000000001,
          0.8,
          0.9,
          1,
          1.1,
          1.2000000000000002,
          1.3000000000000003,
          1.4000000000000001,
          1.5000000000000002,
          1.6,
          1.7000000000000002,
          1.8000000000000003,
          1.9000000000000001,
          2,
          2.1,
          2.2,
          2.3000000000000003,
          2.4000000000000004
         ],
         "xaxis": "x5",
         "y": [
          0.6111111111111112,
          0.5833333333333334,
          0.5277777777777778,
          0.4722222222222222,
          0.4444444444444444,
          0.3888888888888889,
          0.3611111111111111,
          0.3055555555555556,
          0.3055555555555556,
          0.2777777777777778,
          0.25,
          0.16666666666666666,
          0.1388888888888889,
          0.08333333333333333,
          0.05555555555555555,
          0.05555555555555555,
          0.05555555555555555,
          0.05555555555555555,
          0.05555555555555555,
          0.05555555555555555,
          0.05555555555555555,
          0.027777777777777776,
          0.027777777777777776,
          0.027777777777777776
         ],
         "yaxis": "y5"
        },
        {
         "line": {
          "color": "orange",
          "dash": "dot"
         },
         "mode": "lines",
         "name": "2.5<sup>th</sup> percentile",
         "showlegend": false,
         "type": "scatter",
         "x": [
          0.1,
          0.2,
          0.30000000000000004,
          0.4,
          0.5,
          0.6,
          0.7000000000000001,
          0.8,
          0.9,
          1,
          1.1,
          1.2000000000000002,
          1.3000000000000003,
          1.4000000000000001,
          1.5000000000000002,
          1.6,
          1.7000000000000002,
          1.8000000000000003,
          1.9000000000000001,
          2,
          2.1,
          2.2,
          2.3000000000000003,
          2.4000000000000004
         ],
         "xaxis": "x5",
         "y": [
          0.5833333333333334,
          0.5277777777777778,
          0.4444444444444444,
          0.25,
          0.19444444444444445,
          0.1388888888888889,
          0.05555555555555555,
          0.05555555555555555,
          0.05555555555555555,
          0.027777777777777776,
          0.027777777777777776,
          0.027777777777777776,
          0.027777777777777776,
          0,
          0,
          0,
          0,
          0,
          0,
          0,
          0,
          0,
          0,
          0
         ],
         "yaxis": "y5"
        },
        {
         "line": {
          "color": "green",
          "dash": "dot"
         },
         "mode": "lines",
         "name": "97.5<sup>th</sup> percentile",
         "showlegend": false,
         "type": "scatter",
         "x": [
          0.1,
          0.2,
          0.30000000000000004,
          0.4,
          0.5,
          0.6,
          0.7000000000000001,
          0.8,
          0.9,
          1,
          1.1,
          1.2000000000000002,
          1.3000000000000003,
          1.4000000000000001,
          1.5000000000000002,
          1.6,
          1.7000000000000002,
          1.8000000000000003,
          1.9000000000000001,
          2,
          2.1,
          2.2,
          2.3000000000000003,
          2.4000000000000004
         ],
         "xaxis": "x5",
         "y": [
          0.7222222222222222,
          0.6111111111111112,
          0.5833333333333334,
          0.5555555555555556,
          0.5,
          0.4722222222222222,
          0.4444444444444444,
          0.4166666666666667,
          0.3888888888888889,
          0.3611111111111111,
          0.3611111111111111,
          0.3055555555555556,
          0.3055555555555556,
          0.3055555555555556,
          0.3055555555555556,
          0.2777777777777778,
          0.25,
          0.25,
          0.19444444444444445,
          0.19444444444444445,
          0.19444444444444445,
          0.1388888888888889,
          0.1388888888888889,
          0.1388888888888889
         ],
         "yaxis": "y5"
        },
        {
         "line": {
          "color": "grey"
         },
         "mode": "lines",
         "name": "Mean",
         "showlegend": false,
         "type": "scatter",
         "x": [
          0.1,
          0.2,
          0.30000000000000004,
          0.4,
          0.5,
          0.6,
          0.7000000000000001,
          0.8,
          0.9,
          1,
          1.1,
          1.2000000000000002,
          1.3000000000000003,
          1.4000000000000001,
          1.5000000000000002,
          1.6,
          1.7000000000000002,
          1.8000000000000003,
          1.9000000000000001,
          2,
          2.1,
          2.2,
          2.3000000000000003,
          2.4000000000000004
         ],
         "xaxis": "x6",
         "y": [
          0.6486486486486487,
          0.6216216216216216,
          0.6216216216216216,
          0.5945945945945946,
          0.5945945945945946,
          0.5675675675675675,
          0.5675675675675675,
          0.5675675675675675,
          0.4864864864864865,
          0.4594594594594595,
          0.43243243243243246,
          0.35135135135135137,
          0.32432432432432434,
          0.24324324324324326,
          0.16216216216216217,
          0.10810810810810811,
          0.10810810810810811,
          0.10810810810810811,
          0.08108108108108109,
          0.08108108108108109,
          0.08108108108108109,
          0.08108108108108109,
          0.08108108108108109,
          0.05405405405405406
         ],
         "yaxis": "y6"
        },
        {
         "line": {
          "color": "orange",
          "dash": "dot"
         },
         "mode": "lines",
         "name": "2.5<sup>th</sup> percentile",
         "showlegend": false,
         "type": "scatter",
         "x": [
          0.1,
          0.2,
          0.30000000000000004,
          0.4,
          0.5,
          0.6,
          0.7000000000000001,
          0.8,
          0.9,
          1,
          1.1,
          1.2000000000000002,
          1.3000000000000003,
          1.4000000000000001,
          1.5000000000000002,
          1.6,
          1.7000000000000002,
          1.8000000000000003,
          1.9000000000000001,
          2,
          2.1,
          2.2,
          2.3000000000000003,
          2.4000000000000004
         ],
         "xaxis": "x6",
         "y": [
          0.6216216216216216,
          0.5675675675675675,
          0.5405405405405406,
          0.43243243243243246,
          0.40540540540540543,
          0.32432432432432434,
          0.2702702702702703,
          0.1891891891891892,
          0.1891891891891892,
          0.16216216216216217,
          0.08108108108108109,
          0.05405405405405406,
          0.05405405405405406,
          0.05405405405405406,
          0.05405405405405406,
          0.02702702702702703,
          0.02702702702702703,
          0.02702702702702703,
          0,
          0,
          0,
          0,
          0,
          0
         ],
         "yaxis": "y6"
        },
        {
         "line": {
          "color": "green",
          "dash": "dot"
         },
         "mode": "lines",
         "name": "97.5<sup>th</sup> percentile",
         "showlegend": false,
         "type": "scatter",
         "x": [
          0.1,
          0.2,
          0.30000000000000004,
          0.4,
          0.5,
          0.6,
          0.7000000000000001,
          0.8,
          0.9,
          1,
          1.1,
          1.2000000000000002,
          1.3000000000000003,
          1.4000000000000001,
          1.5000000000000002,
          1.6,
          1.7000000000000002,
          1.8000000000000003,
          1.9000000000000001,
          2,
          2.1,
          2.2,
          2.3000000000000003,
          2.4000000000000004
         ],
         "xaxis": "x6",
         "y": [
          0.7027027027027027,
          0.7027027027027027,
          0.6486486486486487,
          0.6486486486486487,
          0.6216216216216216,
          0.6216216216216216,
          0.6216216216216216,
          0.5945945945945946,
          0.5945945945945946,
          0.5675675675675675,
          0.5675675675675675,
          0.5675675675675675,
          0.5405405405405406,
          0.5135135135135135,
          0.4864864864864865,
          0.43243243243243246,
          0.40540540540540543,
          0.40540540540540543,
          0.3783783783783784,
          0.35135135135135137,
          0.2972972972972973,
          0.2702702702702703,
          0.21621621621621623,
          0.21621621621621623
         ],
         "yaxis": "y6"
        }
       ],
       "layout": {
        "annotations": [
         {
          "font": {
           "size": 16
          },
          "showarrow": false,
          "text": "Ontario",
          "x": 0.11666666666666665,
          "xanchor": "center",
          "xref": "paper",
          "y": 1,
          "yanchor": "bottom",
          "yref": "paper"
         },
         {
          "font": {
           "size": 16
          },
          "showarrow": false,
          "text": "New South Wales",
          "x": 0.49999999999999994,
          "xanchor": "center",
          "xref": "paper",
          "y": 1,
          "yanchor": "bottom",
          "yref": "paper"
         },
         {
          "font": {
           "size": 16
          },
          "showarrow": false,
          "text": "Victoria",
          "x": 0.8833333333333333,
          "xanchor": "center",
          "xref": "paper",
          "y": 1,
          "yanchor": "bottom",
          "yref": "paper"
         }
        ],
        "height": 600,
        "legend": {
         "orientation": "h",
         "x": 1,
         "xanchor": "right",
         "y": 1.075,
         "yanchor": "bottom"
        },
        "plot_bgcolor": "white",
        "template": {
         "data": {
          "bar": [
           {
            "error_x": {
             "color": "#2a3f5f"
            },
            "error_y": {
             "color": "#2a3f5f"
            },
            "marker": {
             "line": {
              "color": "#E5ECF6",
              "width": 0.5
             }
            },
            "type": "bar"
           }
          ],
          "barpolar": [
           {
            "marker": {
             "line": {
              "color": "#E5ECF6",
              "width": 0.5
             }
            },
            "type": "barpolar"
           }
          ],
          "carpet": [
           {
            "aaxis": {
             "endlinecolor": "#2a3f5f",
             "gridcolor": "white",
             "linecolor": "white",
             "minorgridcolor": "white",
             "startlinecolor": "#2a3f5f"
            },
            "baxis": {
             "endlinecolor": "#2a3f5f",
             "gridcolor": "white",
             "linecolor": "white",
             "minorgridcolor": "white",
             "startlinecolor": "#2a3f5f"
            },
            "type": "carpet"
           }
          ],
          "choropleth": [
           {
            "colorbar": {
             "outlinewidth": 0,
             "ticks": ""
            },
            "type": "choropleth"
           }
          ],
          "contour": [
           {
            "colorbar": {
             "outlinewidth": 0,
             "ticks": ""
            },
            "colorscale": [
             [
              0,
              "#0d0887"
             ],
             [
              0.1111111111111111,
              "#46039f"
             ],
             [
              0.2222222222222222,
              "#7201a8"
             ],
             [
              0.3333333333333333,
              "#9c179e"
             ],
             [
              0.4444444444444444,
              "#bd3786"
             ],
             [
              0.5555555555555556,
              "#d8576b"
             ],
             [
              0.6666666666666666,
              "#ed7953"
             ],
             [
              0.7777777777777778,
              "#fb9f3a"
             ],
             [
              0.8888888888888888,
              "#fdca26"
             ],
             [
              1,
              "#f0f921"
             ]
            ],
            "type": "contour"
           }
          ],
          "contourcarpet": [
           {
            "colorbar": {
             "outlinewidth": 0,
             "ticks": ""
            },
            "type": "contourcarpet"
           }
          ],
          "heatmap": [
           {
            "colorbar": {
             "outlinewidth": 0,
             "ticks": ""
            },
            "colorscale": [
             [
              0,
              "#0d0887"
             ],
             [
              0.1111111111111111,
              "#46039f"
             ],
             [
              0.2222222222222222,
              "#7201a8"
             ],
             [
              0.3333333333333333,
              "#9c179e"
             ],
             [
              0.4444444444444444,
              "#bd3786"
             ],
             [
              0.5555555555555556,
              "#d8576b"
             ],
             [
              0.6666666666666666,
              "#ed7953"
             ],
             [
              0.7777777777777778,
              "#fb9f3a"
             ],
             [
              0.8888888888888888,
              "#fdca26"
             ],
             [
              1,
              "#f0f921"
             ]
            ],
            "type": "heatmap"
           }
          ],
          "heatmapgl": [
           {
            "colorbar": {
             "outlinewidth": 0,
             "ticks": ""
            },
            "colorscale": [
             [
              0,
              "#0d0887"
             ],
             [
              0.1111111111111111,
              "#46039f"
             ],
             [
              0.2222222222222222,
              "#7201a8"
             ],
             [
              0.3333333333333333,
              "#9c179e"
             ],
             [
              0.4444444444444444,
              "#bd3786"
             ],
             [
              0.5555555555555556,
              "#d8576b"
             ],
             [
              0.6666666666666666,
              "#ed7953"
             ],
             [
              0.7777777777777778,
              "#fb9f3a"
             ],
             [
              0.8888888888888888,
              "#fdca26"
             ],
             [
              1,
              "#f0f921"
             ]
            ],
            "type": "heatmapgl"
           }
          ],
          "histogram": [
           {
            "marker": {
             "colorbar": {
              "outlinewidth": 0,
              "ticks": ""
             }
            },
            "type": "histogram"
           }
          ],
          "histogram2d": [
           {
            "colorbar": {
             "outlinewidth": 0,
             "ticks": ""
            },
            "colorscale": [
             [
              0,
              "#0d0887"
             ],
             [
              0.1111111111111111,
              "#46039f"
             ],
             [
              0.2222222222222222,
              "#7201a8"
             ],
             [
              0.3333333333333333,
              "#9c179e"
             ],
             [
              0.4444444444444444,
              "#bd3786"
             ],
             [
              0.5555555555555556,
              "#d8576b"
             ],
             [
              0.6666666666666666,
              "#ed7953"
             ],
             [
              0.7777777777777778,
              "#fb9f3a"
             ],
             [
              0.8888888888888888,
              "#fdca26"
             ],
             [
              1,
              "#f0f921"
             ]
            ],
            "type": "histogram2d"
           }
          ],
          "histogram2dcontour": [
           {
            "colorbar": {
             "outlinewidth": 0,
             "ticks": ""
            },
            "colorscale": [
             [
              0,
              "#0d0887"
             ],
             [
              0.1111111111111111,
              "#46039f"
             ],
             [
              0.2222222222222222,
              "#7201a8"
             ],
             [
              0.3333333333333333,
              "#9c179e"
             ],
             [
              0.4444444444444444,
              "#bd3786"
             ],
             [
              0.5555555555555556,
              "#d8576b"
             ],
             [
              0.6666666666666666,
              "#ed7953"
             ],
             [
              0.7777777777777778,
              "#fb9f3a"
             ],
             [
              0.8888888888888888,
              "#fdca26"
             ],
             [
              1,
              "#f0f921"
             ]
            ],
            "type": "histogram2dcontour"
           }
          ],
          "mesh3d": [
           {
            "colorbar": {
             "outlinewidth": 0,
             "ticks": ""
            },
            "type": "mesh3d"
           }
          ],
          "parcoords": [
           {
            "line": {
             "colorbar": {
              "outlinewidth": 0,
              "ticks": ""
             }
            },
            "type": "parcoords"
           }
          ],
          "pie": [
           {
            "automargin": true,
            "type": "pie"
           }
          ],
          "scatter": [
           {
            "marker": {
             "colorbar": {
              "outlinewidth": 0,
              "ticks": ""
             }
            },
            "type": "scatter"
           }
          ],
          "scatter3d": [
           {
            "line": {
             "colorbar": {
              "outlinewidth": 0,
              "ticks": ""
             }
            },
            "marker": {
             "colorbar": {
              "outlinewidth": 0,
              "ticks": ""
             }
            },
            "type": "scatter3d"
           }
          ],
          "scattercarpet": [
           {
            "marker": {
             "colorbar": {
              "outlinewidth": 0,
              "ticks": ""
             }
            },
            "type": "scattercarpet"
           }
          ],
          "scattergeo": [
           {
            "marker": {
             "colorbar": {
              "outlinewidth": 0,
              "ticks": ""
             }
            },
            "type": "scattergeo"
           }
          ],
          "scattergl": [
           {
            "marker": {
             "colorbar": {
              "outlinewidth": 0,
              "ticks": ""
             }
            },
            "type": "scattergl"
           }
          ],
          "scattermapbox": [
           {
            "marker": {
             "colorbar": {
              "outlinewidth": 0,
              "ticks": ""
             }
            },
            "type": "scattermapbox"
           }
          ],
          "scatterpolar": [
           {
            "marker": {
             "colorbar": {
              "outlinewidth": 0,
              "ticks": ""
             }
            },
            "type": "scatterpolar"
           }
          ],
          "scatterpolargl": [
           {
            "marker": {
             "colorbar": {
              "outlinewidth": 0,
              "ticks": ""
             }
            },
            "type": "scatterpolargl"
           }
          ],
          "scatterternary": [
           {
            "marker": {
             "colorbar": {
              "outlinewidth": 0,
              "ticks": ""
             }
            },
            "type": "scatterternary"
           }
          ],
          "surface": [
           {
            "colorbar": {
             "outlinewidth": 0,
             "ticks": ""
            },
            "colorscale": [
             [
              0,
              "#0d0887"
             ],
             [
              0.1111111111111111,
              "#46039f"
             ],
             [
              0.2222222222222222,
              "#7201a8"
             ],
             [
              0.3333333333333333,
              "#9c179e"
             ],
             [
              0.4444444444444444,
              "#bd3786"
             ],
             [
              0.5555555555555556,
              "#d8576b"
             ],
             [
              0.6666666666666666,
              "#ed7953"
             ],
             [
              0.7777777777777778,
              "#fb9f3a"
             ],
             [
              0.8888888888888888,
              "#fdca26"
             ],
             [
              1,
              "#f0f921"
             ]
            ],
            "type": "surface"
           }
          ],
          "table": [
           {
            "cells": {
             "fill": {
              "color": "#EBF0F8"
             },
             "line": {
              "color": "white"
             }
            },
            "header": {
             "fill": {
              "color": "#C8D4E3"
             },
             "line": {
              "color": "white"
             }
            },
            "type": "table"
           }
          ]
         },
         "layout": {
          "annotationdefaults": {
           "arrowcolor": "#2a3f5f",
           "arrowhead": 0,
           "arrowwidth": 1
          },
          "autotypenumbers": "strict",
          "coloraxis": {
           "colorbar": {
            "outlinewidth": 0,
            "ticks": ""
           }
          },
          "colorscale": {
           "diverging": [
            [
             0,
             "#8e0152"
            ],
            [
             0.1,
             "#c51b7d"
            ],
            [
             0.2,
             "#de77ae"
            ],
            [
             0.3,
             "#f1b6da"
            ],
            [
             0.4,
             "#fde0ef"
            ],
            [
             0.5,
             "#f7f7f7"
            ],
            [
             0.6,
             "#e6f5d0"
            ],
            [
             0.7,
             "#b8e186"
            ],
            [
             0.8,
             "#7fbc41"
            ],
            [
             0.9,
             "#4d9221"
            ],
            [
             1,
             "#276419"
            ]
           ],
           "sequential": [
            [
             0,
             "#0d0887"
            ],
            [
             0.1111111111111111,
             "#46039f"
            ],
            [
             0.2222222222222222,
             "#7201a8"
            ],
            [
             0.3333333333333333,
             "#9c179e"
            ],
            [
             0.4444444444444444,
             "#bd3786"
            ],
            [
             0.5555555555555556,
             "#d8576b"
            ],
            [
             0.6666666666666666,
             "#ed7953"
            ],
            [
             0.7777777777777778,
             "#fb9f3a"
            ],
            [
             0.8888888888888888,
             "#fdca26"
            ],
            [
             1,
             "#f0f921"
            ]
           ],
           "sequentialminus": [
            [
             0,
             "#0d0887"
            ],
            [
             0.1111111111111111,
             "#46039f"
            ],
            [
             0.2222222222222222,
             "#7201a8"
            ],
            [
             0.3333333333333333,
             "#9c179e"
            ],
            [
             0.4444444444444444,
             "#bd3786"
            ],
            [
             0.5555555555555556,
             "#d8576b"
            ],
            [
             0.6666666666666666,
             "#ed7953"
            ],
            [
             0.7777777777777778,
             "#fb9f3a"
            ],
            [
             0.8888888888888888,
             "#fdca26"
            ],
            [
             1,
             "#f0f921"
            ]
           ]
          },
          "colorway": [
           "#636efa",
           "#EF553B",
           "#00cc96",
           "#ab63fa",
           "#FFA15A",
           "#19d3f3",
           "#FF6692",
           "#B6E880",
           "#FF97FF",
           "#FECB52"
          ],
          "font": {
           "color": "#2a3f5f"
          },
          "geo": {
           "bgcolor": "white",
           "lakecolor": "white",
           "landcolor": "#E5ECF6",
           "showlakes": true,
           "showland": true,
           "subunitcolor": "white"
          },
          "hoverlabel": {
           "align": "left"
          },
          "hovermode": "closest",
          "mapbox": {
           "style": "light"
          },
          "paper_bgcolor": "white",
          "plot_bgcolor": "#E5ECF6",
          "polar": {
           "angularaxis": {
            "gridcolor": "white",
            "linecolor": "white",
            "ticks": ""
           },
           "bgcolor": "#E5ECF6",
           "radialaxis": {
            "gridcolor": "white",
            "linecolor": "white",
            "ticks": ""
           }
          },
          "scene": {
           "xaxis": {
            "backgroundcolor": "#E5ECF6",
            "gridcolor": "white",
            "gridwidth": 2,
            "linecolor": "white",
            "showbackground": true,
            "ticks": "",
            "zerolinecolor": "white"
           },
           "yaxis": {
            "backgroundcolor": "#E5ECF6",
            "gridcolor": "white",
            "gridwidth": 2,
            "linecolor": "white",
            "showbackground": true,
            "ticks": "",
            "zerolinecolor": "white"
           },
           "zaxis": {
            "backgroundcolor": "#E5ECF6",
            "gridcolor": "white",
            "gridwidth": 2,
            "linecolor": "white",
            "showbackground": true,
            "ticks": "",
            "zerolinecolor": "white"
           }
          },
          "shapedefaults": {
           "line": {
            "color": "#2a3f5f"
           }
          },
          "ternary": {
           "aaxis": {
            "gridcolor": "white",
            "linecolor": "white",
            "ticks": ""
           },
           "baxis": {
            "gridcolor": "white",
            "linecolor": "white",
            "ticks": ""
           },
           "bgcolor": "#E5ECF6",
           "caxis": {
            "gridcolor": "white",
            "linecolor": "white",
            "ticks": ""
           }
          },
          "title": {
           "x": 0.05
          },
          "xaxis": {
           "automargin": true,
           "gridcolor": "white",
           "linecolor": "white",
           "ticks": "",
           "title": {
            "standoff": 15
           },
           "zerolinecolor": "white",
           "zerolinewidth": 2
          },
          "yaxis": {
           "automargin": true,
           "gridcolor": "white",
           "linecolor": "white",
           "ticks": "",
           "title": {
            "standoff": 15
           },
           "zerolinecolor": "white",
           "zerolinewidth": 2
          }
         }
        },
        "width": 1000,
        "xaxis": {
         "anchor": "y",
         "domain": [
          0,
          0.2333333333333333
         ],
         "linecolor": "black",
         "tickcolor": "black",
         "ticklen": 5,
         "ticks": "inside",
         "title": {
          "text": "Relative transmissibility of<br>imported cases (ϵ)"
         }
        },
        "xaxis2": {
         "anchor": "y2",
         "domain": [
          0.3833333333333333,
          0.6166666666666666
         ],
         "linecolor": "black",
         "tickcolor": "black",
         "ticklen": 5,
         "ticks": "inside",
         "title": {
          "text": "Relative transmissibility of<br>imported cases (ϵ)"
         }
        },
        "xaxis3": {
         "anchor": "y3",
         "domain": [
          0.7666666666666666,
          0.9999999999999999
         ],
         "linecolor": "black",
         "tickcolor": "black",
         "ticklen": 5,
         "ticks": "inside",
         "title": {
          "text": "Relative transmissibility of<br>imported cases (ϵ)"
         }
        },
        "xaxis4": {
         "anchor": "y4",
         "domain": [
          0,
          0.2333333333333333
         ],
         "linecolor": "black",
         "tickcolor": "black",
         "ticklen": 5,
         "ticks": "inside",
         "title": {
          "text": "Relative transmissibility of<br>imported cases (ϵ)"
         }
        },
        "xaxis5": {
         "anchor": "y5",
         "domain": [
          0.3833333333333333,
          0.6166666666666666
         ],
         "linecolor": "black",
         "tickcolor": "black",
         "ticklen": 5,
         "ticks": "inside",
         "title": {
          "text": "Relative transmissibility of<br>imported cases (ϵ)"
         }
        },
        "xaxis6": {
         "anchor": "y6",
         "domain": [
          0.7666666666666666,
          0.9999999999999999
         ],
         "linecolor": "black",
         "tickcolor": "black",
         "ticklen": 5,
         "ticks": "inside",
         "title": {
          "text": "Relative transmissibility of<br>imported cases (ϵ)"
         }
        },
        "yaxis": {
         "anchor": "x",
         "domain": [
          0.625,
          1
         ],
         "linecolor": "black",
         "range": [
          0,
          62
         ],
         "tickcolor": "black",
         "ticklen": 7.5,
         "ticks": "outside",
         "ticktext": [
          "Mar 01",
          "Mar 11",
          "Mar 21",
          "Mar 31",
          "Apr 09",
          "Apr 19",
          "Apr 29"
         ],
         "tickvals": [
          1,
          11,
          21,
          31,
          41,
          51,
          61
         ],
         "title": {
          "text": "Proportion of time R<sub>t</sub>>1"
         }
        },
        "yaxis2": {
         "anchor": "x2",
         "domain": [
          0.625,
          1
         ],
         "linecolor": "black",
         "range": [
          0,
          62
         ],
         "tickcolor": "black",
         "ticklen": 7.5,
         "ticks": "outside",
         "ticktext": [
          "Mar 01",
          "Mar 11",
          "Mar 21",
          "Mar 31",
          "Apr 09",
          "Apr 19",
          "Apr 29"
         ],
         "tickvals": [
          1,
          11,
          21,
          31,
          41,
          51,
          61
         ],
         "title": {
          "text": "Proportion of time R<sub>t</sub>>1"
         }
        },
        "yaxis3": {
         "anchor": "x3",
         "domain": [
          0.625,
          1
         ],
         "linecolor": "black",
         "range": [
          0,
          62
         ],
         "tickcolor": "black",
         "ticklen": 7.5,
         "ticks": "outside",
         "ticktext": [
          "Mar 01",
          "Mar 11",
          "Mar 21",
          "Mar 31",
          "Apr 09",
          "Apr 19",
          "Apr 29"
         ],
         "tickvals": [
          1,
          11,
          21,
          31,
          41,
          51,
          61
         ],
         "title": {
          "text": "Proportion of time R<sub>t</sub>>1"
         }
        },
        "yaxis4": {
         "anchor": "x4",
         "domain": [
          0,
          0.375
         ],
         "linecolor": "black",
         "range": [
          0,
          1.2
         ],
         "tickcolor": "black",
         "ticklen": 7.5,
         "ticks": "outside",
         "ticktext": [
          "0",
          "0.2",
          "0.4",
          "0.6",
          "0.8",
          "1"
         ],
         "tickvals": [
          0,
          0.2,
          0.4,
          0.6000000000000001,
          0.8,
          1
         ],
         "title": {
          "text": "Proportion of time R<sub>t</sub>>1"
         }
        },
        "yaxis5": {
         "anchor": "x5",
         "domain": [
          0,
          0.375
         ],
         "linecolor": "black",
         "range": [
          0,
          1.2
         ],
         "tickcolor": "black",
         "ticklen": 7.5,
         "ticks": "outside",
         "ticktext": [
          "0",
          "0.2",
          "0.4",
          "0.6",
          "0.8",
          "1"
         ],
         "tickvals": [
          0,
          0.2,
          0.4,
          0.6000000000000001,
          0.8,
          1
         ],
         "title": {
          "text": "Proportion of time R<sub>t</sub>>1"
         }
        },
        "yaxis6": {
         "anchor": "x6",
         "domain": [
          0,
          0.375
         ],
         "linecolor": "black",
         "range": [
          0,
          1.2
         ],
         "tickcolor": "black",
         "ticklen": 7.5,
         "ticks": "outside",
         "ticktext": [
          "0",
          "0.2",
          "0.4",
          "0.6",
          "0.8",
          "1"
         ],
         "tickvals": [
          0,
          0.2,
          0.4,
          0.6000000000000001,
          0.8,
          1
         ],
         "title": {
          "text": "Proportion of time R<sub>t</sub>>1"
         }
        }
       }
      }
     },
     "metadata": {}
    }
   ],
   "source": [
    "from plotly.subplots import make_subplots\n",
    "\n",
    "colours = ['grey', 'orange', 'green']\n",
    "regions = ['Ontario', 'New South Wales', 'Victoria']\n",
    "trace_name = ['Date  R<sub>t</sub> threshold met', 'Proportion of time R<sub>t</sub>>1']\n",
    "\n",
    "titles = ['{}'.format(r) for r in regions]\n",
    "titles.extend([None]*3)\n",
    "\n",
    "new_traces_mean = [\n",
    "    [last_time_r_less_than_1_ON, last_time_r_more_than_1_NSW, last_time_r_more_than_1_VIC],\n",
    "    [proportion_time_r_more_than_1_ON, proportion_time_r_more_than_1_NSW, proportion_time_r_more_than_1_VIC]]\n",
    "\n",
    "new_traces_lower = [\n",
    "    [last_time_r_less_than_1_LowerCI_ON, last_time_r_more_than_1_LowerCI_NSW, last_time_r_more_than_1_LowerCI_VIC],\n",
    "    [proportion_time_r_more_than_1_LowerCI_ON, proportion_time_r_more_than_1_LowerCI_NSW, proportion_time_r_more_than_1_LowerCI_VIC]]\n",
    "\n",
    "new_traces_upper = [\n",
    "    [last_time_r_less_than_1_UpperCI_ON, last_time_r_more_than_1_UpperCI_NSW, last_time_r_more_than_1_UpperCI_VIC],\n",
    "    [proportion_time_r_more_than_1_UpperCI_ON, proportion_time_r_more_than_1_UpperCI_NSW, proportion_time_r_more_than_1_UpperCI_VIC]]\n",
    "\n",
    "fig = go.Figure()\n",
    "fig = make_subplots(rows=2, cols=3, subplot_titles=tuple(titles), horizontal_spacing = 0.15)\n",
    "\n",
    "# Plot (bar chart cases each day)\n",
    "for row in range(2):\n",
    "    for col in range(3):\n",
    "        if (row != 0) or (col != 0):\n",
    "            # Plot of incidences\n",
    "            fig.add_trace(\n",
    "                go.Scatter(\n",
    "                    x=large_epsilon_range,\n",
    "                    y=new_traces_mean[row][col],\n",
    "                    mode='lines',\n",
    "                    name='Mean',\n",
    "                    showlegend=False,\n",
    "                    line_color=colours[0],\n",
    "                ),\n",
    "                row= row+1,\n",
    "                col= col+1\n",
    "            )\n",
    "\n",
    "            fig.add_trace(\n",
    "                go.Scatter(\n",
    "                    x=large_epsilon_range,\n",
    "                    y=new_traces_lower[row][col],\n",
    "                    mode='lines',\n",
    "                    name='2.5<sup>th</sup> percentile',\n",
    "                    showlegend=False,\n",
    "                    line_color=colours[1],\n",
    "                    line={'dash': 'dot'}\n",
    "                ),\n",
    "                row= row+1,\n",
    "                col= col+1\n",
    "            )\n",
    "\n",
    "            fig.add_trace(\n",
    "                go.Scatter(\n",
    "                    x=large_epsilon_range,\n",
    "                    y=new_traces_upper[row][col],\n",
    "                    mode='lines',\n",
    "                    name='97.5<sup>th</sup> percentile',\n",
    "                    showlegend=False,\n",
    "                    line_color=colours[2],\n",
    "                    line={'dash': 'dot'}\n",
    "                ),\n",
    "                row= row+1,\n",
    "                col= col+1\n",
    "            )\n",
    "\n",
    "            fig.update_xaxes(\n",
    "                row=row+1, col=col+1, title_text='Relative transmissibility of<br>imported cases (ϵ)',\n",
    "                ticks='inside', tickcolor='black', ticklen=5)\n",
    "            fig.update_yaxes(ticks='outside', tickcolor='black', ticklen=7.5, title_text=trace_name[row])\n",
    "        \n",
    "        else:\n",
    "            fig.add_trace(\n",
    "                go.Scatter(\n",
    "                    x=large_epsilon_range,\n",
    "                    y=new_traces_mean[row][col],\n",
    "                    mode='lines',\n",
    "                    name='Mean',\n",
    "                    line_color=colours[0]\n",
    "                ),\n",
    "                row= row+1,\n",
    "                col= col+1\n",
    "            )\n",
    "\n",
    "            fig.add_trace(\n",
    "                go.Scatter(\n",
    "                    x=large_epsilon_range,\n",
    "                    y=new_traces_lower[row][col],\n",
    "                    mode='lines',\n",
    "                    name='2.5<sup>th</sup> percentile',\n",
    "                    line_color=colours[1],\n",
    "                    line={'dash': 'dot'}\n",
    "                ),\n",
    "                row= row+1,\n",
    "                col= col+1\n",
    "            )\n",
    "\n",
    "            fig.add_trace(\n",
    "                go.Scatter(\n",
    "                    x=large_epsilon_range,\n",
    "                    y=new_traces_upper[row][col],\n",
    "                    mode='lines',\n",
    "                    name='97.5<sup>th</sup> percentile',\n",
    "                    line_color=colours[2],\n",
    "                    line={'dash': 'dot'}\n",
    "                ),\n",
    "                row= row+1,\n",
    "                col= col+1\n",
    "            )\n",
    "\n",
    "            fig.update_xaxes(\n",
    "                row=row+1, col=col+1, title_text='Relative transmissibility of<br>imported cases (ϵ)',\n",
    "                ticks='inside', tickcolor='black', ticklen=5)\n",
    "            fig.update_yaxes(ticks='outside', tickcolor='black', ticklen=7.5, title_text=trace_name[row])\n",
    "\n",
    "\n",
    "# Add axis labels\n",
    "fig.update_layout(\n",
    "    width=1000, \n",
    "    height=600,\n",
    "    plot_bgcolor='white',\n",
    "    xaxis=dict(linecolor='black'),\n",
    "    yaxis=dict(\n",
    "        linecolor='black',\n",
    "        range=[0, 62],\n",
    "        tickvals=np.arange(1, 62, 10).tolist(),\n",
    "        ticktext=['Mar 01', 'Mar 11', 'Mar 21', 'Mar 31', 'Apr 09', 'Apr 19', 'Apr 29']),\n",
    "    xaxis2=dict(linecolor='black'),\n",
    "    yaxis2=dict(\n",
    "        linecolor='black',\n",
    "        range=[0, 62],\n",
    "        tickvals=np.arange(1, 62, 10).tolist(),\n",
    "        ticktext=['Mar 01', 'Mar 11', 'Mar 21', 'Mar 31', 'Apr 09', 'Apr 19', 'Apr 29']),\n",
    "    xaxis3=dict(linecolor='black'),\n",
    "    yaxis3=dict(\n",
    "        linecolor='black',\n",
    "        range=[0, 62],\n",
    "        tickvals=np.arange(1, 62, 10).tolist(),\n",
    "        ticktext=['Mar 01', 'Mar 11', 'Mar 21', 'Mar 31', 'Apr 09', 'Apr 19', 'Apr 29']),\n",
    "    xaxis4=dict(linecolor='black'),\n",
    "    yaxis4=dict(\n",
    "        linecolor='black',\n",
    "        range=[0, 1.2],\n",
    "        tickvals=np.arange(0, 1.1, 0.2).tolist(),\n",
    "        ticktext=['0', '0.2', '0.4', '0.6', '0.8', '1']),\n",
    "    xaxis5=dict(linecolor='black'),\n",
    "    yaxis5=dict(\n",
    "        linecolor='black',\n",
    "        range=[0, 1.2],\n",
    "        tickvals=np.arange(0, 1.1, 0.2).tolist(),\n",
    "        ticktext=['0', '0.2', '0.4', '0.6', '0.8', '1']),\n",
    "    xaxis6=dict(linecolor='black'),\n",
    "    yaxis6=dict(\n",
    "        linecolor='black',\n",
    "        range=[0, 1.2],\n",
    "        tickvals=np.arange(0, 1.1, 0.2).tolist(),\n",
    "        ticktext=['0', '0.2', '0.4', '0.6', '0.8', '1']),\n",
    "    legend=dict(\n",
    "        orientation='h',\n",
    "        yanchor=\"bottom\",\n",
    "        y=1.075,\n",
    "        xanchor=\"right\",\n",
    "        x=1)\n",
    "    )\n",
    "\n",
    "fig.write_image('Figure-3b.pdf')\n",
    "fig.show()"
   ]
  },
  {
   "cell_type": "code",
   "execution_count": 76,
   "metadata": {},
   "outputs": [
    {
     "output_type": "display_data",
     "data": {
      "application/vnd.plotly.v1+json": {
       "config": {
        "plotlyServerURL": "https://plot.ly"
       },
       "data": [
        {
         "line": {
          "color": "grey"
         },
         "mode": "lines",
         "name": "Mean",
         "type": "scatter",
         "x": [
          0.1,
          0.2,
          0.30000000000000004,
          0.4,
          0.5,
          0.6,
          0.7000000000000001,
          0.8,
          0.9,
          1,
          1.1,
          1.2000000000000002,
          1.3000000000000003,
          1.4000000000000001,
          1.5000000000000002,
          1.6,
          1.7000000000000002,
          1.8000000000000003,
          1.9000000000000001,
          2,
          2.1,
          2.2,
          2.3000000000000003,
          2.4000000000000004
         ],
         "xaxis": "x",
         "y": [
          null,
          null,
          null,
          null,
          10,
          19,
          20,
          22,
          23,
          23,
          42,
          42,
          43,
          43,
          43,
          43,
          44,
          44,
          44,
          44,
          45,
          45,
          45,
          45
         ],
         "yaxis": "y"
        },
        {
         "line": {
          "color": "orange",
          "dash": "dot"
         },
         "mode": "lines",
         "name": "2.5<sup>th</sup> percentile",
         "type": "scatter",
         "x": [
          0.1,
          0.2,
          0.30000000000000004,
          0.4,
          0.5,
          0.6,
          0.7000000000000001,
          0.8,
          0.9,
          1,
          1.1,
          1.2000000000000002,
          1.3000000000000003,
          1.4000000000000001,
          1.5000000000000002,
          1.6,
          1.7000000000000002,
          1.8000000000000003,
          1.9000000000000001,
          2,
          2.1,
          2.2,
          2.3000000000000003,
          2.4000000000000004
         ],
         "xaxis": "x",
         "y": [
          10,
          11,
          11,
          20,
          21,
          22,
          42,
          43,
          43,
          43,
          43,
          43,
          44,
          44,
          44,
          44,
          45,
          45,
          46,
          46,
          46,
          46,
          47,
          47
         ],
         "yaxis": "y"
        },
        {
         "line": {
          "color": "green",
          "dash": "dot"
         },
         "mode": "lines",
         "name": "97.5<sup>th</sup> percentile",
         "type": "scatter",
         "x": [
          0.1,
          0.2,
          0.30000000000000004,
          0.4,
          0.5,
          0.6,
          0.7000000000000001,
          0.8,
          0.9,
          1,
          1.1,
          1.2000000000000002,
          1.3000000000000003,
          1.4000000000000001,
          1.5000000000000002,
          1.6,
          1.7000000000000002,
          1.8000000000000003,
          1.9000000000000001,
          2,
          2.1,
          2.2,
          2.3000000000000003,
          2.4000000000000004
         ],
         "xaxis": "x",
         "y": [
          null,
          null,
          null,
          null,
          null,
          null,
          null,
          null,
          20,
          21,
          22,
          23,
          23,
          24,
          24,
          42,
          42,
          43,
          43,
          43,
          43,
          43,
          44,
          44
         ],
         "yaxis": "y"
        },
        {
         "line": {
          "color": "grey"
         },
         "mode": "lines",
         "name": "Mean",
         "showlegend": false,
         "type": "scatter",
         "x": [
          0.1,
          0.2,
          0.30000000000000004,
          0.4,
          0.5,
          0.6,
          0.7000000000000001,
          0.8,
          0.9,
          1,
          1.1,
          1.2000000000000002,
          1.3000000000000003,
          1.4000000000000001,
          1.5000000000000002,
          1.6,
          1.7000000000000002,
          1.8000000000000003,
          1.9000000000000001,
          2,
          2.1,
          2.2,
          2.3000000000000003,
          2.4000000000000004
         ],
         "xaxis": "x2",
         "y": [
          30,
          29,
          27,
          25,
          24,
          22,
          21,
          19,
          19,
          18,
          18,
          15,
          15,
          14,
          10,
          10,
          10,
          10,
          10,
          10,
          10,
          9,
          9,
          9
         ],
         "yaxis": "y2"
        },
        {
         "line": {
          "color": "orange",
          "dash": "dot"
         },
         "mode": "lines",
         "name": "2.5<sup>th</sup> percentile",
         "showlegend": false,
         "type": "scatter",
         "x": [
          0.1,
          0.2,
          0.30000000000000004,
          0.4,
          0.5,
          0.6,
          0.7000000000000001,
          0.8,
          0.9,
          1,
          1.1,
          1.2000000000000002,
          1.3000000000000003,
          1.4000000000000001,
          1.5000000000000002,
          1.6,
          1.7000000000000002,
          1.8000000000000003,
          1.9000000000000001,
          2,
          2.1,
          2.2,
          2.3000000000000003,
          2.4000000000000004
         ],
         "xaxis": "x2",
         "y": [
          29,
          27,
          24,
          21,
          19,
          18,
          10,
          10,
          10,
          9,
          9,
          9,
          9,
          null,
          null,
          null,
          null,
          null,
          null,
          null,
          null,
          null,
          null,
          null
         ],
         "yaxis": "y2"
        },
        {
         "line": {
          "color": "green",
          "dash": "dot"
         },
         "mode": "lines",
         "name": "97.5<sup>th</sup> percentile",
         "showlegend": false,
         "type": "scatter",
         "x": [
          0.1,
          0.2,
          0.30000000000000004,
          0.4,
          0.5,
          0.6,
          0.7000000000000001,
          0.8,
          0.9,
          1,
          1.1,
          1.2000000000000002,
          1.3000000000000003,
          1.4000000000000001,
          1.5000000000000002,
          1.6,
          1.7000000000000002,
          1.8000000000000003,
          1.9000000000000001,
          2,
          2.1,
          2.2,
          2.3000000000000003,
          2.4000000000000004
         ],
         "xaxis": "x2",
         "y": [
          34,
          30,
          29,
          28,
          26,
          25,
          24,
          23,
          22,
          21,
          21,
          19,
          19,
          19,
          19,
          18,
          18,
          18,
          15,
          15,
          15,
          14,
          14,
          14
         ],
         "yaxis": "y2"
        },
        {
         "line": {
          "color": "grey"
         },
         "mode": "lines",
         "name": "Mean",
         "showlegend": false,
         "type": "scatter",
         "x": [
          0.1,
          0.2,
          0.30000000000000004,
          0.4,
          0.5,
          0.6,
          0.7000000000000001,
          0.8,
          0.9,
          1,
          1.1,
          1.2000000000000002,
          1.3000000000000003,
          1.4000000000000001,
          1.5000000000000002,
          1.6,
          1.7000000000000002,
          1.8000000000000003,
          1.9000000000000001,
          2,
          2.1,
          2.2,
          2.3000000000000003,
          2.4000000000000004
         ],
         "xaxis": "x3",
         "y": [
          32,
          31,
          31,
          30,
          30,
          29,
          29,
          29,
          28,
          28,
          28,
          26,
          26,
          25,
          24,
          15,
          15,
          15,
          15,
          15,
          15,
          15,
          15,
          14
         ],
         "yaxis": "y3"
        },
        {
         "line": {
          "color": "orange",
          "dash": "dot"
         },
         "mode": "lines",
         "name": "2.5<sup>th</sup> percentile",
         "showlegend": false,
         "type": "scatter",
         "x": [
          0.1,
          0.2,
          0.30000000000000004,
          0.4,
          0.5,
          0.6,
          0.7000000000000001,
          0.8,
          0.9,
          1,
          1.1,
          1.2000000000000002,
          1.3000000000000003,
          1.4000000000000001,
          1.5000000000000002,
          1.6,
          1.7000000000000002,
          1.8000000000000003,
          1.9000000000000001,
          2,
          2.1,
          2.2,
          2.3000000000000003,
          2.4000000000000004
         ],
         "xaxis": "x3",
         "y": [
          31,
          30,
          29,
          29,
          29,
          28,
          28,
          26,
          26,
          25,
          15,
          14,
          14,
          14,
          14,
          13,
          13,
          13,
          null,
          null,
          null,
          null,
          null,
          null
         ],
         "yaxis": "y3"
        },
        {
         "line": {
          "color": "green",
          "dash": "dot"
         },
         "mode": "lines",
         "name": "97.5<sup>th</sup> percentile",
         "showlegend": false,
         "type": "scatter",
         "x": [
          0.1,
          0.2,
          0.30000000000000004,
          0.4,
          0.5,
          0.6,
          0.7000000000000001,
          0.8,
          0.9,
          1,
          1.1,
          1.2000000000000002,
          1.3000000000000003,
          1.4000000000000001,
          1.5000000000000002,
          1.6,
          1.7000000000000002,
          1.8000000000000003,
          1.9000000000000001,
          2,
          2.1,
          2.2,
          2.3000000000000003,
          2.4000000000000004
         ],
         "xaxis": "x3",
         "y": [
          34,
          34,
          32,
          32,
          31,
          31,
          31,
          30,
          30,
          29,
          29,
          29,
          28,
          28,
          28,
          26,
          26,
          26,
          25,
          24,
          19,
          19,
          16,
          16
         ],
         "yaxis": "y3"
        }
       ],
       "layout": {
        "annotations": [
         {
          "font": {
           "size": 16
          },
          "showarrow": false,
          "text": "Ontario",
          "x": 0.14444444444444446,
          "xanchor": "center",
          "xref": "paper",
          "y": 1,
          "yanchor": "bottom",
          "yref": "paper"
         },
         {
          "font": {
           "size": 16
          },
          "showarrow": false,
          "text": "New South Wales",
          "x": 0.5,
          "xanchor": "center",
          "xref": "paper",
          "y": 1,
          "yanchor": "bottom",
          "yref": "paper"
         },
         {
          "font": {
           "size": 16
          },
          "showarrow": false,
          "text": "Victoria",
          "x": 0.8555555555555556,
          "xanchor": "center",
          "xref": "paper",
          "y": 1,
          "yanchor": "bottom",
          "yref": "paper"
         }
        ],
        "height": 350,
        "legend": {
         "orientation": "h",
         "x": 1,
         "xanchor": "right",
         "y": 1.1,
         "yanchor": "bottom"
        },
        "plot_bgcolor": "white",
        "template": {
         "data": {
          "bar": [
           {
            "error_x": {
             "color": "#2a3f5f"
            },
            "error_y": {
             "color": "#2a3f5f"
            },
            "marker": {
             "line": {
              "color": "#E5ECF6",
              "width": 0.5
             }
            },
            "type": "bar"
           }
          ],
          "barpolar": [
           {
            "marker": {
             "line": {
              "color": "#E5ECF6",
              "width": 0.5
             }
            },
            "type": "barpolar"
           }
          ],
          "carpet": [
           {
            "aaxis": {
             "endlinecolor": "#2a3f5f",
             "gridcolor": "white",
             "linecolor": "white",
             "minorgridcolor": "white",
             "startlinecolor": "#2a3f5f"
            },
            "baxis": {
             "endlinecolor": "#2a3f5f",
             "gridcolor": "white",
             "linecolor": "white",
             "minorgridcolor": "white",
             "startlinecolor": "#2a3f5f"
            },
            "type": "carpet"
           }
          ],
          "choropleth": [
           {
            "colorbar": {
             "outlinewidth": 0,
             "ticks": ""
            },
            "type": "choropleth"
           }
          ],
          "contour": [
           {
            "colorbar": {
             "outlinewidth": 0,
             "ticks": ""
            },
            "colorscale": [
             [
              0,
              "#0d0887"
             ],
             [
              0.1111111111111111,
              "#46039f"
             ],
             [
              0.2222222222222222,
              "#7201a8"
             ],
             [
              0.3333333333333333,
              "#9c179e"
             ],
             [
              0.4444444444444444,
              "#bd3786"
             ],
             [
              0.5555555555555556,
              "#d8576b"
             ],
             [
              0.6666666666666666,
              "#ed7953"
             ],
             [
              0.7777777777777778,
              "#fb9f3a"
             ],
             [
              0.8888888888888888,
              "#fdca26"
             ],
             [
              1,
              "#f0f921"
             ]
            ],
            "type": "contour"
           }
          ],
          "contourcarpet": [
           {
            "colorbar": {
             "outlinewidth": 0,
             "ticks": ""
            },
            "type": "contourcarpet"
           }
          ],
          "heatmap": [
           {
            "colorbar": {
             "outlinewidth": 0,
             "ticks": ""
            },
            "colorscale": [
             [
              0,
              "#0d0887"
             ],
             [
              0.1111111111111111,
              "#46039f"
             ],
             [
              0.2222222222222222,
              "#7201a8"
             ],
             [
              0.3333333333333333,
              "#9c179e"
             ],
             [
              0.4444444444444444,
              "#bd3786"
             ],
             [
              0.5555555555555556,
              "#d8576b"
             ],
             [
              0.6666666666666666,
              "#ed7953"
             ],
             [
              0.7777777777777778,
              "#fb9f3a"
             ],
             [
              0.8888888888888888,
              "#fdca26"
             ],
             [
              1,
              "#f0f921"
             ]
            ],
            "type": "heatmap"
           }
          ],
          "heatmapgl": [
           {
            "colorbar": {
             "outlinewidth": 0,
             "ticks": ""
            },
            "colorscale": [
             [
              0,
              "#0d0887"
             ],
             [
              0.1111111111111111,
              "#46039f"
             ],
             [
              0.2222222222222222,
              "#7201a8"
             ],
             [
              0.3333333333333333,
              "#9c179e"
             ],
             [
              0.4444444444444444,
              "#bd3786"
             ],
             [
              0.5555555555555556,
              "#d8576b"
             ],
             [
              0.6666666666666666,
              "#ed7953"
             ],
             [
              0.7777777777777778,
              "#fb9f3a"
             ],
             [
              0.8888888888888888,
              "#fdca26"
             ],
             [
              1,
              "#f0f921"
             ]
            ],
            "type": "heatmapgl"
           }
          ],
          "histogram": [
           {
            "marker": {
             "colorbar": {
              "outlinewidth": 0,
              "ticks": ""
             }
            },
            "type": "histogram"
           }
          ],
          "histogram2d": [
           {
            "colorbar": {
             "outlinewidth": 0,
             "ticks": ""
            },
            "colorscale": [
             [
              0,
              "#0d0887"
             ],
             [
              0.1111111111111111,
              "#46039f"
             ],
             [
              0.2222222222222222,
              "#7201a8"
             ],
             [
              0.3333333333333333,
              "#9c179e"
             ],
             [
              0.4444444444444444,
              "#bd3786"
             ],
             [
              0.5555555555555556,
              "#d8576b"
             ],
             [
              0.6666666666666666,
              "#ed7953"
             ],
             [
              0.7777777777777778,
              "#fb9f3a"
             ],
             [
              0.8888888888888888,
              "#fdca26"
             ],
             [
              1,
              "#f0f921"
             ]
            ],
            "type": "histogram2d"
           }
          ],
          "histogram2dcontour": [
           {
            "colorbar": {
             "outlinewidth": 0,
             "ticks": ""
            },
            "colorscale": [
             [
              0,
              "#0d0887"
             ],
             [
              0.1111111111111111,
              "#46039f"
             ],
             [
              0.2222222222222222,
              "#7201a8"
             ],
             [
              0.3333333333333333,
              "#9c179e"
             ],
             [
              0.4444444444444444,
              "#bd3786"
             ],
             [
              0.5555555555555556,
              "#d8576b"
             ],
             [
              0.6666666666666666,
              "#ed7953"
             ],
             [
              0.7777777777777778,
              "#fb9f3a"
             ],
             [
              0.8888888888888888,
              "#fdca26"
             ],
             [
              1,
              "#f0f921"
             ]
            ],
            "type": "histogram2dcontour"
           }
          ],
          "mesh3d": [
           {
            "colorbar": {
             "outlinewidth": 0,
             "ticks": ""
            },
            "type": "mesh3d"
           }
          ],
          "parcoords": [
           {
            "line": {
             "colorbar": {
              "outlinewidth": 0,
              "ticks": ""
             }
            },
            "type": "parcoords"
           }
          ],
          "pie": [
           {
            "automargin": true,
            "type": "pie"
           }
          ],
          "scatter": [
           {
            "marker": {
             "colorbar": {
              "outlinewidth": 0,
              "ticks": ""
             }
            },
            "type": "scatter"
           }
          ],
          "scatter3d": [
           {
            "line": {
             "colorbar": {
              "outlinewidth": 0,
              "ticks": ""
             }
            },
            "marker": {
             "colorbar": {
              "outlinewidth": 0,
              "ticks": ""
             }
            },
            "type": "scatter3d"
           }
          ],
          "scattercarpet": [
           {
            "marker": {
             "colorbar": {
              "outlinewidth": 0,
              "ticks": ""
             }
            },
            "type": "scattercarpet"
           }
          ],
          "scattergeo": [
           {
            "marker": {
             "colorbar": {
              "outlinewidth": 0,
              "ticks": ""
             }
            },
            "type": "scattergeo"
           }
          ],
          "scattergl": [
           {
            "marker": {
             "colorbar": {
              "outlinewidth": 0,
              "ticks": ""
             }
            },
            "type": "scattergl"
           }
          ],
          "scattermapbox": [
           {
            "marker": {
             "colorbar": {
              "outlinewidth": 0,
              "ticks": ""
             }
            },
            "type": "scattermapbox"
           }
          ],
          "scatterpolar": [
           {
            "marker": {
             "colorbar": {
              "outlinewidth": 0,
              "ticks": ""
             }
            },
            "type": "scatterpolar"
           }
          ],
          "scatterpolargl": [
           {
            "marker": {
             "colorbar": {
              "outlinewidth": 0,
              "ticks": ""
             }
            },
            "type": "scatterpolargl"
           }
          ],
          "scatterternary": [
           {
            "marker": {
             "colorbar": {
              "outlinewidth": 0,
              "ticks": ""
             }
            },
            "type": "scatterternary"
           }
          ],
          "surface": [
           {
            "colorbar": {
             "outlinewidth": 0,
             "ticks": ""
            },
            "colorscale": [
             [
              0,
              "#0d0887"
             ],
             [
              0.1111111111111111,
              "#46039f"
             ],
             [
              0.2222222222222222,
              "#7201a8"
             ],
             [
              0.3333333333333333,
              "#9c179e"
             ],
             [
              0.4444444444444444,
              "#bd3786"
             ],
             [
              0.5555555555555556,
              "#d8576b"
             ],
             [
              0.6666666666666666,
              "#ed7953"
             ],
             [
              0.7777777777777778,
              "#fb9f3a"
             ],
             [
              0.8888888888888888,
              "#fdca26"
             ],
             [
              1,
              "#f0f921"
             ]
            ],
            "type": "surface"
           }
          ],
          "table": [
           {
            "cells": {
             "fill": {
              "color": "#EBF0F8"
             },
             "line": {
              "color": "white"
             }
            },
            "header": {
             "fill": {
              "color": "#C8D4E3"
             },
             "line": {
              "color": "white"
             }
            },
            "type": "table"
           }
          ]
         },
         "layout": {
          "annotationdefaults": {
           "arrowcolor": "#2a3f5f",
           "arrowhead": 0,
           "arrowwidth": 1
          },
          "autotypenumbers": "strict",
          "coloraxis": {
           "colorbar": {
            "outlinewidth": 0,
            "ticks": ""
           }
          },
          "colorscale": {
           "diverging": [
            [
             0,
             "#8e0152"
            ],
            [
             0.1,
             "#c51b7d"
            ],
            [
             0.2,
             "#de77ae"
            ],
            [
             0.3,
             "#f1b6da"
            ],
            [
             0.4,
             "#fde0ef"
            ],
            [
             0.5,
             "#f7f7f7"
            ],
            [
             0.6,
             "#e6f5d0"
            ],
            [
             0.7,
             "#b8e186"
            ],
            [
             0.8,
             "#7fbc41"
            ],
            [
             0.9,
             "#4d9221"
            ],
            [
             1,
             "#276419"
            ]
           ],
           "sequential": [
            [
             0,
             "#0d0887"
            ],
            [
             0.1111111111111111,
             "#46039f"
            ],
            [
             0.2222222222222222,
             "#7201a8"
            ],
            [
             0.3333333333333333,
             "#9c179e"
            ],
            [
             0.4444444444444444,
             "#bd3786"
            ],
            [
             0.5555555555555556,
             "#d8576b"
            ],
            [
             0.6666666666666666,
             "#ed7953"
            ],
            [
             0.7777777777777778,
             "#fb9f3a"
            ],
            [
             0.8888888888888888,
             "#fdca26"
            ],
            [
             1,
             "#f0f921"
            ]
           ],
           "sequentialminus": [
            [
             0,
             "#0d0887"
            ],
            [
             0.1111111111111111,
             "#46039f"
            ],
            [
             0.2222222222222222,
             "#7201a8"
            ],
            [
             0.3333333333333333,
             "#9c179e"
            ],
            [
             0.4444444444444444,
             "#bd3786"
            ],
            [
             0.5555555555555556,
             "#d8576b"
            ],
            [
             0.6666666666666666,
             "#ed7953"
            ],
            [
             0.7777777777777778,
             "#fb9f3a"
            ],
            [
             0.8888888888888888,
             "#fdca26"
            ],
            [
             1,
             "#f0f921"
            ]
           ]
          },
          "colorway": [
           "#636efa",
           "#EF553B",
           "#00cc96",
           "#ab63fa",
           "#FFA15A",
           "#19d3f3",
           "#FF6692",
           "#B6E880",
           "#FF97FF",
           "#FECB52"
          ],
          "font": {
           "color": "#2a3f5f"
          },
          "geo": {
           "bgcolor": "white",
           "lakecolor": "white",
           "landcolor": "#E5ECF6",
           "showlakes": true,
           "showland": true,
           "subunitcolor": "white"
          },
          "hoverlabel": {
           "align": "left"
          },
          "hovermode": "closest",
          "mapbox": {
           "style": "light"
          },
          "paper_bgcolor": "white",
          "plot_bgcolor": "#E5ECF6",
          "polar": {
           "angularaxis": {
            "gridcolor": "white",
            "linecolor": "white",
            "ticks": ""
           },
           "bgcolor": "#E5ECF6",
           "radialaxis": {
            "gridcolor": "white",
            "linecolor": "white",
            "ticks": ""
           }
          },
          "scene": {
           "xaxis": {
            "backgroundcolor": "#E5ECF6",
            "gridcolor": "white",
            "gridwidth": 2,
            "linecolor": "white",
            "showbackground": true,
            "ticks": "",
            "zerolinecolor": "white"
           },
           "yaxis": {
            "backgroundcolor": "#E5ECF6",
            "gridcolor": "white",
            "gridwidth": 2,
            "linecolor": "white",
            "showbackground": true,
            "ticks": "",
            "zerolinecolor": "white"
           },
           "zaxis": {
            "backgroundcolor": "#E5ECF6",
            "gridcolor": "white",
            "gridwidth": 2,
            "linecolor": "white",
            "showbackground": true,
            "ticks": "",
            "zerolinecolor": "white"
           }
          },
          "shapedefaults": {
           "line": {
            "color": "#2a3f5f"
           }
          },
          "ternary": {
           "aaxis": {
            "gridcolor": "white",
            "linecolor": "white",
            "ticks": ""
           },
           "baxis": {
            "gridcolor": "white",
            "linecolor": "white",
            "ticks": ""
           },
           "bgcolor": "#E5ECF6",
           "caxis": {
            "gridcolor": "white",
            "linecolor": "white",
            "ticks": ""
           }
          },
          "title": {
           "x": 0.05
          },
          "xaxis": {
           "automargin": true,
           "gridcolor": "white",
           "linecolor": "white",
           "ticks": "",
           "title": {
            "standoff": 15
           },
           "zerolinecolor": "white",
           "zerolinewidth": 2
          },
          "yaxis": {
           "automargin": true,
           "gridcolor": "white",
           "linecolor": "white",
           "ticks": "",
           "title": {
            "standoff": 15
           },
           "zerolinecolor": "white",
           "zerolinewidth": 2
          }
         }
        },
        "width": 800,
        "xaxis": {
         "anchor": "y",
         "domain": [
          0,
          0.2888888888888889
         ],
         "linecolor": "black",
         "title": {
          "text": "ϵ"
         }
        },
        "xaxis2": {
         "anchor": "y2",
         "domain": [
          0.35555555555555557,
          0.6444444444444445
         ],
         "linecolor": "black",
         "title": {
          "text": "ϵ"
         }
        },
        "xaxis3": {
         "anchor": "y3",
         "domain": [
          0.7111111111111111,
          1
         ],
         "linecolor": "black",
         "title": {
          "text": "ϵ"
         }
        },
        "yaxis": {
         "anchor": "x",
         "domain": [
          0,
          1
         ],
         "linecolor": "black",
         "range": [
          0,
          62
         ],
         "ticktext": [
          "Mar 01",
          "Mar 11",
          "Mar 21",
          "Mar 31",
          "Apr 09",
          "Apr 19",
          "Apr 29"
         ],
         "tickvals": [
          1,
          11,
          21,
          31,
          41,
          51,
          61
         ],
         "title": {
          "text": "Last time R<sub>t</sub><sup>local</sup><1"
         }
        },
        "yaxis2": {
         "anchor": "x2",
         "domain": [
          0,
          1
         ],
         "linecolor": "black",
         "matches": "y",
         "range": [
          0,
          62
         ],
         "showticklabels": false,
         "ticktext": [
          "Mar 01",
          "Mar 11",
          "Mar 21",
          "Mar 31",
          "Apr 09",
          "Apr 19",
          "Apr 29"
         ],
         "tickvals": [
          1,
          11,
          21,
          31,
          41,
          51,
          61
         ],
         "title": {
          "text": "Last time R<sub>t</sub><sup>local</sup>>1"
         }
        },
        "yaxis3": {
         "anchor": "x3",
         "domain": [
          0,
          1
         ],
         "linecolor": "black",
         "matches": "y",
         "range": [
          0,
          62
         ],
         "showticklabels": false,
         "ticktext": [
          "Mar 01",
          "Mar 11",
          "Mar 21",
          "Mar 31",
          "Apr 09",
          "Apr 19",
          "Apr 29"
         ],
         "tickvals": [
          1,
          11,
          21,
          31,
          41,
          51,
          61
         ]
        }
       }
      }
     },
     "metadata": {}
    }
   ],
   "source": [
    "from plotly.subplots import make_subplots\n",
    "\n",
    "colours = ['grey', 'orange', 'green']\n",
    "regions = ['Ontario', 'New South Wales', 'Victoria']\n",
    "trace_name = ['Last time R<sub>t</sub><sup>local</sup><1', 'Last time R<sub>t</sub><sup>local</sup>>1', 'Proportion of time R<sub>t</sub><sup>local</sup>>1']\n",
    "\n",
    "titles = ['{}'.format(r) for r in regions]\n",
    "titles.extend([None]*3)\n",
    "\n",
    "new_traces_mean = [\n",
    "    [last_time_r_less_than_1_ON, last_time_r_more_than_1_NSW, last_time_r_more_than_1_VIC],\n",
    "    [proportion_time_r_more_than_1_ON, proportion_time_r_more_than_1_NSW, proportion_time_r_more_than_1_VIC]]\n",
    "\n",
    "new_traces_lower = [\n",
    "    [last_time_r_less_than_1_LowerCI_ON, last_time_r_more_than_1_LowerCI_NSW, last_time_r_more_than_1_LowerCI_VIC],\n",
    "    [proportion_time_r_more_than_1_LowerCI_ON, proportion_time_r_more_than_1_LowerCI_NSW, proportion_time_r_more_than_1_LowerCI_VIC]]\n",
    "\n",
    "new_traces_upper = [\n",
    "    [last_time_r_less_than_1_UpperCI_ON, last_time_r_more_than_1_UpperCI_NSW, last_time_r_more_than_1_UpperCI_VIC],\n",
    "    [proportion_time_r_more_than_1_UpperCI_ON, proportion_time_r_more_than_1_UpperCI_NSW, proportion_time_r_more_than_1_UpperCI_VIC]]\n",
    "\n",
    "fig = go.Figure()\n",
    "fig = make_subplots(rows=1, cols=3, subplot_titles=tuple(titles), shared_yaxes=True)\n",
    "\n",
    "# Plot (bar chart cases each day)\n",
    "for col in range(3):\n",
    "    if col != 0:\n",
    "        # Plot of incidences\n",
    "        fig.add_trace(\n",
    "            go.Scatter(\n",
    "                x=large_epsilon_range,\n",
    "                y=new_traces_mean[0][col],\n",
    "                mode='lines',\n",
    "                name='Mean',\n",
    "                showlegend=False,\n",
    "                line_color=colours[0],\n",
    "            ),\n",
    "            row= 1,\n",
    "            col= col+1\n",
    "        )\n",
    "\n",
    "        fig.add_trace(\n",
    "            go.Scatter(\n",
    "                x=large_epsilon_range,\n",
    "                y=new_traces_lower[0][col],\n",
    "                mode='lines',\n",
    "                name='2.5<sup>th</sup> percentile',\n",
    "                showlegend=False,\n",
    "                line_color=colours[1],\n",
    "                line={'dash': 'dot'}\n",
    "            ),\n",
    "            row= 1,\n",
    "            col= col+1\n",
    "        )\n",
    "\n",
    "        fig.add_trace(\n",
    "            go.Scatter(\n",
    "                x=large_epsilon_range,\n",
    "                y=new_traces_upper[0][col],\n",
    "                mode='lines',\n",
    "                name='97.5<sup>th</sup> percentile',\n",
    "                showlegend=False,\n",
    "                line_color=colours[2],\n",
    "                line={'dash': 'dot'}\n",
    "            ),\n",
    "            row= 1,\n",
    "            col= col+1\n",
    "        )\n",
    "\n",
    "        fig.update_xaxes(row=1, col=col+1, title_text='ϵ')\n",
    "    \n",
    "    else:\n",
    "        fig.add_trace(\n",
    "            go.Scatter(\n",
    "                x=large_epsilon_range,\n",
    "                y=new_traces_mean[0][col],\n",
    "                mode='lines',\n",
    "                name='Mean',\n",
    "                line_color=colours[0]\n",
    "            ),\n",
    "            row= 1,\n",
    "            col= col+1\n",
    "        )\n",
    "\n",
    "        fig.add_trace(\n",
    "            go.Scatter(\n",
    "                x=large_epsilon_range,\n",
    "                y=new_traces_lower[0][col],\n",
    "                mode='lines',\n",
    "                name='2.5<sup>th</sup> percentile',\n",
    "                line_color=colours[1],\n",
    "                line={'dash': 'dot'}\n",
    "            ),\n",
    "            row= 1,\n",
    "            col= col+1\n",
    "        )\n",
    "\n",
    "        fig.add_trace(\n",
    "            go.Scatter(\n",
    "                x=large_epsilon_range,\n",
    "                y=new_traces_upper[0][col],\n",
    "                mode='lines',\n",
    "                name='97.5<sup>th</sup> percentile',\n",
    "                line_color=colours[2],\n",
    "                line={'dash': 'dot'}\n",
    "            ),\n",
    "            row= 1,\n",
    "            col= col+1\n",
    "        )\n",
    "\n",
    "        fig.update_xaxes(row=1, col=col+1, title_text='ϵ')\n",
    "\n",
    "\n",
    "# Add axis labels\n",
    "fig.update_layout(\n",
    "    width=800, \n",
    "    height=350,\n",
    "    plot_bgcolor='white',\n",
    "    xaxis=dict(linecolor='black'),\n",
    "    yaxis=dict(\n",
    "        linecolor='black',\n",
    "        range=[0, 62],\n",
    "        tickvals=np.arange(1, 62, 10).tolist(),\n",
    "        ticktext=['Mar 01', 'Mar 11', 'Mar 21', 'Mar 31', 'Apr 09', 'Apr 19', 'Apr 29']),\n",
    "    xaxis2=dict(linecolor='black'),\n",
    "    yaxis2=dict(\n",
    "        linecolor='black',\n",
    "        range=[0, 62],\n",
    "        tickvals=np.arange(1, 62, 10).tolist(),\n",
    "        ticktext=['Mar 01', 'Mar 11', 'Mar 21', 'Mar 31', 'Apr 09', 'Apr 19', 'Apr 29']),\n",
    "    xaxis3=dict(linecolor='black'),\n",
    "    yaxis3=dict(\n",
    "        linecolor='black',\n",
    "        range=[0, 62],\n",
    "        tickvals=np.arange(1, 62, 10).tolist(),\n",
    "        ticktext=['Mar 01', 'Mar 11', 'Mar 21', 'Mar 31', 'Apr 09', 'Apr 19', 'Apr 29']),\n",
    "    legend=dict(\n",
    "        orientation='h',\n",
    "        yanchor=\"bottom\",\n",
    "        y=1.1,\n",
    "        xanchor=\"right\",\n",
    "        x=1)\n",
    "    )\n",
    "\n",
    "fig.update_yaxes(row=1, col=1, title_text=trace_name[0])\n",
    "fig.update_yaxes(row=1, col=2, title_text=trace_name[1])\n",
    "\n",
    "fig.write_image('Figure-3-Just_times.pdf')\n",
    "fig.show()"
   ]
  },
  {
   "cell_type": "code",
   "execution_count": 78,
   "metadata": {},
   "outputs": [
    {
     "output_type": "display_data",
     "data": {
      "application/vnd.plotly.v1+json": {
       "config": {
        "plotlyServerURL": "https://plot.ly"
       },
       "data": [
        {
         "line": {
          "color": "grey"
         },
         "mode": "lines",
         "name": "Mean",
         "type": "scatter",
         "x": [
          0.1,
          0.2,
          0.30000000000000004,
          0.4,
          0.5,
          0.6,
          0.7000000000000001,
          0.8,
          0.9,
          1,
          1.1,
          1.2000000000000002,
          1.3000000000000003,
          1.4000000000000001,
          1.5000000000000002,
          1.6,
          1.7000000000000002,
          1.8000000000000003,
          1.9000000000000001,
          2,
          2.1,
          2.2,
          2.3000000000000003,
          2.4000000000000004
         ],
         "xaxis": "x",
         "y": [
          1,
          1,
          1,
          1,
          0.9545454545454546,
          0.9318181818181818,
          0.8181818181818182,
          0.7727272727272727,
          0.75,
          0.75,
          0.6590909090909091,
          0.6590909090909091,
          0.6136363636363636,
          0.5227272727272727,
          0.4772727272727273,
          0.4318181818181818,
          0.38636363636363635,
          0.3409090909090909,
          0.29545454545454547,
          0.25,
          0.18181818181818182,
          0.1590909090909091,
          0.1590909090909091,
          0.1590909090909091
         ],
         "yaxis": "y"
        },
        {
         "line": {
          "color": "orange",
          "dash": "dot"
         },
         "mode": "lines",
         "name": "2.5<sup>th</sup> percentile",
         "type": "scatter",
         "x": [
          0.1,
          0.2,
          0.30000000000000004,
          0.4,
          0.5,
          0.6,
          0.7000000000000001,
          0.8,
          0.9,
          1,
          1.1,
          1.2000000000000002,
          1.3000000000000003,
          1.4000000000000001,
          1.5000000000000002,
          1.6,
          1.7000000000000002,
          1.8000000000000003,
          1.9000000000000001,
          2,
          2.1,
          2.2,
          2.3000000000000003,
          2.4000000000000004
         ],
         "xaxis": "x",
         "y": [
          0.9545454545454546,
          0.9318181818181818,
          0.9318181818181818,
          0.8181818181818182,
          0.7727272727272727,
          0.7272727272727273,
          0.6818181818181818,
          0.6136363636363636,
          0.5681818181818182,
          0.5227272727272727,
          0.4772727272727273,
          0.45454545454545453,
          0.38636363636363635,
          0.3409090909090909,
          0.2727272727272727,
          0.20454545454545456,
          0.1590909090909091,
          0.1590909090909091,
          0.13636363636363635,
          0.13636363636363635,
          0.13636363636363635,
          0.13636363636363635,
          0.11363636363636363,
          0.11363636363636363
         ],
         "yaxis": "y"
        },
        {
         "line": {
          "color": "green",
          "dash": "dot"
         },
         "mode": "lines",
         "name": "97.5<sup>th</sup> percentile",
         "type": "scatter",
         "x": [
          0.1,
          0.2,
          0.30000000000000004,
          0.4,
          0.5,
          0.6,
          0.7000000000000001,
          0.8,
          0.9,
          1,
          1.1,
          1.2000000000000002,
          1.3000000000000003,
          1.4000000000000001,
          1.5000000000000002,
          1.6,
          1.7000000000000002,
          1.8000000000000003,
          1.9000000000000001,
          2,
          2.1,
          2.2,
          2.3000000000000003,
          2.4000000000000004
         ],
         "xaxis": "x",
         "y": [
          1,
          1,
          1,
          1,
          1,
          1,
          1,
          1,
          0.9772727272727273,
          0.9090909090909091,
          0.8636363636363636,
          0.7954545454545454,
          0.75,
          0.7272727272727273,
          0.7272727272727273,
          0.6818181818181818,
          0.6363636363636364,
          0.5909090909090909,
          0.5454545454545454,
          0.5,
          0.4772727272727273,
          0.45454545454545453,
          0.3409090909090909,
          0.29545454545454547
         ],
         "yaxis": "y"
        },
        {
         "line": {
          "color": "grey"
         },
         "mode": "lines",
         "name": "Mean",
         "showlegend": false,
         "type": "scatter",
         "x": [
          0.1,
          0.2,
          0.30000000000000004,
          0.4,
          0.5,
          0.6,
          0.7000000000000001,
          0.8,
          0.9,
          1,
          1.1,
          1.2000000000000002,
          1.3000000000000003,
          1.4000000000000001,
          1.5000000000000002,
          1.6,
          1.7000000000000002,
          1.8000000000000003,
          1.9000000000000001,
          2,
          2.1,
          2.2,
          2.3000000000000003,
          2.4000000000000004
         ],
         "xaxis": "x2",
         "y": [
          0.6111111111111112,
          0.5833333333333334,
          0.5277777777777778,
          0.4722222222222222,
          0.4444444444444444,
          0.3888888888888889,
          0.3611111111111111,
          0.3055555555555556,
          0.3055555555555556,
          0.2777777777777778,
          0.25,
          0.16666666666666666,
          0.1388888888888889,
          0.08333333333333333,
          0.05555555555555555,
          0.05555555555555555,
          0.05555555555555555,
          0.05555555555555555,
          0.05555555555555555,
          0.05555555555555555,
          0.05555555555555555,
          0.027777777777777776,
          0.027777777777777776,
          0.027777777777777776
         ],
         "yaxis": "y2"
        },
        {
         "line": {
          "color": "orange",
          "dash": "dot"
         },
         "mode": "lines",
         "name": "2.5<sup>th</sup> percentile",
         "showlegend": false,
         "type": "scatter",
         "x": [
          0.1,
          0.2,
          0.30000000000000004,
          0.4,
          0.5,
          0.6,
          0.7000000000000001,
          0.8,
          0.9,
          1,
          1.1,
          1.2000000000000002,
          1.3000000000000003,
          1.4000000000000001,
          1.5000000000000002,
          1.6,
          1.7000000000000002,
          1.8000000000000003,
          1.9000000000000001,
          2,
          2.1,
          2.2,
          2.3000000000000003,
          2.4000000000000004
         ],
         "xaxis": "x2",
         "y": [
          0.5833333333333334,
          0.5277777777777778,
          0.4444444444444444,
          0.25,
          0.19444444444444445,
          0.1388888888888889,
          0.05555555555555555,
          0.05555555555555555,
          0.05555555555555555,
          0.027777777777777776,
          0.027777777777777776,
          0.027777777777777776,
          0.027777777777777776,
          0,
          0,
          0,
          0,
          0,
          0,
          0,
          0,
          0,
          0,
          0
         ],
         "yaxis": "y2"
        },
        {
         "line": {
          "color": "green",
          "dash": "dot"
         },
         "mode": "lines",
         "name": "97.5<sup>th</sup> percentile",
         "showlegend": false,
         "type": "scatter",
         "x": [
          0.1,
          0.2,
          0.30000000000000004,
          0.4,
          0.5,
          0.6,
          0.7000000000000001,
          0.8,
          0.9,
          1,
          1.1,
          1.2000000000000002,
          1.3000000000000003,
          1.4000000000000001,
          1.5000000000000002,
          1.6,
          1.7000000000000002,
          1.8000000000000003,
          1.9000000000000001,
          2,
          2.1,
          2.2,
          2.3000000000000003,
          2.4000000000000004
         ],
         "xaxis": "x2",
         "y": [
          0.7222222222222222,
          0.6111111111111112,
          0.5833333333333334,
          0.5555555555555556,
          0.5,
          0.4722222222222222,
          0.4444444444444444,
          0.4166666666666667,
          0.3888888888888889,
          0.3611111111111111,
          0.3611111111111111,
          0.3055555555555556,
          0.3055555555555556,
          0.3055555555555556,
          0.3055555555555556,
          0.2777777777777778,
          0.25,
          0.25,
          0.19444444444444445,
          0.19444444444444445,
          0.19444444444444445,
          0.1388888888888889,
          0.1388888888888889,
          0.1388888888888889
         ],
         "yaxis": "y2"
        },
        {
         "line": {
          "color": "grey"
         },
         "mode": "lines",
         "name": "Mean",
         "showlegend": false,
         "type": "scatter",
         "x": [
          0.1,
          0.2,
          0.30000000000000004,
          0.4,
          0.5,
          0.6,
          0.7000000000000001,
          0.8,
          0.9,
          1,
          1.1,
          1.2000000000000002,
          1.3000000000000003,
          1.4000000000000001,
          1.5000000000000002,
          1.6,
          1.7000000000000002,
          1.8000000000000003,
          1.9000000000000001,
          2,
          2.1,
          2.2,
          2.3000000000000003,
          2.4000000000000004
         ],
         "xaxis": "x3",
         "y": [
          0.6486486486486487,
          0.6216216216216216,
          0.6216216216216216,
          0.5945945945945946,
          0.5945945945945946,
          0.5675675675675675,
          0.5675675675675675,
          0.5675675675675675,
          0.4864864864864865,
          0.4594594594594595,
          0.43243243243243246,
          0.35135135135135137,
          0.32432432432432434,
          0.24324324324324326,
          0.16216216216216217,
          0.10810810810810811,
          0.10810810810810811,
          0.10810810810810811,
          0.08108108108108109,
          0.08108108108108109,
          0.08108108108108109,
          0.08108108108108109,
          0.08108108108108109,
          0.05405405405405406
         ],
         "yaxis": "y3"
        },
        {
         "line": {
          "color": "orange",
          "dash": "dot"
         },
         "mode": "lines",
         "name": "2.5<sup>th</sup> percentile",
         "showlegend": false,
         "type": "scatter",
         "x": [
          0.1,
          0.2,
          0.30000000000000004,
          0.4,
          0.5,
          0.6,
          0.7000000000000001,
          0.8,
          0.9,
          1,
          1.1,
          1.2000000000000002,
          1.3000000000000003,
          1.4000000000000001,
          1.5000000000000002,
          1.6,
          1.7000000000000002,
          1.8000000000000003,
          1.9000000000000001,
          2,
          2.1,
          2.2,
          2.3000000000000003,
          2.4000000000000004
         ],
         "xaxis": "x3",
         "y": [
          0.6216216216216216,
          0.5675675675675675,
          0.5405405405405406,
          0.43243243243243246,
          0.40540540540540543,
          0.32432432432432434,
          0.2702702702702703,
          0.1891891891891892,
          0.1891891891891892,
          0.16216216216216217,
          0.08108108108108109,
          0.05405405405405406,
          0.05405405405405406,
          0.05405405405405406,
          0.05405405405405406,
          0.02702702702702703,
          0.02702702702702703,
          0.02702702702702703,
          0,
          0,
          0,
          0,
          0,
          0
         ],
         "yaxis": "y3"
        },
        {
         "line": {
          "color": "green",
          "dash": "dot"
         },
         "mode": "lines",
         "name": "97.5<sup>th</sup> percentile",
         "showlegend": false,
         "type": "scatter",
         "x": [
          0.1,
          0.2,
          0.30000000000000004,
          0.4,
          0.5,
          0.6,
          0.7000000000000001,
          0.8,
          0.9,
          1,
          1.1,
          1.2000000000000002,
          1.3000000000000003,
          1.4000000000000001,
          1.5000000000000002,
          1.6,
          1.7000000000000002,
          1.8000000000000003,
          1.9000000000000001,
          2,
          2.1,
          2.2,
          2.3000000000000003,
          2.4000000000000004
         ],
         "xaxis": "x3",
         "y": [
          0.7027027027027027,
          0.7027027027027027,
          0.6486486486486487,
          0.6486486486486487,
          0.6216216216216216,
          0.6216216216216216,
          0.6216216216216216,
          0.5945945945945946,
          0.5945945945945946,
          0.5675675675675675,
          0.5675675675675675,
          0.5675675675675675,
          0.5405405405405406,
          0.5135135135135135,
          0.4864864864864865,
          0.43243243243243246,
          0.40540540540540543,
          0.40540540540540543,
          0.3783783783783784,
          0.35135135135135137,
          0.2972972972972973,
          0.2702702702702703,
          0.21621621621621623,
          0.21621621621621623
         ],
         "yaxis": "y3"
        }
       ],
       "layout": {
        "annotations": [
         {
          "font": {
           "size": 16
          },
          "showarrow": false,
          "text": "Ontario",
          "x": 0.14444444444444446,
          "xanchor": "center",
          "xref": "paper",
          "y": 1,
          "yanchor": "bottom",
          "yref": "paper"
         },
         {
          "font": {
           "size": 16
          },
          "showarrow": false,
          "text": "New South Wales",
          "x": 0.5,
          "xanchor": "center",
          "xref": "paper",
          "y": 1,
          "yanchor": "bottom",
          "yref": "paper"
         },
         {
          "font": {
           "size": 16
          },
          "showarrow": false,
          "text": "Victoria",
          "x": 0.8555555555555556,
          "xanchor": "center",
          "xref": "paper",
          "y": 1,
          "yanchor": "bottom",
          "yref": "paper"
         }
        ],
        "height": 350,
        "legend": {
         "orientation": "h",
         "x": 1,
         "xanchor": "right",
         "y": 1.075,
         "yanchor": "bottom"
        },
        "plot_bgcolor": "white",
        "template": {
         "data": {
          "bar": [
           {
            "error_x": {
             "color": "#2a3f5f"
            },
            "error_y": {
             "color": "#2a3f5f"
            },
            "marker": {
             "line": {
              "color": "#E5ECF6",
              "width": 0.5
             }
            },
            "type": "bar"
           }
          ],
          "barpolar": [
           {
            "marker": {
             "line": {
              "color": "#E5ECF6",
              "width": 0.5
             }
            },
            "type": "barpolar"
           }
          ],
          "carpet": [
           {
            "aaxis": {
             "endlinecolor": "#2a3f5f",
             "gridcolor": "white",
             "linecolor": "white",
             "minorgridcolor": "white",
             "startlinecolor": "#2a3f5f"
            },
            "baxis": {
             "endlinecolor": "#2a3f5f",
             "gridcolor": "white",
             "linecolor": "white",
             "minorgridcolor": "white",
             "startlinecolor": "#2a3f5f"
            },
            "type": "carpet"
           }
          ],
          "choropleth": [
           {
            "colorbar": {
             "outlinewidth": 0,
             "ticks": ""
            },
            "type": "choropleth"
           }
          ],
          "contour": [
           {
            "colorbar": {
             "outlinewidth": 0,
             "ticks": ""
            },
            "colorscale": [
             [
              0,
              "#0d0887"
             ],
             [
              0.1111111111111111,
              "#46039f"
             ],
             [
              0.2222222222222222,
              "#7201a8"
             ],
             [
              0.3333333333333333,
              "#9c179e"
             ],
             [
              0.4444444444444444,
              "#bd3786"
             ],
             [
              0.5555555555555556,
              "#d8576b"
             ],
             [
              0.6666666666666666,
              "#ed7953"
             ],
             [
              0.7777777777777778,
              "#fb9f3a"
             ],
             [
              0.8888888888888888,
              "#fdca26"
             ],
             [
              1,
              "#f0f921"
             ]
            ],
            "type": "contour"
           }
          ],
          "contourcarpet": [
           {
            "colorbar": {
             "outlinewidth": 0,
             "ticks": ""
            },
            "type": "contourcarpet"
           }
          ],
          "heatmap": [
           {
            "colorbar": {
             "outlinewidth": 0,
             "ticks": ""
            },
            "colorscale": [
             [
              0,
              "#0d0887"
             ],
             [
              0.1111111111111111,
              "#46039f"
             ],
             [
              0.2222222222222222,
              "#7201a8"
             ],
             [
              0.3333333333333333,
              "#9c179e"
             ],
             [
              0.4444444444444444,
              "#bd3786"
             ],
             [
              0.5555555555555556,
              "#d8576b"
             ],
             [
              0.6666666666666666,
              "#ed7953"
             ],
             [
              0.7777777777777778,
              "#fb9f3a"
             ],
             [
              0.8888888888888888,
              "#fdca26"
             ],
             [
              1,
              "#f0f921"
             ]
            ],
            "type": "heatmap"
           }
          ],
          "heatmapgl": [
           {
            "colorbar": {
             "outlinewidth": 0,
             "ticks": ""
            },
            "colorscale": [
             [
              0,
              "#0d0887"
             ],
             [
              0.1111111111111111,
              "#46039f"
             ],
             [
              0.2222222222222222,
              "#7201a8"
             ],
             [
              0.3333333333333333,
              "#9c179e"
             ],
             [
              0.4444444444444444,
              "#bd3786"
             ],
             [
              0.5555555555555556,
              "#d8576b"
             ],
             [
              0.6666666666666666,
              "#ed7953"
             ],
             [
              0.7777777777777778,
              "#fb9f3a"
             ],
             [
              0.8888888888888888,
              "#fdca26"
             ],
             [
              1,
              "#f0f921"
             ]
            ],
            "type": "heatmapgl"
           }
          ],
          "histogram": [
           {
            "marker": {
             "colorbar": {
              "outlinewidth": 0,
              "ticks": ""
             }
            },
            "type": "histogram"
           }
          ],
          "histogram2d": [
           {
            "colorbar": {
             "outlinewidth": 0,
             "ticks": ""
            },
            "colorscale": [
             [
              0,
              "#0d0887"
             ],
             [
              0.1111111111111111,
              "#46039f"
             ],
             [
              0.2222222222222222,
              "#7201a8"
             ],
             [
              0.3333333333333333,
              "#9c179e"
             ],
             [
              0.4444444444444444,
              "#bd3786"
             ],
             [
              0.5555555555555556,
              "#d8576b"
             ],
             [
              0.6666666666666666,
              "#ed7953"
             ],
             [
              0.7777777777777778,
              "#fb9f3a"
             ],
             [
              0.8888888888888888,
              "#fdca26"
             ],
             [
              1,
              "#f0f921"
             ]
            ],
            "type": "histogram2d"
           }
          ],
          "histogram2dcontour": [
           {
            "colorbar": {
             "outlinewidth": 0,
             "ticks": ""
            },
            "colorscale": [
             [
              0,
              "#0d0887"
             ],
             [
              0.1111111111111111,
              "#46039f"
             ],
             [
              0.2222222222222222,
              "#7201a8"
             ],
             [
              0.3333333333333333,
              "#9c179e"
             ],
             [
              0.4444444444444444,
              "#bd3786"
             ],
             [
              0.5555555555555556,
              "#d8576b"
             ],
             [
              0.6666666666666666,
              "#ed7953"
             ],
             [
              0.7777777777777778,
              "#fb9f3a"
             ],
             [
              0.8888888888888888,
              "#fdca26"
             ],
             [
              1,
              "#f0f921"
             ]
            ],
            "type": "histogram2dcontour"
           }
          ],
          "mesh3d": [
           {
            "colorbar": {
             "outlinewidth": 0,
             "ticks": ""
            },
            "type": "mesh3d"
           }
          ],
          "parcoords": [
           {
            "line": {
             "colorbar": {
              "outlinewidth": 0,
              "ticks": ""
             }
            },
            "type": "parcoords"
           }
          ],
          "pie": [
           {
            "automargin": true,
            "type": "pie"
           }
          ],
          "scatter": [
           {
            "marker": {
             "colorbar": {
              "outlinewidth": 0,
              "ticks": ""
             }
            },
            "type": "scatter"
           }
          ],
          "scatter3d": [
           {
            "line": {
             "colorbar": {
              "outlinewidth": 0,
              "ticks": ""
             }
            },
            "marker": {
             "colorbar": {
              "outlinewidth": 0,
              "ticks": ""
             }
            },
            "type": "scatter3d"
           }
          ],
          "scattercarpet": [
           {
            "marker": {
             "colorbar": {
              "outlinewidth": 0,
              "ticks": ""
             }
            },
            "type": "scattercarpet"
           }
          ],
          "scattergeo": [
           {
            "marker": {
             "colorbar": {
              "outlinewidth": 0,
              "ticks": ""
             }
            },
            "type": "scattergeo"
           }
          ],
          "scattergl": [
           {
            "marker": {
             "colorbar": {
              "outlinewidth": 0,
              "ticks": ""
             }
            },
            "type": "scattergl"
           }
          ],
          "scattermapbox": [
           {
            "marker": {
             "colorbar": {
              "outlinewidth": 0,
              "ticks": ""
             }
            },
            "type": "scattermapbox"
           }
          ],
          "scatterpolar": [
           {
            "marker": {
             "colorbar": {
              "outlinewidth": 0,
              "ticks": ""
             }
            },
            "type": "scatterpolar"
           }
          ],
          "scatterpolargl": [
           {
            "marker": {
             "colorbar": {
              "outlinewidth": 0,
              "ticks": ""
             }
            },
            "type": "scatterpolargl"
           }
          ],
          "scatterternary": [
           {
            "marker": {
             "colorbar": {
              "outlinewidth": 0,
              "ticks": ""
             }
            },
            "type": "scatterternary"
           }
          ],
          "surface": [
           {
            "colorbar": {
             "outlinewidth": 0,
             "ticks": ""
            },
            "colorscale": [
             [
              0,
              "#0d0887"
             ],
             [
              0.1111111111111111,
              "#46039f"
             ],
             [
              0.2222222222222222,
              "#7201a8"
             ],
             [
              0.3333333333333333,
              "#9c179e"
             ],
             [
              0.4444444444444444,
              "#bd3786"
             ],
             [
              0.5555555555555556,
              "#d8576b"
             ],
             [
              0.6666666666666666,
              "#ed7953"
             ],
             [
              0.7777777777777778,
              "#fb9f3a"
             ],
             [
              0.8888888888888888,
              "#fdca26"
             ],
             [
              1,
              "#f0f921"
             ]
            ],
            "type": "surface"
           }
          ],
          "table": [
           {
            "cells": {
             "fill": {
              "color": "#EBF0F8"
             },
             "line": {
              "color": "white"
             }
            },
            "header": {
             "fill": {
              "color": "#C8D4E3"
             },
             "line": {
              "color": "white"
             }
            },
            "type": "table"
           }
          ]
         },
         "layout": {
          "annotationdefaults": {
           "arrowcolor": "#2a3f5f",
           "arrowhead": 0,
           "arrowwidth": 1
          },
          "autotypenumbers": "strict",
          "coloraxis": {
           "colorbar": {
            "outlinewidth": 0,
            "ticks": ""
           }
          },
          "colorscale": {
           "diverging": [
            [
             0,
             "#8e0152"
            ],
            [
             0.1,
             "#c51b7d"
            ],
            [
             0.2,
             "#de77ae"
            ],
            [
             0.3,
             "#f1b6da"
            ],
            [
             0.4,
             "#fde0ef"
            ],
            [
             0.5,
             "#f7f7f7"
            ],
            [
             0.6,
             "#e6f5d0"
            ],
            [
             0.7,
             "#b8e186"
            ],
            [
             0.8,
             "#7fbc41"
            ],
            [
             0.9,
             "#4d9221"
            ],
            [
             1,
             "#276419"
            ]
           ],
           "sequential": [
            [
             0,
             "#0d0887"
            ],
            [
             0.1111111111111111,
             "#46039f"
            ],
            [
             0.2222222222222222,
             "#7201a8"
            ],
            [
             0.3333333333333333,
             "#9c179e"
            ],
            [
             0.4444444444444444,
             "#bd3786"
            ],
            [
             0.5555555555555556,
             "#d8576b"
            ],
            [
             0.6666666666666666,
             "#ed7953"
            ],
            [
             0.7777777777777778,
             "#fb9f3a"
            ],
            [
             0.8888888888888888,
             "#fdca26"
            ],
            [
             1,
             "#f0f921"
            ]
           ],
           "sequentialminus": [
            [
             0,
             "#0d0887"
            ],
            [
             0.1111111111111111,
             "#46039f"
            ],
            [
             0.2222222222222222,
             "#7201a8"
            ],
            [
             0.3333333333333333,
             "#9c179e"
            ],
            [
             0.4444444444444444,
             "#bd3786"
            ],
            [
             0.5555555555555556,
             "#d8576b"
            ],
            [
             0.6666666666666666,
             "#ed7953"
            ],
            [
             0.7777777777777778,
             "#fb9f3a"
            ],
            [
             0.8888888888888888,
             "#fdca26"
            ],
            [
             1,
             "#f0f921"
            ]
           ]
          },
          "colorway": [
           "#636efa",
           "#EF553B",
           "#00cc96",
           "#ab63fa",
           "#FFA15A",
           "#19d3f3",
           "#FF6692",
           "#B6E880",
           "#FF97FF",
           "#FECB52"
          ],
          "font": {
           "color": "#2a3f5f"
          },
          "geo": {
           "bgcolor": "white",
           "lakecolor": "white",
           "landcolor": "#E5ECF6",
           "showlakes": true,
           "showland": true,
           "subunitcolor": "white"
          },
          "hoverlabel": {
           "align": "left"
          },
          "hovermode": "closest",
          "mapbox": {
           "style": "light"
          },
          "paper_bgcolor": "white",
          "plot_bgcolor": "#E5ECF6",
          "polar": {
           "angularaxis": {
            "gridcolor": "white",
            "linecolor": "white",
            "ticks": ""
           },
           "bgcolor": "#E5ECF6",
           "radialaxis": {
            "gridcolor": "white",
            "linecolor": "white",
            "ticks": ""
           }
          },
          "scene": {
           "xaxis": {
            "backgroundcolor": "#E5ECF6",
            "gridcolor": "white",
            "gridwidth": 2,
            "linecolor": "white",
            "showbackground": true,
            "ticks": "",
            "zerolinecolor": "white"
           },
           "yaxis": {
            "backgroundcolor": "#E5ECF6",
            "gridcolor": "white",
            "gridwidth": 2,
            "linecolor": "white",
            "showbackground": true,
            "ticks": "",
            "zerolinecolor": "white"
           },
           "zaxis": {
            "backgroundcolor": "#E5ECF6",
            "gridcolor": "white",
            "gridwidth": 2,
            "linecolor": "white",
            "showbackground": true,
            "ticks": "",
            "zerolinecolor": "white"
           }
          },
          "shapedefaults": {
           "line": {
            "color": "#2a3f5f"
           }
          },
          "ternary": {
           "aaxis": {
            "gridcolor": "white",
            "linecolor": "white",
            "ticks": ""
           },
           "baxis": {
            "gridcolor": "white",
            "linecolor": "white",
            "ticks": ""
           },
           "bgcolor": "#E5ECF6",
           "caxis": {
            "gridcolor": "white",
            "linecolor": "white",
            "ticks": ""
           }
          },
          "title": {
           "x": 0.05
          },
          "xaxis": {
           "automargin": true,
           "gridcolor": "white",
           "linecolor": "white",
           "ticks": "",
           "title": {
            "standoff": 15
           },
           "zerolinecolor": "white",
           "zerolinewidth": 2
          },
          "yaxis": {
           "automargin": true,
           "gridcolor": "white",
           "linecolor": "white",
           "ticks": "",
           "title": {
            "standoff": 15
           },
           "zerolinecolor": "white",
           "zerolinewidth": 2
          }
         }
        },
        "width": 800,
        "xaxis": {
         "anchor": "y",
         "domain": [
          0,
          0.2888888888888889
         ],
         "linecolor": "black",
         "title": {
          "text": "ϵ"
         }
        },
        "xaxis2": {
         "anchor": "y2",
         "domain": [
          0.35555555555555557,
          0.6444444444444445
         ],
         "linecolor": "black",
         "title": {
          "text": "ϵ"
         }
        },
        "xaxis3": {
         "anchor": "y3",
         "domain": [
          0.7111111111111111,
          1
         ],
         "linecolor": "black",
         "title": {
          "text": "ϵ"
         }
        },
        "yaxis": {
         "anchor": "x",
         "domain": [
          0,
          1
         ],
         "linecolor": "black",
         "range": [
          0,
          1.2
         ],
         "ticktext": [
          "0",
          "0.2",
          "0.4",
          "0.6",
          "0.8",
          "1"
         ],
         "tickvals": [
          0,
          0.2,
          0.4,
          0.6000000000000001,
          0.8,
          1
         ],
         "title": {
          "text": "Proportion of time R<sub>t</sub><sup>local</sup>>1"
         }
        },
        "yaxis2": {
         "anchor": "x2",
         "domain": [
          0,
          1
         ],
         "linecolor": "black",
         "matches": "y",
         "range": [
          0,
          1.2
         ],
         "showticklabels": false,
         "ticktext": [
          "0",
          "0.2",
          "0.4",
          "0.6",
          "0.8",
          "1"
         ],
         "tickvals": [
          0,
          0.2,
          0.4,
          0.6000000000000001,
          0.8,
          1
         ]
        },
        "yaxis3": {
         "anchor": "x3",
         "domain": [
          0,
          1
         ],
         "linecolor": "black",
         "matches": "y",
         "range": [
          0,
          1.2
         ],
         "showticklabels": false,
         "ticktext": [
          "0",
          "0.2",
          "0.4",
          "0.6",
          "0.8",
          "1"
         ],
         "tickvals": [
          0,
          0.2,
          0.4,
          0.6000000000000001,
          0.8,
          1
         ]
        }
       }
      }
     },
     "metadata": {}
    }
   ],
   "source": [
    "from plotly.subplots import make_subplots\n",
    "\n",
    "colours = ['grey', 'orange', 'green']\n",
    "regions = ['Ontario', 'New South Wales', 'Victoria']\n",
    "trace_name = ['Last time R<sub>t</sub><sup>local</sup><1', 'Last time R<sub>t</sub><sup>local</sup>>1', 'Proportion of time R<sub>t</sub><sup>local</sup>>1']\n",
    "\n",
    "titles = ['{}'.format(r) for r in regions]\n",
    "titles.extend([None]*3)\n",
    "\n",
    "fig = go.Figure()\n",
    "fig = make_subplots(rows=1, cols=3, subplot_titles=tuple(titles), shared_yaxes=True)\n",
    "\n",
    "# Plot (bar chart cases each day)\n",
    "for col in range(3):\n",
    "    if col != 0:\n",
    "        # Plot of incidences\n",
    "        fig.add_trace(\n",
    "            go.Scatter(\n",
    "                x=large_epsilon_range,\n",
    "                y=new_traces_mean[1][col],\n",
    "                mode='lines',\n",
    "                name='Mean',\n",
    "                showlegend=False,\n",
    "                line_color=colours[0],\n",
    "            ),\n",
    "            row= 1,\n",
    "            col= col+1\n",
    "        )\n",
    "\n",
    "        fig.add_trace(\n",
    "            go.Scatter(\n",
    "                x=large_epsilon_range,\n",
    "                y=new_traces_lower[1][col],\n",
    "                mode='lines',\n",
    "                name='2.5<sup>th</sup> percentile',\n",
    "                showlegend=False,\n",
    "                line_color=colours[1],\n",
    "                line={'dash': 'dot'}\n",
    "            ),\n",
    "            row= 1,\n",
    "            col= col+1\n",
    "        )\n",
    "\n",
    "        fig.add_trace(\n",
    "            go.Scatter(\n",
    "                x=large_epsilon_range,\n",
    "                y=new_traces_upper[1][col],\n",
    "                mode='lines',\n",
    "                name='97.5<sup>th</sup> percentile',\n",
    "                showlegend=False,\n",
    "                line_color=colours[2],\n",
    "                line={'dash': 'dot'}\n",
    "            ),\n",
    "            row= 1,\n",
    "            col= col+1\n",
    "        )\n",
    "\n",
    "        fig.update_xaxes(row=1, col=col+1, title_text='ϵ')\n",
    "    \n",
    "    else:\n",
    "        fig.add_trace(\n",
    "            go.Scatter(\n",
    "                x=large_epsilon_range,\n",
    "                y=new_traces_mean[1][col],\n",
    "                mode='lines',\n",
    "                name='Mean',\n",
    "                line_color=colours[0]\n",
    "            ),\n",
    "            row= 1,\n",
    "            col= col+1\n",
    "        )\n",
    "\n",
    "        fig.add_trace(\n",
    "            go.Scatter(\n",
    "                x=large_epsilon_range,\n",
    "                y=new_traces_lower[1][col],\n",
    "                mode='lines',\n",
    "                name='2.5<sup>th</sup> percentile',\n",
    "                line_color=colours[1],\n",
    "                line={'dash': 'dot'}\n",
    "            ),\n",
    "            row= 1,\n",
    "            col= col+1\n",
    "        )\n",
    "\n",
    "        fig.add_trace(\n",
    "            go.Scatter(\n",
    "                x=large_epsilon_range,\n",
    "                y=new_traces_upper[1][col],\n",
    "                mode='lines',\n",
    "                name='97.5<sup>th</sup> percentile',\n",
    "                line_color=colours[2],\n",
    "                line={'dash': 'dot'}\n",
    "            ),\n",
    "            row= 1,\n",
    "            col= col+1\n",
    "        )\n",
    "\n",
    "        fig.update_xaxes(row=1, col=col+1, title_text='ϵ')\n",
    "\n",
    "\n",
    "# Add axis labels\n",
    "fig.update_layout(\n",
    "    width=800, \n",
    "    height=350,\n",
    "    plot_bgcolor='white',\n",
    "    xaxis=dict(linecolor='black'),\n",
    "    yaxis=dict(\n",
    "        linecolor='black',\n",
    "        range=[0, 1.2],\n",
    "        tickvals=np.arange(0, 1.1, 0.2).tolist(),\n",
    "        ticktext=['0', '0.2', '0.4', '0.6', '0.8', '1']),\n",
    "    xaxis2=dict(linecolor='black'),\n",
    "    yaxis2=dict(\n",
    "        linecolor='black',\n",
    "        range=[0, 1.2],\n",
    "        tickvals=np.arange(0, 1.1, 0.2).tolist(),\n",
    "        ticktext=['0', '0.2', '0.4', '0.6', '0.8', '1']),\n",
    "    xaxis3=dict(linecolor='black'),\n",
    "    yaxis3=dict(\n",
    "        linecolor='black',\n",
    "        range=[0, 1.2],\n",
    "        tickvals=np.arange(0, 1.1, 0.2).tolist(),\n",
    "        ticktext=['0', '0.2', '0.4', '0.6', '0.8', '1']),\n",
    "    legend=dict(\n",
    "        orientation='h',\n",
    "        yanchor=\"bottom\",\n",
    "        y=1.075,\n",
    "        xanchor=\"right\",\n",
    "        x=1)\n",
    "    )\n",
    "\n",
    "fig.update_yaxes(row=1, col=1, title_text=trace_name[2])\n",
    "\n",
    "fig.write_image('Figure-3-Just_proportions.pdf')\n",
    "fig.show()"
   ]
  },
  {
   "cell_type": "code",
   "execution_count": null,
   "metadata": {},
   "outputs": [],
   "source": []
  }
 ],
 "metadata": {
  "kernelspec": {
   "name": "python385jvsc74a57bd034783718b96b00301f03fbc7cc717743f1d89135027a4004f1427440c34696d4",
   "display_name": "Python 3.8.5 64-bit ('base': conda)"
  },
  "language_info": {
   "codemirror_mode": {
    "name": "ipython",
    "version": 3
   },
   "file_extension": ".py",
   "mimetype": "text/x-python",
   "name": "python",
   "nbconvert_exporter": "python",
   "pygments_lexer": "ipython3",
   "version": "3.8.5"
  },
  "widgets": {
   "application/vnd.jupyter.widget-state+json": {
    "state": {},
    "version_major": 2,
    "version_minor": 0
   }
  },
  "metadata": {
   "interpreter": {
    "hash": "7812ea015bdcee6f23a998adcdd2ef97c151c0c241b7b7070987d9313e41299d"
   }
  }
 },
 "nbformat": 4,
 "nbformat_minor": 5
}