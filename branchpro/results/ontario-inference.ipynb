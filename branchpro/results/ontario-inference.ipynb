{
 "cells": [
  {
   "cell_type": "markdown",
   "metadata": {},
   "source": [
    "# Inference on Australia data and observe effects of epsilon"
   ]
  },
  {
   "cell_type": "markdown",
   "metadata": {},
   "source": [
    "## Load all information and modify them to the correct format"
   ]
  },
  {
   "cell_type": "code",
   "execution_count": 1,
   "metadata": {},
   "outputs": [],
   "source": [
    "# Import libraries\n",
    "import numpy as np\n",
    "import math\n",
    "import branchpro\n",
    "import scipy.stats\n",
    "import matplotlib\n",
    "import plotly.graph_objects as go\n",
    "from matplotlib import pyplot as plt\n",
    "import os\n",
    "import pandas as pd\n",
    "import datetime\n"
   ]
  },
  {
   "cell_type": "code",
   "execution_count": 2,
   "metadata": {},
   "outputs": [],
   "source": [
    "# Read serial interval\n",
    "si_file = 'si-epinow'\n",
    "path = os.path.join('../data_library/serial_interval', '{}.csv'.format(si_file))\n",
    "serial_interval = pd.read_csv(path, header=None)\n",
    "serial_interval = serial_interval.fillna(0)\n",
    "serial_intervals = serial_interval.values.T"
   ]
  },
  {
   "cell_type": "code",
   "execution_count": 3,
   "metadata": {},
   "outputs": [],
   "source": [
    "# Read Ontario data\n",
    "path = os.path.join('../data_library/covid_ontario/ON.csv')\n",
    "data = pd.read_csv(path)[:51]"
   ]
  },
  {
   "cell_type": "code",
   "execution_count": 4,
   "metadata": {},
   "outputs": [],
   "source": [
    "time_key = 'Time'\n",
    "num_timepoints = max(data[time_key])\n",
    "data_times = data[time_key]\n",
    "\n",
    "# Pad with zeros the time points where we have no information on\n",
    "# the number of incidences\n",
    "padded_inc_data = data.set_index(time_key).reindex(\n",
    "    range(\n",
    "        1, max(data_times)+1)\n",
    "        ).fillna(0).reset_index()\n",
    "locally_infected_cases = padded_inc_data['Incidence Number']\n",
    "imported_cases = padded_inc_data['Imported Cases']\n",
    "\n",
    "start_times = np.arange(1, num_timepoints+1, dtype=int)\n",
    "times = np.arange(num_timepoints+1)"
   ]
  },
  {
   "cell_type": "code",
   "execution_count": 5,
   "metadata": {},
   "outputs": [
    {
     "output_type": "display_data",
     "data": {
      "application/vnd.plotly.v1+json": {
       "config": {
        "plotlyServerURL": "https://plot.ly"
       },
       "data": [
        {
         "name": "Local Incidences",
         "type": "bar",
         "x": [
          0,
          1,
          2,
          3,
          4,
          5,
          6,
          7,
          8,
          9,
          10,
          11,
          12,
          13,
          14,
          15,
          16,
          17,
          18,
          19,
          20,
          21,
          22,
          23,
          24,
          25,
          26,
          27,
          28,
          29,
          30,
          31,
          32,
          33,
          34,
          35,
          36,
          37,
          38,
          39,
          40,
          41,
          42,
          43,
          44,
          45,
          46,
          47,
          48,
          49,
          50,
          51
         ],
         "y": [
          0,
          0,
          0,
          0,
          0,
          1,
          0,
          1,
          1,
          3,
          7,
          11,
          10,
          7,
          5,
          19,
          17,
          28,
          37,
          52,
          44,
          58,
          95,
          111,
          92,
          173,
          201,
          157,
          176,
          323,
          311,
          367,
          378,
          404,
          317,
          343,
          440,
          433,
          464,
          449,
          378,
          456,
          518,
          579,
          546,
          605,
          566,
          728,
          594,
          582,
          605
         ]
        },
        {
         "name": "Imported Cases",
         "type": "bar",
         "x": [
          0,
          1,
          2,
          3,
          4,
          5,
          6,
          7,
          8,
          9,
          10,
          11,
          12,
          13,
          14,
          15,
          16,
          17,
          18,
          19,
          20,
          21,
          22,
          23,
          24,
          25,
          26,
          27,
          28,
          29,
          30,
          31,
          32,
          33,
          34,
          35,
          36,
          37,
          38,
          39,
          40,
          41,
          42,
          43,
          44,
          45,
          46,
          47,
          48,
          49,
          50,
          51
         ],
         "y": [
          2,
          0,
          2,
          1,
          4,
          1,
          3,
          4,
          4,
          6,
          17,
          26,
          26,
          24,
          31,
          34,
          41,
          29,
          28,
          45,
          27,
          27,
          48,
          61,
          44,
          74,
          90,
          78,
          51,
          113,
          99,
          81,
          70,
          59,
          31,
          28,
          33,
          24,
          24,
          30,
          18,
          14,
          20,
          13,
          6,
          8,
          6,
          11,
          6,
          8,
          4
         ]
        }
       ],
       "layout": {
        "template": {
         "data": {
          "bar": [
           {
            "error_x": {
             "color": "rgb(36,36,36)"
            },
            "error_y": {
             "color": "rgb(36,36,36)"
            },
            "marker": {
             "line": {
              "color": "white",
              "width": 0.5
             }
            },
            "type": "bar"
           }
          ],
          "barpolar": [
           {
            "marker": {
             "line": {
              "color": "white",
              "width": 0.5
             }
            },
            "type": "barpolar"
           }
          ],
          "carpet": [
           {
            "aaxis": {
             "endlinecolor": "rgb(36,36,36)",
             "gridcolor": "white",
             "linecolor": "white",
             "minorgridcolor": "white",
             "startlinecolor": "rgb(36,36,36)"
            },
            "baxis": {
             "endlinecolor": "rgb(36,36,36)",
             "gridcolor": "white",
             "linecolor": "white",
             "minorgridcolor": "white",
             "startlinecolor": "rgb(36,36,36)"
            },
            "type": "carpet"
           }
          ],
          "choropleth": [
           {
            "colorbar": {
             "outlinewidth": 1,
             "tickcolor": "rgb(36,36,36)",
             "ticks": "outside"
            },
            "type": "choropleth"
           }
          ],
          "contour": [
           {
            "colorbar": {
             "outlinewidth": 1,
             "tickcolor": "rgb(36,36,36)",
             "ticks": "outside"
            },
            "colorscale": [
             [
              0,
              "#440154"
             ],
             [
              0.1111111111111111,
              "#482878"
             ],
             [
              0.2222222222222222,
              "#3e4989"
             ],
             [
              0.3333333333333333,
              "#31688e"
             ],
             [
              0.4444444444444444,
              "#26828e"
             ],
             [
              0.5555555555555556,
              "#1f9e89"
             ],
             [
              0.6666666666666666,
              "#35b779"
             ],
             [
              0.7777777777777778,
              "#6ece58"
             ],
             [
              0.8888888888888888,
              "#b5de2b"
             ],
             [
              1,
              "#fde725"
             ]
            ],
            "type": "contour"
           }
          ],
          "contourcarpet": [
           {
            "colorbar": {
             "outlinewidth": 1,
             "tickcolor": "rgb(36,36,36)",
             "ticks": "outside"
            },
            "type": "contourcarpet"
           }
          ],
          "heatmap": [
           {
            "colorbar": {
             "outlinewidth": 1,
             "tickcolor": "rgb(36,36,36)",
             "ticks": "outside"
            },
            "colorscale": [
             [
              0,
              "#440154"
             ],
             [
              0.1111111111111111,
              "#482878"
             ],
             [
              0.2222222222222222,
              "#3e4989"
             ],
             [
              0.3333333333333333,
              "#31688e"
             ],
             [
              0.4444444444444444,
              "#26828e"
             ],
             [
              0.5555555555555556,
              "#1f9e89"
             ],
             [
              0.6666666666666666,
              "#35b779"
             ],
             [
              0.7777777777777778,
              "#6ece58"
             ],
             [
              0.8888888888888888,
              "#b5de2b"
             ],
             [
              1,
              "#fde725"
             ]
            ],
            "type": "heatmap"
           }
          ],
          "heatmapgl": [
           {
            "colorbar": {
             "outlinewidth": 1,
             "tickcolor": "rgb(36,36,36)",
             "ticks": "outside"
            },
            "colorscale": [
             [
              0,
              "#440154"
             ],
             [
              0.1111111111111111,
              "#482878"
             ],
             [
              0.2222222222222222,
              "#3e4989"
             ],
             [
              0.3333333333333333,
              "#31688e"
             ],
             [
              0.4444444444444444,
              "#26828e"
             ],
             [
              0.5555555555555556,
              "#1f9e89"
             ],
             [
              0.6666666666666666,
              "#35b779"
             ],
             [
              0.7777777777777778,
              "#6ece58"
             ],
             [
              0.8888888888888888,
              "#b5de2b"
             ],
             [
              1,
              "#fde725"
             ]
            ],
            "type": "heatmapgl"
           }
          ],
          "histogram": [
           {
            "marker": {
             "line": {
              "color": "white",
              "width": 0.6
             }
            },
            "type": "histogram"
           }
          ],
          "histogram2d": [
           {
            "colorbar": {
             "outlinewidth": 1,
             "tickcolor": "rgb(36,36,36)",
             "ticks": "outside"
            },
            "colorscale": [
             [
              0,
              "#440154"
             ],
             [
              0.1111111111111111,
              "#482878"
             ],
             [
              0.2222222222222222,
              "#3e4989"
             ],
             [
              0.3333333333333333,
              "#31688e"
             ],
             [
              0.4444444444444444,
              "#26828e"
             ],
             [
              0.5555555555555556,
              "#1f9e89"
             ],
             [
              0.6666666666666666,
              "#35b779"
             ],
             [
              0.7777777777777778,
              "#6ece58"
             ],
             [
              0.8888888888888888,
              "#b5de2b"
             ],
             [
              1,
              "#fde725"
             ]
            ],
            "type": "histogram2d"
           }
          ],
          "histogram2dcontour": [
           {
            "colorbar": {
             "outlinewidth": 1,
             "tickcolor": "rgb(36,36,36)",
             "ticks": "outside"
            },
            "colorscale": [
             [
              0,
              "#440154"
             ],
             [
              0.1111111111111111,
              "#482878"
             ],
             [
              0.2222222222222222,
              "#3e4989"
             ],
             [
              0.3333333333333333,
              "#31688e"
             ],
             [
              0.4444444444444444,
              "#26828e"
             ],
             [
              0.5555555555555556,
              "#1f9e89"
             ],
             [
              0.6666666666666666,
              "#35b779"
             ],
             [
              0.7777777777777778,
              "#6ece58"
             ],
             [
              0.8888888888888888,
              "#b5de2b"
             ],
             [
              1,
              "#fde725"
             ]
            ],
            "type": "histogram2dcontour"
           }
          ],
          "mesh3d": [
           {
            "colorbar": {
             "outlinewidth": 1,
             "tickcolor": "rgb(36,36,36)",
             "ticks": "outside"
            },
            "type": "mesh3d"
           }
          ],
          "parcoords": [
           {
            "line": {
             "colorbar": {
              "outlinewidth": 1,
              "tickcolor": "rgb(36,36,36)",
              "ticks": "outside"
             }
            },
            "type": "parcoords"
           }
          ],
          "pie": [
           {
            "automargin": true,
            "type": "pie"
           }
          ],
          "scatter": [
           {
            "marker": {
             "colorbar": {
              "outlinewidth": 1,
              "tickcolor": "rgb(36,36,36)",
              "ticks": "outside"
             }
            },
            "type": "scatter"
           }
          ],
          "scatter3d": [
           {
            "line": {
             "colorbar": {
              "outlinewidth": 1,
              "tickcolor": "rgb(36,36,36)",
              "ticks": "outside"
             }
            },
            "marker": {
             "colorbar": {
              "outlinewidth": 1,
              "tickcolor": "rgb(36,36,36)",
              "ticks": "outside"
             }
            },
            "type": "scatter3d"
           }
          ],
          "scattercarpet": [
           {
            "marker": {
             "colorbar": {
              "outlinewidth": 1,
              "tickcolor": "rgb(36,36,36)",
              "ticks": "outside"
             }
            },
            "type": "scattercarpet"
           }
          ],
          "scattergeo": [
           {
            "marker": {
             "colorbar": {
              "outlinewidth": 1,
              "tickcolor": "rgb(36,36,36)",
              "ticks": "outside"
             }
            },
            "type": "scattergeo"
           }
          ],
          "scattergl": [
           {
            "marker": {
             "colorbar": {
              "outlinewidth": 1,
              "tickcolor": "rgb(36,36,36)",
              "ticks": "outside"
             }
            },
            "type": "scattergl"
           }
          ],
          "scattermapbox": [
           {
            "marker": {
             "colorbar": {
              "outlinewidth": 1,
              "tickcolor": "rgb(36,36,36)",
              "ticks": "outside"
             }
            },
            "type": "scattermapbox"
           }
          ],
          "scatterpolar": [
           {
            "marker": {
             "colorbar": {
              "outlinewidth": 1,
              "tickcolor": "rgb(36,36,36)",
              "ticks": "outside"
             }
            },
            "type": "scatterpolar"
           }
          ],
          "scatterpolargl": [
           {
            "marker": {
             "colorbar": {
              "outlinewidth": 1,
              "tickcolor": "rgb(36,36,36)",
              "ticks": "outside"
             }
            },
            "type": "scatterpolargl"
           }
          ],
          "scatterternary": [
           {
            "marker": {
             "colorbar": {
              "outlinewidth": 1,
              "tickcolor": "rgb(36,36,36)",
              "ticks": "outside"
             }
            },
            "type": "scatterternary"
           }
          ],
          "surface": [
           {
            "colorbar": {
             "outlinewidth": 1,
             "tickcolor": "rgb(36,36,36)",
             "ticks": "outside"
            },
            "colorscale": [
             [
              0,
              "#440154"
             ],
             [
              0.1111111111111111,
              "#482878"
             ],
             [
              0.2222222222222222,
              "#3e4989"
             ],
             [
              0.3333333333333333,
              "#31688e"
             ],
             [
              0.4444444444444444,
              "#26828e"
             ],
             [
              0.5555555555555556,
              "#1f9e89"
             ],
             [
              0.6666666666666666,
              "#35b779"
             ],
             [
              0.7777777777777778,
              "#6ece58"
             ],
             [
              0.8888888888888888,
              "#b5de2b"
             ],
             [
              1,
              "#fde725"
             ]
            ],
            "type": "surface"
           }
          ],
          "table": [
           {
            "cells": {
             "fill": {
              "color": "rgb(237,237,237)"
             },
             "line": {
              "color": "white"
             }
            },
            "header": {
             "fill": {
              "color": "rgb(217,217,217)"
             },
             "line": {
              "color": "white"
             }
            },
            "type": "table"
           }
          ]
         },
         "layout": {
          "annotationdefaults": {
           "arrowhead": 0,
           "arrowwidth": 1
          },
          "autotypenumbers": "strict",
          "coloraxis": {
           "colorbar": {
            "outlinewidth": 1,
            "tickcolor": "rgb(36,36,36)",
            "ticks": "outside"
           }
          },
          "colorscale": {
           "diverging": [
            [
             0,
             "rgb(103,0,31)"
            ],
            [
             0.1,
             "rgb(178,24,43)"
            ],
            [
             0.2,
             "rgb(214,96,77)"
            ],
            [
             0.3,
             "rgb(244,165,130)"
            ],
            [
             0.4,
             "rgb(253,219,199)"
            ],
            [
             0.5,
             "rgb(247,247,247)"
            ],
            [
             0.6,
             "rgb(209,229,240)"
            ],
            [
             0.7,
             "rgb(146,197,222)"
            ],
            [
             0.8,
             "rgb(67,147,195)"
            ],
            [
             0.9,
             "rgb(33,102,172)"
            ],
            [
             1,
             "rgb(5,48,97)"
            ]
           ],
           "sequential": [
            [
             0,
             "#440154"
            ],
            [
             0.1111111111111111,
             "#482878"
            ],
            [
             0.2222222222222222,
             "#3e4989"
            ],
            [
             0.3333333333333333,
             "#31688e"
            ],
            [
             0.4444444444444444,
             "#26828e"
            ],
            [
             0.5555555555555556,
             "#1f9e89"
            ],
            [
             0.6666666666666666,
             "#35b779"
            ],
            [
             0.7777777777777778,
             "#6ece58"
            ],
            [
             0.8888888888888888,
             "#b5de2b"
            ],
            [
             1,
             "#fde725"
            ]
           ],
           "sequentialminus": [
            [
             0,
             "#440154"
            ],
            [
             0.1111111111111111,
             "#482878"
            ],
            [
             0.2222222222222222,
             "#3e4989"
            ],
            [
             0.3333333333333333,
             "#31688e"
            ],
            [
             0.4444444444444444,
             "#26828e"
            ],
            [
             0.5555555555555556,
             "#1f9e89"
            ],
            [
             0.6666666666666666,
             "#35b779"
            ],
            [
             0.7777777777777778,
             "#6ece58"
            ],
            [
             0.8888888888888888,
             "#b5de2b"
            ],
            [
             1,
             "#fde725"
            ]
           ]
          },
          "colorway": [
           "#1F77B4",
           "#FF7F0E",
           "#2CA02C",
           "#D62728",
           "#9467BD",
           "#8C564B",
           "#E377C2",
           "#7F7F7F",
           "#BCBD22",
           "#17BECF"
          ],
          "font": {
           "color": "rgb(36,36,36)"
          },
          "geo": {
           "bgcolor": "white",
           "lakecolor": "white",
           "landcolor": "white",
           "showlakes": true,
           "showland": true,
           "subunitcolor": "white"
          },
          "hoverlabel": {
           "align": "left"
          },
          "hovermode": "closest",
          "mapbox": {
           "style": "light"
          },
          "paper_bgcolor": "white",
          "plot_bgcolor": "white",
          "polar": {
           "angularaxis": {
            "gridcolor": "rgb(232,232,232)",
            "linecolor": "rgb(36,36,36)",
            "showgrid": false,
            "showline": true,
            "ticks": "outside"
           },
           "bgcolor": "white",
           "radialaxis": {
            "gridcolor": "rgb(232,232,232)",
            "linecolor": "rgb(36,36,36)",
            "showgrid": false,
            "showline": true,
            "ticks": "outside"
           }
          },
          "scene": {
           "xaxis": {
            "backgroundcolor": "white",
            "gridcolor": "rgb(232,232,232)",
            "gridwidth": 2,
            "linecolor": "rgb(36,36,36)",
            "showbackground": true,
            "showgrid": false,
            "showline": true,
            "ticks": "outside",
            "zeroline": false,
            "zerolinecolor": "rgb(36,36,36)"
           },
           "yaxis": {
            "backgroundcolor": "white",
            "gridcolor": "rgb(232,232,232)",
            "gridwidth": 2,
            "linecolor": "rgb(36,36,36)",
            "showbackground": true,
            "showgrid": false,
            "showline": true,
            "ticks": "outside",
            "zeroline": false,
            "zerolinecolor": "rgb(36,36,36)"
           },
           "zaxis": {
            "backgroundcolor": "white",
            "gridcolor": "rgb(232,232,232)",
            "gridwidth": 2,
            "linecolor": "rgb(36,36,36)",
            "showbackground": true,
            "showgrid": false,
            "showline": true,
            "ticks": "outside",
            "zeroline": false,
            "zerolinecolor": "rgb(36,36,36)"
           }
          },
          "shapedefaults": {
           "fillcolor": "black",
           "line": {
            "width": 0
           },
           "opacity": 0.3
          },
          "ternary": {
           "aaxis": {
            "gridcolor": "rgb(232,232,232)",
            "linecolor": "rgb(36,36,36)",
            "showgrid": false,
            "showline": true,
            "ticks": "outside"
           },
           "baxis": {
            "gridcolor": "rgb(232,232,232)",
            "linecolor": "rgb(36,36,36)",
            "showgrid": false,
            "showline": true,
            "ticks": "outside"
           },
           "bgcolor": "white",
           "caxis": {
            "gridcolor": "rgb(232,232,232)",
            "linecolor": "rgb(36,36,36)",
            "showgrid": false,
            "showline": true,
            "ticks": "outside"
           }
          },
          "title": {
           "x": 0.05
          },
          "xaxis": {
           "automargin": true,
           "gridcolor": "rgb(232,232,232)",
           "linecolor": "rgb(36,36,36)",
           "showgrid": false,
           "showline": true,
           "ticks": "outside",
           "title": {
            "standoff": 15
           },
           "zeroline": false,
           "zerolinecolor": "rgb(36,36,36)"
          },
          "yaxis": {
           "automargin": true,
           "gridcolor": "rgb(232,232,232)",
           "linecolor": "rgb(36,36,36)",
           "showgrid": false,
           "showline": true,
           "ticks": "outside",
           "title": {
            "standoff": 15
           },
           "zeroline": false,
           "zerolinecolor": "rgb(36,36,36)"
          }
         }
        },
        "xaxis": {
         "title": {
          "text": "Time (days)"
         }
        },
        "yaxis": {
         "title": {
          "text": "New cases"
         }
        }
       }
      }
     },
     "metadata": {}
    }
   ],
   "source": [
    "# Plot (bar chart cases each day)\n",
    "fig = go.Figure()\n",
    "\n",
    "# Plot of incidences\n",
    "fig.add_trace(\n",
    "    go.Bar(\n",
    "        x=times,\n",
    "        y=locally_infected_cases,\n",
    "        name='Local Incidences'\n",
    "    )\n",
    ")\n",
    "\n",
    "fig.add_trace(\n",
    "    go.Bar(\n",
    "        x=times,\n",
    "        y=imported_cases,\n",
    "        name='Imported Cases'\n",
    "    )\n",
    ")\n",
    "\n",
    "# Add axis labels\n",
    "fig.update_layout(\n",
    "    template='simple_white',\n",
    "    xaxis_title='Time (days)',\n",
    "    yaxis_title='New cases'\n",
    ")\n",
    "\n",
    "\n",
    "# fig.write_image('ON-cases.pdf')\n",
    "fig.show()"
   ]
  },
  {
   "cell_type": "markdown",
   "metadata": {},
   "source": [
    "## Comparison of inference results for different epsilon values"
   ]
  },
  {
   "cell_type": "code",
   "execution_count": 6,
   "metadata": {},
   "outputs": [],
   "source": [
    "# Same inference, but using the LocImpBranchProPosterior\n",
    "tau = 6\n",
    "R_t_start = tau+1\n",
    "a = 1\n",
    "b = 0.2\n",
    "\n",
    "# Run inferences for different values of epsilon\n",
    "column_names = ['Time Points', 'Mean', 'Lower bound CI', 'Upper bound CI', 'Central Probability', 'Epsilon']\n",
    "epsilon_range = [0.25, 0.5, 1, 1.5, 2.0]\n",
    "chosen_times = [10, 15, 20, 25, 30, 40]\n",
    "\n",
    "all_intervals = pd.DataFrame(columns=column_names)\n",
    "all_intervals_chosen = pd.DataFrame(columns=column_names)\n",
    "# Transform our incidence data into pandas dataframes\n",
    "inc_data = pd.DataFrame(\n",
    "    {\n",
    "        'Time': start_times,\n",
    "        'Incidence Number': locally_infected_cases\n",
    "    }\n",
    ")\n",
    "\n",
    "imported_inc_data = pd.DataFrame(\n",
    "    {\n",
    "        'Time': start_times,\n",
    "        'Incidence Number': imported_cases\n",
    "    }\n",
    ")\n",
    "\n",
    "for epsilon in epsilon_range:\n",
    "    inference = branchpro.LocImpBranchProPosteriorMultSI(\n",
    "        inc_data=inc_data,\n",
    "        imported_inc_data=imported_inc_data,\n",
    "        epsilon=epsilon,\n",
    "        daily_serial_intervals=serial_intervals,\n",
    "        alpha=a,\n",
    "        beta=b)\n",
    "\n",
    "    inference.run_inference(tau=tau)\n",
    "    intervals = inference.get_intervals(central_prob=0)\n",
    "    intervals = intervals.append(inference.get_intervals(central_prob=.25))\n",
    "    intervals = intervals.append(inference.get_intervals(central_prob=.95))\n",
    "    temp = inference.get_intervals(central_prob=.95)\n",
    "\n",
    "    intervals['Epsilon'] = [epsilon] * len(intervals.index)\n",
    "\n",
    "    intervals_chosen = pd.DataFrame(columns=intervals.columns)\n",
    "    for time_pt in chosen_times:\n",
    "        intervals_chosen = intervals_chosen.append(\n",
    "            intervals.loc[intervals['Time Points']== time_pt])\n",
    "\n",
    "    all_intervals = all_intervals.append(intervals)\n",
    "    all_intervals_chosen = all_intervals_chosen.append(intervals_chosen)"
   ]
  },
  {
   "cell_type": "code",
   "execution_count": 7,
   "metadata": {},
   "outputs": [
    {
     "output_type": "display_data",
     "data": {
      "application/vnd.plotly.v1+json": {
       "config": {
        "plotlyServerURL": "https://plot.ly"
       },
       "data": [
        {
         "lowerfence": [
          0.7966724116646084,
          0.4698427487735156,
          0.2580522027368266,
          0.17786657322942304,
          0.13569734082266885
         ],
         "mean": [
          2.0458798187881744,
          1.2024366627520444,
          0.6590950838059708,
          0.4539715752996086,
          0.34622208469028376
         ],
         "median": [
          1.9323897698737782,
          1.136667821757135,
          0.623342192546105,
          0.42941854540370694,
          0.327525217625403
         ],
         "name": "Day10",
         "q1": [
          1.6964157083344051,
          0.9983847696067157,
          0.5476755483706561,
          0.3773328925003874,
          0.28781441330966717
         ],
         "q3": [
          2.191260327850475,
          1.2882203647949413,
          0.7062223257642514,
          0.4864580419882325,
          0.37100781065467203
         ],
         "type": "box",
         "upperfence": [
          3.941658472216783,
          2.3096821372407135,
          1.2637912382057603,
          0.8699305279687893,
          0.6632426203339034
         ],
         "x": [
          "0.2",
          "0.5",
          "1.0",
          "1.5",
          "2.0"
         ]
        },
        {
         "lowerfence": [
          1.1160546163989766,
          0.7920184023565618,
          0.5010350953896304,
          0.36640649492486854,
          0.28880361699279594
         ],
         "mean": [
          1.701019963653743,
          1.2006806136254655,
          0.755989109165597,
          0.551675602476484,
          0.4343027583929434
         ],
         "median": [
          1.6641258837389274,
          1.1758554320242016,
          0.7410106998097533,
          0.5409575229916483,
          0.42595960440790437
         ],
         "name": "Day15",
         "q1": [
          1.5586529612557427,
          1.1023528167458405,
          0.6952556905354569,
          0.5077427636899174,
          0.3998901034390484
         ],
         "q3": [
          1.777231523761428,
          1.2544836228244691,
          0.7898524139398596,
          0.5763793048210298,
          0.4537463011220127
         ],
         "type": "box",
         "upperfence": [
          2.493973708510573,
          1.7494086017355452,
          1.095517547559105,
          0.7974836324790793,
          0.6269355423648736
         ],
         "x": [
          "0.2",
          "0.5",
          "1.0",
          "1.5",
          "2.0"
         ]
        },
        {
         "lowerfence": [
          1.3566747582302523,
          0.9866475989777387,
          0.6381447570233783,
          0.4715033091840779,
          0.37385756477775056
         ],
         "mean": [
          1.704899430124458,
          1.233396757219604,
          0.7941823581672439,
          0.5856460179379879,
          0.46385095420323247
         ],
         "median": [
          1.6883334951451274,
          1.2215734454698133,
          0.7866646260633615,
          0.5801358040023384,
          0.4595026257991888
         ],
         "name": "Day20",
         "q1": [
          1.627145602768277,
          1.178279764059015,
          0.7593308071799445,
          0.5601586081738312,
          0.4437597583388815
         ],
         "q3": [
          1.7528067808133676,
          1.267188874069747,
          0.8154616139653631,
          0.6011809130332334,
          0.47608537202532264
         ],
         "type": "box",
         "upperfence": [
          2.14715667022975,
          1.5474579527203371,
          0.9931384276333827,
          0.7312866639202318,
          0.5787239593922187
         ],
         "x": [
          "0.2",
          "0.5",
          "1.0",
          "1.5",
          "2.0"
         ]
        },
        {
         "lowerfence": [
          1.5852058667658326,
          1.3271837533425055,
          1.0000848926162584,
          0.8017035222598261,
          0.6687267077023868
         ],
         "mean": [
          1.8931868032985772,
          1.5613950168280226,
          1.1564374428362023,
          0.9183934738584028,
          0.7616589814232719
         ],
         "median": [
          1.8797548111928308,
          1.5515826817952607,
          1.1500347807891949,
          0.9136180235236758,
          0.7578442504265216
         ],
         "name": "Day25",
         "q1": [
          1.825457830663393,
          1.510626044438266,
          1.1229850363662852,
          0.8935595979054102,
          0.7419364610592762
         ],
         "q3": [
          1.9369443949443086,
          1.5945408027297026,
          1.1783010295167622,
          0.9345499502341208,
          0.7744354072144651
         ],
         "type": "box",
         "upperfence": [
          2.27423957881541,
          1.849981644389953,
          1.3489846811293957,
          1.0623479544914327,
          0.8765025340510312
         ],
         "x": [
          "0.2",
          "0.5",
          "1.0",
          "1.5",
          "2.0"
         ]
        },
        {
         "lowerfence": [
          1.5701744349557474,
          1.4100642611089376,
          1.1711386704297264,
          1.0014004727793993,
          0.8746110604378757
         ],
         "mean": [
          1.8204181916353859,
          1.6263327346890206,
          1.34055142818179,
          1.1402279348182116,
          0.9920062485508695
         ],
         "median": [
          1.8062063157776667,
          1.6146155437332261,
          1.3320271995285782,
          1.133620282787489,
          0.9866553094766956
         ],
         "name": "Day30",
         "q1": [
          1.7608499258722827,
          1.5755519619707352,
          1.3015979340570052,
          1.1087925140043198,
          0.9657325988494395
         ],
         "q3": [
          1.8549137755104044,
          1.6564214309167287,
          1.3644202460124508,
          1.1599470183656335,
          1.0087763540873804
         ],
         "type": "box",
         "upperfence": [
          2.1451652506582417,
          1.90423172207727,
          1.5550362341463861,
          1.3141346757079604,
          1.137898656220429
         ],
         "x": [
          "0.2",
          "0.5",
          "1.0",
          "1.5",
          "2.0"
         ]
        },
        {
         "lowerfence": [
          1.1116132653348778,
          1.0658132689641362,
          0.9841460192753362,
          0.9134928442463973,
          0.8518072615916069
         ],
         "mean": [
          1.1971455594701605,
          1.1435377714073727,
          1.0495819580251977,
          0.9699304411257734,
          0.9015408340862653
         ],
         "median": [
          1.1903405050281968,
          1.1372860190832397,
          1.0442542833415784,
          0.9653590030753081,
          0.8976065732682277
         ],
         "name": "Day40",
         "q1": [
          1.1750998802534498,
          1.1235209173919274,
          1.0328101034875787,
          0.9556068830919672,
          0.8891015439520816
         ],
         "q3": [
          1.2066832823506852,
          1.152054923169911,
          1.0565495730213514,
          0.9758359324777177,
          0.906728358218696
         ],
         "type": "box",
         "upperfence": [
          1.3217871015527343,
          1.2573735572303224,
          1.1460193077087768,
          1.0531463778521986,
          0.9744889764451319
         ],
         "x": [
          "0.2",
          "0.5",
          "1.0",
          "1.5",
          "2.0"
         ]
        }
       ],
       "layout": {
        "boxmode": "group",
        "template": {
         "data": {
          "bar": [
           {
            "error_x": {
             "color": "rgb(36,36,36)"
            },
            "error_y": {
             "color": "rgb(36,36,36)"
            },
            "marker": {
             "line": {
              "color": "white",
              "width": 0.5
             }
            },
            "type": "bar"
           }
          ],
          "barpolar": [
           {
            "marker": {
             "line": {
              "color": "white",
              "width": 0.5
             }
            },
            "type": "barpolar"
           }
          ],
          "carpet": [
           {
            "aaxis": {
             "endlinecolor": "rgb(36,36,36)",
             "gridcolor": "white",
             "linecolor": "white",
             "minorgridcolor": "white",
             "startlinecolor": "rgb(36,36,36)"
            },
            "baxis": {
             "endlinecolor": "rgb(36,36,36)",
             "gridcolor": "white",
             "linecolor": "white",
             "minorgridcolor": "white",
             "startlinecolor": "rgb(36,36,36)"
            },
            "type": "carpet"
           }
          ],
          "choropleth": [
           {
            "colorbar": {
             "outlinewidth": 1,
             "tickcolor": "rgb(36,36,36)",
             "ticks": "outside"
            },
            "type": "choropleth"
           }
          ],
          "contour": [
           {
            "colorbar": {
             "outlinewidth": 1,
             "tickcolor": "rgb(36,36,36)",
             "ticks": "outside"
            },
            "colorscale": [
             [
              0,
              "#440154"
             ],
             [
              0.1111111111111111,
              "#482878"
             ],
             [
              0.2222222222222222,
              "#3e4989"
             ],
             [
              0.3333333333333333,
              "#31688e"
             ],
             [
              0.4444444444444444,
              "#26828e"
             ],
             [
              0.5555555555555556,
              "#1f9e89"
             ],
             [
              0.6666666666666666,
              "#35b779"
             ],
             [
              0.7777777777777778,
              "#6ece58"
             ],
             [
              0.8888888888888888,
              "#b5de2b"
             ],
             [
              1,
              "#fde725"
             ]
            ],
            "type": "contour"
           }
          ],
          "contourcarpet": [
           {
            "colorbar": {
             "outlinewidth": 1,
             "tickcolor": "rgb(36,36,36)",
             "ticks": "outside"
            },
            "type": "contourcarpet"
           }
          ],
          "heatmap": [
           {
            "colorbar": {
             "outlinewidth": 1,
             "tickcolor": "rgb(36,36,36)",
             "ticks": "outside"
            },
            "colorscale": [
             [
              0,
              "#440154"
             ],
             [
              0.1111111111111111,
              "#482878"
             ],
             [
              0.2222222222222222,
              "#3e4989"
             ],
             [
              0.3333333333333333,
              "#31688e"
             ],
             [
              0.4444444444444444,
              "#26828e"
             ],
             [
              0.5555555555555556,
              "#1f9e89"
             ],
             [
              0.6666666666666666,
              "#35b779"
             ],
             [
              0.7777777777777778,
              "#6ece58"
             ],
             [
              0.8888888888888888,
              "#b5de2b"
             ],
             [
              1,
              "#fde725"
             ]
            ],
            "type": "heatmap"
           }
          ],
          "heatmapgl": [
           {
            "colorbar": {
             "outlinewidth": 1,
             "tickcolor": "rgb(36,36,36)",
             "ticks": "outside"
            },
            "colorscale": [
             [
              0,
              "#440154"
             ],
             [
              0.1111111111111111,
              "#482878"
             ],
             [
              0.2222222222222222,
              "#3e4989"
             ],
             [
              0.3333333333333333,
              "#31688e"
             ],
             [
              0.4444444444444444,
              "#26828e"
             ],
             [
              0.5555555555555556,
              "#1f9e89"
             ],
             [
              0.6666666666666666,
              "#35b779"
             ],
             [
              0.7777777777777778,
              "#6ece58"
             ],
             [
              0.8888888888888888,
              "#b5de2b"
             ],
             [
              1,
              "#fde725"
             ]
            ],
            "type": "heatmapgl"
           }
          ],
          "histogram": [
           {
            "marker": {
             "line": {
              "color": "white",
              "width": 0.6
             }
            },
            "type": "histogram"
           }
          ],
          "histogram2d": [
           {
            "colorbar": {
             "outlinewidth": 1,
             "tickcolor": "rgb(36,36,36)",
             "ticks": "outside"
            },
            "colorscale": [
             [
              0,
              "#440154"
             ],
             [
              0.1111111111111111,
              "#482878"
             ],
             [
              0.2222222222222222,
              "#3e4989"
             ],
             [
              0.3333333333333333,
              "#31688e"
             ],
             [
              0.4444444444444444,
              "#26828e"
             ],
             [
              0.5555555555555556,
              "#1f9e89"
             ],
             [
              0.6666666666666666,
              "#35b779"
             ],
             [
              0.7777777777777778,
              "#6ece58"
             ],
             [
              0.8888888888888888,
              "#b5de2b"
             ],
             [
              1,
              "#fde725"
             ]
            ],
            "type": "histogram2d"
           }
          ],
          "histogram2dcontour": [
           {
            "colorbar": {
             "outlinewidth": 1,
             "tickcolor": "rgb(36,36,36)",
             "ticks": "outside"
            },
            "colorscale": [
             [
              0,
              "#440154"
             ],
             [
              0.1111111111111111,
              "#482878"
             ],
             [
              0.2222222222222222,
              "#3e4989"
             ],
             [
              0.3333333333333333,
              "#31688e"
             ],
             [
              0.4444444444444444,
              "#26828e"
             ],
             [
              0.5555555555555556,
              "#1f9e89"
             ],
             [
              0.6666666666666666,
              "#35b779"
             ],
             [
              0.7777777777777778,
              "#6ece58"
             ],
             [
              0.8888888888888888,
              "#b5de2b"
             ],
             [
              1,
              "#fde725"
             ]
            ],
            "type": "histogram2dcontour"
           }
          ],
          "mesh3d": [
           {
            "colorbar": {
             "outlinewidth": 1,
             "tickcolor": "rgb(36,36,36)",
             "ticks": "outside"
            },
            "type": "mesh3d"
           }
          ],
          "parcoords": [
           {
            "line": {
             "colorbar": {
              "outlinewidth": 1,
              "tickcolor": "rgb(36,36,36)",
              "ticks": "outside"
             }
            },
            "type": "parcoords"
           }
          ],
          "pie": [
           {
            "automargin": true,
            "type": "pie"
           }
          ],
          "scatter": [
           {
            "marker": {
             "colorbar": {
              "outlinewidth": 1,
              "tickcolor": "rgb(36,36,36)",
              "ticks": "outside"
             }
            },
            "type": "scatter"
           }
          ],
          "scatter3d": [
           {
            "line": {
             "colorbar": {
              "outlinewidth": 1,
              "tickcolor": "rgb(36,36,36)",
              "ticks": "outside"
             }
            },
            "marker": {
             "colorbar": {
              "outlinewidth": 1,
              "tickcolor": "rgb(36,36,36)",
              "ticks": "outside"
             }
            },
            "type": "scatter3d"
           }
          ],
          "scattercarpet": [
           {
            "marker": {
             "colorbar": {
              "outlinewidth": 1,
              "tickcolor": "rgb(36,36,36)",
              "ticks": "outside"
             }
            },
            "type": "scattercarpet"
           }
          ],
          "scattergeo": [
           {
            "marker": {
             "colorbar": {
              "outlinewidth": 1,
              "tickcolor": "rgb(36,36,36)",
              "ticks": "outside"
             }
            },
            "type": "scattergeo"
           }
          ],
          "scattergl": [
           {
            "marker": {
             "colorbar": {
              "outlinewidth": 1,
              "tickcolor": "rgb(36,36,36)",
              "ticks": "outside"
             }
            },
            "type": "scattergl"
           }
          ],
          "scattermapbox": [
           {
            "marker": {
             "colorbar": {
              "outlinewidth": 1,
              "tickcolor": "rgb(36,36,36)",
              "ticks": "outside"
             }
            },
            "type": "scattermapbox"
           }
          ],
          "scatterpolar": [
           {
            "marker": {
             "colorbar": {
              "outlinewidth": 1,
              "tickcolor": "rgb(36,36,36)",
              "ticks": "outside"
             }
            },
            "type": "scatterpolar"
           }
          ],
          "scatterpolargl": [
           {
            "marker": {
             "colorbar": {
              "outlinewidth": 1,
              "tickcolor": "rgb(36,36,36)",
              "ticks": "outside"
             }
            },
            "type": "scatterpolargl"
           }
          ],
          "scatterternary": [
           {
            "marker": {
             "colorbar": {
              "outlinewidth": 1,
              "tickcolor": "rgb(36,36,36)",
              "ticks": "outside"
             }
            },
            "type": "scatterternary"
           }
          ],
          "surface": [
           {
            "colorbar": {
             "outlinewidth": 1,
             "tickcolor": "rgb(36,36,36)",
             "ticks": "outside"
            },
            "colorscale": [
             [
              0,
              "#440154"
             ],
             [
              0.1111111111111111,
              "#482878"
             ],
             [
              0.2222222222222222,
              "#3e4989"
             ],
             [
              0.3333333333333333,
              "#31688e"
             ],
             [
              0.4444444444444444,
              "#26828e"
             ],
             [
              0.5555555555555556,
              "#1f9e89"
             ],
             [
              0.6666666666666666,
              "#35b779"
             ],
             [
              0.7777777777777778,
              "#6ece58"
             ],
             [
              0.8888888888888888,
              "#b5de2b"
             ],
             [
              1,
              "#fde725"
             ]
            ],
            "type": "surface"
           }
          ],
          "table": [
           {
            "cells": {
             "fill": {
              "color": "rgb(237,237,237)"
             },
             "line": {
              "color": "white"
             }
            },
            "header": {
             "fill": {
              "color": "rgb(217,217,217)"
             },
             "line": {
              "color": "white"
             }
            },
            "type": "table"
           }
          ]
         },
         "layout": {
          "annotationdefaults": {
           "arrowhead": 0,
           "arrowwidth": 1
          },
          "autotypenumbers": "strict",
          "coloraxis": {
           "colorbar": {
            "outlinewidth": 1,
            "tickcolor": "rgb(36,36,36)",
            "ticks": "outside"
           }
          },
          "colorscale": {
           "diverging": [
            [
             0,
             "rgb(103,0,31)"
            ],
            [
             0.1,
             "rgb(178,24,43)"
            ],
            [
             0.2,
             "rgb(214,96,77)"
            ],
            [
             0.3,
             "rgb(244,165,130)"
            ],
            [
             0.4,
             "rgb(253,219,199)"
            ],
            [
             0.5,
             "rgb(247,247,247)"
            ],
            [
             0.6,
             "rgb(209,229,240)"
            ],
            [
             0.7,
             "rgb(146,197,222)"
            ],
            [
             0.8,
             "rgb(67,147,195)"
            ],
            [
             0.9,
             "rgb(33,102,172)"
            ],
            [
             1,
             "rgb(5,48,97)"
            ]
           ],
           "sequential": [
            [
             0,
             "#440154"
            ],
            [
             0.1111111111111111,
             "#482878"
            ],
            [
             0.2222222222222222,
             "#3e4989"
            ],
            [
             0.3333333333333333,
             "#31688e"
            ],
            [
             0.4444444444444444,
             "#26828e"
            ],
            [
             0.5555555555555556,
             "#1f9e89"
            ],
            [
             0.6666666666666666,
             "#35b779"
            ],
            [
             0.7777777777777778,
             "#6ece58"
            ],
            [
             0.8888888888888888,
             "#b5de2b"
            ],
            [
             1,
             "#fde725"
            ]
           ],
           "sequentialminus": [
            [
             0,
             "#440154"
            ],
            [
             0.1111111111111111,
             "#482878"
            ],
            [
             0.2222222222222222,
             "#3e4989"
            ],
            [
             0.3333333333333333,
             "#31688e"
            ],
            [
             0.4444444444444444,
             "#26828e"
            ],
            [
             0.5555555555555556,
             "#1f9e89"
            ],
            [
             0.6666666666666666,
             "#35b779"
            ],
            [
             0.7777777777777778,
             "#6ece58"
            ],
            [
             0.8888888888888888,
             "#b5de2b"
            ],
            [
             1,
             "#fde725"
            ]
           ]
          },
          "colorway": [
           "#1F77B4",
           "#FF7F0E",
           "#2CA02C",
           "#D62728",
           "#9467BD",
           "#8C564B",
           "#E377C2",
           "#7F7F7F",
           "#BCBD22",
           "#17BECF"
          ],
          "font": {
           "color": "rgb(36,36,36)"
          },
          "geo": {
           "bgcolor": "white",
           "lakecolor": "white",
           "landcolor": "white",
           "showlakes": true,
           "showland": true,
           "subunitcolor": "white"
          },
          "hoverlabel": {
           "align": "left"
          },
          "hovermode": "closest",
          "mapbox": {
           "style": "light"
          },
          "paper_bgcolor": "white",
          "plot_bgcolor": "white",
          "polar": {
           "angularaxis": {
            "gridcolor": "rgb(232,232,232)",
            "linecolor": "rgb(36,36,36)",
            "showgrid": false,
            "showline": true,
            "ticks": "outside"
           },
           "bgcolor": "white",
           "radialaxis": {
            "gridcolor": "rgb(232,232,232)",
            "linecolor": "rgb(36,36,36)",
            "showgrid": false,
            "showline": true,
            "ticks": "outside"
           }
          },
          "scene": {
           "xaxis": {
            "backgroundcolor": "white",
            "gridcolor": "rgb(232,232,232)",
            "gridwidth": 2,
            "linecolor": "rgb(36,36,36)",
            "showbackground": true,
            "showgrid": false,
            "showline": true,
            "ticks": "outside",
            "zeroline": false,
            "zerolinecolor": "rgb(36,36,36)"
           },
           "yaxis": {
            "backgroundcolor": "white",
            "gridcolor": "rgb(232,232,232)",
            "gridwidth": 2,
            "linecolor": "rgb(36,36,36)",
            "showbackground": true,
            "showgrid": false,
            "showline": true,
            "ticks": "outside",
            "zeroline": false,
            "zerolinecolor": "rgb(36,36,36)"
           },
           "zaxis": {
            "backgroundcolor": "white",
            "gridcolor": "rgb(232,232,232)",
            "gridwidth": 2,
            "linecolor": "rgb(36,36,36)",
            "showbackground": true,
            "showgrid": false,
            "showline": true,
            "ticks": "outside",
            "zeroline": false,
            "zerolinecolor": "rgb(36,36,36)"
           }
          },
          "shapedefaults": {
           "fillcolor": "black",
           "line": {
            "width": 0
           },
           "opacity": 0.3
          },
          "ternary": {
           "aaxis": {
            "gridcolor": "rgb(232,232,232)",
            "linecolor": "rgb(36,36,36)",
            "showgrid": false,
            "showline": true,
            "ticks": "outside"
           },
           "baxis": {
            "gridcolor": "rgb(232,232,232)",
            "linecolor": "rgb(36,36,36)",
            "showgrid": false,
            "showline": true,
            "ticks": "outside"
           },
           "bgcolor": "white",
           "caxis": {
            "gridcolor": "rgb(232,232,232)",
            "linecolor": "rgb(36,36,36)",
            "showgrid": false,
            "showline": true,
            "ticks": "outside"
           }
          },
          "title": {
           "x": 0.05
          },
          "xaxis": {
           "automargin": true,
           "gridcolor": "rgb(232,232,232)",
           "linecolor": "rgb(36,36,36)",
           "showgrid": false,
           "showline": true,
           "ticks": "outside",
           "title": {
            "standoff": 15
           },
           "zeroline": false,
           "zerolinecolor": "rgb(36,36,36)"
          },
          "yaxis": {
           "automargin": true,
           "gridcolor": "rgb(232,232,232)",
           "linecolor": "rgb(36,36,36)",
           "showgrid": false,
           "showline": true,
           "ticks": "outside",
           "title": {
            "standoff": 15
           },
           "zeroline": false,
           "zerolinecolor": "rgb(36,36,36)"
          }
         }
        },
        "title": {
         "text": "ON"
        }
       }
      }
     },
     "metadata": {}
    }
   ],
   "source": [
    "# Create list of names for x-axis and traces\n",
    "epsilon_range = np.around(epsilon_range,1)\n",
    "num_epsilons = len(epsilon_range)\n",
    "x_name = []\n",
    "for i in range(num_epsilons):\n",
    "    x_name.append(str(epsilon_range[i]))\n",
    "trace_name = ['Day{}'.format(x) for x in chosen_times]\n",
    "\n",
    "# Sort results\n",
    "all_intervals_chosen.sort_values(by=['Time Points', 'Epsilon'], inplace=True)\n",
    "\n",
    "# Plot (box plot for inference)\n",
    "fig = go.Figure()\n",
    "\n",
    "for i in range(len(trace_name)):\n",
    "    fig.add_trace(\n",
    "        go.Box(\n",
    "            mean=all_intervals_chosen.loc[all_intervals_chosen['Central Probability']==0]['Mean'][i*num_epsilons:(i+1)*num_epsilons],\n",
    "            median=all_intervals_chosen.loc[all_intervals_chosen['Central Probability']==0]['Lower bound CI'][i*num_epsilons:(i+1)*num_epsilons],\n",
    "            q1=all_intervals_chosen.loc[all_intervals_chosen['Central Probability']==0.25]['Lower bound CI'][i*num_epsilons:(i+1)*num_epsilons],\n",
    "            q3=all_intervals_chosen.loc[all_intervals_chosen['Central Probability']==0.25]['Upper bound CI'][i*num_epsilons:(i+1)*num_epsilons],\n",
    "            upperfence=all_intervals_chosen.loc[all_intervals_chosen['Central Probability']==0.95]['Upper bound CI'][i*num_epsilons:(i+1)*num_epsilons],\n",
    "            lowerfence=all_intervals_chosen.loc[all_intervals_chosen['Central Probability']==0.95]['Lower bound CI'][i*num_epsilons:(i+1)*num_epsilons],\n",
    "            x=x_name,\n",
    "            name=trace_name[i]\n",
    "        )\n",
    "    )\n",
    "fig.update_layout(template='simple_white', boxmode='group', title='ON')\n",
    "\n",
    "fig.show()"
   ]
  },
  {
   "cell_type": "code",
   "execution_count": 8,
   "metadata": {},
   "outputs": [
    {
     "output_type": "display_data",
     "data": {
      "application/vnd.plotly.v1+json": {
       "config": {
        "plotlyServerURL": "https://plot.ly"
       },
       "data": [
        {
         "lowerfence": [
          0.7966724116646084,
          1.1160546163989766,
          1.3566747582302523,
          1.5852058667658326,
          1.5701744349557474,
          1.1116132653348778
         ],
         "mean": [
          2.0458798187881744,
          1.701019963653743,
          1.704899430124458,
          1.8931868032985772,
          1.8204181916353859,
          1.1971455594701605
         ],
         "median": [
          1.9323897698737782,
          1.6641258837389274,
          1.6883334951451274,
          1.8797548111928308,
          1.8062063157776667,
          1.1903405050281968
         ],
         "name": "0.2",
         "q1": [
          1.6964157083344051,
          1.5586529612557427,
          1.627145602768277,
          1.825457830663393,
          1.7608499258722827,
          1.1750998802534498
         ],
         "q3": [
          2.191260327850475,
          1.777231523761428,
          1.7528067808133676,
          1.9369443949443086,
          1.8549137755104044,
          1.2066832823506852
         ],
         "type": "box",
         "upperfence": [
          3.941658472216783,
          2.493973708510573,
          2.14715667022975,
          2.27423957881541,
          2.1451652506582417,
          1.3217871015527343
         ],
         "x": [
          "Day10",
          "Day15",
          "Day20",
          "Day25",
          "Day30",
          "Day40"
         ]
        },
        {
         "lowerfence": [
          0.4698427487735156,
          0.7920184023565618,
          0.9866475989777387,
          1.3271837533425055,
          1.4100642611089376,
          1.0658132689641362
         ],
         "mean": [
          1.2024366627520444,
          1.2006806136254655,
          1.233396757219604,
          1.5613950168280226,
          1.6263327346890206,
          1.1435377714073727
         ],
         "median": [
          1.136667821757135,
          1.1758554320242016,
          1.2215734454698133,
          1.5515826817952607,
          1.6146155437332261,
          1.1372860190832397
         ],
         "name": "0.5",
         "q1": [
          0.9983847696067157,
          1.1023528167458405,
          1.178279764059015,
          1.510626044438266,
          1.5755519619707352,
          1.1235209173919274
         ],
         "q3": [
          1.2882203647949413,
          1.2544836228244691,
          1.267188874069747,
          1.5945408027297026,
          1.6564214309167287,
          1.152054923169911
         ],
         "type": "box",
         "upperfence": [
          2.3096821372407135,
          1.7494086017355452,
          1.5474579527203371,
          1.849981644389953,
          1.90423172207727,
          1.2573735572303224
         ],
         "x": [
          "Day10",
          "Day15",
          "Day20",
          "Day25",
          "Day30",
          "Day40"
         ]
        },
        {
         "lowerfence": [
          0.2580522027368266,
          0.5010350953896304,
          0.6381447570233783,
          1.0000848926162584,
          1.1711386704297264,
          0.9841460192753362
         ],
         "mean": [
          0.6590950838059708,
          0.755989109165597,
          0.7941823581672439,
          1.1564374428362023,
          1.34055142818179,
          1.0495819580251977
         ],
         "median": [
          0.623342192546105,
          0.7410106998097533,
          0.7866646260633615,
          1.1500347807891949,
          1.3320271995285782,
          1.0442542833415784
         ],
         "name": "1.0",
         "q1": [
          0.5476755483706561,
          0.6952556905354569,
          0.7593308071799445,
          1.1229850363662852,
          1.3015979340570052,
          1.0328101034875787
         ],
         "q3": [
          0.7062223257642514,
          0.7898524139398596,
          0.8154616139653631,
          1.1783010295167622,
          1.3644202460124508,
          1.0565495730213514
         ],
         "type": "box",
         "upperfence": [
          1.2637912382057603,
          1.095517547559105,
          0.9931384276333827,
          1.3489846811293957,
          1.5550362341463861,
          1.1460193077087768
         ],
         "x": [
          "Day10",
          "Day15",
          "Day20",
          "Day25",
          "Day30",
          "Day40"
         ]
        },
        {
         "lowerfence": [
          0.17786657322942304,
          0.36640649492486854,
          0.4715033091840779,
          0.8017035222598261,
          1.0014004727793993,
          0.9134928442463973
         ],
         "mean": [
          0.4539715752996086,
          0.551675602476484,
          0.5856460179379879,
          0.9183934738584028,
          1.1402279348182116,
          0.9699304411257734
         ],
         "median": [
          0.42941854540370694,
          0.5409575229916483,
          0.5801358040023384,
          0.9136180235236758,
          1.133620282787489,
          0.9653590030753081
         ],
         "name": "1.5",
         "q1": [
          0.3773328925003874,
          0.5077427636899174,
          0.5601586081738312,
          0.8935595979054102,
          1.1087925140043198,
          0.9556068830919672
         ],
         "q3": [
          0.4864580419882325,
          0.5763793048210298,
          0.6011809130332334,
          0.9345499502341208,
          1.1599470183656335,
          0.9758359324777177
         ],
         "type": "box",
         "upperfence": [
          0.8699305279687893,
          0.7974836324790793,
          0.7312866639202318,
          1.0623479544914327,
          1.3141346757079604,
          1.0531463778521986
         ],
         "x": [
          "Day10",
          "Day15",
          "Day20",
          "Day25",
          "Day30",
          "Day40"
         ]
        },
        {
         "lowerfence": [
          0.13569734082266885,
          0.28880361699279594,
          0.37385756477775056,
          0.6687267077023868,
          0.8746110604378757,
          0.8518072615916069
         ],
         "mean": [
          0.34622208469028376,
          0.4343027583929434,
          0.46385095420323247,
          0.7616589814232719,
          0.9920062485508695,
          0.9015408340862653
         ],
         "median": [
          0.327525217625403,
          0.42595960440790437,
          0.4595026257991888,
          0.7578442504265216,
          0.9866553094766956,
          0.8976065732682277
         ],
         "name": "2.0",
         "q1": [
          0.28781441330966717,
          0.3998901034390484,
          0.4437597583388815,
          0.7419364610592762,
          0.9657325988494395,
          0.8891015439520816
         ],
         "q3": [
          0.37100781065467203,
          0.4537463011220127,
          0.47608537202532264,
          0.7744354072144651,
          1.0087763540873804,
          0.906728358218696
         ],
         "type": "box",
         "upperfence": [
          0.6632426203339034,
          0.6269355423648736,
          0.5787239593922187,
          0.8765025340510312,
          1.137898656220429,
          0.9744889764451319
         ],
         "x": [
          "Day10",
          "Day15",
          "Day20",
          "Day25",
          "Day30",
          "Day40"
         ]
        }
       ],
       "layout": {
        "annotations": [
         {
          "showarrow": false,
          "text": "Prior R",
          "x": 1,
          "xanchor": "right",
          "xref": "x domain",
          "y": 3.4657359027997274,
          "yanchor": "bottom",
          "yref": "y"
         }
        ],
        "boxmode": "group",
        "plot_bgcolor": "white",
        "shapes": [
         {
          "fillcolor": "black",
          "line": {
           "width": 0
          },
          "opacity": 0.1,
          "type": "rect",
          "x0": 0,
          "x1": 1,
          "xref": "x domain",
          "y0": 1.4384103622589044,
          "y1": 6.931471805599453,
          "yref": "y"
         },
         {
          "fillcolor": "black",
          "line": {
           "dash": "dot"
          },
          "type": "line",
          "x0": 0,
          "x1": 1,
          "xref": "x domain",
          "y0": 3.4657359027997274,
          "y1": 3.4657359027997274,
          "yref": "y"
         }
        ],
        "template": {
         "data": {
          "bar": [
           {
            "error_x": {
             "color": "#2a3f5f"
            },
            "error_y": {
             "color": "#2a3f5f"
            },
            "marker": {
             "line": {
              "color": "#E5ECF6",
              "width": 0.5
             }
            },
            "type": "bar"
           }
          ],
          "barpolar": [
           {
            "marker": {
             "line": {
              "color": "#E5ECF6",
              "width": 0.5
             }
            },
            "type": "barpolar"
           }
          ],
          "carpet": [
           {
            "aaxis": {
             "endlinecolor": "#2a3f5f",
             "gridcolor": "white",
             "linecolor": "white",
             "minorgridcolor": "white",
             "startlinecolor": "#2a3f5f"
            },
            "baxis": {
             "endlinecolor": "#2a3f5f",
             "gridcolor": "white",
             "linecolor": "white",
             "minorgridcolor": "white",
             "startlinecolor": "#2a3f5f"
            },
            "type": "carpet"
           }
          ],
          "choropleth": [
           {
            "colorbar": {
             "outlinewidth": 0,
             "ticks": ""
            },
            "type": "choropleth"
           }
          ],
          "contour": [
           {
            "colorbar": {
             "outlinewidth": 0,
             "ticks": ""
            },
            "colorscale": [
             [
              0,
              "#0d0887"
             ],
             [
              0.1111111111111111,
              "#46039f"
             ],
             [
              0.2222222222222222,
              "#7201a8"
             ],
             [
              0.3333333333333333,
              "#9c179e"
             ],
             [
              0.4444444444444444,
              "#bd3786"
             ],
             [
              0.5555555555555556,
              "#d8576b"
             ],
             [
              0.6666666666666666,
              "#ed7953"
             ],
             [
              0.7777777777777778,
              "#fb9f3a"
             ],
             [
              0.8888888888888888,
              "#fdca26"
             ],
             [
              1,
              "#f0f921"
             ]
            ],
            "type": "contour"
           }
          ],
          "contourcarpet": [
           {
            "colorbar": {
             "outlinewidth": 0,
             "ticks": ""
            },
            "type": "contourcarpet"
           }
          ],
          "heatmap": [
           {
            "colorbar": {
             "outlinewidth": 0,
             "ticks": ""
            },
            "colorscale": [
             [
              0,
              "#0d0887"
             ],
             [
              0.1111111111111111,
              "#46039f"
             ],
             [
              0.2222222222222222,
              "#7201a8"
             ],
             [
              0.3333333333333333,
              "#9c179e"
             ],
             [
              0.4444444444444444,
              "#bd3786"
             ],
             [
              0.5555555555555556,
              "#d8576b"
             ],
             [
              0.6666666666666666,
              "#ed7953"
             ],
             [
              0.7777777777777778,
              "#fb9f3a"
             ],
             [
              0.8888888888888888,
              "#fdca26"
             ],
             [
              1,
              "#f0f921"
             ]
            ],
            "type": "heatmap"
           }
          ],
          "heatmapgl": [
           {
            "colorbar": {
             "outlinewidth": 0,
             "ticks": ""
            },
            "colorscale": [
             [
              0,
              "#0d0887"
             ],
             [
              0.1111111111111111,
              "#46039f"
             ],
             [
              0.2222222222222222,
              "#7201a8"
             ],
             [
              0.3333333333333333,
              "#9c179e"
             ],
             [
              0.4444444444444444,
              "#bd3786"
             ],
             [
              0.5555555555555556,
              "#d8576b"
             ],
             [
              0.6666666666666666,
              "#ed7953"
             ],
             [
              0.7777777777777778,
              "#fb9f3a"
             ],
             [
              0.8888888888888888,
              "#fdca26"
             ],
             [
              1,
              "#f0f921"
             ]
            ],
            "type": "heatmapgl"
           }
          ],
          "histogram": [
           {
            "marker": {
             "colorbar": {
              "outlinewidth": 0,
              "ticks": ""
             }
            },
            "type": "histogram"
           }
          ],
          "histogram2d": [
           {
            "colorbar": {
             "outlinewidth": 0,
             "ticks": ""
            },
            "colorscale": [
             [
              0,
              "#0d0887"
             ],
             [
              0.1111111111111111,
              "#46039f"
             ],
             [
              0.2222222222222222,
              "#7201a8"
             ],
             [
              0.3333333333333333,
              "#9c179e"
             ],
             [
              0.4444444444444444,
              "#bd3786"
             ],
             [
              0.5555555555555556,
              "#d8576b"
             ],
             [
              0.6666666666666666,
              "#ed7953"
             ],
             [
              0.7777777777777778,
              "#fb9f3a"
             ],
             [
              0.8888888888888888,
              "#fdca26"
             ],
             [
              1,
              "#f0f921"
             ]
            ],
            "type": "histogram2d"
           }
          ],
          "histogram2dcontour": [
           {
            "colorbar": {
             "outlinewidth": 0,
             "ticks": ""
            },
            "colorscale": [
             [
              0,
              "#0d0887"
             ],
             [
              0.1111111111111111,
              "#46039f"
             ],
             [
              0.2222222222222222,
              "#7201a8"
             ],
             [
              0.3333333333333333,
              "#9c179e"
             ],
             [
              0.4444444444444444,
              "#bd3786"
             ],
             [
              0.5555555555555556,
              "#d8576b"
             ],
             [
              0.6666666666666666,
              "#ed7953"
             ],
             [
              0.7777777777777778,
              "#fb9f3a"
             ],
             [
              0.8888888888888888,
              "#fdca26"
             ],
             [
              1,
              "#f0f921"
             ]
            ],
            "type": "histogram2dcontour"
           }
          ],
          "mesh3d": [
           {
            "colorbar": {
             "outlinewidth": 0,
             "ticks": ""
            },
            "type": "mesh3d"
           }
          ],
          "parcoords": [
           {
            "line": {
             "colorbar": {
              "outlinewidth": 0,
              "ticks": ""
             }
            },
            "type": "parcoords"
           }
          ],
          "pie": [
           {
            "automargin": true,
            "type": "pie"
           }
          ],
          "scatter": [
           {
            "marker": {
             "colorbar": {
              "outlinewidth": 0,
              "ticks": ""
             }
            },
            "type": "scatter"
           }
          ],
          "scatter3d": [
           {
            "line": {
             "colorbar": {
              "outlinewidth": 0,
              "ticks": ""
             }
            },
            "marker": {
             "colorbar": {
              "outlinewidth": 0,
              "ticks": ""
             }
            },
            "type": "scatter3d"
           }
          ],
          "scattercarpet": [
           {
            "marker": {
             "colorbar": {
              "outlinewidth": 0,
              "ticks": ""
             }
            },
            "type": "scattercarpet"
           }
          ],
          "scattergeo": [
           {
            "marker": {
             "colorbar": {
              "outlinewidth": 0,
              "ticks": ""
             }
            },
            "type": "scattergeo"
           }
          ],
          "scattergl": [
           {
            "marker": {
             "colorbar": {
              "outlinewidth": 0,
              "ticks": ""
             }
            },
            "type": "scattergl"
           }
          ],
          "scattermapbox": [
           {
            "marker": {
             "colorbar": {
              "outlinewidth": 0,
              "ticks": ""
             }
            },
            "type": "scattermapbox"
           }
          ],
          "scatterpolar": [
           {
            "marker": {
             "colorbar": {
              "outlinewidth": 0,
              "ticks": ""
             }
            },
            "type": "scatterpolar"
           }
          ],
          "scatterpolargl": [
           {
            "marker": {
             "colorbar": {
              "outlinewidth": 0,
              "ticks": ""
             }
            },
            "type": "scatterpolargl"
           }
          ],
          "scatterternary": [
           {
            "marker": {
             "colorbar": {
              "outlinewidth": 0,
              "ticks": ""
             }
            },
            "type": "scatterternary"
           }
          ],
          "surface": [
           {
            "colorbar": {
             "outlinewidth": 0,
             "ticks": ""
            },
            "colorscale": [
             [
              0,
              "#0d0887"
             ],
             [
              0.1111111111111111,
              "#46039f"
             ],
             [
              0.2222222222222222,
              "#7201a8"
             ],
             [
              0.3333333333333333,
              "#9c179e"
             ],
             [
              0.4444444444444444,
              "#bd3786"
             ],
             [
              0.5555555555555556,
              "#d8576b"
             ],
             [
              0.6666666666666666,
              "#ed7953"
             ],
             [
              0.7777777777777778,
              "#fb9f3a"
             ],
             [
              0.8888888888888888,
              "#fdca26"
             ],
             [
              1,
              "#f0f921"
             ]
            ],
            "type": "surface"
           }
          ],
          "table": [
           {
            "cells": {
             "fill": {
              "color": "#EBF0F8"
             },
             "line": {
              "color": "white"
             }
            },
            "header": {
             "fill": {
              "color": "#C8D4E3"
             },
             "line": {
              "color": "white"
             }
            },
            "type": "table"
           }
          ]
         },
         "layout": {
          "annotationdefaults": {
           "arrowcolor": "#2a3f5f",
           "arrowhead": 0,
           "arrowwidth": 1
          },
          "autotypenumbers": "strict",
          "coloraxis": {
           "colorbar": {
            "outlinewidth": 0,
            "ticks": ""
           }
          },
          "colorscale": {
           "diverging": [
            [
             0,
             "#8e0152"
            ],
            [
             0.1,
             "#c51b7d"
            ],
            [
             0.2,
             "#de77ae"
            ],
            [
             0.3,
             "#f1b6da"
            ],
            [
             0.4,
             "#fde0ef"
            ],
            [
             0.5,
             "#f7f7f7"
            ],
            [
             0.6,
             "#e6f5d0"
            ],
            [
             0.7,
             "#b8e186"
            ],
            [
             0.8,
             "#7fbc41"
            ],
            [
             0.9,
             "#4d9221"
            ],
            [
             1,
             "#276419"
            ]
           ],
           "sequential": [
            [
             0,
             "#0d0887"
            ],
            [
             0.1111111111111111,
             "#46039f"
            ],
            [
             0.2222222222222222,
             "#7201a8"
            ],
            [
             0.3333333333333333,
             "#9c179e"
            ],
            [
             0.4444444444444444,
             "#bd3786"
            ],
            [
             0.5555555555555556,
             "#d8576b"
            ],
            [
             0.6666666666666666,
             "#ed7953"
            ],
            [
             0.7777777777777778,
             "#fb9f3a"
            ],
            [
             0.8888888888888888,
             "#fdca26"
            ],
            [
             1,
             "#f0f921"
            ]
           ],
           "sequentialminus": [
            [
             0,
             "#0d0887"
            ],
            [
             0.1111111111111111,
             "#46039f"
            ],
            [
             0.2222222222222222,
             "#7201a8"
            ],
            [
             0.3333333333333333,
             "#9c179e"
            ],
            [
             0.4444444444444444,
             "#bd3786"
            ],
            [
             0.5555555555555556,
             "#d8576b"
            ],
            [
             0.6666666666666666,
             "#ed7953"
            ],
            [
             0.7777777777777778,
             "#fb9f3a"
            ],
            [
             0.8888888888888888,
             "#fdca26"
            ],
            [
             1,
             "#f0f921"
            ]
           ]
          },
          "colorway": [
           "#636efa",
           "#EF553B",
           "#00cc96",
           "#ab63fa",
           "#FFA15A",
           "#19d3f3",
           "#FF6692",
           "#B6E880",
           "#FF97FF",
           "#FECB52"
          ],
          "font": {
           "color": "#2a3f5f"
          },
          "geo": {
           "bgcolor": "white",
           "lakecolor": "white",
           "landcolor": "#E5ECF6",
           "showlakes": true,
           "showland": true,
           "subunitcolor": "white"
          },
          "hoverlabel": {
           "align": "left"
          },
          "hovermode": "closest",
          "mapbox": {
           "style": "light"
          },
          "paper_bgcolor": "white",
          "plot_bgcolor": "#E5ECF6",
          "polar": {
           "angularaxis": {
            "gridcolor": "white",
            "linecolor": "white",
            "ticks": ""
           },
           "bgcolor": "#E5ECF6",
           "radialaxis": {
            "gridcolor": "white",
            "linecolor": "white",
            "ticks": ""
           }
          },
          "scene": {
           "xaxis": {
            "backgroundcolor": "#E5ECF6",
            "gridcolor": "white",
            "gridwidth": 2,
            "linecolor": "white",
            "showbackground": true,
            "ticks": "",
            "zerolinecolor": "white"
           },
           "yaxis": {
            "backgroundcolor": "#E5ECF6",
            "gridcolor": "white",
            "gridwidth": 2,
            "linecolor": "white",
            "showbackground": true,
            "ticks": "",
            "zerolinecolor": "white"
           },
           "zaxis": {
            "backgroundcolor": "#E5ECF6",
            "gridcolor": "white",
            "gridwidth": 2,
            "linecolor": "white",
            "showbackground": true,
            "ticks": "",
            "zerolinecolor": "white"
           }
          },
          "shapedefaults": {
           "line": {
            "color": "#2a3f5f"
           }
          },
          "ternary": {
           "aaxis": {
            "gridcolor": "white",
            "linecolor": "white",
            "ticks": ""
           },
           "baxis": {
            "gridcolor": "white",
            "linecolor": "white",
            "ticks": ""
           },
           "bgcolor": "#E5ECF6",
           "caxis": {
            "gridcolor": "white",
            "linecolor": "white",
            "ticks": ""
           }
          },
          "title": {
           "x": 0.05
          },
          "xaxis": {
           "automargin": true,
           "gridcolor": "white",
           "linecolor": "white",
           "ticks": "",
           "title": {
            "standoff": 15
           },
           "zerolinecolor": "white",
           "zerolinewidth": 2
          },
          "yaxis": {
           "automargin": true,
           "gridcolor": "white",
           "linecolor": "white",
           "ticks": "",
           "title": {
            "standoff": 15
           },
           "zerolinecolor": "white",
           "zerolinewidth": 2
          }
         }
        },
        "title": {
         "text": "ON"
        },
        "xaxis": {
         "linecolor": "black",
         "ticks": "outside"
        },
        "yaxis": {
         "linecolor": "black",
         "ticks": "outside"
        }
       }
      }
     },
     "metadata": {}
    }
   ],
   "source": [
    "# Create list of names for x-axis and traces\n",
    "group_name = ['Day{}'.format(x) for x in chosen_times]\n",
    "\n",
    "# Sort results\n",
    "all_intervals_chosen.sort_values(by=['Epsilon','Time Points'], inplace=True)\n",
    "\n",
    "# Plot (box plot for inference)\n",
    "fig = go.Figure()\n",
    "\n",
    "prior_dist = scipy.stats.gamma(a, scale=1/b)\n",
    "median = prior_dist.median()\n",
    "prior_dist_interval = prior_dist.interval(.5)\n",
    "\n",
    "fig.add_hrect(y0=prior_dist_interval[0], y1=prior_dist_interval[1], line_width=0, fillcolor='black', opacity=0.1)\n",
    "fig.add_hline(y=median, line_dash='dot',\n",
    "              annotation_text='Prior R', fillcolor='black',\n",
    "              annotation_position='top right')\n",
    "\n",
    "n = len(group_name)\n",
    "for i in range(len(epsilon_range)):\n",
    "    fig.add_trace(\n",
    "        go.Box(\n",
    "            mean=all_intervals_chosen.loc[all_intervals_chosen['Central Probability']==0]['Mean'][i*n:(i+1)*n],\n",
    "            median=all_intervals_chosen.loc[all_intervals_chosen['Central Probability']==0]['Lower bound CI'][i*n:(i+1)*n],\n",
    "            q1=all_intervals_chosen.loc[all_intervals_chosen['Central Probability']==0.25]['Lower bound CI'][i*n:(i+1)*n],\n",
    "            q3=all_intervals_chosen.loc[all_intervals_chosen['Central Probability']==0.25]['Upper bound CI'][i*n:(i+1)*n],\n",
    "            upperfence=all_intervals_chosen.loc[all_intervals_chosen['Central Probability']==0.95]['Upper bound CI'][i*n:(i+1)*n],\n",
    "            lowerfence=all_intervals_chosen.loc[all_intervals_chosen['Central Probability']==0.95]['Lower bound CI'][i*n:(i+1)*n],\n",
    "            x=group_name,\n",
    "            name=str(round(epsilon_range[i],1))\n",
    "        )\n",
    "    )\n",
    "fig.update_layout(boxmode='group', title='ON', plot_bgcolor='white',\n",
    "    xaxis=dict(linecolor='black'),\n",
    "    yaxis=dict(linecolor='black'))\n",
    "\n",
    "fig.update_xaxes(ticks='outside')\n",
    "fig.update_yaxes(ticks='outside')\n",
    "\n",
    "# fig.write_image('ON-inf-r.pdf')\n",
    "fig.show()"
   ]
  },
  {
   "cell_type": "code",
   "execution_count": 9,
   "metadata": {},
   "outputs": [
    {
     "output_type": "display_data",
     "data": {
      "application/vnd.plotly.v1+json": {
       "config": {
        "plotlyServerURL": "https://plot.ly"
       },
       "data": [
        {
         "line": {
          "color": "green"
         },
         "name": "Mean R profile for for new Ɛ",
         "type": "scatter",
         "x": [],
         "xaxis": "x",
         "y": [],
         "yaxis": "y"
        },
        {
         "fill": "toself",
         "fillcolor": "green",
         "line": {
          "color": "green"
         },
         "mode": "lines",
         "name": "Credible interval for new Ɛ",
         "opacity": 0.15,
         "type": "scatter",
         "x": [],
         "xaxis": "x",
         "y": [],
         "yaxis": "y"
        },
        {
         "line": {
          "color": "purple"
         },
         "name": "Mean R profile for for Ɛ = 0",
         "type": "scatter",
         "x": [],
         "xaxis": "x",
         "y": [],
         "yaxis": "y"
        },
        {
         "fill": "toself",
         "fillcolor": "purple",
         "line": {
          "color": "purple"
         },
         "mode": "lines",
         "name": "Credible interval for Ɛ = 0",
         "opacity": 0.15,
         "type": "scatter",
         "x": [],
         "xaxis": "x",
         "y": [],
         "yaxis": "y"
        },
        {
         "line": {
          "color": "green"
         },
         "showlegend": false,
         "type": "scatter",
         "x": [
          8,
          9,
          10,
          11,
          12,
          13,
          14,
          15,
          16,
          17,
          18,
          19,
          20,
          21,
          22,
          23,
          24,
          25,
          26,
          27,
          28,
          29,
          30,
          31,
          32,
          33,
          34,
          35,
          36,
          37,
          38,
          39,
          40,
          41,
          42,
          43,
          44,
          45,
          46,
          47,
          48,
          49,
          50,
          51
         ],
         "xaxis": "x2",
         "y": [
          0.929449965473969,
          0.9075769674204757,
          1.2024366627520444,
          1.8291377461139193,
          2.3654253718473317,
          2.126821447947236,
          1.6373781831668337,
          1.2006806136254655,
          1.2101797966162222,
          1.1247294050901044,
          1.1159085895696608,
          1.125001345588838,
          1.233396757219604,
          1.2600494066449999,
          1.3374911405840042,
          1.4724758090982426,
          1.6083192568052584,
          1.5613950168280226,
          1.6745902058447109,
          1.7430067816302162,
          1.6676261810818467,
          1.5736019212477221,
          1.6263327346890206,
          1.6111141509142823,
          1.6399132317210843,
          1.5712914459530964,
          1.494440281428556,
          1.4011290732423516,
          1.3352578522548089,
          1.2655848932005467,
          1.2189732371982323,
          1.179136805257572,
          1.1435377714073727,
          1.0826823151061071,
          1.0964066308808937,
          1.1306073729448733,
          1.1503205884558387,
          1.1538897532238577,
          1.1612490245253695,
          1.1579591113619343,
          1.2248878663987084,
          1.2202776550062864,
          1.1859467015086473,
          1.141313866295823
         ],
         "yaxis": "y2"
        },
        {
         "fill": "toself",
         "fillcolor": "green",
         "line": {
          "color": "green"
         },
         "mode": "lines",
         "opacity": 0.15,
         "showlegend": false,
         "type": "scatter",
         "x": [
          8,
          9,
          10,
          11,
          12,
          13,
          14,
          15,
          16,
          17,
          18,
          19,
          20,
          21,
          22,
          23,
          24,
          25,
          26,
          27,
          28,
          29,
          30,
          31,
          32,
          33,
          34,
          35,
          36,
          37,
          38,
          39,
          40,
          41,
          42,
          43,
          44,
          45,
          46,
          47,
          48,
          49,
          50,
          51,
          51,
          50,
          49,
          48,
          47,
          46,
          45,
          44,
          43,
          42,
          41,
          40,
          39,
          38,
          37,
          36,
          35,
          34,
          33,
          32,
          31,
          30,
          29,
          28,
          27,
          26,
          25,
          24,
          23,
          22,
          21,
          20,
          19,
          18,
          17,
          16,
          15,
          14,
          13,
          12,
          11,
          10,
          9,
          8
         ],
         "xaxis": "x2",
         "y": [
          2.2974026478512473,
          2.039644848196163,
          2.3096821372407135,
          3.0223055019347957,
          3.6034500375311356,
          3.199990747352576,
          2.4389385444957434,
          1.7494086017355452,
          1.6814254534107356,
          1.516245714118473,
          1.4663855937205508,
          1.4457949052113832,
          1.5474579527203371,
          1.5540361500631654,
          1.6260617481616428,
          1.76664894422665,
          1.9105866256893556,
          1.849981644389953,
          1.9773461555585816,
          2.0511362344211146,
          1.9629677634173412,
          1.8519785436515257,
          1.90423172207727,
          1.8754803449301547,
          1.901329612930803,
          1.816880340186816,
          1.7226238973872114,
          1.6064966371236802,
          1.5196355339899303,
          1.4282420035622376,
          1.363922558423963,
          1.3078671049710415,
          1.2573735572303224,
          1.1808675553591523,
          1.1866693253569431,
          1.213532575917818,
          1.2255897531711288,
          1.2242430114176803,
          1.2298527253063276,
          1.2251482139160745,
          1.2942299798952908,
          1.288472686690187,
          1.2540447332047007,
          1.2085841646570437,
          1.0858688535293233,
          1.1286000627293948,
          1.1641531135220493,
          1.1694177692168315,
          1.1042429125375546,
          1.107217700749234,
          1.1003022215235871,
          1.096104279862128,
          1.073096358324773,
          1.0344829688501185,
          1.0153876815540428,
          1.0658132689641362,
          1.0904641837133167,
          1.1173294177347113,
          1.1490458094230662,
          1.1999633808162777,
          1.2461328582873348,
          1.3178464726160461,
          1.3788580937831254,
          1.4357241982342244,
          1.4059272676230548,
          1.4100642611089376,
          1.3510337579737475,
          1.428242038296725,
          1.495620753178549,
          1.4313142024855674,
          1.3271837533425055,
          1.3669486852081056,
          1.2392039455084405,
          1.108216584310605,
          1.0273633320570534,
          0.9866475989777387,
          0.8728231504159343,
          0.8417381840745383,
          0.8223214515753642,
          0.8527934162813399,
          0.7920184023565618,
          1.0424916405848643,
          1.3183114170794756,
          1.4282178656832576,
          0.9620338146904659,
          0.4698427487735156,
          0.2411400425346756,
          0.18658353311019912
         ],
         "yaxis": "y2"
        },
        {
         "line": {
          "color": "purple"
         },
         "showlegend": false,
         "type": "scatter",
         "x": [
          8,
          9,
          10,
          11,
          12,
          13,
          14,
          15,
          16,
          17,
          18,
          19,
          20,
          21,
          22,
          23,
          24,
          25,
          26,
          27,
          28,
          29,
          30,
          31,
          32,
          33,
          34,
          35,
          36,
          37,
          38,
          39,
          40,
          41,
          42,
          43,
          44,
          45,
          46,
          47,
          48,
          49,
          50,
          51
         ],
         "xaxis": "x2",
         "y": [],
         "yaxis": "y2"
        },
        {
         "fill": "toself",
         "fillcolor": "purple",
         "line": {
          "color": "purple"
         },
         "mode": "lines",
         "opacity": 0.15,
         "showlegend": false,
         "type": "scatter",
         "x": [
          8,
          9,
          10,
          11,
          12,
          13,
          14,
          15,
          16,
          17,
          18,
          19,
          20,
          21,
          22,
          23,
          24,
          25,
          26,
          27,
          28,
          29,
          30,
          31,
          32,
          33,
          34,
          35,
          36,
          37,
          38,
          39,
          40,
          41,
          42,
          43,
          44,
          45,
          46,
          47,
          48,
          49,
          50,
          51,
          51,
          50,
          49,
          48,
          47,
          46,
          45,
          44,
          43,
          42,
          41,
          40,
          39,
          38,
          37,
          36,
          35,
          34,
          33,
          32,
          31,
          30,
          29,
          28,
          27,
          26,
          25,
          24,
          23,
          22,
          21,
          20,
          19,
          18,
          17,
          16,
          15,
          14,
          13,
          12,
          11,
          10,
          9,
          8
         ],
         "xaxis": "x2",
         "y": [],
         "yaxis": "y2"
        },
        {
         "line": {
          "color": "green"
         },
         "showlegend": false,
         "type": "scatter",
         "x": [
          8,
          9,
          10,
          11,
          12,
          13,
          14,
          15,
          16,
          17,
          18,
          19,
          20,
          21,
          22,
          23,
          24,
          25,
          26,
          27,
          28,
          29,
          30,
          31,
          32,
          33,
          34,
          35,
          36,
          37,
          38,
          39,
          40,
          41,
          42,
          43,
          44,
          45,
          46,
          47,
          48,
          49,
          50,
          51
         ],
         "xaxis": "x3",
         "y": [
          0.4954407521881773,
          0.4896552601269694,
          0.6590950838059708,
          1.0245699248265938,
          1.3689890334410377,
          1.2788074162224197,
          1.0147065912633386,
          0.755989109165597,
          0.7654168663136488,
          0.7109707952016429,
          0.7064365156976221,
          0.7158618300846616,
          0.7941823581672439,
          0.8274642032407372,
          0.9010627956536843,
          1.0213102730009727,
          1.152003719764241,
          1.1564374428362023,
          1.2793038120751927,
          1.3664226069591159,
          1.335438821955841,
          1.281373493168257,
          1.34055142818179,
          1.3411256105900256,
          1.3775831569287864,
          1.3321501334906742,
          1.279559810350648,
          1.2124939548495626,
          1.168783348194754,
          1.1208785395491818,
          1.0922036046041885,
          1.0691533647444977,
          1.0495819580251977,
          1.005495899264158,
          1.02913053987674,
          1.071075102154436,
          1.0983427460618993,
          1.1090211674840336,
          1.1223341538525111,
          1.124547792439248,
          1.1946162420000508,
          1.1947537071165049,
          1.1651440644943512,
          1.1245239449495357
         ],
         "yaxis": "y3"
        },
        {
         "fill": "toself",
         "fillcolor": "green",
         "line": {
          "color": "green"
         },
         "mode": "lines",
         "opacity": 0.15,
         "showlegend": false,
         "type": "scatter",
         "x": [
          8,
          9,
          10,
          11,
          12,
          13,
          14,
          15,
          16,
          17,
          18,
          19,
          20,
          21,
          22,
          23,
          24,
          25,
          26,
          27,
          28,
          29,
          30,
          31,
          32,
          33,
          34,
          35,
          36,
          37,
          38,
          39,
          40,
          41,
          42,
          43,
          44,
          45,
          46,
          47,
          48,
          49,
          50,
          51,
          51,
          50,
          49,
          48,
          47,
          46,
          45,
          44,
          43,
          42,
          41,
          40,
          39,
          38,
          37,
          36,
          35,
          34,
          33,
          32,
          31,
          30,
          29,
          28,
          27,
          26,
          25,
          24,
          23,
          22,
          21,
          20,
          19,
          18,
          17,
          16,
          15,
          14,
          13,
          12,
          11,
          10,
          9,
          8
         ],
         "xaxis": "x3",
         "y": [
          1.224244443086017,
          1.0994293430015794,
          1.2637912382057603,
          1.6866066401307427,
          2.0678933464830314,
          1.9010434125006623,
          1.4967272887364753,
          1.095517547559105,
          1.0609601660384578,
          0.9576175121224261,
          0.9274717008675506,
          0.9184470669506616,
          0.9931384276333827,
          1.0147725638927427,
          1.086403659806327,
          1.2123490854513366,
          1.3504447044195835,
          1.3489846811293957,
          1.4862316172030938,
          1.5834918024462084,
          1.5505401603358395,
          1.4907506559463506,
          1.5550362341463861,
          1.5491979621961176,
          1.5864868555601,
          1.5308044834908918,
          1.4659630789755131,
          1.3816994006537369,
          1.321928301465712,
          1.2569520460089414,
          1.2142232279449865,
          1.1780038584988255,
          1.1460193077087768,
          1.0886963805847243,
          1.1056440478919523,
          1.1412407623497924,
          1.161891159636606,
          1.1688338853723264,
          1.1814743723357384,
          1.1833289911884846,
          1.2559699821484673,
          1.255899125756969,
          1.227127468105301,
          1.1864769153838997,
          1.0722596424512105,
          1.1115841593353275,
          1.142929842757662,
          1.1439223484055407,
          1.0758885825555817,
          1.0740067478840345,
          1.0617066760833929,
          1.0509773652561105,
          1.0211547172478932,
          0.9759995291635095,
          0.9484075739404287,
          0.9841460192753362,
          0.9948692406614215,
          1.0075053696747778,
          1.0243209071457384,
          1.0572395364543388,
          1.0852876895603711,
          1.1354003985109824,
          1.1760634560662782,
          1.2132763023069537,
          1.177847331059714,
          1.1711386704297264,
          1.1110446583842917,
          1.1582030932959413,
          1.189730656620725,
          1.1115993356942024,
          1.0000848926162584,
          0.9942078819175928,
          0.8703226899425784,
          0.7542959045232529,
          0.6797210013269408,
          0.6381447570233783,
          0.5566318323273455,
          0.5333346504565091,
          0.5199764838670319,
          0.5400594157424136,
          0.5010350953896304,
          0.6525002035921216,
          0.8042534972953326,
          0.8355904548011533,
          0.5412340618865109,
          0.2580522027368266,
          0.13024021731105978,
          0.09950604389087699
         ],
         "yaxis": "y3"
        },
        {
         "line": {
          "color": "purple"
         },
         "showlegend": false,
         "type": "scatter",
         "x": [
          8,
          9,
          10,
          11,
          12,
          13,
          14,
          15,
          16,
          17,
          18,
          19,
          20,
          21,
          22,
          23,
          24,
          25,
          26,
          27,
          28,
          29,
          30,
          31,
          32,
          33,
          34,
          35,
          36,
          37,
          38,
          39,
          40,
          41,
          42,
          43,
          44,
          45,
          46,
          47,
          48,
          49,
          50,
          51
         ],
         "xaxis": "x3",
         "y": [],
         "yaxis": "y3"
        },
        {
         "fill": "toself",
         "fillcolor": "purple",
         "line": {
          "color": "purple"
         },
         "mode": "lines",
         "opacity": 0.15,
         "showlegend": false,
         "type": "scatter",
         "x": [
          8,
          9,
          10,
          11,
          12,
          13,
          14,
          15,
          16,
          17,
          18,
          19,
          20,
          21,
          22,
          23,
          24,
          25,
          26,
          27,
          28,
          29,
          30,
          31,
          32,
          33,
          34,
          35,
          36,
          37,
          38,
          39,
          40,
          41,
          42,
          43,
          44,
          45,
          46,
          47,
          48,
          49,
          50,
          51,
          51,
          50,
          49,
          48,
          47,
          46,
          45,
          44,
          43,
          42,
          41,
          40,
          39,
          38,
          37,
          36,
          35,
          34,
          33,
          32,
          31,
          30,
          29,
          28,
          27,
          26,
          25,
          24,
          23,
          22,
          21,
          20,
          19,
          18,
          17,
          16,
          15,
          14,
          13,
          12,
          11,
          10,
          9,
          8
         ],
         "xaxis": "x3",
         "y": [],
         "yaxis": "y3"
        },
        {
         "line": {
          "color": "green"
         },
         "showlegend": false,
         "type": "scatter",
         "x": [
          8,
          9,
          10,
          11,
          12,
          13,
          14,
          15,
          16,
          17,
          18,
          19,
          20,
          21,
          22,
          23,
          24,
          25,
          26,
          27,
          28,
          29,
          30,
          31,
          32,
          33,
          34,
          35,
          36,
          37,
          38,
          39,
          40,
          41,
          42,
          43,
          44,
          45,
          46,
          47,
          48,
          49,
          50,
          51
         ],
         "xaxis": "x4",
         "y": [
          0.33773880840539583,
          0.33527417425366673,
          0.4539715752996086,
          0.7116013328446801,
          0.9633030623931079,
          0.9143446197172197,
          0.7351722750886317,
          0.551675602476484,
          0.5597141011567096,
          0.5197638046628584,
          0.5168014017867407,
          0.524950727139107,
          0.5856460179379879,
          0.6160148015151217,
          0.6794221079311755,
          0.7818429940290017,
          0.897494717347427,
          0.9183934738584028,
          1.035111778820446,
          1.1237532961031615,
          1.1136851598049358,
          1.080732502747115,
          1.1402279348182116,
          1.1486614818253706,
          1.187626142664543,
          1.1562038127990548,
          1.1187246160926854,
          1.0686463409434834,
          1.0392437016443716,
          1.0058957622756295,
          0.9893470012340847,
          0.9779700851929475,
          0.9699304411257734,
          0.9386202322493924,
          0.9696708841906788,
          1.0175348353362919,
          1.0508919668185062,
          1.0675392847457366,
          1.0859660612081765,
          1.0930293902565582,
          1.1658212181650194,
          1.1702892623745154,
          1.1450695671722873,
          1.1082292614497968
         ],
         "yaxis": "y4"
        },
        {
         "fill": "toself",
         "fillcolor": "green",
         "line": {
          "color": "green"
         },
         "mode": "lines",
         "opacity": 0.15,
         "showlegend": false,
         "type": "scatter",
         "x": [
          8,
          9,
          10,
          11,
          12,
          13,
          14,
          15,
          16,
          17,
          18,
          19,
          20,
          21,
          22,
          23,
          24,
          25,
          26,
          27,
          28,
          29,
          30,
          31,
          32,
          33,
          34,
          35,
          36,
          37,
          38,
          39,
          40,
          41,
          42,
          43,
          44,
          45,
          46,
          47,
          48,
          49,
          50,
          51,
          51,
          50,
          49,
          48,
          47,
          46,
          45,
          44,
          43,
          42,
          41,
          40,
          39,
          38,
          37,
          36,
          35,
          34,
          33,
          32,
          31,
          30,
          29,
          28,
          27,
          26,
          25,
          24,
          23,
          22,
          21,
          20,
          19,
          18,
          17,
          16,
          15,
          14,
          13,
          12,
          11,
          10,
          9,
          8
         ],
         "xaxis": "x4",
         "y": [
          0.834482708189271,
          0.7525604491492689,
          0.8699305279687893,
          1.169829876147243,
          1.4504009111261222,
          1.3525414495781827,
          1.0797880255696934,
          0.7974836324790793,
          0.7749944983188779,
          0.6997987210379751,
          0.6782199344934119,
          0.6729903891331567,
          0.7312866639202318,
          0.7535616884890097,
          0.8160584786645736,
          0.9233994132978645,
          1.0451135102095217,
          1.0623479544914327,
          1.1912360014383208,
          1.2899444597689806,
          1.2815776961515515,
          1.2475670443118074,
          1.3141346757079604,
          1.3196620226965432,
          1.3611276651577222,
          1.3225935378964324,
          1.2759163633547381,
          1.2121931139130337,
          1.169934815284696,
          1.1225399985563966,
          1.094318213011888,
          1.0718676243530363,
          1.0531463778521986,
          1.0102652461028672,
          1.0354216045768243,
          1.077595731267379,
          1.1050549983754032,
          1.1188183572246058,
          1.1372989326963296,
          1.1447259920600137,
          1.2203032549481774,
          1.2252626821555754,
          1.201593634192724,
          1.1653391840239697,
          1.0589324429721143,
          1.0949883867387413,
          1.122315076703301,
          1.1193114654847214,
          1.0487069028077727,
          1.0423835762222349,
          1.0252558503560354,
          1.008746092269586,
          0.9732567657644836,
          0.9230557015553839,
          0.8890596517272652,
          0.9134928442463973,
          0.914229878266224,
          0.9170476525110847,
          0.9237999135643149,
          0.9446796568055548,
          0.9611054836894765,
          0.9972559793255202,
          1.025220467782611,
          1.0504751853609346,
          1.0134016786082654,
          1.0014004727793993,
          0.943374105708354,
          0.9738850210909734,
          0.9874301261077341,
          0.9081761917673666,
          0.8017035222598261,
          0.7804907521582569,
          0.6701871522485193,
          0.5714067516178428,
          0.5076829220185647,
          0.4715033091840779,
          0.4085943107435155,
          0.39032139543741673,
          0.38018674437238853,
          0.3951447233208432,
          0.36640649492486854,
          0.47482504259575753,
          0.5785057195992834,
          0.5903982613456672,
          0.37649745817600033,
          0.17786657322942304,
          0.08920950721737071,
          0.06784265579580617
         ],
         "yaxis": "y4"
        },
        {
         "line": {
          "color": "purple"
         },
         "showlegend": false,
         "type": "scatter",
         "x": [
          8,
          9,
          10,
          11,
          12,
          13,
          14,
          15,
          16,
          17,
          18,
          19,
          20,
          21,
          22,
          23,
          24,
          25,
          26,
          27,
          28,
          29,
          30,
          31,
          32,
          33,
          34,
          35,
          36,
          37,
          38,
          39,
          40,
          41,
          42,
          43,
          44,
          45,
          46,
          47,
          48,
          49,
          50,
          51
         ],
         "xaxis": "x4",
         "y": [],
         "yaxis": "y4"
        },
        {
         "fill": "toself",
         "fillcolor": "purple",
         "line": {
          "color": "purple"
         },
         "mode": "lines",
         "opacity": 0.15,
         "showlegend": false,
         "type": "scatter",
         "x": [
          8,
          9,
          10,
          11,
          12,
          13,
          14,
          15,
          16,
          17,
          18,
          19,
          20,
          21,
          22,
          23,
          24,
          25,
          26,
          27,
          28,
          29,
          30,
          31,
          32,
          33,
          34,
          35,
          36,
          37,
          38,
          39,
          40,
          41,
          42,
          43,
          44,
          45,
          46,
          47,
          48,
          49,
          50,
          51,
          51,
          50,
          49,
          48,
          47,
          46,
          45,
          44,
          43,
          42,
          41,
          40,
          39,
          38,
          37,
          36,
          35,
          34,
          33,
          32,
          31,
          30,
          29,
          28,
          27,
          26,
          25,
          24,
          23,
          22,
          21,
          20,
          19,
          18,
          17,
          16,
          15,
          14,
          13,
          12,
          11,
          10,
          9,
          8
         ],
         "xaxis": "x4",
         "y": [],
         "yaxis": "y4"
        },
        {
         "line": {
          "color": "green"
         },
         "showlegend": false,
         "type": "scatter",
         "x": [
          8,
          9,
          10,
          11,
          12,
          13,
          14,
          15,
          16,
          17,
          18,
          19,
          20,
          21,
          22,
          23,
          24,
          25,
          26,
          27,
          28,
          29,
          30,
          31,
          32,
          33,
          34,
          35,
          36,
          37,
          38,
          39,
          40,
          41,
          42,
          43,
          44,
          45,
          46,
          47,
          48,
          49,
          50,
          51
         ],
         "xaxis": "x5",
         "y": [
          0.25619210409285387,
          0.2549067446241298,
          0.34622208469028376,
          0.5450994185278708,
          0.7431085245893565,
          0.7115667105254493,
          0.5763938331958346,
          0.4343027583929434,
          0.44115571855223334,
          0.4096054837445481,
          0.4074310670000561,
          0.4144285309432238,
          0.46385095420323247,
          0.490643900114698,
          0.5453040513135501,
          0.6333619752574311,
          0.7351238375749096,
          0.7616589814232719,
          0.8692429541861236,
          0.9543181559364468,
          0.9551210595081315,
          0.9344403509034152,
          0.9920062485508695,
          1.0045165378280845,
          1.0437172509454973,
          1.0213213065292832,
          0.9938175610824084,
          0.9553224625188672,
          0.9355682369157462,
          0.9123250575624632,
          0.9042140147125255,
          0.901139400895315,
          0.9015408340862653,
          0.8801124285275892,
          0.916734644451942,
          0.9691204456885643,
          1.0073976032958443,
          1.0290716506644406,
          1.0519004711384259,
          1.0632458865429142,
          1.1383961141484649,
          1.1468188161232162,
          1.1256850310226068,
          1.092407818894398
         ],
         "yaxis": "y5"
        },
        {
         "fill": "toself",
         "fillcolor": "green",
         "line": {
          "color": "green"
         },
         "mode": "lines",
         "opacity": 0.15,
         "showlegend": false,
         "type": "scatter",
         "x": [
          8,
          9,
          10,
          11,
          12,
          13,
          14,
          15,
          16,
          17,
          18,
          19,
          20,
          21,
          22,
          23,
          24,
          25,
          26,
          27,
          28,
          29,
          30,
          31,
          32,
          33,
          34,
          35,
          36,
          37,
          38,
          39,
          40,
          41,
          42,
          43,
          44,
          45,
          46,
          47,
          48,
          49,
          50,
          51,
          51,
          50,
          49,
          48,
          47,
          46,
          45,
          44,
          43,
          42,
          41,
          40,
          39,
          38,
          37,
          36,
          35,
          34,
          33,
          32,
          31,
          30,
          29,
          28,
          27,
          26,
          25,
          24,
          23,
          22,
          21,
          20,
          19,
          18,
          17,
          16,
          15,
          14,
          13,
          12,
          11,
          10,
          9,
          8
         ],
         "xaxis": "x5",
         "y": [
          0.6329696370884255,
          0.5720761411580092,
          0.6632426203339034,
          0.8954894088945037,
          1.1169648819705582,
          1.0497585786021875,
          0.8445633476072427,
          0.6269355423648736,
          0.6104609945269346,
          0.5513600791548247,
          0.5345628364509593,
          0.5310675819803985,
          0.5787239593922187,
          0.5993520055617637,
          0.653558630095738,
          0.745856783765294,
          0.8526818973010265,
          0.8765025340510312,
          0.9942599896277496,
          1.0884348239945758,
          1.0922610065846776,
          1.0726653309376708,
          1.137898656220429,
          1.149390107433341,
          1.1918465880901292,
          1.164257201224802,
          1.1295223372837788,
          1.0798021394889188,
          1.0494026340718652,
          1.0142037695358306,
          0.9960974467430241,
          0.9834900754969386,
          0.9744889764451319,
          0.9427190858762834,
          0.9740225055897247,
          1.0212612145972513,
          1.0542499284705094,
          1.0736747456887854,
          1.096969834836597,
          1.109100419584205,
          1.1870483444380648,
          1.1964549691719204,
          1.177373237871037,
          1.1451317129847565,
          1.045856243248624,
          1.0787619946823348,
          1.1022798008815409,
          1.0955300750845793,
          1.022604474946454,
          1.01221910414844,
          0.9907150375572396,
          0.96910821703326,
          0.928934007839933,
          0.8748971856780274,
          0.8361003112138795,
          0.8518072615916069,
          0.8453272819192904,
          0.8412585254893835,
          0.8410841281496215,
          0.8536615230381467,
          0.8623479405962793,
          0.8890407152578937,
          0.9086448247234472,
          0.9261775487290579,
          0.8892309667331878,
          0.8746110604378757,
          0.8196350109939063,
          0.8400976265900472,
          0.8437878037385381,
          0.7674682195824486,
          0.6687267077023868,
          0.6421391048927964,
          0.5447243042612478,
          0.4598098561231407,
          0.40509474444761895,
          0.37385756477775056,
          0.3227531018054603,
          0.30778738246063764,
          0.2996310316166992,
          0.31154311901931175,
          0.28880361699279594,
          0.3731938103968095,
          0.45168690509572057,
          0.4564275061383133,
          0.2886355500425394,
          0.13569734082266885,
          0.06783692525857846,
          0.05146301709092499
         ],
         "yaxis": "y5"
        },
        {
         "line": {
          "color": "purple"
         },
         "showlegend": false,
         "type": "scatter",
         "x": [
          8,
          9,
          10,
          11,
          12,
          13,
          14,
          15,
          16,
          17,
          18,
          19,
          20,
          21,
          22,
          23,
          24,
          25,
          26,
          27,
          28,
          29,
          30,
          31,
          32,
          33,
          34,
          35,
          36,
          37,
          38,
          39,
          40,
          41,
          42,
          43,
          44,
          45,
          46,
          47,
          48,
          49,
          50,
          51
         ],
         "xaxis": "x5",
         "y": [],
         "yaxis": "y5"
        },
        {
         "fill": "toself",
         "fillcolor": "purple",
         "line": {
          "color": "purple"
         },
         "mode": "lines",
         "opacity": 0.15,
         "showlegend": false,
         "type": "scatter",
         "x": [
          8,
          9,
          10,
          11,
          12,
          13,
          14,
          15,
          16,
          17,
          18,
          19,
          20,
          21,
          22,
          23,
          24,
          25,
          26,
          27,
          28,
          29,
          30,
          31,
          32,
          33,
          34,
          35,
          36,
          37,
          38,
          39,
          40,
          41,
          42,
          43,
          44,
          45,
          46,
          47,
          48,
          49,
          50,
          51,
          51,
          50,
          49,
          48,
          47,
          46,
          45,
          44,
          43,
          42,
          41,
          40,
          39,
          38,
          37,
          36,
          35,
          34,
          33,
          32,
          31,
          30,
          29,
          28,
          27,
          26,
          25,
          24,
          23,
          22,
          21,
          20,
          19,
          18,
          17,
          16,
          15,
          14,
          13,
          12,
          11,
          10,
          9,
          8
         ],
         "xaxis": "x5",
         "y": [],
         "yaxis": "y5"
        }
       ],
       "layout": {
        "annotations": [
         {
          "font": {
           "size": 16
          },
          "showarrow": false,
          "text": "Ɛ = 0.2",
          "x": 0.225,
          "xanchor": "center",
          "xref": "paper",
          "y": 1,
          "yanchor": "bottom",
          "yref": "paper"
         },
         {
          "font": {
           "size": 16
          },
          "showarrow": false,
          "text": "Ɛ = 0.5",
          "x": 0.775,
          "xanchor": "center",
          "xref": "paper",
          "y": 1,
          "yanchor": "bottom",
          "yref": "paper"
         },
         {
          "font": {
           "size": 16
          },
          "showarrow": false,
          "text": "Ɛ = 1.0",
          "x": 0.225,
          "xanchor": "center",
          "xref": "paper",
          "y": 0.6111111111111112,
          "yanchor": "bottom",
          "yref": "paper"
         },
         {
          "font": {
           "size": 16
          },
          "showarrow": false,
          "text": "Ɛ = 1.5",
          "x": 0.775,
          "xanchor": "center",
          "xref": "paper",
          "y": 0.6111111111111112,
          "yanchor": "bottom",
          "yref": "paper"
         },
         {
          "font": {
           "size": 16
          },
          "showarrow": false,
          "text": "Ɛ = 2.0",
          "x": 0.225,
          "xanchor": "center",
          "xref": "paper",
          "y": 0.22222222222222224,
          "yanchor": "bottom",
          "yref": "paper"
         },
         {
          "showarrow": false,
          "text": "Prior R",
          "x": 1,
          "xanchor": "right",
          "xref": "x domain",
          "y": 3.4657359027997274,
          "yanchor": "bottom",
          "yref": "y"
         },
         {
          "showarrow": false,
          "text": "Prior R",
          "x": 1,
          "xanchor": "right",
          "xref": "x2 domain",
          "y": 3.4657359027997274,
          "yanchor": "bottom",
          "yref": "y2"
         },
         {
          "showarrow": false,
          "text": "Prior R",
          "x": 1,
          "xanchor": "right",
          "xref": "x2 domain",
          "y": 3.4657359027997274,
          "yanchor": "bottom",
          "yref": "y2"
         },
         {
          "showarrow": false,
          "text": "Prior R",
          "x": 1,
          "xanchor": "right",
          "xref": "x3 domain",
          "y": 3.4657359027997274,
          "yanchor": "bottom",
          "yref": "y3"
         },
         {
          "showarrow": false,
          "text": "Prior R",
          "x": 1,
          "xanchor": "right",
          "xref": "x3 domain",
          "y": 3.4657359027997274,
          "yanchor": "bottom",
          "yref": "y3"
         },
         {
          "showarrow": false,
          "text": "Prior R",
          "x": 1,
          "xanchor": "right",
          "xref": "x4 domain",
          "y": 3.4657359027997274,
          "yanchor": "bottom",
          "yref": "y4"
         },
         {
          "showarrow": false,
          "text": "Prior R",
          "x": 1,
          "xanchor": "right",
          "xref": "x4 domain",
          "y": 3.4657359027997274,
          "yanchor": "bottom",
          "yref": "y4"
         },
         {
          "showarrow": false,
          "text": "Prior R",
          "x": 1,
          "xanchor": "right",
          "xref": "x5 domain",
          "y": 3.4657359027997274,
          "yanchor": "bottom",
          "yref": "y5"
         },
         {
          "showarrow": false,
          "text": "Prior R",
          "x": 1,
          "xanchor": "right",
          "xref": "x5 domain",
          "y": 3.4657359027997274,
          "yanchor": "bottom",
          "yref": "y5"
         }
        ],
        "height": 800,
        "legend": {
         "orientation": "h",
         "x": 1,
         "xanchor": "right",
         "y": 1.02,
         "yanchor": "bottom"
        },
        "plot_bgcolor": "white",
        "shapes": [
         {
          "fillcolor": "black",
          "line": {
           "dash": "dot"
          },
          "type": "line",
          "x0": 0,
          "x1": 1,
          "xref": "x domain",
          "y0": 3.4657359027997274,
          "y1": 3.4657359027997274,
          "yref": "y"
         },
         {
          "fillcolor": "black",
          "line": {
           "dash": "dot"
          },
          "type": "line",
          "x0": 0,
          "x1": 1,
          "xref": "x2 domain",
          "y0": 3.4657359027997274,
          "y1": 3.4657359027997274,
          "yref": "y2"
         },
         {
          "fillcolor": "black",
          "line": {
           "dash": "dot"
          },
          "type": "line",
          "x0": 0,
          "x1": 1,
          "xref": "x2 domain",
          "y0": 3.4657359027997274,
          "y1": 3.4657359027997274,
          "yref": "y2"
         },
         {
          "fillcolor": "black",
          "line": {
           "dash": "dot"
          },
          "type": "line",
          "x0": 0,
          "x1": 1,
          "xref": "x3 domain",
          "y0": 3.4657359027997274,
          "y1": 3.4657359027997274,
          "yref": "y3"
         },
         {
          "fillcolor": "black",
          "line": {
           "dash": "dot"
          },
          "type": "line",
          "x0": 0,
          "x1": 1,
          "xref": "x3 domain",
          "y0": 3.4657359027997274,
          "y1": 3.4657359027997274,
          "yref": "y3"
         },
         {
          "fillcolor": "black",
          "line": {
           "dash": "dot"
          },
          "type": "line",
          "x0": 0,
          "x1": 1,
          "xref": "x4 domain",
          "y0": 3.4657359027997274,
          "y1": 3.4657359027997274,
          "yref": "y4"
         },
         {
          "fillcolor": "black",
          "line": {
           "dash": "dot"
          },
          "type": "line",
          "x0": 0,
          "x1": 1,
          "xref": "x4 domain",
          "y0": 3.4657359027997274,
          "y1": 3.4657359027997274,
          "yref": "y4"
         },
         {
          "fillcolor": "black",
          "line": {
           "dash": "dot"
          },
          "type": "line",
          "x0": 0,
          "x1": 1,
          "xref": "x5 domain",
          "y0": 3.4657359027997274,
          "y1": 3.4657359027997274,
          "yref": "y5"
         },
         {
          "fillcolor": "black",
          "line": {
           "dash": "dot"
          },
          "type": "line",
          "x0": 0,
          "x1": 1,
          "xref": "x5 domain",
          "y0": 3.4657359027997274,
          "y1": 3.4657359027997274,
          "yref": "y5"
         }
        ],
        "template": {
         "data": {
          "bar": [
           {
            "error_x": {
             "color": "#2a3f5f"
            },
            "error_y": {
             "color": "#2a3f5f"
            },
            "marker": {
             "line": {
              "color": "#E5ECF6",
              "width": 0.5
             }
            },
            "type": "bar"
           }
          ],
          "barpolar": [
           {
            "marker": {
             "line": {
              "color": "#E5ECF6",
              "width": 0.5
             }
            },
            "type": "barpolar"
           }
          ],
          "carpet": [
           {
            "aaxis": {
             "endlinecolor": "#2a3f5f",
             "gridcolor": "white",
             "linecolor": "white",
             "minorgridcolor": "white",
             "startlinecolor": "#2a3f5f"
            },
            "baxis": {
             "endlinecolor": "#2a3f5f",
             "gridcolor": "white",
             "linecolor": "white",
             "minorgridcolor": "white",
             "startlinecolor": "#2a3f5f"
            },
            "type": "carpet"
           }
          ],
          "choropleth": [
           {
            "colorbar": {
             "outlinewidth": 0,
             "ticks": ""
            },
            "type": "choropleth"
           }
          ],
          "contour": [
           {
            "colorbar": {
             "outlinewidth": 0,
             "ticks": ""
            },
            "colorscale": [
             [
              0,
              "#0d0887"
             ],
             [
              0.1111111111111111,
              "#46039f"
             ],
             [
              0.2222222222222222,
              "#7201a8"
             ],
             [
              0.3333333333333333,
              "#9c179e"
             ],
             [
              0.4444444444444444,
              "#bd3786"
             ],
             [
              0.5555555555555556,
              "#d8576b"
             ],
             [
              0.6666666666666666,
              "#ed7953"
             ],
             [
              0.7777777777777778,
              "#fb9f3a"
             ],
             [
              0.8888888888888888,
              "#fdca26"
             ],
             [
              1,
              "#f0f921"
             ]
            ],
            "type": "contour"
           }
          ],
          "contourcarpet": [
           {
            "colorbar": {
             "outlinewidth": 0,
             "ticks": ""
            },
            "type": "contourcarpet"
           }
          ],
          "heatmap": [
           {
            "colorbar": {
             "outlinewidth": 0,
             "ticks": ""
            },
            "colorscale": [
             [
              0,
              "#0d0887"
             ],
             [
              0.1111111111111111,
              "#46039f"
             ],
             [
              0.2222222222222222,
              "#7201a8"
             ],
             [
              0.3333333333333333,
              "#9c179e"
             ],
             [
              0.4444444444444444,
              "#bd3786"
             ],
             [
              0.5555555555555556,
              "#d8576b"
             ],
             [
              0.6666666666666666,
              "#ed7953"
             ],
             [
              0.7777777777777778,
              "#fb9f3a"
             ],
             [
              0.8888888888888888,
              "#fdca26"
             ],
             [
              1,
              "#f0f921"
             ]
            ],
            "type": "heatmap"
           }
          ],
          "heatmapgl": [
           {
            "colorbar": {
             "outlinewidth": 0,
             "ticks": ""
            },
            "colorscale": [
             [
              0,
              "#0d0887"
             ],
             [
              0.1111111111111111,
              "#46039f"
             ],
             [
              0.2222222222222222,
              "#7201a8"
             ],
             [
              0.3333333333333333,
              "#9c179e"
             ],
             [
              0.4444444444444444,
              "#bd3786"
             ],
             [
              0.5555555555555556,
              "#d8576b"
             ],
             [
              0.6666666666666666,
              "#ed7953"
             ],
             [
              0.7777777777777778,
              "#fb9f3a"
             ],
             [
              0.8888888888888888,
              "#fdca26"
             ],
             [
              1,
              "#f0f921"
             ]
            ],
            "type": "heatmapgl"
           }
          ],
          "histogram": [
           {
            "marker": {
             "colorbar": {
              "outlinewidth": 0,
              "ticks": ""
             }
            },
            "type": "histogram"
           }
          ],
          "histogram2d": [
           {
            "colorbar": {
             "outlinewidth": 0,
             "ticks": ""
            },
            "colorscale": [
             [
              0,
              "#0d0887"
             ],
             [
              0.1111111111111111,
              "#46039f"
             ],
             [
              0.2222222222222222,
              "#7201a8"
             ],
             [
              0.3333333333333333,
              "#9c179e"
             ],
             [
              0.4444444444444444,
              "#bd3786"
             ],
             [
              0.5555555555555556,
              "#d8576b"
             ],
             [
              0.6666666666666666,
              "#ed7953"
             ],
             [
              0.7777777777777778,
              "#fb9f3a"
             ],
             [
              0.8888888888888888,
              "#fdca26"
             ],
             [
              1,
              "#f0f921"
             ]
            ],
            "type": "histogram2d"
           }
          ],
          "histogram2dcontour": [
           {
            "colorbar": {
             "outlinewidth": 0,
             "ticks": ""
            },
            "colorscale": [
             [
              0,
              "#0d0887"
             ],
             [
              0.1111111111111111,
              "#46039f"
             ],
             [
              0.2222222222222222,
              "#7201a8"
             ],
             [
              0.3333333333333333,
              "#9c179e"
             ],
             [
              0.4444444444444444,
              "#bd3786"
             ],
             [
              0.5555555555555556,
              "#d8576b"
             ],
             [
              0.6666666666666666,
              "#ed7953"
             ],
             [
              0.7777777777777778,
              "#fb9f3a"
             ],
             [
              0.8888888888888888,
              "#fdca26"
             ],
             [
              1,
              "#f0f921"
             ]
            ],
            "type": "histogram2dcontour"
           }
          ],
          "mesh3d": [
           {
            "colorbar": {
             "outlinewidth": 0,
             "ticks": ""
            },
            "type": "mesh3d"
           }
          ],
          "parcoords": [
           {
            "line": {
             "colorbar": {
              "outlinewidth": 0,
              "ticks": ""
             }
            },
            "type": "parcoords"
           }
          ],
          "pie": [
           {
            "automargin": true,
            "type": "pie"
           }
          ],
          "scatter": [
           {
            "marker": {
             "colorbar": {
              "outlinewidth": 0,
              "ticks": ""
             }
            },
            "type": "scatter"
           }
          ],
          "scatter3d": [
           {
            "line": {
             "colorbar": {
              "outlinewidth": 0,
              "ticks": ""
             }
            },
            "marker": {
             "colorbar": {
              "outlinewidth": 0,
              "ticks": ""
             }
            },
            "type": "scatter3d"
           }
          ],
          "scattercarpet": [
           {
            "marker": {
             "colorbar": {
              "outlinewidth": 0,
              "ticks": ""
             }
            },
            "type": "scattercarpet"
           }
          ],
          "scattergeo": [
           {
            "marker": {
             "colorbar": {
              "outlinewidth": 0,
              "ticks": ""
             }
            },
            "type": "scattergeo"
           }
          ],
          "scattergl": [
           {
            "marker": {
             "colorbar": {
              "outlinewidth": 0,
              "ticks": ""
             }
            },
            "type": "scattergl"
           }
          ],
          "scattermapbox": [
           {
            "marker": {
             "colorbar": {
              "outlinewidth": 0,
              "ticks": ""
             }
            },
            "type": "scattermapbox"
           }
          ],
          "scatterpolar": [
           {
            "marker": {
             "colorbar": {
              "outlinewidth": 0,
              "ticks": ""
             }
            },
            "type": "scatterpolar"
           }
          ],
          "scatterpolargl": [
           {
            "marker": {
             "colorbar": {
              "outlinewidth": 0,
              "ticks": ""
             }
            },
            "type": "scatterpolargl"
           }
          ],
          "scatterternary": [
           {
            "marker": {
             "colorbar": {
              "outlinewidth": 0,
              "ticks": ""
             }
            },
            "type": "scatterternary"
           }
          ],
          "surface": [
           {
            "colorbar": {
             "outlinewidth": 0,
             "ticks": ""
            },
            "colorscale": [
             [
              0,
              "#0d0887"
             ],
             [
              0.1111111111111111,
              "#46039f"
             ],
             [
              0.2222222222222222,
              "#7201a8"
             ],
             [
              0.3333333333333333,
              "#9c179e"
             ],
             [
              0.4444444444444444,
              "#bd3786"
             ],
             [
              0.5555555555555556,
              "#d8576b"
             ],
             [
              0.6666666666666666,
              "#ed7953"
             ],
             [
              0.7777777777777778,
              "#fb9f3a"
             ],
             [
              0.8888888888888888,
              "#fdca26"
             ],
             [
              1,
              "#f0f921"
             ]
            ],
            "type": "surface"
           }
          ],
          "table": [
           {
            "cells": {
             "fill": {
              "color": "#EBF0F8"
             },
             "line": {
              "color": "white"
             }
            },
            "header": {
             "fill": {
              "color": "#C8D4E3"
             },
             "line": {
              "color": "white"
             }
            },
            "type": "table"
           }
          ]
         },
         "layout": {
          "annotationdefaults": {
           "arrowcolor": "#2a3f5f",
           "arrowhead": 0,
           "arrowwidth": 1
          },
          "autotypenumbers": "strict",
          "coloraxis": {
           "colorbar": {
            "outlinewidth": 0,
            "ticks": ""
           }
          },
          "colorscale": {
           "diverging": [
            [
             0,
             "#8e0152"
            ],
            [
             0.1,
             "#c51b7d"
            ],
            [
             0.2,
             "#de77ae"
            ],
            [
             0.3,
             "#f1b6da"
            ],
            [
             0.4,
             "#fde0ef"
            ],
            [
             0.5,
             "#f7f7f7"
            ],
            [
             0.6,
             "#e6f5d0"
            ],
            [
             0.7,
             "#b8e186"
            ],
            [
             0.8,
             "#7fbc41"
            ],
            [
             0.9,
             "#4d9221"
            ],
            [
             1,
             "#276419"
            ]
           ],
           "sequential": [
            [
             0,
             "#0d0887"
            ],
            [
             0.1111111111111111,
             "#46039f"
            ],
            [
             0.2222222222222222,
             "#7201a8"
            ],
            [
             0.3333333333333333,
             "#9c179e"
            ],
            [
             0.4444444444444444,
             "#bd3786"
            ],
            [
             0.5555555555555556,
             "#d8576b"
            ],
            [
             0.6666666666666666,
             "#ed7953"
            ],
            [
             0.7777777777777778,
             "#fb9f3a"
            ],
            [
             0.8888888888888888,
             "#fdca26"
            ],
            [
             1,
             "#f0f921"
            ]
           ],
           "sequentialminus": [
            [
             0,
             "#0d0887"
            ],
            [
             0.1111111111111111,
             "#46039f"
            ],
            [
             0.2222222222222222,
             "#7201a8"
            ],
            [
             0.3333333333333333,
             "#9c179e"
            ],
            [
             0.4444444444444444,
             "#bd3786"
            ],
            [
             0.5555555555555556,
             "#d8576b"
            ],
            [
             0.6666666666666666,
             "#ed7953"
            ],
            [
             0.7777777777777778,
             "#fb9f3a"
            ],
            [
             0.8888888888888888,
             "#fdca26"
            ],
            [
             1,
             "#f0f921"
            ]
           ]
          },
          "colorway": [
           "#636efa",
           "#EF553B",
           "#00cc96",
           "#ab63fa",
           "#FFA15A",
           "#19d3f3",
           "#FF6692",
           "#B6E880",
           "#FF97FF",
           "#FECB52"
          ],
          "font": {
           "color": "#2a3f5f"
          },
          "geo": {
           "bgcolor": "white",
           "lakecolor": "white",
           "landcolor": "#E5ECF6",
           "showlakes": true,
           "showland": true,
           "subunitcolor": "white"
          },
          "hoverlabel": {
           "align": "left"
          },
          "hovermode": "closest",
          "mapbox": {
           "style": "light"
          },
          "paper_bgcolor": "white",
          "plot_bgcolor": "#E5ECF6",
          "polar": {
           "angularaxis": {
            "gridcolor": "white",
            "linecolor": "white",
            "ticks": ""
           },
           "bgcolor": "#E5ECF6",
           "radialaxis": {
            "gridcolor": "white",
            "linecolor": "white",
            "ticks": ""
           }
          },
          "scene": {
           "xaxis": {
            "backgroundcolor": "#E5ECF6",
            "gridcolor": "white",
            "gridwidth": 2,
            "linecolor": "white",
            "showbackground": true,
            "ticks": "",
            "zerolinecolor": "white"
           },
           "yaxis": {
            "backgroundcolor": "#E5ECF6",
            "gridcolor": "white",
            "gridwidth": 2,
            "linecolor": "white",
            "showbackground": true,
            "ticks": "",
            "zerolinecolor": "white"
           },
           "zaxis": {
            "backgroundcolor": "#E5ECF6",
            "gridcolor": "white",
            "gridwidth": 2,
            "linecolor": "white",
            "showbackground": true,
            "ticks": "",
            "zerolinecolor": "white"
           }
          },
          "shapedefaults": {
           "line": {
            "color": "#2a3f5f"
           }
          },
          "ternary": {
           "aaxis": {
            "gridcolor": "white",
            "linecolor": "white",
            "ticks": ""
           },
           "baxis": {
            "gridcolor": "white",
            "linecolor": "white",
            "ticks": ""
           },
           "bgcolor": "#E5ECF6",
           "caxis": {
            "gridcolor": "white",
            "linecolor": "white",
            "ticks": ""
           }
          },
          "title": {
           "x": 0.05
          },
          "xaxis": {
           "automargin": true,
           "gridcolor": "white",
           "linecolor": "white",
           "ticks": "",
           "title": {
            "standoff": 15
           },
           "zerolinecolor": "white",
           "zerolinewidth": 2
          },
          "yaxis": {
           "automargin": true,
           "gridcolor": "white",
           "linecolor": "white",
           "ticks": "",
           "title": {
            "standoff": 15
           },
           "zerolinecolor": "white",
           "zerolinewidth": 2
          }
         }
        },
        "title": {
         "text": "ON"
        },
        "width": 700,
        "xaxis": {
         "anchor": "y",
         "domain": [
          0,
          0.45
         ],
         "linecolor": "black"
        },
        "xaxis2": {
         "anchor": "y2",
         "domain": [
          0.55,
          1
         ],
         "linecolor": "black"
        },
        "xaxis3": {
         "anchor": "y3",
         "domain": [
          0,
          0.45
         ],
         "linecolor": "black"
        },
        "xaxis4": {
         "anchor": "y4",
         "domain": [
          0.55,
          1
         ],
         "linecolor": "black"
        },
        "xaxis5": {
         "anchor": "y5",
         "domain": [
          0,
          0.45
         ],
         "linecolor": "black",
         "title": {
          "text": "Time (days)"
         }
        },
        "xaxis6": {
         "anchor": "y6",
         "domain": [
          0.55,
          1
         ],
         "linecolor": "black",
         "title": {
          "text": "Time (days)"
         }
        },
        "yaxis": {
         "anchor": "x",
         "domain": [
          0.7777777777777778,
          1
         ],
         "linecolor": "black",
         "title": {
          "text": "R<sub>t</sub>"
         }
        },
        "yaxis2": {
         "anchor": "x2",
         "domain": [
          0.7777777777777778,
          1
         ],
         "linecolor": "black",
         "matches": "y",
         "showticklabels": false
        },
        "yaxis3": {
         "anchor": "x3",
         "domain": [
          0.3888888888888889,
          0.6111111111111112
         ],
         "linecolor": "black",
         "title": {
          "text": "R<sub>t</sub>"
         }
        },
        "yaxis4": {
         "anchor": "x4",
         "domain": [
          0.3888888888888889,
          0.6111111111111112
         ],
         "linecolor": "black",
         "matches": "y3",
         "showticklabels": false
        },
        "yaxis5": {
         "anchor": "x5",
         "domain": [
          0,
          0.22222222222222224
         ],
         "linecolor": "black",
         "title": {
          "text": "R<sub>t</sub>"
         }
        },
        "yaxis6": {
         "anchor": "x6",
         "domain": [
          0,
          0.22222222222222224
         ],
         "linecolor": "black",
         "matches": "y5",
         "showticklabels": false
        }
       }
      }
     },
     "metadata": {}
    }
   ],
   "source": [
    "from plotly.subplots import make_subplots\n",
    "\n",
    "all_intervals = all_intervals[all_intervals['Central Probability']==0.95]\n",
    "\n",
    "fig = go.Figure()\n",
    "fig = make_subplots(\n",
    "    rows=int(np.ceil(epsilon_range.shape[0]/2)), cols=2, subplot_titles=tuple('Ɛ = {}'.format(epsilon) for epsilon in epsilon_range[epsilon_range!=0]), shared_yaxes=True\n",
    ")\n",
    "\n",
    "# Plot (bar chart cases each day)\n",
    "for e, epsilon in enumerate(epsilon_range[epsilon_range!=0]):\n",
    "    if e == 0:\n",
    "        fig.add_trace(\n",
    "            go.Scatter(\n",
    "                x=all_intervals.loc[all_intervals['Epsilon']==epsilon]['Time Points'],\n",
    "                y=all_intervals.loc[all_intervals['Epsilon']==epsilon]['Mean'],\n",
    "                name='Mean R profile for for new Ɛ',\n",
    "                line_color='green'\n",
    "            ),\n",
    "            row= int(np.floor(e / 2)) + 1,\n",
    "            col= e % 2 + 1\n",
    "        )\n",
    "\n",
    "        fig.add_trace(\n",
    "            go.Scatter(\n",
    "                x=all_intervals.loc[all_intervals['Epsilon']==epsilon]['Time Points'].tolist() + all_intervals.loc[all_intervals['Epsilon']==epsilon]['Time Points'].tolist()[::-1],\n",
    "                y=all_intervals.loc[all_intervals['Epsilon']==epsilon][\n",
    "                    'Upper bound CI'].values.tolist() + all_intervals.loc[all_intervals['Epsilon']==epsilon][\n",
    "                        'Lower bound CI'].values.tolist()[::-1],\n",
    "                fill='toself',\n",
    "                fillcolor='green',\n",
    "                line_color='green',\n",
    "                opacity=0.15,\n",
    "                mode='lines',\n",
    "                name='Credible interval for new Ɛ',\n",
    "            ),\n",
    "            row= int(np.floor(e / 2)) + 1,\n",
    "            col= e % 2 + 1\n",
    "        )\n",
    "\n",
    "        fig.add_trace(\n",
    "            go.Scatter(\n",
    "                x=all_intervals.loc[all_intervals['Epsilon']==epsilon]['Time Points'],\n",
    "                y=all_intervals.loc[all_intervals['Epsilon']==0]['Mean'],\n",
    "                name='Mean R profile for for Ɛ = 0'.format(epsilon),\n",
    "                line_color='purple'\n",
    "            ),\n",
    "            row= int(np.floor(e / 2)) + 1,\n",
    "            col= e % 2 + 1\n",
    "        )\n",
    "\n",
    "\n",
    "        fig.add_trace(\n",
    "            go.Scatter(\n",
    "                x=all_intervals.loc[all_intervals['Epsilon']==epsilon]['Time Points'].tolist() + all_intervals.loc[all_intervals['Epsilon']==epsilon]['Time Points'].tolist()[::-1],\n",
    "                y=all_intervals.loc[all_intervals['Epsilon']==0][\n",
    "                    'Upper bound CI'].values.tolist() + all_intervals.loc[all_intervals['Epsilon']==0][\n",
    "                        'Lower bound CI'].values.tolist()[::-1],\n",
    "                fill='toself',\n",
    "                fillcolor='purple',\n",
    "                line_color='purple',\n",
    "                opacity=0.15,\n",
    "                mode='lines',\n",
    "                name='Credible interval for Ɛ = 0'\n",
    "            ),\n",
    "            row= int(np.floor(e / 2)) + 1,\n",
    "            col= e % 2 + 1\n",
    "        )\n",
    "\n",
    "    else:\n",
    "        fig.add_trace(\n",
    "            go.Scatter(\n",
    "                x=all_intervals.loc[all_intervals['Epsilon']==epsilon]['Time Points'],\n",
    "                y=all_intervals.loc[all_intervals['Epsilon']==epsilon]['Mean'],\n",
    "                line_color='green',\n",
    "                showlegend=False\n",
    "            ),\n",
    "            row= int(np.floor(e / 2)) + 1,\n",
    "            col= e % 2 + 1\n",
    "        )\n",
    "\n",
    "        fig.add_trace(\n",
    "            go.Scatter(\n",
    "                x=all_intervals.loc[all_intervals['Epsilon']==epsilon]['Time Points'].tolist() + all_intervals.loc[all_intervals['Epsilon']==epsilon]['Time Points'].tolist()[::-1],\n",
    "                y=all_intervals.loc[all_intervals['Epsilon']==epsilon][\n",
    "                    'Upper bound CI'].values.tolist() + all_intervals.loc[all_intervals['Epsilon']==epsilon][\n",
    "                        'Lower bound CI'].values.tolist()[::-1],\n",
    "                fill='toself',\n",
    "                fillcolor='green',\n",
    "                line_color='green',\n",
    "                opacity=0.15,\n",
    "                showlegend=False,\n",
    "                mode='lines'\n",
    "            ),\n",
    "            row= int(np.floor(e / 2)) + 1,\n",
    "            col= e % 2 + 1\n",
    "        )\n",
    "\n",
    "        fig.add_trace(\n",
    "            go.Scatter(\n",
    "                x=all_intervals.loc[all_intervals['Epsilon']==epsilon]['Time Points'],\n",
    "                y=all_intervals.loc[all_intervals['Epsilon']==0]['Mean'],\n",
    "                showlegend=False,\n",
    "                line_color='purple'\n",
    "            ),\n",
    "            row= int(np.floor(e / 2)) + 1,\n",
    "            col= e % 2 + 1\n",
    "        )\n",
    "\n",
    "\n",
    "        fig.add_trace(\n",
    "            go.Scatter(\n",
    "                x=all_intervals.loc[all_intervals['Epsilon']==epsilon]['Time Points'].tolist() + all_intervals.loc[all_intervals['Epsilon']==epsilon]['Time Points'].tolist()[::-1],\n",
    "                y=all_intervals.loc[all_intervals['Epsilon']==0][\n",
    "                    'Upper bound CI'].values.tolist() + all_intervals.loc[all_intervals['Epsilon']==0][\n",
    "                        'Lower bound CI'].values.tolist()[::-1],\n",
    "                fill='toself',\n",
    "                fillcolor='purple',\n",
    "                line_color='purple',\n",
    "                opacity=0.15,\n",
    "                mode='lines',\n",
    "                showlegend=False,\n",
    "            ),\n",
    "            row= int(np.floor(e / 2)) + 1,\n",
    "            col= e % 2 + 1\n",
    "        )\n",
    "\n",
    "        #fig.add_hrect(y0=prior_dist_interval[0], y1=prior_dist_interval[1], line_width=0, fillcolor='black', opacity=0.1)\n",
    "        fig.add_hline(y=median, line_dash='dot',\n",
    "                annotation_text='Prior R', fillcolor='black',\n",
    "                annotation_position='top right',\n",
    "                row= int(np.floor(e / 2)) + 1,\n",
    "                col= e % 2 + 1)\n",
    "\n",
    "    #fig.add_hrect(y0=prior_dist_interval[0], y1=prior_dist_interval[1], line_width=0, fillcolor='black', opacity=0.1)\n",
    "    fig.add_hline(y=median, line_dash='dot',\n",
    "              annotation_text='Prior R', fillcolor='black',\n",
    "              annotation_position='top right',\n",
    "              row= int(np.floor(e / 2)) + 1,\n",
    "              col= e % 2 + 1)\n",
    "\n",
    "\n",
    "# Add axis labels\n",
    "fig.update_layout(\n",
    "    title='ON',\n",
    "    width=700, \n",
    "    height=800,\n",
    "    plot_bgcolor='white',\n",
    "    xaxis=dict(linecolor='black'),\n",
    "    yaxis=dict(linecolor='black'),\n",
    "    xaxis2=dict(linecolor='black'),\n",
    "    yaxis2=dict(linecolor='black'),\n",
    "    xaxis3=dict(linecolor='black'),\n",
    "    yaxis3=dict(linecolor='black'),\n",
    "    xaxis4=dict(linecolor='black'),\n",
    "    yaxis4=dict(linecolor='black'),\n",
    "    xaxis5=dict(linecolor='black'),\n",
    "    yaxis5=dict(linecolor='black'),\n",
    "    xaxis6=dict(linecolor='black'),\n",
    "    yaxis6=dict(linecolor='black'),\n",
    "    legend=dict(\n",
    "        orientation=\"h\",\n",
    "        yanchor=\"bottom\",\n",
    "        y=1.02,\n",
    "        xanchor=\"right\",\n",
    "        x=1\n",
    "    ))\n",
    "\n",
    "fig.update_xaxes(row=3, col=1, title_text='Time (days)')\n",
    "fig.update_xaxes(row=3, col=2, title_text='Time (days)')\n",
    "fig.update_yaxes(row=1, col=1, title_text='R<sub>t</sub>')\n",
    "fig.update_yaxes(row=2, col=1, title_text='R<sub>t</sub>')\n",
    "fig.update_yaxes(row=3, col=1, title_text='R<sub>t</sub>')\n",
    "\n",
    "# fig.write_image('ON-diff-eps-inf.pdf')\n",
    "fig.show()"
   ]
  },
  {
   "cell_type": "code",
   "execution_count": 10,
   "metadata": {},
   "outputs": [
    {
     "output_type": "display_data",
     "data": {
      "text/plain": "<Figure size 432x504 with 5 Axes>",
      "image/svg+xml": "<?xml version=\"1.0\" encoding=\"utf-8\" standalone=\"no\"?>\n<!DOCTYPE svg PUBLIC \"-//W3C//DTD SVG 1.1//EN\"\n  \"http://www.w3.org/Graphics/SVG/1.1/DTD/svg11.dtd\">\n<!-- Created with matplotlib (https://matplotlib.org/) -->\n<svg height=\"505.637812pt\" version=\"1.1\" viewBox=\"0 0 424.630436 505.637812\" width=\"424.630436pt\" xmlns=\"http://www.w3.org/2000/svg\" xmlns:xlink=\"http://www.w3.org/1999/xlink\">\n <metadata>\n  <rdf:RDF xmlns:cc=\"http://creativecommons.org/ns#\" xmlns:dc=\"http://purl.org/dc/elements/1.1/\" xmlns:rdf=\"http://www.w3.org/1999/02/22-rdf-syntax-ns#\">\n   <cc:Work>\n    <dc:type rdf:resource=\"http://purl.org/dc/dcmitype/StillImage\"/>\n    <dc:date>2021-07-07T11:26:37.506912</dc:date>\n    <dc:format>image/svg+xml</dc:format>\n    <dc:creator>\n     <cc:Agent>\n      <dc:title>Matplotlib v3.3.2, https://matplotlib.org/</dc:title>\n     </cc:Agent>\n    </dc:creator>\n   </cc:Work>\n  </rdf:RDF>\n </metadata>\n <defs>\n  <style type=\"text/css\">*{stroke-linecap:butt;stroke-linejoin:round;}</style>\n </defs>\n <g id=\"figure_1\">\n  <g id=\"patch_1\">\n   <path d=\"M 0 505.637812 \nL 424.630436 505.637812 \nL 424.630436 0 \nL 0 0 \nz\n\" style=\"fill:none;\"/>\n  </g>\n  <g id=\"axes_1\">\n   <g id=\"patch_2\">\n    <path d=\"M 36.5625 132.662275 \nL 414.107121 132.662275 \nL 414.107121 16.037812 \nL 36.5625 16.037812 \nz\n\" style=\"fill:#ffffff;\"/>\n   </g>\n   <g id=\"patch_3\">\n    <path clip-path=\"url(#pc7aab09134)\" d=\"M 53.723619 132.662275 \nL 56.536917 132.662275 \nL 56.536917 132.662275 \nL 53.723619 132.662275 \nz\n\" style=\"opacity:0.8;\"/>\n   </g>\n   <g id=\"patch_4\">\n    <path clip-path=\"url(#pc7aab09134)\" d=\"M 60.475535 132.662275 \nL 63.288833 132.662275 \nL 63.288833 132.662275 \nL 60.475535 132.662275 \nz\n\" style=\"opacity:0.8;\"/>\n   </g>\n   <g id=\"patch_5\">\n    <path clip-path=\"url(#pc7aab09134)\" d=\"M 67.227451 132.662275 \nL 70.040749 132.662275 \nL 70.040749 132.662275 \nL 67.227451 132.662275 \nz\n\" style=\"opacity:0.8;\"/>\n   </g>\n   <g id=\"patch_6\">\n    <path clip-path=\"url(#pc7aab09134)\" d=\"M 73.979366 132.662275 \nL 76.792665 132.662275 \nL 76.792665 132.662275 \nL 73.979366 132.662275 \nz\n\" style=\"opacity:0.8;\"/>\n   </g>\n   <g id=\"patch_7\">\n    <path clip-path=\"url(#pc7aab09134)\" d=\"M 80.731282 132.662275 \nL 83.54458 132.662275 \nL 83.54458 132.662275 \nL 80.731282 132.662275 \nz\n\" style=\"opacity:0.8;\"/>\n   </g>\n   <g id=\"patch_8\">\n    <path clip-path=\"url(#pc7aab09134)\" d=\"M 87.483198 132.662275 \nL 90.296496 132.662275 \nL 90.296496 132.509705 \nL 87.483198 132.509705 \nz\n\" style=\"opacity:0.8;\"/>\n   </g>\n   <g id=\"patch_9\">\n    <path clip-path=\"url(#pc7aab09134)\" d=\"M 94.235113 132.662275 \nL 97.048412 132.662275 \nL 97.048412 132.662275 \nL 94.235113 132.662275 \nz\n\" style=\"opacity:0.8;\"/>\n   </g>\n   <g id=\"patch_10\">\n    <path clip-path=\"url(#pc7aab09134)\" d=\"M 100.987029 132.662275 \nL 103.800327 132.662275 \nL 103.800327 132.509705 \nL 100.987029 132.509705 \nz\n\" style=\"opacity:0.8;\"/>\n   </g>\n   <g id=\"patch_11\">\n    <path clip-path=\"url(#pc7aab09134)\" d=\"M 107.738945 132.662275 \nL 110.552243 132.662275 \nL 110.552243 132.509705 \nL 107.738945 132.509705 \nz\n\" style=\"opacity:0.8;\"/>\n   </g>\n   <g id=\"patch_12\">\n    <path clip-path=\"url(#pc7aab09134)\" d=\"M 114.490861 132.662275 \nL 117.304159 132.662275 \nL 117.304159 132.204565 \nL 114.490861 132.204565 \nz\n\" style=\"opacity:0.8;\"/>\n   </g>\n   <g id=\"patch_13\">\n    <path clip-path=\"url(#pc7aab09134)\" d=\"M 121.242776 132.662275 \nL 124.056075 132.662275 \nL 124.056075 131.594285 \nL 121.242776 131.594285 \nz\n\" style=\"opacity:0.8;\"/>\n   </g>\n   <g id=\"patch_14\">\n    <path clip-path=\"url(#pc7aab09134)\" d=\"M 127.994692 132.662275 \nL 130.80799 132.662275 \nL 130.80799 130.984006 \nL 127.994692 130.984006 \nz\n\" style=\"opacity:0.8;\"/>\n   </g>\n   <g id=\"patch_15\">\n    <path clip-path=\"url(#pc7aab09134)\" d=\"M 134.746608 132.662275 \nL 137.559906 132.662275 \nL 137.559906 131.136575 \nL 134.746608 131.136575 \nz\n\" style=\"opacity:0.8;\"/>\n   </g>\n   <g id=\"patch_16\">\n    <path clip-path=\"url(#pc7aab09134)\" d=\"M 141.498524 132.662275 \nL 144.311822 132.662275 \nL 144.311822 131.594285 \nL 141.498524 131.594285 \nz\n\" style=\"opacity:0.8;\"/>\n   </g>\n   <g id=\"patch_17\">\n    <path clip-path=\"url(#pc7aab09134)\" d=\"M 148.250439 132.662275 \nL 151.063737 132.662275 \nL 151.063737 131.899425 \nL 148.250439 131.899425 \nz\n\" style=\"opacity:0.8;\"/>\n   </g>\n   <g id=\"patch_18\">\n    <path clip-path=\"url(#pc7aab09134)\" d=\"M 155.002355 132.662275 \nL 157.815653 132.662275 \nL 157.815653 129.763446 \nL 155.002355 129.763446 \nz\n\" style=\"opacity:0.8;\"/>\n   </g>\n   <g id=\"patch_19\">\n    <path clip-path=\"url(#pc7aab09134)\" d=\"M 161.754271 132.662275 \nL 164.567569 132.662275 \nL 164.567569 130.068586 \nL 161.754271 130.068586 \nz\n\" style=\"opacity:0.8;\"/>\n   </g>\n   <g id=\"patch_20\">\n    <path clip-path=\"url(#pc7aab09134)\" d=\"M 168.506186 132.662275 \nL 171.319485 132.662275 \nL 171.319485 128.390317 \nL 168.506186 128.390317 \nz\n\" style=\"opacity:0.8;\"/>\n   </g>\n   <g id=\"patch_21\">\n    <path clip-path=\"url(#pc7aab09134)\" d=\"M 175.258102 132.662275 \nL 178.0714 132.662275 \nL 178.0714 127.017187 \nL 175.258102 127.017187 \nz\n\" style=\"opacity:0.8;\"/>\n   </g>\n   <g id=\"patch_22\">\n    <path clip-path=\"url(#pc7aab09134)\" d=\"M 182.010018 132.662275 \nL 184.823316 132.662275 \nL 184.823316 124.728638 \nL 182.010018 124.728638 \nz\n\" style=\"opacity:0.8;\"/>\n   </g>\n   <g id=\"patch_23\">\n    <path clip-path=\"url(#pc7aab09134)\" d=\"M 188.761934 132.662275 \nL 191.575232 132.662275 \nL 191.575232 125.949198 \nL 188.761934 125.949198 \nz\n\" style=\"opacity:0.8;\"/>\n   </g>\n   <g id=\"patch_24\">\n    <path clip-path=\"url(#pc7aab09134)\" d=\"M 195.513849 132.662275 \nL 198.327148 132.662275 \nL 198.327148 123.813218 \nL 195.513849 123.813218 \nz\n\" style=\"opacity:0.8;\"/>\n   </g>\n   <g id=\"patch_25\">\n    <path clip-path=\"url(#pc7aab09134)\" d=\"M 202.265765 132.662275 \nL 205.079063 132.662275 \nL 205.079063 118.168131 \nL 202.265765 118.168131 \nz\n\" style=\"opacity:0.8;\"/>\n   </g>\n   <g id=\"patch_26\">\n    <path clip-path=\"url(#pc7aab09134)\" d=\"M 209.017681 132.662275 \nL 211.830979 132.662275 \nL 211.830979 115.727012 \nL 209.017681 115.727012 \nz\n\" style=\"opacity:0.8;\"/>\n   </g>\n   <g id=\"patch_27\">\n    <path clip-path=\"url(#pc7aab09134)\" d=\"M 215.769597 132.662275 \nL 218.582895 132.662275 \nL 218.582895 118.62584 \nL 215.769597 118.62584 \nz\n\" style=\"opacity:0.8;\"/>\n   </g>\n   <g id=\"patch_28\">\n    <path clip-path=\"url(#pc7aab09134)\" d=\"M 222.521512 132.662275 \nL 225.33481 132.662275 \nL 225.33481 106.267675 \nL 222.521512 106.267675 \nz\n\" style=\"opacity:0.8;\"/>\n   </g>\n   <g id=\"patch_29\">\n    <path clip-path=\"url(#pc7aab09134)\" d=\"M 229.273428 132.662275 \nL 232.086726 132.662275 \nL 232.086726 101.995717 \nL 229.273428 101.995717 \nz\n\" style=\"opacity:0.8;\"/>\n   </g>\n   <g id=\"patch_30\">\n    <path clip-path=\"url(#pc7aab09134)\" d=\"M 236.025344 132.662275 \nL 238.838642 132.662275 \nL 238.838642 108.708794 \nL 236.025344 108.708794 \nz\n\" style=\"opacity:0.8;\"/>\n   </g>\n   <g id=\"patch_31\">\n    <path clip-path=\"url(#pc7aab09134)\" d=\"M 242.777259 132.662275 \nL 245.590558 132.662275 \nL 245.590558 105.809965 \nL 242.777259 105.809965 \nz\n\" style=\"opacity:0.8;\"/>\n   </g>\n   <g id=\"patch_32\">\n    <path clip-path=\"url(#pc7aab09134)\" d=\"M 249.529175 132.662275 \nL 252.342473 132.662275 \nL 252.342473 83.382184 \nL 249.529175 83.382184 \nz\n\" style=\"opacity:0.8;\"/>\n   </g>\n   <g id=\"patch_33\">\n    <path clip-path=\"url(#pc7aab09134)\" d=\"M 256.281091 132.662275 \nL 259.094389 132.662275 \nL 259.094389 85.213023 \nL 256.281091 85.213023 \nz\n\" style=\"opacity:0.8;\"/>\n   </g>\n   <g id=\"patch_34\">\n    <path clip-path=\"url(#pc7aab09134)\" d=\"M 263.033007 132.662275 \nL 265.846305 132.662275 \nL 265.846305 76.669107 \nL 263.033007 76.669107 \nz\n\" style=\"opacity:0.8;\"/>\n   </g>\n   <g id=\"patch_35\">\n    <path clip-path=\"url(#pc7aab09134)\" d=\"M 269.784922 132.662275 \nL 272.598221 132.662275 \nL 272.598221 74.990837 \nL 269.784922 74.990837 \nz\n\" style=\"opacity:0.8;\"/>\n   </g>\n   <g id=\"patch_36\">\n    <path clip-path=\"url(#pc7aab09134)\" d=\"M 276.536838 132.662275 \nL 279.350136 132.662275 \nL 279.350136 71.024019 \nL 276.536838 71.024019 \nz\n\" style=\"opacity:0.8;\"/>\n   </g>\n   <g id=\"patch_37\">\n    <path clip-path=\"url(#pc7aab09134)\" d=\"M 283.288754 132.662275 \nL 286.102052 132.662275 \nL 286.102052 84.297604 \nL 283.288754 84.297604 \nz\n\" style=\"opacity:0.8;\"/>\n   </g>\n   <g id=\"patch_38\">\n    <path clip-path=\"url(#pc7aab09134)\" d=\"M 290.040669 132.662275 \nL 292.853968 132.662275 \nL 292.853968 80.330785 \nL 290.040669 80.330785 \nz\n\" style=\"opacity:0.8;\"/>\n   </g>\n   <g id=\"patch_39\">\n    <path clip-path=\"url(#pc7aab09134)\" d=\"M 296.792585 132.662275 \nL 299.605883 132.662275 \nL 299.605883 65.531501 \nL 296.792585 65.531501 \nz\n\" style=\"opacity:0.8;\"/>\n   </g>\n   <g id=\"patch_40\">\n    <path clip-path=\"url(#pc7aab09134)\" d=\"M 303.544501 132.662275 \nL 306.357799 132.662275 \nL 306.357799 66.599491 \nL 303.544501 66.599491 \nz\n\" style=\"opacity:0.8;\"/>\n   </g>\n   <g id=\"patch_41\">\n    <path clip-path=\"url(#pc7aab09134)\" d=\"M 310.296417 132.662275 \nL 313.109715 132.662275 \nL 313.109715 61.869823 \nL 310.296417 61.869823 \nz\n\" style=\"opacity:0.8;\"/>\n   </g>\n   <g id=\"patch_42\">\n    <path clip-path=\"url(#pc7aab09134)\" d=\"M 317.048332 132.662275 \nL 319.861631 132.662275 \nL 319.861631 64.158372 \nL 317.048332 64.158372 \nz\n\" style=\"opacity:0.8;\"/>\n   </g>\n   <g id=\"patch_43\">\n    <path clip-path=\"url(#pc7aab09134)\" d=\"M 323.800248 132.662275 \nL 326.613546 132.662275 \nL 326.613546 74.990837 \nL 323.800248 74.990837 \nz\n\" style=\"opacity:0.8;\"/>\n   </g>\n   <g id=\"patch_44\">\n    <path clip-path=\"url(#pc7aab09134)\" d=\"M 330.552164 132.662275 \nL 333.365462 132.662275 \nL 333.365462 63.090382 \nL 330.552164 63.090382 \nz\n\" style=\"opacity:0.8;\"/>\n   </g>\n   <g id=\"patch_45\">\n    <path clip-path=\"url(#pc7aab09134)\" d=\"M 337.30408 132.662275 \nL 340.117378 132.662275 \nL 340.117378 53.631046 \nL 337.30408 53.631046 \nz\n\" style=\"opacity:0.8;\"/>\n   </g>\n   <g id=\"patch_46\">\n    <path clip-path=\"url(#pc7aab09134)\" d=\"M 344.055995 132.662275 \nL 346.869293 132.662275 \nL 346.869293 44.324279 \nL 344.055995 44.324279 \nz\n\" style=\"opacity:0.8;\"/>\n   </g>\n   <g id=\"patch_47\">\n    <path clip-path=\"url(#pc7aab09134)\" d=\"M 350.807911 132.662275 \nL 353.621209 132.662275 \nL 353.621209 49.359087 \nL 350.807911 49.359087 \nz\n\" style=\"opacity:0.8;\"/>\n   </g>\n   <g id=\"patch_48\">\n    <path clip-path=\"url(#pc7aab09134)\" d=\"M 357.559827 132.662275 \nL 360.373125 132.662275 \nL 360.373125 40.357461 \nL 357.559827 40.357461 \nz\n\" style=\"opacity:0.8;\"/>\n   </g>\n   <g id=\"patch_49\">\n    <path clip-path=\"url(#pc7aab09134)\" d=\"M 364.311742 132.662275 \nL 367.125041 132.662275 \nL 367.125041 46.307689 \nL 364.311742 46.307689 \nz\n\" style=\"opacity:0.8;\"/>\n   </g>\n   <g id=\"patch_50\">\n    <path clip-path=\"url(#pc7aab09134)\" d=\"M 371.063658 132.662275 \nL 373.876956 132.662275 \nL 373.876956 21.591358 \nL 371.063658 21.591358 \nz\n\" style=\"opacity:0.8;\"/>\n   </g>\n   <g id=\"patch_51\">\n    <path clip-path=\"url(#pc7aab09134)\" d=\"M 377.815574 132.662275 \nL 380.628872 132.662275 \nL 380.628872 42.03573 \nL 377.815574 42.03573 \nz\n\" style=\"opacity:0.8;\"/>\n   </g>\n   <g id=\"patch_52\">\n    <path clip-path=\"url(#pc7aab09134)\" d=\"M 384.56749 132.662275 \nL 387.380788 132.662275 \nL 387.380788 43.86657 \nL 384.56749 43.86657 \nz\n\" style=\"opacity:0.8;\"/>\n   </g>\n   <g id=\"patch_53\">\n    <path clip-path=\"url(#pc7aab09134)\" d=\"M 391.319405 132.662275 \nL 394.132704 132.662275 \nL 394.132704 40.357461 \nL 391.319405 40.357461 \nz\n\" style=\"opacity:0.8;\"/>\n   </g>\n   <g id=\"patch_54\">\n    <path clip-path=\"url(#pc7aab09134)\" d=\"M 56.536917 132.662275 \nL 59.350216 132.662275 \nL 59.350216 132.357135 \nL 56.536917 132.357135 \nz\n\" style=\"fill:url(#hec4877ff18);stroke:#ffffff;stroke-linejoin:miter;stroke-width:0.1;\"/>\n   </g>\n   <g id=\"patch_55\">\n    <path clip-path=\"url(#pc7aab09134)\" d=\"M 63.288833 132.662275 \nL 66.102131 132.662275 \nL 66.102131 132.662275 \nL 63.288833 132.662275 \nz\n\" style=\"fill:url(#hec4877ff18);stroke:#ffffff;stroke-linejoin:miter;stroke-width:0.1;\"/>\n   </g>\n   <g id=\"patch_56\">\n    <path clip-path=\"url(#pc7aab09134)\" d=\"M 70.040749 132.662275 \nL 72.854047 132.662275 \nL 72.854047 132.357135 \nL 70.040749 132.357135 \nz\n\" style=\"fill:url(#hec4877ff18);stroke:#ffffff;stroke-linejoin:miter;stroke-width:0.1;\"/>\n   </g>\n   <g id=\"patch_57\">\n    <path clip-path=\"url(#pc7aab09134)\" d=\"M 76.792665 132.662275 \nL 79.605963 132.662275 \nL 79.605963 132.509705 \nL 76.792665 132.509705 \nz\n\" style=\"fill:url(#hec4877ff18);stroke:#ffffff;stroke-linejoin:miter;stroke-width:0.1;\"/>\n   </g>\n   <g id=\"patch_58\">\n    <path clip-path=\"url(#pc7aab09134)\" d=\"M 83.54458 132.662275 \nL 86.357878 132.662275 \nL 86.357878 132.051995 \nL 83.54458 132.051995 \nz\n\" style=\"fill:url(#hec4877ff18);stroke:#ffffff;stroke-linejoin:miter;stroke-width:0.1;\"/>\n   </g>\n   <g id=\"patch_59\">\n    <path clip-path=\"url(#pc7aab09134)\" d=\"M 90.296496 132.662275 \nL 93.109794 132.662275 \nL 93.109794 132.509705 \nL 90.296496 132.509705 \nz\n\" style=\"fill:url(#hec4877ff18);stroke:#ffffff;stroke-linejoin:miter;stroke-width:0.1;\"/>\n   </g>\n   <g id=\"patch_60\">\n    <path clip-path=\"url(#pc7aab09134)\" d=\"M 97.048412 132.662275 \nL 99.86171 132.662275 \nL 99.86171 132.204565 \nL 97.048412 132.204565 \nz\n\" style=\"fill:url(#hec4877ff18);stroke:#ffffff;stroke-linejoin:miter;stroke-width:0.1;\"/>\n   </g>\n   <g id=\"patch_61\">\n    <path clip-path=\"url(#pc7aab09134)\" d=\"M 103.800327 132.662275 \nL 106.613626 132.662275 \nL 106.613626 132.051995 \nL 103.800327 132.051995 \nz\n\" style=\"fill:url(#hec4877ff18);stroke:#ffffff;stroke-linejoin:miter;stroke-width:0.1;\"/>\n   </g>\n   <g id=\"patch_62\">\n    <path clip-path=\"url(#pc7aab09134)\" d=\"M 110.552243 132.662275 \nL 113.365541 132.662275 \nL 113.365541 132.051995 \nL 110.552243 132.051995 \nz\n\" style=\"fill:url(#hec4877ff18);stroke:#ffffff;stroke-linejoin:miter;stroke-width:0.1;\"/>\n   </g>\n   <g id=\"patch_63\">\n    <path clip-path=\"url(#pc7aab09134)\" d=\"M 117.304159 132.662275 \nL 120.117457 132.662275 \nL 120.117457 131.746855 \nL 117.304159 131.746855 \nz\n\" style=\"fill:url(#hec4877ff18);stroke:#ffffff;stroke-linejoin:miter;stroke-width:0.1;\"/>\n   </g>\n   <g id=\"patch_64\">\n    <path clip-path=\"url(#pc7aab09134)\" d=\"M 124.056075 132.662275 \nL 126.869373 132.662275 \nL 126.869373 130.068586 \nL 124.056075 130.068586 \nz\n\" style=\"fill:url(#hec4877ff18);stroke:#ffffff;stroke-linejoin:miter;stroke-width:0.1;\"/>\n   </g>\n   <g id=\"patch_65\">\n    <path clip-path=\"url(#pc7aab09134)\" d=\"M 130.80799 132.662275 \nL 133.621289 132.662275 \nL 133.621289 128.695456 \nL 130.80799 128.695456 \nz\n\" style=\"fill:url(#hec4877ff18);stroke:#ffffff;stroke-linejoin:miter;stroke-width:0.1;\"/>\n   </g>\n   <g id=\"patch_66\">\n    <path clip-path=\"url(#pc7aab09134)\" d=\"M 137.559906 132.662275 \nL 140.373204 132.662275 \nL 140.373204 128.695456 \nL 137.559906 128.695456 \nz\n\" style=\"fill:url(#hec4877ff18);stroke:#ffffff;stroke-linejoin:miter;stroke-width:0.1;\"/>\n   </g>\n   <g id=\"patch_67\">\n    <path clip-path=\"url(#pc7aab09134)\" d=\"M 144.311822 132.662275 \nL 147.12512 132.662275 \nL 147.12512 129.000596 \nL 144.311822 129.000596 \nz\n\" style=\"fill:url(#hec4877ff18);stroke:#ffffff;stroke-linejoin:miter;stroke-width:0.1;\"/>\n   </g>\n   <g id=\"patch_68\">\n    <path clip-path=\"url(#pc7aab09134)\" d=\"M 151.063737 132.662275 \nL 153.877036 132.662275 \nL 153.877036 127.932607 \nL 151.063737 127.932607 \nz\n\" style=\"fill:url(#hec4877ff18);stroke:#ffffff;stroke-linejoin:miter;stroke-width:0.1;\"/>\n   </g>\n   <g id=\"patch_69\">\n    <path clip-path=\"url(#pc7aab09134)\" d=\"M 157.815653 132.662275 \nL 160.628951 132.662275 \nL 160.628951 127.474897 \nL 157.815653 127.474897 \nz\n\" style=\"fill:url(#hec4877ff18);stroke:#ffffff;stroke-linejoin:miter;stroke-width:0.1;\"/>\n   </g>\n   <g id=\"patch_70\">\n    <path clip-path=\"url(#pc7aab09134)\" d=\"M 164.567569 132.662275 \nL 167.380867 132.662275 \nL 167.380867 126.406907 \nL 164.567569 126.406907 \nz\n\" style=\"fill:url(#hec4877ff18);stroke:#ffffff;stroke-linejoin:miter;stroke-width:0.1;\"/>\n   </g>\n   <g id=\"patch_71\">\n    <path clip-path=\"url(#pc7aab09134)\" d=\"M 171.319485 132.662275 \nL 174.132783 132.662275 \nL 174.132783 128.237747 \nL 171.319485 128.237747 \nz\n\" style=\"fill:url(#hec4877ff18);stroke:#ffffff;stroke-linejoin:miter;stroke-width:0.1;\"/>\n   </g>\n   <g id=\"patch_72\">\n    <path clip-path=\"url(#pc7aab09134)\" d=\"M 178.0714 132.662275 \nL 180.884699 132.662275 \nL 180.884699 128.390317 \nL 178.0714 128.390317 \nz\n\" style=\"fill:url(#hec4877ff18);stroke:#ffffff;stroke-linejoin:miter;stroke-width:0.1;\"/>\n   </g>\n   <g id=\"patch_73\">\n    <path clip-path=\"url(#pc7aab09134)\" d=\"M 184.823316 132.662275 \nL 187.636614 132.662275 \nL 187.636614 125.796628 \nL 184.823316 125.796628 \nz\n\" style=\"fill:url(#hec4877ff18);stroke:#ffffff;stroke-linejoin:miter;stroke-width:0.1;\"/>\n   </g>\n   <g id=\"patch_74\">\n    <path clip-path=\"url(#pc7aab09134)\" d=\"M 191.575232 132.662275 \nL 194.38853 132.662275 \nL 194.38853 128.542887 \nL 191.575232 128.542887 \nz\n\" style=\"fill:url(#hec4877ff18);stroke:#ffffff;stroke-linejoin:miter;stroke-width:0.1;\"/>\n   </g>\n   <g id=\"patch_75\">\n    <path clip-path=\"url(#pc7aab09134)\" d=\"M 198.327148 132.662275 \nL 201.140446 132.662275 \nL 201.140446 128.542887 \nL 198.327148 128.542887 \nz\n\" style=\"fill:url(#hec4877ff18);stroke:#ffffff;stroke-linejoin:miter;stroke-width:0.1;\"/>\n   </g>\n   <g id=\"patch_76\">\n    <path clip-path=\"url(#pc7aab09134)\" d=\"M 205.079063 132.662275 \nL 207.892362 132.662275 \nL 207.892362 125.338918 \nL 205.079063 125.338918 \nz\n\" style=\"fill:url(#hec4877ff18);stroke:#ffffff;stroke-linejoin:miter;stroke-width:0.1;\"/>\n   </g>\n   <g id=\"patch_77\">\n    <path clip-path=\"url(#pc7aab09134)\" d=\"M 211.830979 132.662275 \nL 214.644277 132.662275 \nL 214.644277 123.355509 \nL 211.830979 123.355509 \nz\n\" style=\"fill:url(#hec4877ff18);stroke:#ffffff;stroke-linejoin:miter;stroke-width:0.1;\"/>\n   </g>\n   <g id=\"patch_78\">\n    <path clip-path=\"url(#pc7aab09134)\" d=\"M 218.582895 132.662275 \nL 221.396193 132.662275 \nL 221.396193 125.949198 \nL 218.582895 125.949198 \nz\n\" style=\"fill:url(#hec4877ff18);stroke:#ffffff;stroke-linejoin:miter;stroke-width:0.1;\"/>\n   </g>\n   <g id=\"patch_79\">\n    <path clip-path=\"url(#pc7aab09134)\" d=\"M 225.33481 132.662275 \nL 228.148109 132.662275 \nL 228.148109 121.372099 \nL 225.33481 121.372099 \nz\n\" style=\"fill:url(#hec4877ff18);stroke:#ffffff;stroke-linejoin:miter;stroke-width:0.1;\"/>\n   </g>\n   <g id=\"patch_80\">\n    <path clip-path=\"url(#pc7aab09134)\" d=\"M 232.086726 132.662275 \nL 234.900024 132.662275 \nL 234.900024 118.93098 \nL 232.086726 118.93098 \nz\n\" style=\"fill:url(#hec4877ff18);stroke:#ffffff;stroke-linejoin:miter;stroke-width:0.1;\"/>\n   </g>\n   <g id=\"patch_81\">\n    <path clip-path=\"url(#pc7aab09134)\" d=\"M 238.838642 132.662275 \nL 241.65194 132.662275 \nL 241.65194 120.76182 \nL 238.838642 120.76182 \nz\n\" style=\"fill:url(#hec4877ff18);stroke:#ffffff;stroke-linejoin:miter;stroke-width:0.1;\"/>\n   </g>\n   <g id=\"patch_82\">\n    <path clip-path=\"url(#pc7aab09134)\" d=\"M 245.590558 132.662275 \nL 248.403856 132.662275 \nL 248.403856 124.881208 \nL 245.590558 124.881208 \nz\n\" style=\"fill:url(#hec4877ff18);stroke:#ffffff;stroke-linejoin:miter;stroke-width:0.1;\"/>\n   </g>\n   <g id=\"patch_83\">\n    <path clip-path=\"url(#pc7aab09134)\" d=\"M 252.342473 132.662275 \nL 255.155772 132.662275 \nL 255.155772 115.421872 \nL 252.342473 115.421872 \nz\n\" style=\"fill:url(#hec4877ff18);stroke:#ffffff;stroke-linejoin:miter;stroke-width:0.1;\"/>\n   </g>\n   <g id=\"patch_84\">\n    <path clip-path=\"url(#pc7aab09134)\" d=\"M 259.094389 132.662275 \nL 261.907687 132.662275 \nL 261.907687 117.557851 \nL 259.094389 117.557851 \nz\n\" style=\"fill:url(#hec4877ff18);stroke:#ffffff;stroke-linejoin:miter;stroke-width:0.1;\"/>\n   </g>\n   <g id=\"patch_85\">\n    <path clip-path=\"url(#pc7aab09134)\" d=\"M 265.846305 132.662275 \nL 268.659603 132.662275 \nL 268.659603 120.30411 \nL 265.846305 120.30411 \nz\n\" style=\"fill:url(#hec4877ff18);stroke:#ffffff;stroke-linejoin:miter;stroke-width:0.1;\"/>\n   </g>\n   <g id=\"patch_86\">\n    <path clip-path=\"url(#pc7aab09134)\" d=\"M 272.598221 132.662275 \nL 275.411519 132.662275 \nL 275.411519 121.982379 \nL 272.598221 121.982379 \nz\n\" style=\"fill:url(#hec4877ff18);stroke:#ffffff;stroke-linejoin:miter;stroke-width:0.1;\"/>\n   </g>\n   <g id=\"patch_87\">\n    <path clip-path=\"url(#pc7aab09134)\" d=\"M 279.350136 132.662275 \nL 282.163434 132.662275 \nL 282.163434 123.660648 \nL 279.350136 123.660648 \nz\n\" style=\"fill:url(#hec4877ff18);stroke:#ffffff;stroke-linejoin:miter;stroke-width:0.1;\"/>\n   </g>\n   <g id=\"patch_88\">\n    <path clip-path=\"url(#pc7aab09134)\" d=\"M 286.102052 132.662275 \nL 288.91535 132.662275 \nL 288.91535 127.932607 \nL 286.102052 127.932607 \nz\n\" style=\"fill:url(#hec4877ff18);stroke:#ffffff;stroke-linejoin:miter;stroke-width:0.1;\"/>\n   </g>\n   <g id=\"patch_89\">\n    <path clip-path=\"url(#pc7aab09134)\" d=\"M 292.853968 132.662275 \nL 295.667266 132.662275 \nL 295.667266 128.390317 \nL 292.853968 128.390317 \nz\n\" style=\"fill:url(#hec4877ff18);stroke:#ffffff;stroke-linejoin:miter;stroke-width:0.1;\"/>\n   </g>\n   <g id=\"patch_90\">\n    <path clip-path=\"url(#pc7aab09134)\" d=\"M 299.605883 132.662275 \nL 302.419182 132.662275 \nL 302.419182 127.627467 \nL 299.605883 127.627467 \nz\n\" style=\"fill:url(#hec4877ff18);stroke:#ffffff;stroke-linejoin:miter;stroke-width:0.1;\"/>\n   </g>\n   <g id=\"patch_91\">\n    <path clip-path=\"url(#pc7aab09134)\" d=\"M 306.357799 132.662275 \nL 309.171097 132.662275 \nL 309.171097 129.000596 \nL 306.357799 129.000596 \nz\n\" style=\"fill:url(#hec4877ff18);stroke:#ffffff;stroke-linejoin:miter;stroke-width:0.1;\"/>\n   </g>\n   <g id=\"patch_92\">\n    <path clip-path=\"url(#pc7aab09134)\" d=\"M 313.109715 132.662275 \nL 315.923013 132.662275 \nL 315.923013 129.000596 \nL 313.109715 129.000596 \nz\n\" style=\"fill:url(#hec4877ff18);stroke:#ffffff;stroke-linejoin:miter;stroke-width:0.1;\"/>\n   </g>\n   <g id=\"patch_93\">\n    <path clip-path=\"url(#pc7aab09134)\" d=\"M 319.861631 132.662275 \nL 322.674929 132.662275 \nL 322.674929 128.085177 \nL 319.861631 128.085177 \nz\n\" style=\"fill:url(#hec4877ff18);stroke:#ffffff;stroke-linejoin:miter;stroke-width:0.1;\"/>\n   </g>\n   <g id=\"patch_94\">\n    <path clip-path=\"url(#pc7aab09134)\" d=\"M 326.613546 132.662275 \nL 329.426845 132.662275 \nL 329.426845 129.916016 \nL 326.613546 129.916016 \nz\n\" style=\"fill:url(#hec4877ff18);stroke:#ffffff;stroke-linejoin:miter;stroke-width:0.1;\"/>\n   </g>\n   <g id=\"patch_95\">\n    <path clip-path=\"url(#pc7aab09134)\" d=\"M 333.365462 132.662275 \nL 336.17876 132.662275 \nL 336.17876 130.526296 \nL 333.365462 130.526296 \nz\n\" style=\"fill:url(#hec4877ff18);stroke:#ffffff;stroke-linejoin:miter;stroke-width:0.1;\"/>\n   </g>\n   <g id=\"patch_96\">\n    <path clip-path=\"url(#pc7aab09134)\" d=\"M 340.117378 132.662275 \nL 342.930676 132.662275 \nL 342.930676 129.610876 \nL 340.117378 129.610876 \nz\n\" style=\"fill:url(#hec4877ff18);stroke:#ffffff;stroke-linejoin:miter;stroke-width:0.1;\"/>\n   </g>\n   <g id=\"patch_97\">\n    <path clip-path=\"url(#pc7aab09134)\" d=\"M 346.869293 132.662275 \nL 349.682592 132.662275 \nL 349.682592 130.678866 \nL 346.869293 130.678866 \nz\n\" style=\"fill:url(#hec4877ff18);stroke:#ffffff;stroke-linejoin:miter;stroke-width:0.1;\"/>\n   </g>\n   <g id=\"patch_98\">\n    <path clip-path=\"url(#pc7aab09134)\" d=\"M 353.621209 132.662275 \nL 356.434507 132.662275 \nL 356.434507 131.746855 \nL 353.621209 131.746855 \nz\n\" style=\"fill:url(#hec4877ff18);stroke:#ffffff;stroke-linejoin:miter;stroke-width:0.1;\"/>\n   </g>\n   <g id=\"patch_99\">\n    <path clip-path=\"url(#pc7aab09134)\" d=\"M 360.373125 132.662275 \nL 363.186423 132.662275 \nL 363.186423 131.441715 \nL 360.373125 131.441715 \nz\n\" style=\"fill:url(#hec4877ff18);stroke:#ffffff;stroke-linejoin:miter;stroke-width:0.1;\"/>\n   </g>\n   <g id=\"patch_100\">\n    <path clip-path=\"url(#pc7aab09134)\" d=\"M 367.125041 132.662275 \nL 369.938339 132.662275 \nL 369.938339 131.746855 \nL 367.125041 131.746855 \nz\n\" style=\"fill:url(#hec4877ff18);stroke:#ffffff;stroke-linejoin:miter;stroke-width:0.1;\"/>\n   </g>\n   <g id=\"patch_101\">\n    <path clip-path=\"url(#pc7aab09134)\" d=\"M 373.876956 132.662275 \nL 376.690255 132.662275 \nL 376.690255 130.984006 \nL 373.876956 130.984006 \nz\n\" style=\"fill:url(#hec4877ff18);stroke:#ffffff;stroke-linejoin:miter;stroke-width:0.1;\"/>\n   </g>\n   <g id=\"patch_102\">\n    <path clip-path=\"url(#pc7aab09134)\" d=\"M 380.628872 132.662275 \nL 383.44217 132.662275 \nL 383.44217 131.746855 \nL 380.628872 131.746855 \nz\n\" style=\"fill:url(#hec4877ff18);stroke:#ffffff;stroke-linejoin:miter;stroke-width:0.1;\"/>\n   </g>\n   <g id=\"patch_103\">\n    <path clip-path=\"url(#pc7aab09134)\" d=\"M 387.380788 132.662275 \nL 390.194086 132.662275 \nL 390.194086 131.441715 \nL 387.380788 131.441715 \nz\n\" style=\"fill:url(#hec4877ff18);stroke:#ffffff;stroke-linejoin:miter;stroke-width:0.1;\"/>\n   </g>\n   <g id=\"patch_104\">\n    <path clip-path=\"url(#pc7aab09134)\" d=\"M 394.132704 132.662275 \nL 396.946002 132.662275 \nL 396.946002 132.051995 \nL 394.132704 132.051995 \nz\n\" style=\"fill:url(#hec4877ff18);stroke:#ffffff;stroke-linejoin:miter;stroke-width:0.1;\"/>\n   </g>\n   <g id=\"matplotlib.axis_1\">\n    <g id=\"xtick_1\">\n     <g id=\"line2d_1\">\n      <defs>\n       <path d=\"M 0 0 \nL 0 3.5 \n\" id=\"m2c4b7b45f6\" style=\"stroke:#000000;stroke-width:0.8;\"/>\n      </defs>\n      <g>\n       <use style=\"stroke:#000000;stroke-width:0.8;\" x=\"56.536917\" xlink:href=\"#m2c4b7b45f6\" y=\"132.662275\"/>\n      </g>\n     </g>\n     <g id=\"text_1\">\n      <!-- Mar 01 -->\n      <g transform=\"translate(39.151761 147.260712)scale(0.1 -0.1)\">\n       <defs>\n        <path d=\"M 9.8125 72.90625 \nL 24.515625 72.90625 \nL 43.109375 23.296875 \nL 61.8125 72.90625 \nL 76.515625 72.90625 \nL 76.515625 0 \nL 66.890625 0 \nL 66.890625 64.015625 \nL 48.09375 14.015625 \nL 38.1875 14.015625 \nL 19.390625 64.015625 \nL 19.390625 0 \nL 9.8125 0 \nz\n\" id=\"DejaVuSans-77\"/>\n        <path d=\"M 34.28125 27.484375 \nQ 23.390625 27.484375 19.1875 25 \nQ 14.984375 22.515625 14.984375 16.5 \nQ 14.984375 11.71875 18.140625 8.90625 \nQ 21.296875 6.109375 26.703125 6.109375 \nQ 34.1875 6.109375 38.703125 11.40625 \nQ 43.21875 16.703125 43.21875 25.484375 \nL 43.21875 27.484375 \nz\nM 52.203125 31.203125 \nL 52.203125 0 \nL 43.21875 0 \nL 43.21875 8.296875 \nQ 40.140625 3.328125 35.546875 0.953125 \nQ 30.953125 -1.421875 24.3125 -1.421875 \nQ 15.921875 -1.421875 10.953125 3.296875 \nQ 6 8.015625 6 15.921875 \nQ 6 25.140625 12.171875 29.828125 \nQ 18.359375 34.515625 30.609375 34.515625 \nL 43.21875 34.515625 \nL 43.21875 35.40625 \nQ 43.21875 41.609375 39.140625 45 \nQ 35.0625 48.390625 27.6875 48.390625 \nQ 23 48.390625 18.546875 47.265625 \nQ 14.109375 46.140625 10.015625 43.890625 \nL 10.015625 52.203125 \nQ 14.9375 54.109375 19.578125 55.046875 \nQ 24.21875 56 28.609375 56 \nQ 40.484375 56 46.34375 49.84375 \nQ 52.203125 43.703125 52.203125 31.203125 \nz\n\" id=\"DejaVuSans-97\"/>\n        <path d=\"M 41.109375 46.296875 \nQ 39.59375 47.171875 37.8125 47.578125 \nQ 36.03125 48 33.890625 48 \nQ 26.265625 48 22.1875 43.046875 \nQ 18.109375 38.09375 18.109375 28.8125 \nL 18.109375 0 \nL 9.078125 0 \nL 9.078125 54.6875 \nL 18.109375 54.6875 \nL 18.109375 46.1875 \nQ 20.953125 51.171875 25.484375 53.578125 \nQ 30.03125 56 36.53125 56 \nQ 37.453125 56 38.578125 55.875 \nQ 39.703125 55.765625 41.0625 55.515625 \nz\n\" id=\"DejaVuSans-114\"/>\n        <path id=\"DejaVuSans-32\"/>\n        <path d=\"M 31.78125 66.40625 \nQ 24.171875 66.40625 20.328125 58.90625 \nQ 16.5 51.421875 16.5 36.375 \nQ 16.5 21.390625 20.328125 13.890625 \nQ 24.171875 6.390625 31.78125 6.390625 \nQ 39.453125 6.390625 43.28125 13.890625 \nQ 47.125 21.390625 47.125 36.375 \nQ 47.125 51.421875 43.28125 58.90625 \nQ 39.453125 66.40625 31.78125 66.40625 \nz\nM 31.78125 74.21875 \nQ 44.046875 74.21875 50.515625 64.515625 \nQ 56.984375 54.828125 56.984375 36.375 \nQ 56.984375 17.96875 50.515625 8.265625 \nQ 44.046875 -1.421875 31.78125 -1.421875 \nQ 19.53125 -1.421875 13.0625 8.265625 \nQ 6.59375 17.96875 6.59375 36.375 \nQ 6.59375 54.828125 13.0625 64.515625 \nQ 19.53125 74.21875 31.78125 74.21875 \nz\n\" id=\"DejaVuSans-48\"/>\n        <path d=\"M 12.40625 8.296875 \nL 28.515625 8.296875 \nL 28.515625 63.921875 \nL 10.984375 60.40625 \nL 10.984375 69.390625 \nL 28.421875 72.90625 \nL 38.28125 72.90625 \nL 38.28125 8.296875 \nL 54.390625 8.296875 \nL 54.390625 0 \nL 12.40625 0 \nz\n\" id=\"DejaVuSans-49\"/>\n       </defs>\n       <use xlink:href=\"#DejaVuSans-77\"/>\n       <use x=\"86.279297\" xlink:href=\"#DejaVuSans-97\"/>\n       <use x=\"147.558594\" xlink:href=\"#DejaVuSans-114\"/>\n       <use x=\"188.671875\" xlink:href=\"#DejaVuSans-32\"/>\n       <use x=\"220.458984\" xlink:href=\"#DejaVuSans-48\"/>\n       <use x=\"284.082031\" xlink:href=\"#DejaVuSans-49\"/>\n      </g>\n     </g>\n    </g>\n    <g id=\"xtick_2\">\n     <g id=\"line2d_2\">\n      <g>\n       <use style=\"stroke:#000000;stroke-width:0.8;\" x=\"103.800327\" xlink:href=\"#m2c4b7b45f6\" y=\"132.662275\"/>\n      </g>\n     </g>\n     <g id=\"text_2\">\n      <!-- Mar 08 -->\n      <g transform=\"translate(86.415171 147.260712)scale(0.1 -0.1)\">\n       <defs>\n        <path d=\"M 31.78125 34.625 \nQ 24.75 34.625 20.71875 30.859375 \nQ 16.703125 27.09375 16.703125 20.515625 \nQ 16.703125 13.921875 20.71875 10.15625 \nQ 24.75 6.390625 31.78125 6.390625 \nQ 38.8125 6.390625 42.859375 10.171875 \nQ 46.921875 13.96875 46.921875 20.515625 \nQ 46.921875 27.09375 42.890625 30.859375 \nQ 38.875 34.625 31.78125 34.625 \nz\nM 21.921875 38.8125 \nQ 15.578125 40.375 12.03125 44.71875 \nQ 8.5 49.078125 8.5 55.328125 \nQ 8.5 64.0625 14.71875 69.140625 \nQ 20.953125 74.21875 31.78125 74.21875 \nQ 42.671875 74.21875 48.875 69.140625 \nQ 55.078125 64.0625 55.078125 55.328125 \nQ 55.078125 49.078125 51.53125 44.71875 \nQ 48 40.375 41.703125 38.8125 \nQ 48.828125 37.15625 52.796875 32.3125 \nQ 56.78125 27.484375 56.78125 20.515625 \nQ 56.78125 9.90625 50.3125 4.234375 \nQ 43.84375 -1.421875 31.78125 -1.421875 \nQ 19.734375 -1.421875 13.25 4.234375 \nQ 6.78125 9.90625 6.78125 20.515625 \nQ 6.78125 27.484375 10.78125 32.3125 \nQ 14.796875 37.15625 21.921875 38.8125 \nz\nM 18.3125 54.390625 \nQ 18.3125 48.734375 21.84375 45.5625 \nQ 25.390625 42.390625 31.78125 42.390625 \nQ 38.140625 42.390625 41.71875 45.5625 \nQ 45.3125 48.734375 45.3125 54.390625 \nQ 45.3125 60.0625 41.71875 63.234375 \nQ 38.140625 66.40625 31.78125 66.40625 \nQ 25.390625 66.40625 21.84375 63.234375 \nQ 18.3125 60.0625 18.3125 54.390625 \nz\n\" id=\"DejaVuSans-56\"/>\n       </defs>\n       <use xlink:href=\"#DejaVuSans-77\"/>\n       <use x=\"86.279297\" xlink:href=\"#DejaVuSans-97\"/>\n       <use x=\"147.558594\" xlink:href=\"#DejaVuSans-114\"/>\n       <use x=\"188.671875\" xlink:href=\"#DejaVuSans-32\"/>\n       <use x=\"220.458984\" xlink:href=\"#DejaVuSans-48\"/>\n       <use x=\"284.082031\" xlink:href=\"#DejaVuSans-56\"/>\n      </g>\n     </g>\n    </g>\n    <g id=\"xtick_3\">\n     <g id=\"line2d_3\">\n      <g>\n       <use style=\"stroke:#000000;stroke-width:0.8;\" x=\"151.063737\" xlink:href=\"#m2c4b7b45f6\" y=\"132.662275\"/>\n      </g>\n     </g>\n     <g id=\"text_3\">\n      <!-- Mar 15 -->\n      <g transform=\"translate(133.678581 147.260712)scale(0.1 -0.1)\">\n       <defs>\n        <path d=\"M 10.796875 72.90625 \nL 49.515625 72.90625 \nL 49.515625 64.59375 \nL 19.828125 64.59375 \nL 19.828125 46.734375 \nQ 21.96875 47.46875 24.109375 47.828125 \nQ 26.265625 48.1875 28.421875 48.1875 \nQ 40.625 48.1875 47.75 41.5 \nQ 54.890625 34.8125 54.890625 23.390625 \nQ 54.890625 11.625 47.5625 5.09375 \nQ 40.234375 -1.421875 26.90625 -1.421875 \nQ 22.3125 -1.421875 17.546875 -0.640625 \nQ 12.796875 0.140625 7.71875 1.703125 \nL 7.71875 11.625 \nQ 12.109375 9.234375 16.796875 8.0625 \nQ 21.484375 6.890625 26.703125 6.890625 \nQ 35.15625 6.890625 40.078125 11.328125 \nQ 45.015625 15.765625 45.015625 23.390625 \nQ 45.015625 31 40.078125 35.4375 \nQ 35.15625 39.890625 26.703125 39.890625 \nQ 22.75 39.890625 18.8125 39.015625 \nQ 14.890625 38.140625 10.796875 36.28125 \nz\n\" id=\"DejaVuSans-53\"/>\n       </defs>\n       <use xlink:href=\"#DejaVuSans-77\"/>\n       <use x=\"86.279297\" xlink:href=\"#DejaVuSans-97\"/>\n       <use x=\"147.558594\" xlink:href=\"#DejaVuSans-114\"/>\n       <use x=\"188.671875\" xlink:href=\"#DejaVuSans-32\"/>\n       <use x=\"220.458984\" xlink:href=\"#DejaVuSans-49\"/>\n       <use x=\"284.082031\" xlink:href=\"#DejaVuSans-53\"/>\n      </g>\n     </g>\n    </g>\n    <g id=\"xtick_4\">\n     <g id=\"line2d_4\">\n      <g>\n       <use style=\"stroke:#000000;stroke-width:0.8;\" x=\"198.327148\" xlink:href=\"#m2c4b7b45f6\" y=\"132.662275\"/>\n      </g>\n     </g>\n     <g id=\"text_4\">\n      <!-- Mar 22 -->\n      <g transform=\"translate(180.941991 147.260712)scale(0.1 -0.1)\">\n       <defs>\n        <path d=\"M 19.1875 8.296875 \nL 53.609375 8.296875 \nL 53.609375 0 \nL 7.328125 0 \nL 7.328125 8.296875 \nQ 12.9375 14.109375 22.625 23.890625 \nQ 32.328125 33.6875 34.8125 36.53125 \nQ 39.546875 41.84375 41.421875 45.53125 \nQ 43.3125 49.21875 43.3125 52.78125 \nQ 43.3125 58.59375 39.234375 62.25 \nQ 35.15625 65.921875 28.609375 65.921875 \nQ 23.96875 65.921875 18.8125 64.3125 \nQ 13.671875 62.703125 7.8125 59.421875 \nL 7.8125 69.390625 \nQ 13.765625 71.78125 18.9375 73 \nQ 24.125 74.21875 28.421875 74.21875 \nQ 39.75 74.21875 46.484375 68.546875 \nQ 53.21875 62.890625 53.21875 53.421875 \nQ 53.21875 48.921875 51.53125 44.890625 \nQ 49.859375 40.875 45.40625 35.40625 \nQ 44.1875 33.984375 37.640625 27.21875 \nQ 31.109375 20.453125 19.1875 8.296875 \nz\n\" id=\"DejaVuSans-50\"/>\n       </defs>\n       <use xlink:href=\"#DejaVuSans-77\"/>\n       <use x=\"86.279297\" xlink:href=\"#DejaVuSans-97\"/>\n       <use x=\"147.558594\" xlink:href=\"#DejaVuSans-114\"/>\n       <use x=\"188.671875\" xlink:href=\"#DejaVuSans-32\"/>\n       <use x=\"220.458984\" xlink:href=\"#DejaVuSans-50\"/>\n       <use x=\"284.082031\" xlink:href=\"#DejaVuSans-50\"/>\n      </g>\n     </g>\n    </g>\n    <g id=\"xtick_5\">\n     <g id=\"line2d_5\">\n      <g>\n       <use style=\"stroke:#000000;stroke-width:0.8;\" x=\"245.590558\" xlink:href=\"#m2c4b7b45f6\" y=\"132.662275\"/>\n      </g>\n     </g>\n     <g id=\"text_5\">\n      <!-- Mar 29 -->\n      <g transform=\"translate(228.205401 147.260712)scale(0.1 -0.1)\">\n       <defs>\n        <path d=\"M 10.984375 1.515625 \nL 10.984375 10.5 \nQ 14.703125 8.734375 18.5 7.8125 \nQ 22.3125 6.890625 25.984375 6.890625 \nQ 35.75 6.890625 40.890625 13.453125 \nQ 46.046875 20.015625 46.78125 33.40625 \nQ 43.953125 29.203125 39.59375 26.953125 \nQ 35.25 24.703125 29.984375 24.703125 \nQ 19.046875 24.703125 12.671875 31.3125 \nQ 6.296875 37.9375 6.296875 49.421875 \nQ 6.296875 60.640625 12.9375 67.421875 \nQ 19.578125 74.21875 30.609375 74.21875 \nQ 43.265625 74.21875 49.921875 64.515625 \nQ 56.59375 54.828125 56.59375 36.375 \nQ 56.59375 19.140625 48.40625 8.859375 \nQ 40.234375 -1.421875 26.421875 -1.421875 \nQ 22.703125 -1.421875 18.890625 -0.6875 \nQ 15.09375 0.046875 10.984375 1.515625 \nz\nM 30.609375 32.421875 \nQ 37.25 32.421875 41.125 36.953125 \nQ 45.015625 41.5 45.015625 49.421875 \nQ 45.015625 57.28125 41.125 61.84375 \nQ 37.25 66.40625 30.609375 66.40625 \nQ 23.96875 66.40625 20.09375 61.84375 \nQ 16.21875 57.28125 16.21875 49.421875 \nQ 16.21875 41.5 20.09375 36.953125 \nQ 23.96875 32.421875 30.609375 32.421875 \nz\n\" id=\"DejaVuSans-57\"/>\n       </defs>\n       <use xlink:href=\"#DejaVuSans-77\"/>\n       <use x=\"86.279297\" xlink:href=\"#DejaVuSans-97\"/>\n       <use x=\"147.558594\" xlink:href=\"#DejaVuSans-114\"/>\n       <use x=\"188.671875\" xlink:href=\"#DejaVuSans-32\"/>\n       <use x=\"220.458984\" xlink:href=\"#DejaVuSans-50\"/>\n       <use x=\"284.082031\" xlink:href=\"#DejaVuSans-57\"/>\n      </g>\n     </g>\n    </g>\n    <g id=\"xtick_6\">\n     <g id=\"line2d_6\">\n      <g>\n       <use style=\"stroke:#000000;stroke-width:0.8;\" x=\"292.853968\" xlink:href=\"#m2c4b7b45f6\" y=\"132.662275\"/>\n      </g>\n     </g>\n     <g id=\"text_6\">\n      <!-- Apr 05 -->\n      <g transform=\"translate(276.252405 147.260712)scale(0.1 -0.1)\">\n       <defs>\n        <path d=\"M 34.1875 63.1875 \nL 20.796875 26.90625 \nL 47.609375 26.90625 \nz\nM 28.609375 72.90625 \nL 39.796875 72.90625 \nL 67.578125 0 \nL 57.328125 0 \nL 50.6875 18.703125 \nL 17.828125 18.703125 \nL 11.1875 0 \nL 0.78125 0 \nz\n\" id=\"DejaVuSans-65\"/>\n        <path d=\"M 18.109375 8.203125 \nL 18.109375 -20.796875 \nL 9.078125 -20.796875 \nL 9.078125 54.6875 \nL 18.109375 54.6875 \nL 18.109375 46.390625 \nQ 20.953125 51.265625 25.265625 53.625 \nQ 29.59375 56 35.59375 56 \nQ 45.5625 56 51.78125 48.09375 \nQ 58.015625 40.1875 58.015625 27.296875 \nQ 58.015625 14.40625 51.78125 6.484375 \nQ 45.5625 -1.421875 35.59375 -1.421875 \nQ 29.59375 -1.421875 25.265625 0.953125 \nQ 20.953125 3.328125 18.109375 8.203125 \nz\nM 48.6875 27.296875 \nQ 48.6875 37.203125 44.609375 42.84375 \nQ 40.53125 48.484375 33.40625 48.484375 \nQ 26.265625 48.484375 22.1875 42.84375 \nQ 18.109375 37.203125 18.109375 27.296875 \nQ 18.109375 17.390625 22.1875 11.75 \nQ 26.265625 6.109375 33.40625 6.109375 \nQ 40.53125 6.109375 44.609375 11.75 \nQ 48.6875 17.390625 48.6875 27.296875 \nz\n\" id=\"DejaVuSans-112\"/>\n       </defs>\n       <use xlink:href=\"#DejaVuSans-65\"/>\n       <use x=\"68.408203\" xlink:href=\"#DejaVuSans-112\"/>\n       <use x=\"131.884766\" xlink:href=\"#DejaVuSans-114\"/>\n       <use x=\"172.998047\" xlink:href=\"#DejaVuSans-32\"/>\n       <use x=\"204.785156\" xlink:href=\"#DejaVuSans-48\"/>\n       <use x=\"268.408203\" xlink:href=\"#DejaVuSans-53\"/>\n      </g>\n     </g>\n    </g>\n    <g id=\"xtick_7\">\n     <g id=\"line2d_7\">\n      <g>\n       <use style=\"stroke:#000000;stroke-width:0.8;\" x=\"340.117378\" xlink:href=\"#m2c4b7b45f6\" y=\"132.662275\"/>\n      </g>\n     </g>\n     <g id=\"text_7\">\n      <!-- Apr 12 -->\n      <g transform=\"translate(323.515815 147.260712)scale(0.1 -0.1)\">\n       <use xlink:href=\"#DejaVuSans-65\"/>\n       <use x=\"68.408203\" xlink:href=\"#DejaVuSans-112\"/>\n       <use x=\"131.884766\" xlink:href=\"#DejaVuSans-114\"/>\n       <use x=\"172.998047\" xlink:href=\"#DejaVuSans-32\"/>\n       <use x=\"204.785156\" xlink:href=\"#DejaVuSans-49\"/>\n       <use x=\"268.408203\" xlink:href=\"#DejaVuSans-50\"/>\n      </g>\n     </g>\n    </g>\n    <g id=\"xtick_8\">\n     <g id=\"line2d_8\">\n      <g>\n       <use style=\"stroke:#000000;stroke-width:0.8;\" x=\"387.380788\" xlink:href=\"#m2c4b7b45f6\" y=\"132.662275\"/>\n      </g>\n     </g>\n     <g id=\"text_8\">\n      <!-- Apr 19 -->\n      <g transform=\"translate(370.779225 147.260712)scale(0.1 -0.1)\">\n       <use xlink:href=\"#DejaVuSans-65\"/>\n       <use x=\"68.408203\" xlink:href=\"#DejaVuSans-112\"/>\n       <use x=\"131.884766\" xlink:href=\"#DejaVuSans-114\"/>\n       <use x=\"172.998047\" xlink:href=\"#DejaVuSans-32\"/>\n       <use x=\"204.785156\" xlink:href=\"#DejaVuSans-49\"/>\n       <use x=\"268.408203\" xlink:href=\"#DejaVuSans-57\"/>\n      </g>\n     </g>\n    </g>\n   </g>\n   <g id=\"matplotlib.axis_2\">\n    <g id=\"ytick_1\">\n     <g id=\"line2d_9\">\n      <defs>\n       <path d=\"M 0 0 \nL -3.5 0 \n\" id=\"mfb328eec67\" style=\"stroke:#000000;stroke-width:0.8;\"/>\n      </defs>\n      <g>\n       <use style=\"stroke:#000000;stroke-width:0.8;\" x=\"36.5625\" xlink:href=\"#mfb328eec67\" y=\"132.662275\"/>\n      </g>\n     </g>\n     <g id=\"text_9\">\n      <!-- 0 -->\n      <g transform=\"translate(23.2 136.461494)scale(0.1 -0.1)\">\n       <use xlink:href=\"#DejaVuSans-48\"/>\n      </g>\n     </g>\n    </g>\n    <g id=\"ytick_2\">\n     <g id=\"line2d_10\">\n      <g>\n       <use style=\"stroke:#000000;stroke-width:0.8;\" x=\"36.5625\" xlink:href=\"#mfb328eec67\" y=\"102.148287\"/>\n      </g>\n     </g>\n     <g id=\"text_10\">\n      <!-- 200 -->\n      <g transform=\"translate(10.475 105.947506)scale(0.1 -0.1)\">\n       <use xlink:href=\"#DejaVuSans-50\"/>\n       <use x=\"63.623047\" xlink:href=\"#DejaVuSans-48\"/>\n       <use x=\"127.246094\" xlink:href=\"#DejaVuSans-48\"/>\n      </g>\n     </g>\n    </g>\n    <g id=\"ytick_3\">\n     <g id=\"line2d_11\">\n      <g>\n       <use style=\"stroke:#000000;stroke-width:0.8;\" x=\"36.5625\" xlink:href=\"#mfb328eec67\" y=\"71.634299\"/>\n      </g>\n     </g>\n     <g id=\"text_11\">\n      <!-- 400 -->\n      <g transform=\"translate(10.475 75.433518)scale(0.1 -0.1)\">\n       <defs>\n        <path d=\"M 37.796875 64.3125 \nL 12.890625 25.390625 \nL 37.796875 25.390625 \nz\nM 35.203125 72.90625 \nL 47.609375 72.90625 \nL 47.609375 25.390625 \nL 58.015625 25.390625 \nL 58.015625 17.1875 \nL 47.609375 17.1875 \nL 47.609375 0 \nL 37.796875 0 \nL 37.796875 17.1875 \nL 4.890625 17.1875 \nL 4.890625 26.703125 \nz\n\" id=\"DejaVuSans-52\"/>\n       </defs>\n       <use xlink:href=\"#DejaVuSans-52\"/>\n       <use x=\"63.623047\" xlink:href=\"#DejaVuSans-48\"/>\n       <use x=\"127.246094\" xlink:href=\"#DejaVuSans-48\"/>\n      </g>\n     </g>\n    </g>\n    <g id=\"ytick_4\">\n     <g id=\"line2d_12\">\n      <g>\n       <use style=\"stroke:#000000;stroke-width:0.8;\" x=\"36.5625\" xlink:href=\"#mfb328eec67\" y=\"41.120311\"/>\n      </g>\n     </g>\n     <g id=\"text_12\">\n      <!-- 600 -->\n      <g transform=\"translate(10.475 44.919529)scale(0.1 -0.1)\">\n       <defs>\n        <path d=\"M 33.015625 40.375 \nQ 26.375 40.375 22.484375 35.828125 \nQ 18.609375 31.296875 18.609375 23.390625 \nQ 18.609375 15.53125 22.484375 10.953125 \nQ 26.375 6.390625 33.015625 6.390625 \nQ 39.65625 6.390625 43.53125 10.953125 \nQ 47.40625 15.53125 47.40625 23.390625 \nQ 47.40625 31.296875 43.53125 35.828125 \nQ 39.65625 40.375 33.015625 40.375 \nz\nM 52.59375 71.296875 \nL 52.59375 62.3125 \nQ 48.875 64.0625 45.09375 64.984375 \nQ 41.3125 65.921875 37.59375 65.921875 \nQ 27.828125 65.921875 22.671875 59.328125 \nQ 17.53125 52.734375 16.796875 39.40625 \nQ 19.671875 43.65625 24.015625 45.921875 \nQ 28.375 48.1875 33.59375 48.1875 \nQ 44.578125 48.1875 50.953125 41.515625 \nQ 57.328125 34.859375 57.328125 23.390625 \nQ 57.328125 12.15625 50.6875 5.359375 \nQ 44.046875 -1.421875 33.015625 -1.421875 \nQ 20.359375 -1.421875 13.671875 8.265625 \nQ 6.984375 17.96875 6.984375 36.375 \nQ 6.984375 53.65625 15.1875 63.9375 \nQ 23.390625 74.21875 37.203125 74.21875 \nQ 40.921875 74.21875 44.703125 73.484375 \nQ 48.484375 72.75 52.59375 71.296875 \nz\n\" id=\"DejaVuSans-54\"/>\n       </defs>\n       <use xlink:href=\"#DejaVuSans-54\"/>\n       <use x=\"63.623047\" xlink:href=\"#DejaVuSans-48\"/>\n       <use x=\"127.246094\" xlink:href=\"#DejaVuSans-48\"/>\n      </g>\n     </g>\n    </g>\n   </g>\n   <g id=\"patch_105\">\n    <path d=\"M 36.5625 132.662275 \nL 36.5625 16.037812 \n\" style=\"fill:none;stroke:#000000;stroke-linecap:square;stroke-linejoin:miter;stroke-width:0.8;\"/>\n   </g>\n   <g id=\"patch_106\">\n    <path d=\"M 414.107121 132.662275 \nL 414.107121 16.037812 \n\" style=\"fill:none;stroke:#000000;stroke-linecap:square;stroke-linejoin:miter;stroke-width:0.8;\"/>\n   </g>\n   <g id=\"patch_107\">\n    <path d=\"M 36.5625 132.662275 \nL 414.107121 132.662275 \n\" style=\"fill:none;stroke:#000000;stroke-linecap:square;stroke-linejoin:miter;stroke-width:0.8;\"/>\n   </g>\n   <g id=\"patch_108\">\n    <path d=\"M 36.5625 16.037812 \nL 414.107121 16.037812 \n\" style=\"fill:none;stroke:#000000;stroke-linecap:square;stroke-linejoin:miter;stroke-width:0.8;\"/>\n   </g>\n   <g id=\"legend_1\">\n    <g id=\"patch_109\">\n     <path d=\"M 43.5625 53.394062 \nL 152.629687 53.394062 \nQ 154.629687 53.394062 154.629687 51.394062 \nL 154.629687 23.037812 \nQ 154.629687 21.037812 152.629687 21.037812 \nL 43.5625 21.037812 \nQ 41.5625 21.037812 41.5625 23.037812 \nL 41.5625 51.394062 \nQ 41.5625 53.394062 43.5625 53.394062 \nz\n\" style=\"fill:#ffffff;opacity:0.8;stroke:#cccccc;stroke-linejoin:miter;\"/>\n    </g>\n    <g id=\"patch_110\">\n     <path d=\"M 45.5625 32.63625 \nL 65.5625 32.63625 \nL 65.5625 25.63625 \nL 45.5625 25.63625 \nz\n\" style=\"opacity:0.8;\"/>\n    </g>\n    <g id=\"text_13\">\n     <!-- Local cases -->\n     <g transform=\"translate(73.5625 32.63625)scale(0.1 -0.1)\">\n      <defs>\n       <path d=\"M 9.8125 72.90625 \nL 19.671875 72.90625 \nL 19.671875 8.296875 \nL 55.171875 8.296875 \nL 55.171875 0 \nL 9.8125 0 \nz\n\" id=\"DejaVuSans-76\"/>\n       <path d=\"M 30.609375 48.390625 \nQ 23.390625 48.390625 19.1875 42.75 \nQ 14.984375 37.109375 14.984375 27.296875 \nQ 14.984375 17.484375 19.15625 11.84375 \nQ 23.34375 6.203125 30.609375 6.203125 \nQ 37.796875 6.203125 41.984375 11.859375 \nQ 46.1875 17.53125 46.1875 27.296875 \nQ 46.1875 37.015625 41.984375 42.703125 \nQ 37.796875 48.390625 30.609375 48.390625 \nz\nM 30.609375 56 \nQ 42.328125 56 49.015625 48.375 \nQ 55.71875 40.765625 55.71875 27.296875 \nQ 55.71875 13.875 49.015625 6.21875 \nQ 42.328125 -1.421875 30.609375 -1.421875 \nQ 18.84375 -1.421875 12.171875 6.21875 \nQ 5.515625 13.875 5.515625 27.296875 \nQ 5.515625 40.765625 12.171875 48.375 \nQ 18.84375 56 30.609375 56 \nz\n\" id=\"DejaVuSans-111\"/>\n       <path d=\"M 48.78125 52.59375 \nL 48.78125 44.1875 \nQ 44.96875 46.296875 41.140625 47.34375 \nQ 37.3125 48.390625 33.40625 48.390625 \nQ 24.65625 48.390625 19.8125 42.84375 \nQ 14.984375 37.3125 14.984375 27.296875 \nQ 14.984375 17.28125 19.8125 11.734375 \nQ 24.65625 6.203125 33.40625 6.203125 \nQ 37.3125 6.203125 41.140625 7.25 \nQ 44.96875 8.296875 48.78125 10.40625 \nL 48.78125 2.09375 \nQ 45.015625 0.34375 40.984375 -0.53125 \nQ 36.96875 -1.421875 32.421875 -1.421875 \nQ 20.0625 -1.421875 12.78125 6.34375 \nQ 5.515625 14.109375 5.515625 27.296875 \nQ 5.515625 40.671875 12.859375 48.328125 \nQ 20.21875 56 33.015625 56 \nQ 37.15625 56 41.109375 55.140625 \nQ 45.0625 54.296875 48.78125 52.59375 \nz\n\" id=\"DejaVuSans-99\"/>\n       <path d=\"M 9.421875 75.984375 \nL 18.40625 75.984375 \nL 18.40625 0 \nL 9.421875 0 \nz\n\" id=\"DejaVuSans-108\"/>\n       <path d=\"M 44.28125 53.078125 \nL 44.28125 44.578125 \nQ 40.484375 46.53125 36.375 47.5 \nQ 32.28125 48.484375 27.875 48.484375 \nQ 21.1875 48.484375 17.84375 46.4375 \nQ 14.5 44.390625 14.5 40.28125 \nQ 14.5 37.15625 16.890625 35.375 \nQ 19.28125 33.59375 26.515625 31.984375 \nL 29.59375 31.296875 \nQ 39.15625 29.25 43.1875 25.515625 \nQ 47.21875 21.78125 47.21875 15.09375 \nQ 47.21875 7.46875 41.1875 3.015625 \nQ 35.15625 -1.421875 24.609375 -1.421875 \nQ 20.21875 -1.421875 15.453125 -0.5625 \nQ 10.6875 0.296875 5.421875 2 \nL 5.421875 11.28125 \nQ 10.40625 8.6875 15.234375 7.390625 \nQ 20.0625 6.109375 24.8125 6.109375 \nQ 31.15625 6.109375 34.5625 8.28125 \nQ 37.984375 10.453125 37.984375 14.40625 \nQ 37.984375 18.0625 35.515625 20.015625 \nQ 33.0625 21.96875 24.703125 23.78125 \nL 21.578125 24.515625 \nQ 13.234375 26.265625 9.515625 29.90625 \nQ 5.8125 33.546875 5.8125 39.890625 \nQ 5.8125 47.609375 11.28125 51.796875 \nQ 16.75 56 26.8125 56 \nQ 31.78125 56 36.171875 55.265625 \nQ 40.578125 54.546875 44.28125 53.078125 \nz\n\" id=\"DejaVuSans-115\"/>\n       <path d=\"M 56.203125 29.59375 \nL 56.203125 25.203125 \nL 14.890625 25.203125 \nQ 15.484375 15.921875 20.484375 11.0625 \nQ 25.484375 6.203125 34.421875 6.203125 \nQ 39.59375 6.203125 44.453125 7.46875 \nQ 49.3125 8.734375 54.109375 11.28125 \nL 54.109375 2.78125 \nQ 49.265625 0.734375 44.1875 -0.34375 \nQ 39.109375 -1.421875 33.890625 -1.421875 \nQ 20.796875 -1.421875 13.15625 6.1875 \nQ 5.515625 13.8125 5.515625 26.8125 \nQ 5.515625 40.234375 12.765625 48.109375 \nQ 20.015625 56 32.328125 56 \nQ 43.359375 56 49.78125 48.890625 \nQ 56.203125 41.796875 56.203125 29.59375 \nz\nM 47.21875 32.234375 \nQ 47.125 39.59375 43.09375 43.984375 \nQ 39.0625 48.390625 32.421875 48.390625 \nQ 24.90625 48.390625 20.390625 44.140625 \nQ 15.875 39.890625 15.1875 32.171875 \nz\n\" id=\"DejaVuSans-101\"/>\n      </defs>\n      <use xlink:href=\"#DejaVuSans-76\"/>\n      <use x=\"53.962891\" xlink:href=\"#DejaVuSans-111\"/>\n      <use x=\"115.144531\" xlink:href=\"#DejaVuSans-99\"/>\n      <use x=\"170.125\" xlink:href=\"#DejaVuSans-97\"/>\n      <use x=\"231.404297\" xlink:href=\"#DejaVuSans-108\"/>\n      <use x=\"259.1875\" xlink:href=\"#DejaVuSans-32\"/>\n      <use x=\"290.974609\" xlink:href=\"#DejaVuSans-99\"/>\n      <use x=\"345.955078\" xlink:href=\"#DejaVuSans-97\"/>\n      <use x=\"407.234375\" xlink:href=\"#DejaVuSans-115\"/>\n      <use x=\"459.333984\" xlink:href=\"#DejaVuSans-101\"/>\n      <use x=\"520.857422\" xlink:href=\"#DejaVuSans-115\"/>\n     </g>\n    </g>\n    <g id=\"patch_111\">\n     <path d=\"M 45.5625 47.314375 \nL 65.5625 47.314375 \nL 65.5625 40.314375 \nL 45.5625 40.314375 \nz\n\" style=\"fill:url(#hec4877ff18);stroke:#ffffff;stroke-linejoin:miter;stroke-width:0.1;\"/>\n    </g>\n    <g id=\"text_14\">\n     <!-- Imported cases -->\n     <g transform=\"translate(73.5625 47.314375)scale(0.1 -0.1)\">\n      <defs>\n       <path d=\"M 9.8125 72.90625 \nL 19.671875 72.90625 \nL 19.671875 0 \nL 9.8125 0 \nz\n\" id=\"DejaVuSans-73\"/>\n       <path d=\"M 52 44.1875 \nQ 55.375 50.25 60.0625 53.125 \nQ 64.75 56 71.09375 56 \nQ 79.640625 56 84.28125 50.015625 \nQ 88.921875 44.046875 88.921875 33.015625 \nL 88.921875 0 \nL 79.890625 0 \nL 79.890625 32.71875 \nQ 79.890625 40.578125 77.09375 44.375 \nQ 74.3125 48.1875 68.609375 48.1875 \nQ 61.625 48.1875 57.5625 43.546875 \nQ 53.515625 38.921875 53.515625 30.90625 \nL 53.515625 0 \nL 44.484375 0 \nL 44.484375 32.71875 \nQ 44.484375 40.625 41.703125 44.40625 \nQ 38.921875 48.1875 33.109375 48.1875 \nQ 26.21875 48.1875 22.15625 43.53125 \nQ 18.109375 38.875 18.109375 30.90625 \nL 18.109375 0 \nL 9.078125 0 \nL 9.078125 54.6875 \nL 18.109375 54.6875 \nL 18.109375 46.1875 \nQ 21.1875 51.21875 25.484375 53.609375 \nQ 29.78125 56 35.6875 56 \nQ 41.65625 56 45.828125 52.96875 \nQ 50 49.953125 52 44.1875 \nz\n\" id=\"DejaVuSans-109\"/>\n       <path d=\"M 18.3125 70.21875 \nL 18.3125 54.6875 \nL 36.8125 54.6875 \nL 36.8125 47.703125 \nL 18.3125 47.703125 \nL 18.3125 18.015625 \nQ 18.3125 11.328125 20.140625 9.421875 \nQ 21.96875 7.515625 27.59375 7.515625 \nL 36.8125 7.515625 \nL 36.8125 0 \nL 27.59375 0 \nQ 17.1875 0 13.234375 3.875 \nQ 9.28125 7.765625 9.28125 18.015625 \nL 9.28125 47.703125 \nL 2.6875 47.703125 \nL 2.6875 54.6875 \nL 9.28125 54.6875 \nL 9.28125 70.21875 \nz\n\" id=\"DejaVuSans-116\"/>\n       <path d=\"M 45.40625 46.390625 \nL 45.40625 75.984375 \nL 54.390625 75.984375 \nL 54.390625 0 \nL 45.40625 0 \nL 45.40625 8.203125 \nQ 42.578125 3.328125 38.25 0.953125 \nQ 33.9375 -1.421875 27.875 -1.421875 \nQ 17.96875 -1.421875 11.734375 6.484375 \nQ 5.515625 14.40625 5.515625 27.296875 \nQ 5.515625 40.1875 11.734375 48.09375 \nQ 17.96875 56 27.875 56 \nQ 33.9375 56 38.25 53.625 \nQ 42.578125 51.265625 45.40625 46.390625 \nz\nM 14.796875 27.296875 \nQ 14.796875 17.390625 18.875 11.75 \nQ 22.953125 6.109375 30.078125 6.109375 \nQ 37.203125 6.109375 41.296875 11.75 \nQ 45.40625 17.390625 45.40625 27.296875 \nQ 45.40625 37.203125 41.296875 42.84375 \nQ 37.203125 48.484375 30.078125 48.484375 \nQ 22.953125 48.484375 18.875 42.84375 \nQ 14.796875 37.203125 14.796875 27.296875 \nz\n\" id=\"DejaVuSans-100\"/>\n      </defs>\n      <use xlink:href=\"#DejaVuSans-73\"/>\n      <use x=\"29.492188\" xlink:href=\"#DejaVuSans-109\"/>\n      <use x=\"126.904297\" xlink:href=\"#DejaVuSans-112\"/>\n      <use x=\"190.380859\" xlink:href=\"#DejaVuSans-111\"/>\n      <use x=\"251.5625\" xlink:href=\"#DejaVuSans-114\"/>\n      <use x=\"292.675781\" xlink:href=\"#DejaVuSans-116\"/>\n      <use x=\"331.884766\" xlink:href=\"#DejaVuSans-101\"/>\n      <use x=\"393.408203\" xlink:href=\"#DejaVuSans-100\"/>\n      <use x=\"456.884766\" xlink:href=\"#DejaVuSans-32\"/>\n      <use x=\"488.671875\" xlink:href=\"#DejaVuSans-99\"/>\n      <use x=\"543.652344\" xlink:href=\"#DejaVuSans-97\"/>\n      <use x=\"604.931641\" xlink:href=\"#DejaVuSans-115\"/>\n      <use x=\"657.03125\" xlink:href=\"#DejaVuSans-101\"/>\n      <use x=\"718.554688\" xlink:href=\"#DejaVuSans-115\"/>\n     </g>\n    </g>\n   </g>\n  </g>\n  <g id=\"axes_2\">\n   <g id=\"patch_112\">\n    <path d=\"M 36.5625 315.905434 \nL 214.312836 315.905434 \nL 214.312836 199.280971 \nL 36.5625 199.280971 \nz\n\" style=\"fill:#ffffff;\"/>\n   </g>\n   <g id=\"line2d_13\">\n    <path clip-path=\"url(#p342c7ca708)\" d=\"M 36.5625 246.969675 \nL 214.312836 246.969675 \n\" style=\"fill:none;stroke:#000000;stroke-dasharray:2,3.3;stroke-dashoffset:0;stroke-width:2;\"/>\n   </g>\n   <g id=\"PolyCollection_1\">\n    <defs>\n     <path d=\"M 44.642061 -216.891595 \nL 44.642061 -195.928909 \nL 48.399996 -196.501727 \nL 52.157931 -198.883866 \nL 55.915866 -204.161762 \nL 59.673802 -209.647927 \nL 63.431737 -209.063874 \nL 67.189672 -206.235521 \nL 70.947607 -203.41254 \nL 74.705543 -204.139869 \nL 78.463478 -203.765567 \nL 82.221413 -204.014534 \nL 85.979348 -204.448743 \nL 89.737284 -205.967967 \nL 93.495219 -206.742858 \nL 97.253154 -208.132773 \nL 101.011089 -210.29526 \nL 104.769024 -212.604212 \nL 108.52696 -212.713747 \nL 112.284895 -214.792134 \nL 116.04283 -216.248333 \nL 119.800765 -215.660727 \nL 123.558701 -214.781796 \nL 127.316636 -215.901818 \nL 131.074571 -216.026853 \nL 134.832506 -216.687173 \nL 138.590442 -215.993606 \nL 142.348377 -215.235734 \nL 146.106312 -214.301742 \nL 149.864247 -213.778985 \nL 153.622182 -213.165454 \nL 157.380118 -212.852048 \nL 161.138053 -212.616538 \nL 164.895988 -212.416681 \nL 168.653923 -211.750594 \nL 172.411859 -212.264848 \nL 176.169794 -213.106443 \nL 179.927729 -213.662272 \nL 183.685664 -213.862243 \nL 187.4436 -214.09149 \nL 191.201535 -214.126563 \nL 194.95947 -215.394565 \nL 198.717405 -215.376067 \nL 202.47534 -214.791851 \nL 206.233276 -214.058928 \nL 206.233276 -216.18769 \nL 206.233276 -216.18769 \nL 202.47534 -216.945328 \nL 198.717405 -217.48157 \nL 194.95947 -217.48289 \nL 191.201535 -216.12902 \nL 187.4436 -216.094454 \nL 183.685664 -215.858862 \nL 179.927729 -215.729465 \nL 176.169794 -215.344586 \nL 172.411859 -214.681141 \nL 168.653923 -214.365273 \nL 164.895988 -215.433648 \nL 161.138053 -216.029771 \nL 157.380118 -216.704821 \nL 153.622182 -217.501194 \nL 149.864247 -218.71221 \nL 146.106312 -219.826214 \nL 142.348377 -221.396706 \nL 138.590442 -222.60521 \nL 134.832506 -223.643008 \nL 131.074571 -222.948024 \nL 127.316636 -223.056837 \nL 123.558701 -221.858693 \nL 119.800765 -222.97304 \nL 116.04283 -223.587187 \nL 112.284895 -221.774468 \nL 108.52696 -219.216483 \nL 104.769024 -219.243694 \nL 101.011089 -216.669891 \nL 97.253154 -214.322541 \nL 93.495219 -212.987493 \nL 89.737284 -212.58428 \nL 85.979348 -211.192195 \nL 82.221413 -211.360394 \nL 78.463478 -211.922247 \nL 74.705543 -213.84833 \nL 70.947607 -214.492405 \nL 67.189672 -221.970085 \nL 63.431737 -229.505661 \nL 59.673802 -232.615382 \nL 55.915866 -225.509024 \nL 52.157931 -217.628661 \nL 48.399996 -214.565312 \nL 44.642061 -216.891595 \nz\n\" id=\"mb31380ccef\"/>\n    </defs>\n    <g clip-path=\"url(#p342c7ca708)\">\n     <use style=\"fill-opacity:0.35;\" x=\"0\" xlink:href=\"#mb31380ccef\" y=\"505.637812\"/>\n    </g>\n   </g>\n   <g id=\"matplotlib.axis_3\">\n    <g id=\"xtick_9\">\n     <g id=\"line2d_14\">\n      <g>\n       <use style=\"stroke:#000000;stroke-width:0.8;\" x=\"44.642061\" xlink:href=\"#m2c4b7b45f6\" y=\"315.905434\"/>\n      </g>\n     </g>\n    </g>\n    <g id=\"xtick_10\">\n     <g id=\"line2d_15\">\n      <g>\n       <use style=\"stroke:#000000;stroke-width:0.8;\" x=\"70.947607\" xlink:href=\"#m2c4b7b45f6\" y=\"315.905434\"/>\n      </g>\n     </g>\n    </g>\n    <g id=\"xtick_11\">\n     <g id=\"line2d_16\">\n      <g>\n       <use style=\"stroke:#000000;stroke-width:0.8;\" x=\"97.253154\" xlink:href=\"#m2c4b7b45f6\" y=\"315.905434\"/>\n      </g>\n     </g>\n    </g>\n    <g id=\"xtick_12\">\n     <g id=\"line2d_17\">\n      <g>\n       <use style=\"stroke:#000000;stroke-width:0.8;\" x=\"123.558701\" xlink:href=\"#m2c4b7b45f6\" y=\"315.905434\"/>\n      </g>\n     </g>\n    </g>\n    <g id=\"xtick_13\">\n     <g id=\"line2d_18\">\n      <g>\n       <use style=\"stroke:#000000;stroke-width:0.8;\" x=\"149.864247\" xlink:href=\"#m2c4b7b45f6\" y=\"315.905434\"/>\n      </g>\n     </g>\n    </g>\n    <g id=\"xtick_14\">\n     <g id=\"line2d_19\">\n      <g>\n       <use style=\"stroke:#000000;stroke-width:0.8;\" x=\"176.169794\" xlink:href=\"#m2c4b7b45f6\" y=\"315.905434\"/>\n      </g>\n     </g>\n    </g>\n    <g id=\"xtick_15\">\n     <g id=\"line2d_20\">\n      <g>\n       <use style=\"stroke:#000000;stroke-width:0.8;\" x=\"202.47534\" xlink:href=\"#m2c4b7b45f6\" y=\"315.905434\"/>\n      </g>\n     </g>\n    </g>\n   </g>\n   <g id=\"matplotlib.axis_4\">\n    <g id=\"ytick_5\">\n     <g id=\"line2d_21\">\n      <g>\n       <use style=\"stroke:#000000;stroke-width:0.8;\" x=\"36.5625\" xlink:href=\"#mfb328eec67\" y=\"311.563481\"/>\n      </g>\n     </g>\n     <g id=\"text_15\">\n      <!-- 0 -->\n      <g transform=\"translate(23.2 315.362699)scale(0.1 -0.1)\">\n       <use xlink:href=\"#DejaVuSans-48\"/>\n      </g>\n     </g>\n    </g>\n    <g id=\"ytick_6\">\n     <g id=\"line2d_22\">\n      <g>\n       <use style=\"stroke:#000000;stroke-width:0.8;\" x=\"36.5625\" xlink:href=\"#mfb328eec67\" y=\"274.287815\"/>\n      </g>\n     </g>\n     <g id=\"text_16\">\n      <!-- 2 -->\n      <g transform=\"translate(23.2 278.087034)scale(0.1 -0.1)\">\n       <use xlink:href=\"#DejaVuSans-50\"/>\n      </g>\n     </g>\n    </g>\n    <g id=\"ytick_7\">\n     <g id=\"line2d_23\">\n      <g>\n       <use style=\"stroke:#000000;stroke-width:0.8;\" x=\"36.5625\" xlink:href=\"#mfb328eec67\" y=\"237.01215\"/>\n      </g>\n     </g>\n     <g id=\"text_17\">\n      <!-- 4 -->\n      <g transform=\"translate(23.2 240.811369)scale(0.1 -0.1)\">\n       <use xlink:href=\"#DejaVuSans-52\"/>\n      </g>\n     </g>\n    </g>\n    <g id=\"ytick_8\">\n     <g id=\"line2d_24\">\n      <g>\n       <use style=\"stroke:#000000;stroke-width:0.8;\" x=\"36.5625\" xlink:href=\"#mfb328eec67\" y=\"199.736484\"/>\n      </g>\n     </g>\n     <g id=\"text_18\">\n      <!-- 6 -->\n      <g transform=\"translate(23.2 203.535703)scale(0.1 -0.1)\">\n       <use xlink:href=\"#DejaVuSans-54\"/>\n      </g>\n     </g>\n    </g>\n    <g id=\"text_19\">\n     <!-- $R_t^\\mathrm{local}$ -->\n     <g transform=\"translate(16.4 269.743202)rotate(-90)scale(0.1 -0.1)\">\n      <defs>\n       <path d=\"M 25.203125 64.796875 \nL 20.21875 38.921875 \nL 32.90625 38.921875 \nQ 40.375 38.921875 44.984375 43.046875 \nQ 49.609375 47.171875 49.609375 53.8125 \nQ 49.609375 59.125 46.5 61.953125 \nQ 43.40625 64.796875 37.59375 64.796875 \nz\nM 43.3125 35.015625 \nQ 46.4375 34.28125 48.515625 31.390625 \nQ 50.59375 28.515625 53.328125 19.921875 \nL 59.515625 0 \nL 49.125 0 \nL 43.40625 18.703125 \nQ 41.21875 25.921875 38.328125 28.359375 \nQ 35.453125 30.8125 29.5 30.8125 \nL 18.609375 30.8125 \nL 12.59375 0 \nL 2.6875 0 \nL 16.890625 72.90625 \nL 39.109375 72.90625 \nQ 49.21875 72.90625 54.609375 68.328125 \nQ 60.015625 63.765625 60.015625 55.171875 \nQ 60.015625 47.5625 55.421875 41.984375 \nQ 50.828125 36.421875 43.3125 35.015625 \nz\n\" id=\"DejaVuSans-Oblique-82\"/>\n       <path d=\"M 42.28125 54.6875 \nL 40.921875 47.703125 \nL 23 47.703125 \nL 17.1875 18.015625 \nQ 16.890625 16.359375 16.75 15.234375 \nQ 16.609375 14.109375 16.609375 13.484375 \nQ 16.609375 10.359375 18.484375 8.9375 \nQ 20.359375 7.515625 24.515625 7.515625 \nL 33.59375 7.515625 \nL 32.078125 0 \nL 23.484375 0 \nQ 15.484375 0 11.546875 3.125 \nQ 7.625 6.25 7.625 12.59375 \nQ 7.625 13.71875 7.765625 15.0625 \nQ 7.90625 16.40625 8.203125 18.015625 \nL 14.015625 47.703125 \nL 6.390625 47.703125 \nL 7.8125 54.6875 \nL 15.28125 54.6875 \nL 18.3125 70.21875 \nL 27.296875 70.21875 \nL 24.3125 54.6875 \nz\n\" id=\"DejaVuSans-Oblique-116\"/>\n      </defs>\n      <use transform=\"translate(0 0.529687)\" xlink:href=\"#DejaVuSans-Oblique-82\"/>\n      <use transform=\"translate(76.499193 38.810938)scale(0.7)\" xlink:href=\"#DejaVuSans-108\"/>\n      <use transform=\"translate(95.947435 38.810938)scale(0.7)\" xlink:href=\"#DejaVuSans-111\"/>\n      <use transform=\"translate(138.774583 38.810938)scale(0.7)\" xlink:href=\"#DejaVuSans-99\"/>\n      <use transform=\"translate(177.260911 38.810938)scale(0.7)\" xlink:href=\"#DejaVuSans-97\"/>\n      <use transform=\"translate(220.156419 38.810938)scale(0.7)\" xlink:href=\"#DejaVuSans-108\"/>\n      <use transform=\"translate(69.482422 -26.814063)scale(0.7)\" xlink:href=\"#DejaVuSans-Oblique-116\"/>\n     </g>\n    </g>\n   </g>\n   <g id=\"patch_113\">\n    <path d=\"M 36.5625 315.905434 \nL 36.5625 199.280971 \n\" style=\"fill:none;stroke:#000000;stroke-linecap:square;stroke-linejoin:miter;stroke-width:0.8;\"/>\n   </g>\n   <g id=\"patch_114\">\n    <path d=\"M 214.312836 315.905434 \nL 214.312836 199.280971 \n\" style=\"fill:none;stroke:#000000;stroke-linecap:square;stroke-linejoin:miter;stroke-width:0.8;\"/>\n   </g>\n   <g id=\"patch_115\">\n    <path d=\"M 36.5625 315.905434 \nL 214.312836 315.905434 \n\" style=\"fill:none;stroke:#000000;stroke-linecap:square;stroke-linejoin:miter;stroke-width:0.8;\"/>\n   </g>\n   <g id=\"patch_116\">\n    <path d=\"M 36.5625 199.280971 \nL 214.312836 199.280971 \n\" style=\"fill:none;stroke:#000000;stroke-linecap:square;stroke-linejoin:miter;stroke-width:0.8;\"/>\n   </g>\n   <g id=\"PolyCollection_2\">\n    <path clip-path=\"url(#p342c7ca708)\" d=\"M 44.642061 288.746218 \nL 44.642061 309.708904 \nL 48.399996 309.136085 \nL 52.157931 306.753947 \nL 55.915866 301.476051 \nL 59.673802 295.989886 \nL 63.431737 296.573939 \nL 67.189672 299.402291 \nL 70.947607 302.225272 \nL 74.705543 301.497944 \nL 78.463478 301.872246 \nL 82.221413 301.623279 \nL 85.979348 301.18907 \nL 89.737284 299.669845 \nL 93.495219 298.894954 \nL 97.253154 297.50504 \nL 101.011089 295.342552 \nL 104.769024 293.033601 \nL 108.52696 292.924066 \nL 112.284895 290.845678 \nL 116.04283 289.38948 \nL 119.800765 289.977085 \nL 123.558701 290.856016 \nL 127.316636 289.735994 \nL 131.074571 289.610959 \nL 134.832506 288.95064 \nL 138.590442 289.644207 \nL 142.348377 290.402078 \nL 146.106312 291.33607 \nL 149.864247 291.858827 \nL 153.622182 292.472359 \nL 157.380118 292.785764 \nL 161.138053 293.021274 \nL 164.895988 293.221132 \nL 168.653923 293.887219 \nL 172.411859 293.372965 \nL 176.169794 292.53137 \nL 179.927729 291.97554 \nL 183.685664 291.775569 \nL 187.4436 291.546323 \nL 191.201535 291.511249 \nL 194.95947 290.243247 \nL 198.717405 290.261745 \nL 202.47534 290.845961 \nL 206.233276 291.578885 \nL 206.233276 289.450122 \nL 206.233276 289.450122 \nL 202.47534 288.692484 \nL 198.717405 288.156243 \nL 194.95947 288.154922 \nL 191.201535 289.508793 \nL 187.4436 289.543359 \nL 183.685664 289.77895 \nL 179.927729 289.908348 \nL 176.169794 290.293226 \nL 172.411859 290.956672 \nL 168.653923 291.27254 \nL 164.895988 290.204165 \nL 161.138053 289.608042 \nL 157.380118 288.932991 \nL 153.622182 288.136619 \nL 149.864247 286.925602 \nL 146.106312 285.811598 \nL 142.348377 284.241106 \nL 138.590442 283.032603 \nL 134.832506 281.994804 \nL 131.074571 282.689788 \nL 127.316636 282.580976 \nL 123.558701 283.779119 \nL 119.800765 282.664773 \nL 116.04283 282.050625 \nL 112.284895 283.863344 \nL 108.52696 286.42133 \nL 104.769024 286.394118 \nL 101.011089 288.967921 \nL 97.253154 291.315271 \nL 93.495219 292.650319 \nL 89.737284 293.053533 \nL 85.979348 294.445618 \nL 82.221413 294.277418 \nL 78.463478 293.715566 \nL 74.705543 291.789483 \nL 70.947607 291.145408 \nL 67.189672 283.667728 \nL 63.431737 276.132152 \nL 59.673802 273.02243 \nL 55.915866 280.128788 \nL 52.157931 288.009151 \nL 48.399996 291.072501 \nL 44.642061 288.746218 \nz\n\" style=\"fill:url(#hd3b770c124);\"/>\n   </g>\n   <g id=\"legend_2\">\n    <g id=\"patch_117\">\n     <path d=\"M 135.112836 221.959096 \nL 207.312836 221.959096 \nQ 209.312836 221.959096 209.312836 219.959096 \nL 209.312836 206.280971 \nQ 209.312836 204.280971 207.312836 204.280971 \nL 135.112836 204.280971 \nQ 133.112836 204.280971 133.112836 206.280971 \nL 133.112836 219.959096 \nQ 133.112836 221.959096 135.112836 221.959096 \nz\n\" style=\"fill:#ffffff;opacity:0.8;stroke:#cccccc;stroke-linejoin:miter;\"/>\n    </g>\n    <g id=\"line2d_25\">\n     <path d=\"M 137.112836 212.379409 \nL 157.112836 212.379409 \n\" style=\"fill:none;stroke:#ff0000;stroke-linecap:square;\"/>\n    </g>\n    <g id=\"line2d_26\"/>\n    <g id=\"patch_118\">\n     <path d=\"M 137.112836 215.879409 \nL 157.112836 215.879409 \nL 157.112836 208.879409 \nL 137.112836 208.879409 \nz\n\" style=\"fill:#ff0000;opacity:0.3;\"/>\n    </g>\n    <g id=\"text_20\">\n     <!-- $ϵ=0.25$ -->\n     <g transform=\"translate(165.112836 215.879409)scale(0.1 -0.1)\">\n      <defs>\n       <path d=\"M 51.65625 46 \nQ 50 46.625 48.296875 47.125 \nQ 43.703125 48.390625 38.53125 48.390625 \nQ 29.59375 48.390625 23.6875 43.5625 \nQ 18.171875 39.0625 15.671875 30.8125 \nL 48.734375 30.8125 \nL 47.359375 23.78125 \nL 14.3125 23.78125 \nQ 13.578125 15.53125 17.328125 11.03125 \nQ 21.390625 6.203125 30.328125 6.203125 \nQ 36.578125 6.203125 40.578125 7.46875 \nL 44.4375 8.6875 \nL 42.828125 0.53125 \nL 38.8125 -0.34375 \nQ 33.546875 -1.421875 28.328125 -1.421875 \nQ 15.234375 -1.421875 9.078125 6.203125 \nQ 2.875 13.8125 5.515625 27.28125 \nQ 8.15625 40.765625 17.28125 48.390625 \nQ 26.375 56 39.453125 56 \nQ 44.390625 56 49.5625 54.9375 \nQ 51.421875 54.546875 53.21875 53.953125 \nz\n\" id=\"DejaVuSans-Oblique-1013\"/>\n       <path d=\"M 10.59375 45.40625 \nL 73.1875 45.40625 \nL 73.1875 37.203125 \nL 10.59375 37.203125 \nz\nM 10.59375 25.484375 \nL 73.1875 25.484375 \nL 73.1875 17.1875 \nL 10.59375 17.1875 \nz\n\" id=\"DejaVuSans-61\"/>\n       <path d=\"M 10.6875 12.40625 \nL 21 12.40625 \nL 21 0 \nL 10.6875 0 \nz\n\" id=\"DejaVuSans-46\"/>\n      </defs>\n      <use transform=\"translate(0 0.78125)\" xlink:href=\"#DejaVuSans-Oblique-1013\"/>\n      <use transform=\"translate(81.005859 0.78125)\" xlink:href=\"#DejaVuSans-61\"/>\n      <use transform=\"translate(184.277344 0.78125)\" xlink:href=\"#DejaVuSans-48\"/>\n      <use transform=\"translate(247.900391 0.78125)\" xlink:href=\"#DejaVuSans-46\"/>\n      <use transform=\"translate(274.1875 0.78125)\" xlink:href=\"#DejaVuSans-50\"/>\n      <use transform=\"translate(337.810547 0.78125)\" xlink:href=\"#DejaVuSans-53\"/>\n     </g>\n    </g>\n   </g>\n   <g id=\"PolyCollection_3\">\n    <defs>\n     <path d=\"M 44.642061 -270.325936 \nL 44.642061 -200.256494 \nL 48.399996 -201.899845 \nL 52.157931 -208.922579 \nL 55.915866 -223.38911 \nL 59.673802 -235.267139 \nL 63.431737 -230.156282 \nL 67.189672 -221.778709 \nL 70.947607 -214.875171 \nL 74.705543 -216.445145 \nL 78.463478 -215.682722 \nL 82.221413 -216.142989 \nL 85.979348 -216.792793 \nL 89.737284 -219.359809 \nL 93.495219 -219.777454 \nL 97.253154 -221.029508 \nL 101.011089 -223.34361 \nL 104.769024 -225.389328 \nL 108.52696 -223.619134 \nL 112.284895 -225.215643 \nL 116.04283 -226.052949 \nL 119.800765 -224.202136 \nL 123.558701 -222.30146 \nL 127.316636 -223.33898 \nL 131.074571 -223.085898 \nL 134.832506 -223.532942 \nL 138.590442 -222.197026 \nL 142.348377 -220.780542 \nL 146.106312 -219.156299 \nL 149.864247 -218.055039 \nL 153.622182 -216.875182 \nL 157.380118 -216.095632 \nL 161.138053 -215.418927 \nL 164.895988 -214.792394 \nL 168.653923 -213.68548 \nL 172.411859 -213.944387 \nL 176.169794 -214.590238 \nL 179.927729 -214.946536 \nL 183.685664 -214.957767 \nL 187.4436 -215.032205 \nL 191.201535 -214.928267 \nL 194.95947 -216.114109 \nL 198.717405 -215.974084 \nL 202.47534 -215.270605 \nL 206.233276 -214.441321 \nL 206.233276 -216.81264 \nL 206.233276 -216.81264 \nL 202.47534 -217.707921 \nL 198.717405 -218.406315 \nL 194.95947 -218.571623 \nL 191.201535 -217.322327 \nL 187.4436 -217.478897 \nL 183.685664 -217.449429 \nL 179.927729 -217.564452 \nL 176.169794 -217.435894 \nL 172.411859 -217.036597 \nL 168.653923 -217.060121 \nL 164.895988 -218.709579 \nL 161.138053 -219.875222 \nL 157.380118 -221.167671 \nL 153.622182 -222.643383 \nL 149.864247 -224.68942 \nL 146.106312 -226.668925 \nL 142.348377 -229.261405 \nL 138.590442 -231.428 \nL 134.832506 -233.415213 \nL 131.074571 -233.144379 \nL 127.316636 -234.055563 \nL 123.558701 -233.353079 \nL 119.800765 -236.279319 \nL 116.04283 -238.9414 \nL 112.284895 -238.250922 \nL 108.52696 -236.461229 \nL 104.769024 -239.058581 \nL 101.011089 -236.8121 \nL 97.253154 -234.437765 \nL 93.495219 -233.548326 \nL 89.737284 -234.092679 \nL 85.979348 -231.874239 \nL 82.221413 -232.596549 \nL 78.463478 -233.971661 \nL 74.705543 -238.364939 \nL 70.947607 -240.556597 \nL 67.189672 -260.445104 \nL 63.431737 -284.774475 \nL 59.673802 -301.055729 \nL 55.915866 -287.412052 \nL 52.157931 -267.538303 \nL 48.399996 -260.50528 \nL 44.642061 -270.325936 \nz\n\" id=\"mbe531bdc33\"/>\n    </defs>\n    <g clip-path=\"url(#p342c7ca708)\">\n     <use style=\"fill:#ff0000;fill-opacity:0.3;\" x=\"0\" xlink:href=\"#mbe531bdc33\" y=\"505.637812\"/>\n    </g>\n   </g>\n   <g id=\"line2d_27\">\n    <path clip-path=\"url(#p342c7ca708)\" d=\"M 44.642061 280.73616 \nL 48.399996 282.052645 \nL 52.157931 273.432715 \nL 55.915866 255.419934 \nL 59.673802 242.222897 \nL 63.431737 252.238991 \nL 67.189672 267.531378 \nL 70.947607 279.860155 \nL 74.705543 279.771346 \nL 78.463478 281.997857 \nL 82.221413 282.277943 \nL 85.979348 282.206341 \nL 89.737284 279.78785 \nL 93.495219 279.764053 \nL 97.253154 278.664187 \nL 101.011089 276.332926 \nL 104.769024 274.177084 \nL 108.52696 276.278582 \nL 112.284895 274.644064 \nL 116.04283 273.881509 \nL 119.800765 276.065173 \nL 123.558701 278.45867 \nL 127.316636 277.634831 \nL 131.074571 278.174386 \nL 134.832506 277.782162 \nL 138.590442 279.38979 \nL 142.348377 281.156821 \nL 146.106312 283.246325 \nL 149.864247 284.768464 \nL 153.622182 286.347584 \nL 157.380118 287.444296 \nL 161.138053 288.394795 \nL 164.895988 289.251282 \nL 168.653923 290.57875 \nL 172.411859 290.437922 \nL 176.169794 289.888678 \nL 179.927729 289.604078 \nL 183.685664 289.613188 \nL 187.4436 289.538267 \nL 191.201535 289.656024 \nL 194.95947 288.441127 \nL 198.717405 288.574478 \nL 202.47534 289.26082 \nL 206.233276 290.131803 \n\" style=\"fill:none;stroke:#ff0000;stroke-linecap:square;\"/>\n   </g>\n   <g id=\"line2d_28\">\n    <path clip-path=\"url(#p342c7ca708)\" d=\"M 44.642061 302.329539 \nL 48.399996 302.437368 \nL 52.157931 299.279377 \nL 55.915866 292.467718 \nL 59.673802 286.048492 \nL 63.431737 287.729282 \nL 67.189672 292.651549 \nL 70.947607 297.473482 \nL 74.705543 297.297769 \nL 78.463478 298.312526 \nL 82.221413 298.397035 \nL 85.979348 298.221368 \nL 89.737284 296.761643 \nL 93.495219 296.141341 \nL 97.253154 294.769623 \nL 101.011089 292.528471 \nL 104.769024 290.092628 \nL 108.52696 290.009993 \nL 112.284895 287.72003 \nL 116.04283 286.096325 \nL 119.800765 286.673795 \nL 123.558701 287.681456 \nL 127.316636 286.578507 \nL 131.074571 286.567806 \nL 134.832506 285.888316 \nL 138.590442 286.735089 \nL 142.348377 287.715259 \nL 146.106312 288.965221 \nL 149.864247 289.779892 \nL 153.622182 290.672734 \nL 157.380118 291.207173 \nL 161.138053 291.636779 \nL 164.895988 292.001548 \nL 168.653923 292.823216 \nL 172.411859 292.382718 \nL 176.169794 291.600962 \nL 179.927729 291.092752 \nL 183.685664 290.89373 \nL 187.4436 290.645604 \nL 191.201535 290.604347 \nL 194.95947 289.298423 \nL 198.717405 289.295861 \nL 202.47534 289.847721 \nL 206.233276 290.604792 \n\" style=\"fill:none;stroke:#000000;stroke-dasharray:3.7,1.6;stroke-dashoffset:0;\"/>\n   </g>\n  </g>\n  <g id=\"axes_3\">\n   <g id=\"patch_119\">\n    <path d=\"M 236.356785 315.905434 \nL 414.107121 315.905434 \nL 414.107121 199.280971 \nL 236.356785 199.280971 \nz\n\" style=\"fill:#ffffff;\"/>\n   </g>\n   <g id=\"line2d_29\">\n    <path clip-path=\"url(#pa39d3cb28f)\" d=\"M 236.356785 246.969675 \nL 414.107121 246.969675 \n\" style=\"fill:none;stroke:#000000;stroke-dasharray:2,3.3;stroke-dashoffset:0;stroke-width:2;\"/>\n   </g>\n   <g id=\"PolyCollection_4\">\n    <defs>\n     <path d=\"M 244.436345 -216.891595 \nL 244.436345 -195.928909 \nL 248.19428 -196.501727 \nL 251.952216 -198.883866 \nL 255.710151 -204.161762 \nL 259.468086 -209.647927 \nL 263.226021 -209.063874 \nL 266.983957 -206.235521 \nL 270.741892 -203.41254 \nL 274.499827 -204.139869 \nL 278.257762 -203.765567 \nL 282.015698 -204.014534 \nL 285.773633 -204.448743 \nL 289.531568 -205.967967 \nL 293.289503 -206.742858 \nL 297.047438 -208.132773 \nL 300.805374 -210.29526 \nL 304.563309 -212.604212 \nL 308.321244 -212.713747 \nL 312.079179 -214.792134 \nL 315.837115 -216.248333 \nL 319.59505 -215.660727 \nL 323.352985 -214.781796 \nL 327.11092 -215.901818 \nL 330.868856 -216.026853 \nL 334.626791 -216.687173 \nL 338.384726 -215.993606 \nL 342.142661 -215.235734 \nL 345.900596 -214.301742 \nL 349.658532 -213.778985 \nL 353.416467 -213.165454 \nL 357.174402 -212.852048 \nL 360.932337 -212.616538 \nL 364.690273 -212.416681 \nL 368.448208 -211.750594 \nL 372.206143 -212.264848 \nL 375.964078 -213.106443 \nL 379.722014 -213.662272 \nL 383.479949 -213.862243 \nL 387.237884 -214.09149 \nL 390.995819 -214.126563 \nL 394.753754 -215.394565 \nL 398.51169 -215.376067 \nL 402.269625 -214.791851 \nL 406.02756 -214.058928 \nL 406.02756 -216.18769 \nL 406.02756 -216.18769 \nL 402.269625 -216.945328 \nL 398.51169 -217.48157 \nL 394.753754 -217.48289 \nL 390.995819 -216.12902 \nL 387.237884 -216.094454 \nL 383.479949 -215.858862 \nL 379.722014 -215.729465 \nL 375.964078 -215.344586 \nL 372.206143 -214.681141 \nL 368.448208 -214.365273 \nL 364.690273 -215.433648 \nL 360.932337 -216.029771 \nL 357.174402 -216.704821 \nL 353.416467 -217.501194 \nL 349.658532 -218.71221 \nL 345.900596 -219.826214 \nL 342.142661 -221.396706 \nL 338.384726 -222.60521 \nL 334.626791 -223.643008 \nL 330.868856 -222.948024 \nL 327.11092 -223.056837 \nL 323.352985 -221.858693 \nL 319.59505 -222.97304 \nL 315.837115 -223.587187 \nL 312.079179 -221.774468 \nL 308.321244 -219.216483 \nL 304.563309 -219.243694 \nL 300.805374 -216.669891 \nL 297.047438 -214.322541 \nL 293.289503 -212.987493 \nL 289.531568 -212.58428 \nL 285.773633 -211.192195 \nL 282.015698 -211.360394 \nL 278.257762 -211.922247 \nL 274.499827 -213.84833 \nL 270.741892 -214.492405 \nL 266.983957 -221.970085 \nL 263.226021 -229.505661 \nL 259.468086 -232.615382 \nL 255.710151 -225.509024 \nL 251.952216 -217.628661 \nL 248.19428 -214.565312 \nL 244.436345 -216.891595 \nz\n\" id=\"ma589702cf7\"/>\n    </defs>\n    <g clip-path=\"url(#pa39d3cb28f)\">\n     <use style=\"fill-opacity:0.35;\" x=\"0\" xlink:href=\"#ma589702cf7\" y=\"505.637812\"/>\n    </g>\n   </g>\n   <g id=\"matplotlib.axis_5\">\n    <g id=\"xtick_16\">\n     <g id=\"line2d_30\">\n      <g>\n       <use style=\"stroke:#000000;stroke-width:0.8;\" x=\"244.436345\" xlink:href=\"#m2c4b7b45f6\" y=\"315.905434\"/>\n      </g>\n     </g>\n    </g>\n    <g id=\"xtick_17\">\n     <g id=\"line2d_31\">\n      <g>\n       <use style=\"stroke:#000000;stroke-width:0.8;\" x=\"270.741892\" xlink:href=\"#m2c4b7b45f6\" y=\"315.905434\"/>\n      </g>\n     </g>\n    </g>\n    <g id=\"xtick_18\">\n     <g id=\"line2d_32\">\n      <g>\n       <use style=\"stroke:#000000;stroke-width:0.8;\" x=\"297.047438\" xlink:href=\"#m2c4b7b45f6\" y=\"315.905434\"/>\n      </g>\n     </g>\n    </g>\n    <g id=\"xtick_19\">\n     <g id=\"line2d_33\">\n      <g>\n       <use style=\"stroke:#000000;stroke-width:0.8;\" x=\"323.352985\" xlink:href=\"#m2c4b7b45f6\" y=\"315.905434\"/>\n      </g>\n     </g>\n    </g>\n    <g id=\"xtick_20\">\n     <g id=\"line2d_34\">\n      <g>\n       <use style=\"stroke:#000000;stroke-width:0.8;\" x=\"349.658532\" xlink:href=\"#m2c4b7b45f6\" y=\"315.905434\"/>\n      </g>\n     </g>\n    </g>\n    <g id=\"xtick_21\">\n     <g id=\"line2d_35\">\n      <g>\n       <use style=\"stroke:#000000;stroke-width:0.8;\" x=\"375.964078\" xlink:href=\"#m2c4b7b45f6\" y=\"315.905434\"/>\n      </g>\n     </g>\n    </g>\n    <g id=\"xtick_22\">\n     <g id=\"line2d_36\">\n      <g>\n       <use style=\"stroke:#000000;stroke-width:0.8;\" x=\"402.269625\" xlink:href=\"#m2c4b7b45f6\" y=\"315.905434\"/>\n      </g>\n     </g>\n    </g>\n   </g>\n   <g id=\"matplotlib.axis_6\">\n    <g id=\"ytick_9\">\n     <g id=\"line2d_37\">\n      <g>\n       <use style=\"stroke:#000000;stroke-width:0.8;\" x=\"236.356785\" xlink:href=\"#mfb328eec67\" y=\"311.563481\"/>\n      </g>\n     </g>\n    </g>\n    <g id=\"ytick_10\">\n     <g id=\"line2d_38\">\n      <g>\n       <use style=\"stroke:#000000;stroke-width:0.8;\" x=\"236.356785\" xlink:href=\"#mfb328eec67\" y=\"274.287815\"/>\n      </g>\n     </g>\n    </g>\n    <g id=\"ytick_11\">\n     <g id=\"line2d_39\">\n      <g>\n       <use style=\"stroke:#000000;stroke-width:0.8;\" x=\"236.356785\" xlink:href=\"#mfb328eec67\" y=\"237.01215\"/>\n      </g>\n     </g>\n    </g>\n    <g id=\"ytick_12\">\n     <g id=\"line2d_40\">\n      <g>\n       <use style=\"stroke:#000000;stroke-width:0.8;\" x=\"236.356785\" xlink:href=\"#mfb328eec67\" y=\"199.736484\"/>\n      </g>\n     </g>\n    </g>\n   </g>\n   <g id=\"patch_120\">\n    <path d=\"M 236.356785 315.905434 \nL 236.356785 199.280971 \n\" style=\"fill:none;stroke:#000000;stroke-linecap:square;stroke-linejoin:miter;stroke-width:0.8;\"/>\n   </g>\n   <g id=\"patch_121\">\n    <path d=\"M 414.107121 315.905434 \nL 414.107121 199.280971 \n\" style=\"fill:none;stroke:#000000;stroke-linecap:square;stroke-linejoin:miter;stroke-width:0.8;\"/>\n   </g>\n   <g id=\"patch_122\">\n    <path d=\"M 236.356785 315.905434 \nL 414.107121 315.905434 \n\" style=\"fill:none;stroke:#000000;stroke-linecap:square;stroke-linejoin:miter;stroke-width:0.8;\"/>\n   </g>\n   <g id=\"patch_123\">\n    <path d=\"M 236.356785 199.280971 \nL 414.107121 199.280971 \n\" style=\"fill:none;stroke:#000000;stroke-linecap:square;stroke-linejoin:miter;stroke-width:0.8;\"/>\n   </g>\n   <g id=\"PolyCollection_5\">\n    <path clip-path=\"url(#pa39d3cb28f)\" d=\"M 244.436345 288.746218 \nL 244.436345 309.708904 \nL 248.19428 309.136085 \nL 251.952216 306.753947 \nL 255.710151 301.476051 \nL 259.468086 295.989886 \nL 263.226021 296.573939 \nL 266.983957 299.402291 \nL 270.741892 302.225272 \nL 274.499827 301.497944 \nL 278.257762 301.872246 \nL 282.015698 301.623279 \nL 285.773633 301.18907 \nL 289.531568 299.669845 \nL 293.289503 298.894954 \nL 297.047438 297.50504 \nL 300.805374 295.342552 \nL 304.563309 293.033601 \nL 308.321244 292.924066 \nL 312.079179 290.845678 \nL 315.837115 289.38948 \nL 319.59505 289.977085 \nL 323.352985 290.856016 \nL 327.11092 289.735994 \nL 330.868856 289.610959 \nL 334.626791 288.95064 \nL 338.384726 289.644207 \nL 342.142661 290.402078 \nL 345.900596 291.33607 \nL 349.658532 291.858827 \nL 353.416467 292.472359 \nL 357.174402 292.785764 \nL 360.932337 293.021274 \nL 364.690273 293.221132 \nL 368.448208 293.887219 \nL 372.206143 293.372965 \nL 375.964078 292.53137 \nL 379.722014 291.97554 \nL 383.479949 291.775569 \nL 387.237884 291.546323 \nL 390.995819 291.511249 \nL 394.753754 290.243247 \nL 398.51169 290.261745 \nL 402.269625 290.845961 \nL 406.02756 291.578885 \nL 406.02756 289.450122 \nL 406.02756 289.450122 \nL 402.269625 288.692484 \nL 398.51169 288.156243 \nL 394.753754 288.154922 \nL 390.995819 289.508793 \nL 387.237884 289.543359 \nL 383.479949 289.77895 \nL 379.722014 289.908348 \nL 375.964078 290.293226 \nL 372.206143 290.956672 \nL 368.448208 291.27254 \nL 364.690273 290.204165 \nL 360.932337 289.608042 \nL 357.174402 288.932991 \nL 353.416467 288.136619 \nL 349.658532 286.925602 \nL 345.900596 285.811598 \nL 342.142661 284.241106 \nL 338.384726 283.032603 \nL 334.626791 281.994804 \nL 330.868856 282.689788 \nL 327.11092 282.580976 \nL 323.352985 283.779119 \nL 319.59505 282.664773 \nL 315.837115 282.050625 \nL 312.079179 283.863344 \nL 308.321244 286.42133 \nL 304.563309 286.394118 \nL 300.805374 288.967921 \nL 297.047438 291.315271 \nL 293.289503 292.650319 \nL 289.531568 293.053533 \nL 285.773633 294.445618 \nL 282.015698 294.277418 \nL 278.257762 293.715566 \nL 274.499827 291.789483 \nL 270.741892 291.145408 \nL 266.983957 283.667728 \nL 263.226021 276.132152 \nL 259.468086 273.02243 \nL 255.710151 280.128788 \nL 251.952216 288.009151 \nL 248.19428 291.072501 \nL 244.436345 288.746218 \nz\n\" style=\"fill:url(#hd3b770c124);\"/>\n   </g>\n   <g id=\"legend_3\">\n    <g id=\"patch_124\">\n     <path d=\"M 340.707121 221.959096 \nL 407.107121 221.959096 \nQ 409.107121 221.959096 409.107121 219.959096 \nL 409.107121 206.280971 \nQ 409.107121 204.280971 407.107121 204.280971 \nL 340.707121 204.280971 \nQ 338.707121 204.280971 338.707121 206.280971 \nL 338.707121 219.959096 \nQ 338.707121 221.959096 340.707121 221.959096 \nz\n\" style=\"fill:#ffffff;opacity:0.8;stroke:#cccccc;stroke-linejoin:miter;\"/>\n    </g>\n    <g id=\"line2d_41\">\n     <path d=\"M 342.707121 212.379409 \nL 362.707121 212.379409 \n\" style=\"fill:none;stroke:#ff0000;stroke-linecap:square;\"/>\n    </g>\n    <g id=\"line2d_42\"/>\n    <g id=\"patch_125\">\n     <path d=\"M 342.707121 215.879409 \nL 362.707121 215.879409 \nL 362.707121 208.879409 \nL 342.707121 208.879409 \nz\n\" style=\"fill:#ff0000;opacity:0.3;\"/>\n    </g>\n    <g id=\"text_21\">\n     <!-- $ϵ=0.5$ -->\n     <g transform=\"translate(370.707121 215.879409)scale(0.1 -0.1)\">\n      <use transform=\"translate(0 0.78125)\" xlink:href=\"#DejaVuSans-Oblique-1013\"/>\n      <use transform=\"translate(81.005859 0.78125)\" xlink:href=\"#DejaVuSans-61\"/>\n      <use transform=\"translate(184.277344 0.78125)\" xlink:href=\"#DejaVuSans-48\"/>\n      <use transform=\"translate(247.900391 0.78125)\" xlink:href=\"#DejaVuSans-46\"/>\n      <use transform=\"translate(279.6875 0.78125)\" xlink:href=\"#DejaVuSans-53\"/>\n     </g>\n    </g>\n   </g>\n   <g id=\"PolyCollection_6\">\n    <defs>\n     <path d=\"M 244.436345 -236.892938 \nL 244.436345 -197.551844 \nL 248.19428 -198.56866 \nL 251.952216 -202.831182 \nL 255.710151 -212.004557 \nL 259.468086 -220.693217 \nL 263.226021 -218.644799 \nL 266.983957 -213.504117 \nL 270.741892 -208.835838 \nL 274.499827 -209.968553 \nL 278.257762 -209.400621 \nL 282.015698 -209.762507 \nL 285.773633 -210.341864 \nL 289.531568 -212.463305 \nL 293.289503 -213.222158 \nL 297.047438 -214.729087 \nL 300.805374 -217.170408 \nL 304.563309 -219.551293 \nL 308.321244 -218.810161 \nL 312.079179 -220.750926 \nL 315.837115 -221.949461 \nL 319.59505 -220.693668 \nL 323.352985 -219.254673 \nL 327.11092 -220.354874 \nL 330.868856 -220.277769 \nL 334.626791 -220.833119 \nL 338.384726 -219.773258 \nL 342.142661 -218.636134 \nL 345.900596 -217.299548 \nL 349.658532 -216.439049 \nL 353.416467 -215.490055 \nL 357.174402 -214.898931 \nL 360.932337 -214.398221 \nL 364.690273 -213.938781 \nL 368.448208 -212.998958 \nL 372.206143 -213.354852 \nL 375.964078 -214.074522 \nL 379.722014 -214.50334 \nL 383.479949 -214.581581 \nL 387.237884 -214.71047 \nL 390.995819 -214.655026 \nL 394.753754 -215.869745 \nL 398.51169 -215.771623 \nL 402.269625 -215.108991 \nL 406.02756 -214.312574 \nL 406.02756 -216.599721 \nL 406.02756 -216.599721 \nL 402.269625 -217.447008 \nL 398.51169 -218.08867 \nL 394.753754 -218.195974 \nL 390.995819 -216.908439 \nL 387.237884 -216.996121 \nL 383.479949 -216.891568 \nL 379.722014 -216.916669 \nL 375.964078 -216.691949 \nL 372.206143 -216.191276 \nL 368.448208 -216.083144 \nL 364.690273 -217.50905 \nL 360.932337 -218.45014 \nL 357.174402 -219.494892 \nL 353.416467 -220.693667 \nL 349.658532 -222.397045 \nL 345.900596 -224.015947 \nL 342.142661 -226.180308 \nL 338.384726 -227.937044 \nL 334.626791 -229.510995 \nL 330.868856 -229.029221 \nL 327.11092 -229.565084 \nL 323.352985 -228.591198 \nL 319.59505 -230.659797 \nL 315.837115 -232.303066 \nL 312.079179 -230.927779 \nL 308.321244 -228.55398 \nL 304.563309 -229.683526 \nL 300.805374 -227.000839 \nL 297.047438 -224.380599 \nL 293.289503 -223.038198 \nL 289.531568 -222.915594 \nL 285.773633 -221.020815 \nL 282.015698 -221.404581 \nL 278.257762 -222.333866 \nL 274.499827 -225.412458 \nL 270.741892 -226.679517 \nL 266.983957 -239.53086 \nL 263.226021 -253.715224 \nL 259.468086 -261.234831 \nL 255.710151 -250.403556 \nL 251.952216 -237.121801 \nL 248.19428 -232.088891 \nL 244.436345 -236.892938 \nz\n\" id=\"mb72a85f4ae\"/>\n    </defs>\n    <g clip-path=\"url(#pa39d3cb28f)\">\n     <use style=\"fill:#ff0000;fill-opacity:0.3;\" x=\"0\" xlink:href=\"#mb72a85f4ae\" y=\"505.637812\"/>\n    </g>\n   </g>\n   <g id=\"line2d_43\">\n    <path clip-path=\"url(#pa39d3cb28f)\" d=\"M 244.436345 294.240548 \nL 248.19428 294.648213 \nL 251.952216 289.152667 \nL 255.710151 277.472317 \nL 259.468086 267.477078 \nL 263.226021 271.924138 \nL 266.983957 281.0463 \nL 270.741892 289.185396 \nL 274.499827 289.008352 \nL 278.257762 290.600962 \nL 282.015698 290.765363 \nL 285.773633 290.595894 \nL 289.531568 288.575638 \nL 293.289503 288.078891 \nL 297.047438 286.635545 \nL 300.805374 284.119723 \nL 304.563309 281.587895 \nL 308.321244 282.462462 \nL 312.079179 280.352749 \nL 315.837115 279.077612 \nL 319.59505 280.482543 \nL 323.352985 282.234951 \nL 327.11092 281.252163 \nL 330.868856 281.535805 \nL 334.626791 280.999052 \nL 338.384726 282.278014 \nL 342.142661 283.710353 \nL 345.900596 285.449471 \nL 349.658532 286.677168 \nL 353.416467 287.975721 \nL 357.174402 288.844461 \nL 360.932337 289.586926 \nL 364.690273 290.250415 \nL 368.448208 291.384629 \nL 372.206143 291.128837 \nL 375.964078 290.49141 \nL 379.722014 290.123998 \nL 383.479949 290.057477 \nL 387.237884 289.920316 \nL 390.995819 289.981632 \nL 394.753754 288.734226 \nL 398.51169 288.82015 \nL 402.269625 289.460004 \nL 406.02756 290.291864 \n\" style=\"fill:none;stroke:#ff0000;stroke-linecap:square;\"/>\n   </g>\n   <g id=\"line2d_44\">\n    <path clip-path=\"url(#pa39d3cb28f)\" d=\"M 244.436345 302.329539 \nL 248.19428 302.437368 \nL 251.952216 299.279377 \nL 255.710151 292.467718 \nL 259.468086 286.048492 \nL 263.226021 287.729282 \nL 266.983957 292.651549 \nL 270.741892 297.473482 \nL 274.499827 297.297769 \nL 278.257762 298.312526 \nL 282.015698 298.397035 \nL 285.773633 298.221368 \nL 289.531568 296.761643 \nL 293.289503 296.141341 \nL 297.047438 294.769623 \nL 300.805374 292.528471 \nL 304.563309 290.092628 \nL 308.321244 290.009993 \nL 312.079179 287.72003 \nL 315.837115 286.096325 \nL 319.59505 286.673795 \nL 323.352985 287.681456 \nL 327.11092 286.578507 \nL 330.868856 286.567806 \nL 334.626791 285.888316 \nL 338.384726 286.735089 \nL 342.142661 287.715259 \nL 345.900596 288.965221 \nL 349.658532 289.779892 \nL 353.416467 290.672734 \nL 357.174402 291.207173 \nL 360.932337 291.636779 \nL 364.690273 292.001548 \nL 368.448208 292.823216 \nL 372.206143 292.382718 \nL 375.964078 291.600962 \nL 379.722014 291.092752 \nL 383.479949 290.89373 \nL 387.237884 290.645604 \nL 390.995819 290.604347 \nL 394.753754 289.298423 \nL 398.51169 289.295861 \nL 402.269625 289.847721 \nL 406.02756 290.604792 \n\" style=\"fill:none;stroke:#000000;stroke-dasharray:3.7,1.6;stroke-dashoffset:0;\"/>\n   </g>\n  </g>\n  <g id=\"axes_4\">\n   <g id=\"patch_126\">\n    <path d=\"M 36.5625 460.008021 \nL 214.312836 460.008021 \nL 214.312836 343.383559 \nL 36.5625 343.383559 \nz\n\" style=\"fill:#ffffff;\"/>\n   </g>\n   <g id=\"line2d_45\">\n    <path clip-path=\"url(#pa644f81edf)\" d=\"M 36.5625 391.072262 \nL 214.312836 391.072262 \n\" style=\"fill:none;stroke:#000000;stroke-dasharray:2,3.3;stroke-dashoffset:0;stroke-width:2;\"/>\n   </g>\n   <g id=\"PolyCollection_7\">\n    <defs>\n     <path d=\"M 44.642061 -72.789008 \nL 44.642061 -51.826321 \nL 48.399996 -52.39914 \nL 52.157931 -54.781278 \nL 55.915866 -60.059174 \nL 59.673802 -65.54534 \nL 63.431737 -64.961287 \nL 67.189672 -62.132934 \nL 70.947607 -59.309953 \nL 74.705543 -60.037281 \nL 78.463478 -59.662979 \nL 82.221413 -59.911946 \nL 85.979348 -60.346155 \nL 89.737284 -61.86538 \nL 93.495219 -62.640271 \nL 97.253154 -64.030185 \nL 101.011089 -66.192673 \nL 104.769024 -68.501625 \nL 108.52696 -68.611159 \nL 112.284895 -70.689547 \nL 116.04283 -72.145745 \nL 119.800765 -71.55814 \nL 123.558701 -70.679209 \nL 127.316636 -71.799231 \nL 131.074571 -71.924266 \nL 134.832506 -72.584585 \nL 138.590442 -71.891018 \nL 142.348377 -71.133147 \nL 146.106312 -70.199155 \nL 149.864247 -69.676398 \nL 153.622182 -69.062866 \nL 157.380118 -68.749461 \nL 161.138053 -68.513951 \nL 164.895988 -68.314093 \nL 168.653923 -67.648006 \nL 172.411859 -68.16226 \nL 176.169794 -69.003855 \nL 179.927729 -69.559685 \nL 183.685664 -69.759656 \nL 187.4436 -69.988902 \nL 191.201535 -70.023976 \nL 194.95947 -71.291978 \nL 198.717405 -71.27348 \nL 202.47534 -70.689264 \nL 206.233276 -69.95634 \nL 206.233276 -72.085103 \nL 206.233276 -72.085103 \nL 202.47534 -72.842741 \nL 198.717405 -73.378982 \nL 194.95947 -73.380303 \nL 191.201535 -72.026432 \nL 187.4436 -71.991866 \nL 183.685664 -71.756275 \nL 179.927729 -71.626877 \nL 176.169794 -71.241999 \nL 172.411859 -70.578553 \nL 168.653923 -70.262685 \nL 164.895988 -71.331061 \nL 161.138053 -71.927183 \nL 157.380118 -72.602234 \nL 153.622182 -73.398606 \nL 149.864247 -74.609623 \nL 146.106312 -75.723627 \nL 142.348377 -77.294119 \nL 138.590442 -78.502622 \nL 134.832506 -79.540421 \nL 131.074571 -78.845437 \nL 127.316636 -78.95425 \nL 123.558701 -77.756106 \nL 119.800765 -78.870453 \nL 116.04283 -79.4846 \nL 112.284895 -77.671881 \nL 108.52696 -75.113895 \nL 104.769024 -75.141107 \nL 101.011089 -72.567304 \nL 97.253154 -70.219954 \nL 93.495219 -68.884906 \nL 89.737284 -68.481692 \nL 85.979348 -67.089607 \nL 82.221413 -67.257807 \nL 78.463478 -67.819659 \nL 74.705543 -69.745742 \nL 70.947607 -70.389817 \nL 67.189672 -77.867497 \nL 63.431737 -85.403074 \nL 59.673802 -88.512795 \nL 55.915866 -81.406437 \nL 52.157931 -73.526074 \nL 48.399996 -70.462725 \nL 44.642061 -72.789008 \nz\n\" id=\"m9cc81803bd\"/>\n    </defs>\n    <g clip-path=\"url(#pa644f81edf)\">\n     <use style=\"fill-opacity:0.35;\" x=\"0\" xlink:href=\"#m9cc81803bd\" y=\"505.637812\"/>\n    </g>\n   </g>\n   <g id=\"matplotlib.axis_7\">\n    <g id=\"xtick_23\">\n     <g id=\"line2d_46\">\n      <g>\n       <use style=\"stroke:#000000;stroke-width:0.8;\" x=\"44.642061\" xlink:href=\"#m2c4b7b45f6\" y=\"460.008021\"/>\n      </g>\n     </g>\n     <g id=\"text_22\">\n      <!-- Mar 08 -->\n      <g transform=\"translate(34.300072 496.967251)rotate(-45)scale(0.1 -0.1)\">\n       <use xlink:href=\"#DejaVuSans-77\"/>\n       <use x=\"86.279297\" xlink:href=\"#DejaVuSans-97\"/>\n       <use x=\"147.558594\" xlink:href=\"#DejaVuSans-114\"/>\n       <use x=\"188.671875\" xlink:href=\"#DejaVuSans-32\"/>\n       <use x=\"220.458984\" xlink:href=\"#DejaVuSans-48\"/>\n       <use x=\"284.082031\" xlink:href=\"#DejaVuSans-56\"/>\n      </g>\n     </g>\n    </g>\n    <g id=\"xtick_24\">\n     <g id=\"line2d_47\">\n      <g>\n       <use style=\"stroke:#000000;stroke-width:0.8;\" x=\"70.947607\" xlink:href=\"#m2c4b7b45f6\" y=\"460.008021\"/>\n      </g>\n     </g>\n     <g id=\"text_23\">\n      <!-- Mar 15 -->\n      <g transform=\"translate(60.605618 496.967251)rotate(-45)scale(0.1 -0.1)\">\n       <use xlink:href=\"#DejaVuSans-77\"/>\n       <use x=\"86.279297\" xlink:href=\"#DejaVuSans-97\"/>\n       <use x=\"147.558594\" xlink:href=\"#DejaVuSans-114\"/>\n       <use x=\"188.671875\" xlink:href=\"#DejaVuSans-32\"/>\n       <use x=\"220.458984\" xlink:href=\"#DejaVuSans-49\"/>\n       <use x=\"284.082031\" xlink:href=\"#DejaVuSans-53\"/>\n      </g>\n     </g>\n    </g>\n    <g id=\"xtick_25\">\n     <g id=\"line2d_48\">\n      <g>\n       <use style=\"stroke:#000000;stroke-width:0.8;\" x=\"97.253154\" xlink:href=\"#m2c4b7b45f6\" y=\"460.008021\"/>\n      </g>\n     </g>\n     <g id=\"text_24\">\n      <!-- Mar 22 -->\n      <g transform=\"translate(86.911165 496.967251)rotate(-45)scale(0.1 -0.1)\">\n       <use xlink:href=\"#DejaVuSans-77\"/>\n       <use x=\"86.279297\" xlink:href=\"#DejaVuSans-97\"/>\n       <use x=\"147.558594\" xlink:href=\"#DejaVuSans-114\"/>\n       <use x=\"188.671875\" xlink:href=\"#DejaVuSans-32\"/>\n       <use x=\"220.458984\" xlink:href=\"#DejaVuSans-50\"/>\n       <use x=\"284.082031\" xlink:href=\"#DejaVuSans-50\"/>\n      </g>\n     </g>\n    </g>\n    <g id=\"xtick_26\">\n     <g id=\"line2d_49\">\n      <g>\n       <use style=\"stroke:#000000;stroke-width:0.8;\" x=\"123.558701\" xlink:href=\"#m2c4b7b45f6\" y=\"460.008021\"/>\n      </g>\n     </g>\n     <g id=\"text_25\">\n      <!-- Mar 29 -->\n      <g transform=\"translate(113.216711 496.967251)rotate(-45)scale(0.1 -0.1)\">\n       <use xlink:href=\"#DejaVuSans-77\"/>\n       <use x=\"86.279297\" xlink:href=\"#DejaVuSans-97\"/>\n       <use x=\"147.558594\" xlink:href=\"#DejaVuSans-114\"/>\n       <use x=\"188.671875\" xlink:href=\"#DejaVuSans-32\"/>\n       <use x=\"220.458984\" xlink:href=\"#DejaVuSans-50\"/>\n       <use x=\"284.082031\" xlink:href=\"#DejaVuSans-57\"/>\n      </g>\n     </g>\n    </g>\n    <g id=\"xtick_27\">\n     <g id=\"line2d_50\">\n      <g>\n       <use style=\"stroke:#000000;stroke-width:0.8;\" x=\"149.864247\" xlink:href=\"#m2c4b7b45f6\" y=\"460.008021\"/>\n      </g>\n     </g>\n     <g id=\"text_26\">\n      <!-- Apr 05 -->\n      <g transform=\"translate(140.076343 495.859082)rotate(-45)scale(0.1 -0.1)\">\n       <use xlink:href=\"#DejaVuSans-65\"/>\n       <use x=\"68.408203\" xlink:href=\"#DejaVuSans-112\"/>\n       <use x=\"131.884766\" xlink:href=\"#DejaVuSans-114\"/>\n       <use x=\"172.998047\" xlink:href=\"#DejaVuSans-32\"/>\n       <use x=\"204.785156\" xlink:href=\"#DejaVuSans-48\"/>\n       <use x=\"268.408203\" xlink:href=\"#DejaVuSans-53\"/>\n      </g>\n     </g>\n    </g>\n    <g id=\"xtick_28\">\n     <g id=\"line2d_51\">\n      <g>\n       <use style=\"stroke:#000000;stroke-width:0.8;\" x=\"176.169794\" xlink:href=\"#m2c4b7b45f6\" y=\"460.008021\"/>\n      </g>\n     </g>\n     <g id=\"text_27\">\n      <!-- Apr 12 -->\n      <g transform=\"translate(166.381889 495.859082)rotate(-45)scale(0.1 -0.1)\">\n       <use xlink:href=\"#DejaVuSans-65\"/>\n       <use x=\"68.408203\" xlink:href=\"#DejaVuSans-112\"/>\n       <use x=\"131.884766\" xlink:href=\"#DejaVuSans-114\"/>\n       <use x=\"172.998047\" xlink:href=\"#DejaVuSans-32\"/>\n       <use x=\"204.785156\" xlink:href=\"#DejaVuSans-49\"/>\n       <use x=\"268.408203\" xlink:href=\"#DejaVuSans-50\"/>\n      </g>\n     </g>\n    </g>\n    <g id=\"xtick_29\">\n     <g id=\"line2d_52\">\n      <g>\n       <use style=\"stroke:#000000;stroke-width:0.8;\" x=\"202.47534\" xlink:href=\"#m2c4b7b45f6\" y=\"460.008021\"/>\n      </g>\n     </g>\n     <g id=\"text_28\">\n      <!-- Apr 19 -->\n      <g transform=\"translate(192.687436 495.859082)rotate(-45)scale(0.1 -0.1)\">\n       <use xlink:href=\"#DejaVuSans-65\"/>\n       <use x=\"68.408203\" xlink:href=\"#DejaVuSans-112\"/>\n       <use x=\"131.884766\" xlink:href=\"#DejaVuSans-114\"/>\n       <use x=\"172.998047\" xlink:href=\"#DejaVuSans-32\"/>\n       <use x=\"204.785156\" xlink:href=\"#DejaVuSans-49\"/>\n       <use x=\"268.408203\" xlink:href=\"#DejaVuSans-57\"/>\n      </g>\n     </g>\n    </g>\n   </g>\n   <g id=\"matplotlib.axis_8\">\n    <g id=\"ytick_13\">\n     <g id=\"line2d_53\">\n      <g>\n       <use style=\"stroke:#000000;stroke-width:0.8;\" x=\"36.5625\" xlink:href=\"#mfb328eec67\" y=\"455.666068\"/>\n      </g>\n     </g>\n     <g id=\"text_29\">\n      <!-- 0 -->\n      <g transform=\"translate(23.2 459.465287)scale(0.1 -0.1)\">\n       <use xlink:href=\"#DejaVuSans-48\"/>\n      </g>\n     </g>\n    </g>\n    <g id=\"ytick_14\">\n     <g id=\"line2d_54\">\n      <g>\n       <use style=\"stroke:#000000;stroke-width:0.8;\" x=\"36.5625\" xlink:href=\"#mfb328eec67\" y=\"418.390403\"/>\n      </g>\n     </g>\n     <g id=\"text_30\">\n      <!-- 2 -->\n      <g transform=\"translate(23.2 422.189621)scale(0.1 -0.1)\">\n       <use xlink:href=\"#DejaVuSans-50\"/>\n      </g>\n     </g>\n    </g>\n    <g id=\"ytick_15\">\n     <g id=\"line2d_55\">\n      <g>\n       <use style=\"stroke:#000000;stroke-width:0.8;\" x=\"36.5625\" xlink:href=\"#mfb328eec67\" y=\"381.114737\"/>\n      </g>\n     </g>\n     <g id=\"text_31\">\n      <!-- 4 -->\n      <g transform=\"translate(23.2 384.913956)scale(0.1 -0.1)\">\n       <use xlink:href=\"#DejaVuSans-52\"/>\n      </g>\n     </g>\n    </g>\n    <g id=\"ytick_16\">\n     <g id=\"line2d_56\">\n      <g>\n       <use style=\"stroke:#000000;stroke-width:0.8;\" x=\"36.5625\" xlink:href=\"#mfb328eec67\" y=\"343.839072\"/>\n      </g>\n     </g>\n     <g id=\"text_32\">\n      <!-- 6 -->\n      <g transform=\"translate(23.2 347.638291)scale(0.1 -0.1)\">\n       <use xlink:href=\"#DejaVuSans-54\"/>\n      </g>\n     </g>\n    </g>\n    <g id=\"text_33\">\n     <!-- $R_t^\\mathrm{local}$ -->\n     <g transform=\"translate(16.4 413.84579)rotate(-90)scale(0.1 -0.1)\">\n      <use transform=\"translate(0 0.529687)\" xlink:href=\"#DejaVuSans-Oblique-82\"/>\n      <use transform=\"translate(76.499193 38.810938)scale(0.7)\" xlink:href=\"#DejaVuSans-108\"/>\n      <use transform=\"translate(95.947435 38.810938)scale(0.7)\" xlink:href=\"#DejaVuSans-111\"/>\n      <use transform=\"translate(138.774583 38.810938)scale(0.7)\" xlink:href=\"#DejaVuSans-99\"/>\n      <use transform=\"translate(177.260911 38.810938)scale(0.7)\" xlink:href=\"#DejaVuSans-97\"/>\n      <use transform=\"translate(220.156419 38.810938)scale(0.7)\" xlink:href=\"#DejaVuSans-108\"/>\n      <use transform=\"translate(69.482422 -26.814063)scale(0.7)\" xlink:href=\"#DejaVuSans-Oblique-116\"/>\n     </g>\n    </g>\n   </g>\n   <g id=\"patch_127\">\n    <path d=\"M 36.5625 460.008021 \nL 36.5625 343.383559 \n\" style=\"fill:none;stroke:#000000;stroke-linecap:square;stroke-linejoin:miter;stroke-width:0.8;\"/>\n   </g>\n   <g id=\"patch_128\">\n    <path d=\"M 214.312836 460.008021 \nL 214.312836 343.383559 \n\" style=\"fill:none;stroke:#000000;stroke-linecap:square;stroke-linejoin:miter;stroke-width:0.8;\"/>\n   </g>\n   <g id=\"patch_129\">\n    <path d=\"M 36.5625 460.008021 \nL 214.312836 460.008021 \n\" style=\"fill:none;stroke:#000000;stroke-linecap:square;stroke-linejoin:miter;stroke-width:0.8;\"/>\n   </g>\n   <g id=\"patch_130\">\n    <path d=\"M 36.5625 343.383559 \nL 214.312836 343.383559 \n\" style=\"fill:none;stroke:#000000;stroke-linecap:square;stroke-linejoin:miter;stroke-width:0.8;\"/>\n   </g>\n   <g id=\"PolyCollection_8\">\n    <path clip-path=\"url(#pa644f81edf)\" d=\"M 44.642061 432.848805 \nL 44.642061 453.811491 \nL 48.399996 453.238673 \nL 52.157931 450.856534 \nL 55.915866 445.578638 \nL 59.673802 440.092473 \nL 63.431737 440.676526 \nL 67.189672 443.504878 \nL 70.947607 446.32786 \nL 74.705543 445.600531 \nL 78.463478 445.974833 \nL 82.221413 445.725866 \nL 85.979348 445.291657 \nL 89.737284 443.772433 \nL 93.495219 442.997542 \nL 97.253154 441.607627 \nL 101.011089 439.445139 \nL 104.769024 437.136188 \nL 108.52696 437.026653 \nL 112.284895 434.948266 \nL 116.04283 433.492067 \nL 119.800765 434.079673 \nL 123.558701 434.958604 \nL 127.316636 433.838581 \nL 131.074571 433.713547 \nL 134.832506 433.053227 \nL 138.590442 433.746794 \nL 142.348377 434.504665 \nL 146.106312 435.438658 \nL 149.864247 435.961414 \nL 153.622182 436.574946 \nL 157.380118 436.888352 \nL 161.138053 437.123862 \nL 164.895988 437.323719 \nL 168.653923 437.989806 \nL 172.411859 437.475552 \nL 176.169794 436.633957 \nL 179.927729 436.078128 \nL 183.685664 435.878157 \nL 187.4436 435.64891 \nL 191.201535 435.613837 \nL 194.95947 434.345835 \nL 198.717405 434.364333 \nL 202.47534 434.948548 \nL 206.233276 435.681472 \nL 206.233276 433.55271 \nL 206.233276 433.55271 \nL 202.47534 432.795072 \nL 198.717405 432.25883 \nL 194.95947 432.25751 \nL 191.201535 433.61138 \nL 187.4436 433.645946 \nL 183.685664 433.881538 \nL 179.927729 434.010935 \nL 176.169794 434.395814 \nL 172.411859 435.059259 \nL 168.653923 435.375127 \nL 164.895988 434.306752 \nL 161.138053 433.710629 \nL 157.380118 433.035579 \nL 153.622182 432.239206 \nL 149.864247 431.02819 \nL 146.106312 429.914186 \nL 142.348377 428.343693 \nL 138.590442 427.13519 \nL 134.832506 426.097391 \nL 131.074571 426.792376 \nL 127.316636 426.683563 \nL 123.558701 427.881707 \nL 119.800765 426.76736 \nL 116.04283 426.153213 \nL 112.284895 427.965932 \nL 108.52696 430.523917 \nL 104.769024 430.496706 \nL 101.011089 433.070509 \nL 97.253154 435.417858 \nL 93.495219 436.752907 \nL 89.737284 437.15612 \nL 85.979348 438.548205 \nL 82.221413 438.380006 \nL 78.463478 437.818153 \nL 74.705543 435.89207 \nL 70.947607 435.247995 \nL 67.189672 427.770315 \nL 63.431737 420.234739 \nL 59.673802 417.125018 \nL 55.915866 424.231376 \nL 52.157931 432.111738 \nL 48.399996 435.175088 \nL 44.642061 432.848805 \nz\n\" style=\"fill:url(#hd3b770c124);\"/>\n   </g>\n   <g id=\"legend_4\">\n    <g id=\"patch_131\">\n     <path d=\"M 140.912836 366.061684 \nL 207.312836 366.061684 \nQ 209.312836 366.061684 209.312836 364.061684 \nL 209.312836 350.383559 \nQ 209.312836 348.383559 207.312836 348.383559 \nL 140.912836 348.383559 \nQ 138.912836 348.383559 138.912836 350.383559 \nL 138.912836 364.061684 \nQ 138.912836 366.061684 140.912836 366.061684 \nz\n\" style=\"fill:#ffffff;opacity:0.8;stroke:#cccccc;stroke-linejoin:miter;\"/>\n    </g>\n    <g id=\"line2d_57\">\n     <path d=\"M 142.912836 356.481996 \nL 162.912836 356.481996 \n\" style=\"fill:none;stroke:#ff0000;stroke-linecap:square;\"/>\n    </g>\n    <g id=\"line2d_58\"/>\n    <g id=\"patch_132\">\n     <path d=\"M 142.912836 359.981996 \nL 162.912836 359.981996 \nL 162.912836 352.981996 \nL 142.912836 352.981996 \nz\n\" style=\"fill:#ff0000;opacity:0.3;\"/>\n    </g>\n    <g id=\"text_34\">\n     <!-- $ϵ=1.5$ -->\n     <g transform=\"translate(170.912836 359.981996)scale(0.1 -0.1)\">\n      <use transform=\"translate(0 0.09375)\" xlink:href=\"#DejaVuSans-Oblique-1013\"/>\n      <use transform=\"translate(81.005859 0.09375)\" xlink:href=\"#DejaVuSans-61\"/>\n      <use transform=\"translate(184.277344 0.09375)\" xlink:href=\"#DejaVuSans-49\"/>\n      <use transform=\"translate(247.900391 0.09375)\" xlink:href=\"#DejaVuSans-46\"/>\n      <use transform=\"translate(279.6875 0.09375)\" xlink:href=\"#DejaVuSans-53\"/>\n     </g>\n    </g>\n   </g>\n   <g id=\"PolyCollection_9\">\n    <defs>\n     <path d=\"M 44.642061 -65.524694 \nL 44.642061 -51.236184 \nL 48.399996 -51.634416 \nL 52.157931 -53.286792 \nL 55.915866 -56.988841 \nL 59.673802 -60.975488 \nL 63.431737 -60.753837 \nL 67.189672 -58.821454 \nL 70.947607 -56.800767 \nL 74.705543 -57.336386 \nL 78.463478 -57.057601 \nL 82.221413 -57.246489 \nL 85.979348 -57.587057 \nL 89.737284 -58.759544 \nL 93.495219 -59.433854 \nL 97.253154 -60.621528 \nL 101.011089 -62.46258 \nL 104.769024 -64.5184 \nL 108.52696 -64.913761 \nL 112.284895 -66.89818 \nL 116.04283 -68.375302 \nL 119.800765 -68.122851 \nL 123.558701 -67.554193 \nL 127.316636 -68.635679 \nL 131.074571 -68.859355 \nL 134.832506 -69.550325 \nL 138.590442 -69.079632 \nL 142.348377 -68.558435 \nL 146.106312 -67.884668 \nL 149.864247 -67.578526 \nL 153.622182 -67.189373 \nL 157.380118 -67.063525 \nL 161.138053 -67.011008 \nL 164.895988 -66.997271 \nL 168.653923 -66.541889 \nL 172.411859 -67.175502 \nL 176.169794 -68.111141 \nL 179.927729 -68.772585 \nL 183.685664 -69.080291 \nL 187.4436 -69.399515 \nL 191.201535 -69.517368 \nL 194.95947 -70.833284 \nL 198.717405 -70.889265 \nL 202.47534 -70.379955 \nL 206.233276 -69.70795 \nL 206.233276 -71.691141 \nL 206.233276 -71.691141 \nL 202.47534 -72.366846 \nL 198.717405 -72.807985 \nL 194.95947 -72.715552 \nL 191.201535 -71.306956 \nL 187.4436 -71.168532 \nL 183.685664 -70.824094 \nL 179.927729 -70.567575 \nL 176.169794 -70.055793 \nL 172.411859 -69.269759 \nL 168.653923 -68.800899 \nL 164.895988 -69.60011 \nL 161.138053 -69.949034 \nL 157.380118 -70.367464 \nL 153.622182 -70.893457 \nL 149.864247 -71.776794 \nL 146.106312 -72.564397 \nL 142.348377 -73.75206 \nL 138.590442 -74.622022 \nL 134.832506 -75.340214 \nL 131.074571 -74.567384 \nL 127.316636 -74.464367 \nL 123.558701 -73.22369 \nL 119.800765 -73.857575 \nL 116.04283 -74.013513 \nL 112.284895 -72.173802 \nL 108.52696 -69.771608 \nL 104.769024 -69.450395 \nL 101.011089 -67.181908 \nL 97.253154 -65.181306 \nL 93.495219 -64.016501 \nL 89.737284 -63.601343 \nL 85.979348 -62.514827 \nL 82.221413 -62.612294 \nL 78.463478 -63.014476 \nL 74.705543 -64.415962 \nL 70.947607 -64.835111 \nL 67.189672 -70.096653 \nL 63.431737 -75.180186 \nL 59.673802 -77.004074 \nL 55.915866 -71.774838 \nL 52.157931 -66.185364 \nL 48.399996 -63.99784 \nL 44.642061 -65.524694 \nz\n\" id=\"mb827fa098b\"/>\n    </defs>\n    <g clip-path=\"url(#pa644f81edf)\">\n     <use style=\"fill:#ff0000;fill-opacity:0.3;\" x=\"0\" xlink:href=\"#mb827fa098b\" y=\"505.637812\"/>\n    </g>\n   </g>\n   <g id=\"line2d_59\">\n    <path clip-path=\"url(#pa644f81edf)\" d=\"M 44.642061 449.371349 \nL 48.399996 449.417284 \nL 52.157931 447.205022 \nL 55.915866 442.403362 \nL 59.673802 437.712187 \nL 63.431737 438.624666 \nL 67.189672 441.96405 \nL 70.947607 445.384031 \nL 74.705543 445.23421 \nL 78.463478 445.978797 \nL 82.221413 446.03401 \nL 85.979348 445.882124 \nL 89.737284 444.750896 \nL 93.495219 444.184887 \nL 97.253154 443.003113 \nL 101.011089 441.094209 \nL 104.769024 438.938712 \nL 108.52696 438.549204 \nL 112.284895 436.373828 \nL 116.04283 434.721742 \nL 119.800765 434.90939 \nL 123.558701 435.523557 \nL 127.316636 434.414691 \nL 131.074571 434.257508 \nL 134.832506 433.531291 \nL 138.590442 434.116935 \nL 142.348377 434.815466 \nL 146.106312 435.748816 \nL 149.864247 436.296818 \nL 153.622182 436.918351 \nL 157.380118 437.226784 \nL 161.138053 437.438825 \nL 164.895988 437.588667 \nL 168.653923 438.172221 \nL 172.411859 437.593504 \nL 176.169794 436.701424 \nL 179.927729 436.079719 \nL 183.685664 435.769449 \nL 187.4436 435.426014 \nL 191.201535 435.294369 \nL 194.95947 433.937687 \nL 198.717405 433.854413 \nL 202.47534 434.324453 \nL 206.233276 435.011077 \n\" style=\"fill:none;stroke:#ff0000;stroke-linecap:square;\"/>\n   </g>\n   <g id=\"line2d_60\">\n    <path clip-path=\"url(#pa644f81edf)\" d=\"M 44.642061 446.432126 \nL 48.399996 446.539955 \nL 52.157931 443.381964 \nL 55.915866 436.570305 \nL 59.673802 430.15108 \nL 63.431737 431.831869 \nL 67.189672 436.754136 \nL 70.947607 441.57607 \nL 74.705543 441.400357 \nL 78.463478 442.415113 \nL 82.221413 442.499623 \nL 85.979348 442.323955 \nL 89.737284 440.86423 \nL 93.495219 440.243929 \nL 97.253154 438.87221 \nL 101.011089 436.631058 \nL 104.769024 434.195215 \nL 108.52696 434.11258 \nL 112.284895 431.822618 \nL 116.04283 430.198912 \nL 119.800765 430.776383 \nL 123.558701 431.784043 \nL 127.316636 430.681095 \nL 131.074571 430.670393 \nL 134.832506 429.990904 \nL 138.590442 430.837677 \nL 142.348377 431.817846 \nL 146.106312 433.067809 \nL 149.864247 433.88248 \nL 153.622182 434.775321 \nL 157.380118 435.30976 \nL 161.138053 435.739367 \nL 164.895988 436.104135 \nL 168.653923 436.925804 \nL 172.411859 436.485305 \nL 176.169794 435.70355 \nL 179.927729 435.19534 \nL 183.685664 434.996317 \nL 187.4436 434.748192 \nL 191.201535 434.706934 \nL 194.95947 433.40101 \nL 198.717405 433.398448 \nL 202.47534 433.950308 \nL 206.233276 434.707379 \n\" style=\"fill:none;stroke:#000000;stroke-dasharray:3.7,1.6;stroke-dashoffset:0;\"/>\n   </g>\n  </g>\n  <g id=\"axes_5\">\n   <g id=\"patch_133\">\n    <path d=\"M 236.356785 460.008021 \nL 414.107121 460.008021 \nL 414.107121 343.383559 \nL 236.356785 343.383559 \nz\n\" style=\"fill:#ffffff;\"/>\n   </g>\n   <g id=\"line2d_61\">\n    <path clip-path=\"url(#p0a2fd21547)\" d=\"M 236.356785 391.072262 \nL 414.107121 391.072262 \n\" style=\"fill:none;stroke:#000000;stroke-dasharray:2,3.3;stroke-dashoffset:0;stroke-width:2;\"/>\n   </g>\n   <g id=\"PolyCollection_10\">\n    <defs>\n     <path d=\"M 244.436345 -72.789008 \nL 244.436345 -51.826321 \nL 248.19428 -52.39914 \nL 251.952216 -54.781278 \nL 255.710151 -60.059174 \nL 259.468086 -65.54534 \nL 263.226021 -64.961287 \nL 266.983957 -62.132934 \nL 270.741892 -59.309953 \nL 274.499827 -60.037281 \nL 278.257762 -59.662979 \nL 282.015698 -59.911946 \nL 285.773633 -60.346155 \nL 289.531568 -61.86538 \nL 293.289503 -62.640271 \nL 297.047438 -64.030185 \nL 300.805374 -66.192673 \nL 304.563309 -68.501625 \nL 308.321244 -68.611159 \nL 312.079179 -70.689547 \nL 315.837115 -72.145745 \nL 319.59505 -71.55814 \nL 323.352985 -70.679209 \nL 327.11092 -71.799231 \nL 330.868856 -71.924266 \nL 334.626791 -72.584585 \nL 338.384726 -71.891018 \nL 342.142661 -71.133147 \nL 345.900596 -70.199155 \nL 349.658532 -69.676398 \nL 353.416467 -69.062866 \nL 357.174402 -68.749461 \nL 360.932337 -68.513951 \nL 364.690273 -68.314093 \nL 368.448208 -67.648006 \nL 372.206143 -68.16226 \nL 375.964078 -69.003855 \nL 379.722014 -69.559685 \nL 383.479949 -69.759656 \nL 387.237884 -69.988902 \nL 390.995819 -70.023976 \nL 394.753754 -71.291978 \nL 398.51169 -71.27348 \nL 402.269625 -70.689264 \nL 406.02756 -69.95634 \nL 406.02756 -72.085103 \nL 406.02756 -72.085103 \nL 402.269625 -72.842741 \nL 398.51169 -73.378982 \nL 394.753754 -73.380303 \nL 390.995819 -72.026432 \nL 387.237884 -71.991866 \nL 383.479949 -71.756275 \nL 379.722014 -71.626877 \nL 375.964078 -71.241999 \nL 372.206143 -70.578553 \nL 368.448208 -70.262685 \nL 364.690273 -71.331061 \nL 360.932337 -71.927183 \nL 357.174402 -72.602234 \nL 353.416467 -73.398606 \nL 349.658532 -74.609623 \nL 345.900596 -75.723627 \nL 342.142661 -77.294119 \nL 338.384726 -78.502622 \nL 334.626791 -79.540421 \nL 330.868856 -78.845437 \nL 327.11092 -78.95425 \nL 323.352985 -77.756106 \nL 319.59505 -78.870453 \nL 315.837115 -79.4846 \nL 312.079179 -77.671881 \nL 308.321244 -75.113895 \nL 304.563309 -75.141107 \nL 300.805374 -72.567304 \nL 297.047438 -70.219954 \nL 293.289503 -68.884906 \nL 289.531568 -68.481692 \nL 285.773633 -67.089607 \nL 282.015698 -67.257807 \nL 278.257762 -67.819659 \nL 274.499827 -69.745742 \nL 270.741892 -70.389817 \nL 266.983957 -77.867497 \nL 263.226021 -85.403074 \nL 259.468086 -88.512795 \nL 255.710151 -81.406437 \nL 251.952216 -73.526074 \nL 248.19428 -70.462725 \nL 244.436345 -72.789008 \nz\n\" id=\"m1b82f42573\"/>\n    </defs>\n    <g clip-path=\"url(#p0a2fd21547)\">\n     <use style=\"fill-opacity:0.35;\" x=\"0\" xlink:href=\"#m1b82f42573\" y=\"505.637812\"/>\n    </g>\n   </g>\n   <g id=\"matplotlib.axis_9\">\n    <g id=\"xtick_30\">\n     <g id=\"line2d_62\">\n      <g>\n       <use style=\"stroke:#000000;stroke-width:0.8;\" x=\"244.436345\" xlink:href=\"#m2c4b7b45f6\" y=\"460.008021\"/>\n      </g>\n     </g>\n     <g id=\"text_35\">\n      <!-- Mar 08 -->\n      <g transform=\"translate(234.094356 496.967251)rotate(-45)scale(0.1 -0.1)\">\n       <use xlink:href=\"#DejaVuSans-77\"/>\n       <use x=\"86.279297\" xlink:href=\"#DejaVuSans-97\"/>\n       <use x=\"147.558594\" xlink:href=\"#DejaVuSans-114\"/>\n       <use x=\"188.671875\" xlink:href=\"#DejaVuSans-32\"/>\n       <use x=\"220.458984\" xlink:href=\"#DejaVuSans-48\"/>\n       <use x=\"284.082031\" xlink:href=\"#DejaVuSans-56\"/>\n      </g>\n     </g>\n    </g>\n    <g id=\"xtick_31\">\n     <g id=\"line2d_63\">\n      <g>\n       <use style=\"stroke:#000000;stroke-width:0.8;\" x=\"270.741892\" xlink:href=\"#m2c4b7b45f6\" y=\"460.008021\"/>\n      </g>\n     </g>\n     <g id=\"text_36\">\n      <!-- Mar 15 -->\n      <g transform=\"translate(260.399903 496.967251)rotate(-45)scale(0.1 -0.1)\">\n       <use xlink:href=\"#DejaVuSans-77\"/>\n       <use x=\"86.279297\" xlink:href=\"#DejaVuSans-97\"/>\n       <use x=\"147.558594\" xlink:href=\"#DejaVuSans-114\"/>\n       <use x=\"188.671875\" xlink:href=\"#DejaVuSans-32\"/>\n       <use x=\"220.458984\" xlink:href=\"#DejaVuSans-49\"/>\n       <use x=\"284.082031\" xlink:href=\"#DejaVuSans-53\"/>\n      </g>\n     </g>\n    </g>\n    <g id=\"xtick_32\">\n     <g id=\"line2d_64\">\n      <g>\n       <use style=\"stroke:#000000;stroke-width:0.8;\" x=\"297.047438\" xlink:href=\"#m2c4b7b45f6\" y=\"460.008021\"/>\n      </g>\n     </g>\n     <g id=\"text_37\">\n      <!-- Mar 22 -->\n      <g transform=\"translate(286.705449 496.967251)rotate(-45)scale(0.1 -0.1)\">\n       <use xlink:href=\"#DejaVuSans-77\"/>\n       <use x=\"86.279297\" xlink:href=\"#DejaVuSans-97\"/>\n       <use x=\"147.558594\" xlink:href=\"#DejaVuSans-114\"/>\n       <use x=\"188.671875\" xlink:href=\"#DejaVuSans-32\"/>\n       <use x=\"220.458984\" xlink:href=\"#DejaVuSans-50\"/>\n       <use x=\"284.082031\" xlink:href=\"#DejaVuSans-50\"/>\n      </g>\n     </g>\n    </g>\n    <g id=\"xtick_33\">\n     <g id=\"line2d_65\">\n      <g>\n       <use style=\"stroke:#000000;stroke-width:0.8;\" x=\"323.352985\" xlink:href=\"#m2c4b7b45f6\" y=\"460.008021\"/>\n      </g>\n     </g>\n     <g id=\"text_38\">\n      <!-- Mar 29 -->\n      <g transform=\"translate(313.010996 496.967251)rotate(-45)scale(0.1 -0.1)\">\n       <use xlink:href=\"#DejaVuSans-77\"/>\n       <use x=\"86.279297\" xlink:href=\"#DejaVuSans-97\"/>\n       <use x=\"147.558594\" xlink:href=\"#DejaVuSans-114\"/>\n       <use x=\"188.671875\" xlink:href=\"#DejaVuSans-32\"/>\n       <use x=\"220.458984\" xlink:href=\"#DejaVuSans-50\"/>\n       <use x=\"284.082031\" xlink:href=\"#DejaVuSans-57\"/>\n      </g>\n     </g>\n    </g>\n    <g id=\"xtick_34\">\n     <g id=\"line2d_66\">\n      <g>\n       <use style=\"stroke:#000000;stroke-width:0.8;\" x=\"349.658532\" xlink:href=\"#m2c4b7b45f6\" y=\"460.008021\"/>\n      </g>\n     </g>\n     <g id=\"text_39\">\n      <!-- Apr 05 -->\n      <g transform=\"translate(339.870627 495.859082)rotate(-45)scale(0.1 -0.1)\">\n       <use xlink:href=\"#DejaVuSans-65\"/>\n       <use x=\"68.408203\" xlink:href=\"#DejaVuSans-112\"/>\n       <use x=\"131.884766\" xlink:href=\"#DejaVuSans-114\"/>\n       <use x=\"172.998047\" xlink:href=\"#DejaVuSans-32\"/>\n       <use x=\"204.785156\" xlink:href=\"#DejaVuSans-48\"/>\n       <use x=\"268.408203\" xlink:href=\"#DejaVuSans-53\"/>\n      </g>\n     </g>\n    </g>\n    <g id=\"xtick_35\">\n     <g id=\"line2d_67\">\n      <g>\n       <use style=\"stroke:#000000;stroke-width:0.8;\" x=\"375.964078\" xlink:href=\"#m2c4b7b45f6\" y=\"460.008021\"/>\n      </g>\n     </g>\n     <g id=\"text_40\">\n      <!-- Apr 12 -->\n      <g transform=\"translate(366.176174 495.859082)rotate(-45)scale(0.1 -0.1)\">\n       <use xlink:href=\"#DejaVuSans-65\"/>\n       <use x=\"68.408203\" xlink:href=\"#DejaVuSans-112\"/>\n       <use x=\"131.884766\" xlink:href=\"#DejaVuSans-114\"/>\n       <use x=\"172.998047\" xlink:href=\"#DejaVuSans-32\"/>\n       <use x=\"204.785156\" xlink:href=\"#DejaVuSans-49\"/>\n       <use x=\"268.408203\" xlink:href=\"#DejaVuSans-50\"/>\n      </g>\n     </g>\n    </g>\n    <g id=\"xtick_36\">\n     <g id=\"line2d_68\">\n      <g>\n       <use style=\"stroke:#000000;stroke-width:0.8;\" x=\"402.269625\" xlink:href=\"#m2c4b7b45f6\" y=\"460.008021\"/>\n      </g>\n     </g>\n     <g id=\"text_41\">\n      <!-- Apr 19 -->\n      <g transform=\"translate(392.48172 495.859082)rotate(-45)scale(0.1 -0.1)\">\n       <use xlink:href=\"#DejaVuSans-65\"/>\n       <use x=\"68.408203\" xlink:href=\"#DejaVuSans-112\"/>\n       <use x=\"131.884766\" xlink:href=\"#DejaVuSans-114\"/>\n       <use x=\"172.998047\" xlink:href=\"#DejaVuSans-32\"/>\n       <use x=\"204.785156\" xlink:href=\"#DejaVuSans-49\"/>\n       <use x=\"268.408203\" xlink:href=\"#DejaVuSans-57\"/>\n      </g>\n     </g>\n    </g>\n   </g>\n   <g id=\"matplotlib.axis_10\">\n    <g id=\"ytick_17\">\n     <g id=\"line2d_69\">\n      <g>\n       <use style=\"stroke:#000000;stroke-width:0.8;\" x=\"236.356785\" xlink:href=\"#mfb328eec67\" y=\"455.666068\"/>\n      </g>\n     </g>\n    </g>\n    <g id=\"ytick_18\">\n     <g id=\"line2d_70\">\n      <g>\n       <use style=\"stroke:#000000;stroke-width:0.8;\" x=\"236.356785\" xlink:href=\"#mfb328eec67\" y=\"418.390403\"/>\n      </g>\n     </g>\n    </g>\n    <g id=\"ytick_19\">\n     <g id=\"line2d_71\">\n      <g>\n       <use style=\"stroke:#000000;stroke-width:0.8;\" x=\"236.356785\" xlink:href=\"#mfb328eec67\" y=\"381.114737\"/>\n      </g>\n     </g>\n    </g>\n    <g id=\"ytick_20\">\n     <g id=\"line2d_72\">\n      <g>\n       <use style=\"stroke:#000000;stroke-width:0.8;\" x=\"236.356785\" xlink:href=\"#mfb328eec67\" y=\"343.839072\"/>\n      </g>\n     </g>\n    </g>\n   </g>\n   <g id=\"patch_134\">\n    <path d=\"M 236.356785 460.008021 \nL 236.356785 343.383559 \n\" style=\"fill:none;stroke:#000000;stroke-linecap:square;stroke-linejoin:miter;stroke-width:0.8;\"/>\n   </g>\n   <g id=\"patch_135\">\n    <path d=\"M 414.107121 460.008021 \nL 414.107121 343.383559 \n\" style=\"fill:none;stroke:#000000;stroke-linecap:square;stroke-linejoin:miter;stroke-width:0.8;\"/>\n   </g>\n   <g id=\"patch_136\">\n    <path d=\"M 236.356785 460.008021 \nL 414.107121 460.008021 \n\" style=\"fill:none;stroke:#000000;stroke-linecap:square;stroke-linejoin:miter;stroke-width:0.8;\"/>\n   </g>\n   <g id=\"patch_137\">\n    <path d=\"M 236.356785 343.383559 \nL 414.107121 343.383559 \n\" style=\"fill:none;stroke:#000000;stroke-linecap:square;stroke-linejoin:miter;stroke-width:0.8;\"/>\n   </g>\n   <g id=\"PolyCollection_11\">\n    <path clip-path=\"url(#p0a2fd21547)\" d=\"M 244.436345 432.848805 \nL 244.436345 453.811491 \nL 248.19428 453.238673 \nL 251.952216 450.856534 \nL 255.710151 445.578638 \nL 259.468086 440.092473 \nL 263.226021 440.676526 \nL 266.983957 443.504878 \nL 270.741892 446.32786 \nL 274.499827 445.600531 \nL 278.257762 445.974833 \nL 282.015698 445.725866 \nL 285.773633 445.291657 \nL 289.531568 443.772433 \nL 293.289503 442.997542 \nL 297.047438 441.607627 \nL 300.805374 439.445139 \nL 304.563309 437.136188 \nL 308.321244 437.026653 \nL 312.079179 434.948266 \nL 315.837115 433.492067 \nL 319.59505 434.079673 \nL 323.352985 434.958604 \nL 327.11092 433.838581 \nL 330.868856 433.713547 \nL 334.626791 433.053227 \nL 338.384726 433.746794 \nL 342.142661 434.504665 \nL 345.900596 435.438658 \nL 349.658532 435.961414 \nL 353.416467 436.574946 \nL 357.174402 436.888352 \nL 360.932337 437.123862 \nL 364.690273 437.323719 \nL 368.448208 437.989806 \nL 372.206143 437.475552 \nL 375.964078 436.633957 \nL 379.722014 436.078128 \nL 383.479949 435.878157 \nL 387.237884 435.64891 \nL 390.995819 435.613837 \nL 394.753754 434.345835 \nL 398.51169 434.364333 \nL 402.269625 434.948548 \nL 406.02756 435.681472 \nL 406.02756 433.55271 \nL 406.02756 433.55271 \nL 402.269625 432.795072 \nL 398.51169 432.25883 \nL 394.753754 432.25751 \nL 390.995819 433.61138 \nL 387.237884 433.645946 \nL 383.479949 433.881538 \nL 379.722014 434.010935 \nL 375.964078 434.395814 \nL 372.206143 435.059259 \nL 368.448208 435.375127 \nL 364.690273 434.306752 \nL 360.932337 433.710629 \nL 357.174402 433.035579 \nL 353.416467 432.239206 \nL 349.658532 431.02819 \nL 345.900596 429.914186 \nL 342.142661 428.343693 \nL 338.384726 427.13519 \nL 334.626791 426.097391 \nL 330.868856 426.792376 \nL 327.11092 426.683563 \nL 323.352985 427.881707 \nL 319.59505 426.76736 \nL 315.837115 426.153213 \nL 312.079179 427.965932 \nL 308.321244 430.523917 \nL 304.563309 430.496706 \nL 300.805374 433.070509 \nL 297.047438 435.417858 \nL 293.289503 436.752907 \nL 289.531568 437.15612 \nL 285.773633 438.548205 \nL 282.015698 438.380006 \nL 278.257762 437.818153 \nL 274.499827 435.89207 \nL 270.741892 435.247995 \nL 266.983957 427.770315 \nL 263.226021 420.234739 \nL 259.468086 417.125018 \nL 255.710151 424.231376 \nL 251.952216 432.111738 \nL 248.19428 435.175088 \nL 244.436345 432.848805 \nz\n\" style=\"fill:url(#hd3b770c124);\"/>\n   </g>\n   <g id=\"legend_5\">\n    <g id=\"patch_138\">\n     <path d=\"M 340.707121 366.061684 \nL 407.107121 366.061684 \nQ 409.107121 366.061684 409.107121 364.061684 \nL 409.107121 350.383559 \nQ 409.107121 348.383559 407.107121 348.383559 \nL 340.707121 348.383559 \nQ 338.707121 348.383559 338.707121 350.383559 \nL 338.707121 364.061684 \nQ 338.707121 366.061684 340.707121 366.061684 \nz\n\" style=\"fill:#ffffff;opacity:0.8;stroke:#cccccc;stroke-linejoin:miter;\"/>\n    </g>\n    <g id=\"line2d_73\">\n     <path d=\"M 342.707121 356.481996 \nL 362.707121 356.481996 \n\" style=\"fill:none;stroke:#ff0000;stroke-linecap:square;\"/>\n    </g>\n    <g id=\"line2d_74\"/>\n    <g id=\"patch_139\">\n     <path d=\"M 342.707121 359.981996 \nL 362.707121 359.981996 \nL 362.707121 352.981996 \nL 342.707121 352.981996 \nz\n\" style=\"fill:#ff0000;opacity:0.3;\"/>\n    </g>\n    <g id=\"text_42\">\n     <!-- $ϵ=2.0$ -->\n     <g transform=\"translate(370.707121 359.981996)scale(0.1 -0.1)\">\n      <use transform=\"translate(0 0.78125)\" xlink:href=\"#DejaVuSans-Oblique-1013\"/>\n      <use transform=\"translate(81.005859 0.78125)\" xlink:href=\"#DejaVuSans-61\"/>\n      <use transform=\"translate(184.277344 0.78125)\" xlink:href=\"#DejaVuSans-50\"/>\n      <use transform=\"translate(247.900391 0.78125)\" xlink:href=\"#DejaVuSans-46\"/>\n      <use transform=\"translate(279.6875 0.78125)\" xlink:href=\"#DejaVuSans-48\"/>\n     </g>\n    </g>\n   </g>\n   <g id=\"PolyCollection_12\">\n    <defs>\n     <path d=\"M 244.436345 -61.768927 \nL 244.436345 -50.930903 \nL 248.19428 -51.236078 \nL 251.952216 -52.500849 \nL 255.710151 -55.351285 \nL 259.468086 -58.478564 \nL 263.226021 -58.390209 \nL 266.983957 -56.927268 \nL 270.741892 -55.354418 \nL 274.499827 -55.778233 \nL 278.257762 -55.556217 \nL 282.015698 -55.708234 \nL 285.773633 -55.987163 \nL 289.531568 -56.939639 \nL 293.289503 -57.521832 \nL 297.047438 -58.541604 \nL 300.805374 -60.124225 \nL 304.563309 -61.939826 \nL 308.321244 -62.435361 \nL 312.079179 -64.275689 \nL 315.837115 -65.69812 \nL 319.59505 -65.629343 \nL 323.352985 -65.247965 \nL 327.11092 -66.272599 \nL 330.868856 -66.545082 \nL 334.626791 -67.233687 \nL 338.384726 -66.906915 \nL 342.142661 -66.541537 \nL 345.900596 -66.044041 \nL 349.658532 -65.882145 \nL 353.416467 -65.64773 \nL 357.174402 -65.65098 \nL 360.932337 -65.726813 \nL 364.690273 -65.847586 \nL 368.448208 -65.554842 \nL 372.206143 -66.277932 \nL 375.964078 -67.285061 \nL 379.722014 -68.033821 \nL 383.479949 -68.436526 \nL 387.237884 -68.837315 \nL 390.995819 -69.030876 \nL 394.753754 -70.390051 \nL 398.51169 -70.515851 \nL 402.269625 -70.07753 \nL 406.02756 -69.464238 \nL 406.02756 -71.314518 \nL 406.02756 -71.314518 \nL 402.269625 -71.91543 \nL 398.51169 -72.271072 \nL 394.753754 -72.095753 \nL 390.995819 -70.642972 \nL 387.237884 -70.416885 \nL 383.479949 -69.982715 \nL 379.722014 -69.620678 \nL 375.964078 -69.00584 \nL 372.206143 -68.125413 \nL 368.448208 -67.541985 \nL 364.690273 -68.134107 \nL 360.932337 -68.301868 \nL 357.174402 -68.536842 \nL 353.416467 -68.874305 \nL 349.658532 -69.530335 \nL 345.900596 -70.096916 \nL 342.142661 -71.023593 \nL 338.384726 -71.670975 \nL 334.626791 -72.185182 \nL 330.868856 -71.393885 \nL 327.11092 -71.179709 \nL 323.352985 -69.963901 \nL 319.59505 -70.329122 \nL 315.837115 -70.257811 \nL 312.079179 -68.502596 \nL 308.321244 -66.307852 \nL 304.563309 -65.863887 \nL 300.805374 -63.872898 \nL 297.047438 -62.152661 \nL 293.289503 -61.142367 \nL 289.531568 -60.757905 \nL 285.773633 -59.869693 \nL 282.015698 -59.934837 \nL 278.257762 -60.247901 \nL 274.499827 -61.349414 \nL 270.741892 -61.656464 \nL 266.983957 -65.712575 \nL 263.226021 -69.536969 \nL 259.468086 -70.789549 \nL 255.710151 -66.661726 \nL 251.952216 -62.333149 \nL 248.19428 -60.634004 \nL 244.436345 -61.768927 \nz\n\" id=\"m150c54e168\"/>\n    </defs>\n    <g clip-path=\"url(#p0a2fd21547)\">\n     <use style=\"fill:#ff0000;fill-opacity:0.3;\" x=\"0\" xlink:href=\"#m150c54e168\" y=\"505.637812\"/>\n    </g>\n   </g>\n   <g id=\"line2d_75\">\n    <path clip-path=\"url(#p0a2fd21547)\" d=\"M 244.436345 450.891203 \nL 248.19428 450.915159 \nL 251.952216 449.213239 \nL 255.710151 445.506596 \nL 259.468086 441.816136 \nL 263.226021 442.404007 \nL 266.983957 444.923336 \nL 270.741892 447.571606 \nL 274.499827 447.443882 \nL 278.257762 448.03191 \nL 282.015698 448.072436 \nL 285.773633 447.942018 \nL 289.531568 447.020892 \nL 293.289503 446.521529 \nL 297.047438 445.502782 \nL 300.805374 443.861574 \nL 304.563309 441.964953 \nL 308.321244 441.470395 \nL 312.079179 439.465263 \nL 315.837115 437.879646 \nL 319.59505 437.864682 \nL 323.352985 438.250125 \nL 327.11092 437.177222 \nL 330.868856 436.944057 \nL 334.626791 436.213441 \nL 338.384726 436.630852 \nL 342.142661 437.143463 \nL 345.900596 437.860928 \nL 349.658532 438.229104 \nL 353.416467 438.662306 \nL 357.174402 438.813479 \nL 360.932337 438.870783 \nL 364.690273 438.863301 \nL 368.448208 439.26268 \nL 372.206143 438.580121 \nL 375.964078 437.603763 \nL 379.722014 436.89036 \nL 383.479949 436.486403 \nL 387.237884 436.060923 \nL 390.995819 435.849469 \nL 394.753754 434.448832 \nL 398.51169 434.291851 \nL 402.269625 434.685739 \nL 406.02756 435.305954 \n\" style=\"fill:none;stroke:#ff0000;stroke-linecap:square;\"/>\n   </g>\n   <g id=\"line2d_76\">\n    <path clip-path=\"url(#p0a2fd21547)\" d=\"M 244.436345 446.432126 \nL 248.19428 446.539955 \nL 251.952216 443.381964 \nL 255.710151 436.570305 \nL 259.468086 430.15108 \nL 263.226021 431.831869 \nL 266.983957 436.754136 \nL 270.741892 441.57607 \nL 274.499827 441.400357 \nL 278.257762 442.415113 \nL 282.015698 442.499623 \nL 285.773633 442.323955 \nL 289.531568 440.86423 \nL 293.289503 440.243929 \nL 297.047438 438.87221 \nL 300.805374 436.631058 \nL 304.563309 434.195215 \nL 308.321244 434.11258 \nL 312.079179 431.822618 \nL 315.837115 430.198912 \nL 319.59505 430.776383 \nL 323.352985 431.784043 \nL 327.11092 430.681095 \nL 330.868856 430.670393 \nL 334.626791 429.990904 \nL 338.384726 430.837677 \nL 342.142661 431.817846 \nL 345.900596 433.067809 \nL 349.658532 433.88248 \nL 353.416467 434.775321 \nL 357.174402 435.30976 \nL 360.932337 435.739367 \nL 364.690273 436.104135 \nL 368.448208 436.925804 \nL 372.206143 436.485305 \nL 375.964078 435.70355 \nL 379.722014 435.19534 \nL 383.479949 434.996317 \nL 387.237884 434.748192 \nL 390.995819 434.706934 \nL 394.753754 433.40101 \nL 398.51169 433.398448 \nL 402.269625 433.950308 \nL 406.02756 434.707379 \n\" style=\"fill:none;stroke:#000000;stroke-dasharray:3.7,1.6;stroke-dashoffset:0;\"/>\n   </g>\n  </g>\n  <g id=\"text_43\">\n   <!-- (a) -->\n   <g transform=\"translate(7.2 17.837812)scale(0.14 -0.14)\">\n    <defs>\n     <path d=\"M 31 75.875 \nQ 24.46875 64.65625 21.28125 53.65625 \nQ 18.109375 42.671875 18.109375 31.390625 \nQ 18.109375 20.125 21.3125 9.0625 \nQ 24.515625 -2 31 -13.1875 \nL 23.1875 -13.1875 \nQ 15.875 -1.703125 12.234375 9.375 \nQ 8.59375 20.453125 8.59375 31.390625 \nQ 8.59375 42.28125 12.203125 53.3125 \nQ 15.828125 64.359375 23.1875 75.875 \nz\n\" id=\"DejaVuSans-40\"/>\n     <path d=\"M 8.015625 75.875 \nL 15.828125 75.875 \nQ 23.140625 64.359375 26.78125 53.3125 \nQ 30.421875 42.28125 30.421875 31.390625 \nQ 30.421875 20.453125 26.78125 9.375 \nQ 23.140625 -1.703125 15.828125 -13.1875 \nL 8.015625 -13.1875 \nQ 14.5 -2 17.703125 9.0625 \nQ 20.90625 20.125 20.90625 31.390625 \nQ 20.90625 42.671875 17.703125 53.65625 \nQ 14.5 64.65625 8.015625 75.875 \nz\n\" id=\"DejaVuSans-41\"/>\n    </defs>\n    <use xlink:href=\"#DejaVuSans-40\"/>\n    <use x=\"39.013672\" xlink:href=\"#DejaVuSans-97\"/>\n    <use x=\"100.292969\" xlink:href=\"#DejaVuSans-41\"/>\n   </g>\n  </g>\n  <g id=\"text_44\">\n   <!-- (b) -->\n   <g transform=\"translate(7.2 191.717812)scale(0.14 -0.14)\">\n    <defs>\n     <path d=\"M 48.6875 27.296875 \nQ 48.6875 37.203125 44.609375 42.84375 \nQ 40.53125 48.484375 33.40625 48.484375 \nQ 26.265625 48.484375 22.1875 42.84375 \nQ 18.109375 37.203125 18.109375 27.296875 \nQ 18.109375 17.390625 22.1875 11.75 \nQ 26.265625 6.109375 33.40625 6.109375 \nQ 40.53125 6.109375 44.609375 11.75 \nQ 48.6875 17.390625 48.6875 27.296875 \nz\nM 18.109375 46.390625 \nQ 20.953125 51.265625 25.265625 53.625 \nQ 29.59375 56 35.59375 56 \nQ 45.5625 56 51.78125 48.09375 \nQ 58.015625 40.1875 58.015625 27.296875 \nQ 58.015625 14.40625 51.78125 6.484375 \nQ 45.5625 -1.421875 35.59375 -1.421875 \nQ 29.59375 -1.421875 25.265625 0.953125 \nQ 20.953125 3.328125 18.109375 8.203125 \nL 18.109375 0 \nL 9.078125 0 \nL 9.078125 75.984375 \nL 18.109375 75.984375 \nz\n\" id=\"DejaVuSans-98\"/>\n    </defs>\n    <use xlink:href=\"#DejaVuSans-40\"/>\n    <use x=\"39.013672\" xlink:href=\"#DejaVuSans-98\"/>\n    <use x=\"102.490234\" xlink:href=\"#DejaVuSans-41\"/>\n   </g>\n  </g>\n  <g id=\"legend_6\">\n   <g id=\"patch_140\">\n    <path d=\"M 132.0025 194.235937 \nL 300.44 194.235937 \nQ 302.44 194.235937 302.44 192.235937 \nL 302.44 178.557812 \nQ 302.44 176.557812 300.44 176.557812 \nL 132.0025 176.557812 \nQ 130.0025 176.557812 130.0025 178.557812 \nL 130.0025 192.235937 \nQ 130.0025 194.235937 132.0025 194.235937 \nz\n\" style=\"fill:#ffffff;opacity:0.8;stroke:#cccccc;stroke-linejoin:miter;\"/>\n   </g>\n   <g id=\"line2d_77\">\n    <path d=\"M 134.0025 184.65625 \nL 154.0025 184.65625 \n\" style=\"fill:none;stroke:#000000;stroke-dasharray:2,3.3;stroke-dashoffset:0;stroke-width:2;\"/>\n   </g>\n   <g id=\"line2d_78\"/>\n   <g id=\"text_45\">\n    <!-- Prior median -->\n    <g transform=\"translate(162.0025 188.15625)scale(0.1 -0.1)\">\n     <defs>\n      <path d=\"M 19.671875 64.796875 \nL 19.671875 37.40625 \nL 32.078125 37.40625 \nQ 38.96875 37.40625 42.71875 40.96875 \nQ 46.484375 44.53125 46.484375 51.125 \nQ 46.484375 57.671875 42.71875 61.234375 \nQ 38.96875 64.796875 32.078125 64.796875 \nz\nM 9.8125 72.90625 \nL 32.078125 72.90625 \nQ 44.34375 72.90625 50.609375 67.359375 \nQ 56.890625 61.8125 56.890625 51.125 \nQ 56.890625 40.328125 50.609375 34.8125 \nQ 44.34375 29.296875 32.078125 29.296875 \nL 19.671875 29.296875 \nL 19.671875 0 \nL 9.8125 0 \nz\n\" id=\"DejaVuSans-80\"/>\n      <path d=\"M 9.421875 54.6875 \nL 18.40625 54.6875 \nL 18.40625 0 \nL 9.421875 0 \nz\nM 9.421875 75.984375 \nL 18.40625 75.984375 \nL 18.40625 64.59375 \nL 9.421875 64.59375 \nz\n\" id=\"DejaVuSans-105\"/>\n      <path d=\"M 54.890625 33.015625 \nL 54.890625 0 \nL 45.90625 0 \nL 45.90625 32.71875 \nQ 45.90625 40.484375 42.875 44.328125 \nQ 39.84375 48.1875 33.796875 48.1875 \nQ 26.515625 48.1875 22.3125 43.546875 \nQ 18.109375 38.921875 18.109375 30.90625 \nL 18.109375 0 \nL 9.078125 0 \nL 9.078125 54.6875 \nL 18.109375 54.6875 \nL 18.109375 46.1875 \nQ 21.34375 51.125 25.703125 53.5625 \nQ 30.078125 56 35.796875 56 \nQ 45.21875 56 50.046875 50.171875 \nQ 54.890625 44.34375 54.890625 33.015625 \nz\n\" id=\"DejaVuSans-110\"/>\n     </defs>\n     <use xlink:href=\"#DejaVuSans-80\"/>\n     <use x=\"58.552734\" xlink:href=\"#DejaVuSans-114\"/>\n     <use x=\"99.666016\" xlink:href=\"#DejaVuSans-105\"/>\n     <use x=\"127.449219\" xlink:href=\"#DejaVuSans-111\"/>\n     <use x=\"188.630859\" xlink:href=\"#DejaVuSans-114\"/>\n     <use x=\"229.744141\" xlink:href=\"#DejaVuSans-32\"/>\n     <use x=\"261.53125\" xlink:href=\"#DejaVuSans-109\"/>\n     <use x=\"358.943359\" xlink:href=\"#DejaVuSans-101\"/>\n     <use x=\"420.466797\" xlink:href=\"#DejaVuSans-100\"/>\n     <use x=\"483.943359\" xlink:href=\"#DejaVuSans-105\"/>\n     <use x=\"511.726562\" xlink:href=\"#DejaVuSans-97\"/>\n     <use x=\"573.005859\" xlink:href=\"#DejaVuSans-110\"/>\n    </g>\n   </g>\n   <g id=\"patch_141\">\n    <path d=\"M 245.64 188.15625 \nL 265.64 188.15625 \nL 265.64 181.15625 \nL 245.64 181.15625 \nz\n\" style=\"opacity:0.35;\"/>\n   </g>\n   <g id=\"patch_142\">\n    <path d=\"M 245.64 188.15625 \nL 265.64 188.15625 \nL 265.64 181.15625 \nL 245.64 181.15625 \nz\n\" style=\"fill:url(#hd3b770c124);\"/>\n   </g>\n   <g id=\"line2d_79\">\n    <path d=\"M 245.64 184.65625 \nL 265.64 184.65625 \n\" style=\"fill:none;stroke:#000000;stroke-dasharray:3.7,1.6;stroke-dashoffset:0;\"/>\n   </g>\n   <g id=\"line2d_80\"/>\n   <g id=\"text_46\">\n    <!-- $ϵ=1$ -->\n    <g transform=\"translate(273.64 188.15625)scale(0.1 -0.1)\">\n     <use transform=\"translate(0 0.09375)\" xlink:href=\"#DejaVuSans-Oblique-1013\"/>\n     <use transform=\"translate(81.005859 0.09375)\" xlink:href=\"#DejaVuSans-61\"/>\n     <use transform=\"translate(184.277344 0.09375)\" xlink:href=\"#DejaVuSans-49\"/>\n    </g>\n   </g>\n  </g>\n </g>\n <defs>\n  <clipPath id=\"pc7aab09134\">\n   <rect height=\"116.624462\" width=\"377.544621\" x=\"36.5625\" y=\"16.037812\"/>\n  </clipPath>\n  <clipPath id=\"p342c7ca708\">\n   <rect height=\"116.624462\" width=\"177.750336\" x=\"36.5625\" y=\"199.280971\"/>\n  </clipPath>\n  <clipPath id=\"pa39d3cb28f\">\n   <rect height=\"116.624462\" width=\"177.750336\" x=\"236.356785\" y=\"199.280971\"/>\n  </clipPath>\n  <clipPath id=\"pa644f81edf\">\n   <rect height=\"116.624462\" width=\"177.750336\" x=\"36.5625\" y=\"343.383559\"/>\n  </clipPath>\n  <clipPath id=\"p0a2fd21547\">\n   <rect height=\"116.624462\" width=\"177.750336\" x=\"236.356785\" y=\"343.383559\"/>\n  </clipPath>\n </defs>\n <defs>\n  <pattern height=\"72\" id=\"hec4877ff18\" patternUnits=\"userSpaceOnUse\" width=\"72\" x=\"0\" y=\"0\">\n   <rect fill=\"#ff0000\" height=\"73\" width=\"73\" x=\"0\" y=\"0\"/>\n   <path d=\"M -36 36 \nL 36 -36 \nM -33.6 38.4 \nL 38.4 -33.6 \nM -31.2 40.8 \nL 40.8 -31.2 \nM -28.8 43.2 \nL 43.2 -28.8 \nM -26.4 45.6 \nL 45.6 -26.4 \nM -24 48 \nL 48 -24 \nM -21.6 50.4 \nL 50.4 -21.6 \nM -19.2 52.8 \nL 52.8 -19.2 \nM -16.8 55.2 \nL 55.2 -16.8 \nM -14.4 57.6 \nL 57.6 -14.4 \nM -12 60 \nL 60 -12 \nM -9.6 62.4 \nL 62.4 -9.6 \nM -7.2 64.8 \nL 64.8 -7.2 \nM -4.8 67.2 \nL 67.2 -4.8 \nM -2.4 69.6 \nL 69.6 -2.4 \nM 0 72 \nL 72 0 \nM 2.4 74.4 \nL 74.4 2.4 \nM 4.8 76.8 \nL 76.8 4.8 \nM 7.2 79.2 \nL 79.2 7.2 \nM 9.6 81.6 \nL 81.6 9.6 \nM 12 84 \nL 84 12 \nM 14.4 86.4 \nL 86.4 14.4 \nM 16.8 88.8 \nL 88.8 16.8 \nM 19.2 91.2 \nL 91.2 19.2 \nM 21.6 93.6 \nL 93.6 21.6 \nM 24 96 \nL 96 24 \nM 26.4 98.4 \nL 98.4 26.4 \nM 28.8 100.8 \nL 100.8 28.8 \nM 31.2 103.2 \nL 103.2 31.2 \nM 33.6 105.6 \nL 105.6 33.6 \nM 36 108 \nL 108 36 \n\" style=\"fill:#ffffff;stroke:#ffffff;stroke-linecap:butt;stroke-linejoin:miter;stroke-width:1.0;\"/>\n  </pattern>\n  <pattern height=\"72\" id=\"hd3b770c124\" patternUnits=\"userSpaceOnUse\" width=\"72\" x=\"0\" y=\"0\">\n   <rect fill=\"none\" height=\"73\" width=\"73\" x=\"0\" y=\"0\"/>\n   <path d=\"M 1.5 72 \nL 1.5 0 \nM 4.5 72 \nL 4.5 0 \nM 7.5 72 \nL 7.5 0 \nM 10.5 72 \nL 10.5 0 \nM 13.5 72 \nL 13.5 0 \nM 16.5 72 \nL 16.5 0 \nM 19.5 72 \nL 19.5 0 \nM 22.5 72 \nL 22.5 0 \nM 25.5 72 \nL 25.5 0 \nM 28.5 72 \nL 28.5 0 \nM 31.5 72 \nL 31.5 0 \nM 34.5 72 \nL 34.5 0 \nM 37.5 72 \nL 37.5 0 \nM 40.5 72 \nL 40.5 0 \nM 43.5 72 \nL 43.5 0 \nM 46.5 72 \nL 46.5 0 \nM 49.5 72 \nL 49.5 0 \nM 52.5 72 \nL 52.5 0 \nM 55.5 72 \nL 55.5 0 \nM 58.5 72 \nL 58.5 0 \nM 61.5 72 \nL 61.5 0 \nM 64.5 72 \nL 64.5 0 \nM 67.5 72 \nL 67.5 0 \nM 70.5 72 \nL 70.5 0 \n\" style=\"fill:#ffffff;stroke:#ffffff;stroke-linecap:butt;stroke-linejoin:miter;stroke-width:1.0;\"/>\n  </pattern>\n </defs>\n</svg>\n",
      "image/png": "[encoded data removed]"
     },
     "metadata": {
      "needs_background": "light"
     }
    }
   ],
   "source": [
    "inference_times = sorted(list(set(all_intervals['Time Points'].tolist())))\n",
    "epsilon_range = [0.25, 0.5, 1, 1.5, 2.0]\n",
    "\n",
    "branchpro.figures.plot_r_inference(\n",
    "    datetime.datetime(2020, 3, 1),\n",
    "    locally_infected_cases,\n",
    "    imported_cases,\n",
    "    datetime.datetime(2020, 3, 1) + datetime.timedelta(days=inference_times[0]-1),\n",
    "    list(epsilon_range),\n",
    "    [all_intervals.loc[all_intervals['Epsilon']==eps] for eps in epsilon_range],\n",
    "    prior_dist.median(),\n",
    "    default_epsilon=1,\n",
    "    show=False)\n",
    "\n",
    "plt.savefig('Ontario_inference.pdf')"
   ]
  },
  {
   "source": [
    "## Plot of Last times to R>1 and R<1 and Proprtion of time R>1"
   ],
   "cell_type": "markdown",
   "metadata": {}
  },
  {
   "cell_type": "code",
   "execution_count": 15,
   "metadata": {},
   "outputs": [],
   "source": [
    "large_all_intervals = pd.DataFrame(columns=column_names)\n",
    "large_all_intervals_chosen = pd.DataFrame(columns=column_names)\n",
    "last_time_r_more_than_1 = []\n",
    "last_time_r_more_than_1_LowerCI = []\n",
    "last_time_r_more_than_1_UpperCI = []\n",
    "\n",
    "last_time_r_less_than_1 = []\n",
    "last_time_r_less_than_1_LowerCI = []\n",
    "last_time_r_less_than_1_UpperCI = []\n",
    "\n",
    "proportion_time_r_more_than_1 = []\n",
    "proportion_time_r_more_than_1_LowerCI = []\n",
    "proportion_time_r_more_than_1_UpperCI = []\n",
    "\n",
    "large_epsilon_range = np.arange(0.1, 2.5, 0.1)\n",
    "\n",
    "for epsilon in large_epsilon_range:\n",
    "    inference = branchpro.LocImpBranchProPosteriorMultSI(\n",
    "        inc_data=inc_data,\n",
    "        imported_inc_data=imported_inc_data,\n",
    "        epsilon=epsilon,\n",
    "        daily_serial_intervals=serial_intervals,\n",
    "        alpha=a,\n",
    "        beta=b)\n",
    "\n",
    "    inference.run_inference(tau=tau)\n",
    "\n",
    "    # Last time R > 1\n",
    "    mean, lower, upper = inference.last_time_r_threshold('more')\n",
    "    last_time_r_more_than_1_.append(mean)\n",
    "    last_time_r_more_than_1_LowerCI.append(lower)\n",
    "    last_time_r_more_than_1_UpperCI.append(upper)\n",
    "\n",
    "    # Last time R < 1\n",
    "    mean, lower, upper = inference.last_time_r_threshold('less')\n",
    "    last_time_r_less_than_1.append(mean)\n",
    "    last_time_r_less_than_1_LowerCI.append(lower)\n",
    "    last_time_r_less_than_1_UpperCI.append(upper)\n",
    "\n",
    "    # Proportion time R > 1\n",
    "    mean, lower, upper = inference.proportion_time_r_more_than_1(.95)\n",
    "    proportion_time_r_more_than_1.append(mean)\n",
    "    proportion_time_r_more_than_1_LowerCI.append(lower)\n",
    "    proportion_time_r_more_than_1_UpperCI.append(upper)"
   ]
  },
  {
   "cell_type": "code",
   "execution_count": 16,
   "metadata": {},
   "outputs": [
    {
     "output_type": "display_data",
     "data": {
      "application/vnd.plotly.v1+json": {
       "config": {
        "plotlyServerURL": "https://plot.ly"
       },
       "data": [
        {
         "mode": "lines",
         "name": "Mean",
         "type": "scatter",
         "x": [
          0.1,
          0.2,
          0.30000000000000004,
          0.4,
          0.5,
          0.6,
          0.7000000000000001,
          0.8,
          0.9,
          1,
          1.1,
          1.2000000000000002,
          1.3000000000000003,
          1.4000000000000001,
          1.5000000000000002,
          1.6,
          1.7000000000000002,
          1.8000000000000003,
          1.9000000000000001,
          2,
          2.1,
          2.2,
          2.3000000000000003,
          2.4000000000000004
         ],
         "y": [
          52,
          52,
          52,
          52,
          52,
          52,
          52,
          52,
          52,
          52,
          52,
          52,
          52,
          52,
          52,
          52,
          52,
          52,
          52,
          52,
          52,
          52,
          52,
          52
         ]
        },
        {
         "mode": "lines",
         "name": "Lower bound CI",
         "type": "scatter",
         "x": [
          0.1,
          0.2,
          0.30000000000000004,
          0.4,
          0.5,
          0.6,
          0.7000000000000001,
          0.8,
          0.9,
          1,
          1.1,
          1.2000000000000002,
          1.3000000000000003,
          1.4000000000000001,
          1.5000000000000002,
          1.6,
          1.7000000000000002,
          1.8000000000000003,
          1.9000000000000001,
          2,
          2.1,
          2.2,
          2.3000000000000003,
          2.4000000000000004
         ],
         "y": [
          52,
          52,
          52,
          52,
          52,
          52,
          52,
          52,
          52,
          52,
          52,
          52,
          52,
          52,
          52,
          52,
          52,
          52,
          52,
          52,
          52,
          52,
          52,
          52
         ]
        },
        {
         "mode": "lines",
         "name": "Upper bound CI",
         "type": "scatter",
         "x": [
          0.1,
          0.2,
          0.30000000000000004,
          0.4,
          0.5,
          0.6,
          0.7000000000000001,
          0.8,
          0.9,
          1,
          1.1,
          1.2000000000000002,
          1.3000000000000003,
          1.4000000000000001,
          1.5000000000000002,
          1.6,
          1.7000000000000002,
          1.8000000000000003,
          1.9000000000000001,
          2,
          2.1,
          2.2,
          2.3000000000000003,
          2.4000000000000004
         ],
         "y": [
          52,
          52,
          52,
          52,
          52,
          52,
          52,
          52,
          52,
          52,
          52,
          52,
          52,
          52,
          52,
          52,
          52,
          52,
          52,
          52,
          52,
          52,
          52,
          52
         ]
        }
       ],
       "layout": {
        "template": {
         "data": {
          "bar": [
           {
            "error_x": {
             "color": "rgb(36,36,36)"
            },
            "error_y": {
             "color": "rgb(36,36,36)"
            },
            "marker": {
             "line": {
              "color": "white",
              "width": 0.5
             }
            },
            "type": "bar"
           }
          ],
          "barpolar": [
           {
            "marker": {
             "line": {
              "color": "white",
              "width": 0.5
             }
            },
            "type": "barpolar"
           }
          ],
          "carpet": [
           {
            "aaxis": {
             "endlinecolor": "rgb(36,36,36)",
             "gridcolor": "white",
             "linecolor": "white",
             "minorgridcolor": "white",
             "startlinecolor": "rgb(36,36,36)"
            },
            "baxis": {
             "endlinecolor": "rgb(36,36,36)",
             "gridcolor": "white",
             "linecolor": "white",
             "minorgridcolor": "white",
             "startlinecolor": "rgb(36,36,36)"
            },
            "type": "carpet"
           }
          ],
          "choropleth": [
           {
            "colorbar": {
             "outlinewidth": 1,
             "tickcolor": "rgb(36,36,36)",
             "ticks": "outside"
            },
            "type": "choropleth"
           }
          ],
          "contour": [
           {
            "colorbar": {
             "outlinewidth": 1,
             "tickcolor": "rgb(36,36,36)",
             "ticks": "outside"
            },
            "colorscale": [
             [
              0,
              "#440154"
             ],
             [
              0.1111111111111111,
              "#482878"
             ],
             [
              0.2222222222222222,
              "#3e4989"
             ],
             [
              0.3333333333333333,
              "#31688e"
             ],
             [
              0.4444444444444444,
              "#26828e"
             ],
             [
              0.5555555555555556,
              "#1f9e89"
             ],
             [
              0.6666666666666666,
              "#35b779"
             ],
             [
              0.7777777777777778,
              "#6ece58"
             ],
             [
              0.8888888888888888,
              "#b5de2b"
             ],
             [
              1,
              "#fde725"
             ]
            ],
            "type": "contour"
           }
          ],
          "contourcarpet": [
           {
            "colorbar": {
             "outlinewidth": 1,
             "tickcolor": "rgb(36,36,36)",
             "ticks": "outside"
            },
            "type": "contourcarpet"
           }
          ],
          "heatmap": [
           {
            "colorbar": {
             "outlinewidth": 1,
             "tickcolor": "rgb(36,36,36)",
             "ticks": "outside"
            },
            "colorscale": [
             [
              0,
              "#440154"
             ],
             [
              0.1111111111111111,
              "#482878"
             ],
             [
              0.2222222222222222,
              "#3e4989"
             ],
             [
              0.3333333333333333,
              "#31688e"
             ],
             [
              0.4444444444444444,
              "#26828e"
             ],
             [
              0.5555555555555556,
              "#1f9e89"
             ],
             [
              0.6666666666666666,
              "#35b779"
             ],
             [
              0.7777777777777778,
              "#6ece58"
             ],
             [
              0.8888888888888888,
              "#b5de2b"
             ],
             [
              1,
              "#fde725"
             ]
            ],
            "type": "heatmap"
           }
          ],
          "heatmapgl": [
           {
            "colorbar": {
             "outlinewidth": 1,
             "tickcolor": "rgb(36,36,36)",
             "ticks": "outside"
            },
            "colorscale": [
             [
              0,
              "#440154"
             ],
             [
              0.1111111111111111,
              "#482878"
             ],
             [
              0.2222222222222222,
              "#3e4989"
             ],
             [
              0.3333333333333333,
              "#31688e"
             ],
             [
              0.4444444444444444,
              "#26828e"
             ],
             [
              0.5555555555555556,
              "#1f9e89"
             ],
             [
              0.6666666666666666,
              "#35b779"
             ],
             [
              0.7777777777777778,
              "#6ece58"
             ],
             [
              0.8888888888888888,
              "#b5de2b"
             ],
             [
              1,
              "#fde725"
             ]
            ],
            "type": "heatmapgl"
           }
          ],
          "histogram": [
           {
            "marker": {
             "line": {
              "color": "white",
              "width": 0.6
             }
            },
            "type": "histogram"
           }
          ],
          "histogram2d": [
           {
            "colorbar": {
             "outlinewidth": 1,
             "tickcolor": "rgb(36,36,36)",
             "ticks": "outside"
            },
            "colorscale": [
             [
              0,
              "#440154"
             ],
             [
              0.1111111111111111,
              "#482878"
             ],
             [
              0.2222222222222222,
              "#3e4989"
             ],
             [
              0.3333333333333333,
              "#31688e"
             ],
             [
              0.4444444444444444,
              "#26828e"
             ],
             [
              0.5555555555555556,
              "#1f9e89"
             ],
             [
              0.6666666666666666,
              "#35b779"
             ],
             [
              0.7777777777777778,
              "#6ece58"
             ],
             [
              0.8888888888888888,
              "#b5de2b"
             ],
             [
              1,
              "#fde725"
             ]
            ],
            "type": "histogram2d"
           }
          ],
          "histogram2dcontour": [
           {
            "colorbar": {
             "outlinewidth": 1,
             "tickcolor": "rgb(36,36,36)",
             "ticks": "outside"
            },
            "colorscale": [
             [
              0,
              "#440154"
             ],
             [
              0.1111111111111111,
              "#482878"
             ],
             [
              0.2222222222222222,
              "#3e4989"
             ],
             [
              0.3333333333333333,
              "#31688e"
             ],
             [
              0.4444444444444444,
              "#26828e"
             ],
             [
              0.5555555555555556,
              "#1f9e89"
             ],
             [
              0.6666666666666666,
              "#35b779"
             ],
             [
              0.7777777777777778,
              "#6ece58"
             ],
             [
              0.8888888888888888,
              "#b5de2b"
             ],
             [
              1,
              "#fde725"
             ]
            ],
            "type": "histogram2dcontour"
           }
          ],
          "mesh3d": [
           {
            "colorbar": {
             "outlinewidth": 1,
             "tickcolor": "rgb(36,36,36)",
             "ticks": "outside"
            },
            "type": "mesh3d"
           }
          ],
          "parcoords": [
           {
            "line": {
             "colorbar": {
              "outlinewidth": 1,
              "tickcolor": "rgb(36,36,36)",
              "ticks": "outside"
             }
            },
            "type": "parcoords"
           }
          ],
          "pie": [
           {
            "automargin": true,
            "type": "pie"
           }
          ],
          "scatter": [
           {
            "marker": {
             "colorbar": {
              "outlinewidth": 1,
              "tickcolor": "rgb(36,36,36)",
              "ticks": "outside"
             }
            },
            "type": "scatter"
           }
          ],
          "scatter3d": [
           {
            "line": {
             "colorbar": {
              "outlinewidth": 1,
              "tickcolor": "rgb(36,36,36)",
              "ticks": "outside"
             }
            },
            "marker": {
             "colorbar": {
              "outlinewidth": 1,
              "tickcolor": "rgb(36,36,36)",
              "ticks": "outside"
             }
            },
            "type": "scatter3d"
           }
          ],
          "scattercarpet": [
           {
            "marker": {
             "colorbar": {
              "outlinewidth": 1,
              "tickcolor": "rgb(36,36,36)",
              "ticks": "outside"
             }
            },
            "type": "scattercarpet"
           }
          ],
          "scattergeo": [
           {
            "marker": {
             "colorbar": {
              "outlinewidth": 1,
              "tickcolor": "rgb(36,36,36)",
              "ticks": "outside"
             }
            },
            "type": "scattergeo"
           }
          ],
          "scattergl": [
           {
            "marker": {
             "colorbar": {
              "outlinewidth": 1,
              "tickcolor": "rgb(36,36,36)",
              "ticks": "outside"
             }
            },
            "type": "scattergl"
           }
          ],
          "scattermapbox": [
           {
            "marker": {
             "colorbar": {
              "outlinewidth": 1,
              "tickcolor": "rgb(36,36,36)",
              "ticks": "outside"
             }
            },
            "type": "scattermapbox"
           }
          ],
          "scatterpolar": [
           {
            "marker": {
             "colorbar": {
              "outlinewidth": 1,
              "tickcolor": "rgb(36,36,36)",
              "ticks": "outside"
             }
            },
            "type": "scatterpolar"
           }
          ],
          "scatterpolargl": [
           {
            "marker": {
             "colorbar": {
              "outlinewidth": 1,
              "tickcolor": "rgb(36,36,36)",
              "ticks": "outside"
             }
            },
            "type": "scatterpolargl"
           }
          ],
          "scatterternary": [
           {
            "marker": {
             "colorbar": {
              "outlinewidth": 1,
              "tickcolor": "rgb(36,36,36)",
              "ticks": "outside"
             }
            },
            "type": "scatterternary"
           }
          ],
          "surface": [
           {
            "colorbar": {
             "outlinewidth": 1,
             "tickcolor": "rgb(36,36,36)",
             "ticks": "outside"
            },
            "colorscale": [
             [
              0,
              "#440154"
             ],
             [
              0.1111111111111111,
              "#482878"
             ],
             [
              0.2222222222222222,
              "#3e4989"
             ],
             [
              0.3333333333333333,
              "#31688e"
             ],
             [
              0.4444444444444444,
              "#26828e"
             ],
             [
              0.5555555555555556,
              "#1f9e89"
             ],
             [
              0.6666666666666666,
              "#35b779"
             ],
             [
              0.7777777777777778,
              "#6ece58"
             ],
             [
              0.8888888888888888,
              "#b5de2b"
             ],
             [
              1,
              "#fde725"
             ]
            ],
            "type": "surface"
           }
          ],
          "table": [
           {
            "cells": {
             "fill": {
              "color": "rgb(237,237,237)"
             },
             "line": {
              "color": "white"
             }
            },
            "header": {
             "fill": {
              "color": "rgb(217,217,217)"
             },
             "line": {
              "color": "white"
             }
            },
            "type": "table"
           }
          ]
         },
         "layout": {
          "annotationdefaults": {
           "arrowhead": 0,
           "arrowwidth": 1
          },
          "autotypenumbers": "strict",
          "coloraxis": {
           "colorbar": {
            "outlinewidth": 1,
            "tickcolor": "rgb(36,36,36)",
            "ticks": "outside"
           }
          },
          "colorscale": {
           "diverging": [
            [
             0,
             "rgb(103,0,31)"
            ],
            [
             0.1,
             "rgb(178,24,43)"
            ],
            [
             0.2,
             "rgb(214,96,77)"
            ],
            [
             0.3,
             "rgb(244,165,130)"
            ],
            [
             0.4,
             "rgb(253,219,199)"
            ],
            [
             0.5,
             "rgb(247,247,247)"
            ],
            [
             0.6,
             "rgb(209,229,240)"
            ],
            [
             0.7,
             "rgb(146,197,222)"
            ],
            [
             0.8,
             "rgb(67,147,195)"
            ],
            [
             0.9,
             "rgb(33,102,172)"
            ],
            [
             1,
             "rgb(5,48,97)"
            ]
           ],
           "sequential": [
            [
             0,
             "#440154"
            ],
            [
             0.1111111111111111,
             "#482878"
            ],
            [
             0.2222222222222222,
             "#3e4989"
            ],
            [
             0.3333333333333333,
             "#31688e"
            ],
            [
             0.4444444444444444,
             "#26828e"
            ],
            [
             0.5555555555555556,
             "#1f9e89"
            ],
            [
             0.6666666666666666,
             "#35b779"
            ],
            [
             0.7777777777777778,
             "#6ece58"
            ],
            [
             0.8888888888888888,
             "#b5de2b"
            ],
            [
             1,
             "#fde725"
            ]
           ],
           "sequentialminus": [
            [
             0,
             "#440154"
            ],
            [
             0.1111111111111111,
             "#482878"
            ],
            [
             0.2222222222222222,
             "#3e4989"
            ],
            [
             0.3333333333333333,
             "#31688e"
            ],
            [
             0.4444444444444444,
             "#26828e"
            ],
            [
             0.5555555555555556,
             "#1f9e89"
            ],
            [
             0.6666666666666666,
             "#35b779"
            ],
            [
             0.7777777777777778,
             "#6ece58"
            ],
            [
             0.8888888888888888,
             "#b5de2b"
            ],
            [
             1,
             "#fde725"
            ]
           ]
          },
          "colorway": [
           "#1F77B4",
           "#FF7F0E",
           "#2CA02C",
           "#D62728",
           "#9467BD",
           "#8C564B",
           "#E377C2",
           "#7F7F7F",
           "#BCBD22",
           "#17BECF"
          ],
          "font": {
           "color": "rgb(36,36,36)"
          },
          "geo": {
           "bgcolor": "white",
           "lakecolor": "white",
           "landcolor": "white",
           "showlakes": true,
           "showland": true,
           "subunitcolor": "white"
          },
          "hoverlabel": {
           "align": "left"
          },
          "hovermode": "closest",
          "mapbox": {
           "style": "light"
          },
          "paper_bgcolor": "white",
          "plot_bgcolor": "white",
          "polar": {
           "angularaxis": {
            "gridcolor": "rgb(232,232,232)",
            "linecolor": "rgb(36,36,36)",
            "showgrid": false,
            "showline": true,
            "ticks": "outside"
           },
           "bgcolor": "white",
           "radialaxis": {
            "gridcolor": "rgb(232,232,232)",
            "linecolor": "rgb(36,36,36)",
            "showgrid": false,
            "showline": true,
            "ticks": "outside"
           }
          },
          "scene": {
           "xaxis": {
            "backgroundcolor": "white",
            "gridcolor": "rgb(232,232,232)",
            "gridwidth": 2,
            "linecolor": "rgb(36,36,36)",
            "showbackground": true,
            "showgrid": false,
            "showline": true,
            "ticks": "outside",
            "zeroline": false,
            "zerolinecolor": "rgb(36,36,36)"
           },
           "yaxis": {
            "backgroundcolor": "white",
            "gridcolor": "rgb(232,232,232)",
            "gridwidth": 2,
            "linecolor": "rgb(36,36,36)",
            "showbackground": true,
            "showgrid": false,
            "showline": true,
            "ticks": "outside",
            "zeroline": false,
            "zerolinecolor": "rgb(36,36,36)"
           },
           "zaxis": {
            "backgroundcolor": "white",
            "gridcolor": "rgb(232,232,232)",
            "gridwidth": 2,
            "linecolor": "rgb(36,36,36)",
            "showbackground": true,
            "showgrid": false,
            "showline": true,
            "ticks": "outside",
            "zeroline": false,
            "zerolinecolor": "rgb(36,36,36)"
           }
          },
          "shapedefaults": {
           "fillcolor": "black",
           "line": {
            "width": 0
           },
           "opacity": 0.3
          },
          "ternary": {
           "aaxis": {
            "gridcolor": "rgb(232,232,232)",
            "linecolor": "rgb(36,36,36)",
            "showgrid": false,
            "showline": true,
            "ticks": "outside"
           },
           "baxis": {
            "gridcolor": "rgb(232,232,232)",
            "linecolor": "rgb(36,36,36)",
            "showgrid": false,
            "showline": true,
            "ticks": "outside"
           },
           "bgcolor": "white",
           "caxis": {
            "gridcolor": "rgb(232,232,232)",
            "linecolor": "rgb(36,36,36)",
            "showgrid": false,
            "showline": true,
            "ticks": "outside"
           }
          },
          "title": {
           "x": 0.05
          },
          "xaxis": {
           "automargin": true,
           "gridcolor": "rgb(232,232,232)",
           "linecolor": "rgb(36,36,36)",
           "showgrid": false,
           "showline": true,
           "ticks": "outside",
           "title": {
            "standoff": 15
           },
           "zeroline": false,
           "zerolinecolor": "rgb(36,36,36)"
          },
          "yaxis": {
           "automargin": true,
           "gridcolor": "rgb(232,232,232)",
           "linecolor": "rgb(36,36,36)",
           "showgrid": false,
           "showline": true,
           "ticks": "outside",
           "title": {
            "standoff": 15
           },
           "zeroline": false,
           "zerolinecolor": "rgb(36,36,36)"
          }
         }
        },
        "title": {
         "text": "ON Last time R>1"
        },
        "xaxis": {
         "title": {
          "text": "Epsilon"
         }
        },
        "yaxis": {
         "title": {
          "text": "Time (days)"
         }
        }
       }
      }
     },
     "metadata": {}
    }
   ],
   "source": [
    "# Plot time of last R_t > 1 \n",
    "fig = go.Figure()\n",
    "\n",
    "# Plot of incidences\n",
    "fig.add_trace(\n",
    "    go.Scatter(\n",
    "        x=large_epsilon_range,\n",
    "        y=last_time_r_more_than_1,\n",
    "        mode='lines',\n",
    "        name='Mean'\n",
    "    )\n",
    ")\n",
    "\n",
    "fig.add_trace(\n",
    "    go.Scatter(\n",
    "        x=large_epsilon_range,\n",
    "        y=last_time_r_more_than_1_LowerCI,\n",
    "        mode='lines',\n",
    "        name='Lower bound CI'\n",
    "    )\n",
    ")\n",
    "\n",
    "fig.add_trace(\n",
    "    go.Scatter(\n",
    "        x=large_epsilon_range,\n",
    "        y=last_time_r_more_than_1_UpperCI,\n",
    "        mode='lines',\n",
    "        name='Upper bound CI'\n",
    "    )\n",
    ")\n",
    "\n",
    "# Add axis labels\n",
    "fig.update_layout(\n",
    "    title='ON Last time R>1',\n",
    "    template='simple_white',\n",
    "    xaxis_title='Epsilon',\n",
    "    yaxis_title='Time (days)'\n",
    ")\n",
    "\n",
    "\n",
    "#fig.write_image('ON-Last-time-R-more-than-1.pdf')\n",
    "fig.show()"
   ]
  },
  {
   "cell_type": "code",
   "execution_count": 17,
   "metadata": {},
   "outputs": [
    {
     "output_type": "display_data",
     "data": {
      "application/vnd.plotly.v1+json": {
       "config": {
        "plotlyServerURL": "https://plot.ly"
       },
       "data": [
        {
         "mode": "lines",
         "name": "Mean",
         "type": "scatter",
         "x": [
          0.1,
          0.2,
          0.30000000000000004,
          0.4,
          0.5,
          0.6,
          0.7000000000000001,
          0.8,
          0.9,
          1,
          1.1,
          1.2000000000000002,
          1.3000000000000003,
          1.4000000000000001,
          1.5000000000000002,
          1.6,
          1.7000000000000002,
          1.8000000000000003,
          1.9000000000000001,
          2,
          2.1,
          2.2,
          2.3000000000000003,
          2.4000000000000004
         ],
         "y": [
          null,
          null,
          null,
          null,
          10,
          19,
          20,
          22,
          23,
          23,
          42,
          42,
          43,
          43,
          43,
          43,
          44,
          44,
          44,
          44,
          45,
          45,
          45,
          45
         ]
        },
        {
         "mode": "lines",
         "name": "Lower bound CI",
         "type": "scatter",
         "x": [
          0.1,
          0.2,
          0.30000000000000004,
          0.4,
          0.5,
          0.6,
          0.7000000000000001,
          0.8,
          0.9,
          1,
          1.1,
          1.2000000000000002,
          1.3000000000000003,
          1.4000000000000001,
          1.5000000000000002,
          1.6,
          1.7000000000000002,
          1.8000000000000003,
          1.9000000000000001,
          2,
          2.1,
          2.2,
          2.3000000000000003,
          2.4000000000000004
         ],
         "y": [
          10,
          11,
          11,
          20,
          21,
          22,
          42,
          43,
          43,
          43,
          43,
          43,
          44,
          44,
          44,
          44,
          45,
          45,
          46,
          46,
          46,
          46,
          47,
          47
         ]
        },
        {
         "mode": "lines",
         "name": "Upper bound CI",
         "type": "scatter",
         "x": [
          0.1,
          0.2,
          0.30000000000000004,
          0.4,
          0.5,
          0.6,
          0.7000000000000001,
          0.8,
          0.9,
          1,
          1.1,
          1.2000000000000002,
          1.3000000000000003,
          1.4000000000000001,
          1.5000000000000002,
          1.6,
          1.7000000000000002,
          1.8000000000000003,
          1.9000000000000001,
          2,
          2.1,
          2.2,
          2.3000000000000003,
          2.4000000000000004
         ],
         "y": [
          null,
          null,
          null,
          null,
          null,
          null,
          null,
          null,
          20,
          21,
          22,
          23,
          23,
          24,
          24,
          42,
          42,
          43,
          43,
          43,
          43,
          43,
          44,
          44
         ]
        }
       ],
       "layout": {
        "template": {
         "data": {
          "bar": [
           {
            "error_x": {
             "color": "rgb(36,36,36)"
            },
            "error_y": {
             "color": "rgb(36,36,36)"
            },
            "marker": {
             "line": {
              "color": "white",
              "width": 0.5
             }
            },
            "type": "bar"
           }
          ],
          "barpolar": [
           {
            "marker": {
             "line": {
              "color": "white",
              "width": 0.5
             }
            },
            "type": "barpolar"
           }
          ],
          "carpet": [
           {
            "aaxis": {
             "endlinecolor": "rgb(36,36,36)",
             "gridcolor": "white",
             "linecolor": "white",
             "minorgridcolor": "white",
             "startlinecolor": "rgb(36,36,36)"
            },
            "baxis": {
             "endlinecolor": "rgb(36,36,36)",
             "gridcolor": "white",
             "linecolor": "white",
             "minorgridcolor": "white",
             "startlinecolor": "rgb(36,36,36)"
            },
            "type": "carpet"
           }
          ],
          "choropleth": [
           {
            "colorbar": {
             "outlinewidth": 1,
             "tickcolor": "rgb(36,36,36)",
             "ticks": "outside"
            },
            "type": "choropleth"
           }
          ],
          "contour": [
           {
            "colorbar": {
             "outlinewidth": 1,
             "tickcolor": "rgb(36,36,36)",
             "ticks": "outside"
            },
            "colorscale": [
             [
              0,
              "#440154"
             ],
             [
              0.1111111111111111,
              "#482878"
             ],
             [
              0.2222222222222222,
              "#3e4989"
             ],
             [
              0.3333333333333333,
              "#31688e"
             ],
             [
              0.4444444444444444,
              "#26828e"
             ],
             [
              0.5555555555555556,
              "#1f9e89"
             ],
             [
              0.6666666666666666,
              "#35b779"
             ],
             [
              0.7777777777777778,
              "#6ece58"
             ],
             [
              0.8888888888888888,
              "#b5de2b"
             ],
             [
              1,
              "#fde725"
             ]
            ],
            "type": "contour"
           }
          ],
          "contourcarpet": [
           {
            "colorbar": {
             "outlinewidth": 1,
             "tickcolor": "rgb(36,36,36)",
             "ticks": "outside"
            },
            "type": "contourcarpet"
           }
          ],
          "heatmap": [
           {
            "colorbar": {
             "outlinewidth": 1,
             "tickcolor": "rgb(36,36,36)",
             "ticks": "outside"
            },
            "colorscale": [
             [
              0,
              "#440154"
             ],
             [
              0.1111111111111111,
              "#482878"
             ],
             [
              0.2222222222222222,
              "#3e4989"
             ],
             [
              0.3333333333333333,
              "#31688e"
             ],
             [
              0.4444444444444444,
              "#26828e"
             ],
             [
              0.5555555555555556,
              "#1f9e89"
             ],
             [
              0.6666666666666666,
              "#35b779"
             ],
             [
              0.7777777777777778,
              "#6ece58"
             ],
             [
              0.8888888888888888,
              "#b5de2b"
             ],
             [
              1,
              "#fde725"
             ]
            ],
            "type": "heatmap"
           }
          ],
          "heatmapgl": [
           {
            "colorbar": {
             "outlinewidth": 1,
             "tickcolor": "rgb(36,36,36)",
             "ticks": "outside"
            },
            "colorscale": [
             [
              0,
              "#440154"
             ],
             [
              0.1111111111111111,
              "#482878"
             ],
             [
              0.2222222222222222,
              "#3e4989"
             ],
             [
              0.3333333333333333,
              "#31688e"
             ],
             [
              0.4444444444444444,
              "#26828e"
             ],
             [
              0.5555555555555556,
              "#1f9e89"
             ],
             [
              0.6666666666666666,
              "#35b779"
             ],
             [
              0.7777777777777778,
              "#6ece58"
             ],
             [
              0.8888888888888888,
              "#b5de2b"
             ],
             [
              1,
              "#fde725"
             ]
            ],
            "type": "heatmapgl"
           }
          ],
          "histogram": [
           {
            "marker": {
             "line": {
              "color": "white",
              "width": 0.6
             }
            },
            "type": "histogram"
           }
          ],
          "histogram2d": [
           {
            "colorbar": {
             "outlinewidth": 1,
             "tickcolor": "rgb(36,36,36)",
             "ticks": "outside"
            },
            "colorscale": [
             [
              0,
              "#440154"
             ],
             [
              0.1111111111111111,
              "#482878"
             ],
             [
              0.2222222222222222,
              "#3e4989"
             ],
             [
              0.3333333333333333,
              "#31688e"
             ],
             [
              0.4444444444444444,
              "#26828e"
             ],
             [
              0.5555555555555556,
              "#1f9e89"
             ],
             [
              0.6666666666666666,
              "#35b779"
             ],
             [
              0.7777777777777778,
              "#6ece58"
             ],
             [
              0.8888888888888888,
              "#b5de2b"
             ],
             [
              1,
              "#fde725"
             ]
            ],
            "type": "histogram2d"
           }
          ],
          "histogram2dcontour": [
           {
            "colorbar": {
             "outlinewidth": 1,
             "tickcolor": "rgb(36,36,36)",
             "ticks": "outside"
            },
            "colorscale": [
             [
              0,
              "#440154"
             ],
             [
              0.1111111111111111,
              "#482878"
             ],
             [
              0.2222222222222222,
              "#3e4989"
             ],
             [
              0.3333333333333333,
              "#31688e"
             ],
             [
              0.4444444444444444,
              "#26828e"
             ],
             [
              0.5555555555555556,
              "#1f9e89"
             ],
             [
              0.6666666666666666,
              "#35b779"
             ],
             [
              0.7777777777777778,
              "#6ece58"
             ],
             [
              0.8888888888888888,
              "#b5de2b"
             ],
             [
              1,
              "#fde725"
             ]
            ],
            "type": "histogram2dcontour"
           }
          ],
          "mesh3d": [
           {
            "colorbar": {
             "outlinewidth": 1,
             "tickcolor": "rgb(36,36,36)",
             "ticks": "outside"
            },
            "type": "mesh3d"
           }
          ],
          "parcoords": [
           {
            "line": {
             "colorbar": {
              "outlinewidth": 1,
              "tickcolor": "rgb(36,36,36)",
              "ticks": "outside"
             }
            },
            "type": "parcoords"
           }
          ],
          "pie": [
           {
            "automargin": true,
            "type": "pie"
           }
          ],
          "scatter": [
           {
            "marker": {
             "colorbar": {
              "outlinewidth": 1,
              "tickcolor": "rgb(36,36,36)",
              "ticks": "outside"
             }
            },
            "type": "scatter"
           }
          ],
          "scatter3d": [
           {
            "line": {
             "colorbar": {
              "outlinewidth": 1,
              "tickcolor": "rgb(36,36,36)",
              "ticks": "outside"
             }
            },
            "marker": {
             "colorbar": {
              "outlinewidth": 1,
              "tickcolor": "rgb(36,36,36)",
              "ticks": "outside"
             }
            },
            "type": "scatter3d"
           }
          ],
          "scattercarpet": [
           {
            "marker": {
             "colorbar": {
              "outlinewidth": 1,
              "tickcolor": "rgb(36,36,36)",
              "ticks": "outside"
             }
            },
            "type": "scattercarpet"
           }
          ],
          "scattergeo": [
           {
            "marker": {
             "colorbar": {
              "outlinewidth": 1,
              "tickcolor": "rgb(36,36,36)",
              "ticks": "outside"
             }
            },
            "type": "scattergeo"
           }
          ],
          "scattergl": [
           {
            "marker": {
             "colorbar": {
              "outlinewidth": 1,
              "tickcolor": "rgb(36,36,36)",
              "ticks": "outside"
             }
            },
            "type": "scattergl"
           }
          ],
          "scattermapbox": [
           {
            "marker": {
             "colorbar": {
              "outlinewidth": 1,
              "tickcolor": "rgb(36,36,36)",
              "ticks": "outside"
             }
            },
            "type": "scattermapbox"
           }
          ],
          "scatterpolar": [
           {
            "marker": {
             "colorbar": {
              "outlinewidth": 1,
              "tickcolor": "rgb(36,36,36)",
              "ticks": "outside"
             }
            },
            "type": "scatterpolar"
           }
          ],
          "scatterpolargl": [
           {
            "marker": {
             "colorbar": {
              "outlinewidth": 1,
              "tickcolor": "rgb(36,36,36)",
              "ticks": "outside"
             }
            },
            "type": "scatterpolargl"
           }
          ],
          "scatterternary": [
           {
            "marker": {
             "colorbar": {
              "outlinewidth": 1,
              "tickcolor": "rgb(36,36,36)",
              "ticks": "outside"
             }
            },
            "type": "scatterternary"
           }
          ],
          "surface": [
           {
            "colorbar": {
             "outlinewidth": 1,
             "tickcolor": "rgb(36,36,36)",
             "ticks": "outside"
            },
            "colorscale": [
             [
              0,
              "#440154"
             ],
             [
              0.1111111111111111,
              "#482878"
             ],
             [
              0.2222222222222222,
              "#3e4989"
             ],
             [
              0.3333333333333333,
              "#31688e"
             ],
             [
              0.4444444444444444,
              "#26828e"
             ],
             [
              0.5555555555555556,
              "#1f9e89"
             ],
             [
              0.6666666666666666,
              "#35b779"
             ],
             [
              0.7777777777777778,
              "#6ece58"
             ],
             [
              0.8888888888888888,
              "#b5de2b"
             ],
             [
              1,
              "#fde725"
             ]
            ],
            "type": "surface"
           }
          ],
          "table": [
           {
            "cells": {
             "fill": {
              "color": "rgb(237,237,237)"
             },
             "line": {
              "color": "white"
             }
            },
            "header": {
             "fill": {
              "color": "rgb(217,217,217)"
             },
             "line": {
              "color": "white"
             }
            },
            "type": "table"
           }
          ]
         },
         "layout": {
          "annotationdefaults": {
           "arrowhead": 0,
           "arrowwidth": 1
          },
          "autotypenumbers": "strict",
          "coloraxis": {
           "colorbar": {
            "outlinewidth": 1,
            "tickcolor": "rgb(36,36,36)",
            "ticks": "outside"
           }
          },
          "colorscale": {
           "diverging": [
            [
             0,
             "rgb(103,0,31)"
            ],
            [
             0.1,
             "rgb(178,24,43)"
            ],
            [
             0.2,
             "rgb(214,96,77)"
            ],
            [
             0.3,
             "rgb(244,165,130)"
            ],
            [
             0.4,
             "rgb(253,219,199)"
            ],
            [
             0.5,
             "rgb(247,247,247)"
            ],
            [
             0.6,
             "rgb(209,229,240)"
            ],
            [
             0.7,
             "rgb(146,197,222)"
            ],
            [
             0.8,
             "rgb(67,147,195)"
            ],
            [
             0.9,
             "rgb(33,102,172)"
            ],
            [
             1,
             "rgb(5,48,97)"
            ]
           ],
           "sequential": [
            [
             0,
             "#440154"
            ],
            [
             0.1111111111111111,
             "#482878"
            ],
            [
             0.2222222222222222,
             "#3e4989"
            ],
            [
             0.3333333333333333,
             "#31688e"
            ],
            [
             0.4444444444444444,
             "#26828e"
            ],
            [
             0.5555555555555556,
             "#1f9e89"
            ],
            [
             0.6666666666666666,
             "#35b779"
            ],
            [
             0.7777777777777778,
             "#6ece58"
            ],
            [
             0.8888888888888888,
             "#b5de2b"
            ],
            [
             1,
             "#fde725"
            ]
           ],
           "sequentialminus": [
            [
             0,
             "#440154"
            ],
            [
             0.1111111111111111,
             "#482878"
            ],
            [
             0.2222222222222222,
             "#3e4989"
            ],
            [
             0.3333333333333333,
             "#31688e"
            ],
            [
             0.4444444444444444,
             "#26828e"
            ],
            [
             0.5555555555555556,
             "#1f9e89"
            ],
            [
             0.6666666666666666,
             "#35b779"
            ],
            [
             0.7777777777777778,
             "#6ece58"
            ],
            [
             0.8888888888888888,
             "#b5de2b"
            ],
            [
             1,
             "#fde725"
            ]
           ]
          },
          "colorway": [
           "#1F77B4",
           "#FF7F0E",
           "#2CA02C",
           "#D62728",
           "#9467BD",
           "#8C564B",
           "#E377C2",
           "#7F7F7F",
           "#BCBD22",
           "#17BECF"
          ],
          "font": {
           "color": "rgb(36,36,36)"
          },
          "geo": {
           "bgcolor": "white",
           "lakecolor": "white",
           "landcolor": "white",
           "showlakes": true,
           "showland": true,
           "subunitcolor": "white"
          },
          "hoverlabel": {
           "align": "left"
          },
          "hovermode": "closest",
          "mapbox": {
           "style": "light"
          },
          "paper_bgcolor": "white",
          "plot_bgcolor": "white",
          "polar": {
           "angularaxis": {
            "gridcolor": "rgb(232,232,232)",
            "linecolor": "rgb(36,36,36)",
            "showgrid": false,
            "showline": true,
            "ticks": "outside"
           },
           "bgcolor": "white",
           "radialaxis": {
            "gridcolor": "rgb(232,232,232)",
            "linecolor": "rgb(36,36,36)",
            "showgrid": false,
            "showline": true,
            "ticks": "outside"
           }
          },
          "scene": {
           "xaxis": {
            "backgroundcolor": "white",
            "gridcolor": "rgb(232,232,232)",
            "gridwidth": 2,
            "linecolor": "rgb(36,36,36)",
            "showbackground": true,
            "showgrid": false,
            "showline": true,
            "ticks": "outside",
            "zeroline": false,
            "zerolinecolor": "rgb(36,36,36)"
           },
           "yaxis": {
            "backgroundcolor": "white",
            "gridcolor": "rgb(232,232,232)",
            "gridwidth": 2,
            "linecolor": "rgb(36,36,36)",
            "showbackground": true,
            "showgrid": false,
            "showline": true,
            "ticks": "outside",
            "zeroline": false,
            "zerolinecolor": "rgb(36,36,36)"
           },
           "zaxis": {
            "backgroundcolor": "white",
            "gridcolor": "rgb(232,232,232)",
            "gridwidth": 2,
            "linecolor": "rgb(36,36,36)",
            "showbackground": true,
            "showgrid": false,
            "showline": true,
            "ticks": "outside",
            "zeroline": false,
            "zerolinecolor": "rgb(36,36,36)"
           }
          },
          "shapedefaults": {
           "fillcolor": "black",
           "line": {
            "width": 0
           },
           "opacity": 0.3
          },
          "ternary": {
           "aaxis": {
            "gridcolor": "rgb(232,232,232)",
            "linecolor": "rgb(36,36,36)",
            "showgrid": false,
            "showline": true,
            "ticks": "outside"
           },
           "baxis": {
            "gridcolor": "rgb(232,232,232)",
            "linecolor": "rgb(36,36,36)",
            "showgrid": false,
            "showline": true,
            "ticks": "outside"
           },
           "bgcolor": "white",
           "caxis": {
            "gridcolor": "rgb(232,232,232)",
            "linecolor": "rgb(36,36,36)",
            "showgrid": false,
            "showline": true,
            "ticks": "outside"
           }
          },
          "title": {
           "x": 0.05
          },
          "xaxis": {
           "automargin": true,
           "gridcolor": "rgb(232,232,232)",
           "linecolor": "rgb(36,36,36)",
           "showgrid": false,
           "showline": true,
           "ticks": "outside",
           "title": {
            "standoff": 15
           },
           "zeroline": false,
           "zerolinecolor": "rgb(36,36,36)"
          },
          "yaxis": {
           "automargin": true,
           "gridcolor": "rgb(232,232,232)",
           "linecolor": "rgb(36,36,36)",
           "showgrid": false,
           "showline": true,
           "ticks": "outside",
           "title": {
            "standoff": 15
           },
           "zeroline": false,
           "zerolinecolor": "rgb(36,36,36)"
          }
         }
        },
        "title": {
         "text": "ON Last time R<1"
        },
        "xaxis": {
         "title": {
          "text": "Epsilon"
         }
        },
        "yaxis": {
         "title": {
          "text": "Time (days)"
         }
        }
       }
      }
     },
     "metadata": {}
    }
   ],
   "source": [
    "# Plot time of last R_t < 1\n",
    "fig = go.Figure()\n",
    "\n",
    "# Plot of incidences\n",
    "fig.add_trace(\n",
    "    go.Scatter(\n",
    "        x=large_epsilon_range,\n",
    "        y=last_time_r_less_than_1,\n",
    "        mode='lines',\n",
    "        name='Mean'\n",
    "    )\n",
    ")\n",
    "\n",
    "fig.add_trace(\n",
    "    go.Scatter(\n",
    "        x=large_epsilon_range,\n",
    "        y=last_time_r_less_than_1_LowerCI,\n",
    "        mode='lines',\n",
    "        name='Lower bound CI'\n",
    "    )\n",
    ")\n",
    "\n",
    "fig.add_trace(\n",
    "    go.Scatter(\n",
    "        x=large_epsilon_range,\n",
    "        y=last_time_r_less_than_1_UpperCI,\n",
    "        mode='lines',\n",
    "        name='Upper bound CI'\n",
    "    )\n",
    ")\n",
    "\n",
    "# Add axis labels\n",
    "fig.update_layout(\n",
    "    title='ON Last time R<1',\n",
    "    template='simple_white',\n",
    "    xaxis_title='Epsilon',\n",
    "    yaxis_title='Time (days)'\n",
    ")\n",
    "\n",
    "\n",
    "#fig.write_image('ON-Last-time-R_less_than_1.pdf')\n",
    "fig.show()"
   ]
  },
  {
   "cell_type": "code",
   "execution_count": 18,
   "metadata": {},
   "outputs": [
    {
     "output_type": "display_data",
     "data": {
      "application/vnd.plotly.v1+json": {
       "config": {
        "plotlyServerURL": "https://plot.ly"
       },
       "data": [
        {
         "mode": "lines",
         "name": "Mean",
         "type": "scatter",
         "x": [
          0.1,
          0.2,
          0.30000000000000004,
          0.4,
          0.5,
          0.6,
          0.7000000000000001,
          0.8,
          0.9,
          1,
          1.1,
          1.2000000000000002,
          1.3000000000000003,
          1.4000000000000001,
          1.5000000000000002,
          1.6,
          1.7000000000000002,
          1.8000000000000003,
          1.9000000000000001,
          2,
          2.1,
          2.2,
          2.3000000000000003,
          2.4000000000000004
         ],
         "y": [
          1,
          1,
          1,
          1,
          0.9545454545454546,
          0.9318181818181818,
          0.8181818181818182,
          0.7727272727272727,
          0.75,
          0.75,
          0.6590909090909091,
          0.6590909090909091,
          0.6136363636363636,
          0.5227272727272727,
          0.4772727272727273,
          0.4318181818181818,
          0.38636363636363635,
          0.3409090909090909,
          0.29545454545454547,
          0.25,
          0.18181818181818182,
          0.1590909090909091,
          0.1590909090909091,
          0.1590909090909091
         ]
        },
        {
         "mode": "lines",
         "name": "Lower bound CI",
         "type": "scatter",
         "x": [
          0.1,
          0.2,
          0.30000000000000004,
          0.4,
          0.5,
          0.6,
          0.7000000000000001,
          0.8,
          0.9,
          1,
          1.1,
          1.2000000000000002,
          1.3000000000000003,
          1.4000000000000001,
          1.5000000000000002,
          1.6,
          1.7000000000000002,
          1.8000000000000003,
          1.9000000000000001,
          2,
          2.1,
          2.2,
          2.3000000000000003,
          2.4000000000000004
         ],
         "y": [
          0.9545454545454546,
          0.9318181818181818,
          0.9318181818181818,
          0.8181818181818182,
          0.7727272727272727,
          0.7272727272727273,
          0.6818181818181818,
          0.6136363636363636,
          0.5681818181818182,
          0.5227272727272727,
          0.4772727272727273,
          0.45454545454545453,
          0.38636363636363635,
          0.3409090909090909,
          0.2727272727272727,
          0.20454545454545456,
          0.1590909090909091,
          0.1590909090909091,
          0.13636363636363635,
          0.13636363636363635,
          0.13636363636363635,
          0.13636363636363635,
          0.11363636363636363,
          0.11363636363636363
         ]
        },
        {
         "mode": "lines",
         "name": "Upper bound CI",
         "type": "scatter",
         "x": [
          0.1,
          0.2,
          0.30000000000000004,
          0.4,
          0.5,
          0.6,
          0.7000000000000001,
          0.8,
          0.9,
          1,
          1.1,
          1.2000000000000002,
          1.3000000000000003,
          1.4000000000000001,
          1.5000000000000002,
          1.6,
          1.7000000000000002,
          1.8000000000000003,
          1.9000000000000001,
          2,
          2.1,
          2.2,
          2.3000000000000003,
          2.4000000000000004
         ],
         "y": [
          1,
          1,
          1,
          1,
          1,
          1,
          1,
          1,
          0.9772727272727273,
          0.9090909090909091,
          0.8636363636363636,
          0.7954545454545454,
          0.75,
          0.7272727272727273,
          0.7272727272727273,
          0.6818181818181818,
          0.6363636363636364,
          0.5909090909090909,
          0.5454545454545454,
          0.5,
          0.4772727272727273,
          0.45454545454545453,
          0.3409090909090909,
          0.29545454545454547
         ]
        }
       ],
       "layout": {
        "template": {
         "data": {
          "bar": [
           {
            "error_x": {
             "color": "rgb(36,36,36)"
            },
            "error_y": {
             "color": "rgb(36,36,36)"
            },
            "marker": {
             "line": {
              "color": "white",
              "width": 0.5
             }
            },
            "type": "bar"
           }
          ],
          "barpolar": [
           {
            "marker": {
             "line": {
              "color": "white",
              "width": 0.5
             }
            },
            "type": "barpolar"
           }
          ],
          "carpet": [
           {
            "aaxis": {
             "endlinecolor": "rgb(36,36,36)",
             "gridcolor": "white",
             "linecolor": "white",
             "minorgridcolor": "white",
             "startlinecolor": "rgb(36,36,36)"
            },
            "baxis": {
             "endlinecolor": "rgb(36,36,36)",
             "gridcolor": "white",
             "linecolor": "white",
             "minorgridcolor": "white",
             "startlinecolor": "rgb(36,36,36)"
            },
            "type": "carpet"
           }
          ],
          "choropleth": [
           {
            "colorbar": {
             "outlinewidth": 1,
             "tickcolor": "rgb(36,36,36)",
             "ticks": "outside"
            },
            "type": "choropleth"
           }
          ],
          "contour": [
           {
            "colorbar": {
             "outlinewidth": 1,
             "tickcolor": "rgb(36,36,36)",
             "ticks": "outside"
            },
            "colorscale": [
             [
              0,
              "#440154"
             ],
             [
              0.1111111111111111,
              "#482878"
             ],
             [
              0.2222222222222222,
              "#3e4989"
             ],
             [
              0.3333333333333333,
              "#31688e"
             ],
             [
              0.4444444444444444,
              "#26828e"
             ],
             [
              0.5555555555555556,
              "#1f9e89"
             ],
             [
              0.6666666666666666,
              "#35b779"
             ],
             [
              0.7777777777777778,
              "#6ece58"
             ],
             [
              0.8888888888888888,
              "#b5de2b"
             ],
             [
              1,
              "#fde725"
             ]
            ],
            "type": "contour"
           }
          ],
          "contourcarpet": [
           {
            "colorbar": {
             "outlinewidth": 1,
             "tickcolor": "rgb(36,36,36)",
             "ticks": "outside"
            },
            "type": "contourcarpet"
           }
          ],
          "heatmap": [
           {
            "colorbar": {
             "outlinewidth": 1,
             "tickcolor": "rgb(36,36,36)",
             "ticks": "outside"
            },
            "colorscale": [
             [
              0,
              "#440154"
             ],
             [
              0.1111111111111111,
              "#482878"
             ],
             [
              0.2222222222222222,
              "#3e4989"
             ],
             [
              0.3333333333333333,
              "#31688e"
             ],
             [
              0.4444444444444444,
              "#26828e"
             ],
             [
              0.5555555555555556,
              "#1f9e89"
             ],
             [
              0.6666666666666666,
              "#35b779"
             ],
             [
              0.7777777777777778,
              "#6ece58"
             ],
             [
              0.8888888888888888,
              "#b5de2b"
             ],
             [
              1,
              "#fde725"
             ]
            ],
            "type": "heatmap"
           }
          ],
          "heatmapgl": [
           {
            "colorbar": {
             "outlinewidth": 1,
             "tickcolor": "rgb(36,36,36)",
             "ticks": "outside"
            },
            "colorscale": [
             [
              0,
              "#440154"
             ],
             [
              0.1111111111111111,
              "#482878"
             ],
             [
              0.2222222222222222,
              "#3e4989"
             ],
             [
              0.3333333333333333,
              "#31688e"
             ],
             [
              0.4444444444444444,
              "#26828e"
             ],
             [
              0.5555555555555556,
              "#1f9e89"
             ],
             [
              0.6666666666666666,
              "#35b779"
             ],
             [
              0.7777777777777778,
              "#6ece58"
             ],
             [
              0.8888888888888888,
              "#b5de2b"
             ],
             [
              1,
              "#fde725"
             ]
            ],
            "type": "heatmapgl"
           }
          ],
          "histogram": [
           {
            "marker": {
             "line": {
              "color": "white",
              "width": 0.6
             }
            },
            "type": "histogram"
           }
          ],
          "histogram2d": [
           {
            "colorbar": {
             "outlinewidth": 1,
             "tickcolor": "rgb(36,36,36)",
             "ticks": "outside"
            },
            "colorscale": [
             [
              0,
              "#440154"
             ],
             [
              0.1111111111111111,
              "#482878"
             ],
             [
              0.2222222222222222,
              "#3e4989"
             ],
             [
              0.3333333333333333,
              "#31688e"
             ],
             [
              0.4444444444444444,
              "#26828e"
             ],
             [
              0.5555555555555556,
              "#1f9e89"
             ],
             [
              0.6666666666666666,
              "#35b779"
             ],
             [
              0.7777777777777778,
              "#6ece58"
             ],
             [
              0.8888888888888888,
              "#b5de2b"
             ],
             [
              1,
              "#fde725"
             ]
            ],
            "type": "histogram2d"
           }
          ],
          "histogram2dcontour": [
           {
            "colorbar": {
             "outlinewidth": 1,
             "tickcolor": "rgb(36,36,36)",
             "ticks": "outside"
            },
            "colorscale": [
             [
              0,
              "#440154"
             ],
             [
              0.1111111111111111,
              "#482878"
             ],
             [
              0.2222222222222222,
              "#3e4989"
             ],
             [
              0.3333333333333333,
              "#31688e"
             ],
             [
              0.4444444444444444,
              "#26828e"
             ],
             [
              0.5555555555555556,
              "#1f9e89"
             ],
             [
              0.6666666666666666,
              "#35b779"
             ],
             [
              0.7777777777777778,
              "#6ece58"
             ],
             [
              0.8888888888888888,
              "#b5de2b"
             ],
             [
              1,
              "#fde725"
             ]
            ],
            "type": "histogram2dcontour"
           }
          ],
          "mesh3d": [
           {
            "colorbar": {
             "outlinewidth": 1,
             "tickcolor": "rgb(36,36,36)",
             "ticks": "outside"
            },
            "type": "mesh3d"
           }
          ],
          "parcoords": [
           {
            "line": {
             "colorbar": {
              "outlinewidth": 1,
              "tickcolor": "rgb(36,36,36)",
              "ticks": "outside"
             }
            },
            "type": "parcoords"
           }
          ],
          "pie": [
           {
            "automargin": true,
            "type": "pie"
           }
          ],
          "scatter": [
           {
            "marker": {
             "colorbar": {
              "outlinewidth": 1,
              "tickcolor": "rgb(36,36,36)",
              "ticks": "outside"
             }
            },
            "type": "scatter"
           }
          ],
          "scatter3d": [
           {
            "line": {
             "colorbar": {
              "outlinewidth": 1,
              "tickcolor": "rgb(36,36,36)",
              "ticks": "outside"
             }
            },
            "marker": {
             "colorbar": {
              "outlinewidth": 1,
              "tickcolor": "rgb(36,36,36)",
              "ticks": "outside"
             }
            },
            "type": "scatter3d"
           }
          ],
          "scattercarpet": [
           {
            "marker": {
             "colorbar": {
              "outlinewidth": 1,
              "tickcolor": "rgb(36,36,36)",
              "ticks": "outside"
             }
            },
            "type": "scattercarpet"
           }
          ],
          "scattergeo": [
           {
            "marker": {
             "colorbar": {
              "outlinewidth": 1,
              "tickcolor": "rgb(36,36,36)",
              "ticks": "outside"
             }
            },
            "type": "scattergeo"
           }
          ],
          "scattergl": [
           {
            "marker": {
             "colorbar": {
              "outlinewidth": 1,
              "tickcolor": "rgb(36,36,36)",
              "ticks": "outside"
             }
            },
            "type": "scattergl"
           }
          ],
          "scattermapbox": [
           {
            "marker": {
             "colorbar": {
              "outlinewidth": 1,
              "tickcolor": "rgb(36,36,36)",
              "ticks": "outside"
             }
            },
            "type": "scattermapbox"
           }
          ],
          "scatterpolar": [
           {
            "marker": {
             "colorbar": {
              "outlinewidth": 1,
              "tickcolor": "rgb(36,36,36)",
              "ticks": "outside"
             }
            },
            "type": "scatterpolar"
           }
          ],
          "scatterpolargl": [
           {
            "marker": {
             "colorbar": {
              "outlinewidth": 1,
              "tickcolor": "rgb(36,36,36)",
              "ticks": "outside"
             }
            },
            "type": "scatterpolargl"
           }
          ],
          "scatterternary": [
           {
            "marker": {
             "colorbar": {
              "outlinewidth": 1,
              "tickcolor": "rgb(36,36,36)",
              "ticks": "outside"
             }
            },
            "type": "scatterternary"
           }
          ],
          "surface": [
           {
            "colorbar": {
             "outlinewidth": 1,
             "tickcolor": "rgb(36,36,36)",
             "ticks": "outside"
            },
            "colorscale": [
             [
              0,
              "#440154"
             ],
             [
              0.1111111111111111,
              "#482878"
             ],
             [
              0.2222222222222222,
              "#3e4989"
             ],
             [
              0.3333333333333333,
              "#31688e"
             ],
             [
              0.4444444444444444,
              "#26828e"
             ],
             [
              0.5555555555555556,
              "#1f9e89"
             ],
             [
              0.6666666666666666,
              "#35b779"
             ],
             [
              0.7777777777777778,
              "#6ece58"
             ],
             [
              0.8888888888888888,
              "#b5de2b"
             ],
             [
              1,
              "#fde725"
             ]
            ],
            "type": "surface"
           }
          ],
          "table": [
           {
            "cells": {
             "fill": {
              "color": "rgb(237,237,237)"
             },
             "line": {
              "color": "white"
             }
            },
            "header": {
             "fill": {
              "color": "rgb(217,217,217)"
             },
             "line": {
              "color": "white"
             }
            },
            "type": "table"
           }
          ]
         },
         "layout": {
          "annotationdefaults": {
           "arrowhead": 0,
           "arrowwidth": 1
          },
          "autotypenumbers": "strict",
          "coloraxis": {
           "colorbar": {
            "outlinewidth": 1,
            "tickcolor": "rgb(36,36,36)",
            "ticks": "outside"
           }
          },
          "colorscale": {
           "diverging": [
            [
             0,
             "rgb(103,0,31)"
            ],
            [
             0.1,
             "rgb(178,24,43)"
            ],
            [
             0.2,
             "rgb(214,96,77)"
            ],
            [
             0.3,
             "rgb(244,165,130)"
            ],
            [
             0.4,
             "rgb(253,219,199)"
            ],
            [
             0.5,
             "rgb(247,247,247)"
            ],
            [
             0.6,
             "rgb(209,229,240)"
            ],
            [
             0.7,
             "rgb(146,197,222)"
            ],
            [
             0.8,
             "rgb(67,147,195)"
            ],
            [
             0.9,
             "rgb(33,102,172)"
            ],
            [
             1,
             "rgb(5,48,97)"
            ]
           ],
           "sequential": [
            [
             0,
             "#440154"
            ],
            [
             0.1111111111111111,
             "#482878"
            ],
            [
             0.2222222222222222,
             "#3e4989"
            ],
            [
             0.3333333333333333,
             "#31688e"
            ],
            [
             0.4444444444444444,
             "#26828e"
            ],
            [
             0.5555555555555556,
             "#1f9e89"
            ],
            [
             0.6666666666666666,
             "#35b779"
            ],
            [
             0.7777777777777778,
             "#6ece58"
            ],
            [
             0.8888888888888888,
             "#b5de2b"
            ],
            [
             1,
             "#fde725"
            ]
           ],
           "sequentialminus": [
            [
             0,
             "#440154"
            ],
            [
             0.1111111111111111,
             "#482878"
            ],
            [
             0.2222222222222222,
             "#3e4989"
            ],
            [
             0.3333333333333333,
             "#31688e"
            ],
            [
             0.4444444444444444,
             "#26828e"
            ],
            [
             0.5555555555555556,
             "#1f9e89"
            ],
            [
             0.6666666666666666,
             "#35b779"
            ],
            [
             0.7777777777777778,
             "#6ece58"
            ],
            [
             0.8888888888888888,
             "#b5de2b"
            ],
            [
             1,
             "#fde725"
            ]
           ]
          },
          "colorway": [
           "#1F77B4",
           "#FF7F0E",
           "#2CA02C",
           "#D62728",
           "#9467BD",
           "#8C564B",
           "#E377C2",
           "#7F7F7F",
           "#BCBD22",
           "#17BECF"
          ],
          "font": {
           "color": "rgb(36,36,36)"
          },
          "geo": {
           "bgcolor": "white",
           "lakecolor": "white",
           "landcolor": "white",
           "showlakes": true,
           "showland": true,
           "subunitcolor": "white"
          },
          "hoverlabel": {
           "align": "left"
          },
          "hovermode": "closest",
          "mapbox": {
           "style": "light"
          },
          "paper_bgcolor": "white",
          "plot_bgcolor": "white",
          "polar": {
           "angularaxis": {
            "gridcolor": "rgb(232,232,232)",
            "linecolor": "rgb(36,36,36)",
            "showgrid": false,
            "showline": true,
            "ticks": "outside"
           },
           "bgcolor": "white",
           "radialaxis": {
            "gridcolor": "rgb(232,232,232)",
            "linecolor": "rgb(36,36,36)",
            "showgrid": false,
            "showline": true,
            "ticks": "outside"
           }
          },
          "scene": {
           "xaxis": {
            "backgroundcolor": "white",
            "gridcolor": "rgb(232,232,232)",
            "gridwidth": 2,
            "linecolor": "rgb(36,36,36)",
            "showbackground": true,
            "showgrid": false,
            "showline": true,
            "ticks": "outside",
            "zeroline": false,
            "zerolinecolor": "rgb(36,36,36)"
           },
           "yaxis": {
            "backgroundcolor": "white",
            "gridcolor": "rgb(232,232,232)",
            "gridwidth": 2,
            "linecolor": "rgb(36,36,36)",
            "showbackground": true,
            "showgrid": false,
            "showline": true,
            "ticks": "outside",
            "zeroline": false,
            "zerolinecolor": "rgb(36,36,36)"
           },
           "zaxis": {
            "backgroundcolor": "white",
            "gridcolor": "rgb(232,232,232)",
            "gridwidth": 2,
            "linecolor": "rgb(36,36,36)",
            "showbackground": true,
            "showgrid": false,
            "showline": true,
            "ticks": "outside",
            "zeroline": false,
            "zerolinecolor": "rgb(36,36,36)"
           }
          },
          "shapedefaults": {
           "fillcolor": "black",
           "line": {
            "width": 0
           },
           "opacity": 0.3
          },
          "ternary": {
           "aaxis": {
            "gridcolor": "rgb(232,232,232)",
            "linecolor": "rgb(36,36,36)",
            "showgrid": false,
            "showline": true,
            "ticks": "outside"
           },
           "baxis": {
            "gridcolor": "rgb(232,232,232)",
            "linecolor": "rgb(36,36,36)",
            "showgrid": false,
            "showline": true,
            "ticks": "outside"
           },
           "bgcolor": "white",
           "caxis": {
            "gridcolor": "rgb(232,232,232)",
            "linecolor": "rgb(36,36,36)",
            "showgrid": false,
            "showline": true,
            "ticks": "outside"
           }
          },
          "title": {
           "x": 0.05
          },
          "xaxis": {
           "automargin": true,
           "gridcolor": "rgb(232,232,232)",
           "linecolor": "rgb(36,36,36)",
           "showgrid": false,
           "showline": true,
           "ticks": "outside",
           "title": {
            "standoff": 15
           },
           "zeroline": false,
           "zerolinecolor": "rgb(36,36,36)"
          },
          "yaxis": {
           "automargin": true,
           "gridcolor": "rgb(232,232,232)",
           "linecolor": "rgb(36,36,36)",
           "showgrid": false,
           "showline": true,
           "ticks": "outside",
           "title": {
            "standoff": 15
           },
           "zeroline": false,
           "zerolinecolor": "rgb(36,36,36)"
          }
         }
        },
        "title": {
         "text": "ON Proportion of time R>1"
        },
        "xaxis": {
         "title": {
          "text": "Epsilon"
         }
        },
        "yaxis": {
         "title": {
          "text": "Time (days)"
         }
        }
       }
      }
     },
     "metadata": {}
    }
   ],
   "source": [
    "# Plot proportion of time R_t > 1 \n",
    "fig = go.Figure()\n",
    "\n",
    "# Plot of incidences\n",
    "fig.add_trace(\n",
    "    go.Scatter(\n",
    "        x=large_epsilon_range,\n",
    "        y=proportion_time_r_more_than_1,\n",
    "        mode='lines',\n",
    "        name='Mean'\n",
    "    )\n",
    ")\n",
    "\n",
    "fig.add_trace(\n",
    "    go.Scatter(\n",
    "        x=large_epsilon_range,\n",
    "        y=proportion_time_r_more_than_1_LowerCI,\n",
    "        mode='lines',\n",
    "        name='Lower bound CI'\n",
    "    )\n",
    ")\n",
    "\n",
    "fig.add_trace(\n",
    "    go.Scatter(\n",
    "        x=large_epsilon_range,\n",
    "        y=proportion_time_r_more_than_1_UpperCI,\n",
    "        mode='lines',\n",
    "        name='Upper bound CI'\n",
    "    )\n",
    ")\n",
    "\n",
    "# Add axis labels\n",
    "fig.update_layout(\n",
    "    title='ON Proportion of time R>1',\n",
    "    template='simple_white',\n",
    "    xaxis_title='Epsilon',\n",
    "    yaxis_title='Time (days)'\n",
    ")\n",
    "\n",
    "\n",
    "#fig.write_image('ON-Proportion-time-R_more_than_1.pdf')\n",
    "fig.show()"
   ]
  },
  {
   "cell_type": "code",
   "execution_count": null,
   "metadata": {},
   "outputs": [],
   "source": []
  }
 ],
 "metadata": {
  "kernelspec": {
   "name": "python385jvsc74a57bd034783718b96b00301f03fbc7cc717743f1d89135027a4004f1427440c34696d4",
   "display_name": "Python 3.8.5 64-bit ('base': conda)"
  },
  "language_info": {
   "codemirror_mode": {
    "name": "ipython",
    "version": 3
   },
   "file_extension": ".py",
   "mimetype": "text/x-python",
   "name": "python",
   "nbconvert_exporter": "python",
   "pygments_lexer": "ipython3",
   "version": "3.8.5"
  },
  "widgets": {
   "application/vnd.jupyter.widget-state+json": {
    "state": {},
    "version_major": 2,
    "version_minor": 0
   }
  },
  "metadata": {
   "interpreter": {
    "hash": "7812ea015bdcee6f23a998adcdd2ef97c151c0c241b7b7070987d9313e41299d"
   }
  }
 },
 "nbformat": 4,
 "nbformat_minor": 2
}