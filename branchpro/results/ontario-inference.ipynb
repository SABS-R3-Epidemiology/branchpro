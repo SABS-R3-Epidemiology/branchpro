{
 "metadata": {
  "language_info": {
   "codemirror_mode": {
    "name": "ipython",
    "version": 3
   },
   "file_extension": ".py",
   "mimetype": "text/x-python",
   "name": "python",
   "nbconvert_exporter": "python",
   "pygments_lexer": "ipython3",
   "version": "3.8.5"
  },
  "orig_nbformat": 2,
  "kernelspec": {
   "name": "python385jvsc74a57bd034783718b96b00301f03fbc7cc717743f1d89135027a4004f1427440c34696d4",
   "display_name": "Python 3.8.5 64-bit ('base': conda)"
  }
 },
 "nbformat": 4,
 "nbformat_minor": 2,
 "cells": [
  {
   "source": [
    "# Inference on Australia data and observe effects of epsilon"
   ],
   "cell_type": "markdown",
   "metadata": {}
  },
  {
   "source": [
    "## Load all information and modify them to the correct format"
   ],
   "cell_type": "markdown",
   "metadata": {}
  },
  {
   "cell_type": "code",
   "execution_count": 1,
   "metadata": {},
   "outputs": [],
   "source": [
    "# Import libraries\n",
    "import numpy as np\n",
    "import math\n",
    "import branchpro\n",
    "import scipy.stats\n",
    "import matplotlib\n",
    "import plotly.graph_objects as go\n",
    "from matplotlib import pyplot as plt\n",
    "import os\n",
    "import pandas as pd\n"
   ]
  },
  {
   "cell_type": "code",
   "execution_count": 2,
   "metadata": {},
   "outputs": [],
   "source": [
    "# Read serial interval\n",
    "si_file = 'si-epinow'\n",
    "path = os.path.join('../data_library/serial_interval', '{}.csv'.format(si_file))\n",
    "serial_interval = pd.read_csv(path, header=None)\n",
    "serial_interval = serial_interval.fillna(0)\n",
    "serial_intervals = serial_interval.values.T"
   ]
  },
  {
   "cell_type": "code",
   "execution_count": 3,
   "metadata": {},
   "outputs": [],
   "source": [
    "# Read Ontario data\n",
    "path = os.path.join('../data_library/covid_ontario/ON.csv')\n",
    "data = pd.read_csv(path)[:51]"
   ]
  },
  {
   "cell_type": "code",
   "execution_count": 4,
   "metadata": {},
   "outputs": [],
   "source": [
    "time_key = 'Time'\n",
    "num_timepoints = max(data[time_key])\n",
    "data_times = data[time_key]\n",
    "\n",
    "# Pad with zeros the time points where we have no information on\n",
    "# the number of incidences\n",
    "padded_inc_data = data.set_index(time_key).reindex(\n",
    "    range(\n",
    "        1, max(data_times)+1)\n",
    "        ).fillna(0).reset_index()\n",
    "locally_infected_cases = padded_inc_data['Incidence Number']\n",
    "imported_cases = padded_inc_data['Imported Cases']\n",
    "\n",
    "start_times = np.arange(1, num_timepoints+1, dtype=int)\n",
    "times = np.arange(num_timepoints+1)"
   ]
  },
  {
   "cell_type": "code",
   "execution_count": 5,
   "metadata": {},
   "outputs": [
    {
     "output_type": "display_data",
     "data": {
      "application/vnd.plotly.v1+json": {
       "config": {
        "plotlyServerURL": "https://plot.ly"
       },
       "data": [
        {
         "name": "Local Incidences",
         "type": "bar",
         "x": [
          0,
          1,
          2,
          3,
          4,
          5,
          6,
          7,
          8,
          9,
          10,
          11,
          12,
          13,
          14,
          15,
          16,
          17,
          18,
          19,
          20,
          21,
          22,
          23,
          24,
          25,
          26,
          27,
          28,
          29,
          30,
          31,
          32,
          33,
          34,
          35,
          36,
          37,
          38,
          39,
          40,
          41,
          42,
          43,
          44,
          45,
          46,
          47,
          48,
          49,
          50,
          51
         ],
         "y": [
          0,
          0,
          0,
          0,
          0,
          1,
          0,
          1,
          1,
          3,
          7,
          11,
          10,
          7,
          5,
          19,
          17,
          28,
          37,
          52,
          44,
          58,
          95,
          111,
          92,
          173,
          201,
          157,
          176,
          323,
          311,
          367,
          378,
          404,
          317,
          343,
          440,
          433,
          464,
          449,
          378,
          456,
          518,
          579,
          546,
          605,
          566,
          728,
          594,
          582,
          605
         ]
        },
        {
         "name": "Imported Cases",
         "type": "bar",
         "x": [
          0,
          1,
          2,
          3,
          4,
          5,
          6,
          7,
          8,
          9,
          10,
          11,
          12,
          13,
          14,
          15,
          16,
          17,
          18,
          19,
          20,
          21,
          22,
          23,
          24,
          25,
          26,
          27,
          28,
          29,
          30,
          31,
          32,
          33,
          34,
          35,
          36,
          37,
          38,
          39,
          40,
          41,
          42,
          43,
          44,
          45,
          46,
          47,
          48,
          49,
          50,
          51
         ],
         "y": [
          2,
          0,
          2,
          1,
          4,
          1,
          3,
          4,
          4,
          6,
          17,
          26,
          26,
          24,
          31,
          34,
          41,
          29,
          28,
          45,
          27,
          27,
          48,
          61,
          44,
          74,
          90,
          78,
          51,
          113,
          99,
          81,
          70,
          59,
          31,
          28,
          33,
          24,
          24,
          30,
          18,
          14,
          20,
          13,
          6,
          8,
          6,
          11,
          6,
          8,
          4
         ]
        }
       ],
       "layout": {
        "template": {
         "data": {
          "bar": [
           {
            "error_x": {
             "color": "rgb(36,36,36)"
            },
            "error_y": {
             "color": "rgb(36,36,36)"
            },
            "marker": {
             "line": {
              "color": "white",
              "width": 0.5
             }
            },
            "type": "bar"
           }
          ],
          "barpolar": [
           {
            "marker": {
             "line": {
              "color": "white",
              "width": 0.5
             }
            },
            "type": "barpolar"
           }
          ],
          "carpet": [
           {
            "aaxis": {
             "endlinecolor": "rgb(36,36,36)",
             "gridcolor": "white",
             "linecolor": "white",
             "minorgridcolor": "white",
             "startlinecolor": "rgb(36,36,36)"
            },
            "baxis": {
             "endlinecolor": "rgb(36,36,36)",
             "gridcolor": "white",
             "linecolor": "white",
             "minorgridcolor": "white",
             "startlinecolor": "rgb(36,36,36)"
            },
            "type": "carpet"
           }
          ],
          "choropleth": [
           {
            "colorbar": {
             "outlinewidth": 1,
             "tickcolor": "rgb(36,36,36)",
             "ticks": "outside"
            },
            "type": "choropleth"
           }
          ],
          "contour": [
           {
            "colorbar": {
             "outlinewidth": 1,
             "tickcolor": "rgb(36,36,36)",
             "ticks": "outside"
            },
            "colorscale": [
             [
              0,
              "#440154"
             ],
             [
              0.1111111111111111,
              "#482878"
             ],
             [
              0.2222222222222222,
              "#3e4989"
             ],
             [
              0.3333333333333333,
              "#31688e"
             ],
             [
              0.4444444444444444,
              "#26828e"
             ],
             [
              0.5555555555555556,
              "#1f9e89"
             ],
             [
              0.6666666666666666,
              "#35b779"
             ],
             [
              0.7777777777777778,
              "#6ece58"
             ],
             [
              0.8888888888888888,
              "#b5de2b"
             ],
             [
              1,
              "#fde725"
             ]
            ],
            "type": "contour"
           }
          ],
          "contourcarpet": [
           {
            "colorbar": {
             "outlinewidth": 1,
             "tickcolor": "rgb(36,36,36)",
             "ticks": "outside"
            },
            "type": "contourcarpet"
           }
          ],
          "heatmap": [
           {
            "colorbar": {
             "outlinewidth": 1,
             "tickcolor": "rgb(36,36,36)",
             "ticks": "outside"
            },
            "colorscale": [
             [
              0,
              "#440154"
             ],
             [
              0.1111111111111111,
              "#482878"
             ],
             [
              0.2222222222222222,
              "#3e4989"
             ],
             [
              0.3333333333333333,
              "#31688e"
             ],
             [
              0.4444444444444444,
              "#26828e"
             ],
             [
              0.5555555555555556,
              "#1f9e89"
             ],
             [
              0.6666666666666666,
              "#35b779"
             ],
             [
              0.7777777777777778,
              "#6ece58"
             ],
             [
              0.8888888888888888,
              "#b5de2b"
             ],
             [
              1,
              "#fde725"
             ]
            ],
            "type": "heatmap"
           }
          ],
          "heatmapgl": [
           {
            "colorbar": {
             "outlinewidth": 1,
             "tickcolor": "rgb(36,36,36)",
             "ticks": "outside"
            },
            "colorscale": [
             [
              0,
              "#440154"
             ],
             [
              0.1111111111111111,
              "#482878"
             ],
             [
              0.2222222222222222,
              "#3e4989"
             ],
             [
              0.3333333333333333,
              "#31688e"
             ],
             [
              0.4444444444444444,
              "#26828e"
             ],
             [
              0.5555555555555556,
              "#1f9e89"
             ],
             [
              0.6666666666666666,
              "#35b779"
             ],
             [
              0.7777777777777778,
              "#6ece58"
             ],
             [
              0.8888888888888888,
              "#b5de2b"
             ],
             [
              1,
              "#fde725"
             ]
            ],
            "type": "heatmapgl"
           }
          ],
          "histogram": [
           {
            "marker": {
             "line": {
              "color": "white",
              "width": 0.6
             }
            },
            "type": "histogram"
           }
          ],
          "histogram2d": [
           {
            "colorbar": {
             "outlinewidth": 1,
             "tickcolor": "rgb(36,36,36)",
             "ticks": "outside"
            },
            "colorscale": [
             [
              0,
              "#440154"
             ],
             [
              0.1111111111111111,
              "#482878"
             ],
             [
              0.2222222222222222,
              "#3e4989"
             ],
             [
              0.3333333333333333,
              "#31688e"
             ],
             [
              0.4444444444444444,
              "#26828e"
             ],
             [
              0.5555555555555556,
              "#1f9e89"
             ],
             [
              0.6666666666666666,
              "#35b779"
             ],
             [
              0.7777777777777778,
              "#6ece58"
             ],
             [
              0.8888888888888888,
              "#b5de2b"
             ],
             [
              1,
              "#fde725"
             ]
            ],
            "type": "histogram2d"
           }
          ],
          "histogram2dcontour": [
           {
            "colorbar": {
             "outlinewidth": 1,
             "tickcolor": "rgb(36,36,36)",
             "ticks": "outside"
            },
            "colorscale": [
             [
              0,
              "#440154"
             ],
             [
              0.1111111111111111,
              "#482878"
             ],
             [
              0.2222222222222222,
              "#3e4989"
             ],
             [
              0.3333333333333333,
              "#31688e"
             ],
             [
              0.4444444444444444,
              "#26828e"
             ],
             [
              0.5555555555555556,
              "#1f9e89"
             ],
             [
              0.6666666666666666,
              "#35b779"
             ],
             [
              0.7777777777777778,
              "#6ece58"
             ],
             [
              0.8888888888888888,
              "#b5de2b"
             ],
             [
              1,
              "#fde725"
             ]
            ],
            "type": "histogram2dcontour"
           }
          ],
          "mesh3d": [
           {
            "colorbar": {
             "outlinewidth": 1,
             "tickcolor": "rgb(36,36,36)",
             "ticks": "outside"
            },
            "type": "mesh3d"
           }
          ],
          "parcoords": [
           {
            "line": {
             "colorbar": {
              "outlinewidth": 1,
              "tickcolor": "rgb(36,36,36)",
              "ticks": "outside"
             }
            },
            "type": "parcoords"
           }
          ],
          "pie": [
           {
            "automargin": true,
            "type": "pie"
           }
          ],
          "scatter": [
           {
            "marker": {
             "colorbar": {
              "outlinewidth": 1,
              "tickcolor": "rgb(36,36,36)",
              "ticks": "outside"
             }
            },
            "type": "scatter"
           }
          ],
          "scatter3d": [
           {
            "line": {
             "colorbar": {
              "outlinewidth": 1,
              "tickcolor": "rgb(36,36,36)",
              "ticks": "outside"
             }
            },
            "marker": {
             "colorbar": {
              "outlinewidth": 1,
              "tickcolor": "rgb(36,36,36)",
              "ticks": "outside"
             }
            },
            "type": "scatter3d"
           }
          ],
          "scattercarpet": [
           {
            "marker": {
             "colorbar": {
              "outlinewidth": 1,
              "tickcolor": "rgb(36,36,36)",
              "ticks": "outside"
             }
            },
            "type": "scattercarpet"
           }
          ],
          "scattergeo": [
           {
            "marker": {
             "colorbar": {
              "outlinewidth": 1,
              "tickcolor": "rgb(36,36,36)",
              "ticks": "outside"
             }
            },
            "type": "scattergeo"
           }
          ],
          "scattergl": [
           {
            "marker": {
             "colorbar": {
              "outlinewidth": 1,
              "tickcolor": "rgb(36,36,36)",
              "ticks": "outside"
             }
            },
            "type": "scattergl"
           }
          ],
          "scattermapbox": [
           {
            "marker": {
             "colorbar": {
              "outlinewidth": 1,
              "tickcolor": "rgb(36,36,36)",
              "ticks": "outside"
             }
            },
            "type": "scattermapbox"
           }
          ],
          "scatterpolar": [
           {
            "marker": {
             "colorbar": {
              "outlinewidth": 1,
              "tickcolor": "rgb(36,36,36)",
              "ticks": "outside"
             }
            },
            "type": "scatterpolar"
           }
          ],
          "scatterpolargl": [
           {
            "marker": {
             "colorbar": {
              "outlinewidth": 1,
              "tickcolor": "rgb(36,36,36)",
              "ticks": "outside"
             }
            },
            "type": "scatterpolargl"
           }
          ],
          "scatterternary": [
           {
            "marker": {
             "colorbar": {
              "outlinewidth": 1,
              "tickcolor": "rgb(36,36,36)",
              "ticks": "outside"
             }
            },
            "type": "scatterternary"
           }
          ],
          "surface": [
           {
            "colorbar": {
             "outlinewidth": 1,
             "tickcolor": "rgb(36,36,36)",
             "ticks": "outside"
            },
            "colorscale": [
             [
              0,
              "#440154"
             ],
             [
              0.1111111111111111,
              "#482878"
             ],
             [
              0.2222222222222222,
              "#3e4989"
             ],
             [
              0.3333333333333333,
              "#31688e"
             ],
             [
              0.4444444444444444,
              "#26828e"
             ],
             [
              0.5555555555555556,
              "#1f9e89"
             ],
             [
              0.6666666666666666,
              "#35b779"
             ],
             [
              0.7777777777777778,
              "#6ece58"
             ],
             [
              0.8888888888888888,
              "#b5de2b"
             ],
             [
              1,
              "#fde725"
             ]
            ],
            "type": "surface"
           }
          ],
          "table": [
           {
            "cells": {
             "fill": {
              "color": "rgb(237,237,237)"
             },
             "line": {
              "color": "white"
             }
            },
            "header": {
             "fill": {
              "color": "rgb(217,217,217)"
             },
             "line": {
              "color": "white"
             }
            },
            "type": "table"
           }
          ]
         },
         "layout": {
          "annotationdefaults": {
           "arrowhead": 0,
           "arrowwidth": 1
          },
          "autotypenumbers": "strict",
          "coloraxis": {
           "colorbar": {
            "outlinewidth": 1,
            "tickcolor": "rgb(36,36,36)",
            "ticks": "outside"
           }
          },
          "colorscale": {
           "diverging": [
            [
             0,
             "rgb(103,0,31)"
            ],
            [
             0.1,
             "rgb(178,24,43)"
            ],
            [
             0.2,
             "rgb(214,96,77)"
            ],
            [
             0.3,
             "rgb(244,165,130)"
            ],
            [
             0.4,
             "rgb(253,219,199)"
            ],
            [
             0.5,
             "rgb(247,247,247)"
            ],
            [
             0.6,
             "rgb(209,229,240)"
            ],
            [
             0.7,
             "rgb(146,197,222)"
            ],
            [
             0.8,
             "rgb(67,147,195)"
            ],
            [
             0.9,
             "rgb(33,102,172)"
            ],
            [
             1,
             "rgb(5,48,97)"
            ]
           ],
           "sequential": [
            [
             0,
             "#440154"
            ],
            [
             0.1111111111111111,
             "#482878"
            ],
            [
             0.2222222222222222,
             "#3e4989"
            ],
            [
             0.3333333333333333,
             "#31688e"
            ],
            [
             0.4444444444444444,
             "#26828e"
            ],
            [
             0.5555555555555556,
             "#1f9e89"
            ],
            [
             0.6666666666666666,
             "#35b779"
            ],
            [
             0.7777777777777778,
             "#6ece58"
            ],
            [
             0.8888888888888888,
             "#b5de2b"
            ],
            [
             1,
             "#fde725"
            ]
           ],
           "sequentialminus": [
            [
             0,
             "#440154"
            ],
            [
             0.1111111111111111,
             "#482878"
            ],
            [
             0.2222222222222222,
             "#3e4989"
            ],
            [
             0.3333333333333333,
             "#31688e"
            ],
            [
             0.4444444444444444,
             "#26828e"
            ],
            [
             0.5555555555555556,
             "#1f9e89"
            ],
            [
             0.6666666666666666,
             "#35b779"
            ],
            [
             0.7777777777777778,
             "#6ece58"
            ],
            [
             0.8888888888888888,
             "#b5de2b"
            ],
            [
             1,
             "#fde725"
            ]
           ]
          },
          "colorway": [
           "#1F77B4",
           "#FF7F0E",
           "#2CA02C",
           "#D62728",
           "#9467BD",
           "#8C564B",
           "#E377C2",
           "#7F7F7F",
           "#BCBD22",
           "#17BECF"
          ],
          "font": {
           "color": "rgb(36,36,36)"
          },
          "geo": {
           "bgcolor": "white",
           "lakecolor": "white",
           "landcolor": "white",
           "showlakes": true,
           "showland": true,
           "subunitcolor": "white"
          },
          "hoverlabel": {
           "align": "left"
          },
          "hovermode": "closest",
          "mapbox": {
           "style": "light"
          },
          "paper_bgcolor": "white",
          "plot_bgcolor": "white",
          "polar": {
           "angularaxis": {
            "gridcolor": "rgb(232,232,232)",
            "linecolor": "rgb(36,36,36)",
            "showgrid": false,
            "showline": true,
            "ticks": "outside"
           },
           "bgcolor": "white",
           "radialaxis": {
            "gridcolor": "rgb(232,232,232)",
            "linecolor": "rgb(36,36,36)",
            "showgrid": false,
            "showline": true,
            "ticks": "outside"
           }
          },
          "scene": {
           "xaxis": {
            "backgroundcolor": "white",
            "gridcolor": "rgb(232,232,232)",
            "gridwidth": 2,
            "linecolor": "rgb(36,36,36)",
            "showbackground": true,
            "showgrid": false,
            "showline": true,
            "ticks": "outside",
            "zeroline": false,
            "zerolinecolor": "rgb(36,36,36)"
           },
           "yaxis": {
            "backgroundcolor": "white",
            "gridcolor": "rgb(232,232,232)",
            "gridwidth": 2,
            "linecolor": "rgb(36,36,36)",
            "showbackground": true,
            "showgrid": false,
            "showline": true,
            "ticks": "outside",
            "zeroline": false,
            "zerolinecolor": "rgb(36,36,36)"
           },
           "zaxis": {
            "backgroundcolor": "white",
            "gridcolor": "rgb(232,232,232)",
            "gridwidth": 2,
            "linecolor": "rgb(36,36,36)",
            "showbackground": true,
            "showgrid": false,
            "showline": true,
            "ticks": "outside",
            "zeroline": false,
            "zerolinecolor": "rgb(36,36,36)"
           }
          },
          "shapedefaults": {
           "fillcolor": "black",
           "line": {
            "width": 0
           },
           "opacity": 0.3
          },
          "ternary": {
           "aaxis": {
            "gridcolor": "rgb(232,232,232)",
            "linecolor": "rgb(36,36,36)",
            "showgrid": false,
            "showline": true,
            "ticks": "outside"
           },
           "baxis": {
            "gridcolor": "rgb(232,232,232)",
            "linecolor": "rgb(36,36,36)",
            "showgrid": false,
            "showline": true,
            "ticks": "outside"
           },
           "bgcolor": "white",
           "caxis": {
            "gridcolor": "rgb(232,232,232)",
            "linecolor": "rgb(36,36,36)",
            "showgrid": false,
            "showline": true,
            "ticks": "outside"
           }
          },
          "title": {
           "x": 0.05
          },
          "xaxis": {
           "automargin": true,
           "gridcolor": "rgb(232,232,232)",
           "linecolor": "rgb(36,36,36)",
           "showgrid": false,
           "showline": true,
           "ticks": "outside",
           "title": {
            "standoff": 15
           },
           "zeroline": false,
           "zerolinecolor": "rgb(36,36,36)"
          },
          "yaxis": {
           "automargin": true,
           "gridcolor": "rgb(232,232,232)",
           "linecolor": "rgb(36,36,36)",
           "showgrid": false,
           "showline": true,
           "ticks": "outside",
           "title": {
            "standoff": 15
           },
           "zeroline": false,
           "zerolinecolor": "rgb(36,36,36)"
          }
         }
        },
        "xaxis": {
         "title": {
          "text": "Time (days)"
         }
        },
        "yaxis": {
         "title": {
          "text": "New cases"
         }
        }
       }
      }
     },
     "metadata": {}
    }
   ],
   "source": [
    "# Plot (bar chart cases each day)\n",
    "fig = go.Figure()\n",
    "\n",
    "# Plot of incidences\n",
    "fig.add_trace(\n",
    "    go.Bar(\n",
    "        x=times,\n",
    "        y=locally_infected_cases,\n",
    "        name='Local Incidences'\n",
    "    )\n",
    ")\n",
    "\n",
    "fig.add_trace(\n",
    "    go.Bar(\n",
    "        x=times,\n",
    "        y=imported_cases,\n",
    "        name='Imported Cases'\n",
    "    )\n",
    ")\n",
    "\n",
    "# Add axis labels\n",
    "fig.update_layout(\n",
    "    template='simple_white',\n",
    "    xaxis_title='Time (days)',\n",
    "    yaxis_title='New cases'\n",
    ")\n",
    "\n",
    "\n",
    "fig.write_image('ON-cases.pdf')\n",
    "fig.show()"
   ]
  },
  {
   "source": [
    "## Comparison of inference results for different epsilon values"
   ],
   "cell_type": "markdown",
   "metadata": {}
  },
  {
   "cell_type": "code",
   "execution_count": 6,
   "metadata": {},
   "outputs": [],
   "source": [
    "# Same inference, but using the LocImpBranchProPosterior\n",
    "tau = 6\n",
    "R_t_start = tau+1\n",
    "a = 1\n",
    "b = 0.2\n",
    "\n",
    "# Run inferences for different values of epsilon\n",
    "column_names = ['Time Points', 'Mean', 'Lower bound CI', 'Upper bound CI', 'Central Probability', 'Epsilon']\n",
    "epsilon_range = [0.2, 0.5, 1, 1.5, 1.8, 2, 2.5]\n",
    "chosen_times = [10, 15, 20, 25, 30, 40]\n",
    "\n",
    "all_intervals = pd.DataFrame(columns=column_names)\n",
    "all_intervals_chosen = pd.DataFrame(columns=column_names)\n",
    "# Transform our incidence data into pandas dataframes\n",
    "inc_data = pd.DataFrame(\n",
    "    {\n",
    "        'Time': start_times,\n",
    "        'Incidence Number': locally_infected_cases\n",
    "    }\n",
    ")\n",
    "\n",
    "imported_inc_data = pd.DataFrame(\n",
    "    {\n",
    "        'Time': start_times,\n",
    "        'Incidence Number': imported_cases\n",
    "    }\n",
    ")\n",
    "\n",
    "for epsilon in epsilon_range:\n",
    "    inference = branchpro.LocImpBranchProPosteriorMultSI(\n",
    "        inc_data=inc_data,\n",
    "        imported_inc_data=imported_inc_data,\n",
    "        epsilon=epsilon,\n",
    "        daily_serial_intervals=serial_intervals,\n",
    "        alpha=a,\n",
    "        beta=b)\n",
    "\n",
    "    inference.run_inference(tau=tau)\n",
    "    intervals = inference.get_intervals(central_prob=0)\n",
    "    intervals = intervals.append(inference.get_intervals(central_prob=.25))\n",
    "    intervals = intervals.append(inference.get_intervals(central_prob=.95))\n",
    "    temp = inference.get_intervals(central_prob=.95)\n",
    "\n",
    "    intervals['Epsilon'] = [epsilon] * len(intervals.index)\n",
    "\n",
    "    intervals_chosen = pd.DataFrame(columns=intervals.columns)\n",
    "    for time_pt in chosen_times:\n",
    "        intervals_chosen = intervals_chosen.append(\n",
    "            intervals.loc[intervals['Time Points']== time_pt])\n",
    "\n",
    "    all_intervals = all_intervals.append(intervals)\n",
    "    all_intervals_chosen = all_intervals_chosen.append(intervals_chosen)"
   ]
  },
  {
   "cell_type": "code",
   "execution_count": 7,
   "metadata": {},
   "outputs": [
    {
     "output_type": "display_data",
     "data": {
      "application/vnd.plotly.v1+json": {
       "config": {
        "plotlyServerURL": "https://plot.ly"
       },
       "data": [
        {
         "lowerfence": [
          0.9176545202732087,
          0.465694247186184,
          0.25601492077112203,
          0.176769632473588,
          0.14904215969145299,
          0.13495054952800276,
          0.10894349310547115
         ],
         "mean": [
          2.361572742462158,
          1.1933413743972778,
          0.6539114713668823,
          0.4506239891052246,
          0.3795565068721771,
          0.3436053693294525,
          0.277675598859787
         ],
         "median": [
          2.2294503450393677,
          1.1282157897949219,
          0.6186642050743103,
          0.4263782799243927,
          0.3591388761997223,
          0.32512423396110535,
          0.2627462297677994
         ],
         "name": "Day10",
         "q1": [
          1.9587307125329971,
          0.9910566434264183,
          0.5435642972588539,
          0.3746630921959877,
          0.3158321715891361,
          0.28573809564113617,
          0.23077142052352428
         ],
         "q3": [
          2.5277903378009796,
          1.2786193639039993,
          0.7007166370749474,
          0.4830486588180065,
          0.4065903387963772,
          0.3682869225740433,
          0.2975783199071884
         ],
         "type": "box",
         "upperfence": [
          4.549882411956789,
          2.2912317335605628,
          1.2530442923307419,
          0.8624982714653016,
          0.7260284945368767,
          0.6586352303624153,
          0.5319684013724327
         ],
         "x": [
          "0.2",
          "0.5",
          "1.0",
          "1.5",
          "1.8",
          "2.0",
          "2.5"
         ]
        },
        {
         "lowerfence": [
          1.2091703951358794,
          0.787657667696476,
          0.4987167961895466,
          0.36447503939270975,
          0.3137615829706192,
          0.28725351840257646,
          0.2371623333543539
         ],
         "mean": [
          1.8399229049682617,
          1.1906025409698486,
          0.7498442530632019,
          0.5473148226737976,
          0.4708405137062073,
          0.4307776689529419,
          0.3552102744579315
         ],
         "median": [
          1.7966740131378174,
          1.164529263973236,
          0.7341612577438354,
          0.5358485281467438,
          0.46126410365104675,
          0.42210762202739716,
          0.34815047681331635
         ],
         "name": "Day15",
         "q1": [
          1.683727577328682,
          1.0926001369953156,
          0.6891606152057648,
          0.5033023506402969,
          0.4332835450768471,
          0.3963717222213745,
          0.3271060027182102
         ],
         "q3": [
          1.9181307405233383,
          1.2418516427278519,
          0.7822999358177185,
          0.5708642229437828,
          0.49125101417303085,
          0.449468981474638,
          0.3704887107014656
         ],
         "type": "box",
         "upperfence": [
          2.716742378473282,
          1.74176664352417,
          1.09029196202755,
          0.7947997644543648,
          0.6821081876754761,
          0.6237235754728317,
          0.5138466477394105
         ],
         "x": [
          "0.2",
          "0.5",
          "1.0",
          "1.5",
          "1.8",
          "2.0",
          "2.5"
         ]
        },
        {
         "lowerfence": [
          1.4604351222515106,
          0.9823696583509446,
          0.6353178367018699,
          0.4695065915584564,
          0.4057365939021111,
          0.37239509746432303,
          0.30850302800536156
         ],
         "mean": [
          1.8331530094146729,
          1.2247459888458252,
          0.7887546420097351,
          0.5815714597702026,
          0.5024222135543823,
          0.4606247842311859,
          0.38141611218452454
         ],
         "median": [
          1.8142433166503906,
          1.212838053703308,
          0.7813288867473602,
          0.5763598382472992,
          0.4978082627058029,
          0.4563572108745575,
          0.37794195115566254
         ],
         "name": "Day20",
         "q1": [
          1.7498259097337723,
          1.1708019822835922,
          0.7547596618533134,
          0.5567233487963676,
          0.48106881231069565,
          0.4410409927368164,
          0.36521880328655243
         ],
         "q3": [
          1.8829511851072311,
          1.2573489397764206,
          0.8095093816518784,
          0.5968615263700485,
          0.515525184571743,
          0.47257623076438904,
          0.3913453631103039
         ],
         "type": "box",
         "upperfence": [
          2.3113038599491116,
          1.5351069182157515,
          0.9846153289079667,
          0.724456462264061,
          0.6252051010727883,
          0.5731588453054429,
          0.47423222661018377
         ],
         "x": [
          "0.2",
          "0.5",
          "1.0",
          "1.5",
          "1.8",
          "2.0",
          "2.5"
         ]
        },
        {
         "lowerfence": [
          1.6439222842454912,
          1.3235216647386552,
          0.9973713144659996,
          0.7998877033591271,
          0.7144073784351348,
          0.667091877758503,
          0.5720260128378868
         ],
         "mean": [
          1.9649995565414429,
          1.552526831626892,
          1.1504462957382202,
          0.9139954447746277,
          0.8135831952095032,
          0.7581217288970947,
          0.6477128863334656
         ],
         "median": [
          1.9482759237289429,
          1.5418835878372192,
          1.1439340710639954,
          0.9094651341438293,
          0.8096965253353119,
          0.7546553909778595,
          0.6448790431022644
         ],
         "name": "Day25",
         "q1": [
          1.8929768353700638,
          1.502585083246231,
          1.1179138720035553,
          0.8900855556130409,
          0.7928932011127472,
          0.7392366454005241,
          0.6320353075861931
         ],
         "q3": [
          2.0073531568050385,
          1.5833941400051117,
          1.1713890731334686,
          0.9297893643379211,
          0.8273694962263107,
          0.7707735300064087,
          0.6583030074834824
         ],
         "type": "box",
         "upperfence": [
          2.375326919555664,
          1.8398391485214234,
          1.3397863656282427,
          1.053852927684784,
          0.9350574597716331,
          0.8691269993782044,
          0.7397365272045135
         ],
         "x": [
          "0.2",
          "0.5",
          "1.0",
          "1.5",
          "1.8",
          "2.0",
          "2.5"
         ]
        },
        {
         "lowerfence": [
          1.6007467269897462,
          1.4048342674970629,
          1.1671504497528078,
          0.9981375932693481,
          0.9184665456414223,
          0.8720529541373253,
          0.7740234106779099
         ],
         "mean": [
          1.8533425331115723,
          1.616855263710022,
          1.333082914352417,
          1.1341865062713623,
          1.040987253189087,
          0.986912727355957,
          0.87361079454422
         ],
         "median": [
          1.8367321491241455,
          1.6037525534629822,
          1.323478877544403,
          1.1268041729927063,
          1.0345512628555298,
          0.9810693562030792,
          0.8687346577644348
         ],
         "name": "Day30",
         "q1": [
          1.7932163178920746,
          1.5673300623893738,
          1.2951328307390213,
          1.103551134467125,
          1.0136113911867142,
          0.961347870528698,
          0.8516603484749794
         ],
         "q3": [
          1.8843284994363785,
          1.6433724611997604,
          1.35443814098835,
          1.1518443822860718,
          1.0570880621671677,
          1.0020976066589355,
          0.8869257271289825
         ],
         "type": "box",
         "upperfence": [
          2.192411702871323,
          1.8969942867755891,
          1.5486274272203446,
          1.3087444692850114,
          1.1975352615118027,
          1.1330809354782105,
          0.9991483807563781
         ],
         "x": [
          "0.2",
          "0.5",
          "1.0",
          "1.5",
          "1.8",
          "2.0",
          "2.5"
         ]
        },
        {
         "lowerfence": [
          1.1187856078147889,
          1.063879358768463,
          0.9825446486473084,
          0.9123529121279716,
          0.8745228379964829,
          0.8510258093476295,
          0.7968996703624726
         ],
         "mean": [
          1.2036305665969849,
          1.1392329931259155,
          1.0458546876907349,
          0.9667251706123352,
          0.9250237941741943,
          0.8985771536827087,
          0.8393258452415466
         ],
         "median": [
          1.1975866556167603,
          1.1338876485824585,
          1.0416058897972107,
          0.9631896913051605,
          0.9215813279151917,
          0.8957799971103668,
          0.837237536907196
         ],
         "name": "Day40",
         "q1": [
          1.182510256767273,
          1.12053781747818,
          1.030400350689888,
          0.9536944404244423,
          0.9128070399165154,
          0.8875078558921814,
          0.8298476114869118
         ],
         "q3": [
          1.2139937579631805,
          1.1483927965164185,
          1.0536283254623413,
          0.9733882993459702,
          0.9309804439544678,
          0.904684267938137,
          0.8451083526015282
         ],
         "type": "box",
         "upperfence": [
          1.3236577183008194,
          1.2461919248104096,
          1.1353844672441482,
          1.0434073239564896,
          0.995378851890564,
          0.9658909648656845,
          0.8994007721543312
         ],
         "x": [
          "0.2",
          "0.5",
          "1.0",
          "1.5",
          "1.8",
          "2.0",
          "2.5"
         ]
        }
       ],
       "layout": {
        "boxmode": "group",
        "template": {
         "data": {
          "bar": [
           {
            "error_x": {
             "color": "rgb(36,36,36)"
            },
            "error_y": {
             "color": "rgb(36,36,36)"
            },
            "marker": {
             "line": {
              "color": "white",
              "width": 0.5
             }
            },
            "type": "bar"
           }
          ],
          "barpolar": [
           {
            "marker": {
             "line": {
              "color": "white",
              "width": 0.5
             }
            },
            "type": "barpolar"
           }
          ],
          "carpet": [
           {
            "aaxis": {
             "endlinecolor": "rgb(36,36,36)",
             "gridcolor": "white",
             "linecolor": "white",
             "minorgridcolor": "white",
             "startlinecolor": "rgb(36,36,36)"
            },
            "baxis": {
             "endlinecolor": "rgb(36,36,36)",
             "gridcolor": "white",
             "linecolor": "white",
             "minorgridcolor": "white",
             "startlinecolor": "rgb(36,36,36)"
            },
            "type": "carpet"
           }
          ],
          "choropleth": [
           {
            "colorbar": {
             "outlinewidth": 1,
             "tickcolor": "rgb(36,36,36)",
             "ticks": "outside"
            },
            "type": "choropleth"
           }
          ],
          "contour": [
           {
            "colorbar": {
             "outlinewidth": 1,
             "tickcolor": "rgb(36,36,36)",
             "ticks": "outside"
            },
            "colorscale": [
             [
              0,
              "#440154"
             ],
             [
              0.1111111111111111,
              "#482878"
             ],
             [
              0.2222222222222222,
              "#3e4989"
             ],
             [
              0.3333333333333333,
              "#31688e"
             ],
             [
              0.4444444444444444,
              "#26828e"
             ],
             [
              0.5555555555555556,
              "#1f9e89"
             ],
             [
              0.6666666666666666,
              "#35b779"
             ],
             [
              0.7777777777777778,
              "#6ece58"
             ],
             [
              0.8888888888888888,
              "#b5de2b"
             ],
             [
              1,
              "#fde725"
             ]
            ],
            "type": "contour"
           }
          ],
          "contourcarpet": [
           {
            "colorbar": {
             "outlinewidth": 1,
             "tickcolor": "rgb(36,36,36)",
             "ticks": "outside"
            },
            "type": "contourcarpet"
           }
          ],
          "heatmap": [
           {
            "colorbar": {
             "outlinewidth": 1,
             "tickcolor": "rgb(36,36,36)",
             "ticks": "outside"
            },
            "colorscale": [
             [
              0,
              "#440154"
             ],
             [
              0.1111111111111111,
              "#482878"
             ],
             [
              0.2222222222222222,
              "#3e4989"
             ],
             [
              0.3333333333333333,
              "#31688e"
             ],
             [
              0.4444444444444444,
              "#26828e"
             ],
             [
              0.5555555555555556,
              "#1f9e89"
             ],
             [
              0.6666666666666666,
              "#35b779"
             ],
             [
              0.7777777777777778,
              "#6ece58"
             ],
             [
              0.8888888888888888,
              "#b5de2b"
             ],
             [
              1,
              "#fde725"
             ]
            ],
            "type": "heatmap"
           }
          ],
          "heatmapgl": [
           {
            "colorbar": {
             "outlinewidth": 1,
             "tickcolor": "rgb(36,36,36)",
             "ticks": "outside"
            },
            "colorscale": [
             [
              0,
              "#440154"
             ],
             [
              0.1111111111111111,
              "#482878"
             ],
             [
              0.2222222222222222,
              "#3e4989"
             ],
             [
              0.3333333333333333,
              "#31688e"
             ],
             [
              0.4444444444444444,
              "#26828e"
             ],
             [
              0.5555555555555556,
              "#1f9e89"
             ],
             [
              0.6666666666666666,
              "#35b779"
             ],
             [
              0.7777777777777778,
              "#6ece58"
             ],
             [
              0.8888888888888888,
              "#b5de2b"
             ],
             [
              1,
              "#fde725"
             ]
            ],
            "type": "heatmapgl"
           }
          ],
          "histogram": [
           {
            "marker": {
             "line": {
              "color": "white",
              "width": 0.6
             }
            },
            "type": "histogram"
           }
          ],
          "histogram2d": [
           {
            "colorbar": {
             "outlinewidth": 1,
             "tickcolor": "rgb(36,36,36)",
             "ticks": "outside"
            },
            "colorscale": [
             [
              0,
              "#440154"
             ],
             [
              0.1111111111111111,
              "#482878"
             ],
             [
              0.2222222222222222,
              "#3e4989"
             ],
             [
              0.3333333333333333,
              "#31688e"
             ],
             [
              0.4444444444444444,
              "#26828e"
             ],
             [
              0.5555555555555556,
              "#1f9e89"
             ],
             [
              0.6666666666666666,
              "#35b779"
             ],
             [
              0.7777777777777778,
              "#6ece58"
             ],
             [
              0.8888888888888888,
              "#b5de2b"
             ],
             [
              1,
              "#fde725"
             ]
            ],
            "type": "histogram2d"
           }
          ],
          "histogram2dcontour": [
           {
            "colorbar": {
             "outlinewidth": 1,
             "tickcolor": "rgb(36,36,36)",
             "ticks": "outside"
            },
            "colorscale": [
             [
              0,
              "#440154"
             ],
             [
              0.1111111111111111,
              "#482878"
             ],
             [
              0.2222222222222222,
              "#3e4989"
             ],
             [
              0.3333333333333333,
              "#31688e"
             ],
             [
              0.4444444444444444,
              "#26828e"
             ],
             [
              0.5555555555555556,
              "#1f9e89"
             ],
             [
              0.6666666666666666,
              "#35b779"
             ],
             [
              0.7777777777777778,
              "#6ece58"
             ],
             [
              0.8888888888888888,
              "#b5de2b"
             ],
             [
              1,
              "#fde725"
             ]
            ],
            "type": "histogram2dcontour"
           }
          ],
          "mesh3d": [
           {
            "colorbar": {
             "outlinewidth": 1,
             "tickcolor": "rgb(36,36,36)",
             "ticks": "outside"
            },
            "type": "mesh3d"
           }
          ],
          "parcoords": [
           {
            "line": {
             "colorbar": {
              "outlinewidth": 1,
              "tickcolor": "rgb(36,36,36)",
              "ticks": "outside"
             }
            },
            "type": "parcoords"
           }
          ],
          "pie": [
           {
            "automargin": true,
            "type": "pie"
           }
          ],
          "scatter": [
           {
            "marker": {
             "colorbar": {
              "outlinewidth": 1,
              "tickcolor": "rgb(36,36,36)",
              "ticks": "outside"
             }
            },
            "type": "scatter"
           }
          ],
          "scatter3d": [
           {
            "line": {
             "colorbar": {
              "outlinewidth": 1,
              "tickcolor": "rgb(36,36,36)",
              "ticks": "outside"
             }
            },
            "marker": {
             "colorbar": {
              "outlinewidth": 1,
              "tickcolor": "rgb(36,36,36)",
              "ticks": "outside"
             }
            },
            "type": "scatter3d"
           }
          ],
          "scattercarpet": [
           {
            "marker": {
             "colorbar": {
              "outlinewidth": 1,
              "tickcolor": "rgb(36,36,36)",
              "ticks": "outside"
             }
            },
            "type": "scattercarpet"
           }
          ],
          "scattergeo": [
           {
            "marker": {
             "colorbar": {
              "outlinewidth": 1,
              "tickcolor": "rgb(36,36,36)",
              "ticks": "outside"
             }
            },
            "type": "scattergeo"
           }
          ],
          "scattergl": [
           {
            "marker": {
             "colorbar": {
              "outlinewidth": 1,
              "tickcolor": "rgb(36,36,36)",
              "ticks": "outside"
             }
            },
            "type": "scattergl"
           }
          ],
          "scattermapbox": [
           {
            "marker": {
             "colorbar": {
              "outlinewidth": 1,
              "tickcolor": "rgb(36,36,36)",
              "ticks": "outside"
             }
            },
            "type": "scattermapbox"
           }
          ],
          "scatterpolar": [
           {
            "marker": {
             "colorbar": {
              "outlinewidth": 1,
              "tickcolor": "rgb(36,36,36)",
              "ticks": "outside"
             }
            },
            "type": "scatterpolar"
           }
          ],
          "scatterpolargl": [
           {
            "marker": {
             "colorbar": {
              "outlinewidth": 1,
              "tickcolor": "rgb(36,36,36)",
              "ticks": "outside"
             }
            },
            "type": "scatterpolargl"
           }
          ],
          "scatterternary": [
           {
            "marker": {
             "colorbar": {
              "outlinewidth": 1,
              "tickcolor": "rgb(36,36,36)",
              "ticks": "outside"
             }
            },
            "type": "scatterternary"
           }
          ],
          "surface": [
           {
            "colorbar": {
             "outlinewidth": 1,
             "tickcolor": "rgb(36,36,36)",
             "ticks": "outside"
            },
            "colorscale": [
             [
              0,
              "#440154"
             ],
             [
              0.1111111111111111,
              "#482878"
             ],
             [
              0.2222222222222222,
              "#3e4989"
             ],
             [
              0.3333333333333333,
              "#31688e"
             ],
             [
              0.4444444444444444,
              "#26828e"
             ],
             [
              0.5555555555555556,
              "#1f9e89"
             ],
             [
              0.6666666666666666,
              "#35b779"
             ],
             [
              0.7777777777777778,
              "#6ece58"
             ],
             [
              0.8888888888888888,
              "#b5de2b"
             ],
             [
              1,
              "#fde725"
             ]
            ],
            "type": "surface"
           }
          ],
          "table": [
           {
            "cells": {
             "fill": {
              "color": "rgb(237,237,237)"
             },
             "line": {
              "color": "white"
             }
            },
            "header": {
             "fill": {
              "color": "rgb(217,217,217)"
             },
             "line": {
              "color": "white"
             }
            },
            "type": "table"
           }
          ]
         },
         "layout": {
          "annotationdefaults": {
           "arrowhead": 0,
           "arrowwidth": 1
          },
          "autotypenumbers": "strict",
          "coloraxis": {
           "colorbar": {
            "outlinewidth": 1,
            "tickcolor": "rgb(36,36,36)",
            "ticks": "outside"
           }
          },
          "colorscale": {
           "diverging": [
            [
             0,
             "rgb(103,0,31)"
            ],
            [
             0.1,
             "rgb(178,24,43)"
            ],
            [
             0.2,
             "rgb(214,96,77)"
            ],
            [
             0.3,
             "rgb(244,165,130)"
            ],
            [
             0.4,
             "rgb(253,219,199)"
            ],
            [
             0.5,
             "rgb(247,247,247)"
            ],
            [
             0.6,
             "rgb(209,229,240)"
            ],
            [
             0.7,
             "rgb(146,197,222)"
            ],
            [
             0.8,
             "rgb(67,147,195)"
            ],
            [
             0.9,
             "rgb(33,102,172)"
            ],
            [
             1,
             "rgb(5,48,97)"
            ]
           ],
           "sequential": [
            [
             0,
             "#440154"
            ],
            [
             0.1111111111111111,
             "#482878"
            ],
            [
             0.2222222222222222,
             "#3e4989"
            ],
            [
             0.3333333333333333,
             "#31688e"
            ],
            [
             0.4444444444444444,
             "#26828e"
            ],
            [
             0.5555555555555556,
             "#1f9e89"
            ],
            [
             0.6666666666666666,
             "#35b779"
            ],
            [
             0.7777777777777778,
             "#6ece58"
            ],
            [
             0.8888888888888888,
             "#b5de2b"
            ],
            [
             1,
             "#fde725"
            ]
           ],
           "sequentialminus": [
            [
             0,
             "#440154"
            ],
            [
             0.1111111111111111,
             "#482878"
            ],
            [
             0.2222222222222222,
             "#3e4989"
            ],
            [
             0.3333333333333333,
             "#31688e"
            ],
            [
             0.4444444444444444,
             "#26828e"
            ],
            [
             0.5555555555555556,
             "#1f9e89"
            ],
            [
             0.6666666666666666,
             "#35b779"
            ],
            [
             0.7777777777777778,
             "#6ece58"
            ],
            [
             0.8888888888888888,
             "#b5de2b"
            ],
            [
             1,
             "#fde725"
            ]
           ]
          },
          "colorway": [
           "#1F77B4",
           "#FF7F0E",
           "#2CA02C",
           "#D62728",
           "#9467BD",
           "#8C564B",
           "#E377C2",
           "#7F7F7F",
           "#BCBD22",
           "#17BECF"
          ],
          "font": {
           "color": "rgb(36,36,36)"
          },
          "geo": {
           "bgcolor": "white",
           "lakecolor": "white",
           "landcolor": "white",
           "showlakes": true,
           "showland": true,
           "subunitcolor": "white"
          },
          "hoverlabel": {
           "align": "left"
          },
          "hovermode": "closest",
          "mapbox": {
           "style": "light"
          },
          "paper_bgcolor": "white",
          "plot_bgcolor": "white",
          "polar": {
           "angularaxis": {
            "gridcolor": "rgb(232,232,232)",
            "linecolor": "rgb(36,36,36)",
            "showgrid": false,
            "showline": true,
            "ticks": "outside"
           },
           "bgcolor": "white",
           "radialaxis": {
            "gridcolor": "rgb(232,232,232)",
            "linecolor": "rgb(36,36,36)",
            "showgrid": false,
            "showline": true,
            "ticks": "outside"
           }
          },
          "scene": {
           "xaxis": {
            "backgroundcolor": "white",
            "gridcolor": "rgb(232,232,232)",
            "gridwidth": 2,
            "linecolor": "rgb(36,36,36)",
            "showbackground": true,
            "showgrid": false,
            "showline": true,
            "ticks": "outside",
            "zeroline": false,
            "zerolinecolor": "rgb(36,36,36)"
           },
           "yaxis": {
            "backgroundcolor": "white",
            "gridcolor": "rgb(232,232,232)",
            "gridwidth": 2,
            "linecolor": "rgb(36,36,36)",
            "showbackground": true,
            "showgrid": false,
            "showline": true,
            "ticks": "outside",
            "zeroline": false,
            "zerolinecolor": "rgb(36,36,36)"
           },
           "zaxis": {
            "backgroundcolor": "white",
            "gridcolor": "rgb(232,232,232)",
            "gridwidth": 2,
            "linecolor": "rgb(36,36,36)",
            "showbackground": true,
            "showgrid": false,
            "showline": true,
            "ticks": "outside",
            "zeroline": false,
            "zerolinecolor": "rgb(36,36,36)"
           }
          },
          "shapedefaults": {
           "fillcolor": "black",
           "line": {
            "width": 0
           },
           "opacity": 0.3
          },
          "ternary": {
           "aaxis": {
            "gridcolor": "rgb(232,232,232)",
            "linecolor": "rgb(36,36,36)",
            "showgrid": false,
            "showline": true,
            "ticks": "outside"
           },
           "baxis": {
            "gridcolor": "rgb(232,232,232)",
            "linecolor": "rgb(36,36,36)",
            "showgrid": false,
            "showline": true,
            "ticks": "outside"
           },
           "bgcolor": "white",
           "caxis": {
            "gridcolor": "rgb(232,232,232)",
            "linecolor": "rgb(36,36,36)",
            "showgrid": false,
            "showline": true,
            "ticks": "outside"
           }
          },
          "title": {
           "x": 0.05
          },
          "xaxis": {
           "automargin": true,
           "gridcolor": "rgb(232,232,232)",
           "linecolor": "rgb(36,36,36)",
           "showgrid": false,
           "showline": true,
           "ticks": "outside",
           "title": {
            "standoff": 15
           },
           "zeroline": false,
           "zerolinecolor": "rgb(36,36,36)"
          },
          "yaxis": {
           "automargin": true,
           "gridcolor": "rgb(232,232,232)",
           "linecolor": "rgb(36,36,36)",
           "showgrid": false,
           "showline": true,
           "ticks": "outside",
           "title": {
            "standoff": 15
           },
           "zeroline": false,
           "zerolinecolor": "rgb(36,36,36)"
          }
         }
        },
        "title": {
         "text": "ON"
        }
       }
      }
     },
     "metadata": {}
    }
   ],
   "source": [
    "# Create list of names for x-axis and traces\n",
    "epsilon_range = np.around(epsilon_range,1)\n",
    "num_epsilons = len(epsilon_range)\n",
    "x_name = []\n",
    "for i in range(num_epsilons):\n",
    "    x_name.append(str(epsilon_range[i]))\n",
    "trace_name = ['Day{}'.format(x) for x in chosen_times]\n",
    "\n",
    "# Sort results\n",
    "all_intervals_chosen.sort_values(by=['Time Points', 'Epsilon'], inplace=True)\n",
    "\n",
    "# Plot (box plot for inference)\n",
    "fig = go.Figure()\n",
    "\n",
    "for i in range(len(trace_name)):\n",
    "    fig.add_trace(\n",
    "        go.Box(\n",
    "            mean=all_intervals_chosen.loc[all_intervals_chosen['Central Probability']==0]['Mean'][i*num_epsilons:(i+1)*num_epsilons],\n",
    "            median=all_intervals_chosen.loc[all_intervals_chosen['Central Probability']==0]['Lower bound CI'][i*num_epsilons:(i+1)*num_epsilons],\n",
    "            q1=all_intervals_chosen.loc[all_intervals_chosen['Central Probability']==0.25]['Lower bound CI'][i*num_epsilons:(i+1)*num_epsilons],\n",
    "            q3=all_intervals_chosen.loc[all_intervals_chosen['Central Probability']==0.25]['Upper bound CI'][i*num_epsilons:(i+1)*num_epsilons],\n",
    "            upperfence=all_intervals_chosen.loc[all_intervals_chosen['Central Probability']==0.95]['Upper bound CI'][i*num_epsilons:(i+1)*num_epsilons],\n",
    "            lowerfence=all_intervals_chosen.loc[all_intervals_chosen['Central Probability']==0.95]['Lower bound CI'][i*num_epsilons:(i+1)*num_epsilons],\n",
    "            x=x_name,\n",
    "            name=trace_name[i]\n",
    "        )\n",
    "    )\n",
    "fig.update_layout(template='simple_white', boxmode='group', title='ON')\n",
    "\n",
    "fig.show()"
   ]
  },
  {
   "cell_type": "code",
   "execution_count": 8,
   "metadata": {},
   "outputs": [
    {
     "output_type": "display_data",
     "data": {
      "application/vnd.plotly.v1+json": {
       "config": {
        "plotlyServerURL": "https://plot.ly"
       },
       "data": [
        {
         "lowerfence": [
          0.9176545202732087,
          1.2091703951358794,
          1.4604351222515106,
          1.6439222842454912,
          1.6007467269897462,
          1.1187856078147889
         ],
         "mean": [
          2.361572742462158,
          1.8399229049682617,
          1.8331530094146729,
          1.9649995565414429,
          1.8533425331115723,
          1.2036305665969849
         ],
         "median": [
          2.2294503450393677,
          1.7966740131378174,
          1.8142433166503906,
          1.9482759237289429,
          1.8367321491241455,
          1.1975866556167603
         ],
         "name": "0.2",
         "q1": [
          1.9587307125329971,
          1.683727577328682,
          1.7498259097337723,
          1.8929768353700638,
          1.7932163178920746,
          1.182510256767273
         ],
         "q3": [
          2.5277903378009796,
          1.9181307405233383,
          1.8829511851072311,
          2.0073531568050385,
          1.8843284994363785,
          1.2139937579631805
         ],
         "type": "box",
         "upperfence": [
          4.549882411956789,
          2.716742378473282,
          2.3113038599491116,
          2.375326919555664,
          2.192411702871323,
          1.3236577183008194
         ],
         "x": [
          "Day10",
          "Day15",
          "Day20",
          "Day25",
          "Day30",
          "Day40"
         ]
        },
        {
         "lowerfence": [
          0.465694247186184,
          0.787657667696476,
          0.9823696583509446,
          1.3235216647386552,
          1.4048342674970629,
          1.063879358768463
         ],
         "mean": [
          1.1933413743972778,
          1.1906025409698486,
          1.2247459888458252,
          1.552526831626892,
          1.616855263710022,
          1.1392329931259155
         ],
         "median": [
          1.1282157897949219,
          1.164529263973236,
          1.212838053703308,
          1.5418835878372192,
          1.6037525534629822,
          1.1338876485824585
         ],
         "name": "0.5",
         "q1": [
          0.9910566434264183,
          1.0926001369953156,
          1.1708019822835922,
          1.502585083246231,
          1.5673300623893738,
          1.12053781747818
         ],
         "q3": [
          1.2786193639039993,
          1.2418516427278519,
          1.2573489397764206,
          1.5833941400051117,
          1.6433724611997604,
          1.1483927965164185
         ],
         "type": "box",
         "upperfence": [
          2.2912317335605628,
          1.74176664352417,
          1.5351069182157515,
          1.8398391485214234,
          1.8969942867755891,
          1.2461919248104096
         ],
         "x": [
          "Day10",
          "Day15",
          "Day20",
          "Day25",
          "Day30",
          "Day40"
         ]
        },
        {
         "lowerfence": [
          0.25601492077112203,
          0.4987167961895466,
          0.6353178367018699,
          0.9973713144659996,
          1.1671504497528078,
          0.9825446486473084
         ],
         "mean": [
          0.6539114713668823,
          0.7498442530632019,
          0.7887546420097351,
          1.1504462957382202,
          1.333082914352417,
          1.0458546876907349
         ],
         "median": [
          0.6186642050743103,
          0.7341612577438354,
          0.7813288867473602,
          1.1439340710639954,
          1.323478877544403,
          1.0416058897972107
         ],
         "name": "1.0",
         "q1": [
          0.5435642972588539,
          0.6891606152057648,
          0.7547596618533134,
          1.1179138720035553,
          1.2951328307390213,
          1.030400350689888
         ],
         "q3": [
          0.7007166370749474,
          0.7822999358177185,
          0.8095093816518784,
          1.1713890731334686,
          1.35443814098835,
          1.0536283254623413
         ],
         "type": "box",
         "upperfence": [
          1.2530442923307419,
          1.09029196202755,
          0.9846153289079667,
          1.3397863656282427,
          1.5486274272203446,
          1.1353844672441482
         ],
         "x": [
          "Day10",
          "Day15",
          "Day20",
          "Day25",
          "Day30",
          "Day40"
         ]
        },
        {
         "lowerfence": [
          0.176769632473588,
          0.36447503939270975,
          0.4695065915584564,
          0.7998877033591271,
          0.9981375932693481,
          0.9123529121279716
         ],
         "mean": [
          0.4506239891052246,
          0.5473148226737976,
          0.5815714597702026,
          0.9139954447746277,
          1.1341865062713623,
          0.9667251706123352
         ],
         "median": [
          0.4263782799243927,
          0.5358485281467438,
          0.5763598382472992,
          0.9094651341438293,
          1.1268041729927063,
          0.9631896913051605
         ],
         "name": "1.5",
         "q1": [
          0.3746630921959877,
          0.5033023506402969,
          0.5567233487963676,
          0.8900855556130409,
          1.103551134467125,
          0.9536944404244423
         ],
         "q3": [
          0.4830486588180065,
          0.5708642229437828,
          0.5968615263700485,
          0.9297893643379211,
          1.1518443822860718,
          0.9733882993459702
         ],
         "type": "box",
         "upperfence": [
          0.8624982714653016,
          0.7947997644543648,
          0.724456462264061,
          1.053852927684784,
          1.3087444692850114,
          1.0434073239564896
         ],
         "x": [
          "Day10",
          "Day15",
          "Day20",
          "Day25",
          "Day30",
          "Day40"
         ]
        },
        {
         "lowerfence": [
          0.14904215969145299,
          0.3137615829706192,
          0.4057365939021111,
          0.7144073784351348,
          0.9184665456414223,
          0.8745228379964829
         ],
         "mean": [
          0.3795565068721771,
          0.4708405137062073,
          0.5024222135543823,
          0.8135831952095032,
          1.040987253189087,
          0.9250237941741943
         ],
         "median": [
          0.3591388761997223,
          0.46126410365104675,
          0.4978082627058029,
          0.8096965253353119,
          1.0345512628555298,
          0.9215813279151917
         ],
         "name": "1.8",
         "q1": [
          0.3158321715891361,
          0.4332835450768471,
          0.48106881231069565,
          0.7928932011127472,
          1.0136113911867142,
          0.9128070399165154
         ],
         "q3": [
          0.4065903387963772,
          0.49125101417303085,
          0.515525184571743,
          0.8273694962263107,
          1.0570880621671677,
          0.9309804439544678
         ],
         "type": "box",
         "upperfence": [
          0.7260284945368767,
          0.6821081876754761,
          0.6252051010727883,
          0.9350574597716331,
          1.1975352615118027,
          0.995378851890564
         ],
         "x": [
          "Day10",
          "Day15",
          "Day20",
          "Day25",
          "Day30",
          "Day40"
         ]
        },
        {
         "lowerfence": [
          0.13495054952800276,
          0.28725351840257646,
          0.37239509746432303,
          0.667091877758503,
          0.8720529541373253,
          0.8510258093476295
         ],
         "mean": [
          0.3436053693294525,
          0.4307776689529419,
          0.4606247842311859,
          0.7581217288970947,
          0.986912727355957,
          0.8985771536827087
         ],
         "median": [
          0.32512423396110535,
          0.42210762202739716,
          0.4563572108745575,
          0.7546553909778595,
          0.9810693562030792,
          0.8957799971103668
         ],
         "name": "2.0",
         "q1": [
          0.28573809564113617,
          0.3963717222213745,
          0.4410409927368164,
          0.7392366454005241,
          0.961347870528698,
          0.8875078558921814
         ],
         "q3": [
          0.3682869225740433,
          0.449468981474638,
          0.47257623076438904,
          0.7707735300064087,
          1.0020976066589355,
          0.904684267938137
         ],
         "type": "box",
         "upperfence": [
          0.6586352303624153,
          0.6237235754728317,
          0.5731588453054429,
          0.8691269993782044,
          1.1330809354782105,
          0.9658909648656845
         ],
         "x": [
          "Day10",
          "Day15",
          "Day20",
          "Day25",
          "Day30",
          "Day40"
         ]
        },
        {
         "lowerfence": [
          0.10894349310547115,
          0.2371623333543539,
          0.30850302800536156,
          0.5720260128378868,
          0.7740234106779099,
          0.7968996703624726
         ],
         "mean": [
          0.277675598859787,
          0.3552102744579315,
          0.38141611218452454,
          0.6477128863334656,
          0.87361079454422,
          0.8393258452415466
         ],
         "median": [
          0.2627462297677994,
          0.34815047681331635,
          0.37794195115566254,
          0.6448790431022644,
          0.8687346577644348,
          0.837237536907196
         ],
         "name": "2.5",
         "q1": [
          0.23077142052352428,
          0.3271060027182102,
          0.36521880328655243,
          0.6320353075861931,
          0.8516603484749794,
          0.8298476114869118
         ],
         "q3": [
          0.2975783199071884,
          0.3704887107014656,
          0.3913453631103039,
          0.6583030074834824,
          0.8869257271289825,
          0.8451083526015282
         ],
         "type": "box",
         "upperfence": [
          0.5319684013724327,
          0.5138466477394105,
          0.47423222661018377,
          0.7397365272045135,
          0.9991483807563781,
          0.8994007721543312
         ],
         "x": [
          "Day10",
          "Day15",
          "Day20",
          "Day25",
          "Day30",
          "Day40"
         ]
        }
       ],
       "layout": {
        "annotations": [
         {
          "showarrow": false,
          "text": "Prior R",
          "x": 1,
          "xanchor": "right",
          "xref": "x domain",
          "y": 3.4657359027997274,
          "yanchor": "bottom",
          "yref": "y"
         }
        ],
        "boxmode": "group",
        "plot_bgcolor": "white",
        "shapes": [
         {
          "fillcolor": "black",
          "line": {
           "width": 0
          },
          "opacity": 0.1,
          "type": "rect",
          "x0": 0,
          "x1": 1,
          "xref": "x domain",
          "y0": 1.4384103622589044,
          "y1": 6.931471805599453,
          "yref": "y"
         },
         {
          "fillcolor": "black",
          "line": {
           "dash": "dot"
          },
          "type": "line",
          "x0": 0,
          "x1": 1,
          "xref": "x domain",
          "y0": 3.4657359027997274,
          "y1": 3.4657359027997274,
          "yref": "y"
         }
        ],
        "template": {
         "data": {
          "bar": [
           {
            "error_x": {
             "color": "#2a3f5f"
            },
            "error_y": {
             "color": "#2a3f5f"
            },
            "marker": {
             "line": {
              "color": "#E5ECF6",
              "width": 0.5
             }
            },
            "type": "bar"
           }
          ],
          "barpolar": [
           {
            "marker": {
             "line": {
              "color": "#E5ECF6",
              "width": 0.5
             }
            },
            "type": "barpolar"
           }
          ],
          "carpet": [
           {
            "aaxis": {
             "endlinecolor": "#2a3f5f",
             "gridcolor": "white",
             "linecolor": "white",
             "minorgridcolor": "white",
             "startlinecolor": "#2a3f5f"
            },
            "baxis": {
             "endlinecolor": "#2a3f5f",
             "gridcolor": "white",
             "linecolor": "white",
             "minorgridcolor": "white",
             "startlinecolor": "#2a3f5f"
            },
            "type": "carpet"
           }
          ],
          "choropleth": [
           {
            "colorbar": {
             "outlinewidth": 0,
             "ticks": ""
            },
            "type": "choropleth"
           }
          ],
          "contour": [
           {
            "colorbar": {
             "outlinewidth": 0,
             "ticks": ""
            },
            "colorscale": [
             [
              0,
              "#0d0887"
             ],
             [
              0.1111111111111111,
              "#46039f"
             ],
             [
              0.2222222222222222,
              "#7201a8"
             ],
             [
              0.3333333333333333,
              "#9c179e"
             ],
             [
              0.4444444444444444,
              "#bd3786"
             ],
             [
              0.5555555555555556,
              "#d8576b"
             ],
             [
              0.6666666666666666,
              "#ed7953"
             ],
             [
              0.7777777777777778,
              "#fb9f3a"
             ],
             [
              0.8888888888888888,
              "#fdca26"
             ],
             [
              1,
              "#f0f921"
             ]
            ],
            "type": "contour"
           }
          ],
          "contourcarpet": [
           {
            "colorbar": {
             "outlinewidth": 0,
             "ticks": ""
            },
            "type": "contourcarpet"
           }
          ],
          "heatmap": [
           {
            "colorbar": {
             "outlinewidth": 0,
             "ticks": ""
            },
            "colorscale": [
             [
              0,
              "#0d0887"
             ],
             [
              0.1111111111111111,
              "#46039f"
             ],
             [
              0.2222222222222222,
              "#7201a8"
             ],
             [
              0.3333333333333333,
              "#9c179e"
             ],
             [
              0.4444444444444444,
              "#bd3786"
             ],
             [
              0.5555555555555556,
              "#d8576b"
             ],
             [
              0.6666666666666666,
              "#ed7953"
             ],
             [
              0.7777777777777778,
              "#fb9f3a"
             ],
             [
              0.8888888888888888,
              "#fdca26"
             ],
             [
              1,
              "#f0f921"
             ]
            ],
            "type": "heatmap"
           }
          ],
          "heatmapgl": [
           {
            "colorbar": {
             "outlinewidth": 0,
             "ticks": ""
            },
            "colorscale": [
             [
              0,
              "#0d0887"
             ],
             [
              0.1111111111111111,
              "#46039f"
             ],
             [
              0.2222222222222222,
              "#7201a8"
             ],
             [
              0.3333333333333333,
              "#9c179e"
             ],
             [
              0.4444444444444444,
              "#bd3786"
             ],
             [
              0.5555555555555556,
              "#d8576b"
             ],
             [
              0.6666666666666666,
              "#ed7953"
             ],
             [
              0.7777777777777778,
              "#fb9f3a"
             ],
             [
              0.8888888888888888,
              "#fdca26"
             ],
             [
              1,
              "#f0f921"
             ]
            ],
            "type": "heatmapgl"
           }
          ],
          "histogram": [
           {
            "marker": {
             "colorbar": {
              "outlinewidth": 0,
              "ticks": ""
             }
            },
            "type": "histogram"
           }
          ],
          "histogram2d": [
           {
            "colorbar": {
             "outlinewidth": 0,
             "ticks": ""
            },
            "colorscale": [
             [
              0,
              "#0d0887"
             ],
             [
              0.1111111111111111,
              "#46039f"
             ],
             [
              0.2222222222222222,
              "#7201a8"
             ],
             [
              0.3333333333333333,
              "#9c179e"
             ],
             [
              0.4444444444444444,
              "#bd3786"
             ],
             [
              0.5555555555555556,
              "#d8576b"
             ],
             [
              0.6666666666666666,
              "#ed7953"
             ],
             [
              0.7777777777777778,
              "#fb9f3a"
             ],
             [
              0.8888888888888888,
              "#fdca26"
             ],
             [
              1,
              "#f0f921"
             ]
            ],
            "type": "histogram2d"
           }
          ],
          "histogram2dcontour": [
           {
            "colorbar": {
             "outlinewidth": 0,
             "ticks": ""
            },
            "colorscale": [
             [
              0,
              "#0d0887"
             ],
             [
              0.1111111111111111,
              "#46039f"
             ],
             [
              0.2222222222222222,
              "#7201a8"
             ],
             [
              0.3333333333333333,
              "#9c179e"
             ],
             [
              0.4444444444444444,
              "#bd3786"
             ],
             [
              0.5555555555555556,
              "#d8576b"
             ],
             [
              0.6666666666666666,
              "#ed7953"
             ],
             [
              0.7777777777777778,
              "#fb9f3a"
             ],
             [
              0.8888888888888888,
              "#fdca26"
             ],
             [
              1,
              "#f0f921"
             ]
            ],
            "type": "histogram2dcontour"
           }
          ],
          "mesh3d": [
           {
            "colorbar": {
             "outlinewidth": 0,
             "ticks": ""
            },
            "type": "mesh3d"
           }
          ],
          "parcoords": [
           {
            "line": {
             "colorbar": {
              "outlinewidth": 0,
              "ticks": ""
             }
            },
            "type": "parcoords"
           }
          ],
          "pie": [
           {
            "automargin": true,
            "type": "pie"
           }
          ],
          "scatter": [
           {
            "marker": {
             "colorbar": {
              "outlinewidth": 0,
              "ticks": ""
             }
            },
            "type": "scatter"
           }
          ],
          "scatter3d": [
           {
            "line": {
             "colorbar": {
              "outlinewidth": 0,
              "ticks": ""
             }
            },
            "marker": {
             "colorbar": {
              "outlinewidth": 0,
              "ticks": ""
             }
            },
            "type": "scatter3d"
           }
          ],
          "scattercarpet": [
           {
            "marker": {
             "colorbar": {
              "outlinewidth": 0,
              "ticks": ""
             }
            },
            "type": "scattercarpet"
           }
          ],
          "scattergeo": [
           {
            "marker": {
             "colorbar": {
              "outlinewidth": 0,
              "ticks": ""
             }
            },
            "type": "scattergeo"
           }
          ],
          "scattergl": [
           {
            "marker": {
             "colorbar": {
              "outlinewidth": 0,
              "ticks": ""
             }
            },
            "type": "scattergl"
           }
          ],
          "scattermapbox": [
           {
            "marker": {
             "colorbar": {
              "outlinewidth": 0,
              "ticks": ""
             }
            },
            "type": "scattermapbox"
           }
          ],
          "scatterpolar": [
           {
            "marker": {
             "colorbar": {
              "outlinewidth": 0,
              "ticks": ""
             }
            },
            "type": "scatterpolar"
           }
          ],
          "scatterpolargl": [
           {
            "marker": {
             "colorbar": {
              "outlinewidth": 0,
              "ticks": ""
             }
            },
            "type": "scatterpolargl"
           }
          ],
          "scatterternary": [
           {
            "marker": {
             "colorbar": {
              "outlinewidth": 0,
              "ticks": ""
             }
            },
            "type": "scatterternary"
           }
          ],
          "surface": [
           {
            "colorbar": {
             "outlinewidth": 0,
             "ticks": ""
            },
            "colorscale": [
             [
              0,
              "#0d0887"
             ],
             [
              0.1111111111111111,
              "#46039f"
             ],
             [
              0.2222222222222222,
              "#7201a8"
             ],
             [
              0.3333333333333333,
              "#9c179e"
             ],
             [
              0.4444444444444444,
              "#bd3786"
             ],
             [
              0.5555555555555556,
              "#d8576b"
             ],
             [
              0.6666666666666666,
              "#ed7953"
             ],
             [
              0.7777777777777778,
              "#fb9f3a"
             ],
             [
              0.8888888888888888,
              "#fdca26"
             ],
             [
              1,
              "#f0f921"
             ]
            ],
            "type": "surface"
           }
          ],
          "table": [
           {
            "cells": {
             "fill": {
              "color": "#EBF0F8"
             },
             "line": {
              "color": "white"
             }
            },
            "header": {
             "fill": {
              "color": "#C8D4E3"
             },
             "line": {
              "color": "white"
             }
            },
            "type": "table"
           }
          ]
         },
         "layout": {
          "annotationdefaults": {
           "arrowcolor": "#2a3f5f",
           "arrowhead": 0,
           "arrowwidth": 1
          },
          "autotypenumbers": "strict",
          "coloraxis": {
           "colorbar": {
            "outlinewidth": 0,
            "ticks": ""
           }
          },
          "colorscale": {
           "diverging": [
            [
             0,
             "#8e0152"
            ],
            [
             0.1,
             "#c51b7d"
            ],
            [
             0.2,
             "#de77ae"
            ],
            [
             0.3,
             "#f1b6da"
            ],
            [
             0.4,
             "#fde0ef"
            ],
            [
             0.5,
             "#f7f7f7"
            ],
            [
             0.6,
             "#e6f5d0"
            ],
            [
             0.7,
             "#b8e186"
            ],
            [
             0.8,
             "#7fbc41"
            ],
            [
             0.9,
             "#4d9221"
            ],
            [
             1,
             "#276419"
            ]
           ],
           "sequential": [
            [
             0,
             "#0d0887"
            ],
            [
             0.1111111111111111,
             "#46039f"
            ],
            [
             0.2222222222222222,
             "#7201a8"
            ],
            [
             0.3333333333333333,
             "#9c179e"
            ],
            [
             0.4444444444444444,
             "#bd3786"
            ],
            [
             0.5555555555555556,
             "#d8576b"
            ],
            [
             0.6666666666666666,
             "#ed7953"
            ],
            [
             0.7777777777777778,
             "#fb9f3a"
            ],
            [
             0.8888888888888888,
             "#fdca26"
            ],
            [
             1,
             "#f0f921"
            ]
           ],
           "sequentialminus": [
            [
             0,
             "#0d0887"
            ],
            [
             0.1111111111111111,
             "#46039f"
            ],
            [
             0.2222222222222222,
             "#7201a8"
            ],
            [
             0.3333333333333333,
             "#9c179e"
            ],
            [
             0.4444444444444444,
             "#bd3786"
            ],
            [
             0.5555555555555556,
             "#d8576b"
            ],
            [
             0.6666666666666666,
             "#ed7953"
            ],
            [
             0.7777777777777778,
             "#fb9f3a"
            ],
            [
             0.8888888888888888,
             "#fdca26"
            ],
            [
             1,
             "#f0f921"
            ]
           ]
          },
          "colorway": [
           "#636efa",
           "#EF553B",
           "#00cc96",
           "#ab63fa",
           "#FFA15A",
           "#19d3f3",
           "#FF6692",
           "#B6E880",
           "#FF97FF",
           "#FECB52"
          ],
          "font": {
           "color": "#2a3f5f"
          },
          "geo": {
           "bgcolor": "white",
           "lakecolor": "white",
           "landcolor": "#E5ECF6",
           "showlakes": true,
           "showland": true,
           "subunitcolor": "white"
          },
          "hoverlabel": {
           "align": "left"
          },
          "hovermode": "closest",
          "mapbox": {
           "style": "light"
          },
          "paper_bgcolor": "white",
          "plot_bgcolor": "#E5ECF6",
          "polar": {
           "angularaxis": {
            "gridcolor": "white",
            "linecolor": "white",
            "ticks": ""
           },
           "bgcolor": "#E5ECF6",
           "radialaxis": {
            "gridcolor": "white",
            "linecolor": "white",
            "ticks": ""
           }
          },
          "scene": {
           "xaxis": {
            "backgroundcolor": "#E5ECF6",
            "gridcolor": "white",
            "gridwidth": 2,
            "linecolor": "white",
            "showbackground": true,
            "ticks": "",
            "zerolinecolor": "white"
           },
           "yaxis": {
            "backgroundcolor": "#E5ECF6",
            "gridcolor": "white",
            "gridwidth": 2,
            "linecolor": "white",
            "showbackground": true,
            "ticks": "",
            "zerolinecolor": "white"
           },
           "zaxis": {
            "backgroundcolor": "#E5ECF6",
            "gridcolor": "white",
            "gridwidth": 2,
            "linecolor": "white",
            "showbackground": true,
            "ticks": "",
            "zerolinecolor": "white"
           }
          },
          "shapedefaults": {
           "line": {
            "color": "#2a3f5f"
           }
          },
          "ternary": {
           "aaxis": {
            "gridcolor": "white",
            "linecolor": "white",
            "ticks": ""
           },
           "baxis": {
            "gridcolor": "white",
            "linecolor": "white",
            "ticks": ""
           },
           "bgcolor": "#E5ECF6",
           "caxis": {
            "gridcolor": "white",
            "linecolor": "white",
            "ticks": ""
           }
          },
          "title": {
           "x": 0.05
          },
          "xaxis": {
           "automargin": true,
           "gridcolor": "white",
           "linecolor": "white",
           "ticks": "",
           "title": {
            "standoff": 15
           },
           "zerolinecolor": "white",
           "zerolinewidth": 2
          },
          "yaxis": {
           "automargin": true,
           "gridcolor": "white",
           "linecolor": "white",
           "ticks": "",
           "title": {
            "standoff": 15
           },
           "zerolinecolor": "white",
           "zerolinewidth": 2
          }
         }
        },
        "title": {
         "text": "ON"
        },
        "xaxis": {
         "linecolor": "black",
         "ticks": "outside"
        },
        "yaxis": {
         "linecolor": "black",
         "ticks": "outside"
        }
       }
      }
     },
     "metadata": {}
    }
   ],
   "source": [
    "# Create list of names for x-axis and traces\n",
    "group_name = ['Day{}'.format(x) for x in chosen_times]\n",
    "\n",
    "# Sort results\n",
    "all_intervals_chosen.sort_values(by=['Epsilon','Time Points'], inplace=True)\n",
    "\n",
    "# Plot (box plot for inference)\n",
    "fig = go.Figure()\n",
    "\n",
    "prior_dist = scipy.stats.gamma(a, scale=1/b)\n",
    "median = prior_dist.median()\n",
    "prior_dist_interval = prior_dist.interval(.5)\n",
    "\n",
    "fig.add_hrect(y0=prior_dist_interval[0], y1=prior_dist_interval[1], line_width=0, fillcolor='black', opacity=0.1)\n",
    "fig.add_hline(y=median, line_dash='dot',\n",
    "              annotation_text='Prior R', fillcolor='black',\n",
    "              annotation_position='top right')\n",
    "\n",
    "n = len(group_name)\n",
    "for i in range(len(epsilon_range)):\n",
    "    fig.add_trace(\n",
    "        go.Box(\n",
    "            mean=all_intervals_chosen.loc[all_intervals_chosen['Central Probability']==0]['Mean'][i*n:(i+1)*n],\n",
    "            median=all_intervals_chosen.loc[all_intervals_chosen['Central Probability']==0]['Lower bound CI'][i*n:(i+1)*n],\n",
    "            q1=all_intervals_chosen.loc[all_intervals_chosen['Central Probability']==0.25]['Lower bound CI'][i*n:(i+1)*n],\n",
    "            q3=all_intervals_chosen.loc[all_intervals_chosen['Central Probability']==0.25]['Upper bound CI'][i*n:(i+1)*n],\n",
    "            upperfence=all_intervals_chosen.loc[all_intervals_chosen['Central Probability']==0.95]['Upper bound CI'][i*n:(i+1)*n],\n",
    "            lowerfence=all_intervals_chosen.loc[all_intervals_chosen['Central Probability']==0.95]['Lower bound CI'][i*n:(i+1)*n],\n",
    "            x=group_name,\n",
    "            name=str(round(epsilon_range[i],1))\n",
    "        )\n",
    "    )\n",
    "fig.update_layout(boxmode='group', title='ON', plot_bgcolor='white',\n",
    "    xaxis=dict(linecolor='black'),\n",
    "    yaxis=dict(linecolor='black'))\n",
    "\n",
    "fig.update_xaxes(ticks='outside')\n",
    "fig.update_yaxes(ticks='outside')\n",
    "\n",
    "fig.write_image('ON-inf-r.pdf')\n",
    "fig.show()"
   ]
  },
  {
   "cell_type": "code",
   "execution_count": 9,
   "metadata": {},
   "outputs": [
    {
     "output_type": "display_data",
     "data": {
      "application/vnd.plotly.v1+json": {
       "config": {
        "plotlyServerURL": "https://plot.ly"
       },
       "data": [
        {
         "line": {
          "color": "green"
         },
         "name": "Mean R profile for for new Ɛ",
         "type": "scatter",
         "x": [
          8,
          9,
          10,
          11,
          12,
          13,
          14,
          15,
          16,
          17,
          18,
          19,
          20,
          21,
          22,
          23,
          24,
          25,
          26,
          27,
          28,
          29,
          30,
          31,
          32,
          33,
          34,
          35,
          36,
          37,
          38,
          39,
          40,
          41,
          42,
          43,
          44,
          45,
          46,
          47,
          48,
          49,
          50,
          51
         ],
         "xaxis": "x",
         "y": [
          1.9457590579986572,
          1.844489574432373,
          2.361572742462158,
          3.4353702068328857,
          4.172652721405029,
          3.507861852645874,
          2.570631742477417,
          1.8399229049682617,
          1.8420424461364746,
          1.714529037475586,
          1.6984294652938843,
          1.699776291847229,
          1.8331530094146729,
          1.8241324424743652,
          1.8734087944030762,
          1.9912302494049072,
          2.0970890522003174,
          1.9649995565414429,
          2.043023109436035,
          2.075538158416748,
          1.948348045349121,
          1.8118739128112793,
          1.8533425331115723,
          1.821463942527771,
          1.8405874967575073,
          1.7509676218032837,
          1.6524784564971924,
          1.5367238521575928,
          1.452064871788025,
          1.3650161027908325,
          1.3037347793579102,
          1.2515982389450073,
          1.2036305665969849,
          1.1310316324234009,
          1.1373567581176758,
          1.1650755405426025,
          1.1802726984024048,
          1.1791270971298218,
          1.182748794555664,
          1.1754603385925293,
          1.2421609163284302,
          1.2352126836776733,
          1.1967048645019531,
          1.148022174835205
         ],
         "yaxis": "y"
        },
        {
         "fill": "toself",
         "fillcolor": "green",
         "line": {
          "color": "green"
         },
         "mode": "lines",
         "name": "Credible interval for new Ɛ",
         "opacity": 0.15,
         "type": "scatter",
         "x": [
          8,
          9,
          10,
          11,
          12,
          13,
          14,
          15,
          16,
          17,
          18,
          19,
          20,
          21,
          22,
          23,
          24,
          25,
          26,
          27,
          28,
          29,
          30,
          31,
          32,
          33,
          34,
          35,
          36,
          37,
          38,
          39,
          40,
          41,
          42,
          43,
          44,
          45,
          46,
          47,
          48,
          49,
          50,
          51,
          51,
          50,
          49,
          48,
          47,
          46,
          45,
          44,
          43,
          42,
          41,
          40,
          39,
          38,
          37,
          36,
          35,
          34,
          33,
          32,
          31,
          30,
          29,
          28,
          27,
          26,
          25,
          24,
          23,
          22,
          21,
          20,
          19,
          18,
          17,
          16,
          15,
          14,
          13,
          12,
          11,
          10,
          9,
          8
         ],
         "xaxis": "x",
         "y": [
          4.819187891483308,
          4.158782958984376,
          4.549882411956789,
          5.730975008010865,
          6.485725748538972,
          5.414001476764679,
          3.9101678192615514,
          2.716742378473282,
          2.575885432958603,
          2.3160171508789067,
          2.235740453004837,
          2.1908386766910555,
          2.3113038599491116,
          2.269970327615738,
          2.3069098055362702,
          2.424587428569794,
          2.5365049839019775,
          2.375326919555664,
          2.459222584962845,
          2.4861729800701147,
          2.3291773021221163,
          2.1604340434074403,
          2.192411702871323,
          2.1383142828941346,
          2.1495863676071165,
          2.0388797402381895,
          1.917713063955307,
          1.772287631034851,
          1.6606091350317005,
          1.5453400641679764,
          1.4619019657373429,
          1.3889880418777465,
          1.3236577183008194,
          1.2330287784337999,
          1.2302529871463777,
          1.250868797302246,
          1.2575889497995376,
          1.2519500523805618,
          1.2534449100494385,
          1.2449063420295714,
          1.3113137543201445,
          1.302713766694069,
          1.2654670506715775,
          1.2169121593236922,
          1.092822903394699,
          1.137667280435562,
          1.1760705709457397,
          1.183782336115837,
          1.120536682009697,
          1.1266648769378662,
          1.1233361691236496,
          1.1235374987125397,
          1.1052196025848389,
          1.0709870994091035,
          1.057975524663925,
          1.1187856078147889,
          1.154108741879463,
          1.1920609295368194,
          1.2354430675506594,
          1.3012797683477402,
          1.362781149148941,
          1.453312748670578,
          1.5336600095033646,
          1.6083056896924972,
          1.5857449769973755,
          1.6007467269897462,
          1.54703823029995,
          1.656209444999695,
          1.7620561361312868,
          1.7224119454622269,
          1.6439222842454912,
          1.7550654232501983,
          1.6531548380851748,
          1.5340075939893725,
          1.4746763974428179,
          1.4604351222515106,
          1.3182993024587633,
          1.2826621294021607,
          1.2571280449628832,
          1.298716598749161,
          1.2091703951358794,
          1.616798469424248,
          2.1279331326484683,
          2.471008443832398,
          1.7897282660007479,
          0.9176545202732087,
          0.4912431836128241,
          0.39080398231744773
         ],
         "yaxis": "y"
        },
        {
         "line": {
          "color": "purple"
         },
         "name": "Mean R profile for for Ɛ = 1",
         "type": "scatter",
         "x": [
          8,
          9,
          10,
          11,
          12,
          13,
          14,
          15,
          16,
          17,
          18,
          19,
          20,
          21,
          22,
          23,
          24,
          25,
          26,
          27,
          28,
          29,
          30,
          31,
          32,
          33,
          34,
          35,
          36,
          37,
          38,
          39,
          40,
          41,
          42,
          43,
          44,
          45,
          46,
          47,
          48,
          49,
          50,
          51
         ],
         "xaxis": "x",
         "y": [
          0.49116894602775574,
          0.4853765070438385,
          0.6539114713668823,
          1.0173254013061523,
          1.3600181341171265,
          1.2701259851455688,
          1.0068267583847046,
          0.7498442530632019,
          0.7592764496803284,
          0.7054668068885803,
          0.7011781334877014,
          0.7106385231018066,
          0.7887546420097351,
          0.8222111463546753,
          0.8956475257873535,
          1.0154348611831665,
          1.1457699537277222,
          1.1504462957382202,
          1.2725906372070312,
          1.3593512773513794,
          1.328506350517273,
          1.2743608951568604,
          1.333082914352417,
          1.333833932876587,
          1.3703203201293945,
          1.3250030279159546,
          1.2728060483932495,
          1.2059762477874756,
          1.1631258726119995,
          1.1158696413040161,
          1.0876017808914185,
          1.0648046731948853,
          1.0458546876907349,
          1.002586007118225,
          1.026134729385376,
          1.0687710046768188,
          1.0969001054763794,
          1.1081877946853638,
          1.120921015739441,
          1.1228723526000977,
          1.1930015087127686,
          1.1931660175323486,
          1.1616137027740479,
          1.1226006746292114
         ],
         "yaxis": "y"
        },
        {
         "fill": "toself",
         "fillcolor": "purple",
         "line": {
          "color": "purple"
         },
         "mode": "lines",
         "name": "Credible interval for Ɛ = 1",
         "opacity": 0.15,
         "type": "scatter",
         "x": [
          8,
          9,
          10,
          11,
          12,
          13,
          14,
          15,
          16,
          17,
          18,
          19,
          20,
          21,
          22,
          23,
          24,
          25,
          26,
          27,
          28,
          29,
          30,
          31,
          32,
          33,
          34,
          35,
          36,
          37,
          38,
          39,
          40,
          41,
          42,
          43,
          44,
          45,
          46,
          47,
          48,
          49,
          50,
          51,
          51,
          50,
          49,
          48,
          47,
          46,
          45,
          44,
          43,
          42,
          41,
          40,
          39,
          38,
          37,
          36,
          35,
          34,
          33,
          32,
          31,
          30,
          29,
          28,
          27,
          26,
          25,
          24,
          23,
          22,
          21,
          20,
          19,
          18,
          17,
          16,
          15,
          14,
          13,
          12,
          11,
          10,
          9,
          8
         ],
         "xaxis": "x",
         "y": [
          1.2126016259193428,
          1.0896129727363586,
          1.2530442923307419,
          1.6720911860466003,
          2.0543642103672033,
          1.8929369032382968,
          1.4897741347551348,
          1.09029196202755,
          1.0554819732904437,
          0.951596848666668,
          0.9208460614085199,
          0.9112531542778015,
          0.9846153289079667,
          1.0054034143686295,
          1.0768026262521744,
          1.2014699906110764,
          1.3390189558267593,
          1.3397863656282427,
          1.4779026210308077,
          1.5760479390621185,
          1.5440857708454134,
          1.4852156192064285,
          1.5486274272203446,
          1.5426572173833848,
          1.5801722228527069,
          1.524733591079712,
          1.4595694214105608,
          1.3744789451360702,
          1.3132919549942017,
          1.2474673599004746,
          1.2036256909370424,
          1.1671953558921815,
          1.1353844672441482,
          1.0790421485900878,
          1.0966050744056703,
          1.1328991681337355,
          1.1543444514274597,
          1.1623674660921097,
          1.1756502449512483,
          1.177831780910492,
          1.2504974931478499,
          1.2509046912193298,
          1.2226871550083163,
          1.1820359379053116,
          1.0709925830364229,
          1.1105680435895922,
          1.1419620484113693,
          1.1427440613508224,
          1.0749165922403334,
          1.0730619311332703,
          1.060818785429001,
          1.0502190589904785,
          1.0203380554914474,
          0.9749695658683777,
          0.9472044065594672,
          0.9825446486473084,
          0.9929516196250915,
          1.0052361458539962,
          1.0216507732868194,
          1.0542453110218049,
          1.0816825598478317,
          1.1317367047071458,
          1.1728232979774476,
          1.209913820028305,
          1.1745161861181261,
          1.1671504497528078,
          1.107666003704071,
          1.1553519159555434,
          1.186496835947037,
          1.1083677738904956,
          0.9973713144659996,
          0.9912409976124764,
          0.8676501795649529,
          0.7514611750841141,
          0.6772974580526353,
          0.6353178367018699,
          0.5541417971253395,
          0.5309812381863594,
          0.5173746898770332,
          0.5372367337346077,
          0.4987167961895466,
          0.6493479117751122,
          0.8014798432588577,
          0.8321258783340454,
          0.5377913013100625,
          0.25601492077112203,
          0.1290747553110124,
          0.0988981530070305
         ],
         "yaxis": "y"
        },
        {
         "line": {
          "color": "green"
         },
         "showlegend": false,
         "type": "scatter",
         "x": [
          8,
          9,
          10,
          11,
          12,
          13,
          14,
          15,
          16,
          17,
          18,
          19,
          20,
          21,
          22,
          23,
          24,
          25,
          26,
          27,
          28,
          29,
          30,
          31,
          32,
          33,
          34,
          35,
          36,
          37,
          38,
          39,
          40,
          41,
          42,
          43,
          44,
          45,
          46,
          47,
          48,
          49,
          50,
          51
         ],
         "xaxis": "x2",
         "y": [
          0.9220529794692993,
          0.9000461101531982,
          1.1933413743972778,
          1.8154702186584473,
          2.349989891052246,
          2.111989736557007,
          1.6244112253189087,
          1.1906025409698486,
          1.2000857591629028,
          1.116055965423584,
          1.1076496839523315,
          1.1169296503067017,
          1.2247459888458252,
          1.2518222332000732,
          1.329201340675354,
          1.4635064601898193,
          1.598966360092163,
          1.552526831626892,
          1.6648902893066406,
          1.7330135107040405,
          1.658058762550354,
          1.5642869472503662,
          1.616855263710022,
          1.6020296812057495,
          1.6307281255722046,
          1.562485933303833,
          1.486220121383667,
          1.3934776782989502,
          1.328162431716919,
          1.2596790790557861,
          1.2133629322052002,
          1.173899531364441,
          1.1392329931259155,
          1.079213261604309,
          1.0934706926345825,
          1.1278313398361206,
          1.1464463472366333,
          1.1499377489089966,
          1.1572824716567993,
          1.1540708541870117,
          1.2246073484420776,
          1.2199541330337524,
          1.1832795143127441,
          1.13815176486969
         ],
         "yaxis": "y2"
        },
        {
         "fill": "toself",
         "fillcolor": "green",
         "line": {
          "color": "green"
         },
         "mode": "lines",
         "opacity": 0.15,
         "showlegend": false,
         "type": "scatter",
         "x": [
          8,
          9,
          10,
          11,
          12,
          13,
          14,
          15,
          16,
          17,
          18,
          19,
          20,
          21,
          22,
          23,
          24,
          25,
          26,
          27,
          28,
          29,
          30,
          31,
          32,
          33,
          34,
          35,
          36,
          37,
          38,
          39,
          40,
          41,
          42,
          43,
          44,
          45,
          46,
          47,
          48,
          49,
          50,
          51,
          51,
          50,
          49,
          48,
          47,
          46,
          45,
          44,
          43,
          42,
          41,
          40,
          39,
          38,
          37,
          36,
          35,
          34,
          33,
          32,
          31,
          30,
          29,
          28,
          27,
          26,
          25,
          24,
          23,
          22,
          21,
          20,
          19,
          18,
          17,
          16,
          15,
          14,
          13,
          12,
          11,
          10,
          9,
          8
         ],
         "xaxis": "x2",
         "y": [
          2.281297868490219,
          2.0199600994586944,
          2.2912317335605628,
          3.002162051200867,
          3.584408187866211,
          3.187505376338959,
          2.4306622445583344,
          1.74176664352417,
          1.6711367279291154,
          1.5065479844808582,
          1.4564686685800554,
          1.4356362074613571,
          1.5351069182157515,
          1.5414688616991044,
          1.6135149031877518,
          1.7535592585802078,
          1.8985730767250062,
          1.8398391485214234,
          1.9686542123556139,
          2.041738098859787,
          1.9558697074651719,
          1.8462225794792175,
          1.8969942867755891,
          1.8682150274515152,
          1.8937044143676758,
          1.810363057255745,
          1.7159415125846862,
          1.59862796664238,
          1.5109425842761992,
          1.4183648854494095,
          1.3528254240751265,
          1.296553385257721,
          1.2461919248104096,
          1.1703361302614212,
          1.1764049530029297,
          1.203489565849304,
          1.2166554987430573,
          1.2165287762880324,
          1.2230696767568587,
          1.2187452375888823,
          1.2878482818603516,
          1.2827557474374771,
          1.2489530354738236,
          1.2035696625709533,
          1.0845062732696533,
          1.127398845553398,
          1.1631073921918869,
          1.1682767748832703,
          1.102926963567734,
          1.1060212790966035,
          1.0991973578929901,
          1.0950554430484771,
          1.0720453202724458,
          1.0331087082624435,
          1.0137600749731064,
          1.063879358768463,
          1.088027673959732,
          1.114478224515915,
          1.1457557648420333,
          1.1961912959814072,
          1.2419062614440919,
          1.3136933982372283,
          1.375113832950592,
          1.4309120118618013,
          1.401681572198868,
          1.4048342674970629,
          1.3471730083227158,
          1.4245618402957916,
          1.4917238503694534,
          1.4270234137773516,
          1.3235216647386552,
          1.3628044784069062,
          1.2349935531616212,
          1.104394516348839,
          1.0237566858530045,
          0.9823696583509446,
          0.8693084955215454,
          0.8378355383872985,
          0.8183470860123634,
          0.8483188897371295,
          0.787657667696476,
          1.0367839246988297,
          1.3146387010812761,
          1.420137703418732,
          0.9546825781464578,
          0.465694247186184,
          0.23886475749313832,
          0.18507351204752928
         ],
         "yaxis": "y2"
        },
        {
         "line": {
          "color": "purple"
         },
         "showlegend": false,
         "type": "scatter",
         "x": [
          8,
          9,
          10,
          11,
          12,
          13,
          14,
          15,
          16,
          17,
          18,
          19,
          20,
          21,
          22,
          23,
          24,
          25,
          26,
          27,
          28,
          29,
          30,
          31,
          32,
          33,
          34,
          35,
          36,
          37,
          38,
          39,
          40,
          41,
          42,
          43,
          44,
          45,
          46,
          47,
          48,
          49,
          50,
          51
         ],
         "xaxis": "x2",
         "y": [
          0.49116894602775574,
          0.4853765070438385,
          0.6539114713668823,
          1.0173254013061523,
          1.3600181341171265,
          1.2701259851455688,
          1.0068267583847046,
          0.7498442530632019,
          0.7592764496803284,
          0.7054668068885803,
          0.7011781334877014,
          0.7106385231018066,
          0.7887546420097351,
          0.8222111463546753,
          0.8956475257873535,
          1.0154348611831665,
          1.1457699537277222,
          1.1504462957382202,
          1.2725906372070312,
          1.3593512773513794,
          1.328506350517273,
          1.2743608951568604,
          1.333082914352417,
          1.333833932876587,
          1.3703203201293945,
          1.3250030279159546,
          1.2728060483932495,
          1.2059762477874756,
          1.1631258726119995,
          1.1158696413040161,
          1.0876017808914185,
          1.0648046731948853,
          1.0458546876907349,
          1.002586007118225,
          1.026134729385376,
          1.0687710046768188,
          1.0969001054763794,
          1.1081877946853638,
          1.120921015739441,
          1.1228723526000977,
          1.1930015087127686,
          1.1931660175323486,
          1.1616137027740479,
          1.1226006746292114
         ],
         "yaxis": "y2"
        },
        {
         "fill": "toself",
         "fillcolor": "purple",
         "line": {
          "color": "purple"
         },
         "mode": "lines",
         "opacity": 0.15,
         "showlegend": false,
         "type": "scatter",
         "x": [
          8,
          9,
          10,
          11,
          12,
          13,
          14,
          15,
          16,
          17,
          18,
          19,
          20,
          21,
          22,
          23,
          24,
          25,
          26,
          27,
          28,
          29,
          30,
          31,
          32,
          33,
          34,
          35,
          36,
          37,
          38,
          39,
          40,
          41,
          42,
          43,
          44,
          45,
          46,
          47,
          48,
          49,
          50,
          51,
          51,
          50,
          49,
          48,
          47,
          46,
          45,
          44,
          43,
          42,
          41,
          40,
          39,
          38,
          37,
          36,
          35,
          34,
          33,
          32,
          31,
          30,
          29,
          28,
          27,
          26,
          25,
          24,
          23,
          22,
          21,
          20,
          19,
          18,
          17,
          16,
          15,
          14,
          13,
          12,
          11,
          10,
          9,
          8
         ],
         "xaxis": "x2",
         "y": [
          1.2126016259193428,
          1.0896129727363586,
          1.2530442923307419,
          1.6720911860466003,
          2.0543642103672033,
          1.8929369032382968,
          1.4897741347551348,
          1.09029196202755,
          1.0554819732904437,
          0.951596848666668,
          0.9208460614085199,
          0.9112531542778015,
          0.9846153289079667,
          1.0054034143686295,
          1.0768026262521744,
          1.2014699906110764,
          1.3390189558267593,
          1.3397863656282427,
          1.4779026210308077,
          1.5760479390621185,
          1.5440857708454134,
          1.4852156192064285,
          1.5486274272203446,
          1.5426572173833848,
          1.5801722228527069,
          1.524733591079712,
          1.4595694214105608,
          1.3744789451360702,
          1.3132919549942017,
          1.2474673599004746,
          1.2036256909370424,
          1.1671953558921815,
          1.1353844672441482,
          1.0790421485900878,
          1.0966050744056703,
          1.1328991681337355,
          1.1543444514274597,
          1.1623674660921097,
          1.1756502449512483,
          1.177831780910492,
          1.2504974931478499,
          1.2509046912193298,
          1.2226871550083163,
          1.1820359379053116,
          1.0709925830364229,
          1.1105680435895922,
          1.1419620484113693,
          1.1427440613508224,
          1.0749165922403334,
          1.0730619311332703,
          1.060818785429001,
          1.0502190589904785,
          1.0203380554914474,
          0.9749695658683777,
          0.9472044065594672,
          0.9825446486473084,
          0.9929516196250915,
          1.0052361458539962,
          1.0216507732868194,
          1.0542453110218049,
          1.0816825598478317,
          1.1317367047071458,
          1.1728232979774476,
          1.209913820028305,
          1.1745161861181261,
          1.1671504497528078,
          1.107666003704071,
          1.1553519159555434,
          1.186496835947037,
          1.1083677738904956,
          0.9973713144659996,
          0.9912409976124764,
          0.8676501795649529,
          0.7514611750841141,
          0.6772974580526353,
          0.6353178367018699,
          0.5541417971253395,
          0.5309812381863594,
          0.5173746898770332,
          0.5372367337346077,
          0.4987167961895466,
          0.6493479117751122,
          0.8014798432588577,
          0.8321258783340454,
          0.5377913013100625,
          0.25601492077112203,
          0.1290747553110124,
          0.0988981530070305
         ],
         "yaxis": "y2"
        },
        {
         "line": {
          "color": "green"
         },
         "showlegend": false,
         "type": "scatter",
         "x": [
          8,
          9,
          10,
          11,
          12,
          13,
          14,
          15,
          16,
          17,
          18,
          19,
          20,
          21,
          22,
          23,
          24,
          25,
          26,
          27,
          28,
          29,
          30,
          31,
          32,
          33,
          34,
          35,
          36,
          37,
          38,
          39,
          40,
          41,
          42,
          43,
          44,
          45,
          46,
          47,
          48,
          49,
          50,
          51
         ],
         "xaxis": "x3",
         "y": [
          0.33490508794784546,
          0.3326469957828522,
          0.4506239891052246,
          0.7066448330879211,
          0.956987202167511,
          0.9082979559898376,
          0.7297279238700867,
          0.5473148226737976,
          0.5552417039871216,
          0.5157384872436523,
          0.5130094289779663,
          0.5212104320526123,
          0.5815714597702026,
          0.6121103167533875,
          0.6754041314125061,
          0.7774988412857056,
          0.8928683996200562,
          0.9139954447746277,
          1.0300670862197876,
          1.1183147430419922,
          1.1082621812820435,
          1.075269103050232,
          1.1341865062713623,
          1.1428062915802002,
          1.1814427375793457,
          1.1504384279251099,
          1.1130328178405762,
          1.0631701946258545,
          1.0341747999191284,
          1.0014317035675049,
          0.985281765460968,
          0.974426805973053,
          0.9667251706123352,
          0.9364556670188904,
          0.9670343399047852,
          1.0149272680282593,
          1.050190806388855,
          1.0658447742462158,
          1.0843909978866577,
          1.0919591188430786,
          1.162376880645752,
          1.1671909093856812,
          1.141837477684021,
          1.107177495956421
         ],
         "yaxis": "y3"
        },
        {
         "fill": "toself",
         "fillcolor": "green",
         "line": {
          "color": "green"
         },
         "mode": "lines",
         "opacity": 0.15,
         "showlegend": false,
         "type": "scatter",
         "x": [
          8,
          9,
          10,
          11,
          12,
          13,
          14,
          15,
          16,
          17,
          18,
          19,
          20,
          21,
          22,
          23,
          24,
          25,
          26,
          27,
          28,
          29,
          30,
          31,
          32,
          33,
          34,
          35,
          36,
          37,
          38,
          39,
          40,
          41,
          42,
          43,
          44,
          45,
          46,
          47,
          48,
          49,
          50,
          51,
          51,
          50,
          49,
          48,
          47,
          46,
          45,
          44,
          43,
          42,
          41,
          40,
          39,
          38,
          37,
          36,
          35,
          34,
          33,
          32,
          31,
          30,
          29,
          28,
          27,
          26,
          25,
          24,
          23,
          22,
          21,
          20,
          19,
          18,
          17,
          16,
          15,
          14,
          13,
          12,
          11,
          10,
          9,
          8
         ],
         "xaxis": "x3",
         "y": [
          0.8268868714570999,
          0.746673431992531,
          0.8624982714653016,
          1.1606887698173525,
          1.4414415627717974,
          1.3453231096267702,
          1.0756785154342652,
          0.7947997644543648,
          0.770686073601246,
          0.6948847427964212,
          0.6732971087098122,
          0.6677763342857361,
          0.724456462264061,
          0.7465183794498444,
          0.8078090101480484,
          0.91405940502882,
          1.035810399055481,
          1.053852927684784,
          1.1831528395414352,
          1.282212859392166,
          1.2755525678396227,
          1.242857787013054,
          1.3087444692850114,
          1.3142928183078766,
          1.35536350607872,
          1.3171566903591156,
          1.2705994039773942,
          1.2057913571596146,
          1.1619228243827822,
          1.1135002434253691,
          1.0844938933849333,
          1.0617634087800978,
          1.0434073239564896,
          1.001809647679329,
          1.0278899729251862,
          1.0705621242523193,
          1.0990685671567917,
          1.1135053664445875,
          1.132408395409584,
          1.140125396847725,
          1.2155827313661574,
          1.2208683520555497,
          1.1977394878864287,
          1.1612882643938063,
          1.0578365296125414,
          1.094066008925438,
          1.1215335100889205,
          1.1184276312589647,
          1.0478677600622177,
          1.041667565703392,
          1.024699804186821,
          1.0081701219081878,
          0.9726734727621079,
          0.9224281623959542,
          0.8881616577506066,
          0.9123529121279716,
          0.9128396466374397,
          0.9151525422930717,
          0.9215481132268907,
          0.9419738635420799,
          0.9582419365644455,
          0.994021224975586,
          1.0222342461347582,
          1.0474387407302856,
          1.0104228079319,
          0.9981375932693481,
          0.9411832079291345,
          0.9716341242194175,
          0.9851145386695863,
          0.9058213710784913,
          0.7998877033591271,
          0.7781871199607849,
          0.667907465994358,
          0.5694342836737633,
          0.5058298617601394,
          0.4695065915584564,
          0.4066857360303402,
          0.3883706495165825,
          0.37839498519897463,
          0.3929599195718765,
          0.36447503939270975,
          0.4726623453199864,
          0.5761266708374024,
          0.5873795688152313,
          0.3748061873018742,
          0.176769632473588,
          0.08860441297292711,
          0.06726877037435772
         ],
         "yaxis": "y3"
        },
        {
         "line": {
          "color": "purple"
         },
         "showlegend": false,
         "type": "scatter",
         "x": [
          8,
          9,
          10,
          11,
          12,
          13,
          14,
          15,
          16,
          17,
          18,
          19,
          20,
          21,
          22,
          23,
          24,
          25,
          26,
          27,
          28,
          29,
          30,
          31,
          32,
          33,
          34,
          35,
          36,
          37,
          38,
          39,
          40,
          41,
          42,
          43,
          44,
          45,
          46,
          47,
          48,
          49,
          50,
          51
         ],
         "xaxis": "x3",
         "y": [
          0.49116894602775574,
          0.4853765070438385,
          0.6539114713668823,
          1.0173254013061523,
          1.3600181341171265,
          1.2701259851455688,
          1.0068267583847046,
          0.7498442530632019,
          0.7592764496803284,
          0.7054668068885803,
          0.7011781334877014,
          0.7106385231018066,
          0.7887546420097351,
          0.8222111463546753,
          0.8956475257873535,
          1.0154348611831665,
          1.1457699537277222,
          1.1504462957382202,
          1.2725906372070312,
          1.3593512773513794,
          1.328506350517273,
          1.2743608951568604,
          1.333082914352417,
          1.333833932876587,
          1.3703203201293945,
          1.3250030279159546,
          1.2728060483932495,
          1.2059762477874756,
          1.1631258726119995,
          1.1158696413040161,
          1.0876017808914185,
          1.0648046731948853,
          1.0458546876907349,
          1.002586007118225,
          1.026134729385376,
          1.0687710046768188,
          1.0969001054763794,
          1.1081877946853638,
          1.120921015739441,
          1.1228723526000977,
          1.1930015087127686,
          1.1931660175323486,
          1.1616137027740479,
          1.1226006746292114
         ],
         "yaxis": "y3"
        },
        {
         "fill": "toself",
         "fillcolor": "purple",
         "line": {
          "color": "purple"
         },
         "mode": "lines",
         "opacity": 0.15,
         "showlegend": false,
         "type": "scatter",
         "x": [
          8,
          9,
          10,
          11,
          12,
          13,
          14,
          15,
          16,
          17,
          18,
          19,
          20,
          21,
          22,
          23,
          24,
          25,
          26,
          27,
          28,
          29,
          30,
          31,
          32,
          33,
          34,
          35,
          36,
          37,
          38,
          39,
          40,
          41,
          42,
          43,
          44,
          45,
          46,
          47,
          48,
          49,
          50,
          51,
          51,
          50,
          49,
          48,
          47,
          46,
          45,
          44,
          43,
          42,
          41,
          40,
          39,
          38,
          37,
          36,
          35,
          34,
          33,
          32,
          31,
          30,
          29,
          28,
          27,
          26,
          25,
          24,
          23,
          22,
          21,
          20,
          19,
          18,
          17,
          16,
          15,
          14,
          13,
          12,
          11,
          10,
          9,
          8
         ],
         "xaxis": "x3",
         "y": [
          1.2126016259193428,
          1.0896129727363586,
          1.2530442923307419,
          1.6720911860466003,
          2.0543642103672033,
          1.8929369032382968,
          1.4897741347551348,
          1.09029196202755,
          1.0554819732904437,
          0.951596848666668,
          0.9208460614085199,
          0.9112531542778015,
          0.9846153289079667,
          1.0054034143686295,
          1.0768026262521744,
          1.2014699906110764,
          1.3390189558267593,
          1.3397863656282427,
          1.4779026210308077,
          1.5760479390621185,
          1.5440857708454134,
          1.4852156192064285,
          1.5486274272203446,
          1.5426572173833848,
          1.5801722228527069,
          1.524733591079712,
          1.4595694214105608,
          1.3744789451360702,
          1.3132919549942017,
          1.2474673599004746,
          1.2036256909370424,
          1.1671953558921815,
          1.1353844672441482,
          1.0790421485900878,
          1.0966050744056703,
          1.1328991681337355,
          1.1543444514274597,
          1.1623674660921097,
          1.1756502449512483,
          1.177831780910492,
          1.2504974931478499,
          1.2509046912193298,
          1.2226871550083163,
          1.1820359379053116,
          1.0709925830364229,
          1.1105680435895922,
          1.1419620484113693,
          1.1427440613508224,
          1.0749165922403334,
          1.0730619311332703,
          1.060818785429001,
          1.0502190589904785,
          1.0203380554914474,
          0.9749695658683777,
          0.9472044065594672,
          0.9825446486473084,
          0.9929516196250915,
          1.0052361458539962,
          1.0216507732868194,
          1.0542453110218049,
          1.0816825598478317,
          1.1317367047071458,
          1.1728232979774476,
          1.209913820028305,
          1.1745161861181261,
          1.1671504497528078,
          1.107666003704071,
          1.1553519159555434,
          1.186496835947037,
          1.1083677738904956,
          0.9973713144659996,
          0.9912409976124764,
          0.8676501795649529,
          0.7514611750841141,
          0.6772974580526353,
          0.6353178367018699,
          0.5541417971253395,
          0.5309812381863594,
          0.5173746898770332,
          0.5372367337346077,
          0.4987167961895466,
          0.6493479117751122,
          0.8014798432588577,
          0.8321258783340454,
          0.5377913013100625,
          0.25601492077112203,
          0.1290747553110124,
          0.0988981530070305
         ],
         "yaxis": "y3"
        },
        {
         "line": {
          "color": "green"
         },
         "showlegend": false,
         "type": "scatter",
         "x": [
          8,
          9,
          10,
          11,
          12,
          13,
          14,
          15,
          16,
          17,
          18,
          19,
          20,
          21,
          22,
          23,
          24,
          25,
          26,
          27,
          28,
          29,
          30,
          31,
          32,
          33,
          34,
          35,
          36,
          37,
          38,
          39,
          40,
          41,
          42,
          43,
          44,
          45,
          46,
          47,
          48,
          49,
          50,
          51
         ],
         "xaxis": "x4",
         "y": [
          0.28112301230430603,
          0.27954643964767456,
          0.3795565068721771,
          0.5968407988548279,
          0.8125727772712708,
          0.7752978205680847,
          0.6261346340179443,
          0.4708405137062073,
          0.4781574606895447,
          0.4441222846508026,
          0.4417797923088074,
          0.4492884576320648,
          0.5024222135543823,
          0.5307023525238037,
          0.5886227488517761,
          0.6817344427108765,
          0.7884374260902405,
          0.8135831952095032,
          0.924401044845581,
          1.0108247995376587,
          1.0079838037490845,
          0.9829902648925781,
          1.040987253189087,
          1.0521420240402222,
          1.091316819190979,
          1.0657941102981567,
          1.0349935293197632,
          0.9926949143409729,
          0.9698335528373718,
          0.9435052871704102,
          0.9327033758163452,
          0.9270632266998291,
          0.9250237941741943,
          0.8997553586959839,
          0.9358372092247009,
          0.9872732162475586,
          1.021787405014038,
          1.0438135862350464,
          1.0637986660003662,
          1.0730724334716797,
          1.1455533504486084,
          1.1525256633758545,
          1.131095051765442,
          1.0976730585098267
         ],
         "yaxis": "y4"
        },
        {
         "fill": "toself",
         "fillcolor": "green",
         "line": {
          "color": "green"
         },
         "mode": "lines",
         "opacity": 0.15,
         "showlegend": false,
         "type": "scatter",
         "x": [
          8,
          9,
          10,
          11,
          12,
          13,
          14,
          15,
          16,
          17,
          18,
          19,
          20,
          21,
          22,
          23,
          24,
          25,
          26,
          27,
          28,
          29,
          30,
          31,
          32,
          33,
          34,
          35,
          36,
          37,
          38,
          39,
          40,
          41,
          42,
          43,
          44,
          45,
          46,
          47,
          48,
          49,
          50,
          51,
          51,
          50,
          49,
          48,
          47,
          46,
          45,
          44,
          43,
          42,
          41,
          40,
          39,
          38,
          37,
          36,
          35,
          34,
          33,
          32,
          31,
          30,
          29,
          28,
          27,
          26,
          25,
          24,
          23,
          22,
          21,
          20,
          19,
          18,
          17,
          16,
          15,
          14,
          13,
          12,
          11,
          10,
          9,
          8
         ],
         "xaxis": "x4",
         "y": [
          0.6948527008295061,
          0.6275734767317775,
          0.7260284945368767,
          0.9794336751103403,
          1.2221415549516677,
          1.1473933637142182,
          0.9211516037583352,
          0.6821081876754761,
          0.663263699412346,
          0.5985440120100975,
          0.5795733943581581,
          0.5755354925990105,
          0.6252051010727883,
          0.646171422302723,
          0.7029489427804947,
          0.7998201176524163,
          0.911972287297249,
          0.9350574597716331,
          1.0570539385080338,
          1.1541007936000824,
          1.1552657157182695,
          1.131998661160469,
          1.1975352615118027,
          1.2062811881303788,
          1.2492238312959671,
          1.2177714288234711,
          1.1783919513225556,
          1.122756412625313,
          1.08640718460083,
          1.0462359577417375,
          1.0238316535949707,
          1.0072796285152437,
          0.995378851890564,
          0.9608853027224541,
          0.9906445145606995,
          1.0367621213197709,
          1.0686596125364305,
          1.0865340292453765,
          1.108417418599129,
          1.1187655985355378,
          1.1957991242408752,
          1.2039273053407669,
          1.183408400416374,
          1.149491786956787,
          1.0500618129968642,
          1.084370356798172,
          1.1094446033239365,
          1.1041378945112228,
          1.0322750687599183,
          1.0234496384859084,
          1.003832933306694,
          0.9842539891600609,
          0.9458100780844688,
          0.8930480360984802,
          0.8559032008051872,
          0.8745228379964829,
          0.870407871901989,
          0.868343587219715,
          0.870446254312992,
          0.8854700237512588,
          0.8964986801147461,
          0.926326134800911,
          0.9492657169699669,
          0.9693761333823203,
          0.9325304016470909,
          0.9184665456414223,
          0.862780737876892,
          0.8867917641997338,
          0.8938265636563302,
          0.8162031143903732,
          0.7144073784351348,
          0.6892439663410187,
          0.5868876516819,
          0.4970000922679901,
          0.4390580281615257,
          0.4057365939021111,
          0.3507102124392986,
          0.3346175089478493,
          0.3258528053760529,
          0.3386506982147694,
          0.3137615829706192,
          0.406544902920723,
          0.492773998528719,
          0.4997483745217324,
          0.31617572382092485,
          0.14904215969145299,
          0.07445965614169836,
          0.056255984865129026
         ],
         "yaxis": "y4"
        },
        {
         "line": {
          "color": "purple"
         },
         "showlegend": false,
         "type": "scatter",
         "x": [
          8,
          9,
          10,
          11,
          12,
          13,
          14,
          15,
          16,
          17,
          18,
          19,
          20,
          21,
          22,
          23,
          24,
          25,
          26,
          27,
          28,
          29,
          30,
          31,
          32,
          33,
          34,
          35,
          36,
          37,
          38,
          39,
          40,
          41,
          42,
          43,
          44,
          45,
          46,
          47,
          48,
          49,
          50,
          51
         ],
         "xaxis": "x4",
         "y": [
          0.49116894602775574,
          0.4853765070438385,
          0.6539114713668823,
          1.0173254013061523,
          1.3600181341171265,
          1.2701259851455688,
          1.0068267583847046,
          0.7498442530632019,
          0.7592764496803284,
          0.7054668068885803,
          0.7011781334877014,
          0.7106385231018066,
          0.7887546420097351,
          0.8222111463546753,
          0.8956475257873535,
          1.0154348611831665,
          1.1457699537277222,
          1.1504462957382202,
          1.2725906372070312,
          1.3593512773513794,
          1.328506350517273,
          1.2743608951568604,
          1.333082914352417,
          1.333833932876587,
          1.3703203201293945,
          1.3250030279159546,
          1.2728060483932495,
          1.2059762477874756,
          1.1631258726119995,
          1.1158696413040161,
          1.0876017808914185,
          1.0648046731948853,
          1.0458546876907349,
          1.002586007118225,
          1.026134729385376,
          1.0687710046768188,
          1.0969001054763794,
          1.1081877946853638,
          1.120921015739441,
          1.1228723526000977,
          1.1930015087127686,
          1.1931660175323486,
          1.1616137027740479,
          1.1226006746292114
         ],
         "yaxis": "y4"
        },
        {
         "fill": "toself",
         "fillcolor": "purple",
         "line": {
          "color": "purple"
         },
         "mode": "lines",
         "opacity": 0.15,
         "showlegend": false,
         "type": "scatter",
         "x": [
          8,
          9,
          10,
          11,
          12,
          13,
          14,
          15,
          16,
          17,
          18,
          19,
          20,
          21,
          22,
          23,
          24,
          25,
          26,
          27,
          28,
          29,
          30,
          31,
          32,
          33,
          34,
          35,
          36,
          37,
          38,
          39,
          40,
          41,
          42,
          43,
          44,
          45,
          46,
          47,
          48,
          49,
          50,
          51,
          51,
          50,
          49,
          48,
          47,
          46,
          45,
          44,
          43,
          42,
          41,
          40,
          39,
          38,
          37,
          36,
          35,
          34,
          33,
          32,
          31,
          30,
          29,
          28,
          27,
          26,
          25,
          24,
          23,
          22,
          21,
          20,
          19,
          18,
          17,
          16,
          15,
          14,
          13,
          12,
          11,
          10,
          9,
          8
         ],
         "xaxis": "x4",
         "y": [
          1.2126016259193428,
          1.0896129727363586,
          1.2530442923307419,
          1.6720911860466003,
          2.0543642103672033,
          1.8929369032382968,
          1.4897741347551348,
          1.09029196202755,
          1.0554819732904437,
          0.951596848666668,
          0.9208460614085199,
          0.9112531542778015,
          0.9846153289079667,
          1.0054034143686295,
          1.0768026262521744,
          1.2014699906110764,
          1.3390189558267593,
          1.3397863656282427,
          1.4779026210308077,
          1.5760479390621185,
          1.5440857708454134,
          1.4852156192064285,
          1.5486274272203446,
          1.5426572173833848,
          1.5801722228527069,
          1.524733591079712,
          1.4595694214105608,
          1.3744789451360702,
          1.3132919549942017,
          1.2474673599004746,
          1.2036256909370424,
          1.1671953558921815,
          1.1353844672441482,
          1.0790421485900878,
          1.0966050744056703,
          1.1328991681337355,
          1.1543444514274597,
          1.1623674660921097,
          1.1756502449512483,
          1.177831780910492,
          1.2504974931478499,
          1.2509046912193298,
          1.2226871550083163,
          1.1820359379053116,
          1.0709925830364229,
          1.1105680435895922,
          1.1419620484113693,
          1.1427440613508224,
          1.0749165922403334,
          1.0730619311332703,
          1.060818785429001,
          1.0502190589904785,
          1.0203380554914474,
          0.9749695658683777,
          0.9472044065594672,
          0.9825446486473084,
          0.9929516196250915,
          1.0052361458539962,
          1.0216507732868194,
          1.0542453110218049,
          1.0816825598478317,
          1.1317367047071458,
          1.1728232979774476,
          1.209913820028305,
          1.1745161861181261,
          1.1671504497528078,
          1.107666003704071,
          1.1553519159555434,
          1.186496835947037,
          1.1083677738904956,
          0.9973713144659996,
          0.9912409976124764,
          0.8676501795649529,
          0.7514611750841141,
          0.6772974580526353,
          0.6353178367018699,
          0.5541417971253395,
          0.5309812381863594,
          0.5173746898770332,
          0.5372367337346077,
          0.4987167961895466,
          0.6493479117751122,
          0.8014798432588577,
          0.8321258783340454,
          0.5377913013100625,
          0.25601492077112203,
          0.1290747553110124,
          0.0988981530070305
         ],
         "yaxis": "y4"
        },
        {
         "line": {
          "color": "green"
         },
         "showlegend": false,
         "type": "scatter",
         "x": [
          8,
          9,
          10,
          11,
          12,
          13,
          14,
          15,
          16,
          17,
          18,
          19,
          20,
          21,
          22,
          23,
          24,
          25,
          26,
          27,
          28,
          29,
          30,
          31,
          32,
          33,
          34,
          35,
          36,
          37,
          38,
          39,
          40,
          41,
          42,
          43,
          44,
          45,
          46,
          47,
          48,
          49,
          50,
          51
         ],
         "xaxis": "x5",
         "y": [
          0.25400298833847046,
          0.2528479993343353,
          0.3436053693294525,
          0.5410943627357483,
          0.7382220029830933,
          0.7067112922668457,
          0.5720293521881104,
          0.4307776689529419,
          0.4376232624053955,
          0.4062992334365845,
          0.4044266939163208,
          0.4114738404750824,
          0.4606247842311859,
          0.48756393790245056,
          0.5421232581138611,
          0.6299309730529785,
          0.7314765453338623,
          0.7581217288970947,
          0.8652143478393555,
          0.9499154090881348,
          0.9506993293762207,
          0.9298948645591736,
          0.986912727355957,
          0.9994871616363525,
          1.0384315252304077,
          1.0161911249160767,
          0.9888250827789307,
          0.9507138133049011,
          0.9312331676483154,
          0.9084027409553528,
          0.9007657170295715,
          0.8979934453964233,
          0.8985771536827087,
          0.8782925605773926,
          0.9151992797851562,
          0.9669991731643677,
          1.0056260824203491,
          1.0271904468536377,
          1.051728367805481,
          1.0619760751724243,
          1.135459065437317,
          1.1433292627334595,
          1.1242157220840454,
          1.0912823677062988
         ],
         "yaxis": "y5"
        },
        {
         "fill": "toself",
         "fillcolor": "green",
         "line": {
          "color": "green"
         },
         "mode": "lines",
         "opacity": 0.15,
         "showlegend": false,
         "type": "scatter",
         "x": [
          8,
          9,
          10,
          11,
          12,
          13,
          14,
          15,
          16,
          17,
          18,
          19,
          20,
          21,
          22,
          23,
          24,
          25,
          26,
          27,
          28,
          29,
          30,
          31,
          32,
          33,
          34,
          35,
          36,
          37,
          38,
          39,
          40,
          41,
          42,
          43,
          44,
          45,
          46,
          47,
          48,
          49,
          50,
          51,
          51,
          50,
          49,
          48,
          47,
          46,
          45,
          44,
          43,
          42,
          41,
          40,
          39,
          38,
          37,
          36,
          35,
          34,
          33,
          32,
          31,
          30,
          29,
          28,
          27,
          26,
          25,
          24,
          23,
          22,
          21,
          20,
          19,
          18,
          17,
          16,
          15,
          14,
          13,
          12,
          11,
          10,
          9,
          8
         ],
         "xaxis": "x5",
         "y": [
          0.6279648065567017,
          0.5667284339666366,
          0.6586352303624153,
          0.8887121558189393,
          1.110774287581444,
          1.0439258903264999,
          0.8411684706807138,
          0.6237235754728317,
          0.6069883272051813,
          0.5476148784160615,
          0.5308012634515764,
          0.5268423736095429,
          0.5731588453054429,
          0.5932307958602906,
          0.646986883878708,
          0.7383571922779083,
          0.8442685082554817,
          0.8691269993782044,
          0.9870255842804909,
          1.08193279504776,
          1.0872859328985216,
          1.0683745563030245,
          1.1330809354782105,
          1.1443430453538894,
          1.1867984533309937,
          1.159378919005394,
          1.124413138628006,
          1.0736319065093995,
          1.0419258475303652,
          1.0056364595890046,
          0.9868511185050011,
          0.9741878554224968,
          0.9658909648656845,
          0.9352814674377441,
          0.9674482971429824,
          1.0158003598451615,
          1.0493474066257478,
          1.0695455193519594,
          1.093043103814125,
          1.1054210811853409,
          1.1830677002668382,
          1.192662000656128,
          1.1740982592105866,
          1.141655445098877,
          1.0448224425315855,
          1.0779774188995361,
          1.1015033572912216,
          1.0947780579328537,
          1.022035476565361,
          1.0115698546171188,
          0.9902594685554504,
          0.9687845379114151,
          0.928565774857998,
          0.8744314894080162,
          0.8353869110345841,
          0.8510258093476295,
          0.8442011967301369,
          0.8396668389439583,
          0.8391958907246589,
          0.8513306900858879,
          0.8598188385367393,
          0.8862724602222443,
          0.906091745197773,
          0.923670081794262,
          0.8868634685873985,
          0.8720529541373253,
          0.8175722867250443,
          0.8384018540382385,
          0.841734628379345,
          0.7655992329120637,
          0.667091877758503,
          0.6401984006166459,
          0.5428259328007699,
          0.4581904999911785,
          0.40354124903678895,
          0.37239509746432303,
          0.3213598378002644,
          0.3064064338803291,
          0.29817568212747575,
          0.3097434304654598,
          0.28725351840257646,
          0.37185766771435735,
          0.44980861917138104,
          0.45409809499979026,
          0.2872147947549821,
          0.13495054952800276,
          0.06740359887480739,
          0.051051102858036795
         ],
         "yaxis": "y5"
        },
        {
         "line": {
          "color": "purple"
         },
         "showlegend": false,
         "type": "scatter",
         "x": [
          8,
          9,
          10,
          11,
          12,
          13,
          14,
          15,
          16,
          17,
          18,
          19,
          20,
          21,
          22,
          23,
          24,
          25,
          26,
          27,
          28,
          29,
          30,
          31,
          32,
          33,
          34,
          35,
          36,
          37,
          38,
          39,
          40,
          41,
          42,
          43,
          44,
          45,
          46,
          47,
          48,
          49,
          50,
          51
         ],
         "xaxis": "x5",
         "y": [
          0.49116894602775574,
          0.4853765070438385,
          0.6539114713668823,
          1.0173254013061523,
          1.3600181341171265,
          1.2701259851455688,
          1.0068267583847046,
          0.7498442530632019,
          0.7592764496803284,
          0.7054668068885803,
          0.7011781334877014,
          0.7106385231018066,
          0.7887546420097351,
          0.8222111463546753,
          0.8956475257873535,
          1.0154348611831665,
          1.1457699537277222,
          1.1504462957382202,
          1.2725906372070312,
          1.3593512773513794,
          1.328506350517273,
          1.2743608951568604,
          1.333082914352417,
          1.333833932876587,
          1.3703203201293945,
          1.3250030279159546,
          1.2728060483932495,
          1.2059762477874756,
          1.1631258726119995,
          1.1158696413040161,
          1.0876017808914185,
          1.0648046731948853,
          1.0458546876907349,
          1.002586007118225,
          1.026134729385376,
          1.0687710046768188,
          1.0969001054763794,
          1.1081877946853638,
          1.120921015739441,
          1.1228723526000977,
          1.1930015087127686,
          1.1931660175323486,
          1.1616137027740479,
          1.1226006746292114
         ],
         "yaxis": "y5"
        },
        {
         "fill": "toself",
         "fillcolor": "purple",
         "line": {
          "color": "purple"
         },
         "mode": "lines",
         "opacity": 0.15,
         "showlegend": false,
         "type": "scatter",
         "x": [
          8,
          9,
          10,
          11,
          12,
          13,
          14,
          15,
          16,
          17,
          18,
          19,
          20,
          21,
          22,
          23,
          24,
          25,
          26,
          27,
          28,
          29,
          30,
          31,
          32,
          33,
          34,
          35,
          36,
          37,
          38,
          39,
          40,
          41,
          42,
          43,
          44,
          45,
          46,
          47,
          48,
          49,
          50,
          51,
          51,
          50,
          49,
          48,
          47,
          46,
          45,
          44,
          43,
          42,
          41,
          40,
          39,
          38,
          37,
          36,
          35,
          34,
          33,
          32,
          31,
          30,
          29,
          28,
          27,
          26,
          25,
          24,
          23,
          22,
          21,
          20,
          19,
          18,
          17,
          16,
          15,
          14,
          13,
          12,
          11,
          10,
          9,
          8
         ],
         "xaxis": "x5",
         "y": [
          1.2126016259193428,
          1.0896129727363586,
          1.2530442923307419,
          1.6720911860466003,
          2.0543642103672033,
          1.8929369032382968,
          1.4897741347551348,
          1.09029196202755,
          1.0554819732904437,
          0.951596848666668,
          0.9208460614085199,
          0.9112531542778015,
          0.9846153289079667,
          1.0054034143686295,
          1.0768026262521744,
          1.2014699906110764,
          1.3390189558267593,
          1.3397863656282427,
          1.4779026210308077,
          1.5760479390621185,
          1.5440857708454134,
          1.4852156192064285,
          1.5486274272203446,
          1.5426572173833848,
          1.5801722228527069,
          1.524733591079712,
          1.4595694214105608,
          1.3744789451360702,
          1.3132919549942017,
          1.2474673599004746,
          1.2036256909370424,
          1.1671953558921815,
          1.1353844672441482,
          1.0790421485900878,
          1.0966050744056703,
          1.1328991681337355,
          1.1543444514274597,
          1.1623674660921097,
          1.1756502449512483,
          1.177831780910492,
          1.2504974931478499,
          1.2509046912193298,
          1.2226871550083163,
          1.1820359379053116,
          1.0709925830364229,
          1.1105680435895922,
          1.1419620484113693,
          1.1427440613508224,
          1.0749165922403334,
          1.0730619311332703,
          1.060818785429001,
          1.0502190589904785,
          1.0203380554914474,
          0.9749695658683777,
          0.9472044065594672,
          0.9825446486473084,
          0.9929516196250915,
          1.0052361458539962,
          1.0216507732868194,
          1.0542453110218049,
          1.0816825598478317,
          1.1317367047071458,
          1.1728232979774476,
          1.209913820028305,
          1.1745161861181261,
          1.1671504497528078,
          1.107666003704071,
          1.1553519159555434,
          1.186496835947037,
          1.1083677738904956,
          0.9973713144659996,
          0.9912409976124764,
          0.8676501795649529,
          0.7514611750841141,
          0.6772974580526353,
          0.6353178367018699,
          0.5541417971253395,
          0.5309812381863594,
          0.5173746898770332,
          0.5372367337346077,
          0.4987167961895466,
          0.6493479117751122,
          0.8014798432588577,
          0.8321258783340454,
          0.5377913013100625,
          0.25601492077112203,
          0.1290747553110124,
          0.0988981530070305
         ],
         "yaxis": "y5"
        },
        {
         "line": {
          "color": "green"
         },
         "showlegend": false,
         "type": "scatter",
         "x": [
          8,
          9,
          10,
          11,
          12,
          13,
          14,
          15,
          16,
          17,
          18,
          19,
          20,
          21,
          22,
          23,
          24,
          25,
          26,
          27,
          28,
          29,
          30,
          31,
          32,
          33,
          34,
          35,
          36,
          37,
          38,
          39,
          40,
          41,
          42,
          43,
          44,
          45,
          46,
          47,
          48,
          49,
          50,
          51
         ],
         "xaxis": "x6",
         "y": [
          0.20460167527198792,
          0.2038762867450714,
          0.277675598859787,
          0.43855521082878113,
          0.6008695363998413,
          0.5784452557563782,
          0.4705476462841034,
          0.3552102744579315,
          0.36122527718544006,
          0.335407555103302,
          0.33375003933906555,
          0.3398885726928711,
          0.38141611218452454,
          0.4051055908203125,
          0.4528191387653351,
          0.5295307040214539,
          0.6195617318153381,
          0.6477128863334656,
          0.7458638548851013,
          0.8256428241729736,
          0.8323552012443542,
          0.8192411661148071,
          0.87361079454422,
          0.8881650567054749,
          0.9263492226600647,
          0.9100726842880249,
          0.8896534442901611,
          0.8595274090766907,
          0.8467928767204285,
          0.8313082456588745,
          0.8295800089836121,
          0.8325981497764587,
          0.8393258452415466,
          0.8259543180465698,
          0.8689725995063782,
          0.9253900647163391,
          0.9657504558563232,
          0.9937779903411865,
          1.0174100399017334,
          1.0342940092086792,
          1.1128650903701782,
          1.1233408451080322,
          1.1069999933242798,
          1.0753892660140991
         ],
         "yaxis": "y6"
        },
        {
         "fill": "toself",
         "fillcolor": "green",
         "line": {
          "color": "green"
         },
         "mode": "lines",
         "opacity": 0.15,
         "showlegend": false,
         "type": "scatter",
         "x": [
          8,
          9,
          10,
          11,
          12,
          13,
          14,
          15,
          16,
          17,
          18,
          19,
          20,
          21,
          22,
          23,
          24,
          25,
          26,
          27,
          28,
          29,
          30,
          31,
          32,
          33,
          34,
          35,
          36,
          37,
          38,
          39,
          40,
          41,
          42,
          43,
          44,
          45,
          46,
          47,
          48,
          49,
          50,
          51,
          51,
          50,
          49,
          48,
          47,
          46,
          45,
          44,
          43,
          42,
          41,
          40,
          39,
          38,
          37,
          36,
          35,
          34,
          33,
          32,
          31,
          30,
          29,
          28,
          27,
          26,
          25,
          24,
          23,
          22,
          21,
          20,
          19,
          18,
          17,
          16,
          15,
          14,
          13,
          12,
          11,
          10,
          9,
          8
         ],
         "xaxis": "x6",
         "y": [
          0.5066473037004471,
          0.45764176174998283,
          0.5319684013724327,
          0.7194437712430954,
          0.9015098854899407,
          0.8536752074956896,
          0.6905120491981507,
          0.5138466477394105,
          0.5007315456867218,
          0.4519045926630498,
          0.43807873278856285,
          0.43482055142521864,
          0.47423222661018377,
          0.49248723238706593,
          0.5394557148218155,
          0.6192401409149171,
          0.7132475495338441,
          0.7397365272045135,
          0.8468930140137673,
          0.9356917768716813,
          0.9471984744071961,
          0.9371427550911904,
          0.9991483807563781,
          1.0136027693748475,
          1.055421832203865,
          1.0355385720729828,
          1.0083285689353942,
          0.967760206758976,
          0.9443402409553528,
          0.9169491857290268,
          0.9055616393685342,
          0.9002034157514572,
          0.8994007721543312,
          0.877550247311592,
          0.9146876484155655,
          0.9668864250183106,
          1.005264163017273,
          1.0296852588653564,
          1.0570682346820832,
          1.0731710255146027,
          1.1528273850679398,
          1.1664214223623275,
          1.1515700966119766,
          1.1227723389863968,
          1.0320970952510835,
          1.0621415287256242,
          1.082137343287468,
          1.0718743741512298,
          0.996952711045742,
          0.9829613536596299,
          0.9575830683112144,
          0.931623212993145,
          0.8875723481178284,
          0.8307003274559974,
          0.7881375521421432,
          0.7968996703624726,
          0.7848214507102966,
          0.7756004735827446,
          0.7702056124806405,
          0.7764198035001755,
          0.7797331109642982,
          0.7994202733039856,
          0.8134973600506782,
          0.8258627608418465,
          0.7898916989564896,
          0.7740234106779099,
          0.7228885278105737,
          0.7371189281344415,
          0.7348211303353309,
          0.6626382783055306,
          0.5720260128378868,
          0.5438882678747177,
          0.4573293268680572,
          0.3833035133779049,
          0.33560415357351303,
          0.30850302800536156,
          0.26565947532653805,
          0.2528946325182915,
          0.24603523798286916,
          0.25602828711271286,
          0.2371623333543539,
          0.3060840107500553,
          0.3690004102885724,
          0.3699292078614236,
          0.23254153281450277,
          0.10894349310547115,
          0.054295020550489445,
          0.04113551992923023
         ],
         "yaxis": "y6"
        },
        {
         "line": {
          "color": "purple"
         },
         "showlegend": false,
         "type": "scatter",
         "x": [
          8,
          9,
          10,
          11,
          12,
          13,
          14,
          15,
          16,
          17,
          18,
          19,
          20,
          21,
          22,
          23,
          24,
          25,
          26,
          27,
          28,
          29,
          30,
          31,
          32,
          33,
          34,
          35,
          36,
          37,
          38,
          39,
          40,
          41,
          42,
          43,
          44,
          45,
          46,
          47,
          48,
          49,
          50,
          51
         ],
         "xaxis": "x6",
         "y": [
          0.49116894602775574,
          0.4853765070438385,
          0.6539114713668823,
          1.0173254013061523,
          1.3600181341171265,
          1.2701259851455688,
          1.0068267583847046,
          0.7498442530632019,
          0.7592764496803284,
          0.7054668068885803,
          0.7011781334877014,
          0.7106385231018066,
          0.7887546420097351,
          0.8222111463546753,
          0.8956475257873535,
          1.0154348611831665,
          1.1457699537277222,
          1.1504462957382202,
          1.2725906372070312,
          1.3593512773513794,
          1.328506350517273,
          1.2743608951568604,
          1.333082914352417,
          1.333833932876587,
          1.3703203201293945,
          1.3250030279159546,
          1.2728060483932495,
          1.2059762477874756,
          1.1631258726119995,
          1.1158696413040161,
          1.0876017808914185,
          1.0648046731948853,
          1.0458546876907349,
          1.002586007118225,
          1.026134729385376,
          1.0687710046768188,
          1.0969001054763794,
          1.1081877946853638,
          1.120921015739441,
          1.1228723526000977,
          1.1930015087127686,
          1.1931660175323486,
          1.1616137027740479,
          1.1226006746292114
         ],
         "yaxis": "y6"
        },
        {
         "fill": "toself",
         "fillcolor": "purple",
         "line": {
          "color": "purple"
         },
         "mode": "lines",
         "opacity": 0.15,
         "showlegend": false,
         "type": "scatter",
         "x": [
          8,
          9,
          10,
          11,
          12,
          13,
          14,
          15,
          16,
          17,
          18,
          19,
          20,
          21,
          22,
          23,
          24,
          25,
          26,
          27,
          28,
          29,
          30,
          31,
          32,
          33,
          34,
          35,
          36,
          37,
          38,
          39,
          40,
          41,
          42,
          43,
          44,
          45,
          46,
          47,
          48,
          49,
          50,
          51,
          51,
          50,
          49,
          48,
          47,
          46,
          45,
          44,
          43,
          42,
          41,
          40,
          39,
          38,
          37,
          36,
          35,
          34,
          33,
          32,
          31,
          30,
          29,
          28,
          27,
          26,
          25,
          24,
          23,
          22,
          21,
          20,
          19,
          18,
          17,
          16,
          15,
          14,
          13,
          12,
          11,
          10,
          9,
          8
         ],
         "xaxis": "x6",
         "y": [
          1.2126016259193428,
          1.0896129727363586,
          1.2530442923307419,
          1.6720911860466003,
          2.0543642103672033,
          1.8929369032382968,
          1.4897741347551348,
          1.09029196202755,
          1.0554819732904437,
          0.951596848666668,
          0.9208460614085199,
          0.9112531542778015,
          0.9846153289079667,
          1.0054034143686295,
          1.0768026262521744,
          1.2014699906110764,
          1.3390189558267593,
          1.3397863656282427,
          1.4779026210308077,
          1.5760479390621185,
          1.5440857708454134,
          1.4852156192064285,
          1.5486274272203446,
          1.5426572173833848,
          1.5801722228527069,
          1.524733591079712,
          1.4595694214105608,
          1.3744789451360702,
          1.3132919549942017,
          1.2474673599004746,
          1.2036256909370424,
          1.1671953558921815,
          1.1353844672441482,
          1.0790421485900878,
          1.0966050744056703,
          1.1328991681337355,
          1.1543444514274597,
          1.1623674660921097,
          1.1756502449512483,
          1.177831780910492,
          1.2504974931478499,
          1.2509046912193298,
          1.2226871550083163,
          1.1820359379053116,
          1.0709925830364229,
          1.1105680435895922,
          1.1419620484113693,
          1.1427440613508224,
          1.0749165922403334,
          1.0730619311332703,
          1.060818785429001,
          1.0502190589904785,
          1.0203380554914474,
          0.9749695658683777,
          0.9472044065594672,
          0.9825446486473084,
          0.9929516196250915,
          1.0052361458539962,
          1.0216507732868194,
          1.0542453110218049,
          1.0816825598478317,
          1.1317367047071458,
          1.1728232979774476,
          1.209913820028305,
          1.1745161861181261,
          1.1671504497528078,
          1.107666003704071,
          1.1553519159555434,
          1.186496835947037,
          1.1083677738904956,
          0.9973713144659996,
          0.9912409976124764,
          0.8676501795649529,
          0.7514611750841141,
          0.6772974580526353,
          0.6353178367018699,
          0.5541417971253395,
          0.5309812381863594,
          0.5173746898770332,
          0.5372367337346077,
          0.4987167961895466,
          0.6493479117751122,
          0.8014798432588577,
          0.8321258783340454,
          0.5377913013100625,
          0.25601492077112203,
          0.1290747553110124,
          0.0988981530070305
         ],
         "yaxis": "y6"
        }
       ],
       "layout": {
        "annotations": [
         {
          "font": {
           "size": 16
          },
          "showarrow": false,
          "text": "Ɛ = 0.2",
          "x": 0.225,
          "xanchor": "center",
          "xref": "paper",
          "y": 1,
          "yanchor": "bottom",
          "yref": "paper"
         },
         {
          "font": {
           "size": 16
          },
          "showarrow": false,
          "text": "Ɛ = 0.5",
          "x": 0.775,
          "xanchor": "center",
          "xref": "paper",
          "y": 1,
          "yanchor": "bottom",
          "yref": "paper"
         },
         {
          "font": {
           "size": 16
          },
          "showarrow": false,
          "text": "Ɛ = 1.5",
          "x": 0.225,
          "xanchor": "center",
          "xref": "paper",
          "y": 0.6111111111111112,
          "yanchor": "bottom",
          "yref": "paper"
         },
         {
          "font": {
           "size": 16
          },
          "showarrow": false,
          "text": "Ɛ = 1.8",
          "x": 0.775,
          "xanchor": "center",
          "xref": "paper",
          "y": 0.6111111111111112,
          "yanchor": "bottom",
          "yref": "paper"
         },
         {
          "font": {
           "size": 16
          },
          "showarrow": false,
          "text": "Ɛ = 2.0",
          "x": 0.225,
          "xanchor": "center",
          "xref": "paper",
          "y": 0.22222222222222224,
          "yanchor": "bottom",
          "yref": "paper"
         },
         {
          "font": {
           "size": 16
          },
          "showarrow": false,
          "text": "Ɛ = 2.5",
          "x": 0.775,
          "xanchor": "center",
          "xref": "paper",
          "y": 0.22222222222222224,
          "yanchor": "bottom",
          "yref": "paper"
         },
         {
          "showarrow": false,
          "text": "Prior R",
          "x": 1,
          "xanchor": "right",
          "xref": "x domain",
          "y": 3.4657359027997274,
          "yanchor": "bottom",
          "yref": "y"
         },
         {
          "showarrow": false,
          "text": "Prior R",
          "x": 1,
          "xanchor": "right",
          "xref": "x2 domain",
          "y": 3.4657359027997274,
          "yanchor": "bottom",
          "yref": "y2"
         },
         {
          "showarrow": false,
          "text": "Prior R",
          "x": 1,
          "xanchor": "right",
          "xref": "x2 domain",
          "y": 3.4657359027997274,
          "yanchor": "bottom",
          "yref": "y2"
         },
         {
          "showarrow": false,
          "text": "Prior R",
          "x": 1,
          "xanchor": "right",
          "xref": "x3 domain",
          "y": 3.4657359027997274,
          "yanchor": "bottom",
          "yref": "y3"
         },
         {
          "showarrow": false,
          "text": "Prior R",
          "x": 1,
          "xanchor": "right",
          "xref": "x3 domain",
          "y": 3.4657359027997274,
          "yanchor": "bottom",
          "yref": "y3"
         },
         {
          "showarrow": false,
          "text": "Prior R",
          "x": 1,
          "xanchor": "right",
          "xref": "x4 domain",
          "y": 3.4657359027997274,
          "yanchor": "bottom",
          "yref": "y4"
         },
         {
          "showarrow": false,
          "text": "Prior R",
          "x": 1,
          "xanchor": "right",
          "xref": "x4 domain",
          "y": 3.4657359027997274,
          "yanchor": "bottom",
          "yref": "y4"
         },
         {
          "showarrow": false,
          "text": "Prior R",
          "x": 1,
          "xanchor": "right",
          "xref": "x5 domain",
          "y": 3.4657359027997274,
          "yanchor": "bottom",
          "yref": "y5"
         },
         {
          "showarrow": false,
          "text": "Prior R",
          "x": 1,
          "xanchor": "right",
          "xref": "x5 domain",
          "y": 3.4657359027997274,
          "yanchor": "bottom",
          "yref": "y5"
         },
         {
          "showarrow": false,
          "text": "Prior R",
          "x": 1,
          "xanchor": "right",
          "xref": "x6 domain",
          "y": 3.4657359027997274,
          "yanchor": "bottom",
          "yref": "y6"
         },
         {
          "showarrow": false,
          "text": "Prior R",
          "x": 1,
          "xanchor": "right",
          "xref": "x6 domain",
          "y": 3.4657359027997274,
          "yanchor": "bottom",
          "yref": "y6"
         }
        ],
        "height": 700,
        "legend": {
         "orientation": "h",
         "x": 1,
         "xanchor": "right",
         "y": 1.02,
         "yanchor": "bottom"
        },
        "plot_bgcolor": "white",
        "shapes": [
         {
          "fillcolor": "black",
          "line": {
           "dash": "dot"
          },
          "type": "line",
          "x0": 0,
          "x1": 1,
          "xref": "x domain",
          "y0": 3.4657359027997274,
          "y1": 3.4657359027997274,
          "yref": "y"
         },
         {
          "fillcolor": "black",
          "line": {
           "dash": "dot"
          },
          "type": "line",
          "x0": 0,
          "x1": 1,
          "xref": "x2 domain",
          "y0": 3.4657359027997274,
          "y1": 3.4657359027997274,
          "yref": "y2"
         },
         {
          "fillcolor": "black",
          "line": {
           "dash": "dot"
          },
          "type": "line",
          "x0": 0,
          "x1": 1,
          "xref": "x2 domain",
          "y0": 3.4657359027997274,
          "y1": 3.4657359027997274,
          "yref": "y2"
         },
         {
          "fillcolor": "black",
          "line": {
           "dash": "dot"
          },
          "type": "line",
          "x0": 0,
          "x1": 1,
          "xref": "x3 domain",
          "y0": 3.4657359027997274,
          "y1": 3.4657359027997274,
          "yref": "y3"
         },
         {
          "fillcolor": "black",
          "line": {
           "dash": "dot"
          },
          "type": "line",
          "x0": 0,
          "x1": 1,
          "xref": "x3 domain",
          "y0": 3.4657359027997274,
          "y1": 3.4657359027997274,
          "yref": "y3"
         },
         {
          "fillcolor": "black",
          "line": {
           "dash": "dot"
          },
          "type": "line",
          "x0": 0,
          "x1": 1,
          "xref": "x4 domain",
          "y0": 3.4657359027997274,
          "y1": 3.4657359027997274,
          "yref": "y4"
         },
         {
          "fillcolor": "black",
          "line": {
           "dash": "dot"
          },
          "type": "line",
          "x0": 0,
          "x1": 1,
          "xref": "x4 domain",
          "y0": 3.4657359027997274,
          "y1": 3.4657359027997274,
          "yref": "y4"
         },
         {
          "fillcolor": "black",
          "line": {
           "dash": "dot"
          },
          "type": "line",
          "x0": 0,
          "x1": 1,
          "xref": "x5 domain",
          "y0": 3.4657359027997274,
          "y1": 3.4657359027997274,
          "yref": "y5"
         },
         {
          "fillcolor": "black",
          "line": {
           "dash": "dot"
          },
          "type": "line",
          "x0": 0,
          "x1": 1,
          "xref": "x5 domain",
          "y0": 3.4657359027997274,
          "y1": 3.4657359027997274,
          "yref": "y5"
         },
         {
          "fillcolor": "black",
          "line": {
           "dash": "dot"
          },
          "type": "line",
          "x0": 0,
          "x1": 1,
          "xref": "x6 domain",
          "y0": 3.4657359027997274,
          "y1": 3.4657359027997274,
          "yref": "y6"
         },
         {
          "fillcolor": "black",
          "line": {
           "dash": "dot"
          },
          "type": "line",
          "x0": 0,
          "x1": 1,
          "xref": "x6 domain",
          "y0": 3.4657359027997274,
          "y1": 3.4657359027997274,
          "yref": "y6"
         }
        ],
        "template": {
         "data": {
          "bar": [
           {
            "error_x": {
             "color": "#2a3f5f"
            },
            "error_y": {
             "color": "#2a3f5f"
            },
            "marker": {
             "line": {
              "color": "#E5ECF6",
              "width": 0.5
             }
            },
            "type": "bar"
           }
          ],
          "barpolar": [
           {
            "marker": {
             "line": {
              "color": "#E5ECF6",
              "width": 0.5
             }
            },
            "type": "barpolar"
           }
          ],
          "carpet": [
           {
            "aaxis": {
             "endlinecolor": "#2a3f5f",
             "gridcolor": "white",
             "linecolor": "white",
             "minorgridcolor": "white",
             "startlinecolor": "#2a3f5f"
            },
            "baxis": {
             "endlinecolor": "#2a3f5f",
             "gridcolor": "white",
             "linecolor": "white",
             "minorgridcolor": "white",
             "startlinecolor": "#2a3f5f"
            },
            "type": "carpet"
           }
          ],
          "choropleth": [
           {
            "colorbar": {
             "outlinewidth": 0,
             "ticks": ""
            },
            "type": "choropleth"
           }
          ],
          "contour": [
           {
            "colorbar": {
             "outlinewidth": 0,
             "ticks": ""
            },
            "colorscale": [
             [
              0,
              "#0d0887"
             ],
             [
              0.1111111111111111,
              "#46039f"
             ],
             [
              0.2222222222222222,
              "#7201a8"
             ],
             [
              0.3333333333333333,
              "#9c179e"
             ],
             [
              0.4444444444444444,
              "#bd3786"
             ],
             [
              0.5555555555555556,
              "#d8576b"
             ],
             [
              0.6666666666666666,
              "#ed7953"
             ],
             [
              0.7777777777777778,
              "#fb9f3a"
             ],
             [
              0.8888888888888888,
              "#fdca26"
             ],
             [
              1,
              "#f0f921"
             ]
            ],
            "type": "contour"
           }
          ],
          "contourcarpet": [
           {
            "colorbar": {
             "outlinewidth": 0,
             "ticks": ""
            },
            "type": "contourcarpet"
           }
          ],
          "heatmap": [
           {
            "colorbar": {
             "outlinewidth": 0,
             "ticks": ""
            },
            "colorscale": [
             [
              0,
              "#0d0887"
             ],
             [
              0.1111111111111111,
              "#46039f"
             ],
             [
              0.2222222222222222,
              "#7201a8"
             ],
             [
              0.3333333333333333,
              "#9c179e"
             ],
             [
              0.4444444444444444,
              "#bd3786"
             ],
             [
              0.5555555555555556,
              "#d8576b"
             ],
             [
              0.6666666666666666,
              "#ed7953"
             ],
             [
              0.7777777777777778,
              "#fb9f3a"
             ],
             [
              0.8888888888888888,
              "#fdca26"
             ],
             [
              1,
              "#f0f921"
             ]
            ],
            "type": "heatmap"
           }
          ],
          "heatmapgl": [
           {
            "colorbar": {
             "outlinewidth": 0,
             "ticks": ""
            },
            "colorscale": [
             [
              0,
              "#0d0887"
             ],
             [
              0.1111111111111111,
              "#46039f"
             ],
             [
              0.2222222222222222,
              "#7201a8"
             ],
             [
              0.3333333333333333,
              "#9c179e"
             ],
             [
              0.4444444444444444,
              "#bd3786"
             ],
             [
              0.5555555555555556,
              "#d8576b"
             ],
             [
              0.6666666666666666,
              "#ed7953"
             ],
             [
              0.7777777777777778,
              "#fb9f3a"
             ],
             [
              0.8888888888888888,
              "#fdca26"
             ],
             [
              1,
              "#f0f921"
             ]
            ],
            "type": "heatmapgl"
           }
          ],
          "histogram": [
           {
            "marker": {
             "colorbar": {
              "outlinewidth": 0,
              "ticks": ""
             }
            },
            "type": "histogram"
           }
          ],
          "histogram2d": [
           {
            "colorbar": {
             "outlinewidth": 0,
             "ticks": ""
            },
            "colorscale": [
             [
              0,
              "#0d0887"
             ],
             [
              0.1111111111111111,
              "#46039f"
             ],
             [
              0.2222222222222222,
              "#7201a8"
             ],
             [
              0.3333333333333333,
              "#9c179e"
             ],
             [
              0.4444444444444444,
              "#bd3786"
             ],
             [
              0.5555555555555556,
              "#d8576b"
             ],
             [
              0.6666666666666666,
              "#ed7953"
             ],
             [
              0.7777777777777778,
              "#fb9f3a"
             ],
             [
              0.8888888888888888,
              "#fdca26"
             ],
             [
              1,
              "#f0f921"
             ]
            ],
            "type": "histogram2d"
           }
          ],
          "histogram2dcontour": [
           {
            "colorbar": {
             "outlinewidth": 0,
             "ticks": ""
            },
            "colorscale": [
             [
              0,
              "#0d0887"
             ],
             [
              0.1111111111111111,
              "#46039f"
             ],
             [
              0.2222222222222222,
              "#7201a8"
             ],
             [
              0.3333333333333333,
              "#9c179e"
             ],
             [
              0.4444444444444444,
              "#bd3786"
             ],
             [
              0.5555555555555556,
              "#d8576b"
             ],
             [
              0.6666666666666666,
              "#ed7953"
             ],
             [
              0.7777777777777778,
              "#fb9f3a"
             ],
             [
              0.8888888888888888,
              "#fdca26"
             ],
             [
              1,
              "#f0f921"
             ]
            ],
            "type": "histogram2dcontour"
           }
          ],
          "mesh3d": [
           {
            "colorbar": {
             "outlinewidth": 0,
             "ticks": ""
            },
            "type": "mesh3d"
           }
          ],
          "parcoords": [
           {
            "line": {
             "colorbar": {
              "outlinewidth": 0,
              "ticks": ""
             }
            },
            "type": "parcoords"
           }
          ],
          "pie": [
           {
            "automargin": true,
            "type": "pie"
           }
          ],
          "scatter": [
           {
            "marker": {
             "colorbar": {
              "outlinewidth": 0,
              "ticks": ""
             }
            },
            "type": "scatter"
           }
          ],
          "scatter3d": [
           {
            "line": {
             "colorbar": {
              "outlinewidth": 0,
              "ticks": ""
             }
            },
            "marker": {
             "colorbar": {
              "outlinewidth": 0,
              "ticks": ""
             }
            },
            "type": "scatter3d"
           }
          ],
          "scattercarpet": [
           {
            "marker": {
             "colorbar": {
              "outlinewidth": 0,
              "ticks": ""
             }
            },
            "type": "scattercarpet"
           }
          ],
          "scattergeo": [
           {
            "marker": {
             "colorbar": {
              "outlinewidth": 0,
              "ticks": ""
             }
            },
            "type": "scattergeo"
           }
          ],
          "scattergl": [
           {
            "marker": {
             "colorbar": {
              "outlinewidth": 0,
              "ticks": ""
             }
            },
            "type": "scattergl"
           }
          ],
          "scattermapbox": [
           {
            "marker": {
             "colorbar": {
              "outlinewidth": 0,
              "ticks": ""
             }
            },
            "type": "scattermapbox"
           }
          ],
          "scatterpolar": [
           {
            "marker": {
             "colorbar": {
              "outlinewidth": 0,
              "ticks": ""
             }
            },
            "type": "scatterpolar"
           }
          ],
          "scatterpolargl": [
           {
            "marker": {
             "colorbar": {
              "outlinewidth": 0,
              "ticks": ""
             }
            },
            "type": "scatterpolargl"
           }
          ],
          "scatterternary": [
           {
            "marker": {
             "colorbar": {
              "outlinewidth": 0,
              "ticks": ""
             }
            },
            "type": "scatterternary"
           }
          ],
          "surface": [
           {
            "colorbar": {
             "outlinewidth": 0,
             "ticks": ""
            },
            "colorscale": [
             [
              0,
              "#0d0887"
             ],
             [
              0.1111111111111111,
              "#46039f"
             ],
             [
              0.2222222222222222,
              "#7201a8"
             ],
             [
              0.3333333333333333,
              "#9c179e"
             ],
             [
              0.4444444444444444,
              "#bd3786"
             ],
             [
              0.5555555555555556,
              "#d8576b"
             ],
             [
              0.6666666666666666,
              "#ed7953"
             ],
             [
              0.7777777777777778,
              "#fb9f3a"
             ],
             [
              0.8888888888888888,
              "#fdca26"
             ],
             [
              1,
              "#f0f921"
             ]
            ],
            "type": "surface"
           }
          ],
          "table": [
           {
            "cells": {
             "fill": {
              "color": "#EBF0F8"
             },
             "line": {
              "color": "white"
             }
            },
            "header": {
             "fill": {
              "color": "#C8D4E3"
             },
             "line": {
              "color": "white"
             }
            },
            "type": "table"
           }
          ]
         },
         "layout": {
          "annotationdefaults": {
           "arrowcolor": "#2a3f5f",
           "arrowhead": 0,
           "arrowwidth": 1
          },
          "autotypenumbers": "strict",
          "coloraxis": {
           "colorbar": {
            "outlinewidth": 0,
            "ticks": ""
           }
          },
          "colorscale": {
           "diverging": [
            [
             0,
             "#8e0152"
            ],
            [
             0.1,
             "#c51b7d"
            ],
            [
             0.2,
             "#de77ae"
            ],
            [
             0.3,
             "#f1b6da"
            ],
            [
             0.4,
             "#fde0ef"
            ],
            [
             0.5,
             "#f7f7f7"
            ],
            [
             0.6,
             "#e6f5d0"
            ],
            [
             0.7,
             "#b8e186"
            ],
            [
             0.8,
             "#7fbc41"
            ],
            [
             0.9,
             "#4d9221"
            ],
            [
             1,
             "#276419"
            ]
           ],
           "sequential": [
            [
             0,
             "#0d0887"
            ],
            [
             0.1111111111111111,
             "#46039f"
            ],
            [
             0.2222222222222222,
             "#7201a8"
            ],
            [
             0.3333333333333333,
             "#9c179e"
            ],
            [
             0.4444444444444444,
             "#bd3786"
            ],
            [
             0.5555555555555556,
             "#d8576b"
            ],
            [
             0.6666666666666666,
             "#ed7953"
            ],
            [
             0.7777777777777778,
             "#fb9f3a"
            ],
            [
             0.8888888888888888,
             "#fdca26"
            ],
            [
             1,
             "#f0f921"
            ]
           ],
           "sequentialminus": [
            [
             0,
             "#0d0887"
            ],
            [
             0.1111111111111111,
             "#46039f"
            ],
            [
             0.2222222222222222,
             "#7201a8"
            ],
            [
             0.3333333333333333,
             "#9c179e"
            ],
            [
             0.4444444444444444,
             "#bd3786"
            ],
            [
             0.5555555555555556,
             "#d8576b"
            ],
            [
             0.6666666666666666,
             "#ed7953"
            ],
            [
             0.7777777777777778,
             "#fb9f3a"
            ],
            [
             0.8888888888888888,
             "#fdca26"
            ],
            [
             1,
             "#f0f921"
            ]
           ]
          },
          "colorway": [
           "#636efa",
           "#EF553B",
           "#00cc96",
           "#ab63fa",
           "#FFA15A",
           "#19d3f3",
           "#FF6692",
           "#B6E880",
           "#FF97FF",
           "#FECB52"
          ],
          "font": {
           "color": "#2a3f5f"
          },
          "geo": {
           "bgcolor": "white",
           "lakecolor": "white",
           "landcolor": "#E5ECF6",
           "showlakes": true,
           "showland": true,
           "subunitcolor": "white"
          },
          "hoverlabel": {
           "align": "left"
          },
          "hovermode": "closest",
          "mapbox": {
           "style": "light"
          },
          "paper_bgcolor": "white",
          "plot_bgcolor": "#E5ECF6",
          "polar": {
           "angularaxis": {
            "gridcolor": "white",
            "linecolor": "white",
            "ticks": ""
           },
           "bgcolor": "#E5ECF6",
           "radialaxis": {
            "gridcolor": "white",
            "linecolor": "white",
            "ticks": ""
           }
          },
          "scene": {
           "xaxis": {
            "backgroundcolor": "#E5ECF6",
            "gridcolor": "white",
            "gridwidth": 2,
            "linecolor": "white",
            "showbackground": true,
            "ticks": "",
            "zerolinecolor": "white"
           },
           "yaxis": {
            "backgroundcolor": "#E5ECF6",
            "gridcolor": "white",
            "gridwidth": 2,
            "linecolor": "white",
            "showbackground": true,
            "ticks": "",
            "zerolinecolor": "white"
           },
           "zaxis": {
            "backgroundcolor": "#E5ECF6",
            "gridcolor": "white",
            "gridwidth": 2,
            "linecolor": "white",
            "showbackground": true,
            "ticks": "",
            "zerolinecolor": "white"
           }
          },
          "shapedefaults": {
           "line": {
            "color": "#2a3f5f"
           }
          },
          "ternary": {
           "aaxis": {
            "gridcolor": "white",
            "linecolor": "white",
            "ticks": ""
           },
           "baxis": {
            "gridcolor": "white",
            "linecolor": "white",
            "ticks": ""
           },
           "bgcolor": "#E5ECF6",
           "caxis": {
            "gridcolor": "white",
            "linecolor": "white",
            "ticks": ""
           }
          },
          "title": {
           "x": 0.05
          },
          "xaxis": {
           "automargin": true,
           "gridcolor": "white",
           "linecolor": "white",
           "ticks": "",
           "title": {
            "standoff": 15
           },
           "zerolinecolor": "white",
           "zerolinewidth": 2
          },
          "yaxis": {
           "automargin": true,
           "gridcolor": "white",
           "linecolor": "white",
           "ticks": "",
           "title": {
            "standoff": 15
           },
           "zerolinecolor": "white",
           "zerolinewidth": 2
          }
         }
        },
        "title": {
         "text": "ON"
        },
        "width": 700,
        "xaxis": {
         "anchor": "y",
         "domain": [
          0,
          0.45
         ],
         "linecolor": "black"
        },
        "xaxis2": {
         "anchor": "y2",
         "domain": [
          0.55,
          1
         ],
         "linecolor": "black"
        },
        "xaxis3": {
         "anchor": "y3",
         "domain": [
          0,
          0.45
         ],
         "linecolor": "black"
        },
        "xaxis4": {
         "anchor": "y4",
         "domain": [
          0.55,
          1
         ],
         "linecolor": "black"
        },
        "xaxis5": {
         "anchor": "y5",
         "domain": [
          0,
          0.45
         ],
         "linecolor": "black"
        },
        "xaxis6": {
         "anchor": "y6",
         "domain": [
          0.55,
          1
         ],
         "linecolor": "black"
        },
        "yaxis": {
         "anchor": "x",
         "domain": [
          0.7777777777777778,
          1
         ],
         "linecolor": "black"
        },
        "yaxis2": {
         "anchor": "x2",
         "domain": [
          0.7777777777777778,
          1
         ],
         "linecolor": "black"
        },
        "yaxis3": {
         "anchor": "x3",
         "domain": [
          0.3888888888888889,
          0.6111111111111112
         ],
         "linecolor": "black"
        },
        "yaxis4": {
         "anchor": "x4",
         "domain": [
          0.3888888888888889,
          0.6111111111111112
         ],
         "linecolor": "black"
        },
        "yaxis5": {
         "anchor": "x5",
         "domain": [
          0,
          0.22222222222222224
         ],
         "linecolor": "black"
        },
        "yaxis6": {
         "anchor": "x6",
         "domain": [
          0,
          0.22222222222222224
         ],
         "linecolor": "black"
        }
       }
      }
     },
     "metadata": {}
    }
   ],
   "source": [
    "from plotly.subplots import make_subplots\n",
    "\n",
    "all_intervals = all_intervals[all_intervals['Central Probability']==0.95]\n",
    "\n",
    "fig = go.Figure()\n",
    "fig = make_subplots(\n",
    "    rows=int(np.ceil((epsilon_range.shape[0]-1)/2)), cols=2, subplot_titles=tuple('Ɛ = {}'.format(epsilon) for epsilon in epsilon_range[epsilon_range!=1])\n",
    ")\n",
    "\n",
    "# Plot (bar chart cases each day)\n",
    "for e, epsilon in enumerate(epsilon_range[epsilon_range!=1]):\n",
    "    if e == 0:\n",
    "        fig.add_trace(\n",
    "            go.Scatter(\n",
    "                x=all_intervals.loc[all_intervals['Epsilon']==epsilon]['Time Points'],\n",
    "                y=all_intervals.loc[all_intervals['Epsilon']==epsilon]['Mean'],\n",
    "                name='Mean R profile for for new Ɛ',\n",
    "                line_color='green'\n",
    "            ),\n",
    "            row= int(np.floor(e / 2)) + 1,\n",
    "            col= e % 2 + 1\n",
    "        )\n",
    "\n",
    "        fig.add_trace(\n",
    "            go.Scatter(\n",
    "                x=all_intervals.loc[all_intervals['Epsilon']==epsilon]['Time Points'].tolist() + all_intervals.loc[all_intervals['Epsilon']==epsilon]['Time Points'].tolist()[::-1],\n",
    "                y=all_intervals.loc[all_intervals['Epsilon']==epsilon][\n",
    "                    'Upper bound CI'].values.tolist() + all_intervals.loc[all_intervals['Epsilon']==epsilon][\n",
    "                        'Lower bound CI'].values.tolist()[::-1],\n",
    "                fill='toself',\n",
    "                fillcolor='green',\n",
    "                line_color='green',\n",
    "                opacity=0.15,\n",
    "                mode='lines',\n",
    "                name='Credible interval for new Ɛ'\n",
    "            ),\n",
    "            row= int(np.floor(e / 2)) + 1,\n",
    "            col= e % 2 + 1\n",
    "        )\n",
    "\n",
    "        fig.add_trace(\n",
    "            go.Scatter(\n",
    "                x=all_intervals.loc[all_intervals['Epsilon']==epsilon]['Time Points'],\n",
    "                y=all_intervals.loc[all_intervals['Epsilon']==1]['Mean'],\n",
    "                name='Mean R profile for for Ɛ = 1'.format(epsilon),\n",
    "                line_color='purple'\n",
    "            ),\n",
    "            row= int(np.floor(e / 2)) + 1,\n",
    "            col= e % 2 + 1\n",
    "        )\n",
    "\n",
    "\n",
    "        fig.add_trace(\n",
    "            go.Scatter(\n",
    "                x=all_intervals.loc[all_intervals['Epsilon']==epsilon]['Time Points'].tolist() + all_intervals.loc[all_intervals['Epsilon']==epsilon]['Time Points'].tolist()[::-1],\n",
    "                y=all_intervals.loc[all_intervals['Epsilon']==1][\n",
    "                    'Upper bound CI'].values.tolist() + all_intervals.loc[all_intervals['Epsilon']==1][\n",
    "                        'Lower bound CI'].values.tolist()[::-1],\n",
    "                fill='toself',\n",
    "                fillcolor='purple',\n",
    "                line_color='purple',\n",
    "                opacity=0.15,\n",
    "                mode='lines',\n",
    "                name='Credible interval for Ɛ = 1'\n",
    "            ),\n",
    "            row= int(np.floor(e / 2)) + 1,\n",
    "            col= e % 2 + 1\n",
    "        )\n",
    "\n",
    "    else:\n",
    "        fig.add_trace(\n",
    "            go.Scatter(\n",
    "                x=all_intervals.loc[all_intervals['Epsilon']==epsilon]['Time Points'],\n",
    "                y=all_intervals.loc[all_intervals['Epsilon']==epsilon]['Mean'],\n",
    "                line_color='green',\n",
    "                showlegend=False\n",
    "            ),\n",
    "            row= int(np.floor(e / 2)) + 1,\n",
    "            col= e % 2 + 1\n",
    "        )\n",
    "\n",
    "        fig.add_trace(\n",
    "            go.Scatter(\n",
    "                x=all_intervals.loc[all_intervals['Epsilon']==epsilon]['Time Points'].tolist() + all_intervals.loc[all_intervals['Epsilon']==epsilon]['Time Points'].tolist()[::-1],\n",
    "                y=all_intervals.loc[all_intervals['Epsilon']==epsilon][\n",
    "                    'Upper bound CI'].values.tolist() + all_intervals.loc[all_intervals['Epsilon']==epsilon][\n",
    "                        'Lower bound CI'].values.tolist()[::-1],\n",
    "                fill='toself',\n",
    "                fillcolor='green',\n",
    "                line_color='green',\n",
    "                opacity=0.15,\n",
    "                showlegend=False,\n",
    "                mode='lines'\n",
    "            ),\n",
    "            row= int(np.floor(e / 2)) + 1,\n",
    "            col= e % 2 + 1\n",
    "        )\n",
    "\n",
    "        fig.add_trace(\n",
    "            go.Scatter(\n",
    "                x=all_intervals.loc[all_intervals['Epsilon']==epsilon]['Time Points'],\n",
    "                y=all_intervals.loc[all_intervals['Epsilon']==1]['Mean'],\n",
    "                showlegend=False,\n",
    "                line_color='purple'\n",
    "            ),\n",
    "            row= int(np.floor(e / 2)) + 1,\n",
    "            col= e % 2 + 1\n",
    "        )\n",
    "\n",
    "\n",
    "        fig.add_trace(\n",
    "            go.Scatter(\n",
    "                x=all_intervals.loc[all_intervals['Epsilon']==epsilon]['Time Points'].tolist() + all_intervals.loc[all_intervals['Epsilon']==epsilon]['Time Points'].tolist()[::-1],\n",
    "                y=all_intervals.loc[all_intervals['Epsilon']==1][\n",
    "                    'Upper bound CI'].values.tolist() + all_intervals.loc[all_intervals['Epsilon']==1][\n",
    "                        'Lower bound CI'].values.tolist()[::-1],\n",
    "                fill='toself',\n",
    "                fillcolor='purple',\n",
    "                line_color='purple',\n",
    "                opacity=0.15,\n",
    "                mode='lines',\n",
    "                showlegend=False,\n",
    "            ),\n",
    "            row= int(np.floor(e / 2)) + 1,\n",
    "            col= e % 2 + 1\n",
    "        )\n",
    "\n",
    "        #fig.add_hrect(y0=prior_dist_interval[0], y1=prior_dist_interval[1], line_width=0, fillcolor='black', opacity=0.1)\n",
    "        fig.add_hline(y=median, line_dash='dot',\n",
    "                annotation_text='Prior R', fillcolor='black',\n",
    "                annotation_position='top right',\n",
    "                row= int(np.floor(e / 2)) + 1,\n",
    "                col= e % 2 + 1)\n",
    "\n",
    "    #fig.add_hrect(y0=prior_dist_interval[0], y1=prior_dist_interval[1], line_width=0, fillcolor='black', opacity=0.1)\n",
    "    fig.add_hline(y=median, line_dash='dot',\n",
    "              annotation_text='Prior R', fillcolor='black',\n",
    "              annotation_position='top right',\n",
    "              row= int(np.floor(e / 2)) + 1,\n",
    "              col= e % 2 + 1)\n",
    "\n",
    "\n",
    "# Add axis labels\n",
    "fig.update_layout(\n",
    "    title='ON',\n",
    "    width=700, \n",
    "    height=700,\n",
    "    plot_bgcolor='white',\n",
    "    xaxis=dict(linecolor='black'),\n",
    "    yaxis=dict(linecolor='black'),\n",
    "    xaxis2=dict(linecolor='black'),\n",
    "    yaxis2=dict(linecolor='black'),\n",
    "    xaxis3=dict(linecolor='black'),\n",
    "    yaxis3=dict(linecolor='black'),\n",
    "    xaxis4=dict(linecolor='black'),\n",
    "    yaxis4=dict(linecolor='black'),\n",
    "    xaxis5=dict(linecolor='black'),\n",
    "    yaxis5=dict(linecolor='black'),\n",
    "    xaxis6=dict(linecolor='black'),\n",
    "    yaxis6=dict(linecolor='black'),\n",
    "    legend=dict(\n",
    "        orientation=\"h\",\n",
    "        yanchor=\"bottom\",\n",
    "        y=1.02,\n",
    "        xanchor=\"right\",\n",
    "        x=1\n",
    "    ))\n",
    "\n",
    "fig.update_xaxes(ticks='outside', title_text='Time (days)', row='all', col='all')\n",
    "fig.update_yaxes(ticks='outside', title_text='R_t', row='all', col='all')\n",
    "\n",
    "fig.write_image('ON-diff-eps-inf.pdf')\n",
    "fig.show()"
   ]
  },
  {
   "cell_type": "code",
   "execution_count": 31,
   "metadata": {},
   "outputs": [],
   "source": [
    "large_all_intervals = pd.DataFrame(columns=column_names)\n",
    "large_all_intervals_chosen = pd.DataFrame(columns=column_names)\n",
    "first_time_r_more_than_1 = []\n",
    "first_time_r_more_than_1_LowerCI = []\n",
    "first_time_r_more_than_1_UpperCI = []\n",
    "\n",
    "first_time_r_less_than_1 = []\n",
    "first_time_r_less_than_1_LowerCI = []\n",
    "first_time_r_less_than_1_UpperCI = []\n",
    "\n",
    "proportion_time_r_more_than_1 = []\n",
    "proportion_time_r_more_than_1_LowerCI = []\n",
    "proportion_time_r_more_than_1_UpperCI = []\n",
    "\n",
    "large_epsilon_range = np.arange(0.1, 2.5, 0.1)\n",
    "\n",
    "for epsilon in large_epsilon_range:\n",
    "    inference = branchpro.LocImpBranchProPosteriorMultSI(\n",
    "        inc_data=inc_data,\n",
    "        imported_inc_data=imported_inc_data,\n",
    "        epsilon=epsilon,\n",
    "        daily_serial_intervals=serial_intervals,\n",
    "        alpha=a,\n",
    "        beta=b)\n",
    "\n",
    "    inference.run_inference(tau=tau)\n",
    "    intervals = inference.get_intervals(central_prob=0)\n",
    "    intervals = intervals.append(inference.get_intervals(central_prob=.25))\n",
    "    intervals = intervals.append(inference.get_intervals(central_prob=.95))\n",
    "    temp = inference.get_intervals(central_prob=.95)\n",
    "\n",
    "    intervals['Epsilon'] = [epsilon] * len(intervals.index)\n",
    "\n",
    "    large_all_intervals = large_all_intervals.append(intervals)\n",
    "\n",
    "    # First time R > 1\n",
    "    if len(large_all_intervals.loc[(large_all_intervals['Epsilon']==epsilon) & (large_all_intervals['Mean']>1) & (large_all_intervals['Central Probability']==0.95)]['Time Points'].tolist())==0:\n",
    "        first_time_r_more_than_1.append(None)\n",
    "    else:\n",
    "        first_time_r_more_than_1.append(large_all_intervals.loc[(large_all_intervals['Epsilon']==epsilon) & (large_all_intervals['Mean']>1) & (large_all_intervals['Central Probability']==0.95)]['Time Points'].tolist()[0])\n",
    "\n",
    "    if len(large_all_intervals.loc[(large_all_intervals['Epsilon']==epsilon) & (large_all_intervals['Lower bound CI']>1) & (large_all_intervals['Central Probability']==0.95)]['Time Points'].tolist())==0:\n",
    "        first_time_r_more_than_1_LowerCI.append(None)\n",
    "    else:\n",
    "        first_time_r_more_than_1_LowerCI.append(large_all_intervals.loc[(large_all_intervals['Epsilon']==epsilon) & (large_all_intervals['Lower bound CI']>1) & (large_all_intervals['Central Probability']==0.95)]['Time Points'].tolist()[0])\n",
    "\n",
    "    if len(large_all_intervals.loc[(large_all_intervals['Epsilon']==epsilon) & (large_all_intervals['Upper bound CI']>1) & (large_all_intervals['Central Probability']==0.95)]['Time Points'].tolist())==0:\n",
    "        first_time_r_more_than_1_UpperCI.append(None)\n",
    "    else:\n",
    "        first_time_r_more_than_1_UpperCI.append(large_all_intervals.loc[(large_all_intervals['Epsilon']==epsilon) & (large_all_intervals['Upper bound CI']>1) & (large_all_intervals['Central Probability']==0.95)]['Time Points'].tolist()[0])\n",
    "\n",
    "\n",
    "    # First time R < 1\n",
    "    if len(large_all_intervals.loc[(large_all_intervals['Epsilon']==epsilon) & (large_all_intervals['Mean']<1) & (large_all_intervals['Central Probability']==0.95)]['Time Points'].tolist())==0:\n",
    "        first_time_r_less_than_1.append(None)\n",
    "    else:\n",
    "        first_time_r_less_than_1.append(large_all_intervals.loc[(large_all_intervals['Epsilon']==epsilon) & (large_all_intervals['Mean']<1) & (large_all_intervals['Central Probability']==0.95)]['Time Points'].tolist()[0])\n",
    "\n",
    "    if len(large_all_intervals.loc[(large_all_intervals['Epsilon']==epsilon) & (large_all_intervals['Lower bound CI']<1) & (large_all_intervals['Central Probability']==0.95)]['Time Points'].tolist())==0:\n",
    "        first_time_r_less_than_1_LowerCI.append(None)\n",
    "    else:\n",
    "        first_time_r_less_than_1_LowerCI.append(large_all_intervals.loc[(large_all_intervals['Epsilon']==epsilon) & (large_all_intervals['Lower bound CI']<1) & (large_all_intervals['Central Probability']==0.95)]['Time Points'].tolist()[0])\n",
    "\n",
    "    if len(large_all_intervals.loc[(large_all_intervals['Epsilon']==epsilon) & (large_all_intervals['Upper bound CI']<1) & (large_all_intervals['Central Probability']==0.95)]['Time Points'].tolist())==0:\n",
    "        first_time_r_less_than_1_UpperCI.append(None)\n",
    "    else:\n",
    "        first_time_r_less_than_1_UpperCI.append(large_all_intervals.loc[(large_all_intervals['Epsilon']==epsilon) & (large_all_intervals['Upper bound CI']<1) & (large_all_intervals['Central Probability']==0.95)]['Time Points'].tolist()[0])\n",
    "\n",
    "\n",
    "    proportion_time_r_more_than_1.append(len(large_all_intervals.loc[(large_all_intervals['Epsilon']==epsilon) & (large_all_intervals['Mean']>1) & (large_all_intervals['Central Probability']==0.95)]['Time Points'].tolist())/len(large_all_intervals.loc[(large_all_intervals['Epsilon']==epsilon) & (large_all_intervals['Central Probability']==0.95)]['Time Points'].tolist()))\n",
    "    proportion_time_r_more_than_1_LowerCI.append(len(large_all_intervals.loc[(large_all_intervals['Epsilon']==epsilon) & (large_all_intervals['Lower bound CI']>1) & (large_all_intervals['Central Probability']==0.95)]['Time Points'].tolist())/len(large_all_intervals.loc[(large_all_intervals['Epsilon']==epsilon) & (large_all_intervals['Central Probability']==0.95)]['Time Points'].tolist()))\n",
    "    proportion_time_r_more_than_1_UpperCI.append(len(large_all_intervals.loc[(large_all_intervals['Epsilon']==epsilon) & (large_all_intervals['Upper bound CI']>1) & (large_all_intervals['Central Probability']==0.95)]['Time Points'].tolist())/len(large_all_intervals.loc[(large_all_intervals['Epsilon']==epsilon) & (large_all_intervals['Central Probability']==0.95)]['Time Points'].tolist()))"
   ]
  },
  {
   "cell_type": "code",
   "execution_count": 32,
   "metadata": {},
   "outputs": [
    {
     "output_type": "display_data",
     "data": {
      "application/vnd.plotly.v1+json": {
       "config": {
        "plotlyServerURL": "https://plot.ly"
       },
       "data": [
        {
         "mode": "lines",
         "name": "Mean",
         "type": "scatter",
         "x": [
          0.1,
          0.2,
          0.30000000000000004,
          0.4,
          0.5,
          0.6,
          0.7000000000000001,
          0.8,
          0.9,
          1,
          1.1,
          1.2000000000000002,
          1.3000000000000003,
          1.4000000000000001,
          1.5000000000000002,
          1.6,
          1.7000000000000002,
          1.8000000000000003,
          1.9000000000000001,
          2,
          2.1,
          2.2,
          2.3000000000000003,
          2.4000000000000004
         ],
         "y": [
          8,
          8,
          8,
          8,
          10,
          10,
          11,
          11,
          11,
          11,
          12,
          12,
          12,
          12,
          26,
          27,
          27,
          27,
          30,
          32,
          32,
          45,
          45,
          46
         ]
        },
        {
         "mode": "lines",
         "name": "Lower bound CI",
         "type": "scatter",
         "x": [
          0.1,
          0.2,
          0.30000000000000004,
          0.4,
          0.5,
          0.6,
          0.7000000000000001,
          0.8,
          0.9,
          1,
          1.1,
          1.2000000000000002,
          1.3000000000000003,
          1.4000000000000001,
          1.5000000000000002,
          1.6,
          1.7000000000000002,
          1.8000000000000003,
          1.9000000000000001,
          2,
          2.1,
          2.2,
          2.3000000000000003,
          2.4000000000000004
         ],
         "y": [
          10,
          11,
          11,
          11,
          12,
          12,
          12,
          24,
          24,
          26,
          26,
          26,
          27,
          27,
          31,
          32,
          45,
          45,
          46,
          46,
          46,
          46,
          47,
          47
         ]
        },
        {
         "mode": "lines",
         "name": "Upper bound CI",
         "type": "scatter",
         "x": [
          0.1,
          0.2,
          0.30000000000000004,
          0.4,
          0.5,
          0.6,
          0.7000000000000001,
          0.8,
          0.9,
          1,
          1.1,
          1.2000000000000002,
          1.3000000000000003,
          1.4000000000000001,
          1.5000000000000002,
          1.6,
          1.7000000000000002,
          1.8000000000000003,
          1.9000000000000001,
          2,
          2.1,
          2.2,
          2.3000000000000003,
          2.4000000000000004
         ],
         "y": [
          8,
          8,
          8,
          8,
          8,
          8,
          8,
          8,
          8,
          8,
          8,
          8,
          11,
          11,
          11,
          11,
          11,
          12,
          12,
          12,
          12,
          12,
          30,
          30
         ]
        }
       ],
       "layout": {
        "template": {
         "data": {
          "bar": [
           {
            "error_x": {
             "color": "rgb(36,36,36)"
            },
            "error_y": {
             "color": "rgb(36,36,36)"
            },
            "marker": {
             "line": {
              "color": "white",
              "width": 0.5
             }
            },
            "type": "bar"
           }
          ],
          "barpolar": [
           {
            "marker": {
             "line": {
              "color": "white",
              "width": 0.5
             }
            },
            "type": "barpolar"
           }
          ],
          "carpet": [
           {
            "aaxis": {
             "endlinecolor": "rgb(36,36,36)",
             "gridcolor": "white",
             "linecolor": "white",
             "minorgridcolor": "white",
             "startlinecolor": "rgb(36,36,36)"
            },
            "baxis": {
             "endlinecolor": "rgb(36,36,36)",
             "gridcolor": "white",
             "linecolor": "white",
             "minorgridcolor": "white",
             "startlinecolor": "rgb(36,36,36)"
            },
            "type": "carpet"
           }
          ],
          "choropleth": [
           {
            "colorbar": {
             "outlinewidth": 1,
             "tickcolor": "rgb(36,36,36)",
             "ticks": "outside"
            },
            "type": "choropleth"
           }
          ],
          "contour": [
           {
            "colorbar": {
             "outlinewidth": 1,
             "tickcolor": "rgb(36,36,36)",
             "ticks": "outside"
            },
            "colorscale": [
             [
              0,
              "#440154"
             ],
             [
              0.1111111111111111,
              "#482878"
             ],
             [
              0.2222222222222222,
              "#3e4989"
             ],
             [
              0.3333333333333333,
              "#31688e"
             ],
             [
              0.4444444444444444,
              "#26828e"
             ],
             [
              0.5555555555555556,
              "#1f9e89"
             ],
             [
              0.6666666666666666,
              "#35b779"
             ],
             [
              0.7777777777777778,
              "#6ece58"
             ],
             [
              0.8888888888888888,
              "#b5de2b"
             ],
             [
              1,
              "#fde725"
             ]
            ],
            "type": "contour"
           }
          ],
          "contourcarpet": [
           {
            "colorbar": {
             "outlinewidth": 1,
             "tickcolor": "rgb(36,36,36)",
             "ticks": "outside"
            },
            "type": "contourcarpet"
           }
          ],
          "heatmap": [
           {
            "colorbar": {
             "outlinewidth": 1,
             "tickcolor": "rgb(36,36,36)",
             "ticks": "outside"
            },
            "colorscale": [
             [
              0,
              "#440154"
             ],
             [
              0.1111111111111111,
              "#482878"
             ],
             [
              0.2222222222222222,
              "#3e4989"
             ],
             [
              0.3333333333333333,
              "#31688e"
             ],
             [
              0.4444444444444444,
              "#26828e"
             ],
             [
              0.5555555555555556,
              "#1f9e89"
             ],
             [
              0.6666666666666666,
              "#35b779"
             ],
             [
              0.7777777777777778,
              "#6ece58"
             ],
             [
              0.8888888888888888,
              "#b5de2b"
             ],
             [
              1,
              "#fde725"
             ]
            ],
            "type": "heatmap"
           }
          ],
          "heatmapgl": [
           {
            "colorbar": {
             "outlinewidth": 1,
             "tickcolor": "rgb(36,36,36)",
             "ticks": "outside"
            },
            "colorscale": [
             [
              0,
              "#440154"
             ],
             [
              0.1111111111111111,
              "#482878"
             ],
             [
              0.2222222222222222,
              "#3e4989"
             ],
             [
              0.3333333333333333,
              "#31688e"
             ],
             [
              0.4444444444444444,
              "#26828e"
             ],
             [
              0.5555555555555556,
              "#1f9e89"
             ],
             [
              0.6666666666666666,
              "#35b779"
             ],
             [
              0.7777777777777778,
              "#6ece58"
             ],
             [
              0.8888888888888888,
              "#b5de2b"
             ],
             [
              1,
              "#fde725"
             ]
            ],
            "type": "heatmapgl"
           }
          ],
          "histogram": [
           {
            "marker": {
             "line": {
              "color": "white",
              "width": 0.6
             }
            },
            "type": "histogram"
           }
          ],
          "histogram2d": [
           {
            "colorbar": {
             "outlinewidth": 1,
             "tickcolor": "rgb(36,36,36)",
             "ticks": "outside"
            },
            "colorscale": [
             [
              0,
              "#440154"
             ],
             [
              0.1111111111111111,
              "#482878"
             ],
             [
              0.2222222222222222,
              "#3e4989"
             ],
             [
              0.3333333333333333,
              "#31688e"
             ],
             [
              0.4444444444444444,
              "#26828e"
             ],
             [
              0.5555555555555556,
              "#1f9e89"
             ],
             [
              0.6666666666666666,
              "#35b779"
             ],
             [
              0.7777777777777778,
              "#6ece58"
             ],
             [
              0.8888888888888888,
              "#b5de2b"
             ],
             [
              1,
              "#fde725"
             ]
            ],
            "type": "histogram2d"
           }
          ],
          "histogram2dcontour": [
           {
            "colorbar": {
             "outlinewidth": 1,
             "tickcolor": "rgb(36,36,36)",
             "ticks": "outside"
            },
            "colorscale": [
             [
              0,
              "#440154"
             ],
             [
              0.1111111111111111,
              "#482878"
             ],
             [
              0.2222222222222222,
              "#3e4989"
             ],
             [
              0.3333333333333333,
              "#31688e"
             ],
             [
              0.4444444444444444,
              "#26828e"
             ],
             [
              0.5555555555555556,
              "#1f9e89"
             ],
             [
              0.6666666666666666,
              "#35b779"
             ],
             [
              0.7777777777777778,
              "#6ece58"
             ],
             [
              0.8888888888888888,
              "#b5de2b"
             ],
             [
              1,
              "#fde725"
             ]
            ],
            "type": "histogram2dcontour"
           }
          ],
          "mesh3d": [
           {
            "colorbar": {
             "outlinewidth": 1,
             "tickcolor": "rgb(36,36,36)",
             "ticks": "outside"
            },
            "type": "mesh3d"
           }
          ],
          "parcoords": [
           {
            "line": {
             "colorbar": {
              "outlinewidth": 1,
              "tickcolor": "rgb(36,36,36)",
              "ticks": "outside"
             }
            },
            "type": "parcoords"
           }
          ],
          "pie": [
           {
            "automargin": true,
            "type": "pie"
           }
          ],
          "scatter": [
           {
            "marker": {
             "colorbar": {
              "outlinewidth": 1,
              "tickcolor": "rgb(36,36,36)",
              "ticks": "outside"
             }
            },
            "type": "scatter"
           }
          ],
          "scatter3d": [
           {
            "line": {
             "colorbar": {
              "outlinewidth": 1,
              "tickcolor": "rgb(36,36,36)",
              "ticks": "outside"
             }
            },
            "marker": {
             "colorbar": {
              "outlinewidth": 1,
              "tickcolor": "rgb(36,36,36)",
              "ticks": "outside"
             }
            },
            "type": "scatter3d"
           }
          ],
          "scattercarpet": [
           {
            "marker": {
             "colorbar": {
              "outlinewidth": 1,
              "tickcolor": "rgb(36,36,36)",
              "ticks": "outside"
             }
            },
            "type": "scattercarpet"
           }
          ],
          "scattergeo": [
           {
            "marker": {
             "colorbar": {
              "outlinewidth": 1,
              "tickcolor": "rgb(36,36,36)",
              "ticks": "outside"
             }
            },
            "type": "scattergeo"
           }
          ],
          "scattergl": [
           {
            "marker": {
             "colorbar": {
              "outlinewidth": 1,
              "tickcolor": "rgb(36,36,36)",
              "ticks": "outside"
             }
            },
            "type": "scattergl"
           }
          ],
          "scattermapbox": [
           {
            "marker": {
             "colorbar": {
              "outlinewidth": 1,
              "tickcolor": "rgb(36,36,36)",
              "ticks": "outside"
             }
            },
            "type": "scattermapbox"
           }
          ],
          "scatterpolar": [
           {
            "marker": {
             "colorbar": {
              "outlinewidth": 1,
              "tickcolor": "rgb(36,36,36)",
              "ticks": "outside"
             }
            },
            "type": "scatterpolar"
           }
          ],
          "scatterpolargl": [
           {
            "marker": {
             "colorbar": {
              "outlinewidth": 1,
              "tickcolor": "rgb(36,36,36)",
              "ticks": "outside"
             }
            },
            "type": "scatterpolargl"
           }
          ],
          "scatterternary": [
           {
            "marker": {
             "colorbar": {
              "outlinewidth": 1,
              "tickcolor": "rgb(36,36,36)",
              "ticks": "outside"
             }
            },
            "type": "scatterternary"
           }
          ],
          "surface": [
           {
            "colorbar": {
             "outlinewidth": 1,
             "tickcolor": "rgb(36,36,36)",
             "ticks": "outside"
            },
            "colorscale": [
             [
              0,
              "#440154"
             ],
             [
              0.1111111111111111,
              "#482878"
             ],
             [
              0.2222222222222222,
              "#3e4989"
             ],
             [
              0.3333333333333333,
              "#31688e"
             ],
             [
              0.4444444444444444,
              "#26828e"
             ],
             [
              0.5555555555555556,
              "#1f9e89"
             ],
             [
              0.6666666666666666,
              "#35b779"
             ],
             [
              0.7777777777777778,
              "#6ece58"
             ],
             [
              0.8888888888888888,
              "#b5de2b"
             ],
             [
              1,
              "#fde725"
             ]
            ],
            "type": "surface"
           }
          ],
          "table": [
           {
            "cells": {
             "fill": {
              "color": "rgb(237,237,237)"
             },
             "line": {
              "color": "white"
             }
            },
            "header": {
             "fill": {
              "color": "rgb(217,217,217)"
             },
             "line": {
              "color": "white"
             }
            },
            "type": "table"
           }
          ]
         },
         "layout": {
          "annotationdefaults": {
           "arrowhead": 0,
           "arrowwidth": 1
          },
          "autotypenumbers": "strict",
          "coloraxis": {
           "colorbar": {
            "outlinewidth": 1,
            "tickcolor": "rgb(36,36,36)",
            "ticks": "outside"
           }
          },
          "colorscale": {
           "diverging": [
            [
             0,
             "rgb(103,0,31)"
            ],
            [
             0.1,
             "rgb(178,24,43)"
            ],
            [
             0.2,
             "rgb(214,96,77)"
            ],
            [
             0.3,
             "rgb(244,165,130)"
            ],
            [
             0.4,
             "rgb(253,219,199)"
            ],
            [
             0.5,
             "rgb(247,247,247)"
            ],
            [
             0.6,
             "rgb(209,229,240)"
            ],
            [
             0.7,
             "rgb(146,197,222)"
            ],
            [
             0.8,
             "rgb(67,147,195)"
            ],
            [
             0.9,
             "rgb(33,102,172)"
            ],
            [
             1,
             "rgb(5,48,97)"
            ]
           ],
           "sequential": [
            [
             0,
             "#440154"
            ],
            [
             0.1111111111111111,
             "#482878"
            ],
            [
             0.2222222222222222,
             "#3e4989"
            ],
            [
             0.3333333333333333,
             "#31688e"
            ],
            [
             0.4444444444444444,
             "#26828e"
            ],
            [
             0.5555555555555556,
             "#1f9e89"
            ],
            [
             0.6666666666666666,
             "#35b779"
            ],
            [
             0.7777777777777778,
             "#6ece58"
            ],
            [
             0.8888888888888888,
             "#b5de2b"
            ],
            [
             1,
             "#fde725"
            ]
           ],
           "sequentialminus": [
            [
             0,
             "#440154"
            ],
            [
             0.1111111111111111,
             "#482878"
            ],
            [
             0.2222222222222222,
             "#3e4989"
            ],
            [
             0.3333333333333333,
             "#31688e"
            ],
            [
             0.4444444444444444,
             "#26828e"
            ],
            [
             0.5555555555555556,
             "#1f9e89"
            ],
            [
             0.6666666666666666,
             "#35b779"
            ],
            [
             0.7777777777777778,
             "#6ece58"
            ],
            [
             0.8888888888888888,
             "#b5de2b"
            ],
            [
             1,
             "#fde725"
            ]
           ]
          },
          "colorway": [
           "#1F77B4",
           "#FF7F0E",
           "#2CA02C",
           "#D62728",
           "#9467BD",
           "#8C564B",
           "#E377C2",
           "#7F7F7F",
           "#BCBD22",
           "#17BECF"
          ],
          "font": {
           "color": "rgb(36,36,36)"
          },
          "geo": {
           "bgcolor": "white",
           "lakecolor": "white",
           "landcolor": "white",
           "showlakes": true,
           "showland": true,
           "subunitcolor": "white"
          },
          "hoverlabel": {
           "align": "left"
          },
          "hovermode": "closest",
          "mapbox": {
           "style": "light"
          },
          "paper_bgcolor": "white",
          "plot_bgcolor": "white",
          "polar": {
           "angularaxis": {
            "gridcolor": "rgb(232,232,232)",
            "linecolor": "rgb(36,36,36)",
            "showgrid": false,
            "showline": true,
            "ticks": "outside"
           },
           "bgcolor": "white",
           "radialaxis": {
            "gridcolor": "rgb(232,232,232)",
            "linecolor": "rgb(36,36,36)",
            "showgrid": false,
            "showline": true,
            "ticks": "outside"
           }
          },
          "scene": {
           "xaxis": {
            "backgroundcolor": "white",
            "gridcolor": "rgb(232,232,232)",
            "gridwidth": 2,
            "linecolor": "rgb(36,36,36)",
            "showbackground": true,
            "showgrid": false,
            "showline": true,
            "ticks": "outside",
            "zeroline": false,
            "zerolinecolor": "rgb(36,36,36)"
           },
           "yaxis": {
            "backgroundcolor": "white",
            "gridcolor": "rgb(232,232,232)",
            "gridwidth": 2,
            "linecolor": "rgb(36,36,36)",
            "showbackground": true,
            "showgrid": false,
            "showline": true,
            "ticks": "outside",
            "zeroline": false,
            "zerolinecolor": "rgb(36,36,36)"
           },
           "zaxis": {
            "backgroundcolor": "white",
            "gridcolor": "rgb(232,232,232)",
            "gridwidth": 2,
            "linecolor": "rgb(36,36,36)",
            "showbackground": true,
            "showgrid": false,
            "showline": true,
            "ticks": "outside",
            "zeroline": false,
            "zerolinecolor": "rgb(36,36,36)"
           }
          },
          "shapedefaults": {
           "fillcolor": "black",
           "line": {
            "width": 0
           },
           "opacity": 0.3
          },
          "ternary": {
           "aaxis": {
            "gridcolor": "rgb(232,232,232)",
            "linecolor": "rgb(36,36,36)",
            "showgrid": false,
            "showline": true,
            "ticks": "outside"
           },
           "baxis": {
            "gridcolor": "rgb(232,232,232)",
            "linecolor": "rgb(36,36,36)",
            "showgrid": false,
            "showline": true,
            "ticks": "outside"
           },
           "bgcolor": "white",
           "caxis": {
            "gridcolor": "rgb(232,232,232)",
            "linecolor": "rgb(36,36,36)",
            "showgrid": false,
            "showline": true,
            "ticks": "outside"
           }
          },
          "title": {
           "x": 0.05
          },
          "xaxis": {
           "automargin": true,
           "gridcolor": "rgb(232,232,232)",
           "linecolor": "rgb(36,36,36)",
           "showgrid": false,
           "showline": true,
           "ticks": "outside",
           "title": {
            "standoff": 15
           },
           "zeroline": false,
           "zerolinecolor": "rgb(36,36,36)"
          },
          "yaxis": {
           "automargin": true,
           "gridcolor": "rgb(232,232,232)",
           "linecolor": "rgb(36,36,36)",
           "showgrid": false,
           "showline": true,
           "ticks": "outside",
           "title": {
            "standoff": 15
           },
           "zeroline": false,
           "zerolinecolor": "rgb(36,36,36)"
          }
         }
        },
        "title": {
         "text": "ON First time R>1"
        },
        "xaxis": {
         "title": {
          "text": "Epsilon"
         }
        },
        "yaxis": {
         "title": {
          "text": "Time (days)"
         }
        }
       }
      }
     },
     "metadata": {}
    }
   ],
   "source": [
    "# Plot time of first R_t > 1 \n",
    "fig = go.Figure()\n",
    "\n",
    "# Plot of incidences\n",
    "fig.add_trace(\n",
    "    go.Scatter(\n",
    "        x=large_epsilon_range,\n",
    "        y=first_time_r_more_than_1,\n",
    "        mode='lines',\n",
    "        name='Mean'\n",
    "    )\n",
    ")\n",
    "\n",
    "fig.add_trace(\n",
    "    go.Scatter(\n",
    "        x=large_epsilon_range,\n",
    "        y=first_time_r_more_than_1_LowerCI,\n",
    "        mode='lines',\n",
    "        name='Lower bound CI'\n",
    "    )\n",
    ")\n",
    "\n",
    "fig.add_trace(\n",
    "    go.Scatter(\n",
    "        x=large_epsilon_range,\n",
    "        y=first_time_r_more_than_1_UpperCI,\n",
    "        mode='lines',\n",
    "        name='Upper bound CI'\n",
    "    )\n",
    ")\n",
    "\n",
    "# Add axis labels\n",
    "fig.update_layout(\n",
    "    title='ON First time R>1',\n",
    "    template='simple_white',\n",
    "    xaxis_title='Epsilon',\n",
    "    yaxis_title='Time (days)'\n",
    ")\n",
    "\n",
    "\n",
    "#fig.write_image('ON-First-time-R-more-than-1.pdf')\n",
    "fig.show()"
   ]
  },
  {
   "cell_type": "code",
   "execution_count": 33,
   "metadata": {},
   "outputs": [
    {
     "output_type": "display_data",
     "data": {
      "application/vnd.plotly.v1+json": {
       "config": {
        "plotlyServerURL": "https://plot.ly"
       },
       "data": [
        {
         "mode": "lines",
         "name": "Mean",
         "type": "scatter",
         "x": [
          0.1,
          0.2,
          0.30000000000000004,
          0.4,
          0.5,
          0.6,
          0.7000000000000001,
          0.8,
          0.9,
          1,
          1.1,
          1.2000000000000002,
          1.3000000000000003,
          1.4000000000000001,
          1.5000000000000002,
          1.6,
          1.7000000000000002,
          1.8000000000000003,
          1.9000000000000001,
          2,
          2.1,
          2.2,
          2.3000000000000003,
          2.4000000000000004
         ],
         "y": [
          null,
          null,
          null,
          null,
          8,
          8,
          8,
          8,
          8,
          8,
          8,
          8,
          8,
          8,
          8,
          8,
          8,
          8,
          8,
          8,
          8,
          8,
          8,
          8
         ]
        },
        {
         "mode": "lines",
         "name": "Lower bound CI",
         "type": "scatter",
         "x": [
          0.1,
          0.2,
          0.30000000000000004,
          0.4,
          0.5,
          0.6,
          0.7000000000000001,
          0.8,
          0.9,
          1,
          1.1,
          1.2000000000000002,
          1.3000000000000003,
          1.4000000000000001,
          1.5000000000000002,
          1.6,
          1.7000000000000002,
          1.8000000000000003,
          1.9000000000000001,
          2,
          2.1,
          2.2,
          2.3000000000000003,
          2.4000000000000004
         ],
         "y": [
          8,
          8,
          8,
          8,
          8,
          8,
          8,
          8,
          8,
          8,
          8,
          8,
          8,
          8,
          8,
          8,
          8,
          8,
          8,
          8,
          8,
          8,
          8,
          8
         ]
        },
        {
         "mode": "lines",
         "name": "Upper bound CI",
         "type": "scatter",
         "x": [
          0.1,
          0.2,
          0.30000000000000004,
          0.4,
          0.5,
          0.6,
          0.7000000000000001,
          0.8,
          0.9,
          1,
          1.1,
          1.2000000000000002,
          1.3000000000000003,
          1.4000000000000001,
          1.5000000000000002,
          1.6,
          1.7000000000000002,
          1.8000000000000003,
          1.9000000000000001,
          2,
          2.1,
          2.2,
          2.3000000000000003,
          2.4000000000000004
         ],
         "y": [
          null,
          null,
          null,
          null,
          null,
          null,
          null,
          null,
          18,
          17,
          9,
          9,
          8,
          8,
          8,
          8,
          8,
          8,
          8,
          8,
          8,
          8,
          8,
          8
         ]
        }
       ],
       "layout": {
        "template": {
         "data": {
          "bar": [
           {
            "error_x": {
             "color": "rgb(36,36,36)"
            },
            "error_y": {
             "color": "rgb(36,36,36)"
            },
            "marker": {
             "line": {
              "color": "white",
              "width": 0.5
             }
            },
            "type": "bar"
           }
          ],
          "barpolar": [
           {
            "marker": {
             "line": {
              "color": "white",
              "width": 0.5
             }
            },
            "type": "barpolar"
           }
          ],
          "carpet": [
           {
            "aaxis": {
             "endlinecolor": "rgb(36,36,36)",
             "gridcolor": "white",
             "linecolor": "white",
             "minorgridcolor": "white",
             "startlinecolor": "rgb(36,36,36)"
            },
            "baxis": {
             "endlinecolor": "rgb(36,36,36)",
             "gridcolor": "white",
             "linecolor": "white",
             "minorgridcolor": "white",
             "startlinecolor": "rgb(36,36,36)"
            },
            "type": "carpet"
           }
          ],
          "choropleth": [
           {
            "colorbar": {
             "outlinewidth": 1,
             "tickcolor": "rgb(36,36,36)",
             "ticks": "outside"
            },
            "type": "choropleth"
           }
          ],
          "contour": [
           {
            "colorbar": {
             "outlinewidth": 1,
             "tickcolor": "rgb(36,36,36)",
             "ticks": "outside"
            },
            "colorscale": [
             [
              0,
              "#440154"
             ],
             [
              0.1111111111111111,
              "#482878"
             ],
             [
              0.2222222222222222,
              "#3e4989"
             ],
             [
              0.3333333333333333,
              "#31688e"
             ],
             [
              0.4444444444444444,
              "#26828e"
             ],
             [
              0.5555555555555556,
              "#1f9e89"
             ],
             [
              0.6666666666666666,
              "#35b779"
             ],
             [
              0.7777777777777778,
              "#6ece58"
             ],
             [
              0.8888888888888888,
              "#b5de2b"
             ],
             [
              1,
              "#fde725"
             ]
            ],
            "type": "contour"
           }
          ],
          "contourcarpet": [
           {
            "colorbar": {
             "outlinewidth": 1,
             "tickcolor": "rgb(36,36,36)",
             "ticks": "outside"
            },
            "type": "contourcarpet"
           }
          ],
          "heatmap": [
           {
            "colorbar": {
             "outlinewidth": 1,
             "tickcolor": "rgb(36,36,36)",
             "ticks": "outside"
            },
            "colorscale": [
             [
              0,
              "#440154"
             ],
             [
              0.1111111111111111,
              "#482878"
             ],
             [
              0.2222222222222222,
              "#3e4989"
             ],
             [
              0.3333333333333333,
              "#31688e"
             ],
             [
              0.4444444444444444,
              "#26828e"
             ],
             [
              0.5555555555555556,
              "#1f9e89"
             ],
             [
              0.6666666666666666,
              "#35b779"
             ],
             [
              0.7777777777777778,
              "#6ece58"
             ],
             [
              0.8888888888888888,
              "#b5de2b"
             ],
             [
              1,
              "#fde725"
             ]
            ],
            "type": "heatmap"
           }
          ],
          "heatmapgl": [
           {
            "colorbar": {
             "outlinewidth": 1,
             "tickcolor": "rgb(36,36,36)",
             "ticks": "outside"
            },
            "colorscale": [
             [
              0,
              "#440154"
             ],
             [
              0.1111111111111111,
              "#482878"
             ],
             [
              0.2222222222222222,
              "#3e4989"
             ],
             [
              0.3333333333333333,
              "#31688e"
             ],
             [
              0.4444444444444444,
              "#26828e"
             ],
             [
              0.5555555555555556,
              "#1f9e89"
             ],
             [
              0.6666666666666666,
              "#35b779"
             ],
             [
              0.7777777777777778,
              "#6ece58"
             ],
             [
              0.8888888888888888,
              "#b5de2b"
             ],
             [
              1,
              "#fde725"
             ]
            ],
            "type": "heatmapgl"
           }
          ],
          "histogram": [
           {
            "marker": {
             "line": {
              "color": "white",
              "width": 0.6
             }
            },
            "type": "histogram"
           }
          ],
          "histogram2d": [
           {
            "colorbar": {
             "outlinewidth": 1,
             "tickcolor": "rgb(36,36,36)",
             "ticks": "outside"
            },
            "colorscale": [
             [
              0,
              "#440154"
             ],
             [
              0.1111111111111111,
              "#482878"
             ],
             [
              0.2222222222222222,
              "#3e4989"
             ],
             [
              0.3333333333333333,
              "#31688e"
             ],
             [
              0.4444444444444444,
              "#26828e"
             ],
             [
              0.5555555555555556,
              "#1f9e89"
             ],
             [
              0.6666666666666666,
              "#35b779"
             ],
             [
              0.7777777777777778,
              "#6ece58"
             ],
             [
              0.8888888888888888,
              "#b5de2b"
             ],
             [
              1,
              "#fde725"
             ]
            ],
            "type": "histogram2d"
           }
          ],
          "histogram2dcontour": [
           {
            "colorbar": {
             "outlinewidth": 1,
             "tickcolor": "rgb(36,36,36)",
             "ticks": "outside"
            },
            "colorscale": [
             [
              0,
              "#440154"
             ],
             [
              0.1111111111111111,
              "#482878"
             ],
             [
              0.2222222222222222,
              "#3e4989"
             ],
             [
              0.3333333333333333,
              "#31688e"
             ],
             [
              0.4444444444444444,
              "#26828e"
             ],
             [
              0.5555555555555556,
              "#1f9e89"
             ],
             [
              0.6666666666666666,
              "#35b779"
             ],
             [
              0.7777777777777778,
              "#6ece58"
             ],
             [
              0.8888888888888888,
              "#b5de2b"
             ],
             [
              1,
              "#fde725"
             ]
            ],
            "type": "histogram2dcontour"
           }
          ],
          "mesh3d": [
           {
            "colorbar": {
             "outlinewidth": 1,
             "tickcolor": "rgb(36,36,36)",
             "ticks": "outside"
            },
            "type": "mesh3d"
           }
          ],
          "parcoords": [
           {
            "line": {
             "colorbar": {
              "outlinewidth": 1,
              "tickcolor": "rgb(36,36,36)",
              "ticks": "outside"
             }
            },
            "type": "parcoords"
           }
          ],
          "pie": [
           {
            "automargin": true,
            "type": "pie"
           }
          ],
          "scatter": [
           {
            "marker": {
             "colorbar": {
              "outlinewidth": 1,
              "tickcolor": "rgb(36,36,36)",
              "ticks": "outside"
             }
            },
            "type": "scatter"
           }
          ],
          "scatter3d": [
           {
            "line": {
             "colorbar": {
              "outlinewidth": 1,
              "tickcolor": "rgb(36,36,36)",
              "ticks": "outside"
             }
            },
            "marker": {
             "colorbar": {
              "outlinewidth": 1,
              "tickcolor": "rgb(36,36,36)",
              "ticks": "outside"
             }
            },
            "type": "scatter3d"
           }
          ],
          "scattercarpet": [
           {
            "marker": {
             "colorbar": {
              "outlinewidth": 1,
              "tickcolor": "rgb(36,36,36)",
              "ticks": "outside"
             }
            },
            "type": "scattercarpet"
           }
          ],
          "scattergeo": [
           {
            "marker": {
             "colorbar": {
              "outlinewidth": 1,
              "tickcolor": "rgb(36,36,36)",
              "ticks": "outside"
             }
            },
            "type": "scattergeo"
           }
          ],
          "scattergl": [
           {
            "marker": {
             "colorbar": {
              "outlinewidth": 1,
              "tickcolor": "rgb(36,36,36)",
              "ticks": "outside"
             }
            },
            "type": "scattergl"
           }
          ],
          "scattermapbox": [
           {
            "marker": {
             "colorbar": {
              "outlinewidth": 1,
              "tickcolor": "rgb(36,36,36)",
              "ticks": "outside"
             }
            },
            "type": "scattermapbox"
           }
          ],
          "scatterpolar": [
           {
            "marker": {
             "colorbar": {
              "outlinewidth": 1,
              "tickcolor": "rgb(36,36,36)",
              "ticks": "outside"
             }
            },
            "type": "scatterpolar"
           }
          ],
          "scatterpolargl": [
           {
            "marker": {
             "colorbar": {
              "outlinewidth": 1,
              "tickcolor": "rgb(36,36,36)",
              "ticks": "outside"
             }
            },
            "type": "scatterpolargl"
           }
          ],
          "scatterternary": [
           {
            "marker": {
             "colorbar": {
              "outlinewidth": 1,
              "tickcolor": "rgb(36,36,36)",
              "ticks": "outside"
             }
            },
            "type": "scatterternary"
           }
          ],
          "surface": [
           {
            "colorbar": {
             "outlinewidth": 1,
             "tickcolor": "rgb(36,36,36)",
             "ticks": "outside"
            },
            "colorscale": [
             [
              0,
              "#440154"
             ],
             [
              0.1111111111111111,
              "#482878"
             ],
             [
              0.2222222222222222,
              "#3e4989"
             ],
             [
              0.3333333333333333,
              "#31688e"
             ],
             [
              0.4444444444444444,
              "#26828e"
             ],
             [
              0.5555555555555556,
              "#1f9e89"
             ],
             [
              0.6666666666666666,
              "#35b779"
             ],
             [
              0.7777777777777778,
              "#6ece58"
             ],
             [
              0.8888888888888888,
              "#b5de2b"
             ],
             [
              1,
              "#fde725"
             ]
            ],
            "type": "surface"
           }
          ],
          "table": [
           {
            "cells": {
             "fill": {
              "color": "rgb(237,237,237)"
             },
             "line": {
              "color": "white"
             }
            },
            "header": {
             "fill": {
              "color": "rgb(217,217,217)"
             },
             "line": {
              "color": "white"
             }
            },
            "type": "table"
           }
          ]
         },
         "layout": {
          "annotationdefaults": {
           "arrowhead": 0,
           "arrowwidth": 1
          },
          "autotypenumbers": "strict",
          "coloraxis": {
           "colorbar": {
            "outlinewidth": 1,
            "tickcolor": "rgb(36,36,36)",
            "ticks": "outside"
           }
          },
          "colorscale": {
           "diverging": [
            [
             0,
             "rgb(103,0,31)"
            ],
            [
             0.1,
             "rgb(178,24,43)"
            ],
            [
             0.2,
             "rgb(214,96,77)"
            ],
            [
             0.3,
             "rgb(244,165,130)"
            ],
            [
             0.4,
             "rgb(253,219,199)"
            ],
            [
             0.5,
             "rgb(247,247,247)"
            ],
            [
             0.6,
             "rgb(209,229,240)"
            ],
            [
             0.7,
             "rgb(146,197,222)"
            ],
            [
             0.8,
             "rgb(67,147,195)"
            ],
            [
             0.9,
             "rgb(33,102,172)"
            ],
            [
             1,
             "rgb(5,48,97)"
            ]
           ],
           "sequential": [
            [
             0,
             "#440154"
            ],
            [
             0.1111111111111111,
             "#482878"
            ],
            [
             0.2222222222222222,
             "#3e4989"
            ],
            [
             0.3333333333333333,
             "#31688e"
            ],
            [
             0.4444444444444444,
             "#26828e"
            ],
            [
             0.5555555555555556,
             "#1f9e89"
            ],
            [
             0.6666666666666666,
             "#35b779"
            ],
            [
             0.7777777777777778,
             "#6ece58"
            ],
            [
             0.8888888888888888,
             "#b5de2b"
            ],
            [
             1,
             "#fde725"
            ]
           ],
           "sequentialminus": [
            [
             0,
             "#440154"
            ],
            [
             0.1111111111111111,
             "#482878"
            ],
            [
             0.2222222222222222,
             "#3e4989"
            ],
            [
             0.3333333333333333,
             "#31688e"
            ],
            [
             0.4444444444444444,
             "#26828e"
            ],
            [
             0.5555555555555556,
             "#1f9e89"
            ],
            [
             0.6666666666666666,
             "#35b779"
            ],
            [
             0.7777777777777778,
             "#6ece58"
            ],
            [
             0.8888888888888888,
             "#b5de2b"
            ],
            [
             1,
             "#fde725"
            ]
           ]
          },
          "colorway": [
           "#1F77B4",
           "#FF7F0E",
           "#2CA02C",
           "#D62728",
           "#9467BD",
           "#8C564B",
           "#E377C2",
           "#7F7F7F",
           "#BCBD22",
           "#17BECF"
          ],
          "font": {
           "color": "rgb(36,36,36)"
          },
          "geo": {
           "bgcolor": "white",
           "lakecolor": "white",
           "landcolor": "white",
           "showlakes": true,
           "showland": true,
           "subunitcolor": "white"
          },
          "hoverlabel": {
           "align": "left"
          },
          "hovermode": "closest",
          "mapbox": {
           "style": "light"
          },
          "paper_bgcolor": "white",
          "plot_bgcolor": "white",
          "polar": {
           "angularaxis": {
            "gridcolor": "rgb(232,232,232)",
            "linecolor": "rgb(36,36,36)",
            "showgrid": false,
            "showline": true,
            "ticks": "outside"
           },
           "bgcolor": "white",
           "radialaxis": {
            "gridcolor": "rgb(232,232,232)",
            "linecolor": "rgb(36,36,36)",
            "showgrid": false,
            "showline": true,
            "ticks": "outside"
           }
          },
          "scene": {
           "xaxis": {
            "backgroundcolor": "white",
            "gridcolor": "rgb(232,232,232)",
            "gridwidth": 2,
            "linecolor": "rgb(36,36,36)",
            "showbackground": true,
            "showgrid": false,
            "showline": true,
            "ticks": "outside",
            "zeroline": false,
            "zerolinecolor": "rgb(36,36,36)"
           },
           "yaxis": {
            "backgroundcolor": "white",
            "gridcolor": "rgb(232,232,232)",
            "gridwidth": 2,
            "linecolor": "rgb(36,36,36)",
            "showbackground": true,
            "showgrid": false,
            "showline": true,
            "ticks": "outside",
            "zeroline": false,
            "zerolinecolor": "rgb(36,36,36)"
           },
           "zaxis": {
            "backgroundcolor": "white",
            "gridcolor": "rgb(232,232,232)",
            "gridwidth": 2,
            "linecolor": "rgb(36,36,36)",
            "showbackground": true,
            "showgrid": false,
            "showline": true,
            "ticks": "outside",
            "zeroline": false,
            "zerolinecolor": "rgb(36,36,36)"
           }
          },
          "shapedefaults": {
           "fillcolor": "black",
           "line": {
            "width": 0
           },
           "opacity": 0.3
          },
          "ternary": {
           "aaxis": {
            "gridcolor": "rgb(232,232,232)",
            "linecolor": "rgb(36,36,36)",
            "showgrid": false,
            "showline": true,
            "ticks": "outside"
           },
           "baxis": {
            "gridcolor": "rgb(232,232,232)",
            "linecolor": "rgb(36,36,36)",
            "showgrid": false,
            "showline": true,
            "ticks": "outside"
           },
           "bgcolor": "white",
           "caxis": {
            "gridcolor": "rgb(232,232,232)",
            "linecolor": "rgb(36,36,36)",
            "showgrid": false,
            "showline": true,
            "ticks": "outside"
           }
          },
          "title": {
           "x": 0.05
          },
          "xaxis": {
           "automargin": true,
           "gridcolor": "rgb(232,232,232)",
           "linecolor": "rgb(36,36,36)",
           "showgrid": false,
           "showline": true,
           "ticks": "outside",
           "title": {
            "standoff": 15
           },
           "zeroline": false,
           "zerolinecolor": "rgb(36,36,36)"
          },
          "yaxis": {
           "automargin": true,
           "gridcolor": "rgb(232,232,232)",
           "linecolor": "rgb(36,36,36)",
           "showgrid": false,
           "showline": true,
           "ticks": "outside",
           "title": {
            "standoff": 15
           },
           "zeroline": false,
           "zerolinecolor": "rgb(36,36,36)"
          }
         }
        },
        "title": {
         "text": "ON First time R<1"
        },
        "xaxis": {
         "title": {
          "text": "Epsilon"
         }
        },
        "yaxis": {
         "title": {
          "text": "Time (days)"
         }
        }
       }
      }
     },
     "metadata": {}
    }
   ],
   "source": [
    "# Plot time of first R_t < 1\n",
    "# Plot time of first R_t > 1 \n",
    "fig = go.Figure()\n",
    "\n",
    "# Plot of incidences\n",
    "fig.add_trace(\n",
    "    go.Scatter(\n",
    "        x=large_epsilon_range,\n",
    "        y=first_time_r_less_than_1,\n",
    "        mode='lines',\n",
    "        name='Mean'\n",
    "    )\n",
    ")\n",
    "\n",
    "fig.add_trace(\n",
    "    go.Scatter(\n",
    "        x=large_epsilon_range,\n",
    "        y=first_time_r_less_than_1_LowerCI,\n",
    "        mode='lines',\n",
    "        name='Lower bound CI'\n",
    "    )\n",
    ")\n",
    "\n",
    "fig.add_trace(\n",
    "    go.Scatter(\n",
    "        x=large_epsilon_range,\n",
    "        y=first_time_r_less_than_1_UpperCI,\n",
    "        mode='lines',\n",
    "        name='Upper bound CI'\n",
    "    )\n",
    ")\n",
    "\n",
    "# Add axis labels\n",
    "fig.update_layout(\n",
    "    title='ON First time R<1',\n",
    "    template='simple_white',\n",
    "    xaxis_title='Epsilon',\n",
    "    yaxis_title='Time (days)'\n",
    ")\n",
    "\n",
    "\n",
    "#fig.write_image('ON-First-time-R_less_than_1.pdf')\n",
    "fig.show()"
   ]
  },
  {
   "cell_type": "code",
   "execution_count": 34,
   "metadata": {},
   "outputs": [
    {
     "output_type": "display_data",
     "data": {
      "application/vnd.plotly.v1+json": {
       "config": {
        "plotlyServerURL": "https://plot.ly"
       },
       "data": [
        {
         "mode": "lines",
         "name": "Mean",
         "type": "scatter",
         "x": [
          0.1,
          0.2,
          0.30000000000000004,
          0.4,
          0.5,
          0.6,
          0.7000000000000001,
          0.8,
          0.9,
          1,
          1.1,
          1.2000000000000002,
          1.3000000000000003,
          1.4000000000000001,
          1.5000000000000002,
          1.6,
          1.7000000000000002,
          1.8000000000000003,
          1.9000000000000001,
          2,
          2.1,
          2.2,
          2.3000000000000003,
          2.4000000000000004
         ],
         "y": [
          1,
          1,
          1,
          1,
          0.9545454545454546,
          0.9090909090909091,
          0.8181818181818182,
          0.7727272727272727,
          0.75,
          0.75,
          0.6590909090909091,
          0.6590909090909091,
          0.5681818181818182,
          0.5227272727272727,
          0.4772727272727273,
          0.4318181818181818,
          0.38636363636363635,
          0.3409090909090909,
          0.29545454545454547,
          0.22727272727272727,
          0.18181818181818182,
          0.1590909090909091,
          0.1590909090909091,
          0.13636363636363635
         ]
        },
        {
         "mode": "lines",
         "name": "Lower bound CI",
         "type": "scatter",
         "x": [
          0.1,
          0.2,
          0.30000000000000004,
          0.4,
          0.5,
          0.6,
          0.7000000000000001,
          0.8,
          0.9,
          1,
          1.1,
          1.2000000000000002,
          1.3000000000000003,
          1.4000000000000001,
          1.5000000000000002,
          1.6,
          1.7000000000000002,
          1.8000000000000003,
          1.9000000000000001,
          2,
          2.1,
          2.2,
          2.3000000000000003,
          2.4000000000000004
         ],
         "y": [
          0.9545454545454546,
          0.9318181818181818,
          0.9318181818181818,
          0.8181818181818182,
          0.7727272727272727,
          0.7045454545454546,
          0.6818181818181818,
          0.5909090909090909,
          0.5681818181818182,
          0.5,
          0.45454545454545453,
          0.45454545454545453,
          0.38636363636363635,
          0.3409090909090909,
          0.25,
          0.20454545454545456,
          0.1590909090909091,
          0.1590909090909091,
          0.13636363636363635,
          0.13636363636363635,
          0.13636363636363635,
          0.13636363636363635,
          0.11363636363636363,
          0.11363636363636363
         ]
        },
        {
         "mode": "lines",
         "name": "Upper bound CI",
         "type": "scatter",
         "x": [
          0.1,
          0.2,
          0.30000000000000004,
          0.4,
          0.5,
          0.6,
          0.7000000000000001,
          0.8,
          0.9,
          1,
          1.1,
          1.2000000000000002,
          1.3000000000000003,
          1.4000000000000001,
          1.5000000000000002,
          1.6,
          1.7000000000000002,
          1.8000000000000003,
          1.9000000000000001,
          2,
          2.1,
          2.2,
          2.3000000000000003,
          2.4000000000000004
         ],
         "y": [
          1,
          1,
          1,
          1,
          1,
          1,
          1,
          1,
          0.9545454545454546,
          0.9090909090909091,
          0.8409090909090909,
          0.7954545454545454,
          0.75,
          0.7272727272727273,
          0.7272727272727273,
          0.6818181818181818,
          0.6363636363636364,
          0.5681818181818182,
          0.5454545454545454,
          0.5,
          0.4772727272727273,
          0.4318181818181818,
          0.3181818181818182,
          0.29545454545454547
         ]
        }
       ],
       "layout": {
        "template": {
         "data": {
          "bar": [
           {
            "error_x": {
             "color": "rgb(36,36,36)"
            },
            "error_y": {
             "color": "rgb(36,36,36)"
            },
            "marker": {
             "line": {
              "color": "white",
              "width": 0.5
             }
            },
            "type": "bar"
           }
          ],
          "barpolar": [
           {
            "marker": {
             "line": {
              "color": "white",
              "width": 0.5
             }
            },
            "type": "barpolar"
           }
          ],
          "carpet": [
           {
            "aaxis": {
             "endlinecolor": "rgb(36,36,36)",
             "gridcolor": "white",
             "linecolor": "white",
             "minorgridcolor": "white",
             "startlinecolor": "rgb(36,36,36)"
            },
            "baxis": {
             "endlinecolor": "rgb(36,36,36)",
             "gridcolor": "white",
             "linecolor": "white",
             "minorgridcolor": "white",
             "startlinecolor": "rgb(36,36,36)"
            },
            "type": "carpet"
           }
          ],
          "choropleth": [
           {
            "colorbar": {
             "outlinewidth": 1,
             "tickcolor": "rgb(36,36,36)",
             "ticks": "outside"
            },
            "type": "choropleth"
           }
          ],
          "contour": [
           {
            "colorbar": {
             "outlinewidth": 1,
             "tickcolor": "rgb(36,36,36)",
             "ticks": "outside"
            },
            "colorscale": [
             [
              0,
              "#440154"
             ],
             [
              0.1111111111111111,
              "#482878"
             ],
             [
              0.2222222222222222,
              "#3e4989"
             ],
             [
              0.3333333333333333,
              "#31688e"
             ],
             [
              0.4444444444444444,
              "#26828e"
             ],
             [
              0.5555555555555556,
              "#1f9e89"
             ],
             [
              0.6666666666666666,
              "#35b779"
             ],
             [
              0.7777777777777778,
              "#6ece58"
             ],
             [
              0.8888888888888888,
              "#b5de2b"
             ],
             [
              1,
              "#fde725"
             ]
            ],
            "type": "contour"
           }
          ],
          "contourcarpet": [
           {
            "colorbar": {
             "outlinewidth": 1,
             "tickcolor": "rgb(36,36,36)",
             "ticks": "outside"
            },
            "type": "contourcarpet"
           }
          ],
          "heatmap": [
           {
            "colorbar": {
             "outlinewidth": 1,
             "tickcolor": "rgb(36,36,36)",
             "ticks": "outside"
            },
            "colorscale": [
             [
              0,
              "#440154"
             ],
             [
              0.1111111111111111,
              "#482878"
             ],
             [
              0.2222222222222222,
              "#3e4989"
             ],
             [
              0.3333333333333333,
              "#31688e"
             ],
             [
              0.4444444444444444,
              "#26828e"
             ],
             [
              0.5555555555555556,
              "#1f9e89"
             ],
             [
              0.6666666666666666,
              "#35b779"
             ],
             [
              0.7777777777777778,
              "#6ece58"
             ],
             [
              0.8888888888888888,
              "#b5de2b"
             ],
             [
              1,
              "#fde725"
             ]
            ],
            "type": "heatmap"
           }
          ],
          "heatmapgl": [
           {
            "colorbar": {
             "outlinewidth": 1,
             "tickcolor": "rgb(36,36,36)",
             "ticks": "outside"
            },
            "colorscale": [
             [
              0,
              "#440154"
             ],
             [
              0.1111111111111111,
              "#482878"
             ],
             [
              0.2222222222222222,
              "#3e4989"
             ],
             [
              0.3333333333333333,
              "#31688e"
             ],
             [
              0.4444444444444444,
              "#26828e"
             ],
             [
              0.5555555555555556,
              "#1f9e89"
             ],
             [
              0.6666666666666666,
              "#35b779"
             ],
             [
              0.7777777777777778,
              "#6ece58"
             ],
             [
              0.8888888888888888,
              "#b5de2b"
             ],
             [
              1,
              "#fde725"
             ]
            ],
            "type": "heatmapgl"
           }
          ],
          "histogram": [
           {
            "marker": {
             "line": {
              "color": "white",
              "width": 0.6
             }
            },
            "type": "histogram"
           }
          ],
          "histogram2d": [
           {
            "colorbar": {
             "outlinewidth": 1,
             "tickcolor": "rgb(36,36,36)",
             "ticks": "outside"
            },
            "colorscale": [
             [
              0,
              "#440154"
             ],
             [
              0.1111111111111111,
              "#482878"
             ],
             [
              0.2222222222222222,
              "#3e4989"
             ],
             [
              0.3333333333333333,
              "#31688e"
             ],
             [
              0.4444444444444444,
              "#26828e"
             ],
             [
              0.5555555555555556,
              "#1f9e89"
             ],
             [
              0.6666666666666666,
              "#35b779"
             ],
             [
              0.7777777777777778,
              "#6ece58"
             ],
             [
              0.8888888888888888,
              "#b5de2b"
             ],
             [
              1,
              "#fde725"
             ]
            ],
            "type": "histogram2d"
           }
          ],
          "histogram2dcontour": [
           {
            "colorbar": {
             "outlinewidth": 1,
             "tickcolor": "rgb(36,36,36)",
             "ticks": "outside"
            },
            "colorscale": [
             [
              0,
              "#440154"
             ],
             [
              0.1111111111111111,
              "#482878"
             ],
             [
              0.2222222222222222,
              "#3e4989"
             ],
             [
              0.3333333333333333,
              "#31688e"
             ],
             [
              0.4444444444444444,
              "#26828e"
             ],
             [
              0.5555555555555556,
              "#1f9e89"
             ],
             [
              0.6666666666666666,
              "#35b779"
             ],
             [
              0.7777777777777778,
              "#6ece58"
             ],
             [
              0.8888888888888888,
              "#b5de2b"
             ],
             [
              1,
              "#fde725"
             ]
            ],
            "type": "histogram2dcontour"
           }
          ],
          "mesh3d": [
           {
            "colorbar": {
             "outlinewidth": 1,
             "tickcolor": "rgb(36,36,36)",
             "ticks": "outside"
            },
            "type": "mesh3d"
           }
          ],
          "parcoords": [
           {
            "line": {
             "colorbar": {
              "outlinewidth": 1,
              "tickcolor": "rgb(36,36,36)",
              "ticks": "outside"
             }
            },
            "type": "parcoords"
           }
          ],
          "pie": [
           {
            "automargin": true,
            "type": "pie"
           }
          ],
          "scatter": [
           {
            "marker": {
             "colorbar": {
              "outlinewidth": 1,
              "tickcolor": "rgb(36,36,36)",
              "ticks": "outside"
             }
            },
            "type": "scatter"
           }
          ],
          "scatter3d": [
           {
            "line": {
             "colorbar": {
              "outlinewidth": 1,
              "tickcolor": "rgb(36,36,36)",
              "ticks": "outside"
             }
            },
            "marker": {
             "colorbar": {
              "outlinewidth": 1,
              "tickcolor": "rgb(36,36,36)",
              "ticks": "outside"
             }
            },
            "type": "scatter3d"
           }
          ],
          "scattercarpet": [
           {
            "marker": {
             "colorbar": {
              "outlinewidth": 1,
              "tickcolor": "rgb(36,36,36)",
              "ticks": "outside"
             }
            },
            "type": "scattercarpet"
           }
          ],
          "scattergeo": [
           {
            "marker": {
             "colorbar": {
              "outlinewidth": 1,
              "tickcolor": "rgb(36,36,36)",
              "ticks": "outside"
             }
            },
            "type": "scattergeo"
           }
          ],
          "scattergl": [
           {
            "marker": {
             "colorbar": {
              "outlinewidth": 1,
              "tickcolor": "rgb(36,36,36)",
              "ticks": "outside"
             }
            },
            "type": "scattergl"
           }
          ],
          "scattermapbox": [
           {
            "marker": {
             "colorbar": {
              "outlinewidth": 1,
              "tickcolor": "rgb(36,36,36)",
              "ticks": "outside"
             }
            },
            "type": "scattermapbox"
           }
          ],
          "scatterpolar": [
           {
            "marker": {
             "colorbar": {
              "outlinewidth": 1,
              "tickcolor": "rgb(36,36,36)",
              "ticks": "outside"
             }
            },
            "type": "scatterpolar"
           }
          ],
          "scatterpolargl": [
           {
            "marker": {
             "colorbar": {
              "outlinewidth": 1,
              "tickcolor": "rgb(36,36,36)",
              "ticks": "outside"
             }
            },
            "type": "scatterpolargl"
           }
          ],
          "scatterternary": [
           {
            "marker": {
             "colorbar": {
              "outlinewidth": 1,
              "tickcolor": "rgb(36,36,36)",
              "ticks": "outside"
             }
            },
            "type": "scatterternary"
           }
          ],
          "surface": [
           {
            "colorbar": {
             "outlinewidth": 1,
             "tickcolor": "rgb(36,36,36)",
             "ticks": "outside"
            },
            "colorscale": [
             [
              0,
              "#440154"
             ],
             [
              0.1111111111111111,
              "#482878"
             ],
             [
              0.2222222222222222,
              "#3e4989"
             ],
             [
              0.3333333333333333,
              "#31688e"
             ],
             [
              0.4444444444444444,
              "#26828e"
             ],
             [
              0.5555555555555556,
              "#1f9e89"
             ],
             [
              0.6666666666666666,
              "#35b779"
             ],
             [
              0.7777777777777778,
              "#6ece58"
             ],
             [
              0.8888888888888888,
              "#b5de2b"
             ],
             [
              1,
              "#fde725"
             ]
            ],
            "type": "surface"
           }
          ],
          "table": [
           {
            "cells": {
             "fill": {
              "color": "rgb(237,237,237)"
             },
             "line": {
              "color": "white"
             }
            },
            "header": {
             "fill": {
              "color": "rgb(217,217,217)"
             },
             "line": {
              "color": "white"
             }
            },
            "type": "table"
           }
          ]
         },
         "layout": {
          "annotationdefaults": {
           "arrowhead": 0,
           "arrowwidth": 1
          },
          "autotypenumbers": "strict",
          "coloraxis": {
           "colorbar": {
            "outlinewidth": 1,
            "tickcolor": "rgb(36,36,36)",
            "ticks": "outside"
           }
          },
          "colorscale": {
           "diverging": [
            [
             0,
             "rgb(103,0,31)"
            ],
            [
             0.1,
             "rgb(178,24,43)"
            ],
            [
             0.2,
             "rgb(214,96,77)"
            ],
            [
             0.3,
             "rgb(244,165,130)"
            ],
            [
             0.4,
             "rgb(253,219,199)"
            ],
            [
             0.5,
             "rgb(247,247,247)"
            ],
            [
             0.6,
             "rgb(209,229,240)"
            ],
            [
             0.7,
             "rgb(146,197,222)"
            ],
            [
             0.8,
             "rgb(67,147,195)"
            ],
            [
             0.9,
             "rgb(33,102,172)"
            ],
            [
             1,
             "rgb(5,48,97)"
            ]
           ],
           "sequential": [
            [
             0,
             "#440154"
            ],
            [
             0.1111111111111111,
             "#482878"
            ],
            [
             0.2222222222222222,
             "#3e4989"
            ],
            [
             0.3333333333333333,
             "#31688e"
            ],
            [
             0.4444444444444444,
             "#26828e"
            ],
            [
             0.5555555555555556,
             "#1f9e89"
            ],
            [
             0.6666666666666666,
             "#35b779"
            ],
            [
             0.7777777777777778,
             "#6ece58"
            ],
            [
             0.8888888888888888,
             "#b5de2b"
            ],
            [
             1,
             "#fde725"
            ]
           ],
           "sequentialminus": [
            [
             0,
             "#440154"
            ],
            [
             0.1111111111111111,
             "#482878"
            ],
            [
             0.2222222222222222,
             "#3e4989"
            ],
            [
             0.3333333333333333,
             "#31688e"
            ],
            [
             0.4444444444444444,
             "#26828e"
            ],
            [
             0.5555555555555556,
             "#1f9e89"
            ],
            [
             0.6666666666666666,
             "#35b779"
            ],
            [
             0.7777777777777778,
             "#6ece58"
            ],
            [
             0.8888888888888888,
             "#b5de2b"
            ],
            [
             1,
             "#fde725"
            ]
           ]
          },
          "colorway": [
           "#1F77B4",
           "#FF7F0E",
           "#2CA02C",
           "#D62728",
           "#9467BD",
           "#8C564B",
           "#E377C2",
           "#7F7F7F",
           "#BCBD22",
           "#17BECF"
          ],
          "font": {
           "color": "rgb(36,36,36)"
          },
          "geo": {
           "bgcolor": "white",
           "lakecolor": "white",
           "landcolor": "white",
           "showlakes": true,
           "showland": true,
           "subunitcolor": "white"
          },
          "hoverlabel": {
           "align": "left"
          },
          "hovermode": "closest",
          "mapbox": {
           "style": "light"
          },
          "paper_bgcolor": "white",
          "plot_bgcolor": "white",
          "polar": {
           "angularaxis": {
            "gridcolor": "rgb(232,232,232)",
            "linecolor": "rgb(36,36,36)",
            "showgrid": false,
            "showline": true,
            "ticks": "outside"
           },
           "bgcolor": "white",
           "radialaxis": {
            "gridcolor": "rgb(232,232,232)",
            "linecolor": "rgb(36,36,36)",
            "showgrid": false,
            "showline": true,
            "ticks": "outside"
           }
          },
          "scene": {
           "xaxis": {
            "backgroundcolor": "white",
            "gridcolor": "rgb(232,232,232)",
            "gridwidth": 2,
            "linecolor": "rgb(36,36,36)",
            "showbackground": true,
            "showgrid": false,
            "showline": true,
            "ticks": "outside",
            "zeroline": false,
            "zerolinecolor": "rgb(36,36,36)"
           },
           "yaxis": {
            "backgroundcolor": "white",
            "gridcolor": "rgb(232,232,232)",
            "gridwidth": 2,
            "linecolor": "rgb(36,36,36)",
            "showbackground": true,
            "showgrid": false,
            "showline": true,
            "ticks": "outside",
            "zeroline": false,
            "zerolinecolor": "rgb(36,36,36)"
           },
           "zaxis": {
            "backgroundcolor": "white",
            "gridcolor": "rgb(232,232,232)",
            "gridwidth": 2,
            "linecolor": "rgb(36,36,36)",
            "showbackground": true,
            "showgrid": false,
            "showline": true,
            "ticks": "outside",
            "zeroline": false,
            "zerolinecolor": "rgb(36,36,36)"
           }
          },
          "shapedefaults": {
           "fillcolor": "black",
           "line": {
            "width": 0
           },
           "opacity": 0.3
          },
          "ternary": {
           "aaxis": {
            "gridcolor": "rgb(232,232,232)",
            "linecolor": "rgb(36,36,36)",
            "showgrid": false,
            "showline": true,
            "ticks": "outside"
           },
           "baxis": {
            "gridcolor": "rgb(232,232,232)",
            "linecolor": "rgb(36,36,36)",
            "showgrid": false,
            "showline": true,
            "ticks": "outside"
           },
           "bgcolor": "white",
           "caxis": {
            "gridcolor": "rgb(232,232,232)",
            "linecolor": "rgb(36,36,36)",
            "showgrid": false,
            "showline": true,
            "ticks": "outside"
           }
          },
          "title": {
           "x": 0.05
          },
          "xaxis": {
           "automargin": true,
           "gridcolor": "rgb(232,232,232)",
           "linecolor": "rgb(36,36,36)",
           "showgrid": false,
           "showline": true,
           "ticks": "outside",
           "title": {
            "standoff": 15
           },
           "zeroline": false,
           "zerolinecolor": "rgb(36,36,36)"
          },
          "yaxis": {
           "automargin": true,
           "gridcolor": "rgb(232,232,232)",
           "linecolor": "rgb(36,36,36)",
           "showgrid": false,
           "showline": true,
           "ticks": "outside",
           "title": {
            "standoff": 15
           },
           "zeroline": false,
           "zerolinecolor": "rgb(36,36,36)"
          }
         }
        },
        "title": {
         "text": "ON Proportion of time R>1"
        },
        "xaxis": {
         "title": {
          "text": "Epsilon"
         }
        },
        "yaxis": {
         "title": {
          "text": "Time (days)"
         }
        }
       }
      }
     },
     "metadata": {}
    }
   ],
   "source": [
    "# Plot proportion of time R_t > 1\n",
    "# Plot time of first R_t > 1 \n",
    "fig = go.Figure()\n",
    "\n",
    "# Plot of incidences\n",
    "fig.add_trace(\n",
    "    go.Scatter(\n",
    "        x=large_epsilon_range,\n",
    "        y=proportion_time_r_more_than_1,\n",
    "        mode='lines',\n",
    "        name='Mean'\n",
    "    )\n",
    ")\n",
    "\n",
    "fig.add_trace(\n",
    "    go.Scatter(\n",
    "        x=large_epsilon_range,\n",
    "        y=proportion_time_r_more_than_1_LowerCI,\n",
    "        mode='lines',\n",
    "        name='Lower bound CI'\n",
    "    )\n",
    ")\n",
    "\n",
    "fig.add_trace(\n",
    "    go.Scatter(\n",
    "        x=large_epsilon_range,\n",
    "        y=proportion_time_r_more_than_1_UpperCI,\n",
    "        mode='lines',\n",
    "        name='Upper bound CI'\n",
    "    )\n",
    ")\n",
    "\n",
    "# Add axis labels\n",
    "fig.update_layout(\n",
    "    title='ON Proportion of time R>1',\n",
    "    template='simple_white',\n",
    "    xaxis_title='Epsilon',\n",
    "    yaxis_title='Time (days)'\n",
    ")\n",
    "\n",
    "\n",
    "#fig.write_image('ON-Proportion-time-R_more_than_1.pdf')\n",
    "fig.show()"
   ]
  },
  {
   "cell_type": "code",
   "execution_count": null,
   "metadata": {},
   "outputs": [],
   "source": []
  }
 ]
}