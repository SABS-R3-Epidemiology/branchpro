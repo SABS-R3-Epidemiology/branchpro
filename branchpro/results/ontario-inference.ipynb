{
 "metadata": {
  "language_info": {
   "codemirror_mode": {
    "name": "ipython",
    "version": 3
   },
   "file_extension": ".py",
   "mimetype": "text/x-python",
   "name": "python",
   "nbconvert_exporter": "python",
   "pygments_lexer": "ipython3",
   "version": "3.8.5"
  },
  "orig_nbformat": 2,
  "kernelspec": {
   "name": "python3",
   "display_name": "Python 3.8.5 64-bit ('base': conda)",
   "metadata": {
    "interpreter": {
     "hash": "34783718b96b00301f03fbc7cc717743f1d89135027a4004f1427440c34696d4"
    }
   }
  }
 },
 "nbformat": 4,
 "nbformat_minor": 2,
 "cells": [
  {
   "source": [
    "# Inference on Australia data and observe effects of epsilon"
   ],
   "cell_type": "markdown",
   "metadata": {}
  },
  {
   "source": [
    "## Load all information and modify them to the correct format"
   ],
   "cell_type": "markdown",
   "metadata": {}
  },
  {
   "cell_type": "code",
   "execution_count": 1,
   "metadata": {},
   "outputs": [],
   "source": [
    "# Import libraries\n",
    "import numpy as np\n",
    "import math\n",
    "import branchpro\n",
    "import scipy.stats\n",
    "import matplotlib\n",
    "import plotly.graph_objects as go\n",
    "from matplotlib import pyplot as plt\n",
    "import os\n",
    "import pandas as pd\n"
   ]
  },
  {
   "cell_type": "code",
   "execution_count": 2,
   "metadata": {},
   "outputs": [],
   "source": [
    "# Read serial interval\n",
    "si_file = 'si-epinow'\n",
    "path = os.path.join('../data_library/serial_interval', '{}.csv'.format(si_file))\n",
    "serial_interval = pd.read_csv(path, header=None)\n",
    "serial_interval = serial_interval.fillna(0)\n",
    "serial_intervals = serial_interval.values.T"
   ]
  },
  {
   "cell_type": "code",
   "execution_count": 3,
   "metadata": {},
   "outputs": [],
   "source": [
    "# Read Ontario data\n",
    "path = os.path.join('../data_library/covid_ontario/ON.csv')\n",
    "data = pd.read_csv(path)[:51]"
   ]
  },
  {
   "cell_type": "code",
   "execution_count": 4,
   "metadata": {},
   "outputs": [],
   "source": [
    "time_key = 'Time'\n",
    "num_timepoints = max(data[time_key])\n",
    "data_times = data[time_key]\n",
    "\n",
    "# Pad with zeros the time points where we have no information on\n",
    "# the number of incidences\n",
    "padded_inc_data = data.set_index(time_key).reindex(\n",
    "    range(\n",
    "        1, max(data_times)+1)\n",
    "        ).fillna(0).reset_index()\n",
    "locally_infected_cases = padded_inc_data['Incidence Number']\n",
    "imported_cases = padded_inc_data['Imported Cases']\n",
    "\n",
    "start_times = np.arange(1, num_timepoints+1, dtype=int)\n",
    "times = np.arange(num_timepoints+1)"
   ]
  },
  {
   "cell_type": "code",
   "execution_count": 5,
   "metadata": {},
   "outputs": [
    {
     "output_type": "display_data",
     "data": {
      "application/vnd.plotly.v1+json": {
       "config": {
        "plotlyServerURL": "https://plot.ly"
       },
       "data": [
        {
         "name": "Local Incidences",
         "type": "bar",
         "x": [
          0,
          1,
          2,
          3,
          4,
          5,
          6,
          7,
          8,
          9,
          10,
          11,
          12,
          13,
          14,
          15,
          16,
          17,
          18,
          19,
          20,
          21,
          22,
          23,
          24,
          25,
          26,
          27,
          28,
          29,
          30,
          31,
          32,
          33,
          34,
          35,
          36,
          37,
          38,
          39,
          40,
          41,
          42,
          43,
          44,
          45,
          46,
          47,
          48,
          49,
          50,
          51
         ],
         "y": [
          0,
          0,
          0,
          0,
          0,
          1,
          0,
          1,
          1,
          3,
          7,
          11,
          10,
          7,
          5,
          19,
          17,
          28,
          37,
          52,
          44,
          58,
          95,
          111,
          92,
          173,
          201,
          157,
          176,
          323,
          311,
          367,
          378,
          404,
          317,
          343,
          440,
          433,
          464,
          449,
          378,
          456,
          518,
          579,
          546,
          605,
          566,
          728,
          594,
          582,
          605
         ]
        },
        {
         "name": "Imported Cases",
         "type": "bar",
         "x": [
          0,
          1,
          2,
          3,
          4,
          5,
          6,
          7,
          8,
          9,
          10,
          11,
          12,
          13,
          14,
          15,
          16,
          17,
          18,
          19,
          20,
          21,
          22,
          23,
          24,
          25,
          26,
          27,
          28,
          29,
          30,
          31,
          32,
          33,
          34,
          35,
          36,
          37,
          38,
          39,
          40,
          41,
          42,
          43,
          44,
          45,
          46,
          47,
          48,
          49,
          50,
          51
         ],
         "y": [
          2,
          0,
          2,
          1,
          4,
          1,
          3,
          4,
          4,
          6,
          17,
          26,
          26,
          24,
          31,
          34,
          41,
          29,
          28,
          45,
          27,
          27,
          48,
          61,
          44,
          74,
          90,
          78,
          51,
          113,
          99,
          81,
          70,
          59,
          31,
          28,
          33,
          24,
          24,
          30,
          18,
          14,
          20,
          13,
          6,
          8,
          6,
          11,
          6,
          8,
          4
         ]
        }
       ],
       "layout": {
        "template": {
         "data": {
          "bar": [
           {
            "error_x": {
             "color": "#2a3f5f"
            },
            "error_y": {
             "color": "#2a3f5f"
            },
            "marker": {
             "line": {
              "color": "#E5ECF6",
              "width": 0.5
             }
            },
            "type": "bar"
           }
          ],
          "barpolar": [
           {
            "marker": {
             "line": {
              "color": "#E5ECF6",
              "width": 0.5
             }
            },
            "type": "barpolar"
           }
          ],
          "carpet": [
           {
            "aaxis": {
             "endlinecolor": "#2a3f5f",
             "gridcolor": "white",
             "linecolor": "white",
             "minorgridcolor": "white",
             "startlinecolor": "#2a3f5f"
            },
            "baxis": {
             "endlinecolor": "#2a3f5f",
             "gridcolor": "white",
             "linecolor": "white",
             "minorgridcolor": "white",
             "startlinecolor": "#2a3f5f"
            },
            "type": "carpet"
           }
          ],
          "choropleth": [
           {
            "colorbar": {
             "outlinewidth": 0,
             "ticks": ""
            },
            "type": "choropleth"
           }
          ],
          "contour": [
           {
            "colorbar": {
             "outlinewidth": 0,
             "ticks": ""
            },
            "colorscale": [
             [
              0,
              "#0d0887"
             ],
             [
              0.1111111111111111,
              "#46039f"
             ],
             [
              0.2222222222222222,
              "#7201a8"
             ],
             [
              0.3333333333333333,
              "#9c179e"
             ],
             [
              0.4444444444444444,
              "#bd3786"
             ],
             [
              0.5555555555555556,
              "#d8576b"
             ],
             [
              0.6666666666666666,
              "#ed7953"
             ],
             [
              0.7777777777777778,
              "#fb9f3a"
             ],
             [
              0.8888888888888888,
              "#fdca26"
             ],
             [
              1,
              "#f0f921"
             ]
            ],
            "type": "contour"
           }
          ],
          "contourcarpet": [
           {
            "colorbar": {
             "outlinewidth": 0,
             "ticks": ""
            },
            "type": "contourcarpet"
           }
          ],
          "heatmap": [
           {
            "colorbar": {
             "outlinewidth": 0,
             "ticks": ""
            },
            "colorscale": [
             [
              0,
              "#0d0887"
             ],
             [
              0.1111111111111111,
              "#46039f"
             ],
             [
              0.2222222222222222,
              "#7201a8"
             ],
             [
              0.3333333333333333,
              "#9c179e"
             ],
             [
              0.4444444444444444,
              "#bd3786"
             ],
             [
              0.5555555555555556,
              "#d8576b"
             ],
             [
              0.6666666666666666,
              "#ed7953"
             ],
             [
              0.7777777777777778,
              "#fb9f3a"
             ],
             [
              0.8888888888888888,
              "#fdca26"
             ],
             [
              1,
              "#f0f921"
             ]
            ],
            "type": "heatmap"
           }
          ],
          "heatmapgl": [
           {
            "colorbar": {
             "outlinewidth": 0,
             "ticks": ""
            },
            "colorscale": [
             [
              0,
              "#0d0887"
             ],
             [
              0.1111111111111111,
              "#46039f"
             ],
             [
              0.2222222222222222,
              "#7201a8"
             ],
             [
              0.3333333333333333,
              "#9c179e"
             ],
             [
              0.4444444444444444,
              "#bd3786"
             ],
             [
              0.5555555555555556,
              "#d8576b"
             ],
             [
              0.6666666666666666,
              "#ed7953"
             ],
             [
              0.7777777777777778,
              "#fb9f3a"
             ],
             [
              0.8888888888888888,
              "#fdca26"
             ],
             [
              1,
              "#f0f921"
             ]
            ],
            "type": "heatmapgl"
           }
          ],
          "histogram": [
           {
            "marker": {
             "colorbar": {
              "outlinewidth": 0,
              "ticks": ""
             }
            },
            "type": "histogram"
           }
          ],
          "histogram2d": [
           {
            "colorbar": {
             "outlinewidth": 0,
             "ticks": ""
            },
            "colorscale": [
             [
              0,
              "#0d0887"
             ],
             [
              0.1111111111111111,
              "#46039f"
             ],
             [
              0.2222222222222222,
              "#7201a8"
             ],
             [
              0.3333333333333333,
              "#9c179e"
             ],
             [
              0.4444444444444444,
              "#bd3786"
             ],
             [
              0.5555555555555556,
              "#d8576b"
             ],
             [
              0.6666666666666666,
              "#ed7953"
             ],
             [
              0.7777777777777778,
              "#fb9f3a"
             ],
             [
              0.8888888888888888,
              "#fdca26"
             ],
             [
              1,
              "#f0f921"
             ]
            ],
            "type": "histogram2d"
           }
          ],
          "histogram2dcontour": [
           {
            "colorbar": {
             "outlinewidth": 0,
             "ticks": ""
            },
            "colorscale": [
             [
              0,
              "#0d0887"
             ],
             [
              0.1111111111111111,
              "#46039f"
             ],
             [
              0.2222222222222222,
              "#7201a8"
             ],
             [
              0.3333333333333333,
              "#9c179e"
             ],
             [
              0.4444444444444444,
              "#bd3786"
             ],
             [
              0.5555555555555556,
              "#d8576b"
             ],
             [
              0.6666666666666666,
              "#ed7953"
             ],
             [
              0.7777777777777778,
              "#fb9f3a"
             ],
             [
              0.8888888888888888,
              "#fdca26"
             ],
             [
              1,
              "#f0f921"
             ]
            ],
            "type": "histogram2dcontour"
           }
          ],
          "mesh3d": [
           {
            "colorbar": {
             "outlinewidth": 0,
             "ticks": ""
            },
            "type": "mesh3d"
           }
          ],
          "parcoords": [
           {
            "line": {
             "colorbar": {
              "outlinewidth": 0,
              "ticks": ""
             }
            },
            "type": "parcoords"
           }
          ],
          "pie": [
           {
            "automargin": true,
            "type": "pie"
           }
          ],
          "scatter": [
           {
            "marker": {
             "colorbar": {
              "outlinewidth": 0,
              "ticks": ""
             }
            },
            "type": "scatter"
           }
          ],
          "scatter3d": [
           {
            "line": {
             "colorbar": {
              "outlinewidth": 0,
              "ticks": ""
             }
            },
            "marker": {
             "colorbar": {
              "outlinewidth": 0,
              "ticks": ""
             }
            },
            "type": "scatter3d"
           }
          ],
          "scattercarpet": [
           {
            "marker": {
             "colorbar": {
              "outlinewidth": 0,
              "ticks": ""
             }
            },
            "type": "scattercarpet"
           }
          ],
          "scattergeo": [
           {
            "marker": {
             "colorbar": {
              "outlinewidth": 0,
              "ticks": ""
             }
            },
            "type": "scattergeo"
           }
          ],
          "scattergl": [
           {
            "marker": {
             "colorbar": {
              "outlinewidth": 0,
              "ticks": ""
             }
            },
            "type": "scattergl"
           }
          ],
          "scattermapbox": [
           {
            "marker": {
             "colorbar": {
              "outlinewidth": 0,
              "ticks": ""
             }
            },
            "type": "scattermapbox"
           }
          ],
          "scatterpolar": [
           {
            "marker": {
             "colorbar": {
              "outlinewidth": 0,
              "ticks": ""
             }
            },
            "type": "scatterpolar"
           }
          ],
          "scatterpolargl": [
           {
            "marker": {
             "colorbar": {
              "outlinewidth": 0,
              "ticks": ""
             }
            },
            "type": "scatterpolargl"
           }
          ],
          "scatterternary": [
           {
            "marker": {
             "colorbar": {
              "outlinewidth": 0,
              "ticks": ""
             }
            },
            "type": "scatterternary"
           }
          ],
          "surface": [
           {
            "colorbar": {
             "outlinewidth": 0,
             "ticks": ""
            },
            "colorscale": [
             [
              0,
              "#0d0887"
             ],
             [
              0.1111111111111111,
              "#46039f"
             ],
             [
              0.2222222222222222,
              "#7201a8"
             ],
             [
              0.3333333333333333,
              "#9c179e"
             ],
             [
              0.4444444444444444,
              "#bd3786"
             ],
             [
              0.5555555555555556,
              "#d8576b"
             ],
             [
              0.6666666666666666,
              "#ed7953"
             ],
             [
              0.7777777777777778,
              "#fb9f3a"
             ],
             [
              0.8888888888888888,
              "#fdca26"
             ],
             [
              1,
              "#f0f921"
             ]
            ],
            "type": "surface"
           }
          ],
          "table": [
           {
            "cells": {
             "fill": {
              "color": "#EBF0F8"
             },
             "line": {
              "color": "white"
             }
            },
            "header": {
             "fill": {
              "color": "#C8D4E3"
             },
             "line": {
              "color": "white"
             }
            },
            "type": "table"
           }
          ]
         },
         "layout": {
          "annotationdefaults": {
           "arrowcolor": "#2a3f5f",
           "arrowhead": 0,
           "arrowwidth": 1
          },
          "autotypenumbers": "strict",
          "coloraxis": {
           "colorbar": {
            "outlinewidth": 0,
            "ticks": ""
           }
          },
          "colorscale": {
           "diverging": [
            [
             0,
             "#8e0152"
            ],
            [
             0.1,
             "#c51b7d"
            ],
            [
             0.2,
             "#de77ae"
            ],
            [
             0.3,
             "#f1b6da"
            ],
            [
             0.4,
             "#fde0ef"
            ],
            [
             0.5,
             "#f7f7f7"
            ],
            [
             0.6,
             "#e6f5d0"
            ],
            [
             0.7,
             "#b8e186"
            ],
            [
             0.8,
             "#7fbc41"
            ],
            [
             0.9,
             "#4d9221"
            ],
            [
             1,
             "#276419"
            ]
           ],
           "sequential": [
            [
             0,
             "#0d0887"
            ],
            [
             0.1111111111111111,
             "#46039f"
            ],
            [
             0.2222222222222222,
             "#7201a8"
            ],
            [
             0.3333333333333333,
             "#9c179e"
            ],
            [
             0.4444444444444444,
             "#bd3786"
            ],
            [
             0.5555555555555556,
             "#d8576b"
            ],
            [
             0.6666666666666666,
             "#ed7953"
            ],
            [
             0.7777777777777778,
             "#fb9f3a"
            ],
            [
             0.8888888888888888,
             "#fdca26"
            ],
            [
             1,
             "#f0f921"
            ]
           ],
           "sequentialminus": [
            [
             0,
             "#0d0887"
            ],
            [
             0.1111111111111111,
             "#46039f"
            ],
            [
             0.2222222222222222,
             "#7201a8"
            ],
            [
             0.3333333333333333,
             "#9c179e"
            ],
            [
             0.4444444444444444,
             "#bd3786"
            ],
            [
             0.5555555555555556,
             "#d8576b"
            ],
            [
             0.6666666666666666,
             "#ed7953"
            ],
            [
             0.7777777777777778,
             "#fb9f3a"
            ],
            [
             0.8888888888888888,
             "#fdca26"
            ],
            [
             1,
             "#f0f921"
            ]
           ]
          },
          "colorway": [
           "#636efa",
           "#EF553B",
           "#00cc96",
           "#ab63fa",
           "#FFA15A",
           "#19d3f3",
           "#FF6692",
           "#B6E880",
           "#FF97FF",
           "#FECB52"
          ],
          "font": {
           "color": "#2a3f5f"
          },
          "geo": {
           "bgcolor": "white",
           "lakecolor": "white",
           "landcolor": "#E5ECF6",
           "showlakes": true,
           "showland": true,
           "subunitcolor": "white"
          },
          "hoverlabel": {
           "align": "left"
          },
          "hovermode": "closest",
          "mapbox": {
           "style": "light"
          },
          "paper_bgcolor": "white",
          "plot_bgcolor": "#E5ECF6",
          "polar": {
           "angularaxis": {
            "gridcolor": "white",
            "linecolor": "white",
            "ticks": ""
           },
           "bgcolor": "#E5ECF6",
           "radialaxis": {
            "gridcolor": "white",
            "linecolor": "white",
            "ticks": ""
           }
          },
          "scene": {
           "xaxis": {
            "backgroundcolor": "#E5ECF6",
            "gridcolor": "white",
            "gridwidth": 2,
            "linecolor": "white",
            "showbackground": true,
            "ticks": "",
            "zerolinecolor": "white"
           },
           "yaxis": {
            "backgroundcolor": "#E5ECF6",
            "gridcolor": "white",
            "gridwidth": 2,
            "linecolor": "white",
            "showbackground": true,
            "ticks": "",
            "zerolinecolor": "white"
           },
           "zaxis": {
            "backgroundcolor": "#E5ECF6",
            "gridcolor": "white",
            "gridwidth": 2,
            "linecolor": "white",
            "showbackground": true,
            "ticks": "",
            "zerolinecolor": "white"
           }
          },
          "shapedefaults": {
           "line": {
            "color": "#2a3f5f"
           }
          },
          "ternary": {
           "aaxis": {
            "gridcolor": "white",
            "linecolor": "white",
            "ticks": ""
           },
           "baxis": {
            "gridcolor": "white",
            "linecolor": "white",
            "ticks": ""
           },
           "bgcolor": "#E5ECF6",
           "caxis": {
            "gridcolor": "white",
            "linecolor": "white",
            "ticks": ""
           }
          },
          "title": {
           "x": 0.05
          },
          "xaxis": {
           "automargin": true,
           "gridcolor": "white",
           "linecolor": "white",
           "ticks": "",
           "title": {
            "standoff": 15
           },
           "zerolinecolor": "white",
           "zerolinewidth": 2
          },
          "yaxis": {
           "automargin": true,
           "gridcolor": "white",
           "linecolor": "white",
           "ticks": "",
           "title": {
            "standoff": 15
           },
           "zerolinecolor": "white",
           "zerolinewidth": 2
          }
         }
        },
        "xaxis": {
         "title": {
          "text": "Time (days)"
         }
        },
        "yaxis": {
         "title": {
          "text": "New cases"
         }
        }
       }
      }
     },
     "metadata": {}
    }
   ],
   "source": [
    "# Plot (bar chart cases each day)\n",
    "fig = go.Figure()\n",
    "\n",
    "# Plot of incidences\n",
    "fig.add_trace(\n",
    "    go.Bar(\n",
    "        x=times,\n",
    "        y=locally_infected_cases,\n",
    "        name='Local Incidences'\n",
    "    )\n",
    ")\n",
    "\n",
    "fig.add_trace(\n",
    "    go.Bar(\n",
    "        x=times,\n",
    "        y=imported_cases,\n",
    "        name='Imported Cases'\n",
    "    )\n",
    ")\n",
    "\n",
    "# Add axis labels\n",
    "fig.update_layout(\n",
    "    xaxis_title='Time (days)',\n",
    "    yaxis_title='New cases'\n",
    ")\n",
    "\n",
    "\n",
    "fig.write_image('ON-cases.pdf')\n",
    "fig.show()"
   ]
  },
  {
   "source": [
    "## Comparison of inference results for different epsilon values"
   ],
   "cell_type": "markdown",
   "metadata": {}
  },
  {
   "cell_type": "code",
   "execution_count": 6,
   "metadata": {},
   "outputs": [],
   "source": [
    "# Same inference, but using the LocImpBranchProPosterior\n",
    "tau = 2\n",
    "R_t_start = tau+1\n",
    "a = 1\n",
    "b = 0.2\n",
    "\n",
    "# Run inferences for different values of epsilon\n",
    "column_names = ['Time Points', 'Mean', 'Lower bound CI', 'Upper bound CI', 'Central Probability', 'Epsilon']\n",
    "epsilon_range = np.arange(-1, 1.1, 0.2)\n",
    "chosen_times = [5, 10, 15, 20, 25, 30, 40]\n",
    "\n",
    "all_intervals = pd.DataFrame(columns=column_names)\n",
    "# Transform our incidence data into pandas dataframes\n",
    "inc_data = pd.DataFrame(\n",
    "    {\n",
    "        'Time': start_times,\n",
    "        'Incidence Number': locally_infected_cases\n",
    "    }\n",
    ")\n",
    "\n",
    "imported_inc_data = pd.DataFrame(\n",
    "    {\n",
    "        'Time': start_times,\n",
    "        'Incidence Number': imported_cases\n",
    "    }\n",
    ")\n",
    "\n",
    "for epsilon in epsilon_range:\n",
    "    inference = branchpro.LocImpBranchProPosteriorMultSI(\n",
    "        inc_data=inc_data,\n",
    "        imported_inc_data=imported_inc_data,\n",
    "        epsilon=epsilon,\n",
    "        daily_serial_intervals=serial_intervals,\n",
    "        alpha=a,\n",
    "        beta=b)\n",
    "\n",
    "    inference.run_inference(tau=tau)\n",
    "    intervals = inference.get_intervals(central_prob=0)\n",
    "    intervals = intervals.append(inference.get_intervals(central_prob=.25))\n",
    "    intervals = intervals.append(inference.get_intervals(central_prob=.95))\n",
    "    temp = inference.get_intervals(central_prob=.95)\n",
    "\n",
    "    intervals['Epsilon'] = [epsilon] * len(intervals.index)\n",
    "\n",
    "    intervals_chosen = pd.DataFrame(columns=intervals.columns)\n",
    "    for time_pt in chosen_times:\n",
    "        intervals_chosen = intervals_chosen.append(\n",
    "            intervals.loc[intervals['Time Points']== time_pt])\n",
    "\n",
    "    all_intervals = all_intervals.append(intervals_chosen)"
   ]
  },
  {
   "cell_type": "code",
   "execution_count": 7,
   "metadata": {},
   "outputs": [
    {
     "output_type": "display_data",
     "data": {
      "application/vnd.plotly.v1+json": {
       "config": {
        "plotlyServerURL": "https://plot.ly"
       },
       "data": [
        {
         "lowerfence": [
          0.12851596511900437,
          0.048893056716770036,
          0.03041170043870811,
          0.022236760566011083,
          0.01742716883309186,
          0.014320112555287794,
          0.01215555905364455,
          0.01060359415132554,
          0.00938063934445382,
          0.008404755103401843,
          0.007670032745227241
         ],
         "mean": [
          4.99139928817749,
          1.9656013250350952,
          1.2292532920837402,
          0.8955693244934082,
          0.7025197744369507,
          0.5788939595222473,
          0.49144965410232544,
          0.4274229109287262,
          0.37797805666923523,
          0.33972692489624023,
          0.3077504634857178
         ],
         "median": [
          3.4602532386779785,
          1.352957308292389,
          0.8420288264751434,
          0.6140072643756866,
          0.4809410572052002,
          0.396075502038002,
          0.33560171723365784,
          0.2920610308647156,
          0.25822143256664276,
          0.23202411830425262,
          0.21011929214000702
         ],
         "name": "Day5",
         "q1": [
          2.3486601412296295,
          0.9151490405201912,
          0.5701591819524765,
          0.41523200646042824,
          0.32430310919880867,
          0.2677955590188503,
          0.2267155945301056,
          0.19766777008771896,
          0.1746255774050951,
          0.15683300234377384,
          0.14198432490229607
         ],
         "q3": [
          4.892185986042023,
          1.9186507016420364,
          1.194943979382515,
          0.8702172115445137,
          0.6823128089308739,
          0.5614606365561485,
          0.4765552319586277,
          0.4140915237367153,
          0.3662351183593273,
          0.3289972394704819,
          0.29794256016612053
         ],
         "type": "box",
         "upperfence": [
          18.4730984210968,
          7.326262032985689,
          4.611224675178529,
          3.3610754728317263,
          2.637783294916153,
          2.171976429224015,
          1.8501552253961568,
          1.6119807243347168,
          1.4234447926282883,
          1.2772071659564974,
          1.1573256731033328
         ],
         "x": [
          "-1.0",
          "-0.8",
          "-0.6",
          "-0.4",
          "-0.2",
          "-0.0",
          "0.2",
          "0.4",
          "0.6",
          "0.8",
          "1.0"
         ]
        },
        {
         "lowerfence": [
          2.137551867961884,
          0.9786643236875536,
          0.634895880520344,
          0.4684132121503353,
          0.37164843305945416,
          0.3086895935237408,
          0.26233391463756583,
          0.22908490709960466,
          0.20385175831615926,
          0.18290680013597013,
          0.16652449443936354
         ],
         "mean": [
          6.094335556030273,
          2.734480857849121,
          1.7653107643127441,
          1.3023390769958496,
          1.0316581726074219,
          0.8552619814872742,
          0.7295418381690979,
          0.6360375285148621,
          0.5641120672225952,
          0.5067240595817566,
          0.4597683846950531
         ],
         "median": [
          5.684777736663818,
          2.5646778345108032,
          1.6581279635429382,
          1.2234227061271667,
          0.9701448678970337,
          0.8035366535186768,
          0.685856431722641,
          0.5980814099311829,
          0.5301280915737152,
          0.47635674476623535,
          0.43229836225509644
         ],
         "name": "Day10",
         "q1": [
          4.928840637207031,
          2.2300796508789062,
          1.4424270391464233,
          1.0649733543395996,
          0.8442812785506248,
          0.6994077935814857,
          0.5968529805541039,
          0.520573578774929,
          0.46178724244236946,
          0.41481466963887215,
          0.3763374947011471
         ],
         "q3": [
          6.519306540489197,
          2.9338899552822113,
          1.895180121064186,
          1.398809239268303,
          1.1079061776399612,
          0.918467216193676,
          0.7837428897619247,
          0.6831800863146782,
          0.6057942062616348,
          0.5442513525485992,
          0.4938007593154907
         ],
         "type": "box",
         "upperfence": [
          12.4051721572876,
          5.45616227388382,
          3.509469169378281,
          2.583879351615906,
          2.0440866172313696,
          1.6955468207597733,
          1.446186250448227,
          1.2586215972900392,
          1.1160913527011875,
          1.0036119312047957,
          0.909016637504101
         ],
         "x": [
          "-1.0",
          "-0.8",
          "-0.6",
          "-0.4",
          "-0.2",
          "-0.0",
          "0.2",
          "0.4",
          "0.6",
          "0.8",
          "1.0"
         ]
        },
        {
         "lowerfence": [
          1.0219393342733383,
          0.6805515363812447,
          0.5101846486330034,
          0.40836165696382526,
          0.3405043281614782,
          0.29202193990349773,
          0.255180199444294,
          0.22664654292166236,
          0.20418703518807887,
          0.18552801795303825,
          0.17025828436017038
         ],
         "mean": [
          1.7545981407165527,
          1.1661996841430664,
          0.8734065294265747,
          0.6982119083404541,
          0.5815151929855347,
          0.4981824457645416,
          0.4357415735721588,
          0.3873882591724396,
          0.3485351800918579,
          0.3167109191417694,
          0.29043540358543396
         ],
         "median": [
          1.699710488319397,
          1.1308141350746155,
          0.8475854694843292,
          0.6775949895381927,
          0.5645513236522675,
          0.4837086349725723,
          0.42312926054000854,
          0.3762059956789017,
          0.33849450945854187,
          0.3075692355632782,
          0.2820342481136322
         ],
         "name": "Day15",
         "q1": [
          1.567637786269188,
          1.0431922525167465,
          0.7821771427989006,
          0.6253165304660797,
          0.520930327475071,
          0.44621749594807625,
          0.3905513361096382,
          0.34725894033908844,
          0.3123507536947727,
          0.28395577520132065,
          0.2603638917207718
         ],
         "q3": [
          1.8434823155403137,
          1.225913166999817,
          0.9183870255947113,
          0.7340879142284393,
          0.6115631684660912,
          0.5238890871405602,
          0.45829959213733673,
          0.4074586182832718,
          0.3665386512875557,
          0.33299291878938675,
          0.30545176193118095
         ],
         "type": "box",
         "upperfence": [
          2.7989069819450387,
          1.8520423561334611,
          1.3826419681310655,
          1.1049555003643037,
          0.91978794336319,
          0.7877687826752663,
          0.6885915711522103,
          0.6123997867107391,
          0.5503573089838028,
          0.499600476026535,
          0.4586256556212902
         ],
         "x": [
          "-1.0",
          "-0.8",
          "-0.6",
          "-0.4",
          "-0.2",
          "-0.0",
          "0.2",
          "0.4",
          "0.6",
          "0.8",
          "1.0"
         ]
        },
        {
         "lowerfence": [
          2.472411781549454,
          1.733571806550026,
          1.3315979212522506,
          1.0811618477106093,
          0.9088955491781234,
          0.7839968860149383,
          0.6894683241844177,
          0.6150715529918671,
          0.5548423811793327,
          0.5057518318295479,
          0.464299825578928
         ],
         "mean": [
          3.2524993419647217,
          2.224714517593384,
          1.6913985013961792,
          1.3640527725219727,
          1.1433329582214355,
          0.9840790033340454,
          0.8636532425880432,
          0.7693114876747131,
          0.6938559412956238,
          0.6317815780639648,
          0.5798351764678955
         ],
         "median": [
          3.221218228340149,
          2.2057015895843506,
          1.6777255535125732,
          1.3531337976455688,
          1.1344812512397766,
          0.9764608442783356,
          0.8571523725986481,
          0.7635902166366577,
          0.6887311637401581,
          0.6271568536758423,
          0.5755214095115662
         ],
         "name": "Day20",
         "q1": [
          3.0847536623477936,
          2.1204756796360016,
          1.6155622005462646,
          1.304274633526802,
          1.094144955277443,
          0.9422220140695572,
          0.8271408081054688,
          0.7369082123041153,
          0.6647854968905449,
          0.6054233834147453,
          0.5556826144456863
         ],
         "q3": [
          3.364364743232727,
          2.2944809794425964,
          1.7425473928451538,
          1.4042247533798218,
          1.176805630326271,
          1.0123704671859741,
          0.8884834498167038,
          0.7913024425506592,
          0.7136514857411385,
          0.6497276872396469,
          0.5963380634784698
         ],
         "type": "box",
         "upperfence": [
          4.209979689121246,
          2.8252811074256896,
          2.129907447099686,
          1.7093551695346834,
          1.4281887561082842,
          1.2270110666751861,
          1.0753149062395095,
          0.9567169547080995,
          0.8620647475123405,
          0.7846750780940056,
          0.7199198797345161
         ],
         "x": [
          "-1.0",
          "-0.8",
          "-0.6",
          "-0.4",
          "-0.2",
          "-0.0",
          "0.2",
          "0.4",
          "0.6",
          "0.8",
          "1.0"
         ]
        },
        {
         "lowerfence": [
          1.892573130130768,
          1.661836150288582,
          1.480931395292282,
          1.3352755039930344,
          1.2148591727018359,
          1.115330272912979,
          1.0298066139221191,
          0.9567542582750321,
          0.8932537451386452,
          0.8375325173139572,
          0.7887327551841735
         ],
         "mean": [
          2.3231000900268555,
          2.0119142532348633,
          1.7743722200393677,
          1.5873289108276367,
          1.4357564449310303,
          1.3109257221221924,
          1.2058607339859009,
          1.1164387464523315,
          1.0393588542938232,
          0.9723206162452698,
          0.9134957790374756
         ],
         "median": [
          2.3014739751815796,
          1.9965543150901794,
          1.7630553841590881,
          1.5785419940948486,
          1.4286190867424011,
          1.304895281791687,
          1.2006746530532837,
          1.1120071411132812,
          1.0354462265968323,
          0.9688774049282074,
          0.9103701710700989
         ],
         "name": "Day25",
         "q1": [
          2.2271066308021545,
          1.936535432934761,
          1.712701991200447,
          1.5357153415679932,
          1.3910218328237534,
          1.2718668282032013,
          1.170918419957161,
          1.0850536674261093,
          1.0107769519090652,
          0.9462407380342484,
          0.8894224911928177
         ],
         "q3": [
          2.380659908056259,
          2.0598766803741455,
          1.815666288137436,
          1.6231539696455002,
          1.4673469364643097,
          1.33916275203228,
          1.2314959913492203,
          1.1399058550596237,
          1.0610238015651703,
          0.9923042953014374,
          0.9319597333669662
         ],
         "type": "box",
         "upperfence": [
          2.87230920791626,
          2.4465632498264314,
          2.131572276353836,
          1.8892780363559725,
          1.6978427201509478,
          1.5411864668130875,
          1.411460420489311,
          1.3014600425958633,
          1.207712057232857,
          1.126578262448311,
          1.056322380900383
         ],
         "x": [
          "-1.0",
          "-0.8",
          "-0.6",
          "-0.4",
          "-0.2",
          "-0.0",
          "0.2",
          "0.4",
          "0.6",
          "0.8",
          "1.0"
         ]
        },
        {
         "lowerfence": [
          1.5610804289579392,
          1.427252581715584,
          1.3148400455713272,
          1.2185533970594407,
          1.1354218691587448,
          1.0631549090147019,
          0.9994040921330453,
          0.942737041413784,
          0.8925623461604119,
          0.8469749093055725,
          0.8057803407311439
         ],
         "mean": [
          1.8226345777511597,
          1.6619662046432495,
          1.5272585153579712,
          1.4127893447875977,
          1.314205527305603,
          1.2285866737365723,
          1.1535370349884033,
          1.0867891311645508,
          1.0277187824249268,
          0.9745578169822693,
          0.9266232252120972
         ],
         "median": [
          1.8063544631004333,
          1.6479778289794922,
          1.5148364901542664,
          1.4017187356948853,
          1.304200291633606,
          1.2196370959281921,
          1.145224928855896,
          1.0792713165283203,
          1.020663321018219,
          0.9679938554763794,
          0.9205453991889954
         ],
         "name": "Day30",
         "q1": [
          1.7609087228775024,
          1.607044294476509,
          1.4779076427221298,
          1.367984727025032,
          1.2731330692768097,
          1.1908874809741974,
          1.1186609268188477,
          1.054195761680603,
          0.9972121566534042,
          0.9460284113883972,
          0.8996036574244499
         ],
         "q3": [
          1.8556641042232513,
          1.6918841749429703,
          1.5546741634607315,
          1.4379255920648575,
          1.3375978618860245,
          1.25038480758667,
          1.173784226179123,
          1.1060030907392502,
          1.04571034014225,
          0.9915269389748573,
          0.9428162649273872
         ],
         "type": "box",
         "upperfence": [
          2.173682981729508,
          1.9737012654542925,
          1.8078654140233994,
          1.6678822606801988,
          1.547822979092598,
          1.443355366587639,
          1.352709573507309,
          1.272672778367996,
          1.202190998196602,
          1.1379169523715973,
          1.080871719121933
         ],
         "x": [
          "-1.0",
          "-0.8",
          "-0.6",
          "-0.4",
          "-0.2",
          "-0.0",
          "0.2",
          "0.4",
          "0.6",
          "0.8",
          "1.0"
         ]
        },
        {
         "lowerfence": [
          1.1674433916807174,
          1.14029860496521,
          1.1137809544801711,
          1.0888640850782394,
          1.0644721925258636,
          1.0409046351909639,
          1.018435111641884,
          0.9965971603989601,
          0.9756557911634446,
          0.9551329001784326,
          0.9355997890233994
         ],
         "mean": [
          1.255156397819519,
          1.2230453491210938,
          1.1913213729858398,
          1.1612027883529663,
          1.1337368488311768,
          1.1075409650802612,
          1.0818383693695068,
          1.0574041604995728,
          1.0340790748596191,
          1.0118392705917358,
          0.9908283948898315
         ],
         "median": [
          1.2515313625335693,
          1.2192228436470032,
          1.1886984705924988,
          1.1595166325569153,
          1.1318191289901733,
          1.1053376197814941,
          1.0800643563270569,
          1.0559970140457153,
          1.0329005718231201,
          1.0108461380004883,
          0.9897651374340057
         ],
         "name": "Day40",
         "q1": [
          1.2368226796388626,
          1.2054731398820877,
          1.1758009493350983,
          1.1472975313663483,
          1.1203023195266724,
          1.0944018214941025,
          1.0696110278367996,
          1.0459684878587723,
          1.0232207775115967,
          1.0014660358428955,
          0.9806631207466125
         ],
         "q3": [
          1.2667797803878784,
          1.2334868907928467,
          1.2020413875579834,
          1.1720509976148605,
          1.1436813324689865,
          1.116585373878479,
          1.0908188819885254,
          1.0662489384412766,
          1.042815923690796,
          1.0204182863235474,
          0.9990358799695969
         ],
         "type": "box",
         "upperfence": [
          1.3642643719911574,
          1.3232223212718965,
          1.285270819067955,
          1.2495822995901107,
          1.2158379912376405,
          1.184177926182747,
          1.1545188546180725,
          1.1267056614160538,
          1.099983099102974,
          1.0750161468982695,
          1.0512454509735107
         ],
         "x": [
          "-1.0",
          "-0.8",
          "-0.6",
          "-0.4",
          "-0.2",
          "-0.0",
          "0.2",
          "0.4",
          "0.6",
          "0.8",
          "1.0"
         ]
        }
       ],
       "layout": {
        "boxmode": "group",
        "template": {
         "data": {
          "bar": [
           {
            "error_x": {
             "color": "#2a3f5f"
            },
            "error_y": {
             "color": "#2a3f5f"
            },
            "marker": {
             "line": {
              "color": "#E5ECF6",
              "width": 0.5
             }
            },
            "type": "bar"
           }
          ],
          "barpolar": [
           {
            "marker": {
             "line": {
              "color": "#E5ECF6",
              "width": 0.5
             }
            },
            "type": "barpolar"
           }
          ],
          "carpet": [
           {
            "aaxis": {
             "endlinecolor": "#2a3f5f",
             "gridcolor": "white",
             "linecolor": "white",
             "minorgridcolor": "white",
             "startlinecolor": "#2a3f5f"
            },
            "baxis": {
             "endlinecolor": "#2a3f5f",
             "gridcolor": "white",
             "linecolor": "white",
             "minorgridcolor": "white",
             "startlinecolor": "#2a3f5f"
            },
            "type": "carpet"
           }
          ],
          "choropleth": [
           {
            "colorbar": {
             "outlinewidth": 0,
             "ticks": ""
            },
            "type": "choropleth"
           }
          ],
          "contour": [
           {
            "colorbar": {
             "outlinewidth": 0,
             "ticks": ""
            },
            "colorscale": [
             [
              0,
              "#0d0887"
             ],
             [
              0.1111111111111111,
              "#46039f"
             ],
             [
              0.2222222222222222,
              "#7201a8"
             ],
             [
              0.3333333333333333,
              "#9c179e"
             ],
             [
              0.4444444444444444,
              "#bd3786"
             ],
             [
              0.5555555555555556,
              "#d8576b"
             ],
             [
              0.6666666666666666,
              "#ed7953"
             ],
             [
              0.7777777777777778,
              "#fb9f3a"
             ],
             [
              0.8888888888888888,
              "#fdca26"
             ],
             [
              1,
              "#f0f921"
             ]
            ],
            "type": "contour"
           }
          ],
          "contourcarpet": [
           {
            "colorbar": {
             "outlinewidth": 0,
             "ticks": ""
            },
            "type": "contourcarpet"
           }
          ],
          "heatmap": [
           {
            "colorbar": {
             "outlinewidth": 0,
             "ticks": ""
            },
            "colorscale": [
             [
              0,
              "#0d0887"
             ],
             [
              0.1111111111111111,
              "#46039f"
             ],
             [
              0.2222222222222222,
              "#7201a8"
             ],
             [
              0.3333333333333333,
              "#9c179e"
             ],
             [
              0.4444444444444444,
              "#bd3786"
             ],
             [
              0.5555555555555556,
              "#d8576b"
             ],
             [
              0.6666666666666666,
              "#ed7953"
             ],
             [
              0.7777777777777778,
              "#fb9f3a"
             ],
             [
              0.8888888888888888,
              "#fdca26"
             ],
             [
              1,
              "#f0f921"
             ]
            ],
            "type": "heatmap"
           }
          ],
          "heatmapgl": [
           {
            "colorbar": {
             "outlinewidth": 0,
             "ticks": ""
            },
            "colorscale": [
             [
              0,
              "#0d0887"
             ],
             [
              0.1111111111111111,
              "#46039f"
             ],
             [
              0.2222222222222222,
              "#7201a8"
             ],
             [
              0.3333333333333333,
              "#9c179e"
             ],
             [
              0.4444444444444444,
              "#bd3786"
             ],
             [
              0.5555555555555556,
              "#d8576b"
             ],
             [
              0.6666666666666666,
              "#ed7953"
             ],
             [
              0.7777777777777778,
              "#fb9f3a"
             ],
             [
              0.8888888888888888,
              "#fdca26"
             ],
             [
              1,
              "#f0f921"
             ]
            ],
            "type": "heatmapgl"
           }
          ],
          "histogram": [
           {
            "marker": {
             "colorbar": {
              "outlinewidth": 0,
              "ticks": ""
             }
            },
            "type": "histogram"
           }
          ],
          "histogram2d": [
           {
            "colorbar": {
             "outlinewidth": 0,
             "ticks": ""
            },
            "colorscale": [
             [
              0,
              "#0d0887"
             ],
             [
              0.1111111111111111,
              "#46039f"
             ],
             [
              0.2222222222222222,
              "#7201a8"
             ],
             [
              0.3333333333333333,
              "#9c179e"
             ],
             [
              0.4444444444444444,
              "#bd3786"
             ],
             [
              0.5555555555555556,
              "#d8576b"
             ],
             [
              0.6666666666666666,
              "#ed7953"
             ],
             [
              0.7777777777777778,
              "#fb9f3a"
             ],
             [
              0.8888888888888888,
              "#fdca26"
             ],
             [
              1,
              "#f0f921"
             ]
            ],
            "type": "histogram2d"
           }
          ],
          "histogram2dcontour": [
           {
            "colorbar": {
             "outlinewidth": 0,
             "ticks": ""
            },
            "colorscale": [
             [
              0,
              "#0d0887"
             ],
             [
              0.1111111111111111,
              "#46039f"
             ],
             [
              0.2222222222222222,
              "#7201a8"
             ],
             [
              0.3333333333333333,
              "#9c179e"
             ],
             [
              0.4444444444444444,
              "#bd3786"
             ],
             [
              0.5555555555555556,
              "#d8576b"
             ],
             [
              0.6666666666666666,
              "#ed7953"
             ],
             [
              0.7777777777777778,
              "#fb9f3a"
             ],
             [
              0.8888888888888888,
              "#fdca26"
             ],
             [
              1,
              "#f0f921"
             ]
            ],
            "type": "histogram2dcontour"
           }
          ],
          "mesh3d": [
           {
            "colorbar": {
             "outlinewidth": 0,
             "ticks": ""
            },
            "type": "mesh3d"
           }
          ],
          "parcoords": [
           {
            "line": {
             "colorbar": {
              "outlinewidth": 0,
              "ticks": ""
             }
            },
            "type": "parcoords"
           }
          ],
          "pie": [
           {
            "automargin": true,
            "type": "pie"
           }
          ],
          "scatter": [
           {
            "marker": {
             "colorbar": {
              "outlinewidth": 0,
              "ticks": ""
             }
            },
            "type": "scatter"
           }
          ],
          "scatter3d": [
           {
            "line": {
             "colorbar": {
              "outlinewidth": 0,
              "ticks": ""
             }
            },
            "marker": {
             "colorbar": {
              "outlinewidth": 0,
              "ticks": ""
             }
            },
            "type": "scatter3d"
           }
          ],
          "scattercarpet": [
           {
            "marker": {
             "colorbar": {
              "outlinewidth": 0,
              "ticks": ""
             }
            },
            "type": "scattercarpet"
           }
          ],
          "scattergeo": [
           {
            "marker": {
             "colorbar": {
              "outlinewidth": 0,
              "ticks": ""
             }
            },
            "type": "scattergeo"
           }
          ],
          "scattergl": [
           {
            "marker": {
             "colorbar": {
              "outlinewidth": 0,
              "ticks": ""
             }
            },
            "type": "scattergl"
           }
          ],
          "scattermapbox": [
           {
            "marker": {
             "colorbar": {
              "outlinewidth": 0,
              "ticks": ""
             }
            },
            "type": "scattermapbox"
           }
          ],
          "scatterpolar": [
           {
            "marker": {
             "colorbar": {
              "outlinewidth": 0,
              "ticks": ""
             }
            },
            "type": "scatterpolar"
           }
          ],
          "scatterpolargl": [
           {
            "marker": {
             "colorbar": {
              "outlinewidth": 0,
              "ticks": ""
             }
            },
            "type": "scatterpolargl"
           }
          ],
          "scatterternary": [
           {
            "marker": {
             "colorbar": {
              "outlinewidth": 0,
              "ticks": ""
             }
            },
            "type": "scatterternary"
           }
          ],
          "surface": [
           {
            "colorbar": {
             "outlinewidth": 0,
             "ticks": ""
            },
            "colorscale": [
             [
              0,
              "#0d0887"
             ],
             [
              0.1111111111111111,
              "#46039f"
             ],
             [
              0.2222222222222222,
              "#7201a8"
             ],
             [
              0.3333333333333333,
              "#9c179e"
             ],
             [
              0.4444444444444444,
              "#bd3786"
             ],
             [
              0.5555555555555556,
              "#d8576b"
             ],
             [
              0.6666666666666666,
              "#ed7953"
             ],
             [
              0.7777777777777778,
              "#fb9f3a"
             ],
             [
              0.8888888888888888,
              "#fdca26"
             ],
             [
              1,
              "#f0f921"
             ]
            ],
            "type": "surface"
           }
          ],
          "table": [
           {
            "cells": {
             "fill": {
              "color": "#EBF0F8"
             },
             "line": {
              "color": "white"
             }
            },
            "header": {
             "fill": {
              "color": "#C8D4E3"
             },
             "line": {
              "color": "white"
             }
            },
            "type": "table"
           }
          ]
         },
         "layout": {
          "annotationdefaults": {
           "arrowcolor": "#2a3f5f",
           "arrowhead": 0,
           "arrowwidth": 1
          },
          "autotypenumbers": "strict",
          "coloraxis": {
           "colorbar": {
            "outlinewidth": 0,
            "ticks": ""
           }
          },
          "colorscale": {
           "diverging": [
            [
             0,
             "#8e0152"
            ],
            [
             0.1,
             "#c51b7d"
            ],
            [
             0.2,
             "#de77ae"
            ],
            [
             0.3,
             "#f1b6da"
            ],
            [
             0.4,
             "#fde0ef"
            ],
            [
             0.5,
             "#f7f7f7"
            ],
            [
             0.6,
             "#e6f5d0"
            ],
            [
             0.7,
             "#b8e186"
            ],
            [
             0.8,
             "#7fbc41"
            ],
            [
             0.9,
             "#4d9221"
            ],
            [
             1,
             "#276419"
            ]
           ],
           "sequential": [
            [
             0,
             "#0d0887"
            ],
            [
             0.1111111111111111,
             "#46039f"
            ],
            [
             0.2222222222222222,
             "#7201a8"
            ],
            [
             0.3333333333333333,
             "#9c179e"
            ],
            [
             0.4444444444444444,
             "#bd3786"
            ],
            [
             0.5555555555555556,
             "#d8576b"
            ],
            [
             0.6666666666666666,
             "#ed7953"
            ],
            [
             0.7777777777777778,
             "#fb9f3a"
            ],
            [
             0.8888888888888888,
             "#fdca26"
            ],
            [
             1,
             "#f0f921"
            ]
           ],
           "sequentialminus": [
            [
             0,
             "#0d0887"
            ],
            [
             0.1111111111111111,
             "#46039f"
            ],
            [
             0.2222222222222222,
             "#7201a8"
            ],
            [
             0.3333333333333333,
             "#9c179e"
            ],
            [
             0.4444444444444444,
             "#bd3786"
            ],
            [
             0.5555555555555556,
             "#d8576b"
            ],
            [
             0.6666666666666666,
             "#ed7953"
            ],
            [
             0.7777777777777778,
             "#fb9f3a"
            ],
            [
             0.8888888888888888,
             "#fdca26"
            ],
            [
             1,
             "#f0f921"
            ]
           ]
          },
          "colorway": [
           "#636efa",
           "#EF553B",
           "#00cc96",
           "#ab63fa",
           "#FFA15A",
           "#19d3f3",
           "#FF6692",
           "#B6E880",
           "#FF97FF",
           "#FECB52"
          ],
          "font": {
           "color": "#2a3f5f"
          },
          "geo": {
           "bgcolor": "white",
           "lakecolor": "white",
           "landcolor": "#E5ECF6",
           "showlakes": true,
           "showland": true,
           "subunitcolor": "white"
          },
          "hoverlabel": {
           "align": "left"
          },
          "hovermode": "closest",
          "mapbox": {
           "style": "light"
          },
          "paper_bgcolor": "white",
          "plot_bgcolor": "#E5ECF6",
          "polar": {
           "angularaxis": {
            "gridcolor": "white",
            "linecolor": "white",
            "ticks": ""
           },
           "bgcolor": "#E5ECF6",
           "radialaxis": {
            "gridcolor": "white",
            "linecolor": "white",
            "ticks": ""
           }
          },
          "scene": {
           "xaxis": {
            "backgroundcolor": "#E5ECF6",
            "gridcolor": "white",
            "gridwidth": 2,
            "linecolor": "white",
            "showbackground": true,
            "ticks": "",
            "zerolinecolor": "white"
           },
           "yaxis": {
            "backgroundcolor": "#E5ECF6",
            "gridcolor": "white",
            "gridwidth": 2,
            "linecolor": "white",
            "showbackground": true,
            "ticks": "",
            "zerolinecolor": "white"
           },
           "zaxis": {
            "backgroundcolor": "#E5ECF6",
            "gridcolor": "white",
            "gridwidth": 2,
            "linecolor": "white",
            "showbackground": true,
            "ticks": "",
            "zerolinecolor": "white"
           }
          },
          "shapedefaults": {
           "line": {
            "color": "#2a3f5f"
           }
          },
          "ternary": {
           "aaxis": {
            "gridcolor": "white",
            "linecolor": "white",
            "ticks": ""
           },
           "baxis": {
            "gridcolor": "white",
            "linecolor": "white",
            "ticks": ""
           },
           "bgcolor": "#E5ECF6",
           "caxis": {
            "gridcolor": "white",
            "linecolor": "white",
            "ticks": ""
           }
          },
          "title": {
           "x": 0.05
          },
          "xaxis": {
           "automargin": true,
           "gridcolor": "white",
           "linecolor": "white",
           "ticks": "",
           "title": {
            "standoff": 15
           },
           "zerolinecolor": "white",
           "zerolinewidth": 2
          },
          "yaxis": {
           "automargin": true,
           "gridcolor": "white",
           "linecolor": "white",
           "ticks": "",
           "title": {
            "standoff": 15
           },
           "zerolinecolor": "white",
           "zerolinewidth": 2
          }
         }
        },
        "title": {
         "text": "ON"
        }
       }
      }
     },
     "metadata": {}
    }
   ],
   "source": [
    "# Create list of names for x-axis and traces\n",
    "epsilon_range = np.around(epsilon_range,1)\n",
    "num_epsilons = len(epsilon_range)\n",
    "x_name = []\n",
    "for i in range(num_epsilons):\n",
    "    x_name.append(str(epsilon_range[i]))\n",
    "trace_name = ['Day{}'.format(x) for x in chosen_times]\n",
    "\n",
    "# Sort results\n",
    "all_intervals.sort_values(by=['Time Points', 'Epsilon'], inplace=True)\n",
    "\n",
    "# Plot (box plot for inference)\n",
    "fig = go.Figure()\n",
    "\n",
    "for i in range(len(trace_name)):\n",
    "    fig.add_trace(\n",
    "        go.Box(\n",
    "            mean=all_intervals.loc[all_intervals['Central Probability']==0]['Mean'][i*num_epsilons:(i+1)*num_epsilons],\n",
    "            median=all_intervals.loc[all_intervals['Central Probability']==0]['Lower bound CI'][i*num_epsilons:(i+1)*num_epsilons],\n",
    "            q1=all_intervals.loc[all_intervals['Central Probability']==0.25]['Lower bound CI'][i*num_epsilons:(i+1)*num_epsilons],\n",
    "            q3=all_intervals.loc[all_intervals['Central Probability']==0.25]['Upper bound CI'][i*num_epsilons:(i+1)*num_epsilons],\n",
    "            upperfence=all_intervals.loc[all_intervals['Central Probability']==0.95]['Upper bound CI'][i*num_epsilons:(i+1)*num_epsilons],\n",
    "            lowerfence=all_intervals.loc[all_intervals['Central Probability']==0.95]['Lower bound CI'][i*num_epsilons:(i+1)*num_epsilons],\n",
    "            x=x_name,\n",
    "            name=trace_name[i]\n",
    "        )\n",
    "    )\n",
    "fig.update_layout(boxmode='group', title='ON')\n",
    "fig.show()"
   ]
  },
  {
   "cell_type": "code",
   "execution_count": 8,
   "metadata": {},
   "outputs": [
    {
     "output_type": "display_data",
     "data": {
      "application/vnd.plotly.v1+json": {
       "config": {
        "plotlyServerURL": "https://plot.ly"
       },
       "data": [
        {
         "lowerfence": [
          0.12851596511900437,
          2.137551867961884,
          1.0219393342733383,
          2.472411781549454,
          1.892573130130768,
          1.5610804289579392,
          1.1674433916807174
         ],
         "mean": [
          4.99139928817749,
          6.094335556030273,
          1.7545981407165527,
          3.2524993419647217,
          2.3231000900268555,
          1.8226345777511597,
          1.255156397819519
         ],
         "median": [
          3.4602532386779785,
          5.684777736663818,
          1.699710488319397,
          3.221218228340149,
          2.3014739751815796,
          1.8063544631004333,
          1.2515313625335693
         ],
         "name": "-1.0",
         "q1": [
          2.3486601412296295,
          4.928840637207031,
          1.567637786269188,
          3.0847536623477936,
          2.2271066308021545,
          1.7609087228775024,
          1.2368226796388626
         ],
         "q3": [
          4.892185986042023,
          6.519306540489197,
          1.8434823155403137,
          3.364364743232727,
          2.380659908056259,
          1.8556641042232513,
          1.2667797803878784
         ],
         "type": "box",
         "upperfence": [
          18.4730984210968,
          12.4051721572876,
          2.7989069819450387,
          4.209979689121246,
          2.87230920791626,
          2.173682981729508,
          1.3642643719911574
         ],
         "x": [
          "Day5",
          "Day10",
          "Day15",
          "Day20",
          "Day25",
          "Day30",
          "Day40"
         ]
        },
        {
         "lowerfence": [
          0.048893056716770036,
          0.9786643236875536,
          0.6805515363812447,
          1.733571806550026,
          1.661836150288582,
          1.427252581715584,
          1.14029860496521
         ],
         "mean": [
          1.9656013250350952,
          2.734480857849121,
          1.1661996841430664,
          2.224714517593384,
          2.0119142532348633,
          1.6619662046432495,
          1.2230453491210938
         ],
         "median": [
          1.352957308292389,
          2.5646778345108032,
          1.1308141350746155,
          2.2057015895843506,
          1.9965543150901794,
          1.6479778289794922,
          1.2192228436470032
         ],
         "name": "-0.8",
         "q1": [
          0.9151490405201912,
          2.2300796508789062,
          1.0431922525167465,
          2.1204756796360016,
          1.936535432934761,
          1.607044294476509,
          1.2054731398820877
         ],
         "q3": [
          1.9186507016420364,
          2.9338899552822113,
          1.225913166999817,
          2.2944809794425964,
          2.0598766803741455,
          1.6918841749429703,
          1.2334868907928467
         ],
         "type": "box",
         "upperfence": [
          7.326262032985689,
          5.45616227388382,
          1.8520423561334611,
          2.8252811074256896,
          2.4465632498264314,
          1.9737012654542925,
          1.3232223212718965
         ],
         "x": [
          "Day5",
          "Day10",
          "Day15",
          "Day20",
          "Day25",
          "Day30",
          "Day40"
         ]
        },
        {
         "lowerfence": [
          0.03041170043870811,
          0.634895880520344,
          0.5101846486330034,
          1.3315979212522506,
          1.480931395292282,
          1.3148400455713272,
          1.1137809544801711
         ],
         "mean": [
          1.2292532920837402,
          1.7653107643127441,
          0.8734065294265747,
          1.6913985013961792,
          1.7743722200393677,
          1.5272585153579712,
          1.1913213729858398
         ],
         "median": [
          0.8420288264751434,
          1.6581279635429382,
          0.8475854694843292,
          1.6777255535125732,
          1.7630553841590881,
          1.5148364901542664,
          1.1886984705924988
         ],
         "name": "-0.6",
         "q1": [
          0.5701591819524765,
          1.4424270391464233,
          0.7821771427989006,
          1.6155622005462646,
          1.712701991200447,
          1.4779076427221298,
          1.1758009493350983
         ],
         "q3": [
          1.194943979382515,
          1.895180121064186,
          0.9183870255947113,
          1.7425473928451538,
          1.815666288137436,
          1.5546741634607315,
          1.2020413875579834
         ],
         "type": "box",
         "upperfence": [
          4.611224675178529,
          3.509469169378281,
          1.3826419681310655,
          2.129907447099686,
          2.131572276353836,
          1.8078654140233994,
          1.285270819067955
         ],
         "x": [
          "Day5",
          "Day10",
          "Day15",
          "Day20",
          "Day25",
          "Day30",
          "Day40"
         ]
        },
        {
         "lowerfence": [
          0.022236760566011083,
          0.4684132121503353,
          0.40836165696382526,
          1.0811618477106093,
          1.3352755039930344,
          1.2185533970594407,
          1.0888640850782394
         ],
         "mean": [
          0.8955693244934082,
          1.3023390769958496,
          0.6982119083404541,
          1.3640527725219727,
          1.5873289108276367,
          1.4127893447875977,
          1.1612027883529663
         ],
         "median": [
          0.6140072643756866,
          1.2234227061271667,
          0.6775949895381927,
          1.3531337976455688,
          1.5785419940948486,
          1.4017187356948853,
          1.1595166325569153
         ],
         "name": "-0.4",
         "q1": [
          0.41523200646042824,
          1.0649733543395996,
          0.6253165304660797,
          1.304274633526802,
          1.5357153415679932,
          1.367984727025032,
          1.1472975313663483
         ],
         "q3": [
          0.8702172115445137,
          1.398809239268303,
          0.7340879142284393,
          1.4042247533798218,
          1.6231539696455002,
          1.4379255920648575,
          1.1720509976148605
         ],
         "type": "box",
         "upperfence": [
          3.3610754728317263,
          2.583879351615906,
          1.1049555003643037,
          1.7093551695346834,
          1.8892780363559725,
          1.6678822606801988,
          1.2495822995901107
         ],
         "x": [
          "Day5",
          "Day10",
          "Day15",
          "Day20",
          "Day25",
          "Day30",
          "Day40"
         ]
        },
        {
         "lowerfence": [
          0.01742716883309186,
          0.37164843305945416,
          0.3405043281614782,
          0.9088955491781234,
          1.2148591727018359,
          1.1354218691587448,
          1.0644721925258636
         ],
         "mean": [
          0.7025197744369507,
          1.0316581726074219,
          0.5815151929855347,
          1.1433329582214355,
          1.4357564449310303,
          1.314205527305603,
          1.1337368488311768
         ],
         "median": [
          0.4809410572052002,
          0.9701448678970337,
          0.5645513236522675,
          1.1344812512397766,
          1.4286190867424011,
          1.304200291633606,
          1.1318191289901733
         ],
         "name": "-0.2",
         "q1": [
          0.32430310919880867,
          0.8442812785506248,
          0.520930327475071,
          1.094144955277443,
          1.3910218328237534,
          1.2731330692768097,
          1.1203023195266724
         ],
         "q3": [
          0.6823128089308739,
          1.1079061776399612,
          0.6115631684660912,
          1.176805630326271,
          1.4673469364643097,
          1.3375978618860245,
          1.1436813324689865
         ],
         "type": "box",
         "upperfence": [
          2.637783294916153,
          2.0440866172313696,
          0.91978794336319,
          1.4281887561082842,
          1.6978427201509478,
          1.547822979092598,
          1.2158379912376405
         ],
         "x": [
          "Day5",
          "Day10",
          "Day15",
          "Day20",
          "Day25",
          "Day30",
          "Day40"
         ]
        },
        {
         "lowerfence": [
          0.014320112555287794,
          0.3086895935237408,
          0.29202193990349773,
          0.7839968860149383,
          1.115330272912979,
          1.0631549090147019,
          1.0409046351909639
         ],
         "mean": [
          0.5788939595222473,
          0.8552619814872742,
          0.4981824457645416,
          0.9840790033340454,
          1.3109257221221924,
          1.2285866737365723,
          1.1075409650802612
         ],
         "median": [
          0.396075502038002,
          0.8035366535186768,
          0.4837086349725723,
          0.9764608442783356,
          1.304895281791687,
          1.2196370959281921,
          1.1053376197814941
         ],
         "name": "-0.0",
         "q1": [
          0.2677955590188503,
          0.6994077935814857,
          0.44621749594807625,
          0.9422220140695572,
          1.2718668282032013,
          1.1908874809741974,
          1.0944018214941025
         ],
         "q3": [
          0.5614606365561485,
          0.918467216193676,
          0.5238890871405602,
          1.0123704671859741,
          1.33916275203228,
          1.25038480758667,
          1.116585373878479
         ],
         "type": "box",
         "upperfence": [
          2.171976429224015,
          1.6955468207597733,
          0.7877687826752663,
          1.2270110666751861,
          1.5411864668130875,
          1.443355366587639,
          1.184177926182747
         ],
         "x": [
          "Day5",
          "Day10",
          "Day15",
          "Day20",
          "Day25",
          "Day30",
          "Day40"
         ]
        },
        {
         "lowerfence": [
          0.01215555905364455,
          0.26233391463756583,
          0.255180199444294,
          0.6894683241844177,
          1.0298066139221191,
          0.9994040921330453,
          1.018435111641884
         ],
         "mean": [
          0.49144965410232544,
          0.7295418381690979,
          0.4357415735721588,
          0.8636532425880432,
          1.2058607339859009,
          1.1535370349884033,
          1.0818383693695068
         ],
         "median": [
          0.33560171723365784,
          0.685856431722641,
          0.42312926054000854,
          0.8571523725986481,
          1.2006746530532837,
          1.145224928855896,
          1.0800643563270569
         ],
         "name": "0.2",
         "q1": [
          0.2267155945301056,
          0.5968529805541039,
          0.3905513361096382,
          0.8271408081054688,
          1.170918419957161,
          1.1186609268188477,
          1.0696110278367996
         ],
         "q3": [
          0.4765552319586277,
          0.7837428897619247,
          0.45829959213733673,
          0.8884834498167038,
          1.2314959913492203,
          1.173784226179123,
          1.0908188819885254
         ],
         "type": "box",
         "upperfence": [
          1.8501552253961568,
          1.446186250448227,
          0.6885915711522103,
          1.0753149062395095,
          1.411460420489311,
          1.352709573507309,
          1.1545188546180725
         ],
         "x": [
          "Day5",
          "Day10",
          "Day15",
          "Day20",
          "Day25",
          "Day30",
          "Day40"
         ]
        },
        {
         "lowerfence": [
          0.01060359415132554,
          0.22908490709960466,
          0.22664654292166236,
          0.6150715529918671,
          0.9567542582750321,
          0.942737041413784,
          0.9965971603989601
         ],
         "mean": [
          0.4274229109287262,
          0.6360375285148621,
          0.3873882591724396,
          0.7693114876747131,
          1.1164387464523315,
          1.0867891311645508,
          1.0574041604995728
         ],
         "median": [
          0.2920610308647156,
          0.5980814099311829,
          0.3762059956789017,
          0.7635902166366577,
          1.1120071411132812,
          1.0792713165283203,
          1.0559970140457153
         ],
         "name": "0.4",
         "q1": [
          0.19766777008771896,
          0.520573578774929,
          0.34725894033908844,
          0.7369082123041153,
          1.0850536674261093,
          1.054195761680603,
          1.0459684878587723
         ],
         "q3": [
          0.4140915237367153,
          0.6831800863146782,
          0.4074586182832718,
          0.7913024425506592,
          1.1399058550596237,
          1.1060030907392502,
          1.0662489384412766
         ],
         "type": "box",
         "upperfence": [
          1.6119807243347168,
          1.2586215972900392,
          0.6123997867107391,
          0.9567169547080995,
          1.3014600425958633,
          1.272672778367996,
          1.1267056614160538
         ],
         "x": [
          "Day5",
          "Day10",
          "Day15",
          "Day20",
          "Day25",
          "Day30",
          "Day40"
         ]
        },
        {
         "lowerfence": [
          0.00938063934445382,
          0.20385175831615926,
          0.20418703518807887,
          0.5548423811793327,
          0.8932537451386452,
          0.8925623461604119,
          0.9756557911634446
         ],
         "mean": [
          0.37797805666923523,
          0.5641120672225952,
          0.3485351800918579,
          0.6938559412956238,
          1.0393588542938232,
          1.0277187824249268,
          1.0340790748596191
         ],
         "median": [
          0.25822143256664276,
          0.5301280915737152,
          0.33849450945854187,
          0.6887311637401581,
          1.0354462265968323,
          1.020663321018219,
          1.0329005718231201
         ],
         "name": "0.6",
         "q1": [
          0.1746255774050951,
          0.46178724244236946,
          0.3123507536947727,
          0.6647854968905449,
          1.0107769519090652,
          0.9972121566534042,
          1.0232207775115967
         ],
         "q3": [
          0.3662351183593273,
          0.6057942062616348,
          0.3665386512875557,
          0.7136514857411385,
          1.0610238015651703,
          1.04571034014225,
          1.042815923690796
         ],
         "type": "box",
         "upperfence": [
          1.4234447926282883,
          1.1160913527011875,
          0.5503573089838028,
          0.8620647475123405,
          1.207712057232857,
          1.202190998196602,
          1.099983099102974
         ],
         "x": [
          "Day5",
          "Day10",
          "Day15",
          "Day20",
          "Day25",
          "Day30",
          "Day40"
         ]
        },
        {
         "lowerfence": [
          0.008404755103401843,
          0.18290680013597013,
          0.18552801795303825,
          0.5057518318295479,
          0.8375325173139572,
          0.8469749093055725,
          0.9551329001784326
         ],
         "mean": [
          0.33972692489624023,
          0.5067240595817566,
          0.3167109191417694,
          0.6317815780639648,
          0.9723206162452698,
          0.9745578169822693,
          1.0118392705917358
         ],
         "median": [
          0.23202411830425262,
          0.47635674476623535,
          0.3075692355632782,
          0.6271568536758423,
          0.9688774049282074,
          0.9679938554763794,
          1.0108461380004883
         ],
         "name": "0.8",
         "q1": [
          0.15683300234377384,
          0.41481466963887215,
          0.28395577520132065,
          0.6054233834147453,
          0.9462407380342484,
          0.9460284113883972,
          1.0014660358428955
         ],
         "q3": [
          0.3289972394704819,
          0.5442513525485992,
          0.33299291878938675,
          0.6497276872396469,
          0.9923042953014374,
          0.9915269389748573,
          1.0204182863235474
         ],
         "type": "box",
         "upperfence": [
          1.2772071659564974,
          1.0036119312047957,
          0.499600476026535,
          0.7846750780940056,
          1.126578262448311,
          1.1379169523715973,
          1.0750161468982695
         ],
         "x": [
          "Day5",
          "Day10",
          "Day15",
          "Day20",
          "Day25",
          "Day30",
          "Day40"
         ]
        },
        {
         "lowerfence": [
          0.007670032745227241,
          0.16652449443936354,
          0.17025828436017038,
          0.464299825578928,
          0.7887327551841735,
          0.8057803407311439,
          0.9355997890233994
         ],
         "mean": [
          0.3077504634857178,
          0.4597683846950531,
          0.29043540358543396,
          0.5798351764678955,
          0.9134957790374756,
          0.9266232252120972,
          0.9908283948898315
         ],
         "median": [
          0.21011929214000702,
          0.43229836225509644,
          0.2820342481136322,
          0.5755214095115662,
          0.9103701710700989,
          0.9205453991889954,
          0.9897651374340057
         ],
         "name": "1.0",
         "q1": [
          0.14198432490229607,
          0.3763374947011471,
          0.2603638917207718,
          0.5556826144456863,
          0.8894224911928177,
          0.8996036574244499,
          0.9806631207466125
         ],
         "q3": [
          0.29794256016612053,
          0.4938007593154907,
          0.30545176193118095,
          0.5963380634784698,
          0.9319597333669662,
          0.9428162649273872,
          0.9990358799695969
         ],
         "type": "box",
         "upperfence": [
          1.1573256731033328,
          0.909016637504101,
          0.4586256556212902,
          0.7199198797345161,
          1.056322380900383,
          1.080871719121933,
          1.0512454509735107
         ],
         "x": [
          "Day5",
          "Day10",
          "Day15",
          "Day20",
          "Day25",
          "Day30",
          "Day40"
         ]
        }
       ],
       "layout": {
        "annotations": [
         {
          "showarrow": false,
          "text": "Prior R",
          "x": 1,
          "xanchor": "right",
          "xref": "x domain",
          "y": 3.4657359027997274,
          "yanchor": "top",
          "yref": "y"
         }
        ],
        "boxmode": "group",
        "shapes": [
         {
          "line": {
           "dash": "dot"
          },
          "type": "line",
          "x0": 0,
          "x1": 1,
          "xref": "x domain",
          "y0": 3.4657359027997274,
          "y1": 3.4657359027997274,
          "yref": "y"
         },
         {
          "fillcolor": "black",
          "line": {
           "width": 0
          },
          "opacity": 0.1,
          "type": "rect",
          "x0": 0,
          "x1": 1,
          "xref": "x domain",
          "y0": 0.1265890399214495,
          "y1": 18.444397270569677,
          "yref": "y"
         }
        ],
        "template": {
         "data": {
          "bar": [
           {
            "error_x": {
             "color": "#2a3f5f"
            },
            "error_y": {
             "color": "#2a3f5f"
            },
            "marker": {
             "line": {
              "color": "#E5ECF6",
              "width": 0.5
             }
            },
            "type": "bar"
           }
          ],
          "barpolar": [
           {
            "marker": {
             "line": {
              "color": "#E5ECF6",
              "width": 0.5
             }
            },
            "type": "barpolar"
           }
          ],
          "carpet": [
           {
            "aaxis": {
             "endlinecolor": "#2a3f5f",
             "gridcolor": "white",
             "linecolor": "white",
             "minorgridcolor": "white",
             "startlinecolor": "#2a3f5f"
            },
            "baxis": {
             "endlinecolor": "#2a3f5f",
             "gridcolor": "white",
             "linecolor": "white",
             "minorgridcolor": "white",
             "startlinecolor": "#2a3f5f"
            },
            "type": "carpet"
           }
          ],
          "choropleth": [
           {
            "colorbar": {
             "outlinewidth": 0,
             "ticks": ""
            },
            "type": "choropleth"
           }
          ],
          "contour": [
           {
            "colorbar": {
             "outlinewidth": 0,
             "ticks": ""
            },
            "colorscale": [
             [
              0,
              "#0d0887"
             ],
             [
              0.1111111111111111,
              "#46039f"
             ],
             [
              0.2222222222222222,
              "#7201a8"
             ],
             [
              0.3333333333333333,
              "#9c179e"
             ],
             [
              0.4444444444444444,
              "#bd3786"
             ],
             [
              0.5555555555555556,
              "#d8576b"
             ],
             [
              0.6666666666666666,
              "#ed7953"
             ],
             [
              0.7777777777777778,
              "#fb9f3a"
             ],
             [
              0.8888888888888888,
              "#fdca26"
             ],
             [
              1,
              "#f0f921"
             ]
            ],
            "type": "contour"
           }
          ],
          "contourcarpet": [
           {
            "colorbar": {
             "outlinewidth": 0,
             "ticks": ""
            },
            "type": "contourcarpet"
           }
          ],
          "heatmap": [
           {
            "colorbar": {
             "outlinewidth": 0,
             "ticks": ""
            },
            "colorscale": [
             [
              0,
              "#0d0887"
             ],
             [
              0.1111111111111111,
              "#46039f"
             ],
             [
              0.2222222222222222,
              "#7201a8"
             ],
             [
              0.3333333333333333,
              "#9c179e"
             ],
             [
              0.4444444444444444,
              "#bd3786"
             ],
             [
              0.5555555555555556,
              "#d8576b"
             ],
             [
              0.6666666666666666,
              "#ed7953"
             ],
             [
              0.7777777777777778,
              "#fb9f3a"
             ],
             [
              0.8888888888888888,
              "#fdca26"
             ],
             [
              1,
              "#f0f921"
             ]
            ],
            "type": "heatmap"
           }
          ],
          "heatmapgl": [
           {
            "colorbar": {
             "outlinewidth": 0,
             "ticks": ""
            },
            "colorscale": [
             [
              0,
              "#0d0887"
             ],
             [
              0.1111111111111111,
              "#46039f"
             ],
             [
              0.2222222222222222,
              "#7201a8"
             ],
             [
              0.3333333333333333,
              "#9c179e"
             ],
             [
              0.4444444444444444,
              "#bd3786"
             ],
             [
              0.5555555555555556,
              "#d8576b"
             ],
             [
              0.6666666666666666,
              "#ed7953"
             ],
             [
              0.7777777777777778,
              "#fb9f3a"
             ],
             [
              0.8888888888888888,
              "#fdca26"
             ],
             [
              1,
              "#f0f921"
             ]
            ],
            "type": "heatmapgl"
           }
          ],
          "histogram": [
           {
            "marker": {
             "colorbar": {
              "outlinewidth": 0,
              "ticks": ""
             }
            },
            "type": "histogram"
           }
          ],
          "histogram2d": [
           {
            "colorbar": {
             "outlinewidth": 0,
             "ticks": ""
            },
            "colorscale": [
             [
              0,
              "#0d0887"
             ],
             [
              0.1111111111111111,
              "#46039f"
             ],
             [
              0.2222222222222222,
              "#7201a8"
             ],
             [
              0.3333333333333333,
              "#9c179e"
             ],
             [
              0.4444444444444444,
              "#bd3786"
             ],
             [
              0.5555555555555556,
              "#d8576b"
             ],
             [
              0.6666666666666666,
              "#ed7953"
             ],
             [
              0.7777777777777778,
              "#fb9f3a"
             ],
             [
              0.8888888888888888,
              "#fdca26"
             ],
             [
              1,
              "#f0f921"
             ]
            ],
            "type": "histogram2d"
           }
          ],
          "histogram2dcontour": [
           {
            "colorbar": {
             "outlinewidth": 0,
             "ticks": ""
            },
            "colorscale": [
             [
              0,
              "#0d0887"
             ],
             [
              0.1111111111111111,
              "#46039f"
             ],
             [
              0.2222222222222222,
              "#7201a8"
             ],
             [
              0.3333333333333333,
              "#9c179e"
             ],
             [
              0.4444444444444444,
              "#bd3786"
             ],
             [
              0.5555555555555556,
              "#d8576b"
             ],
             [
              0.6666666666666666,
              "#ed7953"
             ],
             [
              0.7777777777777778,
              "#fb9f3a"
             ],
             [
              0.8888888888888888,
              "#fdca26"
             ],
             [
              1,
              "#f0f921"
             ]
            ],
            "type": "histogram2dcontour"
           }
          ],
          "mesh3d": [
           {
            "colorbar": {
             "outlinewidth": 0,
             "ticks": ""
            },
            "type": "mesh3d"
           }
          ],
          "parcoords": [
           {
            "line": {
             "colorbar": {
              "outlinewidth": 0,
              "ticks": ""
             }
            },
            "type": "parcoords"
           }
          ],
          "pie": [
           {
            "automargin": true,
            "type": "pie"
           }
          ],
          "scatter": [
           {
            "marker": {
             "colorbar": {
              "outlinewidth": 0,
              "ticks": ""
             }
            },
            "type": "scatter"
           }
          ],
          "scatter3d": [
           {
            "line": {
             "colorbar": {
              "outlinewidth": 0,
              "ticks": ""
             }
            },
            "marker": {
             "colorbar": {
              "outlinewidth": 0,
              "ticks": ""
             }
            },
            "type": "scatter3d"
           }
          ],
          "scattercarpet": [
           {
            "marker": {
             "colorbar": {
              "outlinewidth": 0,
              "ticks": ""
             }
            },
            "type": "scattercarpet"
           }
          ],
          "scattergeo": [
           {
            "marker": {
             "colorbar": {
              "outlinewidth": 0,
              "ticks": ""
             }
            },
            "type": "scattergeo"
           }
          ],
          "scattergl": [
           {
            "marker": {
             "colorbar": {
              "outlinewidth": 0,
              "ticks": ""
             }
            },
            "type": "scattergl"
           }
          ],
          "scattermapbox": [
           {
            "marker": {
             "colorbar": {
              "outlinewidth": 0,
              "ticks": ""
             }
            },
            "type": "scattermapbox"
           }
          ],
          "scatterpolar": [
           {
            "marker": {
             "colorbar": {
              "outlinewidth": 0,
              "ticks": ""
             }
            },
            "type": "scatterpolar"
           }
          ],
          "scatterpolargl": [
           {
            "marker": {
             "colorbar": {
              "outlinewidth": 0,
              "ticks": ""
             }
            },
            "type": "scatterpolargl"
           }
          ],
          "scatterternary": [
           {
            "marker": {
             "colorbar": {
              "outlinewidth": 0,
              "ticks": ""
             }
            },
            "type": "scatterternary"
           }
          ],
          "surface": [
           {
            "colorbar": {
             "outlinewidth": 0,
             "ticks": ""
            },
            "colorscale": [
             [
              0,
              "#0d0887"
             ],
             [
              0.1111111111111111,
              "#46039f"
             ],
             [
              0.2222222222222222,
              "#7201a8"
             ],
             [
              0.3333333333333333,
              "#9c179e"
             ],
             [
              0.4444444444444444,
              "#bd3786"
             ],
             [
              0.5555555555555556,
              "#d8576b"
             ],
             [
              0.6666666666666666,
              "#ed7953"
             ],
             [
              0.7777777777777778,
              "#fb9f3a"
             ],
             [
              0.8888888888888888,
              "#fdca26"
             ],
             [
              1,
              "#f0f921"
             ]
            ],
            "type": "surface"
           }
          ],
          "table": [
           {
            "cells": {
             "fill": {
              "color": "#EBF0F8"
             },
             "line": {
              "color": "white"
             }
            },
            "header": {
             "fill": {
              "color": "#C8D4E3"
             },
             "line": {
              "color": "white"
             }
            },
            "type": "table"
           }
          ]
         },
         "layout": {
          "annotationdefaults": {
           "arrowcolor": "#2a3f5f",
           "arrowhead": 0,
           "arrowwidth": 1
          },
          "autotypenumbers": "strict",
          "coloraxis": {
           "colorbar": {
            "outlinewidth": 0,
            "ticks": ""
           }
          },
          "colorscale": {
           "diverging": [
            [
             0,
             "#8e0152"
            ],
            [
             0.1,
             "#c51b7d"
            ],
            [
             0.2,
             "#de77ae"
            ],
            [
             0.3,
             "#f1b6da"
            ],
            [
             0.4,
             "#fde0ef"
            ],
            [
             0.5,
             "#f7f7f7"
            ],
            [
             0.6,
             "#e6f5d0"
            ],
            [
             0.7,
             "#b8e186"
            ],
            [
             0.8,
             "#7fbc41"
            ],
            [
             0.9,
             "#4d9221"
            ],
            [
             1,
             "#276419"
            ]
           ],
           "sequential": [
            [
             0,
             "#0d0887"
            ],
            [
             0.1111111111111111,
             "#46039f"
            ],
            [
             0.2222222222222222,
             "#7201a8"
            ],
            [
             0.3333333333333333,
             "#9c179e"
            ],
            [
             0.4444444444444444,
             "#bd3786"
            ],
            [
             0.5555555555555556,
             "#d8576b"
            ],
            [
             0.6666666666666666,
             "#ed7953"
            ],
            [
             0.7777777777777778,
             "#fb9f3a"
            ],
            [
             0.8888888888888888,
             "#fdca26"
            ],
            [
             1,
             "#f0f921"
            ]
           ],
           "sequentialminus": [
            [
             0,
             "#0d0887"
            ],
            [
             0.1111111111111111,
             "#46039f"
            ],
            [
             0.2222222222222222,
             "#7201a8"
            ],
            [
             0.3333333333333333,
             "#9c179e"
            ],
            [
             0.4444444444444444,
             "#bd3786"
            ],
            [
             0.5555555555555556,
             "#d8576b"
            ],
            [
             0.6666666666666666,
             "#ed7953"
            ],
            [
             0.7777777777777778,
             "#fb9f3a"
            ],
            [
             0.8888888888888888,
             "#fdca26"
            ],
            [
             1,
             "#f0f921"
            ]
           ]
          },
          "colorway": [
           "#636efa",
           "#EF553B",
           "#00cc96",
           "#ab63fa",
           "#FFA15A",
           "#19d3f3",
           "#FF6692",
           "#B6E880",
           "#FF97FF",
           "#FECB52"
          ],
          "font": {
           "color": "#2a3f5f"
          },
          "geo": {
           "bgcolor": "white",
           "lakecolor": "white",
           "landcolor": "#E5ECF6",
           "showlakes": true,
           "showland": true,
           "subunitcolor": "white"
          },
          "hoverlabel": {
           "align": "left"
          },
          "hovermode": "closest",
          "mapbox": {
           "style": "light"
          },
          "paper_bgcolor": "white",
          "plot_bgcolor": "#E5ECF6",
          "polar": {
           "angularaxis": {
            "gridcolor": "white",
            "linecolor": "white",
            "ticks": ""
           },
           "bgcolor": "#E5ECF6",
           "radialaxis": {
            "gridcolor": "white",
            "linecolor": "white",
            "ticks": ""
           }
          },
          "scene": {
           "xaxis": {
            "backgroundcolor": "#E5ECF6",
            "gridcolor": "white",
            "gridwidth": 2,
            "linecolor": "white",
            "showbackground": true,
            "ticks": "",
            "zerolinecolor": "white"
           },
           "yaxis": {
            "backgroundcolor": "#E5ECF6",
            "gridcolor": "white",
            "gridwidth": 2,
            "linecolor": "white",
            "showbackground": true,
            "ticks": "",
            "zerolinecolor": "white"
           },
           "zaxis": {
            "backgroundcolor": "#E5ECF6",
            "gridcolor": "white",
            "gridwidth": 2,
            "linecolor": "white",
            "showbackground": true,
            "ticks": "",
            "zerolinecolor": "white"
           }
          },
          "shapedefaults": {
           "line": {
            "color": "#2a3f5f"
           }
          },
          "ternary": {
           "aaxis": {
            "gridcolor": "white",
            "linecolor": "white",
            "ticks": ""
           },
           "baxis": {
            "gridcolor": "white",
            "linecolor": "white",
            "ticks": ""
           },
           "bgcolor": "#E5ECF6",
           "caxis": {
            "gridcolor": "white",
            "linecolor": "white",
            "ticks": ""
           }
          },
          "title": {
           "x": 0.05
          },
          "xaxis": {
           "automargin": true,
           "gridcolor": "white",
           "linecolor": "white",
           "ticks": "",
           "title": {
            "standoff": 15
           },
           "zerolinecolor": "white",
           "zerolinewidth": 2
          },
          "yaxis": {
           "automargin": true,
           "gridcolor": "white",
           "linecolor": "white",
           "ticks": "",
           "title": {
            "standoff": 15
           },
           "zerolinecolor": "white",
           "zerolinewidth": 2
          }
         }
        },
        "title": {
         "text": "ON"
        }
       }
      }
     },
     "metadata": {}
    }
   ],
   "source": [
    "# Create list of names for x-axis and traces\n",
    "group_name = ['Day{}'.format(x) for x in chosen_times]\n",
    "\n",
    "# Sort results\n",
    "all_intervals.sort_values(by=['Epsilon','Time Points'], inplace=True)\n",
    "\n",
    "# Plot (box plot for inference)\n",
    "fig = go.Figure()\n",
    "\n",
    "prior_dist = scipy.stats.gamma(a, scale=1/b)\n",
    "median = prior_dist.median()\n",
    "prior_dist_interval = prior_dist.interval(.95)\n",
    "\n",
    "fig.add_hline(y=median, line_dash='dot',\n",
    "              annotation_text='Prior R', \n",
    "              annotation_position='top right')\n",
    "fig.add_hrect(y0=prior_dist_interval[0], y1=prior_dist_interval[1], line_width=0, fillcolor='black', opacity=0.1)\n",
    "\n",
    "n = len(group_name)\n",
    "for i in range(len(epsilon_range)):\n",
    "    fig.add_trace(\n",
    "        go.Box(\n",
    "            mean=all_intervals.loc[all_intervals['Central Probability']==0]['Mean'][i*n:(i+1)*n],\n",
    "            median=all_intervals.loc[all_intervals['Central Probability']==0]['Lower bound CI'][i*n:(i+1)*n],\n",
    "            q1=all_intervals.loc[all_intervals['Central Probability']==0.25]['Lower bound CI'][i*n:(i+1)*n],\n",
    "            q3=all_intervals.loc[all_intervals['Central Probability']==0.25]['Upper bound CI'][i*n:(i+1)*n],\n",
    "            upperfence=all_intervals.loc[all_intervals['Central Probability']==0.95]['Upper bound CI'][i*n:(i+1)*n],\n",
    "            lowerfence=all_intervals.loc[all_intervals['Central Probability']==0.95]['Lower bound CI'][i*n:(i+1)*n],\n",
    "            x=group_name,\n",
    "            name=str(round(epsilon_range[i],1))\n",
    "        )\n",
    "    )\n",
    "fig.update_layout(boxmode='group', title='ON')\n",
    "\n",
    "fig.write_image('ON-inf-r.pdf')\n",
    "fig.show()"
   ]
  },
  {
   "cell_type": "code",
   "execution_count": null,
   "metadata": {},
   "outputs": [],
   "source": []
  }
 ]
}