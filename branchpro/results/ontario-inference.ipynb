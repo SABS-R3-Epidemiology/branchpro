{
 "metadata": {
  "language_info": {
   "codemirror_mode": {
    "name": "ipython",
    "version": 3
   },
   "file_extension": ".py",
   "mimetype": "text/x-python",
   "name": "python",
   "nbconvert_exporter": "python",
   "pygments_lexer": "ipython3",
   "version": "3.8.5"
  },
  "orig_nbformat": 2,
  "kernelspec": {
   "name": "python3",
   "display_name": "Python 3.8.5 64-bit ('base': conda)",
   "metadata": {
    "interpreter": {
     "hash": "34783718b96b00301f03fbc7cc717743f1d89135027a4004f1427440c34696d4"
    }
   }
  }
 },
 "nbformat": 4,
 "nbformat_minor": 2,
 "cells": [
  {
   "source": [
    "# Inference on Australia data and observe effects of epsilon"
   ],
   "cell_type": "markdown",
   "metadata": {}
  },
  {
   "source": [
    "## Load all information and modify them to the correct format"
   ],
   "cell_type": "markdown",
   "metadata": {}
  },
  {
   "cell_type": "code",
   "execution_count": 1,
   "metadata": {},
   "outputs": [],
   "source": [
    "# Import libraries\n",
    "import numpy as np\n",
    "import math\n",
    "import branchpro\n",
    "import scipy.stats\n",
    "import matplotlib\n",
    "import plotly.graph_objects as go\n",
    "from matplotlib import pyplot as plt\n",
    "import os\n",
    "import pandas as pd\n"
   ]
  },
  {
   "cell_type": "code",
   "execution_count": 2,
   "metadata": {},
   "outputs": [],
   "source": [
    "# Read serial interval\n",
    "si_file = 'si-epinow'\n",
    "path = os.path.join('../data_library/serial_interval', '{}.csv'.format(si_file))\n",
    "serial_interval = pd.read_csv(path, header=None)\n",
    "serial_interval = serial_interval.fillna(0)\n",
    "serial_intervals = serial_interval.values.T"
   ]
  },
  {
   "cell_type": "code",
   "execution_count": 3,
   "metadata": {},
   "outputs": [],
   "source": [
    "# Read Ontario data\n",
    "path = os.path.join('../data_library/covid_ontario/ON.csv')\n",
    "data = pd.read_csv(path)[:51]"
   ]
  },
  {
   "cell_type": "code",
   "execution_count": 4,
   "metadata": {},
   "outputs": [],
   "source": [
    "time_key = 'Time'\n",
    "num_timepoints = max(data[time_key])\n",
    "data_times = data[time_key]\n",
    "\n",
    "# Pad with zeros the time points where we have no information on\n",
    "# the number of incidences\n",
    "padded_inc_data = data.set_index(time_key).reindex(\n",
    "    range(\n",
    "        1, max(data_times)+1)\n",
    "        ).fillna(0).reset_index()\n",
    "locally_infected_cases = padded_inc_data['Incidence Number']\n",
    "imported_cases = padded_inc_data['Imported Cases']\n",
    "\n",
    "start_times = np.arange(1, num_timepoints+1, dtype=int)\n",
    "times = np.arange(num_timepoints+1)"
   ]
  },
  {
   "cell_type": "code",
   "execution_count": 5,
   "metadata": {},
   "outputs": [
    {
     "output_type": "display_data",
     "data": {
      "application/vnd.plotly.v1+json": {
       "config": {
        "plotlyServerURL": "https://plot.ly"
       },
       "data": [
        {
         "name": "Local Incidences",
         "type": "bar",
         "x": [
          0,
          1,
          2,
          3,
          4,
          5,
          6,
          7,
          8,
          9,
          10,
          11,
          12,
          13,
          14,
          15,
          16,
          17,
          18,
          19,
          20,
          21,
          22,
          23,
          24,
          25,
          26,
          27,
          28,
          29,
          30,
          31,
          32,
          33,
          34,
          35,
          36,
          37,
          38,
          39,
          40,
          41,
          42,
          43,
          44,
          45,
          46,
          47,
          48,
          49,
          50,
          51
         ],
         "y": [
          0,
          0,
          0,
          0,
          0,
          1,
          0,
          1,
          1,
          3,
          7,
          11,
          10,
          7,
          5,
          19,
          17,
          28,
          37,
          52,
          44,
          58,
          95,
          111,
          92,
          173,
          201,
          157,
          176,
          323,
          311,
          367,
          378,
          404,
          317,
          343,
          440,
          433,
          464,
          449,
          378,
          456,
          518,
          579,
          546,
          605,
          566,
          728,
          594,
          582,
          605
         ]
        },
        {
         "name": "Imported Cases",
         "type": "bar",
         "x": [
          0,
          1,
          2,
          3,
          4,
          5,
          6,
          7,
          8,
          9,
          10,
          11,
          12,
          13,
          14,
          15,
          16,
          17,
          18,
          19,
          20,
          21,
          22,
          23,
          24,
          25,
          26,
          27,
          28,
          29,
          30,
          31,
          32,
          33,
          34,
          35,
          36,
          37,
          38,
          39,
          40,
          41,
          42,
          43,
          44,
          45,
          46,
          47,
          48,
          49,
          50,
          51
         ],
         "y": [
          2,
          0,
          2,
          1,
          4,
          1,
          3,
          4,
          4,
          6,
          17,
          26,
          26,
          24,
          31,
          34,
          41,
          29,
          28,
          45,
          27,
          27,
          48,
          61,
          44,
          74,
          90,
          78,
          51,
          113,
          99,
          81,
          70,
          59,
          31,
          28,
          33,
          24,
          24,
          30,
          18,
          14,
          20,
          13,
          6,
          8,
          6,
          11,
          6,
          8,
          4
         ]
        }
       ],
       "layout": {
        "template": {
         "data": {
          "bar": [
           {
            "error_x": {
             "color": "rgb(36,36,36)"
            },
            "error_y": {
             "color": "rgb(36,36,36)"
            },
            "marker": {
             "line": {
              "color": "white",
              "width": 0.5
             }
            },
            "type": "bar"
           }
          ],
          "barpolar": [
           {
            "marker": {
             "line": {
              "color": "white",
              "width": 0.5
             }
            },
            "type": "barpolar"
           }
          ],
          "carpet": [
           {
            "aaxis": {
             "endlinecolor": "rgb(36,36,36)",
             "gridcolor": "white",
             "linecolor": "white",
             "minorgridcolor": "white",
             "startlinecolor": "rgb(36,36,36)"
            },
            "baxis": {
             "endlinecolor": "rgb(36,36,36)",
             "gridcolor": "white",
             "linecolor": "white",
             "minorgridcolor": "white",
             "startlinecolor": "rgb(36,36,36)"
            },
            "type": "carpet"
           }
          ],
          "choropleth": [
           {
            "colorbar": {
             "outlinewidth": 1,
             "tickcolor": "rgb(36,36,36)",
             "ticks": "outside"
            },
            "type": "choropleth"
           }
          ],
          "contour": [
           {
            "colorbar": {
             "outlinewidth": 1,
             "tickcolor": "rgb(36,36,36)",
             "ticks": "outside"
            },
            "colorscale": [
             [
              0,
              "#440154"
             ],
             [
              0.1111111111111111,
              "#482878"
             ],
             [
              0.2222222222222222,
              "#3e4989"
             ],
             [
              0.3333333333333333,
              "#31688e"
             ],
             [
              0.4444444444444444,
              "#26828e"
             ],
             [
              0.5555555555555556,
              "#1f9e89"
             ],
             [
              0.6666666666666666,
              "#35b779"
             ],
             [
              0.7777777777777778,
              "#6ece58"
             ],
             [
              0.8888888888888888,
              "#b5de2b"
             ],
             [
              1,
              "#fde725"
             ]
            ],
            "type": "contour"
           }
          ],
          "contourcarpet": [
           {
            "colorbar": {
             "outlinewidth": 1,
             "tickcolor": "rgb(36,36,36)",
             "ticks": "outside"
            },
            "type": "contourcarpet"
           }
          ],
          "heatmap": [
           {
            "colorbar": {
             "outlinewidth": 1,
             "tickcolor": "rgb(36,36,36)",
             "ticks": "outside"
            },
            "colorscale": [
             [
              0,
              "#440154"
             ],
             [
              0.1111111111111111,
              "#482878"
             ],
             [
              0.2222222222222222,
              "#3e4989"
             ],
             [
              0.3333333333333333,
              "#31688e"
             ],
             [
              0.4444444444444444,
              "#26828e"
             ],
             [
              0.5555555555555556,
              "#1f9e89"
             ],
             [
              0.6666666666666666,
              "#35b779"
             ],
             [
              0.7777777777777778,
              "#6ece58"
             ],
             [
              0.8888888888888888,
              "#b5de2b"
             ],
             [
              1,
              "#fde725"
             ]
            ],
            "type": "heatmap"
           }
          ],
          "heatmapgl": [
           {
            "colorbar": {
             "outlinewidth": 1,
             "tickcolor": "rgb(36,36,36)",
             "ticks": "outside"
            },
            "colorscale": [
             [
              0,
              "#440154"
             ],
             [
              0.1111111111111111,
              "#482878"
             ],
             [
              0.2222222222222222,
              "#3e4989"
             ],
             [
              0.3333333333333333,
              "#31688e"
             ],
             [
              0.4444444444444444,
              "#26828e"
             ],
             [
              0.5555555555555556,
              "#1f9e89"
             ],
             [
              0.6666666666666666,
              "#35b779"
             ],
             [
              0.7777777777777778,
              "#6ece58"
             ],
             [
              0.8888888888888888,
              "#b5de2b"
             ],
             [
              1,
              "#fde725"
             ]
            ],
            "type": "heatmapgl"
           }
          ],
          "histogram": [
           {
            "marker": {
             "line": {
              "color": "white",
              "width": 0.6
             }
            },
            "type": "histogram"
           }
          ],
          "histogram2d": [
           {
            "colorbar": {
             "outlinewidth": 1,
             "tickcolor": "rgb(36,36,36)",
             "ticks": "outside"
            },
            "colorscale": [
             [
              0,
              "#440154"
             ],
             [
              0.1111111111111111,
              "#482878"
             ],
             [
              0.2222222222222222,
              "#3e4989"
             ],
             [
              0.3333333333333333,
              "#31688e"
             ],
             [
              0.4444444444444444,
              "#26828e"
             ],
             [
              0.5555555555555556,
              "#1f9e89"
             ],
             [
              0.6666666666666666,
              "#35b779"
             ],
             [
              0.7777777777777778,
              "#6ece58"
             ],
             [
              0.8888888888888888,
              "#b5de2b"
             ],
             [
              1,
              "#fde725"
             ]
            ],
            "type": "histogram2d"
           }
          ],
          "histogram2dcontour": [
           {
            "colorbar": {
             "outlinewidth": 1,
             "tickcolor": "rgb(36,36,36)",
             "ticks": "outside"
            },
            "colorscale": [
             [
              0,
              "#440154"
             ],
             [
              0.1111111111111111,
              "#482878"
             ],
             [
              0.2222222222222222,
              "#3e4989"
             ],
             [
              0.3333333333333333,
              "#31688e"
             ],
             [
              0.4444444444444444,
              "#26828e"
             ],
             [
              0.5555555555555556,
              "#1f9e89"
             ],
             [
              0.6666666666666666,
              "#35b779"
             ],
             [
              0.7777777777777778,
              "#6ece58"
             ],
             [
              0.8888888888888888,
              "#b5de2b"
             ],
             [
              1,
              "#fde725"
             ]
            ],
            "type": "histogram2dcontour"
           }
          ],
          "mesh3d": [
           {
            "colorbar": {
             "outlinewidth": 1,
             "tickcolor": "rgb(36,36,36)",
             "ticks": "outside"
            },
            "type": "mesh3d"
           }
          ],
          "parcoords": [
           {
            "line": {
             "colorbar": {
              "outlinewidth": 1,
              "tickcolor": "rgb(36,36,36)",
              "ticks": "outside"
             }
            },
            "type": "parcoords"
           }
          ],
          "pie": [
           {
            "automargin": true,
            "type": "pie"
           }
          ],
          "scatter": [
           {
            "marker": {
             "colorbar": {
              "outlinewidth": 1,
              "tickcolor": "rgb(36,36,36)",
              "ticks": "outside"
             }
            },
            "type": "scatter"
           }
          ],
          "scatter3d": [
           {
            "line": {
             "colorbar": {
              "outlinewidth": 1,
              "tickcolor": "rgb(36,36,36)",
              "ticks": "outside"
             }
            },
            "marker": {
             "colorbar": {
              "outlinewidth": 1,
              "tickcolor": "rgb(36,36,36)",
              "ticks": "outside"
             }
            },
            "type": "scatter3d"
           }
          ],
          "scattercarpet": [
           {
            "marker": {
             "colorbar": {
              "outlinewidth": 1,
              "tickcolor": "rgb(36,36,36)",
              "ticks": "outside"
             }
            },
            "type": "scattercarpet"
           }
          ],
          "scattergeo": [
           {
            "marker": {
             "colorbar": {
              "outlinewidth": 1,
              "tickcolor": "rgb(36,36,36)",
              "ticks": "outside"
             }
            },
            "type": "scattergeo"
           }
          ],
          "scattergl": [
           {
            "marker": {
             "colorbar": {
              "outlinewidth": 1,
              "tickcolor": "rgb(36,36,36)",
              "ticks": "outside"
             }
            },
            "type": "scattergl"
           }
          ],
          "scattermapbox": [
           {
            "marker": {
             "colorbar": {
              "outlinewidth": 1,
              "tickcolor": "rgb(36,36,36)",
              "ticks": "outside"
             }
            },
            "type": "scattermapbox"
           }
          ],
          "scatterpolar": [
           {
            "marker": {
             "colorbar": {
              "outlinewidth": 1,
              "tickcolor": "rgb(36,36,36)",
              "ticks": "outside"
             }
            },
            "type": "scatterpolar"
           }
          ],
          "scatterpolargl": [
           {
            "marker": {
             "colorbar": {
              "outlinewidth": 1,
              "tickcolor": "rgb(36,36,36)",
              "ticks": "outside"
             }
            },
            "type": "scatterpolargl"
           }
          ],
          "scatterternary": [
           {
            "marker": {
             "colorbar": {
              "outlinewidth": 1,
              "tickcolor": "rgb(36,36,36)",
              "ticks": "outside"
             }
            },
            "type": "scatterternary"
           }
          ],
          "surface": [
           {
            "colorbar": {
             "outlinewidth": 1,
             "tickcolor": "rgb(36,36,36)",
             "ticks": "outside"
            },
            "colorscale": [
             [
              0,
              "#440154"
             ],
             [
              0.1111111111111111,
              "#482878"
             ],
             [
              0.2222222222222222,
              "#3e4989"
             ],
             [
              0.3333333333333333,
              "#31688e"
             ],
             [
              0.4444444444444444,
              "#26828e"
             ],
             [
              0.5555555555555556,
              "#1f9e89"
             ],
             [
              0.6666666666666666,
              "#35b779"
             ],
             [
              0.7777777777777778,
              "#6ece58"
             ],
             [
              0.8888888888888888,
              "#b5de2b"
             ],
             [
              1,
              "#fde725"
             ]
            ],
            "type": "surface"
           }
          ],
          "table": [
           {
            "cells": {
             "fill": {
              "color": "rgb(237,237,237)"
             },
             "line": {
              "color": "white"
             }
            },
            "header": {
             "fill": {
              "color": "rgb(217,217,217)"
             },
             "line": {
              "color": "white"
             }
            },
            "type": "table"
           }
          ]
         },
         "layout": {
          "annotationdefaults": {
           "arrowhead": 0,
           "arrowwidth": 1
          },
          "autotypenumbers": "strict",
          "coloraxis": {
           "colorbar": {
            "outlinewidth": 1,
            "tickcolor": "rgb(36,36,36)",
            "ticks": "outside"
           }
          },
          "colorscale": {
           "diverging": [
            [
             0,
             "rgb(103,0,31)"
            ],
            [
             0.1,
             "rgb(178,24,43)"
            ],
            [
             0.2,
             "rgb(214,96,77)"
            ],
            [
             0.3,
             "rgb(244,165,130)"
            ],
            [
             0.4,
             "rgb(253,219,199)"
            ],
            [
             0.5,
             "rgb(247,247,247)"
            ],
            [
             0.6,
             "rgb(209,229,240)"
            ],
            [
             0.7,
             "rgb(146,197,222)"
            ],
            [
             0.8,
             "rgb(67,147,195)"
            ],
            [
             0.9,
             "rgb(33,102,172)"
            ],
            [
             1,
             "rgb(5,48,97)"
            ]
           ],
           "sequential": [
            [
             0,
             "#440154"
            ],
            [
             0.1111111111111111,
             "#482878"
            ],
            [
             0.2222222222222222,
             "#3e4989"
            ],
            [
             0.3333333333333333,
             "#31688e"
            ],
            [
             0.4444444444444444,
             "#26828e"
            ],
            [
             0.5555555555555556,
             "#1f9e89"
            ],
            [
             0.6666666666666666,
             "#35b779"
            ],
            [
             0.7777777777777778,
             "#6ece58"
            ],
            [
             0.8888888888888888,
             "#b5de2b"
            ],
            [
             1,
             "#fde725"
            ]
           ],
           "sequentialminus": [
            [
             0,
             "#440154"
            ],
            [
             0.1111111111111111,
             "#482878"
            ],
            [
             0.2222222222222222,
             "#3e4989"
            ],
            [
             0.3333333333333333,
             "#31688e"
            ],
            [
             0.4444444444444444,
             "#26828e"
            ],
            [
             0.5555555555555556,
             "#1f9e89"
            ],
            [
             0.6666666666666666,
             "#35b779"
            ],
            [
             0.7777777777777778,
             "#6ece58"
            ],
            [
             0.8888888888888888,
             "#b5de2b"
            ],
            [
             1,
             "#fde725"
            ]
           ]
          },
          "colorway": [
           "#1F77B4",
           "#FF7F0E",
           "#2CA02C",
           "#D62728",
           "#9467BD",
           "#8C564B",
           "#E377C2",
           "#7F7F7F",
           "#BCBD22",
           "#17BECF"
          ],
          "font": {
           "color": "rgb(36,36,36)"
          },
          "geo": {
           "bgcolor": "white",
           "lakecolor": "white",
           "landcolor": "white",
           "showlakes": true,
           "showland": true,
           "subunitcolor": "white"
          },
          "hoverlabel": {
           "align": "left"
          },
          "hovermode": "closest",
          "mapbox": {
           "style": "light"
          },
          "paper_bgcolor": "white",
          "plot_bgcolor": "white",
          "polar": {
           "angularaxis": {
            "gridcolor": "rgb(232,232,232)",
            "linecolor": "rgb(36,36,36)",
            "showgrid": false,
            "showline": true,
            "ticks": "outside"
           },
           "bgcolor": "white",
           "radialaxis": {
            "gridcolor": "rgb(232,232,232)",
            "linecolor": "rgb(36,36,36)",
            "showgrid": false,
            "showline": true,
            "ticks": "outside"
           }
          },
          "scene": {
           "xaxis": {
            "backgroundcolor": "white",
            "gridcolor": "rgb(232,232,232)",
            "gridwidth": 2,
            "linecolor": "rgb(36,36,36)",
            "showbackground": true,
            "showgrid": false,
            "showline": true,
            "ticks": "outside",
            "zeroline": false,
            "zerolinecolor": "rgb(36,36,36)"
           },
           "yaxis": {
            "backgroundcolor": "white",
            "gridcolor": "rgb(232,232,232)",
            "gridwidth": 2,
            "linecolor": "rgb(36,36,36)",
            "showbackground": true,
            "showgrid": false,
            "showline": true,
            "ticks": "outside",
            "zeroline": false,
            "zerolinecolor": "rgb(36,36,36)"
           },
           "zaxis": {
            "backgroundcolor": "white",
            "gridcolor": "rgb(232,232,232)",
            "gridwidth": 2,
            "linecolor": "rgb(36,36,36)",
            "showbackground": true,
            "showgrid": false,
            "showline": true,
            "ticks": "outside",
            "zeroline": false,
            "zerolinecolor": "rgb(36,36,36)"
           }
          },
          "shapedefaults": {
           "fillcolor": "black",
           "line": {
            "width": 0
           },
           "opacity": 0.3
          },
          "ternary": {
           "aaxis": {
            "gridcolor": "rgb(232,232,232)",
            "linecolor": "rgb(36,36,36)",
            "showgrid": false,
            "showline": true,
            "ticks": "outside"
           },
           "baxis": {
            "gridcolor": "rgb(232,232,232)",
            "linecolor": "rgb(36,36,36)",
            "showgrid": false,
            "showline": true,
            "ticks": "outside"
           },
           "bgcolor": "white",
           "caxis": {
            "gridcolor": "rgb(232,232,232)",
            "linecolor": "rgb(36,36,36)",
            "showgrid": false,
            "showline": true,
            "ticks": "outside"
           }
          },
          "title": {
           "x": 0.05
          },
          "xaxis": {
           "automargin": true,
           "gridcolor": "rgb(232,232,232)",
           "linecolor": "rgb(36,36,36)",
           "showgrid": false,
           "showline": true,
           "ticks": "outside",
           "title": {
            "standoff": 15
           },
           "zeroline": false,
           "zerolinecolor": "rgb(36,36,36)"
          },
          "yaxis": {
           "automargin": true,
           "gridcolor": "rgb(232,232,232)",
           "linecolor": "rgb(36,36,36)",
           "showgrid": false,
           "showline": true,
           "ticks": "outside",
           "title": {
            "standoff": 15
           },
           "zeroline": false,
           "zerolinecolor": "rgb(36,36,36)"
          }
         }
        },
        "xaxis": {
         "title": {
          "text": "Time (days)"
         }
        },
        "yaxis": {
         "title": {
          "text": "New cases"
         }
        }
       }
      }
     },
     "metadata": {}
    }
   ],
   "source": [
    "# Plot (bar chart cases each day)\n",
    "fig = go.Figure()\n",
    "\n",
    "# Plot of incidences\n",
    "fig.add_trace(\n",
    "    go.Bar(\n",
    "        x=times,\n",
    "        y=locally_infected_cases,\n",
    "        name='Local Incidences'\n",
    "    )\n",
    ")\n",
    "\n",
    "fig.add_trace(\n",
    "    go.Bar(\n",
    "        x=times,\n",
    "        y=imported_cases,\n",
    "        name='Imported Cases'\n",
    "    )\n",
    ")\n",
    "\n",
    "# Add axis labels\n",
    "fig.update_layout(\n",
    "    template='simple_white',\n",
    "    xaxis_title='Time (days)',\n",
    "    yaxis_title='New cases'\n",
    ")\n",
    "\n",
    "\n",
    "fig.write_image('ON-cases.pdf')\n",
    "fig.show()"
   ]
  },
  {
   "source": [
    "## Comparison of inference results for different epsilon values"
   ],
   "cell_type": "markdown",
   "metadata": {}
  },
  {
   "cell_type": "code",
   "execution_count": 70,
   "metadata": {},
   "outputs": [],
   "source": [
    "# Same inference, but using the LocImpBranchProPosterior\n",
    "tau = 6\n",
    "R_t_start = tau+1\n",
    "a = 1\n",
    "b = 0.2\n",
    "\n",
    "# Run inferences for different values of epsilon\n",
    "column_names = ['Time Points', 'Mean', 'Lower bound CI', 'Upper bound CI', 'Central Probability', 'Epsilon']\n",
    "epsilon_range = [-0.8, -0.5, 0, 0.5, 0.8, 1, 1.5]\n",
    "chosen_times = [10, 15, 20, 25, 30, 40]\n",
    "\n",
    "all_intervals = pd.DataFrame(columns=column_names)\n",
    "all_intervals_chosen = pd.DataFrame(columns=column_names)\n",
    "# Transform our incidence data into pandas dataframes\n",
    "inc_data = pd.DataFrame(\n",
    "    {\n",
    "        'Time': start_times,\n",
    "        'Incidence Number': locally_infected_cases\n",
    "    }\n",
    ")\n",
    "\n",
    "imported_inc_data = pd.DataFrame(\n",
    "    {\n",
    "        'Time': start_times,\n",
    "        'Incidence Number': imported_cases\n",
    "    }\n",
    ")\n",
    "\n",
    "for epsilon in epsilon_range:\n",
    "    inference = branchpro.LocImpBranchProPosteriorMultSI(\n",
    "        inc_data=inc_data,\n",
    "        imported_inc_data=imported_inc_data,\n",
    "        epsilon=epsilon,\n",
    "        daily_serial_intervals=serial_intervals,\n",
    "        alpha=a,\n",
    "        beta=b)\n",
    "\n",
    "    inference.run_inference(tau=tau)\n",
    "    intervals = inference.get_intervals(central_prob=0)\n",
    "    intervals = intervals.append(inference.get_intervals(central_prob=.25))\n",
    "    intervals = intervals.append(inference.get_intervals(central_prob=.95))\n",
    "    temp = inference.get_intervals(central_prob=.95)\n",
    "\n",
    "    intervals['Epsilon'] = [epsilon] * len(intervals.index)\n",
    "\n",
    "    intervals_chosen = pd.DataFrame(columns=intervals.columns)\n",
    "    for time_pt in chosen_times:\n",
    "        intervals_chosen = intervals_chosen.append(\n",
    "            intervals.loc[intervals['Time Points']== time_pt])\n",
    "\n",
    "    all_intervals = all_intervals.append(intervals)\n",
    "    all_intervals_chosen = all_intervals_chosen.append(intervals_chosen)"
   ]
  },
  {
   "cell_type": "code",
   "execution_count": 71,
   "metadata": {},
   "outputs": [
    {
     "output_type": "display_data",
     "data": {
      "application/vnd.plotly.v1+json": {
       "config": {
        "plotlyServerURL": "https://plot.ly"
       },
       "data": [
        {
         "lowerfence": [
          0.9190993353724485,
          0.4662556558847429,
          0.25683705359697345,
          0.17665011920034887,
          0.14926189221441746,
          0.1350796900689602,
          0.10899612344801429
         ],
         "mean": [
          2.3639676570892334,
          1.1946042776107788,
          0.6542266011238098,
          0.4506213366985321,
          0.3796773850917816,
          0.3434251844882965,
          0.27777111530303955
         ],
         "median": [
          2.230612635612488,
          1.1288960576057434,
          0.6186986863613129,
          0.42642176151275635,
          0.35924604535102844,
          0.3247656226158142,
          0.26289285719394684
         ],
         "name": "Day10",
         "q1": [
          1.9586817622184753,
          0.9915584772825241,
          0.5437410846352577,
          0.37473033741116524,
          0.3158194273710251,
          0.28559117391705513,
          0.23094124346971512
         ],
         "q3": [
          2.530902236700058,
          1.279580980539322,
          0.7010663822293282,
          0.4826703518629074,
          0.4067571721971035,
          0.3677641376852989,
          0.2976779155433178
         ],
         "type": "box",
         "upperfence": [
          4.562565243244172,
          2.2968510508537294,
          1.2547343760728837,
          0.8629113703966143,
          0.7269168317317962,
          0.6578046947717667,
          0.5318840816617014
         ],
         "x": [
          "-0.8",
          "-0.5",
          "0.0",
          "0.5",
          "0.8",
          "1.0",
          "1.5"
         ]
        },
        {
         "lowerfence": [
          1.2045796632766725,
          0.7849702522158624,
          0.4967172764241696,
          0.3633158355951309,
          0.31291651725769043,
          0.28651835918426516,
          0.2363368455320597
         ],
         "mean": [
          1.8407260179519653,
          1.191322684288025,
          0.7503831386566162,
          0.5476179718971252,
          0.47126293182373047,
          0.4313128888607025,
          0.3555321991443634
         ],
         "median": [
          1.7967933416366577,
          1.1649079322814941,
          0.7348067164421082,
          0.5362882614135742,
          0.46161745488643646,
          0.4224075973033905,
          0.3483930081129074
         ],
         "name": "Day15",
         "q1": [
          1.6824767589569092,
          1.0919822454452515,
          0.6893817782402039,
          0.5033109486103058,
          0.43332793563604355,
          0.3965640515089035,
          0.32707396522164345
         ],
         "q3": [
          1.9198928326368332,
          1.2432077527046204,
          0.7830923646688461,
          0.5713997110724449,
          0.49183953553438187,
          0.4502764344215393,
          0.3710269257426262
         ],
         "type": "box",
         "upperfence": [
          2.7273316860198977,
          1.7468067586421967,
          1.093918716907501,
          0.7965500265359879,
          0.6842128440737725,
          0.6262454196810723,
          0.5160442560911179
         ],
         "x": [
          "-0.8",
          "-0.5",
          "0.0",
          "0.5",
          "0.8",
          "1.0",
          "1.5"
         ]
        },
        {
         "lowerfence": [
          1.4587523818016053,
          0.9808674365282058,
          0.6345560446381568,
          0.46865766197443004,
          0.4050593934953213,
          0.37174770385026934,
          0.30786975249648096
         ],
         "mean": [
          1.8328325748443604,
          1.2240372896194458,
          0.787925660610199,
          0.5809045433998108,
          0.5018590092658997,
          0.4600070118904114,
          0.38071516156196594
         ],
         "median": [
          1.8141942024230957,
          1.2121025919914246,
          0.7804833650588989,
          0.5754982829093933,
          0.49724701046943665,
          0.4557487517595291,
          0.3772474527359009
         ],
         "name": "Day20",
         "q1": [
          1.749167948961258,
          1.1698969155550003,
          0.7538329139351845,
          0.5561033636331558,
          0.4804588444530964,
          0.4403996430337429,
          0.3646008335053921
         ],
         "q3": [
          1.8830200880765915,
          1.256842702627182,
          0.8086134046316147,
          0.5959507748484612,
          0.5149744004011154,
          0.47196001932024956,
          0.3905983604490757
         ],
         "type": "box",
         "upperfence": [
          2.3129202246665956,
          1.5350582987070085,
          0.9839189752936363,
          0.7240853026509285,
          0.6250396385788918,
          0.5726163998246192,
          0.4737597674131394
         ],
         "x": [
          "-0.8",
          "-0.5",
          "0.0",
          "0.5",
          "0.8",
          "1.0",
          "1.5"
         ]
        },
        {
         "lowerfence": [
          1.6414880573749542,
          1.3219367116689682,
          0.9967548817396163,
          0.7993733748793602,
          0.7143068417906762,
          0.6670227393507957,
          0.5719670906662941
         ],
         "mean": [
          1.966405987739563,
          1.5533437728881836,
          1.1509761810302734,
          0.914241373538971,
          0.8138810992240906,
          0.7582904100418091,
          0.647814929485321
         ],
         "median": [
          1.9501219391822815,
          1.5429375767707825,
          1.1446608304977417,
          0.9098263084888458,
          0.8100385367870331,
          0.7548602223396301,
          0.6450726091861725
         ],
         "name": "Day25",
         "q1": [
          1.894327238202095,
          1.5031994134187698,
          1.118397906422615,
          0.8902857676148415,
          0.7931372672319412,
          0.739338606595993,
          0.6322314515709877
         ],
         "q3": [
          2.009674310684204,
          1.5848191678524017,
          1.1722557991743088,
          0.9302641153335571,
          0.8277632817626,
          0.7710078954696655,
          0.6584533080458641
         ],
         "type": "box",
         "upperfence": [
          2.3784669160842893,
          1.8418512850999835,
          1.3405404001474381,
          1.0545376658439636,
          0.9349690601229668,
          0.8693237975239754,
          0.7395839259028435
         ],
         "x": [
          "-0.8",
          "-0.5",
          "0.0",
          "0.5",
          "0.8",
          "1.0",
          "1.5"
         ]
        },
        {
         "lowerfence": [
          1.5979946732521055,
          1.4027578800916674,
          1.1651675671339035,
          0.99642324000597,
          0.9168632611632348,
          0.8704113215208054,
          0.7729171454906465
         ],
         "mean": [
          1.8522717952728271,
          1.6159212589263916,
          1.3325368165969849,
          1.133711338043213,
          1.0404789447784424,
          0.9864565134048462,
          0.8732302784919739
         ],
         "median": [
          1.8356646299362183,
          1.602531611919403,
          1.3229249715805054,
          1.1261888146400452,
          1.0340666770935059,
          0.980592280626297,
          0.8683108389377594
         ],
         "name": "Day30",
         "q1": [
          1.7920311093330383,
          1.5662411004304886,
          1.2942833453416824,
          1.102988600730896,
          1.0129498988389969,
          0.9607986211776733,
          0.8511975407600403
         ],
         "q3": [
          1.8835353702306747,
          1.6425430923700333,
          1.3539348244667053,
          1.1515633314847946,
          1.0567518174648285,
          1.0018539130687714,
          0.8865813761949539
         ],
         "type": "box",
         "upperfence": [
          2.1926942229270936,
          1.8967545181512833,
          1.5493587881326678,
          1.3089950114488602,
          1.1973582565784455,
          1.1335457623004912,
          0.9993841230869294
         ],
         "x": [
          "-0.8",
          "-0.5",
          "0.0",
          "0.5",
          "0.8",
          "1.0",
          "1.5"
         ]
        },
        {
         "lowerfence": [
          1.118407243490219,
          1.063316574692726,
          0.9822761744260788,
          0.9119756743311882,
          0.8742933243513107,
          0.8506570369005203,
          0.796575716137886
         ],
         "mean": [
          1.2029179334640503,
          1.1386044025421143,
          1.0452871322631836,
          0.9662461876869202,
          0.9245877265930176,
          0.8981226086616516,
          0.8389251828193665
         ],
         "median": [
          1.196978747844696,
          1.133303165435791,
          1.041037380695343,
          0.962703287601471,
          0.9211373329162598,
          0.895345538854599,
          0.8368684649467468
         ],
         "name": "Day40",
         "q1": [
          1.181904673576355,
          1.1200019270181656,
          1.029908612370491,
          0.9532324597239494,
          0.9124091267585754,
          0.8870875015854836,
          0.8295032382011414
         ],
         "q3": [
          1.2133504301309586,
          1.1478040665388107,
          1.0530752390623093,
          0.9729397296905518,
          0.9305278658866882,
          0.9042336791753769,
          0.8447522521018982
         ],
         "type": "box",
         "upperfence": [
          1.3226944386959074,
          1.2449075996875762,
          1.1345675259828567,
          1.0425059884786605,
          0.9945162758231164,
          0.965175350010395,
          0.8986941650509834
         ],
         "x": [
          "-0.8",
          "-0.5",
          "0.0",
          "0.5",
          "0.8",
          "1.0",
          "1.5"
         ]
        }
       ],
       "layout": {
        "boxmode": "group",
        "template": {
         "data": {
          "bar": [
           {
            "error_x": {
             "color": "rgb(36,36,36)"
            },
            "error_y": {
             "color": "rgb(36,36,36)"
            },
            "marker": {
             "line": {
              "color": "white",
              "width": 0.5
             }
            },
            "type": "bar"
           }
          ],
          "barpolar": [
           {
            "marker": {
             "line": {
              "color": "white",
              "width": 0.5
             }
            },
            "type": "barpolar"
           }
          ],
          "carpet": [
           {
            "aaxis": {
             "endlinecolor": "rgb(36,36,36)",
             "gridcolor": "white",
             "linecolor": "white",
             "minorgridcolor": "white",
             "startlinecolor": "rgb(36,36,36)"
            },
            "baxis": {
             "endlinecolor": "rgb(36,36,36)",
             "gridcolor": "white",
             "linecolor": "white",
             "minorgridcolor": "white",
             "startlinecolor": "rgb(36,36,36)"
            },
            "type": "carpet"
           }
          ],
          "choropleth": [
           {
            "colorbar": {
             "outlinewidth": 1,
             "tickcolor": "rgb(36,36,36)",
             "ticks": "outside"
            },
            "type": "choropleth"
           }
          ],
          "contour": [
           {
            "colorbar": {
             "outlinewidth": 1,
             "tickcolor": "rgb(36,36,36)",
             "ticks": "outside"
            },
            "colorscale": [
             [
              0,
              "#440154"
             ],
             [
              0.1111111111111111,
              "#482878"
             ],
             [
              0.2222222222222222,
              "#3e4989"
             ],
             [
              0.3333333333333333,
              "#31688e"
             ],
             [
              0.4444444444444444,
              "#26828e"
             ],
             [
              0.5555555555555556,
              "#1f9e89"
             ],
             [
              0.6666666666666666,
              "#35b779"
             ],
             [
              0.7777777777777778,
              "#6ece58"
             ],
             [
              0.8888888888888888,
              "#b5de2b"
             ],
             [
              1,
              "#fde725"
             ]
            ],
            "type": "contour"
           }
          ],
          "contourcarpet": [
           {
            "colorbar": {
             "outlinewidth": 1,
             "tickcolor": "rgb(36,36,36)",
             "ticks": "outside"
            },
            "type": "contourcarpet"
           }
          ],
          "heatmap": [
           {
            "colorbar": {
             "outlinewidth": 1,
             "tickcolor": "rgb(36,36,36)",
             "ticks": "outside"
            },
            "colorscale": [
             [
              0,
              "#440154"
             ],
             [
              0.1111111111111111,
              "#482878"
             ],
             [
              0.2222222222222222,
              "#3e4989"
             ],
             [
              0.3333333333333333,
              "#31688e"
             ],
             [
              0.4444444444444444,
              "#26828e"
             ],
             [
              0.5555555555555556,
              "#1f9e89"
             ],
             [
              0.6666666666666666,
              "#35b779"
             ],
             [
              0.7777777777777778,
              "#6ece58"
             ],
             [
              0.8888888888888888,
              "#b5de2b"
             ],
             [
              1,
              "#fde725"
             ]
            ],
            "type": "heatmap"
           }
          ],
          "heatmapgl": [
           {
            "colorbar": {
             "outlinewidth": 1,
             "tickcolor": "rgb(36,36,36)",
             "ticks": "outside"
            },
            "colorscale": [
             [
              0,
              "#440154"
             ],
             [
              0.1111111111111111,
              "#482878"
             ],
             [
              0.2222222222222222,
              "#3e4989"
             ],
             [
              0.3333333333333333,
              "#31688e"
             ],
             [
              0.4444444444444444,
              "#26828e"
             ],
             [
              0.5555555555555556,
              "#1f9e89"
             ],
             [
              0.6666666666666666,
              "#35b779"
             ],
             [
              0.7777777777777778,
              "#6ece58"
             ],
             [
              0.8888888888888888,
              "#b5de2b"
             ],
             [
              1,
              "#fde725"
             ]
            ],
            "type": "heatmapgl"
           }
          ],
          "histogram": [
           {
            "marker": {
             "line": {
              "color": "white",
              "width": 0.6
             }
            },
            "type": "histogram"
           }
          ],
          "histogram2d": [
           {
            "colorbar": {
             "outlinewidth": 1,
             "tickcolor": "rgb(36,36,36)",
             "ticks": "outside"
            },
            "colorscale": [
             [
              0,
              "#440154"
             ],
             [
              0.1111111111111111,
              "#482878"
             ],
             [
              0.2222222222222222,
              "#3e4989"
             ],
             [
              0.3333333333333333,
              "#31688e"
             ],
             [
              0.4444444444444444,
              "#26828e"
             ],
             [
              0.5555555555555556,
              "#1f9e89"
             ],
             [
              0.6666666666666666,
              "#35b779"
             ],
             [
              0.7777777777777778,
              "#6ece58"
             ],
             [
              0.8888888888888888,
              "#b5de2b"
             ],
             [
              1,
              "#fde725"
             ]
            ],
            "type": "histogram2d"
           }
          ],
          "histogram2dcontour": [
           {
            "colorbar": {
             "outlinewidth": 1,
             "tickcolor": "rgb(36,36,36)",
             "ticks": "outside"
            },
            "colorscale": [
             [
              0,
              "#440154"
             ],
             [
              0.1111111111111111,
              "#482878"
             ],
             [
              0.2222222222222222,
              "#3e4989"
             ],
             [
              0.3333333333333333,
              "#31688e"
             ],
             [
              0.4444444444444444,
              "#26828e"
             ],
             [
              0.5555555555555556,
              "#1f9e89"
             ],
             [
              0.6666666666666666,
              "#35b779"
             ],
             [
              0.7777777777777778,
              "#6ece58"
             ],
             [
              0.8888888888888888,
              "#b5de2b"
             ],
             [
              1,
              "#fde725"
             ]
            ],
            "type": "histogram2dcontour"
           }
          ],
          "mesh3d": [
           {
            "colorbar": {
             "outlinewidth": 1,
             "tickcolor": "rgb(36,36,36)",
             "ticks": "outside"
            },
            "type": "mesh3d"
           }
          ],
          "parcoords": [
           {
            "line": {
             "colorbar": {
              "outlinewidth": 1,
              "tickcolor": "rgb(36,36,36)",
              "ticks": "outside"
             }
            },
            "type": "parcoords"
           }
          ],
          "pie": [
           {
            "automargin": true,
            "type": "pie"
           }
          ],
          "scatter": [
           {
            "marker": {
             "colorbar": {
              "outlinewidth": 1,
              "tickcolor": "rgb(36,36,36)",
              "ticks": "outside"
             }
            },
            "type": "scatter"
           }
          ],
          "scatter3d": [
           {
            "line": {
             "colorbar": {
              "outlinewidth": 1,
              "tickcolor": "rgb(36,36,36)",
              "ticks": "outside"
             }
            },
            "marker": {
             "colorbar": {
              "outlinewidth": 1,
              "tickcolor": "rgb(36,36,36)",
              "ticks": "outside"
             }
            },
            "type": "scatter3d"
           }
          ],
          "scattercarpet": [
           {
            "marker": {
             "colorbar": {
              "outlinewidth": 1,
              "tickcolor": "rgb(36,36,36)",
              "ticks": "outside"
             }
            },
            "type": "scattercarpet"
           }
          ],
          "scattergeo": [
           {
            "marker": {
             "colorbar": {
              "outlinewidth": 1,
              "tickcolor": "rgb(36,36,36)",
              "ticks": "outside"
             }
            },
            "type": "scattergeo"
           }
          ],
          "scattergl": [
           {
            "marker": {
             "colorbar": {
              "outlinewidth": 1,
              "tickcolor": "rgb(36,36,36)",
              "ticks": "outside"
             }
            },
            "type": "scattergl"
           }
          ],
          "scattermapbox": [
           {
            "marker": {
             "colorbar": {
              "outlinewidth": 1,
              "tickcolor": "rgb(36,36,36)",
              "ticks": "outside"
             }
            },
            "type": "scattermapbox"
           }
          ],
          "scatterpolar": [
           {
            "marker": {
             "colorbar": {
              "outlinewidth": 1,
              "tickcolor": "rgb(36,36,36)",
              "ticks": "outside"
             }
            },
            "type": "scatterpolar"
           }
          ],
          "scatterpolargl": [
           {
            "marker": {
             "colorbar": {
              "outlinewidth": 1,
              "tickcolor": "rgb(36,36,36)",
              "ticks": "outside"
             }
            },
            "type": "scatterpolargl"
           }
          ],
          "scatterternary": [
           {
            "marker": {
             "colorbar": {
              "outlinewidth": 1,
              "tickcolor": "rgb(36,36,36)",
              "ticks": "outside"
             }
            },
            "type": "scatterternary"
           }
          ],
          "surface": [
           {
            "colorbar": {
             "outlinewidth": 1,
             "tickcolor": "rgb(36,36,36)",
             "ticks": "outside"
            },
            "colorscale": [
             [
              0,
              "#440154"
             ],
             [
              0.1111111111111111,
              "#482878"
             ],
             [
              0.2222222222222222,
              "#3e4989"
             ],
             [
              0.3333333333333333,
              "#31688e"
             ],
             [
              0.4444444444444444,
              "#26828e"
             ],
             [
              0.5555555555555556,
              "#1f9e89"
             ],
             [
              0.6666666666666666,
              "#35b779"
             ],
             [
              0.7777777777777778,
              "#6ece58"
             ],
             [
              0.8888888888888888,
              "#b5de2b"
             ],
             [
              1,
              "#fde725"
             ]
            ],
            "type": "surface"
           }
          ],
          "table": [
           {
            "cells": {
             "fill": {
              "color": "rgb(237,237,237)"
             },
             "line": {
              "color": "white"
             }
            },
            "header": {
             "fill": {
              "color": "rgb(217,217,217)"
             },
             "line": {
              "color": "white"
             }
            },
            "type": "table"
           }
          ]
         },
         "layout": {
          "annotationdefaults": {
           "arrowhead": 0,
           "arrowwidth": 1
          },
          "autotypenumbers": "strict",
          "coloraxis": {
           "colorbar": {
            "outlinewidth": 1,
            "tickcolor": "rgb(36,36,36)",
            "ticks": "outside"
           }
          },
          "colorscale": {
           "diverging": [
            [
             0,
             "rgb(103,0,31)"
            ],
            [
             0.1,
             "rgb(178,24,43)"
            ],
            [
             0.2,
             "rgb(214,96,77)"
            ],
            [
             0.3,
             "rgb(244,165,130)"
            ],
            [
             0.4,
             "rgb(253,219,199)"
            ],
            [
             0.5,
             "rgb(247,247,247)"
            ],
            [
             0.6,
             "rgb(209,229,240)"
            ],
            [
             0.7,
             "rgb(146,197,222)"
            ],
            [
             0.8,
             "rgb(67,147,195)"
            ],
            [
             0.9,
             "rgb(33,102,172)"
            ],
            [
             1,
             "rgb(5,48,97)"
            ]
           ],
           "sequential": [
            [
             0,
             "#440154"
            ],
            [
             0.1111111111111111,
             "#482878"
            ],
            [
             0.2222222222222222,
             "#3e4989"
            ],
            [
             0.3333333333333333,
             "#31688e"
            ],
            [
             0.4444444444444444,
             "#26828e"
            ],
            [
             0.5555555555555556,
             "#1f9e89"
            ],
            [
             0.6666666666666666,
             "#35b779"
            ],
            [
             0.7777777777777778,
             "#6ece58"
            ],
            [
             0.8888888888888888,
             "#b5de2b"
            ],
            [
             1,
             "#fde725"
            ]
           ],
           "sequentialminus": [
            [
             0,
             "#440154"
            ],
            [
             0.1111111111111111,
             "#482878"
            ],
            [
             0.2222222222222222,
             "#3e4989"
            ],
            [
             0.3333333333333333,
             "#31688e"
            ],
            [
             0.4444444444444444,
             "#26828e"
            ],
            [
             0.5555555555555556,
             "#1f9e89"
            ],
            [
             0.6666666666666666,
             "#35b779"
            ],
            [
             0.7777777777777778,
             "#6ece58"
            ],
            [
             0.8888888888888888,
             "#b5de2b"
            ],
            [
             1,
             "#fde725"
            ]
           ]
          },
          "colorway": [
           "#1F77B4",
           "#FF7F0E",
           "#2CA02C",
           "#D62728",
           "#9467BD",
           "#8C564B",
           "#E377C2",
           "#7F7F7F",
           "#BCBD22",
           "#17BECF"
          ],
          "font": {
           "color": "rgb(36,36,36)"
          },
          "geo": {
           "bgcolor": "white",
           "lakecolor": "white",
           "landcolor": "white",
           "showlakes": true,
           "showland": true,
           "subunitcolor": "white"
          },
          "hoverlabel": {
           "align": "left"
          },
          "hovermode": "closest",
          "mapbox": {
           "style": "light"
          },
          "paper_bgcolor": "white",
          "plot_bgcolor": "white",
          "polar": {
           "angularaxis": {
            "gridcolor": "rgb(232,232,232)",
            "linecolor": "rgb(36,36,36)",
            "showgrid": false,
            "showline": true,
            "ticks": "outside"
           },
           "bgcolor": "white",
           "radialaxis": {
            "gridcolor": "rgb(232,232,232)",
            "linecolor": "rgb(36,36,36)",
            "showgrid": false,
            "showline": true,
            "ticks": "outside"
           }
          },
          "scene": {
           "xaxis": {
            "backgroundcolor": "white",
            "gridcolor": "rgb(232,232,232)",
            "gridwidth": 2,
            "linecolor": "rgb(36,36,36)",
            "showbackground": true,
            "showgrid": false,
            "showline": true,
            "ticks": "outside",
            "zeroline": false,
            "zerolinecolor": "rgb(36,36,36)"
           },
           "yaxis": {
            "backgroundcolor": "white",
            "gridcolor": "rgb(232,232,232)",
            "gridwidth": 2,
            "linecolor": "rgb(36,36,36)",
            "showbackground": true,
            "showgrid": false,
            "showline": true,
            "ticks": "outside",
            "zeroline": false,
            "zerolinecolor": "rgb(36,36,36)"
           },
           "zaxis": {
            "backgroundcolor": "white",
            "gridcolor": "rgb(232,232,232)",
            "gridwidth": 2,
            "linecolor": "rgb(36,36,36)",
            "showbackground": true,
            "showgrid": false,
            "showline": true,
            "ticks": "outside",
            "zeroline": false,
            "zerolinecolor": "rgb(36,36,36)"
           }
          },
          "shapedefaults": {
           "fillcolor": "black",
           "line": {
            "width": 0
           },
           "opacity": 0.3
          },
          "ternary": {
           "aaxis": {
            "gridcolor": "rgb(232,232,232)",
            "linecolor": "rgb(36,36,36)",
            "showgrid": false,
            "showline": true,
            "ticks": "outside"
           },
           "baxis": {
            "gridcolor": "rgb(232,232,232)",
            "linecolor": "rgb(36,36,36)",
            "showgrid": false,
            "showline": true,
            "ticks": "outside"
           },
           "bgcolor": "white",
           "caxis": {
            "gridcolor": "rgb(232,232,232)",
            "linecolor": "rgb(36,36,36)",
            "showgrid": false,
            "showline": true,
            "ticks": "outside"
           }
          },
          "title": {
           "x": 0.05
          },
          "xaxis": {
           "automargin": true,
           "gridcolor": "rgb(232,232,232)",
           "linecolor": "rgb(36,36,36)",
           "showgrid": false,
           "showline": true,
           "ticks": "outside",
           "title": {
            "standoff": 15
           },
           "zeroline": false,
           "zerolinecolor": "rgb(36,36,36)"
          },
          "yaxis": {
           "automargin": true,
           "gridcolor": "rgb(232,232,232)",
           "linecolor": "rgb(36,36,36)",
           "showgrid": false,
           "showline": true,
           "ticks": "outside",
           "title": {
            "standoff": 15
           },
           "zeroline": false,
           "zerolinecolor": "rgb(36,36,36)"
          }
         }
        },
        "title": {
         "text": "ON"
        }
       }
      }
     },
     "metadata": {}
    }
   ],
   "source": [
    "# Create list of names for x-axis and traces\n",
    "epsilon_range = np.around(epsilon_range,1)\n",
    "num_epsilons = len(epsilon_range)\n",
    "x_name = []\n",
    "for i in range(num_epsilons):\n",
    "    x_name.append(str(epsilon_range[i]))\n",
    "trace_name = ['Day{}'.format(x) for x in chosen_times]\n",
    "\n",
    "# Sort results\n",
    "all_intervals_chosen.sort_values(by=['Time Points', 'Epsilon'], inplace=True)\n",
    "\n",
    "# Plot (box plot for inference)\n",
    "fig = go.Figure()\n",
    "\n",
    "for i in range(len(trace_name)):\n",
    "    fig.add_trace(\n",
    "        go.Box(\n",
    "            mean=all_intervals_chosen.loc[all_intervals_chosen['Central Probability']==0]['Mean'][i*num_epsilons:(i+1)*num_epsilons],\n",
    "            median=all_intervals_chosen.loc[all_intervals_chosen['Central Probability']==0]['Lower bound CI'][i*num_epsilons:(i+1)*num_epsilons],\n",
    "            q1=all_intervals_chosen.loc[all_intervals_chosen['Central Probability']==0.25]['Lower bound CI'][i*num_epsilons:(i+1)*num_epsilons],\n",
    "            q3=all_intervals_chosen.loc[all_intervals_chosen['Central Probability']==0.25]['Upper bound CI'][i*num_epsilons:(i+1)*num_epsilons],\n",
    "            upperfence=all_intervals_chosen.loc[all_intervals_chosen['Central Probability']==0.95]['Upper bound CI'][i*num_epsilons:(i+1)*num_epsilons],\n",
    "            lowerfence=all_intervals_chosen.loc[all_intervals_chosen['Central Probability']==0.95]['Lower bound CI'][i*num_epsilons:(i+1)*num_epsilons],\n",
    "            x=x_name,\n",
    "            name=trace_name[i]\n",
    "        )\n",
    "    )\n",
    "fig.update_layout(template='simple_white', boxmode='group', title='ON')\n",
    "\n",
    "fig.show()"
   ]
  },
  {
   "cell_type": "code",
   "execution_count": 81,
   "metadata": {},
   "outputs": [
    {
     "output_type": "display_data",
     "data": {
      "application/vnd.plotly.v1+json": {
       "config": {
        "plotlyServerURL": "https://plot.ly"
       },
       "data": [
        {
         "lowerfence": [
          0.9190993353724485,
          1.2045796632766725,
          1.4587523818016053,
          1.6414880573749542,
          1.5979946732521055,
          1.118407243490219
         ],
         "mean": [
          2.3639676570892334,
          1.8407260179519653,
          1.8328325748443604,
          1.966405987739563,
          1.8522717952728271,
          1.2029179334640503
         ],
         "median": [
          2.230612635612488,
          1.7967933416366577,
          1.8141942024230957,
          1.9501219391822815,
          1.8356646299362183,
          1.196978747844696
         ],
         "name": "-0.8",
         "q1": [
          1.9586817622184753,
          1.6824767589569092,
          1.749167948961258,
          1.894327238202095,
          1.7920311093330383,
          1.181904673576355
         ],
         "q3": [
          2.530902236700058,
          1.9198928326368332,
          1.8830200880765915,
          2.009674310684204,
          1.8835353702306747,
          1.2133504301309586
         ],
         "type": "box",
         "upperfence": [
          4.562565243244172,
          2.7273316860198977,
          2.3129202246665956,
          2.3784669160842893,
          2.1926942229270936,
          1.3226944386959074
         ],
         "x": [
          "Day10",
          "Day15",
          "Day20",
          "Day25",
          "Day30",
          "Day40"
         ]
        },
        {
         "lowerfence": [
          0.4662556558847429,
          0.7849702522158624,
          0.9808674365282058,
          1.3219367116689682,
          1.4027578800916674,
          1.063316574692726
         ],
         "mean": [
          1.1946042776107788,
          1.191322684288025,
          1.2240372896194458,
          1.5533437728881836,
          1.6159212589263916,
          1.1386044025421143
         ],
         "median": [
          1.1288960576057434,
          1.1649079322814941,
          1.2121025919914246,
          1.5429375767707825,
          1.602531611919403,
          1.133303165435791
         ],
         "name": "-0.5",
         "q1": [
          0.9915584772825241,
          1.0919822454452515,
          1.1698969155550003,
          1.5031994134187698,
          1.5662411004304886,
          1.1200019270181656
         ],
         "q3": [
          1.279580980539322,
          1.2432077527046204,
          1.256842702627182,
          1.5848191678524017,
          1.6425430923700333,
          1.1478040665388107
         ],
         "type": "box",
         "upperfence": [
          2.2968510508537294,
          1.7468067586421967,
          1.5350582987070085,
          1.8418512850999835,
          1.8967545181512833,
          1.2449075996875762
         ],
         "x": [
          "Day10",
          "Day15",
          "Day20",
          "Day25",
          "Day30",
          "Day40"
         ]
        },
        {
         "lowerfence": [
          0.25683705359697345,
          0.4967172764241696,
          0.6345560446381568,
          0.9967548817396163,
          1.1651675671339035,
          0.9822761744260788
         ],
         "mean": [
          0.6542266011238098,
          0.7503831386566162,
          0.787925660610199,
          1.1509761810302734,
          1.3325368165969849,
          1.0452871322631836
         ],
         "median": [
          0.6186986863613129,
          0.7348067164421082,
          0.7804833650588989,
          1.1446608304977417,
          1.3229249715805054,
          1.041037380695343
         ],
         "name": "0.0",
         "q1": [
          0.5437410846352577,
          0.6893817782402039,
          0.7538329139351845,
          1.118397906422615,
          1.2942833453416824,
          1.029908612370491
         ],
         "q3": [
          0.7010663822293282,
          0.7830923646688461,
          0.8086134046316147,
          1.1722557991743088,
          1.3539348244667053,
          1.0530752390623093
         ],
         "type": "box",
         "upperfence": [
          1.2547343760728837,
          1.093918716907501,
          0.9839189752936363,
          1.3405404001474381,
          1.5493587881326678,
          1.1345675259828567
         ],
         "x": [
          "Day10",
          "Day15",
          "Day20",
          "Day25",
          "Day30",
          "Day40"
         ]
        },
        {
         "lowerfence": [
          0.17665011920034887,
          0.3633158355951309,
          0.46865766197443004,
          0.7993733748793602,
          0.99642324000597,
          0.9119756743311882
         ],
         "mean": [
          0.4506213366985321,
          0.5476179718971252,
          0.5809045433998108,
          0.914241373538971,
          1.133711338043213,
          0.9662461876869202
         ],
         "median": [
          0.42642176151275635,
          0.5362882614135742,
          0.5754982829093933,
          0.9098263084888458,
          1.1261888146400452,
          0.962703287601471
         ],
         "name": "0.5",
         "q1": [
          0.37473033741116524,
          0.5033109486103058,
          0.5561033636331558,
          0.8902857676148415,
          1.102988600730896,
          0.9532324597239494
         ],
         "q3": [
          0.4826703518629074,
          0.5713997110724449,
          0.5959507748484612,
          0.9302641153335571,
          1.1515633314847946,
          0.9729397296905518
         ],
         "type": "box",
         "upperfence": [
          0.8629113703966143,
          0.7965500265359879,
          0.7240853026509285,
          1.0545376658439636,
          1.3089950114488602,
          1.0425059884786605
         ],
         "x": [
          "Day10",
          "Day15",
          "Day20",
          "Day25",
          "Day30",
          "Day40"
         ]
        },
        {
         "lowerfence": [
          0.14926189221441746,
          0.31291651725769043,
          0.4050593934953213,
          0.7143068417906762,
          0.9168632611632348,
          0.8742933243513107
         ],
         "mean": [
          0.3796773850917816,
          0.47126293182373047,
          0.5018590092658997,
          0.8138810992240906,
          1.0404789447784424,
          0.9245877265930176
         ],
         "median": [
          0.35924604535102844,
          0.46161745488643646,
          0.49724701046943665,
          0.8100385367870331,
          1.0340666770935059,
          0.9211373329162598
         ],
         "name": "0.8",
         "q1": [
          0.3158194273710251,
          0.43332793563604355,
          0.4804588444530964,
          0.7931372672319412,
          1.0129498988389969,
          0.9124091267585754
         ],
         "q3": [
          0.4067571721971035,
          0.49183953553438187,
          0.5149744004011154,
          0.8277632817626,
          1.0567518174648285,
          0.9305278658866882
         ],
         "type": "box",
         "upperfence": [
          0.7269168317317962,
          0.6842128440737725,
          0.6250396385788918,
          0.9349690601229668,
          1.1973582565784455,
          0.9945162758231164
         ],
         "x": [
          "Day10",
          "Day15",
          "Day20",
          "Day25",
          "Day30",
          "Day40"
         ]
        },
        {
         "lowerfence": [
          0.1350796900689602,
          0.28651835918426516,
          0.37174770385026934,
          0.6670227393507957,
          0.8704113215208054,
          0.8506570369005203
         ],
         "mean": [
          0.3434251844882965,
          0.4313128888607025,
          0.4600070118904114,
          0.7582904100418091,
          0.9864565134048462,
          0.8981226086616516
         ],
         "median": [
          0.3247656226158142,
          0.4224075973033905,
          0.4557487517595291,
          0.7548602223396301,
          0.980592280626297,
          0.895345538854599
         ],
         "name": "1.0",
         "q1": [
          0.28559117391705513,
          0.3965640515089035,
          0.4403996430337429,
          0.739338606595993,
          0.9607986211776733,
          0.8870875015854836
         ],
         "q3": [
          0.3677641376852989,
          0.4502764344215393,
          0.47196001932024956,
          0.7710078954696655,
          1.0018539130687714,
          0.9042336791753769
         ],
         "type": "box",
         "upperfence": [
          0.6578046947717667,
          0.6262454196810723,
          0.5726163998246192,
          0.8693237975239754,
          1.1335457623004912,
          0.965175350010395
         ],
         "x": [
          "Day10",
          "Day15",
          "Day20",
          "Day25",
          "Day30",
          "Day40"
         ]
        },
        {
         "lowerfence": [
          0.10899612344801429,
          0.2363368455320597,
          0.30786975249648096,
          0.5719670906662941,
          0.7729171454906465,
          0.796575716137886
         ],
         "mean": [
          0.27777111530303955,
          0.3555321991443634,
          0.38071516156196594,
          0.647814929485321,
          0.8732302784919739,
          0.8389251828193665
         ],
         "median": [
          0.26289285719394684,
          0.3483930081129074,
          0.3772474527359009,
          0.6450726091861725,
          0.8683108389377594,
          0.8368684649467468
         ],
         "name": "1.5",
         "q1": [
          0.23094124346971512,
          0.32707396522164345,
          0.3646008335053921,
          0.6322314515709877,
          0.8511975407600403,
          0.8295032382011414
         ],
         "q3": [
          0.2976779155433178,
          0.3710269257426262,
          0.3905983604490757,
          0.6584533080458641,
          0.8865813761949539,
          0.8447522521018982
         ],
         "type": "box",
         "upperfence": [
          0.5318840816617014,
          0.5160442560911179,
          0.4737597674131394,
          0.7395839259028435,
          0.9993841230869294,
          0.8986941650509834
         ],
         "x": [
          "Day10",
          "Day15",
          "Day20",
          "Day25",
          "Day30",
          "Day40"
         ]
        }
       ],
       "layout": {
        "annotations": [
         {
          "showarrow": false,
          "text": "Prior R",
          "x": 1,
          "xanchor": "right",
          "xref": "x domain",
          "y": 3.4657359027997274,
          "yanchor": "bottom",
          "yref": "y"
         }
        ],
        "boxmode": "group",
        "plot_bgcolor": "white",
        "shapes": [
         {
          "fillcolor": "black",
          "line": {
           "width": 0
          },
          "opacity": 0.1,
          "type": "rect",
          "x0": 0,
          "x1": 1,
          "xref": "x domain",
          "y0": 1.4384103622589044,
          "y1": 6.931471805599453,
          "yref": "y"
         },
         {
          "fillcolor": "black",
          "line": {
           "dash": "dot"
          },
          "type": "line",
          "x0": 0,
          "x1": 1,
          "xref": "x domain",
          "y0": 3.4657359027997274,
          "y1": 3.4657359027997274,
          "yref": "y"
         }
        ],
        "template": {
         "data": {
          "bar": [
           {
            "error_x": {
             "color": "#2a3f5f"
            },
            "error_y": {
             "color": "#2a3f5f"
            },
            "marker": {
             "line": {
              "color": "#E5ECF6",
              "width": 0.5
             }
            },
            "type": "bar"
           }
          ],
          "barpolar": [
           {
            "marker": {
             "line": {
              "color": "#E5ECF6",
              "width": 0.5
             }
            },
            "type": "barpolar"
           }
          ],
          "carpet": [
           {
            "aaxis": {
             "endlinecolor": "#2a3f5f",
             "gridcolor": "white",
             "linecolor": "white",
             "minorgridcolor": "white",
             "startlinecolor": "#2a3f5f"
            },
            "baxis": {
             "endlinecolor": "#2a3f5f",
             "gridcolor": "white",
             "linecolor": "white",
             "minorgridcolor": "white",
             "startlinecolor": "#2a3f5f"
            },
            "type": "carpet"
           }
          ],
          "choropleth": [
           {
            "colorbar": {
             "outlinewidth": 0,
             "ticks": ""
            },
            "type": "choropleth"
           }
          ],
          "contour": [
           {
            "colorbar": {
             "outlinewidth": 0,
             "ticks": ""
            },
            "colorscale": [
             [
              0,
              "#0d0887"
             ],
             [
              0.1111111111111111,
              "#46039f"
             ],
             [
              0.2222222222222222,
              "#7201a8"
             ],
             [
              0.3333333333333333,
              "#9c179e"
             ],
             [
              0.4444444444444444,
              "#bd3786"
             ],
             [
              0.5555555555555556,
              "#d8576b"
             ],
             [
              0.6666666666666666,
              "#ed7953"
             ],
             [
              0.7777777777777778,
              "#fb9f3a"
             ],
             [
              0.8888888888888888,
              "#fdca26"
             ],
             [
              1,
              "#f0f921"
             ]
            ],
            "type": "contour"
           }
          ],
          "contourcarpet": [
           {
            "colorbar": {
             "outlinewidth": 0,
             "ticks": ""
            },
            "type": "contourcarpet"
           }
          ],
          "heatmap": [
           {
            "colorbar": {
             "outlinewidth": 0,
             "ticks": ""
            },
            "colorscale": [
             [
              0,
              "#0d0887"
             ],
             [
              0.1111111111111111,
              "#46039f"
             ],
             [
              0.2222222222222222,
              "#7201a8"
             ],
             [
              0.3333333333333333,
              "#9c179e"
             ],
             [
              0.4444444444444444,
              "#bd3786"
             ],
             [
              0.5555555555555556,
              "#d8576b"
             ],
             [
              0.6666666666666666,
              "#ed7953"
             ],
             [
              0.7777777777777778,
              "#fb9f3a"
             ],
             [
              0.8888888888888888,
              "#fdca26"
             ],
             [
              1,
              "#f0f921"
             ]
            ],
            "type": "heatmap"
           }
          ],
          "heatmapgl": [
           {
            "colorbar": {
             "outlinewidth": 0,
             "ticks": ""
            },
            "colorscale": [
             [
              0,
              "#0d0887"
             ],
             [
              0.1111111111111111,
              "#46039f"
             ],
             [
              0.2222222222222222,
              "#7201a8"
             ],
             [
              0.3333333333333333,
              "#9c179e"
             ],
             [
              0.4444444444444444,
              "#bd3786"
             ],
             [
              0.5555555555555556,
              "#d8576b"
             ],
             [
              0.6666666666666666,
              "#ed7953"
             ],
             [
              0.7777777777777778,
              "#fb9f3a"
             ],
             [
              0.8888888888888888,
              "#fdca26"
             ],
             [
              1,
              "#f0f921"
             ]
            ],
            "type": "heatmapgl"
           }
          ],
          "histogram": [
           {
            "marker": {
             "colorbar": {
              "outlinewidth": 0,
              "ticks": ""
             }
            },
            "type": "histogram"
           }
          ],
          "histogram2d": [
           {
            "colorbar": {
             "outlinewidth": 0,
             "ticks": ""
            },
            "colorscale": [
             [
              0,
              "#0d0887"
             ],
             [
              0.1111111111111111,
              "#46039f"
             ],
             [
              0.2222222222222222,
              "#7201a8"
             ],
             [
              0.3333333333333333,
              "#9c179e"
             ],
             [
              0.4444444444444444,
              "#bd3786"
             ],
             [
              0.5555555555555556,
              "#d8576b"
             ],
             [
              0.6666666666666666,
              "#ed7953"
             ],
             [
              0.7777777777777778,
              "#fb9f3a"
             ],
             [
              0.8888888888888888,
              "#fdca26"
             ],
             [
              1,
              "#f0f921"
             ]
            ],
            "type": "histogram2d"
           }
          ],
          "histogram2dcontour": [
           {
            "colorbar": {
             "outlinewidth": 0,
             "ticks": ""
            },
            "colorscale": [
             [
              0,
              "#0d0887"
             ],
             [
              0.1111111111111111,
              "#46039f"
             ],
             [
              0.2222222222222222,
              "#7201a8"
             ],
             [
              0.3333333333333333,
              "#9c179e"
             ],
             [
              0.4444444444444444,
              "#bd3786"
             ],
             [
              0.5555555555555556,
              "#d8576b"
             ],
             [
              0.6666666666666666,
              "#ed7953"
             ],
             [
              0.7777777777777778,
              "#fb9f3a"
             ],
             [
              0.8888888888888888,
              "#fdca26"
             ],
             [
              1,
              "#f0f921"
             ]
            ],
            "type": "histogram2dcontour"
           }
          ],
          "mesh3d": [
           {
            "colorbar": {
             "outlinewidth": 0,
             "ticks": ""
            },
            "type": "mesh3d"
           }
          ],
          "parcoords": [
           {
            "line": {
             "colorbar": {
              "outlinewidth": 0,
              "ticks": ""
             }
            },
            "type": "parcoords"
           }
          ],
          "pie": [
           {
            "automargin": true,
            "type": "pie"
           }
          ],
          "scatter": [
           {
            "marker": {
             "colorbar": {
              "outlinewidth": 0,
              "ticks": ""
             }
            },
            "type": "scatter"
           }
          ],
          "scatter3d": [
           {
            "line": {
             "colorbar": {
              "outlinewidth": 0,
              "ticks": ""
             }
            },
            "marker": {
             "colorbar": {
              "outlinewidth": 0,
              "ticks": ""
             }
            },
            "type": "scatter3d"
           }
          ],
          "scattercarpet": [
           {
            "marker": {
             "colorbar": {
              "outlinewidth": 0,
              "ticks": ""
             }
            },
            "type": "scattercarpet"
           }
          ],
          "scattergeo": [
           {
            "marker": {
             "colorbar": {
              "outlinewidth": 0,
              "ticks": ""
             }
            },
            "type": "scattergeo"
           }
          ],
          "scattergl": [
           {
            "marker": {
             "colorbar": {
              "outlinewidth": 0,
              "ticks": ""
             }
            },
            "type": "scattergl"
           }
          ],
          "scattermapbox": [
           {
            "marker": {
             "colorbar": {
              "outlinewidth": 0,
              "ticks": ""
             }
            },
            "type": "scattermapbox"
           }
          ],
          "scatterpolar": [
           {
            "marker": {
             "colorbar": {
              "outlinewidth": 0,
              "ticks": ""
             }
            },
            "type": "scatterpolar"
           }
          ],
          "scatterpolargl": [
           {
            "marker": {
             "colorbar": {
              "outlinewidth": 0,
              "ticks": ""
             }
            },
            "type": "scatterpolargl"
           }
          ],
          "scatterternary": [
           {
            "marker": {
             "colorbar": {
              "outlinewidth": 0,
              "ticks": ""
             }
            },
            "type": "scatterternary"
           }
          ],
          "surface": [
           {
            "colorbar": {
             "outlinewidth": 0,
             "ticks": ""
            },
            "colorscale": [
             [
              0,
              "#0d0887"
             ],
             [
              0.1111111111111111,
              "#46039f"
             ],
             [
              0.2222222222222222,
              "#7201a8"
             ],
             [
              0.3333333333333333,
              "#9c179e"
             ],
             [
              0.4444444444444444,
              "#bd3786"
             ],
             [
              0.5555555555555556,
              "#d8576b"
             ],
             [
              0.6666666666666666,
              "#ed7953"
             ],
             [
              0.7777777777777778,
              "#fb9f3a"
             ],
             [
              0.8888888888888888,
              "#fdca26"
             ],
             [
              1,
              "#f0f921"
             ]
            ],
            "type": "surface"
           }
          ],
          "table": [
           {
            "cells": {
             "fill": {
              "color": "#EBF0F8"
             },
             "line": {
              "color": "white"
             }
            },
            "header": {
             "fill": {
              "color": "#C8D4E3"
             },
             "line": {
              "color": "white"
             }
            },
            "type": "table"
           }
          ]
         },
         "layout": {
          "annotationdefaults": {
           "arrowcolor": "#2a3f5f",
           "arrowhead": 0,
           "arrowwidth": 1
          },
          "autotypenumbers": "strict",
          "coloraxis": {
           "colorbar": {
            "outlinewidth": 0,
            "ticks": ""
           }
          },
          "colorscale": {
           "diverging": [
            [
             0,
             "#8e0152"
            ],
            [
             0.1,
             "#c51b7d"
            ],
            [
             0.2,
             "#de77ae"
            ],
            [
             0.3,
             "#f1b6da"
            ],
            [
             0.4,
             "#fde0ef"
            ],
            [
             0.5,
             "#f7f7f7"
            ],
            [
             0.6,
             "#e6f5d0"
            ],
            [
             0.7,
             "#b8e186"
            ],
            [
             0.8,
             "#7fbc41"
            ],
            [
             0.9,
             "#4d9221"
            ],
            [
             1,
             "#276419"
            ]
           ],
           "sequential": [
            [
             0,
             "#0d0887"
            ],
            [
             0.1111111111111111,
             "#46039f"
            ],
            [
             0.2222222222222222,
             "#7201a8"
            ],
            [
             0.3333333333333333,
             "#9c179e"
            ],
            [
             0.4444444444444444,
             "#bd3786"
            ],
            [
             0.5555555555555556,
             "#d8576b"
            ],
            [
             0.6666666666666666,
             "#ed7953"
            ],
            [
             0.7777777777777778,
             "#fb9f3a"
            ],
            [
             0.8888888888888888,
             "#fdca26"
            ],
            [
             1,
             "#f0f921"
            ]
           ],
           "sequentialminus": [
            [
             0,
             "#0d0887"
            ],
            [
             0.1111111111111111,
             "#46039f"
            ],
            [
             0.2222222222222222,
             "#7201a8"
            ],
            [
             0.3333333333333333,
             "#9c179e"
            ],
            [
             0.4444444444444444,
             "#bd3786"
            ],
            [
             0.5555555555555556,
             "#d8576b"
            ],
            [
             0.6666666666666666,
             "#ed7953"
            ],
            [
             0.7777777777777778,
             "#fb9f3a"
            ],
            [
             0.8888888888888888,
             "#fdca26"
            ],
            [
             1,
             "#f0f921"
            ]
           ]
          },
          "colorway": [
           "#636efa",
           "#EF553B",
           "#00cc96",
           "#ab63fa",
           "#FFA15A",
           "#19d3f3",
           "#FF6692",
           "#B6E880",
           "#FF97FF",
           "#FECB52"
          ],
          "font": {
           "color": "#2a3f5f"
          },
          "geo": {
           "bgcolor": "white",
           "lakecolor": "white",
           "landcolor": "#E5ECF6",
           "showlakes": true,
           "showland": true,
           "subunitcolor": "white"
          },
          "hoverlabel": {
           "align": "left"
          },
          "hovermode": "closest",
          "mapbox": {
           "style": "light"
          },
          "paper_bgcolor": "white",
          "plot_bgcolor": "#E5ECF6",
          "polar": {
           "angularaxis": {
            "gridcolor": "white",
            "linecolor": "white",
            "ticks": ""
           },
           "bgcolor": "#E5ECF6",
           "radialaxis": {
            "gridcolor": "white",
            "linecolor": "white",
            "ticks": ""
           }
          },
          "scene": {
           "xaxis": {
            "backgroundcolor": "#E5ECF6",
            "gridcolor": "white",
            "gridwidth": 2,
            "linecolor": "white",
            "showbackground": true,
            "ticks": "",
            "zerolinecolor": "white"
           },
           "yaxis": {
            "backgroundcolor": "#E5ECF6",
            "gridcolor": "white",
            "gridwidth": 2,
            "linecolor": "white",
            "showbackground": true,
            "ticks": "",
            "zerolinecolor": "white"
           },
           "zaxis": {
            "backgroundcolor": "#E5ECF6",
            "gridcolor": "white",
            "gridwidth": 2,
            "linecolor": "white",
            "showbackground": true,
            "ticks": "",
            "zerolinecolor": "white"
           }
          },
          "shapedefaults": {
           "line": {
            "color": "#2a3f5f"
           }
          },
          "ternary": {
           "aaxis": {
            "gridcolor": "white",
            "linecolor": "white",
            "ticks": ""
           },
           "baxis": {
            "gridcolor": "white",
            "linecolor": "white",
            "ticks": ""
           },
           "bgcolor": "#E5ECF6",
           "caxis": {
            "gridcolor": "white",
            "linecolor": "white",
            "ticks": ""
           }
          },
          "title": {
           "x": 0.05
          },
          "xaxis": {
           "automargin": true,
           "gridcolor": "white",
           "linecolor": "white",
           "ticks": "",
           "title": {
            "standoff": 15
           },
           "zerolinecolor": "white",
           "zerolinewidth": 2
          },
          "yaxis": {
           "automargin": true,
           "gridcolor": "white",
           "linecolor": "white",
           "ticks": "",
           "title": {
            "standoff": 15
           },
           "zerolinecolor": "white",
           "zerolinewidth": 2
          }
         }
        },
        "title": {
         "text": "ON"
        },
        "xaxis": {
         "linecolor": "black",
         "ticks": "outside"
        },
        "yaxis": {
         "linecolor": "black",
         "ticks": "outside"
        }
       }
      }
     },
     "metadata": {}
    }
   ],
   "source": [
    "# Create list of names for x-axis and traces\n",
    "group_name = ['Day{}'.format(x) for x in chosen_times]\n",
    "\n",
    "# Sort results\n",
    "all_intervals_chosen.sort_values(by=['Epsilon','Time Points'], inplace=True)\n",
    "\n",
    "# Plot (box plot for inference)\n",
    "fig = go.Figure()\n",
    "\n",
    "prior_dist = scipy.stats.gamma(a, scale=1/b)\n",
    "median = prior_dist.median()\n",
    "prior_dist_interval = prior_dist.interval(.5)\n",
    "\n",
    "fig.add_hrect(y0=prior_dist_interval[0], y1=prior_dist_interval[1], line_width=0, fillcolor='black', opacity=0.1)\n",
    "fig.add_hline(y=median, line_dash='dot',\n",
    "              annotation_text='Prior R', fillcolor='black',\n",
    "              annotation_position='top right')\n",
    "\n",
    "n = len(group_name)\n",
    "for i in range(len(epsilon_range)):\n",
    "    fig.add_trace(\n",
    "        go.Box(\n",
    "            mean=all_intervals_chosen.loc[all_intervals_chosen['Central Probability']==0]['Mean'][i*n:(i+1)*n],\n",
    "            median=all_intervals_chosen.loc[all_intervals_chosen['Central Probability']==0]['Lower bound CI'][i*n:(i+1)*n],\n",
    "            q1=all_intervals_chosen.loc[all_intervals_chosen['Central Probability']==0.25]['Lower bound CI'][i*n:(i+1)*n],\n",
    "            q3=all_intervals_chosen.loc[all_intervals_chosen['Central Probability']==0.25]['Upper bound CI'][i*n:(i+1)*n],\n",
    "            upperfence=all_intervals_chosen.loc[all_intervals_chosen['Central Probability']==0.95]['Upper bound CI'][i*n:(i+1)*n],\n",
    "            lowerfence=all_intervals_chosen.loc[all_intervals_chosen['Central Probability']==0.95]['Lower bound CI'][i*n:(i+1)*n],\n",
    "            x=group_name,\n",
    "            name=str(round(epsilon_range[i],1))\n",
    "        )\n",
    "    )\n",
    "fig.update_layout(boxmode='group', title='ON', plot_bgcolor='white',\n",
    "    xaxis=dict(linecolor='black'),\n",
    "    yaxis=dict(linecolor='black'))\n",
    "\n",
    "fig.update_xaxes(ticks='outside')\n",
    "fig.update_yaxes(ticks='outside')\n",
    "\n",
    "fig.write_image('ON-inf-r.pdf')\n",
    "fig.show()"
   ]
  },
  {
   "cell_type": "code",
   "execution_count": 116,
   "metadata": {},
   "outputs": [
    {
     "output_type": "display_data",
     "data": {
      "application/vnd.plotly.v1+json": {
       "config": {
        "plotlyServerURL": "https://plot.ly"
       },
       "data": [
        {
         "line": {
          "color": "green"
         },
         "name": "Local Incidences for epsilon = -0.8",
         "type": "scatter",
         "x": [
          8,
          9,
          10,
          11,
          12,
          13,
          14,
          15,
          16,
          17,
          18,
          19,
          20,
          21,
          22,
          23,
          24,
          25,
          26,
          27,
          28,
          29,
          30,
          31,
          32,
          33,
          34,
          35,
          36,
          37,
          38,
          39,
          40,
          41,
          42,
          43,
          44,
          45,
          46,
          47,
          48,
          49,
          50,
          51
         ],
         "xaxis": "x",
         "y": [
          1.9459360837936401,
          1.846481442451477,
          2.3639676570892334,
          3.4457855224609375,
          4.207197189331055,
          3.5377612113952637,
          2.5815906524658203,
          1.8407260179519653,
          1.8401423692703247,
          1.7154322862625122,
          1.6986864805221558,
          1.6995530128479004,
          1.8328325748443604,
          1.8251739740371704,
          1.8737200498580933,
          1.9915074110031128,
          2.0983939170837402,
          1.966405987739563,
          2.042743682861328,
          2.0765395164489746,
          1.9492429494857788,
          1.8114218711853027,
          1.8522717952728271,
          1.8217241764068604,
          1.8404306173324585,
          1.7510812282562256,
          1.6518250703811646,
          1.535763144493103,
          1.4509104490280151,
          1.3641141653060913,
          1.3027197122573853,
          1.2507847547531128,
          1.2029179334640503,
          1.1304528713226318,
          1.1367075443267822,
          1.1647577285766602,
          1.1802698373794556,
          1.1790735721588135,
          1.182563304901123,
          1.1752690076828003,
          1.2419434785842896,
          1.2353333234786987,
          1.1965373754501343,
          1.147536039352417
         ],
         "yaxis": "y"
        },
        {
         "fill": "toself",
         "fillcolor": "green",
         "line": {
          "color": "green"
         },
         "mode": "lines",
         "name": "Credible interval",
         "opacity": 0.15,
         "type": "scatter",
         "x": [
          8,
          9,
          10,
          11,
          12,
          13,
          14,
          15,
          16,
          17,
          18,
          19,
          20,
          21,
          22,
          23,
          24,
          25,
          26,
          27,
          28,
          29,
          30,
          31,
          32,
          33,
          34,
          35,
          36,
          37,
          38,
          39,
          40,
          41,
          42,
          43,
          44,
          45,
          46,
          47,
          48,
          49,
          50,
          51,
          51,
          50,
          49,
          48,
          47,
          46,
          45,
          44,
          43,
          42,
          41,
          40,
          39,
          38,
          37,
          36,
          35,
          34,
          33,
          32,
          31,
          30,
          29,
          28,
          27,
          26,
          25,
          24,
          23,
          22,
          21,
          20,
          19,
          18,
          17,
          16,
          15,
          14,
          13,
          12,
          11,
          10,
          9,
          8
         ],
         "xaxis": "x",
         "y": [
          4.823555397987367,
          4.16146630048752,
          4.562565243244172,
          5.757118844985963,
          6.554064023494723,
          5.4808167219162005,
          3.9442431271076206,
          2.7273316860198977,
          2.577607047557831,
          2.318875724077225,
          2.2374401688575745,
          2.192454659938812,
          2.3129202246665956,
          2.2726489007472996,
          2.3079732179641725,
          2.427965295314789,
          2.5393757820129395,
          2.3784669160842893,
          2.461875540018082,
          2.48851038813591,
          2.332042968273163,
          2.1617780804634092,
          2.1926942229270936,
          2.139238488674164,
          2.1512312591075897,
          2.039938747882843,
          1.918341362476349,
          1.7716036379337312,
          1.6590737521648407,
          1.5445233941078187,
          1.4609023660421372,
          1.3877148628234863,
          1.3226944386959074,
          1.232166075706482,
          1.2294156670570375,
          1.2504156917333604,
          1.2574094533920288,
          1.2515936762094497,
          1.2529727458953859,
          1.2445780038833618,
          1.310943964123726,
          1.30278779566288,
          1.265277910232544,
          1.2164508163928986,
          1.0920328974723816,
          1.137092825770378,
          1.1759676903486251,
          1.1833891689777376,
          1.1203438997268678,
          1.1263321429491042,
          1.1232474833726882,
          1.123592010140419,
          1.1050505578517913,
          1.0704636484384538,
          1.0575462520122527,
          1.118407243490219,
          1.1533558100461958,
          1.1908386856317519,
          1.2345136165618897,
          1.2992492765188217,
          1.3608528912067412,
          1.4511548191308976,
          1.5313755214214324,
          1.605290287733078,
          1.5839166313409805,
          1.5979946732521055,
          1.54347982108593,
          1.6529681593179704,
          1.7597346931695939,
          1.7186523765325548,
          1.6414880573749542,
          1.753365010023117,
          1.650069531798363,
          1.5319839566946032,
          1.473585593700409,
          1.4587523818016053,
          1.3156986892223357,
          1.2816167622804642,
          1.255096060037613,
          1.2955841481685642,
          1.2045796632766725,
          1.6123546838760376,
          2.122248411178589,
          2.4734444022178654,
          1.7948336929082873,
          0.9190993353724485,
          0.4894199497997761,
          0.3890764139592649
         ],
         "yaxis": "y"
        },
        {
         "line": {
          "color": "purple"
         },
         "name": "Local Incidences for epsilon = 0",
         "type": "scatter",
         "x": [
          8,
          9,
          10,
          11,
          12,
          13,
          14,
          15,
          16,
          17,
          18,
          19,
          20,
          21,
          22,
          23,
          24,
          25,
          26,
          27,
          28,
          29,
          30,
          31,
          32,
          33,
          34,
          35,
          36,
          37,
          38,
          39,
          40,
          41,
          42,
          43,
          44,
          45,
          46,
          47,
          48,
          49,
          50,
          51
         ],
         "xaxis": "x",
         "y": [
          0.49198785424232483,
          0.48505699634552,
          0.6542266011238098,
          1.0181313753128052,
          1.3663926124572754,
          1.2778743505477905,
          1.0107779502868652,
          0.7503831386566162,
          0.7590352892875671,
          0.7056605219841003,
          0.7012578845024109,
          0.7102386951446533,
          0.787925660610199,
          0.8218244910240173,
          0.8951072692871094,
          1.015055537223816,
          1.1458576917648315,
          1.1509761810302734,
          1.2724155187606812,
          1.3598750829696655,
          1.3290451765060425,
          1.274378776550293,
          1.3325368165969849,
          1.3338665962219238,
          1.3701388835906982,
          1.3249480724334717,
          1.2722086906433105,
          1.2050920724868774,
          1.1620292663574219,
          1.115058183670044,
          1.08670175075531,
          1.0641087293624878,
          1.0452871322631836,
          1.002174735069275,
          1.0256597995758057,
          1.0686883926391602,
          1.097033977508545,
          1.108237385749817,
          1.1207964420318604,
          1.1227784156799316,
          1.1927961111068726,
          1.1933683156967163,
          1.1616100072860718,
          1.1222482919692993
         ],
         "yaxis": "y"
        },
        {
         "fill": "toself",
         "fillcolor": "purple",
         "line": {
          "color": "purple"
         },
         "mode": "lines",
         "name": "Credible interval",
         "opacity": 0.15,
         "type": "scatter",
         "x": [
          8,
          9,
          10,
          11,
          12,
          13,
          14,
          15,
          16,
          17,
          18,
          19,
          20,
          21,
          22,
          23,
          24,
          25,
          26,
          27,
          28,
          29,
          30,
          31,
          32,
          33,
          34,
          35,
          36,
          37,
          38,
          39,
          40,
          41,
          42,
          43,
          44,
          45,
          46,
          47,
          48,
          49,
          50,
          51,
          51,
          50,
          49,
          48,
          47,
          46,
          45,
          44,
          43,
          42,
          41,
          40,
          39,
          38,
          37,
          36,
          35,
          34,
          33,
          32,
          31,
          30,
          29,
          28,
          27,
          26,
          25,
          24,
          23,
          22,
          21,
          20,
          19,
          18,
          17,
          16,
          15,
          14,
          13,
          12,
          11,
          10,
          9,
          8
         ],
         "xaxis": "x",
         "y": [
          1.216961669921875,
          1.0894441843032838,
          1.2547343760728837,
          1.6753924638032915,
          2.067722624540329,
          1.9097483754158022,
          1.5001630961894987,
          1.093918716907501,
          1.056080946326256,
          0.9525891661643981,
          0.9220004230737686,
          0.9119478419423104,
          0.9839189752936363,
          1.0053739905357362,
          1.0761988103389741,
          1.201298961043358,
          1.3395905643701556,
          1.3405404001474381,
          1.477440732717514,
          1.5764579385519029,
          1.5461983680725098,
          1.4860395789146423,
          1.5493587881326678,
          1.5434572845697403,
          1.5811772346496582,
          1.525231033563614,
          1.4592530816793443,
          1.373859837651253,
          1.3122342854738236,
          1.2462992012500764,
          1.2028196692466737,
          1.1660582810640336,
          1.1345675259828567,
          1.0781879425048828,
          1.0958129525184632,
          1.1324465304613112,
          1.1541519194841385,
          1.1622742503881454,
          1.175334945321083,
          1.1777333110570907,
          1.2502304434776306,
          1.2510708749294281,
          1.2226772695779802,
          1.1816757977008818,
          1.070425745844841,
          1.1100449502468108,
          1.1418976396322251,
          1.1426098346710205,
          1.0746383666992188,
          1.0728425830602646,
          1.0608607441186906,
          1.050499188899994,
          1.0203333973884583,
          0.9745430901646613,
          0.9469408929347992,
          0.9822761744260788,
          0.9922864854335786,
          1.004480341076851,
          1.020950523018837,
          1.0529098510742188,
          1.0802848100662232,
          1.1299628704786302,
          1.171056967973709,
          1.2079169511795045,
          1.173133698105812,
          1.1651675671339035,
          1.1060646265745162,
          1.153472039103508,
          1.1853828936815263,
          1.1067856192588807,
          0.9967548817396163,
          0.9907948732376098,
          0.8666886299848556,
          0.7507764607667923,
          0.6765751183032989,
          0.6345560446381568,
          0.553425769507885,
          0.5298041835427284,
          0.5169451028108597,
          0.5359224557876587,
          0.4967172764241696,
          0.6480546921491623,
          0.8011087030172348,
          0.8322124168276789,
          0.5380940347909927,
          0.25683705359697345,
          0.12876945473253731,
          0.0992130793631077
         ],
         "yaxis": "y"
        },
        {
         "line": {
          "color": "green"
         },
         "name": "Local Incidences for epsilon = -0.5",
         "type": "scatter",
         "x": [
          8,
          9,
          10,
          11,
          12,
          13,
          14,
          15,
          16,
          17,
          18,
          19,
          20,
          21,
          22,
          23,
          24,
          25,
          26,
          27,
          28,
          29,
          30,
          31,
          32,
          33,
          34,
          35,
          36,
          37,
          38,
          39,
          40,
          41,
          42,
          43,
          44,
          45,
          46,
          47,
          48,
          49,
          50,
          51
         ],
         "xaxis": "x2",
         "y": [
          0.922402560710907,
          0.9008437991142273,
          1.1946042776107788,
          1.8203556537628174,
          2.363945245742798,
          2.126960515975952,
          1.6306712627410889,
          1.191322684288025,
          1.1995517015457153,
          1.1163592338562012,
          1.1077535152435303,
          1.116394281387329,
          1.2240372896194458,
          1.2519057989120483,
          1.3288921117782593,
          1.463258981704712,
          1.599424958229065,
          1.5533437728881836,
          1.6645816564559937,
          1.7336879968643188,
          1.6588685512542725,
          1.5641130208969116,
          1.6159212589263916,
          1.6019662618637085,
          1.6306450366973877,
          1.5624531507492065,
          1.4855036735534668,
          1.3926266431808472,
          1.326928734779358,
          1.2586575746536255,
          1.2123444080352783,
          1.1730839014053345,
          1.1386044025421143,
          1.0786045789718628,
          1.092852234840393,
          1.1276555061340332,
          1.146474003791809,
          1.1499748229980469,
          1.1571427583694458,
          1.1539230346679688,
          1.2243276834487915,
          1.2201141119003296,
          1.1831347942352295,
          1.1377370357513428
         ],
         "yaxis": "y2"
        },
        {
         "fill": "toself",
         "fillcolor": "green",
         "line": {
          "color": "green"
         },
         "mode": "lines",
         "name": "Credible interval",
         "opacity": 0.15,
         "type": "scatter",
         "x": [
          8,
          9,
          10,
          11,
          12,
          13,
          14,
          15,
          16,
          17,
          18,
          19,
          20,
          21,
          22,
          23,
          24,
          25,
          26,
          27,
          28,
          29,
          30,
          31,
          32,
          33,
          34,
          35,
          36,
          37,
          38,
          39,
          40,
          41,
          42,
          43,
          44,
          45,
          46,
          47,
          48,
          49,
          50,
          51,
          51,
          50,
          49,
          48,
          47,
          46,
          45,
          44,
          43,
          42,
          41,
          40,
          39,
          38,
          37,
          36,
          35,
          34,
          33,
          32,
          31,
          30,
          29,
          28,
          27,
          26,
          25,
          24,
          23,
          22,
          21,
          20,
          19,
          18,
          17,
          16,
          15,
          14,
          13,
          12,
          11,
          10,
          9,
          8
         ],
         "xaxis": "x2",
         "y": [
          2.281156158447266,
          2.0247035324573517,
          2.2968510508537294,
          3.0098675072193144,
          3.6142332315444947,
          3.2207372426986693,
          2.446316754817963,
          1.7468067586421967,
          1.673398020863533,
          1.509073379635811,
          1.4573531717062,
          1.4353706896305085,
          1.5350582987070085,
          1.5422481596469881,
          1.614218991994858,
          1.7539517521858217,
          1.8989641577005387,
          1.8418512850999835,
          1.968843024969101,
          2.044284635782242,
          1.957762134075165,
          1.8468860387802124,
          1.8967545181512833,
          1.8685969591140748,
          1.8950332909822465,
          1.8104930430650712,
          1.715981274843216,
          1.598325350880623,
          1.5094315141439436,
          1.4169495940208436,
          1.3519021183252335,
          1.2952738165855409,
          1.2449075996875762,
          1.169608125090599,
          1.1752745240926743,
          1.202908518910408,
          1.2163398623466493,
          1.216205981373787,
          1.2226554274559023,
          1.2183276891708374,
          1.287370565533638,
          1.2828805506229402,
          1.2489070892333984,
          1.203121191263199,
          1.0838524013757704,
          1.126929011940956,
          1.1629289358854296,
          1.167836019396782,
          1.1027002334594727,
          1.1057393461465834,
          1.0991927325725555,
          1.0951962411403657,
          1.0718206137418747,
          1.0325920462608338,
          1.0134182959794997,
          1.063316574692726,
          1.087366208434105,
          1.1134288221597672,
          1.1447323441505433,
          1.1946362167596816,
          1.2403188854455949,
          1.311343565583229,
          1.3727844953536987,
          1.4294340550899507,
          1.3996921241283418,
          1.4027578800916674,
          1.3443052738904955,
          1.4219937711954116,
          1.489894834160805,
          1.4241248339414596,
          1.3219367116689682,
          1.3612930506467822,
          1.233474573493004,
          1.1028581738471985,
          1.0227023124694825,
          0.9808674365282058,
          0.8676263570785523,
          0.83680709451437,
          0.8171276360750199,
          0.845796810090542,
          0.7849702522158624,
          1.0346427738666535,
          1.310462900996208,
          1.4221827656030657,
          0.9574947938323024,
          0.4662556558847429,
          0.23896018415689485,
          0.1850817393511534
         ],
         "yaxis": "y2"
        },
        {
         "line": {
          "color": "purple"
         },
         "name": "Local Incidences for epsilon = 0",
         "type": "scatter",
         "x": [
          8,
          9,
          10,
          11,
          12,
          13,
          14,
          15,
          16,
          17,
          18,
          19,
          20,
          21,
          22,
          23,
          24,
          25,
          26,
          27,
          28,
          29,
          30,
          31,
          32,
          33,
          34,
          35,
          36,
          37,
          38,
          39,
          40,
          41,
          42,
          43,
          44,
          45,
          46,
          47,
          48,
          49,
          50,
          51
         ],
         "xaxis": "x2",
         "y": [
          0.49198785424232483,
          0.48505699634552,
          0.6542266011238098,
          1.0181313753128052,
          1.3663926124572754,
          1.2778743505477905,
          1.0107779502868652,
          0.7503831386566162,
          0.7590352892875671,
          0.7056605219841003,
          0.7012578845024109,
          0.7102386951446533,
          0.787925660610199,
          0.8218244910240173,
          0.8951072692871094,
          1.015055537223816,
          1.1458576917648315,
          1.1509761810302734,
          1.2724155187606812,
          1.3598750829696655,
          1.3290451765060425,
          1.274378776550293,
          1.3325368165969849,
          1.3338665962219238,
          1.3701388835906982,
          1.3249480724334717,
          1.2722086906433105,
          1.2050920724868774,
          1.1620292663574219,
          1.115058183670044,
          1.08670175075531,
          1.0641087293624878,
          1.0452871322631836,
          1.002174735069275,
          1.0256597995758057,
          1.0686883926391602,
          1.097033977508545,
          1.108237385749817,
          1.1207964420318604,
          1.1227784156799316,
          1.1927961111068726,
          1.1933683156967163,
          1.1616100072860718,
          1.1222482919692993
         ],
         "yaxis": "y2"
        },
        {
         "fill": "toself",
         "fillcolor": "purple",
         "line": {
          "color": "purple"
         },
         "mode": "lines",
         "name": "Credible interval",
         "opacity": 0.15,
         "type": "scatter",
         "x": [
          8,
          9,
          10,
          11,
          12,
          13,
          14,
          15,
          16,
          17,
          18,
          19,
          20,
          21,
          22,
          23,
          24,
          25,
          26,
          27,
          28,
          29,
          30,
          31,
          32,
          33,
          34,
          35,
          36,
          37,
          38,
          39,
          40,
          41,
          42,
          43,
          44,
          45,
          46,
          47,
          48,
          49,
          50,
          51,
          51,
          50,
          49,
          48,
          47,
          46,
          45,
          44,
          43,
          42,
          41,
          40,
          39,
          38,
          37,
          36,
          35,
          34,
          33,
          32,
          31,
          30,
          29,
          28,
          27,
          26,
          25,
          24,
          23,
          22,
          21,
          20,
          19,
          18,
          17,
          16,
          15,
          14,
          13,
          12,
          11,
          10,
          9,
          8
         ],
         "xaxis": "x2",
         "y": [
          1.216961669921875,
          1.0894441843032838,
          1.2547343760728837,
          1.6753924638032915,
          2.067722624540329,
          1.9097483754158022,
          1.5001630961894987,
          1.093918716907501,
          1.056080946326256,
          0.9525891661643981,
          0.9220004230737686,
          0.9119478419423104,
          0.9839189752936363,
          1.0053739905357362,
          1.0761988103389741,
          1.201298961043358,
          1.3395905643701556,
          1.3405404001474381,
          1.477440732717514,
          1.5764579385519029,
          1.5461983680725098,
          1.4860395789146423,
          1.5493587881326678,
          1.5434572845697403,
          1.5811772346496582,
          1.525231033563614,
          1.4592530816793443,
          1.373859837651253,
          1.3122342854738236,
          1.2462992012500764,
          1.2028196692466737,
          1.1660582810640336,
          1.1345675259828567,
          1.0781879425048828,
          1.0958129525184632,
          1.1324465304613112,
          1.1541519194841385,
          1.1622742503881454,
          1.175334945321083,
          1.1777333110570907,
          1.2502304434776306,
          1.2510708749294281,
          1.2226772695779802,
          1.1816757977008818,
          1.070425745844841,
          1.1100449502468108,
          1.1418976396322251,
          1.1426098346710205,
          1.0746383666992188,
          1.0728425830602646,
          1.0608607441186906,
          1.050499188899994,
          1.0203333973884583,
          0.9745430901646613,
          0.9469408929347992,
          0.9822761744260788,
          0.9922864854335786,
          1.004480341076851,
          1.020950523018837,
          1.0529098510742188,
          1.0802848100662232,
          1.1299628704786302,
          1.171056967973709,
          1.2079169511795045,
          1.173133698105812,
          1.1651675671339035,
          1.1060646265745162,
          1.153472039103508,
          1.1853828936815263,
          1.1067856192588807,
          0.9967548817396163,
          0.9907948732376098,
          0.8666886299848556,
          0.7507764607667923,
          0.6765751183032989,
          0.6345560446381568,
          0.553425769507885,
          0.5298041835427284,
          0.5169451028108597,
          0.5359224557876587,
          0.4967172764241696,
          0.6480546921491623,
          0.8011087030172348,
          0.8322124168276789,
          0.5380940347909927,
          0.25683705359697345,
          0.12876945473253731,
          0.0992130793631077
         ],
         "yaxis": "y2"
        },
        {
         "line": {
          "color": "green"
         },
         "name": "Local Incidences for epsilon = 0.5",
         "type": "scatter",
         "x": [
          8,
          9,
          10,
          11,
          12,
          13,
          14,
          15,
          16,
          17,
          18,
          19,
          20,
          21,
          22,
          23,
          24,
          25,
          26,
          27,
          28,
          29,
          30,
          31,
          32,
          33,
          34,
          35,
          36,
          37,
          38,
          39,
          40,
          41,
          42,
          43,
          44,
          45,
          46,
          47,
          48,
          49,
          50,
          51
         ],
         "xaxis": "x3",
         "y": [
          0.334917813539505,
          0.3323567807674408,
          0.4506213366985321,
          0.7071173787117004,
          0.9609946608543396,
          0.913033127784729,
          0.732285737991333,
          0.5476179718971252,
          0.5552468299865723,
          0.5158406496047974,
          0.5130619406700134,
          0.5208686590194702,
          0.5809045433998108,
          0.6117880344390869,
          0.6750245094299316,
          0.777036726474762,
          0.8928346037864685,
          0.914241373538971,
          1.029928207397461,
          1.1187924146652222,
          1.1088210344314575,
          1.0751465559005737,
          1.133711338043213,
          1.1427819728851318,
          1.1813281774520874,
          1.150300145149231,
          1.1124526262283325,
          1.0623271465301514,
          1.0332304239273071,
          1.0007362365722656,
          0.9844866394996643,
          0.9737281203269958,
          0.9662461876869202,
          0.9360945224761963,
          0.9665477275848389,
          1.0148566961288452,
          1.0504086017608643,
          1.0659371614456177,
          1.0842920541763306,
          1.09188711643219,
          1.162200927734375,
          1.167421579360962,
          1.141710877418518,
          1.1068378686904907
         ],
         "yaxis": "y3"
        },
        {
         "fill": "toself",
         "fillcolor": "green",
         "line": {
          "color": "green"
         },
         "mode": "lines",
         "name": "Credible interval",
         "opacity": 0.15,
         "type": "scatter",
         "x": [
          8,
          9,
          10,
          11,
          12,
          13,
          14,
          15,
          16,
          17,
          18,
          19,
          20,
          21,
          22,
          23,
          24,
          25,
          26,
          27,
          28,
          29,
          30,
          31,
          32,
          33,
          34,
          35,
          36,
          37,
          38,
          39,
          40,
          41,
          42,
          43,
          44,
          45,
          46,
          47,
          48,
          49,
          50,
          51,
          51,
          50,
          49,
          48,
          47,
          46,
          45,
          44,
          43,
          42,
          41,
          40,
          39,
          38,
          37,
          36,
          35,
          34,
          33,
          32,
          31,
          30,
          29,
          28,
          27,
          26,
          25,
          24,
          23,
          22,
          21,
          20,
          19,
          18,
          17,
          16,
          15,
          14,
          13,
          12,
          11,
          10,
          9,
          8
         ],
         "xaxis": "x3",
         "y": [
          0.8297384545207025,
          0.7462256237864496,
          0.8629113703966143,
          1.1631548076868061,
          1.4492767602205279,
          1.3571766942739487,
          1.081782025098801,
          0.7965500265359879,
          0.7720086574554443,
          0.6958534315228463,
          0.6742033705115318,
          0.6680869042873383,
          0.7240853026509285,
          0.746344967186451,
          0.807723131775856,
          0.9138946488499642,
          1.0356330037117005,
          1.0545376658439636,
          1.1832294762134552,
          1.2836521595716477,
          1.2770066380500795,
          1.2433825701475145,
          1.3089950114488602,
          1.3144773602485658,
          1.355677631497383,
          1.3177303224802017,
          1.2705773502588271,
          1.2049705237150192,
          1.1609332621097566,
          1.112553131580353,
          1.0836095303297042,
          1.0609368443489073,
          1.0425059884786605,
          1.0012536138296129,
          1.0272161066532135,
          1.0703523606061938,
          1.098844063282013,
          1.1133839100599288,
          1.132244011759758,
          1.1399259686470031,
          1.215336701273918,
          1.221020728349686,
          1.1975711703300478,
          1.1611755043268204,
          1.0571861207485198,
          1.0934882134199142,
          1.121582594513893,
          1.11811121404171,
          1.047752970457077,
          1.041404128074646,
          1.0246586680412293,
          1.0084714859724044,
          0.9728063866496086,
          0.9220074266195297,
          0.8878879502415657,
          0.9119756743311882,
          0.9121582999825478,
          0.9144638136029243,
          0.921085175871849,
          0.941043309867382,
          0.9566987678408623,
          0.9927107244729996,
          1.0210171461105346,
          1.0460121601819992,
          1.009629589319229,
          0.99642324000597,
          0.9393182650208473,
          0.9707282558083534,
          0.9844039484858512,
          0.9047459214925766,
          0.7993733748793602,
          0.7779145687818528,
          0.6677450731396675,
          0.5689433962106705,
          0.5053234443068505,
          0.46865766197443004,
          0.4061437390744686,
          0.38793429508805277,
          0.3776929244399071,
          0.39204132705926903,
          0.3633158355951309,
          0.47159625142812733,
          0.5754869773983956,
          0.5889826223254203,
          0.37430367618799215,
          0.17665011920034887,
          0.08852966744452723,
          0.06715243179351092
         ],
         "yaxis": "y3"
        },
        {
         "line": {
          "color": "purple"
         },
         "name": "Local Incidences for epsilon = 0",
         "type": "scatter",
         "x": [
          8,
          9,
          10,
          11,
          12,
          13,
          14,
          15,
          16,
          17,
          18,
          19,
          20,
          21,
          22,
          23,
          24,
          25,
          26,
          27,
          28,
          29,
          30,
          31,
          32,
          33,
          34,
          35,
          36,
          37,
          38,
          39,
          40,
          41,
          42,
          43,
          44,
          45,
          46,
          47,
          48,
          49,
          50,
          51
         ],
         "xaxis": "x3",
         "y": [
          0.49198785424232483,
          0.48505699634552,
          0.6542266011238098,
          1.0181313753128052,
          1.3663926124572754,
          1.2778743505477905,
          1.0107779502868652,
          0.7503831386566162,
          0.7590352892875671,
          0.7056605219841003,
          0.7012578845024109,
          0.7102386951446533,
          0.787925660610199,
          0.8218244910240173,
          0.8951072692871094,
          1.015055537223816,
          1.1458576917648315,
          1.1509761810302734,
          1.2724155187606812,
          1.3598750829696655,
          1.3290451765060425,
          1.274378776550293,
          1.3325368165969849,
          1.3338665962219238,
          1.3701388835906982,
          1.3249480724334717,
          1.2722086906433105,
          1.2050920724868774,
          1.1620292663574219,
          1.115058183670044,
          1.08670175075531,
          1.0641087293624878,
          1.0452871322631836,
          1.002174735069275,
          1.0256597995758057,
          1.0686883926391602,
          1.097033977508545,
          1.108237385749817,
          1.1207964420318604,
          1.1227784156799316,
          1.1927961111068726,
          1.1933683156967163,
          1.1616100072860718,
          1.1222482919692993
         ],
         "yaxis": "y3"
        },
        {
         "fill": "toself",
         "fillcolor": "purple",
         "line": {
          "color": "purple"
         },
         "mode": "lines",
         "name": "Credible interval",
         "opacity": 0.15,
         "type": "scatter",
         "x": [
          8,
          9,
          10,
          11,
          12,
          13,
          14,
          15,
          16,
          17,
          18,
          19,
          20,
          21,
          22,
          23,
          24,
          25,
          26,
          27,
          28,
          29,
          30,
          31,
          32,
          33,
          34,
          35,
          36,
          37,
          38,
          39,
          40,
          41,
          42,
          43,
          44,
          45,
          46,
          47,
          48,
          49,
          50,
          51,
          51,
          50,
          49,
          48,
          47,
          46,
          45,
          44,
          43,
          42,
          41,
          40,
          39,
          38,
          37,
          36,
          35,
          34,
          33,
          32,
          31,
          30,
          29,
          28,
          27,
          26,
          25,
          24,
          23,
          22,
          21,
          20,
          19,
          18,
          17,
          16,
          15,
          14,
          13,
          12,
          11,
          10,
          9,
          8
         ],
         "xaxis": "x3",
         "y": [
          1.216961669921875,
          1.0894441843032838,
          1.2547343760728837,
          1.6753924638032915,
          2.067722624540329,
          1.9097483754158022,
          1.5001630961894987,
          1.093918716907501,
          1.056080946326256,
          0.9525891661643981,
          0.9220004230737686,
          0.9119478419423104,
          0.9839189752936363,
          1.0053739905357362,
          1.0761988103389741,
          1.201298961043358,
          1.3395905643701556,
          1.3405404001474381,
          1.477440732717514,
          1.5764579385519029,
          1.5461983680725098,
          1.4860395789146423,
          1.5493587881326678,
          1.5434572845697403,
          1.5811772346496582,
          1.525231033563614,
          1.4592530816793443,
          1.373859837651253,
          1.3122342854738236,
          1.2462992012500764,
          1.2028196692466737,
          1.1660582810640336,
          1.1345675259828567,
          1.0781879425048828,
          1.0958129525184632,
          1.1324465304613112,
          1.1541519194841385,
          1.1622742503881454,
          1.175334945321083,
          1.1777333110570907,
          1.2502304434776306,
          1.2510708749294281,
          1.2226772695779802,
          1.1816757977008818,
          1.070425745844841,
          1.1100449502468108,
          1.1418976396322251,
          1.1426098346710205,
          1.0746383666992188,
          1.0728425830602646,
          1.0608607441186906,
          1.050499188899994,
          1.0203333973884583,
          0.9745430901646613,
          0.9469408929347992,
          0.9822761744260788,
          0.9922864854335786,
          1.004480341076851,
          1.020950523018837,
          1.0529098510742188,
          1.0802848100662232,
          1.1299628704786302,
          1.171056967973709,
          1.2079169511795045,
          1.173133698105812,
          1.1651675671339035,
          1.1060646265745162,
          1.153472039103508,
          1.1853828936815263,
          1.1067856192588807,
          0.9967548817396163,
          0.9907948732376098,
          0.8666886299848556,
          0.7507764607667923,
          0.6765751183032989,
          0.6345560446381568,
          0.553425769507885,
          0.5298041835427284,
          0.5169451028108597,
          0.5359224557876587,
          0.4967172764241696,
          0.6480546921491623,
          0.8011087030172348,
          0.8322124168276789,
          0.5380940347909927,
          0.25683705359697345,
          0.12876945473253731,
          0.0992130793631077
         ],
         "yaxis": "y3"
        },
        {
         "line": {
          "color": "green"
         },
         "name": "Local Incidences for epsilon = 0.8",
         "type": "scatter",
         "x": [
          8,
          9,
          10,
          11,
          12,
          13,
          14,
          15,
          16,
          17,
          18,
          19,
          20,
          21,
          22,
          23,
          24,
          25,
          26,
          27,
          28,
          29,
          30,
          31,
          32,
          33,
          34,
          35,
          36,
          37,
          38,
          39,
          40,
          41,
          42,
          43,
          44,
          45,
          46,
          47,
          48,
          49,
          50,
          51
         ],
         "xaxis": "x4",
         "y": [
          0.2811928987503052,
          0.2795999050140381,
          0.3796773850917816,
          0.5973095297813416,
          0.8162620067596436,
          0.7797895073890686,
          0.628183126449585,
          0.47126293182373047,
          0.47817784547805786,
          0.4441457986831665,
          0.4417765736579895,
          0.44890326261520386,
          0.5018590092658997,
          0.5303806066513062,
          0.5881799459457397,
          0.6812314391136169,
          0.7883571982383728,
          0.8138810992240906,
          0.924261748790741,
          1.0112119913101196,
          1.0084083080291748,
          0.9830268025398254,
          1.0404789447784424,
          1.0522023439407349,
          1.0910978317260742,
          1.0656154155731201,
          1.0343326330184937,
          0.9918856024742126,
          0.9688825607299805,
          0.942785918712616,
          0.9319713711738586,
          0.9265020489692688,
          0.9245877265930176,
          0.8994424343109131,
          0.9355590343475342,
          0.9872839450836182,
          1.0219932794570923,
          1.0439229011535645,
          1.0637582540512085,
          1.0730509757995605,
          1.1454044580459595,
          1.1527841091156006,
          1.1310181617736816,
          1.0973409414291382
         ],
         "yaxis": "y4"
        },
        {
         "fill": "toself",
         "fillcolor": "green",
         "line": {
          "color": "green"
         },
         "mode": "lines",
         "name": "Credible interval",
         "opacity": 0.15,
         "type": "scatter",
         "x": [
          8,
          9,
          10,
          11,
          12,
          13,
          14,
          15,
          16,
          17,
          18,
          19,
          20,
          21,
          22,
          23,
          24,
          25,
          26,
          27,
          28,
          29,
          30,
          31,
          32,
          33,
          34,
          35,
          36,
          37,
          38,
          39,
          40,
          41,
          42,
          43,
          44,
          45,
          46,
          47,
          48,
          49,
          50,
          51,
          51,
          50,
          49,
          48,
          47,
          46,
          45,
          44,
          43,
          42,
          41,
          40,
          39,
          38,
          37,
          36,
          35,
          34,
          33,
          32,
          31,
          30,
          29,
          28,
          27,
          26,
          25,
          24,
          23,
          22,
          21,
          20,
          19,
          18,
          17,
          16,
          15,
          14,
          13,
          12,
          11,
          10,
          9,
          8
         ],
         "xaxis": "x4",
         "y": [
          0.6939147382974625,
          0.627740639448166,
          0.7269168317317962,
          0.9816573813557626,
          1.2297851115465166,
          1.156826341152191,
          0.926616932451725,
          0.6842128440737725,
          0.6644868597388268,
          0.5990619346499444,
          0.5806767672300339,
          0.5754240289330482,
          0.6250396385788918,
          0.6461838245391845,
          0.7023574203252791,
          0.7993014380335809,
          0.9114043205976486,
          0.9349690601229668,
          1.0569513022899628,
          1.1549416929483414,
          1.1566895276308058,
          1.132606029510498,
          1.1973582565784455,
          1.2071888595819473,
          1.249533438682556,
          1.2178216129541397,
          1.1784239053726195,
          1.1219649910926819,
          1.0858804017305375,
          1.045144808292389,
          1.022980335354805,
          1.0067089825868607,
          0.9945162758231164,
          0.9602387607097626,
          0.9902311116456985,
          1.0365549355745316,
          1.0683464288711548,
          1.0865751504898071,
          1.1082558929920197,
          1.1188258230686188,
          1.195546156167984,
          1.2040313720703126,
          1.1833279550075533,
          1.1490960150957108,
          1.0495571970939637,
          1.08392094373703,
          1.109567868709564,
          1.1039398908615112,
          1.032004937529564,
          1.0233911246061325,
          1.0038862198591232,
          0.9846236079931259,
          0.9459453821182251,
          0.892847889661789,
          0.8556567937135697,
          0.8742933243513107,
          0.8698479488492011,
          0.8678134009242058,
          0.8697750240564347,
          0.8845291525125504,
          0.8955237701535225,
          0.924895142018795,
          0.9479166582226753,
          0.9679799482226372,
          0.9313906893134117,
          0.9168632611632348,
          0.8611432075500489,
          0.8855733439326287,
          0.893147400021553,
          0.8154579147696496,
          0.7143068417906762,
          0.6891733840107918,
          0.5864273875951768,
          0.4964558653533459,
          0.4388197362422943,
          0.4050593934953213,
          0.35015239790081976,
          0.33430849909782406,
          0.3252119608223438,
          0.33787741437554364,
          0.31291651725769043,
          0.40508235245943075,
          0.49298638701438907,
          0.5005856350064278,
          0.3165742620825768,
          0.14926189221441746,
          0.0743931606411934,
          0.05656651835888626
         ],
         "yaxis": "y4"
        },
        {
         "line": {
          "color": "purple"
         },
         "name": "Local Incidences for epsilon = 0",
         "type": "scatter",
         "x": [
          8,
          9,
          10,
          11,
          12,
          13,
          14,
          15,
          16,
          17,
          18,
          19,
          20,
          21,
          22,
          23,
          24,
          25,
          26,
          27,
          28,
          29,
          30,
          31,
          32,
          33,
          34,
          35,
          36,
          37,
          38,
          39,
          40,
          41,
          42,
          43,
          44,
          45,
          46,
          47,
          48,
          49,
          50,
          51
         ],
         "xaxis": "x4",
         "y": [
          0.49198785424232483,
          0.48505699634552,
          0.6542266011238098,
          1.0181313753128052,
          1.3663926124572754,
          1.2778743505477905,
          1.0107779502868652,
          0.7503831386566162,
          0.7590352892875671,
          0.7056605219841003,
          0.7012578845024109,
          0.7102386951446533,
          0.787925660610199,
          0.8218244910240173,
          0.8951072692871094,
          1.015055537223816,
          1.1458576917648315,
          1.1509761810302734,
          1.2724155187606812,
          1.3598750829696655,
          1.3290451765060425,
          1.274378776550293,
          1.3325368165969849,
          1.3338665962219238,
          1.3701388835906982,
          1.3249480724334717,
          1.2722086906433105,
          1.2050920724868774,
          1.1620292663574219,
          1.115058183670044,
          1.08670175075531,
          1.0641087293624878,
          1.0452871322631836,
          1.002174735069275,
          1.0256597995758057,
          1.0686883926391602,
          1.097033977508545,
          1.108237385749817,
          1.1207964420318604,
          1.1227784156799316,
          1.1927961111068726,
          1.1933683156967163,
          1.1616100072860718,
          1.1222482919692993
         ],
         "yaxis": "y4"
        },
        {
         "fill": "toself",
         "fillcolor": "purple",
         "line": {
          "color": "purple"
         },
         "mode": "lines",
         "name": "Credible interval",
         "opacity": 0.15,
         "type": "scatter",
         "x": [
          8,
          9,
          10,
          11,
          12,
          13,
          14,
          15,
          16,
          17,
          18,
          19,
          20,
          21,
          22,
          23,
          24,
          25,
          26,
          27,
          28,
          29,
          30,
          31,
          32,
          33,
          34,
          35,
          36,
          37,
          38,
          39,
          40,
          41,
          42,
          43,
          44,
          45,
          46,
          47,
          48,
          49,
          50,
          51,
          51,
          50,
          49,
          48,
          47,
          46,
          45,
          44,
          43,
          42,
          41,
          40,
          39,
          38,
          37,
          36,
          35,
          34,
          33,
          32,
          31,
          30,
          29,
          28,
          27,
          26,
          25,
          24,
          23,
          22,
          21,
          20,
          19,
          18,
          17,
          16,
          15,
          14,
          13,
          12,
          11,
          10,
          9,
          8
         ],
         "xaxis": "x4",
         "y": [
          1.216961669921875,
          1.0894441843032838,
          1.2547343760728837,
          1.6753924638032915,
          2.067722624540329,
          1.9097483754158022,
          1.5001630961894987,
          1.093918716907501,
          1.056080946326256,
          0.9525891661643981,
          0.9220004230737686,
          0.9119478419423104,
          0.9839189752936363,
          1.0053739905357362,
          1.0761988103389741,
          1.201298961043358,
          1.3395905643701556,
          1.3405404001474381,
          1.477440732717514,
          1.5764579385519029,
          1.5461983680725098,
          1.4860395789146423,
          1.5493587881326678,
          1.5434572845697403,
          1.5811772346496582,
          1.525231033563614,
          1.4592530816793443,
          1.373859837651253,
          1.3122342854738236,
          1.2462992012500764,
          1.2028196692466737,
          1.1660582810640336,
          1.1345675259828567,
          1.0781879425048828,
          1.0958129525184632,
          1.1324465304613112,
          1.1541519194841385,
          1.1622742503881454,
          1.175334945321083,
          1.1777333110570907,
          1.2502304434776306,
          1.2510708749294281,
          1.2226772695779802,
          1.1816757977008818,
          1.070425745844841,
          1.1100449502468108,
          1.1418976396322251,
          1.1426098346710205,
          1.0746383666992188,
          1.0728425830602646,
          1.0608607441186906,
          1.050499188899994,
          1.0203333973884583,
          0.9745430901646613,
          0.9469408929347992,
          0.9822761744260788,
          0.9922864854335786,
          1.004480341076851,
          1.020950523018837,
          1.0529098510742188,
          1.0802848100662232,
          1.1299628704786302,
          1.171056967973709,
          1.2079169511795045,
          1.173133698105812,
          1.1651675671339035,
          1.1060646265745162,
          1.153472039103508,
          1.1853828936815263,
          1.1067856192588807,
          0.9967548817396163,
          0.9907948732376098,
          0.8666886299848556,
          0.7507764607667923,
          0.6765751183032989,
          0.6345560446381568,
          0.553425769507885,
          0.5298041835427284,
          0.5169451028108597,
          0.5359224557876587,
          0.4967172764241696,
          0.6480546921491623,
          0.8011087030172348,
          0.8322124168276789,
          0.5380940347909927,
          0.25683705359697345,
          0.12876945473253731,
          0.0992130793631077
         ],
         "yaxis": "y4"
        },
        {
         "line": {
          "color": "green"
         },
         "name": "Local Incidences for epsilon = 1.0",
         "type": "scatter",
         "x": [
          8,
          9,
          10,
          11,
          12,
          13,
          14,
          15,
          16,
          17,
          18,
          19,
          20,
          21,
          22,
          23,
          24,
          25,
          26,
          27,
          28,
          29,
          30,
          31,
          32,
          33,
          34,
          35,
          36,
          37,
          38,
          39,
          40,
          41,
          42,
          43,
          44,
          45,
          46,
          47,
          48,
          49,
          50,
          51
         ],
         "xaxis": "x5",
         "y": [
          0.2538999021053314,
          0.2528005838394165,
          0.3434251844882965,
          0.5417112112045288,
          0.7414135336875916,
          0.7108094096183777,
          0.5740113258361816,
          0.4313128888607025,
          0.437640905380249,
          0.40650659799575806,
          0.4044008255004883,
          0.4110458791255951,
          0.4600070118904114,
          0.4872141182422638,
          0.541693925857544,
          0.6294755339622498,
          0.7313606142997742,
          0.7582904100418091,
          0.8650743365287781,
          0.9503794312477112,
          0.9510908126831055,
          0.9298701286315918,
          0.9864565134048462,
          0.9995242953300476,
          1.0382635593414307,
          1.015994906425476,
          0.9882239103317261,
          0.9498275518417358,
          0.9303073883056641,
          0.9077627658843994,
          0.900049090385437,
          0.897433340549469,
          0.8981226086616516,
          0.8780826926231384,
          0.914897084236145,
          0.9670301079750061,
          1.005845308303833,
          1.0273258686065674,
          1.0517464876174927,
          1.0619679689407349,
          1.1353182792663574,
          1.1435747146606445,
          1.1241466999053955,
          1.0909512042999268
         ],
         "yaxis": "y5"
        },
        {
         "fill": "toself",
         "fillcolor": "green",
         "line": {
          "color": "green"
         },
         "mode": "lines",
         "name": "Credible interval",
         "opacity": 0.15,
         "type": "scatter",
         "x": [
          8,
          9,
          10,
          11,
          12,
          13,
          14,
          15,
          16,
          17,
          18,
          19,
          20,
          21,
          22,
          23,
          24,
          25,
          26,
          27,
          28,
          29,
          30,
          31,
          32,
          33,
          34,
          35,
          36,
          37,
          38,
          39,
          40,
          41,
          42,
          43,
          44,
          45,
          46,
          47,
          48,
          49,
          50,
          51,
          51,
          50,
          49,
          48,
          47,
          46,
          45,
          44,
          43,
          42,
          41,
          40,
          39,
          38,
          37,
          36,
          35,
          34,
          33,
          32,
          31,
          30,
          29,
          28,
          27,
          26,
          25,
          24,
          23,
          22,
          21,
          20,
          19,
          18,
          17,
          16,
          15,
          14,
          13,
          12,
          11,
          10,
          9,
          8
         ],
         "xaxis": "x5",
         "y": [
          0.6266823530197143,
          0.567666631937027,
          0.6578046947717667,
          0.8895764783024791,
          1.1157203644514084,
          1.0533403933048249,
          0.8466829255223274,
          0.6262454196810723,
          0.6077896550297738,
          0.5487482041120529,
          0.5314440801739693,
          0.5268114700913429,
          0.5726163998246192,
          0.592931404709816,
          0.6464037016034127,
          0.7375717580318452,
          0.8439369693398476,
          0.8693237975239754,
          0.9870686575770379,
          1.0826748877763748,
          1.088176500797272,
          1.0687786370515822,
          1.1335457623004912,
          1.1447462677955629,
          1.1869551301002503,
          1.1594358086585999,
          1.1241141587495804,
          1.0728263527154924,
          1.040797805786133,
          1.0045584470033646,
          0.9862230151891709,
          0.9734072461724281,
          0.965175350010395,
          0.9347411602735519,
          0.9672379553318025,
          1.0154779374599456,
          1.049479255080223,
          1.0694501399993896,
          1.0930057793855665,
          1.105306050181389,
          1.1829642355442047,
          1.1929761230945586,
          1.1741320103406907,
          1.1415330171585083,
          1.0443621844053268,
          1.077544090151787,
          1.1016932696104051,
          1.094631525874138,
          1.021858561038971,
          1.0116495937108994,
          0.9904373109340668,
          0.9691281229257585,
          0.928644472360611,
          0.8741282746195793,
          0.8353217750787735,
          0.8506570369005203,
          0.8435571789741516,
          0.8389890775084495,
          0.838609392940998,
          0.8504597857594491,
          0.8585364714264869,
          0.8849826961755752,
          0.904994235932827,
          0.922435998916626,
          0.8859479710459709,
          0.8704113215208054,
          0.816059847176075,
          0.8372147709131241,
          0.8413871929049492,
          0.7648244857788087,
          0.6670227393507957,
          0.6400886610150337,
          0.5424954831600189,
          0.45758655294775963,
          0.40324547290802,
          0.37174770385026934,
          0.32068413197994233,
          0.3058580681681633,
          0.2976535499095917,
          0.30939268693327904,
          0.28651835918426516,
          0.37071749940514565,
          0.44981322735548024,
          0.455349025130272,
          0.28722924217581747,
          0.1350796900689602,
          0.06709597855806353,
          0.05112247457727792
         ],
         "yaxis": "y5"
        },
        {
         "line": {
          "color": "purple"
         },
         "name": "Local Incidences for epsilon = 0",
         "type": "scatter",
         "x": [
          8,
          9,
          10,
          11,
          12,
          13,
          14,
          15,
          16,
          17,
          18,
          19,
          20,
          21,
          22,
          23,
          24,
          25,
          26,
          27,
          28,
          29,
          30,
          31,
          32,
          33,
          34,
          35,
          36,
          37,
          38,
          39,
          40,
          41,
          42,
          43,
          44,
          45,
          46,
          47,
          48,
          49,
          50,
          51
         ],
         "xaxis": "x5",
         "y": [
          0.49198785424232483,
          0.48505699634552,
          0.6542266011238098,
          1.0181313753128052,
          1.3663926124572754,
          1.2778743505477905,
          1.0107779502868652,
          0.7503831386566162,
          0.7590352892875671,
          0.7056605219841003,
          0.7012578845024109,
          0.7102386951446533,
          0.787925660610199,
          0.8218244910240173,
          0.8951072692871094,
          1.015055537223816,
          1.1458576917648315,
          1.1509761810302734,
          1.2724155187606812,
          1.3598750829696655,
          1.3290451765060425,
          1.274378776550293,
          1.3325368165969849,
          1.3338665962219238,
          1.3701388835906982,
          1.3249480724334717,
          1.2722086906433105,
          1.2050920724868774,
          1.1620292663574219,
          1.115058183670044,
          1.08670175075531,
          1.0641087293624878,
          1.0452871322631836,
          1.002174735069275,
          1.0256597995758057,
          1.0686883926391602,
          1.097033977508545,
          1.108237385749817,
          1.1207964420318604,
          1.1227784156799316,
          1.1927961111068726,
          1.1933683156967163,
          1.1616100072860718,
          1.1222482919692993
         ],
         "yaxis": "y5"
        },
        {
         "fill": "toself",
         "fillcolor": "purple",
         "line": {
          "color": "purple"
         },
         "mode": "lines",
         "name": "Credible interval",
         "opacity": 0.15,
         "type": "scatter",
         "x": [
          8,
          9,
          10,
          11,
          12,
          13,
          14,
          15,
          16,
          17,
          18,
          19,
          20,
          21,
          22,
          23,
          24,
          25,
          26,
          27,
          28,
          29,
          30,
          31,
          32,
          33,
          34,
          35,
          36,
          37,
          38,
          39,
          40,
          41,
          42,
          43,
          44,
          45,
          46,
          47,
          48,
          49,
          50,
          51,
          51,
          50,
          49,
          48,
          47,
          46,
          45,
          44,
          43,
          42,
          41,
          40,
          39,
          38,
          37,
          36,
          35,
          34,
          33,
          32,
          31,
          30,
          29,
          28,
          27,
          26,
          25,
          24,
          23,
          22,
          21,
          20,
          19,
          18,
          17,
          16,
          15,
          14,
          13,
          12,
          11,
          10,
          9,
          8
         ],
         "xaxis": "x5",
         "y": [
          1.216961669921875,
          1.0894441843032838,
          1.2547343760728837,
          1.6753924638032915,
          2.067722624540329,
          1.9097483754158022,
          1.5001630961894987,
          1.093918716907501,
          1.056080946326256,
          0.9525891661643981,
          0.9220004230737686,
          0.9119478419423104,
          0.9839189752936363,
          1.0053739905357362,
          1.0761988103389741,
          1.201298961043358,
          1.3395905643701556,
          1.3405404001474381,
          1.477440732717514,
          1.5764579385519029,
          1.5461983680725098,
          1.4860395789146423,
          1.5493587881326678,
          1.5434572845697403,
          1.5811772346496582,
          1.525231033563614,
          1.4592530816793443,
          1.373859837651253,
          1.3122342854738236,
          1.2462992012500764,
          1.2028196692466737,
          1.1660582810640336,
          1.1345675259828567,
          1.0781879425048828,
          1.0958129525184632,
          1.1324465304613112,
          1.1541519194841385,
          1.1622742503881454,
          1.175334945321083,
          1.1777333110570907,
          1.2502304434776306,
          1.2510708749294281,
          1.2226772695779802,
          1.1816757977008818,
          1.070425745844841,
          1.1100449502468108,
          1.1418976396322251,
          1.1426098346710205,
          1.0746383666992188,
          1.0728425830602646,
          1.0608607441186906,
          1.050499188899994,
          1.0203333973884583,
          0.9745430901646613,
          0.9469408929347992,
          0.9822761744260788,
          0.9922864854335786,
          1.004480341076851,
          1.020950523018837,
          1.0529098510742188,
          1.0802848100662232,
          1.1299628704786302,
          1.171056967973709,
          1.2079169511795045,
          1.173133698105812,
          1.1651675671339035,
          1.1060646265745162,
          1.153472039103508,
          1.1853828936815263,
          1.1067856192588807,
          0.9967548817396163,
          0.9907948732376098,
          0.8666886299848556,
          0.7507764607667923,
          0.6765751183032989,
          0.6345560446381568,
          0.553425769507885,
          0.5298041835427284,
          0.5169451028108597,
          0.5359224557876587,
          0.4967172764241696,
          0.6480546921491623,
          0.8011087030172348,
          0.8322124168276789,
          0.5380940347909927,
          0.25683705359697345,
          0.12876945473253731,
          0.0992130793631077
         ],
         "yaxis": "y5"
        },
        {
         "line": {
          "color": "green"
         },
         "name": "Local Incidences for epsilon = 1.5",
         "type": "scatter",
         "x": [
          8,
          9,
          10,
          11,
          12,
          13,
          14,
          15,
          16,
          17,
          18,
          19,
          20,
          21,
          22,
          23,
          24,
          25,
          26,
          27,
          28,
          29,
          30,
          31,
          32,
          33,
          34,
          35,
          36,
          37,
          38,
          39,
          40,
          41,
          42,
          43,
          44,
          45,
          46,
          47,
          48,
          49,
          50,
          51
         ],
         "xaxis": "x6",
         "y": [
          0.2046075314283371,
          0.20376208424568176,
          0.27777111530303955,
          0.438859760761261,
          0.6037867069244385,
          0.5814861059188843,
          0.4720115661621094,
          0.3555321991443634,
          0.3611609935760498,
          0.3353443741798401,
          0.3338022828102112,
          0.33955320715904236,
          0.38071516156196594,
          0.4048776924610138,
          0.4524540901184082,
          0.5290819406509399,
          0.6193744540214539,
          0.647814929485321,
          0.7457593679428101,
          0.8259832262992859,
          0.8327010869979858,
          0.8191488981246948,
          0.8732302784919739,
          0.8881186246871948,
          0.9262130260467529,
          0.9098511338233948,
          0.88907790184021,
          0.85877525806427,
          0.8459751009941101,
          0.8307341933250427,
          0.8289625644683838,
          0.8320419788360596,
          0.8389251828193665,
          0.8257554173469543,
          0.8687701225280762,
          0.9254694581031799,
          0.9661030173301697,
          0.9939396381378174,
          1.0173616409301758,
          1.0343278646469116,
          1.1127558946609497,
          1.1235657930374146,
          1.1069306135177612,
          1.0751070976257324
         ],
         "yaxis": "y6"
        },
        {
         "fill": "toself",
         "fillcolor": "green",
         "line": {
          "color": "green"
         },
         "mode": "lines",
         "name": "Credible interval",
         "opacity": 0.15,
         "type": "scatter",
         "x": [
          8,
          9,
          10,
          11,
          12,
          13,
          14,
          15,
          16,
          17,
          18,
          19,
          20,
          21,
          22,
          23,
          24,
          25,
          26,
          27,
          28,
          29,
          30,
          31,
          32,
          33,
          34,
          35,
          36,
          37,
          38,
          39,
          40,
          41,
          42,
          43,
          44,
          45,
          46,
          47,
          48,
          49,
          50,
          51,
          51,
          50,
          49,
          48,
          47,
          46,
          45,
          44,
          43,
          42,
          41,
          40,
          39,
          38,
          37,
          36,
          35,
          34,
          33,
          32,
          31,
          30,
          29,
          28,
          27,
          26,
          25,
          24,
          23,
          22,
          21,
          20,
          19,
          18,
          17,
          16,
          15,
          14,
          13,
          12,
          11,
          10,
          9,
          8
         ],
         "xaxis": "x6",
         "y": [
          0.5060995921492577,
          0.45782906338572504,
          0.5318840816617014,
          0.7207524344325066,
          0.9078407540917399,
          0.8597746387124062,
          0.6944549679756167,
          0.5160442560911179,
          0.5012503623962402,
          0.4524134427309036,
          0.4384323902428151,
          0.43487668931484225,
          0.4737597674131394,
          0.49209809079766276,
          0.5392498999834061,
          0.6184475928544999,
          0.712638059258461,
          0.7395839259028435,
          0.8466728687286377,
          0.9361838966608048,
          0.9478709802031516,
          0.9374458193778992,
          0.9993841230869294,
          1.0139167219400407,
          1.0558551937341691,
          1.0354499459266664,
          1.0083684980869294,
          0.9669890508055687,
          0.9431687980890274,
          0.916218350827694,
          0.9047910004854202,
          0.8993716895580292,
          0.8986941650509834,
          0.8772697582840919,
          0.9145387545228004,
          0.9667767360806465,
          1.0051845490932465,
          1.0298479825258255,
          1.05696559548378,
          1.0731510013341905,
          1.1527272462844849,
          1.166499975323677,
          1.1516573429107666,
          1.1224924385547639,
          1.0316401600837708,
          1.0619149208068848,
          1.0823349893093108,
          1.0717337042093278,
          0.9969097226858139,
          0.9828996628522874,
          0.9577826231718064,
          0.9319490745663643,
          0.8877408385276795,
          0.8303801387548447,
          0.7879734426736832,
          0.796575716137886,
          0.7843679785728455,
          0.7750295355916023,
          0.7698579743504524,
          0.7757045581936836,
          0.7786838904023171,
          0.7985153615474702,
          0.8125227928161622,
          0.8246481314301491,
          0.7894741639494895,
          0.7729171454906465,
          0.7215247392654419,
          0.7360090494155883,
          0.7345222637057305,
          0.6623697578907013,
          0.5719670906662941,
          0.5438057616353036,
          0.4571336723864079,
          0.38294458091259004,
          0.33534159660339363,
          0.30786975249648096,
          0.2650938160717488,
          0.2525572136044502,
          0.2455622509121895,
          0.25517026484012606,
          0.2363368455320597,
          0.3051998563110828,
          0.3690410323441029,
          0.370667102187872,
          0.23245912753045564,
          0.10899612344801429,
          0.054249429050833,
          0.041230513155460356
         ],
         "yaxis": "y6"
        },
        {
         "line": {
          "color": "purple"
         },
         "name": "Local Incidences for epsilon = 0",
         "type": "scatter",
         "x": [
          8,
          9,
          10,
          11,
          12,
          13,
          14,
          15,
          16,
          17,
          18,
          19,
          20,
          21,
          22,
          23,
          24,
          25,
          26,
          27,
          28,
          29,
          30,
          31,
          32,
          33,
          34,
          35,
          36,
          37,
          38,
          39,
          40,
          41,
          42,
          43,
          44,
          45,
          46,
          47,
          48,
          49,
          50,
          51
         ],
         "xaxis": "x6",
         "y": [
          0.49198785424232483,
          0.48505699634552,
          0.6542266011238098,
          1.0181313753128052,
          1.3663926124572754,
          1.2778743505477905,
          1.0107779502868652,
          0.7503831386566162,
          0.7590352892875671,
          0.7056605219841003,
          0.7012578845024109,
          0.7102386951446533,
          0.787925660610199,
          0.8218244910240173,
          0.8951072692871094,
          1.015055537223816,
          1.1458576917648315,
          1.1509761810302734,
          1.2724155187606812,
          1.3598750829696655,
          1.3290451765060425,
          1.274378776550293,
          1.3325368165969849,
          1.3338665962219238,
          1.3701388835906982,
          1.3249480724334717,
          1.2722086906433105,
          1.2050920724868774,
          1.1620292663574219,
          1.115058183670044,
          1.08670175075531,
          1.0641087293624878,
          1.0452871322631836,
          1.002174735069275,
          1.0256597995758057,
          1.0686883926391602,
          1.097033977508545,
          1.108237385749817,
          1.1207964420318604,
          1.1227784156799316,
          1.1927961111068726,
          1.1933683156967163,
          1.1616100072860718,
          1.1222482919692993
         ],
         "yaxis": "y6"
        },
        {
         "fill": "toself",
         "fillcolor": "purple",
         "line": {
          "color": "purple"
         },
         "mode": "lines",
         "name": "Credible interval",
         "opacity": 0.15,
         "type": "scatter",
         "x": [
          8,
          9,
          10,
          11,
          12,
          13,
          14,
          15,
          16,
          17,
          18,
          19,
          20,
          21,
          22,
          23,
          24,
          25,
          26,
          27,
          28,
          29,
          30,
          31,
          32,
          33,
          34,
          35,
          36,
          37,
          38,
          39,
          40,
          41,
          42,
          43,
          44,
          45,
          46,
          47,
          48,
          49,
          50,
          51,
          51,
          50,
          49,
          48,
          47,
          46,
          45,
          44,
          43,
          42,
          41,
          40,
          39,
          38,
          37,
          36,
          35,
          34,
          33,
          32,
          31,
          30,
          29,
          28,
          27,
          26,
          25,
          24,
          23,
          22,
          21,
          20,
          19,
          18,
          17,
          16,
          15,
          14,
          13,
          12,
          11,
          10,
          9,
          8
         ],
         "xaxis": "x6",
         "y": [
          1.216961669921875,
          1.0894441843032838,
          1.2547343760728837,
          1.6753924638032915,
          2.067722624540329,
          1.9097483754158022,
          1.5001630961894987,
          1.093918716907501,
          1.056080946326256,
          0.9525891661643981,
          0.9220004230737686,
          0.9119478419423104,
          0.9839189752936363,
          1.0053739905357362,
          1.0761988103389741,
          1.201298961043358,
          1.3395905643701556,
          1.3405404001474381,
          1.477440732717514,
          1.5764579385519029,
          1.5461983680725098,
          1.4860395789146423,
          1.5493587881326678,
          1.5434572845697403,
          1.5811772346496582,
          1.525231033563614,
          1.4592530816793443,
          1.373859837651253,
          1.3122342854738236,
          1.2462992012500764,
          1.2028196692466737,
          1.1660582810640336,
          1.1345675259828567,
          1.0781879425048828,
          1.0958129525184632,
          1.1324465304613112,
          1.1541519194841385,
          1.1622742503881454,
          1.175334945321083,
          1.1777333110570907,
          1.2502304434776306,
          1.2510708749294281,
          1.2226772695779802,
          1.1816757977008818,
          1.070425745844841,
          1.1100449502468108,
          1.1418976396322251,
          1.1426098346710205,
          1.0746383666992188,
          1.0728425830602646,
          1.0608607441186906,
          1.050499188899994,
          1.0203333973884583,
          0.9745430901646613,
          0.9469408929347992,
          0.9822761744260788,
          0.9922864854335786,
          1.004480341076851,
          1.020950523018837,
          1.0529098510742188,
          1.0802848100662232,
          1.1299628704786302,
          1.171056967973709,
          1.2079169511795045,
          1.173133698105812,
          1.1651675671339035,
          1.1060646265745162,
          1.153472039103508,
          1.1853828936815263,
          1.1067856192588807,
          0.9967548817396163,
          0.9907948732376098,
          0.8666886299848556,
          0.7507764607667923,
          0.6765751183032989,
          0.6345560446381568,
          0.553425769507885,
          0.5298041835427284,
          0.5169451028108597,
          0.5359224557876587,
          0.4967172764241696,
          0.6480546921491623,
          0.8011087030172348,
          0.8322124168276789,
          0.5380940347909927,
          0.25683705359697345,
          0.12876945473253731,
          0.0992130793631077
         ],
         "yaxis": "y6"
        }
       ],
       "layout": {
        "annotations": [
         {
          "font": {
           "size": 16
          },
          "showarrow": false,
          "text": "R profile for Ɛ = -0.8 vs Ɛ = 0",
          "x": 0.225,
          "xanchor": "center",
          "xref": "paper",
          "y": 1,
          "yanchor": "bottom",
          "yref": "paper"
         },
         {
          "font": {
           "size": 16
          },
          "showarrow": false,
          "text": "R profile for Ɛ = -0.5 vs Ɛ = 0",
          "x": 0.775,
          "xanchor": "center",
          "xref": "paper",
          "y": 1,
          "yanchor": "bottom",
          "yref": "paper"
         },
         {
          "font": {
           "size": 16
          },
          "showarrow": false,
          "text": "R profile for Ɛ = 0.5 vs Ɛ = 0",
          "x": 0.225,
          "xanchor": "center",
          "xref": "paper",
          "y": 0.71875,
          "yanchor": "bottom",
          "yref": "paper"
         },
         {
          "font": {
           "size": 16
          },
          "showarrow": false,
          "text": "R profile for Ɛ = 0.8 vs Ɛ = 0",
          "x": 0.775,
          "xanchor": "center",
          "xref": "paper",
          "y": 0.71875,
          "yanchor": "bottom",
          "yref": "paper"
         },
         {
          "font": {
           "size": 16
          },
          "showarrow": false,
          "text": "R profile for Ɛ = 1.0 vs Ɛ = 0",
          "x": 0.225,
          "xanchor": "center",
          "xref": "paper",
          "y": 0.4375,
          "yanchor": "bottom",
          "yref": "paper"
         },
         {
          "font": {
           "size": 16
          },
          "showarrow": false,
          "text": "R profile for Ɛ = 1.5 vs Ɛ = 0",
          "x": 0.775,
          "xanchor": "center",
          "xref": "paper",
          "y": 0.4375,
          "yanchor": "bottom",
          "yref": "paper"
         },
         {
          "showarrow": false,
          "text": "Prior R",
          "x": 1,
          "xanchor": "right",
          "xref": "x domain",
          "y": 3.4657359027997274,
          "yanchor": "bottom",
          "yref": "y"
         },
         {
          "showarrow": false,
          "text": "Prior R",
          "x": 1,
          "xanchor": "right",
          "xref": "x2 domain",
          "y": 3.4657359027997274,
          "yanchor": "bottom",
          "yref": "y2"
         },
         {
          "showarrow": false,
          "text": "Prior R",
          "x": 1,
          "xanchor": "right",
          "xref": "x3 domain",
          "y": 3.4657359027997274,
          "yanchor": "bottom",
          "yref": "y3"
         },
         {
          "showarrow": false,
          "text": "Prior R",
          "x": 1,
          "xanchor": "right",
          "xref": "x4 domain",
          "y": 3.4657359027997274,
          "yanchor": "bottom",
          "yref": "y4"
         },
         {
          "showarrow": false,
          "text": "Prior R",
          "x": 1,
          "xanchor": "right",
          "xref": "x5 domain",
          "y": 3.4657359027997274,
          "yanchor": "bottom",
          "yref": "y5"
         },
         {
          "showarrow": false,
          "text": "Prior R",
          "x": 1,
          "xanchor": "right",
          "xref": "x6 domain",
          "y": 3.4657359027997274,
          "yanchor": "bottom",
          "yref": "y6"
         }
        ],
        "height": 800,
        "plot_bgcolor": "white",
        "shapes": [
         {
          "fillcolor": "black",
          "line": {
           "dash": "dot"
          },
          "type": "line",
          "x0": 0,
          "x1": 1,
          "xref": "x domain",
          "y0": 3.4657359027997274,
          "y1": 3.4657359027997274,
          "yref": "y"
         },
         {
          "fillcolor": "black",
          "line": {
           "dash": "dot"
          },
          "type": "line",
          "x0": 0,
          "x1": 1,
          "xref": "x2 domain",
          "y0": 3.4657359027997274,
          "y1": 3.4657359027997274,
          "yref": "y2"
         },
         {
          "fillcolor": "black",
          "line": {
           "dash": "dot"
          },
          "type": "line",
          "x0": 0,
          "x1": 1,
          "xref": "x3 domain",
          "y0": 3.4657359027997274,
          "y1": 3.4657359027997274,
          "yref": "y3"
         },
         {
          "fillcolor": "black",
          "line": {
           "dash": "dot"
          },
          "type": "line",
          "x0": 0,
          "x1": 1,
          "xref": "x4 domain",
          "y0": 3.4657359027997274,
          "y1": 3.4657359027997274,
          "yref": "y4"
         },
         {
          "fillcolor": "black",
          "line": {
           "dash": "dot"
          },
          "type": "line",
          "x0": 0,
          "x1": 1,
          "xref": "x5 domain",
          "y0": 3.4657359027997274,
          "y1": 3.4657359027997274,
          "yref": "y5"
         },
         {
          "fillcolor": "black",
          "line": {
           "dash": "dot"
          },
          "type": "line",
          "x0": 0,
          "x1": 1,
          "xref": "x6 domain",
          "y0": 3.4657359027997274,
          "y1": 3.4657359027997274,
          "yref": "y6"
         }
        ],
        "showlegend": false,
        "template": {
         "data": {
          "bar": [
           {
            "error_x": {
             "color": "#2a3f5f"
            },
            "error_y": {
             "color": "#2a3f5f"
            },
            "marker": {
             "line": {
              "color": "#E5ECF6",
              "width": 0.5
             }
            },
            "type": "bar"
           }
          ],
          "barpolar": [
           {
            "marker": {
             "line": {
              "color": "#E5ECF6",
              "width": 0.5
             }
            },
            "type": "barpolar"
           }
          ],
          "carpet": [
           {
            "aaxis": {
             "endlinecolor": "#2a3f5f",
             "gridcolor": "white",
             "linecolor": "white",
             "minorgridcolor": "white",
             "startlinecolor": "#2a3f5f"
            },
            "baxis": {
             "endlinecolor": "#2a3f5f",
             "gridcolor": "white",
             "linecolor": "white",
             "minorgridcolor": "white",
             "startlinecolor": "#2a3f5f"
            },
            "type": "carpet"
           }
          ],
          "choropleth": [
           {
            "colorbar": {
             "outlinewidth": 0,
             "ticks": ""
            },
            "type": "choropleth"
           }
          ],
          "contour": [
           {
            "colorbar": {
             "outlinewidth": 0,
             "ticks": ""
            },
            "colorscale": [
             [
              0,
              "#0d0887"
             ],
             [
              0.1111111111111111,
              "#46039f"
             ],
             [
              0.2222222222222222,
              "#7201a8"
             ],
             [
              0.3333333333333333,
              "#9c179e"
             ],
             [
              0.4444444444444444,
              "#bd3786"
             ],
             [
              0.5555555555555556,
              "#d8576b"
             ],
             [
              0.6666666666666666,
              "#ed7953"
             ],
             [
              0.7777777777777778,
              "#fb9f3a"
             ],
             [
              0.8888888888888888,
              "#fdca26"
             ],
             [
              1,
              "#f0f921"
             ]
            ],
            "type": "contour"
           }
          ],
          "contourcarpet": [
           {
            "colorbar": {
             "outlinewidth": 0,
             "ticks": ""
            },
            "type": "contourcarpet"
           }
          ],
          "heatmap": [
           {
            "colorbar": {
             "outlinewidth": 0,
             "ticks": ""
            },
            "colorscale": [
             [
              0,
              "#0d0887"
             ],
             [
              0.1111111111111111,
              "#46039f"
             ],
             [
              0.2222222222222222,
              "#7201a8"
             ],
             [
              0.3333333333333333,
              "#9c179e"
             ],
             [
              0.4444444444444444,
              "#bd3786"
             ],
             [
              0.5555555555555556,
              "#d8576b"
             ],
             [
              0.6666666666666666,
              "#ed7953"
             ],
             [
              0.7777777777777778,
              "#fb9f3a"
             ],
             [
              0.8888888888888888,
              "#fdca26"
             ],
             [
              1,
              "#f0f921"
             ]
            ],
            "type": "heatmap"
           }
          ],
          "heatmapgl": [
           {
            "colorbar": {
             "outlinewidth": 0,
             "ticks": ""
            },
            "colorscale": [
             [
              0,
              "#0d0887"
             ],
             [
              0.1111111111111111,
              "#46039f"
             ],
             [
              0.2222222222222222,
              "#7201a8"
             ],
             [
              0.3333333333333333,
              "#9c179e"
             ],
             [
              0.4444444444444444,
              "#bd3786"
             ],
             [
              0.5555555555555556,
              "#d8576b"
             ],
             [
              0.6666666666666666,
              "#ed7953"
             ],
             [
              0.7777777777777778,
              "#fb9f3a"
             ],
             [
              0.8888888888888888,
              "#fdca26"
             ],
             [
              1,
              "#f0f921"
             ]
            ],
            "type": "heatmapgl"
           }
          ],
          "histogram": [
           {
            "marker": {
             "colorbar": {
              "outlinewidth": 0,
              "ticks": ""
             }
            },
            "type": "histogram"
           }
          ],
          "histogram2d": [
           {
            "colorbar": {
             "outlinewidth": 0,
             "ticks": ""
            },
            "colorscale": [
             [
              0,
              "#0d0887"
             ],
             [
              0.1111111111111111,
              "#46039f"
             ],
             [
              0.2222222222222222,
              "#7201a8"
             ],
             [
              0.3333333333333333,
              "#9c179e"
             ],
             [
              0.4444444444444444,
              "#bd3786"
             ],
             [
              0.5555555555555556,
              "#d8576b"
             ],
             [
              0.6666666666666666,
              "#ed7953"
             ],
             [
              0.7777777777777778,
              "#fb9f3a"
             ],
             [
              0.8888888888888888,
              "#fdca26"
             ],
             [
              1,
              "#f0f921"
             ]
            ],
            "type": "histogram2d"
           }
          ],
          "histogram2dcontour": [
           {
            "colorbar": {
             "outlinewidth": 0,
             "ticks": ""
            },
            "colorscale": [
             [
              0,
              "#0d0887"
             ],
             [
              0.1111111111111111,
              "#46039f"
             ],
             [
              0.2222222222222222,
              "#7201a8"
             ],
             [
              0.3333333333333333,
              "#9c179e"
             ],
             [
              0.4444444444444444,
              "#bd3786"
             ],
             [
              0.5555555555555556,
              "#d8576b"
             ],
             [
              0.6666666666666666,
              "#ed7953"
             ],
             [
              0.7777777777777778,
              "#fb9f3a"
             ],
             [
              0.8888888888888888,
              "#fdca26"
             ],
             [
              1,
              "#f0f921"
             ]
            ],
            "type": "histogram2dcontour"
           }
          ],
          "mesh3d": [
           {
            "colorbar": {
             "outlinewidth": 0,
             "ticks": ""
            },
            "type": "mesh3d"
           }
          ],
          "parcoords": [
           {
            "line": {
             "colorbar": {
              "outlinewidth": 0,
              "ticks": ""
             }
            },
            "type": "parcoords"
           }
          ],
          "pie": [
           {
            "automargin": true,
            "type": "pie"
           }
          ],
          "scatter": [
           {
            "marker": {
             "colorbar": {
              "outlinewidth": 0,
              "ticks": ""
             }
            },
            "type": "scatter"
           }
          ],
          "scatter3d": [
           {
            "line": {
             "colorbar": {
              "outlinewidth": 0,
              "ticks": ""
             }
            },
            "marker": {
             "colorbar": {
              "outlinewidth": 0,
              "ticks": ""
             }
            },
            "type": "scatter3d"
           }
          ],
          "scattercarpet": [
           {
            "marker": {
             "colorbar": {
              "outlinewidth": 0,
              "ticks": ""
             }
            },
            "type": "scattercarpet"
           }
          ],
          "scattergeo": [
           {
            "marker": {
             "colorbar": {
              "outlinewidth": 0,
              "ticks": ""
             }
            },
            "type": "scattergeo"
           }
          ],
          "scattergl": [
           {
            "marker": {
             "colorbar": {
              "outlinewidth": 0,
              "ticks": ""
             }
            },
            "type": "scattergl"
           }
          ],
          "scattermapbox": [
           {
            "marker": {
             "colorbar": {
              "outlinewidth": 0,
              "ticks": ""
             }
            },
            "type": "scattermapbox"
           }
          ],
          "scatterpolar": [
           {
            "marker": {
             "colorbar": {
              "outlinewidth": 0,
              "ticks": ""
             }
            },
            "type": "scatterpolar"
           }
          ],
          "scatterpolargl": [
           {
            "marker": {
             "colorbar": {
              "outlinewidth": 0,
              "ticks": ""
             }
            },
            "type": "scatterpolargl"
           }
          ],
          "scatterternary": [
           {
            "marker": {
             "colorbar": {
              "outlinewidth": 0,
              "ticks": ""
             }
            },
            "type": "scatterternary"
           }
          ],
          "surface": [
           {
            "colorbar": {
             "outlinewidth": 0,
             "ticks": ""
            },
            "colorscale": [
             [
              0,
              "#0d0887"
             ],
             [
              0.1111111111111111,
              "#46039f"
             ],
             [
              0.2222222222222222,
              "#7201a8"
             ],
             [
              0.3333333333333333,
              "#9c179e"
             ],
             [
              0.4444444444444444,
              "#bd3786"
             ],
             [
              0.5555555555555556,
              "#d8576b"
             ],
             [
              0.6666666666666666,
              "#ed7953"
             ],
             [
              0.7777777777777778,
              "#fb9f3a"
             ],
             [
              0.8888888888888888,
              "#fdca26"
             ],
             [
              1,
              "#f0f921"
             ]
            ],
            "type": "surface"
           }
          ],
          "table": [
           {
            "cells": {
             "fill": {
              "color": "#EBF0F8"
             },
             "line": {
              "color": "white"
             }
            },
            "header": {
             "fill": {
              "color": "#C8D4E3"
             },
             "line": {
              "color": "white"
             }
            },
            "type": "table"
           }
          ]
         },
         "layout": {
          "annotationdefaults": {
           "arrowcolor": "#2a3f5f",
           "arrowhead": 0,
           "arrowwidth": 1
          },
          "autotypenumbers": "strict",
          "coloraxis": {
           "colorbar": {
            "outlinewidth": 0,
            "ticks": ""
           }
          },
          "colorscale": {
           "diverging": [
            [
             0,
             "#8e0152"
            ],
            [
             0.1,
             "#c51b7d"
            ],
            [
             0.2,
             "#de77ae"
            ],
            [
             0.3,
             "#f1b6da"
            ],
            [
             0.4,
             "#fde0ef"
            ],
            [
             0.5,
             "#f7f7f7"
            ],
            [
             0.6,
             "#e6f5d0"
            ],
            [
             0.7,
             "#b8e186"
            ],
            [
             0.8,
             "#7fbc41"
            ],
            [
             0.9,
             "#4d9221"
            ],
            [
             1,
             "#276419"
            ]
           ],
           "sequential": [
            [
             0,
             "#0d0887"
            ],
            [
             0.1111111111111111,
             "#46039f"
            ],
            [
             0.2222222222222222,
             "#7201a8"
            ],
            [
             0.3333333333333333,
             "#9c179e"
            ],
            [
             0.4444444444444444,
             "#bd3786"
            ],
            [
             0.5555555555555556,
             "#d8576b"
            ],
            [
             0.6666666666666666,
             "#ed7953"
            ],
            [
             0.7777777777777778,
             "#fb9f3a"
            ],
            [
             0.8888888888888888,
             "#fdca26"
            ],
            [
             1,
             "#f0f921"
            ]
           ],
           "sequentialminus": [
            [
             0,
             "#0d0887"
            ],
            [
             0.1111111111111111,
             "#46039f"
            ],
            [
             0.2222222222222222,
             "#7201a8"
            ],
            [
             0.3333333333333333,
             "#9c179e"
            ],
            [
             0.4444444444444444,
             "#bd3786"
            ],
            [
             0.5555555555555556,
             "#d8576b"
            ],
            [
             0.6666666666666666,
             "#ed7953"
            ],
            [
             0.7777777777777778,
             "#fb9f3a"
            ],
            [
             0.8888888888888888,
             "#fdca26"
            ],
            [
             1,
             "#f0f921"
            ]
           ]
          },
          "colorway": [
           "#636efa",
           "#EF553B",
           "#00cc96",
           "#ab63fa",
           "#FFA15A",
           "#19d3f3",
           "#FF6692",
           "#B6E880",
           "#FF97FF",
           "#FECB52"
          ],
          "font": {
           "color": "#2a3f5f"
          },
          "geo": {
           "bgcolor": "white",
           "lakecolor": "white",
           "landcolor": "#E5ECF6",
           "showlakes": true,
           "showland": true,
           "subunitcolor": "white"
          },
          "hoverlabel": {
           "align": "left"
          },
          "hovermode": "closest",
          "mapbox": {
           "style": "light"
          },
          "paper_bgcolor": "white",
          "plot_bgcolor": "#E5ECF6",
          "polar": {
           "angularaxis": {
            "gridcolor": "white",
            "linecolor": "white",
            "ticks": ""
           },
           "bgcolor": "#E5ECF6",
           "radialaxis": {
            "gridcolor": "white",
            "linecolor": "white",
            "ticks": ""
           }
          },
          "scene": {
           "xaxis": {
            "backgroundcolor": "#E5ECF6",
            "gridcolor": "white",
            "gridwidth": 2,
            "linecolor": "white",
            "showbackground": true,
            "ticks": "",
            "zerolinecolor": "white"
           },
           "yaxis": {
            "backgroundcolor": "#E5ECF6",
            "gridcolor": "white",
            "gridwidth": 2,
            "linecolor": "white",
            "showbackground": true,
            "ticks": "",
            "zerolinecolor": "white"
           },
           "zaxis": {
            "backgroundcolor": "#E5ECF6",
            "gridcolor": "white",
            "gridwidth": 2,
            "linecolor": "white",
            "showbackground": true,
            "ticks": "",
            "zerolinecolor": "white"
           }
          },
          "shapedefaults": {
           "line": {
            "color": "#2a3f5f"
           }
          },
          "ternary": {
           "aaxis": {
            "gridcolor": "white",
            "linecolor": "white",
            "ticks": ""
           },
           "baxis": {
            "gridcolor": "white",
            "linecolor": "white",
            "ticks": ""
           },
           "bgcolor": "#E5ECF6",
           "caxis": {
            "gridcolor": "white",
            "linecolor": "white",
            "ticks": ""
           }
          },
          "title": {
           "x": 0.05
          },
          "xaxis": {
           "automargin": true,
           "gridcolor": "white",
           "linecolor": "white",
           "ticks": "",
           "title": {
            "standoff": 15
           },
           "zerolinecolor": "white",
           "zerolinewidth": 2
          },
          "yaxis": {
           "automargin": true,
           "gridcolor": "white",
           "linecolor": "white",
           "ticks": "",
           "title": {
            "standoff": 15
           },
           "zerolinecolor": "white",
           "zerolinewidth": 2
          }
         }
        },
        "width": 700,
        "xaxis": {
         "anchor": "y",
         "domain": [
          0,
          0.45
         ],
         "linecolor": "black"
        },
        "xaxis2": {
         "anchor": "y2",
         "domain": [
          0.55,
          1
         ],
         "linecolor": "black"
        },
        "xaxis3": {
         "anchor": "y3",
         "domain": [
          0,
          0.45
         ],
         "linecolor": "black"
        },
        "xaxis4": {
         "anchor": "y4",
         "domain": [
          0.55,
          1
         ],
         "linecolor": "black"
        },
        "xaxis5": {
         "anchor": "y5",
         "domain": [
          0,
          0.45
         ],
         "linecolor": "black"
        },
        "xaxis6": {
         "anchor": "y6",
         "domain": [
          0.55,
          1
         ],
         "linecolor": "black"
        },
        "xaxis7": {
         "anchor": "y7",
         "domain": [
          0,
          0.45
         ]
        },
        "xaxis8": {
         "anchor": "y8",
         "domain": [
          0.55,
          1
         ]
        },
        "yaxis": {
         "anchor": "x",
         "domain": [
          0.84375,
          1
         ],
         "linecolor": "black"
        },
        "yaxis2": {
         "anchor": "x2",
         "domain": [
          0.84375,
          1
         ],
         "linecolor": "black"
        },
        "yaxis3": {
         "anchor": "x3",
         "domain": [
          0.5625,
          0.71875
         ],
         "linecolor": "black"
        },
        "yaxis4": {
         "anchor": "x4",
         "domain": [
          0.5625,
          0.71875
         ],
         "linecolor": "black"
        },
        "yaxis5": {
         "anchor": "x5",
         "domain": [
          0.28125,
          0.4375
         ],
         "linecolor": "black"
        },
        "yaxis6": {
         "anchor": "x6",
         "domain": [
          0.28125,
          0.4375
         ],
         "linecolor": "black"
        },
        "yaxis7": {
         "anchor": "x7",
         "domain": [
          0,
          0.15625
         ]
        },
        "yaxis8": {
         "anchor": "x8",
         "domain": [
          0,
          0.15625
         ]
        }
       }
      }
     },
     "metadata": {}
    }
   ],
   "source": [
    "from plotly.subplots import make_subplots\n",
    "\n",
    "all_intervals = all_intervals[all_intervals['Central Probability']==0.95]\n",
    "\n",
    "fig = go.Figure()\n",
    "fig = make_subplots(\n",
    "    rows=int(np.ceil(epsilon_range.shape[0]/2)), cols=2, subplot_titles=tuple('R profile for Ɛ = {} vs Ɛ = 0'.format(epsilon) for epsilon in epsilon_range[epsilon_range!=0])\n",
    ")\n",
    "\n",
    "# Plot (bar chart cases each day)\n",
    "for e, epsilon in enumerate(epsilon_range[epsilon_range!=0]):\n",
    "    fig.add_trace(\n",
    "        go.Scatter(\n",
    "            x=all_intervals.loc[all_intervals['Epsilon']==epsilon]['Time Points'],\n",
    "            y=all_intervals.loc[all_intervals['Epsilon']==epsilon]['Mean'],\n",
    "            name='Local Incidences for epsilon = {}'.format(epsilon),\n",
    "            line_color='green'\n",
    "        ),\n",
    "        row= int(np.floor(e / 2)) + 1,\n",
    "        col= e % 2 + 1\n",
    "    )\n",
    "\n",
    "    fig.add_trace(\n",
    "        go.Scatter(\n",
    "            x=all_intervals.loc[all_intervals['Epsilon']==epsilon]['Time Points'].tolist() + all_intervals.loc[all_intervals['Epsilon']==epsilon]['Time Points'].tolist()[::-1],\n",
    "            y=all_intervals.loc[all_intervals['Epsilon']==epsilon][\n",
    "                'Upper bound CI'].values.tolist() + all_intervals.loc[all_intervals['Epsilon']==epsilon][\n",
    "                    'Lower bound CI'].values.tolist()[::-1],\n",
    "            fill='toself',\n",
    "            fillcolor='green',\n",
    "            line_color='green',\n",
    "            opacity=0.15,\n",
    "            mode='lines',\n",
    "            name='Credible interval'\n",
    "        ),\n",
    "        row= int(np.floor(e / 2)) + 1,\n",
    "        col= e % 2 + 1\n",
    "    )\n",
    "\n",
    "    fig.add_trace(\n",
    "        go.Scatter(\n",
    "            x=all_intervals.loc[all_intervals['Epsilon']==epsilon]['Time Points'],\n",
    "            y=all_intervals.loc[all_intervals['Epsilon']==0]['Mean'],\n",
    "            name='Local Incidences for epsilon = 0'.format(epsilon),\n",
    "            line_color='purple'\n",
    "        ),\n",
    "        row= int(np.floor(e / 2)) + 1,\n",
    "        col= e % 2 + 1\n",
    "    )\n",
    "\n",
    "\n",
    "    fig.add_trace(\n",
    "        go.Scatter(\n",
    "            x=all_intervals.loc[all_intervals['Epsilon']==epsilon]['Time Points'].tolist() + all_intervals.loc[all_intervals['Epsilon']==epsilon]['Time Points'].tolist()[::-1],\n",
    "            y=all_intervals.loc[all_intervals['Epsilon']==0][\n",
    "                'Upper bound CI'].values.tolist() + all_intervals.loc[all_intervals['Epsilon']==0][\n",
    "                    'Lower bound CI'].values.tolist()[::-1],\n",
    "            fill='toself',\n",
    "            fillcolor='purple',\n",
    "            line_color='purple',\n",
    "            opacity=0.15,\n",
    "            mode='lines',\n",
    "            name='Credible interval'\n",
    "        ),\n",
    "        row= int(np.floor(e / 2)) + 1,\n",
    "        col= e % 2 + 1\n",
    "    )\n",
    "\n",
    "    #fig.add_hrect(y0=prior_dist_interval[0], y1=prior_dist_interval[1], line_width=0, fillcolor='black', opacity=0.1)\n",
    "    fig.add_hline(y=median, line_dash='dot',\n",
    "              annotation_text='Prior R', fillcolor='black',\n",
    "              annotation_position='top right',\n",
    "              row= int(np.floor(e / 2)) + 1,\n",
    "              col= e % 2 + 1)\n",
    "\n",
    "\n",
    "# Add axis labels\n",
    "fig.update_layout(\n",
    "    width=700, \n",
    "    height=800,\n",
    "    plot_bgcolor='white',\n",
    "    xaxis=dict(linecolor='black'),\n",
    "    yaxis=dict(linecolor='black'),\n",
    "    xaxis2=dict(linecolor='black'),\n",
    "    yaxis2=dict(linecolor='black'),\n",
    "    xaxis3=dict(linecolor='black'),\n",
    "    yaxis3=dict(linecolor='black'),\n",
    "    xaxis4=dict(linecolor='black'),\n",
    "    yaxis4=dict(linecolor='black'),\n",
    "    xaxis5=dict(linecolor='black'),\n",
    "    yaxis5=dict(linecolor='black'),\n",
    "    xaxis6=dict(linecolor='black'),\n",
    "    yaxis6=dict(linecolor='black'),\n",
    "    showlegend=False)\n",
    "\n",
    "fig.update_xaxes(ticks='outside', title_text='Time (days)', row='all', col='all')\n",
    "fig.update_yaxes(ticks='outside', title_text='R_t', row='all', col='all')\n",
    "\n",
    "fig.write_image('ON-diff-eps-inf.pdf')\n",
    "fig.show()"
   ]
  },
  {
   "cell_type": "code",
   "execution_count": null,
   "metadata": {},
   "outputs": [],
   "source": []
  }
 ]
}