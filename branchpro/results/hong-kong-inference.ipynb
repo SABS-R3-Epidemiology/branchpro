{
 "cells": [
  {
   "cell_type": "markdown",
   "metadata": {},
   "source": [
    "# Inference on Hong Kong data of the Reproduction Number trajectory\n",
    "\n",
    "In this note book, we aim to infer a realistic time profile of the reproduction numbers Rt, using local and imported cases from the region of Hong Kong, China. The data spans from 23 Jan 2020 - 24 Mar 2020. For this analysis we assume that local and imported cases are equally as likely to likely to spread the virus within the community. This means that the proportionality constant of the reproduction number for imported cases with respect to its analog for local ones (epsilon) is 1."
   ]
  },
  {
   "cell_type": "markdown",
   "metadata": {},
   "source": [
    "## Load all information and modify them to the correct format"
   ]
  },
  {
   "cell_type": "code",
   "execution_count": 1,
   "metadata": {},
   "outputs": [
    {
     "name": "stderr",
     "output_type": "stream",
     "text": [
      "/Users/ioaros/Desktop/Software Project/branchpro/branchpro/apps/_dash_app.py:18: UserWarning: \n",
      "The dash_html_components package is deprecated. Please replace\n",
      "`import dash_html_components as html` with `from dash import html`\n",
      "  import dash_html_components as html\n",
      "/Users/ioaros/Desktop/Software Project/branchpro/branchpro/apps/_simulation.py:15: UserWarning: \n",
      "The dash_core_components package is deprecated. Please replace\n",
      "`import dash_core_components as dcc` with `from dash import dcc`\n",
      "  import dash_core_components as dcc\n"
     ]
    }
   ],
   "source": [
    "# Import libraries\n",
    "import numpy as np\n",
    "import math\n",
    "import branchpro\n",
    "import scipy.stats\n",
    "import matplotlib\n",
    "import plotly.graph_objects as go\n",
    "from matplotlib import pyplot as plt\n",
    "import os\n",
    "import pandas as pd\n",
    "import datetime\n"
   ]
  },
  {
   "cell_type": "code",
   "execution_count": 2,
   "metadata": {},
   "outputs": [],
   "source": [
    "# Read serial interval\n",
    "si_file = 'si-epinow'\n",
    "path = os.path.join('../data_library/serial_interval', '{}.csv'.format(si_file))\n",
    "serial_interval = pd.read_csv(path, header=None)\n",
    "serial_interval = serial_interval.fillna(0)\n",
    "serial_intervals = serial_interval.values.T"
   ]
  },
  {
   "cell_type": "code",
   "execution_count": 3,
   "metadata": {},
   "outputs": [],
   "source": [
    "# Read Hong Kong data\n",
    "path = os.path.join('../data_library/covid_hong_kong/HK.csv')\n",
    "data = pd.read_csv(path)[:51]"
   ]
  },
  {
   "cell_type": "code",
   "execution_count": 4,
   "metadata": {},
   "outputs": [],
   "source": [
    "time_key = 'Time'\n",
    "num_timepoints = max(data[time_key])\n",
    "data_times = data[time_key]\n",
    "\n",
    "# Pad with zeros the time points where we have no information on\n",
    "# the number of incidences\n",
    "padded_inc_data = data.set_index(time_key).reindex(\n",
    "    range(\n",
    "        1, max(data_times)+1)\n",
    "        ).fillna(0).reset_index()\n",
    "locally_infected_cases = padded_inc_data['Incidence Number']\n",
    "imported_cases = padded_inc_data['Imported Cases']\n",
    "\n",
    "start_times = np.arange(1, num_timepoints+1, dtype=int)\n",
    "times = np.arange(num_timepoints+1)"
   ]
  },
  {
   "cell_type": "code",
   "execution_count": 5,
   "metadata": {},
   "outputs": [
    {
     "data": {
      "application/vnd.plotly.v1+json": {
       "config": {
        "plotlyServerURL": "https://plot.ly"
       },
       "data": [
        {
         "name": "Local Incidences",
         "type": "bar",
         "x": [
          0,
          1,
          2,
          3,
          4,
          5,
          6,
          7,
          8,
          9,
          10,
          11,
          12,
          13,
          14,
          15,
          16,
          17,
          18,
          19,
          20,
          21,
          22,
          23,
          24,
          25,
          26,
          27,
          28,
          29,
          30,
          31,
          32,
          33,
          34,
          35,
          36,
          37,
          38,
          39,
          40,
          41,
          42,
          43,
          44,
          45,
          46,
          47,
          48,
          49,
          50,
          51,
          52,
          53,
          54,
          55,
          56,
          57,
          58,
          59,
          60
         ],
         "y": [
          0,
          0,
          0,
          0,
          0,
          0,
          0,
          2,
          0,
          0,
          1,
          0,
          3,
          3,
          3,
          0,
          0,
          10,
          6,
          7,
          1,
          3,
          3,
          0,
          1,
          3,
          2,
          3,
          4,
          0,
          1,
          4,
          2,
          4,
          4,
          2,
          0,
          1,
          3,
          1,
          0,
          3,
          0,
          2,
          0,
          3,
          1,
          2,
          1,
          0,
          3,
          1,
          1,
          2,
          3,
          12,
          6,
          23,
          8,
          24
         ]
        },
        {
         "name": "Imported Cases",
         "type": "bar",
         "x": [
          0,
          1,
          2,
          3,
          4,
          5,
          6,
          7,
          8,
          9,
          10,
          11,
          12,
          13,
          14,
          15,
          16,
          17,
          18,
          19,
          20,
          21,
          22,
          23,
          24,
          25,
          26,
          27,
          28,
          29,
          30,
          31,
          32,
          33,
          34,
          35,
          36,
          37,
          38,
          39,
          40,
          41,
          42,
          43,
          44,
          45,
          46,
          47,
          48,
          49,
          50,
          51,
          52,
          53,
          54,
          55,
          56,
          57,
          58,
          59,
          60
         ],
         "y": [
          2,
          3,
          0,
          3,
          0,
          0,
          2,
          0,
          1,
          1,
          0,
          0,
          0,
          0,
          0,
          2,
          0,
          0,
          0,
          0,
          0,
          0,
          0,
          0,
          0,
          0,
          0,
          0,
          0,
          0,
          0,
          1,
          4,
          0,
          2,
          0,
          1,
          0,
          2,
          0,
          0,
          1,
          0,
          1,
          2,
          2,
          0,
          3,
          8,
          2,
          3,
          3,
          6,
          7,
          7,
          13,
          10,
          25,
          9,
          20
         ]
        }
       ],
       "layout": {
        "template": {
         "data": {
          "bar": [
           {
            "error_x": {
             "color": "rgb(36,36,36)"
            },
            "error_y": {
             "color": "rgb(36,36,36)"
            },
            "marker": {
             "line": {
              "color": "white",
              "width": 0.5
             },
             "pattern": {
              "fillmode": "overlay",
              "size": 10,
              "solidity": 0.2
             }
            },
            "type": "bar"
           }
          ],
          "barpolar": [
           {
            "marker": {
             "line": {
              "color": "white",
              "width": 0.5
             },
             "pattern": {
              "fillmode": "overlay",
              "size": 10,
              "solidity": 0.2
             }
            },
            "type": "barpolar"
           }
          ],
          "carpet": [
           {
            "aaxis": {
             "endlinecolor": "rgb(36,36,36)",
             "gridcolor": "white",
             "linecolor": "white",
             "minorgridcolor": "white",
             "startlinecolor": "rgb(36,36,36)"
            },
            "baxis": {
             "endlinecolor": "rgb(36,36,36)",
             "gridcolor": "white",
             "linecolor": "white",
             "minorgridcolor": "white",
             "startlinecolor": "rgb(36,36,36)"
            },
            "type": "carpet"
           }
          ],
          "choropleth": [
           {
            "colorbar": {
             "outlinewidth": 1,
             "tickcolor": "rgb(36,36,36)",
             "ticks": "outside"
            },
            "type": "choropleth"
           }
          ],
          "contour": [
           {
            "colorbar": {
             "outlinewidth": 1,
             "tickcolor": "rgb(36,36,36)",
             "ticks": "outside"
            },
            "colorscale": [
             [
              0,
              "#440154"
             ],
             [
              0.1111111111111111,
              "#482878"
             ],
             [
              0.2222222222222222,
              "#3e4989"
             ],
             [
              0.3333333333333333,
              "#31688e"
             ],
             [
              0.4444444444444444,
              "#26828e"
             ],
             [
              0.5555555555555556,
              "#1f9e89"
             ],
             [
              0.6666666666666666,
              "#35b779"
             ],
             [
              0.7777777777777778,
              "#6ece58"
             ],
             [
              0.8888888888888888,
              "#b5de2b"
             ],
             [
              1,
              "#fde725"
             ]
            ],
            "type": "contour"
           }
          ],
          "contourcarpet": [
           {
            "colorbar": {
             "outlinewidth": 1,
             "tickcolor": "rgb(36,36,36)",
             "ticks": "outside"
            },
            "type": "contourcarpet"
           }
          ],
          "heatmap": [
           {
            "colorbar": {
             "outlinewidth": 1,
             "tickcolor": "rgb(36,36,36)",
             "ticks": "outside"
            },
            "colorscale": [
             [
              0,
              "#440154"
             ],
             [
              0.1111111111111111,
              "#482878"
             ],
             [
              0.2222222222222222,
              "#3e4989"
             ],
             [
              0.3333333333333333,
              "#31688e"
             ],
             [
              0.4444444444444444,
              "#26828e"
             ],
             [
              0.5555555555555556,
              "#1f9e89"
             ],
             [
              0.6666666666666666,
              "#35b779"
             ],
             [
              0.7777777777777778,
              "#6ece58"
             ],
             [
              0.8888888888888888,
              "#b5de2b"
             ],
             [
              1,
              "#fde725"
             ]
            ],
            "type": "heatmap"
           }
          ],
          "heatmapgl": [
           {
            "colorbar": {
             "outlinewidth": 1,
             "tickcolor": "rgb(36,36,36)",
             "ticks": "outside"
            },
            "colorscale": [
             [
              0,
              "#440154"
             ],
             [
              0.1111111111111111,
              "#482878"
             ],
             [
              0.2222222222222222,
              "#3e4989"
             ],
             [
              0.3333333333333333,
              "#31688e"
             ],
             [
              0.4444444444444444,
              "#26828e"
             ],
             [
              0.5555555555555556,
              "#1f9e89"
             ],
             [
              0.6666666666666666,
              "#35b779"
             ],
             [
              0.7777777777777778,
              "#6ece58"
             ],
             [
              0.8888888888888888,
              "#b5de2b"
             ],
             [
              1,
              "#fde725"
             ]
            ],
            "type": "heatmapgl"
           }
          ],
          "histogram": [
           {
            "marker": {
             "line": {
              "color": "white",
              "width": 0.6
             }
            },
            "type": "histogram"
           }
          ],
          "histogram2d": [
           {
            "colorbar": {
             "outlinewidth": 1,
             "tickcolor": "rgb(36,36,36)",
             "ticks": "outside"
            },
            "colorscale": [
             [
              0,
              "#440154"
             ],
             [
              0.1111111111111111,
              "#482878"
             ],
             [
              0.2222222222222222,
              "#3e4989"
             ],
             [
              0.3333333333333333,
              "#31688e"
             ],
             [
              0.4444444444444444,
              "#26828e"
             ],
             [
              0.5555555555555556,
              "#1f9e89"
             ],
             [
              0.6666666666666666,
              "#35b779"
             ],
             [
              0.7777777777777778,
              "#6ece58"
             ],
             [
              0.8888888888888888,
              "#b5de2b"
             ],
             [
              1,
              "#fde725"
             ]
            ],
            "type": "histogram2d"
           }
          ],
          "histogram2dcontour": [
           {
            "colorbar": {
             "outlinewidth": 1,
             "tickcolor": "rgb(36,36,36)",
             "ticks": "outside"
            },
            "colorscale": [
             [
              0,
              "#440154"
             ],
             [
              0.1111111111111111,
              "#482878"
             ],
             [
              0.2222222222222222,
              "#3e4989"
             ],
             [
              0.3333333333333333,
              "#31688e"
             ],
             [
              0.4444444444444444,
              "#26828e"
             ],
             [
              0.5555555555555556,
              "#1f9e89"
             ],
             [
              0.6666666666666666,
              "#35b779"
             ],
             [
              0.7777777777777778,
              "#6ece58"
             ],
             [
              0.8888888888888888,
              "#b5de2b"
             ],
             [
              1,
              "#fde725"
             ]
            ],
            "type": "histogram2dcontour"
           }
          ],
          "mesh3d": [
           {
            "colorbar": {
             "outlinewidth": 1,
             "tickcolor": "rgb(36,36,36)",
             "ticks": "outside"
            },
            "type": "mesh3d"
           }
          ],
          "parcoords": [
           {
            "line": {
             "colorbar": {
              "outlinewidth": 1,
              "tickcolor": "rgb(36,36,36)",
              "ticks": "outside"
             }
            },
            "type": "parcoords"
           }
          ],
          "pie": [
           {
            "automargin": true,
            "type": "pie"
           }
          ],
          "scatter": [
           {
            "marker": {
             "colorbar": {
              "outlinewidth": 1,
              "tickcolor": "rgb(36,36,36)",
              "ticks": "outside"
             }
            },
            "type": "scatter"
           }
          ],
          "scatter3d": [
           {
            "line": {
             "colorbar": {
              "outlinewidth": 1,
              "tickcolor": "rgb(36,36,36)",
              "ticks": "outside"
             }
            },
            "marker": {
             "colorbar": {
              "outlinewidth": 1,
              "tickcolor": "rgb(36,36,36)",
              "ticks": "outside"
             }
            },
            "type": "scatter3d"
           }
          ],
          "scattercarpet": [
           {
            "marker": {
             "colorbar": {
              "outlinewidth": 1,
              "tickcolor": "rgb(36,36,36)",
              "ticks": "outside"
             }
            },
            "type": "scattercarpet"
           }
          ],
          "scattergeo": [
           {
            "marker": {
             "colorbar": {
              "outlinewidth": 1,
              "tickcolor": "rgb(36,36,36)",
              "ticks": "outside"
             }
            },
            "type": "scattergeo"
           }
          ],
          "scattergl": [
           {
            "marker": {
             "colorbar": {
              "outlinewidth": 1,
              "tickcolor": "rgb(36,36,36)",
              "ticks": "outside"
             }
            },
            "type": "scattergl"
           }
          ],
          "scattermapbox": [
           {
            "marker": {
             "colorbar": {
              "outlinewidth": 1,
              "tickcolor": "rgb(36,36,36)",
              "ticks": "outside"
             }
            },
            "type": "scattermapbox"
           }
          ],
          "scatterpolar": [
           {
            "marker": {
             "colorbar": {
              "outlinewidth": 1,
              "tickcolor": "rgb(36,36,36)",
              "ticks": "outside"
             }
            },
            "type": "scatterpolar"
           }
          ],
          "scatterpolargl": [
           {
            "marker": {
             "colorbar": {
              "outlinewidth": 1,
              "tickcolor": "rgb(36,36,36)",
              "ticks": "outside"
             }
            },
            "type": "scatterpolargl"
           }
          ],
          "scatterternary": [
           {
            "marker": {
             "colorbar": {
              "outlinewidth": 1,
              "tickcolor": "rgb(36,36,36)",
              "ticks": "outside"
             }
            },
            "type": "scatterternary"
           }
          ],
          "surface": [
           {
            "colorbar": {
             "outlinewidth": 1,
             "tickcolor": "rgb(36,36,36)",
             "ticks": "outside"
            },
            "colorscale": [
             [
              0,
              "#440154"
             ],
             [
              0.1111111111111111,
              "#482878"
             ],
             [
              0.2222222222222222,
              "#3e4989"
             ],
             [
              0.3333333333333333,
              "#31688e"
             ],
             [
              0.4444444444444444,
              "#26828e"
             ],
             [
              0.5555555555555556,
              "#1f9e89"
             ],
             [
              0.6666666666666666,
              "#35b779"
             ],
             [
              0.7777777777777778,
              "#6ece58"
             ],
             [
              0.8888888888888888,
              "#b5de2b"
             ],
             [
              1,
              "#fde725"
             ]
            ],
            "type": "surface"
           }
          ],
          "table": [
           {
            "cells": {
             "fill": {
              "color": "rgb(237,237,237)"
             },
             "line": {
              "color": "white"
             }
            },
            "header": {
             "fill": {
              "color": "rgb(217,217,217)"
             },
             "line": {
              "color": "white"
             }
            },
            "type": "table"
           }
          ]
         },
         "layout": {
          "annotationdefaults": {
           "arrowhead": 0,
           "arrowwidth": 1
          },
          "autotypenumbers": "strict",
          "coloraxis": {
           "colorbar": {
            "outlinewidth": 1,
            "tickcolor": "rgb(36,36,36)",
            "ticks": "outside"
           }
          },
          "colorscale": {
           "diverging": [
            [
             0,
             "rgb(103,0,31)"
            ],
            [
             0.1,
             "rgb(178,24,43)"
            ],
            [
             0.2,
             "rgb(214,96,77)"
            ],
            [
             0.3,
             "rgb(244,165,130)"
            ],
            [
             0.4,
             "rgb(253,219,199)"
            ],
            [
             0.5,
             "rgb(247,247,247)"
            ],
            [
             0.6,
             "rgb(209,229,240)"
            ],
            [
             0.7,
             "rgb(146,197,222)"
            ],
            [
             0.8,
             "rgb(67,147,195)"
            ],
            [
             0.9,
             "rgb(33,102,172)"
            ],
            [
             1,
             "rgb(5,48,97)"
            ]
           ],
           "sequential": [
            [
             0,
             "#440154"
            ],
            [
             0.1111111111111111,
             "#482878"
            ],
            [
             0.2222222222222222,
             "#3e4989"
            ],
            [
             0.3333333333333333,
             "#31688e"
            ],
            [
             0.4444444444444444,
             "#26828e"
            ],
            [
             0.5555555555555556,
             "#1f9e89"
            ],
            [
             0.6666666666666666,
             "#35b779"
            ],
            [
             0.7777777777777778,
             "#6ece58"
            ],
            [
             0.8888888888888888,
             "#b5de2b"
            ],
            [
             1,
             "#fde725"
            ]
           ],
           "sequentialminus": [
            [
             0,
             "#440154"
            ],
            [
             0.1111111111111111,
             "#482878"
            ],
            [
             0.2222222222222222,
             "#3e4989"
            ],
            [
             0.3333333333333333,
             "#31688e"
            ],
            [
             0.4444444444444444,
             "#26828e"
            ],
            [
             0.5555555555555556,
             "#1f9e89"
            ],
            [
             0.6666666666666666,
             "#35b779"
            ],
            [
             0.7777777777777778,
             "#6ece58"
            ],
            [
             0.8888888888888888,
             "#b5de2b"
            ],
            [
             1,
             "#fde725"
            ]
           ]
          },
          "colorway": [
           "#1F77B4",
           "#FF7F0E",
           "#2CA02C",
           "#D62728",
           "#9467BD",
           "#8C564B",
           "#E377C2",
           "#7F7F7F",
           "#BCBD22",
           "#17BECF"
          ],
          "font": {
           "color": "rgb(36,36,36)"
          },
          "geo": {
           "bgcolor": "white",
           "lakecolor": "white",
           "landcolor": "white",
           "showlakes": true,
           "showland": true,
           "subunitcolor": "white"
          },
          "hoverlabel": {
           "align": "left"
          },
          "hovermode": "closest",
          "mapbox": {
           "style": "light"
          },
          "paper_bgcolor": "white",
          "plot_bgcolor": "white",
          "polar": {
           "angularaxis": {
            "gridcolor": "rgb(232,232,232)",
            "linecolor": "rgb(36,36,36)",
            "showgrid": false,
            "showline": true,
            "ticks": "outside"
           },
           "bgcolor": "white",
           "radialaxis": {
            "gridcolor": "rgb(232,232,232)",
            "linecolor": "rgb(36,36,36)",
            "showgrid": false,
            "showline": true,
            "ticks": "outside"
           }
          },
          "scene": {
           "xaxis": {
            "backgroundcolor": "white",
            "gridcolor": "rgb(232,232,232)",
            "gridwidth": 2,
            "linecolor": "rgb(36,36,36)",
            "showbackground": true,
            "showgrid": false,
            "showline": true,
            "ticks": "outside",
            "zeroline": false,
            "zerolinecolor": "rgb(36,36,36)"
           },
           "yaxis": {
            "backgroundcolor": "white",
            "gridcolor": "rgb(232,232,232)",
            "gridwidth": 2,
            "linecolor": "rgb(36,36,36)",
            "showbackground": true,
            "showgrid": false,
            "showline": true,
            "ticks": "outside",
            "zeroline": false,
            "zerolinecolor": "rgb(36,36,36)"
           },
           "zaxis": {
            "backgroundcolor": "white",
            "gridcolor": "rgb(232,232,232)",
            "gridwidth": 2,
            "linecolor": "rgb(36,36,36)",
            "showbackground": true,
            "showgrid": false,
            "showline": true,
            "ticks": "outside",
            "zeroline": false,
            "zerolinecolor": "rgb(36,36,36)"
           }
          },
          "shapedefaults": {
           "fillcolor": "black",
           "line": {
            "width": 0
           },
           "opacity": 0.3
          },
          "ternary": {
           "aaxis": {
            "gridcolor": "rgb(232,232,232)",
            "linecolor": "rgb(36,36,36)",
            "showgrid": false,
            "showline": true,
            "ticks": "outside"
           },
           "baxis": {
            "gridcolor": "rgb(232,232,232)",
            "linecolor": "rgb(36,36,36)",
            "showgrid": false,
            "showline": true,
            "ticks": "outside"
           },
           "bgcolor": "white",
           "caxis": {
            "gridcolor": "rgb(232,232,232)",
            "linecolor": "rgb(36,36,36)",
            "showgrid": false,
            "showline": true,
            "ticks": "outside"
           }
          },
          "title": {
           "x": 0.05
          },
          "xaxis": {
           "automargin": true,
           "gridcolor": "rgb(232,232,232)",
           "linecolor": "rgb(36,36,36)",
           "showgrid": false,
           "showline": true,
           "ticks": "outside",
           "title": {
            "standoff": 15
           },
           "zeroline": false,
           "zerolinecolor": "rgb(36,36,36)"
          },
          "yaxis": {
           "automargin": true,
           "gridcolor": "rgb(232,232,232)",
           "linecolor": "rgb(36,36,36)",
           "showgrid": false,
           "showline": true,
           "ticks": "outside",
           "title": {
            "standoff": 15
           },
           "zeroline": false,
           "zerolinecolor": "rgb(36,36,36)"
          }
         }
        },
        "xaxis": {
         "title": {
          "text": "Time (days)"
         }
        },
        "yaxis": {
         "title": {
          "text": "New cases"
         }
        }
       }
      }
     },
     "metadata": {},
     "output_type": "display_data"
    }
   ],
   "source": [
    "# Plot (bar chart cases each day)\n",
    "fig = go.Figure()\n",
    "\n",
    "# Plot of incidences\n",
    "fig.add_trace(\n",
    "    go.Bar(\n",
    "        x=times,\n",
    "        y=locally_infected_cases,\n",
    "        name='Local Incidences'\n",
    "    )\n",
    ")\n",
    "\n",
    "fig.add_trace(\n",
    "    go.Bar(\n",
    "        x=times,\n",
    "        y=imported_cases,\n",
    "        name='Imported Cases'\n",
    "    )\n",
    ")\n",
    "\n",
    "# Add axis labels\n",
    "fig.update_layout(\n",
    "    template='simple_white',\n",
    "    xaxis_title='Time (days)',\n",
    "    yaxis_title='New cases'\n",
    ")\n",
    "\n",
    "# fig.write_image('HK-cases.pdf')\n",
    "fig.show()"
   ]
  },
  {
   "cell_type": "markdown",
   "metadata": {},
   "source": [
    "## Comparison of inference results for different epsilon values"
   ]
  },
  {
   "cell_type": "code",
   "execution_count": 6,
   "metadata": {},
   "outputs": [
    {
     "name": "stderr",
     "output_type": "stream",
     "text": [
      "/var/folders/ph/jyxnc9y52svgq2k5lt2q4r000000gp/T/ipykernel_70558/3349449522.py:40: FutureWarning:\n",
      "\n",
      "The frame.append method is deprecated and will be removed from pandas in a future version. Use pandas.concat instead.\n",
      "\n",
      "/var/folders/ph/jyxnc9y52svgq2k5lt2q4r000000gp/T/ipykernel_70558/3349449522.py:41: FutureWarning:\n",
      "\n",
      "The frame.append method is deprecated and will be removed from pandas in a future version. Use pandas.concat instead.\n",
      "\n",
      "/var/folders/ph/jyxnc9y52svgq2k5lt2q4r000000gp/T/ipykernel_70558/3349449522.py:48: FutureWarning:\n",
      "\n",
      "The frame.append method is deprecated and will be removed from pandas in a future version. Use pandas.concat instead.\n",
      "\n",
      "/var/folders/ph/jyxnc9y52svgq2k5lt2q4r000000gp/T/ipykernel_70558/3349449522.py:48: FutureWarning:\n",
      "\n",
      "The frame.append method is deprecated and will be removed from pandas in a future version. Use pandas.concat instead.\n",
      "\n",
      "/var/folders/ph/jyxnc9y52svgq2k5lt2q4r000000gp/T/ipykernel_70558/3349449522.py:48: FutureWarning:\n",
      "\n",
      "The frame.append method is deprecated and will be removed from pandas in a future version. Use pandas.concat instead.\n",
      "\n",
      "/var/folders/ph/jyxnc9y52svgq2k5lt2q4r000000gp/T/ipykernel_70558/3349449522.py:48: FutureWarning:\n",
      "\n",
      "The frame.append method is deprecated and will be removed from pandas in a future version. Use pandas.concat instead.\n",
      "\n",
      "/var/folders/ph/jyxnc9y52svgq2k5lt2q4r000000gp/T/ipykernel_70558/3349449522.py:48: FutureWarning:\n",
      "\n",
      "The frame.append method is deprecated and will be removed from pandas in a future version. Use pandas.concat instead.\n",
      "\n",
      "/var/folders/ph/jyxnc9y52svgq2k5lt2q4r000000gp/T/ipykernel_70558/3349449522.py:48: FutureWarning:\n",
      "\n",
      "The frame.append method is deprecated and will be removed from pandas in a future version. Use pandas.concat instead.\n",
      "\n",
      "/var/folders/ph/jyxnc9y52svgq2k5lt2q4r000000gp/T/ipykernel_70558/3349449522.py:51: FutureWarning:\n",
      "\n",
      "The frame.append method is deprecated and will be removed from pandas in a future version. Use pandas.concat instead.\n",
      "\n",
      "/var/folders/ph/jyxnc9y52svgq2k5lt2q4r000000gp/T/ipykernel_70558/3349449522.py:52: FutureWarning:\n",
      "\n",
      "The frame.append method is deprecated and will be removed from pandas in a future version. Use pandas.concat instead.\n",
      "\n",
      "/var/folders/ph/jyxnc9y52svgq2k5lt2q4r000000gp/T/ipykernel_70558/3349449522.py:40: FutureWarning:\n",
      "\n",
      "The frame.append method is deprecated and will be removed from pandas in a future version. Use pandas.concat instead.\n",
      "\n",
      "/var/folders/ph/jyxnc9y52svgq2k5lt2q4r000000gp/T/ipykernel_70558/3349449522.py:41: FutureWarning:\n",
      "\n",
      "The frame.append method is deprecated and will be removed from pandas in a future version. Use pandas.concat instead.\n",
      "\n",
      "/var/folders/ph/jyxnc9y52svgq2k5lt2q4r000000gp/T/ipykernel_70558/3349449522.py:48: FutureWarning:\n",
      "\n",
      "The frame.append method is deprecated and will be removed from pandas in a future version. Use pandas.concat instead.\n",
      "\n",
      "/var/folders/ph/jyxnc9y52svgq2k5lt2q4r000000gp/T/ipykernel_70558/3349449522.py:48: FutureWarning:\n",
      "\n",
      "The frame.append method is deprecated and will be removed from pandas in a future version. Use pandas.concat instead.\n",
      "\n",
      "/var/folders/ph/jyxnc9y52svgq2k5lt2q4r000000gp/T/ipykernel_70558/3349449522.py:48: FutureWarning:\n",
      "\n",
      "The frame.append method is deprecated and will be removed from pandas in a future version. Use pandas.concat instead.\n",
      "\n",
      "/var/folders/ph/jyxnc9y52svgq2k5lt2q4r000000gp/T/ipykernel_70558/3349449522.py:48: FutureWarning:\n",
      "\n",
      "The frame.append method is deprecated and will be removed from pandas in a future version. Use pandas.concat instead.\n",
      "\n",
      "/var/folders/ph/jyxnc9y52svgq2k5lt2q4r000000gp/T/ipykernel_70558/3349449522.py:48: FutureWarning:\n",
      "\n",
      "The frame.append method is deprecated and will be removed from pandas in a future version. Use pandas.concat instead.\n",
      "\n",
      "/var/folders/ph/jyxnc9y52svgq2k5lt2q4r000000gp/T/ipykernel_70558/3349449522.py:48: FutureWarning:\n",
      "\n",
      "The frame.append method is deprecated and will be removed from pandas in a future version. Use pandas.concat instead.\n",
      "\n",
      "/var/folders/ph/jyxnc9y52svgq2k5lt2q4r000000gp/T/ipykernel_70558/3349449522.py:51: FutureWarning:\n",
      "\n",
      "The frame.append method is deprecated and will be removed from pandas in a future version. Use pandas.concat instead.\n",
      "\n",
      "/var/folders/ph/jyxnc9y52svgq2k5lt2q4r000000gp/T/ipykernel_70558/3349449522.py:52: FutureWarning:\n",
      "\n",
      "The frame.append method is deprecated and will be removed from pandas in a future version. Use pandas.concat instead.\n",
      "\n"
     ]
    }
   ],
   "source": [
    "# Same inference, but using the LocImpBranchProPosterior\n",
    "tau = 6\n",
    "R_t_start = tau+1\n",
    "a = 1\n",
    "b = 0.2\n",
    "\n",
    "# Run inferences for different values of epsilon\n",
    "column_names = ['Time Points', 'Mean', 'Lower bound CI', 'Upper bound CI', 'Central Probability', 'Epsilon']\n",
    "epsilon_range = [0.2, 1]\n",
    "chosen_times = [10, 15, 20, 25, 30, 40]\n",
    "\n",
    "all_intervals = pd.DataFrame(columns=column_names)\n",
    "all_intervals_chosen = pd.DataFrame(columns=column_names)\n",
    "# Transform our incidence data into pandas dataframes\n",
    "inc_data = pd.DataFrame(\n",
    "    {\n",
    "        'Time': start_times,\n",
    "        'Incidence Number': locally_infected_cases\n",
    "    }\n",
    ")\n",
    "\n",
    "imported_inc_data = pd.DataFrame(\n",
    "    {\n",
    "        'Time': start_times,\n",
    "        'Incidence Number': imported_cases\n",
    "    }\n",
    ")\n",
    "\n",
    "for epsilon in epsilon_range:\n",
    "    inference = branchpro.LocImpBranchProPosteriorMultSI(\n",
    "        inc_data=inc_data,\n",
    "        imported_inc_data=imported_inc_data,\n",
    "        epsilon=epsilon,\n",
    "        daily_serial_intervals=serial_intervals,\n",
    "        alpha=a,\n",
    "        beta=b)\n",
    "\n",
    "    inference.run_inference(tau=tau)\n",
    "    intervals = inference.get_intervals(central_prob=0)\n",
    "    intervals = intervals.append(inference.get_intervals(central_prob=.25))\n",
    "    intervals = intervals.append(inference.get_intervals(central_prob=.95))\n",
    "    temp = inference.get_intervals(central_prob=.95)\n",
    "\n",
    "    intervals['Epsilon'] = [epsilon] * len(intervals.index)\n",
    "\n",
    "    intervals_chosen = pd.DataFrame(columns=intervals.columns)\n",
    "    for time_pt in chosen_times:\n",
    "        intervals_chosen = intervals_chosen.append(\n",
    "            intervals.loc[intervals['Time Points']== time_pt])\n",
    "\n",
    "    all_intervals = all_intervals.append(intervals)\n",
    "    all_intervals_chosen = all_intervals_chosen.append(intervals_chosen)"
   ]
  },
  {
   "cell_type": "code",
   "execution_count": 7,
   "metadata": {},
   "outputs": [
    {
     "data": {
      "application/vnd.plotly.v1+json": {
       "config": {
        "plotlyServerURL": "https://plot.ly"
       },
       "data": [
        {
         "lowerfence": [
          0.29628051403723316,
          0.07784568838758646
         ],
         "mean": [
          1.4524833042202887,
          0.37985161451297605
         ],
         "median": [
          1.28909781142278,
          0.33771074793856753
         ],
         "name": "Day10",
         "q1": [
          1.054816662092485,
          0.27652261198863093
         ],
         "q3": [
          1.5567713730441881,
          0.4075243131095348
         ],
         "type": "box",
         "upperfence": [
          3.534595210269523,
          0.9205208204290709
         ],
         "x": [
          "0.2",
          "1.0"
         ]
        },
        {
         "lowerfence": [
          1.2523484951664805,
          0.6503368416853142
         ],
         "mean": [
          2.558307145424665,
          1.3042032511949575
         ],
         "median": [
          2.4720722341354526,
          1.2646078494845816
         ],
         "name": "Day15",
         "q1": [
          2.2326646135018677,
          1.1453378836048718
         ],
         "q3": [
          2.7289825243301404,
          1.3919392278616827
         ],
         "type": "box",
         "upperfence": [
          4.354394709367293,
          2.18284987418646
         ],
         "x": [
          "0.2",
          "1.0"
         ]
        },
        {
         "lowerfence": [
          1.7001210221413707,
          1.447022314399412
         ],
         "mean": [
          2.6156305842140792,
          2.1911332301419857
         ],
         "median": [
          2.576009532446486,
          2.1622493083698604
         ],
         "name": "Day20",
         "q1": [
          2.414663008315286,
          2.0317266281136286
         ],
         "q3": [
          2.7453519062521603,
          2.298633525894572
         ],
         "type": "box",
         "upperfence": [
          3.7568041637064624,
          3.0994298957377158
         ],
         "x": [
          "0.2",
          "1.0"
         ]
        },
        {
         "lowerfence": [
          0.5419673266350404,
          0.515010074809603
         ],
         "mean": [
          0.8733353443199752,
          0.8278937110422426
         ],
         "median": [
          0.8585730403271908,
          0.8142955215428703
         ],
         "name": "Day25",
         "q1": [
          0.7999516525624913,
          0.7589904810797496
         ],
         "q3": [
          0.920177623778346,
          0.8723545664284844
         ],
         "type": "box",
         "upperfence": [
          1.288735481950087,
          1.2181272699696957
         ],
         "x": [
          "0.2",
          "1.0"
         ]
        },
        {
         "lowerfence": [
          0.3903795595451803,
          0.38552111124818766
         ],
         "mean": [
          0.717925600233208,
          0.7094432045784012
         ],
         "median": [
          0.7002128606644564,
          0.6918516083900388
         ],
         "name": "Day30",
         "q1": [
          0.6411655047831576,
          0.6334460241335184
         ],
         "q3": [
          0.7628611252710977,
          0.7538327543386272
         ],
         "type": "box",
         "upperfence": [
          1.1460842869972585,
          1.1332982082114744
         ],
         "x": [
          "0.2",
          "1.0"
         ]
        },
        {
         "lowerfence": [
          0.4923346919157736,
          0.387101098135322
         ],
         "mean": [
          0.8614823141008527,
          0.6781863502020256
         ],
         "median": [
          0.8435810371006595,
          0.6639472241581857
         ],
         "name": "Day40",
         "q1": [
          0.7775822172622352,
          0.6118833833327239
         ],
         "q3": [
          0.9132221883410241,
          0.7189074123979355
         ],
         "type": "box",
         "upperfence": [
          1.3322802913873057,
          1.0501371049444863
         ],
         "x": [
          "0.2",
          "1.0"
         ]
        }
       ],
       "layout": {
        "boxmode": "group",
        "template": {
         "data": {
          "bar": [
           {
            "error_x": {
             "color": "rgb(36,36,36)"
            },
            "error_y": {
             "color": "rgb(36,36,36)"
            },
            "marker": {
             "line": {
              "color": "white",
              "width": 0.5
             },
             "pattern": {
              "fillmode": "overlay",
              "size": 10,
              "solidity": 0.2
             }
            },
            "type": "bar"
           }
          ],
          "barpolar": [
           {
            "marker": {
             "line": {
              "color": "white",
              "width": 0.5
             },
             "pattern": {
              "fillmode": "overlay",
              "size": 10,
              "solidity": 0.2
             }
            },
            "type": "barpolar"
           }
          ],
          "carpet": [
           {
            "aaxis": {
             "endlinecolor": "rgb(36,36,36)",
             "gridcolor": "white",
             "linecolor": "white",
             "minorgridcolor": "white",
             "startlinecolor": "rgb(36,36,36)"
            },
            "baxis": {
             "endlinecolor": "rgb(36,36,36)",
             "gridcolor": "white",
             "linecolor": "white",
             "minorgridcolor": "white",
             "startlinecolor": "rgb(36,36,36)"
            },
            "type": "carpet"
           }
          ],
          "choropleth": [
           {
            "colorbar": {
             "outlinewidth": 1,
             "tickcolor": "rgb(36,36,36)",
             "ticks": "outside"
            },
            "type": "choropleth"
           }
          ],
          "contour": [
           {
            "colorbar": {
             "outlinewidth": 1,
             "tickcolor": "rgb(36,36,36)",
             "ticks": "outside"
            },
            "colorscale": [
             [
              0,
              "#440154"
             ],
             [
              0.1111111111111111,
              "#482878"
             ],
             [
              0.2222222222222222,
              "#3e4989"
             ],
             [
              0.3333333333333333,
              "#31688e"
             ],
             [
              0.4444444444444444,
              "#26828e"
             ],
             [
              0.5555555555555556,
              "#1f9e89"
             ],
             [
              0.6666666666666666,
              "#35b779"
             ],
             [
              0.7777777777777778,
              "#6ece58"
             ],
             [
              0.8888888888888888,
              "#b5de2b"
             ],
             [
              1,
              "#fde725"
             ]
            ],
            "type": "contour"
           }
          ],
          "contourcarpet": [
           {
            "colorbar": {
             "outlinewidth": 1,
             "tickcolor": "rgb(36,36,36)",
             "ticks": "outside"
            },
            "type": "contourcarpet"
           }
          ],
          "heatmap": [
           {
            "colorbar": {
             "outlinewidth": 1,
             "tickcolor": "rgb(36,36,36)",
             "ticks": "outside"
            },
            "colorscale": [
             [
              0,
              "#440154"
             ],
             [
              0.1111111111111111,
              "#482878"
             ],
             [
              0.2222222222222222,
              "#3e4989"
             ],
             [
              0.3333333333333333,
              "#31688e"
             ],
             [
              0.4444444444444444,
              "#26828e"
             ],
             [
              0.5555555555555556,
              "#1f9e89"
             ],
             [
              0.6666666666666666,
              "#35b779"
             ],
             [
              0.7777777777777778,
              "#6ece58"
             ],
             [
              0.8888888888888888,
              "#b5de2b"
             ],
             [
              1,
              "#fde725"
             ]
            ],
            "type": "heatmap"
           }
          ],
          "heatmapgl": [
           {
            "colorbar": {
             "outlinewidth": 1,
             "tickcolor": "rgb(36,36,36)",
             "ticks": "outside"
            },
            "colorscale": [
             [
              0,
              "#440154"
             ],
             [
              0.1111111111111111,
              "#482878"
             ],
             [
              0.2222222222222222,
              "#3e4989"
             ],
             [
              0.3333333333333333,
              "#31688e"
             ],
             [
              0.4444444444444444,
              "#26828e"
             ],
             [
              0.5555555555555556,
              "#1f9e89"
             ],
             [
              0.6666666666666666,
              "#35b779"
             ],
             [
              0.7777777777777778,
              "#6ece58"
             ],
             [
              0.8888888888888888,
              "#b5de2b"
             ],
             [
              1,
              "#fde725"
             ]
            ],
            "type": "heatmapgl"
           }
          ],
          "histogram": [
           {
            "marker": {
             "line": {
              "color": "white",
              "width": 0.6
             }
            },
            "type": "histogram"
           }
          ],
          "histogram2d": [
           {
            "colorbar": {
             "outlinewidth": 1,
             "tickcolor": "rgb(36,36,36)",
             "ticks": "outside"
            },
            "colorscale": [
             [
              0,
              "#440154"
             ],
             [
              0.1111111111111111,
              "#482878"
             ],
             [
              0.2222222222222222,
              "#3e4989"
             ],
             [
              0.3333333333333333,
              "#31688e"
             ],
             [
              0.4444444444444444,
              "#26828e"
             ],
             [
              0.5555555555555556,
              "#1f9e89"
             ],
             [
              0.6666666666666666,
              "#35b779"
             ],
             [
              0.7777777777777778,
              "#6ece58"
             ],
             [
              0.8888888888888888,
              "#b5de2b"
             ],
             [
              1,
              "#fde725"
             ]
            ],
            "type": "histogram2d"
           }
          ],
          "histogram2dcontour": [
           {
            "colorbar": {
             "outlinewidth": 1,
             "tickcolor": "rgb(36,36,36)",
             "ticks": "outside"
            },
            "colorscale": [
             [
              0,
              "#440154"
             ],
             [
              0.1111111111111111,
              "#482878"
             ],
             [
              0.2222222222222222,
              "#3e4989"
             ],
             [
              0.3333333333333333,
              "#31688e"
             ],
             [
              0.4444444444444444,
              "#26828e"
             ],
             [
              0.5555555555555556,
              "#1f9e89"
             ],
             [
              0.6666666666666666,
              "#35b779"
             ],
             [
              0.7777777777777778,
              "#6ece58"
             ],
             [
              0.8888888888888888,
              "#b5de2b"
             ],
             [
              1,
              "#fde725"
             ]
            ],
            "type": "histogram2dcontour"
           }
          ],
          "mesh3d": [
           {
            "colorbar": {
             "outlinewidth": 1,
             "tickcolor": "rgb(36,36,36)",
             "ticks": "outside"
            },
            "type": "mesh3d"
           }
          ],
          "parcoords": [
           {
            "line": {
             "colorbar": {
              "outlinewidth": 1,
              "tickcolor": "rgb(36,36,36)",
              "ticks": "outside"
             }
            },
            "type": "parcoords"
           }
          ],
          "pie": [
           {
            "automargin": true,
            "type": "pie"
           }
          ],
          "scatter": [
           {
            "marker": {
             "colorbar": {
              "outlinewidth": 1,
              "tickcolor": "rgb(36,36,36)",
              "ticks": "outside"
             }
            },
            "type": "scatter"
           }
          ],
          "scatter3d": [
           {
            "line": {
             "colorbar": {
              "outlinewidth": 1,
              "tickcolor": "rgb(36,36,36)",
              "ticks": "outside"
             }
            },
            "marker": {
             "colorbar": {
              "outlinewidth": 1,
              "tickcolor": "rgb(36,36,36)",
              "ticks": "outside"
             }
            },
            "type": "scatter3d"
           }
          ],
          "scattercarpet": [
           {
            "marker": {
             "colorbar": {
              "outlinewidth": 1,
              "tickcolor": "rgb(36,36,36)",
              "ticks": "outside"
             }
            },
            "type": "scattercarpet"
           }
          ],
          "scattergeo": [
           {
            "marker": {
             "colorbar": {
              "outlinewidth": 1,
              "tickcolor": "rgb(36,36,36)",
              "ticks": "outside"
             }
            },
            "type": "scattergeo"
           }
          ],
          "scattergl": [
           {
            "marker": {
             "colorbar": {
              "outlinewidth": 1,
              "tickcolor": "rgb(36,36,36)",
              "ticks": "outside"
             }
            },
            "type": "scattergl"
           }
          ],
          "scattermapbox": [
           {
            "marker": {
             "colorbar": {
              "outlinewidth": 1,
              "tickcolor": "rgb(36,36,36)",
              "ticks": "outside"
             }
            },
            "type": "scattermapbox"
           }
          ],
          "scatterpolar": [
           {
            "marker": {
             "colorbar": {
              "outlinewidth": 1,
              "tickcolor": "rgb(36,36,36)",
              "ticks": "outside"
             }
            },
            "type": "scatterpolar"
           }
          ],
          "scatterpolargl": [
           {
            "marker": {
             "colorbar": {
              "outlinewidth": 1,
              "tickcolor": "rgb(36,36,36)",
              "ticks": "outside"
             }
            },
            "type": "scatterpolargl"
           }
          ],
          "scatterternary": [
           {
            "marker": {
             "colorbar": {
              "outlinewidth": 1,
              "tickcolor": "rgb(36,36,36)",
              "ticks": "outside"
             }
            },
            "type": "scatterternary"
           }
          ],
          "surface": [
           {
            "colorbar": {
             "outlinewidth": 1,
             "tickcolor": "rgb(36,36,36)",
             "ticks": "outside"
            },
            "colorscale": [
             [
              0,
              "#440154"
             ],
             [
              0.1111111111111111,
              "#482878"
             ],
             [
              0.2222222222222222,
              "#3e4989"
             ],
             [
              0.3333333333333333,
              "#31688e"
             ],
             [
              0.4444444444444444,
              "#26828e"
             ],
             [
              0.5555555555555556,
              "#1f9e89"
             ],
             [
              0.6666666666666666,
              "#35b779"
             ],
             [
              0.7777777777777778,
              "#6ece58"
             ],
             [
              0.8888888888888888,
              "#b5de2b"
             ],
             [
              1,
              "#fde725"
             ]
            ],
            "type": "surface"
           }
          ],
          "table": [
           {
            "cells": {
             "fill": {
              "color": "rgb(237,237,237)"
             },
             "line": {
              "color": "white"
             }
            },
            "header": {
             "fill": {
              "color": "rgb(217,217,217)"
             },
             "line": {
              "color": "white"
             }
            },
            "type": "table"
           }
          ]
         },
         "layout": {
          "annotationdefaults": {
           "arrowhead": 0,
           "arrowwidth": 1
          },
          "autotypenumbers": "strict",
          "coloraxis": {
           "colorbar": {
            "outlinewidth": 1,
            "tickcolor": "rgb(36,36,36)",
            "ticks": "outside"
           }
          },
          "colorscale": {
           "diverging": [
            [
             0,
             "rgb(103,0,31)"
            ],
            [
             0.1,
             "rgb(178,24,43)"
            ],
            [
             0.2,
             "rgb(214,96,77)"
            ],
            [
             0.3,
             "rgb(244,165,130)"
            ],
            [
             0.4,
             "rgb(253,219,199)"
            ],
            [
             0.5,
             "rgb(247,247,247)"
            ],
            [
             0.6,
             "rgb(209,229,240)"
            ],
            [
             0.7,
             "rgb(146,197,222)"
            ],
            [
             0.8,
             "rgb(67,147,195)"
            ],
            [
             0.9,
             "rgb(33,102,172)"
            ],
            [
             1,
             "rgb(5,48,97)"
            ]
           ],
           "sequential": [
            [
             0,
             "#440154"
            ],
            [
             0.1111111111111111,
             "#482878"
            ],
            [
             0.2222222222222222,
             "#3e4989"
            ],
            [
             0.3333333333333333,
             "#31688e"
            ],
            [
             0.4444444444444444,
             "#26828e"
            ],
            [
             0.5555555555555556,
             "#1f9e89"
            ],
            [
             0.6666666666666666,
             "#35b779"
            ],
            [
             0.7777777777777778,
             "#6ece58"
            ],
            [
             0.8888888888888888,
             "#b5de2b"
            ],
            [
             1,
             "#fde725"
            ]
           ],
           "sequentialminus": [
            [
             0,
             "#440154"
            ],
            [
             0.1111111111111111,
             "#482878"
            ],
            [
             0.2222222222222222,
             "#3e4989"
            ],
            [
             0.3333333333333333,
             "#31688e"
            ],
            [
             0.4444444444444444,
             "#26828e"
            ],
            [
             0.5555555555555556,
             "#1f9e89"
            ],
            [
             0.6666666666666666,
             "#35b779"
            ],
            [
             0.7777777777777778,
             "#6ece58"
            ],
            [
             0.8888888888888888,
             "#b5de2b"
            ],
            [
             1,
             "#fde725"
            ]
           ]
          },
          "colorway": [
           "#1F77B4",
           "#FF7F0E",
           "#2CA02C",
           "#D62728",
           "#9467BD",
           "#8C564B",
           "#E377C2",
           "#7F7F7F",
           "#BCBD22",
           "#17BECF"
          ],
          "font": {
           "color": "rgb(36,36,36)"
          },
          "geo": {
           "bgcolor": "white",
           "lakecolor": "white",
           "landcolor": "white",
           "showlakes": true,
           "showland": true,
           "subunitcolor": "white"
          },
          "hoverlabel": {
           "align": "left"
          },
          "hovermode": "closest",
          "mapbox": {
           "style": "light"
          },
          "paper_bgcolor": "white",
          "plot_bgcolor": "white",
          "polar": {
           "angularaxis": {
            "gridcolor": "rgb(232,232,232)",
            "linecolor": "rgb(36,36,36)",
            "showgrid": false,
            "showline": true,
            "ticks": "outside"
           },
           "bgcolor": "white",
           "radialaxis": {
            "gridcolor": "rgb(232,232,232)",
            "linecolor": "rgb(36,36,36)",
            "showgrid": false,
            "showline": true,
            "ticks": "outside"
           }
          },
          "scene": {
           "xaxis": {
            "backgroundcolor": "white",
            "gridcolor": "rgb(232,232,232)",
            "gridwidth": 2,
            "linecolor": "rgb(36,36,36)",
            "showbackground": true,
            "showgrid": false,
            "showline": true,
            "ticks": "outside",
            "zeroline": false,
            "zerolinecolor": "rgb(36,36,36)"
           },
           "yaxis": {
            "backgroundcolor": "white",
            "gridcolor": "rgb(232,232,232)",
            "gridwidth": 2,
            "linecolor": "rgb(36,36,36)",
            "showbackground": true,
            "showgrid": false,
            "showline": true,
            "ticks": "outside",
            "zeroline": false,
            "zerolinecolor": "rgb(36,36,36)"
           },
           "zaxis": {
            "backgroundcolor": "white",
            "gridcolor": "rgb(232,232,232)",
            "gridwidth": 2,
            "linecolor": "rgb(36,36,36)",
            "showbackground": true,
            "showgrid": false,
            "showline": true,
            "ticks": "outside",
            "zeroline": false,
            "zerolinecolor": "rgb(36,36,36)"
           }
          },
          "shapedefaults": {
           "fillcolor": "black",
           "line": {
            "width": 0
           },
           "opacity": 0.3
          },
          "ternary": {
           "aaxis": {
            "gridcolor": "rgb(232,232,232)",
            "linecolor": "rgb(36,36,36)",
            "showgrid": false,
            "showline": true,
            "ticks": "outside"
           },
           "baxis": {
            "gridcolor": "rgb(232,232,232)",
            "linecolor": "rgb(36,36,36)",
            "showgrid": false,
            "showline": true,
            "ticks": "outside"
           },
           "bgcolor": "white",
           "caxis": {
            "gridcolor": "rgb(232,232,232)",
            "linecolor": "rgb(36,36,36)",
            "showgrid": false,
            "showline": true,
            "ticks": "outside"
           }
          },
          "title": {
           "x": 0.05
          },
          "xaxis": {
           "automargin": true,
           "gridcolor": "rgb(232,232,232)",
           "linecolor": "rgb(36,36,36)",
           "showgrid": false,
           "showline": true,
           "ticks": "outside",
           "title": {
            "standoff": 15
           },
           "zeroline": false,
           "zerolinecolor": "rgb(36,36,36)"
          },
          "yaxis": {
           "automargin": true,
           "gridcolor": "rgb(232,232,232)",
           "linecolor": "rgb(36,36,36)",
           "showgrid": false,
           "showline": true,
           "ticks": "outside",
           "title": {
            "standoff": 15
           },
           "zeroline": false,
           "zerolinecolor": "rgb(36,36,36)"
          }
         }
        },
        "title": {
         "text": "HK"
        }
       }
      }
     },
     "metadata": {},
     "output_type": "display_data"
    }
   ],
   "source": [
    "# Create list of names for x-axis and traces\n",
    "epsilon_range = np.around(epsilon_range,3)\n",
    "num_epsilons = len(epsilon_range)\n",
    "x_name = []\n",
    "for i in range(num_epsilons):\n",
    "    x_name.append(str(epsilon_range[i]))\n",
    "trace_name = ['Day{}'.format(x) for x in chosen_times]\n",
    "\n",
    "# Sort results\n",
    "all_intervals_chosen.sort_values(by=['Time Points', 'Epsilon'], inplace=True)\n",
    "\n",
    "# Plot (box plot for inference)\n",
    "fig = go.Figure()\n",
    "\n",
    "for i in range(len(trace_name)):\n",
    "    fig.add_trace(\n",
    "        go.Box(\n",
    "            mean=all_intervals_chosen.loc[all_intervals_chosen['Central Probability']==0]['Mean'][i*num_epsilons:(i+1)*num_epsilons],\n",
    "            median=all_intervals_chosen.loc[all_intervals_chosen['Central Probability']==0]['Lower bound CI'][i*num_epsilons:(i+1)*num_epsilons],\n",
    "            q1=all_intervals_chosen.loc[all_intervals_chosen['Central Probability']==0.25]['Lower bound CI'][i*num_epsilons:(i+1)*num_epsilons],\n",
    "            q3=all_intervals_chosen.loc[all_intervals_chosen['Central Probability']==0.25]['Upper bound CI'][i*num_epsilons:(i+1)*num_epsilons],\n",
    "            upperfence=all_intervals_chosen.loc[all_intervals_chosen['Central Probability']==0.95]['Upper bound CI'][i*num_epsilons:(i+1)*num_epsilons],\n",
    "            lowerfence=all_intervals_chosen.loc[all_intervals_chosen['Central Probability']==0.95]['Lower bound CI'][i*num_epsilons:(i+1)*num_epsilons],\n",
    "            x=x_name,\n",
    "            name=trace_name[i]\n",
    "        )\n",
    "    )\n",
    "fig.update_layout(template='simple_white', boxmode='group', title='HK')\n",
    "\n",
    "fig.show()"
   ]
  },
  {
   "cell_type": "code",
   "execution_count": 8,
   "metadata": {},
   "outputs": [
    {
     "data": {
      "application/vnd.plotly.v1+json": {
       "config": {
        "plotlyServerURL": "https://plot.ly"
       },
       "data": [
        {
         "lowerfence": [
          0.29628051403723316,
          1.2523484951664805,
          1.7001210221413707,
          0.5419673266350404,
          0.3903795595451803,
          0.4923346919157736
         ],
         "mean": [
          1.4524833042202887,
          2.558307145424665,
          2.6156305842140792,
          0.8733353443199752,
          0.717925600233208,
          0.8614823141008527
         ],
         "median": [
          1.28909781142278,
          2.4720722341354526,
          2.576009532446486,
          0.8585730403271908,
          0.7002128606644564,
          0.8435810371006595
         ],
         "name": "0.2",
         "q1": [
          1.054816662092485,
          2.2326646135018677,
          2.414663008315286,
          0.7999516525624913,
          0.6411655047831576,
          0.7775822172622352
         ],
         "q3": [
          1.5567713730441881,
          2.7289825243301404,
          2.7453519062521603,
          0.920177623778346,
          0.7628611252710977,
          0.9132221883410241
         ],
         "type": "box",
         "upperfence": [
          3.534595210269523,
          4.354394709367293,
          3.7568041637064624,
          1.288735481950087,
          1.1460842869972585,
          1.3322802913873057
         ],
         "x": [
          "Day10",
          "Day15",
          "Day20",
          "Day25",
          "Day30",
          "Day40"
         ]
        },
        {
         "lowerfence": [
          0.07784568838758646,
          0.6503368416853142,
          1.447022314399412,
          0.515010074809603,
          0.38552111124818766,
          0.387101098135322
         ],
         "mean": [
          0.37985161451297605,
          1.3042032511949575,
          2.1911332301419857,
          0.8278937110422426,
          0.7094432045784012,
          0.6781863502020256
         ],
         "median": [
          0.33771074793856753,
          1.2646078494845816,
          2.1622493083698604,
          0.8142955215428703,
          0.6918516083900388,
          0.6639472241581857
         ],
         "name": "1.0",
         "q1": [
          0.27652261198863093,
          1.1453378836048718,
          2.0317266281136286,
          0.7589904810797496,
          0.6334460241335184,
          0.6118833833327239
         ],
         "q3": [
          0.4075243131095348,
          1.3919392278616827,
          2.298633525894572,
          0.8723545664284844,
          0.7538327543386272,
          0.7189074123979355
         ],
         "type": "box",
         "upperfence": [
          0.9205208204290709,
          2.18284987418646,
          3.0994298957377158,
          1.2181272699696957,
          1.1332982082114744,
          1.0501371049444863
         ],
         "x": [
          "Day10",
          "Day15",
          "Day20",
          "Day25",
          "Day30",
          "Day40"
         ]
        }
       ],
       "layout": {
        "annotations": [
         {
          "showarrow": false,
          "text": "Prior R",
          "x": 1,
          "xanchor": "right",
          "xref": "x domain",
          "y": 3.4657359027997274,
          "yanchor": "bottom",
          "yref": "y"
         }
        ],
        "boxmode": "group",
        "plot_bgcolor": "white",
        "shapes": [
         {
          "fillcolor": "black",
          "line": {
           "width": 0
          },
          "opacity": 0.1,
          "type": "rect",
          "x0": 0,
          "x1": 1,
          "xref": "x domain",
          "y0": 1.4384103622589044,
          "y1": 6.931471805599453,
          "yref": "y"
         },
         {
          "fillcolor": "black",
          "line": {
           "dash": "dot"
          },
          "type": "line",
          "x0": 0,
          "x1": 1,
          "xref": "x domain",
          "y0": 3.4657359027997274,
          "y1": 3.4657359027997274,
          "yref": "y"
         }
        ],
        "template": {
         "data": {
          "bar": [
           {
            "error_x": {
             "color": "#2a3f5f"
            },
            "error_y": {
             "color": "#2a3f5f"
            },
            "marker": {
             "line": {
              "color": "#E5ECF6",
              "width": 0.5
             },
             "pattern": {
              "fillmode": "overlay",
              "size": 10,
              "solidity": 0.2
             }
            },
            "type": "bar"
           }
          ],
          "barpolar": [
           {
            "marker": {
             "line": {
              "color": "#E5ECF6",
              "width": 0.5
             },
             "pattern": {
              "fillmode": "overlay",
              "size": 10,
              "solidity": 0.2
             }
            },
            "type": "barpolar"
           }
          ],
          "carpet": [
           {
            "aaxis": {
             "endlinecolor": "#2a3f5f",
             "gridcolor": "white",
             "linecolor": "white",
             "minorgridcolor": "white",
             "startlinecolor": "#2a3f5f"
            },
            "baxis": {
             "endlinecolor": "#2a3f5f",
             "gridcolor": "white",
             "linecolor": "white",
             "minorgridcolor": "white",
             "startlinecolor": "#2a3f5f"
            },
            "type": "carpet"
           }
          ],
          "choropleth": [
           {
            "colorbar": {
             "outlinewidth": 0,
             "ticks": ""
            },
            "type": "choropleth"
           }
          ],
          "contour": [
           {
            "colorbar": {
             "outlinewidth": 0,
             "ticks": ""
            },
            "colorscale": [
             [
              0,
              "#0d0887"
             ],
             [
              0.1111111111111111,
              "#46039f"
             ],
             [
              0.2222222222222222,
              "#7201a8"
             ],
             [
              0.3333333333333333,
              "#9c179e"
             ],
             [
              0.4444444444444444,
              "#bd3786"
             ],
             [
              0.5555555555555556,
              "#d8576b"
             ],
             [
              0.6666666666666666,
              "#ed7953"
             ],
             [
              0.7777777777777778,
              "#fb9f3a"
             ],
             [
              0.8888888888888888,
              "#fdca26"
             ],
             [
              1,
              "#f0f921"
             ]
            ],
            "type": "contour"
           }
          ],
          "contourcarpet": [
           {
            "colorbar": {
             "outlinewidth": 0,
             "ticks": ""
            },
            "type": "contourcarpet"
           }
          ],
          "heatmap": [
           {
            "colorbar": {
             "outlinewidth": 0,
             "ticks": ""
            },
            "colorscale": [
             [
              0,
              "#0d0887"
             ],
             [
              0.1111111111111111,
              "#46039f"
             ],
             [
              0.2222222222222222,
              "#7201a8"
             ],
             [
              0.3333333333333333,
              "#9c179e"
             ],
             [
              0.4444444444444444,
              "#bd3786"
             ],
             [
              0.5555555555555556,
              "#d8576b"
             ],
             [
              0.6666666666666666,
              "#ed7953"
             ],
             [
              0.7777777777777778,
              "#fb9f3a"
             ],
             [
              0.8888888888888888,
              "#fdca26"
             ],
             [
              1,
              "#f0f921"
             ]
            ],
            "type": "heatmap"
           }
          ],
          "heatmapgl": [
           {
            "colorbar": {
             "outlinewidth": 0,
             "ticks": ""
            },
            "colorscale": [
             [
              0,
              "#0d0887"
             ],
             [
              0.1111111111111111,
              "#46039f"
             ],
             [
              0.2222222222222222,
              "#7201a8"
             ],
             [
              0.3333333333333333,
              "#9c179e"
             ],
             [
              0.4444444444444444,
              "#bd3786"
             ],
             [
              0.5555555555555556,
              "#d8576b"
             ],
             [
              0.6666666666666666,
              "#ed7953"
             ],
             [
              0.7777777777777778,
              "#fb9f3a"
             ],
             [
              0.8888888888888888,
              "#fdca26"
             ],
             [
              1,
              "#f0f921"
             ]
            ],
            "type": "heatmapgl"
           }
          ],
          "histogram": [
           {
            "marker": {
             "pattern": {
              "fillmode": "overlay",
              "size": 10,
              "solidity": 0.2
             }
            },
            "type": "histogram"
           }
          ],
          "histogram2d": [
           {
            "colorbar": {
             "outlinewidth": 0,
             "ticks": ""
            },
            "colorscale": [
             [
              0,
              "#0d0887"
             ],
             [
              0.1111111111111111,
              "#46039f"
             ],
             [
              0.2222222222222222,
              "#7201a8"
             ],
             [
              0.3333333333333333,
              "#9c179e"
             ],
             [
              0.4444444444444444,
              "#bd3786"
             ],
             [
              0.5555555555555556,
              "#d8576b"
             ],
             [
              0.6666666666666666,
              "#ed7953"
             ],
             [
              0.7777777777777778,
              "#fb9f3a"
             ],
             [
              0.8888888888888888,
              "#fdca26"
             ],
             [
              1,
              "#f0f921"
             ]
            ],
            "type": "histogram2d"
           }
          ],
          "histogram2dcontour": [
           {
            "colorbar": {
             "outlinewidth": 0,
             "ticks": ""
            },
            "colorscale": [
             [
              0,
              "#0d0887"
             ],
             [
              0.1111111111111111,
              "#46039f"
             ],
             [
              0.2222222222222222,
              "#7201a8"
             ],
             [
              0.3333333333333333,
              "#9c179e"
             ],
             [
              0.4444444444444444,
              "#bd3786"
             ],
             [
              0.5555555555555556,
              "#d8576b"
             ],
             [
              0.6666666666666666,
              "#ed7953"
             ],
             [
              0.7777777777777778,
              "#fb9f3a"
             ],
             [
              0.8888888888888888,
              "#fdca26"
             ],
             [
              1,
              "#f0f921"
             ]
            ],
            "type": "histogram2dcontour"
           }
          ],
          "mesh3d": [
           {
            "colorbar": {
             "outlinewidth": 0,
             "ticks": ""
            },
            "type": "mesh3d"
           }
          ],
          "parcoords": [
           {
            "line": {
             "colorbar": {
              "outlinewidth": 0,
              "ticks": ""
             }
            },
            "type": "parcoords"
           }
          ],
          "pie": [
           {
            "automargin": true,
            "type": "pie"
           }
          ],
          "scatter": [
           {
            "marker": {
             "colorbar": {
              "outlinewidth": 0,
              "ticks": ""
             }
            },
            "type": "scatter"
           }
          ],
          "scatter3d": [
           {
            "line": {
             "colorbar": {
              "outlinewidth": 0,
              "ticks": ""
             }
            },
            "marker": {
             "colorbar": {
              "outlinewidth": 0,
              "ticks": ""
             }
            },
            "type": "scatter3d"
           }
          ],
          "scattercarpet": [
           {
            "marker": {
             "colorbar": {
              "outlinewidth": 0,
              "ticks": ""
             }
            },
            "type": "scattercarpet"
           }
          ],
          "scattergeo": [
           {
            "marker": {
             "colorbar": {
              "outlinewidth": 0,
              "ticks": ""
             }
            },
            "type": "scattergeo"
           }
          ],
          "scattergl": [
           {
            "marker": {
             "colorbar": {
              "outlinewidth": 0,
              "ticks": ""
             }
            },
            "type": "scattergl"
           }
          ],
          "scattermapbox": [
           {
            "marker": {
             "colorbar": {
              "outlinewidth": 0,
              "ticks": ""
             }
            },
            "type": "scattermapbox"
           }
          ],
          "scatterpolar": [
           {
            "marker": {
             "colorbar": {
              "outlinewidth": 0,
              "ticks": ""
             }
            },
            "type": "scatterpolar"
           }
          ],
          "scatterpolargl": [
           {
            "marker": {
             "colorbar": {
              "outlinewidth": 0,
              "ticks": ""
             }
            },
            "type": "scatterpolargl"
           }
          ],
          "scatterternary": [
           {
            "marker": {
             "colorbar": {
              "outlinewidth": 0,
              "ticks": ""
             }
            },
            "type": "scatterternary"
           }
          ],
          "surface": [
           {
            "colorbar": {
             "outlinewidth": 0,
             "ticks": ""
            },
            "colorscale": [
             [
              0,
              "#0d0887"
             ],
             [
              0.1111111111111111,
              "#46039f"
             ],
             [
              0.2222222222222222,
              "#7201a8"
             ],
             [
              0.3333333333333333,
              "#9c179e"
             ],
             [
              0.4444444444444444,
              "#bd3786"
             ],
             [
              0.5555555555555556,
              "#d8576b"
             ],
             [
              0.6666666666666666,
              "#ed7953"
             ],
             [
              0.7777777777777778,
              "#fb9f3a"
             ],
             [
              0.8888888888888888,
              "#fdca26"
             ],
             [
              1,
              "#f0f921"
             ]
            ],
            "type": "surface"
           }
          ],
          "table": [
           {
            "cells": {
             "fill": {
              "color": "#EBF0F8"
             },
             "line": {
              "color": "white"
             }
            },
            "header": {
             "fill": {
              "color": "#C8D4E3"
             },
             "line": {
              "color": "white"
             }
            },
            "type": "table"
           }
          ]
         },
         "layout": {
          "annotationdefaults": {
           "arrowcolor": "#2a3f5f",
           "arrowhead": 0,
           "arrowwidth": 1
          },
          "autotypenumbers": "strict",
          "coloraxis": {
           "colorbar": {
            "outlinewidth": 0,
            "ticks": ""
           }
          },
          "colorscale": {
           "diverging": [
            [
             0,
             "#8e0152"
            ],
            [
             0.1,
             "#c51b7d"
            ],
            [
             0.2,
             "#de77ae"
            ],
            [
             0.3,
             "#f1b6da"
            ],
            [
             0.4,
             "#fde0ef"
            ],
            [
             0.5,
             "#f7f7f7"
            ],
            [
             0.6,
             "#e6f5d0"
            ],
            [
             0.7,
             "#b8e186"
            ],
            [
             0.8,
             "#7fbc41"
            ],
            [
             0.9,
             "#4d9221"
            ],
            [
             1,
             "#276419"
            ]
           ],
           "sequential": [
            [
             0,
             "#0d0887"
            ],
            [
             0.1111111111111111,
             "#46039f"
            ],
            [
             0.2222222222222222,
             "#7201a8"
            ],
            [
             0.3333333333333333,
             "#9c179e"
            ],
            [
             0.4444444444444444,
             "#bd3786"
            ],
            [
             0.5555555555555556,
             "#d8576b"
            ],
            [
             0.6666666666666666,
             "#ed7953"
            ],
            [
             0.7777777777777778,
             "#fb9f3a"
            ],
            [
             0.8888888888888888,
             "#fdca26"
            ],
            [
             1,
             "#f0f921"
            ]
           ],
           "sequentialminus": [
            [
             0,
             "#0d0887"
            ],
            [
             0.1111111111111111,
             "#46039f"
            ],
            [
             0.2222222222222222,
             "#7201a8"
            ],
            [
             0.3333333333333333,
             "#9c179e"
            ],
            [
             0.4444444444444444,
             "#bd3786"
            ],
            [
             0.5555555555555556,
             "#d8576b"
            ],
            [
             0.6666666666666666,
             "#ed7953"
            ],
            [
             0.7777777777777778,
             "#fb9f3a"
            ],
            [
             0.8888888888888888,
             "#fdca26"
            ],
            [
             1,
             "#f0f921"
            ]
           ]
          },
          "colorway": [
           "#636efa",
           "#EF553B",
           "#00cc96",
           "#ab63fa",
           "#FFA15A",
           "#19d3f3",
           "#FF6692",
           "#B6E880",
           "#FF97FF",
           "#FECB52"
          ],
          "font": {
           "color": "#2a3f5f"
          },
          "geo": {
           "bgcolor": "white",
           "lakecolor": "white",
           "landcolor": "#E5ECF6",
           "showlakes": true,
           "showland": true,
           "subunitcolor": "white"
          },
          "hoverlabel": {
           "align": "left"
          },
          "hovermode": "closest",
          "mapbox": {
           "style": "light"
          },
          "paper_bgcolor": "white",
          "plot_bgcolor": "#E5ECF6",
          "polar": {
           "angularaxis": {
            "gridcolor": "white",
            "linecolor": "white",
            "ticks": ""
           },
           "bgcolor": "#E5ECF6",
           "radialaxis": {
            "gridcolor": "white",
            "linecolor": "white",
            "ticks": ""
           }
          },
          "scene": {
           "xaxis": {
            "backgroundcolor": "#E5ECF6",
            "gridcolor": "white",
            "gridwidth": 2,
            "linecolor": "white",
            "showbackground": true,
            "ticks": "",
            "zerolinecolor": "white"
           },
           "yaxis": {
            "backgroundcolor": "#E5ECF6",
            "gridcolor": "white",
            "gridwidth": 2,
            "linecolor": "white",
            "showbackground": true,
            "ticks": "",
            "zerolinecolor": "white"
           },
           "zaxis": {
            "backgroundcolor": "#E5ECF6",
            "gridcolor": "white",
            "gridwidth": 2,
            "linecolor": "white",
            "showbackground": true,
            "ticks": "",
            "zerolinecolor": "white"
           }
          },
          "shapedefaults": {
           "line": {
            "color": "#2a3f5f"
           }
          },
          "ternary": {
           "aaxis": {
            "gridcolor": "white",
            "linecolor": "white",
            "ticks": ""
           },
           "baxis": {
            "gridcolor": "white",
            "linecolor": "white",
            "ticks": ""
           },
           "bgcolor": "#E5ECF6",
           "caxis": {
            "gridcolor": "white",
            "linecolor": "white",
            "ticks": ""
           }
          },
          "title": {
           "x": 0.05
          },
          "xaxis": {
           "automargin": true,
           "gridcolor": "white",
           "linecolor": "white",
           "ticks": "",
           "title": {
            "standoff": 15
           },
           "zerolinecolor": "white",
           "zerolinewidth": 2
          },
          "yaxis": {
           "automargin": true,
           "gridcolor": "white",
           "linecolor": "white",
           "ticks": "",
           "title": {
            "standoff": 15
           },
           "zerolinecolor": "white",
           "zerolinewidth": 2
          }
         }
        },
        "title": {
         "text": "HK"
        },
        "xaxis": {
         "linecolor": "black",
         "ticks": "outside"
        },
        "yaxis": {
         "linecolor": "black",
         "ticks": "outside"
        }
       }
      }
     },
     "metadata": {},
     "output_type": "display_data"
    }
   ],
   "source": [
    "# Create list of names for x-axis and traces\n",
    "group_name = ['Day{}'.format(x) for x in chosen_times]\n",
    "\n",
    "# Sort results\n",
    "all_intervals_chosen.sort_values(by=['Epsilon','Time Points'], inplace=True)\n",
    "\n",
    "# Plot (box plot for inference)\n",
    "fig = go.Figure()\n",
    "\n",
    "prior_dist = scipy.stats.gamma(a, scale=1/b)\n",
    "median = prior_dist.median()\n",
    "prior_dist_interval = prior_dist.interval(.5)\n",
    "\n",
    "fig.add_hrect(y0=prior_dist_interval[0], y1=prior_dist_interval[1], line_width=0, fillcolor='black', opacity=0.1)\n",
    "fig.add_hline(y=median, line_dash='dot',\n",
    "              annotation_text='Prior R', fillcolor='black',\n",
    "              annotation_position='top right')\n",
    "\n",
    "n = len(group_name)\n",
    "for i in range(len(epsilon_range)):\n",
    "    fig.add_trace(\n",
    "        go.Box(\n",
    "            mean=all_intervals_chosen.loc[all_intervals_chosen['Central Probability']==0]['Mean'][i*n:(i+1)*n],\n",
    "            median=all_intervals_chosen.loc[all_intervals_chosen['Central Probability']==0]['Lower bound CI'][i*n:(i+1)*n],\n",
    "            q1=all_intervals_chosen.loc[all_intervals_chosen['Central Probability']==0.25]['Lower bound CI'][i*n:(i+1)*n],\n",
    "            q3=all_intervals_chosen.loc[all_intervals_chosen['Central Probability']==0.25]['Upper bound CI'][i*n:(i+1)*n],\n",
    "            upperfence=all_intervals_chosen.loc[all_intervals_chosen['Central Probability']==0.95]['Upper bound CI'][i*n:(i+1)*n],\n",
    "            lowerfence=all_intervals_chosen.loc[all_intervals_chosen['Central Probability']==0.95]['Lower bound CI'][i*n:(i+1)*n],\n",
    "            x=group_name,\n",
    "            name=str(round(epsilon_range[i],1))\n",
    "        )\n",
    "    )\n",
    "fig.update_layout(boxmode='group', title='HK', plot_bgcolor='white',\n",
    "    xaxis=dict(linecolor='black'),\n",
    "    yaxis=dict(linecolor='black'))\n",
    "\n",
    "fig.update_xaxes(ticks='outside')\n",
    "fig.update_yaxes(ticks='outside')\n",
    "\n",
    "# fig.write_image('HK-inf-r.pdf')\n",
    "fig.show()"
   ]
  },
  {
   "cell_type": "code",
   "execution_count": 9,
   "metadata": {},
   "outputs": [
    {
     "data": {
      "application/vnd.plotly.v1+json": {
       "config": {
        "plotlyServerURL": "https://plot.ly"
       },
       "data": [
        {
         "line": {
          "color": "green"
         },
         "name": "Mean R profile for for new Ɛ",
         "type": "scatter",
         "x": [
          8,
          9,
          10,
          11,
          12,
          13,
          14,
          15,
          16,
          17,
          18,
          19,
          20,
          21,
          22,
          23,
          24,
          25,
          26,
          27,
          28,
          29,
          30,
          31,
          32,
          33,
          34,
          35,
          36,
          37,
          38,
          39,
          40,
          41,
          42,
          43,
          44,
          45,
          46,
          47,
          48,
          49,
          50,
          51,
          52,
          53,
          54,
          55,
          56,
          57,
          58,
          59,
          60
         ],
         "xaxis": "x",
         "y": [
          2.151417217151747,
          1.7985795617501559,
          1.4524833042202887,
          1.6223845243150017,
          1.4219596920849322,
          2.2435205070022395,
          2.838819729446224,
          2.558307145424665,
          2.0076671387720393,
          1.6212916645466289,
          2.5241304394166497,
          2.821412394698781,
          2.6156305842140792,
          1.896007783710588,
          1.5268381072362356,
          1.4586011998440123,
          1.3234173007391867,
          0.8733353443199752,
          0.7265027187558859,
          0.5460541884996982,
          0.6711620389061234,
          0.791398182645608,
          0.717925600233208,
          0.8300317398607558,
          1.0647170249129456,
          1.050243402648933,
          1.1812254329672776,
          1.2188088538942077,
          1.0550886520828362,
          1.0116813576078636,
          0.9853280464752725,
          0.9188892432667661,
          0.8614823141008527,
          0.6516369882891195,
          0.6179893092471215,
          0.5414488514045784,
          0.7278561354482599,
          0.7322637082389097,
          0.7933239016293393,
          0.8394450273928304,
          1.048385762419543,
          0.8879737737819832,
          0.8752260513830005,
          0.9378459395683422,
          0.9918518559636713,
          0.7922695121830121,
          0.832852699074072,
          0.87282371112376,
          1.592014347679151,
          1.8207779139280376,
          2.578784210600216,
          2.294203488321446,
          2.418601135244455
         ],
         "yaxis": "y"
        },
        {
         "fill": "toself",
         "fillcolor": "green",
         "line": {
          "color": "green"
         },
         "mode": "lines",
         "name": "Credible interval for new Ɛ",
         "opacity": 0.15,
         "type": "scatter",
         "x": [
          8,
          9,
          10,
          11,
          12,
          13,
          14,
          15,
          16,
          17,
          18,
          19,
          20,
          21,
          22,
          23,
          24,
          25,
          26,
          27,
          28,
          29,
          30,
          31,
          32,
          33,
          34,
          35,
          36,
          37,
          38,
          39,
          40,
          41,
          42,
          43,
          44,
          45,
          46,
          47,
          48,
          49,
          50,
          51,
          52,
          53,
          54,
          55,
          56,
          57,
          58,
          59,
          60,
          60,
          59,
          58,
          57,
          56,
          55,
          54,
          53,
          52,
          51,
          50,
          49,
          48,
          47,
          46,
          45,
          44,
          43,
          42,
          41,
          40,
          39,
          38,
          37,
          36,
          35,
          34,
          33,
          32,
          31,
          30,
          29,
          28,
          27,
          26,
          25,
          24,
          23,
          22,
          21,
          20,
          19,
          18,
          17,
          16,
          15,
          14,
          13,
          12,
          11,
          10,
          9,
          8
         ],
         "xaxis": "x",
         "y": [
          5.2283570751028465,
          4.37189071100993,
          3.534595210269523,
          3.591698693091443,
          3.140617844462581,
          4.219039214353836,
          4.89660652397093,
          4.354394709367293,
          3.4342328402819833,
          2.765920412872829,
          3.8232235493244855,
          4.093428372058957,
          3.7568041637064624,
          2.766276603818507,
          2.21547253214072,
          2.0684643813954207,
          1.8627835732018503,
          1.288735481950087,
          1.096636239297378,
          0.8724304875658441,
          1.0455610628381884,
          1.218948313873307,
          1.1460842869972585,
          1.3059043183544918,
          1.6175977630840173,
          1.6108610236493184,
          1.7728639298157574,
          1.8109975330458312,
          1.5975964617907752,
          1.5311594247526876,
          1.4906172031747904,
          1.4047888811573062,
          1.3322802913873057,
          1.068989936575594,
          1.0341070257052294,
          0.9505280058045869,
          1.2227882493664408,
          1.258309617354742,
          1.3628270758330707,
          1.4407387743179831,
          1.7261731260721682,
          1.5212460349641028,
          1.4981011152286474,
          1.5695809053140095,
          1.6281583721964177,
          1.3548884985335266,
          1.3936478572461413,
          1.4328662117395767,
          2.3099785365546053,
          2.5615993360239457,
          3.437506795759426,
          3.081860945392432,
          3.197942425331651,
          1.771396628838555,
          1.6321356583794038,
          1.8494678337913573,
          1.2078772029290485,
          1.0071861610618986,
          0.4505847539417708,
          0.41537704040228296,
          0.3795399923599509,
          0.5120588992910938,
          0.46765083874246405,
          0.4188644247053631,
          0.4245478082119035,
          0.5394569119143449,
          0.40060330207771166,
          0.3782801605040198,
          0.3491177731735947,
          0.3616267375801919,
          0.2470225285098651,
          0.3082269072025474,
          0.33664618776818,
          0.4923346919157736,
          0.5351513385356925,
          0.583705838694667,
          0.5990533783893065,
          0.6244546713670478,
          0.7433026558972282,
          0.7094426521911272,
          0.6096124794026924,
          0.628008778807008,
          0.4623682215534456,
          0.3903795595451803,
          0.45754967676403546,
          0.3809780670579703,
          0.29687181491167686,
          0.4343336245101419,
          0.5419673266350404,
          0.8848263514060574,
          0.968099933151417,
          0.9822604572980307,
          1.2092983108261244,
          1.7001210221413707,
          1.803753806867422,
          1.5122875790353807,
          0.7932096122909863,
          0.9784005371758804,
          1.2523484951664805,
          1.3483465064083284,
          0.8951638890684849,
          0.38449434695460666,
          0.4376095126359699,
          0.29628051403723316,
          0.3673034645164257,
          0.4396138785798314
         ],
         "yaxis": "y"
        },
        {
         "line": {
          "color": "purple"
         },
         "name": "Mean R profile for for Ɛ = 0",
         "type": "scatter",
         "x": [
          8,
          9,
          10,
          11,
          12,
          13,
          14,
          15,
          16,
          17,
          18,
          19,
          20,
          21,
          22,
          23,
          24,
          25,
          26,
          27,
          28,
          29,
          30,
          31,
          32,
          33,
          34,
          35,
          36,
          37,
          38,
          39,
          40,
          41,
          42,
          43,
          44,
          45,
          46,
          47,
          48,
          49,
          50,
          51,
          52,
          53,
          54,
          55,
          56,
          57,
          58,
          59,
          60
         ],
         "xaxis": "x",
         "y": [],
         "yaxis": "y"
        },
        {
         "fill": "toself",
         "fillcolor": "purple",
         "line": {
          "color": "purple"
         },
         "mode": "lines",
         "name": "Credible interval for Ɛ = 0",
         "opacity": 0.15,
         "type": "scatter",
         "x": [
          8,
          9,
          10,
          11,
          12,
          13,
          14,
          15,
          16,
          17,
          18,
          19,
          20,
          21,
          22,
          23,
          24,
          25,
          26,
          27,
          28,
          29,
          30,
          31,
          32,
          33,
          34,
          35,
          36,
          37,
          38,
          39,
          40,
          41,
          42,
          43,
          44,
          45,
          46,
          47,
          48,
          49,
          50,
          51,
          52,
          53,
          54,
          55,
          56,
          57,
          58,
          59,
          60,
          60,
          59,
          58,
          57,
          56,
          55,
          54,
          53,
          52,
          51,
          50,
          49,
          48,
          47,
          46,
          45,
          44,
          43,
          42,
          41,
          40,
          39,
          38,
          37,
          36,
          35,
          34,
          33,
          32,
          31,
          30,
          29,
          28,
          27,
          26,
          25,
          24,
          23,
          22,
          21,
          20,
          19,
          18,
          17,
          16,
          15,
          14,
          13,
          12,
          11,
          10,
          9,
          8
         ],
         "xaxis": "x",
         "y": [],
         "yaxis": "y"
        },
        {
         "line": {
          "color": "green"
         },
         "showlegend": false,
         "type": "scatter",
         "x": [
          8,
          9,
          10,
          11,
          12,
          13,
          14,
          15,
          16,
          17,
          18,
          19,
          20,
          21,
          22,
          23,
          24,
          25,
          26,
          27,
          28,
          29,
          30,
          31,
          32,
          33,
          34,
          35,
          36,
          37,
          38,
          39,
          40,
          41,
          42,
          43,
          44,
          45,
          46,
          47,
          48,
          49,
          50,
          51,
          52,
          53,
          54,
          55,
          56,
          57,
          58,
          59,
          60
         ],
         "xaxis": "x2",
         "y": [
          0.4864644623898783,
          0.41998154865206205,
          0.37985161451297605,
          0.48216625755555703,
          0.4750950241349211,
          0.8457567124524826,
          1.2246914994476026,
          1.3042032511949575,
          1.2153698959818933,
          1.1163043733918292,
          1.8791594238574083,
          2.2295869616759187,
          2.1911332301419857,
          1.66516259601251,
          1.382366338168251,
          1.3433672284164744,
          1.2349936838387987,
          0.8278937110422426,
          0.6989665835580596,
          0.5310365263945366,
          0.6574259412854114,
          0.7790720427698912,
          0.7094432045784012,
          0.8226250417840341,
          1.0574944424141326,
          1.0422544876459232,
          1.1533739010146247,
          1.1466343384401485,
          0.9502037132373582,
          0.8744111689273546,
          0.8215657167307702,
          0.7428671420340875,
          0.6781863502020256,
          0.5034922644695341,
          0.474607571521646,
          0.4154966995925212,
          0.5581937854401915,
          0.560554267164533,
          0.6039774569664577,
          0.6290127474164705,
          0.7688828776861432,
          0.6358394726138801,
          0.5992631994359321,
          0.5938851343956426,
          0.5760176758881803,
          0.4289838543614991,
          0.42693003758189707,
          0.4223641017953807,
          0.7248874099313164,
          0.8002580632935232,
          1.1464482422096403,
          1.062622808077268,
          1.1752557113622735
         ],
         "yaxis": "y2"
        },
        {
         "fill": "toself",
         "fillcolor": "green",
         "line": {
          "color": "green"
         },
         "mode": "lines",
         "opacity": 0.15,
         "showlegend": false,
         "type": "scatter",
         "x": [
          8,
          9,
          10,
          11,
          12,
          13,
          14,
          15,
          16,
          17,
          18,
          19,
          20,
          21,
          22,
          23,
          24,
          25,
          26,
          27,
          28,
          29,
          30,
          31,
          32,
          33,
          34,
          35,
          36,
          37,
          38,
          39,
          40,
          41,
          42,
          43,
          44,
          45,
          46,
          47,
          48,
          49,
          50,
          51,
          52,
          53,
          54,
          55,
          56,
          57,
          58,
          59,
          60,
          60,
          59,
          58,
          57,
          56,
          55,
          54,
          53,
          52,
          51,
          50,
          49,
          48,
          47,
          46,
          45,
          44,
          43,
          42,
          41,
          40,
          39,
          38,
          37,
          36,
          35,
          34,
          33,
          32,
          31,
          30,
          29,
          28,
          27,
          26,
          25,
          24,
          23,
          22,
          21,
          20,
          19,
          18,
          17,
          16,
          15,
          14,
          13,
          12,
          11,
          10,
          9,
          8
         ],
         "xaxis": "x2",
         "y": [
          1.1852838723631736,
          1.0201505713164118,
          0.9205208204290709,
          1.0620396304944653,
          1.0448464330308753,
          1.5829552417164783,
          2.095010777662685,
          2.18284987418646,
          2.0370169521219688,
          1.8729785688560223,
          2.8014678516940412,
          3.1890190491533716,
          3.0994298957377158,
          2.3979466916835,
          1.9869066175401897,
          1.892225426108224,
          1.7303258886338941,
          1.2181272699696957,
          1.052911431169293,
          0.8474888463737464,
          1.0235992839919703,
          1.2001843965337864,
          1.1332982082114744,
          1.2952512846047828,
          1.6079068002949586,
          1.5997091875665748,
          1.7331850556379358,
          1.7073272533208548,
          1.4425524687057745,
          1.3268939280846754,
          1.2456193271543836,
          1.1376261124880795,
          1.0501371049444863,
          0.8266274016382048,
          0.7946639375035276,
          0.7296043680847855,
          0.9375442354620442,
          0.9626077304525255,
          1.0364740981234841,
          1.0781459442037582,
          1.263940353914592,
          1.0881671467143568,
          1.0269786398881084,
          0.9977774840353612,
          0.9503098531154395,
          0.7368679693215219,
          0.7175530902907262,
          0.6967541596786561,
          1.0597596924718422,
          1.1326808562598791,
          1.526988495151868,
          1.4130396121731494,
          1.5317607248650467,
          0.8759538988326664,
          0.7676573961454733,
          0.8255399606000721,
          0.5280308687928013,
          0.4551112559165893,
          0.21696771165850243,
          0.21197891371284436,
          0.20457208193143236,
          0.29581997493516027,
          0.2949275753987426,
          0.2864282030934845,
          0.3043601305085718,
          0.39634644596098745,
          0.30061851118041094,
          0.2883179924585113,
          0.2674334958626528,
          0.27738789129298846,
          0.1895060880929623,
          0.23656974403022685,
          0.2599074325306344,
          0.387101098135322,
          0.4319044136960231,
          0.48560979792936765,
          0.5163660723997666,
          0.5608266121670605,
          0.6977748323346462,
          0.6918471350340736,
          0.6045287540088926,
          0.6232258757149944,
          0.4578865194792072,
          0.38552111124818766,
          0.4503416621325717,
          0.37333695419549456,
          0.28896984029083644,
          0.4185684514750993,
          0.515010074809603,
          0.8287286740433218,
          0.8965457220411356,
          0.8968514864284816,
          1.0757757993323387,
          1.447022314399412,
          1.4447683035834897,
          1.1423793525470067,
          0.5552212212712924,
          0.6051365234293625,
          0.6503368416853142,
          0.5866076925701827,
          0.33901602788930313,
          0.12902592042326574,
          0.13074864091846575,
          0.07784568838758646,
          0.08586334567448235,
          0.09914671117030463
         ],
         "yaxis": "y2"
        },
        {
         "line": {
          "color": "purple"
         },
         "showlegend": false,
         "type": "scatter",
         "x": [
          8,
          9,
          10,
          11,
          12,
          13,
          14,
          15,
          16,
          17,
          18,
          19,
          20,
          21,
          22,
          23,
          24,
          25,
          26,
          27,
          28,
          29,
          30,
          31,
          32,
          33,
          34,
          35,
          36,
          37,
          38,
          39,
          40,
          41,
          42,
          43,
          44,
          45,
          46,
          47,
          48,
          49,
          50,
          51,
          52,
          53,
          54,
          55,
          56,
          57,
          58,
          59,
          60
         ],
         "xaxis": "x2",
         "y": [],
         "yaxis": "y2"
        },
        {
         "fill": "toself",
         "fillcolor": "purple",
         "line": {
          "color": "purple"
         },
         "mode": "lines",
         "opacity": 0.15,
         "showlegend": false,
         "type": "scatter",
         "x": [
          8,
          9,
          10,
          11,
          12,
          13,
          14,
          15,
          16,
          17,
          18,
          19,
          20,
          21,
          22,
          23,
          24,
          25,
          26,
          27,
          28,
          29,
          30,
          31,
          32,
          33,
          34,
          35,
          36,
          37,
          38,
          39,
          40,
          41,
          42,
          43,
          44,
          45,
          46,
          47,
          48,
          49,
          50,
          51,
          52,
          53,
          54,
          55,
          56,
          57,
          58,
          59,
          60,
          60,
          59,
          58,
          57,
          56,
          55,
          54,
          53,
          52,
          51,
          50,
          49,
          48,
          47,
          46,
          45,
          44,
          43,
          42,
          41,
          40,
          39,
          38,
          37,
          36,
          35,
          34,
          33,
          32,
          31,
          30,
          29,
          28,
          27,
          26,
          25,
          24,
          23,
          22,
          21,
          20,
          19,
          18,
          17,
          16,
          15,
          14,
          13,
          12,
          11,
          10,
          9,
          8
         ],
         "xaxis": "x2",
         "y": [],
         "yaxis": "y2"
        }
       ],
       "layout": {
        "annotations": [
         {
          "font": {
           "size": 16
          },
          "showarrow": false,
          "text": "Ɛ = 0.2",
          "x": 0.225,
          "xanchor": "center",
          "xref": "paper",
          "y": 1,
          "yanchor": "bottom",
          "yref": "paper"
         },
         {
          "font": {
           "size": 16
          },
          "showarrow": false,
          "text": "Ɛ = 1.0",
          "x": 0.775,
          "xanchor": "center",
          "xref": "paper",
          "y": 1,
          "yanchor": "bottom",
          "yref": "paper"
         },
         {
          "showarrow": false,
          "text": "Prior R",
          "x": 1,
          "xanchor": "right",
          "xref": "x domain",
          "y": 3.4657359027997274,
          "yanchor": "bottom",
          "yref": "y"
         },
         {
          "showarrow": false,
          "text": "Prior R",
          "x": 1,
          "xanchor": "right",
          "xref": "x2 domain",
          "y": 3.4657359027997274,
          "yanchor": "bottom",
          "yref": "y2"
         },
         {
          "showarrow": false,
          "text": "Prior R",
          "x": 1,
          "xanchor": "right",
          "xref": "x2 domain",
          "y": 3.4657359027997274,
          "yanchor": "bottom",
          "yref": "y2"
         }
        ],
        "height": 800,
        "legend": {
         "orientation": "h",
         "x": 1,
         "xanchor": "right",
         "y": 1.02,
         "yanchor": "bottom"
        },
        "plot_bgcolor": "white",
        "shapes": [
         {
          "fillcolor": "black",
          "line": {
           "dash": "dot"
          },
          "type": "line",
          "x0": 0,
          "x1": 1,
          "xref": "x domain",
          "y0": 3.4657359027997274,
          "y1": 3.4657359027997274,
          "yref": "y"
         },
         {
          "fillcolor": "black",
          "line": {
           "dash": "dot"
          },
          "type": "line",
          "x0": 0,
          "x1": 1,
          "xref": "x2 domain",
          "y0": 3.4657359027997274,
          "y1": 3.4657359027997274,
          "yref": "y2"
         },
         {
          "fillcolor": "black",
          "line": {
           "dash": "dot"
          },
          "type": "line",
          "x0": 0,
          "x1": 1,
          "xref": "x2 domain",
          "y0": 3.4657359027997274,
          "y1": 3.4657359027997274,
          "yref": "y2"
         }
        ],
        "template": {
         "data": {
          "bar": [
           {
            "error_x": {
             "color": "#2a3f5f"
            },
            "error_y": {
             "color": "#2a3f5f"
            },
            "marker": {
             "line": {
              "color": "#E5ECF6",
              "width": 0.5
             },
             "pattern": {
              "fillmode": "overlay",
              "size": 10,
              "solidity": 0.2
             }
            },
            "type": "bar"
           }
          ],
          "barpolar": [
           {
            "marker": {
             "line": {
              "color": "#E5ECF6",
              "width": 0.5
             },
             "pattern": {
              "fillmode": "overlay",
              "size": 10,
              "solidity": 0.2
             }
            },
            "type": "barpolar"
           }
          ],
          "carpet": [
           {
            "aaxis": {
             "endlinecolor": "#2a3f5f",
             "gridcolor": "white",
             "linecolor": "white",
             "minorgridcolor": "white",
             "startlinecolor": "#2a3f5f"
            },
            "baxis": {
             "endlinecolor": "#2a3f5f",
             "gridcolor": "white",
             "linecolor": "white",
             "minorgridcolor": "white",
             "startlinecolor": "#2a3f5f"
            },
            "type": "carpet"
           }
          ],
          "choropleth": [
           {
            "colorbar": {
             "outlinewidth": 0,
             "ticks": ""
            },
            "type": "choropleth"
           }
          ],
          "contour": [
           {
            "colorbar": {
             "outlinewidth": 0,
             "ticks": ""
            },
            "colorscale": [
             [
              0,
              "#0d0887"
             ],
             [
              0.1111111111111111,
              "#46039f"
             ],
             [
              0.2222222222222222,
              "#7201a8"
             ],
             [
              0.3333333333333333,
              "#9c179e"
             ],
             [
              0.4444444444444444,
              "#bd3786"
             ],
             [
              0.5555555555555556,
              "#d8576b"
             ],
             [
              0.6666666666666666,
              "#ed7953"
             ],
             [
              0.7777777777777778,
              "#fb9f3a"
             ],
             [
              0.8888888888888888,
              "#fdca26"
             ],
             [
              1,
              "#f0f921"
             ]
            ],
            "type": "contour"
           }
          ],
          "contourcarpet": [
           {
            "colorbar": {
             "outlinewidth": 0,
             "ticks": ""
            },
            "type": "contourcarpet"
           }
          ],
          "heatmap": [
           {
            "colorbar": {
             "outlinewidth": 0,
             "ticks": ""
            },
            "colorscale": [
             [
              0,
              "#0d0887"
             ],
             [
              0.1111111111111111,
              "#46039f"
             ],
             [
              0.2222222222222222,
              "#7201a8"
             ],
             [
              0.3333333333333333,
              "#9c179e"
             ],
             [
              0.4444444444444444,
              "#bd3786"
             ],
             [
              0.5555555555555556,
              "#d8576b"
             ],
             [
              0.6666666666666666,
              "#ed7953"
             ],
             [
              0.7777777777777778,
              "#fb9f3a"
             ],
             [
              0.8888888888888888,
              "#fdca26"
             ],
             [
              1,
              "#f0f921"
             ]
            ],
            "type": "heatmap"
           }
          ],
          "heatmapgl": [
           {
            "colorbar": {
             "outlinewidth": 0,
             "ticks": ""
            },
            "colorscale": [
             [
              0,
              "#0d0887"
             ],
             [
              0.1111111111111111,
              "#46039f"
             ],
             [
              0.2222222222222222,
              "#7201a8"
             ],
             [
              0.3333333333333333,
              "#9c179e"
             ],
             [
              0.4444444444444444,
              "#bd3786"
             ],
             [
              0.5555555555555556,
              "#d8576b"
             ],
             [
              0.6666666666666666,
              "#ed7953"
             ],
             [
              0.7777777777777778,
              "#fb9f3a"
             ],
             [
              0.8888888888888888,
              "#fdca26"
             ],
             [
              1,
              "#f0f921"
             ]
            ],
            "type": "heatmapgl"
           }
          ],
          "histogram": [
           {
            "marker": {
             "pattern": {
              "fillmode": "overlay",
              "size": 10,
              "solidity": 0.2
             }
            },
            "type": "histogram"
           }
          ],
          "histogram2d": [
           {
            "colorbar": {
             "outlinewidth": 0,
             "ticks": ""
            },
            "colorscale": [
             [
              0,
              "#0d0887"
             ],
             [
              0.1111111111111111,
              "#46039f"
             ],
             [
              0.2222222222222222,
              "#7201a8"
             ],
             [
              0.3333333333333333,
              "#9c179e"
             ],
             [
              0.4444444444444444,
              "#bd3786"
             ],
             [
              0.5555555555555556,
              "#d8576b"
             ],
             [
              0.6666666666666666,
              "#ed7953"
             ],
             [
              0.7777777777777778,
              "#fb9f3a"
             ],
             [
              0.8888888888888888,
              "#fdca26"
             ],
             [
              1,
              "#f0f921"
             ]
            ],
            "type": "histogram2d"
           }
          ],
          "histogram2dcontour": [
           {
            "colorbar": {
             "outlinewidth": 0,
             "ticks": ""
            },
            "colorscale": [
             [
              0,
              "#0d0887"
             ],
             [
              0.1111111111111111,
              "#46039f"
             ],
             [
              0.2222222222222222,
              "#7201a8"
             ],
             [
              0.3333333333333333,
              "#9c179e"
             ],
             [
              0.4444444444444444,
              "#bd3786"
             ],
             [
              0.5555555555555556,
              "#d8576b"
             ],
             [
              0.6666666666666666,
              "#ed7953"
             ],
             [
              0.7777777777777778,
              "#fb9f3a"
             ],
             [
              0.8888888888888888,
              "#fdca26"
             ],
             [
              1,
              "#f0f921"
             ]
            ],
            "type": "histogram2dcontour"
           }
          ],
          "mesh3d": [
           {
            "colorbar": {
             "outlinewidth": 0,
             "ticks": ""
            },
            "type": "mesh3d"
           }
          ],
          "parcoords": [
           {
            "line": {
             "colorbar": {
              "outlinewidth": 0,
              "ticks": ""
             }
            },
            "type": "parcoords"
           }
          ],
          "pie": [
           {
            "automargin": true,
            "type": "pie"
           }
          ],
          "scatter": [
           {
            "marker": {
             "colorbar": {
              "outlinewidth": 0,
              "ticks": ""
             }
            },
            "type": "scatter"
           }
          ],
          "scatter3d": [
           {
            "line": {
             "colorbar": {
              "outlinewidth": 0,
              "ticks": ""
             }
            },
            "marker": {
             "colorbar": {
              "outlinewidth": 0,
              "ticks": ""
             }
            },
            "type": "scatter3d"
           }
          ],
          "scattercarpet": [
           {
            "marker": {
             "colorbar": {
              "outlinewidth": 0,
              "ticks": ""
             }
            },
            "type": "scattercarpet"
           }
          ],
          "scattergeo": [
           {
            "marker": {
             "colorbar": {
              "outlinewidth": 0,
              "ticks": ""
             }
            },
            "type": "scattergeo"
           }
          ],
          "scattergl": [
           {
            "marker": {
             "colorbar": {
              "outlinewidth": 0,
              "ticks": ""
             }
            },
            "type": "scattergl"
           }
          ],
          "scattermapbox": [
           {
            "marker": {
             "colorbar": {
              "outlinewidth": 0,
              "ticks": ""
             }
            },
            "type": "scattermapbox"
           }
          ],
          "scatterpolar": [
           {
            "marker": {
             "colorbar": {
              "outlinewidth": 0,
              "ticks": ""
             }
            },
            "type": "scatterpolar"
           }
          ],
          "scatterpolargl": [
           {
            "marker": {
             "colorbar": {
              "outlinewidth": 0,
              "ticks": ""
             }
            },
            "type": "scatterpolargl"
           }
          ],
          "scatterternary": [
           {
            "marker": {
             "colorbar": {
              "outlinewidth": 0,
              "ticks": ""
             }
            },
            "type": "scatterternary"
           }
          ],
          "surface": [
           {
            "colorbar": {
             "outlinewidth": 0,
             "ticks": ""
            },
            "colorscale": [
             [
              0,
              "#0d0887"
             ],
             [
              0.1111111111111111,
              "#46039f"
             ],
             [
              0.2222222222222222,
              "#7201a8"
             ],
             [
              0.3333333333333333,
              "#9c179e"
             ],
             [
              0.4444444444444444,
              "#bd3786"
             ],
             [
              0.5555555555555556,
              "#d8576b"
             ],
             [
              0.6666666666666666,
              "#ed7953"
             ],
             [
              0.7777777777777778,
              "#fb9f3a"
             ],
             [
              0.8888888888888888,
              "#fdca26"
             ],
             [
              1,
              "#f0f921"
             ]
            ],
            "type": "surface"
           }
          ],
          "table": [
           {
            "cells": {
             "fill": {
              "color": "#EBF0F8"
             },
             "line": {
              "color": "white"
             }
            },
            "header": {
             "fill": {
              "color": "#C8D4E3"
             },
             "line": {
              "color": "white"
             }
            },
            "type": "table"
           }
          ]
         },
         "layout": {
          "annotationdefaults": {
           "arrowcolor": "#2a3f5f",
           "arrowhead": 0,
           "arrowwidth": 1
          },
          "autotypenumbers": "strict",
          "coloraxis": {
           "colorbar": {
            "outlinewidth": 0,
            "ticks": ""
           }
          },
          "colorscale": {
           "diverging": [
            [
             0,
             "#8e0152"
            ],
            [
             0.1,
             "#c51b7d"
            ],
            [
             0.2,
             "#de77ae"
            ],
            [
             0.3,
             "#f1b6da"
            ],
            [
             0.4,
             "#fde0ef"
            ],
            [
             0.5,
             "#f7f7f7"
            ],
            [
             0.6,
             "#e6f5d0"
            ],
            [
             0.7,
             "#b8e186"
            ],
            [
             0.8,
             "#7fbc41"
            ],
            [
             0.9,
             "#4d9221"
            ],
            [
             1,
             "#276419"
            ]
           ],
           "sequential": [
            [
             0,
             "#0d0887"
            ],
            [
             0.1111111111111111,
             "#46039f"
            ],
            [
             0.2222222222222222,
             "#7201a8"
            ],
            [
             0.3333333333333333,
             "#9c179e"
            ],
            [
             0.4444444444444444,
             "#bd3786"
            ],
            [
             0.5555555555555556,
             "#d8576b"
            ],
            [
             0.6666666666666666,
             "#ed7953"
            ],
            [
             0.7777777777777778,
             "#fb9f3a"
            ],
            [
             0.8888888888888888,
             "#fdca26"
            ],
            [
             1,
             "#f0f921"
            ]
           ],
           "sequentialminus": [
            [
             0,
             "#0d0887"
            ],
            [
             0.1111111111111111,
             "#46039f"
            ],
            [
             0.2222222222222222,
             "#7201a8"
            ],
            [
             0.3333333333333333,
             "#9c179e"
            ],
            [
             0.4444444444444444,
             "#bd3786"
            ],
            [
             0.5555555555555556,
             "#d8576b"
            ],
            [
             0.6666666666666666,
             "#ed7953"
            ],
            [
             0.7777777777777778,
             "#fb9f3a"
            ],
            [
             0.8888888888888888,
             "#fdca26"
            ],
            [
             1,
             "#f0f921"
            ]
           ]
          },
          "colorway": [
           "#636efa",
           "#EF553B",
           "#00cc96",
           "#ab63fa",
           "#FFA15A",
           "#19d3f3",
           "#FF6692",
           "#B6E880",
           "#FF97FF",
           "#FECB52"
          ],
          "font": {
           "color": "#2a3f5f"
          },
          "geo": {
           "bgcolor": "white",
           "lakecolor": "white",
           "landcolor": "#E5ECF6",
           "showlakes": true,
           "showland": true,
           "subunitcolor": "white"
          },
          "hoverlabel": {
           "align": "left"
          },
          "hovermode": "closest",
          "mapbox": {
           "style": "light"
          },
          "paper_bgcolor": "white",
          "plot_bgcolor": "#E5ECF6",
          "polar": {
           "angularaxis": {
            "gridcolor": "white",
            "linecolor": "white",
            "ticks": ""
           },
           "bgcolor": "#E5ECF6",
           "radialaxis": {
            "gridcolor": "white",
            "linecolor": "white",
            "ticks": ""
           }
          },
          "scene": {
           "xaxis": {
            "backgroundcolor": "#E5ECF6",
            "gridcolor": "white",
            "gridwidth": 2,
            "linecolor": "white",
            "showbackground": true,
            "ticks": "",
            "zerolinecolor": "white"
           },
           "yaxis": {
            "backgroundcolor": "#E5ECF6",
            "gridcolor": "white",
            "gridwidth": 2,
            "linecolor": "white",
            "showbackground": true,
            "ticks": "",
            "zerolinecolor": "white"
           },
           "zaxis": {
            "backgroundcolor": "#E5ECF6",
            "gridcolor": "white",
            "gridwidth": 2,
            "linecolor": "white",
            "showbackground": true,
            "ticks": "",
            "zerolinecolor": "white"
           }
          },
          "shapedefaults": {
           "line": {
            "color": "#2a3f5f"
           }
          },
          "ternary": {
           "aaxis": {
            "gridcolor": "white",
            "linecolor": "white",
            "ticks": ""
           },
           "baxis": {
            "gridcolor": "white",
            "linecolor": "white",
            "ticks": ""
           },
           "bgcolor": "#E5ECF6",
           "caxis": {
            "gridcolor": "white",
            "linecolor": "white",
            "ticks": ""
           }
          },
          "title": {
           "x": 0.05
          },
          "xaxis": {
           "automargin": true,
           "gridcolor": "white",
           "linecolor": "white",
           "ticks": "",
           "title": {
            "standoff": 15
           },
           "zerolinecolor": "white",
           "zerolinewidth": 2
          },
          "yaxis": {
           "automargin": true,
           "gridcolor": "white",
           "linecolor": "white",
           "ticks": "",
           "title": {
            "standoff": 15
           },
           "zerolinecolor": "white",
           "zerolinewidth": 2
          }
         }
        },
        "title": {
         "text": "HK"
        },
        "width": 700,
        "xaxis": {
         "anchor": "y",
         "domain": [
          0,
          0.45
         ],
         "linecolor": "black"
        },
        "xaxis2": {
         "anchor": "y2",
         "domain": [
          0.55,
          1
         ],
         "linecolor": "black"
        },
        "xaxis3": {
         "linecolor": "black"
        },
        "xaxis4": {
         "linecolor": "black"
        },
        "xaxis5": {
         "linecolor": "black"
        },
        "xaxis6": {
         "linecolor": "black"
        },
        "yaxis": {
         "anchor": "x",
         "domain": [
          0,
          1
         ],
         "linecolor": "black"
        },
        "yaxis2": {
         "anchor": "x2",
         "domain": [
          0,
          1
         ],
         "linecolor": "black"
        },
        "yaxis3": {
         "linecolor": "black"
        },
        "yaxis4": {
         "linecolor": "black"
        },
        "yaxis5": {
         "linecolor": "black"
        },
        "yaxis6": {
         "linecolor": "black"
        }
       }
      }
     },
     "metadata": {},
     "output_type": "display_data"
    }
   ],
   "source": [
    "from plotly.subplots import make_subplots\n",
    "\n",
    "all_intervals = all_intervals[all_intervals['Central Probability']==0.95]\n",
    "\n",
    "fig = go.Figure()\n",
    "fig = make_subplots(\n",
    "    rows=int(np.ceil(epsilon_range.shape[0]/2)), cols=2, subplot_titles=tuple('Ɛ = {}'.format(epsilon) for epsilon in epsilon_range[epsilon_range!=0])\n",
    ")\n",
    "\n",
    "# Plot (bar chart cases each day)\n",
    "for e, epsilon in enumerate(epsilon_range[epsilon_range!=0]):\n",
    "    if e == 0:\n",
    "        fig.add_trace(\n",
    "            go.Scatter(\n",
    "                x=all_intervals.loc[all_intervals['Epsilon']==epsilon]['Time Points'],\n",
    "                y=all_intervals.loc[all_intervals['Epsilon']==epsilon]['Mean'],\n",
    "                name='Mean R profile for for new Ɛ',\n",
    "                line_color='green'\n",
    "            ),\n",
    "            row= int(np.floor(e / 2)) + 1,\n",
    "            col= e % 2 + 1\n",
    "        )\n",
    "\n",
    "        fig.add_trace(\n",
    "            go.Scatter(\n",
    "                x=all_intervals.loc[all_intervals['Epsilon']==epsilon]['Time Points'].tolist() + all_intervals.loc[all_intervals['Epsilon']==epsilon]['Time Points'].tolist()[::-1],\n",
    "                y=all_intervals.loc[all_intervals['Epsilon']==epsilon][\n",
    "                    'Upper bound CI'].values.tolist() + all_intervals.loc[all_intervals['Epsilon']==epsilon][\n",
    "                        'Lower bound CI'].values.tolist()[::-1],\n",
    "                fill='toself',\n",
    "                fillcolor='green',\n",
    "                line_color='green',\n",
    "                opacity=0.15,\n",
    "                mode='lines',\n",
    "                name='Credible interval for new Ɛ'\n",
    "            ),\n",
    "            row= int(np.floor(e / 2)) + 1,\n",
    "            col= e % 2 + 1\n",
    "        )\n",
    "\n",
    "        fig.add_trace(\n",
    "            go.Scatter(\n",
    "                x=all_intervals.loc[all_intervals['Epsilon']==epsilon]['Time Points'],\n",
    "                y=all_intervals.loc[all_intervals['Epsilon']==0]['Mean'],\n",
    "                name='Mean R profile for for Ɛ = 0'.format(epsilon),\n",
    "                line_color='purple'\n",
    "            ),\n",
    "            row= int(np.floor(e / 2)) + 1,\n",
    "            col= e % 2 + 1\n",
    "        )\n",
    "\n",
    "\n",
    "        fig.add_trace(\n",
    "            go.Scatter(\n",
    "                x=all_intervals.loc[all_intervals['Epsilon']==epsilon]['Time Points'].tolist() + all_intervals.loc[all_intervals['Epsilon']==epsilon]['Time Points'].tolist()[::-1],\n",
    "                y=all_intervals.loc[all_intervals['Epsilon']==0][\n",
    "                    'Upper bound CI'].values.tolist() + all_intervals.loc[all_intervals['Epsilon']==0][\n",
    "                        'Lower bound CI'].values.tolist()[::-1],\n",
    "                fill='toself',\n",
    "                fillcolor='purple',\n",
    "                line_color='purple',\n",
    "                opacity=0.15,\n",
    "                mode='lines',\n",
    "                name='Credible interval for Ɛ = 0'\n",
    "            ),\n",
    "            row= int(np.floor(e / 2)) + 1,\n",
    "            col= e % 2 + 1\n",
    "        )\n",
    "\n",
    "    else:\n",
    "        fig.add_trace(\n",
    "            go.Scatter(\n",
    "                x=all_intervals.loc[all_intervals['Epsilon']==epsilon]['Time Points'],\n",
    "                y=all_intervals.loc[all_intervals['Epsilon']==epsilon]['Mean'],\n",
    "                line_color='green',\n",
    "                showlegend=False\n",
    "            ),\n",
    "            row= int(np.floor(e / 2)) + 1,\n",
    "            col= e % 2 + 1\n",
    "        )\n",
    "\n",
    "        fig.add_trace(\n",
    "            go.Scatter(\n",
    "                x=all_intervals.loc[all_intervals['Epsilon']==epsilon]['Time Points'].tolist() + all_intervals.loc[all_intervals['Epsilon']==epsilon]['Time Points'].tolist()[::-1],\n",
    "                y=all_intervals.loc[all_intervals['Epsilon']==epsilon][\n",
    "                    'Upper bound CI'].values.tolist() + all_intervals.loc[all_intervals['Epsilon']==epsilon][\n",
    "                        'Lower bound CI'].values.tolist()[::-1],\n",
    "                fill='toself',\n",
    "                fillcolor='green',\n",
    "                line_color='green',\n",
    "                opacity=0.15,\n",
    "                showlegend=False,\n",
    "                mode='lines'\n",
    "            ),\n",
    "            row= int(np.floor(e / 2)) + 1,\n",
    "            col= e % 2 + 1\n",
    "        )\n",
    "\n",
    "        fig.add_trace(\n",
    "            go.Scatter(\n",
    "                x=all_intervals.loc[all_intervals['Epsilon']==epsilon]['Time Points'],\n",
    "                y=all_intervals.loc[all_intervals['Epsilon']==0]['Mean'],\n",
    "                showlegend=False,\n",
    "                line_color='purple'\n",
    "            ),\n",
    "            row= int(np.floor(e / 2)) + 1,\n",
    "            col= e % 2 + 1\n",
    "        )\n",
    "\n",
    "\n",
    "        fig.add_trace(\n",
    "            go.Scatter(\n",
    "                x=all_intervals.loc[all_intervals['Epsilon']==epsilon]['Time Points'].tolist() + all_intervals.loc[all_intervals['Epsilon']==epsilon]['Time Points'].tolist()[::-1],\n",
    "                y=all_intervals.loc[all_intervals['Epsilon']==0][\n",
    "                    'Upper bound CI'].values.tolist() + all_intervals.loc[all_intervals['Epsilon']==0][\n",
    "                        'Lower bound CI'].values.tolist()[::-1],\n",
    "                fill='toself',\n",
    "                fillcolor='purple',\n",
    "                line_color='purple',\n",
    "                opacity=0.15,\n",
    "                mode='lines',\n",
    "                showlegend=False,\n",
    "            ),\n",
    "            row= int(np.floor(e / 2)) + 1,\n",
    "            col= e % 2 + 1\n",
    "        )\n",
    "\n",
    "        #fig.add_hrect(y0=prior_dist_interval[0], y1=prior_dist_interval[1], line_width=0, fillcolor='black', opacity=0.1)\n",
    "        fig.add_hline(y=median, line_dash='dot',\n",
    "                annotation_text='Prior R', fillcolor='black',\n",
    "                annotation_position='top right',\n",
    "                row= int(np.floor(e / 2)) + 1,\n",
    "                col= e % 2 + 1)\n",
    "\n",
    "    #fig.add_hrect(y0=prior_dist_interval[0], y1=prior_dist_interval[1], line_width=0, fillcolor='black', opacity=0.1)\n",
    "    fig.add_hline(y=median, line_dash='dot',\n",
    "              annotation_text='Prior R', fillcolor='black',\n",
    "              annotation_position='top right',\n",
    "              row= int(np.floor(e / 2)) + 1,\n",
    "              col= e % 2 + 1)\n",
    "\n",
    "\n",
    "# Add axis labels\n",
    "fig.update_layout(\n",
    "    title='HK',\n",
    "    width=700, \n",
    "    height=800,\n",
    "    plot_bgcolor='white',\n",
    "    xaxis=dict(linecolor='black'),\n",
    "    yaxis=dict(linecolor='black'),\n",
    "    xaxis2=dict(linecolor='black'),\n",
    "    yaxis2=dict(linecolor='black'),\n",
    "    xaxis3=dict(linecolor='black'),\n",
    "    yaxis3=dict(linecolor='black'),\n",
    "    xaxis4=dict(linecolor='black'),\n",
    "    yaxis4=dict(linecolor='black'),\n",
    "    xaxis5=dict(linecolor='black'),\n",
    "    yaxis5=dict(linecolor='black'),\n",
    "    xaxis6=dict(linecolor='black'),\n",
    "    yaxis6=dict(linecolor='black'),\n",
    "    legend=dict(\n",
    "        orientation=\"h\",\n",
    "        yanchor=\"bottom\",\n",
    "        y=1.02,\n",
    "        xanchor=\"right\",\n",
    "        x=1\n",
    "    ))\n",
    "\n",
    "fig.update_xaxes(ticks='outside', title_text='Time (days)', row='all', col='all')\n",
    "fig.update_yaxes(ticks='outside', title_text='R_t', row='all', col='all')\n",
    "\n",
    "# fig.write_image('HK-diff-eps-inf.pdf')\n",
    "fig.show()"
   ]
  },
  {
   "cell_type": "code",
   "execution_count": 12,
   "metadata": {},
   "outputs": [
    {
     "ename": "AttributeError",
     "evalue": "'float' object has no attribute 'index'",
     "output_type": "error",
     "traceback": [
      "\u001b[0;31m---------------------------------------------------------------------------\u001b[0m",
      "\u001b[0;31mAttributeError\u001b[0m                            Traceback (most recent call last)",
      "Input \u001b[0;32mIn [12]\u001b[0m, in \u001b[0;36m<module>\u001b[0;34m\u001b[0m\n\u001b[1;32m      1\u001b[0m inference_times \u001b[38;5;241m=\u001b[39m \u001b[38;5;28msorted\u001b[39m(\u001b[38;5;28mlist\u001b[39m(\u001b[38;5;28mset\u001b[39m(all_intervals[\u001b[38;5;124m'\u001b[39m\u001b[38;5;124mTime Points\u001b[39m\u001b[38;5;124m'\u001b[39m]\u001b[38;5;241m.\u001b[39mtolist())))\n\u001b[1;32m      2\u001b[0m epsilon_range \u001b[38;5;241m=\u001b[39m [\u001b[38;5;241m0.2\u001b[39m, \u001b[38;5;241m1.0\u001b[39m]\n\u001b[0;32m----> 4\u001b[0m \u001b[43mbranchpro\u001b[49m\u001b[38;5;241;43m.\u001b[39;49m\u001b[43mfigures\u001b[49m\u001b[38;5;241;43m.\u001b[39;49m\u001b[43mplot_regions_inference\u001b[49m\u001b[43m(\u001b[49m\n\u001b[1;32m      5\u001b[0m \u001b[43m    \u001b[49m\u001b[43mdatetime\u001b[49m\u001b[38;5;241;43m.\u001b[39;49m\u001b[43mdatetime\u001b[49m\u001b[43m(\u001b[49m\u001b[38;5;241;43m2020\u001b[39;49m\u001b[43m,\u001b[49m\u001b[43m \u001b[49m\u001b[38;5;241;43m1\u001b[39;49m\u001b[43m,\u001b[49m\u001b[43m \u001b[49m\u001b[38;5;241;43m23\u001b[39;49m\u001b[43m)\u001b[49m\u001b[43m,\u001b[49m\n\u001b[1;32m      6\u001b[0m \u001b[43m    \u001b[49m\u001b[43m[\u001b[49m\u001b[38;5;124;43m'\u001b[39;49m\u001b[38;5;124;43mHong Kong\u001b[39;49m\u001b[38;5;124;43m'\u001b[39;49m\u001b[43m]\u001b[49m\u001b[43m,\u001b[49m\n\u001b[1;32m      7\u001b[0m \u001b[43m    \u001b[49m\u001b[43m[\u001b[49m\u001b[43mlocally_infected_cases\u001b[49m\u001b[43m]\u001b[49m\u001b[43m,\u001b[49m\n\u001b[1;32m      8\u001b[0m \u001b[43m    \u001b[49m\u001b[43m[\u001b[49m\u001b[43mimported_cases\u001b[49m\u001b[43m]\u001b[49m\u001b[43m,\u001b[49m\n\u001b[1;32m      9\u001b[0m \u001b[43m    \u001b[49m\u001b[43mdatetime\u001b[49m\u001b[38;5;241;43m.\u001b[39;49m\u001b[43mdatetime\u001b[49m\u001b[43m(\u001b[49m\u001b[38;5;241;43m2020\u001b[39;49m\u001b[43m,\u001b[49m\u001b[43m \u001b[49m\u001b[38;5;241;43m1\u001b[39;49m\u001b[43m,\u001b[49m\u001b[43m \u001b[49m\u001b[38;5;241;43m23\u001b[39;49m\u001b[43m)\u001b[49m\u001b[43m \u001b[49m\u001b[38;5;241;43m+\u001b[39;49m\u001b[43m \u001b[49m\u001b[43mdatetime\u001b[49m\u001b[38;5;241;43m.\u001b[39;49m\u001b[43mtimedelta\u001b[49m\u001b[43m(\u001b[49m\u001b[43mdays\u001b[49m\u001b[38;5;241;43m=\u001b[39;49m\u001b[43minference_times\u001b[49m\u001b[43m[\u001b[49m\u001b[38;5;241;43m0\u001b[39;49m\u001b[43m]\u001b[49m\u001b[38;5;241;43m-\u001b[39;49m\u001b[38;5;241;43m1\u001b[39;49m\u001b[43m)\u001b[49m\u001b[43m,\u001b[49m\n\u001b[1;32m     10\u001b[0m \u001b[43m    \u001b[49m\u001b[38;5;28;43mlist\u001b[39;49m\u001b[43m(\u001b[49m\u001b[43mepsilon_range\u001b[49m\u001b[43m)\u001b[49m\u001b[43m,\u001b[49m\n\u001b[1;32m     11\u001b[0m \u001b[43m    \u001b[49m\u001b[43m[\u001b[49m\u001b[43m[\u001b[49m\u001b[43mall_intervals\u001b[49m\u001b[38;5;241;43m.\u001b[39;49m\u001b[43mloc\u001b[49m\u001b[43m[\u001b[49m\u001b[43mall_intervals\u001b[49m\u001b[43m[\u001b[49m\u001b[38;5;124;43m'\u001b[39;49m\u001b[38;5;124;43mEpsilon\u001b[39;49m\u001b[38;5;124;43m'\u001b[39;49m\u001b[43m]\u001b[49m\u001b[38;5;241;43m==\u001b[39;49m\u001b[43meps\u001b[49m\u001b[43m]\u001b[49m\u001b[43m \u001b[49m\u001b[38;5;28;43;01mfor\u001b[39;49;00m\u001b[43m \u001b[49m\u001b[43meps\u001b[49m\u001b[43m \u001b[49m\u001b[38;5;129;43;01min\u001b[39;49;00m\u001b[43m \u001b[49m\u001b[43mepsilon_range\u001b[49m\u001b[43m]\u001b[49m\u001b[43m]\u001b[49m\u001b[43m,\u001b[49m\n\u001b[1;32m     12\u001b[0m \u001b[43m    \u001b[49m\u001b[43mdefault_epsilon\u001b[49m\u001b[38;5;241;43m=\u001b[39;49m\u001b[38;5;241;43m1.0\u001b[39;49m\u001b[43m,\u001b[49m\n\u001b[1;32m     13\u001b[0m \u001b[43m    \u001b[49m\u001b[43mshow\u001b[49m\u001b[38;5;241;43m=\u001b[39;49m\u001b[38;5;28;43;01mFalse\u001b[39;49;00m\u001b[43m,\u001b[49m\n\u001b[1;32m     14\u001b[0m \u001b[43m    \u001b[49m\u001b[43mhkhn\u001b[49m\u001b[38;5;241;43m=\u001b[39;49m\u001b[38;5;28;43;01mTrue\u001b[39;49;00m\u001b[43m)\u001b[49m\n\u001b[1;32m     16\u001b[0m plt\u001b[38;5;241m.\u001b[39msavefig(\u001b[38;5;124m'\u001b[39m\u001b[38;5;124mHK_inference.pdf\u001b[39m\u001b[38;5;124m'\u001b[39m)\n",
      "File \u001b[0;32m~/Desktop/Software Project/branchpro/branchpro/figures.py:484\u001b[0m, in \u001b[0;36mplot_regions_inference\u001b[0;34m(first_day_data, region_names, local_cases, import_cases, first_day_inference, epsilons, R_t_results, default_epsilon, inset_region, show, mers, hkhn)\u001b[0m\n\u001b[1;32m    480\u001b[0m     default_results \u001b[38;5;241m=\u001b[39m R_t_results[region][\n\u001b[1;32m    481\u001b[0m         epsilons\u001b[38;5;241m.\u001b[39mindex(default_epsilon)]\n\u001b[1;32m    482\u001b[0m \u001b[38;5;28;01melse\u001b[39;00m:\n\u001b[1;32m    483\u001b[0m     default_results \u001b[38;5;241m=\u001b[39m R_t_results[region][\n\u001b[0;32m--> 484\u001b[0m         \u001b[43mepsilons\u001b[49m\u001b[43m[\u001b[49m\u001b[43mregion\u001b[49m\u001b[43m]\u001b[49m\u001b[38;5;241;43m.\u001b[39;49m\u001b[43mindex\u001b[49m(default_epsilon)]\n\u001b[1;32m    486\u001b[0m \u001b[38;5;66;03m# Make sure bounds are numeric type\u001b[39;00m\n\u001b[1;32m    487\u001b[0m numeric_columns \u001b[38;5;241m=\u001b[39m [\u001b[38;5;124m'\u001b[39m\u001b[38;5;124mLower bound CI\u001b[39m\u001b[38;5;124m'\u001b[39m, \u001b[38;5;124m'\u001b[39m\u001b[38;5;124mUpper bound CI\u001b[39m\u001b[38;5;124m'\u001b[39m]\n",
      "\u001b[0;31mAttributeError\u001b[0m: 'float' object has no attribute 'index'"
     ]
    },
    {
     "data": {
      "image/png": "[encoded data removed]",
      "text/plain": [
       "<Figure size 432x288 with 2 Axes>"
      ]
     },
     "metadata": {
      "needs_background": "light"
     },
     "output_type": "display_data"
    }
   ],
   "source": [
    "inference_times = sorted(list(set(all_intervals['Time Points'].tolist())))\n",
    "epsilon_range = [0.2, 1.0]\n",
    "\n",
    "branchpro.figures.plot_regions_inference(\n",
    "    datetime.datetime(2020, 1, 23),\n",
    "    ['Hong Kong'],\n",
    "    [locally_infected_cases],\n",
    "    [imported_cases],\n",
    "    datetime.datetime(2020, 1, 23) + datetime.timedelta(days=inference_times[0]-1),\n",
    "    [list(epsilon_range)],\n",
    "    [[all_intervals.loc[all_intervals['Epsilon']==eps] for eps in epsilon_range]],\n",
    "    default_epsilon=1.0,\n",
    "    show=False,\n",
    "    hkhn=True)\n",
    "\n",
    "plt.savefig('HK_inference.pdf')"
   ]
  },
  {
   "cell_type": "markdown",
   "metadata": {},
   "source": [
    "## Save mean Rt profile to file"
   ]
  },
  {
   "cell_type": "code",
   "execution_count": null,
   "metadata": {},
   "outputs": [],
   "source": [
    "interval = all_intervals.loc[all_intervals['Epsilon']==1][['Time Points', 'Mean']]\n",
    "interval.to_csv('../data_library/rt_profile/HK-Rt-profile.csv', sep=',', index=False)"
   ]
  }
 ],
 "metadata": {
  "interpreter": {
   "hash": "9a1edc82fdfb75c3b64a2a1e331992ba51087b4bcc20e5799465daad38af24d9"
  },
  "kernelspec": {
   "display_name": "Python 3.9.7 64-bit ('branchpro': conda)",
   "name": "python3"
  },
  "language_info": {
   "codemirror_mode": {
    "name": "ipython",
    "version": 3
   },
   "file_extension": ".py",
   "mimetype": "text/x-python",
   "name": "python",
   "nbconvert_exporter": "python",
   "pygments_lexer": "ipython3",
   "version": "3.9.7"
  },
  "metadata": {
   "interpreter": {
    "hash": "7812ea015bdcee6f23a998adcdd2ef97c151c0c241b7b7070987d9313e41299d"
   }
  },
  "widgets": {
   "application/vnd.jupyter.widget-state+json": {
    "state": {},
    "version_major": 2,
    "version_minor": 0
   }
  }
 },
 "nbformat": 4,
 "nbformat_minor": 2
}
