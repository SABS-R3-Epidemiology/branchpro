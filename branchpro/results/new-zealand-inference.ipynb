{
 "cells": [
  {
   "cell_type": "markdown",
   "metadata": {},
   "source": [
    "# Inference on New Zealand data and observe effects of epsilon"
   ]
  },
  {
   "cell_type": "markdown",
   "metadata": {},
   "source": [
    "## Load all information and modify them to the correct format"
   ]
  },
  {
   "cell_type": "code",
   "execution_count": 1,
   "metadata": {},
   "outputs": [],
   "source": [
    "# Import libraries\n",
    "import numpy as np\n",
    "import math\n",
    "import branchpro\n",
    "import scipy.stats\n",
    "import matplotlib\n",
    "import plotly.graph_objects as go\n",
    "from matplotlib import pyplot as plt\n",
    "import os\n",
    "import pandas as pd\n"
   ]
  },
  {
   "cell_type": "code",
   "execution_count": 2,
   "metadata": {},
   "outputs": [],
   "source": [
    "# Read serial interval\n",
    "si_file = 'si-epinow'\n",
    "path = os.path.join('../data_library/serial_interval', '{}.csv'.format(si_file))\n",
    "serial_interval = pd.read_csv(path, header=None)\n",
    "serial_interval = serial_interval.fillna(0)\n",
    "serial_intervals = serial_interval.values.T"
   ]
  },
  {
   "cell_type": "code",
   "execution_count": 31,
   "metadata": {},
   "outputs": [],
   "source": [
    "# Read New Zealand data\n",
    "path = os.path.join('../data_library/covid_new_zealand/NZ.csv')\n",
    "\n",
    "# Start from day 30, as there are almost no cases before it.\n",
    "data = pd.read_csv(path)[30:81]"
   ]
  },
  {
   "cell_type": "code",
   "execution_count": 32,
   "metadata": {},
   "outputs": [],
   "source": [
    "time_key = 'Time'\n",
    "num_timepoints = (max(data[time_key])-min(data[time_key]))+1\n",
    "data_times = data[time_key]\n",
    "\n",
    "# Pad with zeros the time points where we have no information on\n",
    "# the number of incidences\n",
    "padded_inc_data = data.set_index(time_key).reindex(\n",
    "    range(\n",
    "        min(data_times), max(data_times)+1)\n",
    "        ).fillna(0).reset_index()\n",
    "locally_infected_cases = padded_inc_data['Incidence Number']\n",
    "imported_cases = padded_inc_data['Imported Cases']\n",
    "\n",
    "start_times = np.arange(1, num_timepoints+1, dtype=int)\n",
    "times = np.arange(num_timepoints+1)"
   ]
  },
  {
   "cell_type": "code",
   "execution_count": 33,
   "metadata": {},
   "outputs": [
    {
     "data": {
      "application/vnd.plotly.v1+json": {
       "config": {
        "plotlyServerURL": "https://plot.ly"
       },
       "data": [
        {
         "name": "Local Incidences",
         "type": "bar",
         "x": [
          0,
          1,
          2,
          3,
          4,
          5,
          6,
          7,
          8,
          9,
          10,
          11,
          12,
          13,
          14,
          15,
          16,
          17,
          18,
          19,
          20,
          21,
          22,
          23,
          24,
          25,
          26,
          27,
          28,
          29,
          30,
          31,
          32,
          33,
          34,
          35,
          36,
          37,
          38,
          39,
          40,
          41,
          42,
          43,
          44,
          45,
          46,
          47,
          48,
          49,
          50,
          51
         ],
         "y": [
          0,
          0,
          0,
          0,
          0,
          0,
          0,
          1,
          2,
          2,
          4,
          1,
          4,
          7,
          14,
          16,
          17,
          22,
          17,
          14,
          25,
          11,
          30,
          24,
          37,
          32,
          25,
          17,
          13,
          23,
          10,
          10,
          9,
          8,
          4,
          5,
          9,
          5,
          7,
          8,
          1,
          3,
          4,
          3,
          6,
          5,
          1,
          2,
          0,
          1,
          3
         ]
        },
        {
         "name": "Imported Cases",
         "type": "bar",
         "x": [
          0,
          1,
          2,
          3,
          4,
          5,
          6,
          7,
          8,
          9,
          10,
          11,
          12,
          13,
          14,
          15,
          16,
          17,
          18,
          19,
          20,
          21,
          22,
          23,
          24,
          25,
          26,
          27,
          28,
          29,
          30,
          31,
          32,
          33,
          34,
          35,
          36,
          37,
          38,
          39,
          40,
          41,
          42,
          43,
          44,
          45,
          46,
          47,
          48,
          49,
          50,
          51
         ],
         "y": [
          0,
          1,
          1,
          1,
          1,
          7,
          12,
          4,
          16,
          9,
          20,
          43,
          37,
          51,
          70,
          63,
          58,
          50,
          57,
          38,
          52,
          62,
          52,
          51,
          40,
          38,
          28,
          20,
          15,
          21,
          17,
          15,
          11,
          3,
          12,
          6,
          8,
          7,
          3,
          2,
          2,
          3,
          1,
          2,
          0,
          1,
          2,
          1,
          1,
          1,
          0
         ]
        }
       ],
       "layout": {
        "template": {
         "data": {
          "bar": [
           {
            "error_x": {
             "color": "#2a3f5f"
            },
            "error_y": {
             "color": "#2a3f5f"
            },
            "marker": {
             "line": {
              "color": "#E5ECF6",
              "width": 0.5
             }
            },
            "type": "bar"
           }
          ],
          "barpolar": [
           {
            "marker": {
             "line": {
              "color": "#E5ECF6",
              "width": 0.5
             }
            },
            "type": "barpolar"
           }
          ],
          "carpet": [
           {
            "aaxis": {
             "endlinecolor": "#2a3f5f",
             "gridcolor": "white",
             "linecolor": "white",
             "minorgridcolor": "white",
             "startlinecolor": "#2a3f5f"
            },
            "baxis": {
             "endlinecolor": "#2a3f5f",
             "gridcolor": "white",
             "linecolor": "white",
             "minorgridcolor": "white",
             "startlinecolor": "#2a3f5f"
            },
            "type": "carpet"
           }
          ],
          "choropleth": [
           {
            "colorbar": {
             "outlinewidth": 0,
             "ticks": ""
            },
            "type": "choropleth"
           }
          ],
          "contour": [
           {
            "colorbar": {
             "outlinewidth": 0,
             "ticks": ""
            },
            "colorscale": [
             [
              0,
              "#0d0887"
             ],
             [
              0.1111111111111111,
              "#46039f"
             ],
             [
              0.2222222222222222,
              "#7201a8"
             ],
             [
              0.3333333333333333,
              "#9c179e"
             ],
             [
              0.4444444444444444,
              "#bd3786"
             ],
             [
              0.5555555555555556,
              "#d8576b"
             ],
             [
              0.6666666666666666,
              "#ed7953"
             ],
             [
              0.7777777777777778,
              "#fb9f3a"
             ],
             [
              0.8888888888888888,
              "#fdca26"
             ],
             [
              1,
              "#f0f921"
             ]
            ],
            "type": "contour"
           }
          ],
          "contourcarpet": [
           {
            "colorbar": {
             "outlinewidth": 0,
             "ticks": ""
            },
            "type": "contourcarpet"
           }
          ],
          "heatmap": [
           {
            "colorbar": {
             "outlinewidth": 0,
             "ticks": ""
            },
            "colorscale": [
             [
              0,
              "#0d0887"
             ],
             [
              0.1111111111111111,
              "#46039f"
             ],
             [
              0.2222222222222222,
              "#7201a8"
             ],
             [
              0.3333333333333333,
              "#9c179e"
             ],
             [
              0.4444444444444444,
              "#bd3786"
             ],
             [
              0.5555555555555556,
              "#d8576b"
             ],
             [
              0.6666666666666666,
              "#ed7953"
             ],
             [
              0.7777777777777778,
              "#fb9f3a"
             ],
             [
              0.8888888888888888,
              "#fdca26"
             ],
             [
              1,
              "#f0f921"
             ]
            ],
            "type": "heatmap"
           }
          ],
          "heatmapgl": [
           {
            "colorbar": {
             "outlinewidth": 0,
             "ticks": ""
            },
            "colorscale": [
             [
              0,
              "#0d0887"
             ],
             [
              0.1111111111111111,
              "#46039f"
             ],
             [
              0.2222222222222222,
              "#7201a8"
             ],
             [
              0.3333333333333333,
              "#9c179e"
             ],
             [
              0.4444444444444444,
              "#bd3786"
             ],
             [
              0.5555555555555556,
              "#d8576b"
             ],
             [
              0.6666666666666666,
              "#ed7953"
             ],
             [
              0.7777777777777778,
              "#fb9f3a"
             ],
             [
              0.8888888888888888,
              "#fdca26"
             ],
             [
              1,
              "#f0f921"
             ]
            ],
            "type": "heatmapgl"
           }
          ],
          "histogram": [
           {
            "marker": {
             "colorbar": {
              "outlinewidth": 0,
              "ticks": ""
             }
            },
            "type": "histogram"
           }
          ],
          "histogram2d": [
           {
            "colorbar": {
             "outlinewidth": 0,
             "ticks": ""
            },
            "colorscale": [
             [
              0,
              "#0d0887"
             ],
             [
              0.1111111111111111,
              "#46039f"
             ],
             [
              0.2222222222222222,
              "#7201a8"
             ],
             [
              0.3333333333333333,
              "#9c179e"
             ],
             [
              0.4444444444444444,
              "#bd3786"
             ],
             [
              0.5555555555555556,
              "#d8576b"
             ],
             [
              0.6666666666666666,
              "#ed7953"
             ],
             [
              0.7777777777777778,
              "#fb9f3a"
             ],
             [
              0.8888888888888888,
              "#fdca26"
             ],
             [
              1,
              "#f0f921"
             ]
            ],
            "type": "histogram2d"
           }
          ],
          "histogram2dcontour": [
           {
            "colorbar": {
             "outlinewidth": 0,
             "ticks": ""
            },
            "colorscale": [
             [
              0,
              "#0d0887"
             ],
             [
              0.1111111111111111,
              "#46039f"
             ],
             [
              0.2222222222222222,
              "#7201a8"
             ],
             [
              0.3333333333333333,
              "#9c179e"
             ],
             [
              0.4444444444444444,
              "#bd3786"
             ],
             [
              0.5555555555555556,
              "#d8576b"
             ],
             [
              0.6666666666666666,
              "#ed7953"
             ],
             [
              0.7777777777777778,
              "#fb9f3a"
             ],
             [
              0.8888888888888888,
              "#fdca26"
             ],
             [
              1,
              "#f0f921"
             ]
            ],
            "type": "histogram2dcontour"
           }
          ],
          "mesh3d": [
           {
            "colorbar": {
             "outlinewidth": 0,
             "ticks": ""
            },
            "type": "mesh3d"
           }
          ],
          "parcoords": [
           {
            "line": {
             "colorbar": {
              "outlinewidth": 0,
              "ticks": ""
             }
            },
            "type": "parcoords"
           }
          ],
          "pie": [
           {
            "automargin": true,
            "type": "pie"
           }
          ],
          "scatter": [
           {
            "marker": {
             "colorbar": {
              "outlinewidth": 0,
              "ticks": ""
             }
            },
            "type": "scatter"
           }
          ],
          "scatter3d": [
           {
            "line": {
             "colorbar": {
              "outlinewidth": 0,
              "ticks": ""
             }
            },
            "marker": {
             "colorbar": {
              "outlinewidth": 0,
              "ticks": ""
             }
            },
            "type": "scatter3d"
           }
          ],
          "scattercarpet": [
           {
            "marker": {
             "colorbar": {
              "outlinewidth": 0,
              "ticks": ""
             }
            },
            "type": "scattercarpet"
           }
          ],
          "scattergeo": [
           {
            "marker": {
             "colorbar": {
              "outlinewidth": 0,
              "ticks": ""
             }
            },
            "type": "scattergeo"
           }
          ],
          "scattergl": [
           {
            "marker": {
             "colorbar": {
              "outlinewidth": 0,
              "ticks": ""
             }
            },
            "type": "scattergl"
           }
          ],
          "scattermapbox": [
           {
            "marker": {
             "colorbar": {
              "outlinewidth": 0,
              "ticks": ""
             }
            },
            "type": "scattermapbox"
           }
          ],
          "scatterpolar": [
           {
            "marker": {
             "colorbar": {
              "outlinewidth": 0,
              "ticks": ""
             }
            },
            "type": "scatterpolar"
           }
          ],
          "scatterpolargl": [
           {
            "marker": {
             "colorbar": {
              "outlinewidth": 0,
              "ticks": ""
             }
            },
            "type": "scatterpolargl"
           }
          ],
          "scatterternary": [
           {
            "marker": {
             "colorbar": {
              "outlinewidth": 0,
              "ticks": ""
             }
            },
            "type": "scatterternary"
           }
          ],
          "surface": [
           {
            "colorbar": {
             "outlinewidth": 0,
             "ticks": ""
            },
            "colorscale": [
             [
              0,
              "#0d0887"
             ],
             [
              0.1111111111111111,
              "#46039f"
             ],
             [
              0.2222222222222222,
              "#7201a8"
             ],
             [
              0.3333333333333333,
              "#9c179e"
             ],
             [
              0.4444444444444444,
              "#bd3786"
             ],
             [
              0.5555555555555556,
              "#d8576b"
             ],
             [
              0.6666666666666666,
              "#ed7953"
             ],
             [
              0.7777777777777778,
              "#fb9f3a"
             ],
             [
              0.8888888888888888,
              "#fdca26"
             ],
             [
              1,
              "#f0f921"
             ]
            ],
            "type": "surface"
           }
          ],
          "table": [
           {
            "cells": {
             "fill": {
              "color": "#EBF0F8"
             },
             "line": {
              "color": "white"
             }
            },
            "header": {
             "fill": {
              "color": "#C8D4E3"
             },
             "line": {
              "color": "white"
             }
            },
            "type": "table"
           }
          ]
         },
         "layout": {
          "annotationdefaults": {
           "arrowcolor": "#2a3f5f",
           "arrowhead": 0,
           "arrowwidth": 1
          },
          "autotypenumbers": "strict",
          "coloraxis": {
           "colorbar": {
            "outlinewidth": 0,
            "ticks": ""
           }
          },
          "colorscale": {
           "diverging": [
            [
             0,
             "#8e0152"
            ],
            [
             0.1,
             "#c51b7d"
            ],
            [
             0.2,
             "#de77ae"
            ],
            [
             0.3,
             "#f1b6da"
            ],
            [
             0.4,
             "#fde0ef"
            ],
            [
             0.5,
             "#f7f7f7"
            ],
            [
             0.6,
             "#e6f5d0"
            ],
            [
             0.7,
             "#b8e186"
            ],
            [
             0.8,
             "#7fbc41"
            ],
            [
             0.9,
             "#4d9221"
            ],
            [
             1,
             "#276419"
            ]
           ],
           "sequential": [
            [
             0,
             "#0d0887"
            ],
            [
             0.1111111111111111,
             "#46039f"
            ],
            [
             0.2222222222222222,
             "#7201a8"
            ],
            [
             0.3333333333333333,
             "#9c179e"
            ],
            [
             0.4444444444444444,
             "#bd3786"
            ],
            [
             0.5555555555555556,
             "#d8576b"
            ],
            [
             0.6666666666666666,
             "#ed7953"
            ],
            [
             0.7777777777777778,
             "#fb9f3a"
            ],
            [
             0.8888888888888888,
             "#fdca26"
            ],
            [
             1,
             "#f0f921"
            ]
           ],
           "sequentialminus": [
            [
             0,
             "#0d0887"
            ],
            [
             0.1111111111111111,
             "#46039f"
            ],
            [
             0.2222222222222222,
             "#7201a8"
            ],
            [
             0.3333333333333333,
             "#9c179e"
            ],
            [
             0.4444444444444444,
             "#bd3786"
            ],
            [
             0.5555555555555556,
             "#d8576b"
            ],
            [
             0.6666666666666666,
             "#ed7953"
            ],
            [
             0.7777777777777778,
             "#fb9f3a"
            ],
            [
             0.8888888888888888,
             "#fdca26"
            ],
            [
             1,
             "#f0f921"
            ]
           ]
          },
          "colorway": [
           "#636efa",
           "#EF553B",
           "#00cc96",
           "#ab63fa",
           "#FFA15A",
           "#19d3f3",
           "#FF6692",
           "#B6E880",
           "#FF97FF",
           "#FECB52"
          ],
          "font": {
           "color": "#2a3f5f"
          },
          "geo": {
           "bgcolor": "white",
           "lakecolor": "white",
           "landcolor": "#E5ECF6",
           "showlakes": true,
           "showland": true,
           "subunitcolor": "white"
          },
          "hoverlabel": {
           "align": "left"
          },
          "hovermode": "closest",
          "mapbox": {
           "style": "light"
          },
          "paper_bgcolor": "white",
          "plot_bgcolor": "#E5ECF6",
          "polar": {
           "angularaxis": {
            "gridcolor": "white",
            "linecolor": "white",
            "ticks": ""
           },
           "bgcolor": "#E5ECF6",
           "radialaxis": {
            "gridcolor": "white",
            "linecolor": "white",
            "ticks": ""
           }
          },
          "scene": {
           "xaxis": {
            "backgroundcolor": "#E5ECF6",
            "gridcolor": "white",
            "gridwidth": 2,
            "linecolor": "white",
            "showbackground": true,
            "ticks": "",
            "zerolinecolor": "white"
           },
           "yaxis": {
            "backgroundcolor": "#E5ECF6",
            "gridcolor": "white",
            "gridwidth": 2,
            "linecolor": "white",
            "showbackground": true,
            "ticks": "",
            "zerolinecolor": "white"
           },
           "zaxis": {
            "backgroundcolor": "#E5ECF6",
            "gridcolor": "white",
            "gridwidth": 2,
            "linecolor": "white",
            "showbackground": true,
            "ticks": "",
            "zerolinecolor": "white"
           }
          },
          "shapedefaults": {
           "line": {
            "color": "#2a3f5f"
           }
          },
          "ternary": {
           "aaxis": {
            "gridcolor": "white",
            "linecolor": "white",
            "ticks": ""
           },
           "baxis": {
            "gridcolor": "white",
            "linecolor": "white",
            "ticks": ""
           },
           "bgcolor": "#E5ECF6",
           "caxis": {
            "gridcolor": "white",
            "linecolor": "white",
            "ticks": ""
           }
          },
          "title": {
           "x": 0.05
          },
          "xaxis": {
           "automargin": true,
           "gridcolor": "white",
           "linecolor": "white",
           "ticks": "",
           "title": {
            "standoff": 15
           },
           "zerolinecolor": "white",
           "zerolinewidth": 2
          },
          "yaxis": {
           "automargin": true,
           "gridcolor": "white",
           "linecolor": "white",
           "ticks": "",
           "title": {
            "standoff": 15
           },
           "zerolinecolor": "white",
           "zerolinewidth": 2
          }
         }
        },
        "xaxis": {
         "title": {
          "text": "Time (days)"
         }
        },
        "yaxis": {
         "title": {
          "text": "New cases"
         }
        }
       }
      },
      "text/html": [
       "<div>                            <div id=\"04e092a7-9f76-4c6d-9312-e77b7d7c1196\" class=\"plotly-graph-div\" style=\"height:525px; width:100%;\"></div>            <script type=\"text/javascript\">                require([\"plotly\"], function(Plotly) {                    window.PLOTLYENV=window.PLOTLYENV || {};                                    if (document.getElementById(\"04e092a7-9f76-4c6d-9312-e77b7d7c1196\")) {                    Plotly.newPlot(                        \"04e092a7-9f76-4c6d-9312-e77b7d7c1196\",                        [{\"name\": \"Local Incidences\", \"type\": \"bar\", \"x\": [0, 1, 2, 3, 4, 5, 6, 7, 8, 9, 10, 11, 12, 13, 14, 15, 16, 17, 18, 19, 20, 21, 22, 23, 24, 25, 26, 27, 28, 29, 30, 31, 32, 33, 34, 35, 36, 37, 38, 39, 40, 41, 42, 43, 44, 45, 46, 47, 48, 49, 50, 51], \"y\": [0, 0, 0, 0, 0, 0, 0, 1, 2, 2, 4, 1, 4, 7, 14, 16, 17, 22, 17, 14, 25, 11, 30, 24, 37, 32, 25, 17, 13, 23, 10, 10, 9, 8, 4, 5, 9, 5, 7, 8, 1, 3, 4, 3, 6, 5, 1, 2, 0, 1, 3]}, {\"name\": \"Imported Cases\", \"type\": \"bar\", \"x\": [0, 1, 2, 3, 4, 5, 6, 7, 8, 9, 10, 11, 12, 13, 14, 15, 16, 17, 18, 19, 20, 21, 22, 23, 24, 25, 26, 27, 28, 29, 30, 31, 32, 33, 34, 35, 36, 37, 38, 39, 40, 41, 42, 43, 44, 45, 46, 47, 48, 49, 50, 51], \"y\": [0, 1, 1, 1, 1, 7, 12, 4, 16, 9, 20, 43, 37, 51, 70, 63, 58, 50, 57, 38, 52, 62, 52, 51, 40, 38, 28, 20, 15, 21, 17, 15, 11, 3, 12, 6, 8, 7, 3, 2, 2, 3, 1, 2, 0, 1, 2, 1, 1, 1, 0]}],                        {\"template\": {\"data\": {\"bar\": [{\"error_x\": {\"color\": \"#2a3f5f\"}, \"error_y\": {\"color\": \"#2a3f5f\"}, \"marker\": {\"line\": {\"color\": \"#E5ECF6\", \"width\": 0.5}}, \"type\": \"bar\"}], \"barpolar\": [{\"marker\": {\"line\": {\"color\": \"#E5ECF6\", \"width\": 0.5}}, \"type\": \"barpolar\"}], \"carpet\": [{\"aaxis\": {\"endlinecolor\": \"#2a3f5f\", \"gridcolor\": \"white\", \"linecolor\": \"white\", \"minorgridcolor\": \"white\", \"startlinecolor\": \"#2a3f5f\"}, \"baxis\": {\"endlinecolor\": \"#2a3f5f\", \"gridcolor\": \"white\", \"linecolor\": \"white\", \"minorgridcolor\": \"white\", \"startlinecolor\": \"#2a3f5f\"}, \"type\": \"carpet\"}], \"choropleth\": [{\"colorbar\": {\"outlinewidth\": 0, \"ticks\": \"\"}, \"type\": \"choropleth\"}], \"contour\": [{\"colorbar\": {\"outlinewidth\": 0, \"ticks\": \"\"}, \"colorscale\": [[0.0, \"#0d0887\"], [0.1111111111111111, \"#46039f\"], [0.2222222222222222, \"#7201a8\"], [0.3333333333333333, \"#9c179e\"], [0.4444444444444444, \"#bd3786\"], [0.5555555555555556, \"#d8576b\"], [0.6666666666666666, \"#ed7953\"], [0.7777777777777778, \"#fb9f3a\"], [0.8888888888888888, \"#fdca26\"], [1.0, \"#f0f921\"]], \"type\": \"contour\"}], \"contourcarpet\": [{\"colorbar\": {\"outlinewidth\": 0, \"ticks\": \"\"}, \"type\": \"contourcarpet\"}], \"heatmap\": [{\"colorbar\": {\"outlinewidth\": 0, \"ticks\": \"\"}, \"colorscale\": [[0.0, \"#0d0887\"], [0.1111111111111111, \"#46039f\"], [0.2222222222222222, \"#7201a8\"], [0.3333333333333333, \"#9c179e\"], [0.4444444444444444, \"#bd3786\"], [0.5555555555555556, \"#d8576b\"], [0.6666666666666666, \"#ed7953\"], [0.7777777777777778, \"#fb9f3a\"], [0.8888888888888888, \"#fdca26\"], [1.0, \"#f0f921\"]], \"type\": \"heatmap\"}], \"heatmapgl\": [{\"colorbar\": {\"outlinewidth\": 0, \"ticks\": \"\"}, \"colorscale\": [[0.0, \"#0d0887\"], [0.1111111111111111, \"#46039f\"], [0.2222222222222222, \"#7201a8\"], [0.3333333333333333, \"#9c179e\"], [0.4444444444444444, \"#bd3786\"], [0.5555555555555556, \"#d8576b\"], [0.6666666666666666, \"#ed7953\"], [0.7777777777777778, \"#fb9f3a\"], [0.8888888888888888, \"#fdca26\"], [1.0, \"#f0f921\"]], \"type\": \"heatmapgl\"}], \"histogram\": [{\"marker\": {\"colorbar\": {\"outlinewidth\": 0, \"ticks\": \"\"}}, \"type\": \"histogram\"}], \"histogram2d\": [{\"colorbar\": {\"outlinewidth\": 0, \"ticks\": \"\"}, \"colorscale\": [[0.0, \"#0d0887\"], [0.1111111111111111, \"#46039f\"], [0.2222222222222222, \"#7201a8\"], [0.3333333333333333, \"#9c179e\"], [0.4444444444444444, \"#bd3786\"], [0.5555555555555556, \"#d8576b\"], [0.6666666666666666, \"#ed7953\"], [0.7777777777777778, \"#fb9f3a\"], [0.8888888888888888, \"#fdca26\"], [1.0, \"#f0f921\"]], \"type\": \"histogram2d\"}], \"histogram2dcontour\": [{\"colorbar\": {\"outlinewidth\": 0, \"ticks\": \"\"}, \"colorscale\": [[0.0, \"#0d0887\"], [0.1111111111111111, \"#46039f\"], [0.2222222222222222, \"#7201a8\"], [0.3333333333333333, \"#9c179e\"], [0.4444444444444444, \"#bd3786\"], [0.5555555555555556, \"#d8576b\"], [0.6666666666666666, \"#ed7953\"], [0.7777777777777778, \"#fb9f3a\"], [0.8888888888888888, \"#fdca26\"], [1.0, \"#f0f921\"]], \"type\": \"histogram2dcontour\"}], \"mesh3d\": [{\"colorbar\": {\"outlinewidth\": 0, \"ticks\": \"\"}, \"type\": \"mesh3d\"}], \"parcoords\": [{\"line\": {\"colorbar\": {\"outlinewidth\": 0, \"ticks\": \"\"}}, \"type\": \"parcoords\"}], \"pie\": [{\"automargin\": true, \"type\": \"pie\"}], \"scatter\": [{\"marker\": {\"colorbar\": {\"outlinewidth\": 0, \"ticks\": \"\"}}, \"type\": \"scatter\"}], \"scatter3d\": [{\"line\": {\"colorbar\": {\"outlinewidth\": 0, \"ticks\": \"\"}}, \"marker\": {\"colorbar\": {\"outlinewidth\": 0, \"ticks\": \"\"}}, \"type\": \"scatter3d\"}], \"scattercarpet\": [{\"marker\": {\"colorbar\": {\"outlinewidth\": 0, \"ticks\": \"\"}}, \"type\": \"scattercarpet\"}], \"scattergeo\": [{\"marker\": {\"colorbar\": {\"outlinewidth\": 0, \"ticks\": \"\"}}, \"type\": \"scattergeo\"}], \"scattergl\": [{\"marker\": {\"colorbar\": {\"outlinewidth\": 0, \"ticks\": \"\"}}, \"type\": \"scattergl\"}], \"scattermapbox\": [{\"marker\": {\"colorbar\": {\"outlinewidth\": 0, \"ticks\": \"\"}}, \"type\": \"scattermapbox\"}], \"scatterpolar\": [{\"marker\": {\"colorbar\": {\"outlinewidth\": 0, \"ticks\": \"\"}}, \"type\": \"scatterpolar\"}], \"scatterpolargl\": [{\"marker\": {\"colorbar\": {\"outlinewidth\": 0, \"ticks\": \"\"}}, \"type\": \"scatterpolargl\"}], \"scatterternary\": [{\"marker\": {\"colorbar\": {\"outlinewidth\": 0, \"ticks\": \"\"}}, \"type\": \"scatterternary\"}], \"surface\": [{\"colorbar\": {\"outlinewidth\": 0, \"ticks\": \"\"}, \"colorscale\": [[0.0, \"#0d0887\"], [0.1111111111111111, \"#46039f\"], [0.2222222222222222, \"#7201a8\"], [0.3333333333333333, \"#9c179e\"], [0.4444444444444444, \"#bd3786\"], [0.5555555555555556, \"#d8576b\"], [0.6666666666666666, \"#ed7953\"], [0.7777777777777778, \"#fb9f3a\"], [0.8888888888888888, \"#fdca26\"], [1.0, \"#f0f921\"]], \"type\": \"surface\"}], \"table\": [{\"cells\": {\"fill\": {\"color\": \"#EBF0F8\"}, \"line\": {\"color\": \"white\"}}, \"header\": {\"fill\": {\"color\": \"#C8D4E3\"}, \"line\": {\"color\": \"white\"}}, \"type\": \"table\"}]}, \"layout\": {\"annotationdefaults\": {\"arrowcolor\": \"#2a3f5f\", \"arrowhead\": 0, \"arrowwidth\": 1}, \"autotypenumbers\": \"strict\", \"coloraxis\": {\"colorbar\": {\"outlinewidth\": 0, \"ticks\": \"\"}}, \"colorscale\": {\"diverging\": [[0, \"#8e0152\"], [0.1, \"#c51b7d\"], [0.2, \"#de77ae\"], [0.3, \"#f1b6da\"], [0.4, \"#fde0ef\"], [0.5, \"#f7f7f7\"], [0.6, \"#e6f5d0\"], [0.7, \"#b8e186\"], [0.8, \"#7fbc41\"], [0.9, \"#4d9221\"], [1, \"#276419\"]], \"sequential\": [[0.0, \"#0d0887\"], [0.1111111111111111, \"#46039f\"], [0.2222222222222222, \"#7201a8\"], [0.3333333333333333, \"#9c179e\"], [0.4444444444444444, \"#bd3786\"], [0.5555555555555556, \"#d8576b\"], [0.6666666666666666, \"#ed7953\"], [0.7777777777777778, \"#fb9f3a\"], [0.8888888888888888, \"#fdca26\"], [1.0, \"#f0f921\"]], \"sequentialminus\": [[0.0, \"#0d0887\"], [0.1111111111111111, \"#46039f\"], [0.2222222222222222, \"#7201a8\"], [0.3333333333333333, \"#9c179e\"], [0.4444444444444444, \"#bd3786\"], [0.5555555555555556, \"#d8576b\"], [0.6666666666666666, \"#ed7953\"], [0.7777777777777778, \"#fb9f3a\"], [0.8888888888888888, \"#fdca26\"], [1.0, \"#f0f921\"]]}, \"colorway\": [\"#636efa\", \"#EF553B\", \"#00cc96\", \"#ab63fa\", \"#FFA15A\", \"#19d3f3\", \"#FF6692\", \"#B6E880\", \"#FF97FF\", \"#FECB52\"], \"font\": {\"color\": \"#2a3f5f\"}, \"geo\": {\"bgcolor\": \"white\", \"lakecolor\": \"white\", \"landcolor\": \"#E5ECF6\", \"showlakes\": true, \"showland\": true, \"subunitcolor\": \"white\"}, \"hoverlabel\": {\"align\": \"left\"}, \"hovermode\": \"closest\", \"mapbox\": {\"style\": \"light\"}, \"paper_bgcolor\": \"white\", \"plot_bgcolor\": \"#E5ECF6\", \"polar\": {\"angularaxis\": {\"gridcolor\": \"white\", \"linecolor\": \"white\", \"ticks\": \"\"}, \"bgcolor\": \"#E5ECF6\", \"radialaxis\": {\"gridcolor\": \"white\", \"linecolor\": \"white\", \"ticks\": \"\"}}, \"scene\": {\"xaxis\": {\"backgroundcolor\": \"#E5ECF6\", \"gridcolor\": \"white\", \"gridwidth\": 2, \"linecolor\": \"white\", \"showbackground\": true, \"ticks\": \"\", \"zerolinecolor\": \"white\"}, \"yaxis\": {\"backgroundcolor\": \"#E5ECF6\", \"gridcolor\": \"white\", \"gridwidth\": 2, \"linecolor\": \"white\", \"showbackground\": true, \"ticks\": \"\", \"zerolinecolor\": \"white\"}, \"zaxis\": {\"backgroundcolor\": \"#E5ECF6\", \"gridcolor\": \"white\", \"gridwidth\": 2, \"linecolor\": \"white\", \"showbackground\": true, \"ticks\": \"\", \"zerolinecolor\": \"white\"}}, \"shapedefaults\": {\"line\": {\"color\": \"#2a3f5f\"}}, \"ternary\": {\"aaxis\": {\"gridcolor\": \"white\", \"linecolor\": \"white\", \"ticks\": \"\"}, \"baxis\": {\"gridcolor\": \"white\", \"linecolor\": \"white\", \"ticks\": \"\"}, \"bgcolor\": \"#E5ECF6\", \"caxis\": {\"gridcolor\": \"white\", \"linecolor\": \"white\", \"ticks\": \"\"}}, \"title\": {\"x\": 0.05}, \"xaxis\": {\"automargin\": true, \"gridcolor\": \"white\", \"linecolor\": \"white\", \"ticks\": \"\", \"title\": {\"standoff\": 15}, \"zerolinecolor\": \"white\", \"zerolinewidth\": 2}, \"yaxis\": {\"automargin\": true, \"gridcolor\": \"white\", \"linecolor\": \"white\", \"ticks\": \"\", \"title\": {\"standoff\": 15}, \"zerolinecolor\": \"white\", \"zerolinewidth\": 2}}}, \"xaxis\": {\"title\": {\"text\": \"Time (days)\"}}, \"yaxis\": {\"title\": {\"text\": \"New cases\"}}},                        {\"responsive\": true}                    ).then(function(){\n",
       "                            \n",
       "var gd = document.getElementById('04e092a7-9f76-4c6d-9312-e77b7d7c1196');\n",
       "var x = new MutationObserver(function (mutations, observer) {{\n",
       "        var display = window.getComputedStyle(gd).display;\n",
       "        if (!display || display === 'none') {{\n",
       "            console.log([gd, 'removed!']);\n",
       "            Plotly.purge(gd);\n",
       "            observer.disconnect();\n",
       "        }}\n",
       "}});\n",
       "\n",
       "// Listen for the removal of the full notebook cells\n",
       "var notebookContainer = gd.closest('#notebook-container');\n",
       "if (notebookContainer) {{\n",
       "    x.observe(notebookContainer, {childList: true});\n",
       "}}\n",
       "\n",
       "// Listen for the clearing of the current output cell\n",
       "var outputEl = gd.closest('.output');\n",
       "if (outputEl) {{\n",
       "    x.observe(outputEl, {childList: true});\n",
       "}}\n",
       "\n",
       "                        })                };                });            </script>        </div>"
      ]
     },
     "metadata": {},
     "output_type": "display_data"
    }
   ],
   "source": [
    "# Plot (bar chart cases each day)\n",
    "fig = go.Figure()\n",
    "\n",
    "# Plot of incidences\n",
    "fig.add_trace(\n",
    "    go.Bar(\n",
    "        x=times,\n",
    "        y=locally_infected_cases,\n",
    "        name='Local Incidences'\n",
    "    )\n",
    ")\n",
    "\n",
    "fig.add_trace(\n",
    "    go.Bar(\n",
    "        x=times,\n",
    "        y=imported_cases,\n",
    "        name='Imported Cases'\n",
    "    )\n",
    ")\n",
    "\n",
    "# Add axis labels\n",
    "fig.update_layout(\n",
    "    xaxis_title='Time (days)',\n",
    "    yaxis_title='New cases'\n",
    ")\n",
    "\n",
    "fig.show()"
   ]
  },
  {
   "cell_type": "markdown",
   "metadata": {},
   "source": [
    "## Comparison of inference results for different epsilon values"
   ]
  },
  {
   "cell_type": "code",
   "execution_count": 34,
   "metadata": {},
   "outputs": [],
   "source": [
    "# Same inference, but using the LocImpBranchProPosterior\n",
    "tau = 2\n",
    "R_t_start = tau+1\n",
    "a = 1\n",
    "b = 0.8\n",
    "\n",
    "# Run inferences for different values of epsilon\n",
    "column_names = ['Time Points', 'Mean', 'Lower bound CI', 'Upper bound CI', 'Central Probability', 'Epsilon']\n",
    "epsilon_range = np.arange(-1, 1.1, 0.2)\n",
    "chosen_times = [5, 10, 15, 20, 25, 30, 40]\n",
    "\n",
    "all_intervals = pd.DataFrame(columns=column_names)\n",
    "# Transform our incidence data into pandas dataframes\n",
    "inc_data = pd.DataFrame(\n",
    "    {\n",
    "        'Time': start_times,\n",
    "        'Incidence Number': locally_infected_cases\n",
    "    }\n",
    ")\n",
    "\n",
    "imported_inc_data = pd.DataFrame(\n",
    "    {\n",
    "        'Time': start_times,\n",
    "        'Incidence Number': imported_cases\n",
    "    }\n",
    ")\n",
    "\n",
    "for epsilon in epsilon_range:\n",
    "    inference = branchpro.LocImpBranchProPosteriorMultSI(\n",
    "        inc_data=inc_data,\n",
    "        imported_inc_data=imported_inc_data,\n",
    "        epsilon=epsilon,\n",
    "        daily_serial_intervals=serial_intervals,\n",
    "        alpha=a,\n",
    "        beta=1/b)\n",
    "\n",
    "    inference.run_inference(tau=tau)\n",
    "    intervals = inference.get_intervals(central_prob=0)\n",
    "    intervals = intervals.append(inference.get_intervals(central_prob=.25))\n",
    "    intervals = intervals.append(inference.get_intervals(central_prob=.95))\n",
    "    temp = inference.get_intervals(central_prob=.95)\n",
    "\n",
    "    intervals['Epsilon'] = [epsilon] * len(intervals.index)\n",
    "\n",
    "    intervals_chosen = pd.DataFrame(columns=intervals.columns)\n",
    "    for time_pt in chosen_times:\n",
    "        intervals_chosen = intervals_chosen.append(\n",
    "            intervals.loc[intervals['Time Points']== time_pt])\n",
    "\n",
    "    all_intervals = all_intervals.append(intervals_chosen)"
   ]
  },
  {
   "cell_type": "code",
   "execution_count": 35,
   "metadata": {},
   "outputs": [
    {
     "data": {
      "application/vnd.plotly.v1+json": {
       "config": {
        "plotlyServerURL": "https://plot.ly"
       },
       "data": [
        {
         "lowerfence": [
          0.02021416327916086,
          0.018237923504784714,
          0.016658830642700215,
          0.015271322592161601,
          0.014286146336235112,
          0.012999867531470958,
          0.01226298057008537,
          0.011476746969856325,
          0.010888560512103147,
          0.010300097381696108,
          0.00976969143375755
         ],
         "mean": [
          0.8002521991729736,
          0.7224363684654236,
          0.6614715456962585,
          0.6085973978042603,
          0.5620601177215576,
          0.5241487622261047,
          0.49169865250587463,
          0.46279630064964294,
          0.43601855635643005,
          0.4138859510421753,
          0.3927445709705353
         ],
         "median": [
          0.5539217591285706,
          0.500499039888382,
          0.45727692544460297,
          0.42092444002628326,
          0.3876075744628906,
          0.36167508363723755,
          0.339084193110466,
          0.31838351488113403,
          0.2992672324180603,
          0.28397101163864136,
          0.26878948509693146
         ],
         "name": "Day5",
         "q1": [
          0.3750280551612377,
          0.33932801708579063,
          0.3096969947218895,
          0.28514353185892105,
          0.26255257800221443,
          0.24498699977993965,
          0.2297796681523323,
          0.21565807424485683,
          0.2025193888694048,
          0.19220450334250927,
          0.18206125311553478
         ],
         "q3": [
          0.7846210077404976,
          0.7080882117152214,
          0.6479376927018166,
          0.595520943403244,
          0.5500608682632446,
          0.5116270333528519,
          0.4797680713236332,
          0.45157234743237495,
          0.4239526279270649,
          0.40228770673274994,
          0.3821670897305012
         ],
         "type": "box",
         "upperfence": [
          2.9568457543849953,
          2.6672104954719558,
          2.444934701919556,
          2.248377144336701,
          2.084661465883255,
          1.9456164807081224,
          1.831091940402985,
          1.7287087738513949,
          1.62872334420681,
          1.5509113103151322,
          1.4696413218975077
         ],
         "x": [
          "-1.0",
          "-0.8",
          "-0.6",
          "-0.4",
          "-0.2",
          "-0.0",
          "0.2",
          "0.4",
          "0.6",
          "0.8",
          "1.0"
         ]
        },
        {
         "lowerfence": [
          1.4107890486717232,
          0.5543486177921296,
          0.3427811965346338,
          0.24904462434351465,
          0.19559123925864702,
          0.16086890846490867,
          0.13665305040776732,
          0.11877512112259869,
          0.104795802757144,
          0.09396082386374474,
          0.08528648391366006
         ],
         "mean": [
          3.910804510116577,
          1.561484694480896,
          0.9770523905754089,
          0.7110936045646667,
          0.5590377449989319,
          0.4602947533130646,
          0.39154839515686035,
          0.34046655893325806,
          0.3010402023792267,
          0.2700854539871216,
          0.24477694928646088
         ],
         "median": [
          3.680759310722351,
          1.4612855315208435,
          0.9116245210170746,
          0.6627172231674194,
          0.5206708908081055,
          0.4284810721874237,
          0.36434489488601685,
          0.31673941016197205,
          0.2801187038421631,
          0.2511645257472992,
          0.22739993035793304
         ],
         "name": "Day10",
         "q1": [
          3.203634262084961,
          1.2678539752960205,
          0.7911129891872406,
          0.5744817107915878,
          0.4511747173964977,
          0.3712307922542095,
          0.31566258519887924,
          0.2741127423942089,
          0.24264821037650108,
          0.21735477820038795,
          0.1970734056085348
         ],
         "q3": [
          4.203768730163574,
          1.673687368631363,
          1.0461984276771545,
          0.7611372098326683,
          0.5980705618858337,
          0.4922657944262028,
          0.4182840846478939,
          0.3640024960041046,
          0.32191817834973335,
          0.2886209301650524,
          0.26150595396757126
         ],
         "type": "box",
         "upperfence": [
          7.720207774639131,
          3.141253340244294,
          1.9806411296129227,
          1.447078949213029,
          1.1414320468902595,
          0.941142825782299,
          0.8017343416810037,
          0.6991734102368355,
          0.6169793337583543,
          0.5542208448052407,
          0.5021870464086533
         ],
         "x": [
          "-1.0",
          "-0.8",
          "-0.6",
          "-0.4",
          "-0.2",
          "-0.0",
          "0.2",
          "0.4",
          "0.6",
          "0.8",
          "1.0"
         ]
        },
        {
         "lowerfence": [
          2.3308927893638614,
          0.9072490677237511,
          0.5633545503020286,
          0.40812369659543035,
          0.32027570679783823,
          0.26343969702720643,
          0.22377204485237603,
          0.19444678612053398,
          0.17178341522812843,
          0.15401735045015813,
          0.13955579027533535
         ],
         "mean": [
          3.6850979328155518,
          1.4630135297775269,
          0.913330614566803,
          0.6637893319129944,
          0.5213721990585327,
          0.42924919724464417,
          0.36474961042404175,
          0.31708088517189026,
          0.2804781198501587,
          0.25159579515457153,
          0.22779247164726257
         ],
         "median": [
          3.6170839071273804,
          1.4320250153541565,
          0.8935548663139343,
          0.6491380035877228,
          0.5097394287586212,
          0.4195541590452194,
          0.356470063328743,
          0.30990397930145264,
          0.2741033732891083,
          0.2458677738904953,
          0.222591832280159
         ],
         "name": "Day15",
         "q1": [
          3.376429945230484,
          1.3330118209123611,
          0.830962635576725,
          0.6034453362226486,
          0.4735499285161495,
          0.3897487223148346,
          0.33120695129036903,
          0.28797732666134834,
          0.2545789144933224,
          0.22838982939720154,
          0.20680365525186062
         ],
         "q3": [
          3.871269077062607,
          1.5377491414546967,
          0.9599589258432388,
          0.697714775800705,
          0.5481447204947472,
          0.45134295523166656,
          0.38338135927915573,
          0.3333937041461468,
          0.29486873373389244,
          0.26450005173683167,
          0.23942821845412254
         ],
         "type": "box",
         "upperfence": [
          5.427338743209839,
          2.1935058593750005,
          1.3767623364925385,
          1.0028693705797198,
          0.7887678354978562,
          0.649946391582489,
          0.552882444858551,
          0.4808411933481693,
          0.4253742426633835,
          0.38150903135538106,
          0.3458067022264004
         ],
         "x": [
          "-1.0",
          "-0.8",
          "-0.6",
          "-0.4",
          "-0.2",
          "-0.0",
          "0.2",
          "0.4",
          "0.6",
          "0.8",
          "1.0"
         ]
        },
        {
         "lowerfence": [
          1.1175050795078278,
          0.6073290243744852,
          0.41624652296304704,
          0.31635425686836244,
          0.2551033467054367,
          0.21374039612710477,
          0.18396537862718107,
          0.16146693192422393,
          0.14388693459331992,
          0.12966582104563712,
          0.118145501986146
         ],
         "mean": [
          1.5767534971237183,
          0.838275671005249,
          0.5710812211036682,
          0.43313080072402954,
          0.34886622428894043,
          0.2920474708080292,
          0.2510899007320404,
          0.22026485204696655,
          0.19614063203334808,
          0.17683064937591553,
          0.16095152497291565
         ],
         "median": [
          1.552693247795105,
          0.8282682001590729,
          0.5647952258586884,
          0.4286049157381058,
          0.345318540930748,
          0.2891100198030472,
          0.24859225004911423,
          0.21808961778879166,
          0.1941833570599556,
          0.17508409172296524,
          0.15936655551195145
         ],
         "name": "Day20",
         "q1": [
          1.472175419330597,
          0.7882581204175949,
          0.5378430634737015,
          0.40833065658807755,
          0.32907192036509514,
          0.2754714787006378,
          0.23688997700810432,
          0.20789910852909088,
          0.18511427380144596,
          0.16689865291118622,
          0.15192866139113903
         ],
         "q3": [
          1.6385731101036072,
          0.8703948259353638,
          0.5930015966296196,
          0.449710488319397,
          0.3622318431735039,
          0.3032839521765709,
          0.26072271168231964,
          0.22866734489798546,
          0.20363399013876915,
          0.18361699022352695,
          0.16711916215717793
         ],
         "type": "box",
         "upperfence": [
          2.1715537428855898,
          1.1261225014925003,
          0.761701837182045,
          0.576094651222229,
          0.46318901479244234,
          0.3873460255563259,
          0.3327965907752514,
          0.2917381562292576,
          0.2595327816903591,
          0.2340845685452224,
          0.2129216242581606
         ],
         "x": [
          "-1.0",
          "-0.8",
          "-0.6",
          "-0.4",
          "-0.2",
          "-0.0",
          "0.2",
          "0.4",
          "0.6",
          "0.8",
          "1.0"
         ]
        },
        {
         "lowerfence": [
          1.3604936331510544,
          0.8689836725592615,
          0.6378743931651115,
          0.5037855356931686,
          0.4165060326457024,
          0.35509027615189553,
          0.3092814102768899,
          0.273855309188366,
          0.24583443887531758,
          0.2229217942804098,
          0.20400988273322582
         ],
         "mean": [
          1.7056819200515747,
          1.0844818353652954,
          0.7949949502944946,
          0.627531886100769,
          0.5183753967285156,
          0.44165778160095215,
          0.38460153341293335,
          0.3405887484550476,
          0.305636465549469,
          0.2771722674369812,
          0.25363829731941223
         ],
         "median": [
          1.6970221400260925,
          1.0796767473220825,
          0.7916232645511627,
          0.6248798072338104,
          0.5162765681743622,
          0.4399506598711014,
          0.3830556273460388,
          0.33919522166252136,
          0.30438992381095886,
          0.27609412372112274,
          0.25264525413513184
         ],
         "name": "Day25",
         "q1": [
          1.637844130396843,
          1.0430552065372467,
          0.7649660184979439,
          0.6039519682526588,
          0.499021302908659,
          0.425255186855793,
          0.37026530876755714,
          0.3279373086988926,
          0.2942711263895035,
          0.2668917551636696,
          0.24424805119633675
         ],
         "q3": [
          1.7575553357601166,
          1.1172824800014496,
          0.8190420344471931,
          0.6463493928313255,
          0.5339384078979492,
          0.45495204627513885,
          0.3961474895477295,
          0.35082270950078964,
          0.31482016295194626,
          0.28552472591400146,
          0.26123930141329765
         ],
         "type": "box",
         "upperfence": [
          2.100063109397888,
          1.3272259443998338,
          0.9714600026607515,
          0.7661104068160057,
          0.6323496714234352,
          0.5383638873696327,
          0.4688333928585052,
          0.41524860039353373,
          0.37257712185382846,
          0.33766678944230083,
          0.3088948227465153
         ],
         "x": [
          "-1.0",
          "-0.8",
          "-0.6",
          "-0.4",
          "-0.2",
          "-0.0",
          "0.2",
          "0.4",
          "0.6",
          "0.8",
          "1.0"
         ]
        },
        {
         "lowerfence": [
          0.5060509815812111,
          0.38669373020529746,
          0.3127376601099968,
          0.26221124157309533,
          0.226022132858634,
          0.19816621616482738,
          0.17663484737277033,
          0.15936921052634717,
          0.14508347511291506,
          0.13312273211777212,
          0.12304474953562021
         ],
         "mean": [
          0.6802512407302856,
          0.5181975960731506,
          0.4187890589237213,
          0.3511468172073364,
          0.3025614023208618,
          0.2657172381877899,
          0.23691263794898987,
          0.21368728578090668,
          0.1946602463722229,
          0.1786971390247345,
          0.16519510746002197
         ],
         "median": [
          0.6751097142696381,
          0.5145811140537262,
          0.4158424884080887,
          0.3486623615026474,
          0.3004506677389145,
          0.26386769115924835,
          0.23524576425552368,
          0.2122100591659546,
          0.19329899549484253,
          0.1774231344461441,
          0.1640441045165062
         ],
         "name": "Day30",
         "q1": [
          0.6451124250888824,
          0.49191704019904137,
          0.3976023569703102,
          0.33339764550328255,
          0.28723372146487236,
          0.25226518139243126,
          0.22491462901234627,
          0.20283296704292297,
          0.18477551639080048,
          0.1695859469473362,
          0.1567562222480774
         ],
         "q3": [
          0.7062650173902512,
          0.5378610342741013,
          0.43459754809737206,
          0.364469438791275,
          0.31400318071246147,
          0.2758062109351158,
          0.24592460319399834,
          0.22181233018636703,
          0.20207155868411064,
          0.1855114158242941,
          0.17151238955557346
         ],
         "type": "box",
         "upperfence": [
          0.8836569383740427,
          0.6702004075050354,
          0.5412314057350158,
          0.4542513005435467,
          0.39113116636872297,
          0.3436904899775982,
          0.30655939504504204,
          0.27650160789489747,
          0.2521161869168282,
          0.2315488860011101,
          0.21422899514436722
         ],
         "x": [
          "-1.0",
          "-0.8",
          "-0.6",
          "-0.4",
          "-0.2",
          "-0.0",
          "0.2",
          "0.4",
          "0.6",
          "0.8",
          "1.0"
         ]
        },
        {
         "lowerfence": [
          0.49065052792429925,
          0.3943609490990639,
          0.32964251190423965,
          0.2825004883110524,
          0.24833743907511235,
          0.22082051560282706,
          0.19899713285267354,
          0.18103305585682392,
          0.1658796899020672,
          0.15324342176318168,
          0.14245964549481868
         ],
         "mean": [
          0.817811131477356,
          0.6597768664360046,
          0.5530424118041992,
          0.47594642639160156,
          0.41788890957832336,
          0.372171014547348,
          0.33573299646377563,
          0.305586040019989,
          0.280593603849411,
          0.25933215022087097,
          0.24096202850341797
         ],
         "median": [
          0.8017545938491821,
          0.6468381881713867,
          0.5421802997589111,
          0.4665267765522003,
          0.4096192270517349,
          0.36464907228946686,
          0.329043909907341,
          0.2994590997695923,
          0.27492189407348633,
          0.2540881633758545,
          0.2361348271369934
         ],
         "name": "Day40",
         "q1": [
          0.7434857189655304,
          0.5993838161230087,
          0.5020406767725945,
          0.4320034980773926,
          0.3792308084666729,
          0.3376028873026371,
          0.3045736998319626,
          0.2771170809864998,
          0.2544766552746296,
          0.23517906107008457,
          0.2184610553085804
         ],
         "q3": [
          0.8634719625115395,
          0.6968309506773949,
          0.5842712819576263,
          0.502988338470459,
          0.44158004596829414,
          0.393165972083807,
          0.3549303524196148,
          0.32311419770121574,
          0.29657990112900734,
          0.2741495221853256,
          0.25477316603064537
         ],
         "type": "box",
         "upperfence": [
          1.2350281178951268,
          0.9986013412475586,
          0.8385532766580582,
          0.7230450049042701,
          0.6349944546818733,
          0.5659452825784683,
          0.5104308143258095,
          0.4650956809520722,
          0.42750089243054396,
          0.39518015831708914,
          0.36690419837832455
         ],
         "x": [
          "-1.0",
          "-0.8",
          "-0.6",
          "-0.4",
          "-0.2",
          "-0.0",
          "0.2",
          "0.4",
          "0.6",
          "0.8",
          "1.0"
         ]
        }
       ],
       "layout": {
        "boxmode": "group",
        "template": {
         "data": {
          "bar": [
           {
            "error_x": {
             "color": "#2a3f5f"
            },
            "error_y": {
             "color": "#2a3f5f"
            },
            "marker": {
             "line": {
              "color": "#E5ECF6",
              "width": 0.5
             }
            },
            "type": "bar"
           }
          ],
          "barpolar": [
           {
            "marker": {
             "line": {
              "color": "#E5ECF6",
              "width": 0.5
             }
            },
            "type": "barpolar"
           }
          ],
          "carpet": [
           {
            "aaxis": {
             "endlinecolor": "#2a3f5f",
             "gridcolor": "white",
             "linecolor": "white",
             "minorgridcolor": "white",
             "startlinecolor": "#2a3f5f"
            },
            "baxis": {
             "endlinecolor": "#2a3f5f",
             "gridcolor": "white",
             "linecolor": "white",
             "minorgridcolor": "white",
             "startlinecolor": "#2a3f5f"
            },
            "type": "carpet"
           }
          ],
          "choropleth": [
           {
            "colorbar": {
             "outlinewidth": 0,
             "ticks": ""
            },
            "type": "choropleth"
           }
          ],
          "contour": [
           {
            "colorbar": {
             "outlinewidth": 0,
             "ticks": ""
            },
            "colorscale": [
             [
              0,
              "#0d0887"
             ],
             [
              0.1111111111111111,
              "#46039f"
             ],
             [
              0.2222222222222222,
              "#7201a8"
             ],
             [
              0.3333333333333333,
              "#9c179e"
             ],
             [
              0.4444444444444444,
              "#bd3786"
             ],
             [
              0.5555555555555556,
              "#d8576b"
             ],
             [
              0.6666666666666666,
              "#ed7953"
             ],
             [
              0.7777777777777778,
              "#fb9f3a"
             ],
             [
              0.8888888888888888,
              "#fdca26"
             ],
             [
              1,
              "#f0f921"
             ]
            ],
            "type": "contour"
           }
          ],
          "contourcarpet": [
           {
            "colorbar": {
             "outlinewidth": 0,
             "ticks": ""
            },
            "type": "contourcarpet"
           }
          ],
          "heatmap": [
           {
            "colorbar": {
             "outlinewidth": 0,
             "ticks": ""
            },
            "colorscale": [
             [
              0,
              "#0d0887"
             ],
             [
              0.1111111111111111,
              "#46039f"
             ],
             [
              0.2222222222222222,
              "#7201a8"
             ],
             [
              0.3333333333333333,
              "#9c179e"
             ],
             [
              0.4444444444444444,
              "#bd3786"
             ],
             [
              0.5555555555555556,
              "#d8576b"
             ],
             [
              0.6666666666666666,
              "#ed7953"
             ],
             [
              0.7777777777777778,
              "#fb9f3a"
             ],
             [
              0.8888888888888888,
              "#fdca26"
             ],
             [
              1,
              "#f0f921"
             ]
            ],
            "type": "heatmap"
           }
          ],
          "heatmapgl": [
           {
            "colorbar": {
             "outlinewidth": 0,
             "ticks": ""
            },
            "colorscale": [
             [
              0,
              "#0d0887"
             ],
             [
              0.1111111111111111,
              "#46039f"
             ],
             [
              0.2222222222222222,
              "#7201a8"
             ],
             [
              0.3333333333333333,
              "#9c179e"
             ],
             [
              0.4444444444444444,
              "#bd3786"
             ],
             [
              0.5555555555555556,
              "#d8576b"
             ],
             [
              0.6666666666666666,
              "#ed7953"
             ],
             [
              0.7777777777777778,
              "#fb9f3a"
             ],
             [
              0.8888888888888888,
              "#fdca26"
             ],
             [
              1,
              "#f0f921"
             ]
            ],
            "type": "heatmapgl"
           }
          ],
          "histogram": [
           {
            "marker": {
             "colorbar": {
              "outlinewidth": 0,
              "ticks": ""
             }
            },
            "type": "histogram"
           }
          ],
          "histogram2d": [
           {
            "colorbar": {
             "outlinewidth": 0,
             "ticks": ""
            },
            "colorscale": [
             [
              0,
              "#0d0887"
             ],
             [
              0.1111111111111111,
              "#46039f"
             ],
             [
              0.2222222222222222,
              "#7201a8"
             ],
             [
              0.3333333333333333,
              "#9c179e"
             ],
             [
              0.4444444444444444,
              "#bd3786"
             ],
             [
              0.5555555555555556,
              "#d8576b"
             ],
             [
              0.6666666666666666,
              "#ed7953"
             ],
             [
              0.7777777777777778,
              "#fb9f3a"
             ],
             [
              0.8888888888888888,
              "#fdca26"
             ],
             [
              1,
              "#f0f921"
             ]
            ],
            "type": "histogram2d"
           }
          ],
          "histogram2dcontour": [
           {
            "colorbar": {
             "outlinewidth": 0,
             "ticks": ""
            },
            "colorscale": [
             [
              0,
              "#0d0887"
             ],
             [
              0.1111111111111111,
              "#46039f"
             ],
             [
              0.2222222222222222,
              "#7201a8"
             ],
             [
              0.3333333333333333,
              "#9c179e"
             ],
             [
              0.4444444444444444,
              "#bd3786"
             ],
             [
              0.5555555555555556,
              "#d8576b"
             ],
             [
              0.6666666666666666,
              "#ed7953"
             ],
             [
              0.7777777777777778,
              "#fb9f3a"
             ],
             [
              0.8888888888888888,
              "#fdca26"
             ],
             [
              1,
              "#f0f921"
             ]
            ],
            "type": "histogram2dcontour"
           }
          ],
          "mesh3d": [
           {
            "colorbar": {
             "outlinewidth": 0,
             "ticks": ""
            },
            "type": "mesh3d"
           }
          ],
          "parcoords": [
           {
            "line": {
             "colorbar": {
              "outlinewidth": 0,
              "ticks": ""
             }
            },
            "type": "parcoords"
           }
          ],
          "pie": [
           {
            "automargin": true,
            "type": "pie"
           }
          ],
          "scatter": [
           {
            "marker": {
             "colorbar": {
              "outlinewidth": 0,
              "ticks": ""
             }
            },
            "type": "scatter"
           }
          ],
          "scatter3d": [
           {
            "line": {
             "colorbar": {
              "outlinewidth": 0,
              "ticks": ""
             }
            },
            "marker": {
             "colorbar": {
              "outlinewidth": 0,
              "ticks": ""
             }
            },
            "type": "scatter3d"
           }
          ],
          "scattercarpet": [
           {
            "marker": {
             "colorbar": {
              "outlinewidth": 0,
              "ticks": ""
             }
            },
            "type": "scattercarpet"
           }
          ],
          "scattergeo": [
           {
            "marker": {
             "colorbar": {
              "outlinewidth": 0,
              "ticks": ""
             }
            },
            "type": "scattergeo"
           }
          ],
          "scattergl": [
           {
            "marker": {
             "colorbar": {
              "outlinewidth": 0,
              "ticks": ""
             }
            },
            "type": "scattergl"
           }
          ],
          "scattermapbox": [
           {
            "marker": {
             "colorbar": {
              "outlinewidth": 0,
              "ticks": ""
             }
            },
            "type": "scattermapbox"
           }
          ],
          "scatterpolar": [
           {
            "marker": {
             "colorbar": {
              "outlinewidth": 0,
              "ticks": ""
             }
            },
            "type": "scatterpolar"
           }
          ],
          "scatterpolargl": [
           {
            "marker": {
             "colorbar": {
              "outlinewidth": 0,
              "ticks": ""
             }
            },
            "type": "scatterpolargl"
           }
          ],
          "scatterternary": [
           {
            "marker": {
             "colorbar": {
              "outlinewidth": 0,
              "ticks": ""
             }
            },
            "type": "scatterternary"
           }
          ],
          "surface": [
           {
            "colorbar": {
             "outlinewidth": 0,
             "ticks": ""
            },
            "colorscale": [
             [
              0,
              "#0d0887"
             ],
             [
              0.1111111111111111,
              "#46039f"
             ],
             [
              0.2222222222222222,
              "#7201a8"
             ],
             [
              0.3333333333333333,
              "#9c179e"
             ],
             [
              0.4444444444444444,
              "#bd3786"
             ],
             [
              0.5555555555555556,
              "#d8576b"
             ],
             [
              0.6666666666666666,
              "#ed7953"
             ],
             [
              0.7777777777777778,
              "#fb9f3a"
             ],
             [
              0.8888888888888888,
              "#fdca26"
             ],
             [
              1,
              "#f0f921"
             ]
            ],
            "type": "surface"
           }
          ],
          "table": [
           {
            "cells": {
             "fill": {
              "color": "#EBF0F8"
             },
             "line": {
              "color": "white"
             }
            },
            "header": {
             "fill": {
              "color": "#C8D4E3"
             },
             "line": {
              "color": "white"
             }
            },
            "type": "table"
           }
          ]
         },
         "layout": {
          "annotationdefaults": {
           "arrowcolor": "#2a3f5f",
           "arrowhead": 0,
           "arrowwidth": 1
          },
          "autotypenumbers": "strict",
          "coloraxis": {
           "colorbar": {
            "outlinewidth": 0,
            "ticks": ""
           }
          },
          "colorscale": {
           "diverging": [
            [
             0,
             "#8e0152"
            ],
            [
             0.1,
             "#c51b7d"
            ],
            [
             0.2,
             "#de77ae"
            ],
            [
             0.3,
             "#f1b6da"
            ],
            [
             0.4,
             "#fde0ef"
            ],
            [
             0.5,
             "#f7f7f7"
            ],
            [
             0.6,
             "#e6f5d0"
            ],
            [
             0.7,
             "#b8e186"
            ],
            [
             0.8,
             "#7fbc41"
            ],
            [
             0.9,
             "#4d9221"
            ],
            [
             1,
             "#276419"
            ]
           ],
           "sequential": [
            [
             0,
             "#0d0887"
            ],
            [
             0.1111111111111111,
             "#46039f"
            ],
            [
             0.2222222222222222,
             "#7201a8"
            ],
            [
             0.3333333333333333,
             "#9c179e"
            ],
            [
             0.4444444444444444,
             "#bd3786"
            ],
            [
             0.5555555555555556,
             "#d8576b"
            ],
            [
             0.6666666666666666,
             "#ed7953"
            ],
            [
             0.7777777777777778,
             "#fb9f3a"
            ],
            [
             0.8888888888888888,
             "#fdca26"
            ],
            [
             1,
             "#f0f921"
            ]
           ],
           "sequentialminus": [
            [
             0,
             "#0d0887"
            ],
            [
             0.1111111111111111,
             "#46039f"
            ],
            [
             0.2222222222222222,
             "#7201a8"
            ],
            [
             0.3333333333333333,
             "#9c179e"
            ],
            [
             0.4444444444444444,
             "#bd3786"
            ],
            [
             0.5555555555555556,
             "#d8576b"
            ],
            [
             0.6666666666666666,
             "#ed7953"
            ],
            [
             0.7777777777777778,
             "#fb9f3a"
            ],
            [
             0.8888888888888888,
             "#fdca26"
            ],
            [
             1,
             "#f0f921"
            ]
           ]
          },
          "colorway": [
           "#636efa",
           "#EF553B",
           "#00cc96",
           "#ab63fa",
           "#FFA15A",
           "#19d3f3",
           "#FF6692",
           "#B6E880",
           "#FF97FF",
           "#FECB52"
          ],
          "font": {
           "color": "#2a3f5f"
          },
          "geo": {
           "bgcolor": "white",
           "lakecolor": "white",
           "landcolor": "#E5ECF6",
           "showlakes": true,
           "showland": true,
           "subunitcolor": "white"
          },
          "hoverlabel": {
           "align": "left"
          },
          "hovermode": "closest",
          "mapbox": {
           "style": "light"
          },
          "paper_bgcolor": "white",
          "plot_bgcolor": "#E5ECF6",
          "polar": {
           "angularaxis": {
            "gridcolor": "white",
            "linecolor": "white",
            "ticks": ""
           },
           "bgcolor": "#E5ECF6",
           "radialaxis": {
            "gridcolor": "white",
            "linecolor": "white",
            "ticks": ""
           }
          },
          "scene": {
           "xaxis": {
            "backgroundcolor": "#E5ECF6",
            "gridcolor": "white",
            "gridwidth": 2,
            "linecolor": "white",
            "showbackground": true,
            "ticks": "",
            "zerolinecolor": "white"
           },
           "yaxis": {
            "backgroundcolor": "#E5ECF6",
            "gridcolor": "white",
            "gridwidth": 2,
            "linecolor": "white",
            "showbackground": true,
            "ticks": "",
            "zerolinecolor": "white"
           },
           "zaxis": {
            "backgroundcolor": "#E5ECF6",
            "gridcolor": "white",
            "gridwidth": 2,
            "linecolor": "white",
            "showbackground": true,
            "ticks": "",
            "zerolinecolor": "white"
           }
          },
          "shapedefaults": {
           "line": {
            "color": "#2a3f5f"
           }
          },
          "ternary": {
           "aaxis": {
            "gridcolor": "white",
            "linecolor": "white",
            "ticks": ""
           },
           "baxis": {
            "gridcolor": "white",
            "linecolor": "white",
            "ticks": ""
           },
           "bgcolor": "#E5ECF6",
           "caxis": {
            "gridcolor": "white",
            "linecolor": "white",
            "ticks": ""
           }
          },
          "title": {
           "x": 0.05
          },
          "xaxis": {
           "automargin": true,
           "gridcolor": "white",
           "linecolor": "white",
           "ticks": "",
           "title": {
            "standoff": 15
           },
           "zerolinecolor": "white",
           "zerolinewidth": 2
          },
          "yaxis": {
           "automargin": true,
           "gridcolor": "white",
           "linecolor": "white",
           "ticks": "",
           "title": {
            "standoff": 15
           },
           "zerolinecolor": "white",
           "zerolinewidth": 2
          }
         }
        },
        "title": {
         "text": "ON"
        }
       }
      },
      "text/html": [
       "<div>                            <div id=\"e5e0ebeb-915c-4a22-bbca-232dfb1b264f\" class=\"plotly-graph-div\" style=\"height:525px; width:100%;\"></div>            <script type=\"text/javascript\">                require([\"plotly\"], function(Plotly) {                    window.PLOTLYENV=window.PLOTLYENV || {};                                    if (document.getElementById(\"e5e0ebeb-915c-4a22-bbca-232dfb1b264f\")) {                    Plotly.newPlot(                        \"e5e0ebeb-915c-4a22-bbca-232dfb1b264f\",                        [{\"lowerfence\": [0.02021416327916086, 0.018237923504784714, 0.016658830642700215, 0.015271322592161601, 0.014286146336235112, 0.012999867531470958, 0.01226298057008537, 0.011476746969856325, 0.010888560512103147, 0.010300097381696108, 0.00976969143375755], \"mean\": [0.8002521991729736, 0.7224363684654236, 0.6614715456962585, 0.6085973978042603, 0.5620601177215576, 0.5241487622261047, 0.49169865250587463, 0.46279630064964294, 0.43601855635643005, 0.4138859510421753, 0.3927445709705353], \"median\": [0.5539217591285706, 0.500499039888382, 0.45727692544460297, 0.42092444002628326, 0.3876075744628906, 0.36167508363723755, 0.339084193110466, 0.31838351488113403, 0.2992672324180603, 0.28397101163864136, 0.26878948509693146], \"name\": \"Day5\", \"q1\": [0.3750280551612377, 0.33932801708579063, 0.3096969947218895, 0.28514353185892105, 0.26255257800221443, 0.24498699977993965, 0.2297796681523323, 0.21565807424485683, 0.2025193888694048, 0.19220450334250927, 0.18206125311553478], \"q3\": [0.7846210077404976, 0.7080882117152214, 0.6479376927018166, 0.595520943403244, 0.5500608682632446, 0.5116270333528519, 0.4797680713236332, 0.45157234743237495, 0.4239526279270649, 0.40228770673274994, 0.3821670897305012], \"type\": \"box\", \"upperfence\": [2.9568457543849953, 2.6672104954719558, 2.444934701919556, 2.248377144336701, 2.084661465883255, 1.9456164807081224, 1.831091940402985, 1.7287087738513949, 1.62872334420681, 1.5509113103151322, 1.4696413218975077], \"x\": [\"-1.0\", \"-0.8\", \"-0.6\", \"-0.4\", \"-0.2\", \"-0.0\", \"0.2\", \"0.4\", \"0.6\", \"0.8\", \"1.0\"]}, {\"lowerfence\": [1.4107890486717232, 0.5543486177921296, 0.3427811965346338, 0.24904462434351465, 0.19559123925864702, 0.16086890846490867, 0.13665305040776732, 0.11877512112259869, 0.104795802757144, 0.09396082386374474, 0.08528648391366006], \"mean\": [3.910804510116577, 1.561484694480896, 0.9770523905754089, 0.7110936045646667, 0.5590377449989319, 0.4602947533130646, 0.39154839515686035, 0.34046655893325806, 0.3010402023792267, 0.2700854539871216, 0.24477694928646088], \"median\": [3.680759310722351, 1.4612855315208435, 0.9116245210170746, 0.6627172231674194, 0.5206708908081055, 0.4284810721874237, 0.36434489488601685, 0.31673941016197205, 0.2801187038421631, 0.2511645257472992, 0.22739993035793304], \"name\": \"Day10\", \"q1\": [3.203634262084961, 1.2678539752960205, 0.7911129891872406, 0.5744817107915878, 0.4511747173964977, 0.3712307922542095, 0.31566258519887924, 0.2741127423942089, 0.24264821037650108, 0.21735477820038795, 0.1970734056085348], \"q3\": [4.203768730163574, 1.673687368631363, 1.0461984276771545, 0.7611372098326683, 0.5980705618858337, 0.4922657944262028, 0.4182840846478939, 0.3640024960041046, 0.32191817834973335, 0.2886209301650524, 0.26150595396757126], \"type\": \"box\", \"upperfence\": [7.720207774639131, 3.141253340244294, 1.9806411296129227, 1.447078949213029, 1.1414320468902595, 0.941142825782299, 0.8017343416810037, 0.6991734102368355, 0.6169793337583543, 0.5542208448052407, 0.5021870464086533], \"x\": [\"-1.0\", \"-0.8\", \"-0.6\", \"-0.4\", \"-0.2\", \"-0.0\", \"0.2\", \"0.4\", \"0.6\", \"0.8\", \"1.0\"]}, {\"lowerfence\": [2.3308927893638614, 0.9072490677237511, 0.5633545503020286, 0.40812369659543035, 0.32027570679783823, 0.26343969702720643, 0.22377204485237603, 0.19444678612053398, 0.17178341522812843, 0.15401735045015813, 0.13955579027533535], \"mean\": [3.6850979328155518, 1.4630135297775269, 0.913330614566803, 0.6637893319129944, 0.5213721990585327, 0.42924919724464417, 0.36474961042404175, 0.31708088517189026, 0.2804781198501587, 0.25159579515457153, 0.22779247164726257], \"median\": [3.6170839071273804, 1.4320250153541565, 0.8935548663139343, 0.6491380035877228, 0.5097394287586212, 0.4195541590452194, 0.356470063328743, 0.30990397930145264, 0.2741033732891083, 0.2458677738904953, 0.222591832280159], \"name\": \"Day15\", \"q1\": [3.376429945230484, 1.3330118209123611, 0.830962635576725, 0.6034453362226486, 0.4735499285161495, 0.3897487223148346, 0.33120695129036903, 0.28797732666134834, 0.2545789144933224, 0.22838982939720154, 0.20680365525186062], \"q3\": [3.871269077062607, 1.5377491414546967, 0.9599589258432388, 0.697714775800705, 0.5481447204947472, 0.45134295523166656, 0.38338135927915573, 0.3333937041461468, 0.29486873373389244, 0.26450005173683167, 0.23942821845412254], \"type\": \"box\", \"upperfence\": [5.427338743209839, 2.1935058593750005, 1.3767623364925385, 1.0028693705797198, 0.7887678354978562, 0.649946391582489, 0.552882444858551, 0.4808411933481693, 0.4253742426633835, 0.38150903135538106, 0.3458067022264004], \"x\": [\"-1.0\", \"-0.8\", \"-0.6\", \"-0.4\", \"-0.2\", \"-0.0\", \"0.2\", \"0.4\", \"0.6\", \"0.8\", \"1.0\"]}, {\"lowerfence\": [1.1175050795078278, 0.6073290243744852, 0.41624652296304704, 0.31635425686836244, 0.2551033467054367, 0.21374039612710477, 0.18396537862718107, 0.16146693192422393, 0.14388693459331992, 0.12966582104563712, 0.118145501986146], \"mean\": [1.5767534971237183, 0.838275671005249, 0.5710812211036682, 0.43313080072402954, 0.34886622428894043, 0.2920474708080292, 0.2510899007320404, 0.22026485204696655, 0.19614063203334808, 0.17683064937591553, 0.16095152497291565], \"median\": [1.552693247795105, 0.8282682001590729, 0.5647952258586884, 0.4286049157381058, 0.345318540930748, 0.2891100198030472, 0.24859225004911423, 0.21808961778879166, 0.1941833570599556, 0.17508409172296524, 0.15936655551195145], \"name\": \"Day20\", \"q1\": [1.472175419330597, 0.7882581204175949, 0.5378430634737015, 0.40833065658807755, 0.32907192036509514, 0.2754714787006378, 0.23688997700810432, 0.20789910852909088, 0.18511427380144596, 0.16689865291118622, 0.15192866139113903], \"q3\": [1.6385731101036072, 0.8703948259353638, 0.5930015966296196, 0.449710488319397, 0.3622318431735039, 0.3032839521765709, 0.26072271168231964, 0.22866734489798546, 0.20363399013876915, 0.18361699022352695, 0.16711916215717793], \"type\": \"box\", \"upperfence\": [2.1715537428855898, 1.1261225014925003, 0.761701837182045, 0.576094651222229, 0.46318901479244234, 0.3873460255563259, 0.3327965907752514, 0.2917381562292576, 0.2595327816903591, 0.2340845685452224, 0.2129216242581606], \"x\": [\"-1.0\", \"-0.8\", \"-0.6\", \"-0.4\", \"-0.2\", \"-0.0\", \"0.2\", \"0.4\", \"0.6\", \"0.8\", \"1.0\"]}, {\"lowerfence\": [1.3604936331510544, 0.8689836725592615, 0.6378743931651115, 0.5037855356931686, 0.4165060326457024, 0.35509027615189553, 0.3092814102768899, 0.273855309188366, 0.24583443887531758, 0.2229217942804098, 0.20400988273322582], \"mean\": [1.7056819200515747, 1.0844818353652954, 0.7949949502944946, 0.627531886100769, 0.5183753967285156, 0.44165778160095215, 0.38460153341293335, 0.3405887484550476, 0.305636465549469, 0.2771722674369812, 0.25363829731941223], \"median\": [1.6970221400260925, 1.0796767473220825, 0.7916232645511627, 0.6248798072338104, 0.5162765681743622, 0.4399506598711014, 0.3830556273460388, 0.33919522166252136, 0.30438992381095886, 0.27609412372112274, 0.25264525413513184], \"name\": \"Day25\", \"q1\": [1.637844130396843, 1.0430552065372467, 0.7649660184979439, 0.6039519682526588, 0.499021302908659, 0.425255186855793, 0.37026530876755714, 0.3279373086988926, 0.2942711263895035, 0.2668917551636696, 0.24424805119633675], \"q3\": [1.7575553357601166, 1.1172824800014496, 0.8190420344471931, 0.6463493928313255, 0.5339384078979492, 0.45495204627513885, 0.3961474895477295, 0.35082270950078964, 0.31482016295194626, 0.28552472591400146, 0.26123930141329765], \"type\": \"box\", \"upperfence\": [2.100063109397888, 1.3272259443998338, 0.9714600026607515, 0.7661104068160057, 0.6323496714234352, 0.5383638873696327, 0.4688333928585052, 0.41524860039353373, 0.37257712185382846, 0.33766678944230083, 0.3088948227465153], \"x\": [\"-1.0\", \"-0.8\", \"-0.6\", \"-0.4\", \"-0.2\", \"-0.0\", \"0.2\", \"0.4\", \"0.6\", \"0.8\", \"1.0\"]}, {\"lowerfence\": [0.5060509815812111, 0.38669373020529746, 0.3127376601099968, 0.26221124157309533, 0.226022132858634, 0.19816621616482738, 0.17663484737277033, 0.15936921052634717, 0.14508347511291506, 0.13312273211777212, 0.12304474953562021], \"mean\": [0.6802512407302856, 0.5181975960731506, 0.4187890589237213, 0.3511468172073364, 0.3025614023208618, 0.2657172381877899, 0.23691263794898987, 0.21368728578090668, 0.1946602463722229, 0.1786971390247345, 0.16519510746002197], \"median\": [0.6751097142696381, 0.5145811140537262, 0.4158424884080887, 0.3486623615026474, 0.3004506677389145, 0.26386769115924835, 0.23524576425552368, 0.2122100591659546, 0.19329899549484253, 0.1774231344461441, 0.1640441045165062], \"name\": \"Day30\", \"q1\": [0.6451124250888824, 0.49191704019904137, 0.3976023569703102, 0.33339764550328255, 0.28723372146487236, 0.25226518139243126, 0.22491462901234627, 0.20283296704292297, 0.18477551639080048, 0.1695859469473362, 0.1567562222480774], \"q3\": [0.7062650173902512, 0.5378610342741013, 0.43459754809737206, 0.364469438791275, 0.31400318071246147, 0.2758062109351158, 0.24592460319399834, 0.22181233018636703, 0.20207155868411064, 0.1855114158242941, 0.17151238955557346], \"type\": \"box\", \"upperfence\": [0.8836569383740427, 0.6702004075050354, 0.5412314057350158, 0.4542513005435467, 0.39113116636872297, 0.3436904899775982, 0.30655939504504204, 0.27650160789489747, 0.2521161869168282, 0.2315488860011101, 0.21422899514436722], \"x\": [\"-1.0\", \"-0.8\", \"-0.6\", \"-0.4\", \"-0.2\", \"-0.0\", \"0.2\", \"0.4\", \"0.6\", \"0.8\", \"1.0\"]}, {\"lowerfence\": [0.49065052792429925, 0.3943609490990639, 0.32964251190423965, 0.2825004883110524, 0.24833743907511235, 0.22082051560282706, 0.19899713285267354, 0.18103305585682392, 0.1658796899020672, 0.15324342176318168, 0.14245964549481868], \"mean\": [0.817811131477356, 0.6597768664360046, 0.5530424118041992, 0.47594642639160156, 0.41788890957832336, 0.372171014547348, 0.33573299646377563, 0.305586040019989, 0.280593603849411, 0.25933215022087097, 0.24096202850341797], \"median\": [0.8017545938491821, 0.6468381881713867, 0.5421802997589111, 0.4665267765522003, 0.4096192270517349, 0.36464907228946686, 0.329043909907341, 0.2994590997695923, 0.27492189407348633, 0.2540881633758545, 0.2361348271369934], \"name\": \"Day40\", \"q1\": [0.7434857189655304, 0.5993838161230087, 0.5020406767725945, 0.4320034980773926, 0.3792308084666729, 0.3376028873026371, 0.3045736998319626, 0.2771170809864998, 0.2544766552746296, 0.23517906107008457, 0.2184610553085804], \"q3\": [0.8634719625115395, 0.6968309506773949, 0.5842712819576263, 0.502988338470459, 0.44158004596829414, 0.393165972083807, 0.3549303524196148, 0.32311419770121574, 0.29657990112900734, 0.2741495221853256, 0.25477316603064537], \"type\": \"box\", \"upperfence\": [1.2350281178951268, 0.9986013412475586, 0.8385532766580582, 0.7230450049042701, 0.6349944546818733, 0.5659452825784683, 0.5104308143258095, 0.4650956809520722, 0.42750089243054396, 0.39518015831708914, 0.36690419837832455], \"x\": [\"-1.0\", \"-0.8\", \"-0.6\", \"-0.4\", \"-0.2\", \"-0.0\", \"0.2\", \"0.4\", \"0.6\", \"0.8\", \"1.0\"]}],                        {\"boxmode\": \"group\", \"template\": {\"data\": {\"bar\": [{\"error_x\": {\"color\": \"#2a3f5f\"}, \"error_y\": {\"color\": \"#2a3f5f\"}, \"marker\": {\"line\": {\"color\": \"#E5ECF6\", \"width\": 0.5}}, \"type\": \"bar\"}], \"barpolar\": [{\"marker\": {\"line\": {\"color\": \"#E5ECF6\", \"width\": 0.5}}, \"type\": \"barpolar\"}], \"carpet\": [{\"aaxis\": {\"endlinecolor\": \"#2a3f5f\", \"gridcolor\": \"white\", \"linecolor\": \"white\", \"minorgridcolor\": \"white\", \"startlinecolor\": \"#2a3f5f\"}, \"baxis\": {\"endlinecolor\": \"#2a3f5f\", \"gridcolor\": \"white\", \"linecolor\": \"white\", \"minorgridcolor\": \"white\", \"startlinecolor\": \"#2a3f5f\"}, \"type\": \"carpet\"}], \"choropleth\": [{\"colorbar\": {\"outlinewidth\": 0, \"ticks\": \"\"}, \"type\": \"choropleth\"}], \"contour\": [{\"colorbar\": {\"outlinewidth\": 0, \"ticks\": \"\"}, \"colorscale\": [[0.0, \"#0d0887\"], [0.1111111111111111, \"#46039f\"], [0.2222222222222222, \"#7201a8\"], [0.3333333333333333, \"#9c179e\"], [0.4444444444444444, \"#bd3786\"], [0.5555555555555556, \"#d8576b\"], [0.6666666666666666, \"#ed7953\"], [0.7777777777777778, \"#fb9f3a\"], [0.8888888888888888, \"#fdca26\"], [1.0, \"#f0f921\"]], \"type\": \"contour\"}], \"contourcarpet\": [{\"colorbar\": {\"outlinewidth\": 0, \"ticks\": \"\"}, \"type\": \"contourcarpet\"}], \"heatmap\": [{\"colorbar\": {\"outlinewidth\": 0, \"ticks\": \"\"}, \"colorscale\": [[0.0, \"#0d0887\"], [0.1111111111111111, \"#46039f\"], [0.2222222222222222, \"#7201a8\"], [0.3333333333333333, \"#9c179e\"], [0.4444444444444444, \"#bd3786\"], [0.5555555555555556, \"#d8576b\"], [0.6666666666666666, \"#ed7953\"], [0.7777777777777778, \"#fb9f3a\"], [0.8888888888888888, \"#fdca26\"], [1.0, \"#f0f921\"]], \"type\": \"heatmap\"}], \"heatmapgl\": [{\"colorbar\": {\"outlinewidth\": 0, \"ticks\": \"\"}, \"colorscale\": [[0.0, \"#0d0887\"], [0.1111111111111111, \"#46039f\"], [0.2222222222222222, \"#7201a8\"], [0.3333333333333333, \"#9c179e\"], [0.4444444444444444, \"#bd3786\"], [0.5555555555555556, \"#d8576b\"], [0.6666666666666666, \"#ed7953\"], [0.7777777777777778, \"#fb9f3a\"], [0.8888888888888888, \"#fdca26\"], [1.0, \"#f0f921\"]], \"type\": \"heatmapgl\"}], \"histogram\": [{\"marker\": {\"colorbar\": {\"outlinewidth\": 0, \"ticks\": \"\"}}, \"type\": \"histogram\"}], \"histogram2d\": [{\"colorbar\": {\"outlinewidth\": 0, \"ticks\": \"\"}, \"colorscale\": [[0.0, \"#0d0887\"], [0.1111111111111111, \"#46039f\"], [0.2222222222222222, \"#7201a8\"], [0.3333333333333333, \"#9c179e\"], [0.4444444444444444, \"#bd3786\"], [0.5555555555555556, \"#d8576b\"], [0.6666666666666666, \"#ed7953\"], [0.7777777777777778, \"#fb9f3a\"], [0.8888888888888888, \"#fdca26\"], [1.0, \"#f0f921\"]], \"type\": \"histogram2d\"}], \"histogram2dcontour\": [{\"colorbar\": {\"outlinewidth\": 0, \"ticks\": \"\"}, \"colorscale\": [[0.0, \"#0d0887\"], [0.1111111111111111, \"#46039f\"], [0.2222222222222222, \"#7201a8\"], [0.3333333333333333, \"#9c179e\"], [0.4444444444444444, \"#bd3786\"], [0.5555555555555556, \"#d8576b\"], [0.6666666666666666, \"#ed7953\"], [0.7777777777777778, \"#fb9f3a\"], [0.8888888888888888, \"#fdca26\"], [1.0, \"#f0f921\"]], \"type\": \"histogram2dcontour\"}], \"mesh3d\": [{\"colorbar\": {\"outlinewidth\": 0, \"ticks\": \"\"}, \"type\": \"mesh3d\"}], \"parcoords\": [{\"line\": {\"colorbar\": {\"outlinewidth\": 0, \"ticks\": \"\"}}, \"type\": \"parcoords\"}], \"pie\": [{\"automargin\": true, \"type\": \"pie\"}], \"scatter\": [{\"marker\": {\"colorbar\": {\"outlinewidth\": 0, \"ticks\": \"\"}}, \"type\": \"scatter\"}], \"scatter3d\": [{\"line\": {\"colorbar\": {\"outlinewidth\": 0, \"ticks\": \"\"}}, \"marker\": {\"colorbar\": {\"outlinewidth\": 0, \"ticks\": \"\"}}, \"type\": \"scatter3d\"}], \"scattercarpet\": [{\"marker\": {\"colorbar\": {\"outlinewidth\": 0, \"ticks\": \"\"}}, \"type\": \"scattercarpet\"}], \"scattergeo\": [{\"marker\": {\"colorbar\": {\"outlinewidth\": 0, \"ticks\": \"\"}}, \"type\": \"scattergeo\"}], \"scattergl\": [{\"marker\": {\"colorbar\": {\"outlinewidth\": 0, \"ticks\": \"\"}}, \"type\": \"scattergl\"}], \"scattermapbox\": [{\"marker\": {\"colorbar\": {\"outlinewidth\": 0, \"ticks\": \"\"}}, \"type\": \"scattermapbox\"}], \"scatterpolar\": [{\"marker\": {\"colorbar\": {\"outlinewidth\": 0, \"ticks\": \"\"}}, \"type\": \"scatterpolar\"}], \"scatterpolargl\": [{\"marker\": {\"colorbar\": {\"outlinewidth\": 0, \"ticks\": \"\"}}, \"type\": \"scatterpolargl\"}], \"scatterternary\": [{\"marker\": {\"colorbar\": {\"outlinewidth\": 0, \"ticks\": \"\"}}, \"type\": \"scatterternary\"}], \"surface\": [{\"colorbar\": {\"outlinewidth\": 0, \"ticks\": \"\"}, \"colorscale\": [[0.0, \"#0d0887\"], [0.1111111111111111, \"#46039f\"], [0.2222222222222222, \"#7201a8\"], [0.3333333333333333, \"#9c179e\"], [0.4444444444444444, \"#bd3786\"], [0.5555555555555556, \"#d8576b\"], [0.6666666666666666, \"#ed7953\"], [0.7777777777777778, \"#fb9f3a\"], [0.8888888888888888, \"#fdca26\"], [1.0, \"#f0f921\"]], \"type\": \"surface\"}], \"table\": [{\"cells\": {\"fill\": {\"color\": \"#EBF0F8\"}, \"line\": {\"color\": \"white\"}}, \"header\": {\"fill\": {\"color\": \"#C8D4E3\"}, \"line\": {\"color\": \"white\"}}, \"type\": \"table\"}]}, \"layout\": {\"annotationdefaults\": {\"arrowcolor\": \"#2a3f5f\", \"arrowhead\": 0, \"arrowwidth\": 1}, \"autotypenumbers\": \"strict\", \"coloraxis\": {\"colorbar\": {\"outlinewidth\": 0, \"ticks\": \"\"}}, \"colorscale\": {\"diverging\": [[0, \"#8e0152\"], [0.1, \"#c51b7d\"], [0.2, \"#de77ae\"], [0.3, \"#f1b6da\"], [0.4, \"#fde0ef\"], [0.5, \"#f7f7f7\"], [0.6, \"#e6f5d0\"], [0.7, \"#b8e186\"], [0.8, \"#7fbc41\"], [0.9, \"#4d9221\"], [1, \"#276419\"]], \"sequential\": [[0.0, \"#0d0887\"], [0.1111111111111111, \"#46039f\"], [0.2222222222222222, \"#7201a8\"], [0.3333333333333333, \"#9c179e\"], [0.4444444444444444, \"#bd3786\"], [0.5555555555555556, \"#d8576b\"], [0.6666666666666666, \"#ed7953\"], [0.7777777777777778, \"#fb9f3a\"], [0.8888888888888888, \"#fdca26\"], [1.0, \"#f0f921\"]], \"sequentialminus\": [[0.0, \"#0d0887\"], [0.1111111111111111, \"#46039f\"], [0.2222222222222222, \"#7201a8\"], [0.3333333333333333, \"#9c179e\"], [0.4444444444444444, \"#bd3786\"], [0.5555555555555556, \"#d8576b\"], [0.6666666666666666, \"#ed7953\"], [0.7777777777777778, \"#fb9f3a\"], [0.8888888888888888, \"#fdca26\"], [1.0, \"#f0f921\"]]}, \"colorway\": [\"#636efa\", \"#EF553B\", \"#00cc96\", \"#ab63fa\", \"#FFA15A\", \"#19d3f3\", \"#FF6692\", \"#B6E880\", \"#FF97FF\", \"#FECB52\"], \"font\": {\"color\": \"#2a3f5f\"}, \"geo\": {\"bgcolor\": \"white\", \"lakecolor\": \"white\", \"landcolor\": \"#E5ECF6\", \"showlakes\": true, \"showland\": true, \"subunitcolor\": \"white\"}, \"hoverlabel\": {\"align\": \"left\"}, \"hovermode\": \"closest\", \"mapbox\": {\"style\": \"light\"}, \"paper_bgcolor\": \"white\", \"plot_bgcolor\": \"#E5ECF6\", \"polar\": {\"angularaxis\": {\"gridcolor\": \"white\", \"linecolor\": \"white\", \"ticks\": \"\"}, \"bgcolor\": \"#E5ECF6\", \"radialaxis\": {\"gridcolor\": \"white\", \"linecolor\": \"white\", \"ticks\": \"\"}}, \"scene\": {\"xaxis\": {\"backgroundcolor\": \"#E5ECF6\", \"gridcolor\": \"white\", \"gridwidth\": 2, \"linecolor\": \"white\", \"showbackground\": true, \"ticks\": \"\", \"zerolinecolor\": \"white\"}, \"yaxis\": {\"backgroundcolor\": \"#E5ECF6\", \"gridcolor\": \"white\", \"gridwidth\": 2, \"linecolor\": \"white\", \"showbackground\": true, \"ticks\": \"\", \"zerolinecolor\": \"white\"}, \"zaxis\": {\"backgroundcolor\": \"#E5ECF6\", \"gridcolor\": \"white\", \"gridwidth\": 2, \"linecolor\": \"white\", \"showbackground\": true, \"ticks\": \"\", \"zerolinecolor\": \"white\"}}, \"shapedefaults\": {\"line\": {\"color\": \"#2a3f5f\"}}, \"ternary\": {\"aaxis\": {\"gridcolor\": \"white\", \"linecolor\": \"white\", \"ticks\": \"\"}, \"baxis\": {\"gridcolor\": \"white\", \"linecolor\": \"white\", \"ticks\": \"\"}, \"bgcolor\": \"#E5ECF6\", \"caxis\": {\"gridcolor\": \"white\", \"linecolor\": \"white\", \"ticks\": \"\"}}, \"title\": {\"x\": 0.05}, \"xaxis\": {\"automargin\": true, \"gridcolor\": \"white\", \"linecolor\": \"white\", \"ticks\": \"\", \"title\": {\"standoff\": 15}, \"zerolinecolor\": \"white\", \"zerolinewidth\": 2}, \"yaxis\": {\"automargin\": true, \"gridcolor\": \"white\", \"linecolor\": \"white\", \"ticks\": \"\", \"title\": {\"standoff\": 15}, \"zerolinecolor\": \"white\", \"zerolinewidth\": 2}}}, \"title\": {\"text\": \"ON\"}},                        {\"responsive\": true}                    ).then(function(){\n",
       "                            \n",
       "var gd = document.getElementById('e5e0ebeb-915c-4a22-bbca-232dfb1b264f');\n",
       "var x = new MutationObserver(function (mutations, observer) {{\n",
       "        var display = window.getComputedStyle(gd).display;\n",
       "        if (!display || display === 'none') {{\n",
       "            console.log([gd, 'removed!']);\n",
       "            Plotly.purge(gd);\n",
       "            observer.disconnect();\n",
       "        }}\n",
       "}});\n",
       "\n",
       "// Listen for the removal of the full notebook cells\n",
       "var notebookContainer = gd.closest('#notebook-container');\n",
       "if (notebookContainer) {{\n",
       "    x.observe(notebookContainer, {childList: true});\n",
       "}}\n",
       "\n",
       "// Listen for the clearing of the current output cell\n",
       "var outputEl = gd.closest('.output');\n",
       "if (outputEl) {{\n",
       "    x.observe(outputEl, {childList: true});\n",
       "}}\n",
       "\n",
       "                        })                };                });            </script>        </div>"
      ]
     },
     "metadata": {},
     "output_type": "display_data"
    }
   ],
   "source": [
    "# Create list of names for x-axis and traces\n",
    "epsilon_range = np.around(epsilon_range,1)\n",
    "num_epsilons = len(epsilon_range)\n",
    "x_name = []\n",
    "for i in range(num_epsilons):\n",
    "    x_name.append(str(epsilon_range[i]))\n",
    "trace_name = ['Day{}'.format(x) for x in chosen_times]\n",
    "\n",
    "# Sort results\n",
    "all_intervals.sort_values(by=['Time Points', 'Epsilon'], inplace=True)\n",
    "\n",
    "# Plot (box plot for inference)\n",
    "fig = go.Figure()\n",
    "\n",
    "for i in range(len(trace_name)):\n",
    "    fig.add_trace(\n",
    "        go.Box(\n",
    "            mean=all_intervals.loc[all_intervals['Central Probability']==0]['Mean'][i*num_epsilons:(i+1)*num_epsilons],\n",
    "            median=all_intervals.loc[all_intervals['Central Probability']==0]['Lower bound CI'][i*num_epsilons:(i+1)*num_epsilons],\n",
    "            q1=all_intervals.loc[all_intervals['Central Probability']==0.25]['Lower bound CI'][i*num_epsilons:(i+1)*num_epsilons],\n",
    "            q3=all_intervals.loc[all_intervals['Central Probability']==0.25]['Upper bound CI'][i*num_epsilons:(i+1)*num_epsilons],\n",
    "            upperfence=all_intervals.loc[all_intervals['Central Probability']==0.95]['Upper bound CI'][i*num_epsilons:(i+1)*num_epsilons],\n",
    "            lowerfence=all_intervals.loc[all_intervals['Central Probability']==0.95]['Lower bound CI'][i*num_epsilons:(i+1)*num_epsilons],\n",
    "            x=x_name,\n",
    "            name=trace_name[i]\n",
    "        )\n",
    "    )\n",
    "fig.update_layout(boxmode='group', title='New Zealand')\n",
    "fig.show()"
   ]
  },
  {
   "cell_type": "code",
   "execution_count": 36,
   "metadata": {},
   "outputs": [
    {
     "data": {
      "application/vnd.plotly.v1+json": {
       "config": {
        "plotlyServerURL": "https://plot.ly"
       },
       "data": [
        {
         "lowerfence": [
          0.02021416327916086,
          1.4107890486717232,
          2.3308927893638614,
          1.1175050795078278,
          1.3604936331510544,
          0.5060509815812111,
          0.49065052792429925
         ],
         "mean": [
          0.8002521991729736,
          3.910804510116577,
          3.6850979328155518,
          1.5767534971237183,
          1.7056819200515747,
          0.6802512407302856,
          0.817811131477356
         ],
         "median": [
          0.5539217591285706,
          3.680759310722351,
          3.6170839071273804,
          1.552693247795105,
          1.6970221400260925,
          0.6751097142696381,
          0.8017545938491821
         ],
         "name": "-1.0",
         "q1": [
          0.3750280551612377,
          3.203634262084961,
          3.376429945230484,
          1.472175419330597,
          1.637844130396843,
          0.6451124250888824,
          0.7434857189655304
         ],
         "q3": [
          0.7846210077404976,
          4.203768730163574,
          3.871269077062607,
          1.6385731101036072,
          1.7575553357601166,
          0.7062650173902512,
          0.8634719625115395
         ],
         "type": "box",
         "upperfence": [
          2.9568457543849953,
          7.720207774639131,
          5.427338743209839,
          2.1715537428855898,
          2.100063109397888,
          0.8836569383740427,
          1.2350281178951268
         ],
         "x": [
          "Day5",
          "Day10",
          "Day15",
          "Day20",
          "Day25",
          "Day30",
          "Day40"
         ]
        },
        {
         "lowerfence": [
          0.018237923504784714,
          0.5543486177921296,
          0.9072490677237511,
          0.6073290243744852,
          0.8689836725592615,
          0.38669373020529746,
          0.3943609490990639
         ],
         "mean": [
          0.7224363684654236,
          1.561484694480896,
          1.4630135297775269,
          0.838275671005249,
          1.0844818353652954,
          0.5181975960731506,
          0.6597768664360046
         ],
         "median": [
          0.500499039888382,
          1.4612855315208435,
          1.4320250153541565,
          0.8282682001590729,
          1.0796767473220825,
          0.5145811140537262,
          0.6468381881713867
         ],
         "name": "-0.8",
         "q1": [
          0.33932801708579063,
          1.2678539752960205,
          1.3330118209123611,
          0.7882581204175949,
          1.0430552065372467,
          0.49191704019904137,
          0.5993838161230087
         ],
         "q3": [
          0.7080882117152214,
          1.673687368631363,
          1.5377491414546967,
          0.8703948259353638,
          1.1172824800014496,
          0.5378610342741013,
          0.6968309506773949
         ],
         "type": "box",
         "upperfence": [
          2.6672104954719558,
          3.141253340244294,
          2.1935058593750005,
          1.1261225014925003,
          1.3272259443998338,
          0.6702004075050354,
          0.9986013412475586
         ],
         "x": [
          "Day5",
          "Day10",
          "Day15",
          "Day20",
          "Day25",
          "Day30",
          "Day40"
         ]
        },
        {
         "lowerfence": [
          0.016658830642700215,
          0.3427811965346338,
          0.5633545503020286,
          0.41624652296304704,
          0.6378743931651115,
          0.3127376601099968,
          0.32964251190423965
         ],
         "mean": [
          0.6614715456962585,
          0.9770523905754089,
          0.913330614566803,
          0.5710812211036682,
          0.7949949502944946,
          0.4187890589237213,
          0.5530424118041992
         ],
         "median": [
          0.45727692544460297,
          0.9116245210170746,
          0.8935548663139343,
          0.5647952258586884,
          0.7916232645511627,
          0.4158424884080887,
          0.5421802997589111
         ],
         "name": "-0.6",
         "q1": [
          0.3096969947218895,
          0.7911129891872406,
          0.830962635576725,
          0.5378430634737015,
          0.7649660184979439,
          0.3976023569703102,
          0.5020406767725945
         ],
         "q3": [
          0.6479376927018166,
          1.0461984276771545,
          0.9599589258432388,
          0.5930015966296196,
          0.8190420344471931,
          0.43459754809737206,
          0.5842712819576263
         ],
         "type": "box",
         "upperfence": [
          2.444934701919556,
          1.9806411296129227,
          1.3767623364925385,
          0.761701837182045,
          0.9714600026607515,
          0.5412314057350158,
          0.8385532766580582
         ],
         "x": [
          "Day5",
          "Day10",
          "Day15",
          "Day20",
          "Day25",
          "Day30",
          "Day40"
         ]
        },
        {
         "lowerfence": [
          0.015271322592161601,
          0.24904462434351465,
          0.40812369659543035,
          0.31635425686836244,
          0.5037855356931686,
          0.26221124157309533,
          0.2825004883110524
         ],
         "mean": [
          0.6085973978042603,
          0.7110936045646667,
          0.6637893319129944,
          0.43313080072402954,
          0.627531886100769,
          0.3511468172073364,
          0.47594642639160156
         ],
         "median": [
          0.42092444002628326,
          0.6627172231674194,
          0.6491380035877228,
          0.4286049157381058,
          0.6248798072338104,
          0.3486623615026474,
          0.4665267765522003
         ],
         "name": "-0.4",
         "q1": [
          0.28514353185892105,
          0.5744817107915878,
          0.6034453362226486,
          0.40833065658807755,
          0.6039519682526588,
          0.33339764550328255,
          0.4320034980773926
         ],
         "q3": [
          0.595520943403244,
          0.7611372098326683,
          0.697714775800705,
          0.449710488319397,
          0.6463493928313255,
          0.364469438791275,
          0.502988338470459
         ],
         "type": "box",
         "upperfence": [
          2.248377144336701,
          1.447078949213029,
          1.0028693705797198,
          0.576094651222229,
          0.7661104068160057,
          0.4542513005435467,
          0.7230450049042701
         ],
         "x": [
          "Day5",
          "Day10",
          "Day15",
          "Day20",
          "Day25",
          "Day30",
          "Day40"
         ]
        },
        {
         "lowerfence": [
          0.014286146336235112,
          0.19559123925864702,
          0.32027570679783823,
          0.2551033467054367,
          0.4165060326457024,
          0.226022132858634,
          0.24833743907511235
         ],
         "mean": [
          0.5620601177215576,
          0.5590377449989319,
          0.5213721990585327,
          0.34886622428894043,
          0.5183753967285156,
          0.3025614023208618,
          0.41788890957832336
         ],
         "median": [
          0.3876075744628906,
          0.5206708908081055,
          0.5097394287586212,
          0.345318540930748,
          0.5162765681743622,
          0.3004506677389145,
          0.4096192270517349
         ],
         "name": "-0.2",
         "q1": [
          0.26255257800221443,
          0.4511747173964977,
          0.4735499285161495,
          0.32907192036509514,
          0.499021302908659,
          0.28723372146487236,
          0.3792308084666729
         ],
         "q3": [
          0.5500608682632446,
          0.5980705618858337,
          0.5481447204947472,
          0.3622318431735039,
          0.5339384078979492,
          0.31400318071246147,
          0.44158004596829414
         ],
         "type": "box",
         "upperfence": [
          2.084661465883255,
          1.1414320468902595,
          0.7887678354978562,
          0.46318901479244234,
          0.6323496714234352,
          0.39113116636872297,
          0.6349944546818733
         ],
         "x": [
          "Day5",
          "Day10",
          "Day15",
          "Day20",
          "Day25",
          "Day30",
          "Day40"
         ]
        },
        {
         "lowerfence": [
          0.012999867531470958,
          0.16086890846490867,
          0.26343969702720643,
          0.21374039612710477,
          0.35509027615189553,
          0.19816621616482738,
          0.22082051560282706
         ],
         "mean": [
          0.5241487622261047,
          0.4602947533130646,
          0.42924919724464417,
          0.2920474708080292,
          0.44165778160095215,
          0.2657172381877899,
          0.372171014547348
         ],
         "median": [
          0.36167508363723755,
          0.4284810721874237,
          0.4195541590452194,
          0.2891100198030472,
          0.4399506598711014,
          0.26386769115924835,
          0.36464907228946686
         ],
         "name": "-0.0",
         "q1": [
          0.24498699977993965,
          0.3712307922542095,
          0.3897487223148346,
          0.2754714787006378,
          0.425255186855793,
          0.25226518139243126,
          0.3376028873026371
         ],
         "q3": [
          0.5116270333528519,
          0.4922657944262028,
          0.45134295523166656,
          0.3032839521765709,
          0.45495204627513885,
          0.2758062109351158,
          0.393165972083807
         ],
         "type": "box",
         "upperfence": [
          1.9456164807081224,
          0.941142825782299,
          0.649946391582489,
          0.3873460255563259,
          0.5383638873696327,
          0.3436904899775982,
          0.5659452825784683
         ],
         "x": [
          "Day5",
          "Day10",
          "Day15",
          "Day20",
          "Day25",
          "Day30",
          "Day40"
         ]
        },
        {
         "lowerfence": [
          0.01226298057008537,
          0.13665305040776732,
          0.22377204485237603,
          0.18396537862718107,
          0.3092814102768899,
          0.17663484737277033,
          0.19899713285267354
         ],
         "mean": [
          0.49169865250587463,
          0.39154839515686035,
          0.36474961042404175,
          0.2510899007320404,
          0.38460153341293335,
          0.23691263794898987,
          0.33573299646377563
         ],
         "median": [
          0.339084193110466,
          0.36434489488601685,
          0.356470063328743,
          0.24859225004911423,
          0.3830556273460388,
          0.23524576425552368,
          0.329043909907341
         ],
         "name": "0.2",
         "q1": [
          0.2297796681523323,
          0.31566258519887924,
          0.33120695129036903,
          0.23688997700810432,
          0.37026530876755714,
          0.22491462901234627,
          0.3045736998319626
         ],
         "q3": [
          0.4797680713236332,
          0.4182840846478939,
          0.38338135927915573,
          0.26072271168231964,
          0.3961474895477295,
          0.24592460319399834,
          0.3549303524196148
         ],
         "type": "box",
         "upperfence": [
          1.831091940402985,
          0.8017343416810037,
          0.552882444858551,
          0.3327965907752514,
          0.4688333928585052,
          0.30655939504504204,
          0.5104308143258095
         ],
         "x": [
          "Day5",
          "Day10",
          "Day15",
          "Day20",
          "Day25",
          "Day30",
          "Day40"
         ]
        },
        {
         "lowerfence": [
          0.011476746969856325,
          0.11877512112259869,
          0.19444678612053398,
          0.16146693192422393,
          0.273855309188366,
          0.15936921052634717,
          0.18103305585682392
         ],
         "mean": [
          0.46279630064964294,
          0.34046655893325806,
          0.31708088517189026,
          0.22026485204696655,
          0.3405887484550476,
          0.21368728578090668,
          0.305586040019989
         ],
         "median": [
          0.31838351488113403,
          0.31673941016197205,
          0.30990397930145264,
          0.21808961778879166,
          0.33919522166252136,
          0.2122100591659546,
          0.2994590997695923
         ],
         "name": "0.4",
         "q1": [
          0.21565807424485683,
          0.2741127423942089,
          0.28797732666134834,
          0.20789910852909088,
          0.3279373086988926,
          0.20283296704292297,
          0.2771170809864998
         ],
         "q3": [
          0.45157234743237495,
          0.3640024960041046,
          0.3333937041461468,
          0.22866734489798546,
          0.35082270950078964,
          0.22181233018636703,
          0.32311419770121574
         ],
         "type": "box",
         "upperfence": [
          1.7287087738513949,
          0.6991734102368355,
          0.4808411933481693,
          0.2917381562292576,
          0.41524860039353373,
          0.27650160789489747,
          0.4650956809520722
         ],
         "x": [
          "Day5",
          "Day10",
          "Day15",
          "Day20",
          "Day25",
          "Day30",
          "Day40"
         ]
        },
        {
         "lowerfence": [
          0.010888560512103147,
          0.104795802757144,
          0.17178341522812843,
          0.14388693459331992,
          0.24583443887531758,
          0.14508347511291506,
          0.1658796899020672
         ],
         "mean": [
          0.43601855635643005,
          0.3010402023792267,
          0.2804781198501587,
          0.19614063203334808,
          0.305636465549469,
          0.1946602463722229,
          0.280593603849411
         ],
         "median": [
          0.2992672324180603,
          0.2801187038421631,
          0.2741033732891083,
          0.1941833570599556,
          0.30438992381095886,
          0.19329899549484253,
          0.27492189407348633
         ],
         "name": "0.6",
         "q1": [
          0.2025193888694048,
          0.24264821037650108,
          0.2545789144933224,
          0.18511427380144596,
          0.2942711263895035,
          0.18477551639080048,
          0.2544766552746296
         ],
         "q3": [
          0.4239526279270649,
          0.32191817834973335,
          0.29486873373389244,
          0.20363399013876915,
          0.31482016295194626,
          0.20207155868411064,
          0.29657990112900734
         ],
         "type": "box",
         "upperfence": [
          1.62872334420681,
          0.6169793337583543,
          0.4253742426633835,
          0.2595327816903591,
          0.37257712185382846,
          0.2521161869168282,
          0.42750089243054396
         ],
         "x": [
          "Day5",
          "Day10",
          "Day15",
          "Day20",
          "Day25",
          "Day30",
          "Day40"
         ]
        },
        {
         "lowerfence": [
          0.010300097381696108,
          0.09396082386374474,
          0.15401735045015813,
          0.12966582104563712,
          0.2229217942804098,
          0.13312273211777212,
          0.15324342176318168
         ],
         "mean": [
          0.4138859510421753,
          0.2700854539871216,
          0.25159579515457153,
          0.17683064937591553,
          0.2771722674369812,
          0.1786971390247345,
          0.25933215022087097
         ],
         "median": [
          0.28397101163864136,
          0.2511645257472992,
          0.2458677738904953,
          0.17508409172296524,
          0.27609412372112274,
          0.1774231344461441,
          0.2540881633758545
         ],
         "name": "0.8",
         "q1": [
          0.19220450334250927,
          0.21735477820038795,
          0.22838982939720154,
          0.16689865291118622,
          0.2668917551636696,
          0.1695859469473362,
          0.23517906107008457
         ],
         "q3": [
          0.40228770673274994,
          0.2886209301650524,
          0.26450005173683167,
          0.18361699022352695,
          0.28552472591400146,
          0.1855114158242941,
          0.2741495221853256
         ],
         "type": "box",
         "upperfence": [
          1.5509113103151322,
          0.5542208448052407,
          0.38150903135538106,
          0.2340845685452224,
          0.33766678944230083,
          0.2315488860011101,
          0.39518015831708914
         ],
         "x": [
          "Day5",
          "Day10",
          "Day15",
          "Day20",
          "Day25",
          "Day30",
          "Day40"
         ]
        },
        {
         "lowerfence": [
          0.00976969143375755,
          0.08528648391366006,
          0.13955579027533535,
          0.118145501986146,
          0.20400988273322582,
          0.12304474953562021,
          0.14245964549481868
         ],
         "mean": [
          0.3927445709705353,
          0.24477694928646088,
          0.22779247164726257,
          0.16095152497291565,
          0.25363829731941223,
          0.16519510746002197,
          0.24096202850341797
         ],
         "median": [
          0.26878948509693146,
          0.22739993035793304,
          0.222591832280159,
          0.15936655551195145,
          0.25264525413513184,
          0.1640441045165062,
          0.2361348271369934
         ],
         "name": "1.0",
         "q1": [
          0.18206125311553478,
          0.1970734056085348,
          0.20680365525186062,
          0.15192866139113903,
          0.24424805119633675,
          0.1567562222480774,
          0.2184610553085804
         ],
         "q3": [
          0.3821670897305012,
          0.26150595396757126,
          0.23942821845412254,
          0.16711916215717793,
          0.26123930141329765,
          0.17151238955557346,
          0.25477316603064537
         ],
         "type": "box",
         "upperfence": [
          1.4696413218975077,
          0.5021870464086533,
          0.3458067022264004,
          0.2129216242581606,
          0.3088948227465153,
          0.21422899514436722,
          0.36690419837832455
         ],
         "x": [
          "Day5",
          "Day10",
          "Day15",
          "Day20",
          "Day25",
          "Day30",
          "Day40"
         ]
        }
       ],
       "layout": {
        "boxmode": "group",
        "template": {
         "data": {
          "bar": [
           {
            "error_x": {
             "color": "#2a3f5f"
            },
            "error_y": {
             "color": "#2a3f5f"
            },
            "marker": {
             "line": {
              "color": "#E5ECF6",
              "width": 0.5
             }
            },
            "type": "bar"
           }
          ],
          "barpolar": [
           {
            "marker": {
             "line": {
              "color": "#E5ECF6",
              "width": 0.5
             }
            },
            "type": "barpolar"
           }
          ],
          "carpet": [
           {
            "aaxis": {
             "endlinecolor": "#2a3f5f",
             "gridcolor": "white",
             "linecolor": "white",
             "minorgridcolor": "white",
             "startlinecolor": "#2a3f5f"
            },
            "baxis": {
             "endlinecolor": "#2a3f5f",
             "gridcolor": "white",
             "linecolor": "white",
             "minorgridcolor": "white",
             "startlinecolor": "#2a3f5f"
            },
            "type": "carpet"
           }
          ],
          "choropleth": [
           {
            "colorbar": {
             "outlinewidth": 0,
             "ticks": ""
            },
            "type": "choropleth"
           }
          ],
          "contour": [
           {
            "colorbar": {
             "outlinewidth": 0,
             "ticks": ""
            },
            "colorscale": [
             [
              0,
              "#0d0887"
             ],
             [
              0.1111111111111111,
              "#46039f"
             ],
             [
              0.2222222222222222,
              "#7201a8"
             ],
             [
              0.3333333333333333,
              "#9c179e"
             ],
             [
              0.4444444444444444,
              "#bd3786"
             ],
             [
              0.5555555555555556,
              "#d8576b"
             ],
             [
              0.6666666666666666,
              "#ed7953"
             ],
             [
              0.7777777777777778,
              "#fb9f3a"
             ],
             [
              0.8888888888888888,
              "#fdca26"
             ],
             [
              1,
              "#f0f921"
             ]
            ],
            "type": "contour"
           }
          ],
          "contourcarpet": [
           {
            "colorbar": {
             "outlinewidth": 0,
             "ticks": ""
            },
            "type": "contourcarpet"
           }
          ],
          "heatmap": [
           {
            "colorbar": {
             "outlinewidth": 0,
             "ticks": ""
            },
            "colorscale": [
             [
              0,
              "#0d0887"
             ],
             [
              0.1111111111111111,
              "#46039f"
             ],
             [
              0.2222222222222222,
              "#7201a8"
             ],
             [
              0.3333333333333333,
              "#9c179e"
             ],
             [
              0.4444444444444444,
              "#bd3786"
             ],
             [
              0.5555555555555556,
              "#d8576b"
             ],
             [
              0.6666666666666666,
              "#ed7953"
             ],
             [
              0.7777777777777778,
              "#fb9f3a"
             ],
             [
              0.8888888888888888,
              "#fdca26"
             ],
             [
              1,
              "#f0f921"
             ]
            ],
            "type": "heatmap"
           }
          ],
          "heatmapgl": [
           {
            "colorbar": {
             "outlinewidth": 0,
             "ticks": ""
            },
            "colorscale": [
             [
              0,
              "#0d0887"
             ],
             [
              0.1111111111111111,
              "#46039f"
             ],
             [
              0.2222222222222222,
              "#7201a8"
             ],
             [
              0.3333333333333333,
              "#9c179e"
             ],
             [
              0.4444444444444444,
              "#bd3786"
             ],
             [
              0.5555555555555556,
              "#d8576b"
             ],
             [
              0.6666666666666666,
              "#ed7953"
             ],
             [
              0.7777777777777778,
              "#fb9f3a"
             ],
             [
              0.8888888888888888,
              "#fdca26"
             ],
             [
              1,
              "#f0f921"
             ]
            ],
            "type": "heatmapgl"
           }
          ],
          "histogram": [
           {
            "marker": {
             "colorbar": {
              "outlinewidth": 0,
              "ticks": ""
             }
            },
            "type": "histogram"
           }
          ],
          "histogram2d": [
           {
            "colorbar": {
             "outlinewidth": 0,
             "ticks": ""
            },
            "colorscale": [
             [
              0,
              "#0d0887"
             ],
             [
              0.1111111111111111,
              "#46039f"
             ],
             [
              0.2222222222222222,
              "#7201a8"
             ],
             [
              0.3333333333333333,
              "#9c179e"
             ],
             [
              0.4444444444444444,
              "#bd3786"
             ],
             [
              0.5555555555555556,
              "#d8576b"
             ],
             [
              0.6666666666666666,
              "#ed7953"
             ],
             [
              0.7777777777777778,
              "#fb9f3a"
             ],
             [
              0.8888888888888888,
              "#fdca26"
             ],
             [
              1,
              "#f0f921"
             ]
            ],
            "type": "histogram2d"
           }
          ],
          "histogram2dcontour": [
           {
            "colorbar": {
             "outlinewidth": 0,
             "ticks": ""
            },
            "colorscale": [
             [
              0,
              "#0d0887"
             ],
             [
              0.1111111111111111,
              "#46039f"
             ],
             [
              0.2222222222222222,
              "#7201a8"
             ],
             [
              0.3333333333333333,
              "#9c179e"
             ],
             [
              0.4444444444444444,
              "#bd3786"
             ],
             [
              0.5555555555555556,
              "#d8576b"
             ],
             [
              0.6666666666666666,
              "#ed7953"
             ],
             [
              0.7777777777777778,
              "#fb9f3a"
             ],
             [
              0.8888888888888888,
              "#fdca26"
             ],
             [
              1,
              "#f0f921"
             ]
            ],
            "type": "histogram2dcontour"
           }
          ],
          "mesh3d": [
           {
            "colorbar": {
             "outlinewidth": 0,
             "ticks": ""
            },
            "type": "mesh3d"
           }
          ],
          "parcoords": [
           {
            "line": {
             "colorbar": {
              "outlinewidth": 0,
              "ticks": ""
             }
            },
            "type": "parcoords"
           }
          ],
          "pie": [
           {
            "automargin": true,
            "type": "pie"
           }
          ],
          "scatter": [
           {
            "marker": {
             "colorbar": {
              "outlinewidth": 0,
              "ticks": ""
             }
            },
            "type": "scatter"
           }
          ],
          "scatter3d": [
           {
            "line": {
             "colorbar": {
              "outlinewidth": 0,
              "ticks": ""
             }
            },
            "marker": {
             "colorbar": {
              "outlinewidth": 0,
              "ticks": ""
             }
            },
            "type": "scatter3d"
           }
          ],
          "scattercarpet": [
           {
            "marker": {
             "colorbar": {
              "outlinewidth": 0,
              "ticks": ""
             }
            },
            "type": "scattercarpet"
           }
          ],
          "scattergeo": [
           {
            "marker": {
             "colorbar": {
              "outlinewidth": 0,
              "ticks": ""
             }
            },
            "type": "scattergeo"
           }
          ],
          "scattergl": [
           {
            "marker": {
             "colorbar": {
              "outlinewidth": 0,
              "ticks": ""
             }
            },
            "type": "scattergl"
           }
          ],
          "scattermapbox": [
           {
            "marker": {
             "colorbar": {
              "outlinewidth": 0,
              "ticks": ""
             }
            },
            "type": "scattermapbox"
           }
          ],
          "scatterpolar": [
           {
            "marker": {
             "colorbar": {
              "outlinewidth": 0,
              "ticks": ""
             }
            },
            "type": "scatterpolar"
           }
          ],
          "scatterpolargl": [
           {
            "marker": {
             "colorbar": {
              "outlinewidth": 0,
              "ticks": ""
             }
            },
            "type": "scatterpolargl"
           }
          ],
          "scatterternary": [
           {
            "marker": {
             "colorbar": {
              "outlinewidth": 0,
              "ticks": ""
             }
            },
            "type": "scatterternary"
           }
          ],
          "surface": [
           {
            "colorbar": {
             "outlinewidth": 0,
             "ticks": ""
            },
            "colorscale": [
             [
              0,
              "#0d0887"
             ],
             [
              0.1111111111111111,
              "#46039f"
             ],
             [
              0.2222222222222222,
              "#7201a8"
             ],
             [
              0.3333333333333333,
              "#9c179e"
             ],
             [
              0.4444444444444444,
              "#bd3786"
             ],
             [
              0.5555555555555556,
              "#d8576b"
             ],
             [
              0.6666666666666666,
              "#ed7953"
             ],
             [
              0.7777777777777778,
              "#fb9f3a"
             ],
             [
              0.8888888888888888,
              "#fdca26"
             ],
             [
              1,
              "#f0f921"
             ]
            ],
            "type": "surface"
           }
          ],
          "table": [
           {
            "cells": {
             "fill": {
              "color": "#EBF0F8"
             },
             "line": {
              "color": "white"
             }
            },
            "header": {
             "fill": {
              "color": "#C8D4E3"
             },
             "line": {
              "color": "white"
             }
            },
            "type": "table"
           }
          ]
         },
         "layout": {
          "annotationdefaults": {
           "arrowcolor": "#2a3f5f",
           "arrowhead": 0,
           "arrowwidth": 1
          },
          "autotypenumbers": "strict",
          "coloraxis": {
           "colorbar": {
            "outlinewidth": 0,
            "ticks": ""
           }
          },
          "colorscale": {
           "diverging": [
            [
             0,
             "#8e0152"
            ],
            [
             0.1,
             "#c51b7d"
            ],
            [
             0.2,
             "#de77ae"
            ],
            [
             0.3,
             "#f1b6da"
            ],
            [
             0.4,
             "#fde0ef"
            ],
            [
             0.5,
             "#f7f7f7"
            ],
            [
             0.6,
             "#e6f5d0"
            ],
            [
             0.7,
             "#b8e186"
            ],
            [
             0.8,
             "#7fbc41"
            ],
            [
             0.9,
             "#4d9221"
            ],
            [
             1,
             "#276419"
            ]
           ],
           "sequential": [
            [
             0,
             "#0d0887"
            ],
            [
             0.1111111111111111,
             "#46039f"
            ],
            [
             0.2222222222222222,
             "#7201a8"
            ],
            [
             0.3333333333333333,
             "#9c179e"
            ],
            [
             0.4444444444444444,
             "#bd3786"
            ],
            [
             0.5555555555555556,
             "#d8576b"
            ],
            [
             0.6666666666666666,
             "#ed7953"
            ],
            [
             0.7777777777777778,
             "#fb9f3a"
            ],
            [
             0.8888888888888888,
             "#fdca26"
            ],
            [
             1,
             "#f0f921"
            ]
           ],
           "sequentialminus": [
            [
             0,
             "#0d0887"
            ],
            [
             0.1111111111111111,
             "#46039f"
            ],
            [
             0.2222222222222222,
             "#7201a8"
            ],
            [
             0.3333333333333333,
             "#9c179e"
            ],
            [
             0.4444444444444444,
             "#bd3786"
            ],
            [
             0.5555555555555556,
             "#d8576b"
            ],
            [
             0.6666666666666666,
             "#ed7953"
            ],
            [
             0.7777777777777778,
             "#fb9f3a"
            ],
            [
             0.8888888888888888,
             "#fdca26"
            ],
            [
             1,
             "#f0f921"
            ]
           ]
          },
          "colorway": [
           "#636efa",
           "#EF553B",
           "#00cc96",
           "#ab63fa",
           "#FFA15A",
           "#19d3f3",
           "#FF6692",
           "#B6E880",
           "#FF97FF",
           "#FECB52"
          ],
          "font": {
           "color": "#2a3f5f"
          },
          "geo": {
           "bgcolor": "white",
           "lakecolor": "white",
           "landcolor": "#E5ECF6",
           "showlakes": true,
           "showland": true,
           "subunitcolor": "white"
          },
          "hoverlabel": {
           "align": "left"
          },
          "hovermode": "closest",
          "mapbox": {
           "style": "light"
          },
          "paper_bgcolor": "white",
          "plot_bgcolor": "#E5ECF6",
          "polar": {
           "angularaxis": {
            "gridcolor": "white",
            "linecolor": "white",
            "ticks": ""
           },
           "bgcolor": "#E5ECF6",
           "radialaxis": {
            "gridcolor": "white",
            "linecolor": "white",
            "ticks": ""
           }
          },
          "scene": {
           "xaxis": {
            "backgroundcolor": "#E5ECF6",
            "gridcolor": "white",
            "gridwidth": 2,
            "linecolor": "white",
            "showbackground": true,
            "ticks": "",
            "zerolinecolor": "white"
           },
           "yaxis": {
            "backgroundcolor": "#E5ECF6",
            "gridcolor": "white",
            "gridwidth": 2,
            "linecolor": "white",
            "showbackground": true,
            "ticks": "",
            "zerolinecolor": "white"
           },
           "zaxis": {
            "backgroundcolor": "#E5ECF6",
            "gridcolor": "white",
            "gridwidth": 2,
            "linecolor": "white",
            "showbackground": true,
            "ticks": "",
            "zerolinecolor": "white"
           }
          },
          "shapedefaults": {
           "line": {
            "color": "#2a3f5f"
           }
          },
          "ternary": {
           "aaxis": {
            "gridcolor": "white",
            "linecolor": "white",
            "ticks": ""
           },
           "baxis": {
            "gridcolor": "white",
            "linecolor": "white",
            "ticks": ""
           },
           "bgcolor": "#E5ECF6",
           "caxis": {
            "gridcolor": "white",
            "linecolor": "white",
            "ticks": ""
           }
          },
          "title": {
           "x": 0.05
          },
          "xaxis": {
           "automargin": true,
           "gridcolor": "white",
           "linecolor": "white",
           "ticks": "",
           "title": {
            "standoff": 15
           },
           "zerolinecolor": "white",
           "zerolinewidth": 2
          },
          "yaxis": {
           "automargin": true,
           "gridcolor": "white",
           "linecolor": "white",
           "ticks": "",
           "title": {
            "standoff": 15
           },
           "zerolinecolor": "white",
           "zerolinewidth": 2
          }
         }
        },
        "title": {
         "text": "ON"
        }
       }
      },
      "text/html": [
       "<div>                            <div id=\"4b21a773-d2e7-4beb-8441-0868cf9284a4\" class=\"plotly-graph-div\" style=\"height:525px; width:100%;\"></div>            <script type=\"text/javascript\">                require([\"plotly\"], function(Plotly) {                    window.PLOTLYENV=window.PLOTLYENV || {};                                    if (document.getElementById(\"4b21a773-d2e7-4beb-8441-0868cf9284a4\")) {                    Plotly.newPlot(                        \"4b21a773-d2e7-4beb-8441-0868cf9284a4\",                        [{\"lowerfence\": [0.02021416327916086, 1.4107890486717232, 2.3308927893638614, 1.1175050795078278, 1.3604936331510544, 0.5060509815812111, 0.49065052792429925], \"mean\": [0.8002521991729736, 3.910804510116577, 3.6850979328155518, 1.5767534971237183, 1.7056819200515747, 0.6802512407302856, 0.817811131477356], \"median\": [0.5539217591285706, 3.680759310722351, 3.6170839071273804, 1.552693247795105, 1.6970221400260925, 0.6751097142696381, 0.8017545938491821], \"name\": \"-1.0\", \"q1\": [0.3750280551612377, 3.203634262084961, 3.376429945230484, 1.472175419330597, 1.637844130396843, 0.6451124250888824, 0.7434857189655304], \"q3\": [0.7846210077404976, 4.203768730163574, 3.871269077062607, 1.6385731101036072, 1.7575553357601166, 0.7062650173902512, 0.8634719625115395], \"type\": \"box\", \"upperfence\": [2.9568457543849953, 7.720207774639131, 5.427338743209839, 2.1715537428855898, 2.100063109397888, 0.8836569383740427, 1.2350281178951268], \"x\": [\"Day5\", \"Day10\", \"Day15\", \"Day20\", \"Day25\", \"Day30\", \"Day40\"]}, {\"lowerfence\": [0.018237923504784714, 0.5543486177921296, 0.9072490677237511, 0.6073290243744852, 0.8689836725592615, 0.38669373020529746, 0.3943609490990639], \"mean\": [0.7224363684654236, 1.561484694480896, 1.4630135297775269, 0.838275671005249, 1.0844818353652954, 0.5181975960731506, 0.6597768664360046], \"median\": [0.500499039888382, 1.4612855315208435, 1.4320250153541565, 0.8282682001590729, 1.0796767473220825, 0.5145811140537262, 0.6468381881713867], \"name\": \"-0.8\", \"q1\": [0.33932801708579063, 1.2678539752960205, 1.3330118209123611, 0.7882581204175949, 1.0430552065372467, 0.49191704019904137, 0.5993838161230087], \"q3\": [0.7080882117152214, 1.673687368631363, 1.5377491414546967, 0.8703948259353638, 1.1172824800014496, 0.5378610342741013, 0.6968309506773949], \"type\": \"box\", \"upperfence\": [2.6672104954719558, 3.141253340244294, 2.1935058593750005, 1.1261225014925003, 1.3272259443998338, 0.6702004075050354, 0.9986013412475586], \"x\": [\"Day5\", \"Day10\", \"Day15\", \"Day20\", \"Day25\", \"Day30\", \"Day40\"]}, {\"lowerfence\": [0.016658830642700215, 0.3427811965346338, 0.5633545503020286, 0.41624652296304704, 0.6378743931651115, 0.3127376601099968, 0.32964251190423965], \"mean\": [0.6614715456962585, 0.9770523905754089, 0.913330614566803, 0.5710812211036682, 0.7949949502944946, 0.4187890589237213, 0.5530424118041992], \"median\": [0.45727692544460297, 0.9116245210170746, 0.8935548663139343, 0.5647952258586884, 0.7916232645511627, 0.4158424884080887, 0.5421802997589111], \"name\": \"-0.6\", \"q1\": [0.3096969947218895, 0.7911129891872406, 0.830962635576725, 0.5378430634737015, 0.7649660184979439, 0.3976023569703102, 0.5020406767725945], \"q3\": [0.6479376927018166, 1.0461984276771545, 0.9599589258432388, 0.5930015966296196, 0.8190420344471931, 0.43459754809737206, 0.5842712819576263], \"type\": \"box\", \"upperfence\": [2.444934701919556, 1.9806411296129227, 1.3767623364925385, 0.761701837182045, 0.9714600026607515, 0.5412314057350158, 0.8385532766580582], \"x\": [\"Day5\", \"Day10\", \"Day15\", \"Day20\", \"Day25\", \"Day30\", \"Day40\"]}, {\"lowerfence\": [0.015271322592161601, 0.24904462434351465, 0.40812369659543035, 0.31635425686836244, 0.5037855356931686, 0.26221124157309533, 0.2825004883110524], \"mean\": [0.6085973978042603, 0.7110936045646667, 0.6637893319129944, 0.43313080072402954, 0.627531886100769, 0.3511468172073364, 0.47594642639160156], \"median\": [0.42092444002628326, 0.6627172231674194, 0.6491380035877228, 0.4286049157381058, 0.6248798072338104, 0.3486623615026474, 0.4665267765522003], \"name\": \"-0.4\", \"q1\": [0.28514353185892105, 0.5744817107915878, 0.6034453362226486, 0.40833065658807755, 0.6039519682526588, 0.33339764550328255, 0.4320034980773926], \"q3\": [0.595520943403244, 0.7611372098326683, 0.697714775800705, 0.449710488319397, 0.6463493928313255, 0.364469438791275, 0.502988338470459], \"type\": \"box\", \"upperfence\": [2.248377144336701, 1.447078949213029, 1.0028693705797198, 0.576094651222229, 0.7661104068160057, 0.4542513005435467, 0.7230450049042701], \"x\": [\"Day5\", \"Day10\", \"Day15\", \"Day20\", \"Day25\", \"Day30\", \"Day40\"]}, {\"lowerfence\": [0.014286146336235112, 0.19559123925864702, 0.32027570679783823, 0.2551033467054367, 0.4165060326457024, 0.226022132858634, 0.24833743907511235], \"mean\": [0.5620601177215576, 0.5590377449989319, 0.5213721990585327, 0.34886622428894043, 0.5183753967285156, 0.3025614023208618, 0.41788890957832336], \"median\": [0.3876075744628906, 0.5206708908081055, 0.5097394287586212, 0.345318540930748, 0.5162765681743622, 0.3004506677389145, 0.4096192270517349], \"name\": \"-0.2\", \"q1\": [0.26255257800221443, 0.4511747173964977, 0.4735499285161495, 0.32907192036509514, 0.499021302908659, 0.28723372146487236, 0.3792308084666729], \"q3\": [0.5500608682632446, 0.5980705618858337, 0.5481447204947472, 0.3622318431735039, 0.5339384078979492, 0.31400318071246147, 0.44158004596829414], \"type\": \"box\", \"upperfence\": [2.084661465883255, 1.1414320468902595, 0.7887678354978562, 0.46318901479244234, 0.6323496714234352, 0.39113116636872297, 0.6349944546818733], \"x\": [\"Day5\", \"Day10\", \"Day15\", \"Day20\", \"Day25\", \"Day30\", \"Day40\"]}, {\"lowerfence\": [0.012999867531470958, 0.16086890846490867, 0.26343969702720643, 0.21374039612710477, 0.35509027615189553, 0.19816621616482738, 0.22082051560282706], \"mean\": [0.5241487622261047, 0.4602947533130646, 0.42924919724464417, 0.2920474708080292, 0.44165778160095215, 0.2657172381877899, 0.372171014547348], \"median\": [0.36167508363723755, 0.4284810721874237, 0.4195541590452194, 0.2891100198030472, 0.4399506598711014, 0.26386769115924835, 0.36464907228946686], \"name\": \"-0.0\", \"q1\": [0.24498699977993965, 0.3712307922542095, 0.3897487223148346, 0.2754714787006378, 0.425255186855793, 0.25226518139243126, 0.3376028873026371], \"q3\": [0.5116270333528519, 0.4922657944262028, 0.45134295523166656, 0.3032839521765709, 0.45495204627513885, 0.2758062109351158, 0.393165972083807], \"type\": \"box\", \"upperfence\": [1.9456164807081224, 0.941142825782299, 0.649946391582489, 0.3873460255563259, 0.5383638873696327, 0.3436904899775982, 0.5659452825784683], \"x\": [\"Day5\", \"Day10\", \"Day15\", \"Day20\", \"Day25\", \"Day30\", \"Day40\"]}, {\"lowerfence\": [0.01226298057008537, 0.13665305040776732, 0.22377204485237603, 0.18396537862718107, 0.3092814102768899, 0.17663484737277033, 0.19899713285267354], \"mean\": [0.49169865250587463, 0.39154839515686035, 0.36474961042404175, 0.2510899007320404, 0.38460153341293335, 0.23691263794898987, 0.33573299646377563], \"median\": [0.339084193110466, 0.36434489488601685, 0.356470063328743, 0.24859225004911423, 0.3830556273460388, 0.23524576425552368, 0.329043909907341], \"name\": \"0.2\", \"q1\": [0.2297796681523323, 0.31566258519887924, 0.33120695129036903, 0.23688997700810432, 0.37026530876755714, 0.22491462901234627, 0.3045736998319626], \"q3\": [0.4797680713236332, 0.4182840846478939, 0.38338135927915573, 0.26072271168231964, 0.3961474895477295, 0.24592460319399834, 0.3549303524196148], \"type\": \"box\", \"upperfence\": [1.831091940402985, 0.8017343416810037, 0.552882444858551, 0.3327965907752514, 0.4688333928585052, 0.30655939504504204, 0.5104308143258095], \"x\": [\"Day5\", \"Day10\", \"Day15\", \"Day20\", \"Day25\", \"Day30\", \"Day40\"]}, {\"lowerfence\": [0.011476746969856325, 0.11877512112259869, 0.19444678612053398, 0.16146693192422393, 0.273855309188366, 0.15936921052634717, 0.18103305585682392], \"mean\": [0.46279630064964294, 0.34046655893325806, 0.31708088517189026, 0.22026485204696655, 0.3405887484550476, 0.21368728578090668, 0.305586040019989], \"median\": [0.31838351488113403, 0.31673941016197205, 0.30990397930145264, 0.21808961778879166, 0.33919522166252136, 0.2122100591659546, 0.2994590997695923], \"name\": \"0.4\", \"q1\": [0.21565807424485683, 0.2741127423942089, 0.28797732666134834, 0.20789910852909088, 0.3279373086988926, 0.20283296704292297, 0.2771170809864998], \"q3\": [0.45157234743237495, 0.3640024960041046, 0.3333937041461468, 0.22866734489798546, 0.35082270950078964, 0.22181233018636703, 0.32311419770121574], \"type\": \"box\", \"upperfence\": [1.7287087738513949, 0.6991734102368355, 0.4808411933481693, 0.2917381562292576, 0.41524860039353373, 0.27650160789489747, 0.4650956809520722], \"x\": [\"Day5\", \"Day10\", \"Day15\", \"Day20\", \"Day25\", \"Day30\", \"Day40\"]}, {\"lowerfence\": [0.010888560512103147, 0.104795802757144, 0.17178341522812843, 0.14388693459331992, 0.24583443887531758, 0.14508347511291506, 0.1658796899020672], \"mean\": [0.43601855635643005, 0.3010402023792267, 0.2804781198501587, 0.19614063203334808, 0.305636465549469, 0.1946602463722229, 0.280593603849411], \"median\": [0.2992672324180603, 0.2801187038421631, 0.2741033732891083, 0.1941833570599556, 0.30438992381095886, 0.19329899549484253, 0.27492189407348633], \"name\": \"0.6\", \"q1\": [0.2025193888694048, 0.24264821037650108, 0.2545789144933224, 0.18511427380144596, 0.2942711263895035, 0.18477551639080048, 0.2544766552746296], \"q3\": [0.4239526279270649, 0.32191817834973335, 0.29486873373389244, 0.20363399013876915, 0.31482016295194626, 0.20207155868411064, 0.29657990112900734], \"type\": \"box\", \"upperfence\": [1.62872334420681, 0.6169793337583543, 0.4253742426633835, 0.2595327816903591, 0.37257712185382846, 0.2521161869168282, 0.42750089243054396], \"x\": [\"Day5\", \"Day10\", \"Day15\", \"Day20\", \"Day25\", \"Day30\", \"Day40\"]}, {\"lowerfence\": [0.010300097381696108, 0.09396082386374474, 0.15401735045015813, 0.12966582104563712, 0.2229217942804098, 0.13312273211777212, 0.15324342176318168], \"mean\": [0.4138859510421753, 0.2700854539871216, 0.25159579515457153, 0.17683064937591553, 0.2771722674369812, 0.1786971390247345, 0.25933215022087097], \"median\": [0.28397101163864136, 0.2511645257472992, 0.2458677738904953, 0.17508409172296524, 0.27609412372112274, 0.1774231344461441, 0.2540881633758545], \"name\": \"0.8\", \"q1\": [0.19220450334250927, 0.21735477820038795, 0.22838982939720154, 0.16689865291118622, 0.2668917551636696, 0.1695859469473362, 0.23517906107008457], \"q3\": [0.40228770673274994, 0.2886209301650524, 0.26450005173683167, 0.18361699022352695, 0.28552472591400146, 0.1855114158242941, 0.2741495221853256], \"type\": \"box\", \"upperfence\": [1.5509113103151322, 0.5542208448052407, 0.38150903135538106, 0.2340845685452224, 0.33766678944230083, 0.2315488860011101, 0.39518015831708914], \"x\": [\"Day5\", \"Day10\", \"Day15\", \"Day20\", \"Day25\", \"Day30\", \"Day40\"]}, {\"lowerfence\": [0.00976969143375755, 0.08528648391366006, 0.13955579027533535, 0.118145501986146, 0.20400988273322582, 0.12304474953562021, 0.14245964549481868], \"mean\": [0.3927445709705353, 0.24477694928646088, 0.22779247164726257, 0.16095152497291565, 0.25363829731941223, 0.16519510746002197, 0.24096202850341797], \"median\": [0.26878948509693146, 0.22739993035793304, 0.222591832280159, 0.15936655551195145, 0.25264525413513184, 0.1640441045165062, 0.2361348271369934], \"name\": \"1.0\", \"q1\": [0.18206125311553478, 0.1970734056085348, 0.20680365525186062, 0.15192866139113903, 0.24424805119633675, 0.1567562222480774, 0.2184610553085804], \"q3\": [0.3821670897305012, 0.26150595396757126, 0.23942821845412254, 0.16711916215717793, 0.26123930141329765, 0.17151238955557346, 0.25477316603064537], \"type\": \"box\", \"upperfence\": [1.4696413218975077, 0.5021870464086533, 0.3458067022264004, 0.2129216242581606, 0.3088948227465153, 0.21422899514436722, 0.36690419837832455], \"x\": [\"Day5\", \"Day10\", \"Day15\", \"Day20\", \"Day25\", \"Day30\", \"Day40\"]}],                        {\"boxmode\": \"group\", \"template\": {\"data\": {\"bar\": [{\"error_x\": {\"color\": \"#2a3f5f\"}, \"error_y\": {\"color\": \"#2a3f5f\"}, \"marker\": {\"line\": {\"color\": \"#E5ECF6\", \"width\": 0.5}}, \"type\": \"bar\"}], \"barpolar\": [{\"marker\": {\"line\": {\"color\": \"#E5ECF6\", \"width\": 0.5}}, \"type\": \"barpolar\"}], \"carpet\": [{\"aaxis\": {\"endlinecolor\": \"#2a3f5f\", \"gridcolor\": \"white\", \"linecolor\": \"white\", \"minorgridcolor\": \"white\", \"startlinecolor\": \"#2a3f5f\"}, \"baxis\": {\"endlinecolor\": \"#2a3f5f\", \"gridcolor\": \"white\", \"linecolor\": \"white\", \"minorgridcolor\": \"white\", \"startlinecolor\": \"#2a3f5f\"}, \"type\": \"carpet\"}], \"choropleth\": [{\"colorbar\": {\"outlinewidth\": 0, \"ticks\": \"\"}, \"type\": \"choropleth\"}], \"contour\": [{\"colorbar\": {\"outlinewidth\": 0, \"ticks\": \"\"}, \"colorscale\": [[0.0, \"#0d0887\"], [0.1111111111111111, \"#46039f\"], [0.2222222222222222, \"#7201a8\"], [0.3333333333333333, \"#9c179e\"], [0.4444444444444444, \"#bd3786\"], [0.5555555555555556, \"#d8576b\"], [0.6666666666666666, \"#ed7953\"], [0.7777777777777778, \"#fb9f3a\"], [0.8888888888888888, \"#fdca26\"], [1.0, \"#f0f921\"]], \"type\": \"contour\"}], \"contourcarpet\": [{\"colorbar\": {\"outlinewidth\": 0, \"ticks\": \"\"}, \"type\": \"contourcarpet\"}], \"heatmap\": [{\"colorbar\": {\"outlinewidth\": 0, \"ticks\": \"\"}, \"colorscale\": [[0.0, \"#0d0887\"], [0.1111111111111111, \"#46039f\"], [0.2222222222222222, \"#7201a8\"], [0.3333333333333333, \"#9c179e\"], [0.4444444444444444, \"#bd3786\"], [0.5555555555555556, \"#d8576b\"], [0.6666666666666666, \"#ed7953\"], [0.7777777777777778, \"#fb9f3a\"], [0.8888888888888888, \"#fdca26\"], [1.0, \"#f0f921\"]], \"type\": \"heatmap\"}], \"heatmapgl\": [{\"colorbar\": {\"outlinewidth\": 0, \"ticks\": \"\"}, \"colorscale\": [[0.0, \"#0d0887\"], [0.1111111111111111, \"#46039f\"], [0.2222222222222222, \"#7201a8\"], [0.3333333333333333, \"#9c179e\"], [0.4444444444444444, \"#bd3786\"], [0.5555555555555556, \"#d8576b\"], [0.6666666666666666, \"#ed7953\"], [0.7777777777777778, \"#fb9f3a\"], [0.8888888888888888, \"#fdca26\"], [1.0, \"#f0f921\"]], \"type\": \"heatmapgl\"}], \"histogram\": [{\"marker\": {\"colorbar\": {\"outlinewidth\": 0, \"ticks\": \"\"}}, \"type\": \"histogram\"}], \"histogram2d\": [{\"colorbar\": {\"outlinewidth\": 0, \"ticks\": \"\"}, \"colorscale\": [[0.0, \"#0d0887\"], [0.1111111111111111, \"#46039f\"], [0.2222222222222222, \"#7201a8\"], [0.3333333333333333, \"#9c179e\"], [0.4444444444444444, \"#bd3786\"], [0.5555555555555556, \"#d8576b\"], [0.6666666666666666, \"#ed7953\"], [0.7777777777777778, \"#fb9f3a\"], [0.8888888888888888, \"#fdca26\"], [1.0, \"#f0f921\"]], \"type\": \"histogram2d\"}], \"histogram2dcontour\": [{\"colorbar\": {\"outlinewidth\": 0, \"ticks\": \"\"}, \"colorscale\": [[0.0, \"#0d0887\"], [0.1111111111111111, \"#46039f\"], [0.2222222222222222, \"#7201a8\"], [0.3333333333333333, \"#9c179e\"], [0.4444444444444444, \"#bd3786\"], [0.5555555555555556, \"#d8576b\"], [0.6666666666666666, \"#ed7953\"], [0.7777777777777778, \"#fb9f3a\"], [0.8888888888888888, \"#fdca26\"], [1.0, \"#f0f921\"]], \"type\": \"histogram2dcontour\"}], \"mesh3d\": [{\"colorbar\": {\"outlinewidth\": 0, \"ticks\": \"\"}, \"type\": \"mesh3d\"}], \"parcoords\": [{\"line\": {\"colorbar\": {\"outlinewidth\": 0, \"ticks\": \"\"}}, \"type\": \"parcoords\"}], \"pie\": [{\"automargin\": true, \"type\": \"pie\"}], \"scatter\": [{\"marker\": {\"colorbar\": {\"outlinewidth\": 0, \"ticks\": \"\"}}, \"type\": \"scatter\"}], \"scatter3d\": [{\"line\": {\"colorbar\": {\"outlinewidth\": 0, \"ticks\": \"\"}}, \"marker\": {\"colorbar\": {\"outlinewidth\": 0, \"ticks\": \"\"}}, \"type\": \"scatter3d\"}], \"scattercarpet\": [{\"marker\": {\"colorbar\": {\"outlinewidth\": 0, \"ticks\": \"\"}}, \"type\": \"scattercarpet\"}], \"scattergeo\": [{\"marker\": {\"colorbar\": {\"outlinewidth\": 0, \"ticks\": \"\"}}, \"type\": \"scattergeo\"}], \"scattergl\": [{\"marker\": {\"colorbar\": {\"outlinewidth\": 0, \"ticks\": \"\"}}, \"type\": \"scattergl\"}], \"scattermapbox\": [{\"marker\": {\"colorbar\": {\"outlinewidth\": 0, \"ticks\": \"\"}}, \"type\": \"scattermapbox\"}], \"scatterpolar\": [{\"marker\": {\"colorbar\": {\"outlinewidth\": 0, \"ticks\": \"\"}}, \"type\": \"scatterpolar\"}], \"scatterpolargl\": [{\"marker\": {\"colorbar\": {\"outlinewidth\": 0, \"ticks\": \"\"}}, \"type\": \"scatterpolargl\"}], \"scatterternary\": [{\"marker\": {\"colorbar\": {\"outlinewidth\": 0, \"ticks\": \"\"}}, \"type\": \"scatterternary\"}], \"surface\": [{\"colorbar\": {\"outlinewidth\": 0, \"ticks\": \"\"}, \"colorscale\": [[0.0, \"#0d0887\"], [0.1111111111111111, \"#46039f\"], [0.2222222222222222, \"#7201a8\"], [0.3333333333333333, \"#9c179e\"], [0.4444444444444444, \"#bd3786\"], [0.5555555555555556, \"#d8576b\"], [0.6666666666666666, \"#ed7953\"], [0.7777777777777778, \"#fb9f3a\"], [0.8888888888888888, \"#fdca26\"], [1.0, \"#f0f921\"]], \"type\": \"surface\"}], \"table\": [{\"cells\": {\"fill\": {\"color\": \"#EBF0F8\"}, \"line\": {\"color\": \"white\"}}, \"header\": {\"fill\": {\"color\": \"#C8D4E3\"}, \"line\": {\"color\": \"white\"}}, \"type\": \"table\"}]}, \"layout\": {\"annotationdefaults\": {\"arrowcolor\": \"#2a3f5f\", \"arrowhead\": 0, \"arrowwidth\": 1}, \"autotypenumbers\": \"strict\", \"coloraxis\": {\"colorbar\": {\"outlinewidth\": 0, \"ticks\": \"\"}}, \"colorscale\": {\"diverging\": [[0, \"#8e0152\"], [0.1, \"#c51b7d\"], [0.2, \"#de77ae\"], [0.3, \"#f1b6da\"], [0.4, \"#fde0ef\"], [0.5, \"#f7f7f7\"], [0.6, \"#e6f5d0\"], [0.7, \"#b8e186\"], [0.8, \"#7fbc41\"], [0.9, \"#4d9221\"], [1, \"#276419\"]], \"sequential\": [[0.0, \"#0d0887\"], [0.1111111111111111, \"#46039f\"], [0.2222222222222222, \"#7201a8\"], [0.3333333333333333, \"#9c179e\"], [0.4444444444444444, \"#bd3786\"], [0.5555555555555556, \"#d8576b\"], [0.6666666666666666, \"#ed7953\"], [0.7777777777777778, \"#fb9f3a\"], [0.8888888888888888, \"#fdca26\"], [1.0, \"#f0f921\"]], \"sequentialminus\": [[0.0, \"#0d0887\"], [0.1111111111111111, \"#46039f\"], [0.2222222222222222, \"#7201a8\"], [0.3333333333333333, \"#9c179e\"], [0.4444444444444444, \"#bd3786\"], [0.5555555555555556, \"#d8576b\"], [0.6666666666666666, \"#ed7953\"], [0.7777777777777778, \"#fb9f3a\"], [0.8888888888888888, \"#fdca26\"], [1.0, \"#f0f921\"]]}, \"colorway\": [\"#636efa\", \"#EF553B\", \"#00cc96\", \"#ab63fa\", \"#FFA15A\", \"#19d3f3\", \"#FF6692\", \"#B6E880\", \"#FF97FF\", \"#FECB52\"], \"font\": {\"color\": \"#2a3f5f\"}, \"geo\": {\"bgcolor\": \"white\", \"lakecolor\": \"white\", \"landcolor\": \"#E5ECF6\", \"showlakes\": true, \"showland\": true, \"subunitcolor\": \"white\"}, \"hoverlabel\": {\"align\": \"left\"}, \"hovermode\": \"closest\", \"mapbox\": {\"style\": \"light\"}, \"paper_bgcolor\": \"white\", \"plot_bgcolor\": \"#E5ECF6\", \"polar\": {\"angularaxis\": {\"gridcolor\": \"white\", \"linecolor\": \"white\", \"ticks\": \"\"}, \"bgcolor\": \"#E5ECF6\", \"radialaxis\": {\"gridcolor\": \"white\", \"linecolor\": \"white\", \"ticks\": \"\"}}, \"scene\": {\"xaxis\": {\"backgroundcolor\": \"#E5ECF6\", \"gridcolor\": \"white\", \"gridwidth\": 2, \"linecolor\": \"white\", \"showbackground\": true, \"ticks\": \"\", \"zerolinecolor\": \"white\"}, \"yaxis\": {\"backgroundcolor\": \"#E5ECF6\", \"gridcolor\": \"white\", \"gridwidth\": 2, \"linecolor\": \"white\", \"showbackground\": true, \"ticks\": \"\", \"zerolinecolor\": \"white\"}, \"zaxis\": {\"backgroundcolor\": \"#E5ECF6\", \"gridcolor\": \"white\", \"gridwidth\": 2, \"linecolor\": \"white\", \"showbackground\": true, \"ticks\": \"\", \"zerolinecolor\": \"white\"}}, \"shapedefaults\": {\"line\": {\"color\": \"#2a3f5f\"}}, \"ternary\": {\"aaxis\": {\"gridcolor\": \"white\", \"linecolor\": \"white\", \"ticks\": \"\"}, \"baxis\": {\"gridcolor\": \"white\", \"linecolor\": \"white\", \"ticks\": \"\"}, \"bgcolor\": \"#E5ECF6\", \"caxis\": {\"gridcolor\": \"white\", \"linecolor\": \"white\", \"ticks\": \"\"}}, \"title\": {\"x\": 0.05}, \"xaxis\": {\"automargin\": true, \"gridcolor\": \"white\", \"linecolor\": \"white\", \"ticks\": \"\", \"title\": {\"standoff\": 15}, \"zerolinecolor\": \"white\", \"zerolinewidth\": 2}, \"yaxis\": {\"automargin\": true, \"gridcolor\": \"white\", \"linecolor\": \"white\", \"ticks\": \"\", \"title\": {\"standoff\": 15}, \"zerolinecolor\": \"white\", \"zerolinewidth\": 2}}}, \"title\": {\"text\": \"ON\"}},                        {\"responsive\": true}                    ).then(function(){\n",
       "                            \n",
       "var gd = document.getElementById('4b21a773-d2e7-4beb-8441-0868cf9284a4');\n",
       "var x = new MutationObserver(function (mutations, observer) {{\n",
       "        var display = window.getComputedStyle(gd).display;\n",
       "        if (!display || display === 'none') {{\n",
       "            console.log([gd, 'removed!']);\n",
       "            Plotly.purge(gd);\n",
       "            observer.disconnect();\n",
       "        }}\n",
       "}});\n",
       "\n",
       "// Listen for the removal of the full notebook cells\n",
       "var notebookContainer = gd.closest('#notebook-container');\n",
       "if (notebookContainer) {{\n",
       "    x.observe(notebookContainer, {childList: true});\n",
       "}}\n",
       "\n",
       "// Listen for the clearing of the current output cell\n",
       "var outputEl = gd.closest('.output');\n",
       "if (outputEl) {{\n",
       "    x.observe(outputEl, {childList: true});\n",
       "}}\n",
       "\n",
       "                        })                };                });            </script>        </div>"
      ]
     },
     "metadata": {},
     "output_type": "display_data"
    }
   ],
   "source": [
    "# Create list of names for x-axis and traces\n",
    "group_name = ['Day{}'.format(x) for x in chosen_times]\n",
    "\n",
    "# Sort results\n",
    "all_intervals.sort_values(by=['Epsilon','Time Points'], inplace=True)\n",
    "\n",
    "# Plot (box plot for inference)\n",
    "fig = go.Figure()\n",
    "\n",
    "n = len(group_name)\n",
    "for i in range(len(epsilon_range)):\n",
    "    fig.add_trace(\n",
    "        go.Box(\n",
    "            mean=all_intervals.loc[all_intervals['Central Probability']==0]['Mean'][i*n:(i+1)*n],\n",
    "            median=all_intervals.loc[all_intervals['Central Probability']==0]['Lower bound CI'][i*n:(i+1)*n],\n",
    "            q1=all_intervals.loc[all_intervals['Central Probability']==0.25]['Lower bound CI'][i*n:(i+1)*n],\n",
    "            q3=all_intervals.loc[all_intervals['Central Probability']==0.25]['Upper bound CI'][i*n:(i+1)*n],\n",
    "            upperfence=all_intervals.loc[all_intervals['Central Probability']==0.95]['Upper bound CI'][i*n:(i+1)*n],\n",
    "            lowerfence=all_intervals.loc[all_intervals['Central Probability']==0.95]['Lower bound CI'][i*n:(i+1)*n],\n",
    "            x=group_name,\n",
    "            name=str(round(epsilon_range[i],1))\n",
    "        )\n",
    "    )\n",
    "fig.update_layout(boxmode='group', title='New Zealand')\n",
    "fig.show()"
   ]
  },
  {
   "cell_type": "code",
   "execution_count": null,
   "metadata": {},
   "outputs": [],
   "source": []
  }
 ],
 "metadata": {
  "kernelspec": {
   "display_name": "brachpro-env",
   "language": "python",
   "name": "brachpro-env"
  },
  "language_info": {
   "codemirror_mode": {
    "name": "ipython",
    "version": 3
   },
   "file_extension": ".py",
   "mimetype": "text/x-python",
   "name": "python",
   "nbconvert_exporter": "python",
   "pygments_lexer": "ipython3",
   "version": "3.8.8"
  }
 },
 "nbformat": 4,
 "nbformat_minor": 2
}
