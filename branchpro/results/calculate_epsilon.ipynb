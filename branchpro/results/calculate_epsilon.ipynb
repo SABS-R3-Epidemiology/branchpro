{
 "cells": [
  {
   "cell_type": "markdown",
   "id": "005e528e",
   "metadata": {},
   "source": [
    "In this notebook we calculate approximate values of epsilon based on demographic data.\n",
    "\n",
    "For China and Taiwan, the POLYMOD contact matrices are used. The average number of contacts for imported and local cases is calculated based on their age distributions. \n",
    "\n",
    "For Hong Kong, epsilon is estimated as the ratio of contacts in a graph of transmission events.\n",
    "\n",
    "China:\n",
    "Wu, Biao, et al. \"Compare the epidemiological and clinical features of imported and local COVID-19 cases in Hainan, China.\" Infectious Diseases of Poverty 9.1 (2020): 1-11.\n",
    "\n",
    "Taiwan:\n",
    "Wu, Chun-Han, et al. \"Epidemiological features of domestic and imported cases with COVID-19 between January 2020 and March 2021 in Taiwan.\" Medicine 100.39 (2021).\n",
    "\n",
    "Hong Kong:\n",
    "Liu, Yang, Zhonglei Gu, and Jiming Liu. \"Uncovering transmission patterns of COVID-19 outbreaks: A region-wide comprehensive retrospective study in Hong Kong.\" EClinicalMedicine (2021): 100929."
   ]
  },
  {
   "cell_type": "code",
   "execution_count": 1,
   "id": "a337a576",
   "metadata": {},
   "outputs": [],
   "source": [
    "# Import libraries\n",
    "import numpy as np\n",
    "import branchpro\n",
    "import pandas as pd"
   ]
  },
  {
   "cell_type": "markdown",
   "id": "fcc168c7",
   "metadata": {},
   "source": [
    "# China"
   ]
  },
  {
   "cell_type": "code",
   "execution_count": 2,
   "id": "9f3e637c",
   "metadata": {},
   "outputs": [
    {
     "name": "stdout",
     "output_type": "stream",
     "text": [
      "China epsilon=0.7856472812794634\n"
     ]
    }
   ],
   "source": [
    "contact_matrix = pd.read_csv(\n",
    "    '../data_library/polymod/china.txt',\n",
    "    sep='\\t',\n",
    "    header=None)\n",
    "    \n",
    "# Get total contacts by age group\n",
    "contact_matrix = contact_matrix.to_numpy()\n",
    "total_contacts = np.sum(contact_matrix, axis=0)\n",
    "\n",
    "# Get average contacts for age ranges of 10 years\n",
    "c = [0.5 * (total_contacts[2*i] + total_contacts[2*i+1]) for\n",
    "                       i in range(len(total_contacts)//2)]\n",
    "\n",
    "# Average the first three entries to get contacts for age 0--29\n",
    "c[0] = (c[0] + c[1] + c[2]) / 3\n",
    "del c[1]\n",
    "del c[2]\n",
    "\n",
    "c = np.array(c)\n",
    "\n",
    "# Data from the paper\n",
    "local_cases = np.array([2, 10, 8, 9, 5, 1])\n",
    "imported_cases = np.array([4, 10, 7, 16, 14, 5])\n",
    "\n",
    "local_avg_conts = np.sum(local_cases * c) / np.sum(local_cases)\n",
    "imported_avg_conts = np.sum(imported_cases * c) / np.sum(imported_cases)\n",
    "\n",
    "estimate_epsilon = imported_avg_conts / local_avg_conts\n",
    "print('China epsilon={}'.format(estimate_epsilon))"
   ]
  },
  {
   "cell_type": "markdown",
   "id": "33ec12eb",
   "metadata": {},
   "source": [
    "# Taiwan"
   ]
  },
  {
   "cell_type": "code",
   "execution_count": 3,
   "id": "b6b8e3e9",
   "metadata": {},
   "outputs": [
    {
     "name": "stdout",
     "output_type": "stream",
     "text": [
      "Taiwan epsilon=1.23617385222926\n"
     ]
    }
   ],
   "source": [
    "contact_matrix = pd.read_csv(\n",
    "    '../data_library/polymod/taiwan.txt',\n",
    "    sep='\\t',\n",
    "    header=None)\n",
    "    \n",
    "# Get total contacts by age group\n",
    "contact_matrix = contact_matrix.to_numpy()\n",
    "total_contacts = np.sum(contact_matrix, axis=0)\n",
    "\n",
    "# Get average contacts for age ranges of 10 years\n",
    "c = [0.5 * (total_contacts[2*i] + total_contacts[2*i+1]) for\n",
    "                       i in range(len(total_contacts)//2)]\n",
    "\n",
    "# Average the first two entries to get contacts for age 0--19 and 60+\n",
    "c[0] = (c[0] + c[1]) / 2\n",
    "del c[1]\n",
    "\n",
    "c[-1] = (c[-1] + c[-2]) / 2\n",
    "del c[-2]\n",
    "\n",
    "c = np.array(c)\n",
    "\n",
    "# Data from the paper\n",
    "local_cases = np.array([5, 15, 14, 10, 18, 15])\n",
    "imported_cases = np.array([45, 385, 250, 110, 79, 84])\n",
    "\n",
    "local_avg_conts = np.sum(local_cases * c) / np.sum(local_cases)\n",
    "imported_avg_conts = np.sum(imported_cases * c) / np.sum(imported_cases)\n",
    "\n",
    "estimate_epsilon = imported_avg_conts / local_avg_conts\n",
    "print('Taiwan epsilon={}'.format(estimate_epsilon))"
   ]
  },
  {
   "cell_type": "markdown",
   "id": "7fdfee29",
   "metadata": {},
   "source": [
    "# Hong Kong"
   ]
  },
  {
   "cell_type": "code",
   "execution_count": 4,
   "id": "422b583e",
   "metadata": {},
   "outputs": [
    {
     "name": "stdout",
     "output_type": "stream",
     "text": [
      "Hong Kong epsilon=0.2956532926187952\n"
     ]
    }
   ],
   "source": [
    "# Mean outdegrees for each entry in the table\n",
    "k = np.array([1, 3, 6, 12, 24, 48, 96])\n",
    "\n",
    "# Data from the paper\n",
    "linked_imp = np.array([37, 2, 2, 0, 0, 0, 0])\n",
    "linked_local = np.array([3049, 614, 404, 268, 184, 96, 32])\n",
    "local = np.array([1607, 425, 284, 94, 15, 24, 3])\n",
    "linked_possible_local = np.array([38, 9, 11, 4, 0, 0, 0])\n",
    "imported = np.array([1728, 65, 50, 5, 0, 0, 0])\n",
    "possible_local = np.array([92, 9, 1, 0, 1, 0, 0])\n",
    "\n",
    "# Assume that these are local cases\n",
    "local = linked_imp + linked_local + local + linked_possible_local + possible_local\n",
    "\n",
    "local_avg_outdegree = np.sum(local * k) / np.sum(local)\n",
    "imported_avg_outdegree = np.sum(imported * k) / np.sum(imported)\n",
    "\n",
    "estimate_epsilon = imported_avg_outdegree / local_avg_outdegree\n",
    "print('Hong Kong epsilon={}'.format(estimate_epsilon))"
   ]
  },
  {
   "cell_type": "code",
   "execution_count": null,
   "id": "3d680c58",
   "metadata": {},
   "outputs": [],
   "source": []
  }
 ],
 "metadata": {
  "kernelspec": {
   "display_name": "Python 3 (ipykernel)",
   "language": "python",
   "name": "python3"
  },
  "language_info": {
   "codemirror_mode": {
    "name": "ipython",
    "version": 3
   },
   "file_extension": ".py",
   "mimetype": "text/x-python",
   "name": "python",
   "nbconvert_exporter": "python",
   "pygments_lexer": "ipython3",
   "version": "3.9.7"
  }
 },
 "nbformat": 4,
 "nbformat_minor": 5
}
