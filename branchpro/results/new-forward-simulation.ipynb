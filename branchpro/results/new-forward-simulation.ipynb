{
 "cells": [
  {
   "cell_type": "markdown",
   "metadata": {},
   "source": [
    "# Differences in behaviour of Rt Profile for Different Infectiousness Levels of Imported Cases\n",
    "\n",
    "The aim of this notebook is to show how different values the epsilon parameter can affect the outcome of the epidemic. This effect is studied through the behaviour of the time-dependent reproduction number trajectory. Epsilon represents the proportionality constant of the reproduction number for imported cases with respect to its analog for local ones. For this analysis we will use an Rt profile from real data from Hong Kong, China with an assumed infectioness of imported cases equal to that of the local ones (i.e. epsilon = 1).\n",
    "\n",
    "This Rt profile will then be used together with synthetically generated imported cases to produce local incidences for a given 'true' value of epsilon. We will proceed to infer the Rt profile for both the true value of epsilon and for epsilon = 1 (for the most common scenario when no distinguishing is made between the imported and the local cases)."
   ]
  },
  {
   "cell_type": "code",
   "execution_count": 1,
   "metadata": {},
   "outputs": [
    {
     "name": "stderr",
     "output_type": "stream",
     "text": [
      "/Users/ioaros/Desktop/Software Project/branchpro/branchpro/apps/_dash_app.py:18: UserWarning: \n",
      "The dash_html_components package is deprecated. Please replace\n",
      "`import dash_html_components as html` with `from dash import html`\n",
      "  import dash_html_components as html\n",
      "/Users/ioaros/Desktop/Software Project/branchpro/branchpro/apps/_simulation.py:15: UserWarning: \n",
      "The dash_core_components package is deprecated. Please replace\n",
      "`import dash_core_components as dcc` with `from dash import dcc`\n",
      "  import dash_core_components as dcc\n"
     ]
    }
   ],
   "source": [
    "# Import libraries\n",
    "import numpy as np\n",
    "import branchpro\n",
    "import plotly.graph_objects as go\n",
    "from matplotlib import pyplot as plt\n",
    "import os\n",
    "import pandas as pd\n",
    "import scipy.stats\n",
    "import datetime"
   ]
  },
  {
   "cell_type": "code",
   "execution_count": 2,
   "metadata": {},
   "outputs": [],
   "source": [
    "# Read serial interval\n",
    "si_file = 'si-epinow'\n",
    "path = os.path.join('../data_library/serial_interval', '{}.csv'.format(si_file))\n",
    "serial_interval = pd.read_csv(path, header=None)\n",
    "serial_interval = serial_interval.fillna(0)\n",
    "serial_intervals = serial_interval.values.T"
   ]
  },
  {
   "cell_type": "code",
   "execution_count": 3,
   "metadata": {},
   "outputs": [],
   "source": [
    "# Select length of timeline for the analysis\n",
    "num_timepoints = 50\n",
    "\n",
    "start_times = np.arange(1, num_timepoints+1, dtype=int)\n",
    "times = np.arange(num_timepoints+1)"
   ]
  },
  {
   "cell_type": "markdown",
   "metadata": {},
   "source": [
    "### A Reproduction Number trajectory inferred from a world example data is used for realistic results"
   ]
  },
  {
   "cell_type": "code",
   "execution_count": 4,
   "metadata": {},
   "outputs": [],
   "source": [
    "# Read Rt trajectory\n",
    "rt_file = 'HK-Rt-profile'\n",
    "path = os.path.join('../data_library/rt_profile', '{}.csv'.format(rt_file))\n",
    "rt_profile = pd.read_csv(path)"
   ]
  },
  {
   "cell_type": "markdown",
   "metadata": {},
   "source": [
    "### Imported Cases Counts are produced by sampling from a Poisson distribution with mean λ"
   ]
  },
  {
   "cell_type": "code",
   "execution_count": 5,
   "metadata": {},
   "outputs": [],
   "source": [
    "# Build the imported cases\n",
    "ic_mean = 5\n",
    "num_sim_imported = 100\n",
    "\n",
    "imported_times = np.arange(1,(num_timepoints+1))\n",
    "\n",
    "sample_imported_cases = []\n",
    "\n",
    "# Multiple samples of imported cases data\n",
    "for sim in range(num_sim_imported):\n",
    "    sample_imported_cases.append(scipy.stats.poisson.rvs(ic_mean, size=num_timepoints))\n",
    "\n",
    "all_imported_cases = np.vstack(sample_imported_cases)"
   ]
  },
  {
   "cell_type": "markdown",
   "metadata": {},
   "source": [
    "### Generate Local Incidences using the previously generated Imported Cases, according to the read-in Rt profile"
   ]
  },
  {
   "cell_type": "code",
   "execution_count": 6,
   "metadata": {},
   "outputs": [],
   "source": [
    "# Construct LocImpBranchProModel object\n",
    "epsilon_values = np.linspace(0.1, 2, 20).tolist()\n",
    "lambdas = np.linspace(0.25, 2, 20).tolist()\n",
    "tau = 6\n",
    "R_t_start = tau+1\n",
    "\n",
    "# Set fixed parameters for the instantiaiton of the model\n",
    "r_profile = rt_profile['Mean'].values\n",
    "r_start_times = rt_profile['Time Points'].values.tolist()\n",
    "\n",
    "initial_r = r_profile[0]\n",
    "si = np.median(serial_intervals, axis=0)\n",
    "parameters = 0 # initial number of cases\n",
    "\n",
    "all_local_cases = []\n",
    "num_sim_local = 1\n",
    "\n",
    "for _, epsilon in enumerate(epsilon_values):\n",
    "    lam_sample_local_cases = []\n",
    "    for l, lam in enumerate(lambdas):\n",
    "        m = branchpro.LocImpBranchProModel(initial_r, si, epsilon)\n",
    "\n",
    "        m.set_r_profile((lam * r_profile).tolist(), r_start_times)\n",
    "\n",
    "        ind_imp_sample_local_cases = []\n",
    "        for imported_cases in all_imported_cases:\n",
    "            m.set_imported_cases(start_times, imported_cases)\n",
    "\n",
    "            sample_local_cases = []\n",
    "            for sim in range(num_sim_local):\n",
    "                sample_local_cases.append(m.simulate(parameters, times)[1:])\n",
    "\n",
    "            ind_imp_sample_local_cases.append(np.vstack(sample_local_cases))\n",
    "\n",
    "        lam_sample_local_cases.append(np.vstack(ind_imp_sample_local_cases))\n",
    "    \n",
    "    all_local_cases.append(lam_sample_local_cases)"
   ]
  },
  {
   "cell_type": "code",
   "execution_count": 11,
   "metadata": {},
   "outputs": [
    {
     "data": {
      "text/plain": [
       "(50,)"
      ]
     },
     "execution_count": 11,
     "metadata": {},
     "output_type": "execute_result"
    }
   ],
   "source": [
    "all_local_cases[0][0][0].shape"
   ]
  },
  {
   "cell_type": "markdown",
   "metadata": {},
   "source": [
    "### Inference of the Rt profile for the true choice of ϵ and for the baseline ϵ = 1"
   ]
  },
  {
   "cell_type": "code",
   "execution_count": 7,
   "metadata": {},
   "outputs": [],
   "source": [
    "# Define the divergence function between the two posterior summary dataframes\n",
    "def post_divergence(df1, df2):\n",
    "    return np.mean(np.absolute(df1['Mean']-df2['Mean']))"
   ]
  },
  {
   "cell_type": "code",
   "execution_count": 8,
   "metadata": {},
   "outputs": [
    {
     "ename": "KeyboardInterrupt",
     "evalue": "",
     "output_type": "error",
     "traceback": [
      "\u001b[0;31m---------------------------------------------------------------------------\u001b[0m",
      "\u001b[0;31mKeyboardInterrupt\u001b[0m                         Traceback (most recent call last)",
      "Input \u001b[0;32mIn [8]\u001b[0m, in \u001b[0;36m<module>\u001b[0;34m\u001b[0m\n\u001b[1;32m     40\u001b[0m \u001b[38;5;66;03m# Run inference for the baseline value of epsilon = 1\u001b[39;00m\n\u001b[1;32m     41\u001b[0m inference_baseline \u001b[38;5;241m=\u001b[39m branchpro\u001b[38;5;241m.\u001b[39mLocImpBranchProPosteriorMultSI(\n\u001b[1;32m     42\u001b[0m     inc_data\u001b[38;5;241m=\u001b[39minc_data,\n\u001b[1;32m     43\u001b[0m     imported_inc_data\u001b[38;5;241m=\u001b[39mimported_inc_data,\n\u001b[0;32m   (...)\u001b[0m\n\u001b[1;32m     46\u001b[0m     alpha\u001b[38;5;241m=\u001b[39ma,\n\u001b[1;32m     47\u001b[0m     beta\u001b[38;5;241m=\u001b[39mb)\n\u001b[0;32m---> 49\u001b[0m \u001b[43minference_baseline\u001b[49m\u001b[38;5;241;43m.\u001b[39;49m\u001b[43mrun_inference\u001b[49m\u001b[43m(\u001b[49m\u001b[43mtau\u001b[49m\u001b[38;5;241;43m=\u001b[39;49m\u001b[43mtau\u001b[49m\u001b[43m)\u001b[49m\n\u001b[1;32m     50\u001b[0m intervals_baseline \u001b[38;5;241m=\u001b[39m inference_baseline\u001b[38;5;241m.\u001b[39mget_intervals(central_prob\u001b[38;5;241m=\u001b[39m\u001b[38;5;241m0\u001b[39m)\n\u001b[1;32m     52\u001b[0m \u001b[38;5;66;03m# Compute divergence between the two posteriors\u001b[39;00m\n",
      "File \u001b[0;32m~/Desktop/Software Project/branchpro/branchpro/posterior.py:937\u001b[0m, in \u001b[0;36mLocImpBranchProPosteriorMultSI.run_inference\u001b[0;34m(self, tau, progress_fn)\u001b[0m\n\u001b[1;32m    935\u001b[0m \u001b[38;5;28;01melse\u001b[39;00m:\n\u001b[1;32m    936\u001b[0m     percentile_prog_fn \u001b[38;5;241m=\u001b[39m \u001b[38;5;28;01mNone\u001b[39;00m\n\u001b[0;32m--> 937\u001b[0m \u001b[38;5;28;43mself\u001b[39;49m\u001b[38;5;241;43m.\u001b[39;49m\u001b[43m_calculate_posterior_percentiles\u001b[49m\u001b[43m(\u001b[49m\u001b[43mprogress_fn\u001b[49m\u001b[38;5;241;43m=\u001b[39;49m\u001b[43mpercentile_prog_fn\u001b[49m\u001b[43m)\u001b[49m\n",
      "File \u001b[0;32m~/Desktop/Software Project/branchpro/branchpro/posterior.py:638\u001b[0m, in \u001b[0;36mBranchProPosteriorMultSI._calculate_posterior_percentiles\u001b[0;34m(self, progress_fn)\u001b[0m\n\u001b[1;32m    634\u001b[0m cdf \u001b[38;5;241m=\u001b[39m np\u001b[38;5;241m.\u001b[39mvstack((np\u001b[38;5;241m.\u001b[39mzeros(cdf\u001b[38;5;241m.\u001b[39mshape[\u001b[38;5;241m1\u001b[39m]), cdf))\n\u001b[1;32m    636\u001b[0m \u001b[38;5;66;03m# Do an interpolation to get the inverse CDF\u001b[39;00m\n\u001b[1;32m    637\u001b[0m \u001b[38;5;66;03m# Interpolation is performed separately for each time point\u001b[39;00m\n\u001b[0;32m--> 638\u001b[0m inv_cdf \u001b[38;5;241m=\u001b[39m [scipy\u001b[38;5;241m.\u001b[39minterpolate\u001b[38;5;241m.\u001b[39minterp1d(cdf[:, t], integration_grid)\n\u001b[1;32m    639\u001b[0m            \u001b[38;5;28;01mfor\u001b[39;00m t \u001b[38;5;129;01min\u001b[39;00m \u001b[38;5;28mrange\u001b[39m(cdf\u001b[38;5;241m.\u001b[39mshape[\u001b[38;5;241m1\u001b[39m])]\n\u001b[1;32m    641\u001b[0m \u001b[38;5;66;03m# Define a function to get the values of R_t over time in an array\u001b[39;00m\n\u001b[1;32m    642\u001b[0m \u001b[38;5;28;01mdef\u001b[39;00m \u001b[38;5;21mposterior_ppf\u001b[39m(p):\n\u001b[1;32m    643\u001b[0m     \u001b[38;5;66;03m# p = probability\u001b[39;00m\n\u001b[1;32m    644\u001b[0m     \u001b[38;5;66;03m# returns = posterior R_t trajectory\u001b[39;00m\n",
      "File \u001b[0;32m~/Desktop/Software Project/branchpro/branchpro/posterior.py:638\u001b[0m, in \u001b[0;36m<listcomp>\u001b[0;34m(.0)\u001b[0m\n\u001b[1;32m    634\u001b[0m cdf \u001b[38;5;241m=\u001b[39m np\u001b[38;5;241m.\u001b[39mvstack((np\u001b[38;5;241m.\u001b[39mzeros(cdf\u001b[38;5;241m.\u001b[39mshape[\u001b[38;5;241m1\u001b[39m]), cdf))\n\u001b[1;32m    636\u001b[0m \u001b[38;5;66;03m# Do an interpolation to get the inverse CDF\u001b[39;00m\n\u001b[1;32m    637\u001b[0m \u001b[38;5;66;03m# Interpolation is performed separately for each time point\u001b[39;00m\n\u001b[0;32m--> 638\u001b[0m inv_cdf \u001b[38;5;241m=\u001b[39m [\u001b[43mscipy\u001b[49m\u001b[38;5;241;43m.\u001b[39;49m\u001b[43minterpolate\u001b[49m\u001b[38;5;241;43m.\u001b[39;49m\u001b[43minterp1d\u001b[49m\u001b[43m(\u001b[49m\u001b[43mcdf\u001b[49m\u001b[43m[\u001b[49m\u001b[43m:\u001b[49m\u001b[43m,\u001b[49m\u001b[43m \u001b[49m\u001b[43mt\u001b[49m\u001b[43m]\u001b[49m\u001b[43m,\u001b[49m\u001b[43m \u001b[49m\u001b[43mintegration_grid\u001b[49m\u001b[43m)\u001b[49m\n\u001b[1;32m    639\u001b[0m            \u001b[38;5;28;01mfor\u001b[39;00m t \u001b[38;5;129;01min\u001b[39;00m \u001b[38;5;28mrange\u001b[39m(cdf\u001b[38;5;241m.\u001b[39mshape[\u001b[38;5;241m1\u001b[39m])]\n\u001b[1;32m    641\u001b[0m \u001b[38;5;66;03m# Define a function to get the values of R_t over time in an array\u001b[39;00m\n\u001b[1;32m    642\u001b[0m \u001b[38;5;28;01mdef\u001b[39;00m \u001b[38;5;21mposterior_ppf\u001b[39m(p):\n\u001b[1;32m    643\u001b[0m     \u001b[38;5;66;03m# p = probability\u001b[39;00m\n\u001b[1;32m    644\u001b[0m     \u001b[38;5;66;03m# returns = posterior R_t trajectory\u001b[39;00m\n",
      "File \u001b[0;32m~/opt/anaconda3/envs/branchpro/lib/python3.9/site-packages/scipy/interpolate/interpolate.py:458\u001b[0m, in \u001b[0;36minterp1d.__init__\u001b[0;34m(self, x, y, kind, axis, copy, bounds_error, fill_value, assume_sorted)\u001b[0m\n\u001b[1;32m    456\u001b[0m     ind \u001b[38;5;241m=\u001b[39m np\u001b[38;5;241m.\u001b[39margsort(x, kind\u001b[38;5;241m=\u001b[39m\u001b[38;5;124m\"\u001b[39m\u001b[38;5;124mmergesort\u001b[39m\u001b[38;5;124m\"\u001b[39m)\n\u001b[1;32m    457\u001b[0m     x \u001b[38;5;241m=\u001b[39m x[ind]\n\u001b[0;32m--> 458\u001b[0m     y \u001b[38;5;241m=\u001b[39m \u001b[43mnp\u001b[49m\u001b[38;5;241;43m.\u001b[39;49m\u001b[43mtake\u001b[49m\u001b[43m(\u001b[49m\u001b[43my\u001b[49m\u001b[43m,\u001b[49m\u001b[43m \u001b[49m\u001b[43mind\u001b[49m\u001b[43m,\u001b[49m\u001b[43m \u001b[49m\u001b[43maxis\u001b[49m\u001b[38;5;241;43m=\u001b[39;49m\u001b[43maxis\u001b[49m\u001b[43m)\u001b[49m\n\u001b[1;32m    460\u001b[0m \u001b[38;5;28;01mif\u001b[39;00m x\u001b[38;5;241m.\u001b[39mndim \u001b[38;5;241m!=\u001b[39m \u001b[38;5;241m1\u001b[39m:\n\u001b[1;32m    461\u001b[0m     \u001b[38;5;28;01mraise\u001b[39;00m \u001b[38;5;167;01mValueError\u001b[39;00m(\u001b[38;5;124m\"\u001b[39m\u001b[38;5;124mthe x array must have exactly one dimension.\u001b[39m\u001b[38;5;124m\"\u001b[39m)\n",
      "File \u001b[0;32m<__array_function__ internals>:180\u001b[0m, in \u001b[0;36mtake\u001b[0;34m(*args, **kwargs)\u001b[0m\n",
      "File \u001b[0;32m~/opt/anaconda3/envs/branchpro/lib/python3.9/site-packages/numpy/core/fromnumeric.py:190\u001b[0m, in \u001b[0;36mtake\u001b[0;34m(a, indices, axis, out, mode)\u001b[0m\n\u001b[1;32m     93\u001b[0m \u001b[38;5;129m@array_function_dispatch\u001b[39m(_take_dispatcher)\n\u001b[1;32m     94\u001b[0m \u001b[38;5;28;01mdef\u001b[39;00m \u001b[38;5;21mtake\u001b[39m(a, indices, axis\u001b[38;5;241m=\u001b[39m\u001b[38;5;28;01mNone\u001b[39;00m, out\u001b[38;5;241m=\u001b[39m\u001b[38;5;28;01mNone\u001b[39;00m, mode\u001b[38;5;241m=\u001b[39m\u001b[38;5;124m'\u001b[39m\u001b[38;5;124mraise\u001b[39m\u001b[38;5;124m'\u001b[39m):\n\u001b[1;32m     95\u001b[0m     \u001b[38;5;124;03m\"\"\"\u001b[39;00m\n\u001b[1;32m     96\u001b[0m \u001b[38;5;124;03m    Take elements from an array along an axis.\u001b[39;00m\n\u001b[1;32m     97\u001b[0m \n\u001b[0;32m   (...)\u001b[0m\n\u001b[1;32m    188\u001b[0m \u001b[38;5;124;03m           [5, 7]])\u001b[39;00m\n\u001b[1;32m    189\u001b[0m \u001b[38;5;124;03m    \"\"\"\u001b[39;00m\n\u001b[0;32m--> 190\u001b[0m     \u001b[38;5;28;01mreturn\u001b[39;00m \u001b[43m_wrapfunc\u001b[49m\u001b[43m(\u001b[49m\u001b[43ma\u001b[49m\u001b[43m,\u001b[49m\u001b[43m \u001b[49m\u001b[38;5;124;43m'\u001b[39;49m\u001b[38;5;124;43mtake\u001b[39;49m\u001b[38;5;124;43m'\u001b[39;49m\u001b[43m,\u001b[49m\u001b[43m \u001b[49m\u001b[43mindices\u001b[49m\u001b[43m,\u001b[49m\u001b[43m \u001b[49m\u001b[43maxis\u001b[49m\u001b[38;5;241;43m=\u001b[39;49m\u001b[43maxis\u001b[49m\u001b[43m,\u001b[49m\u001b[43m \u001b[49m\u001b[43mout\u001b[49m\u001b[38;5;241;43m=\u001b[39;49m\u001b[43mout\u001b[49m\u001b[43m,\u001b[49m\u001b[43m \u001b[49m\u001b[43mmode\u001b[49m\u001b[38;5;241;43m=\u001b[39;49m\u001b[43mmode\u001b[49m\u001b[43m)\u001b[49m\n",
      "File \u001b[0;32m~/opt/anaconda3/envs/branchpro/lib/python3.9/site-packages/numpy/core/fromnumeric.py:57\u001b[0m, in \u001b[0;36m_wrapfunc\u001b[0;34m(obj, method, *args, **kwds)\u001b[0m\n\u001b[1;32m     54\u001b[0m     \u001b[38;5;28;01mreturn\u001b[39;00m _wrapit(obj, method, \u001b[38;5;241m*\u001b[39margs, \u001b[38;5;241m*\u001b[39m\u001b[38;5;241m*\u001b[39mkwds)\n\u001b[1;32m     56\u001b[0m \u001b[38;5;28;01mtry\u001b[39;00m:\n\u001b[0;32m---> 57\u001b[0m     \u001b[38;5;28;01mreturn\u001b[39;00m \u001b[43mbound\u001b[49m\u001b[43m(\u001b[49m\u001b[38;5;241;43m*\u001b[39;49m\u001b[43margs\u001b[49m\u001b[43m,\u001b[49m\u001b[43m \u001b[49m\u001b[38;5;241;43m*\u001b[39;49m\u001b[38;5;241;43m*\u001b[39;49m\u001b[43mkwds\u001b[49m\u001b[43m)\u001b[49m\n\u001b[1;32m     58\u001b[0m \u001b[38;5;28;01mexcept\u001b[39;00m \u001b[38;5;167;01mTypeError\u001b[39;00m:\n\u001b[1;32m     59\u001b[0m     \u001b[38;5;66;03m# A TypeError occurs if the object does have such a method in its\u001b[39;00m\n\u001b[1;32m     60\u001b[0m     \u001b[38;5;66;03m# class, but its signature is not identical to that of NumPy's. This\u001b[39;00m\n\u001b[0;32m   (...)\u001b[0m\n\u001b[1;32m     64\u001b[0m     \u001b[38;5;66;03m# Call _wrapit from within the except clause to ensure a potential\u001b[39;00m\n\u001b[1;32m     65\u001b[0m     \u001b[38;5;66;03m# exception has a traceback chain.\u001b[39;00m\n\u001b[1;32m     66\u001b[0m     \u001b[38;5;28;01mreturn\u001b[39;00m _wrapit(obj, method, \u001b[38;5;241m*\u001b[39margs, \u001b[38;5;241m*\u001b[39m\u001b[38;5;241m*\u001b[39mkwds)\n",
      "\u001b[0;31mKeyboardInterrupt\u001b[0m: "
     ]
    }
   ],
   "source": [
    "# Inference R_t profile using the LocImpBranchProPosterior\n",
    "a = 1\n",
    "b = 0.2\n",
    "\n",
    "# Run comparative inferences for different values of epsilon and lambda\n",
    "difference = np.empty((len(epsilon_values), len(lambdas)))\n",
    "\n",
    "for _, epsilon in enumerate(epsilon_values):\n",
    "    for l, lam in enumerate(lambdas):\n",
    "        point_difference = []\n",
    "        for i, imported_cases in enumerate(all_imported_cases):\n",
    "            locally_infected_cases = all_local_cases[_][l][i]:\n",
    "            # Transform our incidence data into pandas dataframes\n",
    "            inc_data = pd.DataFrame(\n",
    "                {\n",
    "                    'Time': start_times,\n",
    "                    'Incidence Number': locally_infected_cases\n",
    "                }\n",
    "            )\n",
    "\n",
    "            imported_inc_data = pd.DataFrame(\n",
    "                {\n",
    "                    'Time': start_times,\n",
    "                    'Incidence Number': imported_cases\n",
    "                }\n",
    "            )\n",
    "\n",
    "            # Run inference for the true value of epsilon\n",
    "            inference_true = branchpro.LocImpBranchProPosteriorMultSI(\n",
    "                inc_data=inc_data,\n",
    "                imported_inc_data=imported_inc_data,\n",
    "                epsilon=epsilon,\n",
    "                daily_serial_intervals=serial_intervals[:2, :],\n",
    "                alpha=a,\n",
    "                beta=b)\n",
    "\n",
    "            inference_true.run_inference(tau=tau)\n",
    "            intervals_true = inference_true.get_intervals(central_prob=0)\n",
    "\n",
    "            # Run inference for the baseline value of epsilon = 1\n",
    "            inference_baseline = branchpro.LocImpBranchProPosteriorMultSI(\n",
    "                inc_data=inc_data,\n",
    "                imported_inc_data=imported_inc_data,\n",
    "                epsilon=1,\n",
    "                daily_serial_intervals=serial_intervals[:2, :],\n",
    "                alpha=a,\n",
    "                beta=b)\n",
    "\n",
    "            inference_baseline.run_inference(tau=tau)\n",
    "            intervals_baseline = inference_baseline.get_intervals(central_prob=0)\n",
    "\n",
    "            # Compute divergence between the two posteriors\n",
    "            point_difference.append(post_divergence(intervals_true, intervals_baseline))\n",
    "\n",
    "        difference[_, l] = np.mean(np.array(point_difference))"
   ]
  },
  {
   "cell_type": "markdown",
   "metadata": {},
   "source": [
    "### Compute heatmap of the divergence between posteriors fitted the true and baseline ϵ for different values of ϵ and λ"
   ]
  },
  {
   "cell_type": "code",
   "execution_count": null,
   "metadata": {},
   "outputs": [
    {
     "data": {
      "application/vnd.plotly.v1+json": {
       "config": {
        "plotlyServerURL": "https://plot.ly"
       },
       "data": [
        {
         "coloraxis": "coloraxis",
         "type": "heatmap",
         "x": [
          0.25,
          0.34,
          0.43,
          0.53,
          0.62,
          0.71,
          0.8,
          0.89,
          0.99,
          1.08,
          1.17,
          1.26,
          1.36,
          1.45,
          1.54,
          1.63,
          1.72,
          1.82,
          1.91,
          2
         ],
         "y": [
          0.1,
          0.2,
          0.3,
          0.4,
          0.5,
          0.6,
          0.7,
          0.8,
          0.9,
          1,
          1.1,
          1.2,
          1.3,
          1.4,
          1.5,
          1.6,
          1.7,
          1.8,
          1.9,
          2
         ],
         "z": [
          [
           0.40050035161844577,
           0.41055588661523346,
           0.4674171614343101,
           0.5063254754048961,
           0.5348640995409744,
           0.5459269664425698,
           0.5595123421214033,
           0.5937146186230311,
           0.6007060185234439,
           0.608303077312351,
           0.6138814661133037,
           0.6037708718515988,
           0.6119443337068577,
           0.5770973406879548,
           0.5887978468955882,
           0.5832722456373716,
           0.5598618957237079,
           0.5660975386244802,
           0.5598048774993936,
           0.5406420482720788
          ],
          [
           0.24082349643389075,
           0.268007001563528,
           0.3338682981024268,
           0.35920807705734226,
           0.3895923428778071,
           0.4069236730073211,
           0.4112252781921062,
           0.42853856395356277,
           0.43111863069743495,
           0.42256871053504214,
           0.4133589524585709,
           0.4066368544318019,
           0.402890126546529,
           0.3928970400597279,
           0.38302877944713387,
           0.38585311212681794,
           0.3805070055890421,
           0.37524262137362974,
           0.37334446083426726,
           0.372064015013475
          ],
          [
           0.1895067795692277,
           0.22840186513601207,
           0.26325145684485707,
           0.27736001206611505,
           0.30348874536347414,
           0.30966768353609825,
           0.3194439420438716,
           0.32159378548018025,
           0.32367529744560336,
           0.313119023602169,
           0.30549068234382526,
           0.3042173373925563,
           0.2957561335149095,
           0.2921319952447455,
           0.28495590399832776,
           0.28407555458589206,
           0.27980837740009645,
           0.27699944189222103,
           0.27403433531724763,
           0.2765286152233766
          ],
          [
           0.15330858053775587,
           0.18370384571930098,
           0.2031387725063363,
           0.21133673879420992,
           0.23625503838226034,
           0.23977355206986428,
           0.24259392967620827,
           0.247048534712103,
           0.24277211308180535,
           0.23796551182456555,
           0.2285411568665482,
           0.22469490715102242,
           0.2192998317416065,
           0.21655097681649557,
           0.2112634899823334,
           0.21192118937307453,
           0.20860850032322228,
           0.20789100439557281,
           0.20523652126825653,
           0.20723045940148707
          ],
          [
           0.1193351782057373,
           0.13375566088395657,
           0.15732824454192462,
           0.16672528332580477,
           0.17473082789771424,
           0.18306729318436485,
           0.18474262109734924,
           0.1842455693428233,
           0.1812625299699298,
           0.17668765191124156,
           0.17516910878914324,
           0.1693695902021787,
           0.16770141423709362,
           0.16268365191579978,
           0.15995819636779487,
           0.15944190644049222,
           0.1565425426014776,
           0.15541914025602904,
           0.1549827381324195,
           0.15640756246558396
          ],
          [
           0.09073392112941846,
           0.10136043621401399,
           0.11868841354316408,
           0.12640588031947697,
           0.1357606444109758,
           0.1359370733991529,
           0.1359022435205567,
           0.13540182923110053,
           0.13372431128545903,
           0.1290620382266465,
           0.12537434897245178,
           0.12285818344651352,
           0.12188830867351415,
           0.11790769125515901,
           0.11792321517436952,
           0.11565611795968112,
           0.11481531524598976,
           0.11351279419664674,
           0.11354725450318119,
           0.11377630103937894
          ],
          [
           0.0655939300099207,
           0.07365727660514168,
           0.08299560832636756,
           0.09157172479143866,
           0.09474738328159191,
           0.09623101224354012,
           0.0962344497101422,
           0.09345583651172251,
           0.09242121955975278,
           0.08970020037954482,
           0.08698526705960143,
           0.08614277319944462,
           0.08456125301286693,
           0.08184551348528941,
           0.08220977610852281,
           0.08085384651786276,
           0.07991699368728175,
           0.07957573950486123,
           0.07852387212873223,
           0.07965499737498424
          ],
          [
           0.04073857022587222,
           0.04926214171230223,
           0.053128069450625766,
           0.05693718709130199,
           0.05913612476177446,
           0.059896540808241513,
           0.05926294055283986,
           0.05831434845424084,
           0.057595980227752495,
           0.056667603359476085,
           0.0545486127051138,
           0.053314290537021344,
           0.05217499609970224,
           0.05103161676699866,
           0.05017790410242371,
           0.05027822917912753,
           0.049528442697563194,
           0.0492765465687172,
           0.04997596196551485,
           0.04882909599111411
          ],
          [
           0.019724772942703736,
           0.023227584396549723,
           0.026008199511236854,
           0.02705060798689696,
           0.027953793156661248,
           0.02838638256011009,
           0.028199964204342235,
           0.027915524589525047,
           0.026573912322422694,
           0.026330907361630008,
           0.025437680969133316,
           0.024895765367500426,
           0.024472584736652793,
           0.024215429929586765,
           0.023673272690956756,
           0.023490209826653227,
           0.023464127255713996,
           0.023382523638240657,
           0.023205256552847033,
           0.02320797493364238
          ],
          [
           3.337527282966541e-17,
           3.8660934918560324e-17,
           4.3343881455569346e-17,
           4.4621928890893654e-17,
           4.3773124659857555e-17,
           4.531904567379782e-17,
           4.5054399487695304e-17,
           4.628403603531793e-17,
           4.3059870914386156e-17,
           4.2950139568929004e-17,
           4.405390780852729e-17,
           4.168500170365849e-17,
           4.077487701486694e-17,
           3.899981113247208e-17,
           3.53334932371983e-17,
           3.666317895273773e-17,
           3.7334476595534335e-17,
           3.941291737419305e-17,
           3.731511224045365e-17,
           3.881907715171914e-17
          ],
          [
           0.018764820095172365,
           0.02130060712148267,
           0.023972479159972148,
           0.025053689397031294,
           0.02593379227142267,
           0.025467693629384808,
           0.02559445067740473,
           0.024599945417921255,
           0.023945649776750927,
           0.023214457332939076,
           0.02252514602661951,
           0.022381663684585214,
           0.0221930028634739,
           0.02167895172551918,
           0.021299278643497278,
           0.020985395218024453,
           0.021043306987084204,
           0.02082613501709969,
           0.020804635063680566,
           0.020831849170130912
          ],
          [
           0.03532514861653795,
           0.041782097476014045,
           0.045323774490547496,
           0.048663345289314874,
           0.04899281364962318,
           0.0494078443279425,
           0.048070166404666256,
           0.04715714768629628,
           0.04575292358054831,
           0.04413990542204331,
           0.042900080790727914,
           0.04268936182024369,
           0.041622955761989926,
           0.040649001441882306,
           0.04067668068513945,
           0.04036614962295397,
           0.04021622559614646,
           0.03964426706221047,
           0.04013637488510612,
           0.03979505624955674
          ],
          [
           0.05410408763394349,
           0.0619160273639828,
           0.06688597303159896,
           0.06931637524525555,
           0.07040901020930188,
           0.07010065651895041,
           0.06900264032604694,
           0.06757064583411901,
           0.06603344243769405,
           0.0632641579523317,
           0.06203694628956035,
           0.060087831560958545,
           0.05929194035723117,
           0.05886846464169903,
           0.0579624016841599,
           0.05818862360439461,
           0.05717095867563634,
           0.057125465591549934,
           0.05688130093156544,
           0.056593986977705006
          ],
          [
           0.06892915691180392,
           0.077525015591459,
           0.08625226583746706,
           0.0885589160921085,
           0.09089508745066538,
           0.09051018894986189,
           0.08839600557039905,
           0.08610377914601772,
           0.08322859822076371,
           0.08144707472793179,
           0.07819607276982482,
           0.07764778439107704,
           0.07600528618025973,
           0.07554192687404966,
           0.07371606533934967,
           0.07391011965766847,
           0.07408638196406031,
           0.0726233688133558,
           0.07255330338368224,
           0.07293880603924029
          ],
          [
           0.08204200231560328,
           0.09505613379117989,
           0.10184069704923898,
           0.10687407390725712,
           0.11042065883717765,
           0.10903051577564865,
           0.1062486232952019,
           0.10407216168172764,
           0.10090707086516527,
           0.09755505485123221,
           0.09401922844650303,
           0.09292739834827367,
           0.09175451076364138,
           0.09021824635207232,
           0.08932466311591877,
           0.0885811030576937,
           0.08788729001610614,
           0.08875853328185367,
           0.08753711957270328,
           0.08806161559350338
          ],
          [
           0.09987677936804674,
           0.11410055133136668,
           0.12208816521682603,
           0.12474903508227182,
           0.1271616740942109,
           0.12735910568780992,
           0.12269021230987358,
           0.11877488561609274,
           0.11509055241717114,
           0.11345205543817757,
           0.10924832496454934,
           0.106966922855405,
           0.10632574797361659,
           0.1058702136525752,
           0.10376577690900253,
           0.10337855499259127,
           0.10180535170725494,
           0.1001726164070021,
           0.10156974496709345,
           0.09996451026480861
          ],
          [
           0.11416172196230548,
           0.12955366492258796,
           0.13760045332259604,
           0.14281435850796254,
           0.14167409054167499,
           0.14151054079545708,
           0.137520051720131,
           0.1353354260013615,
           0.12895720019256665,
           0.1265676889243806,
           0.12224709754769104,
           0.12059201838694214,
           0.11728017844363015,
           0.11749378431711928,
           0.11530759389691646,
           0.1159028590907598,
           0.11593784490379867,
           0.11515186054932254,
           0.11473787994305479,
           0.11251890641038784
          ],
          [
           0.12790832521715495,
           0.14249833545946972,
           0.15126601036492976,
           0.1572395678488219,
           0.15770417635136844,
           0.1545279416072748,
           0.15235606146826564,
           0.14780254362256198,
           0.14269728723869712,
           0.13949237054349742,
           0.13635007831600413,
           0.1335347777240842,
           0.13074178974523085,
           0.12943647385160037,
           0.129306120231341,
           0.1282612052420057,
           0.12645639884259188,
           0.12618246250523796,
           0.12655117866402144,
           0.12625114579284713
          ],
          [
           0.13618196074311528,
           0.15491733105005562,
           0.16613212937679972,
           0.17105825307357225,
           0.17095312436740184,
           0.16868731039378684,
           0.1665707196453161,
           0.1612842428005952,
           0.1547526551920738,
           0.15160608398712588,
           0.14865439870947278,
           0.1453949811599817,
           0.14326510219532942,
           0.1407441288399505,
           0.14013251947560865,
           0.1395633563572293,
           0.13878354325023315,
           0.13985546700069879,
           0.13941264688838875,
           0.1398367624986618
          ],
          [
           0.15224164937195908,
           0.17400643894281825,
           0.18063379707461216,
           0.18621123825294283,
           0.18443495802875978,
           0.1826835914415112,
           0.17746640680435535,
           0.17269481139403858,
           0.16897722683107663,
           0.16096297865590434,
           0.1592237095660425,
           0.1554128002500828,
           0.15474952089930882,
           0.15166069701731266,
           0.15083246400308886,
           0.1503445258054463,
           0.1509760294508823,
           0.14843107159586966,
           0.1483344674866191,
           0.14732151123799195
          ]
         ]
        }
       ],
       "layout": {
        "boxmode": "group",
        "coloraxis": {
         "colorscale": [
          [
           0,
           "#440154"
          ],
          [
           0.1111111111111111,
           "#482878"
          ],
          [
           0.2222222222222222,
           "#3e4989"
          ],
          [
           0.3333333333333333,
           "#31688e"
          ],
          [
           0.4444444444444444,
           "#26828e"
          ],
          [
           0.5555555555555556,
           "#1f9e89"
          ],
          [
           0.6666666666666666,
           "#35b779"
          ],
          [
           0.7777777777777778,
           "#6ece58"
          ],
          [
           0.8888888888888888,
           "#b5de2b"
          ],
          [
           1,
           "#fde725"
          ]
         ]
        },
        "height": 500,
        "plot_bgcolor": "white",
        "template": {
         "data": {
          "bar": [
           {
            "error_x": {
             "color": "#2a3f5f"
            },
            "error_y": {
             "color": "#2a3f5f"
            },
            "marker": {
             "line": {
              "color": "#E5ECF6",
              "width": 0.5
             },
             "pattern": {
              "fillmode": "overlay",
              "size": 10,
              "solidity": 0.2
             }
            },
            "type": "bar"
           }
          ],
          "barpolar": [
           {
            "marker": {
             "line": {
              "color": "#E5ECF6",
              "width": 0.5
             },
             "pattern": {
              "fillmode": "overlay",
              "size": 10,
              "solidity": 0.2
             }
            },
            "type": "barpolar"
           }
          ],
          "carpet": [
           {
            "aaxis": {
             "endlinecolor": "#2a3f5f",
             "gridcolor": "white",
             "linecolor": "white",
             "minorgridcolor": "white",
             "startlinecolor": "#2a3f5f"
            },
            "baxis": {
             "endlinecolor": "#2a3f5f",
             "gridcolor": "white",
             "linecolor": "white",
             "minorgridcolor": "white",
             "startlinecolor": "#2a3f5f"
            },
            "type": "carpet"
           }
          ],
          "choropleth": [
           {
            "colorbar": {
             "outlinewidth": 0,
             "ticks": ""
            },
            "type": "choropleth"
           }
          ],
          "contour": [
           {
            "colorbar": {
             "outlinewidth": 0,
             "ticks": ""
            },
            "colorscale": [
             [
              0,
              "#0d0887"
             ],
             [
              0.1111111111111111,
              "#46039f"
             ],
             [
              0.2222222222222222,
              "#7201a8"
             ],
             [
              0.3333333333333333,
              "#9c179e"
             ],
             [
              0.4444444444444444,
              "#bd3786"
             ],
             [
              0.5555555555555556,
              "#d8576b"
             ],
             [
              0.6666666666666666,
              "#ed7953"
             ],
             [
              0.7777777777777778,
              "#fb9f3a"
             ],
             [
              0.8888888888888888,
              "#fdca26"
             ],
             [
              1,
              "#f0f921"
             ]
            ],
            "type": "contour"
           }
          ],
          "contourcarpet": [
           {
            "colorbar": {
             "outlinewidth": 0,
             "ticks": ""
            },
            "type": "contourcarpet"
           }
          ],
          "heatmap": [
           {
            "colorbar": {
             "outlinewidth": 0,
             "ticks": ""
            },
            "colorscale": [
             [
              0,
              "#0d0887"
             ],
             [
              0.1111111111111111,
              "#46039f"
             ],
             [
              0.2222222222222222,
              "#7201a8"
             ],
             [
              0.3333333333333333,
              "#9c179e"
             ],
             [
              0.4444444444444444,
              "#bd3786"
             ],
             [
              0.5555555555555556,
              "#d8576b"
             ],
             [
              0.6666666666666666,
              "#ed7953"
             ],
             [
              0.7777777777777778,
              "#fb9f3a"
             ],
             [
              0.8888888888888888,
              "#fdca26"
             ],
             [
              1,
              "#f0f921"
             ]
            ],
            "type": "heatmap"
           }
          ],
          "heatmapgl": [
           {
            "colorbar": {
             "outlinewidth": 0,
             "ticks": ""
            },
            "colorscale": [
             [
              0,
              "#0d0887"
             ],
             [
              0.1111111111111111,
              "#46039f"
             ],
             [
              0.2222222222222222,
              "#7201a8"
             ],
             [
              0.3333333333333333,
              "#9c179e"
             ],
             [
              0.4444444444444444,
              "#bd3786"
             ],
             [
              0.5555555555555556,
              "#d8576b"
             ],
             [
              0.6666666666666666,
              "#ed7953"
             ],
             [
              0.7777777777777778,
              "#fb9f3a"
             ],
             [
              0.8888888888888888,
              "#fdca26"
             ],
             [
              1,
              "#f0f921"
             ]
            ],
            "type": "heatmapgl"
           }
          ],
          "histogram": [
           {
            "marker": {
             "pattern": {
              "fillmode": "overlay",
              "size": 10,
              "solidity": 0.2
             }
            },
            "type": "histogram"
           }
          ],
          "histogram2d": [
           {
            "colorbar": {
             "outlinewidth": 0,
             "ticks": ""
            },
            "colorscale": [
             [
              0,
              "#0d0887"
             ],
             [
              0.1111111111111111,
              "#46039f"
             ],
             [
              0.2222222222222222,
              "#7201a8"
             ],
             [
              0.3333333333333333,
              "#9c179e"
             ],
             [
              0.4444444444444444,
              "#bd3786"
             ],
             [
              0.5555555555555556,
              "#d8576b"
             ],
             [
              0.6666666666666666,
              "#ed7953"
             ],
             [
              0.7777777777777778,
              "#fb9f3a"
             ],
             [
              0.8888888888888888,
              "#fdca26"
             ],
             [
              1,
              "#f0f921"
             ]
            ],
            "type": "histogram2d"
           }
          ],
          "histogram2dcontour": [
           {
            "colorbar": {
             "outlinewidth": 0,
             "ticks": ""
            },
            "colorscale": [
             [
              0,
              "#0d0887"
             ],
             [
              0.1111111111111111,
              "#46039f"
             ],
             [
              0.2222222222222222,
              "#7201a8"
             ],
             [
              0.3333333333333333,
              "#9c179e"
             ],
             [
              0.4444444444444444,
              "#bd3786"
             ],
             [
              0.5555555555555556,
              "#d8576b"
             ],
             [
              0.6666666666666666,
              "#ed7953"
             ],
             [
              0.7777777777777778,
              "#fb9f3a"
             ],
             [
              0.8888888888888888,
              "#fdca26"
             ],
             [
              1,
              "#f0f921"
             ]
            ],
            "type": "histogram2dcontour"
           }
          ],
          "mesh3d": [
           {
            "colorbar": {
             "outlinewidth": 0,
             "ticks": ""
            },
            "type": "mesh3d"
           }
          ],
          "parcoords": [
           {
            "line": {
             "colorbar": {
              "outlinewidth": 0,
              "ticks": ""
             }
            },
            "type": "parcoords"
           }
          ],
          "pie": [
           {
            "automargin": true,
            "type": "pie"
           }
          ],
          "scatter": [
           {
            "marker": {
             "colorbar": {
              "outlinewidth": 0,
              "ticks": ""
             }
            },
            "type": "scatter"
           }
          ],
          "scatter3d": [
           {
            "line": {
             "colorbar": {
              "outlinewidth": 0,
              "ticks": ""
             }
            },
            "marker": {
             "colorbar": {
              "outlinewidth": 0,
              "ticks": ""
             }
            },
            "type": "scatter3d"
           }
          ],
          "scattercarpet": [
           {
            "marker": {
             "colorbar": {
              "outlinewidth": 0,
              "ticks": ""
             }
            },
            "type": "scattercarpet"
           }
          ],
          "scattergeo": [
           {
            "marker": {
             "colorbar": {
              "outlinewidth": 0,
              "ticks": ""
             }
            },
            "type": "scattergeo"
           }
          ],
          "scattergl": [
           {
            "marker": {
             "colorbar": {
              "outlinewidth": 0,
              "ticks": ""
             }
            },
            "type": "scattergl"
           }
          ],
          "scattermapbox": [
           {
            "marker": {
             "colorbar": {
              "outlinewidth": 0,
              "ticks": ""
             }
            },
            "type": "scattermapbox"
           }
          ],
          "scatterpolar": [
           {
            "marker": {
             "colorbar": {
              "outlinewidth": 0,
              "ticks": ""
             }
            },
            "type": "scatterpolar"
           }
          ],
          "scatterpolargl": [
           {
            "marker": {
             "colorbar": {
              "outlinewidth": 0,
              "ticks": ""
             }
            },
            "type": "scatterpolargl"
           }
          ],
          "scatterternary": [
           {
            "marker": {
             "colorbar": {
              "outlinewidth": 0,
              "ticks": ""
             }
            },
            "type": "scatterternary"
           }
          ],
          "surface": [
           {
            "colorbar": {
             "outlinewidth": 0,
             "ticks": ""
            },
            "colorscale": [
             [
              0,
              "#0d0887"
             ],
             [
              0.1111111111111111,
              "#46039f"
             ],
             [
              0.2222222222222222,
              "#7201a8"
             ],
             [
              0.3333333333333333,
              "#9c179e"
             ],
             [
              0.4444444444444444,
              "#bd3786"
             ],
             [
              0.5555555555555556,
              "#d8576b"
             ],
             [
              0.6666666666666666,
              "#ed7953"
             ],
             [
              0.7777777777777778,
              "#fb9f3a"
             ],
             [
              0.8888888888888888,
              "#fdca26"
             ],
             [
              1,
              "#f0f921"
             ]
            ],
            "type": "surface"
           }
          ],
          "table": [
           {
            "cells": {
             "fill": {
              "color": "#EBF0F8"
             },
             "line": {
              "color": "white"
             }
            },
            "header": {
             "fill": {
              "color": "#C8D4E3"
             },
             "line": {
              "color": "white"
             }
            },
            "type": "table"
           }
          ]
         },
         "layout": {
          "annotationdefaults": {
           "arrowcolor": "#2a3f5f",
           "arrowhead": 0,
           "arrowwidth": 1
          },
          "autotypenumbers": "strict",
          "coloraxis": {
           "colorbar": {
            "outlinewidth": 0,
            "ticks": ""
           }
          },
          "colorscale": {
           "diverging": [
            [
             0,
             "#8e0152"
            ],
            [
             0.1,
             "#c51b7d"
            ],
            [
             0.2,
             "#de77ae"
            ],
            [
             0.3,
             "#f1b6da"
            ],
            [
             0.4,
             "#fde0ef"
            ],
            [
             0.5,
             "#f7f7f7"
            ],
            [
             0.6,
             "#e6f5d0"
            ],
            [
             0.7,
             "#b8e186"
            ],
            [
             0.8,
             "#7fbc41"
            ],
            [
             0.9,
             "#4d9221"
            ],
            [
             1,
             "#276419"
            ]
           ],
           "sequential": [
            [
             0,
             "#0d0887"
            ],
            [
             0.1111111111111111,
             "#46039f"
            ],
            [
             0.2222222222222222,
             "#7201a8"
            ],
            [
             0.3333333333333333,
             "#9c179e"
            ],
            [
             0.4444444444444444,
             "#bd3786"
            ],
            [
             0.5555555555555556,
             "#d8576b"
            ],
            [
             0.6666666666666666,
             "#ed7953"
            ],
            [
             0.7777777777777778,
             "#fb9f3a"
            ],
            [
             0.8888888888888888,
             "#fdca26"
            ],
            [
             1,
             "#f0f921"
            ]
           ],
           "sequentialminus": [
            [
             0,
             "#0d0887"
            ],
            [
             0.1111111111111111,
             "#46039f"
            ],
            [
             0.2222222222222222,
             "#7201a8"
            ],
            [
             0.3333333333333333,
             "#9c179e"
            ],
            [
             0.4444444444444444,
             "#bd3786"
            ],
            [
             0.5555555555555556,
             "#d8576b"
            ],
            [
             0.6666666666666666,
             "#ed7953"
            ],
            [
             0.7777777777777778,
             "#fb9f3a"
            ],
            [
             0.8888888888888888,
             "#fdca26"
            ],
            [
             1,
             "#f0f921"
            ]
           ]
          },
          "colorway": [
           "#636efa",
           "#EF553B",
           "#00cc96",
           "#ab63fa",
           "#FFA15A",
           "#19d3f3",
           "#FF6692",
           "#B6E880",
           "#FF97FF",
           "#FECB52"
          ],
          "font": {
           "color": "#2a3f5f"
          },
          "geo": {
           "bgcolor": "white",
           "lakecolor": "white",
           "landcolor": "#E5ECF6",
           "showlakes": true,
           "showland": true,
           "subunitcolor": "white"
          },
          "hoverlabel": {
           "align": "left"
          },
          "hovermode": "closest",
          "mapbox": {
           "style": "light"
          },
          "paper_bgcolor": "white",
          "plot_bgcolor": "#E5ECF6",
          "polar": {
           "angularaxis": {
            "gridcolor": "white",
            "linecolor": "white",
            "ticks": ""
           },
           "bgcolor": "#E5ECF6",
           "radialaxis": {
            "gridcolor": "white",
            "linecolor": "white",
            "ticks": ""
           }
          },
          "scene": {
           "xaxis": {
            "backgroundcolor": "#E5ECF6",
            "gridcolor": "white",
            "gridwidth": 2,
            "linecolor": "white",
            "showbackground": true,
            "ticks": "",
            "zerolinecolor": "white"
           },
           "yaxis": {
            "backgroundcolor": "#E5ECF6",
            "gridcolor": "white",
            "gridwidth": 2,
            "linecolor": "white",
            "showbackground": true,
            "ticks": "",
            "zerolinecolor": "white"
           },
           "zaxis": {
            "backgroundcolor": "#E5ECF6",
            "gridcolor": "white",
            "gridwidth": 2,
            "linecolor": "white",
            "showbackground": true,
            "ticks": "",
            "zerolinecolor": "white"
           }
          },
          "shapedefaults": {
           "line": {
            "color": "#2a3f5f"
           }
          },
          "ternary": {
           "aaxis": {
            "gridcolor": "white",
            "linecolor": "white",
            "ticks": ""
           },
           "baxis": {
            "gridcolor": "white",
            "linecolor": "white",
            "ticks": ""
           },
           "bgcolor": "#E5ECF6",
           "caxis": {
            "gridcolor": "white",
            "linecolor": "white",
            "ticks": ""
           }
          },
          "title": {
           "x": 0.05
          },
          "xaxis": {
           "automargin": true,
           "gridcolor": "white",
           "linecolor": "white",
           "ticks": "",
           "title": {
            "standoff": 15
           },
           "zerolinecolor": "white",
           "zerolinewidth": 2
          },
          "yaxis": {
           "automargin": true,
           "gridcolor": "white",
           "linecolor": "white",
           "ticks": "",
           "title": {
            "standoff": 15
           },
           "zerolinecolor": "white",
           "zerolinewidth": 2
          }
         }
        },
        "width": 500,
        "xaxis": {
         "linecolor": "black",
         "title": {
          "text": "λ"
         },
         "type": "category"
        },
        "yaxis": {
         "linecolor": "black",
         "title": {
          "text": "ϵ"
         },
         "type": "category"
        }
       }
      }
     },
     "metadata": {},
     "output_type": "display_data"
    }
   ],
   "source": [
    "fig = go.Figure()\n",
    "\n",
    "# Plot heatmap\n",
    "fig.add_trace(\n",
    "    go.Heatmap(\n",
    "        x=np.round(lambdas, 2),\n",
    "        y=np.round(epsilon_values, 2),\n",
    "        z=difference,\n",
    "        type = 'heatmap',\n",
    "        coloraxis= 'coloraxis'\n",
    "    ),\n",
    ")\n",
    "\n",
    "# Add axis labels\n",
    "fig.update_xaxes(type='category', title_text='λ')\n",
    "fig.update_yaxes(type='category', title_text='ϵ')\n",
    "\n",
    "fig.update_layout(\n",
    "    boxmode='group',\n",
    "    height=500,\n",
    "    width=500,\n",
    "    plot_bgcolor='white',\n",
    "    xaxis=dict(\n",
    "        linecolor='black'),\n",
    "    yaxis=dict(\n",
    "        linecolor='black'),\n",
    "    coloraxis=dict(colorscale='Viridis'))\n",
    "\n",
    "fig.write_image('Heatmap.pdf')\n",
    "fig.show()"
   ]
  }
 ],
 "metadata": {
  "interpreter": {
   "hash": "9a1edc82fdfb75c3b64a2a1e331992ba51087b4bcc20e5799465daad38af24d9"
  },
  "kernelspec": {
   "display_name": "Python 3.9.7 64-bit ('branchpro': conda)",
   "name": "python3"
  },
  "language_info": {
   "codemirror_mode": {
    "name": "ipython",
    "version": 3
   },
   "file_extension": ".py",
   "mimetype": "text/x-python",
   "name": "python",
   "nbconvert_exporter": "python",
   "pygments_lexer": "ipython3",
   "version": "3.9.7"
  },
  "orig_nbformat": 4
 },
 "nbformat": 4,
 "nbformat_minor": 2
}
