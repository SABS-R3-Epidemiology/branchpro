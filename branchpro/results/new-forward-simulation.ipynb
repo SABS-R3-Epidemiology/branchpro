{
 "cells": [
  {
   "cell_type": "markdown",
   "metadata": {},
   "source": [
    "# Differences in behaviour of Rt Profile for Different Infectiousness Levels of Imported Cases\n",
    "\n",
    "The aim of this notebook is to show how different values the epsilon parameter can affect the outcome of the epidemic. This effect is studied through the behaviour of the time-dependent reproduction number trajectory. Epsilon represents the proportionality constant of the reproduction number for imported cases with respect to its analog for local ones. For this analysis we will use an Rt profile from real data from Hong Kong, China with an assumed infectioness of imported cases equal to that of the local ones (i.e. epsilon = 1).\n",
    "\n",
    "This Rt profile will then be used together with synthetically generated imported cases to produce local incidences for a given 'true' value of epsilon. We will proceed to infer the Rt profile for both the true value of epsilon and for epsilon = 1 (for the most common scenario when no distinguishing is made between the imported and the local cases)."
   ]
  },
  {
   "cell_type": "code",
   "execution_count": 1,
   "metadata": {},
   "outputs": [
    {
     "name": "stderr",
     "output_type": "stream",
     "text": [
      "/Users/ioaros/Desktop/Software Project/branchpro/branchpro/apps/_dash_app.py:18: UserWarning: \n",
      "The dash_html_components package is deprecated. Please replace\n",
      "`import dash_html_components as html` with `from dash import html`\n",
      "  import dash_html_components as html\n",
      "/Users/ioaros/Desktop/Software Project/branchpro/branchpro/apps/_simulation.py:15: UserWarning: \n",
      "The dash_core_components package is deprecated. Please replace\n",
      "`import dash_core_components as dcc` with `from dash import dcc`\n",
      "  import dash_core_components as dcc\n"
     ]
    }
   ],
   "source": [
    "# Import libraries\n",
    "import numpy as np\n",
    "import branchpro\n",
    "import plotly.graph_objects as go\n",
    "from matplotlib import pyplot as plt\n",
    "import os\n",
    "import pandas as pd\n",
    "import scipy.stats\n",
    "import datetime"
   ]
  },
  {
   "cell_type": "code",
   "execution_count": 2,
   "metadata": {},
   "outputs": [],
   "source": [
    "# Read serial interval\n",
    "si_file = 'si-epinow'\n",
    "path = os.path.join('../data_library/serial_interval', '{}.csv'.format(si_file))\n",
    "serial_interval = pd.read_csv(path, header=None)\n",
    "serial_interval = serial_interval.fillna(0)\n",
    "serial_intervals = serial_interval.values.T"
   ]
  },
  {
   "cell_type": "code",
   "execution_count": 3,
   "metadata": {},
   "outputs": [],
   "source": [
    "# Select length of timeline for the analysis\n",
    "num_timepoints = 50\n",
    "\n",
    "start_times = np.arange(1, num_timepoints+1, dtype=int)\n",
    "times = np.arange(num_timepoints+1)"
   ]
  },
  {
   "cell_type": "markdown",
   "metadata": {},
   "source": [
    "### A Reproduction Number trajectory inferred from a world example data is used for realistic results"
   ]
  },
  {
   "cell_type": "code",
   "execution_count": 4,
   "metadata": {},
   "outputs": [],
   "source": [
    "# Read Rt trajectory\n",
    "rt_file = 'HK-Rt-profile'\n",
    "path = os.path.join('../data_library/rt_profile', '{}.csv'.format(rt_file))\n",
    "rt_profile = pd.read_csv(path)"
   ]
  },
  {
   "cell_type": "markdown",
   "metadata": {},
   "source": [
    "### Imported Cases Counts are produced by sampling from a Poisson distribution with mean λ"
   ]
  },
  {
   "cell_type": "code",
   "execution_count": 5,
   "metadata": {},
   "outputs": [],
   "source": [
    "# Build the imported cases\n",
    "ic_mean = 10\n",
    "num_sim_imported = 10\n",
    "\n",
    "imported_times = np.arange(1,(num_timepoints+1))\n",
    "\n",
    "sample_imported_cases = []\n",
    "\n",
    "# Multiple samples of imported cases data\n",
    "for sim in range(num_sim_imported):\n",
    "    sample_imported_cases.append(scipy.stats.poisson.rvs(ic_mean, size=num_timepoints))\n",
    "\n",
    "all_imported_cases = np.vstack(sample_imported_cases)"
   ]
  },
  {
   "cell_type": "markdown",
   "metadata": {},
   "source": [
    "### Generate Local Incidences using the previously generated Imported Cases, according to the read-in Rt profile"
   ]
  },
  {
   "cell_type": "code",
   "execution_count": 6,
   "metadata": {},
   "outputs": [],
   "source": [
    "# Construct LocImpBranchProModel object\n",
    "epsilon_values = np.linspace(0.2, 2, 19).tolist()\n",
    "lambdas = np.linspace(0.01, 2, 20).tolist()\n",
    "tau = 6\n",
    "R_t_start = tau+1\n",
    "\n",
    "# Set fixed parameters for the instantiaiton of the model\n",
    "r_profile = rt_profile['Mean'].values\n",
    "r_start_times = rt_profile['Time Points'].values.tolist()\n",
    "\n",
    "initial_r = r_profile[0]\n",
    "si = np.median(serial_intervals, axis=0)\n",
    "parameters = 0 # initial number of cases\n",
    "\n",
    "all_local_cases = []\n",
    "num_sim_local = 1\n",
    "\n",
    "for _, epsilon in enumerate(epsilon_values):\n",
    "    lam_sample_local_cases = []\n",
    "    for l, lam in enumerate(lambdas):\n",
    "        m = branchpro.LocImpBranchProModel(initial_r, si, epsilon)\n",
    "\n",
    "        m.set_r_profile((lam * r_profile).tolist(), r_start_times)\n",
    "\n",
    "        ind_imp_sample_local_cases = []\n",
    "        for imported_cases in all_imported_cases:\n",
    "            m.set_imported_cases(start_times, imported_cases)\n",
    "\n",
    "            sample_local_cases = []\n",
    "            for sim in range(num_sim_local):\n",
    "                sample_local_cases.append(m.simulate(parameters, times)[1:])\n",
    "\n",
    "            ind_imp_sample_local_cases.append(np.vstack(sample_local_cases))\n",
    "\n",
    "        lam_sample_local_cases.append(np.vstack(ind_imp_sample_local_cases))\n",
    "    \n",
    "    all_local_cases.append(lam_sample_local_cases)"
   ]
  },
  {
   "cell_type": "markdown",
   "metadata": {},
   "source": [
    "### Inference of the Rt profile for the true choice of ϵ and for the baseline ϵ = 1"
   ]
  },
  {
   "cell_type": "code",
   "execution_count": 7,
   "metadata": {},
   "outputs": [],
   "source": [
    "# Define the divergence function between the two posterior summary dataframes\n",
    "def post_divergence(df1, df2):\n",
    "    return np.mean(np.absolute(df1['Mean']-df2['Mean']) / df1['Mean'])"
   ]
  },
  {
   "cell_type": "code",
   "execution_count": 8,
   "metadata": {},
   "outputs": [],
   "source": [
    "# Inference R_t profile using the LocImpBranchProPosterior\n",
    "a = 1\n",
    "b = 0.2\n",
    "\n",
    "# Run comparative inferences for different values of epsilon and lambda\n",
    "difference = np.empty((len(epsilon_values), len(lambdas)))\n",
    "\n",
    "for _, epsilon in enumerate(epsilon_values):\n",
    "    for l, lam in enumerate(lambdas):\n",
    "        point_difference = []\n",
    "        for i, imported_cases in enumerate(all_imported_cases):\n",
    "            locally_infected_cases = all_local_cases[_][l][i]\n",
    "            # Transform our incidence data into pandas dataframes\n",
    "            inc_data = pd.DataFrame(\n",
    "                {\n",
    "                    'Time': start_times,\n",
    "                    'Incidence Number': locally_infected_cases\n",
    "                }\n",
    "            )\n",
    "\n",
    "            imported_inc_data = pd.DataFrame(\n",
    "                {\n",
    "                    'Time': start_times,\n",
    "                    'Incidence Number': imported_cases\n",
    "                }\n",
    "            )\n",
    "\n",
    "            # Run inference for the true value of epsilon\n",
    "            inference_true = branchpro.LocImpBranchProPosteriorMultSI(\n",
    "                inc_data=inc_data,\n",
    "                imported_inc_data=imported_inc_data,\n",
    "                epsilon=epsilon,\n",
    "                daily_serial_intervals=serial_intervals,\n",
    "                alpha=a,\n",
    "                beta=b)\n",
    "\n",
    "            inference_true.run_inference(tau=tau)\n",
    "            intervals_true = inference_true.get_intervals(central_prob=0)\n",
    "\n",
    "            # Run inference for the baseline value of epsilon = 1\n",
    "            inference_baseline = branchpro.LocImpBranchProPosteriorMultSI(\n",
    "                inc_data=inc_data,\n",
    "                imported_inc_data=imported_inc_data,\n",
    "                epsilon=1,\n",
    "                daily_serial_intervals=serial_intervals,\n",
    "                alpha=a,\n",
    "                beta=b)\n",
    "\n",
    "            inference_baseline.run_inference(tau=tau)\n",
    "            intervals_baseline = inference_baseline.get_intervals(central_prob=0)\n",
    "\n",
    "            # Compute divergence between the two posteriors\n",
    "            point_difference.append(post_divergence(intervals_true, intervals_baseline))\n",
    "\n",
    "        difference[_, l] = np.mean(np.array(point_difference))"
   ]
  },
  {
   "cell_type": "markdown",
   "metadata": {},
   "source": [
    "### Compute heatmap of the divergence between posteriors fitted the true and baseline ϵ for different values of ϵ and λ"
   ]
  },
  {
   "cell_type": "code",
   "execution_count": 22,
   "metadata": {},
   "outputs": [
    {
     "data": {
      "application/vnd.plotly.v1+json": {
       "config": {
        "plotlyServerURL": "https://plot.ly"
       },
       "data": [
        {
         "coloraxis": "coloraxis",
         "type": "heatmap",
         "x": [
          0.01,
          0.11,
          0.22,
          0.32,
          0.43,
          0.53,
          0.64,
          0.74,
          0.85,
          0.95,
          1.06,
          1.16,
          1.27,
          1.37,
          1.48,
          1.58,
          1.69,
          1.79,
          1.9,
          2
         ],
         "y": [
          0.2,
          0.3,
          0.4,
          0.5,
          0.6,
          0.7,
          0.8,
          0.9,
          1,
          1.1,
          1.2,
          1.3,
          1.4,
          1.5,
          1.6,
          1.7,
          1.8,
          1.9,
          2
         ],
         "z": [
          [
           0.7895126684353462,
           0.7744490942691393,
           0.7628172972942651,
           0.7455923946140819,
           0.7204896778064388,
           0.6822073998388969,
           0.6527432230795254,
           0.6167396058156916,
           0.5734018037374853,
           0.5257120842570526,
           0.4849520802544374,
           0.45485858079211744,
           0.427834592401347,
           0.3652676111296485,
           0.34676694394552776,
           0.32297062956890304,
           0.3080487855496098,
           0.2875251570632022,
           0.2767124066788735,
           0.26915503568336546
          ],
          [
           0.6877652514482009,
           0.6712861172948459,
           0.647727031697295,
           0.6302840072655631,
           0.6091946892908102,
           0.570016758937689,
           0.5358611450231648,
           0.5050163226058786,
           0.45853386531106183,
           0.4071398807726352,
           0.3764640458730893,
           0.33684808901861285,
           0.31608274419816274,
           0.2925120890077398,
           0.27088920323762083,
           0.24818485012068742,
           0.24094835823767186,
           0.2272535555993302,
           0.20955718212452235,
           0.2001763736878186
          ],
          [
           0.5883863156672691,
           0.5680041828079606,
           0.5442411355630528,
           0.5214524537118804,
           0.48717650576791305,
           0.4631067998557422,
           0.41934809384443206,
           0.3925016073969912,
           0.3537342439829744,
           0.318029002280515,
           0.29284955717408956,
           0.26865052987607835,
           0.24338717564953086,
           0.22255800404328258,
           0.20573957867358966,
           0.2050690280721772,
           0.18293926043378694,
           0.17340580991849083,
           0.1655265101348642,
           0.16312483510665227
          ],
          [
           0.4879797656155582,
           0.4686036269786028,
           0.4507620142614844,
           0.4234425265439408,
           0.3961493801806748,
           0.3627297876650439,
           0.33700542342074635,
           0.3015475616515563,
           0.27490511267459067,
           0.24384171677918295,
           0.22911443929777597,
           0.20670186855755288,
           0.1841453921083548,
           0.16766784112557262,
           0.16182051950749787,
           0.14778269276654135,
           0.1474233308236715,
           0.13450338054314043,
           0.13453542930743279,
           0.12478095315524038
          ],
          [
           0.3868308504858399,
           0.36638480517727173,
           0.3486596719703697,
           0.3256028856439807,
           0.30012917470783157,
           0.27669390244900066,
           0.25005170532033616,
           0.22969133441652523,
           0.20537901200025616,
           0.18634493644013286,
           0.16124425819725435,
           0.15195681229241323,
           0.13334830646416734,
           0.13398978252087473,
           0.11560759864703937,
           0.10893926340991959,
           0.10560917304552304,
           0.10184083523258887,
           0.10049607455656473,
           0.0941002459855543
          ],
          [
           0.28932021577871636,
           0.27505666152181507,
           0.2556265194677758,
           0.2355998818172408,
           0.21890374577569563,
           0.1995927788027259,
           0.1809939953061172,
           0.16096867232898712,
           0.1452464005887852,
           0.12770140263574897,
           0.11472578857828533,
           0.10657873448478491,
           0.09438823976181303,
           0.08992461759517688,
           0.08491427174306798,
           0.08138589633766326,
           0.07518109485437728,
           0.07214966655420654,
           0.0673555262938079,
           0.06718642180802396
          ],
          [
           0.19274651866998238,
           0.1800346910160256,
           0.16705214601097668,
           0.15101443180953456,
           0.14143548019973715,
           0.12628586356460492,
           0.11529157898939309,
           0.10468468378458584,
           0.09010602564328592,
           0.08141600064495427,
           0.07360686484820433,
           0.06573710213842474,
           0.05977435257305112,
           0.05592661379813955,
           0.05318464562513259,
           0.049734623776922504,
           0.04888245994416211,
           0.04601755942759398,
           0.04370346655353508,
           0.043092959066628564
          ],
          [
           0.09583224085742266,
           0.08852465351905235,
           0.08120637799571316,
           0.0760777762610883,
           0.06837358594848504,
           0.060576165034327,
           0.052952216639857795,
           0.04813322136729677,
           0.04282223824847613,
           0.0377381992203725,
           0.034872218802981844,
           0.03071870654472932,
           0.028979923249609834,
           0.027158341050812107,
           0.02481823586895425,
           0.023882047159940977,
           0.02306571393609143,
           0.02228412574704875,
           0.021399249014549513,
           0.019870610759540476
          ],
          [
           0,
           0,
           0,
           0,
           0,
           0,
           0,
           0,
           0,
           0,
           0,
           0,
           0,
           0,
           0,
           0,
           0,
           0,
           0,
           0
          ],
          [
           0.095622431535303,
           0.08651624070439785,
           0.07723341331617635,
           0.06931387624446658,
           0.062216723306707286,
           0.05561851499067477,
           0.049575012423043754,
           0.04372369120583802,
           0.03859052313998847,
           0.034440401668362874,
           0.031569826022565126,
           0.028530717375773652,
           0.026607764258042226,
           0.02472354004792886,
           0.02270270732082333,
           0.021710504130347755,
           0.02123962235424275,
           0.0200073725248459,
           0.019529576255457134,
           0.01853367641074006
          ],
          [
           0.1909890406637365,
           0.17150470950739577,
           0.15455291106918628,
           0.13672200524102646,
           0.12428266189691053,
           0.10909122139553526,
           0.09561331172478336,
           0.08637193793509727,
           0.07430243108029264,
           0.06468710958343318,
           0.060087664405000484,
           0.053744851156373716,
           0.0503027533343113,
           0.047185381102502734,
           0.043748939175717046,
           0.041961964941124266,
           0.03936524378890497,
           0.039804167054169476,
           0.03703173280280046,
           0.03642161710003984
          ],
          [
           0.2835909598988593,
           0.25288710486709126,
           0.2271958930946245,
           0.2031927275757734,
           0.17990280507685436,
           0.15817341149510875,
           0.13962483636227085,
           0.12249718828718417,
           0.10883063792997053,
           0.09351248392416844,
           0.08566116313669943,
           0.07969290983661854,
           0.07581189994212165,
           0.06581320384170128,
           0.06289173882148202,
           0.060178300162867106,
           0.05844685782638702,
           0.05612364968743603,
           0.05421708409243099,
           0.05465075384701351
          ],
          [
           0.37659980641079516,
           0.3273092060674503,
           0.2975575123355333,
           0.2688216028792767,
           0.23066469093186734,
           0.20390338945006858,
           0.17796992827999608,
           0.15509664226208192,
           0.13678247792045978,
           0.12780639437089766,
           0.11296474859886392,
           0.09843401156097834,
           0.09435687485575707,
           0.0879289191630462,
           0.08248442944413545,
           0.08018936722384754,
           0.07665049856758753,
           0.07442452627368745,
           0.06949476783205376,
           0.06732643435768818
          ],
          [
           0.4678561223747847,
           0.4144408918877315,
           0.365089461563902,
           0.32400002694812385,
           0.2819852673556784,
           0.2435770070705745,
           0.2150476590640761,
           0.1857506277975019,
           0.1708613113794299,
           0.14503228733407353,
           0.13483741890668613,
           0.12116930932714957,
           0.11291748324734416,
           0.10498223864863947,
           0.10053864287957322,
           0.09303169878225712,
           0.09166338167865556,
           0.08816476423845485,
           0.08325174443819605,
           0.08450803279456862
          ],
          [
           0.560399587067769,
           0.493928866156515,
           0.4291424426659997,
           0.3754681733622873,
           0.32373163414170547,
           0.28502901589736707,
           0.25353466363692145,
           0.22271046230633443,
           0.19919319802101085,
           0.17493034712456618,
           0.1523752175777659,
           0.14420247352623194,
           0.13151870186550838,
           0.12343740989386091,
           0.11867812858043372,
           0.10965616750928904,
           0.10929119364010087,
           0.10371221466517817,
           0.09755468359684683,
           0.09563652427258355
          ],
          [
           0.6531962385505979,
           0.5720206466561997,
           0.4955314463073693,
           0.4331194369884699,
           0.3754554495963441,
           0.3255856530135793,
           0.2805788431222286,
           0.24561193234136094,
           0.21294111072640817,
           0.19348912348311922,
           0.1769358259138815,
           0.15870124697125623,
           0.15208520147152496,
           0.13696294220464425,
           0.12950320679186078,
           0.1221580072746052,
           0.1205603451534009,
           0.11794131023082924,
           0.11480918327514941,
           0.1082882806925362
          ],
          [
           0.7405661595099544,
           0.6388356904964893,
           0.5568423504941943,
           0.47659828606324944,
           0.4135873266659281,
           0.37247508938443646,
           0.30849445385604185,
           0.2696210113458353,
           0.24225334995837905,
           0.2101378455804881,
           0.19639331182121952,
           0.18263095159040682,
           0.1678300982498305,
           0.15400438286954882,
           0.1502030914815649,
           0.1416087530983099,
           0.13248236844054107,
           0.12937647841616767,
           0.12722722174836726,
           0.11950160434212995
          ],
          [
           0.8273304658629114,
           0.71856627876808,
           0.6245483839573223,
           0.5317323065441586,
           0.46024298857636525,
           0.40884541954825,
           0.3439015525271707,
           0.3020281924919265,
           0.26899252090831993,
           0.23408673163666957,
           0.21663478060344393,
           0.19236188170741084,
           0.18137223791828974,
           0.17001371485641964,
           0.15960318832360124,
           0.15276458707787569,
           0.147856656145734,
           0.141131363115729,
           0.13154913070991442,
           0.13563401176915355
          ],
          [
           0.9178161462061011,
           0.7834648843004398,
           0.6774916291790039,
           0.5829215541341034,
           0.4911793935661291,
           0.4250121340649874,
           0.3730457912857684,
           0.32607809698702206,
           0.29112021344628686,
           0.25395381534516503,
           0.2363754245718006,
           0.20963879362246146,
           0.19945336853331422,
           0.18528980606351558,
           0.1742150589369204,
           0.1668810381673263,
           0.16140286623815348,
           0.15308389404449904,
           0.14756312780604305,
           0.14510747535654053
          ]
         ]
        }
       ],
       "layout": {
        "boxmode": "group",
        "coloraxis": {
         "colorbar": {
          "title": {
           "side": "right",
           "text": "Error in R<sub>t</sub> estimate"
          }
         },
         "colorscale": [
          [
           0,
           "rgb(254, 245, 244)"
          ],
          [
           0.09090909090909091,
           "rgb(222, 224, 210)"
          ],
          [
           0.18181818181818182,
           "rgb(189, 206, 181)"
          ],
          [
           0.2727272727272727,
           "rgb(153, 189, 156)"
          ],
          [
           0.36363636363636365,
           "rgb(110, 173, 138)"
          ],
          [
           0.45454545454545453,
           "rgb(65, 157, 129)"
          ],
          [
           0.5454545454545454,
           "rgb(25, 137, 125)"
          ],
          [
           0.6363636363636364,
           "rgb(18, 116, 117)"
          ],
          [
           0.7272727272727273,
           "rgb(25, 94, 106)"
          ],
          [
           0.8181818181818182,
           "rgb(28, 72, 93)"
          ],
          [
           0.9090909090909091,
           "rgb(25, 51, 80)"
          ],
          [
           1,
           "rgb(20, 29, 67)"
          ]
         ]
        },
        "height": 550,
        "plot_bgcolor": "white",
        "template": {
         "data": {
          "bar": [
           {
            "error_x": {
             "color": "#2a3f5f"
            },
            "error_y": {
             "color": "#2a3f5f"
            },
            "marker": {
             "line": {
              "color": "#E5ECF6",
              "width": 0.5
             },
             "pattern": {
              "fillmode": "overlay",
              "size": 10,
              "solidity": 0.2
             }
            },
            "type": "bar"
           }
          ],
          "barpolar": [
           {
            "marker": {
             "line": {
              "color": "#E5ECF6",
              "width": 0.5
             },
             "pattern": {
              "fillmode": "overlay",
              "size": 10,
              "solidity": 0.2
             }
            },
            "type": "barpolar"
           }
          ],
          "carpet": [
           {
            "aaxis": {
             "endlinecolor": "#2a3f5f",
             "gridcolor": "white",
             "linecolor": "white",
             "minorgridcolor": "white",
             "startlinecolor": "#2a3f5f"
            },
            "baxis": {
             "endlinecolor": "#2a3f5f",
             "gridcolor": "white",
             "linecolor": "white",
             "minorgridcolor": "white",
             "startlinecolor": "#2a3f5f"
            },
            "type": "carpet"
           }
          ],
          "choropleth": [
           {
            "colorbar": {
             "outlinewidth": 0,
             "ticks": ""
            },
            "type": "choropleth"
           }
          ],
          "contour": [
           {
            "colorbar": {
             "outlinewidth": 0,
             "ticks": ""
            },
            "colorscale": [
             [
              0,
              "#0d0887"
             ],
             [
              0.1111111111111111,
              "#46039f"
             ],
             [
              0.2222222222222222,
              "#7201a8"
             ],
             [
              0.3333333333333333,
              "#9c179e"
             ],
             [
              0.4444444444444444,
              "#bd3786"
             ],
             [
              0.5555555555555556,
              "#d8576b"
             ],
             [
              0.6666666666666666,
              "#ed7953"
             ],
             [
              0.7777777777777778,
              "#fb9f3a"
             ],
             [
              0.8888888888888888,
              "#fdca26"
             ],
             [
              1,
              "#f0f921"
             ]
            ],
            "type": "contour"
           }
          ],
          "contourcarpet": [
           {
            "colorbar": {
             "outlinewidth": 0,
             "ticks": ""
            },
            "type": "contourcarpet"
           }
          ],
          "heatmap": [
           {
            "colorbar": {
             "outlinewidth": 0,
             "ticks": ""
            },
            "colorscale": [
             [
              0,
              "#0d0887"
             ],
             [
              0.1111111111111111,
              "#46039f"
             ],
             [
              0.2222222222222222,
              "#7201a8"
             ],
             [
              0.3333333333333333,
              "#9c179e"
             ],
             [
              0.4444444444444444,
              "#bd3786"
             ],
             [
              0.5555555555555556,
              "#d8576b"
             ],
             [
              0.6666666666666666,
              "#ed7953"
             ],
             [
              0.7777777777777778,
              "#fb9f3a"
             ],
             [
              0.8888888888888888,
              "#fdca26"
             ],
             [
              1,
              "#f0f921"
             ]
            ],
            "type": "heatmap"
           }
          ],
          "heatmapgl": [
           {
            "colorbar": {
             "outlinewidth": 0,
             "ticks": ""
            },
            "colorscale": [
             [
              0,
              "#0d0887"
             ],
             [
              0.1111111111111111,
              "#46039f"
             ],
             [
              0.2222222222222222,
              "#7201a8"
             ],
             [
              0.3333333333333333,
              "#9c179e"
             ],
             [
              0.4444444444444444,
              "#bd3786"
             ],
             [
              0.5555555555555556,
              "#d8576b"
             ],
             [
              0.6666666666666666,
              "#ed7953"
             ],
             [
              0.7777777777777778,
              "#fb9f3a"
             ],
             [
              0.8888888888888888,
              "#fdca26"
             ],
             [
              1,
              "#f0f921"
             ]
            ],
            "type": "heatmapgl"
           }
          ],
          "histogram": [
           {
            "marker": {
             "pattern": {
              "fillmode": "overlay",
              "size": 10,
              "solidity": 0.2
             }
            },
            "type": "histogram"
           }
          ],
          "histogram2d": [
           {
            "colorbar": {
             "outlinewidth": 0,
             "ticks": ""
            },
            "colorscale": [
             [
              0,
              "#0d0887"
             ],
             [
              0.1111111111111111,
              "#46039f"
             ],
             [
              0.2222222222222222,
              "#7201a8"
             ],
             [
              0.3333333333333333,
              "#9c179e"
             ],
             [
              0.4444444444444444,
              "#bd3786"
             ],
             [
              0.5555555555555556,
              "#d8576b"
             ],
             [
              0.6666666666666666,
              "#ed7953"
             ],
             [
              0.7777777777777778,
              "#fb9f3a"
             ],
             [
              0.8888888888888888,
              "#fdca26"
             ],
             [
              1,
              "#f0f921"
             ]
            ],
            "type": "histogram2d"
           }
          ],
          "histogram2dcontour": [
           {
            "colorbar": {
             "outlinewidth": 0,
             "ticks": ""
            },
            "colorscale": [
             [
              0,
              "#0d0887"
             ],
             [
              0.1111111111111111,
              "#46039f"
             ],
             [
              0.2222222222222222,
              "#7201a8"
             ],
             [
              0.3333333333333333,
              "#9c179e"
             ],
             [
              0.4444444444444444,
              "#bd3786"
             ],
             [
              0.5555555555555556,
              "#d8576b"
             ],
             [
              0.6666666666666666,
              "#ed7953"
             ],
             [
              0.7777777777777778,
              "#fb9f3a"
             ],
             [
              0.8888888888888888,
              "#fdca26"
             ],
             [
              1,
              "#f0f921"
             ]
            ],
            "type": "histogram2dcontour"
           }
          ],
          "mesh3d": [
           {
            "colorbar": {
             "outlinewidth": 0,
             "ticks": ""
            },
            "type": "mesh3d"
           }
          ],
          "parcoords": [
           {
            "line": {
             "colorbar": {
              "outlinewidth": 0,
              "ticks": ""
             }
            },
            "type": "parcoords"
           }
          ],
          "pie": [
           {
            "automargin": true,
            "type": "pie"
           }
          ],
          "scatter": [
           {
            "marker": {
             "colorbar": {
              "outlinewidth": 0,
              "ticks": ""
             }
            },
            "type": "scatter"
           }
          ],
          "scatter3d": [
           {
            "line": {
             "colorbar": {
              "outlinewidth": 0,
              "ticks": ""
             }
            },
            "marker": {
             "colorbar": {
              "outlinewidth": 0,
              "ticks": ""
             }
            },
            "type": "scatter3d"
           }
          ],
          "scattercarpet": [
           {
            "marker": {
             "colorbar": {
              "outlinewidth": 0,
              "ticks": ""
             }
            },
            "type": "scattercarpet"
           }
          ],
          "scattergeo": [
           {
            "marker": {
             "colorbar": {
              "outlinewidth": 0,
              "ticks": ""
             }
            },
            "type": "scattergeo"
           }
          ],
          "scattergl": [
           {
            "marker": {
             "colorbar": {
              "outlinewidth": 0,
              "ticks": ""
             }
            },
            "type": "scattergl"
           }
          ],
          "scattermapbox": [
           {
            "marker": {
             "colorbar": {
              "outlinewidth": 0,
              "ticks": ""
             }
            },
            "type": "scattermapbox"
           }
          ],
          "scatterpolar": [
           {
            "marker": {
             "colorbar": {
              "outlinewidth": 0,
              "ticks": ""
             }
            },
            "type": "scatterpolar"
           }
          ],
          "scatterpolargl": [
           {
            "marker": {
             "colorbar": {
              "outlinewidth": 0,
              "ticks": ""
             }
            },
            "type": "scatterpolargl"
           }
          ],
          "scatterternary": [
           {
            "marker": {
             "colorbar": {
              "outlinewidth": 0,
              "ticks": ""
             }
            },
            "type": "scatterternary"
           }
          ],
          "surface": [
           {
            "colorbar": {
             "outlinewidth": 0,
             "ticks": ""
            },
            "colorscale": [
             [
              0,
              "#0d0887"
             ],
             [
              0.1111111111111111,
              "#46039f"
             ],
             [
              0.2222222222222222,
              "#7201a8"
             ],
             [
              0.3333333333333333,
              "#9c179e"
             ],
             [
              0.4444444444444444,
              "#bd3786"
             ],
             [
              0.5555555555555556,
              "#d8576b"
             ],
             [
              0.6666666666666666,
              "#ed7953"
             ],
             [
              0.7777777777777778,
              "#fb9f3a"
             ],
             [
              0.8888888888888888,
              "#fdca26"
             ],
             [
              1,
              "#f0f921"
             ]
            ],
            "type": "surface"
           }
          ],
          "table": [
           {
            "cells": {
             "fill": {
              "color": "#EBF0F8"
             },
             "line": {
              "color": "white"
             }
            },
            "header": {
             "fill": {
              "color": "#C8D4E3"
             },
             "line": {
              "color": "white"
             }
            },
            "type": "table"
           }
          ]
         },
         "layout": {
          "annotationdefaults": {
           "arrowcolor": "#2a3f5f",
           "arrowhead": 0,
           "arrowwidth": 1
          },
          "autotypenumbers": "strict",
          "coloraxis": {
           "colorbar": {
            "outlinewidth": 0,
            "ticks": ""
           }
          },
          "colorscale": {
           "diverging": [
            [
             0,
             "#8e0152"
            ],
            [
             0.1,
             "#c51b7d"
            ],
            [
             0.2,
             "#de77ae"
            ],
            [
             0.3,
             "#f1b6da"
            ],
            [
             0.4,
             "#fde0ef"
            ],
            [
             0.5,
             "#f7f7f7"
            ],
            [
             0.6,
             "#e6f5d0"
            ],
            [
             0.7,
             "#b8e186"
            ],
            [
             0.8,
             "#7fbc41"
            ],
            [
             0.9,
             "#4d9221"
            ],
            [
             1,
             "#276419"
            ]
           ],
           "sequential": [
            [
             0,
             "#0d0887"
            ],
            [
             0.1111111111111111,
             "#46039f"
            ],
            [
             0.2222222222222222,
             "#7201a8"
            ],
            [
             0.3333333333333333,
             "#9c179e"
            ],
            [
             0.4444444444444444,
             "#bd3786"
            ],
            [
             0.5555555555555556,
             "#d8576b"
            ],
            [
             0.6666666666666666,
             "#ed7953"
            ],
            [
             0.7777777777777778,
             "#fb9f3a"
            ],
            [
             0.8888888888888888,
             "#fdca26"
            ],
            [
             1,
             "#f0f921"
            ]
           ],
           "sequentialminus": [
            [
             0,
             "#0d0887"
            ],
            [
             0.1111111111111111,
             "#46039f"
            ],
            [
             0.2222222222222222,
             "#7201a8"
            ],
            [
             0.3333333333333333,
             "#9c179e"
            ],
            [
             0.4444444444444444,
             "#bd3786"
            ],
            [
             0.5555555555555556,
             "#d8576b"
            ],
            [
             0.6666666666666666,
             "#ed7953"
            ],
            [
             0.7777777777777778,
             "#fb9f3a"
            ],
            [
             0.8888888888888888,
             "#fdca26"
            ],
            [
             1,
             "#f0f921"
            ]
           ]
          },
          "colorway": [
           "#636efa",
           "#EF553B",
           "#00cc96",
           "#ab63fa",
           "#FFA15A",
           "#19d3f3",
           "#FF6692",
           "#B6E880",
           "#FF97FF",
           "#FECB52"
          ],
          "font": {
           "color": "#2a3f5f"
          },
          "geo": {
           "bgcolor": "white",
           "lakecolor": "white",
           "landcolor": "#E5ECF6",
           "showlakes": true,
           "showland": true,
           "subunitcolor": "white"
          },
          "hoverlabel": {
           "align": "left"
          },
          "hovermode": "closest",
          "mapbox": {
           "style": "light"
          },
          "paper_bgcolor": "white",
          "plot_bgcolor": "#E5ECF6",
          "polar": {
           "angularaxis": {
            "gridcolor": "white",
            "linecolor": "white",
            "ticks": ""
           },
           "bgcolor": "#E5ECF6",
           "radialaxis": {
            "gridcolor": "white",
            "linecolor": "white",
            "ticks": ""
           }
          },
          "scene": {
           "xaxis": {
            "backgroundcolor": "#E5ECF6",
            "gridcolor": "white",
            "gridwidth": 2,
            "linecolor": "white",
            "showbackground": true,
            "ticks": "",
            "zerolinecolor": "white"
           },
           "yaxis": {
            "backgroundcolor": "#E5ECF6",
            "gridcolor": "white",
            "gridwidth": 2,
            "linecolor": "white",
            "showbackground": true,
            "ticks": "",
            "zerolinecolor": "white"
           },
           "zaxis": {
            "backgroundcolor": "#E5ECF6",
            "gridcolor": "white",
            "gridwidth": 2,
            "linecolor": "white",
            "showbackground": true,
            "ticks": "",
            "zerolinecolor": "white"
           }
          },
          "shapedefaults": {
           "line": {
            "color": "#2a3f5f"
           }
          },
          "ternary": {
           "aaxis": {
            "gridcolor": "white",
            "linecolor": "white",
            "ticks": ""
           },
           "baxis": {
            "gridcolor": "white",
            "linecolor": "white",
            "ticks": ""
           },
           "bgcolor": "#E5ECF6",
           "caxis": {
            "gridcolor": "white",
            "linecolor": "white",
            "ticks": ""
           }
          },
          "title": {
           "x": 0.05
          },
          "xaxis": {
           "automargin": true,
           "gridcolor": "white",
           "linecolor": "white",
           "ticks": "",
           "title": {
            "standoff": 15
           },
           "zerolinecolor": "white",
           "zerolinewidth": 2
          },
          "yaxis": {
           "automargin": true,
           "gridcolor": "white",
           "linecolor": "white",
           "ticks": "",
           "title": {
            "standoff": 15
           },
           "zerolinecolor": "white",
           "zerolinewidth": 2
          }
         }
        },
        "width": 550,
        "xaxis": {
         "linecolor": "black",
         "title": {
          "text": "Scaling factor <br>applied in R<sub>t</sub> (λ)"
         },
         "type": "category"
        },
        "yaxis": {
         "linecolor": "black",
         "title": {
          "text": "Relative transmissibility <br>of imported cases (ϵ)"
         },
         "type": "category"
        }
       }
      }
     },
     "metadata": {},
     "output_type": "display_data"
    }
   ],
   "source": [
    "fig = go.Figure()\n",
    "\n",
    "# Plot heatmap\n",
    "fig.add_trace(\n",
    "    go.Heatmap(\n",
    "        x=np.round(lambdas, 2),\n",
    "        y=np.round(epsilon_values, 2),\n",
    "        z=difference,\n",
    "        type = 'heatmap',\n",
    "        coloraxis= 'coloraxis',\n",
    "    ),\n",
    ")\n",
    "\n",
    "# Add axis labels\n",
    "fig.update_xaxes(type='category', title_text='Scaling factor <br>applied in R<sub>t</sub> (λ)')\n",
    "fig.update_yaxes(type='category', title_text='Relative transmissibility <br>of imported cases (ϵ)')\n",
    "\n",
    "fig.update_layout(\n",
    "    boxmode='group',\n",
    "    height=550,\n",
    "    width=550,\n",
    "    plot_bgcolor='white',\n",
    "    xaxis=dict(\n",
    "        linecolor='black'),\n",
    "    yaxis=dict(\n",
    "        linecolor='black'),\n",
    "    coloraxis=dict(colorscale='tempo'))\n",
    "\n",
    "\n",
    "fig.update_layout(\n",
    "    coloraxis_colorbar=dict(\n",
    "        title=dict(\n",
    "            text='Error in R<sub>t</sub> estimate',\n",
    "            side='right')\n",
    "    ),\n",
    ")\n",
    "\n",
    "fig.write_image('Heatmap.pdf')\n",
    "fig.show()"
   ]
  },
  {
   "cell_type": "code",
   "execution_count": null,
   "metadata": {},
   "outputs": [],
   "source": []
  }
 ],
 "metadata": {
  "interpreter": {
   "hash": "9a1edc82fdfb75c3b64a2a1e331992ba51087b4bcc20e5799465daad38af24d9"
  },
  "kernelspec": {
   "display_name": "Python 3 (ipykernel)",
   "language": "python",
   "name": "python3"
  },
  "language_info": {
   "codemirror_mode": {
    "name": "ipython",
    "version": 3
   },
   "file_extension": ".py",
   "mimetype": "text/x-python",
   "name": "python",
   "nbconvert_exporter": "python",
   "pygments_lexer": "ipython3",
   "version": "3.9.7"
  }
 },
 "nbformat": 4,
 "nbformat_minor": 2
}
