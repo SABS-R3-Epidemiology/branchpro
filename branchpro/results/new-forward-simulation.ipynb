{
 "cells": [
  {
   "cell_type": "markdown",
   "metadata": {},
   "source": [
    "# Differences in behaviour of Rt Profile for Different Infectiousness Levels of Imported Cases\n",
    "\n",
    "The aim of this notebook is to show how different values the epsilon parameter can affect the outcome of the epidemic. This effect is studied through the behaviour of the time-dependent reproduction number trajectory. Epsilon represents the proportionality constant of the reproduction number for imported cases with respect to its analog for local ones. For this analysis we will use an Rt profile from real data from Hainan, China with an assumed infectioness of imported cases equal to that of the local ones (i.e. epsilon = 1).\n",
    "\n",
    "This Rt profile will then be used together with synthetically generated imported cases to produce local incidences for a given 'true' value of epsilon. We will proceed to infer the Rt profile for both the true value of epsilon and for epsilon = 1 (for the most common scenario when no distinguishing is made between the imported and the local cases)."
   ]
  },
  {
   "cell_type": "code",
   "execution_count": 1,
   "metadata": {},
   "outputs": [
    {
     "name": "stderr",
     "output_type": "stream",
     "text": [
      "/Users/ioaros/Desktop/Software Project/branchpro/branchpro/apps/_dash_app.py:18: UserWarning: \n",
      "The dash_html_components package is deprecated. Please replace\n",
      "`import dash_html_components as html` with `from dash import html`\n",
      "  import dash_html_components as html\n",
      "/Users/ioaros/Desktop/Software Project/branchpro/branchpro/apps/_simulation.py:15: UserWarning: \n",
      "The dash_core_components package is deprecated. Please replace\n",
      "`import dash_core_components as dcc` with `from dash import dcc`\n",
      "  import dash_core_components as dcc\n"
     ]
    }
   ],
   "source": [
    "# Import libraries\n",
    "import numpy as np\n",
    "import branchpro\n",
    "import plotly.graph_objects as go\n",
    "from matplotlib import pyplot as plt\n",
    "import os\n",
    "import pandas as pd\n",
    "import scipy.stats\n",
    "import datetime"
   ]
  },
  {
   "cell_type": "code",
   "execution_count": 2,
   "metadata": {},
   "outputs": [],
   "source": [
    "# Read serial interval\n",
    "si_file = 'si-epinow'\n",
    "path = os.path.join('../data_library/serial_interval', '{}.csv'.format(si_file))\n",
    "serial_interval = pd.read_csv(path, header=None)\n",
    "serial_interval = serial_interval.fillna(0)\n",
    "serial_intervals = serial_interval.values.T"
   ]
  },
  {
   "cell_type": "code",
   "execution_count": 3,
   "metadata": {},
   "outputs": [],
   "source": [
    "# Select length of timeline for the analysis\n",
    "num_timepoints = 50\n",
    "\n",
    "start_times = np.arange(1, num_timepoints+1, dtype=int)\n",
    "times = np.arange(num_timepoints+1)"
   ]
  },
  {
   "cell_type": "markdown",
   "metadata": {},
   "source": [
    "### A Reproduction Number trajectory inferred from a world example data is used for realistic results"
   ]
  },
  {
   "cell_type": "code",
   "execution_count": 4,
   "metadata": {},
   "outputs": [],
   "source": [
    "# Read Rt trajectory\n",
    "rt_file = 'HN-Rt-profile'\n",
    "path = os.path.join('../data_library/rt_profile', '{}.csv'.format(rt_file))\n",
    "rt_profile = pd.read_csv(path)"
   ]
  },
  {
   "cell_type": "markdown",
   "metadata": {},
   "source": [
    "### Imported Cases Counts are produced by sampling from a Poisson distribution with mean λ"
   ]
  },
  {
   "cell_type": "code",
   "execution_count": 5,
   "metadata": {},
   "outputs": [],
   "source": [
    "# Build the imported cases\n",
    "lambdas = [70, 80]\n",
    "num_sim_imported = 10\n",
    "\n",
    "imported_times = np.arange(1,(num_timepoints+1))\n",
    "all_imported_cases = []\n",
    "\n",
    "for ic_mean in lambdas:\n",
    "    sample_imported_cases = []\n",
    "\n",
    "    # Multiple samples of imported cases data\n",
    "    for sim in range(num_sim_imported):\n",
    "        sample_imported_cases.append(scipy.stats.poisson.rvs(ic_mean, size=num_timepoints))\n",
    "\n",
    "    all_imported_cases.append(np.vstack(sample_imported_cases))"
   ]
  },
  {
   "cell_type": "markdown",
   "metadata": {},
   "source": [
    "### Generate Local Incidences using the previously generated Imported Cases, according to the read-in Rt profile"
   ]
  },
  {
   "cell_type": "code",
   "execution_count": 6,
   "metadata": {},
   "outputs": [],
   "source": [
    "# Construct LocImpBranchProModel object\n",
    "epsilon_values = [0.25, 1, 2.5]\n",
    "tau = 6\n",
    "R_t_start = tau+1\n",
    "\n",
    "# Set fixed parameters for the instantiaiton of the model\n",
    "r_profile = rt_profile['Mean'].values.tolist()\n",
    "r_start_times = rt_profile['Time Points'].values.tolist()\n",
    "\n",
    "initial_r = r_profile[0]\n",
    "si = np.median(serial_intervals, axis=0)\n",
    "parameters = 0 # initial number of cases\n",
    "\n",
    "all_local_cases = []\n",
    "num_sim_local = 10\n",
    "\n",
    "for _, epsilon in enumerate(epsilon_values):\n",
    "    lam_sample_local_cases = []\n",
    "    for l, lam in enumerate(lambdas):\n",
    "        m = branchpro.LocImpBranchProModel(initial_r, si, epsilon)\n",
    "\n",
    "        m.set_r_profile(r_profile, r_start_times)\n",
    "\n",
    "        ind_imp_sample_local_cases = []\n",
    "        for imported_cases in all_imported_cases[l]:\n",
    "            m.set_imported_cases(start_times, imported_cases)\n",
    "\n",
    "            sample_local_cases = []\n",
    "            for sim in range(num_sim_local):\n",
    "                sample_local_cases.append(m.simulate(parameters, times)[1:])\n",
    "\n",
    "            ind_imp_sample_local_cases.append(np.vstack(sample_local_cases))\n",
    "\n",
    "        lam_sample_local_cases.append(ind_imp_sample_local_cases)\n",
    "    \n",
    "    all_local_cases.append(lam_sample_local_cases)"
   ]
  },
  {
   "cell_type": "markdown",
   "metadata": {},
   "source": [
    "### Inference of the Rt profile for the true choice of ϵ and for the baseline ϵ = 1"
   ]
  },
  {
   "cell_type": "code",
   "execution_count": 6,
   "metadata": {},
   "outputs": [],
   "source": [
    "# Define the divergence function between the two posterior summary dataframes\n",
    "def post_divergence(df1, df2):\n",
    "    return np.sum(np.absolute(df1['Mean']-df2['Mean']))"
   ]
  },
  {
   "cell_type": "code",
   "execution_count": 12,
   "metadata": {},
   "outputs": [],
   "source": [
    "# Inference R_t profile using the LocImpBranchProPosterior\n",
    "a = 1\n",
    "b = 0.2\n",
    "\n",
    "# Run comparative inferences for different values of epsilon and lambda\n",
    "difference = np.empty((len(epsilon_values), len(lambdas)))\n",
    "\n",
    "for _, epsilon in enumerate(epsilon_values):\n",
    "    for l, lam in enumerate(lambdas):\n",
    "        point_difference = []\n",
    "        for i, imported_cases in enumerate(all_imported_cases[l]):\n",
    "            for locally_infected_cases in all_local_cases[_][l][i]:\n",
    "                # Transform our incidence data into pandas dataframes\n",
    "                inc_data = pd.DataFrame(\n",
    "                    {\n",
    "                        'Time': start_times,\n",
    "                        'Incidence Number': locally_infected_cases\n",
    "                    }\n",
    "                )\n",
    "\n",
    "                imported_inc_data = pd.DataFrame(\n",
    "                    {\n",
    "                        'Time': start_times,\n",
    "                        'Incidence Number': imported_cases\n",
    "                    }\n",
    "                )\n",
    "\n",
    "                # Run inference for the true value of epsilon\n",
    "                inference_true = branchpro.LocImpBranchProPosteriorMultSI(\n",
    "                    inc_data=inc_data,\n",
    "                    imported_inc_data=imported_inc_data,\n",
    "                    epsilon=epsilon,\n",
    "                    daily_serial_intervals=serial_intervals,\n",
    "                    alpha=a,\n",
    "                    beta=b)\n",
    "\n",
    "                inference_true.run_inference(tau=tau)\n",
    "                intervals_true = inference_true.get_intervals(central_prob=0)\n",
    "\n",
    "                # Run inference for the baseline value of epsilon = 1\n",
    "                inference_baseline = branchpro.LocImpBranchProPosteriorMultSI(\n",
    "                    inc_data=inc_data,\n",
    "                    imported_inc_data=imported_inc_data,\n",
    "                    epsilon=1,\n",
    "                    daily_serial_intervals=serial_intervals,\n",
    "                    alpha=a,\n",
    "                    beta=b)\n",
    "\n",
    "                inference_baseline.run_inference(tau=tau)\n",
    "                intervals_baseline = inference_baseline.get_intervals(central_prob=0)\n",
    "\n",
    "                # Compute divergence between the two posteriors\n",
    "                point_difference.append(post_divergence(intervals_true, intervals_baseline))\n",
    "\n",
    "        difference[_, l] = np.mean(np.array(point_difference))"
   ]
  },
  {
   "cell_type": "markdown",
   "metadata": {},
   "source": [
    "### Compute heatmap of the divergence between posteriors fitted the true and baseline ϵ for different values of ϵ and λ"
   ]
  },
  {
   "cell_type": "code",
   "execution_count": 21,
   "metadata": {},
   "outputs": [
    {
     "data": {
      "application/vnd.plotly.v1+json": {
       "config": {
        "plotlyServerURL": "https://plot.ly"
       },
       "data": [
        {
         "coloraxis": "coloraxis",
         "type": "heatmap",
         "x": [
          70,
          80
         ],
         "y": [
          0.25,
          1,
          2.5
         ],
         "z": [
          [
           15.550091066838256,
           15.696171727831095
          ],
          [
           0,
           0
          ],
          [
           7.054001515675882,
           7.097703387377943
          ]
         ]
        }
       ],
       "layout": {
        "boxmode": "group",
        "coloraxis": {
         "colorscale": [
          [
           0,
           "#440154"
          ],
          [
           0.1111111111111111,
           "#482878"
          ],
          [
           0.2222222222222222,
           "#3e4989"
          ],
          [
           0.3333333333333333,
           "#31688e"
          ],
          [
           0.4444444444444444,
           "#26828e"
          ],
          [
           0.5555555555555556,
           "#1f9e89"
          ],
          [
           0.6666666666666666,
           "#35b779"
          ],
          [
           0.7777777777777778,
           "#6ece58"
          ],
          [
           0.8888888888888888,
           "#b5de2b"
          ],
          [
           1,
           "#fde725"
          ]
         ]
        },
        "height": 500,
        "plot_bgcolor": "white",
        "template": {
         "data": {
          "bar": [
           {
            "error_x": {
             "color": "#2a3f5f"
            },
            "error_y": {
             "color": "#2a3f5f"
            },
            "marker": {
             "line": {
              "color": "#E5ECF6",
              "width": 0.5
             },
             "pattern": {
              "fillmode": "overlay",
              "size": 10,
              "solidity": 0.2
             }
            },
            "type": "bar"
           }
          ],
          "barpolar": [
           {
            "marker": {
             "line": {
              "color": "#E5ECF6",
              "width": 0.5
             },
             "pattern": {
              "fillmode": "overlay",
              "size": 10,
              "solidity": 0.2
             }
            },
            "type": "barpolar"
           }
          ],
          "carpet": [
           {
            "aaxis": {
             "endlinecolor": "#2a3f5f",
             "gridcolor": "white",
             "linecolor": "white",
             "minorgridcolor": "white",
             "startlinecolor": "#2a3f5f"
            },
            "baxis": {
             "endlinecolor": "#2a3f5f",
             "gridcolor": "white",
             "linecolor": "white",
             "minorgridcolor": "white",
             "startlinecolor": "#2a3f5f"
            },
            "type": "carpet"
           }
          ],
          "choropleth": [
           {
            "colorbar": {
             "outlinewidth": 0,
             "ticks": ""
            },
            "type": "choropleth"
           }
          ],
          "contour": [
           {
            "colorbar": {
             "outlinewidth": 0,
             "ticks": ""
            },
            "colorscale": [
             [
              0,
              "#0d0887"
             ],
             [
              0.1111111111111111,
              "#46039f"
             ],
             [
              0.2222222222222222,
              "#7201a8"
             ],
             [
              0.3333333333333333,
              "#9c179e"
             ],
             [
              0.4444444444444444,
              "#bd3786"
             ],
             [
              0.5555555555555556,
              "#d8576b"
             ],
             [
              0.6666666666666666,
              "#ed7953"
             ],
             [
              0.7777777777777778,
              "#fb9f3a"
             ],
             [
              0.8888888888888888,
              "#fdca26"
             ],
             [
              1,
              "#f0f921"
             ]
            ],
            "type": "contour"
           }
          ],
          "contourcarpet": [
           {
            "colorbar": {
             "outlinewidth": 0,
             "ticks": ""
            },
            "type": "contourcarpet"
           }
          ],
          "heatmap": [
           {
            "colorbar": {
             "outlinewidth": 0,
             "ticks": ""
            },
            "colorscale": [
             [
              0,
              "#0d0887"
             ],
             [
              0.1111111111111111,
              "#46039f"
             ],
             [
              0.2222222222222222,
              "#7201a8"
             ],
             [
              0.3333333333333333,
              "#9c179e"
             ],
             [
              0.4444444444444444,
              "#bd3786"
             ],
             [
              0.5555555555555556,
              "#d8576b"
             ],
             [
              0.6666666666666666,
              "#ed7953"
             ],
             [
              0.7777777777777778,
              "#fb9f3a"
             ],
             [
              0.8888888888888888,
              "#fdca26"
             ],
             [
              1,
              "#f0f921"
             ]
            ],
            "type": "heatmap"
           }
          ],
          "heatmapgl": [
           {
            "colorbar": {
             "outlinewidth": 0,
             "ticks": ""
            },
            "colorscale": [
             [
              0,
              "#0d0887"
             ],
             [
              0.1111111111111111,
              "#46039f"
             ],
             [
              0.2222222222222222,
              "#7201a8"
             ],
             [
              0.3333333333333333,
              "#9c179e"
             ],
             [
              0.4444444444444444,
              "#bd3786"
             ],
             [
              0.5555555555555556,
              "#d8576b"
             ],
             [
              0.6666666666666666,
              "#ed7953"
             ],
             [
              0.7777777777777778,
              "#fb9f3a"
             ],
             [
              0.8888888888888888,
              "#fdca26"
             ],
             [
              1,
              "#f0f921"
             ]
            ],
            "type": "heatmapgl"
           }
          ],
          "histogram": [
           {
            "marker": {
             "pattern": {
              "fillmode": "overlay",
              "size": 10,
              "solidity": 0.2
             }
            },
            "type": "histogram"
           }
          ],
          "histogram2d": [
           {
            "colorbar": {
             "outlinewidth": 0,
             "ticks": ""
            },
            "colorscale": [
             [
              0,
              "#0d0887"
             ],
             [
              0.1111111111111111,
              "#46039f"
             ],
             [
              0.2222222222222222,
              "#7201a8"
             ],
             [
              0.3333333333333333,
              "#9c179e"
             ],
             [
              0.4444444444444444,
              "#bd3786"
             ],
             [
              0.5555555555555556,
              "#d8576b"
             ],
             [
              0.6666666666666666,
              "#ed7953"
             ],
             [
              0.7777777777777778,
              "#fb9f3a"
             ],
             [
              0.8888888888888888,
              "#fdca26"
             ],
             [
              1,
              "#f0f921"
             ]
            ],
            "type": "histogram2d"
           }
          ],
          "histogram2dcontour": [
           {
            "colorbar": {
             "outlinewidth": 0,
             "ticks": ""
            },
            "colorscale": [
             [
              0,
              "#0d0887"
             ],
             [
              0.1111111111111111,
              "#46039f"
             ],
             [
              0.2222222222222222,
              "#7201a8"
             ],
             [
              0.3333333333333333,
              "#9c179e"
             ],
             [
              0.4444444444444444,
              "#bd3786"
             ],
             [
              0.5555555555555556,
              "#d8576b"
             ],
             [
              0.6666666666666666,
              "#ed7953"
             ],
             [
              0.7777777777777778,
              "#fb9f3a"
             ],
             [
              0.8888888888888888,
              "#fdca26"
             ],
             [
              1,
              "#f0f921"
             ]
            ],
            "type": "histogram2dcontour"
           }
          ],
          "mesh3d": [
           {
            "colorbar": {
             "outlinewidth": 0,
             "ticks": ""
            },
            "type": "mesh3d"
           }
          ],
          "parcoords": [
           {
            "line": {
             "colorbar": {
              "outlinewidth": 0,
              "ticks": ""
             }
            },
            "type": "parcoords"
           }
          ],
          "pie": [
           {
            "automargin": true,
            "type": "pie"
           }
          ],
          "scatter": [
           {
            "marker": {
             "colorbar": {
              "outlinewidth": 0,
              "ticks": ""
             }
            },
            "type": "scatter"
           }
          ],
          "scatter3d": [
           {
            "line": {
             "colorbar": {
              "outlinewidth": 0,
              "ticks": ""
             }
            },
            "marker": {
             "colorbar": {
              "outlinewidth": 0,
              "ticks": ""
             }
            },
            "type": "scatter3d"
           }
          ],
          "scattercarpet": [
           {
            "marker": {
             "colorbar": {
              "outlinewidth": 0,
              "ticks": ""
             }
            },
            "type": "scattercarpet"
           }
          ],
          "scattergeo": [
           {
            "marker": {
             "colorbar": {
              "outlinewidth": 0,
              "ticks": ""
             }
            },
            "type": "scattergeo"
           }
          ],
          "scattergl": [
           {
            "marker": {
             "colorbar": {
              "outlinewidth": 0,
              "ticks": ""
             }
            },
            "type": "scattergl"
           }
          ],
          "scattermapbox": [
           {
            "marker": {
             "colorbar": {
              "outlinewidth": 0,
              "ticks": ""
             }
            },
            "type": "scattermapbox"
           }
          ],
          "scatterpolar": [
           {
            "marker": {
             "colorbar": {
              "outlinewidth": 0,
              "ticks": ""
             }
            },
            "type": "scatterpolar"
           }
          ],
          "scatterpolargl": [
           {
            "marker": {
             "colorbar": {
              "outlinewidth": 0,
              "ticks": ""
             }
            },
            "type": "scatterpolargl"
           }
          ],
          "scatterternary": [
           {
            "marker": {
             "colorbar": {
              "outlinewidth": 0,
              "ticks": ""
             }
            },
            "type": "scatterternary"
           }
          ],
          "surface": [
           {
            "colorbar": {
             "outlinewidth": 0,
             "ticks": ""
            },
            "colorscale": [
             [
              0,
              "#0d0887"
             ],
             [
              0.1111111111111111,
              "#46039f"
             ],
             [
              0.2222222222222222,
              "#7201a8"
             ],
             [
              0.3333333333333333,
              "#9c179e"
             ],
             [
              0.4444444444444444,
              "#bd3786"
             ],
             [
              0.5555555555555556,
              "#d8576b"
             ],
             [
              0.6666666666666666,
              "#ed7953"
             ],
             [
              0.7777777777777778,
              "#fb9f3a"
             ],
             [
              0.8888888888888888,
              "#fdca26"
             ],
             [
              1,
              "#f0f921"
             ]
            ],
            "type": "surface"
           }
          ],
          "table": [
           {
            "cells": {
             "fill": {
              "color": "#EBF0F8"
             },
             "line": {
              "color": "white"
             }
            },
            "header": {
             "fill": {
              "color": "#C8D4E3"
             },
             "line": {
              "color": "white"
             }
            },
            "type": "table"
           }
          ]
         },
         "layout": {
          "annotationdefaults": {
           "arrowcolor": "#2a3f5f",
           "arrowhead": 0,
           "arrowwidth": 1
          },
          "autotypenumbers": "strict",
          "coloraxis": {
           "colorbar": {
            "outlinewidth": 0,
            "ticks": ""
           }
          },
          "colorscale": {
           "diverging": [
            [
             0,
             "#8e0152"
            ],
            [
             0.1,
             "#c51b7d"
            ],
            [
             0.2,
             "#de77ae"
            ],
            [
             0.3,
             "#f1b6da"
            ],
            [
             0.4,
             "#fde0ef"
            ],
            [
             0.5,
             "#f7f7f7"
            ],
            [
             0.6,
             "#e6f5d0"
            ],
            [
             0.7,
             "#b8e186"
            ],
            [
             0.8,
             "#7fbc41"
            ],
            [
             0.9,
             "#4d9221"
            ],
            [
             1,
             "#276419"
            ]
           ],
           "sequential": [
            [
             0,
             "#0d0887"
            ],
            [
             0.1111111111111111,
             "#46039f"
            ],
            [
             0.2222222222222222,
             "#7201a8"
            ],
            [
             0.3333333333333333,
             "#9c179e"
            ],
            [
             0.4444444444444444,
             "#bd3786"
            ],
            [
             0.5555555555555556,
             "#d8576b"
            ],
            [
             0.6666666666666666,
             "#ed7953"
            ],
            [
             0.7777777777777778,
             "#fb9f3a"
            ],
            [
             0.8888888888888888,
             "#fdca26"
            ],
            [
             1,
             "#f0f921"
            ]
           ],
           "sequentialminus": [
            [
             0,
             "#0d0887"
            ],
            [
             0.1111111111111111,
             "#46039f"
            ],
            [
             0.2222222222222222,
             "#7201a8"
            ],
            [
             0.3333333333333333,
             "#9c179e"
            ],
            [
             0.4444444444444444,
             "#bd3786"
            ],
            [
             0.5555555555555556,
             "#d8576b"
            ],
            [
             0.6666666666666666,
             "#ed7953"
            ],
            [
             0.7777777777777778,
             "#fb9f3a"
            ],
            [
             0.8888888888888888,
             "#fdca26"
            ],
            [
             1,
             "#f0f921"
            ]
           ]
          },
          "colorway": [
           "#636efa",
           "#EF553B",
           "#00cc96",
           "#ab63fa",
           "#FFA15A",
           "#19d3f3",
           "#FF6692",
           "#B6E880",
           "#FF97FF",
           "#FECB52"
          ],
          "font": {
           "color": "#2a3f5f"
          },
          "geo": {
           "bgcolor": "white",
           "lakecolor": "white",
           "landcolor": "#E5ECF6",
           "showlakes": true,
           "showland": true,
           "subunitcolor": "white"
          },
          "hoverlabel": {
           "align": "left"
          },
          "hovermode": "closest",
          "mapbox": {
           "style": "light"
          },
          "paper_bgcolor": "white",
          "plot_bgcolor": "#E5ECF6",
          "polar": {
           "angularaxis": {
            "gridcolor": "white",
            "linecolor": "white",
            "ticks": ""
           },
           "bgcolor": "#E5ECF6",
           "radialaxis": {
            "gridcolor": "white",
            "linecolor": "white",
            "ticks": ""
           }
          },
          "scene": {
           "xaxis": {
            "backgroundcolor": "#E5ECF6",
            "gridcolor": "white",
            "gridwidth": 2,
            "linecolor": "white",
            "showbackground": true,
            "ticks": "",
            "zerolinecolor": "white"
           },
           "yaxis": {
            "backgroundcolor": "#E5ECF6",
            "gridcolor": "white",
            "gridwidth": 2,
            "linecolor": "white",
            "showbackground": true,
            "ticks": "",
            "zerolinecolor": "white"
           },
           "zaxis": {
            "backgroundcolor": "#E5ECF6",
            "gridcolor": "white",
            "gridwidth": 2,
            "linecolor": "white",
            "showbackground": true,
            "ticks": "",
            "zerolinecolor": "white"
           }
          },
          "shapedefaults": {
           "line": {
            "color": "#2a3f5f"
           }
          },
          "ternary": {
           "aaxis": {
            "gridcolor": "white",
            "linecolor": "white",
            "ticks": ""
           },
           "baxis": {
            "gridcolor": "white",
            "linecolor": "white",
            "ticks": ""
           },
           "bgcolor": "#E5ECF6",
           "caxis": {
            "gridcolor": "white",
            "linecolor": "white",
            "ticks": ""
           }
          },
          "title": {
           "x": 0.05
          },
          "xaxis": {
           "automargin": true,
           "gridcolor": "white",
           "linecolor": "white",
           "ticks": "",
           "title": {
            "standoff": 15
           },
           "zerolinecolor": "white",
           "zerolinewidth": 2
          },
          "yaxis": {
           "automargin": true,
           "gridcolor": "white",
           "linecolor": "white",
           "ticks": "",
           "title": {
            "standoff": 15
           },
           "zerolinecolor": "white",
           "zerolinewidth": 2
          }
         }
        },
        "width": 500,
        "xaxis": {
         "linecolor": "black",
         "title": {
          "text": "λ"
         },
         "type": "category"
        },
        "yaxis": {
         "linecolor": "black",
         "title": {
          "text": "ϵ"
         },
         "type": "category"
        }
       }
      }
     },
     "metadata": {},
     "output_type": "display_data"
    }
   ],
   "source": [
    "fig = go.Figure()\n",
    "\n",
    "# Plot heatmap\n",
    "fig.add_trace(\n",
    "    go.Heatmap(\n",
    "        x=lambdas,\n",
    "        y=epsilon_values,\n",
    "        z=difference,\n",
    "        type = 'heatmap',\n",
    "        coloraxis= 'coloraxis'\n",
    "    ),\n",
    ")\n",
    "\n",
    "# Add axis labels\n",
    "fig.update_xaxes(type='category', title_text='λ')\n",
    "fig.update_yaxes(type='category', title_text='ϵ')\n",
    "\n",
    "fig.update_layout(\n",
    "    boxmode='group',\n",
    "    height=500,\n",
    "    width=500,\n",
    "    plot_bgcolor='white',\n",
    "    xaxis=dict(\n",
    "        linecolor='black'),\n",
    "    yaxis=dict(\n",
    "        linecolor='black'),\n",
    "    coloraxis=dict(colorscale='Viridis'))\n",
    "\n",
    "fig.write_image('Heatmap.pdf')\n",
    "fig.show()"
   ]
  }
 ],
 "metadata": {
  "interpreter": {
   "hash": "9a1edc82fdfb75c3b64a2a1e331992ba51087b4bcc20e5799465daad38af24d9"
  },
  "kernelspec": {
   "display_name": "Python 3.8.2 64-bit ('branchpro': conda)",
   "name": "python3"
  },
  "language_info": {
   "codemirror_mode": {
    "name": "ipython",
    "version": 3
   },
   "file_extension": ".py",
   "mimetype": "text/x-python",
   "name": "python",
   "nbconvert_exporter": "python",
   "pygments_lexer": "ipython3",
   "version": "3.8.2"
  },
  "orig_nbformat": 4
 },
 "nbformat": 4,
 "nbformat_minor": 2
}
