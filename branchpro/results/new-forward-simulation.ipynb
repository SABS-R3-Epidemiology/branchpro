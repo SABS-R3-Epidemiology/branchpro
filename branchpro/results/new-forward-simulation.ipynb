{
 "cells": [
  {
   "cell_type": "markdown",
   "metadata": {},
   "source": [
    "# Differences in behaviour of Rt Profile for Different Infectiousness Levels of Imported Cases\n",
    "\n",
    "The aim of this notebook is to show how different values the epsilon parameter can affect the outcome of the epidemic. This effect is studied through the behaviour of the time-dependent reproduction number trajectory. Epsilon represents the proportionality constant of the reproduction number for imported cases with respect to its analog for local ones. For this analysis we will use an Rt profile from real data from Hong Kong, China with an assumed infectioness of imported cases equal to that of the local ones (i.e. epsilon = 1).\n",
    "\n",
    "This Rt profile will then be used together with synthetically generated imported cases to produce local incidences for a given 'true' value of epsilon. We will proceed to infer the Rt profile for both the true value of epsilon and for epsilon = 1 (for the most common scenario when no distinguishing is made between the imported and the local cases)."
   ]
  },
  {
   "cell_type": "code",
   "execution_count": 1,
   "metadata": {},
   "outputs": [
    {
     "name": "stderr",
     "output_type": "stream",
     "text": [
      "/Users/ioaros/Desktop/Software Project/branchpro/branchpro/apps/_dash_app.py:18: UserWarning: \n",
      "The dash_html_components package is deprecated. Please replace\n",
      "`import dash_html_components as html` with `from dash import html`\n",
      "  import dash_html_components as html\n",
      "/Users/ioaros/Desktop/Software Project/branchpro/branchpro/apps/_simulation.py:15: UserWarning: \n",
      "The dash_core_components package is deprecated. Please replace\n",
      "`import dash_core_components as dcc` with `from dash import dcc`\n",
      "  import dash_core_components as dcc\n"
     ]
    }
   ],
   "source": [
    "# Import libraries\n",
    "import numpy as np\n",
    "import branchpro\n",
    "import plotly.graph_objects as go\n",
    "from matplotlib import pyplot as plt\n",
    "import os\n",
    "import pandas as pd\n",
    "import scipy.stats\n",
    "import datetime"
   ]
  },
  {
   "cell_type": "code",
   "execution_count": 2,
   "metadata": {},
   "outputs": [],
   "source": [
    "# Read serial interval\n",
    "si_file = 'si-epinow'\n",
    "path = os.path.join('../data_library/serial_interval', '{}.csv'.format(si_file))\n",
    "serial_interval = pd.read_csv(path, header=None)\n",
    "serial_interval = serial_interval.fillna(0)\n",
    "serial_intervals = serial_interval.values.T"
   ]
  },
  {
   "cell_type": "code",
   "execution_count": 3,
   "metadata": {},
   "outputs": [],
   "source": [
    "# Select length of timeline for the analysis\n",
    "num_timepoints = 50\n",
    "\n",
    "start_times = np.arange(1, num_timepoints+1, dtype=int)\n",
    "times = np.arange(num_timepoints+1)"
   ]
  },
  {
   "cell_type": "markdown",
   "metadata": {},
   "source": [
    "### A Reproduction Number trajectory inferred from a world example data is used for realistic results"
   ]
  },
  {
   "cell_type": "code",
   "execution_count": 4,
   "metadata": {},
   "outputs": [],
   "source": [
    "# Read Rt trajectory\n",
    "rt_file = 'HK-Rt-profile'\n",
    "path = os.path.join('../data_library/rt_profile', '{}.csv'.format(rt_file))\n",
    "rt_profile = pd.read_csv(path)"
   ]
  },
  {
   "cell_type": "markdown",
   "metadata": {},
   "source": [
    "### Imported Cases Counts are produced by sampling from a Poisson distribution with mean λ"
   ]
  },
  {
   "cell_type": "code",
   "execution_count": 5,
   "metadata": {},
   "outputs": [],
   "source": [
    "# Build the imported cases\n",
    "ic_mean = 5\n",
    "num_sim_imported = 10\n",
    "\n",
    "imported_times = np.arange(1,(num_timepoints+1))\n",
    "\n",
    "sample_imported_cases = []\n",
    "\n",
    "# Multiple samples of imported cases data\n",
    "for sim in range(num_sim_imported):\n",
    "    sample_imported_cases.append(scipy.stats.poisson.rvs(ic_mean, size=num_timepoints))\n",
    "\n",
    "all_imported_cases = np.vstack(sample_imported_cases)"
   ]
  },
  {
   "cell_type": "markdown",
   "metadata": {},
   "source": [
    "### Generate Local Incidences using the previously generated Imported Cases, according to the read-in Rt profile"
   ]
  },
  {
   "cell_type": "code",
   "execution_count": 6,
   "metadata": {},
   "outputs": [],
   "source": [
    "# Construct LocImpBranchProModel object\n",
    "epsilon_values = np.linspace(0.2, 2, 20).tolist()\n",
    "lambdas = np.linspace(0.01, 1, 20).tolist()\n",
    "tau = 6\n",
    "R_t_start = tau+1\n",
    "\n",
    "# Set fixed parameters for the instantiaiton of the model\n",
    "r_profile = rt_profile['Mean'].values\n",
    "r_start_times = rt_profile['Time Points'].values.tolist()\n",
    "\n",
    "initial_r = r_profile[0]\n",
    "si = np.median(serial_intervals, axis=0)\n",
    "parameters = 0 # initial number of cases\n",
    "\n",
    "all_local_cases = []\n",
    "num_sim_local = 1\n",
    "\n",
    "for _, epsilon in enumerate(epsilon_values):\n",
    "    lam_sample_local_cases = []\n",
    "    for l, lam in enumerate(lambdas):\n",
    "        m = branchpro.LocImpBranchProModel(initial_r, si, epsilon)\n",
    "\n",
    "        m.set_r_profile((lam * r_profile).tolist(), r_start_times)\n",
    "\n",
    "        ind_imp_sample_local_cases = []\n",
    "        for imported_cases in all_imported_cases:\n",
    "            m.set_imported_cases(start_times, imported_cases)\n",
    "\n",
    "            sample_local_cases = []\n",
    "            for sim in range(num_sim_local):\n",
    "                sample_local_cases.append(m.simulate(parameters, times)[1:])\n",
    "\n",
    "            ind_imp_sample_local_cases.append(np.vstack(sample_local_cases))\n",
    "\n",
    "        lam_sample_local_cases.append(np.vstack(ind_imp_sample_local_cases))\n",
    "    \n",
    "    all_local_cases.append(lam_sample_local_cases)"
   ]
  },
  {
   "cell_type": "markdown",
   "metadata": {},
   "source": [
    "### Inference of the Rt profile for the true choice of ϵ and for the baseline ϵ = 1"
   ]
  },
  {
   "cell_type": "code",
   "execution_count": 7,
   "metadata": {},
   "outputs": [],
   "source": [
    "# Define the divergence function between the two posterior summary dataframes\n",
    "def post_divergence(df1, df2):\n",
    "    return np.mean(np.absolute(df1['Mean']-df2['Mean']))"
   ]
  },
  {
   "cell_type": "code",
   "execution_count": 8,
   "metadata": {},
   "outputs": [],
   "source": [
    "# Inference R_t profile using the LocImpBranchProPosterior\n",
    "a = 1\n",
    "b = 0.2\n",
    "\n",
    "# Run comparative inferences for different values of epsilon and lambda\n",
    "difference = np.empty((len(epsilon_values), len(lambdas)))\n",
    "\n",
    "for _, epsilon in enumerate(epsilon_values):\n",
    "    for l, lam in enumerate(lambdas):\n",
    "        point_difference = []\n",
    "        for i, imported_cases in enumerate(all_imported_cases):\n",
    "            locally_infected_cases = all_local_cases[_][l][i]\n",
    "            # Transform our incidence data into pandas dataframes\n",
    "            inc_data = pd.DataFrame(\n",
    "                {\n",
    "                    'Time': start_times,\n",
    "                    'Incidence Number': locally_infected_cases\n",
    "                }\n",
    "            )\n",
    "\n",
    "            imported_inc_data = pd.DataFrame(\n",
    "                {\n",
    "                    'Time': start_times,\n",
    "                    'Incidence Number': imported_cases\n",
    "                }\n",
    "            )\n",
    "\n",
    "            # Run inference for the true value of epsilon\n",
    "            inference_true = branchpro.LocImpBranchProPosteriorMultSI(\n",
    "                inc_data=inc_data,\n",
    "                imported_inc_data=imported_inc_data,\n",
    "                epsilon=epsilon,\n",
    "                daily_serial_intervals=serial_intervals,\n",
    "                alpha=a,\n",
    "                beta=b)\n",
    "\n",
    "            inference_true.run_inference(tau=tau)\n",
    "            intervals_true = inference_true.get_intervals(central_prob=0)\n",
    "\n",
    "            # Run inference for the baseline value of epsilon = 1\n",
    "            inference_baseline = branchpro.LocImpBranchProPosteriorMultSI(\n",
    "                inc_data=inc_data,\n",
    "                imported_inc_data=imported_inc_data,\n",
    "                epsilon=1,\n",
    "                daily_serial_intervals=serial_intervals,\n",
    "                alpha=a,\n",
    "                beta=b)\n",
    "\n",
    "            inference_baseline.run_inference(tau=tau)\n",
    "            intervals_baseline = inference_baseline.get_intervals(central_prob=0)\n",
    "\n",
    "            # Compute divergence between the two posteriors\n",
    "            point_difference.append(post_divergence(intervals_true, intervals_baseline))\n",
    "\n",
    "        difference[_, l] = np.mean(np.array(point_difference))"
   ]
  },
  {
   "cell_type": "markdown",
   "metadata": {},
   "source": [
    "### Compute heatmap of the divergence between posteriors fitted the true and baseline ϵ for different values of ϵ and λ"
   ]
  },
  {
   "cell_type": "code",
   "execution_count": 9,
   "metadata": {},
   "outputs": [
    {
     "data": {
      "application/vnd.plotly.v1+json": {
       "config": {
        "plotlyServerURL": "https://plot.ly"
       },
       "data": [
        {
         "coloraxis": "coloraxis",
         "type": "heatmap",
         "x": [
          0.01,
          0.06,
          0.11,
          0.17,
          0.22,
          0.27,
          0.32,
          0.37,
          0.43,
          0.48,
          0.53,
          0.58,
          0.64,
          0.69,
          0.74,
          0.79,
          0.84,
          0.9,
          0.95,
          1
         ],
         "y": [
          0.2,
          0.29,
          0.39,
          0.48,
          0.58,
          0.67,
          0.77,
          0.86,
          0.96,
          1.05,
          1.15,
          1.24,
          1.34,
          1.43,
          1.53,
          1.62,
          1.72,
          1.81,
          1.91,
          2
         ],
         "z": [
          [
           0.13868450109863192,
           0.15916101908327832,
           0.17889019444588683,
           0.20823285449823775,
           0.24640368524771455,
           0.2746450787876064,
           0.28258848987382057,
           0.28999653396487324,
           0.32756376198329085,
           0.3535403861843648,
           0.35007221029310787,
           0.3687313479931898,
           0.4061989171455892,
           0.40212844168033757,
           0.4246852276601585,
           0.4356886007350681,
           0.4413380426419261,
           0.4494615543194632,
           0.45594081131587344,
           0.44340675762115767
          ],
          [
           0.0865259441158546,
           0.11011745684454133,
           0.13104175397044082,
           0.14729143230562924,
           0.18428273744523727,
           0.20154614822632486,
           0.23276958570039677,
           0.24076818027959898,
           0.2582931895782129,
           0.2716031378772115,
           0.3054222768056112,
           0.30717691091496035,
           0.30633417824197245,
           0.31598067571577537,
           0.3334899485745667,
           0.334990809943999,
           0.3412191831870387,
           0.34206602355273036,
           0.3483139351394297,
           0.3402964188273799
          ],
          [
           0.06046964711285321,
           0.08092557524938448,
           0.10910272556857739,
           0.12053805123569623,
           0.14077964938080817,
           0.15513496918777844,
           0.16914052842224286,
           0.21003687764191317,
           0.19580363703990475,
           0.22137047012852967,
           0.22029523678204824,
           0.23577623085447344,
           0.2555435308721351,
           0.2542188172671202,
           0.25854298395313535,
           0.26285078146750485,
           0.265892427416055,
           0.2674499333411232,
           0.26631533557004444,
           0.2696095881392417
          ],
          [
           0.04949148555985035,
           0.061025878167244266,
           0.08440109790761383,
           0.09835290665708935,
           0.1130611026983011,
           0.13004310307584205,
           0.1469175010648891,
           0.15342316719755128,
           0.15894975577663645,
           0.1714290407270528,
           0.1813351396104384,
           0.18975331384313726,
           0.19387811241846636,
           0.20318830227053808,
           0.2011825191073356,
           0.20442796918669998,
           0.2059843972129558,
           0.20562980648834675,
           0.2041964849793621,
           0.20394814398627972
          ],
          [
           0.031150751729648103,
           0.044021868616766366,
           0.06595974382827954,
           0.0705540523518862,
           0.0867241639168885,
           0.10033248867621776,
           0.10720623757738176,
           0.11963654583574598,
           0.13378848419552206,
           0.13427629764296328,
           0.13992415190177768,
           0.14678762685923957,
           0.15009472121502526,
           0.150352203462843,
           0.15429122798373002,
           0.15639418685170745,
           0.15329122841908677,
           0.15596566851476817,
           0.15447642098601183,
           0.1544793694209934
          ],
          [
           0.024593174326384117,
           0.03502902648900573,
           0.04466949495203002,
           0.055313858917546845,
           0.06762632358051865,
           0.07592637887108651,
           0.08495676120414455,
           0.08853569452161593,
           0.09611984057382417,
           0.09734226348394787,
           0.1029035206999673,
           0.10825194340520514,
           0.1078073259071494,
           0.11004552810813713,
           0.11106299167472349,
           0.11142012543652328,
           0.1105108907608239,
           0.11120723654165468,
           0.11049680204138465,
           0.10971798313257068
          ],
          [
           0.016634677545339975,
           0.02321334331314388,
           0.029995453270031926,
           0.04154133854058788,
           0.04593097865062083,
           0.05202808631662294,
           0.05616322704357403,
           0.06042332964627688,
           0.06384123183743691,
           0.06724186704883647,
           0.0720038046945298,
           0.0716968203798923,
           0.0730707644395594,
           0.07452707838012432,
           0.07591656879268183,
           0.0744858072853715,
           0.07499563740615382,
           0.07337249418338451,
           0.07276838099636437,
           0.07256892117573852
          ],
          [
           0.008512331404301094,
           0.013264652242444636,
           0.019292108383820183,
           0.021877510557615165,
           0.025128720227523205,
           0.029745862079406705,
           0.03346953136229787,
           0.03411058918584013,
           0.03679485018900045,
           0.038649930612302104,
           0.0394661002308342,
           0.03967093278774972,
           0.04085083281713062,
           0.041792743466949576,
           0.04127346600947196,
           0.04154503258831395,
           0.041462907485142884,
           0.04084170611384787,
           0.04076268810208754,
           0.04024702647331814
          ],
          [
           0.0025130571311128987,
           0.004062072589225418,
           0.0053228866972448345,
           0.006742897739472513,
           0.007598381752735635,
           0.00871137782393689,
           0.00951277238288486,
           0.010263843883134238,
           0.011010740349985547,
           0.011473416483927074,
           0.011725153756597238,
           0.011890441277592926,
           0.01210107000648141,
           0.012209083100342931,
           0.012277854728687119,
           0.0121381769639598,
           0.012107030960118708,
           0.011912223739796191,
           0.011838656133674219,
           0.01167344813319333
          ],
          [
           0.002655872258221095,
           0.004794372875438343,
           0.006897440648808246,
           0.008137780835170062,
           0.00946895856322219,
           0.010361991711407276,
           0.011757232560769982,
           0.012522705132859736,
           0.013229165177260225,
           0.013384439034445963,
           0.013917981733822245,
           0.014406432272472989,
           0.014575438792892382,
           0.014554823900721072,
           0.014582121842350243,
           0.014594569558572764,
           0.014441251152022027,
           0.014248129881535782,
           0.014112505830014338,
           0.01391922932875653
          ],
          [
           0.008417136817040496,
           0.013718112724928405,
           0.017718504190984356,
           0.02354501133348696,
           0.02593469002534371,
           0.027792990550402224,
           0.03237956322766133,
           0.03408410381937639,
           0.035137085743288846,
           0.03677374881255269,
           0.03737293061105755,
           0.03838428273359061,
           0.03829995073404181,
           0.03939706697200335,
           0.03875080158335822,
           0.03920968767555554,
           0.0381854484665206,
           0.03792642154148475,
           0.03787998362626597,
           0.037474794853649164
          ],
          [
           0.0128531348149435,
           0.020331355515456333,
           0.029040239652045264,
           0.03576372320219884,
           0.038062724117896005,
           0.04528579858329853,
           0.04982070869349782,
           0.054104750948003474,
           0.056480762941114,
           0.058601806277862024,
           0.05979489304234724,
           0.06097685741366017,
           0.061788239357113986,
           0.061813577330776893,
           0.06071759753232735,
           0.06092400178164094,
           0.06111943298800164,
           0.05978103656239845,
           0.05914158845173588,
           0.057964327217203196
          ],
          [
           0.016155588691217717,
           0.027661812956679653,
           0.037953445585736184,
           0.04824091502676226,
           0.054524916591580194,
           0.061709361165825774,
           0.06751716658317539,
           0.0726965166511019,
           0.07492955290668422,
           0.07901748757681258,
           0.08125053829671525,
           0.08161628665132467,
           0.0817257971382798,
           0.0829400109080554,
           0.08217698312840355,
           0.08122617100698175,
           0.08070280475240385,
           0.0796200426339548,
           0.07853233043139067,
           0.07760249289563716
          ],
          [
           0.02033437376335416,
           0.03693092506832364,
           0.048999759393663356,
           0.061025560311554795,
           0.07187837974053997,
           0.07888390658691864,
           0.08439845610605386,
           0.0896487027055908,
           0.0936351388858568,
           0.09822606950853138,
           0.09977310285143547,
           0.10156363868798499,
           0.10172630298909754,
           0.1018348645839666,
           0.10178264288831537,
           0.1012188350875793,
           0.09999141541975637,
           0.09850354104428058,
           0.09697994153056697,
           0.09594041884850213
          ],
          [
           0.023534029618024886,
           0.04171263978026085,
           0.05694567134730546,
           0.07205043692067521,
           0.08265230310904773,
           0.09202563212499432,
           0.10031214579187657,
           0.10609434569788793,
           0.11297276541986614,
           0.11696916439891822,
           0.11840751344811669,
           0.12052519398851518,
           0.11993213003560628,
           0.12101856456663129,
           0.11849452022927105,
           0.11888599210107961,
           0.11693777750642867,
           0.1153992725156991,
           0.1152957460296771,
           0.11360332959260658
          ],
          [
           0.028160245686227853,
           0.051419761988436875,
           0.06760220801443116,
           0.08651914021976957,
           0.09780355061776133,
           0.10714345014559948,
           0.11676208488711141,
           0.12246077794217247,
           0.12741129823987715,
           0.1330445026117641,
           0.13555288184297867,
           0.13711096592439292,
           0.13576807278576591,
           0.1354042880274519,
           0.1361256188530868,
           0.13578448207276894,
           0.13324681507051278,
           0.13235901768832012,
           0.13191182471427854,
           0.13014432083928282
          ],
          [
           0.03189527743651879,
           0.05500391409987513,
           0.07713149000228944,
           0.09459542468763314,
           0.11164865001033977,
           0.1224746954432212,
           0.12974791047631803,
           0.13958939697549408,
           0.1458514635478519,
           0.14809616617991417,
           0.14977017053883673,
           0.15200752945692794,
           0.15261329899463144,
           0.15298298100047325,
           0.15244416290399465,
           0.14941613278871577,
           0.14917232321632962,
           0.14611328090754527,
           0.1450153607945591,
           0.14261365892722758
          ],
          [
           0.037071478384750445,
           0.05830552255333241,
           0.08356428993044474,
           0.1076911538485126,
           0.1230027374864165,
           0.13499686751793077,
           0.14522418870292203,
           0.15525001450415576,
           0.1576001145781838,
           0.16435157307742798,
           0.1663918266295635,
           0.16763939616968065,
           0.16896713249647424,
           0.16829045279345045,
           0.16643047426624613,
           0.1659111744020548,
           0.16414744848513738,
           0.1599342907788702,
           0.15975315830772713,
           0.15698353418490613
          ],
          [
           0.03817139337710846,
           0.07471012363636284,
           0.08763230758373777,
           0.11650681284723044,
           0.13184612170320836,
           0.146186325212994,
           0.15770368394297174,
           0.16934980847998773,
           0.17465394143840737,
           0.17762224561773243,
           0.18009651008037164,
           0.18380017534323936,
           0.18412220704483703,
           0.18002623992510508,
           0.17991564599863225,
           0.176979569925384,
           0.1764044854977118,
           0.1733906518790711,
           0.17232655332499522,
           0.1692790538855729
          ],
          [
           0.041929282522913766,
           0.07847152996618595,
           0.10174846882262815,
           0.12836469896904956,
           0.14260962541269034,
           0.15778147886736754,
           0.172929673044595,
           0.18275745106552893,
           0.18863020764368096,
           0.19360059425547624,
           0.19539415301985968,
           0.19609725796881075,
           0.19608097778729844,
           0.19709496733431794,
           0.19285295003406527,
           0.1928206716294046,
           0.18587673174872957,
           0.18564024550825092,
           0.18485398495580763,
           0.18084360005720201
          ]
         ]
        }
       ],
       "layout": {
        "boxmode": "group",
        "coloraxis": {
         "colorscale": [
          [
           0,
           "rgb(254, 245, 244)"
          ],
          [
           0.09090909090909091,
           "rgb(222, 224, 210)"
          ],
          [
           0.18181818181818182,
           "rgb(189, 206, 181)"
          ],
          [
           0.2727272727272727,
           "rgb(153, 189, 156)"
          ],
          [
           0.36363636363636365,
           "rgb(110, 173, 138)"
          ],
          [
           0.45454545454545453,
           "rgb(65, 157, 129)"
          ],
          [
           0.5454545454545454,
           "rgb(25, 137, 125)"
          ],
          [
           0.6363636363636364,
           "rgb(18, 116, 117)"
          ],
          [
           0.7272727272727273,
           "rgb(25, 94, 106)"
          ],
          [
           0.8181818181818182,
           "rgb(28, 72, 93)"
          ],
          [
           0.9090909090909091,
           "rgb(25, 51, 80)"
          ],
          [
           1,
           "rgb(20, 29, 67)"
          ]
         ]
        },
        "height": 500,
        "plot_bgcolor": "white",
        "template": {
         "data": {
          "bar": [
           {
            "error_x": {
             "color": "#2a3f5f"
            },
            "error_y": {
             "color": "#2a3f5f"
            },
            "marker": {
             "line": {
              "color": "#E5ECF6",
              "width": 0.5
             },
             "pattern": {
              "fillmode": "overlay",
              "size": 10,
              "solidity": 0.2
             }
            },
            "type": "bar"
           }
          ],
          "barpolar": [
           {
            "marker": {
             "line": {
              "color": "#E5ECF6",
              "width": 0.5
             },
             "pattern": {
              "fillmode": "overlay",
              "size": 10,
              "solidity": 0.2
             }
            },
            "type": "barpolar"
           }
          ],
          "carpet": [
           {
            "aaxis": {
             "endlinecolor": "#2a3f5f",
             "gridcolor": "white",
             "linecolor": "white",
             "minorgridcolor": "white",
             "startlinecolor": "#2a3f5f"
            },
            "baxis": {
             "endlinecolor": "#2a3f5f",
             "gridcolor": "white",
             "linecolor": "white",
             "minorgridcolor": "white",
             "startlinecolor": "#2a3f5f"
            },
            "type": "carpet"
           }
          ],
          "choropleth": [
           {
            "colorbar": {
             "outlinewidth": 0,
             "ticks": ""
            },
            "type": "choropleth"
           }
          ],
          "contour": [
           {
            "colorbar": {
             "outlinewidth": 0,
             "ticks": ""
            },
            "colorscale": [
             [
              0,
              "#0d0887"
             ],
             [
              0.1111111111111111,
              "#46039f"
             ],
             [
              0.2222222222222222,
              "#7201a8"
             ],
             [
              0.3333333333333333,
              "#9c179e"
             ],
             [
              0.4444444444444444,
              "#bd3786"
             ],
             [
              0.5555555555555556,
              "#d8576b"
             ],
             [
              0.6666666666666666,
              "#ed7953"
             ],
             [
              0.7777777777777778,
              "#fb9f3a"
             ],
             [
              0.8888888888888888,
              "#fdca26"
             ],
             [
              1,
              "#f0f921"
             ]
            ],
            "type": "contour"
           }
          ],
          "contourcarpet": [
           {
            "colorbar": {
             "outlinewidth": 0,
             "ticks": ""
            },
            "type": "contourcarpet"
           }
          ],
          "heatmap": [
           {
            "colorbar": {
             "outlinewidth": 0,
             "ticks": ""
            },
            "colorscale": [
             [
              0,
              "#0d0887"
             ],
             [
              0.1111111111111111,
              "#46039f"
             ],
             [
              0.2222222222222222,
              "#7201a8"
             ],
             [
              0.3333333333333333,
              "#9c179e"
             ],
             [
              0.4444444444444444,
              "#bd3786"
             ],
             [
              0.5555555555555556,
              "#d8576b"
             ],
             [
              0.6666666666666666,
              "#ed7953"
             ],
             [
              0.7777777777777778,
              "#fb9f3a"
             ],
             [
              0.8888888888888888,
              "#fdca26"
             ],
             [
              1,
              "#f0f921"
             ]
            ],
            "type": "heatmap"
           }
          ],
          "heatmapgl": [
           {
            "colorbar": {
             "outlinewidth": 0,
             "ticks": ""
            },
            "colorscale": [
             [
              0,
              "#0d0887"
             ],
             [
              0.1111111111111111,
              "#46039f"
             ],
             [
              0.2222222222222222,
              "#7201a8"
             ],
             [
              0.3333333333333333,
              "#9c179e"
             ],
             [
              0.4444444444444444,
              "#bd3786"
             ],
             [
              0.5555555555555556,
              "#d8576b"
             ],
             [
              0.6666666666666666,
              "#ed7953"
             ],
             [
              0.7777777777777778,
              "#fb9f3a"
             ],
             [
              0.8888888888888888,
              "#fdca26"
             ],
             [
              1,
              "#f0f921"
             ]
            ],
            "type": "heatmapgl"
           }
          ],
          "histogram": [
           {
            "marker": {
             "pattern": {
              "fillmode": "overlay",
              "size": 10,
              "solidity": 0.2
             }
            },
            "type": "histogram"
           }
          ],
          "histogram2d": [
           {
            "colorbar": {
             "outlinewidth": 0,
             "ticks": ""
            },
            "colorscale": [
             [
              0,
              "#0d0887"
             ],
             [
              0.1111111111111111,
              "#46039f"
             ],
             [
              0.2222222222222222,
              "#7201a8"
             ],
             [
              0.3333333333333333,
              "#9c179e"
             ],
             [
              0.4444444444444444,
              "#bd3786"
             ],
             [
              0.5555555555555556,
              "#d8576b"
             ],
             [
              0.6666666666666666,
              "#ed7953"
             ],
             [
              0.7777777777777778,
              "#fb9f3a"
             ],
             [
              0.8888888888888888,
              "#fdca26"
             ],
             [
              1,
              "#f0f921"
             ]
            ],
            "type": "histogram2d"
           }
          ],
          "histogram2dcontour": [
           {
            "colorbar": {
             "outlinewidth": 0,
             "ticks": ""
            },
            "colorscale": [
             [
              0,
              "#0d0887"
             ],
             [
              0.1111111111111111,
              "#46039f"
             ],
             [
              0.2222222222222222,
              "#7201a8"
             ],
             [
              0.3333333333333333,
              "#9c179e"
             ],
             [
              0.4444444444444444,
              "#bd3786"
             ],
             [
              0.5555555555555556,
              "#d8576b"
             ],
             [
              0.6666666666666666,
              "#ed7953"
             ],
             [
              0.7777777777777778,
              "#fb9f3a"
             ],
             [
              0.8888888888888888,
              "#fdca26"
             ],
             [
              1,
              "#f0f921"
             ]
            ],
            "type": "histogram2dcontour"
           }
          ],
          "mesh3d": [
           {
            "colorbar": {
             "outlinewidth": 0,
             "ticks": ""
            },
            "type": "mesh3d"
           }
          ],
          "parcoords": [
           {
            "line": {
             "colorbar": {
              "outlinewidth": 0,
              "ticks": ""
             }
            },
            "type": "parcoords"
           }
          ],
          "pie": [
           {
            "automargin": true,
            "type": "pie"
           }
          ],
          "scatter": [
           {
            "marker": {
             "colorbar": {
              "outlinewidth": 0,
              "ticks": ""
             }
            },
            "type": "scatter"
           }
          ],
          "scatter3d": [
           {
            "line": {
             "colorbar": {
              "outlinewidth": 0,
              "ticks": ""
             }
            },
            "marker": {
             "colorbar": {
              "outlinewidth": 0,
              "ticks": ""
             }
            },
            "type": "scatter3d"
           }
          ],
          "scattercarpet": [
           {
            "marker": {
             "colorbar": {
              "outlinewidth": 0,
              "ticks": ""
             }
            },
            "type": "scattercarpet"
           }
          ],
          "scattergeo": [
           {
            "marker": {
             "colorbar": {
              "outlinewidth": 0,
              "ticks": ""
             }
            },
            "type": "scattergeo"
           }
          ],
          "scattergl": [
           {
            "marker": {
             "colorbar": {
              "outlinewidth": 0,
              "ticks": ""
             }
            },
            "type": "scattergl"
           }
          ],
          "scattermapbox": [
           {
            "marker": {
             "colorbar": {
              "outlinewidth": 0,
              "ticks": ""
             }
            },
            "type": "scattermapbox"
           }
          ],
          "scatterpolar": [
           {
            "marker": {
             "colorbar": {
              "outlinewidth": 0,
              "ticks": ""
             }
            },
            "type": "scatterpolar"
           }
          ],
          "scatterpolargl": [
           {
            "marker": {
             "colorbar": {
              "outlinewidth": 0,
              "ticks": ""
             }
            },
            "type": "scatterpolargl"
           }
          ],
          "scatterternary": [
           {
            "marker": {
             "colorbar": {
              "outlinewidth": 0,
              "ticks": ""
             }
            },
            "type": "scatterternary"
           }
          ],
          "surface": [
           {
            "colorbar": {
             "outlinewidth": 0,
             "ticks": ""
            },
            "colorscale": [
             [
              0,
              "#0d0887"
             ],
             [
              0.1111111111111111,
              "#46039f"
             ],
             [
              0.2222222222222222,
              "#7201a8"
             ],
             [
              0.3333333333333333,
              "#9c179e"
             ],
             [
              0.4444444444444444,
              "#bd3786"
             ],
             [
              0.5555555555555556,
              "#d8576b"
             ],
             [
              0.6666666666666666,
              "#ed7953"
             ],
             [
              0.7777777777777778,
              "#fb9f3a"
             ],
             [
              0.8888888888888888,
              "#fdca26"
             ],
             [
              1,
              "#f0f921"
             ]
            ],
            "type": "surface"
           }
          ],
          "table": [
           {
            "cells": {
             "fill": {
              "color": "#EBF0F8"
             },
             "line": {
              "color": "white"
             }
            },
            "header": {
             "fill": {
              "color": "#C8D4E3"
             },
             "line": {
              "color": "white"
             }
            },
            "type": "table"
           }
          ]
         },
         "layout": {
          "annotationdefaults": {
           "arrowcolor": "#2a3f5f",
           "arrowhead": 0,
           "arrowwidth": 1
          },
          "autotypenumbers": "strict",
          "coloraxis": {
           "colorbar": {
            "outlinewidth": 0,
            "ticks": ""
           }
          },
          "colorscale": {
           "diverging": [
            [
             0,
             "#8e0152"
            ],
            [
             0.1,
             "#c51b7d"
            ],
            [
             0.2,
             "#de77ae"
            ],
            [
             0.3,
             "#f1b6da"
            ],
            [
             0.4,
             "#fde0ef"
            ],
            [
             0.5,
             "#f7f7f7"
            ],
            [
             0.6,
             "#e6f5d0"
            ],
            [
             0.7,
             "#b8e186"
            ],
            [
             0.8,
             "#7fbc41"
            ],
            [
             0.9,
             "#4d9221"
            ],
            [
             1,
             "#276419"
            ]
           ],
           "sequential": [
            [
             0,
             "#0d0887"
            ],
            [
             0.1111111111111111,
             "#46039f"
            ],
            [
             0.2222222222222222,
             "#7201a8"
            ],
            [
             0.3333333333333333,
             "#9c179e"
            ],
            [
             0.4444444444444444,
             "#bd3786"
            ],
            [
             0.5555555555555556,
             "#d8576b"
            ],
            [
             0.6666666666666666,
             "#ed7953"
            ],
            [
             0.7777777777777778,
             "#fb9f3a"
            ],
            [
             0.8888888888888888,
             "#fdca26"
            ],
            [
             1,
             "#f0f921"
            ]
           ],
           "sequentialminus": [
            [
             0,
             "#0d0887"
            ],
            [
             0.1111111111111111,
             "#46039f"
            ],
            [
             0.2222222222222222,
             "#7201a8"
            ],
            [
             0.3333333333333333,
             "#9c179e"
            ],
            [
             0.4444444444444444,
             "#bd3786"
            ],
            [
             0.5555555555555556,
             "#d8576b"
            ],
            [
             0.6666666666666666,
             "#ed7953"
            ],
            [
             0.7777777777777778,
             "#fb9f3a"
            ],
            [
             0.8888888888888888,
             "#fdca26"
            ],
            [
             1,
             "#f0f921"
            ]
           ]
          },
          "colorway": [
           "#636efa",
           "#EF553B",
           "#00cc96",
           "#ab63fa",
           "#FFA15A",
           "#19d3f3",
           "#FF6692",
           "#B6E880",
           "#FF97FF",
           "#FECB52"
          ],
          "font": {
           "color": "#2a3f5f"
          },
          "geo": {
           "bgcolor": "white",
           "lakecolor": "white",
           "landcolor": "#E5ECF6",
           "showlakes": true,
           "showland": true,
           "subunitcolor": "white"
          },
          "hoverlabel": {
           "align": "left"
          },
          "hovermode": "closest",
          "mapbox": {
           "style": "light"
          },
          "paper_bgcolor": "white",
          "plot_bgcolor": "#E5ECF6",
          "polar": {
           "angularaxis": {
            "gridcolor": "white",
            "linecolor": "white",
            "ticks": ""
           },
           "bgcolor": "#E5ECF6",
           "radialaxis": {
            "gridcolor": "white",
            "linecolor": "white",
            "ticks": ""
           }
          },
          "scene": {
           "xaxis": {
            "backgroundcolor": "#E5ECF6",
            "gridcolor": "white",
            "gridwidth": 2,
            "linecolor": "white",
            "showbackground": true,
            "ticks": "",
            "zerolinecolor": "white"
           },
           "yaxis": {
            "backgroundcolor": "#E5ECF6",
            "gridcolor": "white",
            "gridwidth": 2,
            "linecolor": "white",
            "showbackground": true,
            "ticks": "",
            "zerolinecolor": "white"
           },
           "zaxis": {
            "backgroundcolor": "#E5ECF6",
            "gridcolor": "white",
            "gridwidth": 2,
            "linecolor": "white",
            "showbackground": true,
            "ticks": "",
            "zerolinecolor": "white"
           }
          },
          "shapedefaults": {
           "line": {
            "color": "#2a3f5f"
           }
          },
          "ternary": {
           "aaxis": {
            "gridcolor": "white",
            "linecolor": "white",
            "ticks": ""
           },
           "baxis": {
            "gridcolor": "white",
            "linecolor": "white",
            "ticks": ""
           },
           "bgcolor": "#E5ECF6",
           "caxis": {
            "gridcolor": "white",
            "linecolor": "white",
            "ticks": ""
           }
          },
          "title": {
           "x": 0.05
          },
          "xaxis": {
           "automargin": true,
           "gridcolor": "white",
           "linecolor": "white",
           "ticks": "",
           "title": {
            "standoff": 15
           },
           "zerolinecolor": "white",
           "zerolinewidth": 2
          },
          "yaxis": {
           "automargin": true,
           "gridcolor": "white",
           "linecolor": "white",
           "ticks": "",
           "title": {
            "standoff": 15
           },
           "zerolinecolor": "white",
           "zerolinewidth": 2
          }
         }
        },
        "width": 500,
        "xaxis": {
         "linecolor": "black",
         "title": {
          "text": "λ"
         },
         "type": "category"
        },
        "yaxis": {
         "linecolor": "black",
         "title": {
          "text": "ϵ"
         },
         "type": "category"
        }
       }
      }
     },
     "metadata": {},
     "output_type": "display_data"
    }
   ],
   "source": [
    "fig = go.Figure()\n",
    "\n",
    "# Plot heatmap\n",
    "fig.add_trace(\n",
    "    go.Heatmap(\n",
    "        x=np.round(lambdas, 2),\n",
    "        y=np.round(epsilon_values, 2),\n",
    "        z=difference,\n",
    "        type = 'heatmap',\n",
    "        coloraxis= 'coloraxis'\n",
    "    ),\n",
    ")\n",
    "\n",
    "# Add axis labels\n",
    "fig.update_xaxes(type='category', title_text='λ')\n",
    "fig.update_yaxes(type='category', title_text='ϵ')\n",
    "\n",
    "fig.update_layout(\n",
    "    boxmode='group',\n",
    "    height=500,\n",
    "    width=500,\n",
    "    plot_bgcolor='white',\n",
    "    xaxis=dict(\n",
    "        linecolor='black'),\n",
    "    yaxis=dict(\n",
    "        linecolor='black'),\n",
    "    coloraxis=dict(colorscale='tempo'))\n",
    "\n",
    "fig.write_image('Heatmap.pdf')\n",
    "fig.show()"
   ]
  }
 ],
 "metadata": {
  "interpreter": {
   "hash": "9a1edc82fdfb75c3b64a2a1e331992ba51087b4bcc20e5799465daad38af24d9"
  },
  "kernelspec": {
   "display_name": "Python 3.9.7 64-bit ('branchpro': conda)",
   "name": "python3"
  },
  "language_info": {
   "codemirror_mode": {
    "name": "ipython",
    "version": 3
   },
   "file_extension": ".py",
   "mimetype": "text/x-python",
   "name": "python",
   "nbconvert_exporter": "python",
   "pygments_lexer": "ipython3",
   "version": "3.9.7"
  },
  "orig_nbformat": 4
 },
 "nbformat": 4,
 "nbformat_minor": 2
}
