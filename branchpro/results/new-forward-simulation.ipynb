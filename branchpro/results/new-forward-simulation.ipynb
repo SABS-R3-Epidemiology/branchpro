{
 "cells": [
  {
   "cell_type": "markdown",
   "metadata": {},
   "source": [
    "# Differences in behaviour of Rt Profile for Different Infectiousness Levels of Imported Cases\n",
    "\n",
    "The aim of this notebook is to show how different values the epsilon parameter can affect the outcome of the epidemic. This effect is studied through the behaviour of the time-dependent reproduction number trajectory. Epsilon represents the proportionality constant of the reproduction number for imported cases with respect to its analog for local ones. For this analysis we will use an Rt profile from real data from ... with an assumed infectioness of imported cases equal to that of the local ones (i.e. epsilon = 1).\n",
    "\n",
    "This Rt profile will then be used together with synthetically generated imported cases to produce local incidences for a given 'true' value of epsilon. We will proceed to infer the Rt profile for both the true value of epsilon and for epsilon = 1 (for the most common scenario when no distinguishing is made between the imported and the local cases)."
   ]
  },
  {
   "cell_type": "code",
   "execution_count": 1,
   "metadata": {},
   "outputs": [
    {
     "name": "stderr",
     "output_type": "stream",
     "text": [
      "/Users/ioaros/Desktop/Software Project/branchpro/branchpro/apps/_dash_app.py:18: UserWarning: \n",
      "The dash_html_components package is deprecated. Please replace\n",
      "`import dash_html_components as html` with `from dash import html`\n",
      "  import dash_html_components as html\n",
      "/Users/ioaros/Desktop/Software Project/branchpro/branchpro/apps/_simulation.py:15: UserWarning: \n",
      "The dash_core_components package is deprecated. Please replace\n",
      "`import dash_core_components as dcc` with `from dash import dcc`\n",
      "  import dash_core_components as dcc\n"
     ]
    }
   ],
   "source": [
    "# Import libraries\n",
    "import numpy as np\n",
    "import branchpro\n",
    "import plotly.graph_objects as go\n",
    "from matplotlib import pyplot as plt\n",
    "import os\n",
    "import pandas as pd\n",
    "import scipy.stats\n",
    "import datetime"
   ]
  },
  {
   "cell_type": "code",
   "execution_count": 2,
   "metadata": {},
   "outputs": [],
   "source": [
    "# Read serial interval\n",
    "si_file = 'si-epinow'\n",
    "path = os.path.join('../data_library/serial_interval', '{}.csv'.format(si_file))\n",
    "serial_interval = pd.read_csv(path, header=None)\n",
    "serial_interval = serial_interval.fillna(0)\n",
    "serial_intervals = serial_interval.values.T"
   ]
  },
  {
   "cell_type": "code",
   "execution_count": 3,
   "metadata": {},
   "outputs": [],
   "source": [
    "# Select length of timeline for the analysis\n",
    "num_timepoints = 50\n",
    "\n",
    "start_times = np.arange(1, num_timepoints+1, dtype=int)\n",
    "times = np.arange(num_timepoints+1)"
   ]
  },
  {
   "cell_type": "markdown",
   "metadata": {},
   "source": [
    "### A Reproduction Number trajectory inferred from a world example data is used for realistic results"
   ]
  },
  {
   "cell_type": "code",
   "execution_count": null,
   "metadata": {},
   "outputs": [],
   "source": [
    "# Read Rt trajectory\n",
    "#TODO: get real data and create new notebook to infer this Rt profile\n",
    "rt_file = 'si-epinow'\n",
    "path = os.path.join('../data_library/rt_profile', '{}.csv'.format(rt_file))\n",
    "rt_profile = pd.read_csv(path, header=None)"
   ]
  },
  {
   "cell_type": "markdown",
   "metadata": {},
   "source": [
    "### Imported Cases Counts are produced by sampling from a Poisson distribution with mean λ"
   ]
  },
  {
   "cell_type": "code",
   "execution_count": 4,
   "metadata": {},
   "outputs": [],
   "source": [
    "# Build the imported cases\n",
    "lambdas = [70, 80]\n",
    "num_sim_imported = 10\n",
    "\n",
    "imported_times = np.arange(1,(num_timepoints+1))\n",
    "all_imported_cases = []\n",
    "\n",
    "for ic_mean in lambdas:\n",
    "    sample_imported_cases = []\n",
    "\n",
    "    # Multiple samples of imported cases data\n",
    "    for sim in range(num_sim_imported):\n",
    "        sample_imported_cases.append(scipy.stats.poisson.rvs(ic_mean, size=num_timepoints))\n",
    "\n",
    "    all_imported_cases.append(np.vstack(sample_imported_cases))"
   ]
  },
  {
   "cell_type": "markdown",
   "metadata": {},
   "source": [
    "### Generate Local Incidences using the previously generated Imported Cases, according to the read-in Rt profile\n",
    "\n",
    "The value of the epsilon parameter is considered ϵ = 1.5"
   ]
  },
  {
   "cell_type": "code",
   "execution_count": 5,
   "metadata": {},
   "outputs": [],
   "source": [
    "# TODO: Delete\n",
    "new_rs = [3, 0.5]\n",
    "r_start_times = [0, 15]\n",
    "\n",
    "# Construct LocImpBranchProModel object\n",
    "epsilon_values = [0.25, 1, 2.5]\n",
    "tau = 6\n",
    "R_t_start = tau+1\n",
    "\n",
    "# TODO: replace 'new_rs' with 'rt_profile'\n",
    "initial_r = new_rs[0]\n",
    "si = np.median(serial_intervals, axis=0)\n",
    "parameters = 0 # initial number of cases\n",
    "\n",
    "all_local_cases = []\n",
    "num_sim_local = 10\n",
    "\n",
    "for _, epsilon in enumerate(epsilon_values):\n",
    "    lam_sample_local_cases = []\n",
    "    for l, lam in enumerate(lambdas):\n",
    "        m = branchpro.LocImpBranchProModel(initial_r, si, epsilon)\n",
    "\n",
    "        # TODO: replace 'new_rs' with 'rt_profile'\n",
    "        m.set_r_profile(new_rs, r_start_times)\n",
    "\n",
    "        ind_imp_sample_local_cases = []\n",
    "        for imported_cases in all_imported_cases[l]:\n",
    "            m.set_imported_cases(start_times, imported_cases)\n",
    "\n",
    "            sample_local_cases = []\n",
    "            for sim in range(num_sim_local):\n",
    "                sample_local_cases.append(m.simulate(parameters, times)[1:])\n",
    "\n",
    "            ind_imp_sample_local_cases.append(np.vstack(sample_local_cases))\n",
    "\n",
    "        lam_sample_local_cases.append(ind_imp_sample_local_cases)\n",
    "    \n",
    "    all_local_cases.append(lam_sample_local_cases)"
   ]
  },
  {
   "cell_type": "markdown",
   "metadata": {},
   "source": [
    "### Inference of the Rt profile for the true choice of ϵ and for the baseline ϵ = 1"
   ]
  },
  {
   "cell_type": "code",
   "execution_count": 6,
   "metadata": {},
   "outputs": [],
   "source": [
    "# Define the divergence function between the two posterior summary dataframes\n",
    "def post_divergence(df1, df2):\n",
    "    return np.sum(np.absolute(df1['Mean']-df2['Mean']))"
   ]
  },
  {
   "cell_type": "code",
   "execution_count": 12,
   "metadata": {},
   "outputs": [],
   "source": [
    "# Inference R_t profile using the LocImpBranchProPosterior\n",
    "a = 1\n",
    "b = 0.2\n",
    "\n",
    "# Run comparative inferences for different values of epsilon and lambda\n",
    "difference = np.empty((len(epsilon_values), len(lambdas)))\n",
    "\n",
    "for _, epsilon in enumerate(epsilon_values):\n",
    "    for l, lam in enumerate(lambdas):\n",
    "        point_difference = []\n",
    "        for i, imported_cases in enumerate(all_imported_cases[l]):\n",
    "            for locally_infected_cases in all_local_cases[_][l][i]:\n",
    "                # Transform our incidence data into pandas dataframes\n",
    "                inc_data = pd.DataFrame(\n",
    "                    {\n",
    "                        'Time': start_times,\n",
    "                        'Incidence Number': locally_infected_cases\n",
    "                    }\n",
    "                )\n",
    "\n",
    "                imported_inc_data = pd.DataFrame(\n",
    "                    {\n",
    "                        'Time': start_times,\n",
    "                        'Incidence Number': imported_cases\n",
    "                    }\n",
    "                )\n",
    "\n",
    "                # Run inference for the true value of epsilon\n",
    "                inference_true = branchpro.LocImpBranchProPosteriorMultSI(\n",
    "                    inc_data=inc_data,\n",
    "                    imported_inc_data=imported_inc_data,\n",
    "                    epsilon=epsilon,\n",
    "                    daily_serial_intervals=serial_intervals,\n",
    "                    alpha=a,\n",
    "                    beta=b)\n",
    "\n",
    "                inference_true.run_inference(tau=tau)\n",
    "                intervals_true = inference_true.get_intervals(central_prob=0)\n",
    "\n",
    "                # Run inference for the baseline value of epsilon = 1\n",
    "                inference_baseline = branchpro.LocImpBranchProPosteriorMultSI(\n",
    "                    inc_data=inc_data,\n",
    "                    imported_inc_data=imported_inc_data,\n",
    "                    epsilon=1,\n",
    "                    daily_serial_intervals=serial_intervals,\n",
    "                    alpha=a,\n",
    "                    beta=b)\n",
    "\n",
    "                inference_baseline.run_inference(tau=tau)\n",
    "                intervals_baseline = inference_baseline.get_intervals(central_prob=0)\n",
    "\n",
    "                # Compute divergence between the two posteriors\n",
    "                point_difference.append(post_divergence(intervals_true, intervals_baseline))\n",
    "\n",
    "        difference[_, l] = np.mean(np.array(point_difference))"
   ]
  },
  {
   "cell_type": "markdown",
   "metadata": {},
   "source": [
    "### Compute heatmap of the divergence between posteriors fitted the true and baseline ϵ for different values of ϵ and λ"
   ]
  },
  {
   "cell_type": "code",
   "execution_count": 25,
   "metadata": {},
   "outputs": [
    {
     "data": {
      "text/plain": [
       "array([[15.55009107, 15.69617173],\n",
       "       [ 0.        ,  0.        ],\n",
       "       [ 7.05400152,  7.09770339]])"
      ]
     },
     "execution_count": 25,
     "metadata": {},
     "output_type": "execute_result"
    }
   ],
   "source": [
    "difference"
   ]
  },
  {
   "cell_type": "code",
   "execution_count": 26,
   "metadata": {},
   "outputs": [
    {
     "data": {
      "image/png": "[encoded data removed]",
      "text/plain": [
       "<Figure size 432x288 with 2 Axes>"
      ]
     },
     "metadata": {
      "needs_background": "light"
     },
     "output_type": "display_data"
    }
   ],
   "source": [
    "# Plot heatmap\n",
    "plt.imshow(difference, cmap='viridis')\n",
    "plt.colorbar()\n",
    "\n",
    "plt.savefig('Heatmap.pdf')\n",
    "plt.show()"
   ]
  }
 ],
 "metadata": {
  "interpreter": {
   "hash": "9a1edc82fdfb75c3b64a2a1e331992ba51087b4bcc20e5799465daad38af24d9"
  },
  "kernelspec": {
   "display_name": "Python 3.8.2 64-bit ('branchpro': conda)",
   "name": "python3"
  },
  "language_info": {
   "codemirror_mode": {
    "name": "ipython",
    "version": 3
   },
   "file_extension": ".py",
   "mimetype": "text/x-python",
   "name": "python",
   "nbconvert_exporter": "python",
   "pygments_lexer": "ipython3",
   "version": "3.8.2"
  },
  "orig_nbformat": 4
 },
 "nbformat": 4,
 "nbformat_minor": 2
}
