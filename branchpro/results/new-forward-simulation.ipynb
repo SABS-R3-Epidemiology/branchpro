{
 "cells": [
  {
   "cell_type": "markdown",
   "metadata": {},
   "source": [
    "# Differences in behaviour of Rt Profile for Different Infectiousness Levels of Imported Cases\n",
    "\n",
    "The aim of this notebook is to show how different values the epsilon parameter can affect the outcome of the epidemic. This effect is studied through the behaviour of the time-dependent reproduction number trajectory. Epsilon represents the proportionality constant of the reproduction number for imported cases with respect to its analog for local ones. For this analysis we will use an Rt profile from real data from Hong Kong, China with an assumed infectioness of imported cases equal to that of the local ones (i.e. epsilon = 1).\n",
    "\n",
    "This Rt profile will then be used together with synthetically generated imported cases to produce local incidences for a given 'true' value of epsilon. We will proceed to infer the Rt profile for both the true value of epsilon and for epsilon = 1 (for the most common scenario when no distinguishing is made between the imported and the local cases)."
   ]
  },
  {
   "cell_type": "code",
   "execution_count": 20,
   "metadata": {},
   "outputs": [],
   "source": [
    "# Import libraries\n",
    "import numpy as np\n",
    "import branchpro\n",
    "import plotly.graph_objects as go\n",
    "from matplotlib import pyplot as plt\n",
    "import os\n",
    "import pandas as pd\n",
    "import scipy.stats\n",
    "import datetime"
   ]
  },
  {
   "cell_type": "code",
   "execution_count": 21,
   "metadata": {},
   "outputs": [],
   "source": [
    "# Read serial interval\n",
    "si_file = 'si-epinow'\n",
    "path = os.path.join('../data_library/serial_interval', '{}.csv'.format(si_file))\n",
    "serial_interval = pd.read_csv(path, header=None)\n",
    "serial_interval = serial_interval.fillna(0)\n",
    "serial_intervals = serial_interval.values.T"
   ]
  },
  {
   "cell_type": "code",
   "execution_count": 22,
   "metadata": {},
   "outputs": [],
   "source": [
    "# Select length of timeline for the analysis\n",
    "num_timepoints = 50\n",
    "\n",
    "start_times = np.arange(1, num_timepoints+1, dtype=int)\n",
    "times = np.arange(num_timepoints+1)"
   ]
  },
  {
   "cell_type": "markdown",
   "metadata": {},
   "source": [
    "### A Reproduction Number trajectory inferred from a world example data is used for realistic results"
   ]
  },
  {
   "cell_type": "code",
   "execution_count": 23,
   "metadata": {},
   "outputs": [],
   "source": [
    "# Read Rt trajectory\n",
    "rt_file = 'HK-Rt-profile'\n",
    "path = os.path.join('../data_library/rt_profile', '{}.csv'.format(rt_file))\n",
    "rt_profile = pd.read_csv(path)"
   ]
  },
  {
   "cell_type": "markdown",
   "metadata": {},
   "source": [
    "### Imported Cases Counts are produced by sampling from a Poisson distribution with mean λ"
   ]
  },
  {
   "cell_type": "code",
   "execution_count": 24,
   "metadata": {},
   "outputs": [],
   "source": [
    "# Build the imported cases\n",
    "ic_mean = 5\n",
    "num_sim_imported = 100\n",
    "\n",
    "imported_times = np.arange(1,(num_timepoints+1))\n",
    "\n",
    "sample_imported_cases = []\n",
    "\n",
    "# Multiple samples of imported cases data\n",
    "for sim in range(num_sim_imported):\n",
    "    sample_imported_cases.append(scipy.stats.poisson.rvs(ic_mean, size=num_timepoints))\n",
    "\n",
    "all_imported_cases = np.vstack(sample_imported_cases)"
   ]
  },
  {
   "cell_type": "markdown",
   "metadata": {},
   "source": [
    "### Generate Local Incidences using the previously generated Imported Cases, according to the read-in Rt profile"
   ]
  },
  {
   "cell_type": "code",
   "execution_count": 25,
   "metadata": {},
   "outputs": [],
   "source": [
    "# Construct LocImpBranchProModel object\n",
    "epsilon_values = np.linspace(0.1, 2, 20).tolist()\n",
    "lambdas = np.linspace(0.25, 2, 20).tolist()\n",
    "tau = 6\n",
    "R_t_start = tau+1\n",
    "\n",
    "# Set fixed parameters for the instantiaiton of the model\n",
    "r_profile = rt_profile['Mean'].values\n",
    "r_start_times = rt_profile['Time Points'].values.tolist()\n",
    "\n",
    "initial_r = r_profile[0]\n",
    "si = np.median(serial_intervals, axis=0)\n",
    "parameters = 0 # initial number of cases\n",
    "\n",
    "all_local_cases = []\n",
    "num_sim_local = 1\n",
    "\n",
    "for _, epsilon in enumerate(epsilon_values):\n",
    "    lam_sample_local_cases = []\n",
    "    for l, lam in enumerate(lambdas):\n",
    "        m = branchpro.LocImpBranchProModel(initial_r, si, epsilon)\n",
    "\n",
    "        m.set_r_profile((lam * r_profile).tolist(), r_start_times)\n",
    "\n",
    "        ind_imp_sample_local_cases = []\n",
    "        for imported_cases in all_imported_cases:\n",
    "            m.set_imported_cases(start_times, imported_cases)\n",
    "\n",
    "            sample_local_cases = []\n",
    "            for sim in range(num_sim_local):\n",
    "                sample_local_cases.append(m.simulate(parameters, times)[1:])\n",
    "\n",
    "            ind_imp_sample_local_cases=np.vstack(sample_local_cases)\n",
    "\n",
    "        lam_sample_local_cases.append(ind_imp_sample_local_cases)\n",
    "    \n",
    "    all_local_cases.append(lam_sample_local_cases)"
   ]
  },
  {
   "cell_type": "markdown",
   "metadata": {},
   "source": [
    "### Inference of the Rt profile for the true choice of ϵ and for the baseline ϵ = 1"
   ]
  },
  {
   "cell_type": "code",
   "execution_count": 26,
   "metadata": {},
   "outputs": [],
   "source": [
    "# Define the divergence function between the two posterior summary dataframes\n",
    "def post_divergence(df1, df2):\n",
    "    return np.mean(np.absolute(df1['Mean']-df2['Mean']))"
   ]
  },
  {
   "cell_type": "code",
   "execution_count": 27,
   "metadata": {},
   "outputs": [],
   "source": [
    "# Inference R_t profile using the LocImpBranchProPosterior\n",
    "a = 1\n",
    "b = 0.2\n",
    "\n",
    "# Run comparative inferences for different values of epsilon and lambda\n",
    "difference = np.empty((len(epsilon_values), len(lambdas)))\n",
    "\n",
    "for _, epsilon in enumerate(epsilon_values):\n",
    "    for l, lam in enumerate(lambdas):\n",
    "        point_difference = []\n",
    "        for i, imported_cases in enumerate(all_imported_cases):\n",
    "            for locally_infected_cases in all_local_cases[_][l]:\n",
    "                # Transform our incidence data into pandas dataframes\n",
    "                inc_data = pd.DataFrame(\n",
    "                    {\n",
    "                        'Time': start_times,\n",
    "                        'Incidence Number': locally_infected_cases\n",
    "                    }\n",
    "                )\n",
    "\n",
    "                imported_inc_data = pd.DataFrame(\n",
    "                    {\n",
    "                        'Time': start_times,\n",
    "                        'Incidence Number': imported_cases\n",
    "                    }\n",
    "                )\n",
    "\n",
    "                # Run inference for the true value of epsilon\n",
    "                inference_true = branchpro.LocImpBranchProPosteriorMultSI(\n",
    "                    inc_data=inc_data,\n",
    "                    imported_inc_data=imported_inc_data,\n",
    "                    epsilon=epsilon,\n",
    "                    daily_serial_intervals=serial_intervals[:2, :],\n",
    "                    alpha=a,\n",
    "                    beta=b)\n",
    "\n",
    "                inference_true.run_inference(tau=tau)\n",
    "                intervals_true = inference_true.get_intervals(central_prob=0)\n",
    "\n",
    "                # Run inference for the baseline value of epsilon = 1\n",
    "                inference_baseline = branchpro.LocImpBranchProPosteriorMultSI(\n",
    "                    inc_data=inc_data,\n",
    "                    imported_inc_data=imported_inc_data,\n",
    "                    epsilon=1,\n",
    "                    daily_serial_intervals=serial_intervals[:2, :],\n",
    "                    alpha=a,\n",
    "                    beta=b)\n",
    "\n",
    "                inference_baseline.run_inference(tau=tau)\n",
    "                intervals_baseline = inference_baseline.get_intervals(central_prob=0)\n",
    "\n",
    "                # Compute divergence between the two posteriors\n",
    "                point_difference.append(post_divergence(intervals_true, intervals_baseline))\n",
    "\n",
    "        difference[_, l] = np.mean(np.array(point_difference))"
   ]
  },
  {
   "cell_type": "markdown",
   "metadata": {},
   "source": [
    "### Compute heatmap of the divergence between posteriors fitted the true and baseline ϵ for different values of ϵ and λ"
   ]
  },
  {
   "cell_type": "code",
   "execution_count": 28,
   "metadata": {},
   "outputs": [
    {
     "data": {
      "application/vnd.plotly.v1+json": {
       "config": {
        "plotlyServerURL": "https://plot.ly"
       },
       "data": [
        {
         "coloraxis": "coloraxis",
         "type": "heatmap",
         "x": [
          0.25,
          0.34,
          0.43,
          0.53,
          0.62,
          0.71,
          0.8,
          0.89,
          0.99,
          1.08,
          1.17,
          1.26,
          1.36,
          1.45,
          1.54,
          1.63,
          1.72,
          1.82,
          1.91,
          2
         ],
         "y": [
          0.1,
          0.2,
          0.3,
          0.4,
          0.5,
          0.6,
          0.7,
          0.8,
          0.9,
          1,
          1.1,
          1.2,
          1.3,
          1.4,
          1.5,
          1.6,
          1.7,
          1.8,
          1.9,
          2
         ],
         "z": [
          [
           0.43006634166235824,
           0.38197809989718196,
           0.451514987362345,
           0.3765229172054103,
           0.5575771302061776,
           0.4694247017565989,
           0.5734026901711037,
           0.5214333837444287,
           0.6186799892121932,
           0.6458755158173508,
           0.6437496940012792,
           0.6419752257548293,
           0.6328411341236921,
           0.6320916150808092,
           0.6045218920998657,
           0.5518119697894273,
           0.5840879985657615,
           0.5695277319662279,
           0.5585335386233133,
           0.6167659980104843
          ],
          [
           0.25609024451605555,
           0.31309552190568724,
           0.30347140008483503,
           0.34201790273805277,
           0.33729005952729735,
           0.3672348099587625,
           0.44231278827213666,
           0.4426636141545552,
           0.42531862975626905,
           0.43623195472105253,
           0.42927049848979904,
           0.4328495000384523,
           0.3895593234121805,
           0.39676970857815763,
           0.38380715427943735,
           0.400546381548664,
           0.39073005698873886,
           0.3907106263711102,
           0.4054335228056335,
           0.3687921805472147
          ],
          [
           0.201339010693507,
           0.21895054898729882,
           0.28821513233433976,
           0.28825021868761197,
           0.31568325814530707,
           0.30822261224969005,
           0.33754253466708933,
           0.3302894690062332,
           0.3246466424480245,
           0.32866049573859746,
           0.30877314180510734,
           0.291968293208666,
           0.29710845275632597,
           0.2879443138513667,
           0.28807506364429825,
           0.2827029440077939,
           0.2847756277261324,
           0.2642882204269355,
           0.28355523317927056,
           0.2838046823629828
          ],
          [
           0.1441301373321024,
           0.17265533882109335,
           0.19673250456863367,
           0.22175741149448594,
           0.24974691152358297,
           0.2309325851468783,
           0.25107942721386295,
           0.24666840610434249,
           0.25808406183182275,
           0.24518470110493212,
           0.22899434769956709,
           0.22453061990281886,
           0.2243993351981245,
           0.22473603256672414,
           0.21988808590133074,
           0.21756972031975114,
           0.2134699084859161,
           0.2151700862380201,
           0.21271010682552588,
           0.2093314806301858
          ],
          [
           0.09820411411535086,
           0.13640694175986723,
           0.1626540919495569,
           0.1684016505216046,
           0.18148617454689492,
           0.18634025208051713,
           0.18464474490309957,
           0.18787331422221695,
           0.17315077488797948,
           0.17860049517121498,
           0.17680962632921532,
           0.174235367295432,
           0.16322609998077767,
           0.1637212212688584,
           0.1613238835051915,
           0.16186577274476238,
           0.16256359033668955,
           0.16051732480136618,
           0.15192875793818125,
           0.15743788858049743
          ],
          [
           0.08732732951669372,
           0.11655454187398974,
           0.11999486708593345,
           0.1321000274534945,
           0.1378395253449756,
           0.13468490723357893,
           0.14482376758718957,
           0.13045122485618743,
           0.13928050047956442,
           0.13816164752526142,
           0.1275072133905137,
           0.12309879629236202,
           0.1260560920925871,
           0.12374101922551901,
           0.12211235357409611,
           0.1183845040098338,
           0.11787358926031946,
           0.11772932627871269,
           0.11843118925730459,
           0.11753725498749235
          ],
          [
           0.06533105228613112,
           0.07754065665897938,
           0.08271498043249519,
           0.09744518383984088,
           0.09214224870050373,
           0.09586601312287307,
           0.09337472770244379,
           0.09209435116493307,
           0.09334929174524376,
           0.09198501985812502,
           0.08638866840828355,
           0.08662725837857238,
           0.08381318746695302,
           0.08138697283173245,
           0.08278673972292774,
           0.08237192276164039,
           0.0795167194701067,
           0.082315056673616,
           0.08016298555557327,
           0.08236463502668193
          ],
          [
           0.04074688400904045,
           0.043445438616168196,
           0.05410836823393066,
           0.06033260059948871,
           0.06055008689672601,
           0.059070433847454556,
           0.061150053523573264,
           0.06006412199134341,
           0.056155949487837586,
           0.05808059939965962,
           0.05450174183510129,
           0.052627614593675646,
           0.05442878218837447,
           0.0531279193612282,
           0.05099314003338523,
           0.05087727142458824,
           0.05065832953204867,
           0.05132416230748594,
           0.05171493236153573,
           0.05062088616972554
          ],
          [
           0.019135759140465343,
           0.021466116311768868,
           0.028415504425419645,
           0.028119034273468,
           0.028688240181906938,
           0.028886515136581983,
           0.02718728718631775,
           0.02763886902528428,
           0.027287876102312064,
           0.026408423142418008,
           0.025726506941931668,
           0.025847100403479213,
           0.024830447690821104,
           0.025029137668632982,
           0.02442712756854976,
           0.024495086782402024,
           0.023683644884844663,
           0.024165758703900867,
           0.02365410317509563,
           0.02407007914990671
          ],
          [
           3.4048991016847096e-17,
           3.646630800941756e-17,
           4.522222389839446e-17,
           4.715865940646158e-17,
           4.571924234546502e-17,
           4.661645746420279e-17,
           4.525449782352891e-17,
           4.3188966614923955e-17,
           4.4241096574307114e-17,
           4.219492972078283e-17,
           4.0206855932500585e-17,
           4.0729693519678714e-17,
           4.164627299349715e-17,
           3.9516193934623306e-17,
           3.663735981263017e-17,
           3.733447659553434e-17,
           3.632753013133942e-17,
           3.831560391962169e-17,
           3.747648186612591e-17,
           3.6501809327065473e-17
          ],
          [
           0.019828126618372487,
           0.02037809605674472,
           0.024625998026029362,
           0.026912174848506953,
           0.025690785554761855,
           0.025509741251478757,
           0.02574183358665151,
           0.02489130698513404,
           0.02419952834605329,
           0.023595427577448033,
           0.023434442619812323,
           0.02224121048834628,
           0.02232927307610969,
           0.021944392854958555,
           0.022267997153085698,
           0.021186938667276722,
           0.021369632817490766,
           0.021842419553098402,
           0.021013136226311607,
           0.021655541985154275
          ],
          [
           0.036877249829995844,
           0.04637779250120754,
           0.046771822704608675,
           0.049400058488763714,
           0.04862145662204173,
           0.04893845437865774,
           0.04871220042421311,
           0.046608724436857756,
           0.046009309390345504,
           0.04502469877968381,
           0.04547413973334069,
           0.04244366351633857,
           0.040291680274139506,
           0.0414889086738358,
           0.041980476288557854,
           0.040067741775780014,
           0.0402689724788492,
           0.041423446477913364,
           0.04029816113741675,
           0.040268069224606774
          ],
          [
           0.051743484996719824,
           0.05933935768412374,
           0.06856013831621939,
           0.07105207808888267,
           0.07060455420439561,
           0.07072201773157472,
           0.06915851350742268,
           0.06904694045817555,
           0.0648926616844379,
           0.0641716020466072,
           0.06222844892930568,
           0.061070510022568705,
           0.06083490622333288,
           0.059141420998064895,
           0.05997615164637596,
           0.05894190996123663,
           0.057480329379906846,
           0.05866405740768022,
           0.05667701135031242,
           0.056811810036351836
          ],
          [
           0.07428625943511737,
           0.08322719442827582,
           0.08999318386071632,
           0.08932473917657333,
           0.0902975151859615,
           0.09008931840478011,
           0.09086867137622509,
           0.08546432276062706,
           0.0846337104425595,
           0.0827484983162252,
           0.07746031855650115,
           0.08012100974239889,
           0.07783522984965616,
           0.07644436139427933,
           0.0769038190336956,
           0.07556028922009239,
           0.07535072412346122,
           0.0736554335492403,
           0.07419016495128443,
           0.07590059364081787
          ],
          [
           0.08567020180957455,
           0.10036481805664522,
           0.10116934026173906,
           0.11448819602997697,
           0.10947606423454301,
           0.1117130660102638,
           0.10801866270018529,
           0.1031188224579178,
           0.10164609626512418,
           0.09917393398692359,
           0.0972592518735485,
           0.09586358449045931,
           0.0920502366924986,
           0.09257188953032149,
           0.0905042556147489,
           0.08879426731577438,
           0.08958025001429404,
           0.08998866462551351,
           0.09077150798439129,
           0.0854580435459272
          ],
          [
           0.10558709533643114,
           0.1156869783972935,
           0.12336779694671478,
           0.12591286300803797,
           0.1277204221669519,
           0.1274948265579663,
           0.1260786089953456,
           0.11930714968061733,
           0.11806078608626533,
           0.10990069099438304,
           0.10997705337582492,
           0.1078067606999896,
           0.10965564720860424,
           0.10099675060543467,
           0.10421626635922364,
           0.10036710695966745,
           0.10424827410578849,
           0.10249641600906192,
           0.104033193762603,
           0.10250871673456625
          ],
          [
           0.12343254135583707,
           0.13062908695531258,
           0.1439981011336513,
           0.1478672724524195,
           0.1457724300290493,
           0.1431846912133591,
           0.14110270541295253,
           0.13540548507892636,
           0.13270700457319337,
           0.13035048289631104,
           0.1236592985938246,
           0.12377698800855466,
           0.11783019405381344,
           0.11830829523254954,
           0.1183548587533628,
           0.11900835465128029,
           0.11279457384028195,
           0.11381486174114394,
           0.11620876802568887,
           0.11123455152171369
          ],
          [
           0.1280897814275635,
           0.1436665037027888,
           0.15361079754101767,
           0.15639409114705113,
           0.1572564466635301,
           0.15909765076998508,
           0.15540529371843703,
           0.14893155826030194,
           0.1412169152483573,
           0.14079058304885225,
           0.1396861129277559,
           0.13802624311845904,
           0.13548379750760522,
           0.1308200611264229,
           0.133305055502755,
           0.12739959054049316,
           0.12447524035460632,
           0.13114866924373755,
           0.1263890009453781,
           0.1292432336425721
          ],
          [
           0.13091772625614176,
           0.15999815480926433,
           0.1691284032831558,
           0.18001715334723428,
           0.17299564353647778,
           0.1717508519990179,
           0.16376172723583246,
           0.1594549050911967,
           0.16153657368617952,
           0.15595711367373385,
           0.1507102777932394,
           0.14635460368081515,
           0.14643304921658923,
           0.14515971098261524,
           0.14080532086330427,
           0.14494804914133358,
           0.13756510386670506,
           0.14353862926833524,
           0.13514073167245186,
           0.14502091734515196
          ],
          [
           0.15195411461029323,
           0.17529515589492384,
           0.180043471476868,
           0.18134742312335816,
           0.1868053930530611,
           0.1877074547058977,
           0.18081615509880808,
           0.175249703052004,
           0.16956295981926067,
           0.1668737954928526,
           0.16857615829054295,
           0.16338004046938776,
           0.16162127034246623,
           0.15829102000556405,
           0.14821759436303406,
           0.14451643715958176,
           0.1459011857493724,
           0.15134349596895205,
           0.1533474564603736,
           0.1500758331679369
          ]
         ]
        }
       ],
       "layout": {
        "boxmode": "group",
        "coloraxis": {
         "colorscale": [
          [
           0,
           "#440154"
          ],
          [
           0.1111111111111111,
           "#482878"
          ],
          [
           0.2222222222222222,
           "#3e4989"
          ],
          [
           0.3333333333333333,
           "#31688e"
          ],
          [
           0.4444444444444444,
           "#26828e"
          ],
          [
           0.5555555555555556,
           "#1f9e89"
          ],
          [
           0.6666666666666666,
           "#35b779"
          ],
          [
           0.7777777777777778,
           "#6ece58"
          ],
          [
           0.8888888888888888,
           "#b5de2b"
          ],
          [
           1,
           "#fde725"
          ]
         ]
        },
        "height": 500,
        "plot_bgcolor": "white",
        "template": {
         "data": {
          "bar": [
           {
            "error_x": {
             "color": "#2a3f5f"
            },
            "error_y": {
             "color": "#2a3f5f"
            },
            "marker": {
             "line": {
              "color": "#E5ECF6",
              "width": 0.5
             },
             "pattern": {
              "fillmode": "overlay",
              "size": 10,
              "solidity": 0.2
             }
            },
            "type": "bar"
           }
          ],
          "barpolar": [
           {
            "marker": {
             "line": {
              "color": "#E5ECF6",
              "width": 0.5
             },
             "pattern": {
              "fillmode": "overlay",
              "size": 10,
              "solidity": 0.2
             }
            },
            "type": "barpolar"
           }
          ],
          "carpet": [
           {
            "aaxis": {
             "endlinecolor": "#2a3f5f",
             "gridcolor": "white",
             "linecolor": "white",
             "minorgridcolor": "white",
             "startlinecolor": "#2a3f5f"
            },
            "baxis": {
             "endlinecolor": "#2a3f5f",
             "gridcolor": "white",
             "linecolor": "white",
             "minorgridcolor": "white",
             "startlinecolor": "#2a3f5f"
            },
            "type": "carpet"
           }
          ],
          "choropleth": [
           {
            "colorbar": {
             "outlinewidth": 0,
             "ticks": ""
            },
            "type": "choropleth"
           }
          ],
          "contour": [
           {
            "colorbar": {
             "outlinewidth": 0,
             "ticks": ""
            },
            "colorscale": [
             [
              0,
              "#0d0887"
             ],
             [
              0.1111111111111111,
              "#46039f"
             ],
             [
              0.2222222222222222,
              "#7201a8"
             ],
             [
              0.3333333333333333,
              "#9c179e"
             ],
             [
              0.4444444444444444,
              "#bd3786"
             ],
             [
              0.5555555555555556,
              "#d8576b"
             ],
             [
              0.6666666666666666,
              "#ed7953"
             ],
             [
              0.7777777777777778,
              "#fb9f3a"
             ],
             [
              0.8888888888888888,
              "#fdca26"
             ],
             [
              1,
              "#f0f921"
             ]
            ],
            "type": "contour"
           }
          ],
          "contourcarpet": [
           {
            "colorbar": {
             "outlinewidth": 0,
             "ticks": ""
            },
            "type": "contourcarpet"
           }
          ],
          "heatmap": [
           {
            "colorbar": {
             "outlinewidth": 0,
             "ticks": ""
            },
            "colorscale": [
             [
              0,
              "#0d0887"
             ],
             [
              0.1111111111111111,
              "#46039f"
             ],
             [
              0.2222222222222222,
              "#7201a8"
             ],
             [
              0.3333333333333333,
              "#9c179e"
             ],
             [
              0.4444444444444444,
              "#bd3786"
             ],
             [
              0.5555555555555556,
              "#d8576b"
             ],
             [
              0.6666666666666666,
              "#ed7953"
             ],
             [
              0.7777777777777778,
              "#fb9f3a"
             ],
             [
              0.8888888888888888,
              "#fdca26"
             ],
             [
              1,
              "#f0f921"
             ]
            ],
            "type": "heatmap"
           }
          ],
          "heatmapgl": [
           {
            "colorbar": {
             "outlinewidth": 0,
             "ticks": ""
            },
            "colorscale": [
             [
              0,
              "#0d0887"
             ],
             [
              0.1111111111111111,
              "#46039f"
             ],
             [
              0.2222222222222222,
              "#7201a8"
             ],
             [
              0.3333333333333333,
              "#9c179e"
             ],
             [
              0.4444444444444444,
              "#bd3786"
             ],
             [
              0.5555555555555556,
              "#d8576b"
             ],
             [
              0.6666666666666666,
              "#ed7953"
             ],
             [
              0.7777777777777778,
              "#fb9f3a"
             ],
             [
              0.8888888888888888,
              "#fdca26"
             ],
             [
              1,
              "#f0f921"
             ]
            ],
            "type": "heatmapgl"
           }
          ],
          "histogram": [
           {
            "marker": {
             "pattern": {
              "fillmode": "overlay",
              "size": 10,
              "solidity": 0.2
             }
            },
            "type": "histogram"
           }
          ],
          "histogram2d": [
           {
            "colorbar": {
             "outlinewidth": 0,
             "ticks": ""
            },
            "colorscale": [
             [
              0,
              "#0d0887"
             ],
             [
              0.1111111111111111,
              "#46039f"
             ],
             [
              0.2222222222222222,
              "#7201a8"
             ],
             [
              0.3333333333333333,
              "#9c179e"
             ],
             [
              0.4444444444444444,
              "#bd3786"
             ],
             [
              0.5555555555555556,
              "#d8576b"
             ],
             [
              0.6666666666666666,
              "#ed7953"
             ],
             [
              0.7777777777777778,
              "#fb9f3a"
             ],
             [
              0.8888888888888888,
              "#fdca26"
             ],
             [
              1,
              "#f0f921"
             ]
            ],
            "type": "histogram2d"
           }
          ],
          "histogram2dcontour": [
           {
            "colorbar": {
             "outlinewidth": 0,
             "ticks": ""
            },
            "colorscale": [
             [
              0,
              "#0d0887"
             ],
             [
              0.1111111111111111,
              "#46039f"
             ],
             [
              0.2222222222222222,
              "#7201a8"
             ],
             [
              0.3333333333333333,
              "#9c179e"
             ],
             [
              0.4444444444444444,
              "#bd3786"
             ],
             [
              0.5555555555555556,
              "#d8576b"
             ],
             [
              0.6666666666666666,
              "#ed7953"
             ],
             [
              0.7777777777777778,
              "#fb9f3a"
             ],
             [
              0.8888888888888888,
              "#fdca26"
             ],
             [
              1,
              "#f0f921"
             ]
            ],
            "type": "histogram2dcontour"
           }
          ],
          "mesh3d": [
           {
            "colorbar": {
             "outlinewidth": 0,
             "ticks": ""
            },
            "type": "mesh3d"
           }
          ],
          "parcoords": [
           {
            "line": {
             "colorbar": {
              "outlinewidth": 0,
              "ticks": ""
             }
            },
            "type": "parcoords"
           }
          ],
          "pie": [
           {
            "automargin": true,
            "type": "pie"
           }
          ],
          "scatter": [
           {
            "marker": {
             "colorbar": {
              "outlinewidth": 0,
              "ticks": ""
             }
            },
            "type": "scatter"
           }
          ],
          "scatter3d": [
           {
            "line": {
             "colorbar": {
              "outlinewidth": 0,
              "ticks": ""
             }
            },
            "marker": {
             "colorbar": {
              "outlinewidth": 0,
              "ticks": ""
             }
            },
            "type": "scatter3d"
           }
          ],
          "scattercarpet": [
           {
            "marker": {
             "colorbar": {
              "outlinewidth": 0,
              "ticks": ""
             }
            },
            "type": "scattercarpet"
           }
          ],
          "scattergeo": [
           {
            "marker": {
             "colorbar": {
              "outlinewidth": 0,
              "ticks": ""
             }
            },
            "type": "scattergeo"
           }
          ],
          "scattergl": [
           {
            "marker": {
             "colorbar": {
              "outlinewidth": 0,
              "ticks": ""
             }
            },
            "type": "scattergl"
           }
          ],
          "scattermapbox": [
           {
            "marker": {
             "colorbar": {
              "outlinewidth": 0,
              "ticks": ""
             }
            },
            "type": "scattermapbox"
           }
          ],
          "scatterpolar": [
           {
            "marker": {
             "colorbar": {
              "outlinewidth": 0,
              "ticks": ""
             }
            },
            "type": "scatterpolar"
           }
          ],
          "scatterpolargl": [
           {
            "marker": {
             "colorbar": {
              "outlinewidth": 0,
              "ticks": ""
             }
            },
            "type": "scatterpolargl"
           }
          ],
          "scatterternary": [
           {
            "marker": {
             "colorbar": {
              "outlinewidth": 0,
              "ticks": ""
             }
            },
            "type": "scatterternary"
           }
          ],
          "surface": [
           {
            "colorbar": {
             "outlinewidth": 0,
             "ticks": ""
            },
            "colorscale": [
             [
              0,
              "#0d0887"
             ],
             [
              0.1111111111111111,
              "#46039f"
             ],
             [
              0.2222222222222222,
              "#7201a8"
             ],
             [
              0.3333333333333333,
              "#9c179e"
             ],
             [
              0.4444444444444444,
              "#bd3786"
             ],
             [
              0.5555555555555556,
              "#d8576b"
             ],
             [
              0.6666666666666666,
              "#ed7953"
             ],
             [
              0.7777777777777778,
              "#fb9f3a"
             ],
             [
              0.8888888888888888,
              "#fdca26"
             ],
             [
              1,
              "#f0f921"
             ]
            ],
            "type": "surface"
           }
          ],
          "table": [
           {
            "cells": {
             "fill": {
              "color": "#EBF0F8"
             },
             "line": {
              "color": "white"
             }
            },
            "header": {
             "fill": {
              "color": "#C8D4E3"
             },
             "line": {
              "color": "white"
             }
            },
            "type": "table"
           }
          ]
         },
         "layout": {
          "annotationdefaults": {
           "arrowcolor": "#2a3f5f",
           "arrowhead": 0,
           "arrowwidth": 1
          },
          "autotypenumbers": "strict",
          "coloraxis": {
           "colorbar": {
            "outlinewidth": 0,
            "ticks": ""
           }
          },
          "colorscale": {
           "diverging": [
            [
             0,
             "#8e0152"
            ],
            [
             0.1,
             "#c51b7d"
            ],
            [
             0.2,
             "#de77ae"
            ],
            [
             0.3,
             "#f1b6da"
            ],
            [
             0.4,
             "#fde0ef"
            ],
            [
             0.5,
             "#f7f7f7"
            ],
            [
             0.6,
             "#e6f5d0"
            ],
            [
             0.7,
             "#b8e186"
            ],
            [
             0.8,
             "#7fbc41"
            ],
            [
             0.9,
             "#4d9221"
            ],
            [
             1,
             "#276419"
            ]
           ],
           "sequential": [
            [
             0,
             "#0d0887"
            ],
            [
             0.1111111111111111,
             "#46039f"
            ],
            [
             0.2222222222222222,
             "#7201a8"
            ],
            [
             0.3333333333333333,
             "#9c179e"
            ],
            [
             0.4444444444444444,
             "#bd3786"
            ],
            [
             0.5555555555555556,
             "#d8576b"
            ],
            [
             0.6666666666666666,
             "#ed7953"
            ],
            [
             0.7777777777777778,
             "#fb9f3a"
            ],
            [
             0.8888888888888888,
             "#fdca26"
            ],
            [
             1,
             "#f0f921"
            ]
           ],
           "sequentialminus": [
            [
             0,
             "#0d0887"
            ],
            [
             0.1111111111111111,
             "#46039f"
            ],
            [
             0.2222222222222222,
             "#7201a8"
            ],
            [
             0.3333333333333333,
             "#9c179e"
            ],
            [
             0.4444444444444444,
             "#bd3786"
            ],
            [
             0.5555555555555556,
             "#d8576b"
            ],
            [
             0.6666666666666666,
             "#ed7953"
            ],
            [
             0.7777777777777778,
             "#fb9f3a"
            ],
            [
             0.8888888888888888,
             "#fdca26"
            ],
            [
             1,
             "#f0f921"
            ]
           ]
          },
          "colorway": [
           "#636efa",
           "#EF553B",
           "#00cc96",
           "#ab63fa",
           "#FFA15A",
           "#19d3f3",
           "#FF6692",
           "#B6E880",
           "#FF97FF",
           "#FECB52"
          ],
          "font": {
           "color": "#2a3f5f"
          },
          "geo": {
           "bgcolor": "white",
           "lakecolor": "white",
           "landcolor": "#E5ECF6",
           "showlakes": true,
           "showland": true,
           "subunitcolor": "white"
          },
          "hoverlabel": {
           "align": "left"
          },
          "hovermode": "closest",
          "mapbox": {
           "style": "light"
          },
          "paper_bgcolor": "white",
          "plot_bgcolor": "#E5ECF6",
          "polar": {
           "angularaxis": {
            "gridcolor": "white",
            "linecolor": "white",
            "ticks": ""
           },
           "bgcolor": "#E5ECF6",
           "radialaxis": {
            "gridcolor": "white",
            "linecolor": "white",
            "ticks": ""
           }
          },
          "scene": {
           "xaxis": {
            "backgroundcolor": "#E5ECF6",
            "gridcolor": "white",
            "gridwidth": 2,
            "linecolor": "white",
            "showbackground": true,
            "ticks": "",
            "zerolinecolor": "white"
           },
           "yaxis": {
            "backgroundcolor": "#E5ECF6",
            "gridcolor": "white",
            "gridwidth": 2,
            "linecolor": "white",
            "showbackground": true,
            "ticks": "",
            "zerolinecolor": "white"
           },
           "zaxis": {
            "backgroundcolor": "#E5ECF6",
            "gridcolor": "white",
            "gridwidth": 2,
            "linecolor": "white",
            "showbackground": true,
            "ticks": "",
            "zerolinecolor": "white"
           }
          },
          "shapedefaults": {
           "line": {
            "color": "#2a3f5f"
           }
          },
          "ternary": {
           "aaxis": {
            "gridcolor": "white",
            "linecolor": "white",
            "ticks": ""
           },
           "baxis": {
            "gridcolor": "white",
            "linecolor": "white",
            "ticks": ""
           },
           "bgcolor": "#E5ECF6",
           "caxis": {
            "gridcolor": "white",
            "linecolor": "white",
            "ticks": ""
           }
          },
          "title": {
           "x": 0.05
          },
          "xaxis": {
           "automargin": true,
           "gridcolor": "white",
           "linecolor": "white",
           "ticks": "",
           "title": {
            "standoff": 15
           },
           "zerolinecolor": "white",
           "zerolinewidth": 2
          },
          "yaxis": {
           "automargin": true,
           "gridcolor": "white",
           "linecolor": "white",
           "ticks": "",
           "title": {
            "standoff": 15
           },
           "zerolinecolor": "white",
           "zerolinewidth": 2
          }
         }
        },
        "width": 500,
        "xaxis": {
         "linecolor": "black",
         "title": {
          "text": "λ"
         },
         "type": "category"
        },
        "yaxis": {
         "linecolor": "black",
         "title": {
          "text": "ϵ"
         },
         "type": "category"
        }
       }
      }
     },
     "metadata": {},
     "output_type": "display_data"
    }
   ],
   "source": [
    "fig = go.Figure()\n",
    "\n",
    "# Plot heatmap\n",
    "fig.add_trace(\n",
    "    go.Heatmap(\n",
    "        x=np.round(lambdas, 2),\n",
    "        y=np.round(epsilon_values, 2),\n",
    "        z=difference,\n",
    "        type = 'heatmap',\n",
    "        coloraxis= 'coloraxis'\n",
    "    ),\n",
    ")\n",
    "\n",
    "# Add axis labels\n",
    "fig.update_xaxes(type='category', title_text='λ')\n",
    "fig.update_yaxes(type='category', title_text='ϵ')\n",
    "\n",
    "fig.update_layout(\n",
    "    boxmode='group',\n",
    "    height=500,\n",
    "    width=500,\n",
    "    plot_bgcolor='white',\n",
    "    xaxis=dict(\n",
    "        linecolor='black'),\n",
    "    yaxis=dict(\n",
    "        linecolor='black'),\n",
    "    coloraxis=dict(colorscale='Viridis'))\n",
    "\n",
    "fig.write_image('Heatmap.pdf')\n",
    "fig.show()"
   ]
  }
 ],
 "metadata": {
  "interpreter": {
   "hash": "9a1edc82fdfb75c3b64a2a1e331992ba51087b4bcc20e5799465daad38af24d9"
  },
  "kernelspec": {
   "display_name": "Python 3.9.7 64-bit ('branchpro': conda)",
   "name": "python3"
  },
  "language_info": {
   "codemirror_mode": {
    "name": "ipython",
    "version": 3
   },
   "file_extension": ".py",
   "mimetype": "text/x-python",
   "name": "python",
   "nbconvert_exporter": "python",
   "pygments_lexer": "ipython3",
   "version": "3.9.7"
  },
  "orig_nbformat": 4
 },
 "nbformat": 4,
 "nbformat_minor": 2
}
