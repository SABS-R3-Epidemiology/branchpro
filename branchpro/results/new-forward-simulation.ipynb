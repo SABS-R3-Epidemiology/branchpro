{
 "cells": [
  {
   "cell_type": "markdown",
   "metadata": {},
   "source": [
    "# Differences in behaviour of Rt Profile for Different Infectiousness Levels of Imported Cases\n",
    "\n",
    "The aim of this notebook is to show how different values the epsilon parameter can affect the outcome of the epidemic. This effect is studied through the behaviour of the time-dependent reproduction number trajectory. Epsilon represents the proportionality constant of the reproduction number for imported cases with respect to its analog for local ones. For this analysis we will use an Rt profile from real data from Hong Kong, China with an assumed infectioness of imported cases equal to that of the local ones (i.e. epsilon = 1).\n",
    "\n",
    "This Rt profile will then be used together with synthetically generated imported cases to produce local incidences for a given 'true' value of epsilon. We will proceed to infer the Rt profile for both the true value of epsilon and for epsilon = 1 (for the most common scenario when no distinguishing is made between the imported and the local cases)."
   ]
  },
  {
   "cell_type": "code",
   "execution_count": 1,
   "metadata": {},
   "outputs": [],
   "source": [
    "# Import libraries\n",
    "import numpy as np\n",
    "import branchpro\n",
    "import plotly.graph_objects as go\n",
    "from matplotlib import pyplot as plt\n",
    "import os\n",
    "import pandas as pd\n",
    "import scipy.stats\n",
    "import datetime"
   ]
  },
  {
   "cell_type": "code",
   "execution_count": 2,
   "metadata": {},
   "outputs": [],
   "source": [
    "# Read serial interval\n",
    "si_file = 'si-epinow'\n",
    "path = os.path.join('../data_library/serial_interval', '{}.csv'.format(si_file))\n",
    "serial_interval = pd.read_csv(path, header=None)\n",
    "serial_interval = serial_interval.fillna(0)\n",
    "serial_intervals = serial_interval.values.T"
   ]
  },
  {
   "cell_type": "code",
   "execution_count": 3,
   "metadata": {},
   "outputs": [],
   "source": [
    "# Select length of timeline for the analysis\n",
    "num_timepoints = 50\n",
    "\n",
    "start_times = np.arange(1, num_timepoints+1, dtype=int)\n",
    "times = np.arange(num_timepoints+1)"
   ]
  },
  {
   "cell_type": "markdown",
   "metadata": {},
   "source": [
    "### A Reproduction Number trajectory inferred from a world example data is used for realistic results"
   ]
  },
  {
   "cell_type": "code",
   "execution_count": 4,
   "metadata": {},
   "outputs": [],
   "source": [
    "# Read Rt trajectory\n",
    "rt_file = 'HK-Rt-profile'\n",
    "path = os.path.join('../data_library/rt_profile', '{}.csv'.format(rt_file))\n",
    "rt_profile = pd.read_csv(path)"
   ]
  },
  {
   "cell_type": "markdown",
   "metadata": {},
   "source": [
    "### Imported Cases Counts are produced by sampling from a Poisson distribution with mean λ"
   ]
  },
  {
   "cell_type": "code",
   "execution_count": 26,
   "metadata": {},
   "outputs": [],
   "source": [
    "# Build the imported cases\n",
    "ic_mean = 10\n",
    "num_sim_imported = 10\n",
    "\n",
    "imported_times = np.arange(1,(num_timepoints+1))\n",
    "\n",
    "sample_imported_cases = []\n",
    "\n",
    "# Multiple samples of imported cases data\n",
    "for sim in range(num_sim_imported):\n",
    "    sample_imported_cases.append(scipy.stats.poisson.rvs(ic_mean, size=num_timepoints))\n",
    "\n",
    "all_imported_cases = np.vstack(sample_imported_cases)"
   ]
  },
  {
   "cell_type": "markdown",
   "metadata": {},
   "source": [
    "### Generate Local Incidences using the previously generated Imported Cases, according to the read-in Rt profile"
   ]
  },
  {
   "cell_type": "code",
   "execution_count": 27,
   "metadata": {},
   "outputs": [],
   "source": [
    "# Construct LocImpBranchProModel object\n",
    "epsilon_values = np.linspace(0.2, 2, 19).tolist()\n",
    "lambdas = np.linspace(0.01, 2, 20).tolist()\n",
    "tau = 6\n",
    "R_t_start = tau+1\n",
    "\n",
    "# Set fixed parameters for the instantiaiton of the model\n",
    "r_profile = rt_profile['Mean'].values\n",
    "r_start_times = rt_profile['Time Points'].values.tolist()\n",
    "\n",
    "initial_r = r_profile[0]\n",
    "si = np.median(serial_intervals, axis=0)\n",
    "parameters = 0 # initial number of cases\n",
    "\n",
    "all_local_cases = []\n",
    "num_sim_local = 1\n",
    "\n",
    "for _, epsilon in enumerate(epsilon_values):\n",
    "    lam_sample_local_cases = []\n",
    "    for l, lam in enumerate(lambdas):\n",
    "        m = branchpro.LocImpBranchProModel(initial_r, si, epsilon)\n",
    "\n",
    "        m.set_r_profile((lam * r_profile).tolist(), r_start_times)\n",
    "\n",
    "        ind_imp_sample_local_cases = []\n",
    "        for imported_cases in all_imported_cases:\n",
    "            m.set_imported_cases(start_times, imported_cases)\n",
    "\n",
    "            sample_local_cases = []\n",
    "            for sim in range(num_sim_local):\n",
    "                sample_local_cases.append(m.simulate(parameters, times)[1:])\n",
    "\n",
    "            ind_imp_sample_local_cases.append(np.vstack(sample_local_cases))\n",
    "\n",
    "        lam_sample_local_cases.append(np.vstack(ind_imp_sample_local_cases))\n",
    "    \n",
    "    all_local_cases.append(lam_sample_local_cases)"
   ]
  },
  {
   "cell_type": "markdown",
   "metadata": {},
   "source": [
    "### Inference of the Rt profile for the true choice of ϵ and for the baseline ϵ = 1"
   ]
  },
  {
   "cell_type": "code",
   "execution_count": 28,
   "metadata": {},
   "outputs": [],
   "source": [
    "# Define the divergence function between the two posterior summary dataframes\n",
    "def post_divergence(df1, df2):\n",
    "    return np.mean(np.absolute(df1['Mean']-df2['Mean']) / df1['Mean'])"
   ]
  },
  {
   "cell_type": "code",
   "execution_count": 29,
   "metadata": {},
   "outputs": [],
   "source": [
    "# Inference R_t profile using the LocImpBranchProPosterior\n",
    "a = 1\n",
    "b = 0.2\n",
    "\n",
    "# Run comparative inferences for different values of epsilon and lambda\n",
    "difference = np.empty((len(epsilon_values), len(lambdas)))\n",
    "\n",
    "for _, epsilon in enumerate(epsilon_values):\n",
    "    for l, lam in enumerate(lambdas):\n",
    "        point_difference = []\n",
    "        for i, imported_cases in enumerate(all_imported_cases):\n",
    "            locally_infected_cases = all_local_cases[_][l][i]\n",
    "            # Transform our incidence data into pandas dataframes\n",
    "            inc_data = pd.DataFrame(\n",
    "                {\n",
    "                    'Time': start_times,\n",
    "                    'Incidence Number': locally_infected_cases\n",
    "                }\n",
    "            )\n",
    "\n",
    "            imported_inc_data = pd.DataFrame(\n",
    "                {\n",
    "                    'Time': start_times,\n",
    "                    'Incidence Number': imported_cases\n",
    "                }\n",
    "            )\n",
    "\n",
    "            # Run inference for the true value of epsilon\n",
    "            inference_true = branchpro.LocImpBranchProPosteriorMultSI(\n",
    "                inc_data=inc_data,\n",
    "                imported_inc_data=imported_inc_data,\n",
    "                epsilon=epsilon,\n",
    "                daily_serial_intervals=serial_intervals,\n",
    "                alpha=a,\n",
    "                beta=b)\n",
    "\n",
    "            inference_true.run_inference(tau=tau)\n",
    "            intervals_true = inference_true.get_intervals(central_prob=0)\n",
    "\n",
    "            # Run inference for the baseline value of epsilon = 1\n",
    "            inference_baseline = branchpro.LocImpBranchProPosteriorMultSI(\n",
    "                inc_data=inc_data,\n",
    "                imported_inc_data=imported_inc_data,\n",
    "                epsilon=1,\n",
    "                daily_serial_intervals=serial_intervals,\n",
    "                alpha=a,\n",
    "                beta=b)\n",
    "\n",
    "            inference_baseline.run_inference(tau=tau)\n",
    "            intervals_baseline = inference_baseline.get_intervals(central_prob=0)\n",
    "\n",
    "            # Compute divergence between the two posteriors\n",
    "            point_difference.append(post_divergence(intervals_true, intervals_baseline))\n",
    "\n",
    "        difference[_, l] = np.mean(np.array(point_difference))"
   ]
  },
  {
   "cell_type": "markdown",
   "metadata": {},
   "source": [
    "### Compute heatmap of the divergence between posteriors fitted the true and baseline ϵ for different values of ϵ and λ"
   ]
  },
  {
   "cell_type": "code",
   "execution_count": 30,
   "metadata": {},
   "outputs": [
    {
     "data": {
      "application/vnd.plotly.v1+json": {
       "config": {
        "plotlyServerURL": "https://plot.ly"
       },
       "data": [
        {
         "coloraxis": "coloraxis",
         "type": "heatmap",
         "x": [
          0.01,
          0.11,
          0.22,
          0.32,
          0.43,
          0.53,
          0.64,
          0.74,
          0.85,
          0.95,
          1.06,
          1.16,
          1.27,
          1.37,
          1.48,
          1.58,
          1.69,
          1.79,
          1.9,
          2
         ],
         "y": [
          0.2,
          0.3,
          0.4,
          0.5,
          0.6,
          0.7,
          0.8,
          0.9,
          1,
          1.1,
          1.2,
          1.3,
          1.4,
          1.5,
          1.6,
          1.7,
          1.8,
          1.9,
          2
         ],
         "z": [
          [
           0.7915330413332766,
           0.7623229105038398,
           0.7614366301065604,
           0.751540603502179,
           0.730208140426197,
           0.6842707787595338,
           0.6197588203729933,
           0.5647554249173676,
           0.631207423130626,
           0.492008452165686,
           0.49234314028201154,
           0.4423462175975111,
           0.40736909294407675,
           0.43633840669193497,
           0.370911001748497,
           0.32015778027342184,
           0.3210046534266074,
           0.2915056879222931,
           0.25073884936524027,
           0.27431849326551705
          ],
          [
           0.6802801754345464,
           0.6745968607866766,
           0.6513348020924233,
           0.6281124636177647,
           0.5895889845147544,
           0.566277194963421,
           0.5542186540257521,
           0.4524926173530502,
           0.4684492382843989,
           0.3545373196071618,
           0.39875711293765975,
           0.3115454503657905,
           0.29818910877584714,
           0.31288257064255964,
           0.27350668859926197,
           0.22014104146462393,
           0.23193420082634544,
           0.19573150993511446,
           0.1925604061268695,
           0.2064422453063233
          ],
          [
           0.5857763830599437,
           0.5656934671701733,
           0.5428194705444473,
           0.5423936390080007,
           0.48855463593359655,
           0.4762671872711344,
           0.4444368947704969,
           0.3896030533884056,
           0.33300022726121387,
           0.33135513783401804,
           0.2527688970444739,
           0.2556340874935496,
           0.20842247142142276,
           0.21932310195632124,
           0.20392128107315158,
           0.19970341860445232,
           0.17175928048741618,
           0.16561468243902247,
           0.14522943008418393,
           0.14800006801599866
          ],
          [
           0.48673376756741876,
           0.4600347428548831,
           0.4176817824206379,
           0.42591621269867125,
           0.39184801088928045,
           0.35014898924434107,
           0.357333024263481,
           0.31014819769402646,
           0.2839948248586918,
           0.22060501951422246,
           0.2535033227049306,
           0.19036873452087807,
           0.20180761489695953,
           0.16645458830254778,
           0.16421965819090195,
           0.14869885407145197,
           0.137277995877796,
           0.13030278115195226,
           0.11584601346284666,
           0.11061914302799665
          ],
          [
           0.38577031095900577,
           0.3721225097695483,
           0.3475557624518424,
           0.32349023728794124,
           0.30832360603374726,
           0.27271096244261633,
           0.23440204310138577,
           0.219627942577176,
           0.2081663528317537,
           0.18012583341950358,
           0.15759245258590804,
           0.14086878534628047,
           0.13521790177798848,
           0.1268118036253102,
           0.11515678808978524,
           0.10985572918380124,
           0.09921514252568125,
           0.09992966128936277,
           0.07987538180101575,
           0.08629893217209558
          ],
          [
           0.2864802616749294,
           0.2725942875882624,
           0.24772422362509794,
           0.24531960459149363,
           0.20897162578284645,
           0.19231533346752888,
           0.18765211872610496,
           0.1698553815576396,
           0.14813700553127152,
           0.12073255304282976,
           0.1111638936633578,
           0.10162234734658239,
           0.09419337361776586,
           0.0852756536558414,
           0.08019489817169922,
           0.07318435205824027,
           0.06635026777448587,
           0.06615702754376244,
           0.06296340943450655,
           0.058731863903119706
          ],
          [
           0.19268396169803587,
           0.17608600905101046,
           0.16545868090782723,
           0.15121764470051763,
           0.13373502111334282,
           0.12434913123761339,
           0.11686733216324187,
           0.10228418379125649,
           0.08915635655190986,
           0.07370211853032277,
           0.07291499433229726,
           0.060776812711099096,
           0.06275630458392036,
           0.05861099399907291,
           0.05527600924426341,
           0.05095738827270821,
           0.04373664339567881,
           0.04488768611874202,
           0.04343986290296439,
           0.04134228794666433
          ],
          [
           0.09620392281859663,
           0.09054756615415151,
           0.08206144097259868,
           0.07756481764684578,
           0.06831497096232954,
           0.060092264584721326,
           0.05710191542124242,
           0.04905797381142704,
           0.040412831560346724,
           0.03759376604320476,
           0.03417636155526853,
           0.028665933505070282,
           0.028617719825181704,
           0.0270815738224851,
           0.025080088818793117,
           0.02217958515169466,
           0.02193153520065654,
           0.020311770567012583,
           0.021257766447130278,
           0.01836137306619259
          ],
          [
           0,
           0,
           0,
           0,
           0,
           0,
           0,
           0,
           0,
           0,
           0,
           0,
           0,
           0,
           0,
           0,
           0,
           0,
           0,
           0
          ],
          [
           0.0944175416330155,
           0.08587510265229832,
           0.07701207005142595,
           0.07198892305007973,
           0.06458948988055059,
           0.05629007826570715,
           0.04772896684823191,
           0.04364323895374274,
           0.03624213563936471,
           0.033709093095003424,
           0.029044662528963813,
           0.027413786945775426,
           0.024363919854510842,
           0.023801214065897268,
           0.02136781265205825,
           0.02183710258072433,
           0.0195209424564491,
           0.019143282073101415,
           0.02025482595692004,
           0.01886074284339907
          ],
          [
           0.18857277266999548,
           0.1658393528603659,
           0.1546613867076222,
           0.1359967795607279,
           0.12864866487068397,
           0.1032330158590635,
           0.09143022941811857,
           0.08760500433302094,
           0.0708068203661703,
           0.06682270418265111,
           0.057263919004582366,
           0.054135010507084094,
           0.04904935086339901,
           0.0436983194314845,
           0.041548865251961366,
           0.04048920019565447,
           0.03829631225616057,
           0.03590739281213446,
           0.037607117524036025,
           0.03285427219565376
          ],
          [
           0.27900665730943375,
           0.24811543372035325,
           0.22738099900191872,
           0.20031272731433908,
           0.18222590215273302,
           0.16229865671712657,
           0.13141006077381337,
           0.12456251788491195,
           0.0994050922037143,
           0.09149164338820451,
           0.07985563388733372,
           0.07368234711246845,
           0.07008758340449184,
           0.06548295207477485,
           0.06903976168190859,
           0.059800083094825235,
           0.057079907887031975,
           0.05471170481760524,
           0.04959016522050404,
           0.050405240900514674
          ],
          [
           0.37182986201216717,
           0.3379675426043238,
           0.2906381424793292,
           0.2653591756199655,
           0.22293215887483442,
           0.19874959021522415,
           0.18443997178823923,
           0.1480835628084019,
           0.12904575355321046,
           0.11874505033180034,
           0.1117870670205742,
           0.0938495121007903,
           0.09474753065168696,
           0.090549606631929,
           0.07845370178435483,
           0.07081120912897292,
           0.07902004212746404,
           0.06919350582752207,
           0.06476953785327216,
           0.06543148982548869
          ],
          [
           0.46732007728815,
           0.4262173811472492,
           0.36765616680020813,
           0.3331182740270509,
           0.2812836861399341,
           0.24242916784043816,
           0.21467599610575153,
           0.17331551375229978,
           0.1741063872855955,
           0.1473540242252347,
           0.12895326862610493,
           0.12837007347071375,
           0.11316813117480848,
           0.10158191188423377,
           0.09927753972082283,
           0.07573096506895789,
           0.09634186041961597,
           0.07719469747876179,
           0.08806585998360596,
           0.07964086829517408
          ],
          [
           0.5560267739852602,
           0.49038915760789636,
           0.4641887830289089,
           0.38162655432600817,
           0.31184567746912395,
           0.28607094791939863,
           0.25735843244998874,
           0.23133811167912235,
           0.1758294988173049,
           0.16250743922786873,
           0.14871826021589538,
           0.15031380919198783,
           0.12383125941082093,
           0.128169530378457,
           0.10974474317194298,
           0.10838112342732183,
           0.10311772889047342,
           0.10022178561399363,
           0.09010563114007529,
           0.0893387479122873
          ],
          [
           0.6518844195968274,
           0.578069801642085,
           0.5141400756408601,
           0.4268423366368978,
           0.38627614550856293,
           0.3321441693435046,
           0.27919837163296884,
           0.24981500689140815,
           0.22150603987913084,
           0.19486067586638603,
           0.18593083131802218,
           0.15108357412655132,
           0.1489323375536341,
           0.14840338358761948,
           0.1259452780115989,
           0.12631467000839966,
           0.12035748837998979,
           0.09800963677046122,
           0.09729137519204145,
           0.10818413235047145
          ],
          [
           0.7383311350757782,
           0.6404938475927107,
           0.5722600547915784,
           0.4705565595418065,
           0.41995420916275794,
           0.3547886209132406,
           0.29478738607697247,
           0.2790669547854171,
           0.2521169543902039,
           0.21545409126440013,
           0.19579248232641244,
           0.18012004689063887,
           0.16004900383124912,
           0.14154578776488858,
           0.12801346355398158,
           0.13497026563264888,
           0.12351255832038355,
           0.11675589567929841,
           0.12135249167729899,
           0.1162158023976937
          ],
          [
           0.8393128780655332,
           0.7035840527088073,
           0.595293119580819,
           0.5220030757298717,
           0.4838239697811091,
           0.41391177129829326,
           0.3374607559418697,
           0.2829774607880811,
           0.2641231685940031,
           0.22894938176535826,
           0.21083647448562357,
           0.19807766818169015,
           0.17185365692103352,
           0.15624022635182466,
           0.1590077857540317,
           0.13884737834845334,
           0.14555663966422072,
           0.1265523274201234,
           0.13526757632022104,
           0.11720345581734398
          ],
          [
           0.9137672387625606,
           0.7706728984987845,
           0.6441467663790053,
           0.5775297112819558,
           0.5006022168537623,
           0.4402086558408819,
           0.3797716014767118,
           0.33225624608427384,
           0.2782168426057954,
           0.25492498695622856,
           0.22830014045139274,
           0.21133428093975457,
           0.19378652065340216,
           0.17454612518491508,
           0.1589076056097412,
           0.16311945026537975,
           0.14917765823363507,
           0.1447744057959207,
           0.12930813895584262,
           0.14056732108702147
          ]
         ]
        }
       ],
       "layout": {
        "boxmode": "group",
        "coloraxis": {
         "colorbar": {
          "title": {
           "text": "Relative error in Rt"
          }
         },
         "colorscale": [
          [
           0,
           "rgb(254, 245, 244)"
          ],
          [
           0.09090909090909091,
           "rgb(222, 224, 210)"
          ],
          [
           0.18181818181818182,
           "rgb(189, 206, 181)"
          ],
          [
           0.2727272727272727,
           "rgb(153, 189, 156)"
          ],
          [
           0.36363636363636365,
           "rgb(110, 173, 138)"
          ],
          [
           0.45454545454545453,
           "rgb(65, 157, 129)"
          ],
          [
           0.5454545454545454,
           "rgb(25, 137, 125)"
          ],
          [
           0.6363636363636364,
           "rgb(18, 116, 117)"
          ],
          [
           0.7272727272727273,
           "rgb(25, 94, 106)"
          ],
          [
           0.8181818181818182,
           "rgb(28, 72, 93)"
          ],
          [
           0.9090909090909091,
           "rgb(25, 51, 80)"
          ],
          [
           1,
           "rgb(20, 29, 67)"
          ]
         ]
        },
        "height": 500,
        "plot_bgcolor": "white",
        "template": {
         "data": {
          "bar": [
           {
            "error_x": {
             "color": "#2a3f5f"
            },
            "error_y": {
             "color": "#2a3f5f"
            },
            "marker": {
             "line": {
              "color": "#E5ECF6",
              "width": 0.5
             },
             "pattern": {
              "fillmode": "overlay",
              "size": 10,
              "solidity": 0.2
             }
            },
            "type": "bar"
           }
          ],
          "barpolar": [
           {
            "marker": {
             "line": {
              "color": "#E5ECF6",
              "width": 0.5
             },
             "pattern": {
              "fillmode": "overlay",
              "size": 10,
              "solidity": 0.2
             }
            },
            "type": "barpolar"
           }
          ],
          "carpet": [
           {
            "aaxis": {
             "endlinecolor": "#2a3f5f",
             "gridcolor": "white",
             "linecolor": "white",
             "minorgridcolor": "white",
             "startlinecolor": "#2a3f5f"
            },
            "baxis": {
             "endlinecolor": "#2a3f5f",
             "gridcolor": "white",
             "linecolor": "white",
             "minorgridcolor": "white",
             "startlinecolor": "#2a3f5f"
            },
            "type": "carpet"
           }
          ],
          "choropleth": [
           {
            "colorbar": {
             "outlinewidth": 0,
             "ticks": ""
            },
            "type": "choropleth"
           }
          ],
          "contour": [
           {
            "colorbar": {
             "outlinewidth": 0,
             "ticks": ""
            },
            "colorscale": [
             [
              0,
              "#0d0887"
             ],
             [
              0.1111111111111111,
              "#46039f"
             ],
             [
              0.2222222222222222,
              "#7201a8"
             ],
             [
              0.3333333333333333,
              "#9c179e"
             ],
             [
              0.4444444444444444,
              "#bd3786"
             ],
             [
              0.5555555555555556,
              "#d8576b"
             ],
             [
              0.6666666666666666,
              "#ed7953"
             ],
             [
              0.7777777777777778,
              "#fb9f3a"
             ],
             [
              0.8888888888888888,
              "#fdca26"
             ],
             [
              1,
              "#f0f921"
             ]
            ],
            "type": "contour"
           }
          ],
          "contourcarpet": [
           {
            "colorbar": {
             "outlinewidth": 0,
             "ticks": ""
            },
            "type": "contourcarpet"
           }
          ],
          "heatmap": [
           {
            "colorbar": {
             "outlinewidth": 0,
             "ticks": ""
            },
            "colorscale": [
             [
              0,
              "#0d0887"
             ],
             [
              0.1111111111111111,
              "#46039f"
             ],
             [
              0.2222222222222222,
              "#7201a8"
             ],
             [
              0.3333333333333333,
              "#9c179e"
             ],
             [
              0.4444444444444444,
              "#bd3786"
             ],
             [
              0.5555555555555556,
              "#d8576b"
             ],
             [
              0.6666666666666666,
              "#ed7953"
             ],
             [
              0.7777777777777778,
              "#fb9f3a"
             ],
             [
              0.8888888888888888,
              "#fdca26"
             ],
             [
              1,
              "#f0f921"
             ]
            ],
            "type": "heatmap"
           }
          ],
          "heatmapgl": [
           {
            "colorbar": {
             "outlinewidth": 0,
             "ticks": ""
            },
            "colorscale": [
             [
              0,
              "#0d0887"
             ],
             [
              0.1111111111111111,
              "#46039f"
             ],
             [
              0.2222222222222222,
              "#7201a8"
             ],
             [
              0.3333333333333333,
              "#9c179e"
             ],
             [
              0.4444444444444444,
              "#bd3786"
             ],
             [
              0.5555555555555556,
              "#d8576b"
             ],
             [
              0.6666666666666666,
              "#ed7953"
             ],
             [
              0.7777777777777778,
              "#fb9f3a"
             ],
             [
              0.8888888888888888,
              "#fdca26"
             ],
             [
              1,
              "#f0f921"
             ]
            ],
            "type": "heatmapgl"
           }
          ],
          "histogram": [
           {
            "marker": {
             "pattern": {
              "fillmode": "overlay",
              "size": 10,
              "solidity": 0.2
             }
            },
            "type": "histogram"
           }
          ],
          "histogram2d": [
           {
            "colorbar": {
             "outlinewidth": 0,
             "ticks": ""
            },
            "colorscale": [
             [
              0,
              "#0d0887"
             ],
             [
              0.1111111111111111,
              "#46039f"
             ],
             [
              0.2222222222222222,
              "#7201a8"
             ],
             [
              0.3333333333333333,
              "#9c179e"
             ],
             [
              0.4444444444444444,
              "#bd3786"
             ],
             [
              0.5555555555555556,
              "#d8576b"
             ],
             [
              0.6666666666666666,
              "#ed7953"
             ],
             [
              0.7777777777777778,
              "#fb9f3a"
             ],
             [
              0.8888888888888888,
              "#fdca26"
             ],
             [
              1,
              "#f0f921"
             ]
            ],
            "type": "histogram2d"
           }
          ],
          "histogram2dcontour": [
           {
            "colorbar": {
             "outlinewidth": 0,
             "ticks": ""
            },
            "colorscale": [
             [
              0,
              "#0d0887"
             ],
             [
              0.1111111111111111,
              "#46039f"
             ],
             [
              0.2222222222222222,
              "#7201a8"
             ],
             [
              0.3333333333333333,
              "#9c179e"
             ],
             [
              0.4444444444444444,
              "#bd3786"
             ],
             [
              0.5555555555555556,
              "#d8576b"
             ],
             [
              0.6666666666666666,
              "#ed7953"
             ],
             [
              0.7777777777777778,
              "#fb9f3a"
             ],
             [
              0.8888888888888888,
              "#fdca26"
             ],
             [
              1,
              "#f0f921"
             ]
            ],
            "type": "histogram2dcontour"
           }
          ],
          "mesh3d": [
           {
            "colorbar": {
             "outlinewidth": 0,
             "ticks": ""
            },
            "type": "mesh3d"
           }
          ],
          "parcoords": [
           {
            "line": {
             "colorbar": {
              "outlinewidth": 0,
              "ticks": ""
             }
            },
            "type": "parcoords"
           }
          ],
          "pie": [
           {
            "automargin": true,
            "type": "pie"
           }
          ],
          "scatter": [
           {
            "marker": {
             "colorbar": {
              "outlinewidth": 0,
              "ticks": ""
             }
            },
            "type": "scatter"
           }
          ],
          "scatter3d": [
           {
            "line": {
             "colorbar": {
              "outlinewidth": 0,
              "ticks": ""
             }
            },
            "marker": {
             "colorbar": {
              "outlinewidth": 0,
              "ticks": ""
             }
            },
            "type": "scatter3d"
           }
          ],
          "scattercarpet": [
           {
            "marker": {
             "colorbar": {
              "outlinewidth": 0,
              "ticks": ""
             }
            },
            "type": "scattercarpet"
           }
          ],
          "scattergeo": [
           {
            "marker": {
             "colorbar": {
              "outlinewidth": 0,
              "ticks": ""
             }
            },
            "type": "scattergeo"
           }
          ],
          "scattergl": [
           {
            "marker": {
             "colorbar": {
              "outlinewidth": 0,
              "ticks": ""
             }
            },
            "type": "scattergl"
           }
          ],
          "scattermapbox": [
           {
            "marker": {
             "colorbar": {
              "outlinewidth": 0,
              "ticks": ""
             }
            },
            "type": "scattermapbox"
           }
          ],
          "scatterpolar": [
           {
            "marker": {
             "colorbar": {
              "outlinewidth": 0,
              "ticks": ""
             }
            },
            "type": "scatterpolar"
           }
          ],
          "scatterpolargl": [
           {
            "marker": {
             "colorbar": {
              "outlinewidth": 0,
              "ticks": ""
             }
            },
            "type": "scatterpolargl"
           }
          ],
          "scatterternary": [
           {
            "marker": {
             "colorbar": {
              "outlinewidth": 0,
              "ticks": ""
             }
            },
            "type": "scatterternary"
           }
          ],
          "surface": [
           {
            "colorbar": {
             "outlinewidth": 0,
             "ticks": ""
            },
            "colorscale": [
             [
              0,
              "#0d0887"
             ],
             [
              0.1111111111111111,
              "#46039f"
             ],
             [
              0.2222222222222222,
              "#7201a8"
             ],
             [
              0.3333333333333333,
              "#9c179e"
             ],
             [
              0.4444444444444444,
              "#bd3786"
             ],
             [
              0.5555555555555556,
              "#d8576b"
             ],
             [
              0.6666666666666666,
              "#ed7953"
             ],
             [
              0.7777777777777778,
              "#fb9f3a"
             ],
             [
              0.8888888888888888,
              "#fdca26"
             ],
             [
              1,
              "#f0f921"
             ]
            ],
            "type": "surface"
           }
          ],
          "table": [
           {
            "cells": {
             "fill": {
              "color": "#EBF0F8"
             },
             "line": {
              "color": "white"
             }
            },
            "header": {
             "fill": {
              "color": "#C8D4E3"
             },
             "line": {
              "color": "white"
             }
            },
            "type": "table"
           }
          ]
         },
         "layout": {
          "annotationdefaults": {
           "arrowcolor": "#2a3f5f",
           "arrowhead": 0,
           "arrowwidth": 1
          },
          "autotypenumbers": "strict",
          "coloraxis": {
           "colorbar": {
            "outlinewidth": 0,
            "ticks": ""
           }
          },
          "colorscale": {
           "diverging": [
            [
             0,
             "#8e0152"
            ],
            [
             0.1,
             "#c51b7d"
            ],
            [
             0.2,
             "#de77ae"
            ],
            [
             0.3,
             "#f1b6da"
            ],
            [
             0.4,
             "#fde0ef"
            ],
            [
             0.5,
             "#f7f7f7"
            ],
            [
             0.6,
             "#e6f5d0"
            ],
            [
             0.7,
             "#b8e186"
            ],
            [
             0.8,
             "#7fbc41"
            ],
            [
             0.9,
             "#4d9221"
            ],
            [
             1,
             "#276419"
            ]
           ],
           "sequential": [
            [
             0,
             "#0d0887"
            ],
            [
             0.1111111111111111,
             "#46039f"
            ],
            [
             0.2222222222222222,
             "#7201a8"
            ],
            [
             0.3333333333333333,
             "#9c179e"
            ],
            [
             0.4444444444444444,
             "#bd3786"
            ],
            [
             0.5555555555555556,
             "#d8576b"
            ],
            [
             0.6666666666666666,
             "#ed7953"
            ],
            [
             0.7777777777777778,
             "#fb9f3a"
            ],
            [
             0.8888888888888888,
             "#fdca26"
            ],
            [
             1,
             "#f0f921"
            ]
           ],
           "sequentialminus": [
            [
             0,
             "#0d0887"
            ],
            [
             0.1111111111111111,
             "#46039f"
            ],
            [
             0.2222222222222222,
             "#7201a8"
            ],
            [
             0.3333333333333333,
             "#9c179e"
            ],
            [
             0.4444444444444444,
             "#bd3786"
            ],
            [
             0.5555555555555556,
             "#d8576b"
            ],
            [
             0.6666666666666666,
             "#ed7953"
            ],
            [
             0.7777777777777778,
             "#fb9f3a"
            ],
            [
             0.8888888888888888,
             "#fdca26"
            ],
            [
             1,
             "#f0f921"
            ]
           ]
          },
          "colorway": [
           "#636efa",
           "#EF553B",
           "#00cc96",
           "#ab63fa",
           "#FFA15A",
           "#19d3f3",
           "#FF6692",
           "#B6E880",
           "#FF97FF",
           "#FECB52"
          ],
          "font": {
           "color": "#2a3f5f"
          },
          "geo": {
           "bgcolor": "white",
           "lakecolor": "white",
           "landcolor": "#E5ECF6",
           "showlakes": true,
           "showland": true,
           "subunitcolor": "white"
          },
          "hoverlabel": {
           "align": "left"
          },
          "hovermode": "closest",
          "mapbox": {
           "style": "light"
          },
          "paper_bgcolor": "white",
          "plot_bgcolor": "#E5ECF6",
          "polar": {
           "angularaxis": {
            "gridcolor": "white",
            "linecolor": "white",
            "ticks": ""
           },
           "bgcolor": "#E5ECF6",
           "radialaxis": {
            "gridcolor": "white",
            "linecolor": "white",
            "ticks": ""
           }
          },
          "scene": {
           "xaxis": {
            "backgroundcolor": "#E5ECF6",
            "gridcolor": "white",
            "gridwidth": 2,
            "linecolor": "white",
            "showbackground": true,
            "ticks": "",
            "zerolinecolor": "white"
           },
           "yaxis": {
            "backgroundcolor": "#E5ECF6",
            "gridcolor": "white",
            "gridwidth": 2,
            "linecolor": "white",
            "showbackground": true,
            "ticks": "",
            "zerolinecolor": "white"
           },
           "zaxis": {
            "backgroundcolor": "#E5ECF6",
            "gridcolor": "white",
            "gridwidth": 2,
            "linecolor": "white",
            "showbackground": true,
            "ticks": "",
            "zerolinecolor": "white"
           }
          },
          "shapedefaults": {
           "line": {
            "color": "#2a3f5f"
           }
          },
          "ternary": {
           "aaxis": {
            "gridcolor": "white",
            "linecolor": "white",
            "ticks": ""
           },
           "baxis": {
            "gridcolor": "white",
            "linecolor": "white",
            "ticks": ""
           },
           "bgcolor": "#E5ECF6",
           "caxis": {
            "gridcolor": "white",
            "linecolor": "white",
            "ticks": ""
           }
          },
          "title": {
           "x": 0.05
          },
          "xaxis": {
           "automargin": true,
           "gridcolor": "white",
           "linecolor": "white",
           "ticks": "",
           "title": {
            "standoff": 15
           },
           "zerolinecolor": "white",
           "zerolinewidth": 2
          },
          "yaxis": {
           "automargin": true,
           "gridcolor": "white",
           "linecolor": "white",
           "ticks": "",
           "title": {
            "standoff": 15
           },
           "zerolinecolor": "white",
           "zerolinewidth": 2
          }
         }
        },
        "width": 500,
        "xaxis": {
         "linecolor": "black",
         "title": {
          "text": "λ"
         },
         "type": "category"
        },
        "yaxis": {
         "linecolor": "black",
         "title": {
          "text": "ϵ"
         },
         "type": "category"
        }
       }
      },
      "text/html": [
       "<div>                            <div id=\"d05aceea-2e90-4b53-85e2-a01c7a21d5ac\" class=\"plotly-graph-div\" style=\"height:500px; width:500px;\"></div>            <script type=\"text/javascript\">                require([\"plotly\"], function(Plotly) {                    window.PLOTLYENV=window.PLOTLYENV || {};                                    if (document.getElementById(\"d05aceea-2e90-4b53-85e2-a01c7a21d5ac\")) {                    Plotly.newPlot(                        \"d05aceea-2e90-4b53-85e2-a01c7a21d5ac\",                        [{\"coloraxis\":\"coloraxis\",\"x\":[0.01,0.11,0.22,0.32,0.43,0.53,0.64,0.74,0.85,0.95,1.06,1.16,1.27,1.37,1.48,1.58,1.69,1.79,1.9,2.0],\"y\":[0.2,0.3,0.4,0.5,0.6,0.7,0.8,0.9,1.0,1.1,1.2,1.3,1.4,1.5,1.6,1.7,1.8,1.9,2.0],\"z\":[[0.7915330413332766,0.7623229105038398,0.7614366301065604,0.751540603502179,0.730208140426197,0.6842707787595338,0.6197588203729933,0.5647554249173676,0.631207423130626,0.492008452165686,0.49234314028201154,0.4423462175975111,0.40736909294407675,0.43633840669193497,0.370911001748497,0.32015778027342184,0.3210046534266074,0.2915056879222931,0.25073884936524027,0.27431849326551705],[0.6802801754345464,0.6745968607866766,0.6513348020924233,0.6281124636177647,0.5895889845147544,0.566277194963421,0.5542186540257521,0.4524926173530502,0.4684492382843989,0.3545373196071618,0.39875711293765975,0.3115454503657905,0.29818910877584714,0.31288257064255964,0.27350668859926197,0.22014104146462393,0.23193420082634544,0.19573150993511446,0.1925604061268695,0.2064422453063233],[0.5857763830599437,0.5656934671701733,0.5428194705444473,0.5423936390080007,0.48855463593359655,0.4762671872711344,0.4444368947704969,0.3896030533884056,0.33300022726121387,0.33135513783401804,0.2527688970444739,0.2556340874935496,0.20842247142142276,0.21932310195632124,0.20392128107315158,0.19970341860445232,0.17175928048741618,0.16561468243902247,0.14522943008418393,0.14800006801599866],[0.48673376756741876,0.4600347428548831,0.4176817824206379,0.42591621269867125,0.39184801088928045,0.35014898924434107,0.357333024263481,0.31014819769402646,0.2839948248586918,0.22060501951422246,0.2535033227049306,0.19036873452087807,0.20180761489695953,0.16645458830254778,0.16421965819090195,0.14869885407145197,0.137277995877796,0.13030278115195226,0.11584601346284666,0.11061914302799665],[0.38577031095900577,0.3721225097695483,0.3475557624518424,0.32349023728794124,0.30832360603374726,0.27271096244261633,0.23440204310138577,0.219627942577176,0.2081663528317537,0.18012583341950358,0.15759245258590804,0.14086878534628047,0.13521790177798848,0.1268118036253102,0.11515678808978524,0.10985572918380124,0.09921514252568125,0.09992966128936277,0.07987538180101575,0.08629893217209558],[0.2864802616749294,0.2725942875882624,0.24772422362509794,0.24531960459149363,0.20897162578284645,0.19231533346752888,0.18765211872610496,0.1698553815576396,0.14813700553127152,0.12073255304282976,0.1111638936633578,0.10162234734658239,0.09419337361776586,0.0852756536558414,0.08019489817169922,0.07318435205824027,0.06635026777448587,0.06615702754376244,0.06296340943450655,0.058731863903119706],[0.19268396169803587,0.17608600905101046,0.16545868090782723,0.15121764470051763,0.13373502111334282,0.12434913123761339,0.11686733216324187,0.10228418379125649,0.08915635655190986,0.07370211853032277,0.07291499433229726,0.060776812711099096,0.06275630458392036,0.05861099399907291,0.05527600924426341,0.05095738827270821,0.04373664339567881,0.04488768611874202,0.04343986290296439,0.04134228794666433],[0.09620392281859663,0.09054756615415151,0.08206144097259868,0.07756481764684578,0.06831497096232954,0.060092264584721326,0.05710191542124242,0.04905797381142704,0.040412831560346724,0.03759376604320476,0.03417636155526853,0.028665933505070282,0.028617719825181704,0.0270815738224851,0.025080088818793117,0.02217958515169466,0.02193153520065654,0.020311770567012583,0.021257766447130278,0.01836137306619259],[0.0,0.0,0.0,0.0,0.0,0.0,0.0,0.0,0.0,0.0,0.0,0.0,0.0,0.0,0.0,0.0,0.0,0.0,0.0,0.0],[0.0944175416330155,0.08587510265229832,0.07701207005142595,0.07198892305007973,0.06458948988055059,0.05629007826570715,0.04772896684823191,0.04364323895374274,0.03624213563936471,0.033709093095003424,0.029044662528963813,0.027413786945775426,0.024363919854510842,0.023801214065897268,0.02136781265205825,0.02183710258072433,0.0195209424564491,0.019143282073101415,0.02025482595692004,0.01886074284339907],[0.18857277266999548,0.1658393528603659,0.1546613867076222,0.1359967795607279,0.12864866487068397,0.1032330158590635,0.09143022941811857,0.08760500433302094,0.0708068203661703,0.06682270418265111,0.057263919004582366,0.054135010507084094,0.04904935086339901,0.0436983194314845,0.041548865251961366,0.04048920019565447,0.03829631225616057,0.03590739281213446,0.037607117524036025,0.03285427219565376],[0.27900665730943375,0.24811543372035325,0.22738099900191872,0.20031272731433908,0.18222590215273302,0.16229865671712657,0.13141006077381337,0.12456251788491195,0.0994050922037143,0.09149164338820451,0.07985563388733372,0.07368234711246845,0.07008758340449184,0.06548295207477485,0.06903976168190859,0.059800083094825235,0.057079907887031975,0.05471170481760524,0.04959016522050404,0.050405240900514674],[0.37182986201216717,0.3379675426043238,0.2906381424793292,0.2653591756199655,0.22293215887483442,0.19874959021522415,0.18443997178823923,0.1480835628084019,0.12904575355321046,0.11874505033180034,0.1117870670205742,0.0938495121007903,0.09474753065168696,0.090549606631929,0.07845370178435483,0.07081120912897292,0.07902004212746404,0.06919350582752207,0.06476953785327216,0.06543148982548869],[0.46732007728815,0.4262173811472492,0.36765616680020813,0.3331182740270509,0.2812836861399341,0.24242916784043816,0.21467599610575153,0.17331551375229978,0.1741063872855955,0.1473540242252347,0.12895326862610493,0.12837007347071375,0.11316813117480848,0.10158191188423377,0.09927753972082283,0.07573096506895789,0.09634186041961597,0.07719469747876179,0.08806585998360596,0.07964086829517408],[0.5560267739852602,0.49038915760789636,0.4641887830289089,0.38162655432600817,0.31184567746912395,0.28607094791939863,0.25735843244998874,0.23133811167912235,0.1758294988173049,0.16250743922786873,0.14871826021589538,0.15031380919198783,0.12383125941082093,0.128169530378457,0.10974474317194298,0.10838112342732183,0.10311772889047342,0.10022178561399363,0.09010563114007529,0.0893387479122873],[0.6518844195968274,0.578069801642085,0.5141400756408601,0.4268423366368978,0.38627614550856293,0.3321441693435046,0.27919837163296884,0.24981500689140815,0.22150603987913084,0.19486067586638603,0.18593083131802218,0.15108357412655132,0.1489323375536341,0.14840338358761948,0.1259452780115989,0.12631467000839966,0.12035748837998979,0.09800963677046122,0.09729137519204145,0.10818413235047145],[0.7383311350757782,0.6404938475927107,0.5722600547915784,0.4705565595418065,0.41995420916275794,0.3547886209132406,0.29478738607697247,0.2790669547854171,0.2521169543902039,0.21545409126440013,0.19579248232641244,0.18012004689063887,0.16004900383124912,0.14154578776488858,0.12801346355398158,0.13497026563264888,0.12351255832038355,0.11675589567929841,0.12135249167729899,0.1162158023976937],[0.8393128780655332,0.7035840527088073,0.595293119580819,0.5220030757298717,0.4838239697811091,0.41391177129829326,0.3374607559418697,0.2829774607880811,0.2641231685940031,0.22894938176535826,0.21083647448562357,0.19807766818169015,0.17185365692103352,0.15624022635182466,0.1590077857540317,0.13884737834845334,0.14555663966422072,0.1265523274201234,0.13526757632022104,0.11720345581734398],[0.9137672387625606,0.7706728984987845,0.6441467663790053,0.5775297112819558,0.5006022168537623,0.4402086558408819,0.3797716014767118,0.33225624608427384,0.2782168426057954,0.25492498695622856,0.22830014045139274,0.21133428093975457,0.19378652065340216,0.17454612518491508,0.1589076056097412,0.16311945026537975,0.14917765823363507,0.1447744057959207,0.12930813895584262,0.14056732108702147]],\"type\":\"heatmap\"}],                        {\"template\":{\"data\":{\"bar\":[{\"error_x\":{\"color\":\"#2a3f5f\"},\"error_y\":{\"color\":\"#2a3f5f\"},\"marker\":{\"line\":{\"color\":\"#E5ECF6\",\"width\":0.5},\"pattern\":{\"fillmode\":\"overlay\",\"size\":10,\"solidity\":0.2}},\"type\":\"bar\"}],\"barpolar\":[{\"marker\":{\"line\":{\"color\":\"#E5ECF6\",\"width\":0.5},\"pattern\":{\"fillmode\":\"overlay\",\"size\":10,\"solidity\":0.2}},\"type\":\"barpolar\"}],\"carpet\":[{\"aaxis\":{\"endlinecolor\":\"#2a3f5f\",\"gridcolor\":\"white\",\"linecolor\":\"white\",\"minorgridcolor\":\"white\",\"startlinecolor\":\"#2a3f5f\"},\"baxis\":{\"endlinecolor\":\"#2a3f5f\",\"gridcolor\":\"white\",\"linecolor\":\"white\",\"minorgridcolor\":\"white\",\"startlinecolor\":\"#2a3f5f\"},\"type\":\"carpet\"}],\"choropleth\":[{\"colorbar\":{\"outlinewidth\":0,\"ticks\":\"\"},\"type\":\"choropleth\"}],\"contour\":[{\"colorbar\":{\"outlinewidth\":0,\"ticks\":\"\"},\"colorscale\":[[0.0,\"#0d0887\"],[0.1111111111111111,\"#46039f\"],[0.2222222222222222,\"#7201a8\"],[0.3333333333333333,\"#9c179e\"],[0.4444444444444444,\"#bd3786\"],[0.5555555555555556,\"#d8576b\"],[0.6666666666666666,\"#ed7953\"],[0.7777777777777778,\"#fb9f3a\"],[0.8888888888888888,\"#fdca26\"],[1.0,\"#f0f921\"]],\"type\":\"contour\"}],\"contourcarpet\":[{\"colorbar\":{\"outlinewidth\":0,\"ticks\":\"\"},\"type\":\"contourcarpet\"}],\"heatmap\":[{\"colorbar\":{\"outlinewidth\":0,\"ticks\":\"\"},\"colorscale\":[[0.0,\"#0d0887\"],[0.1111111111111111,\"#46039f\"],[0.2222222222222222,\"#7201a8\"],[0.3333333333333333,\"#9c179e\"],[0.4444444444444444,\"#bd3786\"],[0.5555555555555556,\"#d8576b\"],[0.6666666666666666,\"#ed7953\"],[0.7777777777777778,\"#fb9f3a\"],[0.8888888888888888,\"#fdca26\"],[1.0,\"#f0f921\"]],\"type\":\"heatmap\"}],\"heatmapgl\":[{\"colorbar\":{\"outlinewidth\":0,\"ticks\":\"\"},\"colorscale\":[[0.0,\"#0d0887\"],[0.1111111111111111,\"#46039f\"],[0.2222222222222222,\"#7201a8\"],[0.3333333333333333,\"#9c179e\"],[0.4444444444444444,\"#bd3786\"],[0.5555555555555556,\"#d8576b\"],[0.6666666666666666,\"#ed7953\"],[0.7777777777777778,\"#fb9f3a\"],[0.8888888888888888,\"#fdca26\"],[1.0,\"#f0f921\"]],\"type\":\"heatmapgl\"}],\"histogram\":[{\"marker\":{\"pattern\":{\"fillmode\":\"overlay\",\"size\":10,\"solidity\":0.2}},\"type\":\"histogram\"}],\"histogram2d\":[{\"colorbar\":{\"outlinewidth\":0,\"ticks\":\"\"},\"colorscale\":[[0.0,\"#0d0887\"],[0.1111111111111111,\"#46039f\"],[0.2222222222222222,\"#7201a8\"],[0.3333333333333333,\"#9c179e\"],[0.4444444444444444,\"#bd3786\"],[0.5555555555555556,\"#d8576b\"],[0.6666666666666666,\"#ed7953\"],[0.7777777777777778,\"#fb9f3a\"],[0.8888888888888888,\"#fdca26\"],[1.0,\"#f0f921\"]],\"type\":\"histogram2d\"}],\"histogram2dcontour\":[{\"colorbar\":{\"outlinewidth\":0,\"ticks\":\"\"},\"colorscale\":[[0.0,\"#0d0887\"],[0.1111111111111111,\"#46039f\"],[0.2222222222222222,\"#7201a8\"],[0.3333333333333333,\"#9c179e\"],[0.4444444444444444,\"#bd3786\"],[0.5555555555555556,\"#d8576b\"],[0.6666666666666666,\"#ed7953\"],[0.7777777777777778,\"#fb9f3a\"],[0.8888888888888888,\"#fdca26\"],[1.0,\"#f0f921\"]],\"type\":\"histogram2dcontour\"}],\"mesh3d\":[{\"colorbar\":{\"outlinewidth\":0,\"ticks\":\"\"},\"type\":\"mesh3d\"}],\"parcoords\":[{\"line\":{\"colorbar\":{\"outlinewidth\":0,\"ticks\":\"\"}},\"type\":\"parcoords\"}],\"pie\":[{\"automargin\":true,\"type\":\"pie\"}],\"scatter\":[{\"marker\":{\"colorbar\":{\"outlinewidth\":0,\"ticks\":\"\"}},\"type\":\"scatter\"}],\"scatter3d\":[{\"line\":{\"colorbar\":{\"outlinewidth\":0,\"ticks\":\"\"}},\"marker\":{\"colorbar\":{\"outlinewidth\":0,\"ticks\":\"\"}},\"type\":\"scatter3d\"}],\"scattercarpet\":[{\"marker\":{\"colorbar\":{\"outlinewidth\":0,\"ticks\":\"\"}},\"type\":\"scattercarpet\"}],\"scattergeo\":[{\"marker\":{\"colorbar\":{\"outlinewidth\":0,\"ticks\":\"\"}},\"type\":\"scattergeo\"}],\"scattergl\":[{\"marker\":{\"colorbar\":{\"outlinewidth\":0,\"ticks\":\"\"}},\"type\":\"scattergl\"}],\"scattermapbox\":[{\"marker\":{\"colorbar\":{\"outlinewidth\":0,\"ticks\":\"\"}},\"type\":\"scattermapbox\"}],\"scatterpolar\":[{\"marker\":{\"colorbar\":{\"outlinewidth\":0,\"ticks\":\"\"}},\"type\":\"scatterpolar\"}],\"scatterpolargl\":[{\"marker\":{\"colorbar\":{\"outlinewidth\":0,\"ticks\":\"\"}},\"type\":\"scatterpolargl\"}],\"scatterternary\":[{\"marker\":{\"colorbar\":{\"outlinewidth\":0,\"ticks\":\"\"}},\"type\":\"scatterternary\"}],\"surface\":[{\"colorbar\":{\"outlinewidth\":0,\"ticks\":\"\"},\"colorscale\":[[0.0,\"#0d0887\"],[0.1111111111111111,\"#46039f\"],[0.2222222222222222,\"#7201a8\"],[0.3333333333333333,\"#9c179e\"],[0.4444444444444444,\"#bd3786\"],[0.5555555555555556,\"#d8576b\"],[0.6666666666666666,\"#ed7953\"],[0.7777777777777778,\"#fb9f3a\"],[0.8888888888888888,\"#fdca26\"],[1.0,\"#f0f921\"]],\"type\":\"surface\"}],\"table\":[{\"cells\":{\"fill\":{\"color\":\"#EBF0F8\"},\"line\":{\"color\":\"white\"}},\"header\":{\"fill\":{\"color\":\"#C8D4E3\"},\"line\":{\"color\":\"white\"}},\"type\":\"table\"}]},\"layout\":{\"annotationdefaults\":{\"arrowcolor\":\"#2a3f5f\",\"arrowhead\":0,\"arrowwidth\":1},\"autotypenumbers\":\"strict\",\"coloraxis\":{\"colorbar\":{\"outlinewidth\":0,\"ticks\":\"\"}},\"colorscale\":{\"diverging\":[[0,\"#8e0152\"],[0.1,\"#c51b7d\"],[0.2,\"#de77ae\"],[0.3,\"#f1b6da\"],[0.4,\"#fde0ef\"],[0.5,\"#f7f7f7\"],[0.6,\"#e6f5d0\"],[0.7,\"#b8e186\"],[0.8,\"#7fbc41\"],[0.9,\"#4d9221\"],[1,\"#276419\"]],\"sequential\":[[0.0,\"#0d0887\"],[0.1111111111111111,\"#46039f\"],[0.2222222222222222,\"#7201a8\"],[0.3333333333333333,\"#9c179e\"],[0.4444444444444444,\"#bd3786\"],[0.5555555555555556,\"#d8576b\"],[0.6666666666666666,\"#ed7953\"],[0.7777777777777778,\"#fb9f3a\"],[0.8888888888888888,\"#fdca26\"],[1.0,\"#f0f921\"]],\"sequentialminus\":[[0.0,\"#0d0887\"],[0.1111111111111111,\"#46039f\"],[0.2222222222222222,\"#7201a8\"],[0.3333333333333333,\"#9c179e\"],[0.4444444444444444,\"#bd3786\"],[0.5555555555555556,\"#d8576b\"],[0.6666666666666666,\"#ed7953\"],[0.7777777777777778,\"#fb9f3a\"],[0.8888888888888888,\"#fdca26\"],[1.0,\"#f0f921\"]]},\"colorway\":[\"#636efa\",\"#EF553B\",\"#00cc96\",\"#ab63fa\",\"#FFA15A\",\"#19d3f3\",\"#FF6692\",\"#B6E880\",\"#FF97FF\",\"#FECB52\"],\"font\":{\"color\":\"#2a3f5f\"},\"geo\":{\"bgcolor\":\"white\",\"lakecolor\":\"white\",\"landcolor\":\"#E5ECF6\",\"showlakes\":true,\"showland\":true,\"subunitcolor\":\"white\"},\"hoverlabel\":{\"align\":\"left\"},\"hovermode\":\"closest\",\"mapbox\":{\"style\":\"light\"},\"paper_bgcolor\":\"white\",\"plot_bgcolor\":\"#E5ECF6\",\"polar\":{\"angularaxis\":{\"gridcolor\":\"white\",\"linecolor\":\"white\",\"ticks\":\"\"},\"bgcolor\":\"#E5ECF6\",\"radialaxis\":{\"gridcolor\":\"white\",\"linecolor\":\"white\",\"ticks\":\"\"}},\"scene\":{\"xaxis\":{\"backgroundcolor\":\"#E5ECF6\",\"gridcolor\":\"white\",\"gridwidth\":2,\"linecolor\":\"white\",\"showbackground\":true,\"ticks\":\"\",\"zerolinecolor\":\"white\"},\"yaxis\":{\"backgroundcolor\":\"#E5ECF6\",\"gridcolor\":\"white\",\"gridwidth\":2,\"linecolor\":\"white\",\"showbackground\":true,\"ticks\":\"\",\"zerolinecolor\":\"white\"},\"zaxis\":{\"backgroundcolor\":\"#E5ECF6\",\"gridcolor\":\"white\",\"gridwidth\":2,\"linecolor\":\"white\",\"showbackground\":true,\"ticks\":\"\",\"zerolinecolor\":\"white\"}},\"shapedefaults\":{\"line\":{\"color\":\"#2a3f5f\"}},\"ternary\":{\"aaxis\":{\"gridcolor\":\"white\",\"linecolor\":\"white\",\"ticks\":\"\"},\"baxis\":{\"gridcolor\":\"white\",\"linecolor\":\"white\",\"ticks\":\"\"},\"bgcolor\":\"#E5ECF6\",\"caxis\":{\"gridcolor\":\"white\",\"linecolor\":\"white\",\"ticks\":\"\"}},\"title\":{\"x\":0.05},\"xaxis\":{\"automargin\":true,\"gridcolor\":\"white\",\"linecolor\":\"white\",\"ticks\":\"\",\"title\":{\"standoff\":15},\"zerolinecolor\":\"white\",\"zerolinewidth\":2},\"yaxis\":{\"automargin\":true,\"gridcolor\":\"white\",\"linecolor\":\"white\",\"ticks\":\"\",\"title\":{\"standoff\":15},\"zerolinecolor\":\"white\",\"zerolinewidth\":2}}},\"xaxis\":{\"title\":{\"text\":\"\\u03bb\"},\"type\":\"category\",\"linecolor\":\"black\"},\"yaxis\":{\"title\":{\"text\":\"\\u03f5\"},\"type\":\"category\",\"linecolor\":\"black\"},\"coloraxis\":{\"colorscale\":[[0.0,\"rgb(254, 245, 244)\"],[0.09090909090909091,\"rgb(222, 224, 210)\"],[0.18181818181818182,\"rgb(189, 206, 181)\"],[0.2727272727272727,\"rgb(153, 189, 156)\"],[0.36363636363636365,\"rgb(110, 173, 138)\"],[0.45454545454545453,\"rgb(65, 157, 129)\"],[0.5454545454545454,\"rgb(25, 137, 125)\"],[0.6363636363636364,\"rgb(18, 116, 117)\"],[0.7272727272727273,\"rgb(25, 94, 106)\"],[0.8181818181818182,\"rgb(28, 72, 93)\"],[0.9090909090909091,\"rgb(25, 51, 80)\"],[1.0,\"rgb(20, 29, 67)\"]],\"colorbar\":{\"title\":{\"text\":\"Relative error in Rt\"}}},\"boxmode\":\"group\",\"height\":500,\"width\":500,\"plot_bgcolor\":\"white\"},                        {\"responsive\": true}                    ).then(function(){\n",
       "                            \n",
       "var gd = document.getElementById('d05aceea-2e90-4b53-85e2-a01c7a21d5ac');\n",
       "var x = new MutationObserver(function (mutations, observer) {{\n",
       "        var display = window.getComputedStyle(gd).display;\n",
       "        if (!display || display === 'none') {{\n",
       "            console.log([gd, 'removed!']);\n",
       "            Plotly.purge(gd);\n",
       "            observer.disconnect();\n",
       "        }}\n",
       "}});\n",
       "\n",
       "// Listen for the removal of the full notebook cells\n",
       "var notebookContainer = gd.closest('#notebook-container');\n",
       "if (notebookContainer) {{\n",
       "    x.observe(notebookContainer, {childList: true});\n",
       "}}\n",
       "\n",
       "// Listen for the clearing of the current output cell\n",
       "var outputEl = gd.closest('.output');\n",
       "if (outputEl) {{\n",
       "    x.observe(outputEl, {childList: true});\n",
       "}}\n",
       "\n",
       "                        })                };                });            </script>        </div>"
      ]
     },
     "metadata": {},
     "output_type": "display_data"
    }
   ],
   "source": [
    "fig = go.Figure()\n",
    "\n",
    "# Plot heatmap\n",
    "fig.add_trace(\n",
    "    go.Heatmap(\n",
    "        x=np.round(lambdas, 2),\n",
    "        y=np.round(epsilon_values, 2),\n",
    "        z=difference,\n",
    "        type = 'heatmap',\n",
    "        coloraxis= 'coloraxis',\n",
    "    ),\n",
    ")\n",
    "\n",
    "# Add axis labels\n",
    "fig.update_xaxes(type='category', title_text='λ')\n",
    "fig.update_yaxes(type='category', title_text='ϵ')\n",
    "\n",
    "fig.update_layout(\n",
    "    boxmode='group',\n",
    "    height=500,\n",
    "    width=500,\n",
    "    plot_bgcolor='white',\n",
    "    xaxis=dict(\n",
    "        linecolor='black'),\n",
    "    yaxis=dict(\n",
    "        linecolor='black'),\n",
    "    coloraxis=dict(colorscale='tempo'))\n",
    "\n",
    "\n",
    "fig.update_layout(\n",
    "    coloraxis_colorbar=dict(\n",
    "        title=\"Relative error in Rt\",\n",
    "    ),\n",
    ")\n",
    "\n",
    "fig.write_image('Heatmap.pdf')\n",
    "fig.show()"
   ]
  },
  {
   "cell_type": "code",
   "execution_count": null,
   "metadata": {},
   "outputs": [],
   "source": []
  }
 ],
 "metadata": {
  "interpreter": {
   "hash": "9a1edc82fdfb75c3b64a2a1e331992ba51087b4bcc20e5799465daad38af24d9"
  },
  "kernelspec": {
   "display_name": "Python 3 (ipykernel)",
   "language": "python",
   "name": "python3"
  },
  "language_info": {
   "codemirror_mode": {
    "name": "ipython",
    "version": 3
   },
   "file_extension": ".py",
   "mimetype": "text/x-python",
   "name": "python",
   "nbconvert_exporter": "python",
   "pygments_lexer": "ipython3",
   "version": "3.9.7"
  }
 },
 "nbformat": 4,
 "nbformat_minor": 2
}
