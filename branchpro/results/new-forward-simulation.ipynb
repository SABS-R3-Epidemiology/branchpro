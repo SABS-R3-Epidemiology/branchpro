{
 "cells": [
  {
   "cell_type": "markdown",
   "metadata": {},
   "source": [
    "# Differences in behaviour of Rt Profile for Different Infectiousness Levels of Imported Cases\n",
    "\n",
    "The aim of this notebook is to show how different values the epsilon parameter can affect the outcome of the epidemic. This effect is studied through the behaviour of the time-dependent reproduction number trajectory. Epsilon represents the proportionality constant of the reproduction number for imported cases with respect to its analog for local ones. For this analysis we will use an Rt profile from real data from Hong Kong, China with an assumed infectioness of imported cases equal to that of the local ones (i.e. epsilon = 1).\n",
    "\n",
    "This Rt profile will then be used together with synthetically generated imported cases to produce local incidences for a given 'true' value of epsilon. We will proceed to infer the Rt profile for both the true value of epsilon and for epsilon = 1 (for the most common scenario when no distinguishing is made between the imported and the local cases)."
   ]
  },
  {
   "cell_type": "code",
   "execution_count": 1,
   "metadata": {},
   "outputs": [
    {
     "name": "stderr",
     "output_type": "stream",
     "text": [
      "/Users/ioaros/Desktop/Software Project/branchpro/branchpro/apps/_dash_app.py:18: UserWarning: \n",
      "The dash_html_components package is deprecated. Please replace\n",
      "`import dash_html_components as html` with `from dash import html`\n",
      "  import dash_html_components as html\n",
      "/Users/ioaros/Desktop/Software Project/branchpro/branchpro/apps/_simulation.py:15: UserWarning: \n",
      "The dash_core_components package is deprecated. Please replace\n",
      "`import dash_core_components as dcc` with `from dash import dcc`\n",
      "  import dash_core_components as dcc\n"
     ]
    }
   ],
   "source": [
    "# Import libraries\n",
    "import numpy as np\n",
    "import branchpro\n",
    "import plotly.graph_objects as go\n",
    "from matplotlib import pyplot as plt\n",
    "import os\n",
    "import pandas as pd\n",
    "import scipy.stats\n",
    "import datetime"
   ]
  },
  {
   "cell_type": "code",
   "execution_count": 2,
   "metadata": {},
   "outputs": [],
   "source": [
    "# Read serial interval\n",
    "si_file = 'si-epinow'\n",
    "path = os.path.join('../data_library/serial_interval', '{}.csv'.format(si_file))\n",
    "serial_interval = pd.read_csv(path, header=None)\n",
    "serial_interval = serial_interval.fillna(0)\n",
    "serial_intervals = serial_interval.values.T"
   ]
  },
  {
   "cell_type": "code",
   "execution_count": 3,
   "metadata": {},
   "outputs": [],
   "source": [
    "# Select length of timeline for the analysis\n",
    "num_timepoints = 50\n",
    "\n",
    "start_times = np.arange(1, num_timepoints+1, dtype=int)\n",
    "times = np.arange(num_timepoints+1)"
   ]
  },
  {
   "cell_type": "markdown",
   "metadata": {},
   "source": [
    "### A Reproduction Number trajectory inferred from a world example data is used for realistic results"
   ]
  },
  {
   "cell_type": "code",
   "execution_count": 4,
   "metadata": {},
   "outputs": [],
   "source": [
    "# Read Rt trajectory\n",
    "rt_file = 'HK-Rt-profile'\n",
    "path = os.path.join('../data_library/rt_profile', '{}.csv'.format(rt_file))\n",
    "rt_profile = pd.read_csv(path)"
   ]
  },
  {
   "cell_type": "markdown",
   "metadata": {},
   "source": [
    "### Imported Cases Counts are produced by sampling from a Poisson distribution with mean λ"
   ]
  },
  {
   "cell_type": "code",
   "execution_count": 5,
   "metadata": {},
   "outputs": [],
   "source": [
    "# Build the imported cases\n",
    "ic_mean = 5\n",
    "num_sim_imported = 100\n",
    "\n",
    "imported_times = np.arange(1,(num_timepoints+1))\n",
    "\n",
    "sample_imported_cases = []\n",
    "\n",
    "# Multiple samples of imported cases data\n",
    "for sim in range(num_sim_imported):\n",
    "    sample_imported_cases.append(scipy.stats.poisson.rvs(ic_mean, size=num_timepoints))\n",
    "\n",
    "all_imported_cases = np.vstack(sample_imported_cases)"
   ]
  },
  {
   "cell_type": "markdown",
   "metadata": {},
   "source": [
    "### Generate Local Incidences using the previously generated Imported Cases, according to the read-in Rt profile"
   ]
  },
  {
   "cell_type": "code",
   "execution_count": 6,
   "metadata": {},
   "outputs": [],
   "source": [
    "# Construct LocImpBranchProModel object\n",
    "epsilon_values = np.linspace(0.1, 2, 20).tolist()\n",
    "lambdas = np.linspace(0.25, 2, 20).tolist()\n",
    "tau = 6\n",
    "R_t_start = tau+1\n",
    "\n",
    "# Set fixed parameters for the instantiaiton of the model\n",
    "r_profile = rt_profile['Mean'].values\n",
    "r_start_times = rt_profile['Time Points'].values.tolist()\n",
    "\n",
    "initial_r = r_profile[0]\n",
    "si = np.median(serial_intervals, axis=0)\n",
    "parameters = 0 # initial number of cases\n",
    "\n",
    "all_local_cases = []\n",
    "num_sim_local = 1\n",
    "\n",
    "for _, epsilon in enumerate(epsilon_values):\n",
    "    lam_sample_local_cases = []\n",
    "    for l, lam in enumerate(lambdas):\n",
    "        m = branchpro.LocImpBranchProModel(initial_r, si, epsilon)\n",
    "\n",
    "        m.set_r_profile((lam * r_profile).tolist(), r_start_times)\n",
    "\n",
    "        ind_imp_sample_local_cases = []\n",
    "        for imported_cases in all_imported_cases:\n",
    "            m.set_imported_cases(start_times, imported_cases)\n",
    "\n",
    "            sample_local_cases = []\n",
    "            for sim in range(num_sim_local):\n",
    "                sample_local_cases.append(m.simulate(parameters, times)[1:])\n",
    "\n",
    "            ind_imp_sample_local_cases.append(np.vstack(sample_local_cases))\n",
    "\n",
    "        lam_sample_local_cases.append(np.vstack(ind_imp_sample_local_cases))\n",
    "    \n",
    "    all_local_cases.append(lam_sample_local_cases)"
   ]
  },
  {
   "cell_type": "markdown",
   "metadata": {},
   "source": [
    "### Inference of the Rt profile for the true choice of ϵ and for the baseline ϵ = 1"
   ]
  },
  {
   "cell_type": "code",
   "execution_count": 7,
   "metadata": {},
   "outputs": [],
   "source": [
    "# Define the divergence function between the two posterior summary dataframes\n",
    "def post_divergence(df1, df2):\n",
    "    return np.mean(np.absolute(df1['Mean']-df2['Mean']))"
   ]
  },
  {
   "cell_type": "code",
   "execution_count": 9,
   "metadata": {},
   "outputs": [],
   "source": [
    "# Inference R_t profile using the LocImpBranchProPosterior\n",
    "a = 1\n",
    "b = 0.2\n",
    "\n",
    "# Run comparative inferences for different values of epsilon and lambda\n",
    "difference = np.empty((len(epsilon_values), len(lambdas)))\n",
    "\n",
    "for _, epsilon in enumerate(epsilon_values):\n",
    "    for l, lam in enumerate(lambdas):\n",
    "        point_difference = []\n",
    "        for i, imported_cases in enumerate(all_imported_cases):\n",
    "            locally_infected_cases = all_local_cases[_][l][i]\n",
    "            # Transform our incidence data into pandas dataframes\n",
    "            inc_data = pd.DataFrame(\n",
    "                {\n",
    "                    'Time': start_times,\n",
    "                    'Incidence Number': locally_infected_cases\n",
    "                }\n",
    "            )\n",
    "\n",
    "            imported_inc_data = pd.DataFrame(\n",
    "                {\n",
    "                    'Time': start_times,\n",
    "                    'Incidence Number': imported_cases\n",
    "                }\n",
    "            )\n",
    "\n",
    "            # Run inference for the true value of epsilon\n",
    "            inference_true = branchpro.LocImpBranchProPosteriorMultSI(\n",
    "                inc_data=inc_data,\n",
    "                imported_inc_data=imported_inc_data,\n",
    "                epsilon=epsilon,\n",
    "                daily_serial_intervals=serial_intervals[:2, :],\n",
    "                alpha=a,\n",
    "                beta=b)\n",
    "\n",
    "            inference_true.run_inference(tau=tau)\n",
    "            intervals_true = inference_true.get_intervals(central_prob=0)\n",
    "\n",
    "            # Run inference for the baseline value of epsilon = 1\n",
    "            inference_baseline = branchpro.LocImpBranchProPosteriorMultSI(\n",
    "                inc_data=inc_data,\n",
    "                imported_inc_data=imported_inc_data,\n",
    "                epsilon=1,\n",
    "                daily_serial_intervals=serial_intervals[:2, :],\n",
    "                alpha=a,\n",
    "                beta=b)\n",
    "\n",
    "            inference_baseline.run_inference(tau=tau)\n",
    "            intervals_baseline = inference_baseline.get_intervals(central_prob=0)\n",
    "\n",
    "            # Compute divergence between the two posteriors\n",
    "            point_difference.append(post_divergence(intervals_true, intervals_baseline))\n",
    "\n",
    "        difference[_, l] = np.mean(np.array(point_difference))"
   ]
  },
  {
   "cell_type": "markdown",
   "metadata": {},
   "source": [
    "### Compute heatmap of the divergence between posteriors fitted the true and baseline ϵ for different values of ϵ and λ"
   ]
  },
  {
   "cell_type": "code",
   "execution_count": 10,
   "metadata": {},
   "outputs": [
    {
     "data": {
      "application/vnd.plotly.v1+json": {
       "config": {
        "plotlyServerURL": "https://plot.ly"
       },
       "data": [
        {
         "coloraxis": "coloraxis",
         "type": "heatmap",
         "x": [
          0.25,
          0.34,
          0.43,
          0.53,
          0.62,
          0.71,
          0.8,
          0.89,
          0.99,
          1.08,
          1.17,
          1.26,
          1.36,
          1.45,
          1.54,
          1.63,
          1.72,
          1.82,
          1.91,
          2
         ],
         "y": [
          0.1,
          0.2,
          0.3,
          0.4,
          0.5,
          0.6,
          0.7,
          0.8,
          0.9,
          1,
          1.1,
          1.2,
          1.3,
          1.4,
          1.5,
          1.6,
          1.7,
          1.8,
          1.9,
          2
         ],
         "z": [
          [
           0.36317446490494487,
           0.4203869858919077,
           0.45112262415819104,
           0.4824424901154402,
           0.5178959541703013,
           0.5507679612848202,
           0.569857063880963,
           0.599669693686918,
           0.607010019731777,
           0.6218800664776023,
           0.6229603041315817,
           0.6190359184357895,
           0.6149197372238216,
           0.6046385125407621,
           0.5946935979974766,
           0.5907592301714392,
           0.5828270115729886,
           0.5757237955333981,
           0.5683226852763255,
           0.5651155428873763
          ],
          [
           0.24236842124198898,
           0.28336858386427477,
           0.3134424451539875,
           0.3581229467673068,
           0.3828490945129221,
           0.40896080099980586,
           0.42188609584063064,
           0.43231007559304613,
           0.4358680179115104,
           0.43463821428734206,
           0.42610012675075515,
           0.4205451956705089,
           0.41211722785888905,
           0.40440100332838447,
           0.3992188413456109,
           0.39550510031603286,
           0.3878897286030933,
           0.386502913296001,
           0.3841996950917945,
           0.38104943492692556
          ],
          [
           0.18632607973635204,
           0.2193190219332751,
           0.2539358583952292,
           0.27977304370824546,
           0.30033277033986316,
           0.31545406813152604,
           0.3217541466579666,
           0.32586795405614205,
           0.3250597322670401,
           0.3209145266833415,
           0.31488270556100356,
           0.30714260212922984,
           0.30276568718294966,
           0.29680090756775135,
           0.2915232108293336,
           0.2888138758718805,
           0.28506230542747407,
           0.28515043690829567,
           0.28228444142244774,
           0.27962327198312836
          ],
          [
           0.1508080026553441,
           0.17694603591078842,
           0.20224368924715322,
           0.22012205843716529,
           0.23427527902939727,
           0.2439259200092747,
           0.24832346436838382,
           0.24866541266433526,
           0.2464800691743832,
           0.2429339062849131,
           0.23604014651054822,
           0.23076399750635107,
           0.22636821779116312,
           0.22279035564849192,
           0.2194230797622615,
           0.21738763969717945,
           0.2147591992283061,
           0.21351243019472713,
           0.2120920778908047,
           0.21165645159148422
          ],
          [
           0.11542906032080466,
           0.13899713229874716,
           0.1563773740733,
           0.17067397036866538,
           0.18136183978916687,
           0.18662710647781494,
           0.18867256524767154,
           0.18748563658323456,
           0.18453683318086442,
           0.18153983372448262,
           0.17764853109495646,
           0.17342069393276105,
           0.1693165790637362,
           0.16719049305803754,
           0.16426152355693924,
           0.16308866448786508,
           0.1615593871014455,
           0.159832517346635,
           0.159209163736586,
           0.15904662617482454
          ],
          [
           0.09027739002319496,
           0.10507152035339722,
           0.11819631858757512,
           0.12850751690068116,
           0.13525832365123633,
           0.13847938628966325,
           0.13910032027544642,
           0.13815306247809273,
           0.13569069714159826,
           0.1321588312656139,
           0.12912061788299092,
           0.12690270120910066,
           0.12399797808090492,
           0.12226106713606233,
           0.12027848459397614,
           0.11897369072409622,
           0.11819469397746646,
           0.11752175548202323,
           0.11647076724264842,
           0.1160397221201603
          ],
          [
           0.06468838427571015,
           0.07572806632055089,
           0.08522186818036062,
           0.09147939884224308,
           0.09545815556415356,
           0.09721164941650173,
           0.09752183672823682,
           0.09600573115167091,
           0.0941152316612462,
           0.09185524292172528,
           0.08967564880460208,
           0.08777003127281277,
           0.08590234122072743,
           0.08435722219221972,
           0.0835126387236975,
           0.08260486039801915,
           0.08215935688194045,
           0.08142916900413182,
           0.08089820885796829,
           0.08079645691420775
          ],
          [
           0.040807548976631906,
           0.04818198906593652,
           0.05397408959580317,
           0.0581797647383388,
           0.06003876159809885,
           0.06101331942718145,
           0.06066287443945519,
           0.05997266268529043,
           0.05867068413526175,
           0.0571603809831377,
           0.055576025288092835,
           0.05439038403151214,
           0.05349519051874768,
           0.052649805855910364,
           0.051851877790387114,
           0.051425590810439716,
           0.051071344716462574,
           0.05072573055343186,
           0.05040687024458937,
           0.05056256856813994
          ],
          [
           0.019909350286316515,
           0.02321115033252776,
           0.025991765008935137,
           0.027532684773432424,
           0.028476640904053382,
           0.028829014537354345,
           0.028595905900121902,
           0.028120443854788683,
           0.027431201577512804,
           0.026763710044972962,
           0.02623380406750651,
           0.025505231038096682,
           0.025146585996837528,
           0.024659314496715927,
           0.024381954037138005,
           0.02413538802700113,
           0.023998724837072244,
           0.023906317788334033,
           0.023825291732087174,
           0.0237408485763371
          ],
          [
           3.235541679541672e-17,
           3.878357583407124e-17,
           4.299693676037398e-17,
           4.608393769948433e-17,
           4.770731613374728e-17,
           4.730066467705317e-17,
           4.796228014230945e-17,
           4.5932250251352405e-17,
           4.3298697960381094e-17,
           4.3230922717598753e-17,
           4.355688936145672e-17,
           4.063287174427534e-17,
           4.125898589188374e-17,
           3.8722255376315776e-17,
           3.891589892712249e-17,
           3.7841177220145233e-17,
           3.902563027257963e-17,
           3.732156702548056e-17,
           4.071032916459804e-17,
           3.7463572296072135e-17
          ],
          [
           0.018919856083704792,
           0.021746177996963465,
           0.024089523452172763,
           0.02534672181725629,
           0.025986496513514114,
           0.02616298726668463,
           0.02577617725322788,
           0.025190348374468766,
           0.024675661249900265,
           0.023936603864387774,
           0.023330536065187108,
           0.022921798764772638,
           0.0224096283342292,
           0.02212810130813454,
           0.02187271702282972,
           0.021670856821573957,
           0.02151337502065288,
           0.02147589968006813,
           0.021364085779257556,
           0.02127690488733235
          ],
          [
           0.036323728580449806,
           0.04265969064096486,
           0.0462513798977344,
           0.048911187423193496,
           0.05005989550513223,
           0.04971939206861685,
           0.049127031432582964,
           0.048347044202270754,
           0.04683851134669775,
           0.045514693318392016,
           0.044455654999643955,
           0.043551420298370454,
           0.042622380901762395,
           0.042174971905941466,
           0.04159523181770411,
           0.041231696940558935,
           0.04103498737333789,
           0.04089379193723418,
           0.04067761177409272,
           0.04058957854638751
          ],
          [
           0.05336993005957858,
           0.061473398440707226,
           0.06737623262735114,
           0.07057932852602881,
           0.07191835810208037,
           0.07171044636169452,
           0.07073154414608691,
           0.06901054390868636,
           0.06686702916776877,
           0.06547376249968934,
           0.0635998086475917,
           0.06222886416818695,
           0.061382162826227556,
           0.060347310034887004,
           0.05975304339419308,
           0.059102935525468414,
           0.05872768417504126,
           0.058644554188070346,
           0.05834046793305027,
           0.05832901102232797
          ],
          [
           0.0689881595461803,
           0.07943513891525436,
           0.08670125622684809,
           0.09084457348250387,
           0.0920957850155623,
           0.09189552914582624,
           0.09026217712140099,
           0.08806981233068752,
           0.0855297240950828,
           0.08335384599307336,
           0.08125631004970904,
           0.079314630093741,
           0.07846733848577686,
           0.07728384068942257,
           0.07623763949053929,
           0.07557671676689791,
           0.07528186836099436,
           0.07493461005012242,
           0.07449750045542956,
           0.0747533365140808
          ],
          [
           0.0843988071450529,
           0.09704373537929463,
           0.10551335406420384,
           0.10934079219887315,
           0.11115710793380132,
           0.11027357894489612,
           0.10836565623974707,
           0.10615948168187098,
           0.10249319997948236,
           0.10000710261035697,
           0.09743506698646222,
           0.09529640011829495,
           0.09371009611299709,
           0.0926912710128355,
           0.0916146083536529,
           0.09096944047033802,
           0.0905777579141815,
           0.09003974282280618,
           0.08991038335583867,
           0.08950385967142475
          ],
          [
           0.09910506233278975,
           0.1134418374555695,
           0.12206287702598718,
           0.12776949036192117,
           0.12853154967163538,
           0.1277764241422215,
           0.12520129920731754,
           0.12190213525275649,
           0.118094663418369,
           0.11513052941886262,
           0.1120486587349712,
           0.11038758167285982,
           0.10803008508080132,
           0.10716532129831753,
           0.10588788539578406,
           0.10555275947364556,
           0.10470152339157153,
           0.10393372694539012,
           0.10373279095173554,
           0.10341388367808393
          ],
          [
           0.1122174049616702,
           0.128992472263789,
           0.13878391436192805,
           0.14416230243979014,
           0.14510550947002188,
           0.14340527555362548,
           0.14056294039709782,
           0.13687289397953162,
           0.13356429519267543,
           0.12994232577780052,
           0.12636982242140532,
           0.12393967558343548,
           0.12229645919268722,
           0.12032393928684135,
           0.11903554778180431,
           0.11818990827535285,
           0.11747144058967467,
           0.11752514121912512,
           0.11709571760340304,
           0.11652951378004582
          ],
          [
           0.12624251954448826,
           0.14368370365849248,
           0.15417104536496404,
           0.15941579299562872,
           0.16068737112275389,
           0.1585131649180977,
           0.15530297503203938,
           0.1513342861059971,
           0.14693014652590614,
           0.14275680056917875,
           0.1399280330290508,
           0.1366956800245646,
           0.13460628769376032,
           0.1327602977524559,
           0.13148141061599886,
           0.1310569159149569,
           0.12966898085675832,
           0.12962465582446225,
           0.1293273914207121,
           0.12911273726059683
          ],
          [
           0.13803401615107755,
           0.15835787972811016,
           0.16955870430401462,
           0.17435332181135174,
           0.1753254522529382,
           0.17321209858588726,
           0.1693100370214558,
           0.16445870277221578,
           0.15967151774553423,
           0.15505005038959388,
           0.15201395064225148,
           0.14863972952530635,
           0.1466017350976675,
           0.1449513243499889,
           0.14291586455470834,
           0.1415705858779234,
           0.14066053586137506,
           0.1411894507662063,
           0.13971552214997643,
           0.14002352295814982
          ],
          [
           0.15092260562994192,
           0.17150808889403474,
           0.1824169618324494,
           0.18845637259776002,
           0.18939185589725568,
           0.1865189810630671,
           0.18179102353155843,
           0.1774746164008282,
           0.17203372765454936,
           0.16728663958433757,
           0.16379254063878065,
           0.16008490038187,
           0.1570969324917475,
           0.1548890731572541,
           0.15443062394861548,
           0.15341945604180338,
           0.1521910302651574,
           0.1520508755705424,
           0.15134692563603808,
           0.1513480953843503
          ]
         ]
        }
       ],
       "layout": {
        "boxmode": "group",
        "coloraxis": {
         "colorscale": [
          [
           0,
           "#440154"
          ],
          [
           0.1111111111111111,
           "#482878"
          ],
          [
           0.2222222222222222,
           "#3e4989"
          ],
          [
           0.3333333333333333,
           "#31688e"
          ],
          [
           0.4444444444444444,
           "#26828e"
          ],
          [
           0.5555555555555556,
           "#1f9e89"
          ],
          [
           0.6666666666666666,
           "#35b779"
          ],
          [
           0.7777777777777778,
           "#6ece58"
          ],
          [
           0.8888888888888888,
           "#b5de2b"
          ],
          [
           1,
           "#fde725"
          ]
         ]
        },
        "height": 500,
        "plot_bgcolor": "white",
        "template": {
         "data": {
          "bar": [
           {
            "error_x": {
             "color": "#2a3f5f"
            },
            "error_y": {
             "color": "#2a3f5f"
            },
            "marker": {
             "line": {
              "color": "#E5ECF6",
              "width": 0.5
             },
             "pattern": {
              "fillmode": "overlay",
              "size": 10,
              "solidity": 0.2
             }
            },
            "type": "bar"
           }
          ],
          "barpolar": [
           {
            "marker": {
             "line": {
              "color": "#E5ECF6",
              "width": 0.5
             },
             "pattern": {
              "fillmode": "overlay",
              "size": 10,
              "solidity": 0.2
             }
            },
            "type": "barpolar"
           }
          ],
          "carpet": [
           {
            "aaxis": {
             "endlinecolor": "#2a3f5f",
             "gridcolor": "white",
             "linecolor": "white",
             "minorgridcolor": "white",
             "startlinecolor": "#2a3f5f"
            },
            "baxis": {
             "endlinecolor": "#2a3f5f",
             "gridcolor": "white",
             "linecolor": "white",
             "minorgridcolor": "white",
             "startlinecolor": "#2a3f5f"
            },
            "type": "carpet"
           }
          ],
          "choropleth": [
           {
            "colorbar": {
             "outlinewidth": 0,
             "ticks": ""
            },
            "type": "choropleth"
           }
          ],
          "contour": [
           {
            "colorbar": {
             "outlinewidth": 0,
             "ticks": ""
            },
            "colorscale": [
             [
              0,
              "#0d0887"
             ],
             [
              0.1111111111111111,
              "#46039f"
             ],
             [
              0.2222222222222222,
              "#7201a8"
             ],
             [
              0.3333333333333333,
              "#9c179e"
             ],
             [
              0.4444444444444444,
              "#bd3786"
             ],
             [
              0.5555555555555556,
              "#d8576b"
             ],
             [
              0.6666666666666666,
              "#ed7953"
             ],
             [
              0.7777777777777778,
              "#fb9f3a"
             ],
             [
              0.8888888888888888,
              "#fdca26"
             ],
             [
              1,
              "#f0f921"
             ]
            ],
            "type": "contour"
           }
          ],
          "contourcarpet": [
           {
            "colorbar": {
             "outlinewidth": 0,
             "ticks": ""
            },
            "type": "contourcarpet"
           }
          ],
          "heatmap": [
           {
            "colorbar": {
             "outlinewidth": 0,
             "ticks": ""
            },
            "colorscale": [
             [
              0,
              "#0d0887"
             ],
             [
              0.1111111111111111,
              "#46039f"
             ],
             [
              0.2222222222222222,
              "#7201a8"
             ],
             [
              0.3333333333333333,
              "#9c179e"
             ],
             [
              0.4444444444444444,
              "#bd3786"
             ],
             [
              0.5555555555555556,
              "#d8576b"
             ],
             [
              0.6666666666666666,
              "#ed7953"
             ],
             [
              0.7777777777777778,
              "#fb9f3a"
             ],
             [
              0.8888888888888888,
              "#fdca26"
             ],
             [
              1,
              "#f0f921"
             ]
            ],
            "type": "heatmap"
           }
          ],
          "heatmapgl": [
           {
            "colorbar": {
             "outlinewidth": 0,
             "ticks": ""
            },
            "colorscale": [
             [
              0,
              "#0d0887"
             ],
             [
              0.1111111111111111,
              "#46039f"
             ],
             [
              0.2222222222222222,
              "#7201a8"
             ],
             [
              0.3333333333333333,
              "#9c179e"
             ],
             [
              0.4444444444444444,
              "#bd3786"
             ],
             [
              0.5555555555555556,
              "#d8576b"
             ],
             [
              0.6666666666666666,
              "#ed7953"
             ],
             [
              0.7777777777777778,
              "#fb9f3a"
             ],
             [
              0.8888888888888888,
              "#fdca26"
             ],
             [
              1,
              "#f0f921"
             ]
            ],
            "type": "heatmapgl"
           }
          ],
          "histogram": [
           {
            "marker": {
             "pattern": {
              "fillmode": "overlay",
              "size": 10,
              "solidity": 0.2
             }
            },
            "type": "histogram"
           }
          ],
          "histogram2d": [
           {
            "colorbar": {
             "outlinewidth": 0,
             "ticks": ""
            },
            "colorscale": [
             [
              0,
              "#0d0887"
             ],
             [
              0.1111111111111111,
              "#46039f"
             ],
             [
              0.2222222222222222,
              "#7201a8"
             ],
             [
              0.3333333333333333,
              "#9c179e"
             ],
             [
              0.4444444444444444,
              "#bd3786"
             ],
             [
              0.5555555555555556,
              "#d8576b"
             ],
             [
              0.6666666666666666,
              "#ed7953"
             ],
             [
              0.7777777777777778,
              "#fb9f3a"
             ],
             [
              0.8888888888888888,
              "#fdca26"
             ],
             [
              1,
              "#f0f921"
             ]
            ],
            "type": "histogram2d"
           }
          ],
          "histogram2dcontour": [
           {
            "colorbar": {
             "outlinewidth": 0,
             "ticks": ""
            },
            "colorscale": [
             [
              0,
              "#0d0887"
             ],
             [
              0.1111111111111111,
              "#46039f"
             ],
             [
              0.2222222222222222,
              "#7201a8"
             ],
             [
              0.3333333333333333,
              "#9c179e"
             ],
             [
              0.4444444444444444,
              "#bd3786"
             ],
             [
              0.5555555555555556,
              "#d8576b"
             ],
             [
              0.6666666666666666,
              "#ed7953"
             ],
             [
              0.7777777777777778,
              "#fb9f3a"
             ],
             [
              0.8888888888888888,
              "#fdca26"
             ],
             [
              1,
              "#f0f921"
             ]
            ],
            "type": "histogram2dcontour"
           }
          ],
          "mesh3d": [
           {
            "colorbar": {
             "outlinewidth": 0,
             "ticks": ""
            },
            "type": "mesh3d"
           }
          ],
          "parcoords": [
           {
            "line": {
             "colorbar": {
              "outlinewidth": 0,
              "ticks": ""
             }
            },
            "type": "parcoords"
           }
          ],
          "pie": [
           {
            "automargin": true,
            "type": "pie"
           }
          ],
          "scatter": [
           {
            "marker": {
             "colorbar": {
              "outlinewidth": 0,
              "ticks": ""
             }
            },
            "type": "scatter"
           }
          ],
          "scatter3d": [
           {
            "line": {
             "colorbar": {
              "outlinewidth": 0,
              "ticks": ""
             }
            },
            "marker": {
             "colorbar": {
              "outlinewidth": 0,
              "ticks": ""
             }
            },
            "type": "scatter3d"
           }
          ],
          "scattercarpet": [
           {
            "marker": {
             "colorbar": {
              "outlinewidth": 0,
              "ticks": ""
             }
            },
            "type": "scattercarpet"
           }
          ],
          "scattergeo": [
           {
            "marker": {
             "colorbar": {
              "outlinewidth": 0,
              "ticks": ""
             }
            },
            "type": "scattergeo"
           }
          ],
          "scattergl": [
           {
            "marker": {
             "colorbar": {
              "outlinewidth": 0,
              "ticks": ""
             }
            },
            "type": "scattergl"
           }
          ],
          "scattermapbox": [
           {
            "marker": {
             "colorbar": {
              "outlinewidth": 0,
              "ticks": ""
             }
            },
            "type": "scattermapbox"
           }
          ],
          "scatterpolar": [
           {
            "marker": {
             "colorbar": {
              "outlinewidth": 0,
              "ticks": ""
             }
            },
            "type": "scatterpolar"
           }
          ],
          "scatterpolargl": [
           {
            "marker": {
             "colorbar": {
              "outlinewidth": 0,
              "ticks": ""
             }
            },
            "type": "scatterpolargl"
           }
          ],
          "scatterternary": [
           {
            "marker": {
             "colorbar": {
              "outlinewidth": 0,
              "ticks": ""
             }
            },
            "type": "scatterternary"
           }
          ],
          "surface": [
           {
            "colorbar": {
             "outlinewidth": 0,
             "ticks": ""
            },
            "colorscale": [
             [
              0,
              "#0d0887"
             ],
             [
              0.1111111111111111,
              "#46039f"
             ],
             [
              0.2222222222222222,
              "#7201a8"
             ],
             [
              0.3333333333333333,
              "#9c179e"
             ],
             [
              0.4444444444444444,
              "#bd3786"
             ],
             [
              0.5555555555555556,
              "#d8576b"
             ],
             [
              0.6666666666666666,
              "#ed7953"
             ],
             [
              0.7777777777777778,
              "#fb9f3a"
             ],
             [
              0.8888888888888888,
              "#fdca26"
             ],
             [
              1,
              "#f0f921"
             ]
            ],
            "type": "surface"
           }
          ],
          "table": [
           {
            "cells": {
             "fill": {
              "color": "#EBF0F8"
             },
             "line": {
              "color": "white"
             }
            },
            "header": {
             "fill": {
              "color": "#C8D4E3"
             },
             "line": {
              "color": "white"
             }
            },
            "type": "table"
           }
          ]
         },
         "layout": {
          "annotationdefaults": {
           "arrowcolor": "#2a3f5f",
           "arrowhead": 0,
           "arrowwidth": 1
          },
          "autotypenumbers": "strict",
          "coloraxis": {
           "colorbar": {
            "outlinewidth": 0,
            "ticks": ""
           }
          },
          "colorscale": {
           "diverging": [
            [
             0,
             "#8e0152"
            ],
            [
             0.1,
             "#c51b7d"
            ],
            [
             0.2,
             "#de77ae"
            ],
            [
             0.3,
             "#f1b6da"
            ],
            [
             0.4,
             "#fde0ef"
            ],
            [
             0.5,
             "#f7f7f7"
            ],
            [
             0.6,
             "#e6f5d0"
            ],
            [
             0.7,
             "#b8e186"
            ],
            [
             0.8,
             "#7fbc41"
            ],
            [
             0.9,
             "#4d9221"
            ],
            [
             1,
             "#276419"
            ]
           ],
           "sequential": [
            [
             0,
             "#0d0887"
            ],
            [
             0.1111111111111111,
             "#46039f"
            ],
            [
             0.2222222222222222,
             "#7201a8"
            ],
            [
             0.3333333333333333,
             "#9c179e"
            ],
            [
             0.4444444444444444,
             "#bd3786"
            ],
            [
             0.5555555555555556,
             "#d8576b"
            ],
            [
             0.6666666666666666,
             "#ed7953"
            ],
            [
             0.7777777777777778,
             "#fb9f3a"
            ],
            [
             0.8888888888888888,
             "#fdca26"
            ],
            [
             1,
             "#f0f921"
            ]
           ],
           "sequentialminus": [
            [
             0,
             "#0d0887"
            ],
            [
             0.1111111111111111,
             "#46039f"
            ],
            [
             0.2222222222222222,
             "#7201a8"
            ],
            [
             0.3333333333333333,
             "#9c179e"
            ],
            [
             0.4444444444444444,
             "#bd3786"
            ],
            [
             0.5555555555555556,
             "#d8576b"
            ],
            [
             0.6666666666666666,
             "#ed7953"
            ],
            [
             0.7777777777777778,
             "#fb9f3a"
            ],
            [
             0.8888888888888888,
             "#fdca26"
            ],
            [
             1,
             "#f0f921"
            ]
           ]
          },
          "colorway": [
           "#636efa",
           "#EF553B",
           "#00cc96",
           "#ab63fa",
           "#FFA15A",
           "#19d3f3",
           "#FF6692",
           "#B6E880",
           "#FF97FF",
           "#FECB52"
          ],
          "font": {
           "color": "#2a3f5f"
          },
          "geo": {
           "bgcolor": "white",
           "lakecolor": "white",
           "landcolor": "#E5ECF6",
           "showlakes": true,
           "showland": true,
           "subunitcolor": "white"
          },
          "hoverlabel": {
           "align": "left"
          },
          "hovermode": "closest",
          "mapbox": {
           "style": "light"
          },
          "paper_bgcolor": "white",
          "plot_bgcolor": "#E5ECF6",
          "polar": {
           "angularaxis": {
            "gridcolor": "white",
            "linecolor": "white",
            "ticks": ""
           },
           "bgcolor": "#E5ECF6",
           "radialaxis": {
            "gridcolor": "white",
            "linecolor": "white",
            "ticks": ""
           }
          },
          "scene": {
           "xaxis": {
            "backgroundcolor": "#E5ECF6",
            "gridcolor": "white",
            "gridwidth": 2,
            "linecolor": "white",
            "showbackground": true,
            "ticks": "",
            "zerolinecolor": "white"
           },
           "yaxis": {
            "backgroundcolor": "#E5ECF6",
            "gridcolor": "white",
            "gridwidth": 2,
            "linecolor": "white",
            "showbackground": true,
            "ticks": "",
            "zerolinecolor": "white"
           },
           "zaxis": {
            "backgroundcolor": "#E5ECF6",
            "gridcolor": "white",
            "gridwidth": 2,
            "linecolor": "white",
            "showbackground": true,
            "ticks": "",
            "zerolinecolor": "white"
           }
          },
          "shapedefaults": {
           "line": {
            "color": "#2a3f5f"
           }
          },
          "ternary": {
           "aaxis": {
            "gridcolor": "white",
            "linecolor": "white",
            "ticks": ""
           },
           "baxis": {
            "gridcolor": "white",
            "linecolor": "white",
            "ticks": ""
           },
           "bgcolor": "#E5ECF6",
           "caxis": {
            "gridcolor": "white",
            "linecolor": "white",
            "ticks": ""
           }
          },
          "title": {
           "x": 0.05
          },
          "xaxis": {
           "automargin": true,
           "gridcolor": "white",
           "linecolor": "white",
           "ticks": "",
           "title": {
            "standoff": 15
           },
           "zerolinecolor": "white",
           "zerolinewidth": 2
          },
          "yaxis": {
           "automargin": true,
           "gridcolor": "white",
           "linecolor": "white",
           "ticks": "",
           "title": {
            "standoff": 15
           },
           "zerolinecolor": "white",
           "zerolinewidth": 2
          }
         }
        },
        "width": 500,
        "xaxis": {
         "linecolor": "black",
         "title": {
          "text": "λ"
         },
         "type": "category"
        },
        "yaxis": {
         "linecolor": "black",
         "title": {
          "text": "ϵ"
         },
         "type": "category"
        }
       }
      }
     },
     "metadata": {},
     "output_type": "display_data"
    }
   ],
   "source": [
    "fig = go.Figure()\n",
    "\n",
    "# Plot heatmap\n",
    "fig.add_trace(\n",
    "    go.Heatmap(\n",
    "        x=np.round(lambdas, 2),\n",
    "        y=np.round(epsilon_values, 2),\n",
    "        z=difference,\n",
    "        type = 'heatmap',\n",
    "        coloraxis= 'coloraxis'\n",
    "    ),\n",
    ")\n",
    "\n",
    "# Add axis labels\n",
    "fig.update_xaxes(type='category', title_text='λ')\n",
    "fig.update_yaxes(type='category', title_text='ϵ')\n",
    "\n",
    "fig.update_layout(\n",
    "    boxmode='group',\n",
    "    height=500,\n",
    "    width=500,\n",
    "    plot_bgcolor='white',\n",
    "    xaxis=dict(\n",
    "        linecolor='black'),\n",
    "    yaxis=dict(\n",
    "        linecolor='black'),\n",
    "    coloraxis=dict(colorscale='Viridis'))\n",
    "\n",
    "fig.write_image('Heatmap.pdf')\n",
    "fig.show()"
   ]
  }
 ],
 "metadata": {
  "interpreter": {
   "hash": "9a1edc82fdfb75c3b64a2a1e331992ba51087b4bcc20e5799465daad38af24d9"
  },
  "kernelspec": {
   "display_name": "Python 3.9.7 64-bit ('branchpro': conda)",
   "name": "python3"
  },
  "language_info": {
   "codemirror_mode": {
    "name": "ipython",
    "version": 3
   },
   "file_extension": ".py",
   "mimetype": "text/x-python",
   "name": "python",
   "nbconvert_exporter": "python",
   "pygments_lexer": "ipython3",
   "version": "3.9.7"
  },
  "orig_nbformat": 4
 },
 "nbformat": 4,
 "nbformat_minor": 2
}
