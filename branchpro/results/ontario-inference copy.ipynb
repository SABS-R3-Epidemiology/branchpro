{
 "metadata": {
  "language_info": {
   "codemirror_mode": {
    "name": "ipython",
    "version": 3
   },
   "file_extension": ".py",
   "mimetype": "text/x-python",
   "name": "python",
   "nbconvert_exporter": "python",
   "pygments_lexer": "ipython3",
   "version": "3.8.5-final"
  },
  "orig_nbformat": 2,
  "kernelspec": {
   "name": "python3",
   "display_name": "Python 3",
   "language": "python"
  }
 },
 "nbformat": 4,
 "nbformat_minor": 2,
 "cells": [
  {
   "source": [
    "# Inference on New Zealand data and observe effects of epsilon"
   ],
   "cell_type": "markdown",
   "metadata": {}
  },
  {
   "source": [
    "## Load all information and modify them to the correct format"
   ],
   "cell_type": "markdown",
   "metadata": {}
  },
  {
   "cell_type": "code",
   "execution_count": 9,
   "metadata": {},
   "outputs": [
    {
     "output_type": "error",
     "ename": "ModuleNotFoundError",
     "evalue": "No module named 'numpy'",
     "traceback": [
      "\u001b[0;31m---------------------------------------------------------------------------\u001b[0m",
      "\u001b[0;31mModuleNotFoundError\u001b[0m                       Traceback (most recent call last)",
      "\u001b[0;32m<ipython-input-9-91f14cf501ee>\u001b[0m in \u001b[0;36m<module>\u001b[0;34m\u001b[0m\n\u001b[1;32m      1\u001b[0m \u001b[0;31m# Import libraries\u001b[0m\u001b[0;34m\u001b[0m\u001b[0;34m\u001b[0m\u001b[0;34m\u001b[0m\u001b[0m\n\u001b[0;32m----> 2\u001b[0;31m \u001b[0;32mimport\u001b[0m \u001b[0mnumpy\u001b[0m \u001b[0;32mas\u001b[0m \u001b[0mnp\u001b[0m\u001b[0;34m\u001b[0m\u001b[0;34m\u001b[0m\u001b[0m\n\u001b[0m\u001b[1;32m      3\u001b[0m \u001b[0;32mimport\u001b[0m \u001b[0mmath\u001b[0m\u001b[0;34m\u001b[0m\u001b[0;34m\u001b[0m\u001b[0m\n\u001b[1;32m      4\u001b[0m \u001b[0;32mimport\u001b[0m \u001b[0mbranchpro\u001b[0m\u001b[0;34m\u001b[0m\u001b[0;34m\u001b[0m\u001b[0m\n\u001b[1;32m      5\u001b[0m \u001b[0;32mimport\u001b[0m \u001b[0mscipy\u001b[0m\u001b[0;34m.\u001b[0m\u001b[0mstats\u001b[0m\u001b[0;34m\u001b[0m\u001b[0;34m\u001b[0m\u001b[0m\n",
      "\u001b[0;31mModuleNotFoundError\u001b[0m: No module named 'numpy'"
     ]
    }
   ],
   "source": [
    "# Import libraries\n",
    "import numpy as np\n",
    "import math\n",
    "import branchpro\n",
    "import scipy.stats\n",
    "import matplotlib\n",
    "import plotly.graph_objects as go\n",
    "from matplotlib import pyplot as plt\n",
    "import os\n",
    "import pandas as pd\n"
   ]
  },
  {
   "cell_type": "code",
   "execution_count": 3,
   "metadata": {},
   "outputs": [],
   "source": [
    "# Read serial interval\n",
    "si_file = 'si-epinow'\n",
    "path = os.path.join('../data_library/serial_interval', '{}.csv'.format(si_file))\n",
    "serial_interval = pd.read_csv(path, header=None)\n",
    "serial_interval = serial_interval.fillna(0)\n",
    "serial_intervals = serial_interval.values.T"
   ]
  },
  {
   "cell_type": "code",
   "execution_count": 4,
   "metadata": {},
   "outputs": [],
   "source": [
    "# Read Ontario data\n",
    "path = os.path.join('../data_library/covid_ontario/ON.csv')\n",
    "data = pd.read_csv(path)[:51]"
   ]
  },
  {
   "cell_type": "code",
   "execution_count": 5,
   "metadata": {},
   "outputs": [],
   "source": [
    "time_key = 'Time'\n",
    "num_timepoints = max(data[time_key])\n",
    "data_times = data[time_key]\n",
    "\n",
    "# Pad with zeros the time points where we have no information on\n",
    "# the number of incidences\n",
    "padded_inc_data = data.set_index(time_key).reindex(\n",
    "    range(\n",
    "        1, max(data_times)+1)\n",
    "        ).fillna(0).reset_index()\n",
    "locally_infected_cases = padded_inc_data['Incidence Number']\n",
    "imported_cases = padded_inc_data['Imported Cases']\n",
    "\n",
    "start_times = np.arange(1, num_timepoints+1, dtype=int)\n",
    "times = np.arange(num_timepoints+1)"
   ]
  },
  {
   "cell_type": "code",
   "execution_count": 6,
   "metadata": {},
   "outputs": [
    {
     "output_type": "display_data",
     "data": {
      "application/vnd.plotly.v1+json": {
       "config": {
        "plotlyServerURL": "https://plot.ly"
       },
       "data": [
        {
         "name": "Local Incidences",
         "type": "bar",
         "x": [
          0,
          1,
          2,
          3,
          4,
          5,
          6,
          7,
          8,
          9,
          10,
          11,
          12,
          13,
          14,
          15,
          16,
          17,
          18,
          19,
          20,
          21,
          22,
          23,
          24,
          25,
          26,
          27,
          28,
          29,
          30,
          31,
          32,
          33,
          34,
          35,
          36,
          37,
          38,
          39,
          40,
          41,
          42,
          43,
          44,
          45,
          46,
          47,
          48,
          49,
          50,
          51
         ],
         "y": [
          0,
          0,
          0,
          0,
          0,
          1,
          0,
          1,
          1,
          3,
          7,
          11,
          10,
          7,
          5,
          19,
          17,
          28,
          37,
          52,
          44,
          58,
          95,
          111,
          92,
          173,
          201,
          157,
          176,
          323,
          311,
          367,
          378,
          404,
          317,
          343,
          440,
          433,
          464,
          449,
          378,
          456,
          518,
          579,
          546,
          605,
          566,
          728,
          594,
          582,
          605
         ]
        },
        {
         "name": "Imported Cases",
         "type": "bar",
         "x": [
          0,
          1,
          2,
          3,
          4,
          5,
          6,
          7,
          8,
          9,
          10,
          11,
          12,
          13,
          14,
          15,
          16,
          17,
          18,
          19,
          20,
          21,
          22,
          23,
          24,
          25,
          26,
          27,
          28,
          29,
          30,
          31,
          32,
          33,
          34,
          35,
          36,
          37,
          38,
          39,
          40,
          41,
          42,
          43,
          44,
          45,
          46,
          47,
          48,
          49,
          50,
          51
         ],
         "y": [
          2,
          0,
          2,
          1,
          4,
          1,
          3,
          4,
          4,
          6,
          17,
          26,
          26,
          24,
          31,
          34,
          41,
          29,
          28,
          45,
          27,
          27,
          48,
          61,
          44,
          74,
          90,
          78,
          51,
          113,
          99,
          81,
          70,
          59,
          31,
          28,
          33,
          24,
          24,
          30,
          18,
          14,
          20,
          13,
          6,
          8,
          6,
          11,
          6,
          8,
          4
         ]
        }
       ],
       "layout": {
        "template": {
         "data": {
          "bar": [
           {
            "error_x": {
             "color": "#2a3f5f"
            },
            "error_y": {
             "color": "#2a3f5f"
            },
            "marker": {
             "line": {
              "color": "#E5ECF6",
              "width": 0.5
             }
            },
            "type": "bar"
           }
          ],
          "barpolar": [
           {
            "marker": {
             "line": {
              "color": "#E5ECF6",
              "width": 0.5
             }
            },
            "type": "barpolar"
           }
          ],
          "carpet": [
           {
            "aaxis": {
             "endlinecolor": "#2a3f5f",
             "gridcolor": "white",
             "linecolor": "white",
             "minorgridcolor": "white",
             "startlinecolor": "#2a3f5f"
            },
            "baxis": {
             "endlinecolor": "#2a3f5f",
             "gridcolor": "white",
             "linecolor": "white",
             "minorgridcolor": "white",
             "startlinecolor": "#2a3f5f"
            },
            "type": "carpet"
           }
          ],
          "choropleth": [
           {
            "colorbar": {
             "outlinewidth": 0,
             "ticks": ""
            },
            "type": "choropleth"
           }
          ],
          "contour": [
           {
            "colorbar": {
             "outlinewidth": 0,
             "ticks": ""
            },
            "colorscale": [
             [
              0,
              "#0d0887"
             ],
             [
              0.1111111111111111,
              "#46039f"
             ],
             [
              0.2222222222222222,
              "#7201a8"
             ],
             [
              0.3333333333333333,
              "#9c179e"
             ],
             [
              0.4444444444444444,
              "#bd3786"
             ],
             [
              0.5555555555555556,
              "#d8576b"
             ],
             [
              0.6666666666666666,
              "#ed7953"
             ],
             [
              0.7777777777777778,
              "#fb9f3a"
             ],
             [
              0.8888888888888888,
              "#fdca26"
             ],
             [
              1,
              "#f0f921"
             ]
            ],
            "type": "contour"
           }
          ],
          "contourcarpet": [
           {
            "colorbar": {
             "outlinewidth": 0,
             "ticks": ""
            },
            "type": "contourcarpet"
           }
          ],
          "heatmap": [
           {
            "colorbar": {
             "outlinewidth": 0,
             "ticks": ""
            },
            "colorscale": [
             [
              0,
              "#0d0887"
             ],
             [
              0.1111111111111111,
              "#46039f"
             ],
             [
              0.2222222222222222,
              "#7201a8"
             ],
             [
              0.3333333333333333,
              "#9c179e"
             ],
             [
              0.4444444444444444,
              "#bd3786"
             ],
             [
              0.5555555555555556,
              "#d8576b"
             ],
             [
              0.6666666666666666,
              "#ed7953"
             ],
             [
              0.7777777777777778,
              "#fb9f3a"
             ],
             [
              0.8888888888888888,
              "#fdca26"
             ],
             [
              1,
              "#f0f921"
             ]
            ],
            "type": "heatmap"
           }
          ],
          "heatmapgl": [
           {
            "colorbar": {
             "outlinewidth": 0,
             "ticks": ""
            },
            "colorscale": [
             [
              0,
              "#0d0887"
             ],
             [
              0.1111111111111111,
              "#46039f"
             ],
             [
              0.2222222222222222,
              "#7201a8"
             ],
             [
              0.3333333333333333,
              "#9c179e"
             ],
             [
              0.4444444444444444,
              "#bd3786"
             ],
             [
              0.5555555555555556,
              "#d8576b"
             ],
             [
              0.6666666666666666,
              "#ed7953"
             ],
             [
              0.7777777777777778,
              "#fb9f3a"
             ],
             [
              0.8888888888888888,
              "#fdca26"
             ],
             [
              1,
              "#f0f921"
             ]
            ],
            "type": "heatmapgl"
           }
          ],
          "histogram": [
           {
            "marker": {
             "colorbar": {
              "outlinewidth": 0,
              "ticks": ""
             }
            },
            "type": "histogram"
           }
          ],
          "histogram2d": [
           {
            "colorbar": {
             "outlinewidth": 0,
             "ticks": ""
            },
            "colorscale": [
             [
              0,
              "#0d0887"
             ],
             [
              0.1111111111111111,
              "#46039f"
             ],
             [
              0.2222222222222222,
              "#7201a8"
             ],
             [
              0.3333333333333333,
              "#9c179e"
             ],
             [
              0.4444444444444444,
              "#bd3786"
             ],
             [
              0.5555555555555556,
              "#d8576b"
             ],
             [
              0.6666666666666666,
              "#ed7953"
             ],
             [
              0.7777777777777778,
              "#fb9f3a"
             ],
             [
              0.8888888888888888,
              "#fdca26"
             ],
             [
              1,
              "#f0f921"
             ]
            ],
            "type": "histogram2d"
           }
          ],
          "histogram2dcontour": [
           {
            "colorbar": {
             "outlinewidth": 0,
             "ticks": ""
            },
            "colorscale": [
             [
              0,
              "#0d0887"
             ],
             [
              0.1111111111111111,
              "#46039f"
             ],
             [
              0.2222222222222222,
              "#7201a8"
             ],
             [
              0.3333333333333333,
              "#9c179e"
             ],
             [
              0.4444444444444444,
              "#bd3786"
             ],
             [
              0.5555555555555556,
              "#d8576b"
             ],
             [
              0.6666666666666666,
              "#ed7953"
             ],
             [
              0.7777777777777778,
              "#fb9f3a"
             ],
             [
              0.8888888888888888,
              "#fdca26"
             ],
             [
              1,
              "#f0f921"
             ]
            ],
            "type": "histogram2dcontour"
           }
          ],
          "mesh3d": [
           {
            "colorbar": {
             "outlinewidth": 0,
             "ticks": ""
            },
            "type": "mesh3d"
           }
          ],
          "parcoords": [
           {
            "line": {
             "colorbar": {
              "outlinewidth": 0,
              "ticks": ""
             }
            },
            "type": "parcoords"
           }
          ],
          "pie": [
           {
            "automargin": true,
            "type": "pie"
           }
          ],
          "scatter": [
           {
            "marker": {
             "colorbar": {
              "outlinewidth": 0,
              "ticks": ""
             }
            },
            "type": "scatter"
           }
          ],
          "scatter3d": [
           {
            "line": {
             "colorbar": {
              "outlinewidth": 0,
              "ticks": ""
             }
            },
            "marker": {
             "colorbar": {
              "outlinewidth": 0,
              "ticks": ""
             }
            },
            "type": "scatter3d"
           }
          ],
          "scattercarpet": [
           {
            "marker": {
             "colorbar": {
              "outlinewidth": 0,
              "ticks": ""
             }
            },
            "type": "scattercarpet"
           }
          ],
          "scattergeo": [
           {
            "marker": {
             "colorbar": {
              "outlinewidth": 0,
              "ticks": ""
             }
            },
            "type": "scattergeo"
           }
          ],
          "scattergl": [
           {
            "marker": {
             "colorbar": {
              "outlinewidth": 0,
              "ticks": ""
             }
            },
            "type": "scattergl"
           }
          ],
          "scattermapbox": [
           {
            "marker": {
             "colorbar": {
              "outlinewidth": 0,
              "ticks": ""
             }
            },
            "type": "scattermapbox"
           }
          ],
          "scatterpolar": [
           {
            "marker": {
             "colorbar": {
              "outlinewidth": 0,
              "ticks": ""
             }
            },
            "type": "scatterpolar"
           }
          ],
          "scatterpolargl": [
           {
            "marker": {
             "colorbar": {
              "outlinewidth": 0,
              "ticks": ""
             }
            },
            "type": "scatterpolargl"
           }
          ],
          "scatterternary": [
           {
            "marker": {
             "colorbar": {
              "outlinewidth": 0,
              "ticks": ""
             }
            },
            "type": "scatterternary"
           }
          ],
          "surface": [
           {
            "colorbar": {
             "outlinewidth": 0,
             "ticks": ""
            },
            "colorscale": [
             [
              0,
              "#0d0887"
             ],
             [
              0.1111111111111111,
              "#46039f"
             ],
             [
              0.2222222222222222,
              "#7201a8"
             ],
             [
              0.3333333333333333,
              "#9c179e"
             ],
             [
              0.4444444444444444,
              "#bd3786"
             ],
             [
              0.5555555555555556,
              "#d8576b"
             ],
             [
              0.6666666666666666,
              "#ed7953"
             ],
             [
              0.7777777777777778,
              "#fb9f3a"
             ],
             [
              0.8888888888888888,
              "#fdca26"
             ],
             [
              1,
              "#f0f921"
             ]
            ],
            "type": "surface"
           }
          ],
          "table": [
           {
            "cells": {
             "fill": {
              "color": "#EBF0F8"
             },
             "line": {
              "color": "white"
             }
            },
            "header": {
             "fill": {
              "color": "#C8D4E3"
             },
             "line": {
              "color": "white"
             }
            },
            "type": "table"
           }
          ]
         },
         "layout": {
          "annotationdefaults": {
           "arrowcolor": "#2a3f5f",
           "arrowhead": 0,
           "arrowwidth": 1
          },
          "autotypenumbers": "strict",
          "coloraxis": {
           "colorbar": {
            "outlinewidth": 0,
            "ticks": ""
           }
          },
          "colorscale": {
           "diverging": [
            [
             0,
             "#8e0152"
            ],
            [
             0.1,
             "#c51b7d"
            ],
            [
             0.2,
             "#de77ae"
            ],
            [
             0.3,
             "#f1b6da"
            ],
            [
             0.4,
             "#fde0ef"
            ],
            [
             0.5,
             "#f7f7f7"
            ],
            [
             0.6,
             "#e6f5d0"
            ],
            [
             0.7,
             "#b8e186"
            ],
            [
             0.8,
             "#7fbc41"
            ],
            [
             0.9,
             "#4d9221"
            ],
            [
             1,
             "#276419"
            ]
           ],
           "sequential": [
            [
             0,
             "#0d0887"
            ],
            [
             0.1111111111111111,
             "#46039f"
            ],
            [
             0.2222222222222222,
             "#7201a8"
            ],
            [
             0.3333333333333333,
             "#9c179e"
            ],
            [
             0.4444444444444444,
             "#bd3786"
            ],
            [
             0.5555555555555556,
             "#d8576b"
            ],
            [
             0.6666666666666666,
             "#ed7953"
            ],
            [
             0.7777777777777778,
             "#fb9f3a"
            ],
            [
             0.8888888888888888,
             "#fdca26"
            ],
            [
             1,
             "#f0f921"
            ]
           ],
           "sequentialminus": [
            [
             0,
             "#0d0887"
            ],
            [
             0.1111111111111111,
             "#46039f"
            ],
            [
             0.2222222222222222,
             "#7201a8"
            ],
            [
             0.3333333333333333,
             "#9c179e"
            ],
            [
             0.4444444444444444,
             "#bd3786"
            ],
            [
             0.5555555555555556,
             "#d8576b"
            ],
            [
             0.6666666666666666,
             "#ed7953"
            ],
            [
             0.7777777777777778,
             "#fb9f3a"
            ],
            [
             0.8888888888888888,
             "#fdca26"
            ],
            [
             1,
             "#f0f921"
            ]
           ]
          },
          "colorway": [
           "#636efa",
           "#EF553B",
           "#00cc96",
           "#ab63fa",
           "#FFA15A",
           "#19d3f3",
           "#FF6692",
           "#B6E880",
           "#FF97FF",
           "#FECB52"
          ],
          "font": {
           "color": "#2a3f5f"
          },
          "geo": {
           "bgcolor": "white",
           "lakecolor": "white",
           "landcolor": "#E5ECF6",
           "showlakes": true,
           "showland": true,
           "subunitcolor": "white"
          },
          "hoverlabel": {
           "align": "left"
          },
          "hovermode": "closest",
          "mapbox": {
           "style": "light"
          },
          "paper_bgcolor": "white",
          "plot_bgcolor": "#E5ECF6",
          "polar": {
           "angularaxis": {
            "gridcolor": "white",
            "linecolor": "white",
            "ticks": ""
           },
           "bgcolor": "#E5ECF6",
           "radialaxis": {
            "gridcolor": "white",
            "linecolor": "white",
            "ticks": ""
           }
          },
          "scene": {
           "xaxis": {
            "backgroundcolor": "#E5ECF6",
            "gridcolor": "white",
            "gridwidth": 2,
            "linecolor": "white",
            "showbackground": true,
            "ticks": "",
            "zerolinecolor": "white"
           },
           "yaxis": {
            "backgroundcolor": "#E5ECF6",
            "gridcolor": "white",
            "gridwidth": 2,
            "linecolor": "white",
            "showbackground": true,
            "ticks": "",
            "zerolinecolor": "white"
           },
           "zaxis": {
            "backgroundcolor": "#E5ECF6",
            "gridcolor": "white",
            "gridwidth": 2,
            "linecolor": "white",
            "showbackground": true,
            "ticks": "",
            "zerolinecolor": "white"
           }
          },
          "shapedefaults": {
           "line": {
            "color": "#2a3f5f"
           }
          },
          "ternary": {
           "aaxis": {
            "gridcolor": "white",
            "linecolor": "white",
            "ticks": ""
           },
           "baxis": {
            "gridcolor": "white",
            "linecolor": "white",
            "ticks": ""
           },
           "bgcolor": "#E5ECF6",
           "caxis": {
            "gridcolor": "white",
            "linecolor": "white",
            "ticks": ""
           }
          },
          "title": {
           "x": 0.05
          },
          "xaxis": {
           "automargin": true,
           "gridcolor": "white",
           "linecolor": "white",
           "ticks": "",
           "title": {
            "standoff": 15
           },
           "zerolinecolor": "white",
           "zerolinewidth": 2
          },
          "yaxis": {
           "automargin": true,
           "gridcolor": "white",
           "linecolor": "white",
           "ticks": "",
           "title": {
            "standoff": 15
           },
           "zerolinecolor": "white",
           "zerolinewidth": 2
          }
         }
        },
        "xaxis": {
         "title": {
          "text": "Time (days)"
         }
        },
        "yaxis": {
         "title": {
          "text": "New cases"
         }
        }
       }
      }
     },
     "metadata": {}
    }
   ],
   "source": [
    "# Plot (bar chart cases each day)\n",
    "fig = go.Figure()\n",
    "\n",
    "# Plot of incidences\n",
    "fig.add_trace(\n",
    "    go.Bar(\n",
    "        x=times,\n",
    "        y=locally_infected_cases,\n",
    "        name='Local Incidences'\n",
    "    )\n",
    ")\n",
    "\n",
    "fig.add_trace(\n",
    "    go.Bar(\n",
    "        x=times,\n",
    "        y=imported_cases,\n",
    "        name='Imported Cases'\n",
    "    )\n",
    ")\n",
    "\n",
    "# Add axis labels\n",
    "fig.update_layout(\n",
    "    xaxis_title='Time (days)',\n",
    "    yaxis_title='New cases'\n",
    ")\n",
    "\n",
    "fig.show()"
   ]
  },
  {
   "source": [
    "## Comparison of inference results for different epsilon values"
   ],
   "cell_type": "markdown",
   "metadata": {}
  },
  {
   "cell_type": "code",
   "execution_count": 7,
   "metadata": {},
   "outputs": [],
   "source": [
    "# Same inference, but using the LocImpBranchProPosterior\n",
    "tau = 2\n",
    "R_t_start = tau+1\n",
    "a = 1\n",
    "b = 0.8\n",
    "\n",
    "# Run inferences for different values of epsilon\n",
    "column_names = ['Time Points', 'Mean', 'Lower bound CI', 'Upper bound CI', 'Central Probability', 'Epsilon']\n",
    "epsilon_range = np.arange(-1, 1.1, 0.2)\n",
    "chosen_times = [5, 10, 15, 20, 25, 30, 40]\n",
    "\n",
    "all_intervals = pd.DataFrame(columns=column_names)\n",
    "# Transform our incidence data into pandas dataframes\n",
    "inc_data = pd.DataFrame(\n",
    "    {\n",
    "        'Time': start_times,\n",
    "        'Incidence Number': locally_infected_cases\n",
    "    }\n",
    ")\n",
    "\n",
    "imported_inc_data = pd.DataFrame(\n",
    "    {\n",
    "        'Time': start_times,\n",
    "        'Incidence Number': imported_cases\n",
    "    }\n",
    ")\n",
    "\n",
    "for epsilon in epsilon_range:\n",
    "    inference = branchpro.LocImpBranchProPosteriorMultSI(\n",
    "        inc_data=inc_data,\n",
    "        imported_inc_data=imported_inc_data,\n",
    "        epsilon=epsilon,\n",
    "        daily_serial_intervals=serial_intervals,\n",
    "        alpha=a,\n",
    "        beta=1/b)\n",
    "\n",
    "    inference.run_inference(tau=tau)\n",
    "    intervals = inference.get_intervals(central_prob=0)\n",
    "    intervals = intervals.append(inference.get_intervals(central_prob=.25))\n",
    "    intervals = intervals.append(inference.get_intervals(central_prob=.95))\n",
    "    temp = inference.get_intervals(central_prob=.95)\n",
    "\n",
    "    intervals['Epsilon'] = [epsilon] * len(intervals.index)\n",
    "\n",
    "    intervals_chosen = pd.DataFrame(columns=intervals.columns)\n",
    "    for time_pt in chosen_times:\n",
    "        intervals_chosen = intervals_chosen.append(\n",
    "            intervals.loc[intervals['Time Points']== time_pt])\n",
    "\n",
    "    all_intervals = all_intervals.append(intervals_chosen)"
   ]
  },
  {
   "cell_type": "code",
   "execution_count": 8,
   "metadata": {},
   "outputs": [
    {
     "output_type": "display_data",
     "data": {
      "application/vnd.plotly.v1+json": {
       "config": {
        "plotlyServerURL": "https://plot.ly"
       },
       "data": [
        {
         "lowerfence": [
          0.020311174541711823,
          0.016065327962860473,
          0.013541145948693163,
          0.011480457987636345,
          0.010152451833710082,
          0.009081115829758348,
          0.008030594186857348,
          0.00739733652444557,
          0.006773520621936781,
          0.006201202620286496,
          0.0057978028082288835
         ],
         "mean": [
          0.7994977235794067,
          0.6399597525596619,
          0.5347905158996582,
          0.4586683213710785,
          0.40208324790000916,
          0.35778939723968506,
          0.3227192163467407,
          0.29367032647132874,
          0.2694399058818817,
          0.24899886548519135,
          0.23159785568714142
         ],
         "median": [
          0.5543765425682068,
          0.44398507475852966,
          0.3707937151193619,
          0.3164813816547394,
          0.2777343690395355,
          0.24669883400201797,
          0.22230952978134155,
          0.20184864848852158,
          0.18521931022405624,
          0.17136552929878235,
          0.15901386737823486
         ],
         "name": "Day5",
         "q1": [
          0.3763955421745777,
          0.3009678088128567,
          0.25158579275012016,
          0.21460408717393875,
          0.18822999484837055,
          0.16704642958939075,
          0.15065826661884785,
          0.1367520783096552,
          0.12574384547770023,
          0.11589352320879698,
          0.10765376687049866
         ],
         "q3": [
          0.7840213924646378,
          0.6281764283776283,
          0.5239850282669067,
          0.4482639767229557,
          0.3932200036942959,
          0.34927327558398247,
          0.31469759717583656,
          0.28613026067614555,
          0.2624577432870865,
          0.24265658482909203,
          0.22552977316081524
         ],
         "type": "box",
         "upperfence": [
          2.953399842977527,
          2.359275531768799,
          1.9748122364282616,
          1.7015812426805497,
          1.492634394764901,
          1.3279552668333057,
          1.1990984767675401,
          1.0933552354574214,
          1.0049870550632487,
          0.929216456413269,
          0.8660184413194659
         ],
         "x": [
          "-1.0",
          "-0.8",
          "-0.6",
          "-0.4",
          "-0.2",
          "-0.0",
          "0.2",
          "0.4",
          "0.6",
          "0.8",
          "1.0"
         ]
        },
        {
         "lowerfence": [
          1.0653688639402392,
          0.67103720754385,
          0.4883001558482647,
          0.3832024022936822,
          0.31706479936838156,
          0.26892259940505037,
          0.23386020809412017,
          0.20706849060952665,
          0.18551793396472935,
          0.16830402351915844,
          0.1540135815739632
         ],
         "mean": [
          2.933800458908081,
          1.8453755378723145,
          1.3462536334991455,
          1.0591979026794434,
          0.873072624206543,
          0.7424399256706238,
          0.6463485360145569,
          0.5719260573387146,
          0.512816846370697,
          0.4648243486881256,
          0.42545413970947266
         ],
         "median": [
          2.7653695344924927,
          1.7379215359687805,
          1.2677735090255737,
          0.997285932302475,
          0.8220840990543365,
          0.6986967623233795,
          0.6082194149494171,
          0.5381090044975281,
          0.48276370763778687,
          0.4375075101852417,
          0.4003811180591583
         ],
         "name": "Day10",
         "q1": [
          2.4091164767742157,
          1.514512911438942,
          1.1049445271492004,
          0.86824531853199,
          0.7161475121974945,
          0.6089581400156021,
          0.5297241434454918,
          0.468814916908741,
          0.42033497244119644,
          0.3810717239975929,
          0.348750539124012
         ],
         "q3": [
          3.1549507677555084,
          1.984188199043274,
          1.447096735239029,
          1.138932228088379,
          0.9382652565836906,
          0.7978427931666374,
          0.6945022270083427,
          0.6146182343363762,
          0.5512753799557686,
          0.49935103207826614,
          0.4571128599345684
         ],
         "type": "box",
         "upperfence": [
          5.767675209045413,
          3.63345075249672,
          2.653845226764679,
          2.088574254512787,
          1.7178245514631278,
          1.4627009958028794,
          1.273672613501549,
          1.1290272057056427,
          1.011337399482727,
          0.9176947712898255,
          0.8403248950839043
         ],
         "x": [
          "-1.0",
          "-0.8",
          "-0.6",
          "-0.4",
          "-0.2",
          "-0.0",
          "0.2",
          "0.4",
          "0.6",
          "0.8",
          "1.0"
         ]
        },
        {
         "lowerfence": [
          0.9544768795371056,
          0.651015056669712,
          0.4929457224905493,
          0.3974114231765271,
          0.3321627773344517,
          0.28592142909765245,
          0.2509175710380077,
          0.22334527708590032,
          0.20132127739489084,
          0.18321587666869166,
          0.16788885705173018
         ],
         "mean": [
          1.6214617490768433,
          1.106246829032898,
          0.839455783367157,
          0.676224946975708,
          0.5659419298171997,
          0.48692941665649414,
          0.42706748843193054,
          0.38040512800216675,
          0.34301379323005676,
          0.31214338541030884,
          0.28638672828674316
         ],
         "median": [
          1.5755401849746704,
          1.0746898651123047,
          0.8155030310153961,
          0.6571376323699951,
          0.5499724447727203,
          0.4730507731437683,
          0.4150734543800354,
          0.3696603775024414,
          0.33328311145305634,
          0.3032560497522354,
          0.2783363312482834
         ],
         "name": "Day15",
         "q1": [
          1.4549696445465088,
          0.9922808781266212,
          0.7531702145934105,
          0.6071082875132561,
          0.5077061057090759,
          0.4367450475692749,
          0.38307372480630875,
          0.3413306809961796,
          0.307674877345562,
          0.28000833466649055,
          0.25694165378808975
         ],
         "q3": [
          1.704961508512497,
          1.163485050201416,
          0.8826504126191139,
          0.7111874967813492,
          0.5954316481947899,
          0.5120602697134018,
          0.44928546249866486,
          0.40016643330454826,
          0.36086853966116905,
          0.32828934118151665,
          0.3012715093791485
         ],
         "type": "box",
         "upperfence": [
          2.552070772647858,
          1.741883620619774,
          1.321720513701439,
          1.0644282877445221,
          0.8904382228851321,
          0.7678730145096779,
          0.6722859099507332,
          0.5985956802964211,
          0.5404732823371887,
          0.4920379601418972,
          0.4515256762504578
         ],
         "x": [
          "-1.0",
          "-0.8",
          "-0.6",
          "-0.4",
          "-0.2",
          "-0.0",
          "0.2",
          "0.4",
          "0.6",
          "0.8",
          "1.0"
         ]
        },
        {
         "lowerfence": [
          2.4101198673248296,
          1.7028813242912293,
          1.3143209099769593,
          1.0687632858753204,
          0.9005252450704575,
          0.7778207689523697,
          0.6840897589921953,
          0.6107824638485909,
          0.5515884965658188,
          0.5030367925763131,
          0.46205185428261764
         ],
         "mean": [
          3.1603918075561523,
          2.181425094604492,
          1.6661534309387207,
          1.3477309942245483,
          1.1315585374832153,
          0.9752410650253296,
          0.8568395972251892,
          0.7641534805297852,
          0.6896679401397705,
          0.6281632781028748,
          0.5768843293190002
         ],
         "median": [
          3.1309080123901367,
          2.1632823944091797,
          1.6526646614074707,
          1.3372785449028015,
          1.1230688691139221,
          0.9679469764232635,
          0.8503705859184265,
          0.758544385433197,
          0.6846118867397308,
          0.6236267983913422,
          0.5726984739303589
         ],
         "name": "Day20",
         "q1": [
          3.0001246333122253,
          2.0806245505809784,
          1.5922292470932007,
          1.2893525213003159,
          1.0833671391010284,
          0.934049941599369,
          0.8207352012395859,
          0.7321974560618401,
          0.660795584321022,
          0.6020594835281372,
          0.5528982281684875
         ],
         "q3": [
          3.267760068178177,
          2.249496579170227,
          1.7160587012767792,
          1.3873870372772217,
          1.1644698828458786,
          1.0032856911420822,
          0.881363533437252,
          0.7860556095838547,
          0.7093442976474762,
          0.6460226625204086,
          0.5932649970054626
         ],
         "type": "box",
         "upperfence": [
          4.07416969537735,
          2.7631054341793058,
          2.0949133932590485,
          1.686104443669319,
          1.4109575748443604,
          1.2147310584783555,
          1.0665709048509597,
          0.9496257334947585,
          0.8570661365985872,
          0.7796122327446938,
          0.7160599783062935
         ],
         "x": [
          "-1.0",
          "-0.8",
          "-0.6",
          "-0.4",
          "-0.2",
          "-0.0",
          "0.2",
          "0.4",
          "0.6",
          "0.8",
          "1.0"
         ]
        },
        {
         "lowerfence": [
          1.8789480298757555,
          1.6510998874902727,
          1.4725182324647905,
          1.328678122162819,
          1.2096887797117233,
          1.1100916773080827,
          1.0260367393493652,
          0.9535387560725213,
          0.8902407109737396,
          0.835057705640793,
          0.7862157046794892
         ],
         "mean": [
          2.304201602935791,
          1.9976232051849365,
          1.76349937915802,
          1.578536033630371,
          1.428511381149292,
          1.304766297340393,
          1.2007527351379395,
          1.111969232559204,
          1.0357295274734497,
          0.9689646363258362,
          0.9105064272880554
         ],
         "median": [
          2.2830456495285034,
          1.9828355312347412,
          1.752259910106659,
          1.5698508024215698,
          1.4213018417358398,
          1.298876941204071,
          1.195642352104187,
          1.107661247253418,
          1.031886339187622,
          0.9655885100364685,
          0.9074152708053589
         ],
         "name": "Day25",
         "q1": [
          2.2097797989845276,
          1.923339992761612,
          1.7027327865362167,
          1.527268037199974,
          1.3842522650957108,
          1.2659890949726105,
          1.1660877913236618,
          1.0809243023395538,
          1.0073406249284744,
          0.9430565237998962,
          0.8865571543574333
         ],
         "q3": [
          2.361388623714447,
          2.045242816209793,
          1.8045286685228348,
          1.6139229536056519,
          1.4600819498300552,
          1.3330034911632538,
          1.2262201458215714,
          1.135213777422905,
          1.057196021080017,
          0.9888805970549583,
          0.928929828107357
         ],
         "type": "box",
         "upperfence": [
          2.8432230830192564,
          2.42521008849144,
          2.1169217586517335,
          1.8773356884717944,
          1.6877335757017136,
          1.5333016216754913,
          1.4045129150152207,
          1.2957793593406677,
          1.2028077960014343,
          1.1221454590559006,
          1.0526058942079544
         ],
         "x": [
          "-1.0",
          "-0.8",
          "-0.6",
          "-0.4",
          "-0.2",
          "-0.0",
          "0.2",
          "0.4",
          "0.6",
          "0.8",
          "1.0"
         ]
        },
        {
         "lowerfence": [
          1.556959092617035,
          1.4238200962543488,
          1.3114821553230285,
          1.2156617641448975,
          1.133399733901024,
          1.0610017627477646,
          0.9975088223814964,
          0.9412562668323516,
          0.8910137310624122,
          0.8458573073148727,
          0.8047370716929436
         ],
         "mean": [
          1.817335605621338,
          1.6575206518173218,
          1.5235265493392944,
          1.4095417261123657,
          1.3114615678787231,
          1.2261475324630737,
          1.1513172388076782,
          1.085019588470459,
          1.0259621143341064,
          0.9730122685432434,
          0.9252796769142151
         ],
         "median": [
          1.801243782043457,
          1.64350163936615,
          1.5112469792366028,
          1.3986364603042603,
          1.3017168641090393,
          1.217180073261261,
          1.1431388854980469,
          1.0773732662200928,
          1.0188798904418945,
          0.9663663506507874,
          0.9192318022251129
         ],
         "name": "Day30",
         "q1": [
          1.7558358758687973,
          1.6028665602207184,
          1.4744495898485184,
          1.3650106936693192,
          1.2707130759954453,
          1.1884891539812088,
          1.1165223121643066,
          1.0526225417852402,
          0.9954500943422318,
          0.9444104209542274,
          0.8983670249581337
         ],
         "q3": [
          1.8500235080718994,
          1.6873348653316498,
          1.5506963580846786,
          1.434705302119255,
          1.3347594738006592,
          1.247851774096489,
          1.171607494354248,
          1.104028344154358,
          1.043889805674553,
          0.9898724630475044,
          0.9414048418402672
         ],
         "type": "box",
         "upperfence": [
          2.1658631145954135,
          1.967752242088318,
          1.8028689712285997,
          1.6632345229387284,
          1.543886524438858,
          1.440437936782837,
          1.3504540771245956,
          1.2703366398811342,
          1.199375757575035,
          1.1364890307188034,
          1.0794269263744356
         ],
         "x": [
          "-1.0",
          "-0.8",
          "-0.6",
          "-0.4",
          "-0.2",
          "-0.0",
          "0.2",
          "0.4",
          "0.6",
          "0.8",
          "1.0"
         ]
        },
        {
         "lowerfence": [
          1.1664154440164567,
          1.1390438050031662,
          1.1129143178462984,
          1.0878088474273682,
          1.0635065227746965,
          1.03992175757885,
          1.017637601494789,
          0.9958745136857032,
          0.9748845547437668,
          0.9544155597686768,
          0.934893998503685
         ],
         "mean": [
          1.2539671659469604,
          1.2218592166900635,
          1.1900901794433594,
          1.1601026058197021,
          1.132676362991333,
          1.1065893173217773,
          1.0809290409088135,
          1.0564348697662354,
          1.0333125591278076,
          1.0110397338867188,
          0.990084707736969
         ],
         "median": [
          1.2503260374069214,
          1.2181247472763062,
          1.1875125169754028,
          1.158471703529358,
          1.1307051181793213,
          1.1043975949287415,
          1.0791993737220764,
          1.0550846457481384,
          1.0321549773216248,
          1.010073482990265,
          0.9890044033527374
         ],
         "name": "Day40",
         "q1": [
          1.235701397061348,
          1.2043689042329788,
          1.174614578485489,
          1.1463256627321243,
          1.1191691160202026,
          1.0934374332427979,
          1.0687570571899414,
          1.045059084892273,
          1.0224546194076538,
          1.0006952285766602,
          0.9799086451530457
         ],
         "q3": [
          1.2655559033155441,
          1.2323774546384811,
          1.200873851776123,
          1.1710525006055832,
          1.142622709274292,
          1.1156785935163498,
          1.089863583445549,
          1.0653353929519653,
          1.0420555770397186,
          1.0196233987808228,
          0.9982273429632187
         ],
         "type": "box",
         "upperfence": [
          1.362440723180771,
          1.321960461139679,
          1.2838655769824983,
          1.2481492936611176,
          1.214723590016365,
          1.1832199186086654,
          1.1536228865385056,
          1.1254260659217834,
          1.0992796480655669,
          1.0740086168050764,
          1.0503506720066071
         ],
         "x": [
          "-1.0",
          "-0.8",
          "-0.6",
          "-0.4",
          "-0.2",
          "-0.0",
          "0.2",
          "0.4",
          "0.6",
          "0.8",
          "1.0"
         ]
        }
       ],
       "layout": {
        "boxmode": "group",
        "template": {
         "data": {
          "bar": [
           {
            "error_x": {
             "color": "#2a3f5f"
            },
            "error_y": {
             "color": "#2a3f5f"
            },
            "marker": {
             "line": {
              "color": "#E5ECF6",
              "width": 0.5
             }
            },
            "type": "bar"
           }
          ],
          "barpolar": [
           {
            "marker": {
             "line": {
              "color": "#E5ECF6",
              "width": 0.5
             }
            },
            "type": "barpolar"
           }
          ],
          "carpet": [
           {
            "aaxis": {
             "endlinecolor": "#2a3f5f",
             "gridcolor": "white",
             "linecolor": "white",
             "minorgridcolor": "white",
             "startlinecolor": "#2a3f5f"
            },
            "baxis": {
             "endlinecolor": "#2a3f5f",
             "gridcolor": "white",
             "linecolor": "white",
             "minorgridcolor": "white",
             "startlinecolor": "#2a3f5f"
            },
            "type": "carpet"
           }
          ],
          "choropleth": [
           {
            "colorbar": {
             "outlinewidth": 0,
             "ticks": ""
            },
            "type": "choropleth"
           }
          ],
          "contour": [
           {
            "colorbar": {
             "outlinewidth": 0,
             "ticks": ""
            },
            "colorscale": [
             [
              0,
              "#0d0887"
             ],
             [
              0.1111111111111111,
              "#46039f"
             ],
             [
              0.2222222222222222,
              "#7201a8"
             ],
             [
              0.3333333333333333,
              "#9c179e"
             ],
             [
              0.4444444444444444,
              "#bd3786"
             ],
             [
              0.5555555555555556,
              "#d8576b"
             ],
             [
              0.6666666666666666,
              "#ed7953"
             ],
             [
              0.7777777777777778,
              "#fb9f3a"
             ],
             [
              0.8888888888888888,
              "#fdca26"
             ],
             [
              1,
              "#f0f921"
             ]
            ],
            "type": "contour"
           }
          ],
          "contourcarpet": [
           {
            "colorbar": {
             "outlinewidth": 0,
             "ticks": ""
            },
            "type": "contourcarpet"
           }
          ],
          "heatmap": [
           {
            "colorbar": {
             "outlinewidth": 0,
             "ticks": ""
            },
            "colorscale": [
             [
              0,
              "#0d0887"
             ],
             [
              0.1111111111111111,
              "#46039f"
             ],
             [
              0.2222222222222222,
              "#7201a8"
             ],
             [
              0.3333333333333333,
              "#9c179e"
             ],
             [
              0.4444444444444444,
              "#bd3786"
             ],
             [
              0.5555555555555556,
              "#d8576b"
             ],
             [
              0.6666666666666666,
              "#ed7953"
             ],
             [
              0.7777777777777778,
              "#fb9f3a"
             ],
             [
              0.8888888888888888,
              "#fdca26"
             ],
             [
              1,
              "#f0f921"
             ]
            ],
            "type": "heatmap"
           }
          ],
          "heatmapgl": [
           {
            "colorbar": {
             "outlinewidth": 0,
             "ticks": ""
            },
            "colorscale": [
             [
              0,
              "#0d0887"
             ],
             [
              0.1111111111111111,
              "#46039f"
             ],
             [
              0.2222222222222222,
              "#7201a8"
             ],
             [
              0.3333333333333333,
              "#9c179e"
             ],
             [
              0.4444444444444444,
              "#bd3786"
             ],
             [
              0.5555555555555556,
              "#d8576b"
             ],
             [
              0.6666666666666666,
              "#ed7953"
             ],
             [
              0.7777777777777778,
              "#fb9f3a"
             ],
             [
              0.8888888888888888,
              "#fdca26"
             ],
             [
              1,
              "#f0f921"
             ]
            ],
            "type": "heatmapgl"
           }
          ],
          "histogram": [
           {
            "marker": {
             "colorbar": {
              "outlinewidth": 0,
              "ticks": ""
             }
            },
            "type": "histogram"
           }
          ],
          "histogram2d": [
           {
            "colorbar": {
             "outlinewidth": 0,
             "ticks": ""
            },
            "colorscale": [
             [
              0,
              "#0d0887"
             ],
             [
              0.1111111111111111,
              "#46039f"
             ],
             [
              0.2222222222222222,
              "#7201a8"
             ],
             [
              0.3333333333333333,
              "#9c179e"
             ],
             [
              0.4444444444444444,
              "#bd3786"
             ],
             [
              0.5555555555555556,
              "#d8576b"
             ],
             [
              0.6666666666666666,
              "#ed7953"
             ],
             [
              0.7777777777777778,
              "#fb9f3a"
             ],
             [
              0.8888888888888888,
              "#fdca26"
             ],
             [
              1,
              "#f0f921"
             ]
            ],
            "type": "histogram2d"
           }
          ],
          "histogram2dcontour": [
           {
            "colorbar": {
             "outlinewidth": 0,
             "ticks": ""
            },
            "colorscale": [
             [
              0,
              "#0d0887"
             ],
             [
              0.1111111111111111,
              "#46039f"
             ],
             [
              0.2222222222222222,
              "#7201a8"
             ],
             [
              0.3333333333333333,
              "#9c179e"
             ],
             [
              0.4444444444444444,
              "#bd3786"
             ],
             [
              0.5555555555555556,
              "#d8576b"
             ],
             [
              0.6666666666666666,
              "#ed7953"
             ],
             [
              0.7777777777777778,
              "#fb9f3a"
             ],
             [
              0.8888888888888888,
              "#fdca26"
             ],
             [
              1,
              "#f0f921"
             ]
            ],
            "type": "histogram2dcontour"
           }
          ],
          "mesh3d": [
           {
            "colorbar": {
             "outlinewidth": 0,
             "ticks": ""
            },
            "type": "mesh3d"
           }
          ],
          "parcoords": [
           {
            "line": {
             "colorbar": {
              "outlinewidth": 0,
              "ticks": ""
             }
            },
            "type": "parcoords"
           }
          ],
          "pie": [
           {
            "automargin": true,
            "type": "pie"
           }
          ],
          "scatter": [
           {
            "marker": {
             "colorbar": {
              "outlinewidth": 0,
              "ticks": ""
             }
            },
            "type": "scatter"
           }
          ],
          "scatter3d": [
           {
            "line": {
             "colorbar": {
              "outlinewidth": 0,
              "ticks": ""
             }
            },
            "marker": {
             "colorbar": {
              "outlinewidth": 0,
              "ticks": ""
             }
            },
            "type": "scatter3d"
           }
          ],
          "scattercarpet": [
           {
            "marker": {
             "colorbar": {
              "outlinewidth": 0,
              "ticks": ""
             }
            },
            "type": "scattercarpet"
           }
          ],
          "scattergeo": [
           {
            "marker": {
             "colorbar": {
              "outlinewidth": 0,
              "ticks": ""
             }
            },
            "type": "scattergeo"
           }
          ],
          "scattergl": [
           {
            "marker": {
             "colorbar": {
              "outlinewidth": 0,
              "ticks": ""
             }
            },
            "type": "scattergl"
           }
          ],
          "scattermapbox": [
           {
            "marker": {
             "colorbar": {
              "outlinewidth": 0,
              "ticks": ""
             }
            },
            "type": "scattermapbox"
           }
          ],
          "scatterpolar": [
           {
            "marker": {
             "colorbar": {
              "outlinewidth": 0,
              "ticks": ""
             }
            },
            "type": "scatterpolar"
           }
          ],
          "scatterpolargl": [
           {
            "marker": {
             "colorbar": {
              "outlinewidth": 0,
              "ticks": ""
             }
            },
            "type": "scatterpolargl"
           }
          ],
          "scatterternary": [
           {
            "marker": {
             "colorbar": {
              "outlinewidth": 0,
              "ticks": ""
             }
            },
            "type": "scatterternary"
           }
          ],
          "surface": [
           {
            "colorbar": {
             "outlinewidth": 0,
             "ticks": ""
            },
            "colorscale": [
             [
              0,
              "#0d0887"
             ],
             [
              0.1111111111111111,
              "#46039f"
             ],
             [
              0.2222222222222222,
              "#7201a8"
             ],
             [
              0.3333333333333333,
              "#9c179e"
             ],
             [
              0.4444444444444444,
              "#bd3786"
             ],
             [
              0.5555555555555556,
              "#d8576b"
             ],
             [
              0.6666666666666666,
              "#ed7953"
             ],
             [
              0.7777777777777778,
              "#fb9f3a"
             ],
             [
              0.8888888888888888,
              "#fdca26"
             ],
             [
              1,
              "#f0f921"
             ]
            ],
            "type": "surface"
           }
          ],
          "table": [
           {
            "cells": {
             "fill": {
              "color": "#EBF0F8"
             },
             "line": {
              "color": "white"
             }
            },
            "header": {
             "fill": {
              "color": "#C8D4E3"
             },
             "line": {
              "color": "white"
             }
            },
            "type": "table"
           }
          ]
         },
         "layout": {
          "annotationdefaults": {
           "arrowcolor": "#2a3f5f",
           "arrowhead": 0,
           "arrowwidth": 1
          },
          "autotypenumbers": "strict",
          "coloraxis": {
           "colorbar": {
            "outlinewidth": 0,
            "ticks": ""
           }
          },
          "colorscale": {
           "diverging": [
            [
             0,
             "#8e0152"
            ],
            [
             0.1,
             "#c51b7d"
            ],
            [
             0.2,
             "#de77ae"
            ],
            [
             0.3,
             "#f1b6da"
            ],
            [
             0.4,
             "#fde0ef"
            ],
            [
             0.5,
             "#f7f7f7"
            ],
            [
             0.6,
             "#e6f5d0"
            ],
            [
             0.7,
             "#b8e186"
            ],
            [
             0.8,
             "#7fbc41"
            ],
            [
             0.9,
             "#4d9221"
            ],
            [
             1,
             "#276419"
            ]
           ],
           "sequential": [
            [
             0,
             "#0d0887"
            ],
            [
             0.1111111111111111,
             "#46039f"
            ],
            [
             0.2222222222222222,
             "#7201a8"
            ],
            [
             0.3333333333333333,
             "#9c179e"
            ],
            [
             0.4444444444444444,
             "#bd3786"
            ],
            [
             0.5555555555555556,
             "#d8576b"
            ],
            [
             0.6666666666666666,
             "#ed7953"
            ],
            [
             0.7777777777777778,
             "#fb9f3a"
            ],
            [
             0.8888888888888888,
             "#fdca26"
            ],
            [
             1,
             "#f0f921"
            ]
           ],
           "sequentialminus": [
            [
             0,
             "#0d0887"
            ],
            [
             0.1111111111111111,
             "#46039f"
            ],
            [
             0.2222222222222222,
             "#7201a8"
            ],
            [
             0.3333333333333333,
             "#9c179e"
            ],
            [
             0.4444444444444444,
             "#bd3786"
            ],
            [
             0.5555555555555556,
             "#d8576b"
            ],
            [
             0.6666666666666666,
             "#ed7953"
            ],
            [
             0.7777777777777778,
             "#fb9f3a"
            ],
            [
             0.8888888888888888,
             "#fdca26"
            ],
            [
             1,
             "#f0f921"
            ]
           ]
          },
          "colorway": [
           "#636efa",
           "#EF553B",
           "#00cc96",
           "#ab63fa",
           "#FFA15A",
           "#19d3f3",
           "#FF6692",
           "#B6E880",
           "#FF97FF",
           "#FECB52"
          ],
          "font": {
           "color": "#2a3f5f"
          },
          "geo": {
           "bgcolor": "white",
           "lakecolor": "white",
           "landcolor": "#E5ECF6",
           "showlakes": true,
           "showland": true,
           "subunitcolor": "white"
          },
          "hoverlabel": {
           "align": "left"
          },
          "hovermode": "closest",
          "mapbox": {
           "style": "light"
          },
          "paper_bgcolor": "white",
          "plot_bgcolor": "#E5ECF6",
          "polar": {
           "angularaxis": {
            "gridcolor": "white",
            "linecolor": "white",
            "ticks": ""
           },
           "bgcolor": "#E5ECF6",
           "radialaxis": {
            "gridcolor": "white",
            "linecolor": "white",
            "ticks": ""
           }
          },
          "scene": {
           "xaxis": {
            "backgroundcolor": "#E5ECF6",
            "gridcolor": "white",
            "gridwidth": 2,
            "linecolor": "white",
            "showbackground": true,
            "ticks": "",
            "zerolinecolor": "white"
           },
           "yaxis": {
            "backgroundcolor": "#E5ECF6",
            "gridcolor": "white",
            "gridwidth": 2,
            "linecolor": "white",
            "showbackground": true,
            "ticks": "",
            "zerolinecolor": "white"
           },
           "zaxis": {
            "backgroundcolor": "#E5ECF6",
            "gridcolor": "white",
            "gridwidth": 2,
            "linecolor": "white",
            "showbackground": true,
            "ticks": "",
            "zerolinecolor": "white"
           }
          },
          "shapedefaults": {
           "line": {
            "color": "#2a3f5f"
           }
          },
          "ternary": {
           "aaxis": {
            "gridcolor": "white",
            "linecolor": "white",
            "ticks": ""
           },
           "baxis": {
            "gridcolor": "white",
            "linecolor": "white",
            "ticks": ""
           },
           "bgcolor": "#E5ECF6",
           "caxis": {
            "gridcolor": "white",
            "linecolor": "white",
            "ticks": ""
           }
          },
          "title": {
           "x": 0.05
          },
          "xaxis": {
           "automargin": true,
           "gridcolor": "white",
           "linecolor": "white",
           "ticks": "",
           "title": {
            "standoff": 15
           },
           "zerolinecolor": "white",
           "zerolinewidth": 2
          },
          "yaxis": {
           "automargin": true,
           "gridcolor": "white",
           "linecolor": "white",
           "ticks": "",
           "title": {
            "standoff": 15
           },
           "zerolinecolor": "white",
           "zerolinewidth": 2
          }
         }
        },
        "title": {
         "text": "ON"
        }
       }
      }
     },
     "metadata": {}
    }
   ],
   "source": [
    "# Create list of names for x-axis and traces\n",
    "epsilon_range = np.around(epsilon_range,1)\n",
    "num_epsilons = len(epsilon_range)\n",
    "x_name = []\n",
    "for i in range(num_epsilons):\n",
    "    x_name.append(str(epsilon_range[i]))\n",
    "trace_name = ['Day{}'.format(x) for x in chosen_times]\n",
    "\n",
    "# Sort results\n",
    "all_intervals.sort_values(by=['Time Points', 'Epsilon'], inplace=True)\n",
    "\n",
    "# Plot (box plot for inference)\n",
    "fig = go.Figure()\n",
    "\n",
    "for i in range(len(trace_name)):\n",
    "    fig.add_trace(\n",
    "        go.Box(\n",
    "            mean=all_intervals.loc[all_intervals['Central Probability']==0]['Mean'][i*num_epsilons:(i+1)*num_epsilons],\n",
    "            median=all_intervals.loc[all_intervals['Central Probability']==0]['Lower bound CI'][i*num_epsilons:(i+1)*num_epsilons],\n",
    "            q1=all_intervals.loc[all_intervals['Central Probability']==0.25]['Lower bound CI'][i*num_epsilons:(i+1)*num_epsilons],\n",
    "            q3=all_intervals.loc[all_intervals['Central Probability']==0.25]['Upper bound CI'][i*num_epsilons:(i+1)*num_epsilons],\n",
    "            upperfence=all_intervals.loc[all_intervals['Central Probability']==0.95]['Upper bound CI'][i*num_epsilons:(i+1)*num_epsilons],\n",
    "            lowerfence=all_intervals.loc[all_intervals['Central Probability']==0.95]['Lower bound CI'][i*num_epsilons:(i+1)*num_epsilons],\n",
    "            x=x_name,\n",
    "            name=trace_name[i]\n",
    "        )\n",
    "    )\n",
    "fig.update_layout(boxmode='group', title='ON')\n",
    "fig.show()"
   ]
  },
  {
   "cell_type": "code",
   "execution_count": 9,
   "metadata": {},
   "outputs": [
    {
     "output_type": "display_data",
     "data": {
      "application/vnd.plotly.v1+json": {
       "config": {
        "plotlyServerURL": "https://plot.ly"
       },
       "data": [
        {
         "lowerfence": [
          0.020311174541711823,
          1.0653688639402392,
          0.9544768795371056,
          2.4101198673248296,
          1.8789480298757555,
          1.556959092617035,
          1.1664154440164567
         ],
         "mean": [
          0.7994977235794067,
          2.933800458908081,
          1.6214617490768433,
          3.1603918075561523,
          2.304201602935791,
          1.817335605621338,
          1.2539671659469604
         ],
         "median": [
          0.5543765425682068,
          2.7653695344924927,
          1.5755401849746704,
          3.1309080123901367,
          2.2830456495285034,
          1.801243782043457,
          1.2503260374069214
         ],
         "name": "-1.0",
         "q1": [
          0.3763955421745777,
          2.4091164767742157,
          1.4549696445465088,
          3.0001246333122253,
          2.2097797989845276,
          1.7558358758687973,
          1.235701397061348
         ],
         "q3": [
          0.7840213924646378,
          3.1549507677555084,
          1.704961508512497,
          3.267760068178177,
          2.361388623714447,
          1.8500235080718994,
          1.2655559033155441
         ],
         "type": "box",
         "upperfence": [
          2.953399842977527,
          5.767675209045413,
          2.552070772647858,
          4.07416969537735,
          2.8432230830192564,
          2.1658631145954135,
          1.362440723180771
         ],
         "x": [
          "Day5",
          "Day10",
          "Day15",
          "Day20",
          "Day25",
          "Day30",
          "Day40"
         ]
        },
        {
         "lowerfence": [
          0.016065327962860473,
          0.67103720754385,
          0.651015056669712,
          1.7028813242912293,
          1.6510998874902727,
          1.4238200962543488,
          1.1390438050031662
         ],
         "mean": [
          0.6399597525596619,
          1.8453755378723145,
          1.106246829032898,
          2.181425094604492,
          1.9976232051849365,
          1.6575206518173218,
          1.2218592166900635
         ],
         "median": [
          0.44398507475852966,
          1.7379215359687805,
          1.0746898651123047,
          2.1632823944091797,
          1.9828355312347412,
          1.64350163936615,
          1.2181247472763062
         ],
         "name": "-0.8",
         "q1": [
          0.3009678088128567,
          1.514512911438942,
          0.9922808781266212,
          2.0806245505809784,
          1.923339992761612,
          1.6028665602207184,
          1.2043689042329788
         ],
         "q3": [
          0.6281764283776283,
          1.984188199043274,
          1.163485050201416,
          2.249496579170227,
          2.045242816209793,
          1.6873348653316498,
          1.2323774546384811
         ],
         "type": "box",
         "upperfence": [
          2.359275531768799,
          3.63345075249672,
          1.741883620619774,
          2.7631054341793058,
          2.42521008849144,
          1.967752242088318,
          1.321960461139679
         ],
         "x": [
          "Day5",
          "Day10",
          "Day15",
          "Day20",
          "Day25",
          "Day30",
          "Day40"
         ]
        },
        {
         "lowerfence": [
          0.013541145948693163,
          0.4883001558482647,
          0.4929457224905493,
          1.3143209099769593,
          1.4725182324647905,
          1.3114821553230285,
          1.1129143178462984
         ],
         "mean": [
          0.5347905158996582,
          1.3462536334991455,
          0.839455783367157,
          1.6661534309387207,
          1.76349937915802,
          1.5235265493392944,
          1.1900901794433594
         ],
         "median": [
          0.3707937151193619,
          1.2677735090255737,
          0.8155030310153961,
          1.6526646614074707,
          1.752259910106659,
          1.5112469792366028,
          1.1875125169754028
         ],
         "name": "-0.6",
         "q1": [
          0.25158579275012016,
          1.1049445271492004,
          0.7531702145934105,
          1.5922292470932007,
          1.7027327865362167,
          1.4744495898485184,
          1.174614578485489
         ],
         "q3": [
          0.5239850282669067,
          1.447096735239029,
          0.8826504126191139,
          1.7160587012767792,
          1.8045286685228348,
          1.5506963580846786,
          1.200873851776123
         ],
         "type": "box",
         "upperfence": [
          1.9748122364282616,
          2.653845226764679,
          1.321720513701439,
          2.0949133932590485,
          2.1169217586517335,
          1.8028689712285997,
          1.2838655769824983
         ],
         "x": [
          "Day5",
          "Day10",
          "Day15",
          "Day20",
          "Day25",
          "Day30",
          "Day40"
         ]
        },
        {
         "lowerfence": [
          0.011480457987636345,
          0.3832024022936822,
          0.3974114231765271,
          1.0687632858753204,
          1.328678122162819,
          1.2156617641448975,
          1.0878088474273682
         ],
         "mean": [
          0.4586683213710785,
          1.0591979026794434,
          0.676224946975708,
          1.3477309942245483,
          1.578536033630371,
          1.4095417261123657,
          1.1601026058197021
         ],
         "median": [
          0.3164813816547394,
          0.997285932302475,
          0.6571376323699951,
          1.3372785449028015,
          1.5698508024215698,
          1.3986364603042603,
          1.158471703529358
         ],
         "name": "-0.4",
         "q1": [
          0.21460408717393875,
          0.86824531853199,
          0.6071082875132561,
          1.2893525213003159,
          1.527268037199974,
          1.3650106936693192,
          1.1463256627321243
         ],
         "q3": [
          0.4482639767229557,
          1.138932228088379,
          0.7111874967813492,
          1.3873870372772217,
          1.6139229536056519,
          1.434705302119255,
          1.1710525006055832
         ],
         "type": "box",
         "upperfence": [
          1.7015812426805497,
          2.088574254512787,
          1.0644282877445221,
          1.686104443669319,
          1.8773356884717944,
          1.6632345229387284,
          1.2481492936611176
         ],
         "x": [
          "Day5",
          "Day10",
          "Day15",
          "Day20",
          "Day25",
          "Day30",
          "Day40"
         ]
        },
        {
         "lowerfence": [
          0.010152451833710082,
          0.31706479936838156,
          0.3321627773344517,
          0.9005252450704575,
          1.2096887797117233,
          1.133399733901024,
          1.0635065227746965
         ],
         "mean": [
          0.40208324790000916,
          0.873072624206543,
          0.5659419298171997,
          1.1315585374832153,
          1.428511381149292,
          1.3114615678787231,
          1.132676362991333
         ],
         "median": [
          0.2777343690395355,
          0.8220840990543365,
          0.5499724447727203,
          1.1230688691139221,
          1.4213018417358398,
          1.3017168641090393,
          1.1307051181793213
         ],
         "name": "-0.2",
         "q1": [
          0.18822999484837055,
          0.7161475121974945,
          0.5077061057090759,
          1.0833671391010284,
          1.3842522650957108,
          1.2707130759954453,
          1.1191691160202026
         ],
         "q3": [
          0.3932200036942959,
          0.9382652565836906,
          0.5954316481947899,
          1.1644698828458786,
          1.4600819498300552,
          1.3347594738006592,
          1.142622709274292
         ],
         "type": "box",
         "upperfence": [
          1.492634394764901,
          1.7178245514631278,
          0.8904382228851321,
          1.4109575748443604,
          1.6877335757017136,
          1.543886524438858,
          1.214723590016365
         ],
         "x": [
          "Day5",
          "Day10",
          "Day15",
          "Day20",
          "Day25",
          "Day30",
          "Day40"
         ]
        },
        {
         "lowerfence": [
          0.009081115829758348,
          0.26892259940505037,
          0.28592142909765245,
          0.7778207689523697,
          1.1100916773080827,
          1.0610017627477646,
          1.03992175757885
         ],
         "mean": [
          0.35778939723968506,
          0.7424399256706238,
          0.48692941665649414,
          0.9752410650253296,
          1.304766297340393,
          1.2261475324630737,
          1.1065893173217773
         ],
         "median": [
          0.24669883400201797,
          0.6986967623233795,
          0.4730507731437683,
          0.9679469764232635,
          1.298876941204071,
          1.217180073261261,
          1.1043975949287415
         ],
         "name": "-0.0",
         "q1": [
          0.16704642958939075,
          0.6089581400156021,
          0.4367450475692749,
          0.934049941599369,
          1.2659890949726105,
          1.1884891539812088,
          1.0934374332427979
         ],
         "q3": [
          0.34927327558398247,
          0.7978427931666374,
          0.5120602697134018,
          1.0032856911420822,
          1.3330034911632538,
          1.247851774096489,
          1.1156785935163498
         ],
         "type": "box",
         "upperfence": [
          1.3279552668333057,
          1.4627009958028794,
          0.7678730145096779,
          1.2147310584783555,
          1.5333016216754913,
          1.440437936782837,
          1.1832199186086654
         ],
         "x": [
          "Day5",
          "Day10",
          "Day15",
          "Day20",
          "Day25",
          "Day30",
          "Day40"
         ]
        },
        {
         "lowerfence": [
          0.008030594186857348,
          0.23386020809412017,
          0.2509175710380077,
          0.6840897589921953,
          1.0260367393493652,
          0.9975088223814964,
          1.017637601494789
         ],
         "mean": [
          0.3227192163467407,
          0.6463485360145569,
          0.42706748843193054,
          0.8568395972251892,
          1.2007527351379395,
          1.1513172388076782,
          1.0809290409088135
         ],
         "median": [
          0.22230952978134155,
          0.6082194149494171,
          0.4150734543800354,
          0.8503705859184265,
          1.195642352104187,
          1.1431388854980469,
          1.0791993737220764
         ],
         "name": "0.2",
         "q1": [
          0.15065826661884785,
          0.5297241434454918,
          0.38307372480630875,
          0.8207352012395859,
          1.1660877913236618,
          1.1165223121643066,
          1.0687570571899414
         ],
         "q3": [
          0.31469759717583656,
          0.6945022270083427,
          0.44928546249866486,
          0.881363533437252,
          1.2262201458215714,
          1.171607494354248,
          1.089863583445549
         ],
         "type": "box",
         "upperfence": [
          1.1990984767675401,
          1.273672613501549,
          0.6722859099507332,
          1.0665709048509597,
          1.4045129150152207,
          1.3504540771245956,
          1.1536228865385056
         ],
         "x": [
          "Day5",
          "Day10",
          "Day15",
          "Day20",
          "Day25",
          "Day30",
          "Day40"
         ]
        },
        {
         "lowerfence": [
          0.00739733652444557,
          0.20706849060952665,
          0.22334527708590032,
          0.6107824638485909,
          0.9535387560725213,
          0.9412562668323516,
          0.9958745136857032
         ],
         "mean": [
          0.29367032647132874,
          0.5719260573387146,
          0.38040512800216675,
          0.7641534805297852,
          1.111969232559204,
          1.085019588470459,
          1.0564348697662354
         ],
         "median": [
          0.20184864848852158,
          0.5381090044975281,
          0.3696603775024414,
          0.758544385433197,
          1.107661247253418,
          1.0773732662200928,
          1.0550846457481384
         ],
         "name": "0.4",
         "q1": [
          0.1367520783096552,
          0.468814916908741,
          0.3413306809961796,
          0.7321974560618401,
          1.0809243023395538,
          1.0526225417852402,
          1.045059084892273
         ],
         "q3": [
          0.28613026067614555,
          0.6146182343363762,
          0.40016643330454826,
          0.7860556095838547,
          1.135213777422905,
          1.104028344154358,
          1.0653353929519653
         ],
         "type": "box",
         "upperfence": [
          1.0933552354574214,
          1.1290272057056427,
          0.5985956802964211,
          0.9496257334947585,
          1.2957793593406677,
          1.2703366398811342,
          1.1254260659217834
         ],
         "x": [
          "Day5",
          "Day10",
          "Day15",
          "Day20",
          "Day25",
          "Day30",
          "Day40"
         ]
        },
        {
         "lowerfence": [
          0.006773520621936781,
          0.18551793396472935,
          0.20132127739489084,
          0.5515884965658188,
          0.8902407109737396,
          0.8910137310624122,
          0.9748845547437668
         ],
         "mean": [
          0.2694399058818817,
          0.512816846370697,
          0.34301379323005676,
          0.6896679401397705,
          1.0357295274734497,
          1.0259621143341064,
          1.0333125591278076
         ],
         "median": [
          0.18521931022405624,
          0.48276370763778687,
          0.33328311145305634,
          0.6846118867397308,
          1.031886339187622,
          1.0188798904418945,
          1.0321549773216248
         ],
         "name": "0.6",
         "q1": [
          0.12574384547770023,
          0.42033497244119644,
          0.307674877345562,
          0.660795584321022,
          1.0073406249284744,
          0.9954500943422318,
          1.0224546194076538
         ],
         "q3": [
          0.2624577432870865,
          0.5512753799557686,
          0.36086853966116905,
          0.7093442976474762,
          1.057196021080017,
          1.043889805674553,
          1.0420555770397186
         ],
         "type": "box",
         "upperfence": [
          1.0049870550632487,
          1.011337399482727,
          0.5404732823371887,
          0.8570661365985872,
          1.2028077960014343,
          1.199375757575035,
          1.0992796480655669
         ],
         "x": [
          "Day5",
          "Day10",
          "Day15",
          "Day20",
          "Day25",
          "Day30",
          "Day40"
         ]
        },
        {
         "lowerfence": [
          0.006201202620286496,
          0.16830402351915844,
          0.18321587666869166,
          0.5030367925763131,
          0.835057705640793,
          0.8458573073148727,
          0.9544155597686768
         ],
         "mean": [
          0.24899886548519135,
          0.4648243486881256,
          0.31214338541030884,
          0.6281632781028748,
          0.9689646363258362,
          0.9730122685432434,
          1.0110397338867188
         ],
         "median": [
          0.17136552929878235,
          0.4375075101852417,
          0.3032560497522354,
          0.6236267983913422,
          0.9655885100364685,
          0.9663663506507874,
          1.010073482990265
         ],
         "name": "0.8",
         "q1": [
          0.11589352320879698,
          0.3810717239975929,
          0.28000833466649055,
          0.6020594835281372,
          0.9430565237998962,
          0.9444104209542274,
          1.0006952285766602
         ],
         "q3": [
          0.24265658482909203,
          0.49935103207826614,
          0.32828934118151665,
          0.6460226625204086,
          0.9888805970549583,
          0.9898724630475044,
          1.0196233987808228
         ],
         "type": "box",
         "upperfence": [
          0.929216456413269,
          0.9176947712898255,
          0.4920379601418972,
          0.7796122327446938,
          1.1221454590559006,
          1.1364890307188034,
          1.0740086168050764
         ],
         "x": [
          "Day5",
          "Day10",
          "Day15",
          "Day20",
          "Day25",
          "Day30",
          "Day40"
         ]
        },
        {
         "lowerfence": [
          0.0057978028082288835,
          0.1540135815739632,
          0.16788885705173018,
          0.46205185428261764,
          0.7862157046794892,
          0.8047370716929436,
          0.934893998503685
         ],
         "mean": [
          0.23159785568714142,
          0.42545413970947266,
          0.28638672828674316,
          0.5768843293190002,
          0.9105064272880554,
          0.9252796769142151,
          0.990084707736969
         ],
         "median": [
          0.15901386737823486,
          0.4003811180591583,
          0.2783363312482834,
          0.5726984739303589,
          0.9074152708053589,
          0.9192318022251129,
          0.9890044033527374
         ],
         "name": "1.0",
         "q1": [
          0.10765376687049866,
          0.348750539124012,
          0.25694165378808975,
          0.5528982281684875,
          0.8865571543574333,
          0.8983670249581337,
          0.9799086451530457
         ],
         "q3": [
          0.22552977316081524,
          0.4571128599345684,
          0.3012715093791485,
          0.5932649970054626,
          0.928929828107357,
          0.9414048418402672,
          0.9982273429632187
         ],
         "type": "box",
         "upperfence": [
          0.8660184413194659,
          0.8403248950839043,
          0.4515256762504578,
          0.7160599783062935,
          1.0526058942079544,
          1.0794269263744356,
          1.0503506720066071
         ],
         "x": [
          "Day5",
          "Day10",
          "Day15",
          "Day20",
          "Day25",
          "Day30",
          "Day40"
         ]
        }
       ],
       "layout": {
        "boxmode": "group",
        "template": {
         "data": {
          "bar": [
           {
            "error_x": {
             "color": "#2a3f5f"
            },
            "error_y": {
             "color": "#2a3f5f"
            },
            "marker": {
             "line": {
              "color": "#E5ECF6",
              "width": 0.5
             }
            },
            "type": "bar"
           }
          ],
          "barpolar": [
           {
            "marker": {
             "line": {
              "color": "#E5ECF6",
              "width": 0.5
             }
            },
            "type": "barpolar"
           }
          ],
          "carpet": [
           {
            "aaxis": {
             "endlinecolor": "#2a3f5f",
             "gridcolor": "white",
             "linecolor": "white",
             "minorgridcolor": "white",
             "startlinecolor": "#2a3f5f"
            },
            "baxis": {
             "endlinecolor": "#2a3f5f",
             "gridcolor": "white",
             "linecolor": "white",
             "minorgridcolor": "white",
             "startlinecolor": "#2a3f5f"
            },
            "type": "carpet"
           }
          ],
          "choropleth": [
           {
            "colorbar": {
             "outlinewidth": 0,
             "ticks": ""
            },
            "type": "choropleth"
           }
          ],
          "contour": [
           {
            "colorbar": {
             "outlinewidth": 0,
             "ticks": ""
            },
            "colorscale": [
             [
              0,
              "#0d0887"
             ],
             [
              0.1111111111111111,
              "#46039f"
             ],
             [
              0.2222222222222222,
              "#7201a8"
             ],
             [
              0.3333333333333333,
              "#9c179e"
             ],
             [
              0.4444444444444444,
              "#bd3786"
             ],
             [
              0.5555555555555556,
              "#d8576b"
             ],
             [
              0.6666666666666666,
              "#ed7953"
             ],
             [
              0.7777777777777778,
              "#fb9f3a"
             ],
             [
              0.8888888888888888,
              "#fdca26"
             ],
             [
              1,
              "#f0f921"
             ]
            ],
            "type": "contour"
           }
          ],
          "contourcarpet": [
           {
            "colorbar": {
             "outlinewidth": 0,
             "ticks": ""
            },
            "type": "contourcarpet"
           }
          ],
          "heatmap": [
           {
            "colorbar": {
             "outlinewidth": 0,
             "ticks": ""
            },
            "colorscale": [
             [
              0,
              "#0d0887"
             ],
             [
              0.1111111111111111,
              "#46039f"
             ],
             [
              0.2222222222222222,
              "#7201a8"
             ],
             [
              0.3333333333333333,
              "#9c179e"
             ],
             [
              0.4444444444444444,
              "#bd3786"
             ],
             [
              0.5555555555555556,
              "#d8576b"
             ],
             [
              0.6666666666666666,
              "#ed7953"
             ],
             [
              0.7777777777777778,
              "#fb9f3a"
             ],
             [
              0.8888888888888888,
              "#fdca26"
             ],
             [
              1,
              "#f0f921"
             ]
            ],
            "type": "heatmap"
           }
          ],
          "heatmapgl": [
           {
            "colorbar": {
             "outlinewidth": 0,
             "ticks": ""
            },
            "colorscale": [
             [
              0,
              "#0d0887"
             ],
             [
              0.1111111111111111,
              "#46039f"
             ],
             [
              0.2222222222222222,
              "#7201a8"
             ],
             [
              0.3333333333333333,
              "#9c179e"
             ],
             [
              0.4444444444444444,
              "#bd3786"
             ],
             [
              0.5555555555555556,
              "#d8576b"
             ],
             [
              0.6666666666666666,
              "#ed7953"
             ],
             [
              0.7777777777777778,
              "#fb9f3a"
             ],
             [
              0.8888888888888888,
              "#fdca26"
             ],
             [
              1,
              "#f0f921"
             ]
            ],
            "type": "heatmapgl"
           }
          ],
          "histogram": [
           {
            "marker": {
             "colorbar": {
              "outlinewidth": 0,
              "ticks": ""
             }
            },
            "type": "histogram"
           }
          ],
          "histogram2d": [
           {
            "colorbar": {
             "outlinewidth": 0,
             "ticks": ""
            },
            "colorscale": [
             [
              0,
              "#0d0887"
             ],
             [
              0.1111111111111111,
              "#46039f"
             ],
             [
              0.2222222222222222,
              "#7201a8"
             ],
             [
              0.3333333333333333,
              "#9c179e"
             ],
             [
              0.4444444444444444,
              "#bd3786"
             ],
             [
              0.5555555555555556,
              "#d8576b"
             ],
             [
              0.6666666666666666,
              "#ed7953"
             ],
             [
              0.7777777777777778,
              "#fb9f3a"
             ],
             [
              0.8888888888888888,
              "#fdca26"
             ],
             [
              1,
              "#f0f921"
             ]
            ],
            "type": "histogram2d"
           }
          ],
          "histogram2dcontour": [
           {
            "colorbar": {
             "outlinewidth": 0,
             "ticks": ""
            },
            "colorscale": [
             [
              0,
              "#0d0887"
             ],
             [
              0.1111111111111111,
              "#46039f"
             ],
             [
              0.2222222222222222,
              "#7201a8"
             ],
             [
              0.3333333333333333,
              "#9c179e"
             ],
             [
              0.4444444444444444,
              "#bd3786"
             ],
             [
              0.5555555555555556,
              "#d8576b"
             ],
             [
              0.6666666666666666,
              "#ed7953"
             ],
             [
              0.7777777777777778,
              "#fb9f3a"
             ],
             [
              0.8888888888888888,
              "#fdca26"
             ],
             [
              1,
              "#f0f921"
             ]
            ],
            "type": "histogram2dcontour"
           }
          ],
          "mesh3d": [
           {
            "colorbar": {
             "outlinewidth": 0,
             "ticks": ""
            },
            "type": "mesh3d"
           }
          ],
          "parcoords": [
           {
            "line": {
             "colorbar": {
              "outlinewidth": 0,
              "ticks": ""
             }
            },
            "type": "parcoords"
           }
          ],
          "pie": [
           {
            "automargin": true,
            "type": "pie"
           }
          ],
          "scatter": [
           {
            "marker": {
             "colorbar": {
              "outlinewidth": 0,
              "ticks": ""
             }
            },
            "type": "scatter"
           }
          ],
          "scatter3d": [
           {
            "line": {
             "colorbar": {
              "outlinewidth": 0,
              "ticks": ""
             }
            },
            "marker": {
             "colorbar": {
              "outlinewidth": 0,
              "ticks": ""
             }
            },
            "type": "scatter3d"
           }
          ],
          "scattercarpet": [
           {
            "marker": {
             "colorbar": {
              "outlinewidth": 0,
              "ticks": ""
             }
            },
            "type": "scattercarpet"
           }
          ],
          "scattergeo": [
           {
            "marker": {
             "colorbar": {
              "outlinewidth": 0,
              "ticks": ""
             }
            },
            "type": "scattergeo"
           }
          ],
          "scattergl": [
           {
            "marker": {
             "colorbar": {
              "outlinewidth": 0,
              "ticks": ""
             }
            },
            "type": "scattergl"
           }
          ],
          "scattermapbox": [
           {
            "marker": {
             "colorbar": {
              "outlinewidth": 0,
              "ticks": ""
             }
            },
            "type": "scattermapbox"
           }
          ],
          "scatterpolar": [
           {
            "marker": {
             "colorbar": {
              "outlinewidth": 0,
              "ticks": ""
             }
            },
            "type": "scatterpolar"
           }
          ],
          "scatterpolargl": [
           {
            "marker": {
             "colorbar": {
              "outlinewidth": 0,
              "ticks": ""
             }
            },
            "type": "scatterpolargl"
           }
          ],
          "scatterternary": [
           {
            "marker": {
             "colorbar": {
              "outlinewidth": 0,
              "ticks": ""
             }
            },
            "type": "scatterternary"
           }
          ],
          "surface": [
           {
            "colorbar": {
             "outlinewidth": 0,
             "ticks": ""
            },
            "colorscale": [
             [
              0,
              "#0d0887"
             ],
             [
              0.1111111111111111,
              "#46039f"
             ],
             [
              0.2222222222222222,
              "#7201a8"
             ],
             [
              0.3333333333333333,
              "#9c179e"
             ],
             [
              0.4444444444444444,
              "#bd3786"
             ],
             [
              0.5555555555555556,
              "#d8576b"
             ],
             [
              0.6666666666666666,
              "#ed7953"
             ],
             [
              0.7777777777777778,
              "#fb9f3a"
             ],
             [
              0.8888888888888888,
              "#fdca26"
             ],
             [
              1,
              "#f0f921"
             ]
            ],
            "type": "surface"
           }
          ],
          "table": [
           {
            "cells": {
             "fill": {
              "color": "#EBF0F8"
             },
             "line": {
              "color": "white"
             }
            },
            "header": {
             "fill": {
              "color": "#C8D4E3"
             },
             "line": {
              "color": "white"
             }
            },
            "type": "table"
           }
          ]
         },
         "layout": {
          "annotationdefaults": {
           "arrowcolor": "#2a3f5f",
           "arrowhead": 0,
           "arrowwidth": 1
          },
          "autotypenumbers": "strict",
          "coloraxis": {
           "colorbar": {
            "outlinewidth": 0,
            "ticks": ""
           }
          },
          "colorscale": {
           "diverging": [
            [
             0,
             "#8e0152"
            ],
            [
             0.1,
             "#c51b7d"
            ],
            [
             0.2,
             "#de77ae"
            ],
            [
             0.3,
             "#f1b6da"
            ],
            [
             0.4,
             "#fde0ef"
            ],
            [
             0.5,
             "#f7f7f7"
            ],
            [
             0.6,
             "#e6f5d0"
            ],
            [
             0.7,
             "#b8e186"
            ],
            [
             0.8,
             "#7fbc41"
            ],
            [
             0.9,
             "#4d9221"
            ],
            [
             1,
             "#276419"
            ]
           ],
           "sequential": [
            [
             0,
             "#0d0887"
            ],
            [
             0.1111111111111111,
             "#46039f"
            ],
            [
             0.2222222222222222,
             "#7201a8"
            ],
            [
             0.3333333333333333,
             "#9c179e"
            ],
            [
             0.4444444444444444,
             "#bd3786"
            ],
            [
             0.5555555555555556,
             "#d8576b"
            ],
            [
             0.6666666666666666,
             "#ed7953"
            ],
            [
             0.7777777777777778,
             "#fb9f3a"
            ],
            [
             0.8888888888888888,
             "#fdca26"
            ],
            [
             1,
             "#f0f921"
            ]
           ],
           "sequentialminus": [
            [
             0,
             "#0d0887"
            ],
            [
             0.1111111111111111,
             "#46039f"
            ],
            [
             0.2222222222222222,
             "#7201a8"
            ],
            [
             0.3333333333333333,
             "#9c179e"
            ],
            [
             0.4444444444444444,
             "#bd3786"
            ],
            [
             0.5555555555555556,
             "#d8576b"
            ],
            [
             0.6666666666666666,
             "#ed7953"
            ],
            [
             0.7777777777777778,
             "#fb9f3a"
            ],
            [
             0.8888888888888888,
             "#fdca26"
            ],
            [
             1,
             "#f0f921"
            ]
           ]
          },
          "colorway": [
           "#636efa",
           "#EF553B",
           "#00cc96",
           "#ab63fa",
           "#FFA15A",
           "#19d3f3",
           "#FF6692",
           "#B6E880",
           "#FF97FF",
           "#FECB52"
          ],
          "font": {
           "color": "#2a3f5f"
          },
          "geo": {
           "bgcolor": "white",
           "lakecolor": "white",
           "landcolor": "#E5ECF6",
           "showlakes": true,
           "showland": true,
           "subunitcolor": "white"
          },
          "hoverlabel": {
           "align": "left"
          },
          "hovermode": "closest",
          "mapbox": {
           "style": "light"
          },
          "paper_bgcolor": "white",
          "plot_bgcolor": "#E5ECF6",
          "polar": {
           "angularaxis": {
            "gridcolor": "white",
            "linecolor": "white",
            "ticks": ""
           },
           "bgcolor": "#E5ECF6",
           "radialaxis": {
            "gridcolor": "white",
            "linecolor": "white",
            "ticks": ""
           }
          },
          "scene": {
           "xaxis": {
            "backgroundcolor": "#E5ECF6",
            "gridcolor": "white",
            "gridwidth": 2,
            "linecolor": "white",
            "showbackground": true,
            "ticks": "",
            "zerolinecolor": "white"
           },
           "yaxis": {
            "backgroundcolor": "#E5ECF6",
            "gridcolor": "white",
            "gridwidth": 2,
            "linecolor": "white",
            "showbackground": true,
            "ticks": "",
            "zerolinecolor": "white"
           },
           "zaxis": {
            "backgroundcolor": "#E5ECF6",
            "gridcolor": "white",
            "gridwidth": 2,
            "linecolor": "white",
            "showbackground": true,
            "ticks": "",
            "zerolinecolor": "white"
           }
          },
          "shapedefaults": {
           "line": {
            "color": "#2a3f5f"
           }
          },
          "ternary": {
           "aaxis": {
            "gridcolor": "white",
            "linecolor": "white",
            "ticks": ""
           },
           "baxis": {
            "gridcolor": "white",
            "linecolor": "white",
            "ticks": ""
           },
           "bgcolor": "#E5ECF6",
           "caxis": {
            "gridcolor": "white",
            "linecolor": "white",
            "ticks": ""
           }
          },
          "title": {
           "x": 0.05
          },
          "xaxis": {
           "automargin": true,
           "gridcolor": "white",
           "linecolor": "white",
           "ticks": "",
           "title": {
            "standoff": 15
           },
           "zerolinecolor": "white",
           "zerolinewidth": 2
          },
          "yaxis": {
           "automargin": true,
           "gridcolor": "white",
           "linecolor": "white",
           "ticks": "",
           "title": {
            "standoff": 15
           },
           "zerolinecolor": "white",
           "zerolinewidth": 2
          }
         }
        },
        "title": {
         "text": "ON"
        }
       }
      }
     },
     "metadata": {}
    }
   ],
   "source": [
    "# Create list of names for x-axis and traces\n",
    "group_name = ['Day{}'.format(x) for x in chosen_times]\n",
    "\n",
    "# Sort results\n",
    "all_intervals.sort_values(by=['Epsilon','Time Points'], inplace=True)\n",
    "\n",
    "# Plot (box plot for inference)\n",
    "fig = go.Figure()\n",
    "\n",
    "n = len(group_name)\n",
    "for i in range(len(epsilon_range)):\n",
    "    fig.add_trace(\n",
    "        go.Box(\n",
    "            mean=all_intervals.loc[all_intervals['Central Probability']==0]['Mean'][i*n:(i+1)*n],\n",
    "            median=all_intervals.loc[all_intervals['Central Probability']==0]['Lower bound CI'][i*n:(i+1)*n],\n",
    "            q1=all_intervals.loc[all_intervals['Central Probability']==0.25]['Lower bound CI'][i*n:(i+1)*n],\n",
    "            q3=all_intervals.loc[all_intervals['Central Probability']==0.25]['Upper bound CI'][i*n:(i+1)*n],\n",
    "            upperfence=all_intervals.loc[all_intervals['Central Probability']==0.95]['Upper bound CI'][i*n:(i+1)*n],\n",
    "            lowerfence=all_intervals.loc[all_intervals['Central Probability']==0.95]['Lower bound CI'][i*n:(i+1)*n],\n",
    "            x=group_name,\n",
    "            name=str(round(epsilon_range[i],1))\n",
    "        )\n",
    "    )\n",
    "fig.update_layout(boxmode='group', title='ON')\n",
    "fig.show()"
   ]
  },
  {
   "cell_type": "code",
   "execution_count": null,
   "metadata": {},
   "outputs": [],
   "source": []
  }
 ]
}