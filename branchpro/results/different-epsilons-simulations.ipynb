{
 "metadata": {
  "language_info": {
   "codemirror_mode": {
    "name": "ipython",
    "version": 3
   },
   "file_extension": ".py",
   "mimetype": "text/x-python",
   "name": "python",
   "nbconvert_exporter": "python",
   "pygments_lexer": "ipython3",
   "version": "3.8.5"
  },
  "orig_nbformat": 2,
  "kernelspec": {
   "name": "python3",
   "display_name": "Python 3.8.5 64-bit ('base': conda)",
   "metadata": {
    "interpreter": {
     "hash": "34783718b96b00301f03fbc7cc717743f1d89135027a4004f1427440c34696d4"
    }
   }
  }
 },
 "nbformat": 4,
 "nbformat_minor": 2,
 "cells": [
  {
   "source": [
    "# Differences in behaviour of Imported cases - ONTARIO (Canada)\n",
    "\n",
    "The aim of this notebook is to show how different behaviours of imported cases can affect the outcome of the epidemic in the Canadian state of Ontario. The difference in these behaviours is encompased by the different values the epsilon parameter takes. Epsilon represents the proportionality constant of the reproduction number for imported cases with respect to its analog for local ones."
   ],
   "cell_type": "markdown",
   "metadata": {}
  },
  {
   "cell_type": "code",
   "execution_count": 1,
   "metadata": {},
   "outputs": [],
   "source": [
    "# Import libraries\n",
    "import numpy as np\n",
    "import math\n",
    "import branchpro\n",
    "import scipy.stats\n",
    "import matplotlib\n",
    "import plotly.graph_objects as go\n",
    "from matplotlib import pyplot as plt\n",
    "import os\n",
    "import pandas as pd\n"
   ]
  },
  {
   "cell_type": "code",
   "execution_count": 2,
   "metadata": {},
   "outputs": [],
   "source": [
    "# Read serial interval\n",
    "si_file = 'si-epinow'\n",
    "path = os.path.join('../data_library/serial_interval', '{}.csv'.format(si_file))\n",
    "serial_interval = pd.read_csv(path, header=None)\n",
    "serial_interval = serial_interval.fillna(0)\n",
    "serial_intervals = serial_interval.values.T"
   ]
  },
  {
   "cell_type": "code",
   "execution_count": 3,
   "metadata": {},
   "outputs": [],
   "source": [
    "# Read Ontario data\n",
    "path = os.path.join('../data_library/covid_ontario/ON.csv')\n",
    "data = pd.read_csv(path)[:51]"
   ]
  },
  {
   "cell_type": "code",
   "execution_count": 4,
   "metadata": {},
   "outputs": [],
   "source": [
    "time_key = 'Time'\n",
    "num_timepoints = max(data[time_key])\n",
    "data_times = data[time_key]\n",
    "\n",
    "# Pad with zeros the time points where we have no information on\n",
    "# the number of incidences\n",
    "padded_inc_data = data.set_index(time_key).reindex(\n",
    "    range(\n",
    "        1, max(data_times)+1)\n",
    "        ).fillna(0).reset_index()\n",
    "locally_infected_cases = padded_inc_data['Incidence Number']\n",
    "imported_cases = padded_inc_data['Imported Cases']\n",
    "\n",
    "start_times = np.arange(1, num_timepoints+1, dtype=int)\n",
    "times = np.arange(num_timepoints+1)"
   ]
  },
  {
   "cell_type": "code",
   "execution_count": 5,
   "metadata": {},
   "outputs": [],
   "source": [
    "# Inference R_t profile, but using the LocImpBranchProPosterior\n",
    "tau = 2\n",
    "R_t_start = tau+1\n",
    "a = 1\n",
    "b = 0.8\n",
    "\n",
    "# Transform our incidence data into pandas dataframes\n",
    "inc_data = pd.DataFrame(\n",
    "    {\n",
    "        'Time': start_times,\n",
    "        'Incidence Number': locally_infected_cases\n",
    "    }\n",
    ")\n",
    "\n",
    "imported_inc_data = pd.DataFrame(\n",
    "    {\n",
    "        'Time': start_times,\n",
    "        'Incidence Number': imported_cases\n",
    "    }\n",
    ")\n",
    "\n",
    "epsilon = 0\n",
    "inference = branchpro.LocImpBranchProPosteriorMultSI(\n",
    "    inc_data=inc_data,\n",
    "    imported_inc_data=imported_inc_data,\n",
    "    epsilon=epsilon,\n",
    "    daily_serial_intervals=serial_intervals,\n",
    "    alpha=a,\n",
    "    beta=1/b)\n",
    "\n",
    "inference.run_inference(tau=tau)\n",
    "intervals = inference.get_intervals(central_prob=.95)\n",
    "\n",
    "new_rs = intervals['Mean'].values.tolist()"
   ]
  },
  {
   "cell_type": "code",
   "execution_count": 29,
   "metadata": {},
   "outputs": [],
   "source": [
    "# Construct LocImpBranchProModel object\n",
    "epsilon_values = [-0.5, 0, 0.5]\n",
    "\n",
    "initial_r = new_rs[0]\n",
    "si = np.median(serial_intervals, axis=0)\n",
    "parameters = 0 # initial number of cases\n",
    "\n",
    "all_local_cases = []\n",
    "num_simulations = 1000\n",
    "samples = []\n",
    "central_prob = 0.95\n",
    "\n",
    "for _, epsilon in enumerate(epsilon_values):\n",
    "    m = branchpro.LocImpBranchProModel(initial_r, si, epsilon)\n",
    "\n",
    "    m.set_r_profile(new_rs, start_times[R_t_start:])\n",
    "\n",
    "    m.set_imported_cases(start_times, imported_cases)\n",
    "\n",
    "    for sim in range(num_simulations):\n",
    "        samples.append(m.simulate(parameters, times))\n",
    "    \n",
    "    simulation_estimates = np.mean(np.vstack(samples), axis=0)\n",
    "    lb = 100*(1-central_prob)/2\n",
    "    ub = 100*(1+central_prob)/2\n",
    "    simulation_interval = np.percentile(\n",
    "        np.vstack(samples), q=np.array([lb, ub]), axis=0)\n",
    "\n",
    "    simulation_df = pd.DataFrame(\n",
    "        {\n",
    "            'Mean': simulation_estimates,\n",
    "            'Lower bound CI': simulation_interval[0],\n",
    "            'Upper bound CI': simulation_interval[1]\n",
    "        }\n",
    "    )\n",
    "\n",
    "    all_local_cases.append(simulation_df)"
   ]
  },
  {
   "cell_type": "code",
   "execution_count": 35,
   "metadata": {},
   "outputs": [
    {
     "output_type": "display_data",
     "data": {
      "application/vnd.plotly.v1+json": {
       "config": {
        "plotlyServerURL": "https://plot.ly"
       },
       "data": [
        {
         "name": "Imported Cases",
         "type": "bar",
         "x": [
          0,
          1,
          2,
          3,
          4,
          5,
          6,
          7,
          8,
          9,
          10,
          11,
          12,
          13,
          14,
          15,
          16,
          17,
          18,
          19,
          20,
          21,
          22,
          23,
          24,
          25,
          26,
          27,
          28,
          29,
          30,
          31,
          32,
          33,
          34,
          35,
          36,
          37,
          38,
          39,
          40,
          41,
          42,
          43,
          44,
          45,
          46,
          47,
          48,
          49,
          50,
          51
         ],
         "y": [
          2,
          0,
          2,
          1,
          4,
          1,
          3,
          4,
          4,
          6,
          17,
          26,
          26,
          24,
          31,
          34,
          41,
          29,
          28,
          45,
          27,
          27,
          48,
          61,
          44,
          74,
          90,
          78,
          51,
          113,
          99,
          81,
          70,
          59,
          31,
          28,
          33,
          24,
          24,
          30,
          18,
          14,
          20,
          13,
          6,
          8,
          6,
          11,
          6,
          8,
          4
         ]
        },
        {
         "line": {
          "color": "green"
         },
         "name": "Local Incidences for epsilon = -0.5",
         "type": "scatter",
         "x": [
          0,
          1,
          2,
          3,
          4,
          5,
          6,
          7,
          8,
          9,
          10,
          11,
          12,
          13,
          14,
          15,
          16,
          17,
          18,
          19,
          20,
          21,
          22,
          23,
          24,
          25,
          26,
          27,
          28,
          29,
          30,
          31,
          32,
          33,
          34,
          35,
          36,
          37,
          38,
          39,
          40,
          41,
          42,
          43,
          44,
          45,
          46,
          47,
          48,
          49,
          50,
          51
         ],
         "y": [
          0,
          0,
          0.011,
          0.098,
          0.12,
          0.139,
          0.279,
          0.373,
          0.571,
          0.529,
          1.147,
          2.339,
          4.381,
          6.63,
          6.902,
          5.248,
          6.736,
          8.497,
          13.115,
          16.306,
          22.532,
          24.519,
          28.538,
          36.175,
          47.018,
          54.101,
          69.513,
          85.483,
          98.697,
          100.906,
          122.393,
          147.484,
          185.296,
          194.8,
          211.545,
          199.558,
          192.415,
          195.862,
          214.999,
          235.547,
          237.249,
          227.075,
          226.79,
          239.091,
          272.943,
          288.737,
          304.241,
          300.249,
          332.96,
          329.942,
          333.353,
          313.185
         ]
        },
        {
         "fill": "toself",
         "fillcolor": "green",
         "line": {
          "color": "green"
         },
         "mode": "lines",
         "name": "Credible interval",
         "opacity": 0.15,
         "type": "scatter",
         "x": [
          0,
          1,
          2,
          3,
          4,
          5,
          6,
          7,
          8,
          9,
          10,
          11,
          12,
          13,
          14,
          15,
          16,
          17,
          18,
          19,
          20,
          21,
          22,
          23,
          24,
          25,
          26,
          27,
          28,
          29,
          30,
          31,
          32,
          33,
          34,
          35,
          36,
          37,
          38,
          39,
          40,
          41,
          42,
          43,
          44,
          45,
          46,
          47,
          48,
          49,
          50,
          51,
          51,
          50,
          49,
          48,
          47,
          46,
          45,
          44,
          43,
          42,
          41,
          40,
          39,
          38,
          37,
          36,
          35,
          34,
          33,
          32,
          31,
          30,
          29,
          28,
          27,
          26,
          25,
          24,
          23,
          22,
          21,
          20,
          19,
          18,
          17,
          16,
          15,
          14,
          13,
          12,
          11,
          10,
          9,
          8,
          7,
          6,
          5,
          4,
          3,
          2,
          1,
          0
         ],
         "y": [
          0,
          0,
          0,
          1,
          1,
          1,
          2,
          2,
          3,
          2,
          4,
          6,
          9,
          13,
          13,
          10,
          12,
          15,
          21,
          25,
          32,
          35.02499999999998,
          40,
          48.02499999999998,
          62,
          69.02499999999998,
          88,
          109,
          124,
          124,
          149.02499999999998,
          176.02499999999998,
          221,
          231,
          248,
          236.02499999999998,
          226,
          234,
          252.02499999999998,
          277.025,
          278.04999999999995,
          269.04999999999995,
          266,
          283,
          322,
          336,
          358.025,
          351,
          393,
          391.025,
          393.025,
          371,
          262,
          275.975,
          277,
          279.975,
          250,
          257,
          245.97500000000002,
          230,
          200,
          191,
          188.97500000000002,
          201,
          195,
          179,
          162,
          157,
          165,
          177,
          161,
          153.97500000000002,
          119,
          97,
          78,
          76,
          66,
          52,
          39,
          32.97500000000002,
          24,
          18,
          15,
          14,
          9,
          6,
          3,
          2,
          1,
          2,
          2,
          1,
          0,
          0,
          0,
          0,
          0,
          0,
          0,
          0,
          0,
          0,
          0,
          0
         ]
        },
        {
         "line": {
          "color": "indigo"
         },
         "name": "Local Incidences for epsilon = 0",
         "type": "scatter",
         "x": [
          0,
          1,
          2,
          3,
          4,
          5,
          6,
          7,
          8,
          9,
          10,
          11,
          12,
          13,
          14,
          15,
          16,
          17,
          18,
          19,
          20,
          21,
          22,
          23,
          24,
          25,
          26,
          27,
          28,
          29,
          30,
          31,
          32,
          33,
          34,
          35,
          36,
          37,
          38,
          39,
          40,
          41,
          42,
          43,
          44,
          45,
          46,
          47,
          48,
          49,
          50,
          51
         ],
         "y": [
          0,
          0,
          0.023,
          0.1365,
          0.201,
          0.2045,
          0.4465,
          0.557,
          0.8365,
          0.7815,
          1.6595,
          3.444,
          6.5765,
          9.9185,
          10.2715,
          7.7855,
          10.156,
          12.7965,
          19.622,
          24.457,
          33.4855,
          36.7115,
          42.899,
          53.916,
          70.5805,
          81.0115,
          104.2405,
          128.6425,
          147.3315,
          150.644,
          183.074,
          222.054,
          277.0255,
          293.5605,
          316.0835,
          298.5585,
          287.9255,
          293.3505,
          322.4605,
          354.213,
          355.927,
          340.9095,
          339.745,
          357.4985,
          408.215,
          432.329,
          455.56,
          450.076,
          499.287,
          494.953,
          499.9655,
          468.4975
         ]
        },
        {
         "fill": "toself",
         "fillcolor": "indigo",
         "line": {
          "color": "indigo"
         },
         "mode": "lines",
         "name": "Credible interval",
         "opacity": 0.15,
         "type": "scatter",
         "x": [
          0,
          1,
          2,
          3,
          4,
          5,
          6,
          7,
          8,
          9,
          10,
          11,
          12,
          13,
          14,
          15,
          16,
          17,
          18,
          19,
          20,
          21,
          22,
          23,
          24,
          25,
          26,
          27,
          28,
          29,
          30,
          31,
          32,
          33,
          34,
          35,
          36,
          37,
          38,
          39,
          40,
          41,
          42,
          43,
          44,
          45,
          46,
          47,
          48,
          49,
          50,
          51,
          51,
          50,
          49,
          48,
          47,
          46,
          45,
          44,
          43,
          42,
          41,
          40,
          39,
          38,
          37,
          36,
          35,
          34,
          33,
          32,
          31,
          30,
          29,
          28,
          27,
          26,
          25,
          24,
          23,
          22,
          21,
          20,
          19,
          18,
          17,
          16,
          15,
          14,
          13,
          12,
          11,
          10,
          9,
          8,
          7,
          6,
          5,
          4,
          3,
          2,
          1,
          0
         ],
         "y": [
          0,
          0,
          0,
          1,
          1,
          1,
          2,
          3,
          3,
          3,
          5,
          8,
          14,
          20,
          21,
          16,
          20,
          24,
          35,
          42,
          56,
          61,
          71,
          87,
          113,
          128,
          162.02499999999986,
          200,
          224,
          228,
          275.02499999999986,
          334,
          409,
          432,
          464,
          441.02499999999986,
          425,
          434,
          472.02499999999986,
          524.0249999999999,
          525,
          504.02499999999986,
          498.02499999999986,
          528,
          602,
          638,
          670,
          663,
          735,
          730.0249999999999,
          736,
          693,
          269,
          286.9750000000001,
          286,
          288,
          258,
          263,
          251.97500000000005,
          235,
          205,
          197,
          195,
          205,
          201,
          184,
          167,
          162.97500000000002,
          172,
          183,
          165.97500000000002,
          158,
          123,
          101,
          81,
          79,
          69,
          55.975000000000044,
          41.975000000000044,
          35,
          26,
          19,
          17,
          15,
          10,
          7,
          4,
          3,
          2,
          3,
          3,
          1,
          0,
          0,
          0,
          0,
          0,
          0,
          0,
          0,
          0,
          0,
          0,
          0
         ]
        },
        {
         "line": {
          "color": "yellow"
         },
         "name": "Local Incidences for epsilon = 0.5",
         "type": "scatter",
         "x": [
          0,
          1,
          2,
          3,
          4,
          5,
          6,
          7,
          8,
          9,
          10,
          11,
          12,
          13,
          14,
          15,
          16,
          17,
          18,
          19,
          20,
          21,
          22,
          23,
          24,
          25,
          26,
          27,
          28,
          29,
          30,
          31,
          32,
          33,
          34,
          35,
          36,
          37,
          38,
          39,
          40,
          41,
          42,
          43,
          44,
          45,
          46,
          47,
          48,
          49,
          50,
          51
         ],
         "y": [
          0,
          0,
          0.030666666666666665,
          0.172,
          0.257,
          0.2803333333333333,
          0.607,
          0.7446666666666667,
          1.085,
          1.0286666666666666,
          2.216666666666667,
          4.513,
          8.864333333333333,
          13.249333333333333,
          13.784666666666666,
          10.386333333333333,
          13.540666666666667,
          17.101,
          26.143,
          32.746,
          44.73433333333333,
          49.034,
          57.25366666666667,
          71.82766666666667,
          94.39733333333334,
          108.251,
          139.27766666666668,
          171.46266666666668,
          196.78533333333334,
          200.907,
          244.40966666666668,
          296.3623333333333,
          369.6623333333333,
          391.29766666666666,
          421.55133333333333,
          398.1893333333333,
          383.5443333333333,
          391.46233333333333,
          430.299,
          471.95366666666666,
          474.4583333333333,
          455.04366666666664,
          452.883,
          475.889,
          544.4103333333334,
          576.4813333333333,
          607.159,
          600.518,
          665.2356666666667,
          660.0616666666666,
          666.3646666666667,
          623.5243333333333
         ]
        },
        {
         "fill": "toself",
         "fillcolor": "yellow",
         "line": {
          "color": "yellow"
         },
         "mode": "lines",
         "name": "Credible interval",
         "opacity": 0.15,
         "type": "scatter",
         "x": [
          0,
          1,
          2,
          3,
          4,
          5,
          6,
          7,
          8,
          9,
          10,
          11,
          12,
          13,
          14,
          15,
          16,
          17,
          18,
          19,
          20,
          21,
          22,
          23,
          24,
          25,
          26,
          27,
          28,
          29,
          30,
          31,
          32,
          33,
          34,
          35,
          36,
          37,
          38,
          39,
          40,
          41,
          42,
          43,
          44,
          45,
          46,
          47,
          48,
          49,
          50,
          51,
          51,
          50,
          49,
          48,
          47,
          46,
          45,
          44,
          43,
          42,
          41,
          40,
          39,
          38,
          37,
          36,
          35,
          34,
          33,
          32,
          31,
          30,
          29,
          28,
          27,
          26,
          25,
          24,
          23,
          22,
          21,
          20,
          19,
          18,
          17,
          16,
          15,
          14,
          13,
          12,
          11,
          10,
          9,
          8,
          7,
          6,
          5,
          4,
          3,
          2,
          1,
          0
         ],
         "y": [
          0,
          0,
          1,
          1,
          2,
          2,
          3,
          3,
          4,
          4,
          6,
          11,
          20,
          27,
          27,
          21.02500000000009,
          27,
          33,
          49,
          60,
          79,
          87,
          101,
          124,
          163,
          183,
          233,
          284.0250000000001,
          327,
          331,
          400.0250000000001,
          483,
          599,
          635,
          680,
          642.0250000000001,
          621.0250000000001,
          631,
          696,
          761,
          764,
          738,
          732,
          763,
          878,
          929,
          981,
          970,
          1069,
          1064,
          1075,
          1001.0250000000001,
          273,
          291,
          291,
          292,
          262,
          268,
          255,
          239,
          209,
          199,
          197.97500000000008,
          209,
          205,
          187,
          170,
          167,
          175,
          186,
          169,
          161,
          126,
          104,
          84,
          81,
          70.97500000000007,
          57,
          43,
          36,
          28,
          21,
          17.975000000000065,
          16,
          11,
          8,
          4,
          3,
          2,
          3,
          3,
          2,
          0,
          0,
          0,
          0,
          0,
          0,
          0,
          0,
          0,
          0,
          0,
          0
         ]
        }
       ],
       "layout": {
        "template": {
         "data": {
          "bar": [
           {
            "error_x": {
             "color": "#2a3f5f"
            },
            "error_y": {
             "color": "#2a3f5f"
            },
            "marker": {
             "line": {
              "color": "#E5ECF6",
              "width": 0.5
             }
            },
            "type": "bar"
           }
          ],
          "barpolar": [
           {
            "marker": {
             "line": {
              "color": "#E5ECF6",
              "width": 0.5
             }
            },
            "type": "barpolar"
           }
          ],
          "carpet": [
           {
            "aaxis": {
             "endlinecolor": "#2a3f5f",
             "gridcolor": "white",
             "linecolor": "white",
             "minorgridcolor": "white",
             "startlinecolor": "#2a3f5f"
            },
            "baxis": {
             "endlinecolor": "#2a3f5f",
             "gridcolor": "white",
             "linecolor": "white",
             "minorgridcolor": "white",
             "startlinecolor": "#2a3f5f"
            },
            "type": "carpet"
           }
          ],
          "choropleth": [
           {
            "colorbar": {
             "outlinewidth": 0,
             "ticks": ""
            },
            "type": "choropleth"
           }
          ],
          "contour": [
           {
            "colorbar": {
             "outlinewidth": 0,
             "ticks": ""
            },
            "colorscale": [
             [
              0,
              "#0d0887"
             ],
             [
              0.1111111111111111,
              "#46039f"
             ],
             [
              0.2222222222222222,
              "#7201a8"
             ],
             [
              0.3333333333333333,
              "#9c179e"
             ],
             [
              0.4444444444444444,
              "#bd3786"
             ],
             [
              0.5555555555555556,
              "#d8576b"
             ],
             [
              0.6666666666666666,
              "#ed7953"
             ],
             [
              0.7777777777777778,
              "#fb9f3a"
             ],
             [
              0.8888888888888888,
              "#fdca26"
             ],
             [
              1,
              "#f0f921"
             ]
            ],
            "type": "contour"
           }
          ],
          "contourcarpet": [
           {
            "colorbar": {
             "outlinewidth": 0,
             "ticks": ""
            },
            "type": "contourcarpet"
           }
          ],
          "heatmap": [
           {
            "colorbar": {
             "outlinewidth": 0,
             "ticks": ""
            },
            "colorscale": [
             [
              0,
              "#0d0887"
             ],
             [
              0.1111111111111111,
              "#46039f"
             ],
             [
              0.2222222222222222,
              "#7201a8"
             ],
             [
              0.3333333333333333,
              "#9c179e"
             ],
             [
              0.4444444444444444,
              "#bd3786"
             ],
             [
              0.5555555555555556,
              "#d8576b"
             ],
             [
              0.6666666666666666,
              "#ed7953"
             ],
             [
              0.7777777777777778,
              "#fb9f3a"
             ],
             [
              0.8888888888888888,
              "#fdca26"
             ],
             [
              1,
              "#f0f921"
             ]
            ],
            "type": "heatmap"
           }
          ],
          "heatmapgl": [
           {
            "colorbar": {
             "outlinewidth": 0,
             "ticks": ""
            },
            "colorscale": [
             [
              0,
              "#0d0887"
             ],
             [
              0.1111111111111111,
              "#46039f"
             ],
             [
              0.2222222222222222,
              "#7201a8"
             ],
             [
              0.3333333333333333,
              "#9c179e"
             ],
             [
              0.4444444444444444,
              "#bd3786"
             ],
             [
              0.5555555555555556,
              "#d8576b"
             ],
             [
              0.6666666666666666,
              "#ed7953"
             ],
             [
              0.7777777777777778,
              "#fb9f3a"
             ],
             [
              0.8888888888888888,
              "#fdca26"
             ],
             [
              1,
              "#f0f921"
             ]
            ],
            "type": "heatmapgl"
           }
          ],
          "histogram": [
           {
            "marker": {
             "colorbar": {
              "outlinewidth": 0,
              "ticks": ""
             }
            },
            "type": "histogram"
           }
          ],
          "histogram2d": [
           {
            "colorbar": {
             "outlinewidth": 0,
             "ticks": ""
            },
            "colorscale": [
             [
              0,
              "#0d0887"
             ],
             [
              0.1111111111111111,
              "#46039f"
             ],
             [
              0.2222222222222222,
              "#7201a8"
             ],
             [
              0.3333333333333333,
              "#9c179e"
             ],
             [
              0.4444444444444444,
              "#bd3786"
             ],
             [
              0.5555555555555556,
              "#d8576b"
             ],
             [
              0.6666666666666666,
              "#ed7953"
             ],
             [
              0.7777777777777778,
              "#fb9f3a"
             ],
             [
              0.8888888888888888,
              "#fdca26"
             ],
             [
              1,
              "#f0f921"
             ]
            ],
            "type": "histogram2d"
           }
          ],
          "histogram2dcontour": [
           {
            "colorbar": {
             "outlinewidth": 0,
             "ticks": ""
            },
            "colorscale": [
             [
              0,
              "#0d0887"
             ],
             [
              0.1111111111111111,
              "#46039f"
             ],
             [
              0.2222222222222222,
              "#7201a8"
             ],
             [
              0.3333333333333333,
              "#9c179e"
             ],
             [
              0.4444444444444444,
              "#bd3786"
             ],
             [
              0.5555555555555556,
              "#d8576b"
             ],
             [
              0.6666666666666666,
              "#ed7953"
             ],
             [
              0.7777777777777778,
              "#fb9f3a"
             ],
             [
              0.8888888888888888,
              "#fdca26"
             ],
             [
              1,
              "#f0f921"
             ]
            ],
            "type": "histogram2dcontour"
           }
          ],
          "mesh3d": [
           {
            "colorbar": {
             "outlinewidth": 0,
             "ticks": ""
            },
            "type": "mesh3d"
           }
          ],
          "parcoords": [
           {
            "line": {
             "colorbar": {
              "outlinewidth": 0,
              "ticks": ""
             }
            },
            "type": "parcoords"
           }
          ],
          "pie": [
           {
            "automargin": true,
            "type": "pie"
           }
          ],
          "scatter": [
           {
            "marker": {
             "colorbar": {
              "outlinewidth": 0,
              "ticks": ""
             }
            },
            "type": "scatter"
           }
          ],
          "scatter3d": [
           {
            "line": {
             "colorbar": {
              "outlinewidth": 0,
              "ticks": ""
             }
            },
            "marker": {
             "colorbar": {
              "outlinewidth": 0,
              "ticks": ""
             }
            },
            "type": "scatter3d"
           }
          ],
          "scattercarpet": [
           {
            "marker": {
             "colorbar": {
              "outlinewidth": 0,
              "ticks": ""
             }
            },
            "type": "scattercarpet"
           }
          ],
          "scattergeo": [
           {
            "marker": {
             "colorbar": {
              "outlinewidth": 0,
              "ticks": ""
             }
            },
            "type": "scattergeo"
           }
          ],
          "scattergl": [
           {
            "marker": {
             "colorbar": {
              "outlinewidth": 0,
              "ticks": ""
             }
            },
            "type": "scattergl"
           }
          ],
          "scattermapbox": [
           {
            "marker": {
             "colorbar": {
              "outlinewidth": 0,
              "ticks": ""
             }
            },
            "type": "scattermapbox"
           }
          ],
          "scatterpolar": [
           {
            "marker": {
             "colorbar": {
              "outlinewidth": 0,
              "ticks": ""
             }
            },
            "type": "scatterpolar"
           }
          ],
          "scatterpolargl": [
           {
            "marker": {
             "colorbar": {
              "outlinewidth": 0,
              "ticks": ""
             }
            },
            "type": "scatterpolargl"
           }
          ],
          "scatterternary": [
           {
            "marker": {
             "colorbar": {
              "outlinewidth": 0,
              "ticks": ""
             }
            },
            "type": "scatterternary"
           }
          ],
          "surface": [
           {
            "colorbar": {
             "outlinewidth": 0,
             "ticks": ""
            },
            "colorscale": [
             [
              0,
              "#0d0887"
             ],
             [
              0.1111111111111111,
              "#46039f"
             ],
             [
              0.2222222222222222,
              "#7201a8"
             ],
             [
              0.3333333333333333,
              "#9c179e"
             ],
             [
              0.4444444444444444,
              "#bd3786"
             ],
             [
              0.5555555555555556,
              "#d8576b"
             ],
             [
              0.6666666666666666,
              "#ed7953"
             ],
             [
              0.7777777777777778,
              "#fb9f3a"
             ],
             [
              0.8888888888888888,
              "#fdca26"
             ],
             [
              1,
              "#f0f921"
             ]
            ],
            "type": "surface"
           }
          ],
          "table": [
           {
            "cells": {
             "fill": {
              "color": "#EBF0F8"
             },
             "line": {
              "color": "white"
             }
            },
            "header": {
             "fill": {
              "color": "#C8D4E3"
             },
             "line": {
              "color": "white"
             }
            },
            "type": "table"
           }
          ]
         },
         "layout": {
          "annotationdefaults": {
           "arrowcolor": "#2a3f5f",
           "arrowhead": 0,
           "arrowwidth": 1
          },
          "autotypenumbers": "strict",
          "coloraxis": {
           "colorbar": {
            "outlinewidth": 0,
            "ticks": ""
           }
          },
          "colorscale": {
           "diverging": [
            [
             0,
             "#8e0152"
            ],
            [
             0.1,
             "#c51b7d"
            ],
            [
             0.2,
             "#de77ae"
            ],
            [
             0.3,
             "#f1b6da"
            ],
            [
             0.4,
             "#fde0ef"
            ],
            [
             0.5,
             "#f7f7f7"
            ],
            [
             0.6,
             "#e6f5d0"
            ],
            [
             0.7,
             "#b8e186"
            ],
            [
             0.8,
             "#7fbc41"
            ],
            [
             0.9,
             "#4d9221"
            ],
            [
             1,
             "#276419"
            ]
           ],
           "sequential": [
            [
             0,
             "#0d0887"
            ],
            [
             0.1111111111111111,
             "#46039f"
            ],
            [
             0.2222222222222222,
             "#7201a8"
            ],
            [
             0.3333333333333333,
             "#9c179e"
            ],
            [
             0.4444444444444444,
             "#bd3786"
            ],
            [
             0.5555555555555556,
             "#d8576b"
            ],
            [
             0.6666666666666666,
             "#ed7953"
            ],
            [
             0.7777777777777778,
             "#fb9f3a"
            ],
            [
             0.8888888888888888,
             "#fdca26"
            ],
            [
             1,
             "#f0f921"
            ]
           ],
           "sequentialminus": [
            [
             0,
             "#0d0887"
            ],
            [
             0.1111111111111111,
             "#46039f"
            ],
            [
             0.2222222222222222,
             "#7201a8"
            ],
            [
             0.3333333333333333,
             "#9c179e"
            ],
            [
             0.4444444444444444,
             "#bd3786"
            ],
            [
             0.5555555555555556,
             "#d8576b"
            ],
            [
             0.6666666666666666,
             "#ed7953"
            ],
            [
             0.7777777777777778,
             "#fb9f3a"
            ],
            [
             0.8888888888888888,
             "#fdca26"
            ],
            [
             1,
             "#f0f921"
            ]
           ]
          },
          "colorway": [
           "#636efa",
           "#EF553B",
           "#00cc96",
           "#ab63fa",
           "#FFA15A",
           "#19d3f3",
           "#FF6692",
           "#B6E880",
           "#FF97FF",
           "#FECB52"
          ],
          "font": {
           "color": "#2a3f5f"
          },
          "geo": {
           "bgcolor": "white",
           "lakecolor": "white",
           "landcolor": "#E5ECF6",
           "showlakes": true,
           "showland": true,
           "subunitcolor": "white"
          },
          "hoverlabel": {
           "align": "left"
          },
          "hovermode": "closest",
          "mapbox": {
           "style": "light"
          },
          "paper_bgcolor": "white",
          "plot_bgcolor": "#E5ECF6",
          "polar": {
           "angularaxis": {
            "gridcolor": "white",
            "linecolor": "white",
            "ticks": ""
           },
           "bgcolor": "#E5ECF6",
           "radialaxis": {
            "gridcolor": "white",
            "linecolor": "white",
            "ticks": ""
           }
          },
          "scene": {
           "xaxis": {
            "backgroundcolor": "#E5ECF6",
            "gridcolor": "white",
            "gridwidth": 2,
            "linecolor": "white",
            "showbackground": true,
            "ticks": "",
            "zerolinecolor": "white"
           },
           "yaxis": {
            "backgroundcolor": "#E5ECF6",
            "gridcolor": "white",
            "gridwidth": 2,
            "linecolor": "white",
            "showbackground": true,
            "ticks": "",
            "zerolinecolor": "white"
           },
           "zaxis": {
            "backgroundcolor": "#E5ECF6",
            "gridcolor": "white",
            "gridwidth": 2,
            "linecolor": "white",
            "showbackground": true,
            "ticks": "",
            "zerolinecolor": "white"
           }
          },
          "shapedefaults": {
           "line": {
            "color": "#2a3f5f"
           }
          },
          "ternary": {
           "aaxis": {
            "gridcolor": "white",
            "linecolor": "white",
            "ticks": ""
           },
           "baxis": {
            "gridcolor": "white",
            "linecolor": "white",
            "ticks": ""
           },
           "bgcolor": "#E5ECF6",
           "caxis": {
            "gridcolor": "white",
            "linecolor": "white",
            "ticks": ""
           }
          },
          "title": {
           "x": 0.05
          },
          "xaxis": {
           "automargin": true,
           "gridcolor": "white",
           "linecolor": "white",
           "ticks": "",
           "title": {
            "standoff": 15
           },
           "zerolinecolor": "white",
           "zerolinewidth": 2
          },
          "yaxis": {
           "automargin": true,
           "gridcolor": "white",
           "linecolor": "white",
           "ticks": "",
           "title": {
            "standoff": 15
           },
           "zerolinecolor": "white",
           "zerolinewidth": 2
          }
         }
        },
        "xaxis": {
         "title": {
          "text": "Time (days)"
         }
        },
        "yaxis": {
         "title": {
          "text": "New cases"
         }
        }
       }
      }
     },
     "metadata": {}
    }
   ],
   "source": [
    "# Plot (bar chart cases each day)\n",
    "fig = go.Figure()\n",
    "\n",
    "# Plot of incidences\n",
    "fig.add_trace(\n",
    "    go.Bar(\n",
    "        x=times,\n",
    "        y=imported_cases,\n",
    "        name='Imported Cases',\n",
    "    )\n",
    ")\n",
    "\n",
    "colours = ['green', 'indigo', 'yellow']\n",
    "\n",
    "for _, epsilon in enumerate(epsilon_values):\n",
    "    fig.add_trace(\n",
    "        go.Scatter(\n",
    "            x=times,\n",
    "            y=all_local_cases[_]['Mean'],\n",
    "            name='Local Incidences for epsilon = {}'.format(epsilon),\n",
    "            line_color=colours[_]\n",
    "        )\n",
    "    )\n",
    "\n",
    "    fig.add_trace(\n",
    "        go.Scatter(\n",
    "            x=times.tolist() + times.tolist()[::-1],\n",
    "            y=all_local_cases[_]['Upper bound CI'].values.tolist() + all_local_cases[_]['Lower bound CI'].values.tolist()[::-1],\n",
    "            fill='toself',\n",
    "            fillcolor=colours[_],\n",
    "            line_color=colours[_],\n",
    "            opacity=0.15,\n",
    "            mode='lines',\n",
    "            name='Credible interval'\n",
    "        )\n",
    "    )\n",
    "\n",
    "# Add axis labels\n",
    "fig.update_layout(\n",
    "    xaxis_title='Time (days)',\n",
    "    yaxis_title='New cases'\n",
    ")\n",
    "\n",
    "fig.show()"
   ]
  },
  {
   "cell_type": "code",
   "execution_count": null,
   "metadata": {},
   "outputs": [],
   "source": []
  }
 ]
}