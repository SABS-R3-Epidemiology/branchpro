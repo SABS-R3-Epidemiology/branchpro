{
 "cells": [
  {
   "cell_type": "markdown",
   "metadata": {},
   "source": [
    "# BranchPro: inference of R_t\n",
    "\n",
    "The first part of the notebook includes a forward simulation of the incidence numbers for an example branching process model. The reproduction number profile is assumed to be a step function with only one jump.\n",
    "\n",
    "The second part of the notebook focuses on the computation of the posterior of the reproduction number for the inference using the data from the previous section, using two methods:\n",
    "- explicit calculation;\n",
    "- using the posterior class implementation.\n",
    "\n",
    "The mean and 95% interval quantiles are plotted together to illustrate a sensible trajectory of the R profile in time for both methods of inference."
   ]
  },
  {
   "cell_type": "code",
   "execution_count": 1,
   "metadata": {},
   "outputs": [
    {
     "name": "stderr",
     "output_type": "stream",
     "text": [
      "/Users/ioaros/Desktop/Software Project/branchpro/branchpro/apps/_dash_app.py:18: UserWarning: \n",
      "The dash_html_components package is deprecated. Please replace\n",
      "`import dash_html_components as html` with `from dash import html`\n",
      "  import dash_html_components as html\n",
      "/Users/ioaros/Desktop/Software Project/branchpro/branchpro/apps/_simulation.py:15: UserWarning: \n",
      "The dash_core_components package is deprecated. Please replace\n",
      "`import dash_core_components as dcc` with `from dash import dcc`\n",
      "  import dash_core_components as dcc\n"
     ]
    }
   ],
   "source": [
    "# Import libraries\n",
    "import numpy as np\n",
    "import math\n",
    "import branchpro\n",
    "import scipy.stats\n",
    "from branchpro.apps import ReproductionNumberPlot\n",
    "import pandas as pd\n",
    "\n",
    "num_timepoints = 30 # number of days for incidence data\n"
   ]
  },
  {
   "cell_type": "markdown",
   "metadata": {},
   "source": [
    "## Parameterize example branching process model"
   ]
  },
  {
   "cell_type": "code",
   "execution_count": 2,
   "metadata": {},
   "outputs": [
    {
     "name": "stdout",
     "output_type": "stream",
     "text": [
      "[ 100.    0.   67.   91.  136.  165.  264.  339.  491.  672.  946. 1236.\n",
      " 1876. 2560. 3505. 4847. 1100. 1584. 1509. 1222.  991.  833.  685.  561.\n",
      "  484.  386.  355.  327.  232.  230.]\n"
     ]
    }
   ],
   "source": [
    "# Build the serial interval w_s\n",
    "ws_mean = 2.6\n",
    "ws_var = 1.5**2\n",
    "theta = ws_var / ws_mean\n",
    "k = ws_mean / theta\n",
    "w_dist = scipy.stats.gamma(k, scale=theta)\n",
    "disc_w = w_dist.pdf(np.arange(num_timepoints))\n",
    "\n",
    "# Simulate incidence data\n",
    "initial_r = 3\n",
    "serial_interval = disc_w\n",
    "m = branchpro.BranchProModel(initial_r, serial_interval)\n",
    "new_rs = [3, 0.5]          # sequence of R_0 numbers\n",
    "start_times = [0, 15]      # days at which each R_0 period begins\n",
    "m.set_r_profile(new_rs, start_times)\n",
    "parameters = 100 # initial number of cases\n",
    "times = np.arange(num_timepoints)\n",
    "\n",
    "cases = m.simulate(parameters, times)\n",
    "print(cases)"
   ]
  },
  {
   "cell_type": "markdown",
   "metadata": {},
   "source": [
    "## Compute the posterior distribution using explicit method"
   ]
  },
  {
   "cell_type": "code",
   "execution_count": 3,
   "metadata": {},
   "outputs": [],
   "source": [
    "# Posterior of R_t\n",
    "tau = 6\n",
    "R_t_start = tau+1\n",
    "a = 1\n",
    "b = 1/5\n",
    "\n",
    "shape = []\n",
    "rate = []\n",
    "mean = []\n",
    "\n",
    "i=0\n",
    "for t in range(R_t_start,num_timepoints):\n",
    "    shape.append( a + math.fsum(cases[(t-tau):(t+1)]) )\n",
    "    sum_var = 0\n",
    "    for k in range(t-tau,t+1):\n",
    "        vec1 = cases[(k-1)::-1] # I_(k-1), ... , I_0\n",
    "        vec2 = serial_interval[:k] # w_1, ... , w_k\n",
    "        sum_var += math.fsum( np.multiply(vec1,vec2) )\n",
    "    rate.append( 1/b + sum_var )\n",
    "    i += 1\n",
    "\n",
    "# Tests\n",
    "i + tau == num_timepoints\n",
    "len(shape) == num_timepoints - tau\n",
    "len(rate) == num_timepoints - tau\n",
    "\n",
    "mean = np.divide(shape, rate)\n",
    "\n",
    "post_dist = scipy.stats.gamma(shape,scale = 1/np.array(rate))\n",
    "post_dist_interval = post_dist.interval(.95)\n"
   ]
  },
  {
   "cell_type": "markdown",
   "metadata": {},
   "source": [
    "## Inference plot using explicit calculation results"
   ]
  },
  {
   "cell_type": "code",
   "execution_count": 4,
   "metadata": {},
   "outputs": [],
   "source": [
    "L1 = len(np.arange(R_t_start, start_times[1]+1))\n",
    "L2 = len(np.arange(start_times[1]+1, num_timepoints))\n",
    "\n",
    "ground_truth = pd.DataFrame({\n",
    "    'Time Points': np.arange(R_t_start, num_timepoints),\n",
    "    'R_t': L1*[3] + L2*[0.5]\n",
    "})\n",
    "\n",
    "interval = pd.DataFrame({\n",
    "    'Time Points': np.arange(R_t_start, num_timepoints),\n",
    "    'Mean': mean,\n",
    "    'Lower bound CI': post_dist_interval[0],\n",
    "    'Upper bound CI': post_dist_interval[1],\n",
    "    'Central Probability': (L1+L2) * [0.95]\n",
    "})"
   ]
  },
  {
   "cell_type": "code",
   "execution_count": 5,
   "metadata": {},
   "outputs": [
    {
     "name": "stderr",
     "output_type": "stream",
     "text": [
      "/Users/ioaros/Desktop/Software Project/branchpro/branchpro/apps/_reproduction_number_plot.py:27: UserWarning:\n",
      "\n",
      "Labels do not match. They will be updated.\n",
      "\n"
     ]
    },
    {
     "data": {
      "application/vnd.plotly.v1+json": {
       "config": {
        "plotlyServerURL": "https://plot.ly"
       },
       "data": [
        {
         "line": {
          "color": "green"
         },
         "mode": "lines",
         "name": "True R",
         "type": "scatter",
         "x": [
          7,
          8,
          9,
          10,
          11,
          12,
          13,
          14,
          15,
          16,
          17,
          18,
          19,
          20,
          21,
          22,
          23,
          24,
          25,
          26,
          27,
          28,
          29
         ],
         "y": [
          3,
          3,
          3,
          3,
          3,
          3,
          3,
          3,
          3,
          0.5,
          0.5,
          0.5,
          0.5,
          0.5,
          0.5,
          0.5,
          0.5,
          0.5,
          0.5,
          0.5,
          0.5,
          0.5,
          0.5
         ]
        },
        {
         "line": {
          "color": "indigo"
         },
         "mode": "lines",
         "name": "Estimated R",
         "type": "scatter",
         "x": [
          7,
          8,
          9,
          10,
          11,
          12,
          13,
          14,
          15,
          16,
          17,
          18,
          19,
          20,
          21,
          22,
          23,
          24,
          25,
          26,
          27,
          28,
          29
         ],
         "y": [
          3.0732578121304246,
          3.070855369270107,
          3.0633552869104514,
          3.0575938355245853,
          2.9780406249746894,
          3.015556305237442,
          3.03602992023958,
          3.0301199869702122,
          3.007642173546936,
          2.216574864021007,
          1.6577581861169977,
          1.3447362124786764,
          1.1301638125255393,
          0.9454026518192911,
          0.7501763241007716,
          0.4995049284977584,
          0.5006730527748171,
          0.4998772845850213,
          0.49692521990764177,
          0.49781157474965076,
          0.5049980514765761,
          0.5057940820520487,
          0.5147677348021241
         ]
        },
        {
         "fill": "toself",
         "fillcolor": "indigo",
         "line": {
          "color": "indigo"
         },
         "mode": "lines",
         "name": "Credible interval 0.95",
         "opacity": 0.5,
         "type": "scatter",
         "x": [
          7,
          8,
          9,
          10,
          11,
          12,
          13,
          14,
          15,
          16,
          17,
          18,
          19,
          20,
          21,
          22,
          23,
          24,
          25,
          26,
          27,
          28,
          29,
          29,
          28,
          27,
          26,
          25,
          24,
          23,
          22,
          21,
          20,
          19,
          18,
          17,
          16,
          15,
          14,
          13,
          12,
          11,
          10,
          9,
          8,
          7
         ],
         "y": [
          3.2607290123717347,
          3.225398258043292,
          3.193910731756373,
          3.1677096613243187,
          3.0697253809437073,
          3.0934858628866846,
          3.1024145255375157,
          3.0862747057811584,
          3.0549558377856423,
          2.2509749120937492,
          1.6829879010847208,
          1.365036213337293,
          1.147564243443757,
          0.9607155703916905,
          0.7636087301421755,
          0.5105618590375031,
          0.5121553212420523,
          0.5123097513757799,
          0.5105707917766508,
          0.5128071234674549,
          0.5215528137271422,
          0.5239580937973353,
          0.5348349555062192,
          0.49507904683341775,
          0.487946172574399,
          0.48870667078971225,
          0.48303553059647125,
          0.4834619674762673,
          0.48759545566384827,
          0.4893191919267423,
          0.4885673931048266,
          0.7368614869324315,
          0.9302110743322067,
          1.1128944978817306,
          1.324586213441381,
          1.6327164110359988,
          2.1824360848185194,
          2.9606927212924017,
          2.974473812284765,
          2.970353493541694,
          2.938607402614527,
          2.8877270943989193,
          2.9493996685825956,
          2.9354875394485678,
          2.9200556402004967,
          2.891262902054157
         ]
        }
       ],
       "layout": {
        "hovermode": "x unified",
        "template": {
         "data": {
          "bar": [
           {
            "error_x": {
             "color": "#2a3f5f"
            },
            "error_y": {
             "color": "#2a3f5f"
            },
            "marker": {
             "line": {
              "color": "#E5ECF6",
              "width": 0.5
             },
             "pattern": {
              "fillmode": "overlay",
              "size": 10,
              "solidity": 0.2
             }
            },
            "type": "bar"
           }
          ],
          "barpolar": [
           {
            "marker": {
             "line": {
              "color": "#E5ECF6",
              "width": 0.5
             },
             "pattern": {
              "fillmode": "overlay",
              "size": 10,
              "solidity": 0.2
             }
            },
            "type": "barpolar"
           }
          ],
          "carpet": [
           {
            "aaxis": {
             "endlinecolor": "#2a3f5f",
             "gridcolor": "white",
             "linecolor": "white",
             "minorgridcolor": "white",
             "startlinecolor": "#2a3f5f"
            },
            "baxis": {
             "endlinecolor": "#2a3f5f",
             "gridcolor": "white",
             "linecolor": "white",
             "minorgridcolor": "white",
             "startlinecolor": "#2a3f5f"
            },
            "type": "carpet"
           }
          ],
          "choropleth": [
           {
            "colorbar": {
             "outlinewidth": 0,
             "ticks": ""
            },
            "type": "choropleth"
           }
          ],
          "contour": [
           {
            "colorbar": {
             "outlinewidth": 0,
             "ticks": ""
            },
            "colorscale": [
             [
              0,
              "#0d0887"
             ],
             [
              0.1111111111111111,
              "#46039f"
             ],
             [
              0.2222222222222222,
              "#7201a8"
             ],
             [
              0.3333333333333333,
              "#9c179e"
             ],
             [
              0.4444444444444444,
              "#bd3786"
             ],
             [
              0.5555555555555556,
              "#d8576b"
             ],
             [
              0.6666666666666666,
              "#ed7953"
             ],
             [
              0.7777777777777778,
              "#fb9f3a"
             ],
             [
              0.8888888888888888,
              "#fdca26"
             ],
             [
              1,
              "#f0f921"
             ]
            ],
            "type": "contour"
           }
          ],
          "contourcarpet": [
           {
            "colorbar": {
             "outlinewidth": 0,
             "ticks": ""
            },
            "type": "contourcarpet"
           }
          ],
          "heatmap": [
           {
            "colorbar": {
             "outlinewidth": 0,
             "ticks": ""
            },
            "colorscale": [
             [
              0,
              "#0d0887"
             ],
             [
              0.1111111111111111,
              "#46039f"
             ],
             [
              0.2222222222222222,
              "#7201a8"
             ],
             [
              0.3333333333333333,
              "#9c179e"
             ],
             [
              0.4444444444444444,
              "#bd3786"
             ],
             [
              0.5555555555555556,
              "#d8576b"
             ],
             [
              0.6666666666666666,
              "#ed7953"
             ],
             [
              0.7777777777777778,
              "#fb9f3a"
             ],
             [
              0.8888888888888888,
              "#fdca26"
             ],
             [
              1,
              "#f0f921"
             ]
            ],
            "type": "heatmap"
           }
          ],
          "heatmapgl": [
           {
            "colorbar": {
             "outlinewidth": 0,
             "ticks": ""
            },
            "colorscale": [
             [
              0,
              "#0d0887"
             ],
             [
              0.1111111111111111,
              "#46039f"
             ],
             [
              0.2222222222222222,
              "#7201a8"
             ],
             [
              0.3333333333333333,
              "#9c179e"
             ],
             [
              0.4444444444444444,
              "#bd3786"
             ],
             [
              0.5555555555555556,
              "#d8576b"
             ],
             [
              0.6666666666666666,
              "#ed7953"
             ],
             [
              0.7777777777777778,
              "#fb9f3a"
             ],
             [
              0.8888888888888888,
              "#fdca26"
             ],
             [
              1,
              "#f0f921"
             ]
            ],
            "type": "heatmapgl"
           }
          ],
          "histogram": [
           {
            "marker": {
             "pattern": {
              "fillmode": "overlay",
              "size": 10,
              "solidity": 0.2
             }
            },
            "type": "histogram"
           }
          ],
          "histogram2d": [
           {
            "colorbar": {
             "outlinewidth": 0,
             "ticks": ""
            },
            "colorscale": [
             [
              0,
              "#0d0887"
             ],
             [
              0.1111111111111111,
              "#46039f"
             ],
             [
              0.2222222222222222,
              "#7201a8"
             ],
             [
              0.3333333333333333,
              "#9c179e"
             ],
             [
              0.4444444444444444,
              "#bd3786"
             ],
             [
              0.5555555555555556,
              "#d8576b"
             ],
             [
              0.6666666666666666,
              "#ed7953"
             ],
             [
              0.7777777777777778,
              "#fb9f3a"
             ],
             [
              0.8888888888888888,
              "#fdca26"
             ],
             [
              1,
              "#f0f921"
             ]
            ],
            "type": "histogram2d"
           }
          ],
          "histogram2dcontour": [
           {
            "colorbar": {
             "outlinewidth": 0,
             "ticks": ""
            },
            "colorscale": [
             [
              0,
              "#0d0887"
             ],
             [
              0.1111111111111111,
              "#46039f"
             ],
             [
              0.2222222222222222,
              "#7201a8"
             ],
             [
              0.3333333333333333,
              "#9c179e"
             ],
             [
              0.4444444444444444,
              "#bd3786"
             ],
             [
              0.5555555555555556,
              "#d8576b"
             ],
             [
              0.6666666666666666,
              "#ed7953"
             ],
             [
              0.7777777777777778,
              "#fb9f3a"
             ],
             [
              0.8888888888888888,
              "#fdca26"
             ],
             [
              1,
              "#f0f921"
             ]
            ],
            "type": "histogram2dcontour"
           }
          ],
          "mesh3d": [
           {
            "colorbar": {
             "outlinewidth": 0,
             "ticks": ""
            },
            "type": "mesh3d"
           }
          ],
          "parcoords": [
           {
            "line": {
             "colorbar": {
              "outlinewidth": 0,
              "ticks": ""
             }
            },
            "type": "parcoords"
           }
          ],
          "pie": [
           {
            "automargin": true,
            "type": "pie"
           }
          ],
          "scatter": [
           {
            "marker": {
             "colorbar": {
              "outlinewidth": 0,
              "ticks": ""
             }
            },
            "type": "scatter"
           }
          ],
          "scatter3d": [
           {
            "line": {
             "colorbar": {
              "outlinewidth": 0,
              "ticks": ""
             }
            },
            "marker": {
             "colorbar": {
              "outlinewidth": 0,
              "ticks": ""
             }
            },
            "type": "scatter3d"
           }
          ],
          "scattercarpet": [
           {
            "marker": {
             "colorbar": {
              "outlinewidth": 0,
              "ticks": ""
             }
            },
            "type": "scattercarpet"
           }
          ],
          "scattergeo": [
           {
            "marker": {
             "colorbar": {
              "outlinewidth": 0,
              "ticks": ""
             }
            },
            "type": "scattergeo"
           }
          ],
          "scattergl": [
           {
            "marker": {
             "colorbar": {
              "outlinewidth": 0,
              "ticks": ""
             }
            },
            "type": "scattergl"
           }
          ],
          "scattermapbox": [
           {
            "marker": {
             "colorbar": {
              "outlinewidth": 0,
              "ticks": ""
             }
            },
            "type": "scattermapbox"
           }
          ],
          "scatterpolar": [
           {
            "marker": {
             "colorbar": {
              "outlinewidth": 0,
              "ticks": ""
             }
            },
            "type": "scatterpolar"
           }
          ],
          "scatterpolargl": [
           {
            "marker": {
             "colorbar": {
              "outlinewidth": 0,
              "ticks": ""
             }
            },
            "type": "scatterpolargl"
           }
          ],
          "scatterternary": [
           {
            "marker": {
             "colorbar": {
              "outlinewidth": 0,
              "ticks": ""
             }
            },
            "type": "scatterternary"
           }
          ],
          "surface": [
           {
            "colorbar": {
             "outlinewidth": 0,
             "ticks": ""
            },
            "colorscale": [
             [
              0,
              "#0d0887"
             ],
             [
              0.1111111111111111,
              "#46039f"
             ],
             [
              0.2222222222222222,
              "#7201a8"
             ],
             [
              0.3333333333333333,
              "#9c179e"
             ],
             [
              0.4444444444444444,
              "#bd3786"
             ],
             [
              0.5555555555555556,
              "#d8576b"
             ],
             [
              0.6666666666666666,
              "#ed7953"
             ],
             [
              0.7777777777777778,
              "#fb9f3a"
             ],
             [
              0.8888888888888888,
              "#fdca26"
             ],
             [
              1,
              "#f0f921"
             ]
            ],
            "type": "surface"
           }
          ],
          "table": [
           {
            "cells": {
             "fill": {
              "color": "#EBF0F8"
             },
             "line": {
              "color": "white"
             }
            },
            "header": {
             "fill": {
              "color": "#C8D4E3"
             },
             "line": {
              "color": "white"
             }
            },
            "type": "table"
           }
          ]
         },
         "layout": {
          "annotationdefaults": {
           "arrowcolor": "#2a3f5f",
           "arrowhead": 0,
           "arrowwidth": 1
          },
          "autotypenumbers": "strict",
          "coloraxis": {
           "colorbar": {
            "outlinewidth": 0,
            "ticks": ""
           }
          },
          "colorscale": {
           "diverging": [
            [
             0,
             "#8e0152"
            ],
            [
             0.1,
             "#c51b7d"
            ],
            [
             0.2,
             "#de77ae"
            ],
            [
             0.3,
             "#f1b6da"
            ],
            [
             0.4,
             "#fde0ef"
            ],
            [
             0.5,
             "#f7f7f7"
            ],
            [
             0.6,
             "#e6f5d0"
            ],
            [
             0.7,
             "#b8e186"
            ],
            [
             0.8,
             "#7fbc41"
            ],
            [
             0.9,
             "#4d9221"
            ],
            [
             1,
             "#276419"
            ]
           ],
           "sequential": [
            [
             0,
             "#0d0887"
            ],
            [
             0.1111111111111111,
             "#46039f"
            ],
            [
             0.2222222222222222,
             "#7201a8"
            ],
            [
             0.3333333333333333,
             "#9c179e"
            ],
            [
             0.4444444444444444,
             "#bd3786"
            ],
            [
             0.5555555555555556,
             "#d8576b"
            ],
            [
             0.6666666666666666,
             "#ed7953"
            ],
            [
             0.7777777777777778,
             "#fb9f3a"
            ],
            [
             0.8888888888888888,
             "#fdca26"
            ],
            [
             1,
             "#f0f921"
            ]
           ],
           "sequentialminus": [
            [
             0,
             "#0d0887"
            ],
            [
             0.1111111111111111,
             "#46039f"
            ],
            [
             0.2222222222222222,
             "#7201a8"
            ],
            [
             0.3333333333333333,
             "#9c179e"
            ],
            [
             0.4444444444444444,
             "#bd3786"
            ],
            [
             0.5555555555555556,
             "#d8576b"
            ],
            [
             0.6666666666666666,
             "#ed7953"
            ],
            [
             0.7777777777777778,
             "#fb9f3a"
            ],
            [
             0.8888888888888888,
             "#fdca26"
            ],
            [
             1,
             "#f0f921"
            ]
           ]
          },
          "colorway": [
           "#636efa",
           "#EF553B",
           "#00cc96",
           "#ab63fa",
           "#FFA15A",
           "#19d3f3",
           "#FF6692",
           "#B6E880",
           "#FF97FF",
           "#FECB52"
          ],
          "font": {
           "color": "#2a3f5f"
          },
          "geo": {
           "bgcolor": "white",
           "lakecolor": "white",
           "landcolor": "#E5ECF6",
           "showlakes": true,
           "showland": true,
           "subunitcolor": "white"
          },
          "hoverlabel": {
           "align": "left"
          },
          "hovermode": "closest",
          "mapbox": {
           "style": "light"
          },
          "paper_bgcolor": "white",
          "plot_bgcolor": "#E5ECF6",
          "polar": {
           "angularaxis": {
            "gridcolor": "white",
            "linecolor": "white",
            "ticks": ""
           },
           "bgcolor": "#E5ECF6",
           "radialaxis": {
            "gridcolor": "white",
            "linecolor": "white",
            "ticks": ""
           }
          },
          "scene": {
           "xaxis": {
            "backgroundcolor": "#E5ECF6",
            "gridcolor": "white",
            "gridwidth": 2,
            "linecolor": "white",
            "showbackground": true,
            "ticks": "",
            "zerolinecolor": "white"
           },
           "yaxis": {
            "backgroundcolor": "#E5ECF6",
            "gridcolor": "white",
            "gridwidth": 2,
            "linecolor": "white",
            "showbackground": true,
            "ticks": "",
            "zerolinecolor": "white"
           },
           "zaxis": {
            "backgroundcolor": "#E5ECF6",
            "gridcolor": "white",
            "gridwidth": 2,
            "linecolor": "white",
            "showbackground": true,
            "ticks": "",
            "zerolinecolor": "white"
           }
          },
          "shapedefaults": {
           "line": {
            "color": "#2a3f5f"
           }
          },
          "ternary": {
           "aaxis": {
            "gridcolor": "white",
            "linecolor": "white",
            "ticks": ""
           },
           "baxis": {
            "gridcolor": "white",
            "linecolor": "white",
            "ticks": ""
           },
           "bgcolor": "#E5ECF6",
           "caxis": {
            "gridcolor": "white",
            "linecolor": "white",
            "ticks": ""
           }
          },
          "title": {
           "x": 0.05
          },
          "xaxis": {
           "automargin": true,
           "gridcolor": "white",
           "linecolor": "white",
           "ticks": "",
           "title": {
            "standoff": 15
           },
           "zerolinecolor": "white",
           "zerolinewidth": 2
          },
          "yaxis": {
           "automargin": true,
           "gridcolor": "white",
           "linecolor": "white",
           "ticks": "",
           "title": {
            "standoff": 15
           },
           "zerolinecolor": "white",
           "zerolinewidth": 2
          }
         }
        },
        "xaxis": {
         "title": {
          "text": "Time (Day)"
         }
        },
        "yaxis": {
         "title": {
          "text": "R_t"
         }
        }
       }
      }
     },
     "metadata": {},
     "output_type": "display_data"
    }
   ],
   "source": [
    "fig = ReproductionNumberPlot()\n",
    "\n",
    "fig.add_ground_truth_rt(ground_truth)\n",
    "fig.add_interval_rt(interval)\n",
    "\n",
    "fig.update_labels(time_label='Time (Day)', r_label='R_t')\n",
    "\n",
    "fig.show_figure()"
   ]
  },
  {
   "cell_type": "markdown",
   "metadata": {},
   "source": [
    "## Compute the posterior distribution using pre-computed posterior class method"
   ]
  },
  {
   "cell_type": "code",
   "execution_count": 6,
   "metadata": {},
   "outputs": [],
   "source": [
    "# Same inference, but using the BranchProPosterior\n",
    "tau = 6\n",
    "R_t_start = tau+1\n",
    "a = 1\n",
    "b = 1/5\n",
    "\n",
    "# Transform our incidence data into pandas dataframes\n",
    "inc_data = pd.DataFrame(\n",
    "    {\n",
    "        'Time': np.arange(num_timepoints),\n",
    "        'Incidence Number': cases\n",
    "    }\n",
    ")\n",
    "\n",
    "inference = branchpro.BranchProPosterior(\n",
    "    inc_data=inc_data,\n",
    "    daily_serial_interval=serial_interval,\n",
    "    alpha=a,\n",
    "    beta=1/b)\n",
    "\n",
    "inference.run_inference(tau=tau)\n",
    "intervals = inference.get_intervals(central_prob=.95)"
   ]
  },
  {
   "cell_type": "markdown",
   "metadata": {},
   "source": [
    "## Inference plot using class method results"
   ]
  },
  {
   "cell_type": "code",
   "execution_count": 7,
   "metadata": {},
   "outputs": [
    {
     "name": "stderr",
     "output_type": "stream",
     "text": [
      "/Users/ioaros/Desktop/Software Project/branchpro/branchpro/apps/_reproduction_number_plot.py:27: UserWarning:\n",
      "\n",
      "Labels do not match. They will be updated.\n",
      "\n"
     ]
    },
    {
     "data": {
      "application/vnd.plotly.v1+json": {
       "config": {
        "plotlyServerURL": "https://plot.ly"
       },
       "data": [
        {
         "line": {
          "color": "green"
         },
         "mode": "lines",
         "name": "True R",
         "type": "scatter",
         "x": [
          7,
          8,
          9,
          10,
          11,
          12,
          13,
          14,
          15,
          16,
          17,
          18,
          19,
          20,
          21,
          22,
          23,
          24,
          25,
          26,
          27,
          28,
          29
         ],
         "y": [
          3,
          3,
          3,
          3,
          3,
          3,
          3,
          3,
          3,
          0.5,
          0.5,
          0.5,
          0.5,
          0.5,
          0.5,
          0.5,
          0.5,
          0.5,
          0.5,
          0.5,
          0.5,
          0.5,
          0.5
         ]
        },
        {
         "line": {
          "color": "indigo"
         },
         "mode": "lines",
         "name": "Estimated R",
         "type": "scatter",
         "x": [
          7,
          8,
          9,
          10,
          11,
          12,
          13,
          14,
          15,
          16,
          17,
          18,
          19,
          20,
          21,
          22,
          23,
          24,
          25,
          26,
          27,
          28,
          29
         ],
         "y": [
          3.053376254875293,
          3.0508977311512746,
          3.043390735555512,
          3.0376265162022547,
          2.9585646057162824,
          2.9958146662779592,
          3.016140010659263,
          3.0102583837669687,
          2.987920434957659,
          2.2020363920040316,
          1.6468828898045982,
          1.3359135383024556,
          1.1227485581680205,
          0.9391994971881967,
          0.7452540766619614,
          0.49622746559245334,
          0.49738800297337027,
          0.49659764728663053,
          0.493665221725784,
          0.49454608037815867,
          0.5016857973406507,
          0.5024770657529986,
          0.511392422088033
         ]
        },
        {
         "fill": "toself",
         "fillcolor": "indigo",
         "line": {
          "color": "indigo"
         },
         "mode": "lines",
         "name": "Credible interval 0.95",
         "opacity": 0.5,
         "type": "scatter",
         "x": [
          7,
          8,
          9,
          10,
          11,
          12,
          13,
          14,
          15,
          16,
          17,
          18,
          19,
          20,
          21,
          22,
          23,
          24,
          25,
          26,
          27,
          28,
          29,
          29,
          28,
          27,
          26,
          25,
          24,
          23,
          22,
          21,
          20,
          19,
          18,
          17,
          16,
          15,
          14,
          13,
          12,
          11,
          10,
          9,
          8,
          7
         ],
         "y": [
          3.2396346641211413,
          3.204436238188075,
          3.1730953222282303,
          3.14702324130567,
          3.0496497546624886,
          3.073234050335446,
          3.0820897112192385,
          3.0660450238391825,
          3.034923853607305,
          2.2362108108212926,
          1.6719470917147177,
          1.3560803529705836,
          1.140034821016301,
          0.9544119417439694,
          0.758598346589081,
          0.5072118469387406,
          0.5087949332063237,
          0.5089485460944955,
          0.5072212740097503,
          0.5094432628015269,
          0.5181319778262508,
          0.5205219572373861,
          0.5313280627792413,
          0.4918328321072767,
          0.48474620352588443,
          0.48550127091372347,
          0.47986696263541745,
          0.48029029280203167,
          0.4843963980306362,
          0.48610863784284575,
          0.4853616959909695,
          0.7320266041851538,
          0.9241075975516677,
          1.1055925513113174,
          1.315895741309329,
          1.6220053948499018,
          2.168121528399517,
          2.9412788400780543,
          2.954976954453366,
          2.950893849216627,
          2.919369517291237,
          2.8688417145179734,
          2.9301389007502125,
          2.916356329959572,
          2.9010780568414254,
          2.872558708510766
         ]
        }
       ],
       "layout": {
        "hovermode": "x unified",
        "template": {
         "data": {
          "bar": [
           {
            "error_x": {
             "color": "#2a3f5f"
            },
            "error_y": {
             "color": "#2a3f5f"
            },
            "marker": {
             "line": {
              "color": "#E5ECF6",
              "width": 0.5
             },
             "pattern": {
              "fillmode": "overlay",
              "size": 10,
              "solidity": 0.2
             }
            },
            "type": "bar"
           }
          ],
          "barpolar": [
           {
            "marker": {
             "line": {
              "color": "#E5ECF6",
              "width": 0.5
             },
             "pattern": {
              "fillmode": "overlay",
              "size": 10,
              "solidity": 0.2
             }
            },
            "type": "barpolar"
           }
          ],
          "carpet": [
           {
            "aaxis": {
             "endlinecolor": "#2a3f5f",
             "gridcolor": "white",
             "linecolor": "white",
             "minorgridcolor": "white",
             "startlinecolor": "#2a3f5f"
            },
            "baxis": {
             "endlinecolor": "#2a3f5f",
             "gridcolor": "white",
             "linecolor": "white",
             "minorgridcolor": "white",
             "startlinecolor": "#2a3f5f"
            },
            "type": "carpet"
           }
          ],
          "choropleth": [
           {
            "colorbar": {
             "outlinewidth": 0,
             "ticks": ""
            },
            "type": "choropleth"
           }
          ],
          "contour": [
           {
            "colorbar": {
             "outlinewidth": 0,
             "ticks": ""
            },
            "colorscale": [
             [
              0,
              "#0d0887"
             ],
             [
              0.1111111111111111,
              "#46039f"
             ],
             [
              0.2222222222222222,
              "#7201a8"
             ],
             [
              0.3333333333333333,
              "#9c179e"
             ],
             [
              0.4444444444444444,
              "#bd3786"
             ],
             [
              0.5555555555555556,
              "#d8576b"
             ],
             [
              0.6666666666666666,
              "#ed7953"
             ],
             [
              0.7777777777777778,
              "#fb9f3a"
             ],
             [
              0.8888888888888888,
              "#fdca26"
             ],
             [
              1,
              "#f0f921"
             ]
            ],
            "type": "contour"
           }
          ],
          "contourcarpet": [
           {
            "colorbar": {
             "outlinewidth": 0,
             "ticks": ""
            },
            "type": "contourcarpet"
           }
          ],
          "heatmap": [
           {
            "colorbar": {
             "outlinewidth": 0,
             "ticks": ""
            },
            "colorscale": [
             [
              0,
              "#0d0887"
             ],
             [
              0.1111111111111111,
              "#46039f"
             ],
             [
              0.2222222222222222,
              "#7201a8"
             ],
             [
              0.3333333333333333,
              "#9c179e"
             ],
             [
              0.4444444444444444,
              "#bd3786"
             ],
             [
              0.5555555555555556,
              "#d8576b"
             ],
             [
              0.6666666666666666,
              "#ed7953"
             ],
             [
              0.7777777777777778,
              "#fb9f3a"
             ],
             [
              0.8888888888888888,
              "#fdca26"
             ],
             [
              1,
              "#f0f921"
             ]
            ],
            "type": "heatmap"
           }
          ],
          "heatmapgl": [
           {
            "colorbar": {
             "outlinewidth": 0,
             "ticks": ""
            },
            "colorscale": [
             [
              0,
              "#0d0887"
             ],
             [
              0.1111111111111111,
              "#46039f"
             ],
             [
              0.2222222222222222,
              "#7201a8"
             ],
             [
              0.3333333333333333,
              "#9c179e"
             ],
             [
              0.4444444444444444,
              "#bd3786"
             ],
             [
              0.5555555555555556,
              "#d8576b"
             ],
             [
              0.6666666666666666,
              "#ed7953"
             ],
             [
              0.7777777777777778,
              "#fb9f3a"
             ],
             [
              0.8888888888888888,
              "#fdca26"
             ],
             [
              1,
              "#f0f921"
             ]
            ],
            "type": "heatmapgl"
           }
          ],
          "histogram": [
           {
            "marker": {
             "pattern": {
              "fillmode": "overlay",
              "size": 10,
              "solidity": 0.2
             }
            },
            "type": "histogram"
           }
          ],
          "histogram2d": [
           {
            "colorbar": {
             "outlinewidth": 0,
             "ticks": ""
            },
            "colorscale": [
             [
              0,
              "#0d0887"
             ],
             [
              0.1111111111111111,
              "#46039f"
             ],
             [
              0.2222222222222222,
              "#7201a8"
             ],
             [
              0.3333333333333333,
              "#9c179e"
             ],
             [
              0.4444444444444444,
              "#bd3786"
             ],
             [
              0.5555555555555556,
              "#d8576b"
             ],
             [
              0.6666666666666666,
              "#ed7953"
             ],
             [
              0.7777777777777778,
              "#fb9f3a"
             ],
             [
              0.8888888888888888,
              "#fdca26"
             ],
             [
              1,
              "#f0f921"
             ]
            ],
            "type": "histogram2d"
           }
          ],
          "histogram2dcontour": [
           {
            "colorbar": {
             "outlinewidth": 0,
             "ticks": ""
            },
            "colorscale": [
             [
              0,
              "#0d0887"
             ],
             [
              0.1111111111111111,
              "#46039f"
             ],
             [
              0.2222222222222222,
              "#7201a8"
             ],
             [
              0.3333333333333333,
              "#9c179e"
             ],
             [
              0.4444444444444444,
              "#bd3786"
             ],
             [
              0.5555555555555556,
              "#d8576b"
             ],
             [
              0.6666666666666666,
              "#ed7953"
             ],
             [
              0.7777777777777778,
              "#fb9f3a"
             ],
             [
              0.8888888888888888,
              "#fdca26"
             ],
             [
              1,
              "#f0f921"
             ]
            ],
            "type": "histogram2dcontour"
           }
          ],
          "mesh3d": [
           {
            "colorbar": {
             "outlinewidth": 0,
             "ticks": ""
            },
            "type": "mesh3d"
           }
          ],
          "parcoords": [
           {
            "line": {
             "colorbar": {
              "outlinewidth": 0,
              "ticks": ""
             }
            },
            "type": "parcoords"
           }
          ],
          "pie": [
           {
            "automargin": true,
            "type": "pie"
           }
          ],
          "scatter": [
           {
            "marker": {
             "colorbar": {
              "outlinewidth": 0,
              "ticks": ""
             }
            },
            "type": "scatter"
           }
          ],
          "scatter3d": [
           {
            "line": {
             "colorbar": {
              "outlinewidth": 0,
              "ticks": ""
             }
            },
            "marker": {
             "colorbar": {
              "outlinewidth": 0,
              "ticks": ""
             }
            },
            "type": "scatter3d"
           }
          ],
          "scattercarpet": [
           {
            "marker": {
             "colorbar": {
              "outlinewidth": 0,
              "ticks": ""
             }
            },
            "type": "scattercarpet"
           }
          ],
          "scattergeo": [
           {
            "marker": {
             "colorbar": {
              "outlinewidth": 0,
              "ticks": ""
             }
            },
            "type": "scattergeo"
           }
          ],
          "scattergl": [
           {
            "marker": {
             "colorbar": {
              "outlinewidth": 0,
              "ticks": ""
             }
            },
            "type": "scattergl"
           }
          ],
          "scattermapbox": [
           {
            "marker": {
             "colorbar": {
              "outlinewidth": 0,
              "ticks": ""
             }
            },
            "type": "scattermapbox"
           }
          ],
          "scatterpolar": [
           {
            "marker": {
             "colorbar": {
              "outlinewidth": 0,
              "ticks": ""
             }
            },
            "type": "scatterpolar"
           }
          ],
          "scatterpolargl": [
           {
            "marker": {
             "colorbar": {
              "outlinewidth": 0,
              "ticks": ""
             }
            },
            "type": "scatterpolargl"
           }
          ],
          "scatterternary": [
           {
            "marker": {
             "colorbar": {
              "outlinewidth": 0,
              "ticks": ""
             }
            },
            "type": "scatterternary"
           }
          ],
          "surface": [
           {
            "colorbar": {
             "outlinewidth": 0,
             "ticks": ""
            },
            "colorscale": [
             [
              0,
              "#0d0887"
             ],
             [
              0.1111111111111111,
              "#46039f"
             ],
             [
              0.2222222222222222,
              "#7201a8"
             ],
             [
              0.3333333333333333,
              "#9c179e"
             ],
             [
              0.4444444444444444,
              "#bd3786"
             ],
             [
              0.5555555555555556,
              "#d8576b"
             ],
             [
              0.6666666666666666,
              "#ed7953"
             ],
             [
              0.7777777777777778,
              "#fb9f3a"
             ],
             [
              0.8888888888888888,
              "#fdca26"
             ],
             [
              1,
              "#f0f921"
             ]
            ],
            "type": "surface"
           }
          ],
          "table": [
           {
            "cells": {
             "fill": {
              "color": "#EBF0F8"
             },
             "line": {
              "color": "white"
             }
            },
            "header": {
             "fill": {
              "color": "#C8D4E3"
             },
             "line": {
              "color": "white"
             }
            },
            "type": "table"
           }
          ]
         },
         "layout": {
          "annotationdefaults": {
           "arrowcolor": "#2a3f5f",
           "arrowhead": 0,
           "arrowwidth": 1
          },
          "autotypenumbers": "strict",
          "coloraxis": {
           "colorbar": {
            "outlinewidth": 0,
            "ticks": ""
           }
          },
          "colorscale": {
           "diverging": [
            [
             0,
             "#8e0152"
            ],
            [
             0.1,
             "#c51b7d"
            ],
            [
             0.2,
             "#de77ae"
            ],
            [
             0.3,
             "#f1b6da"
            ],
            [
             0.4,
             "#fde0ef"
            ],
            [
             0.5,
             "#f7f7f7"
            ],
            [
             0.6,
             "#e6f5d0"
            ],
            [
             0.7,
             "#b8e186"
            ],
            [
             0.8,
             "#7fbc41"
            ],
            [
             0.9,
             "#4d9221"
            ],
            [
             1,
             "#276419"
            ]
           ],
           "sequential": [
            [
             0,
             "#0d0887"
            ],
            [
             0.1111111111111111,
             "#46039f"
            ],
            [
             0.2222222222222222,
             "#7201a8"
            ],
            [
             0.3333333333333333,
             "#9c179e"
            ],
            [
             0.4444444444444444,
             "#bd3786"
            ],
            [
             0.5555555555555556,
             "#d8576b"
            ],
            [
             0.6666666666666666,
             "#ed7953"
            ],
            [
             0.7777777777777778,
             "#fb9f3a"
            ],
            [
             0.8888888888888888,
             "#fdca26"
            ],
            [
             1,
             "#f0f921"
            ]
           ],
           "sequentialminus": [
            [
             0,
             "#0d0887"
            ],
            [
             0.1111111111111111,
             "#46039f"
            ],
            [
             0.2222222222222222,
             "#7201a8"
            ],
            [
             0.3333333333333333,
             "#9c179e"
            ],
            [
             0.4444444444444444,
             "#bd3786"
            ],
            [
             0.5555555555555556,
             "#d8576b"
            ],
            [
             0.6666666666666666,
             "#ed7953"
            ],
            [
             0.7777777777777778,
             "#fb9f3a"
            ],
            [
             0.8888888888888888,
             "#fdca26"
            ],
            [
             1,
             "#f0f921"
            ]
           ]
          },
          "colorway": [
           "#636efa",
           "#EF553B",
           "#00cc96",
           "#ab63fa",
           "#FFA15A",
           "#19d3f3",
           "#FF6692",
           "#B6E880",
           "#FF97FF",
           "#FECB52"
          ],
          "font": {
           "color": "#2a3f5f"
          },
          "geo": {
           "bgcolor": "white",
           "lakecolor": "white",
           "landcolor": "#E5ECF6",
           "showlakes": true,
           "showland": true,
           "subunitcolor": "white"
          },
          "hoverlabel": {
           "align": "left"
          },
          "hovermode": "closest",
          "mapbox": {
           "style": "light"
          },
          "paper_bgcolor": "white",
          "plot_bgcolor": "#E5ECF6",
          "polar": {
           "angularaxis": {
            "gridcolor": "white",
            "linecolor": "white",
            "ticks": ""
           },
           "bgcolor": "#E5ECF6",
           "radialaxis": {
            "gridcolor": "white",
            "linecolor": "white",
            "ticks": ""
           }
          },
          "scene": {
           "xaxis": {
            "backgroundcolor": "#E5ECF6",
            "gridcolor": "white",
            "gridwidth": 2,
            "linecolor": "white",
            "showbackground": true,
            "ticks": "",
            "zerolinecolor": "white"
           },
           "yaxis": {
            "backgroundcolor": "#E5ECF6",
            "gridcolor": "white",
            "gridwidth": 2,
            "linecolor": "white",
            "showbackground": true,
            "ticks": "",
            "zerolinecolor": "white"
           },
           "zaxis": {
            "backgroundcolor": "#E5ECF6",
            "gridcolor": "white",
            "gridwidth": 2,
            "linecolor": "white",
            "showbackground": true,
            "ticks": "",
            "zerolinecolor": "white"
           }
          },
          "shapedefaults": {
           "line": {
            "color": "#2a3f5f"
           }
          },
          "ternary": {
           "aaxis": {
            "gridcolor": "white",
            "linecolor": "white",
            "ticks": ""
           },
           "baxis": {
            "gridcolor": "white",
            "linecolor": "white",
            "ticks": ""
           },
           "bgcolor": "#E5ECF6",
           "caxis": {
            "gridcolor": "white",
            "linecolor": "white",
            "ticks": ""
           }
          },
          "title": {
           "x": 0.05
          },
          "xaxis": {
           "automargin": true,
           "gridcolor": "white",
           "linecolor": "white",
           "ticks": "",
           "title": {
            "standoff": 15
           },
           "zerolinecolor": "white",
           "zerolinewidth": 2
          },
          "yaxis": {
           "automargin": true,
           "gridcolor": "white",
           "linecolor": "white",
           "ticks": "",
           "title": {
            "standoff": 15
           },
           "zerolinecolor": "white",
           "zerolinewidth": 2
          }
         }
        },
        "xaxis": {
         "title": {
          "text": "Time (Day)"
         }
        },
        "yaxis": {
         "title": {
          "text": "R_t"
         }
        }
       }
      }
     },
     "metadata": {},
     "output_type": "display_data"
    }
   ],
   "source": [
    "fig = ReproductionNumberPlot()\n",
    "\n",
    "fig.add_ground_truth_rt(ground_truth)\n",
    "fig.add_interval_rt(intervals)\n",
    "\n",
    "fig.update_labels(time_label='Time (Day)', r_label='R_t')\n",
    "\n",
    "fig.show_figure()"
   ]
  },
  {
   "cell_type": "markdown",
   "metadata": {},
   "source": [
    "## Compute the posterior distribution using sampling class method"
   ]
  },
  {
   "cell_type": "code",
   "execution_count": 8,
   "metadata": {},
   "outputs": [],
   "source": [
    "# Same inference, but using the BranchProPosterior\n",
    "tau = 6\n",
    "R_t_start = tau+1\n",
    "a = 1\n",
    "b = 1/5\n",
    "\n",
    "# Transform our incidence data into pandas dataframes\n",
    "inc_data = pd.DataFrame(\n",
    "    {\n",
    "        'Time': np.arange(num_timepoints),\n",
    "        'Incidence Number': cases\n",
    "    }\n",
    ")\n",
    "\n",
    "inference_new = branchpro.PoissonBranchProLogPosterior(\n",
    "    inc_data=inc_data,\n",
    "    daily_serial_interval=serial_interval,\n",
    "    tau = tau,\n",
    "    alpha=a,\n",
    "    beta=1/b)\n",
    "\n"
   ]
  },
  {
   "cell_type": "code",
   "execution_count": 25,
   "metadata": {},
   "outputs": [
    {
     "data": {
      "text/plain": [
       "array([[5.32307126e-002, 1.29083260e+000, 6.46741681e-013,\n",
       "        9.24885494e-052, 1.16966301e-155, 9.54534828e-321,\n",
       "        0.00000000e+000, 0.00000000e+000, 0.00000000e+000,\n",
       "        0.00000000e+000, 0.00000000e+000, 0.00000000e+000,\n",
       "        0.00000000e+000, 0.00000000e+000, 0.00000000e+000,\n",
       "        0.00000000e+000, 0.00000000e+000, 0.00000000e+000,\n",
       "        0.00000000e+000, 0.00000000e+000, 0.00000000e+000,\n",
       "        0.00000000e+000, 0.00000000e+000]])"
      ]
     },
     "execution_count": 25,
     "metadata": {},
     "output_type": "execute_result"
    }
   ],
   "source": [
    "post_dist.pdf([[0.4] * np.arange(R_t_start, num_timepoints)])"
   ]
  },
  {
   "cell_type": "code",
   "execution_count": 17,
   "metadata": {},
   "outputs": [
    {
     "name": "stdout",
     "output_type": "stream",
     "text": [
      "Different at 0\n",
      "-1104762.6318512333 [9.63152011e-002 8.14377832e-001 5.16554904e-014 1.93172693e-054\n",
      " 2.59151013e-161 0.00000000e+000 0.00000000e+000 0.00000000e+000\n",
      " 0.00000000e+000 0.00000000e+000 0.00000000e+000 0.00000000e+000\n",
      " 0.00000000e+000 0.00000000e+000 0.00000000e+000 0.00000000e+000\n",
      " 0.00000000e+000 0.00000000e+000 0.00000000e+000 0.00000000e+000\n",
      " 0.00000000e+000 0.00000000e+000 0.00000000e+000]\n",
      "Different at 1\n",
      "-1763174.3664877883 [2.08784582e-026 2.76803443e-081 1.42548595e-188 0.00000000e+000\n",
      " 0.00000000e+000 0.00000000e+000 0.00000000e+000 0.00000000e+000\n",
      " 0.00000000e+000 0.00000000e+000 0.00000000e+000 0.00000000e+000\n",
      " 0.00000000e+000 0.00000000e+000 0.00000000e+000 0.00000000e+000\n",
      " 0.00000000e+000 0.00000000e+000 0.00000000e+000 0.00000000e+000\n",
      " 0.00000000e+000 0.00000000e+000 0.00000000e+000]\n",
      "Different at 2\n",
      "-2443492.332360002 [2.14646185e-105 3.41703692e-241 0.00000000e+000 0.00000000e+000\n",
      " 0.00000000e+000 0.00000000e+000 0.00000000e+000 0.00000000e+000\n",
      " 0.00000000e+000 0.00000000e+000 0.00000000e+000 0.00000000e+000\n",
      " 0.00000000e+000 0.00000000e+000 0.00000000e+000 0.00000000e+000\n",
      " 0.00000000e+000 0.00000000e+000 0.00000000e+000 0.00000000e+000\n",
      " 0.00000000e+000 0.00000000e+000 0.00000000e+000]\n",
      "Different at 3\n",
      "-3135813.6887015514 [3.77783912e-214 0.00000000e+000 0.00000000e+000 0.00000000e+000\n",
      " 0.00000000e+000 0.00000000e+000 0.00000000e+000 0.00000000e+000\n",
      " 0.00000000e+000 0.00000000e+000 0.00000000e+000 0.00000000e+000\n",
      " 0.00000000e+000 0.00000000e+000 0.00000000e+000 0.00000000e+000\n",
      " 0.00000000e+000 0.00000000e+000 0.00000000e+000 0.00000000e+000\n",
      " 0.00000000e+000 0.00000000e+000 0.00000000e+000]\n",
      "Different at 4\n",
      "-3835727.4461599328 [0. 0. 0. 0. 0. 0. 0. 0. 0. 0. 0. 0. 0. 0. 0. 0. 0. 0. 0. 0. 0. 0. 0.]\n",
      "Different at 5\n",
      "-4540880.648683596 [0. 0. 0. 0. 0. 0. 0. 0. 0. 0. 0. 0. 0. 0. 0. 0. 0. 0. 0. 0. 0. 0. 0.]\n",
      "Different at 6\n",
      "-5249868.791195523 [0. 0. 0. 0. 0. 0. 0. 0. 0. 0. 0. 0. 0. 0. 0. 0. 0. 0. 0. 0. 0. 0. 0.]\n",
      "Different at 7\n",
      "-5961785.939123241 [0. 0. 0. 0. 0. 0. 0. 0. 0. 0. 0. 0. 0. 0. 0. 0. 0. 0. 0. 0. 0. 0. 0.]\n"
     ]
    },
    {
     "name": "stderr",
     "output_type": "stream",
     "text": [
      "/var/folders/ph/jyxnc9y52svgq2k5lt2q4r000000gp/T/ipykernel_89614/4052237093.py:4: RuntimeWarning:\n",
      "\n",
      "divide by zero encountered in log\n",
      "\n"
     ]
    }
   ],
   "source": [
    "examples_r_profiles = [[_] * np.arange(R_t_start, num_timepoints) for _ in np.arange(0.4, 2, 0.2)]\n",
    "\n",
    "for _, x in enumerate(examples_r_profiles): \n",
    "    if inference_new.return_logposterior(x) != np.sum([np.log(inference.inference_posterior.pdf(x0)) for x0 in x]):\n",
    "        print('Different at {}'.format(_))\n",
    "        print(inference_new.return_logposterior(x), inference.inference_posterior.big_pdf(x))"
   ]
  },
  {
   "cell_type": "code",
   "execution_count": 14,
   "metadata": {},
   "outputs": [
    {
     "name": "stdout",
     "output_type": "stream",
     "text": [
      "Running...\n",
      "Using Haario-Bardenet adaptive covariance MCMC\n",
      "Generating 3 chains.\n",
      "Running in parallel with 3 worker processess.\n"
     ]
    },
    {
     "name": "stderr",
     "output_type": "stream",
     "text": [
      "/Users/ioaros/Desktop/Software Project/branchpro/branchpro/apps/_dash_app.py:18: UserWarning: \n",
      "The dash_html_components package is deprecated. Please replace\n",
      "`import dash_html_components as html` with `from dash import html`\n",
      "  import dash_html_components as html\n",
      "/Users/ioaros/Desktop/Software Project/branchpro/branchpro/apps/_dash_app.py:18: UserWarning: \n",
      "The dash_html_components package is deprecated. Please replace\n",
      "`import dash_html_components as html` with `from dash import html`\n",
      "  import dash_html_components as html\n",
      "/Users/ioaros/Desktop/Software Project/branchpro/branchpro/apps/_dash_app.py:18: UserWarning: \n",
      "The dash_html_components package is deprecated. Please replace\n",
      "`import dash_html_components as html` with `from dash import html`\n",
      "  import dash_html_components as html\n",
      "/Users/ioaros/Desktop/Software Project/branchpro/branchpro/apps/_simulation.py:15: UserWarning: \n",
      "The dash_core_components package is deprecated. Please replace\n",
      "`import dash_core_components as dcc` with `from dash import dcc`\n",
      "  import dash_core_components as dcc\n",
      "/Users/ioaros/Desktop/Software Project/branchpro/branchpro/apps/_simulation.py:15: UserWarning: \n",
      "The dash_core_components package is deprecated. Please replace\n",
      "`import dash_core_components as dcc` with `from dash import dcc`\n",
      "  import dash_core_components as dcc\n",
      "/Users/ioaros/Desktop/Software Project/branchpro/branchpro/apps/_simulation.py:15: UserWarning: \n",
      "The dash_core_components package is deprecated. Please replace\n",
      "`import dash_core_components as dcc` with `from dash import dcc`\n",
      "  import dash_core_components as dcc\n"
     ]
    },
    {
     "name": "stdout",
     "output_type": "stream",
     "text": [
      "Iter. Eval. Accept.   Accept.   Accept.   Time m:s\n",
      "0     3      0         0         0          0:04.1\n",
      "1     6      0         0.5       0.5        0:04.1\n",
      "2     9      0.333     0.333     0.667      0:04.1\n",
      "3     12     0.25      0.25      0.75       0:04.1\n",
      "20    63     0.19      0.381     0.286      0:04.1\n",
      "40    123    0.317     0.317     0.366      0:04.2\n",
      "60    183    0.377     0.344     0.361      0:04.2\n",
      "80    243    0.382716  0.333     0.382716   0:04.3\n",
      "100   303    0.376     0.327     0.416      0:04.3\n",
      "120   363    0.38      0.331     0.446281   0:04.3\n",
      "140   423    0.397     0.326     0.411      0:04.4\n",
      "160   483    0.385     0.329     0.404      0:04.4\n",
      "180   543    0.359116  0.337     0.392      0:04.4\n",
      "Initial phase completed.\n",
      "200   603    0.363     0.313     0.388      0:04.5\n",
      "220   663    0.357     0.321267  0.389      0:04.5\n",
      "240   723    0.365     0.315     0.386      0:04.6\n",
      "260   783    0.356     0.307     0.364      0:04.6\n",
      "280   843    0.338     0.32      0.359      0:04.7\n",
      "300   903    0.322     0.309     0.355      0:04.7\n",
      "320   963    0.308     0.296     0.361      0:04.8\n",
      "340   1023   0.311     0.28739   0.355      0:04.8\n",
      "360   1083   0.302     0.285     0.343      0:04.9\n",
      "380   1143   0.312336  0.281     0.325      0:04.9\n",
      "400   1203   0.307     0.274     0.312      0:04.9\n",
      "420   1263   0.299     0.261     0.304038   0:05.0\n",
      "440   1323   0.297     0.265     0.297      0:05.0\n",
      "460   1383   0.291     0.262     0.286      0:05.1\n",
      "480   1443   0.287     0.262     0.277      0:05.1\n"
     ]
    },
    {
     "name": "stderr",
     "output_type": "stream",
     "text": [
      "/Users/ioaros/Desktop/Software Project/branchpro/branchpro/apps/_dash_app.py:18: UserWarning: \n",
      "The dash_html_components package is deprecated. Please replace\n",
      "`import dash_html_components as html` with `from dash import html`\n",
      "  import dash_html_components as html\n",
      "/Users/ioaros/Desktop/Software Project/branchpro/branchpro/apps/_dash_app.py:18: UserWarning: \n",
      "The dash_html_components package is deprecated. Please replace\n",
      "`import dash_html_components as html` with `from dash import html`\n",
      "  import dash_html_components as html\n",
      "/Users/ioaros/Desktop/Software Project/branchpro/branchpro/apps/_dash_app.py:18: UserWarning: \n",
      "The dash_html_components package is deprecated. Please replace\n",
      "`import dash_html_components as html` with `from dash import html`\n",
      "  import dash_html_components as html\n",
      "/Users/ioaros/Desktop/Software Project/branchpro/branchpro/apps/_simulation.py:15: UserWarning: \n",
      "The dash_core_components package is deprecated. Please replace\n",
      "`import dash_core_components as dcc` with `from dash import dcc`\n",
      "  import dash_core_components as dcc\n",
      "/Users/ioaros/Desktop/Software Project/branchpro/branchpro/apps/_simulation.py:15: UserWarning: \n",
      "The dash_core_components package is deprecated. Please replace\n",
      "`import dash_core_components as dcc` with `from dash import dcc`\n",
      "  import dash_core_components as dcc\n",
      "/Users/ioaros/Desktop/Software Project/branchpro/branchpro/apps/_simulation.py:15: UserWarning: \n",
      "The dash_core_components package is deprecated. Please replace\n",
      "`import dash_core_components as dcc` with `from dash import dcc`\n",
      "  import dash_core_components as dcc\n"
     ]
    },
    {
     "name": "stdout",
     "output_type": "stream",
     "text": [
      "500   1503   0.287     0.257485  0.273      0:08.3\n",
      "520   1563   0.292     0.259     0.273      0:08.3\n",
      "540   1623   0.294     0.257     0.266      0:08.4\n",
      "560   1683   0.289     0.264     0.269      0:08.4\n",
      "580   1743   0.292599  0.27      0.27       0:08.5\n",
      "600   1803   0.288     0.275     0.275      0:08.5\n",
      "620   1863   0.287     0.277     0.279      0:08.6\n",
      "640   1923   0.285     0.276131  0.284      0:08.6\n",
      "660   1983   0.283     0.274     0.281      0:08.7\n",
      "680   2043   0.28      0.27      0.28       0:08.7\n",
      "700   2103   0.28      0.265     0.278174   0:08.7\n",
      "720   2163   0.276     0.259362  0.275      0:08.8\n",
      "740   2223   0.274     0.255     0.275      0:08.8\n",
      "760   2283   0.28      0.252     0.269      0:08.9\n",
      "780   2343   0.282     0.25      0.265      0:08.9\n",
      "800   2403   0.283     0.248     0.263      0:09.0\n",
      "820   2463   0.28      0.245     0.258      0:09.0\n",
      "840   2523   0.274673  0.244     0.252      0:09.1\n",
      "860   2583   0.271     0.246     0.249      0:09.1\n",
      "880   2643   0.266     0.245     0.243      0:09.2\n",
      "900   2703   0.263     0.249     0.241      0:09.2\n",
      "920   2763   0.262     0.252     0.237      0:09.3\n",
      "940   2823   0.264     0.253     0.234      0:09.3\n",
      "960   2883   0.261     0.253     0.234      0:09.4\n",
      "980   2943   0.261     0.254     0.234      0:09.4\n"
     ]
    },
    {
     "name": "stderr",
     "output_type": "stream",
     "text": [
      "/Users/ioaros/Desktop/Software Project/branchpro/branchpro/apps/_dash_app.py:18: UserWarning: \n",
      "The dash_html_components package is deprecated. Please replace\n",
      "`import dash_html_components as html` with `from dash import html`\n",
      "  import dash_html_components as html\n",
      "/Users/ioaros/Desktop/Software Project/branchpro/branchpro/apps/_dash_app.py:18: UserWarning: \n",
      "The dash_html_components package is deprecated. Please replace\n",
      "`import dash_html_components as html` with `from dash import html`\n",
      "  import dash_html_components as html\n",
      "/Users/ioaros/Desktop/Software Project/branchpro/branchpro/apps/_dash_app.py:18: UserWarning: \n",
      "The dash_html_components package is deprecated. Please replace\n",
      "`import dash_html_components as html` with `from dash import html`\n",
      "  import dash_html_components as html\n",
      "/Users/ioaros/Desktop/Software Project/branchpro/branchpro/apps/_simulation.py:15: UserWarning: \n",
      "The dash_core_components package is deprecated. Please replace\n",
      "`import dash_core_components as dcc` with `from dash import dcc`\n",
      "  import dash_core_components as dcc\n",
      "/Users/ioaros/Desktop/Software Project/branchpro/branchpro/apps/_simulation.py:15: UserWarning: \n",
      "The dash_core_components package is deprecated. Please replace\n",
      "`import dash_core_components as dcc` with `from dash import dcc`\n",
      "  import dash_core_components as dcc\n",
      "/Users/ioaros/Desktop/Software Project/branchpro/branchpro/apps/_simulation.py:15: UserWarning: \n",
      "The dash_core_components package is deprecated. Please replace\n",
      "`import dash_core_components as dcc` with `from dash import dcc`\n",
      "  import dash_core_components as dcc\n"
     ]
    },
    {
     "name": "stdout",
     "output_type": "stream",
     "text": [
      "1000  3003   0.262     0.256     0.233      0:12.6\n",
      "1020  3063   0.26      0.255     0.237      0:12.7\n",
      "1040  3123   0.256     0.256     0.237      0:12.7\n",
      "1060  3183   0.254     0.254     0.237      0:12.7\n",
      "1080  3243   0.254     0.253     0.234      0:12.8\n",
      "1100  3303   0.258     0.25      0.232      0:12.8\n",
      "1120  3363   0.258     0.252     0.227      0:12.9\n",
      "1140  3423   0.258     0.254163  0.224      0:12.9\n",
      "1160  3483   0.26      0.261     0.22       0:13.0\n",
      "1180  3543   0.257409  0.261     0.217      0:13.0\n",
      "1200  3603   0.257     0.264     0.214821   0:13.1\n",
      "1220  3663   0.257     0.26      0.214      0:13.1\n",
      "1240  3723   0.256245  0.263     0.211      0:13.2\n",
      "1260  3783   0.255     0.266     0.209      0:13.2\n",
      "1280  3843   0.253708  0.265     0.206089   0:13.3\n",
      "1300  3903   0.251     0.264     0.206      0:13.3\n",
      "1320  3963   0.251     0.263     0.206      0:13.4\n",
      "1340  4023   0.248     0.261     0.207      0:13.4\n",
      "1360  4083   0.247     0.259     0.206      0:13.4\n",
      "1380  4143   0.248     0.257     0.206      0:13.5\n",
      "1400  4203   0.247     0.257     0.208      0:13.5\n",
      "1420  4263   0.244     0.257     0.211      0:13.6\n",
      "1440  4323   0.245     0.254     0.214      0:13.6\n",
      "1460  4383   0.245     0.255     0.217      0:13.7\n",
      "1480  4443   0.245     0.253     0.219      0:13.7\n"
     ]
    },
    {
     "name": "stderr",
     "output_type": "stream",
     "text": [
      "/Users/ioaros/Desktop/Software Project/branchpro/branchpro/apps/_dash_app.py:18: UserWarning: \n",
      "The dash_html_components package is deprecated. Please replace\n",
      "`import dash_html_components as html` with `from dash import html`\n",
      "  import dash_html_components as html\n",
      "/Users/ioaros/Desktop/Software Project/branchpro/branchpro/apps/_dash_app.py:18: UserWarning: \n",
      "The dash_html_components package is deprecated. Please replace\n",
      "`import dash_html_components as html` with `from dash import html`\n",
      "  import dash_html_components as html\n",
      "/Users/ioaros/Desktop/Software Project/branchpro/branchpro/apps/_dash_app.py:18: UserWarning: \n",
      "The dash_html_components package is deprecated. Please replace\n",
      "`import dash_html_components as html` with `from dash import html`\n",
      "  import dash_html_components as html\n",
      "/Users/ioaros/Desktop/Software Project/branchpro/branchpro/apps/_simulation.py:15: UserWarning: \n",
      "The dash_core_components package is deprecated. Please replace\n",
      "`import dash_core_components as dcc` with `from dash import dcc`\n",
      "  import dash_core_components as dcc\n",
      "/Users/ioaros/Desktop/Software Project/branchpro/branchpro/apps/_simulation.py:15: UserWarning: \n",
      "The dash_core_components package is deprecated. Please replace\n",
      "`import dash_core_components as dcc` with `from dash import dcc`\n",
      "  import dash_core_components as dcc\n",
      "/Users/ioaros/Desktop/Software Project/branchpro/branchpro/apps/_simulation.py:15: UserWarning: \n",
      "The dash_core_components package is deprecated. Please replace\n",
      "`import dash_core_components as dcc` with `from dash import dcc`\n",
      "  import dash_core_components as dcc\n"
     ]
    },
    {
     "name": "stdout",
     "output_type": "stream",
     "text": [
      "1500  4503   0.244     0.251     0.219      0:17.0\n",
      "1520  4563   0.242     0.25      0.222      0:17.0\n",
      "1540  4623   0.241     0.249     0.227      0:17.1\n",
      "1560  4683   0.238     0.249     0.231262   0:17.1\n",
      "1580  4743   0.237     0.249     0.233      0:17.2\n",
      "1600  4803   0.233604  0.249     0.235      0:17.2\n",
      "1620  4863   0.231     0.247     0.239      0:17.3\n",
      "1640  4923   0.229     0.246     0.24       0:17.3\n",
      "1660  4983   0.226     0.243829  0.242      0:17.4\n",
      "1680  5043   0.224     0.240928  0.244      0:17.4\n",
      "1700  5103   0.222     0.239     0.244      0:17.4\n",
      "1720  5163   0.219     0.237     0.248      0:17.5\n",
      "1740  5223   0.217     0.236     0.25       0:17.5\n",
      "1760  5283   0.215     0.235     0.252      0:17.6\n",
      "1780  5343   0.216     0.233     0.254      0:17.6\n",
      "1800  5403   0.218     0.231     0.255      0:17.7\n",
      "1820  5463   0.216     0.231     0.255      0:17.7\n",
      "1840  5523   0.218     0.229     0.258012   0:17.8\n",
      "1860  5583   0.219     0.228     0.258      0:17.8\n",
      "1880  5643   0.219     0.227     0.26       0:17.8\n",
      "1900  5703   0.22      0.225     0.261      0:17.9\n",
      "1920  5763   0.22      0.223     0.261      0:17.9\n",
      "1940  5823   0.219     0.223     0.262      0:18.0\n",
      "1960  5883   0.22      0.222     0.261      0:18.0\n",
      "1980  5943   0.221     0.22211   0.262      0:18.1\n"
     ]
    },
    {
     "name": "stderr",
     "output_type": "stream",
     "text": [
      "/Users/ioaros/Desktop/Software Project/branchpro/branchpro/apps/_dash_app.py:18: UserWarning: \n",
      "The dash_html_components package is deprecated. Please replace\n",
      "`import dash_html_components as html` with `from dash import html`\n",
      "  import dash_html_components as html\n",
      "/Users/ioaros/Desktop/Software Project/branchpro/branchpro/apps/_dash_app.py:18: UserWarning: \n",
      "The dash_html_components package is deprecated. Please replace\n",
      "`import dash_html_components as html` with `from dash import html`\n",
      "  import dash_html_components as html\n",
      "/Users/ioaros/Desktop/Software Project/branchpro/branchpro/apps/_dash_app.py:18: UserWarning: \n",
      "The dash_html_components package is deprecated. Please replace\n",
      "`import dash_html_components as html` with `from dash import html`\n",
      "  import dash_html_components as html\n",
      "/Users/ioaros/Desktop/Software Project/branchpro/branchpro/apps/_simulation.py:15: UserWarning: \n",
      "The dash_core_components package is deprecated. Please replace\n",
      "`import dash_core_components as dcc` with `from dash import dcc`\n",
      "  import dash_core_components as dcc\n",
      "/Users/ioaros/Desktop/Software Project/branchpro/branchpro/apps/_simulation.py:15: UserWarning: \n",
      "The dash_core_components package is deprecated. Please replace\n",
      "`import dash_core_components as dcc` with `from dash import dcc`\n",
      "  import dash_core_components as dcc\n",
      "/Users/ioaros/Desktop/Software Project/branchpro/branchpro/apps/_simulation.py:15: UserWarning: \n",
      "The dash_core_components package is deprecated. Please replace\n",
      "`import dash_core_components as dcc` with `from dash import dcc`\n",
      "  import dash_core_components as dcc\n"
     ]
    },
    {
     "name": "stdout",
     "output_type": "stream",
     "text": [
      "2000  6003   0.222     0.22      0.263      0:21.2\n",
      "2020  6063   0.222662  0.219     0.264      0:21.2\n",
      "2040  6123   0.223     0.219     0.265      0:21.3\n",
      "2060  6183   0.225     0.219     0.264      0:21.3\n",
      "2080  6243   0.225     0.219     0.265      0:21.4\n",
      "2100  6303   0.227     0.219     0.265      0:21.4\n",
      "2120  6363   0.228     0.221     0.264      0:21.5\n",
      "2140  6423   0.228865  0.221     0.266      0:21.5\n",
      "2160  6483   0.229     0.22      0.264      0:21.6\n",
      "2180  6543   0.23      0.219     0.263      0:21.6\n",
      "2200  6603   0.23      0.218     0.26       0:21.7\n",
      "2220  6663   0.23      0.221     0.258      0:21.7\n",
      "2240  6723   0.23      0.22      0.257      0:21.7\n",
      "2260  6783   0.231     0.221     0.255      0:21.8\n",
      "2280  6843   0.232     0.221     0.253      0:21.8\n",
      "2300  6903   0.233     0.219     0.25       0:21.9\n",
      "2320  6963   0.23352   0.219302  0.249      0:21.9\n",
      "2340  7023   0.235     0.22      0.246903   0:22.0\n",
      "2360  7083   0.235     0.22      0.246      0:22.0\n",
      "2380  7143   0.234     0.22      0.245      0:22.1\n",
      "2400  7203   0.234     0.223     0.243      0:22.1\n",
      "2420  7263   0.235     0.223     0.242      0:22.1\n",
      "2440  7323   0.234     0.223     0.242      0:22.2\n",
      "2460  7383   0.234     0.224     0.24       0:22.2\n",
      "2480  7443   0.235792  0.227     0.239      0:22.3\n"
     ]
    },
    {
     "name": "stderr",
     "output_type": "stream",
     "text": [
      "/Users/ioaros/Desktop/Software Project/branchpro/branchpro/apps/_dash_app.py:18: UserWarning: \n",
      "The dash_html_components package is deprecated. Please replace\n",
      "`import dash_html_components as html` with `from dash import html`\n",
      "  import dash_html_components as html\n",
      "/Users/ioaros/Desktop/Software Project/branchpro/branchpro/apps/_dash_app.py:18: UserWarning: \n",
      "The dash_html_components package is deprecated. Please replace\n",
      "`import dash_html_components as html` with `from dash import html`\n",
      "  import dash_html_components as html\n",
      "/Users/ioaros/Desktop/Software Project/branchpro/branchpro/apps/_dash_app.py:18: UserWarning: \n",
      "The dash_html_components package is deprecated. Please replace\n",
      "`import dash_html_components as html` with `from dash import html`\n",
      "  import dash_html_components as html\n",
      "/Users/ioaros/Desktop/Software Project/branchpro/branchpro/apps/_simulation.py:15: UserWarning: \n",
      "The dash_core_components package is deprecated. Please replace\n",
      "`import dash_core_components as dcc` with `from dash import dcc`\n",
      "  import dash_core_components as dcc\n",
      "/Users/ioaros/Desktop/Software Project/branchpro/branchpro/apps/_simulation.py:15: UserWarning: \n",
      "The dash_core_components package is deprecated. Please replace\n",
      "`import dash_core_components as dcc` with `from dash import dcc`\n",
      "  import dash_core_components as dcc\n",
      "/Users/ioaros/Desktop/Software Project/branchpro/branchpro/apps/_simulation.py:15: UserWarning: \n",
      "The dash_core_components package is deprecated. Please replace\n",
      "`import dash_core_components as dcc` with `from dash import dcc`\n",
      "  import dash_core_components as dcc\n"
     ]
    },
    {
     "name": "stdout",
     "output_type": "stream",
     "text": [
      "2500  7503   0.236     0.227509  0.238      0:25.5\n",
      "2520  7563   0.236     0.228     0.239      0:25.6\n",
      "2540  7623   0.236     0.23      0.238      0:25.6\n",
      "2560  7683   0.236     0.229     0.237      0:25.7\n",
      "2580  7743   0.235     0.228981  0.239      0:25.7\n",
      "2600  7803   0.234     0.228     0.239      0:25.8\n",
      "2620  7863   0.232     0.229     0.239      0:25.8\n",
      "2640  7923   0.232     0.23      0.239      0:25.8\n",
      "2660  7983   0.23      0.229     0.24       0:25.9\n",
      "2680  8043   0.231257  0.229019  0.239      0:25.9\n",
      "2700  8103   0.23      0.23      0.24       0:26.0\n",
      "2720  8163   0.23      0.23      0.24       0:26.0\n",
      "2740  8223   0.229     0.229     0.24       0:26.1\n",
      "2760  8283   0.227816  0.229     0.242      0:26.1\n",
      "2780  8343   0.226     0.228     0.241      0:26.2\n",
      "2800  8403   0.225     0.227     0.242      0:26.2\n",
      "2820  8463   0.224     0.228     0.242      0:26.3\n",
      "2840  8523   0.222     0.228     0.243      0:26.3\n",
      "2860  8583   0.221     0.230339  0.243      0:26.4\n",
      "2880  8643   0.219     0.231     0.244      0:26.4\n",
      "2900  8703   0.218     0.231     0.244      0:26.4\n",
      "2920  8763   0.218     0.232     0.244      0:26.5\n",
      "2940  8823   0.217273  0.232     0.245      0:26.5\n",
      "2960  8883   0.216     0.233     0.247      0:26.6\n",
      "2980  8943   0.215     0.233     0.247      0:26.6\n"
     ]
    },
    {
     "name": "stderr",
     "output_type": "stream",
     "text": [
      "/Users/ioaros/Desktop/Software Project/branchpro/branchpro/apps/_dash_app.py:18: UserWarning: \n",
      "The dash_html_components package is deprecated. Please replace\n",
      "`import dash_html_components as html` with `from dash import html`\n",
      "  import dash_html_components as html\n",
      "/Users/ioaros/Desktop/Software Project/branchpro/branchpro/apps/_dash_app.py:18: UserWarning: \n",
      "The dash_html_components package is deprecated. Please replace\n",
      "`import dash_html_components as html` with `from dash import html`\n",
      "  import dash_html_components as html\n",
      "/Users/ioaros/Desktop/Software Project/branchpro/branchpro/apps/_dash_app.py:18: UserWarning: \n",
      "The dash_html_components package is deprecated. Please replace\n",
      "`import dash_html_components as html` with `from dash import html`\n",
      "  import dash_html_components as html\n",
      "/Users/ioaros/Desktop/Software Project/branchpro/branchpro/apps/_simulation.py:15: UserWarning: \n",
      "The dash_core_components package is deprecated. Please replace\n",
      "`import dash_core_components as dcc` with `from dash import dcc`\n",
      "  import dash_core_components as dcc\n",
      "/Users/ioaros/Desktop/Software Project/branchpro/branchpro/apps/_simulation.py:15: UserWarning: \n",
      "The dash_core_components package is deprecated. Please replace\n",
      "`import dash_core_components as dcc` with `from dash import dcc`\n",
      "  import dash_core_components as dcc\n",
      "/Users/ioaros/Desktop/Software Project/branchpro/branchpro/apps/_simulation.py:15: UserWarning: \n",
      "The dash_core_components package is deprecated. Please replace\n",
      "`import dash_core_components as dcc` with `from dash import dcc`\n",
      "  import dash_core_components as dcc\n"
     ]
    },
    {
     "name": "stdout",
     "output_type": "stream",
     "text": [
      "3000  9003   0.214     0.235     0.245918   0:29.9\n",
      "3020  9063   0.213     0.236     0.247      0:29.9\n",
      "3040  9123   0.212759  0.23512   0.248      0:30.0\n",
      "3060  9183   0.212     0.235     0.248      0:30.0\n",
      "3080  9243   0.212     0.235     0.248      0:30.1\n",
      "3100  9303   0.213     0.235     0.248      0:30.1\n",
      "3120  9363   0.213     0.235     0.248      0:30.2\n",
      "3140  9423   0.212     0.234957  0.248      0:30.2\n",
      "3160  9483   0.211     0.234     0.248      0:30.3\n",
      "3180  9543   0.212     0.235     0.248      0:30.3\n",
      "3200  9603   0.211     0.234     0.247      0:30.3\n",
      "3220  9663   0.21      0.235     0.247      0:30.4\n",
      "3240  9723   0.21      0.236     0.247      0:30.4\n",
      "3260  9783   0.21      0.235     0.247      0:30.5\n",
      "3280  9843   0.21      0.236     0.248      0:30.5\n",
      "3300  9903   0.211     0.236595  0.248      0:30.6\n",
      "3320  9963   0.21      0.237     0.248      0:30.6\n",
      "3340  10023  0.211     0.238     0.248      0:30.7\n",
      "3360  10083  0.211     0.238     0.248      0:30.7\n",
      "3380  10143  0.21      0.238     0.247      0:30.8\n",
      "3400  10203  0.21      0.237     0.247      0:30.8\n",
      "3420  10263  0.21      0.237     0.247      0:30.9\n",
      "3440  10323  0.21      0.237     0.24644    0:30.9\n",
      "3460  10383  0.209766  0.237     0.246      0:30.9\n",
      "3480  10443  0.211     0.237     0.245      0:31.0\n"
     ]
    },
    {
     "name": "stderr",
     "output_type": "stream",
     "text": [
      "/Users/ioaros/Desktop/Software Project/branchpro/branchpro/apps/_dash_app.py:18: UserWarning: \n",
      "The dash_html_components package is deprecated. Please replace\n",
      "`import dash_html_components as html` with `from dash import html`\n",
      "  import dash_html_components as html\n",
      "/Users/ioaros/Desktop/Software Project/branchpro/branchpro/apps/_dash_app.py:18: UserWarning: \n",
      "The dash_html_components package is deprecated. Please replace\n",
      "`import dash_html_components as html` with `from dash import html`\n",
      "  import dash_html_components as html\n",
      "/Users/ioaros/Desktop/Software Project/branchpro/branchpro/apps/_dash_app.py:18: UserWarning: \n",
      "The dash_html_components package is deprecated. Please replace\n",
      "`import dash_html_components as html` with `from dash import html`\n",
      "  import dash_html_components as html\n",
      "/Users/ioaros/Desktop/Software Project/branchpro/branchpro/apps/_simulation.py:15: UserWarning: \n",
      "The dash_core_components package is deprecated. Please replace\n",
      "`import dash_core_components as dcc` with `from dash import dcc`\n",
      "  import dash_core_components as dcc\n",
      "/Users/ioaros/Desktop/Software Project/branchpro/branchpro/apps/_simulation.py:15: UserWarning: \n",
      "The dash_core_components package is deprecated. Please replace\n",
      "`import dash_core_components as dcc` with `from dash import dcc`\n",
      "  import dash_core_components as dcc\n",
      "/Users/ioaros/Desktop/Software Project/branchpro/branchpro/apps/_simulation.py:15: UserWarning: \n",
      "The dash_core_components package is deprecated. Please replace\n",
      "`import dash_core_components as dcc` with `from dash import dcc`\n",
      "  import dash_core_components as dcc\n"
     ]
    },
    {
     "name": "stdout",
     "output_type": "stream",
     "text": [
      "3500  10503  0.211     0.238     0.244      0:34.2\n",
      "3520  10563  0.212     0.238     0.243      0:34.2\n",
      "3540  10623  0.212087  0.238     0.242022   0:34.3\n",
      "3560  10683  0.213     0.238697  0.241      0:34.3\n",
      "3580  10743  0.213     0.24      0.24       0:34.4\n",
      "3600  10803  0.213     0.24      0.239      0:34.4\n",
      "3620  10863  0.214     0.241     0.238332   0:34.5\n",
      "3640  10923  0.214     0.241     0.237      0:34.5\n",
      "3660  10983  0.213     0.24      0.236      0:34.6\n",
      "3680  11043  0.213     0.239     0.236      0:34.6\n",
      "3700  11103  0.213     0.239     0.234261   0:34.6\n",
      "3720  11163  0.213     0.239183  0.234      0:34.7\n",
      "3740  11223  0.213     0.24      0.233      0:34.8\n",
      "3760  11283  0.213507  0.24      0.232      0:34.8\n",
      "3780  11343  0.214     0.24      0.231      0:34.8\n",
      "3800  11403  0.214     0.239     0.23       0:34.9\n",
      "3820  11463  0.215     0.238     0.23       0:34.9\n",
      "3840  11523  0.215     0.238     0.229      0:35.0\n",
      "3860  11583  0.215     0.237     0.228      0:35.0\n",
      "3880  11643  0.217     0.236     0.227261   0:35.1\n",
      "3900  11703  0.219     0.235837  0.227      0:35.1\n",
      "3920  11763  0.219     0.235     0.226      0:35.2\n",
      "3940  11823  0.22      0.234     0.225      0:35.2\n",
      "3960  11883  0.221     0.235     0.224      0:35.3\n",
      "3980  11943  0.222306  0.235     0.223      0:35.3\n"
     ]
    },
    {
     "name": "stderr",
     "output_type": "stream",
     "text": [
      "/Users/ioaros/Desktop/Software Project/branchpro/branchpro/apps/_dash_app.py:18: UserWarning: \n",
      "The dash_html_components package is deprecated. Please replace\n",
      "`import dash_html_components as html` with `from dash import html`\n",
      "  import dash_html_components as html\n",
      "/Users/ioaros/Desktop/Software Project/branchpro/branchpro/apps/_dash_app.py:18: UserWarning: \n",
      "The dash_html_components package is deprecated. Please replace\n",
      "`import dash_html_components as html` with `from dash import html`\n",
      "  import dash_html_components as html\n",
      "/Users/ioaros/Desktop/Software Project/branchpro/branchpro/apps/_dash_app.py:18: UserWarning: \n",
      "The dash_html_components package is deprecated. Please replace\n",
      "`import dash_html_components as html` with `from dash import html`\n",
      "  import dash_html_components as html\n",
      "/Users/ioaros/Desktop/Software Project/branchpro/branchpro/apps/_simulation.py:15: UserWarning: \n",
      "The dash_core_components package is deprecated. Please replace\n",
      "`import dash_core_components as dcc` with `from dash import dcc`\n",
      "  import dash_core_components as dcc\n",
      "/Users/ioaros/Desktop/Software Project/branchpro/branchpro/apps/_simulation.py:15: UserWarning: \n",
      "The dash_core_components package is deprecated. Please replace\n",
      "`import dash_core_components as dcc` with `from dash import dcc`\n",
      "  import dash_core_components as dcc\n",
      "/Users/ioaros/Desktop/Software Project/branchpro/branchpro/apps/_simulation.py:15: UserWarning: \n",
      "The dash_core_components package is deprecated. Please replace\n",
      "`import dash_core_components as dcc` with `from dash import dcc`\n",
      "  import dash_core_components as dcc\n"
     ]
    },
    {
     "name": "stdout",
     "output_type": "stream",
     "text": [
      "4000  12003  0.223     0.235     0.222      0:40.4\n",
      "4020  12063  0.224     0.235     0.221338   0:40.5\n",
      "4040  12123  0.224     0.235     0.22       0:40.5\n",
      "4060  12183  0.225     0.235     0.22       0:40.6\n",
      "4080  12243  0.226     0.235     0.219      0:40.6\n",
      "4100  12303  0.226774  0.234     0.218      0:40.7\n",
      "4120  12363  0.226     0.234     0.217423   0:40.7\n",
      "4140  12423  0.227     0.233     0.218      0:40.7\n",
      "4160  12483  0.227     0.232     0.218      0:40.8\n",
      "4180  12543  0.227     0.232     0.217      0:40.8\n",
      "4200  12603  0.227     0.231     0.217      0:40.9\n",
      "4220  12663  0.227     0.230751  0.217      0:40.9\n",
      "4240  12723  0.227     0.230606  0.217      0:41.0\n",
      "4260  12783  0.227     0.230697  0.216      0:41.0\n",
      "4280  12843  0.227     0.23      0.215      0:41.1\n",
      "4300  12903  0.227389  0.229714  0.214      0:41.1\n",
      "4320  12963  0.228     0.23      0.213      0:41.2\n",
      "4340  13023  0.228     0.23      0.212      0:41.2\n",
      "4360  13083  0.228388  0.229     0.212      0:41.2\n",
      "4380  13143  0.228     0.228     0.211139   0:41.3\n",
      "4400  13203  0.229     0.228     0.211      0:41.3\n",
      "4420  13263  0.23      0.227     0.211      0:41.4\n",
      "4440  13323  0.229678  0.227     0.21       0:41.4\n",
      "4460  13383  0.23      0.227     0.21       0:41.5\n",
      "4480  13443  0.231     0.226     0.209      0:41.5\n"
     ]
    },
    {
     "name": "stderr",
     "output_type": "stream",
     "text": [
      "/Users/ioaros/Desktop/Software Project/branchpro/branchpro/apps/_dash_app.py:18: UserWarning: \n",
      "The dash_html_components package is deprecated. Please replace\n",
      "`import dash_html_components as html` with `from dash import html`\n",
      "  import dash_html_components as html\n",
      "/Users/ioaros/Desktop/Software Project/branchpro/branchpro/apps/_dash_app.py:18: UserWarning: \n",
      "The dash_html_components package is deprecated. Please replace\n",
      "`import dash_html_components as html` with `from dash import html`\n",
      "  import dash_html_components as html\n",
      "/Users/ioaros/Desktop/Software Project/branchpro/branchpro/apps/_dash_app.py:18: UserWarning: \n",
      "The dash_html_components package is deprecated. Please replace\n",
      "`import dash_html_components as html` with `from dash import html`\n",
      "  import dash_html_components as html\n",
      "/Users/ioaros/Desktop/Software Project/branchpro/branchpro/apps/_simulation.py:15: UserWarning: \n",
      "The dash_core_components package is deprecated. Please replace\n",
      "`import dash_core_components as dcc` with `from dash import dcc`\n",
      "  import dash_core_components as dcc\n",
      "/Users/ioaros/Desktop/Software Project/branchpro/branchpro/apps/_simulation.py:15: UserWarning: \n",
      "The dash_core_components package is deprecated. Please replace\n",
      "`import dash_core_components as dcc` with `from dash import dcc`\n",
      "  import dash_core_components as dcc\n",
      "/Users/ioaros/Desktop/Software Project/branchpro/branchpro/apps/_simulation.py:15: UserWarning: \n",
      "The dash_core_components package is deprecated. Please replace\n",
      "`import dash_core_components as dcc` with `from dash import dcc`\n",
      "  import dash_core_components as dcc\n"
     ]
    },
    {
     "name": "stdout",
     "output_type": "stream",
     "text": [
      "4500  13503  0.231     0.225     0.21       0:49.2\n",
      "4520  13563  0.232     0.224729  0.21       0:49.3\n",
      "4540  13623  0.231     0.224     0.21       0:49.3\n",
      "4560  13683  0.231     0.223     0.211      0:49.4\n",
      "4580  13743  0.232     0.222     0.211      0:49.4\n",
      "4600  13803  0.232     0.222     0.211      0:49.5\n",
      "4620  13863  0.232     0.222     0.212      0:49.5\n",
      "4640  13923  0.233     0.221     0.212      0:49.5\n",
      "4660  13983  0.233     0.220339  0.213      0:49.6\n",
      "4680  14043  0.232429  0.219     0.213      0:49.6\n",
      "4700  14103  0.233     0.219     0.214      0:49.7\n",
      "4720  14163  0.233     0.218     0.214      0:49.7\n",
      "4740  14223  0.233     0.217     0.215      0:49.8\n",
      "4760  14283  0.233     0.216     0.215      0:49.8\n",
      "4780  14343  0.234     0.216     0.215      0:49.9\n",
      "4800  14403  0.234     0.215     0.215      0:49.9\n",
      "4820  14463  0.234     0.214     0.216      0:50.0\n",
      "4840  14523  0.234     0.214     0.217      0:50.0\n",
      "4860  14583  0.234     0.213     0.218      0:50.0\n",
      "4880  14643  0.234     0.212     0.219      0:50.1\n",
      "4900  14703  0.234     0.211     0.22       0:50.1\n",
      "4920  14763  0.235     0.211     0.22       0:50.2\n",
      "4940  14823  0.235     0.21      0.219996   0:50.2\n",
      "4960  14883  0.235     0.209     0.221      0:50.3\n",
      "4980  14943  0.235     0.209     0.22104    0:50.3\n"
     ]
    },
    {
     "name": "stderr",
     "output_type": "stream",
     "text": [
      "/Users/ioaros/Desktop/Software Project/branchpro/branchpro/apps/_dash_app.py:18: UserWarning: \n",
      "The dash_html_components package is deprecated. Please replace\n",
      "`import dash_html_components as html` with `from dash import html`\n",
      "  import dash_html_components as html\n",
      "/Users/ioaros/Desktop/Software Project/branchpro/branchpro/apps/_dash_app.py:18: UserWarning: \n",
      "The dash_html_components package is deprecated. Please replace\n",
      "`import dash_html_components as html` with `from dash import html`\n",
      "  import dash_html_components as html\n",
      "/Users/ioaros/Desktop/Software Project/branchpro/branchpro/apps/_dash_app.py:18: UserWarning: \n",
      "The dash_html_components package is deprecated. Please replace\n",
      "`import dash_html_components as html` with `from dash import html`\n",
      "  import dash_html_components as html\n",
      "/Users/ioaros/Desktop/Software Project/branchpro/branchpro/apps/_simulation.py:15: UserWarning: \n",
      "The dash_core_components package is deprecated. Please replace\n",
      "`import dash_core_components as dcc` with `from dash import dcc`\n",
      "  import dash_core_components as dcc\n",
      "/Users/ioaros/Desktop/Software Project/branchpro/branchpro/apps/_simulation.py:15: UserWarning: \n",
      "The dash_core_components package is deprecated. Please replace\n",
      "`import dash_core_components as dcc` with `from dash import dcc`\n",
      "  import dash_core_components as dcc\n",
      "/Users/ioaros/Desktop/Software Project/branchpro/branchpro/apps/_simulation.py:15: UserWarning: \n",
      "The dash_core_components package is deprecated. Please replace\n",
      "`import dash_core_components as dcc` with `from dash import dcc`\n",
      "  import dash_core_components as dcc\n"
     ]
    },
    {
     "name": "stdout",
     "output_type": "stream",
     "text": [
      "5000  15003  0.235153  0.208     0.221      0:53.2\n",
      "5020  15063  0.235     0.208     0.222      0:53.2\n",
      "5040  15123  0.235     0.207     0.222      0:53.3\n",
      "5060  15183  0.235     0.206     0.224      0:53.3\n",
      "5080  15243  0.235     0.206     0.224      0:53.4\n",
      "5100  15303  0.234     0.205     0.224      0:53.4\n",
      "5120  15363  0.235     0.205     0.225      0:53.4\n",
      "5140  15423  0.234     0.205     0.224859   0:53.5\n",
      "5160  15483  0.235032  0.204224  0.226      0:53.5\n",
      "5180  15543  0.235     0.204     0.226      0:53.6\n",
      "5200  15603  0.235     0.203807  0.227      0:53.6\n",
      "5220  15663  0.236     0.203     0.228      0:53.7\n",
      "5240  15723  0.235     0.203     0.228      0:53.7\n",
      "5260  15783  0.236     0.202433  0.228      0:53.8\n",
      "5280  15843  0.236     0.202     0.229      0:53.8\n",
      "5300  15903  0.236     0.202     0.229      0:53.9\n",
      "5320  15963  0.236     0.202     0.229      0:53.9\n",
      "5340  16023  0.236     0.202     0.23       0:53.9\n",
      "5360  16083  0.236     0.202     0.231      0:54.0\n",
      "5380  16143  0.235     0.202     0.231      0:54.0\n",
      "5400  16203  0.235     0.202     0.232      0:54.1\n",
      "5420  16263  0.235012  0.202     0.232245   0:54.1\n",
      "5440  16323  0.235     0.202     0.233      0:54.2\n",
      "5460  16383  0.235488  0.202     0.233      0:54.2\n",
      "5480  16443  0.236     0.202     0.233      0:54.3\n"
     ]
    },
    {
     "name": "stderr",
     "output_type": "stream",
     "text": [
      "/Users/ioaros/Desktop/Software Project/branchpro/branchpro/apps/_dash_app.py:18: UserWarning: \n",
      "The dash_html_components package is deprecated. Please replace\n",
      "`import dash_html_components as html` with `from dash import html`\n",
      "  import dash_html_components as html\n",
      "/Users/ioaros/Desktop/Software Project/branchpro/branchpro/apps/_dash_app.py:18: UserWarning: \n",
      "The dash_html_components package is deprecated. Please replace\n",
      "`import dash_html_components as html` with `from dash import html`\n",
      "  import dash_html_components as html\n",
      "/Users/ioaros/Desktop/Software Project/branchpro/branchpro/apps/_simulation.py:15: UserWarning: \n",
      "The dash_core_components package is deprecated. Please replace\n",
      "`import dash_core_components as dcc` with `from dash import dcc`\n",
      "  import dash_core_components as dcc\n",
      "/Users/ioaros/Desktop/Software Project/branchpro/branchpro/apps/_simulation.py:15: UserWarning: \n",
      "The dash_core_components package is deprecated. Please replace\n",
      "`import dash_core_components as dcc` with `from dash import dcc`\n",
      "  import dash_core_components as dcc\n",
      "/Users/ioaros/Desktop/Software Project/branchpro/branchpro/apps/_dash_app.py:18: UserWarning: \n",
      "The dash_html_components package is deprecated. Please replace\n",
      "`import dash_html_components as html` with `from dash import html`\n",
      "  import dash_html_components as html\n",
      "/Users/ioaros/Desktop/Software Project/branchpro/branchpro/apps/_simulation.py:15: UserWarning: \n",
      "The dash_core_components package is deprecated. Please replace\n",
      "`import dash_core_components as dcc` with `from dash import dcc`\n",
      "  import dash_core_components as dcc\n"
     ]
    },
    {
     "name": "stdout",
     "output_type": "stream",
     "text": [
      "5500  16503  0.236     0.202     0.234      0:57.1\n",
      "5520  16563  0.235     0.202     0.234      0:57.1\n",
      "5540  16623  0.236     0.201     0.234      0:57.2\n",
      "5560  16683  0.235     0.201     0.234      0:57.2\n",
      "5580  16743  0.236     0.201756  0.234      0:57.3\n",
      "5600  16803  0.236     0.202     0.235      0:57.3\n",
      "5620  16863  0.236     0.201     0.235      0:57.4\n",
      "5640  16923  0.236     0.201     0.235      0:57.4\n",
      "5660  16983  0.236     0.201     0.235      0:57.4\n",
      "5680  17043  0.236     0.202     0.235      0:57.5\n",
      "5700  17103  0.235     0.202     0.235      0:57.5\n",
      "5720  17163  0.235     0.201     0.235      0:57.6\n",
      "5740  17223  0.235     0.201     0.235499   0:57.6\n",
      "5760  17283  0.235     0.201     0.235      0:57.7\n",
      "5780  17343  0.236     0.201     0.235      0:57.7\n",
      "5800  17403  0.235     0.201     0.235      0:57.8\n",
      "5820  17463  0.236     0.201     0.235      0:57.8\n",
      "5840  17523  0.236     0.202     0.235      0:57.9\n",
      "5860  17583  0.236     0.202     0.235      0:57.9\n",
      "5880  17643  0.236     0.203     0.236      0:58.0\n",
      "5900  17703  0.236     0.202847  0.236      0:58.0\n",
      "5920  17763  0.236     0.203     0.236      0:58.1\n",
      "5940  17823  0.236     0.203     0.236      0:58.1\n",
      "5960  17883  0.236     0.203     0.236202   0:58.1\n",
      "5980  17943  0.235     0.203     0.236      0:58.2\n"
     ]
    },
    {
     "name": "stderr",
     "output_type": "stream",
     "text": [
      "/Users/ioaros/Desktop/Software Project/branchpro/branchpro/apps/_dash_app.py:18: UserWarning: \n",
      "The dash_html_components package is deprecated. Please replace\n",
      "`import dash_html_components as html` with `from dash import html`\n",
      "  import dash_html_components as html\n",
      "/Users/ioaros/Desktop/Software Project/branchpro/branchpro/apps/_dash_app.py:18: UserWarning: \n",
      "The dash_html_components package is deprecated. Please replace\n",
      "`import dash_html_components as html` with `from dash import html`\n",
      "  import dash_html_components as html\n",
      "/Users/ioaros/Desktop/Software Project/branchpro/branchpro/apps/_dash_app.py:18: UserWarning: \n",
      "The dash_html_components package is deprecated. Please replace\n",
      "`import dash_html_components as html` with `from dash import html`\n",
      "  import dash_html_components as html\n",
      "/Users/ioaros/Desktop/Software Project/branchpro/branchpro/apps/_simulation.py:15: UserWarning: \n",
      "The dash_core_components package is deprecated. Please replace\n",
      "`import dash_core_components as dcc` with `from dash import dcc`\n",
      "  import dash_core_components as dcc\n",
      "/Users/ioaros/Desktop/Software Project/branchpro/branchpro/apps/_simulation.py:15: UserWarning: \n",
      "The dash_core_components package is deprecated. Please replace\n",
      "`import dash_core_components as dcc` with `from dash import dcc`\n",
      "  import dash_core_components as dcc\n",
      "/Users/ioaros/Desktop/Software Project/branchpro/branchpro/apps/_simulation.py:15: UserWarning: \n",
      "The dash_core_components package is deprecated. Please replace\n",
      "`import dash_core_components as dcc` with `from dash import dcc`\n",
      "  import dash_core_components as dcc\n"
     ]
    },
    {
     "name": "stdout",
     "output_type": "stream",
     "text": [
      "6000  18003  0.235     0.204     0.237      1:01.0\n",
      "6020  18063  0.234     0.204     0.237      1:01.1\n",
      "6040  18123  0.233     0.204933  0.237      1:01.1\n",
      "6060  18183  0.233     0.205     0.237      1:01.2\n",
      "6080  18243  0.233     0.205     0.238      1:01.2\n",
      "6100  18303  0.232     0.205     0.237      1:01.3\n",
      "6120  18363  0.231008  0.206     0.237      1:01.3\n",
      "6140  18423  0.23      0.206     0.236      1:01.3\n",
      "6160  18483  0.23      0.20646   0.236      1:01.4\n",
      "6180  18543  0.229     0.207     0.235      1:01.4\n",
      "6200  18603  0.228     0.207     0.234317   1:01.5\n",
      "6220  18663  0.227     0.208     0.234046   1:01.5\n",
      "6240  18723  0.227     0.208     0.234      1:01.6\n",
      "6260  18783  0.226162  0.209     0.233      1:01.6\n",
      "6280  18843  0.225     0.209     0.233      1:01.7\n",
      "6300  18903  0.225     0.209     0.233      1:01.7\n",
      "6320  18963  0.224     0.209     0.232      1:01.8\n",
      "6340  19023  0.223     0.21      0.231      1:01.8\n",
      "6360  19083  0.223     0.21      0.231      1:01.8\n",
      "6380  19143  0.222     0.21      0.23       1:01.9\n",
      "6400  19203  0.222     0.211     0.229      1:01.9\n",
      "6420  19263  0.221     0.212     0.228      1:02.0\n",
      "6440  19323  0.22      0.213     0.228      1:02.0\n",
      "6460  19383  0.219935  0.213     0.227519   1:02.1\n",
      "6480  19443  0.22      0.214     0.227      1:02.1\n"
     ]
    },
    {
     "name": "stderr",
     "output_type": "stream",
     "text": [
      "/Users/ioaros/Desktop/Software Project/branchpro/branchpro/apps/_dash_app.py:18: UserWarning: \n",
      "The dash_html_components package is deprecated. Please replace\n",
      "`import dash_html_components as html` with `from dash import html`\n",
      "  import dash_html_components as html\n",
      "/Users/ioaros/Desktop/Software Project/branchpro/branchpro/apps/_dash_app.py:18: UserWarning: \n",
      "The dash_html_components package is deprecated. Please replace\n",
      "`import dash_html_components as html` with `from dash import html`\n",
      "  import dash_html_components as html\n",
      "/Users/ioaros/Desktop/Software Project/branchpro/branchpro/apps/_simulation.py:15: UserWarning: \n",
      "The dash_core_components package is deprecated. Please replace\n",
      "`import dash_core_components as dcc` with `from dash import dcc`\n",
      "  import dash_core_components as dcc\n",
      "/Users/ioaros/Desktop/Software Project/branchpro/branchpro/apps/_dash_app.py:18: UserWarning: \n",
      "The dash_html_components package is deprecated. Please replace\n",
      "`import dash_html_components as html` with `from dash import html`\n",
      "  import dash_html_components as html\n",
      "/Users/ioaros/Desktop/Software Project/branchpro/branchpro/apps/_simulation.py:15: UserWarning: \n",
      "The dash_core_components package is deprecated. Please replace\n",
      "`import dash_core_components as dcc` with `from dash import dcc`\n",
      "  import dash_core_components as dcc\n",
      "/Users/ioaros/Desktop/Software Project/branchpro/branchpro/apps/_simulation.py:15: UserWarning: \n",
      "The dash_core_components package is deprecated. Please replace\n",
      "`import dash_core_components as dcc` with `from dash import dcc`\n",
      "  import dash_core_components as dcc\n"
     ]
    },
    {
     "name": "stdout",
     "output_type": "stream",
     "text": [
      "6500  19503  0.219     0.214     0.226      1:05.0\n",
      "6520  19563  0.219     0.215     0.226      1:05.1\n",
      "6540  19623  0.218     0.214     0.225      1:05.1\n",
      "6560  19683  0.217     0.215     0.225      1:05.1\n",
      "6580  19743  0.217     0.216     0.225      1:05.2\n",
      "6600  19803  0.216     0.217     0.224      1:05.2\n",
      "6620  19863  0.216     0.217     0.224      1:05.3\n",
      "6640  19923  0.216     0.217136  0.222858   1:05.3\n",
      "6660  19983  0.215283  0.217     0.222      1:05.4\n",
      "6680  20043  0.215     0.218     0.222      1:05.4\n",
      "6700  20103  0.215     0.219     0.221161   1:05.5\n",
      "6720  20163  0.214     0.219     0.221      1:05.5\n",
      "6740  20223  0.214     0.219     0.219997   1:05.6\n",
      "6760  20283  0.214     0.219     0.219      1:05.6\n",
      "6780  20343  0.213     0.219     0.219      1:05.6\n",
      "6800  20403  0.213     0.219     0.218      1:05.7\n",
      "6820  20463  0.213     0.22      0.218      1:05.7\n",
      "6840  20523  0.212     0.22      0.217      1:05.8\n",
      "6860  20583  0.211     0.219     0.217      1:05.8\n",
      "6880  20643  0.211     0.22      0.217      1:05.9\n",
      "6900  20703  0.21      0.22      0.217      1:05.9\n",
      "6920  20763  0.21      0.22      0.216      1:05.9\n",
      "6940  20823  0.209624  0.221     0.216      1:06.0\n",
      "6960  20883  0.21      0.221     0.216      1:06.0\n",
      "6980  20943  0.209     0.221315  0.216      1:06.1\n"
     ]
    },
    {
     "name": "stderr",
     "output_type": "stream",
     "text": [
      "/Users/ioaros/Desktop/Software Project/branchpro/branchpro/apps/_dash_app.py:18: UserWarning: \n",
      "The dash_html_components package is deprecated. Please replace\n",
      "`import dash_html_components as html` with `from dash import html`\n",
      "  import dash_html_components as html\n",
      "/Users/ioaros/Desktop/Software Project/branchpro/branchpro/apps/_simulation.py:15: UserWarning: \n",
      "The dash_core_components package is deprecated. Please replace\n",
      "`import dash_core_components as dcc` with `from dash import dcc`\n",
      "  import dash_core_components as dcc\n",
      "/Users/ioaros/Desktop/Software Project/branchpro/branchpro/apps/_dash_app.py:18: UserWarning: \n",
      "The dash_html_components package is deprecated. Please replace\n",
      "`import dash_html_components as html` with `from dash import html`\n",
      "  import dash_html_components as html\n",
      "/Users/ioaros/Desktop/Software Project/branchpro/branchpro/apps/_dash_app.py:18: UserWarning: \n",
      "The dash_html_components package is deprecated. Please replace\n",
      "`import dash_html_components as html` with `from dash import html`\n",
      "  import dash_html_components as html\n",
      "/Users/ioaros/Desktop/Software Project/branchpro/branchpro/apps/_simulation.py:15: UserWarning: \n",
      "The dash_core_components package is deprecated. Please replace\n",
      "`import dash_core_components as dcc` with `from dash import dcc`\n",
      "  import dash_core_components as dcc\n",
      "/Users/ioaros/Desktop/Software Project/branchpro/branchpro/apps/_simulation.py:15: UserWarning: \n",
      "The dash_core_components package is deprecated. Please replace\n",
      "`import dash_core_components as dcc` with `from dash import dcc`\n",
      "  import dash_core_components as dcc\n"
     ]
    },
    {
     "name": "stdout",
     "output_type": "stream",
     "text": [
      "7000  21003  0.209113  0.222     0.216      1:08.9\n",
      "7020  21063  0.209     0.221     0.216      1:09.0\n",
      "7040  21123  0.208     0.222     0.215      1:09.0\n",
      "7060  21183  0.208     0.222     0.215      1:09.0\n",
      "7080  21243  0.208     0.222     0.216      1:09.1\n",
      "7100  21303  0.208     0.222     0.215      1:09.1\n",
      "7120  21363  0.208     0.222     0.2157     1:09.2\n",
      "7140  21423  0.208     0.223     0.216      1:09.2\n",
      "7160  21483  0.208     0.223     0.216      1:09.3\n",
      "7180  21543  0.208     0.222     0.216      1:09.3\n",
      "7200  21603  0.208     0.222608  0.217      1:09.4\n",
      "7220  21663  0.207589  0.223     0.217006   1:09.4\n",
      "7240  21723  0.208     0.223     0.217      1:09.5\n",
      "7260  21783  0.207     0.223     0.21705    1:09.5\n",
      "7280  21843  0.207     0.223     0.217      1:09.5\n",
      "7300  21903  0.206821  0.223     0.217      1:09.6\n",
      "7320  21963  0.207     0.223     0.217      1:09.6\n",
      "7340  22023  0.207     0.223     0.216728   1:09.7\n",
      "7360  22083  0.207     0.223     0.217      1:09.7\n",
      "7380  22143  0.207     0.224     0.217      1:09.8\n",
      "7400  22203  0.207     0.224     0.217      1:09.8\n",
      "7420  22263  0.207     0.225     0.217      1:09.9\n",
      "7440  22323  0.207     0.225     0.217      1:09.9\n",
      "7460  22383  0.207     0.225707  0.216      1:10.0\n",
      "7480  22443  0.207     0.226     0.216      1:10.0\n"
     ]
    },
    {
     "name": "stderr",
     "output_type": "stream",
     "text": [
      "/Users/ioaros/Desktop/Software Project/branchpro/branchpro/apps/_dash_app.py:18: UserWarning: \n",
      "The dash_html_components package is deprecated. Please replace\n",
      "`import dash_html_components as html` with `from dash import html`\n",
      "  import dash_html_components as html\n",
      "/Users/ioaros/Desktop/Software Project/branchpro/branchpro/apps/_dash_app.py:18: UserWarning: \n",
      "The dash_html_components package is deprecated. Please replace\n",
      "`import dash_html_components as html` with `from dash import html`\n",
      "  import dash_html_components as html\n",
      "/Users/ioaros/Desktop/Software Project/branchpro/branchpro/apps/_dash_app.py:18: UserWarning: \n",
      "The dash_html_components package is deprecated. Please replace\n",
      "`import dash_html_components as html` with `from dash import html`\n",
      "  import dash_html_components as html\n",
      "/Users/ioaros/Desktop/Software Project/branchpro/branchpro/apps/_simulation.py:15: UserWarning: \n",
      "The dash_core_components package is deprecated. Please replace\n",
      "`import dash_core_components as dcc` with `from dash import dcc`\n",
      "  import dash_core_components as dcc\n",
      "/Users/ioaros/Desktop/Software Project/branchpro/branchpro/apps/_simulation.py:15: UserWarning: \n",
      "The dash_core_components package is deprecated. Please replace\n",
      "`import dash_core_components as dcc` with `from dash import dcc`\n",
      "  import dash_core_components as dcc\n",
      "/Users/ioaros/Desktop/Software Project/branchpro/branchpro/apps/_simulation.py:15: UserWarning: \n",
      "The dash_core_components package is deprecated. Please replace\n",
      "`import dash_core_components as dcc` with `from dash import dcc`\n",
      "  import dash_core_components as dcc\n"
     ]
    },
    {
     "name": "stdout",
     "output_type": "stream",
     "text": [
      "7500  22503  0.207     0.226     0.216      1:12.8\n",
      "7520  22563  0.208217  0.226     0.217      1:12.9\n",
      "7540  22623  0.208     0.227     0.217      1:12.9\n",
      "7560  22683  0.209     0.226     0.217      1:13.0\n",
      "7580  22743  0.209     0.226     0.217      1:13.0\n",
      "7600  22803  0.209     0.226286  0.217      1:13.1\n",
      "7620  22863  0.209     0.226     0.218      1:13.1\n",
      "7640  22923  0.21      0.226     0.218      1:13.2\n",
      "7660  22983  0.21      0.226     0.218      1:13.2\n",
      "7680  23043  0.209     0.226     0.219      1:13.3\n",
      "7700  23103  0.209     0.226     0.219452   1:13.3\n",
      "7720  23163  0.209     0.225     0.22       1:13.3\n",
      "7740  23223  0.209     0.225     0.219      1:13.4\n",
      "7760  23283  0.21      0.224     0.219817   1:13.4\n",
      "7780  23343  0.21      0.224     0.22       1:13.5\n",
      "7800  23403  0.21      0.224     0.22       1:13.5\n",
      "7820  23463  0.211     0.223373  0.22       1:13.6\n",
      "7840  23523  0.211     0.224     0.221      1:13.6\n",
      "7860  23583  0.211     0.224     0.221      1:13.7\n",
      "7880  23643  0.211     0.223     0.221      1:13.7\n",
      "7900  23703  0.211     0.223     0.223      1:13.8\n",
      "7920  23763  0.212     0.223     0.223      1:13.8\n",
      "7940  23823  0.211938  0.222     0.224      1:13.8\n",
      "7960  23883  0.212     0.222     0.224      1:13.9\n",
      "7980  23943  0.213     0.221     0.224      1:13.9\n"
     ]
    },
    {
     "name": "stderr",
     "output_type": "stream",
     "text": [
      "/Users/ioaros/Desktop/Software Project/branchpro/branchpro/apps/_dash_app.py:18: UserWarning: \n",
      "The dash_html_components package is deprecated. Please replace\n",
      "`import dash_html_components as html` with `from dash import html`\n",
      "  import dash_html_components as html\n",
      "/Users/ioaros/Desktop/Software Project/branchpro/branchpro/apps/_dash_app.py:18: UserWarning: \n",
      "The dash_html_components package is deprecated. Please replace\n",
      "`import dash_html_components as html` with `from dash import html`\n",
      "  import dash_html_components as html\n",
      "/Users/ioaros/Desktop/Software Project/branchpro/branchpro/apps/_dash_app.py:18: UserWarning: \n",
      "The dash_html_components package is deprecated. Please replace\n",
      "`import dash_html_components as html` with `from dash import html`\n",
      "  import dash_html_components as html\n",
      "/Users/ioaros/Desktop/Software Project/branchpro/branchpro/apps/_simulation.py:15: UserWarning: \n",
      "The dash_core_components package is deprecated. Please replace\n",
      "`import dash_core_components as dcc` with `from dash import dcc`\n",
      "  import dash_core_components as dcc\n",
      "/Users/ioaros/Desktop/Software Project/branchpro/branchpro/apps/_simulation.py:15: UserWarning: \n",
      "The dash_core_components package is deprecated. Please replace\n",
      "`import dash_core_components as dcc` with `from dash import dcc`\n",
      "  import dash_core_components as dcc\n",
      "/Users/ioaros/Desktop/Software Project/branchpro/branchpro/apps/_simulation.py:15: UserWarning: \n",
      "The dash_core_components package is deprecated. Please replace\n",
      "`import dash_core_components as dcc` with `from dash import dcc`\n",
      "  import dash_core_components as dcc\n"
     ]
    },
    {
     "name": "stdout",
     "output_type": "stream",
     "text": [
      "8000  24003  0.213     0.221     0.224347   1:16.8\n",
      "8020  24063  0.213315  0.220172  0.225      1:16.9\n",
      "8040  24123  0.213     0.22      0.225      1:16.9\n",
      "8060  24183  0.214     0.22      0.224662   1:17.0\n",
      "8080  24243  0.214     0.219156  0.225      1:17.0\n",
      "8100  24303  0.215     0.219     0.225      1:17.1\n",
      "8120  24363  0.215     0.218     0.224      1:17.1\n",
      "8140  24423  0.215     0.218     0.225      1:17.2\n",
      "8160  24483  0.216     0.218     0.225      1:17.2\n",
      "8180  24543  0.215     0.217     0.225      1:17.3\n",
      "8200  24603  0.215     0.217     0.225      1:17.3\n",
      "8220  24663  0.216     0.217     0.225      1:17.4\n",
      "8240  24723  0.216     0.216     0.225      1:17.4\n",
      "8260  24783  0.216     0.215     0.225      1:17.5\n",
      "8280  24843  0.216     0.215     0.225      1:17.5\n",
      "8300  24903  0.216     0.215     0.225      1:17.6\n",
      "8320  24963  0.215     0.214     0.225      1:17.6\n",
      "8340  25023  0.216     0.214     0.225      1:17.6\n",
      "8360  25083  0.217     0.213     0.225      1:17.7\n",
      "8380  25143  0.217     0.213     0.225      1:17.7\n",
      "8400  25203  0.216998  0.213     0.224      1:17.8\n",
      "8420  25263  0.217     0.212     0.224      1:17.8\n",
      "8440  25323  0.218     0.212     0.224      1:17.9\n",
      "8460  25383  0.218     0.212     0.224      1:17.9\n",
      "8480  25443  0.218     0.211     0.223      1:18.0\n"
     ]
    },
    {
     "name": "stderr",
     "output_type": "stream",
     "text": [
      "/Users/ioaros/Desktop/Software Project/branchpro/branchpro/apps/_dash_app.py:18: UserWarning: \n",
      "The dash_html_components package is deprecated. Please replace\n",
      "`import dash_html_components as html` with `from dash import html`\n",
      "  import dash_html_components as html\n",
      "/Users/ioaros/Desktop/Software Project/branchpro/branchpro/apps/_dash_app.py:18: UserWarning: \n",
      "The dash_html_components package is deprecated. Please replace\n",
      "`import dash_html_components as html` with `from dash import html`\n",
      "  import dash_html_components as html\n",
      "/Users/ioaros/Desktop/Software Project/branchpro/branchpro/apps/_dash_app.py:18: UserWarning: \n",
      "The dash_html_components package is deprecated. Please replace\n",
      "`import dash_html_components as html` with `from dash import html`\n",
      "  import dash_html_components as html\n",
      "/Users/ioaros/Desktop/Software Project/branchpro/branchpro/apps/_simulation.py:15: UserWarning: \n",
      "The dash_core_components package is deprecated. Please replace\n",
      "`import dash_core_components as dcc` with `from dash import dcc`\n",
      "  import dash_core_components as dcc\n",
      "/Users/ioaros/Desktop/Software Project/branchpro/branchpro/apps/_simulation.py:15: UserWarning: \n",
      "The dash_core_components package is deprecated. Please replace\n",
      "`import dash_core_components as dcc` with `from dash import dcc`\n",
      "  import dash_core_components as dcc\n",
      "/Users/ioaros/Desktop/Software Project/branchpro/branchpro/apps/_simulation.py:15: UserWarning: \n",
      "The dash_core_components package is deprecated. Please replace\n",
      "`import dash_core_components as dcc` with `from dash import dcc`\n",
      "  import dash_core_components as dcc\n"
     ]
    },
    {
     "name": "stdout",
     "output_type": "stream",
     "text": [
      "8500  25503  0.218092  0.211     0.223      1:20.8\n",
      "8520  25563  0.219     0.21      0.222157   1:20.9\n",
      "8540  25623  0.219     0.21      0.221871   1:20.9\n",
      "8560  25683  0.22      0.21      0.222      1:20.9\n",
      "8580  25743  0.22      0.209     0.221      1:21.0\n",
      "8600  25803  0.220672  0.209     0.220672   1:21.0\n",
      "8620  25863  0.221     0.209     0.22       1:21.1\n",
      "8640  25923  0.222     0.209     0.22       1:21.1\n",
      "8660  25983  0.222     0.208     0.22       1:21.2\n",
      "8680  26043  0.222     0.208     0.219      1:21.2\n",
      "8700  26103  0.222     0.208     0.219      1:21.3\n",
      "8720  26163  0.223     0.208     0.218      1:21.3\n",
      "8740  26223  0.223     0.208     0.218      1:21.4\n",
      "8760  26283  0.223     0.207853  0.218      1:21.4\n",
      "8780  26343  0.224     0.208     0.217629   1:21.5\n",
      "8800  26403  0.223     0.207     0.218      1:21.5\n",
      "8820  26463  0.223     0.207     0.217      1:21.5\n",
      "8840  26523  0.223     0.207     0.217      1:21.6\n",
      "8860  26583  0.223     0.207     0.217      1:21.6\n",
      "8880  26643  0.223     0.207     0.217      1:21.7\n",
      "8900  26703  0.224     0.206     0.217      1:21.7\n",
      "8920  26763  0.224     0.206367  0.216      1:21.8\n",
      "8940  26823  0.224136  0.206     0.216      1:21.8\n",
      "8960  26883  0.224     0.206     0.216      1:21.9\n",
      "8980  26943  0.224     0.206     0.216      1:21.9\n"
     ]
    },
    {
     "name": "stderr",
     "output_type": "stream",
     "text": [
      "/Users/ioaros/Desktop/Software Project/branchpro/branchpro/apps/_dash_app.py:18: UserWarning: \n",
      "The dash_html_components package is deprecated. Please replace\n",
      "`import dash_html_components as html` with `from dash import html`\n",
      "  import dash_html_components as html\n",
      "/Users/ioaros/Desktop/Software Project/branchpro/branchpro/apps/_dash_app.py:18: UserWarning: \n",
      "The dash_html_components package is deprecated. Please replace\n",
      "`import dash_html_components as html` with `from dash import html`\n",
      "  import dash_html_components as html\n",
      "/Users/ioaros/Desktop/Software Project/branchpro/branchpro/apps/_dash_app.py:18: UserWarning: \n",
      "The dash_html_components package is deprecated. Please replace\n",
      "`import dash_html_components as html` with `from dash import html`\n",
      "  import dash_html_components as html\n",
      "/Users/ioaros/Desktop/Software Project/branchpro/branchpro/apps/_simulation.py:15: UserWarning: \n",
      "The dash_core_components package is deprecated. Please replace\n",
      "`import dash_core_components as dcc` with `from dash import dcc`\n",
      "  import dash_core_components as dcc\n",
      "/Users/ioaros/Desktop/Software Project/branchpro/branchpro/apps/_simulation.py:15: UserWarning: \n",
      "The dash_core_components package is deprecated. Please replace\n",
      "`import dash_core_components as dcc` with `from dash import dcc`\n",
      "  import dash_core_components as dcc\n",
      "/Users/ioaros/Desktop/Software Project/branchpro/branchpro/apps/_simulation.py:15: UserWarning: \n",
      "The dash_core_components package is deprecated. Please replace\n",
      "`import dash_core_components as dcc` with `from dash import dcc`\n",
      "  import dash_core_components as dcc\n"
     ]
    },
    {
     "name": "stdout",
     "output_type": "stream",
     "text": [
      "9000  27003  0.224     0.206     0.216      1:24.7\n",
      "9020  27063  0.224     0.206     0.216384   1:24.8\n",
      "9040  27123  0.225     0.206     0.217      1:24.8\n",
      "9060  27183  0.22492   0.206     0.216422   1:24.9\n",
      "9080  27243  0.225     0.205484  0.216496   1:24.9\n",
      "9100  27303  0.226     0.206     0.217      1:25.0\n",
      "9120  27363  0.227     0.206     0.217      1:25.0\n",
      "9140  27423  0.226     0.206     0.217      1:25.1\n",
      "9160  27483  0.227     0.206     0.217116   1:25.1\n",
      "9180  27543  0.227     0.206     0.217      1:25.2\n",
      "9200  27603  0.227     0.206     0.217      1:25.2\n",
      "9220  27663  0.227     0.206     0.217      1:25.2\n",
      "9240  27723  0.228     0.206     0.217      1:25.3\n",
      "9260  27783  0.227     0.206     0.218      1:25.3\n",
      "9280  27843  0.228     0.206     0.218      1:25.4\n",
      "9300  27903  0.228     0.207     0.218      1:25.4\n",
      "9320  27963  0.227     0.206     0.218      1:25.5\n",
      "9340  28023  0.227     0.206     0.219      1:25.5\n",
      "9360  28083  0.227     0.207     0.219      1:25.6\n",
      "9380  28143  0.228     0.208     0.219      1:25.6\n",
      "9400  28203  0.228     0.208     0.219      1:25.7\n",
      "9420  28263  0.228     0.208     0.219      1:25.7\n",
      "9440  28323  0.228     0.208     0.219      1:25.8\n",
      "9460  28383  0.229     0.208     0.219      1:25.8\n",
      "9480  28443  0.229     0.209     0.219      1:25.8\n"
     ]
    },
    {
     "name": "stderr",
     "output_type": "stream",
     "text": [
      "/Users/ioaros/Desktop/Software Project/branchpro/branchpro/apps/_dash_app.py:18: UserWarning: \n",
      "The dash_html_components package is deprecated. Please replace\n",
      "`import dash_html_components as html` with `from dash import html`\n",
      "  import dash_html_components as html\n",
      "/Users/ioaros/Desktop/Software Project/branchpro/branchpro/apps/_simulation.py:15: UserWarning: \n",
      "The dash_core_components package is deprecated. Please replace\n",
      "`import dash_core_components as dcc` with `from dash import dcc`\n",
      "  import dash_core_components as dcc\n",
      "/Users/ioaros/Desktop/Software Project/branchpro/branchpro/apps/_dash_app.py:18: UserWarning: \n",
      "The dash_html_components package is deprecated. Please replace\n",
      "`import dash_html_components as html` with `from dash import html`\n",
      "  import dash_html_components as html\n",
      "/Users/ioaros/Desktop/Software Project/branchpro/branchpro/apps/_dash_app.py:18: UserWarning: \n",
      "The dash_html_components package is deprecated. Please replace\n",
      "`import dash_html_components as html` with `from dash import html`\n",
      "  import dash_html_components as html\n",
      "/Users/ioaros/Desktop/Software Project/branchpro/branchpro/apps/_simulation.py:15: UserWarning: \n",
      "The dash_core_components package is deprecated. Please replace\n",
      "`import dash_core_components as dcc` with `from dash import dcc`\n",
      "  import dash_core_components as dcc\n",
      "/Users/ioaros/Desktop/Software Project/branchpro/branchpro/apps/_simulation.py:15: UserWarning: \n",
      "The dash_core_components package is deprecated. Please replace\n",
      "`import dash_core_components as dcc` with `from dash import dcc`\n",
      "  import dash_core_components as dcc\n"
     ]
    },
    {
     "name": "stdout",
     "output_type": "stream",
     "text": [
      "9500  28503  0.23      0.209     0.22       1:28.7\n",
      "9520  28563  0.229     0.21      0.22       1:28.8\n",
      "9540  28623  0.229     0.21      0.22       1:28.8\n",
      "9560  28683  0.23      0.209     0.221      1:28.9\n",
      "9580  28743  0.23      0.209     0.221      1:28.9\n",
      "9600  28803  0.23      0.209     0.222      1:29.0\n",
      "9620  28863  0.23      0.21      0.222      1:29.0\n",
      "9640  28923  0.229748  0.209833  0.221865   1:29.1\n",
      "9660  28983  0.23      0.21      0.222      1:29.1\n",
      "9680  29043  0.229625  0.209999  0.223      1:29.1\n",
      "9700  29103  0.229     0.21      0.223      1:29.2\n",
      "9720  29163  0.23      0.21      0.223      1:29.2\n",
      "9740  29223  0.23      0.211     0.223      1:29.3\n",
      "9760  29283  0.229     0.211     0.224      1:29.3\n",
      "9780  29343  0.229     0.211     0.224      1:29.4\n",
      "9800  29403  0.229     0.21      0.224      1:29.4\n",
      "9820  29463  0.229     0.21      0.224      1:29.5\n",
      "9840  29523  0.228     0.211     0.224      1:29.5\n",
      "9860  29583  0.228     0.210932  0.225      1:29.6\n",
      "9880  29643  0.227811  0.211     0.225      1:29.6\n",
      "9900  29703  0.228     0.212     0.226      1:29.7\n",
      "9920  29763  0.227     0.212     0.226      1:29.7\n",
      "9940  29823  0.227     0.212     0.225933   1:29.7\n",
      "9960  29883  0.227     0.213     0.226      1:29.8\n",
      "9980  29943  0.227     0.213     0.226      1:29.8\n"
     ]
    },
    {
     "name": "stderr",
     "output_type": "stream",
     "text": [
      "/Users/ioaros/Desktop/Software Project/branchpro/branchpro/apps/_dash_app.py:18: UserWarning: \n",
      "The dash_html_components package is deprecated. Please replace\n",
      "`import dash_html_components as html` with `from dash import html`\n",
      "  import dash_html_components as html\n",
      "/Users/ioaros/Desktop/Software Project/branchpro/branchpro/apps/_simulation.py:15: UserWarning: \n",
      "The dash_core_components package is deprecated. Please replace\n",
      "`import dash_core_components as dcc` with `from dash import dcc`\n",
      "  import dash_core_components as dcc\n",
      "/Users/ioaros/Desktop/Software Project/branchpro/branchpro/apps/_dash_app.py:18: UserWarning: \n",
      "The dash_html_components package is deprecated. Please replace\n",
      "`import dash_html_components as html` with `from dash import html`\n",
      "  import dash_html_components as html\n",
      "/Users/ioaros/Desktop/Software Project/branchpro/branchpro/apps/_dash_app.py:18: UserWarning: \n",
      "The dash_html_components package is deprecated. Please replace\n",
      "`import dash_html_components as html` with `from dash import html`\n",
      "  import dash_html_components as html\n",
      "/Users/ioaros/Desktop/Software Project/branchpro/branchpro/apps/_simulation.py:15: UserWarning: \n",
      "The dash_core_components package is deprecated. Please replace\n",
      "`import dash_core_components as dcc` with `from dash import dcc`\n",
      "  import dash_core_components as dcc\n",
      "/Users/ioaros/Desktop/Software Project/branchpro/branchpro/apps/_simulation.py:15: UserWarning: \n",
      "The dash_core_components package is deprecated. Please replace\n",
      "`import dash_core_components as dcc` with `from dash import dcc`\n",
      "  import dash_core_components as dcc\n"
     ]
    },
    {
     "name": "stdout",
     "output_type": "stream",
     "text": [
      "10000 30003  0.227     0.213     0.226      1:32.7\n",
      "10020 30063  0.227     0.213     0.225726   1:32.7\n",
      "10040 30123  0.227     0.213425  0.226      1:32.7\n",
      "10060 30183  0.227     0.214     0.226      1:32.8\n",
      "10080 30243  0.227     0.214     0.226168   1:32.8\n",
      "10100 30303  0.227     0.215     0.226      1:32.9\n",
      "10120 30363  0.227     0.215     0.226      1:32.9\n",
      "10140 30423  0.226     0.215     0.226      1:33.0\n",
      "10160 30483  0.225962  0.215     0.226      1:33.0\n",
      "10180 30543  0.226     0.215     0.227      1:33.1\n",
      "10200 30603  0.226     0.216     0.227      1:33.1\n",
      "10220 30663  0.226     0.216     0.226788   1:33.2\n",
      "10240 30723  0.225271  0.216     0.227      1:33.2\n",
      "10260 30783  0.225     0.217     0.226      1:33.3\n",
      "10280 30843  0.226     0.217     0.226      1:33.3\n",
      "10300 30903  0.226     0.217     0.226      1:33.3\n",
      "10320 30963  0.225     0.218     0.227      1:33.4\n",
      "10340 31023  0.225     0.218     0.227      1:33.4\n",
      "10360 31083  0.225     0.218     0.227      1:33.5\n",
      "10380 31143  0.225     0.218     0.227      1:33.5\n",
      "10400 31203  0.225     0.219     0.227      1:33.6\n",
      "10420 31263  0.225     0.218789  0.228      1:33.6\n",
      "10440 31323  0.225     0.219     0.228      1:33.7\n",
      "10460 31383  0.225     0.22      0.228      1:33.7\n",
      "10480 31443  0.225     0.221     0.228      1:33.8\n"
     ]
    },
    {
     "name": "stderr",
     "output_type": "stream",
     "text": [
      "/Users/ioaros/Desktop/Software Project/branchpro/branchpro/apps/_dash_app.py:18: UserWarning: \n",
      "The dash_html_components package is deprecated. Please replace\n",
      "`import dash_html_components as html` with `from dash import html`\n",
      "  import dash_html_components as html\n",
      "/Users/ioaros/Desktop/Software Project/branchpro/branchpro/apps/_dash_app.py:18: UserWarning: \n",
      "The dash_html_components package is deprecated. Please replace\n",
      "`import dash_html_components as html` with `from dash import html`\n",
      "  import dash_html_components as html\n",
      "/Users/ioaros/Desktop/Software Project/branchpro/branchpro/apps/_dash_app.py:18: UserWarning: \n",
      "The dash_html_components package is deprecated. Please replace\n",
      "`import dash_html_components as html` with `from dash import html`\n",
      "  import dash_html_components as html\n",
      "/Users/ioaros/Desktop/Software Project/branchpro/branchpro/apps/_simulation.py:15: UserWarning: \n",
      "The dash_core_components package is deprecated. Please replace\n",
      "`import dash_core_components as dcc` with `from dash import dcc`\n",
      "  import dash_core_components as dcc\n",
      "/Users/ioaros/Desktop/Software Project/branchpro/branchpro/apps/_simulation.py:15: UserWarning: \n",
      "The dash_core_components package is deprecated. Please replace\n",
      "`import dash_core_components as dcc` with `from dash import dcc`\n",
      "  import dash_core_components as dcc\n",
      "/Users/ioaros/Desktop/Software Project/branchpro/branchpro/apps/_simulation.py:15: UserWarning: \n",
      "The dash_core_components package is deprecated. Please replace\n",
      "`import dash_core_components as dcc` with `from dash import dcc`\n",
      "  import dash_core_components as dcc\n"
     ]
    },
    {
     "name": "stdout",
     "output_type": "stream",
     "text": [
      "10500 31503  0.226     0.221     0.228      1:36.7\n",
      "10520 31563  0.225739  0.221     0.228      1:36.7\n",
      "10540 31623  0.226     0.221     0.228      1:36.8\n",
      "10560 31683  0.226     0.221     0.227914   1:36.8\n",
      "10580 31743  0.226     0.221     0.228      1:36.9\n",
      "10600 31803  0.226     0.221     0.229      1:36.9\n",
      "10620 31863  0.226     0.222     0.229      1:37.0\n",
      "10640 31923  0.226     0.222     0.229      1:37.0\n",
      "10660 31983  0.226     0.222     0.23       1:37.1\n",
      "10680 32043  0.227     0.222     0.229941   1:37.1\n",
      "10700 32103  0.227     0.221755  0.23       1:37.2\n",
      "10720 32163  0.227     0.222     0.231      1:37.2\n",
      "10740 32223  0.227     0.222     0.231      1:37.3\n",
      "10760 32283  0.227     0.22247   0.231      1:37.3\n",
      "10780 32343  0.227     0.223     0.231      1:37.3\n",
      "10800 32403  0.227     0.223     0.231      1:37.4\n",
      "10820 32463  0.228     0.223     0.231      1:37.4\n",
      "10840 32523  0.227562  0.223     0.231      1:37.5\n",
      "10860 32583  0.228     0.224     0.231      1:37.5\n",
      "10880 32643  0.227     0.224     0.23       1:37.6\n",
      "10900 32703  0.227     0.224     0.23       1:37.6\n",
      "10920 32763  0.228     0.224     0.23       1:37.7\n",
      "10940 32823  0.228     0.225     0.23       1:37.7\n",
      "10960 32883  0.228     0.225     0.229      1:37.8\n",
      "10980 32943  0.228     0.225     0.229123   1:37.8\n"
     ]
    },
    {
     "name": "stderr",
     "output_type": "stream",
     "text": [
      "/Users/ioaros/Desktop/Software Project/branchpro/branchpro/apps/_dash_app.py:18: UserWarning: \n",
      "The dash_html_components package is deprecated. Please replace\n",
      "`import dash_html_components as html` with `from dash import html`\n",
      "  import dash_html_components as html\n",
      "/Users/ioaros/Desktop/Software Project/branchpro/branchpro/apps/_simulation.py:15: UserWarning: \n",
      "The dash_core_components package is deprecated. Please replace\n",
      "`import dash_core_components as dcc` with `from dash import dcc`\n",
      "  import dash_core_components as dcc\n",
      "/Users/ioaros/Desktop/Software Project/branchpro/branchpro/apps/_dash_app.py:18: UserWarning: \n",
      "The dash_html_components package is deprecated. Please replace\n",
      "`import dash_html_components as html` with `from dash import html`\n",
      "  import dash_html_components as html\n",
      "/Users/ioaros/Desktop/Software Project/branchpro/branchpro/apps/_dash_app.py:18: UserWarning: \n",
      "The dash_html_components package is deprecated. Please replace\n",
      "`import dash_html_components as html` with `from dash import html`\n",
      "  import dash_html_components as html\n",
      "/Users/ioaros/Desktop/Software Project/branchpro/branchpro/apps/_simulation.py:15: UserWarning: \n",
      "The dash_core_components package is deprecated. Please replace\n",
      "`import dash_core_components as dcc` with `from dash import dcc`\n",
      "  import dash_core_components as dcc\n",
      "/Users/ioaros/Desktop/Software Project/branchpro/branchpro/apps/_simulation.py:15: UserWarning: \n",
      "The dash_core_components package is deprecated. Please replace\n",
      "`import dash_core_components as dcc` with `from dash import dcc`\n",
      "  import dash_core_components as dcc\n"
     ]
    },
    {
     "name": "stdout",
     "output_type": "stream",
     "text": [
      "11000 33003  0.228     0.225     0.229      1:40.7\n",
      "11020 33063  0.228     0.225     0.229      1:40.8\n",
      "11040 33123  0.228     0.226     0.229      1:40.8\n",
      "11060 33183  0.228     0.226     0.228      1:40.9\n",
      "11080 33243  0.228     0.226     0.228      1:40.9\n",
      "11100 33303  0.228     0.226     0.227457   1:41.0\n",
      "11120 33363  0.228     0.226     0.227      1:41.0\n",
      "11140 33423  0.229     0.226     0.227      1:41.0\n",
      "11160 33483  0.228     0.226503  0.227      1:41.1\n",
      "11180 33543  0.229     0.227     0.226      1:41.1\n",
      "11200 33603  0.229     0.227     0.226      1:41.2\n",
      "11220 33663  0.229     0.227     0.226      1:41.2\n",
      "11240 33723  0.229     0.227115  0.226      1:41.3\n",
      "11260 33783  0.229     0.227     0.226      1:41.3\n",
      "11280 33843  0.229     0.228     0.225246   1:41.4\n",
      "11300 33903  0.229     0.228     0.225      1:41.4\n",
      "11320 33963  0.229     0.228     0.225      1:41.5\n",
      "11340 34023  0.229     0.228     0.224407   1:41.5\n",
      "11360 34083  0.229     0.228589  0.2241     1:41.5\n",
      "11380 34143  0.229     0.229     0.223794   1:41.6\n",
      "11400 34203  0.23      0.229     0.223      1:41.6\n",
      "11420 34263  0.23      0.228614  0.223      1:41.7\n",
      "11440 34323  0.23      0.229     0.223      1:41.7\n",
      "11460 34383  0.23      0.229     0.222      1:41.8\n",
      "11480 34443  0.229858  0.228987  0.222      1:41.8\n"
     ]
    },
    {
     "name": "stderr",
     "output_type": "stream",
     "text": [
      "/Users/ioaros/Desktop/Software Project/branchpro/branchpro/apps/_dash_app.py:18: UserWarning: \n",
      "The dash_html_components package is deprecated. Please replace\n",
      "`import dash_html_components as html` with `from dash import html`\n",
      "  import dash_html_components as html\n",
      "/Users/ioaros/Desktop/Software Project/branchpro/branchpro/apps/_dash_app.py:18: UserWarning: \n",
      "The dash_html_components package is deprecated. Please replace\n",
      "`import dash_html_components as html` with `from dash import html`\n",
      "  import dash_html_components as html\n",
      "/Users/ioaros/Desktop/Software Project/branchpro/branchpro/apps/_dash_app.py:18: UserWarning: \n",
      "The dash_html_components package is deprecated. Please replace\n",
      "`import dash_html_components as html` with `from dash import html`\n",
      "  import dash_html_components as html\n",
      "/Users/ioaros/Desktop/Software Project/branchpro/branchpro/apps/_simulation.py:15: UserWarning: \n",
      "The dash_core_components package is deprecated. Please replace\n",
      "`import dash_core_components as dcc` with `from dash import dcc`\n",
      "  import dash_core_components as dcc\n",
      "/Users/ioaros/Desktop/Software Project/branchpro/branchpro/apps/_simulation.py:15: UserWarning: \n",
      "The dash_core_components package is deprecated. Please replace\n",
      "`import dash_core_components as dcc` with `from dash import dcc`\n",
      "  import dash_core_components as dcc\n",
      "/Users/ioaros/Desktop/Software Project/branchpro/branchpro/apps/_simulation.py:15: UserWarning: \n",
      "The dash_core_components package is deprecated. Please replace\n",
      "`import dash_core_components as dcc` with `from dash import dcc`\n",
      "  import dash_core_components as dcc\n"
     ]
    },
    {
     "name": "stdout",
     "output_type": "stream",
     "text": [
      "11500 34503  0.23      0.229     0.222      1:44.7\n",
      "11520 34563  0.229     0.229     0.222      1:44.7\n",
      "11540 34623  0.229     0.229     0.221      1:44.8\n",
      "11560 34683  0.229     0.229     0.221      1:44.8\n",
      "11580 34743  0.229     0.229     0.221      1:44.8\n",
      "11600 34803  0.23      0.229     0.22       1:44.9\n",
      "11620 34863  0.229     0.23      0.22       1:44.9\n",
      "11640 34923  0.229     0.229     0.219      1:45.0\n",
      "11660 34983  0.229     0.229     0.219      1:45.0\n",
      "11680 35043  0.229     0.23      0.219      1:45.1\n",
      "11700 35103  0.229     0.229553  0.219      1:45.1\n",
      "11720 35163  0.23      0.23      0.218582   1:45.2\n",
      "11740 35223  0.23      0.229282  0.218      1:45.2\n",
      "11760 35283  0.23      0.229     0.218      1:45.3\n",
      "11780 35343  0.23      0.229607  0.218      1:45.3\n",
      "11800 35403  0.23      0.229811  0.218      1:45.3\n",
      "11820 35463  0.23      0.23      0.217      1:45.4\n",
      "11840 35523  0.23      0.23      0.217      1:45.4\n",
      "11860 35583  0.23      0.23      0.217      1:45.5\n",
      "11880 35643  0.231     0.23      0.217      1:45.5\n",
      "11900 35703  0.23      0.23      0.216      1:45.6\n",
      "11920 35763  0.23      0.23      0.216      1:45.6\n",
      "11940 35823  0.23      0.23      0.216      1:45.7\n",
      "11960 35883  0.23      0.231     0.216      1:45.7\n",
      "11980 35943  0.23      0.23      0.216      1:45.8\n"
     ]
    },
    {
     "name": "stderr",
     "output_type": "stream",
     "text": [
      "/Users/ioaros/Desktop/Software Project/branchpro/branchpro/apps/_dash_app.py:18: UserWarning: \n",
      "The dash_html_components package is deprecated. Please replace\n",
      "`import dash_html_components as html` with `from dash import html`\n",
      "  import dash_html_components as html\n",
      "/Users/ioaros/Desktop/Software Project/branchpro/branchpro/apps/_dash_app.py:18: UserWarning: \n",
      "The dash_html_components package is deprecated. Please replace\n",
      "`import dash_html_components as html` with `from dash import html`\n",
      "  import dash_html_components as html\n",
      "/Users/ioaros/Desktop/Software Project/branchpro/branchpro/apps/_dash_app.py:18: UserWarning: \n",
      "The dash_html_components package is deprecated. Please replace\n",
      "`import dash_html_components as html` with `from dash import html`\n",
      "  import dash_html_components as html\n",
      "/Users/ioaros/Desktop/Software Project/branchpro/branchpro/apps/_simulation.py:15: UserWarning: \n",
      "The dash_core_components package is deprecated. Please replace\n",
      "`import dash_core_components as dcc` with `from dash import dcc`\n",
      "  import dash_core_components as dcc\n",
      "/Users/ioaros/Desktop/Software Project/branchpro/branchpro/apps/_simulation.py:15: UserWarning: \n",
      "The dash_core_components package is deprecated. Please replace\n",
      "`import dash_core_components as dcc` with `from dash import dcc`\n",
      "  import dash_core_components as dcc\n",
      "/Users/ioaros/Desktop/Software Project/branchpro/branchpro/apps/_simulation.py:15: UserWarning: \n",
      "The dash_core_components package is deprecated. Please replace\n",
      "`import dash_core_components as dcc` with `from dash import dcc`\n",
      "  import dash_core_components as dcc\n"
     ]
    },
    {
     "name": "stdout",
     "output_type": "stream",
     "text": [
      "12000 36003  0.229     0.23      0.215482   1:48.6\n",
      "12020 36063  0.229     0.231     0.215      1:48.6\n",
      "12040 36123  0.229     0.231     0.215      1:48.6\n",
      "12060 36183  0.229     0.23      0.215      1:48.7\n",
      "12080 36243  0.229     0.23      0.215      1:48.7\n",
      "12100 36303  0.229     0.23      0.215      1:48.8\n",
      "12120 36363  0.229519  0.229849  0.214      1:48.8\n",
      "12140 36423  0.229     0.23      0.214      1:48.9\n",
      "12160 36483  0.229     0.23      0.214      1:48.9\n",
      "12180 36543  0.23      0.23      0.214      1:49.0\n",
      "12200 36603  0.23      0.23      0.214      1:49.0\n",
      "12220 36663  0.23      0.23      0.214      1:49.1\n",
      "12240 36723  0.23      0.230455  0.214      1:49.1\n",
      "12260 36783  0.23      0.23      0.214      1:49.1\n",
      "12280 36843  0.23      0.231     0.214      1:49.2\n",
      "12300 36903  0.23      0.231     0.214      1:49.2\n",
      "12320 36963  0.230095  0.231     0.214      1:49.3\n",
      "12340 37023  0.23      0.231     0.214      1:49.3\n",
      "12360 37083  0.23      0.231     0.215      1:49.4\n",
      "12380 37143  0.23      0.231     0.214      1:49.4\n",
      "12400 37203  0.23      0.231     0.214      1:49.5\n",
      "12420 37263  0.23      0.231     0.214      1:49.5\n",
      "12440 37323  0.23      0.231     0.214      1:49.6\n",
      "12460 37383  0.23      0.23      0.214      1:49.6\n",
      "12480 37443  0.23027   0.231     0.214      1:49.7\n"
     ]
    },
    {
     "name": "stderr",
     "output_type": "stream",
     "text": [
      "/Users/ioaros/Desktop/Software Project/branchpro/branchpro/apps/_dash_app.py:18: UserWarning: \n",
      "The dash_html_components package is deprecated. Please replace\n",
      "`import dash_html_components as html` with `from dash import html`\n",
      "  import dash_html_components as html\n",
      "/Users/ioaros/Desktop/Software Project/branchpro/branchpro/apps/_dash_app.py:18: UserWarning: \n",
      "The dash_html_components package is deprecated. Please replace\n",
      "`import dash_html_components as html` with `from dash import html`\n",
      "  import dash_html_components as html\n",
      "/Users/ioaros/Desktop/Software Project/branchpro/branchpro/apps/_dash_app.py:18: UserWarning: \n",
      "The dash_html_components package is deprecated. Please replace\n",
      "`import dash_html_components as html` with `from dash import html`\n",
      "  import dash_html_components as html\n",
      "/Users/ioaros/Desktop/Software Project/branchpro/branchpro/apps/_simulation.py:15: UserWarning: \n",
      "The dash_core_components package is deprecated. Please replace\n",
      "`import dash_core_components as dcc` with `from dash import dcc`\n",
      "  import dash_core_components as dcc\n",
      "/Users/ioaros/Desktop/Software Project/branchpro/branchpro/apps/_simulation.py:15: UserWarning: \n",
      "The dash_core_components package is deprecated. Please replace\n",
      "`import dash_core_components as dcc` with `from dash import dcc`\n",
      "  import dash_core_components as dcc\n",
      "/Users/ioaros/Desktop/Software Project/branchpro/branchpro/apps/_simulation.py:15: UserWarning: \n",
      "The dash_core_components package is deprecated. Please replace\n",
      "`import dash_core_components as dcc` with `from dash import dcc`\n",
      "  import dash_core_components as dcc\n"
     ]
    },
    {
     "name": "stdout",
     "output_type": "stream",
     "text": [
      "12500 37503  0.23      0.231     0.213      1:52.5\n",
      "12520 37563  0.231     0.231     0.213      1:52.6\n",
      "12540 37623  0.231     0.231     0.213      1:52.6\n",
      "12560 37683  0.231     0.231     0.213      1:52.6\n",
      "12580 37743  0.231     0.231     0.213576   1:52.7\n",
      "12600 37803  0.231     0.231     0.214      1:52.7\n",
      "12620 37863  0.231202  0.231     0.213      1:52.8\n",
      "12640 37923  0.231     0.231     0.213      1:52.8\n",
      "12660 37983  0.231     0.231     0.213      1:52.9\n",
      "12680 38043  0.231212  0.231     0.213      1:52.9\n",
      "12700 38103  0.232     0.231     0.213      1:53.0\n",
      "12720 38163  0.231     0.231     0.214      1:53.0\n",
      "12740 38223  0.231     0.231     0.213484   1:53.1\n",
      "12760 38283  0.231     0.231     0.213      1:53.1\n",
      "12780 38343  0.231672  0.231     0.213      1:53.2\n",
      "12800 38403  0.232     0.231     0.213      1:53.2\n",
      "12820 38463  0.232     0.231     0.213      1:53.2\n",
      "12840 38523  0.232     0.231     0.213379   1:53.3\n",
      "12860 38583  0.232     0.231     0.214      1:53.3\n",
      "12880 38643  0.232     0.231     0.213      1:53.4\n",
      "12900 38703  0.232     0.231     0.214      1:53.4\n",
      "12920 38763  0.232     0.231     0.214      1:53.5\n",
      "12940 38823  0.232     0.231     0.214      1:53.5\n",
      "12960 38883  0.232     0.231     0.214      1:53.6\n",
      "12980 38943  0.232     0.231     0.214      1:53.6\n"
     ]
    },
    {
     "name": "stderr",
     "output_type": "stream",
     "text": [
      "/Users/ioaros/Desktop/Software Project/branchpro/branchpro/apps/_dash_app.py:18: UserWarning: \n",
      "The dash_html_components package is deprecated. Please replace\n",
      "`import dash_html_components as html` with `from dash import html`\n",
      "  import dash_html_components as html\n",
      "/Users/ioaros/Desktop/Software Project/branchpro/branchpro/apps/_dash_app.py:18: UserWarning: \n",
      "The dash_html_components package is deprecated. Please replace\n",
      "`import dash_html_components as html` with `from dash import html`\n",
      "  import dash_html_components as html\n",
      "/Users/ioaros/Desktop/Software Project/branchpro/branchpro/apps/_simulation.py:15: UserWarning: \n",
      "The dash_core_components package is deprecated. Please replace\n",
      "`import dash_core_components as dcc` with `from dash import dcc`\n",
      "  import dash_core_components as dcc\n",
      "/Users/ioaros/Desktop/Software Project/branchpro/branchpro/apps/_dash_app.py:18: UserWarning: \n",
      "The dash_html_components package is deprecated. Please replace\n",
      "`import dash_html_components as html` with `from dash import html`\n",
      "  import dash_html_components as html\n",
      "/Users/ioaros/Desktop/Software Project/branchpro/branchpro/apps/_simulation.py:15: UserWarning: \n",
      "The dash_core_components package is deprecated. Please replace\n",
      "`import dash_core_components as dcc` with `from dash import dcc`\n",
      "  import dash_core_components as dcc\n",
      "/Users/ioaros/Desktop/Software Project/branchpro/branchpro/apps/_simulation.py:15: UserWarning: \n",
      "The dash_core_components package is deprecated. Please replace\n",
      "`import dash_core_components as dcc` with `from dash import dcc`\n",
      "  import dash_core_components as dcc\n"
     ]
    },
    {
     "name": "stdout",
     "output_type": "stream",
     "text": [
      "13000 39003  0.232     0.231     0.215      1:56.4\n",
      "13020 39063  0.232     0.231165  0.215      1:56.5\n",
      "13040 39123  0.232     0.231     0.215      1:56.5\n",
      "13060 39183  0.232     0.232     0.215      1:56.6\n",
      "13080 39243  0.232     0.232     0.215427   1:56.6\n",
      "13100 39303  0.232654  0.232     0.216      1:56.7\n",
      "13120 39363  0.232     0.232     0.216      1:56.7\n",
      "13140 39423  0.232     0.232     0.216      1:56.8\n",
      "13160 39483  0.232     0.232     0.216169   1:56.8\n",
      "13180 39543  0.232     0.232     0.216      1:56.9\n",
      "13200 39603  0.232     0.232     0.216      1:56.9\n",
      "13220 39663  0.232     0.232     0.217      1:57.0\n",
      "13240 39723  0.232     0.231     0.217      1:57.0\n",
      "13260 39783  0.232     0.231     0.217      1:57.0\n",
      "13280 39843  0.232     0.231     0.218      1:57.1\n",
      "13300 39903  0.233     0.23      0.218      1:57.1\n",
      "13320 39963  0.233     0.230313  0.218377   1:57.2\n",
      "13340 40023  0.233     0.23      0.219      1:57.2\n",
      "13360 40083  0.233     0.23      0.219      1:57.3\n",
      "13380 40143  0.233     0.23      0.219      1:57.3\n",
      "13400 40203  0.233     0.23      0.219      1:57.4\n",
      "13420 40263  0.233     0.23      0.219      1:57.4\n",
      "13440 40323  0.233     0.229     0.219      1:57.5\n",
      "13460 40383  0.233     0.229     0.22       1:57.5\n",
      "13480 40443  0.233     0.229     0.22       1:57.6\n"
     ]
    },
    {
     "name": "stderr",
     "output_type": "stream",
     "text": [
      "/Users/ioaros/Desktop/Software Project/branchpro/branchpro/apps/_dash_app.py:18: UserWarning: \n",
      "The dash_html_components package is deprecated. Please replace\n",
      "`import dash_html_components as html` with `from dash import html`\n",
      "  import dash_html_components as html\n",
      "/Users/ioaros/Desktop/Software Project/branchpro/branchpro/apps/_dash_app.py:18: UserWarning: \n",
      "The dash_html_components package is deprecated. Please replace\n",
      "`import dash_html_components as html` with `from dash import html`\n",
      "  import dash_html_components as html\n",
      "/Users/ioaros/Desktop/Software Project/branchpro/branchpro/apps/_dash_app.py:18: UserWarning: \n",
      "The dash_html_components package is deprecated. Please replace\n",
      "`import dash_html_components as html` with `from dash import html`\n",
      "  import dash_html_components as html\n",
      "/Users/ioaros/Desktop/Software Project/branchpro/branchpro/apps/_simulation.py:15: UserWarning: \n",
      "The dash_core_components package is deprecated. Please replace\n",
      "`import dash_core_components as dcc` with `from dash import dcc`\n",
      "  import dash_core_components as dcc\n",
      "/Users/ioaros/Desktop/Software Project/branchpro/branchpro/apps/_simulation.py:15: UserWarning: \n",
      "The dash_core_components package is deprecated. Please replace\n",
      "`import dash_core_components as dcc` with `from dash import dcc`\n",
      "  import dash_core_components as dcc\n",
      "/Users/ioaros/Desktop/Software Project/branchpro/branchpro/apps/_simulation.py:15: UserWarning: \n",
      "The dash_core_components package is deprecated. Please replace\n",
      "`import dash_core_components as dcc` with `from dash import dcc`\n",
      "  import dash_core_components as dcc\n"
     ]
    },
    {
     "name": "stdout",
     "output_type": "stream",
     "text": [
      "13500 40503  0.233     0.229     0.22       2:00.4\n",
      "13520 40563  0.232897  0.228     0.22       2:00.4\n",
      "13540 40623  0.232553  0.228     0.22       2:00.5\n",
      "13560 40683  0.232     0.228     0.221      2:00.5\n",
      "13580 40743  0.232     0.228     0.221      2:00.6\n",
      "13600 40803  0.232     0.228     0.221      2:00.6\n",
      "13620 40863  0.231     0.228     0.221      2:00.7\n",
      "13640 40923  0.231288  0.228     0.221      2:00.7\n",
      "13660 40983  0.231     0.228     0.221      2:00.8\n",
      "13680 41043  0.231     0.228     0.221      2:00.8\n",
      "13700 41103  0.23      0.228     0.221      2:00.9\n",
      "13720 41163  0.23      0.227     0.221      2:00.9\n",
      "13740 41223  0.23      0.227     0.221454   2:01.0\n",
      "13760 41283  0.23      0.227     0.222      2:01.0\n",
      "13780 41343  0.23      0.227     0.222      2:01.0\n",
      "13800 41403  0.229     0.226288  0.222      2:01.1\n",
      "13820 41463  0.229     0.226     0.222      2:01.1\n",
      "13840 41523  0.229     0.226     0.222      2:01.2\n",
      "13860 41583  0.229     0.225     0.223      2:01.2\n",
      "13880 41643  0.228     0.225     0.223      2:01.3\n",
      "13900 41703  0.228185  0.225     0.223      2:01.3\n",
      "13920 41763  0.228     0.225     0.223      2:01.4\n",
      "13940 41823  0.228     0.224     0.224      2:01.4\n",
      "13960 41883  0.227     0.224     0.224      2:01.5\n",
      "13980 41943  0.227     0.224     0.224      2:01.5\n"
     ]
    },
    {
     "name": "stderr",
     "output_type": "stream",
     "text": [
      "/Users/ioaros/Desktop/Software Project/branchpro/branchpro/apps/_dash_app.py:18: UserWarning: \n",
      "The dash_html_components package is deprecated. Please replace\n",
      "`import dash_html_components as html` with `from dash import html`\n",
      "  import dash_html_components as html\n",
      "/Users/ioaros/Desktop/Software Project/branchpro/branchpro/apps/_dash_app.py:18: UserWarning: \n",
      "The dash_html_components package is deprecated. Please replace\n",
      "`import dash_html_components as html` with `from dash import html`\n",
      "  import dash_html_components as html\n",
      "/Users/ioaros/Desktop/Software Project/branchpro/branchpro/apps/_dash_app.py:18: UserWarning: \n",
      "The dash_html_components package is deprecated. Please replace\n",
      "`import dash_html_components as html` with `from dash import html`\n",
      "  import dash_html_components as html\n",
      "/Users/ioaros/Desktop/Software Project/branchpro/branchpro/apps/_simulation.py:15: UserWarning: \n",
      "The dash_core_components package is deprecated. Please replace\n",
      "`import dash_core_components as dcc` with `from dash import dcc`\n",
      "  import dash_core_components as dcc\n",
      "/Users/ioaros/Desktop/Software Project/branchpro/branchpro/apps/_simulation.py:15: UserWarning: \n",
      "The dash_core_components package is deprecated. Please replace\n",
      "`import dash_core_components as dcc` with `from dash import dcc`\n",
      "  import dash_core_components as dcc\n",
      "/Users/ioaros/Desktop/Software Project/branchpro/branchpro/apps/_simulation.py:15: UserWarning: \n",
      "The dash_core_components package is deprecated. Please replace\n",
      "`import dash_core_components as dcc` with `from dash import dcc`\n",
      "  import dash_core_components as dcc\n"
     ]
    },
    {
     "name": "stdout",
     "output_type": "stream",
     "text": [
      "14000 42003  0.227     0.224     0.224      2:04.4\n",
      "14020 42063  0.227     0.223     0.224449   2:04.4\n",
      "14040 42123  0.227     0.223     0.224      2:04.5\n",
      "14060 42183  0.226     0.223     0.225      2:04.5\n",
      "14080 42243  0.226     0.223     0.224984   2:04.5\n",
      "14100 42303  0.226     0.223     0.225      2:04.6\n",
      "14120 42363  0.226     0.223     0.226      2:04.6\n",
      "14140 42423  0.225     0.222     0.226      2:04.7\n",
      "14160 42483  0.225     0.222     0.226      2:04.7\n",
      "14180 42543  0.225     0.222     0.226      2:04.8\n",
      "14200 42603  0.224     0.222     0.226      2:04.8\n",
      "14220 42663  0.224     0.222     0.226496   2:04.8\n",
      "14240 42723  0.224     0.222     0.227      2:04.9\n",
      "14260 42783  0.223687  0.222     0.227      2:04.9\n",
      "14280 42843  0.223     0.221     0.227155   2:05.0\n",
      "14300 42903  0.223     0.221     0.227      2:05.0\n",
      "14320 42963  0.223     0.221     0.227      2:05.1\n",
      "14340 43023  0.223     0.221     0.227      2:05.1\n",
      "14360 43083  0.223     0.221     0.228      2:05.2\n",
      "14380 43143  0.222     0.22      0.228      2:05.2\n",
      "14400 43203  0.222     0.22      0.229      2:05.2\n",
      "14420 43263  0.222     0.22      0.228      2:05.3\n",
      "14440 43323  0.222     0.22      0.228516   2:05.3\n",
      "14460 43383  0.221     0.219     0.228684   2:05.4\n",
      "14480 43443  0.221     0.219     0.229      2:05.4\n"
     ]
    },
    {
     "name": "stderr",
     "output_type": "stream",
     "text": [
      "/Users/ioaros/Desktop/Software Project/branchpro/branchpro/apps/_dash_app.py:18: UserWarning: \n",
      "The dash_html_components package is deprecated. Please replace\n",
      "`import dash_html_components as html` with `from dash import html`\n",
      "  import dash_html_components as html\n",
      "/Users/ioaros/Desktop/Software Project/branchpro/branchpro/apps/_simulation.py:15: UserWarning: \n",
      "The dash_core_components package is deprecated. Please replace\n",
      "`import dash_core_components as dcc` with `from dash import dcc`\n",
      "  import dash_core_components as dcc\n",
      "/Users/ioaros/Desktop/Software Project/branchpro/branchpro/apps/_dash_app.py:18: UserWarning: \n",
      "The dash_html_components package is deprecated. Please replace\n",
      "`import dash_html_components as html` with `from dash import html`\n",
      "  import dash_html_components as html\n",
      "/Users/ioaros/Desktop/Software Project/branchpro/branchpro/apps/_dash_app.py:18: UserWarning: \n",
      "The dash_html_components package is deprecated. Please replace\n",
      "`import dash_html_components as html` with `from dash import html`\n",
      "  import dash_html_components as html\n",
      "/Users/ioaros/Desktop/Software Project/branchpro/branchpro/apps/_simulation.py:15: UserWarning: \n",
      "The dash_core_components package is deprecated. Please replace\n",
      "`import dash_core_components as dcc` with `from dash import dcc`\n",
      "  import dash_core_components as dcc\n",
      "/Users/ioaros/Desktop/Software Project/branchpro/branchpro/apps/_simulation.py:15: UserWarning: \n",
      "The dash_core_components package is deprecated. Please replace\n",
      "`import dash_core_components as dcc` with `from dash import dcc`\n",
      "  import dash_core_components as dcc\n"
     ]
    },
    {
     "name": "stdout",
     "output_type": "stream",
     "text": [
      "14500 43503  0.221     0.219     0.229      2:08.3\n",
      "14520 43563  0.221     0.218     0.229      2:08.4\n",
      "14540 43623  0.22048   0.218073  0.229      2:08.4\n",
      "14560 43683  0.22      0.218     0.23       2:08.5\n",
      "14580 43743  0.22      0.218     0.229      2:08.5\n",
      "14600 43803  0.22      0.217     0.23       2:08.5\n",
      "14620 43863  0.22      0.217     0.23       2:08.6\n",
      "14640 43923  0.22      0.217     0.23       2:08.6\n",
      "14660 43983  0.219     0.216     0.23       2:08.7\n",
      "14680 44043  0.219     0.216     0.23       2:08.7\n",
      "14700 44103  0.219     0.216     0.23       2:08.8\n",
      "14720 44163  0.219     0.216     0.23       2:08.8\n",
      "14740 44223  0.219     0.215     0.23       2:08.9\n",
      "14760 44283  0.219     0.215     0.23       2:08.9\n",
      "14780 44343  0.219     0.215     0.230431   2:09.0\n",
      "14800 44403  0.219     0.215     0.23       2:09.0\n",
      "14820 44463  0.219     0.215     0.23       2:09.0\n",
      "14840 44523  0.218     0.214     0.231      2:09.1\n",
      "14860 44583  0.218     0.214     0.231      2:09.1\n",
      "14880 44643  0.218     0.214     0.231      2:09.2\n",
      "14900 44703  0.218     0.214     0.231      2:09.2\n",
      "14920 44763  0.218     0.214     0.231      2:09.3\n",
      "14940 44823  0.218     0.214     0.231      2:09.3\n",
      "14960 44883  0.218     0.214     0.231      2:09.4\n",
      "14980 44943  0.217876  0.213     0.231      2:09.4\n"
     ]
    },
    {
     "name": "stderr",
     "output_type": "stream",
     "text": [
      "/Users/ioaros/Desktop/Software Project/branchpro/branchpro/apps/_dash_app.py:18: UserWarning: \n",
      "The dash_html_components package is deprecated. Please replace\n",
      "`import dash_html_components as html` with `from dash import html`\n",
      "  import dash_html_components as html\n",
      "/Users/ioaros/Desktop/Software Project/branchpro/branchpro/apps/_dash_app.py:18: UserWarning: \n",
      "The dash_html_components package is deprecated. Please replace\n",
      "`import dash_html_components as html` with `from dash import html`\n",
      "  import dash_html_components as html\n",
      "/Users/ioaros/Desktop/Software Project/branchpro/branchpro/apps/_simulation.py:15: UserWarning: \n",
      "The dash_core_components package is deprecated. Please replace\n",
      "`import dash_core_components as dcc` with `from dash import dcc`\n",
      "  import dash_core_components as dcc\n",
      "/Users/ioaros/Desktop/Software Project/branchpro/branchpro/apps/_dash_app.py:18: UserWarning: \n",
      "The dash_html_components package is deprecated. Please replace\n",
      "`import dash_html_components as html` with `from dash import html`\n",
      "  import dash_html_components as html\n",
      "/Users/ioaros/Desktop/Software Project/branchpro/branchpro/apps/_simulation.py:15: UserWarning: \n",
      "The dash_core_components package is deprecated. Please replace\n",
      "`import dash_core_components as dcc` with `from dash import dcc`\n",
      "  import dash_core_components as dcc\n",
      "/Users/ioaros/Desktop/Software Project/branchpro/branchpro/apps/_simulation.py:15: UserWarning: \n",
      "The dash_core_components package is deprecated. Please replace\n",
      "`import dash_core_components as dcc` with `from dash import dcc`\n",
      "  import dash_core_components as dcc\n"
     ]
    },
    {
     "name": "stdout",
     "output_type": "stream",
     "text": [
      "15000 45003  0.218     0.214     0.231      2:12.3\n",
      "15020 45063  0.218     0.214     0.231      2:12.3\n",
      "15040 45123  0.218     0.214     0.231      2:12.4\n",
      "15060 45183  0.218     0.214     0.231      2:12.4\n",
      "15080 45243  0.218     0.213     0.231      2:12.5\n",
      "15100 45303  0.218     0.213     0.231      2:12.5\n",
      "15120 45363  0.218     0.213     0.231      2:12.6\n",
      "15140 45423  0.218     0.213     0.231      2:12.6\n",
      "15160 45483  0.218     0.213     0.231      2:12.7\n",
      "15180 45543  0.218     0.213     0.231      2:12.7\n",
      "15200 45603  0.218     0.212486  0.231      2:12.8\n",
      "15220 45663  0.218     0.212     0.232      2:12.8\n",
      "15240 45723  0.219     0.211994  0.232      2:12.8\n",
      "15260 45783  0.219     0.212     0.231      2:12.9\n",
      "15280 45843  0.219     0.212     0.231333   2:12.9\n",
      "15300 45903  0.218     0.211     0.231      2:13.0\n",
      "15320 45963  0.218     0.211     0.232      2:13.0\n",
      "15340 46023  0.218     0.211     0.231732   2:13.1\n",
      "15360 46083  0.218     0.211     0.232      2:13.1\n",
      "15380 46143  0.218     0.211     0.232      2:13.2\n",
      "15400 46203  0.218     0.21      0.231      2:13.2\n",
      "15420 46263  0.217     0.21      0.231      2:13.3\n",
      "15440 46323  0.217     0.21      0.232      2:13.3\n",
      "15460 46383  0.217     0.21      0.232      2:13.3\n",
      "15480 46443  0.217     0.21      0.231768   2:13.4\n"
     ]
    },
    {
     "name": "stderr",
     "output_type": "stream",
     "text": [
      "/Users/ioaros/Desktop/Software Project/branchpro/branchpro/apps/_dash_app.py:18: UserWarning: \n",
      "The dash_html_components package is deprecated. Please replace\n",
      "`import dash_html_components as html` with `from dash import html`\n",
      "  import dash_html_components as html\n",
      "/Users/ioaros/Desktop/Software Project/branchpro/branchpro/apps/_dash_app.py:18: UserWarning: \n",
      "The dash_html_components package is deprecated. Please replace\n",
      "`import dash_html_components as html` with `from dash import html`\n",
      "  import dash_html_components as html\n",
      "/Users/ioaros/Desktop/Software Project/branchpro/branchpro/apps/_dash_app.py:18: UserWarning: \n",
      "The dash_html_components package is deprecated. Please replace\n",
      "`import dash_html_components as html` with `from dash import html`\n",
      "  import dash_html_components as html\n",
      "/Users/ioaros/Desktop/Software Project/branchpro/branchpro/apps/_simulation.py:15: UserWarning: \n",
      "The dash_core_components package is deprecated. Please replace\n",
      "`import dash_core_components as dcc` with `from dash import dcc`\n",
      "  import dash_core_components as dcc\n",
      "/Users/ioaros/Desktop/Software Project/branchpro/branchpro/apps/_simulation.py:15: UserWarning: \n",
      "The dash_core_components package is deprecated. Please replace\n",
      "`import dash_core_components as dcc` with `from dash import dcc`\n",
      "  import dash_core_components as dcc\n",
      "/Users/ioaros/Desktop/Software Project/branchpro/branchpro/apps/_simulation.py:15: UserWarning: \n",
      "The dash_core_components package is deprecated. Please replace\n",
      "`import dash_core_components as dcc` with `from dash import dcc`\n",
      "  import dash_core_components as dcc\n"
     ]
    },
    {
     "name": "stdout",
     "output_type": "stream",
     "text": [
      "15500 46503  0.217     0.209     0.231856   2:16.2\n",
      "15520 46563  0.216803  0.209     0.232      2:16.3\n",
      "15540 46623  0.216524  0.209     0.232      2:16.3\n",
      "15560 46683  0.216     0.209     0.232      2:16.4\n",
      "15580 46743  0.216     0.209     0.231885   2:16.4\n",
      "15600 46803  0.21614   0.20832   0.232      2:16.5\n",
      "15620 46863  0.216     0.208     0.232      2:16.5\n",
      "15640 46923  0.215779  0.208     0.232      2:16.6\n",
      "15660 46983  0.216     0.208     0.232      2:16.6\n",
      "15680 47043  0.215     0.208     0.232      2:16.7\n",
      "15700 47103  0.215     0.208     0.233      2:16.7\n",
      "15720 47163  0.214681  0.208     0.233      2:16.7\n",
      "15740 47223  0.214     0.208     0.233      2:16.8\n",
      "15760 47283  0.214     0.207601  0.232      2:16.8\n",
      "15780 47343  0.214     0.207     0.232368   2:16.9\n",
      "15800 47403  0.214     0.207     0.232      2:16.9\n",
      "15820 47463  0.214     0.207     0.232      2:17.0\n",
      "15840 47523  0.213     0.207247  0.232      2:17.0\n",
      "15860 47583  0.213     0.207     0.233      2:17.1\n",
      "15880 47643  0.213     0.206788  0.233      2:17.1\n",
      "15900 47703  0.213     0.207     0.233      2:17.2\n",
      "15920 47763  0.213     0.206     0.233      2:17.2\n",
      "15940 47823  0.213     0.206     0.233      2:17.2\n",
      "15960 47883  0.212     0.206     0.233      2:17.3\n",
      "15980 47943  0.212252  0.206     0.233      2:17.3\n"
     ]
    },
    {
     "name": "stderr",
     "output_type": "stream",
     "text": [
      "/Users/ioaros/Desktop/Software Project/branchpro/branchpro/apps/_dash_app.py:18: UserWarning: \n",
      "The dash_html_components package is deprecated. Please replace\n",
      "`import dash_html_components as html` with `from dash import html`\n",
      "  import dash_html_components as html\n",
      "/Users/ioaros/Desktop/Software Project/branchpro/branchpro/apps/_dash_app.py:18: UserWarning: \n",
      "The dash_html_components package is deprecated. Please replace\n",
      "`import dash_html_components as html` with `from dash import html`\n",
      "  import dash_html_components as html\n",
      "/Users/ioaros/Desktop/Software Project/branchpro/branchpro/apps/_dash_app.py:18: UserWarning: \n",
      "The dash_html_components package is deprecated. Please replace\n",
      "`import dash_html_components as html` with `from dash import html`\n",
      "  import dash_html_components as html\n",
      "/Users/ioaros/Desktop/Software Project/branchpro/branchpro/apps/_simulation.py:15: UserWarning: \n",
      "The dash_core_components package is deprecated. Please replace\n",
      "`import dash_core_components as dcc` with `from dash import dcc`\n",
      "  import dash_core_components as dcc\n",
      "/Users/ioaros/Desktop/Software Project/branchpro/branchpro/apps/_simulation.py:15: UserWarning: \n",
      "The dash_core_components package is deprecated. Please replace\n",
      "`import dash_core_components as dcc` with `from dash import dcc`\n",
      "  import dash_core_components as dcc\n",
      "/Users/ioaros/Desktop/Software Project/branchpro/branchpro/apps/_simulation.py:15: UserWarning: \n",
      "The dash_core_components package is deprecated. Please replace\n",
      "`import dash_core_components as dcc` with `from dash import dcc`\n",
      "  import dash_core_components as dcc\n"
     ]
    },
    {
     "name": "stdout",
     "output_type": "stream",
     "text": [
      "16000 48003  0.212     0.206     0.233      2:20.2\n",
      "16020 48063  0.212     0.206     0.233      2:20.3\n",
      "16040 48123  0.212     0.206     0.233      2:20.3\n",
      "16060 48183  0.212     0.206     0.233      2:20.3\n",
      "16080 48243  0.211     0.205     0.233      2:20.4\n",
      "16100 48303  0.211     0.205     0.233029   2:20.4\n",
      "16120 48363  0.211     0.205     0.233      2:20.5\n",
      "16140 48423  0.211     0.205     0.233      2:20.5\n",
      "16160 48483  0.211     0.205     0.233      2:20.6\n",
      "16180 48543  0.211     0.205     0.234      2:20.6\n",
      "16200 48603  0.211     0.205     0.234      2:20.7\n",
      "16220 48663  0.211     0.204673  0.234      2:20.7\n",
      "16240 48723  0.210455  0.205     0.234      2:20.8\n",
      "16260 48783  0.21      0.204     0.234      2:20.8\n",
      "16280 48843  0.21      0.204     0.234      2:20.8\n",
      "16300 48903  0.21      0.204     0.234      2:20.9\n",
      "16320 48963  0.21      0.204     0.234      2:20.9\n",
      "16340 49023  0.209     0.204     0.234      2:21.0\n",
      "16360 49083  0.209217  0.204144  0.234      2:21.0\n",
      "16380 49143  0.209     0.204     0.234      2:21.1\n",
      "16400 49203  0.209     0.204012  0.234193   2:21.1\n",
      "16420 49263  0.209     0.204     0.234      2:21.2\n",
      "16440 49323  0.209     0.204     0.234      2:21.2\n",
      "16460 49383  0.209     0.204     0.235      2:21.3\n",
      "16480 49443  0.209     0.204     0.235      2:21.3\n"
     ]
    },
    {
     "name": "stderr",
     "output_type": "stream",
     "text": [
      "/Users/ioaros/Desktop/Software Project/branchpro/branchpro/apps/_dash_app.py:18: UserWarning: \n",
      "The dash_html_components package is deprecated. Please replace\n",
      "`import dash_html_components as html` with `from dash import html`\n",
      "  import dash_html_components as html\n",
      "/Users/ioaros/Desktop/Software Project/branchpro/branchpro/apps/_dash_app.py:18: UserWarning: \n",
      "The dash_html_components package is deprecated. Please replace\n",
      "`import dash_html_components as html` with `from dash import html`\n",
      "  import dash_html_components as html\n",
      "/Users/ioaros/Desktop/Software Project/branchpro/branchpro/apps/_dash_app.py:18: UserWarning: \n",
      "The dash_html_components package is deprecated. Please replace\n",
      "`import dash_html_components as html` with `from dash import html`\n",
      "  import dash_html_components as html\n",
      "/Users/ioaros/Desktop/Software Project/branchpro/branchpro/apps/_simulation.py:15: UserWarning: \n",
      "The dash_core_components package is deprecated. Please replace\n",
      "`import dash_core_components as dcc` with `from dash import dcc`\n",
      "  import dash_core_components as dcc\n",
      "/Users/ioaros/Desktop/Software Project/branchpro/branchpro/apps/_simulation.py:15: UserWarning: \n",
      "The dash_core_components package is deprecated. Please replace\n",
      "`import dash_core_components as dcc` with `from dash import dcc`\n",
      "  import dash_core_components as dcc\n",
      "/Users/ioaros/Desktop/Software Project/branchpro/branchpro/apps/_simulation.py:15: UserWarning: \n",
      "The dash_core_components package is deprecated. Please replace\n",
      "`import dash_core_components as dcc` with `from dash import dcc`\n",
      "  import dash_core_components as dcc\n"
     ]
    },
    {
     "name": "stdout",
     "output_type": "stream",
     "text": [
      "16500 49503  0.20926   0.204     0.235      2:24.1\n",
      "16520 49563  0.209     0.204     0.235      2:24.2\n",
      "16540 49623  0.209     0.204     0.235      2:24.2\n",
      "16560 49683  0.21      0.204     0.235      2:24.3\n",
      "16580 49743  0.21      0.204     0.235209   2:24.3\n",
      "16600 49803  0.21      0.204     0.235      2:24.4\n",
      "16620 49863  0.209855  0.204     0.235      2:24.4\n",
      "16640 49923  0.21      0.204     0.235082   2:24.5\n",
      "16660 49983  0.21      0.204     0.235      2:24.5\n",
      "16680 50043  0.21      0.204     0.235      2:24.5\n",
      "16700 50103  0.21      0.204838  0.235      2:24.6\n",
      "16720 50163  0.21      0.205     0.235      2:24.6\n",
      "16740 50223  0.21      0.205     0.235      2:24.7\n",
      "16760 50283  0.210608  0.205     0.235      2:24.7\n",
      "16780 50343  0.211     0.205     0.235      2:24.8\n",
      "16800 50403  0.211     0.205     0.235      2:24.8\n",
      "16820 50463  0.211     0.205     0.234      2:24.9\n",
      "16840 50523  0.211     0.204976  0.234      2:24.9\n",
      "16860 50583  0.211     0.205     0.234      2:25.0\n",
      "16880 50643  0.211     0.205     0.234      2:25.0\n",
      "16900 50703  0.211     0.205     0.234069   2:25.0\n",
      "16920 50763  0.211     0.205     0.234206   2:25.1\n",
      "16940 50823  0.211     0.205     0.234      2:25.1\n",
      "16960 50883  0.211     0.205     0.235      2:25.2\n",
      "16980 50943  0.212     0.205     0.234      2:25.2\n"
     ]
    },
    {
     "name": "stderr",
     "output_type": "stream",
     "text": [
      "/Users/ioaros/Desktop/Software Project/branchpro/branchpro/apps/_dash_app.py:18: UserWarning: \n",
      "The dash_html_components package is deprecated. Please replace\n",
      "`import dash_html_components as html` with `from dash import html`\n",
      "  import dash_html_components as html\n",
      "/Users/ioaros/Desktop/Software Project/branchpro/branchpro/apps/_dash_app.py:18: UserWarning: \n",
      "The dash_html_components package is deprecated. Please replace\n",
      "`import dash_html_components as html` with `from dash import html`\n",
      "  import dash_html_components as html\n",
      "/Users/ioaros/Desktop/Software Project/branchpro/branchpro/apps/_dash_app.py:18: UserWarning: \n",
      "The dash_html_components package is deprecated. Please replace\n",
      "`import dash_html_components as html` with `from dash import html`\n",
      "  import dash_html_components as html\n",
      "/Users/ioaros/Desktop/Software Project/branchpro/branchpro/apps/_simulation.py:15: UserWarning: \n",
      "The dash_core_components package is deprecated. Please replace\n",
      "`import dash_core_components as dcc` with `from dash import dcc`\n",
      "  import dash_core_components as dcc\n",
      "/Users/ioaros/Desktop/Software Project/branchpro/branchpro/apps/_simulation.py:15: UserWarning: \n",
      "The dash_core_components package is deprecated. Please replace\n",
      "`import dash_core_components as dcc` with `from dash import dcc`\n",
      "  import dash_core_components as dcc\n",
      "/Users/ioaros/Desktop/Software Project/branchpro/branchpro/apps/_simulation.py:15: UserWarning: \n",
      "The dash_core_components package is deprecated. Please replace\n",
      "`import dash_core_components as dcc` with `from dash import dcc`\n",
      "  import dash_core_components as dcc\n"
     ]
    },
    {
     "name": "stdout",
     "output_type": "stream",
     "text": [
      "17000 51003  0.212     0.204635  0.234      2:28.1\n",
      "17020 51063  0.212     0.204     0.235      2:28.1\n",
      "17040 51123  0.212     0.204272  0.235      2:28.2\n",
      "17060 51183  0.212     0.204267  0.235      2:28.2\n",
      "17080 51243  0.212     0.204145  0.234      2:28.3\n",
      "17100 51303  0.212     0.204     0.234      2:28.3\n",
      "17120 51363  0.212     0.204     0.234      2:28.4\n",
      "17140 51423  0.212     0.204     0.234      2:28.4\n",
      "17160 51483  0.213     0.204     0.234      2:28.5\n",
      "17180 51543  0.212444  0.203     0.235      2:28.5\n",
      "17200 51603  0.213     0.203     0.235      2:28.5\n",
      "17220 51663  0.213     0.203     0.235      2:28.6\n",
      "17240 51723  0.213     0.203     0.235      2:28.6\n",
      "17260 51783  0.213     0.203     0.235      2:28.7\n",
      "17280 51843  0.214     0.202766  0.234998   2:28.7\n",
      "17300 51903  0.214     0.203     0.235      2:28.8\n",
      "17320 51963  0.214     0.203     0.235      2:28.8\n",
      "17340 52023  0.215     0.203     0.234      2:28.9\n",
      "17360 52083  0.215     0.202     0.234      2:28.9\n",
      "17380 52143  0.215     0.202     0.234      2:29.0\n",
      "17400 52203  0.215     0.202     0.234      2:29.0\n",
      "17420 52263  0.215     0.202     0.234      2:29.0\n",
      "17440 52323  0.215     0.20211   0.233      2:29.1\n",
      "17460 52383  0.216     0.202     0.233      2:29.1\n",
      "17480 52443  0.216     0.202334  0.233      2:29.2\n"
     ]
    },
    {
     "name": "stderr",
     "output_type": "stream",
     "text": [
      "/Users/ioaros/Desktop/Software Project/branchpro/branchpro/apps/_dash_app.py:18: UserWarning: \n",
      "The dash_html_components package is deprecated. Please replace\n",
      "`import dash_html_components as html` with `from dash import html`\n",
      "  import dash_html_components as html\n",
      "/Users/ioaros/Desktop/Software Project/branchpro/branchpro/apps/_dash_app.py:18: UserWarning: \n",
      "The dash_html_components package is deprecated. Please replace\n",
      "`import dash_html_components as html` with `from dash import html`\n",
      "  import dash_html_components as html\n",
      "/Users/ioaros/Desktop/Software Project/branchpro/branchpro/apps/_dash_app.py:18: UserWarning: \n",
      "The dash_html_components package is deprecated. Please replace\n",
      "`import dash_html_components as html` with `from dash import html`\n",
      "  import dash_html_components as html\n",
      "/Users/ioaros/Desktop/Software Project/branchpro/branchpro/apps/_simulation.py:15: UserWarning: \n",
      "The dash_core_components package is deprecated. Please replace\n",
      "`import dash_core_components as dcc` with `from dash import dcc`\n",
      "  import dash_core_components as dcc\n",
      "/Users/ioaros/Desktop/Software Project/branchpro/branchpro/apps/_simulation.py:15: UserWarning: \n",
      "The dash_core_components package is deprecated. Please replace\n",
      "`import dash_core_components as dcc` with `from dash import dcc`\n",
      "  import dash_core_components as dcc\n",
      "/Users/ioaros/Desktop/Software Project/branchpro/branchpro/apps/_simulation.py:15: UserWarning: \n",
      "The dash_core_components package is deprecated. Please replace\n",
      "`import dash_core_components as dcc` with `from dash import dcc`\n",
      "  import dash_core_components as dcc\n"
     ]
    },
    {
     "name": "stdout",
     "output_type": "stream",
     "text": [
      "17500 52503  0.216     0.202     0.233      2:32.0\n",
      "17520 52563  0.216     0.202     0.233      2:32.1\n",
      "17540 52623  0.217     0.202     0.233      2:32.1\n",
      "17560 52683  0.217     0.202     0.232      2:32.2\n",
      "17580 52743  0.217     0.202     0.232      2:32.2\n",
      "17600 52803  0.217     0.202     0.232      2:32.3\n",
      "17620 52863  0.216957  0.202     0.232      2:32.3\n",
      "17640 52923  0.217     0.202     0.231      2:32.4\n",
      "17660 52983  0.216862  0.202     0.231244   2:32.4\n",
      "17680 53043  0.217     0.202     0.231      2:32.5\n",
      "17700 53103  0.217     0.201627  0.231      2:32.5\n",
      "17720 53163  0.217     0.202     0.231      2:32.5\n",
      "17740 53223  0.217     0.202187  0.231      2:32.6\n",
      "17760 53283  0.217     0.202     0.231      2:32.6\n",
      "17780 53343  0.217     0.202     0.230527   2:32.7\n",
      "17800 53403  0.217     0.202     0.23       2:32.7\n",
      "17820 53463  0.217     0.202     0.23       2:32.8\n",
      "17840 53523  0.217     0.202455  0.23       2:32.8\n",
      "17860 53583  0.217457  0.202     0.23       2:32.9\n",
      "17880 53643  0.218     0.202     0.23       2:32.9\n",
      "17900 53703  0.218     0.203     0.23       2:33.0\n",
      "17920 53763  0.218     0.203     0.229      2:33.0\n",
      "17940 53823  0.218     0.203     0.229      2:33.0\n",
      "17960 53883  0.218     0.202717  0.229      2:33.1\n",
      "17980 53943  0.218     0.203     0.229      2:33.1\n"
     ]
    },
    {
     "name": "stderr",
     "output_type": "stream",
     "text": [
      "/Users/ioaros/Desktop/Software Project/branchpro/branchpro/apps/_dash_app.py:18: UserWarning: \n",
      "The dash_html_components package is deprecated. Please replace\n",
      "`import dash_html_components as html` with `from dash import html`\n",
      "  import dash_html_components as html\n",
      "/Users/ioaros/Desktop/Software Project/branchpro/branchpro/apps/_dash_app.py:18: UserWarning: \n",
      "The dash_html_components package is deprecated. Please replace\n",
      "`import dash_html_components as html` with `from dash import html`\n",
      "  import dash_html_components as html\n",
      "/Users/ioaros/Desktop/Software Project/branchpro/branchpro/apps/_simulation.py:15: UserWarning: \n",
      "The dash_core_components package is deprecated. Please replace\n",
      "`import dash_core_components as dcc` with `from dash import dcc`\n",
      "  import dash_core_components as dcc\n",
      "/Users/ioaros/Desktop/Software Project/branchpro/branchpro/apps/_simulation.py:15: UserWarning: \n",
      "The dash_core_components package is deprecated. Please replace\n",
      "`import dash_core_components as dcc` with `from dash import dcc`\n",
      "  import dash_core_components as dcc\n",
      "/Users/ioaros/Desktop/Software Project/branchpro/branchpro/apps/_dash_app.py:18: UserWarning: \n",
      "The dash_html_components package is deprecated. Please replace\n",
      "`import dash_html_components as html` with `from dash import html`\n",
      "  import dash_html_components as html\n",
      "/Users/ioaros/Desktop/Software Project/branchpro/branchpro/apps/_simulation.py:15: UserWarning: \n",
      "The dash_core_components package is deprecated. Please replace\n",
      "`import dash_core_components as dcc` with `from dash import dcc`\n",
      "  import dash_core_components as dcc\n"
     ]
    },
    {
     "name": "stdout",
     "output_type": "stream",
     "text": [
      "18000 54003  0.218     0.203     0.229      2:36.0\n",
      "18020 54063  0.218     0.203     0.229      2:36.0\n",
      "18040 54123  0.218     0.204     0.229      2:36.1\n",
      "18060 54183  0.219     0.204     0.229      2:36.1\n",
      "18080 54243  0.219     0.204     0.229      2:36.1\n",
      "18100 54303  0.219     0.204     0.228      2:36.2\n",
      "18120 54363  0.219     0.204     0.228      2:36.2\n",
      "18140 54423  0.219     0.204     0.228      2:36.3\n",
      "18160 54483  0.219     0.205     0.228      2:36.3\n",
      "18180 54543  0.219     0.205     0.228      2:36.4\n",
      "18200 54603  0.219     0.205     0.228      2:36.4\n",
      "18220 54663  0.219     0.205     0.228      2:36.5\n",
      "18240 54723  0.219     0.206     0.228      2:36.5\n",
      "18260 54783  0.219     0.206     0.228      2:36.6\n",
      "18280 54843  0.219     0.206     0.228      2:36.6\n",
      "18300 54903  0.22      0.206     0.228      2:36.7\n",
      "18320 54963  0.219857  0.207     0.227      2:36.7\n",
      "18340 55023  0.22      0.207     0.227      2:36.7\n",
      "18360 55083  0.22      0.207     0.227      2:36.8\n",
      "18380 55143  0.22      0.207     0.227      2:36.8\n",
      "18400 55203  0.22      0.208     0.227      2:36.9\n",
      "18420 55263  0.22      0.208     0.227      2:36.9\n",
      "18440 55323  0.22      0.208     0.227      2:37.0\n",
      "18460 55383  0.22      0.209     0.226965   2:37.0\n",
      "18480 55443  0.22      0.209     0.227      2:37.1\n"
     ]
    },
    {
     "name": "stderr",
     "output_type": "stream",
     "text": [
      "/Users/ioaros/Desktop/Software Project/branchpro/branchpro/apps/_dash_app.py:18: UserWarning: \n",
      "The dash_html_components package is deprecated. Please replace\n",
      "`import dash_html_components as html` with `from dash import html`\n",
      "  import dash_html_components as html\n",
      "/Users/ioaros/Desktop/Software Project/branchpro/branchpro/apps/_dash_app.py:18: UserWarning: \n",
      "The dash_html_components package is deprecated. Please replace\n",
      "`import dash_html_components as html` with `from dash import html`\n",
      "  import dash_html_components as html\n",
      "/Users/ioaros/Desktop/Software Project/branchpro/branchpro/apps/_dash_app.py:18: UserWarning: \n",
      "The dash_html_components package is deprecated. Please replace\n",
      "`import dash_html_components as html` with `from dash import html`\n",
      "  import dash_html_components as html\n",
      "/Users/ioaros/Desktop/Software Project/branchpro/branchpro/apps/_simulation.py:15: UserWarning: \n",
      "The dash_core_components package is deprecated. Please replace\n",
      "`import dash_core_components as dcc` with `from dash import dcc`\n",
      "  import dash_core_components as dcc\n",
      "/Users/ioaros/Desktop/Software Project/branchpro/branchpro/apps/_simulation.py:15: UserWarning: \n",
      "The dash_core_components package is deprecated. Please replace\n",
      "`import dash_core_components as dcc` with `from dash import dcc`\n",
      "  import dash_core_components as dcc\n",
      "/Users/ioaros/Desktop/Software Project/branchpro/branchpro/apps/_simulation.py:15: UserWarning: \n",
      "The dash_core_components package is deprecated. Please replace\n",
      "`import dash_core_components as dcc` with `from dash import dcc`\n",
      "  import dash_core_components as dcc\n"
     ]
    },
    {
     "name": "stdout",
     "output_type": "stream",
     "text": [
      "18500 55503  0.22      0.209     0.227      2:39.9\n",
      "18520 55563  0.22      0.209276  0.227      2:40.0\n",
      "18540 55623  0.22      0.209     0.227      2:40.0\n",
      "18560 55683  0.221     0.21      0.227      2:40.1\n",
      "18580 55743  0.220817  0.21      0.227      2:40.1\n",
      "18600 55803  0.221     0.21015   0.227      2:40.2\n",
      "18620 55863  0.221     0.21      0.227      2:40.2\n",
      "18640 55923  0.221     0.210611  0.227      2:40.3\n",
      "18660 55983  0.221     0.211     0.227      2:40.3\n",
      "18680 56043  0.221     0.211     0.226      2:40.4\n",
      "18700 56103  0.222     0.212     0.226      2:40.4\n",
      "18720 56163  0.222     0.212     0.226      2:40.4\n",
      "18740 56223  0.222     0.212     0.226      2:40.5\n",
      "18760 56283  0.222     0.213     0.226214   2:40.5\n",
      "18780 56343  0.223     0.213     0.226186   2:40.6\n",
      "18800 56403  0.223     0.213     0.226      2:40.6\n",
      "18820 56463  0.223     0.213     0.226      2:40.7\n",
      "18840 56523  0.223     0.213736  0.226      2:40.7\n",
      "18860 56583  0.223371  0.214     0.226      2:40.8\n",
      "18880 56643  0.223611  0.214     0.226      2:40.8\n",
      "18900 56703  0.223     0.215     0.226      2:40.9\n",
      "18920 56763  0.223244  0.215     0.226      2:40.9\n",
      "18940 56823  0.223     0.215     0.227      2:40.9\n",
      "18960 56883  0.223     0.215     0.226      2:41.0\n",
      "18980 56943  0.224     0.215     0.227      2:41.0\n"
     ]
    },
    {
     "name": "stderr",
     "output_type": "stream",
     "text": [
      "/Users/ioaros/Desktop/Software Project/branchpro/branchpro/apps/_dash_app.py:18: UserWarning: \n",
      "The dash_html_components package is deprecated. Please replace\n",
      "`import dash_html_components as html` with `from dash import html`\n",
      "  import dash_html_components as html\n",
      "/Users/ioaros/Desktop/Software Project/branchpro/branchpro/apps/_dash_app.py:18: UserWarning: \n",
      "The dash_html_components package is deprecated. Please replace\n",
      "`import dash_html_components as html` with `from dash import html`\n",
      "  import dash_html_components as html\n",
      "/Users/ioaros/Desktop/Software Project/branchpro/branchpro/apps/_dash_app.py:18: UserWarning: \n",
      "The dash_html_components package is deprecated. Please replace\n",
      "`import dash_html_components as html` with `from dash import html`\n",
      "  import dash_html_components as html\n",
      "/Users/ioaros/Desktop/Software Project/branchpro/branchpro/apps/_simulation.py:15: UserWarning: \n",
      "The dash_core_components package is deprecated. Please replace\n",
      "`import dash_core_components as dcc` with `from dash import dcc`\n",
      "  import dash_core_components as dcc\n",
      "/Users/ioaros/Desktop/Software Project/branchpro/branchpro/apps/_simulation.py:15: UserWarning: \n",
      "The dash_core_components package is deprecated. Please replace\n",
      "`import dash_core_components as dcc` with `from dash import dcc`\n",
      "  import dash_core_components as dcc\n",
      "/Users/ioaros/Desktop/Software Project/branchpro/branchpro/apps/_simulation.py:15: UserWarning: \n",
      "The dash_core_components package is deprecated. Please replace\n",
      "`import dash_core_components as dcc` with `from dash import dcc`\n",
      "  import dash_core_components as dcc\n"
     ]
    },
    {
     "name": "stdout",
     "output_type": "stream",
     "text": [
      "19000 57003  0.224     0.215     0.227      2:43.9\n",
      "19020 57063  0.224     0.216     0.227      2:44.0\n",
      "19040 57123  0.224     0.216     0.227      2:44.0\n",
      "19060 57183  0.224     0.217     0.227      2:44.0\n",
      "19080 57243  0.224     0.217     0.227      2:44.1\n",
      "19100 57303  0.224     0.216952  0.227      2:44.1\n",
      "19120 57363  0.224     0.217     0.227      2:44.2\n",
      "19140 57423  0.224     0.217     0.227      2:44.2\n",
      "19160 57483  0.225     0.218     0.227      2:44.3\n",
      "19180 57543  0.225     0.218     0.227      2:44.3\n",
      "19200 57603  0.225     0.218     0.227      2:44.4\n",
      "19220 57663  0.225     0.219     0.227      2:44.4\n",
      "19240 57723  0.225     0.219     0.227      2:44.5\n",
      "19260 57783  0.225     0.219     0.227091   2:44.5\n",
      "19280 57843  0.225     0.219     0.227      2:44.6\n",
      "19300 57903  0.225     0.22      0.227      2:44.6\n",
      "19320 57963  0.226     0.22      0.227      2:44.6\n",
      "19340 58023  0.226     0.22      0.227      2:44.7\n",
      "19360 58083  0.226     0.22      0.227261   2:44.7\n",
      "19380 58143  0.226     0.22      0.227      2:44.8\n",
      "19400 58203  0.226     0.22      0.227      2:44.8\n",
      "19420 58263  0.225838  0.220586  0.227      2:44.9\n",
      "19440 58323  0.226     0.22      0.227      2:44.9\n",
      "19460 58383  0.226196  0.22      0.227532   2:45.0\n",
      "19480 58443  0.226     0.221     0.228      2:45.0\n"
     ]
    },
    {
     "name": "stderr",
     "output_type": "stream",
     "text": [
      "/Users/ioaros/Desktop/Software Project/branchpro/branchpro/apps/_dash_app.py:18: UserWarning: \n",
      "The dash_html_components package is deprecated. Please replace\n",
      "`import dash_html_components as html` with `from dash import html`\n",
      "  import dash_html_components as html\n",
      "/Users/ioaros/Desktop/Software Project/branchpro/branchpro/apps/_dash_app.py:18: UserWarning: \n",
      "The dash_html_components package is deprecated. Please replace\n",
      "`import dash_html_components as html` with `from dash import html`\n",
      "  import dash_html_components as html\n",
      "/Users/ioaros/Desktop/Software Project/branchpro/branchpro/apps/_dash_app.py:18: UserWarning: \n",
      "The dash_html_components package is deprecated. Please replace\n",
      "`import dash_html_components as html` with `from dash import html`\n",
      "  import dash_html_components as html\n",
      "/Users/ioaros/Desktop/Software Project/branchpro/branchpro/apps/_simulation.py:15: UserWarning: \n",
      "The dash_core_components package is deprecated. Please replace\n",
      "`import dash_core_components as dcc` with `from dash import dcc`\n",
      "  import dash_core_components as dcc\n",
      "/Users/ioaros/Desktop/Software Project/branchpro/branchpro/apps/_simulation.py:15: UserWarning: \n",
      "The dash_core_components package is deprecated. Please replace\n",
      "`import dash_core_components as dcc` with `from dash import dcc`\n",
      "  import dash_core_components as dcc\n",
      "/Users/ioaros/Desktop/Software Project/branchpro/branchpro/apps/_simulation.py:15: UserWarning: \n",
      "The dash_core_components package is deprecated. Please replace\n",
      "`import dash_core_components as dcc` with `from dash import dcc`\n",
      "  import dash_core_components as dcc\n"
     ]
    },
    {
     "name": "stdout",
     "output_type": "stream",
     "text": [
      "19500 58503  0.226091  0.221     0.228      2:47.9\n",
      "19520 58563  0.226     0.221     0.228      2:47.9\n",
      "19540 58623  0.226     0.221     0.228      2:48.0\n",
      "19560 58683  0.226     0.222     0.228      2:48.0\n",
      "19580 58743  0.226     0.222     0.228      2:48.1\n",
      "19600 58803  0.226315  0.222     0.229      2:48.1\n",
      "19620 58863  0.226492  0.222     0.229      2:48.1\n",
      "19640 58923  0.226465  0.222     0.229      2:48.2\n",
      "19660 58983  0.226489  0.223     0.229      2:48.2\n",
      "19680 59043  0.227     0.223     0.229      2:48.3\n",
      "19700 59103  0.227     0.223     0.229      2:48.3\n",
      "19720 59163  0.227     0.223     0.229      2:48.4\n",
      "19740 59223  0.227     0.223     0.229      2:48.4\n",
      "19760 59283  0.227     0.223     0.228784   2:48.5\n",
      "19780 59343  0.227     0.223     0.229      2:48.5\n",
      "19800 59403  0.227     0.224     0.229      2:48.6\n",
      "19820 59463  0.227     0.223803  0.229      2:48.6\n",
      "19840 59523  0.227     0.224     0.229      2:48.7\n",
      "19860 59583  0.227     0.224     0.229      2:48.7\n",
      "19880 59643  0.227051  0.224     0.229      2:48.7\n",
      "19900 59703  0.227074  0.224     0.229      2:48.8\n",
      "19920 59763  0.227     0.224     0.23       2:48.8\n",
      "19940 59823  0.227471  0.224     0.23       2:48.9\n",
      "19960 59883  0.228     0.224     0.23       2:48.9\n",
      "19980 59943  0.228     0.224     0.23       2:49.0\n",
      "20000 60000  0.2278    0.224     0.2302     2:49.0\n",
      "Halting: Maximum number of iterations (20000) reached.\n",
      "Done!\n",
      "param    mean    std.    2.5%    25%    50%    75%    97.5%    rhat    ess     ess per sec.\n",
      "-------  ------  ------  ------  -----  -----  -----  -------  ------  ------  --------------\n",
      "R_t0     0.74    0.32    0.41    0.51   0.60   0.99   1.45     3.50    26.32   0.16\n",
      "R_t1     0.94    0.61    0.25    0.30   0.83   1.59   1.92     5.20    19.52   0.12\n",
      "R_t2     0.92    0.56    0.34    0.37   0.82   1.41   1.92     5.69    27.86   0.16\n",
      "R_t3     1.10    0.15    0.92    0.98   1.09   1.25   1.38     1.33    21.17   0.13\n",
      "R_t4     1.48    0.34    1.03    1.20   1.38   1.82   2.04     2.12    18.79   0.11\n",
      "R_t5     1.29    0.17    1.04    1.16   1.29   1.41   1.59     1.92    55.44   0.33\n",
      "R_t6     1.64    0.63    0.76    0.83   1.85   2.18   2.38     4.40    28.49   0.17\n",
      "R_t7     2.04    0.28    1.57    1.92   2.07   2.16   2.51     1.61    32.47   0.19\n",
      "R_t8     2.15    0.23    1.96    2.04   2.08   2.27   2.57     1.42    134.54  0.80\n",
      "R_t9     1.88    0.27    1.47    1.76   1.87   2.06   2.28     1.98    18.56   0.11\n",
      "R_t10    1.57    0.21    1.29    1.35   1.62   1.73   1.84     1.99    101.07  0.60\n",
      "R_t11    1.70    0.27    1.26    1.60   1.78   1.87   2.04     1.96    22.61   0.13\n",
      "R_t12    1.41    0.24    1.03    1.25   1.29   1.62   1.83     2.46    125.28  0.74\n",
      "R_t13    1.09    0.27    0.71    0.79   1.18   1.37   1.42     3.92    111.73  0.66\n",
      "R_t14    0.88    0.11    0.71    0.80   0.88   0.95   1.06     1.89    32.24   0.19\n",
      "R_t15    0.49    0.09    0.38    0.39   0.52   0.56   0.64     2.34    26.91   0.16\n",
      "R_t16    0.76    0.09    0.61    0.72   0.75   0.79   0.94     1.70    21.27   0.13\n",
      "R_t17    0.67    0.12    0.41    0.57   0.67   0.78   0.84     1.75    15.39   0.09\n",
      "R_t18    0.56    0.13    0.42    0.45   0.55   0.62   0.86     1.77    45.57   0.27\n",
      "R_t19    0.69    0.31    0.34    0.38   0.72   0.81   1.30     2.46    32.00   0.19\n",
      "R_t20    0.51    0.07    0.41    0.46   0.50   0.55   0.64     1.35    17.64   0.10\n",
      "R_t21    0.54    0.14    0.29    0.43   0.59   0.64   0.76     2.62    24.00   0.14\n",
      "R_t22    0.79    0.55    0.23    0.26   0.54   1.35   1.77     5.23    23.16   0.14\n",
      "R_t23    0.32    0.37    0.00    0.04   0.11   0.74   1.09     5.34    11.97   0.07\n"
     ]
    },
    {
     "data": {
      "image/png": "[encoded data removed]",
      "text/plain": [
       "<Figure size 864x3456 with 48 Axes>"
      ]
     },
     "metadata": {
      "needs_background": "light"
     },
     "output_type": "display_data"
    }
   ],
   "source": [
    "samples = inference.run_inference(num_iter=20000)\n",
    "\n",
    "import pints.plot\n",
    "from matplotlib import pyplot as plt\n",
    "\n",
    "# Plot histograms of the parameters inferred for South West\n",
    "param_names = []\n",
    "for _ in range(inference.lprior.n_parameters()):\n",
    "            param_names.append('R_t{}'.format(_))\n",
    "\n",
    "pints.plot.trace(samples, parameter_names=param_names)\n",
    "plt.show()\n",
    "\n",
    "# Eliminate burn-in iterations (1/2 of the chain lengths)\n",
    "samples = samples[:, 10000:, :]\n",
    "\n",
    "# Evaluate the model for all parameter sets in the samples\n",
    "n_chains, n_sample, n_param = samples.shape\n",
    "\n",
    "extended_samples = np.concatenate((samples[0], samples[1], samples[2]), axis=0)\n",
    "\n",
    "thinning = max(1, int(n_sample * n_chains / 9000))\n",
    "\n",
    "new_intervals = pd.DataFrame({\n",
    "    'Time Points': np.arange(R_t_start, num_timepoints),\n",
    "    'Mean': np.mean(extended_samples[::thinning, 1:], axis=0),\n",
    "    'Lower bound CI': np.quantile(extended_samples[::thinning, 1:], 0.025, axis=0),\n",
    "    'Upper bound CI': np.quantile(extended_samples[::thinning, 1:], 0.975, axis=0),\n",
    "    'Central Probability': (L1+L2) * [0.95]\n",
    "})"
   ]
  },
  {
   "cell_type": "markdown",
   "metadata": {},
   "source": [
    "## Inference plot using class method results"
   ]
  },
  {
   "cell_type": "code",
   "execution_count": 10,
   "metadata": {},
   "outputs": [
    {
     "name": "stderr",
     "output_type": "stream",
     "text": [
      "/Users/ioaros/Desktop/Software Project/branchpro/branchpro/apps/_reproduction_number_plot.py:27: UserWarning:\n",
      "\n",
      "Labels do not match. They will be updated.\n",
      "\n"
     ]
    },
    {
     "data": {
      "application/vnd.plotly.v1+json": {
       "config": {
        "plotlyServerURL": "https://plot.ly"
       },
       "data": [
        {
         "line": {
          "color": "green"
         },
         "mode": "lines",
         "name": "True R",
         "type": "scatter",
         "x": [
          7,
          8,
          9,
          10,
          11,
          12,
          13,
          14,
          15,
          16,
          17,
          18,
          19,
          20,
          21,
          22,
          23,
          24,
          25,
          26,
          27,
          28,
          29
         ],
         "y": [
          3,
          3,
          3,
          3,
          3,
          3,
          3,
          3,
          3,
          0.5,
          0.5,
          0.5,
          0.5,
          0.5,
          0.5,
          0.5,
          0.5,
          0.5,
          0.5,
          0.5,
          0.5,
          0.5,
          0.5
         ]
        },
        {
         "line": {
          "color": "indigo"
         },
         "mode": "lines",
         "name": "Estimated R",
         "type": "scatter",
         "x": [
          7,
          8,
          9,
          10,
          11,
          12,
          13,
          14,
          15,
          16,
          17,
          18,
          19,
          20,
          21,
          22,
          23,
          24,
          25,
          26,
          27,
          28,
          29
         ],
         "y": [
          1.3476383135069803,
          1.2876998821320529,
          1.491098449255848,
          1.0140168389441617,
          1.3883134399093535,
          1.736689722412364,
          2.1378418796151717,
          2.0791281007545437,
          1.7861437305719587,
          1.6705706337324984,
          1.6239486515501402,
          1.3443021484762527,
          1.2498168860424947,
          1.0447730944717677,
          0.6276159352432117,
          0.6274609116260824,
          0.692436193385712,
          0.39929911083337083,
          0.3995571199139045,
          0.7120735335466446,
          0.451829525364321,
          0.5955880675924586,
          0.43705944909128175
         ]
        },
        {
         "fill": "toself",
         "fillcolor": "indigo",
         "line": {
          "color": "indigo"
         },
         "mode": "lines",
         "name": "Credible interval 0.95",
         "opacity": 0.5,
         "type": "scatter",
         "x": [
          7,
          8,
          9,
          10,
          11,
          12,
          13,
          14,
          15,
          16,
          17,
          18,
          19,
          20,
          21,
          22,
          23,
          24,
          25,
          26,
          27,
          28,
          29,
          29,
          28,
          27,
          26,
          25,
          24,
          23,
          22,
          21,
          20,
          19,
          18,
          17,
          16,
          15,
          14,
          13,
          12,
          11,
          10,
          9,
          8,
          7
         ],
         "y": [
          1.9908664614868274,
          1.8042064702328515,
          2.0928920744687085,
          1.4519647578371913,
          1.7908464414935348,
          2.234694155959561,
          3.025044163792922,
          2.6067657627897325,
          1.9042098726064736,
          2.3073572365844397,
          2.0699222635124674,
          2.107621619170567,
          1.7564519201450006,
          1.691482533993537,
          0.9634360529058373,
          0.893422030150085,
          1.2495191546843587,
          0.62090171816312,
          0.49401277391753917,
          1.0064054137007863,
          0.7077711949115717,
          1.0387779793211696,
          1.121470751769359,
          0.00007269106232789306,
          0.27222054866055057,
          0.24808992600426388,
          0.463780238506419,
          0.33900866148415953,
          0.24072986728620954,
          0.3638701281286544,
          0.39227514579950346,
          0.3648831933595808,
          0.6585754094735106,
          0.803988843903265,
          0.9228580931987685,
          1.079774699899335,
          1.2395477631491614,
          1.6892791194899432,
          1.700813719733956,
          0.9905456618038294,
          1.1647962636861053,
          0.9460875747305763,
          0.5359220249564066,
          0.4117038794150853,
          0.7265690388050627,
          0.7549722729672613
         ]
        }
       ],
       "layout": {
        "hovermode": "x unified",
        "template": {
         "data": {
          "bar": [
           {
            "error_x": {
             "color": "#2a3f5f"
            },
            "error_y": {
             "color": "#2a3f5f"
            },
            "marker": {
             "line": {
              "color": "#E5ECF6",
              "width": 0.5
             },
             "pattern": {
              "fillmode": "overlay",
              "size": 10,
              "solidity": 0.2
             }
            },
            "type": "bar"
           }
          ],
          "barpolar": [
           {
            "marker": {
             "line": {
              "color": "#E5ECF6",
              "width": 0.5
             },
             "pattern": {
              "fillmode": "overlay",
              "size": 10,
              "solidity": 0.2
             }
            },
            "type": "barpolar"
           }
          ],
          "carpet": [
           {
            "aaxis": {
             "endlinecolor": "#2a3f5f",
             "gridcolor": "white",
             "linecolor": "white",
             "minorgridcolor": "white",
             "startlinecolor": "#2a3f5f"
            },
            "baxis": {
             "endlinecolor": "#2a3f5f",
             "gridcolor": "white",
             "linecolor": "white",
             "minorgridcolor": "white",
             "startlinecolor": "#2a3f5f"
            },
            "type": "carpet"
           }
          ],
          "choropleth": [
           {
            "colorbar": {
             "outlinewidth": 0,
             "ticks": ""
            },
            "type": "choropleth"
           }
          ],
          "contour": [
           {
            "colorbar": {
             "outlinewidth": 0,
             "ticks": ""
            },
            "colorscale": [
             [
              0,
              "#0d0887"
             ],
             [
              0.1111111111111111,
              "#46039f"
             ],
             [
              0.2222222222222222,
              "#7201a8"
             ],
             [
              0.3333333333333333,
              "#9c179e"
             ],
             [
              0.4444444444444444,
              "#bd3786"
             ],
             [
              0.5555555555555556,
              "#d8576b"
             ],
             [
              0.6666666666666666,
              "#ed7953"
             ],
             [
              0.7777777777777778,
              "#fb9f3a"
             ],
             [
              0.8888888888888888,
              "#fdca26"
             ],
             [
              1,
              "#f0f921"
             ]
            ],
            "type": "contour"
           }
          ],
          "contourcarpet": [
           {
            "colorbar": {
             "outlinewidth": 0,
             "ticks": ""
            },
            "type": "contourcarpet"
           }
          ],
          "heatmap": [
           {
            "colorbar": {
             "outlinewidth": 0,
             "ticks": ""
            },
            "colorscale": [
             [
              0,
              "#0d0887"
             ],
             [
              0.1111111111111111,
              "#46039f"
             ],
             [
              0.2222222222222222,
              "#7201a8"
             ],
             [
              0.3333333333333333,
              "#9c179e"
             ],
             [
              0.4444444444444444,
              "#bd3786"
             ],
             [
              0.5555555555555556,
              "#d8576b"
             ],
             [
              0.6666666666666666,
              "#ed7953"
             ],
             [
              0.7777777777777778,
              "#fb9f3a"
             ],
             [
              0.8888888888888888,
              "#fdca26"
             ],
             [
              1,
              "#f0f921"
             ]
            ],
            "type": "heatmap"
           }
          ],
          "heatmapgl": [
           {
            "colorbar": {
             "outlinewidth": 0,
             "ticks": ""
            },
            "colorscale": [
             [
              0,
              "#0d0887"
             ],
             [
              0.1111111111111111,
              "#46039f"
             ],
             [
              0.2222222222222222,
              "#7201a8"
             ],
             [
              0.3333333333333333,
              "#9c179e"
             ],
             [
              0.4444444444444444,
              "#bd3786"
             ],
             [
              0.5555555555555556,
              "#d8576b"
             ],
             [
              0.6666666666666666,
              "#ed7953"
             ],
             [
              0.7777777777777778,
              "#fb9f3a"
             ],
             [
              0.8888888888888888,
              "#fdca26"
             ],
             [
              1,
              "#f0f921"
             ]
            ],
            "type": "heatmapgl"
           }
          ],
          "histogram": [
           {
            "marker": {
             "pattern": {
              "fillmode": "overlay",
              "size": 10,
              "solidity": 0.2
             }
            },
            "type": "histogram"
           }
          ],
          "histogram2d": [
           {
            "colorbar": {
             "outlinewidth": 0,
             "ticks": ""
            },
            "colorscale": [
             [
              0,
              "#0d0887"
             ],
             [
              0.1111111111111111,
              "#46039f"
             ],
             [
              0.2222222222222222,
              "#7201a8"
             ],
             [
              0.3333333333333333,
              "#9c179e"
             ],
             [
              0.4444444444444444,
              "#bd3786"
             ],
             [
              0.5555555555555556,
              "#d8576b"
             ],
             [
              0.6666666666666666,
              "#ed7953"
             ],
             [
              0.7777777777777778,
              "#fb9f3a"
             ],
             [
              0.8888888888888888,
              "#fdca26"
             ],
             [
              1,
              "#f0f921"
             ]
            ],
            "type": "histogram2d"
           }
          ],
          "histogram2dcontour": [
           {
            "colorbar": {
             "outlinewidth": 0,
             "ticks": ""
            },
            "colorscale": [
             [
              0,
              "#0d0887"
             ],
             [
              0.1111111111111111,
              "#46039f"
             ],
             [
              0.2222222222222222,
              "#7201a8"
             ],
             [
              0.3333333333333333,
              "#9c179e"
             ],
             [
              0.4444444444444444,
              "#bd3786"
             ],
             [
              0.5555555555555556,
              "#d8576b"
             ],
             [
              0.6666666666666666,
              "#ed7953"
             ],
             [
              0.7777777777777778,
              "#fb9f3a"
             ],
             [
              0.8888888888888888,
              "#fdca26"
             ],
             [
              1,
              "#f0f921"
             ]
            ],
            "type": "histogram2dcontour"
           }
          ],
          "mesh3d": [
           {
            "colorbar": {
             "outlinewidth": 0,
             "ticks": ""
            },
            "type": "mesh3d"
           }
          ],
          "parcoords": [
           {
            "line": {
             "colorbar": {
              "outlinewidth": 0,
              "ticks": ""
             }
            },
            "type": "parcoords"
           }
          ],
          "pie": [
           {
            "automargin": true,
            "type": "pie"
           }
          ],
          "scatter": [
           {
            "marker": {
             "colorbar": {
              "outlinewidth": 0,
              "ticks": ""
             }
            },
            "type": "scatter"
           }
          ],
          "scatter3d": [
           {
            "line": {
             "colorbar": {
              "outlinewidth": 0,
              "ticks": ""
             }
            },
            "marker": {
             "colorbar": {
              "outlinewidth": 0,
              "ticks": ""
             }
            },
            "type": "scatter3d"
           }
          ],
          "scattercarpet": [
           {
            "marker": {
             "colorbar": {
              "outlinewidth": 0,
              "ticks": ""
             }
            },
            "type": "scattercarpet"
           }
          ],
          "scattergeo": [
           {
            "marker": {
             "colorbar": {
              "outlinewidth": 0,
              "ticks": ""
             }
            },
            "type": "scattergeo"
           }
          ],
          "scattergl": [
           {
            "marker": {
             "colorbar": {
              "outlinewidth": 0,
              "ticks": ""
             }
            },
            "type": "scattergl"
           }
          ],
          "scattermapbox": [
           {
            "marker": {
             "colorbar": {
              "outlinewidth": 0,
              "ticks": ""
             }
            },
            "type": "scattermapbox"
           }
          ],
          "scatterpolar": [
           {
            "marker": {
             "colorbar": {
              "outlinewidth": 0,
              "ticks": ""
             }
            },
            "type": "scatterpolar"
           }
          ],
          "scatterpolargl": [
           {
            "marker": {
             "colorbar": {
              "outlinewidth": 0,
              "ticks": ""
             }
            },
            "type": "scatterpolargl"
           }
          ],
          "scatterternary": [
           {
            "marker": {
             "colorbar": {
              "outlinewidth": 0,
              "ticks": ""
             }
            },
            "type": "scatterternary"
           }
          ],
          "surface": [
           {
            "colorbar": {
             "outlinewidth": 0,
             "ticks": ""
            },
            "colorscale": [
             [
              0,
              "#0d0887"
             ],
             [
              0.1111111111111111,
              "#46039f"
             ],
             [
              0.2222222222222222,
              "#7201a8"
             ],
             [
              0.3333333333333333,
              "#9c179e"
             ],
             [
              0.4444444444444444,
              "#bd3786"
             ],
             [
              0.5555555555555556,
              "#d8576b"
             ],
             [
              0.6666666666666666,
              "#ed7953"
             ],
             [
              0.7777777777777778,
              "#fb9f3a"
             ],
             [
              0.8888888888888888,
              "#fdca26"
             ],
             [
              1,
              "#f0f921"
             ]
            ],
            "type": "surface"
           }
          ],
          "table": [
           {
            "cells": {
             "fill": {
              "color": "#EBF0F8"
             },
             "line": {
              "color": "white"
             }
            },
            "header": {
             "fill": {
              "color": "#C8D4E3"
             },
             "line": {
              "color": "white"
             }
            },
            "type": "table"
           }
          ]
         },
         "layout": {
          "annotationdefaults": {
           "arrowcolor": "#2a3f5f",
           "arrowhead": 0,
           "arrowwidth": 1
          },
          "autotypenumbers": "strict",
          "coloraxis": {
           "colorbar": {
            "outlinewidth": 0,
            "ticks": ""
           }
          },
          "colorscale": {
           "diverging": [
            [
             0,
             "#8e0152"
            ],
            [
             0.1,
             "#c51b7d"
            ],
            [
             0.2,
             "#de77ae"
            ],
            [
             0.3,
             "#f1b6da"
            ],
            [
             0.4,
             "#fde0ef"
            ],
            [
             0.5,
             "#f7f7f7"
            ],
            [
             0.6,
             "#e6f5d0"
            ],
            [
             0.7,
             "#b8e186"
            ],
            [
             0.8,
             "#7fbc41"
            ],
            [
             0.9,
             "#4d9221"
            ],
            [
             1,
             "#276419"
            ]
           ],
           "sequential": [
            [
             0,
             "#0d0887"
            ],
            [
             0.1111111111111111,
             "#46039f"
            ],
            [
             0.2222222222222222,
             "#7201a8"
            ],
            [
             0.3333333333333333,
             "#9c179e"
            ],
            [
             0.4444444444444444,
             "#bd3786"
            ],
            [
             0.5555555555555556,
             "#d8576b"
            ],
            [
             0.6666666666666666,
             "#ed7953"
            ],
            [
             0.7777777777777778,
             "#fb9f3a"
            ],
            [
             0.8888888888888888,
             "#fdca26"
            ],
            [
             1,
             "#f0f921"
            ]
           ],
           "sequentialminus": [
            [
             0,
             "#0d0887"
            ],
            [
             0.1111111111111111,
             "#46039f"
            ],
            [
             0.2222222222222222,
             "#7201a8"
            ],
            [
             0.3333333333333333,
             "#9c179e"
            ],
            [
             0.4444444444444444,
             "#bd3786"
            ],
            [
             0.5555555555555556,
             "#d8576b"
            ],
            [
             0.6666666666666666,
             "#ed7953"
            ],
            [
             0.7777777777777778,
             "#fb9f3a"
            ],
            [
             0.8888888888888888,
             "#fdca26"
            ],
            [
             1,
             "#f0f921"
            ]
           ]
          },
          "colorway": [
           "#636efa",
           "#EF553B",
           "#00cc96",
           "#ab63fa",
           "#FFA15A",
           "#19d3f3",
           "#FF6692",
           "#B6E880",
           "#FF97FF",
           "#FECB52"
          ],
          "font": {
           "color": "#2a3f5f"
          },
          "geo": {
           "bgcolor": "white",
           "lakecolor": "white",
           "landcolor": "#E5ECF6",
           "showlakes": true,
           "showland": true,
           "subunitcolor": "white"
          },
          "hoverlabel": {
           "align": "left"
          },
          "hovermode": "closest",
          "mapbox": {
           "style": "light"
          },
          "paper_bgcolor": "white",
          "plot_bgcolor": "#E5ECF6",
          "polar": {
           "angularaxis": {
            "gridcolor": "white",
            "linecolor": "white",
            "ticks": ""
           },
           "bgcolor": "#E5ECF6",
           "radialaxis": {
            "gridcolor": "white",
            "linecolor": "white",
            "ticks": ""
           }
          },
          "scene": {
           "xaxis": {
            "backgroundcolor": "#E5ECF6",
            "gridcolor": "white",
            "gridwidth": 2,
            "linecolor": "white",
            "showbackground": true,
            "ticks": "",
            "zerolinecolor": "white"
           },
           "yaxis": {
            "backgroundcolor": "#E5ECF6",
            "gridcolor": "white",
            "gridwidth": 2,
            "linecolor": "white",
            "showbackground": true,
            "ticks": "",
            "zerolinecolor": "white"
           },
           "zaxis": {
            "backgroundcolor": "#E5ECF6",
            "gridcolor": "white",
            "gridwidth": 2,
            "linecolor": "white",
            "showbackground": true,
            "ticks": "",
            "zerolinecolor": "white"
           }
          },
          "shapedefaults": {
           "line": {
            "color": "#2a3f5f"
           }
          },
          "ternary": {
           "aaxis": {
            "gridcolor": "white",
            "linecolor": "white",
            "ticks": ""
           },
           "baxis": {
            "gridcolor": "white",
            "linecolor": "white",
            "ticks": ""
           },
           "bgcolor": "#E5ECF6",
           "caxis": {
            "gridcolor": "white",
            "linecolor": "white",
            "ticks": ""
           }
          },
          "title": {
           "x": 0.05
          },
          "xaxis": {
           "automargin": true,
           "gridcolor": "white",
           "linecolor": "white",
           "ticks": "",
           "title": {
            "standoff": 15
           },
           "zerolinecolor": "white",
           "zerolinewidth": 2
          },
          "yaxis": {
           "automargin": true,
           "gridcolor": "white",
           "linecolor": "white",
           "ticks": "",
           "title": {
            "standoff": 15
           },
           "zerolinecolor": "white",
           "zerolinewidth": 2
          }
         }
        },
        "xaxis": {
         "title": {
          "text": "Time (Day)"
         }
        },
        "yaxis": {
         "title": {
          "text": "R_t"
         }
        }
       }
      }
     },
     "metadata": {},
     "output_type": "display_data"
    }
   ],
   "source": [
    "fig = ReproductionNumberPlot()\n",
    "\n",
    "fig.add_ground_truth_rt(ground_truth)\n",
    "fig.add_interval_rt(new_intervals)\n",
    "\n",
    "fig.update_labels(time_label='Time (Day)', r_label='R_t')\n",
    "\n",
    "fig.show_figure()"
   ]
  }
 ],
 "metadata": {
  "interpreter": {
   "hash": "9a1edc82fdfb75c3b64a2a1e331992ba51087b4bcc20e5799465daad38af24d9"
  },
  "kernelspec": {
   "display_name": "Python 3.9.7 64-bit ('branchpro': conda)",
   "name": "python3"
  },
  "language_info": {
   "codemirror_mode": {
    "name": "ipython",
    "version": 3
   },
   "file_extension": ".py",
   "mimetype": "text/x-python",
   "name": "python",
   "nbconvert_exporter": "python",
   "pygments_lexer": "ipython3",
   "version": "3.9.7"
  },
  "widgets": {
   "application/vnd.jupyter.widget-state+json": {
    "state": {},
    "version_major": 2,
    "version_minor": 0
   }
  }
 },
 "nbformat": 4,
 "nbformat_minor": 4
}
